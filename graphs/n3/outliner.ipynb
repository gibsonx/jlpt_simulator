{
 "cells": [
  {
   "cell_type": "markdown",
   "id": "2b011bdf967ca7ff",
   "metadata": {
    "collapsed": false
   },
   "source": [
    "# Language Knowledge (Vocabulary)\n",
    "Duration: 30 minutes\n",
    "Content: This section tests your knowledge of Japanese vocabulary, including kanji readings, orthography, word formation, contextually-defined expressions, paraphrases, and usage\n",
    "It mainly composes following five categories:\n",
    "- ``Reading Kana`` (Pronunciation Questions): Given a kanji word, choose the correct kana reading.\n",
    "- `Writing Kanji` (Writing Questions): Given a word written in kana, choose the correct kanji representation.\n",
    "- `Word Meaning` Selection (Vocabulary Understanding): Choose the most suitable word to fill in the sentence from four options.\n",
    "- `Synonym Replacement`: Select a word that has the same or similar meaning as the underlined word.\n",
    "- `Vocabulary Usage`: Assess the usage of words in actual contexts, choosing the most appropriate word usage, including some common Japanese expressions or fixed phrases."
   ]
  },
  {
   "cell_type": "code",
   "execution_count": 10,
   "id": "7f526a68a7e73a65",
   "metadata": {
    "collapsed": false,
    "ExecuteTime": {
     "end_time": "2025-05-08T16:03:41.941364700Z",
     "start_time": "2025-05-08T16:03:41.914927800Z"
    }
   },
   "outputs": [
    {
     "data": {
      "text/plain": "True"
     },
     "execution_count": 10,
     "metadata": {},
     "output_type": "execute_result"
    }
   ],
   "source": [
    "import pandas as pd\n",
    "import json\n",
    "import random\n",
    "import os\n",
    "import pickle\n",
    "import re\n",
    "import uuid\n",
    "import threading\n",
    "import asyncio\n",
    "from typing import *\n",
    "from tqdm import tqdm\n",
    "import time\n",
    "import yaml\n",
    "import sys\n",
    "import asyncio\n",
    "import json\n",
    "import random\n",
    "import time\n",
    "from tqdm.asyncio import tqdm_asyncio\n",
    "from graphs.common.utils import collect_vocabulary\n",
    "from langchain_openai import AzureOpenAI,AzureChatOpenAI\n",
    "from langchain_anthropic import ChatAnthropic\n",
    "from langchain_core.prompts import ChatPromptTemplate\n",
    "from dotenv import load_dotenv\n",
    "from langchain_aws import ChatBedrock\n",
    "from langchain.embeddings.base import Embeddings\n",
    "from langchain.text_splitter import CharacterTextSplitter\n",
    "from langchain_community.document_loaders import PyPDFLoader\n",
    "from langchain_community.embeddings import HuggingFaceEmbeddings\n",
    "# from langchain_community.embeddings import XinferenceEmbeddings\n",
    "from langchain_community.vectorstores import Chroma\n",
    "from langchain_openai import OpenAIEmbeddings\n",
    "from typing import Annotated, Literal, Sequence\n",
    "from typing_extensions import TypedDict\n",
    "from libs.LLMs import *\n",
    "from langchain import hub\n",
    "from langchain_core.output_parsers import StrOutputParser\n",
    "from langchain_core.prompts import PromptTemplate\n",
    "from langchain_openai import ChatOpenAI\n",
    "from typing import Annotated, Sequence\n",
    "from typing_extensions import TypedDict\n",
    "from langchain_core.messages import BaseMessage,RemoveMessage,HumanMessage,AIMessage,ToolMessage\n",
    "from langgraph.graph.message import add_messages\n",
    "from pydantic import BaseModel, Field\n",
    "from langgraph.graph import END, StateGraph, START\n",
    "from langgraph.prebuilt import ToolNode\n",
    "from langgraph.prebuilt import tools_condition\n",
    "from langgraph.checkpoint.memory import MemorySaver\n",
    "from langchain.output_parsers import PydanticOutputParser\n",
    "from pydantic import BaseModel, Field, validator\n",
    "from typing import List, Optional\n",
    "\n",
    "if sys.platform.startswith(\"win\"):\n",
    "    asyncio.set_event_loop_policy(asyncio.WindowsSelectorEventLoopPolicy())\n",
    "\n",
    "from ExamTaskHandler import ExamTaskHandler\n",
    "load_dotenv()"
   ]
  },
  {
   "cell_type": "code",
   "execution_count": 11,
   "id": "initial_id",
   "metadata": {
    "collapsed": false,
    "ExecuteTime": {
     "end_time": "2025-05-08T16:03:41.956472Z",
     "start_time": "2025-05-08T16:03:41.921178100Z"
    }
   },
   "outputs": [],
   "source": [
    "# Import N3 Vocabulary\n",
    "file_path = '../../Vocab/n3.csv'\n",
    "# Display the content of the CSV file\n",
    "vocab_dict = collect_vocabulary(file_path)\n",
    "with open(\"../../Vocab/topics.txt\", \"r\", encoding=\"utf-8\") as file:\n",
    "    topics_list = [line.strip() for line in file]"
   ]
  },
  {
   "cell_type": "markdown",
   "id": "4c1cdce8b1f57ef3",
   "metadata": {
    "collapsed": false
   },
   "source": [
    "#### load Models"
   ]
  },
  {
   "cell_type": "markdown",
   "id": "385c63b54b5c2a36",
   "metadata": {
    "collapsed": false
   },
   "source": [
    "#### Exam Paper Outline\n",
    "### A. overall thinking the structure of an exam\n",
    "1. distribution of the difficulty \n",
    "2. topics\n",
    "3. reasoning"
   ]
  },
  {
   "cell_type": "code",
   "execution_count": 12,
   "id": "e339295a858fb5f8",
   "metadata": {
    "collapsed": false,
    "ExecuteTime": {
     "end_time": "2025-05-08T16:03:41.956472Z",
     "start_time": "2025-05-08T16:03:41.936775200Z"
    }
   },
   "outputs": [],
   "source": [
    "from typing import List, Optional\n",
    "\n",
    "from langchain_core.prompts import ChatPromptTemplate\n",
    "\n",
    "from pydantic import BaseModel, Field\n",
    "\n",
    "instruction = \"\"\"\n",
    "Section 1: Vocabulary and Grammar\n",
    "- Kanji reading (kanji_reading): 8 questions\n",
    "- Write Chinese characters (write_chinese): 6 questions\n",
    "- Word Meaning Selection (word_meaning): 11 questions\n",
    "- Synonyms substitution (synonym_substitution): 5 questions\n",
    "- word usage (word_usage): 5 questions\n",
    "- Grammar fill in the blank (sentence_grammar): 13 questions\n",
    "- Sentence sorting (sentence_sort): 5 questions\n",
    "- Grammar structure selection (sentence_structure): 4-5 questions\n",
    "\n",
    "Section 2: Reading Comprehension\n",
    "- Short passages (short_passage_read): 4 articles\n",
    "- Mid-size passages (midsize_passage_read): 2 articles\n",
    "- Long passages (long_passage_read): 1 articles\n",
    "- Information retrieval (info_retrieval): 1 articles\n",
    "\n",
    "Section 3: Listening Comprehension\n",
    "- Topic understanding (topic_understanding): 6 questions\n",
    "- Key understanding (keypoint_understanding): 6 questions\n",
    "- Summary understanding (summary_understanding): 3 questions\n",
    "- Active expression (active_expression): 4 questions\n",
    "- Immediate acknowledgment (immediate_ack): 9 questions\n",
    "\"\"\"\n",
    "\n",
    "# instruction = \"\"\"\n",
    "# Section 1: Vocabulary and Grammar\n",
    "# - Kanji reading (kanji_reading): 2 questions\n",
    "# \n",
    "# Section 2: Reading Comprehension\n",
    "# - Short passages (short_passage_read): 2 articles\n",
    "# \n",
    "# \n",
    "# Section 3: Listening Comprehension\n",
    "# - Topic understanding (topic_understanding): 2 questions\n",
    "# \"\"\"\n",
    "\n",
    "\n",
    "direct_gen_outline_prompt = ChatPromptTemplate.from_messages(\n",
    "    [\n",
    "        (\n",
    "            \"system\",\n",
    "            f\"You are a japanese teacher. Your job is to write an outline for a JLPT Japanese-Language Proficiency Test N3 level exam paper. the complexity should be restricted to N3 level and respect japanese culture. The JLPT Japanese-Language Proficiency Test exam paper includes a mix of easy, moderate, and difficult questions to accurately assess the test-taker's proficiency across different aspects of the language.\"\n",
    "            f\"First,  randomly pick words in 'Vocabulary' for questions in Vocabulary and Grammar. At Section 2 and 3, randomly choose topics in 'TopicList' for Reading Comprehension and Listening Comprehension Sections, don't repeat to choose a same word or topic\"  \n",
    "            f\"Second, you should abide by the provided exam instruction and decide the number of questions and content in the each Section.\"\n",
    "            f\"Finally, write the outline of the examination paper in japanese and provide question topics according to the instructions.\"\n",
    "            f\"Instruction: {instruction}\",\n",
    "        ),\n",
    "        (\"user\", \"TopicList: {topic_list}, Vocabulary: {vocab_dict}\"),\n",
    "    ]\n",
    ")\n"
   ]
  },
  {
   "cell_type": "markdown",
   "id": "fed5f032dadafac1",
   "metadata": {
    "collapsed": false
   },
   "source": [
    "## Data Strcuture"
   ]
  },
  {
   "cell_type": "code",
   "execution_count": 13,
   "id": "39329a71b16d2400",
   "metadata": {
    "collapsed": false,
    "ExecuteTime": {
     "end_time": "2025-05-08T16:03:41.977864100Z",
     "start_time": "2025-05-08T16:03:41.941364700Z"
    }
   },
   "outputs": [],
   "source": [
    "class QuestionTopic(BaseModel):\n",
    "    topic: str = Field(..., title=\"a vocabulary or topic hint for a question\")\n",
    "    \n",
    "    \n",
    "class Subsection(BaseModel):\n",
    "    subsection_title: str = Field(..., title=\"subsection English word in () only from the instruction\")\n",
    "    description: str = Field(..., title=\"giving the number of questions and requirements\")\n",
    "    question_topics: Optional[List[QuestionTopic]] = Field(\n",
    "        default_factory=list\n",
    "    )\n",
    "    \n",
    "    @property\n",
    "    def as_str(self) -> str:\n",
    "        question_topics_str = \"\\n\".join(\n",
    "            f\"- **{qt.topic}**\" for qt in self.question_topics\n",
    "        )\n",
    "        return f\"### {self.subsection_title}\\n\\n{self.description}\\n\\n{question_topics_str}\".strip()\n",
    "\n",
    "class Section(BaseModel):\n",
    "    section_title: str = Field(..., title=\"Title of the section\")\n",
    "    # description: str = Field(..., title=\"Ideas of this section\")\n",
    "    subsections: Optional[List[Subsection]] = Field(\n",
    "        default_factory=list,\n",
    "        title=\"Titles and reason for each subsection of the JLPT exam page.\",\n",
    "    )\n",
    "\n",
    "    @property\n",
    "    def as_str(self) -> str:\n",
    "        subsections = \"\\n\\n\".join(\n",
    "            subsection.as_str for subsection in self.subsections or []\n",
    "        )\n",
    "        return f\"## {self.section_title}\\n\\n{subsections}\".strip()\n",
    "\n",
    "\n",
    "class Outline(BaseModel):\n",
    "    page_title: str = Field(..., title=\"Title of the JLPT exam page\")\n",
    "    sections: List[Section] = Field(\n",
    "        default_factory=list,\n",
    "        title=\"Titles and descriptions for each section of the JLPT exam paper.\",\n",
    "    )\n",
    "\n",
    "    @property\n",
    "    def as_str(self) -> str:\n",
    "        sections = \"\\n\\n\".join(section.as_str for section in self.sections)\n",
    "        return f\"# {self.page_title}\\n\\n{sections}\".strip()\n"
   ]
  },
  {
   "cell_type": "code",
   "execution_count": 14,
   "outputs": [],
   "source": [
    "# Read the topics from a file, sort them, and print the sorted list  \n",
    "def process_topics(file_path):\n",
    "    try:  \n",
    "        # Read the file  \n",
    "        with open(file_path, 'r', encoding='utf-8') as file:  \n",
    "            topics = file.readlines()  \n",
    "          \n",
    "        # Remove any extra whitespace or newline characters  \n",
    "        topics = [topic.strip() for topic in topics if topic.strip()]  \n",
    "          \n",
    "        # Shuffle the topics randomly  \n",
    "        random.shuffle(topics)  \n",
    "                \n",
    "    except FileNotFoundError:  \n",
    "        print(\"The file was not found. Please check the file path.\")  \n",
    "    except Exception as e:  \n",
    "        print(\"An error occurred:\", str(e)) \n",
    "      \n",
    "    except FileNotFoundError:  \n",
    "        print(\"The file was not found. Please check the file path.\")  \n",
    "    except Exception as e:  \n",
    "        print(\"An error occurred:\", str(e)) "
   ],
   "metadata": {
    "collapsed": false,
    "ExecuteTime": {
     "end_time": "2025-05-08T16:03:41.978509300Z",
     "start_time": "2025-05-08T16:03:41.951770200Z"
    }
   },
   "id": "d0730de416980c6"
  },
  {
   "cell_type": "code",
   "execution_count": 15,
   "outputs": [],
   "source": [
    "# Preload all topics from the file\n",
    "with open(\"../../Vocab/topics.txt\", \"r\", encoding=\"utf-8\") as file:\n",
    "    topics_list = [line.strip() for line in file]\n",
    "\n",
    "generate_outline_direct = direct_gen_outline_prompt | azure_llm.with_structured_output(Outline)\n",
    "initial_outline = generate_outline_direct.invoke({\"topic_list\": topics_list, \"vocab_dict\": vocab_dict})"
   ],
   "metadata": {
    "collapsed": false,
    "ExecuteTime": {
     "end_time": "2025-05-08T16:04:01.416103800Z",
     "start_time": "2025-05-08T16:03:41.956472Z"
    }
   },
   "id": "8fc17fee14c40716"
  },
  {
   "cell_type": "code",
   "execution_count": 16,
   "outputs": [
    {
     "data": {
      "text/plain": "<IPython.core.display.Markdown object>",
      "text/markdown": "# JLPT N3 Japanese-Language Proficiency Test Examination Paper\n\n## Vocabulary and Grammar\n\n### Kanji reading (kanji_reading)\n\n8 questions requiring the test-taker to read kanji.\n\n- **約**\n- **愛情**\n- **日光**\n- **あらゆる**\n- **不通**\n- **スター**\n- **付き合い**\n- **不思議**\n\n### Write Chinese characters (write_chinese)\n\n6 questions asking the test-taker to write the correct kanji for given words.\n\n- **移動**\n- **呼吸**\n- **製品**\n- **診察**\n- **独特**\n- **務め**\n\n### Word Meaning Selection (word_meaning)\n\n11 questions where the test-taker selects the correct meaning of words.\n\n- **泥**\n- **冗談**\n- **逆らう**\n- **住宅**\n- **無駄**\n- **音**\n- **経由**\n- **効果**\n- **キャプテン**\n- **インタビュー**\n- **髪の毛**\n\n### Synonyms substitution (synonym_substitution)\n\n5 questions asking the test-taker to substitute words with synonyms.\n\n- **親しい**\n- **声明**\n- **そのうち**\n- **攻める**\n- **関連**\n\n### Word usage (word_usage)\n\n5 questions assessing the correct usage of words.\n\n- **バイオリン**\n- **芝居**\n- **整理**\n- **酒**\n- **プラス**\n\n### Grammar fill in the blank (sentence_grammar)\n\n13 questions requiring the test-taker to fill in blanks with appropriate grammar.\n\n- **延期**\n- **泳ぎ**\n- **会計**\n- **変化**\n- **罰する**\n- **偶**\n- **映す**\n- **載せる**\n- **単語**\n- **選考**\n- **対する**\n- **相変わらず**\n- **考え**\n\n### Sentence sorting (sentence_sort)\n\n5 questions asking the test-taker to arrange sentences in the correct order.\n\n- **苦**\n- **人生**\n- **金額**\n- **高速**\n- **すれ違う**\n\n### Grammar structure selection (sentence_structure)\n\n4-5 questions asking the test-taker to select the correct grammar structure.\n\n- **俳優**\n- **日**\n- **深まる**\n- **言わば**\n\n## Reading Comprehension\n\n### Short passages (short_passage_read)\n\n4 articles for short passage reading comprehension.\n\n- **店で価格を尋ねる**\n- **購入したい商品の説明**\n- **割引交渉**\n- **レストランで食べ物を注文する**\n\n### Mid-size passages (midsize_passage_read)\n\n2 articles for mid-size passage reading comprehension.\n\n- **食事の好みについて話す**\n- **料理を褒める**\n\n### Long passages (long_passage_read)\n\n1 article for long passage reading comprehension.\n\n- **道を尋ねる**\n\n### Information retrieval (info_retrieval)\n\n1 article requiring test-takers to retrieve specific information.\n\n- **交通手段について話す**\n\n## Listening Comprehension\n\n### Topic understanding (topic_understanding)\n\n6 questions assessing understanding of spoken topics.\n\n- **交通状況について話す**\n- **タクシーを予約する**\n- **電車の切符を買う**\n- **バスの時刻表を尋ねる**\n- **通勤について説明する**\n- **天気の状況について話す**\n\n### Key understanding (keypoint_understanding)\n\n6 questions assessing understanding of key points in spoken passages.\n\n- **週末の予定について話す**\n- **おすすめを尋ねる**\n- **ショッピング体験を説明する**\n- **支払い方法について話す**\n- **領収書を求める**\n- **お気に入りのレストランについて話す**\n\n### Summary understanding (summary_understanding)\n\n3 questions assessing summary understanding of spoken passages.\n\n- **趣味について話す**\n- **仕事のプロジェクトについて話す**\n- **家族について話す**\n\n### Active expression (active_expression)\n\n4 questions requiring active spoken responses.\n\n- **旅行の計画について話す**\n- **最近の映画について話す**\n- **本について話す**\n- **スポーツについて話す**\n\n### Immediate acknowledgment (immediate_ack)\n\n9 questions requiring immediate acknowledgment of spoken prompts.\n\n- **健康とフィットネスについて話す**\n- **技術について話す**\n- **時事問題について話す**\n- **音楽について話す**\n- **芸術と文化について話す**\n- **教育について話す**\n- **キャリア目標について話す**\n- **個人的な成果について話す**\n- **課題と解決策について話す**"
     },
     "metadata": {},
     "output_type": "display_data"
    }
   ],
   "source": [
    "from IPython.display import display, Markdown, Latex\n",
    "display(Markdown(initial_outline.as_str))"
   ],
   "metadata": {
    "collapsed": false,
    "ExecuteTime": {
     "end_time": "2025-05-08T16:04:01.422492900Z",
     "start_time": "2025-05-08T16:04:01.416103800Z"
    }
   },
   "id": "d53b7d9ff86a5377"
  },
  {
   "cell_type": "code",
   "execution_count": 17,
   "outputs": [
    {
     "name": "stderr",
     "output_type": "stream",
     "text": [
      "Processing Vocabulary and Grammar:   0%|          | 0/8 [00:00<?, ?it/s]\n",
      "Processing Kanji reading (kanji_reading):   0%|          | 0/8 [00:00<?, ?it/s]\u001B[A"
     ]
    },
    {
     "name": "stdout",
     "output_type": "stream",
     "text": [
      "---WEB SEARCH---\n"
     ]
    },
    {
     "name": "stderr",
     "output_type": "stream",
     "text": [
      "Adding a node to a graph that has already been compiled. This will not be reflected in the compiled graph.\n",
      "\n",
      "Processing Kanji reading (kanji_reading):  12%|█▎        | 1/8 [00:01<00:08,  1.15s/it]\u001B[A"
     ]
    },
    {
     "name": "stdout",
     "output_type": "stream",
     "text": [
      "---WEB SEARCH---\n",
      "---Generator----\n",
      "---REVISOR---\n",
      "--- AI Reviser feels Good Enough ---\n",
      "--- Formatter ---\n"
     ]
    },
    {
     "name": "stderr",
     "output_type": "stream",
     "text": [
      "\n",
      "Processing Kanji reading (kanji_reading):  25%|██▌       | 2/8 [00:24<01:25, 14.19s/it]\u001B[A"
     ]
    },
    {
     "name": "stdout",
     "output_type": "stream",
     "text": [
      "---WEB SEARCH---\n",
      "---Generator----\n",
      "---REVISOR---\n",
      "--- AI Reviser feels Good Enough ---\n",
      "--- Formatter ---\n"
     ]
    },
    {
     "name": "stderr",
     "output_type": "stream",
     "text": [
      "\n",
      "Processing Kanji reading (kanji_reading):  38%|███▊      | 3/8 [00:45<01:27, 17.45s/it]\u001B[A"
     ]
    },
    {
     "name": "stdout",
     "output_type": "stream",
     "text": [
      "---WEB SEARCH---\n",
      "---Generator----\n",
      "---REVISOR---\n",
      "--- AI Reviser feels Good Enough ---\n",
      "--- Formatter ---\n"
     ]
    },
    {
     "name": "stderr",
     "output_type": "stream",
     "text": [
      "\n",
      "Processing Kanji reading (kanji_reading):  50%|█████     | 4/8 [01:00<01:04, 16.19s/it]\u001B[A"
     ]
    },
    {
     "name": "stdout",
     "output_type": "stream",
     "text": [
      "---WEB SEARCH---\n",
      "---Generator----\n",
      "---REVISOR---\n",
      "--- AI Reviser feels Good Enough ---\n",
      "--- Formatter ---\n"
     ]
    },
    {
     "name": "stderr",
     "output_type": "stream",
     "text": [
      "\n",
      "Processing Kanji reading (kanji_reading):  62%|██████▎   | 5/8 [01:23<00:55, 18.63s/it]\u001B[A"
     ]
    },
    {
     "name": "stdout",
     "output_type": "stream",
     "text": [
      "---WEB SEARCH---\n",
      "---Generator----\n",
      "---REVISOR---\n",
      "--- AI Reviser feels Good Enough ---\n",
      "--- Formatter ---\n"
     ]
    },
    {
     "name": "stderr",
     "output_type": "stream",
     "text": [
      "\n",
      "Processing Kanji reading (kanji_reading):  75%|███████▌  | 6/8 [01:48<00:41, 20.96s/it]\u001B[A"
     ]
    },
    {
     "name": "stdout",
     "output_type": "stream",
     "text": [
      "---WEB SEARCH---\n",
      "---Generator----\n",
      "---REVISOR---\n",
      "--- AI Reviser feels Good Enough ---\n",
      "--- Formatter ---\n"
     ]
    },
    {
     "name": "stderr",
     "output_type": "stream",
     "text": [
      "\n",
      "Processing Kanji reading (kanji_reading):  88%|████████▊ | 7/8 [02:12<00:21, 21.96s/it]\u001B[A"
     ]
    },
    {
     "name": "stdout",
     "output_type": "stream",
     "text": [
      "---WEB SEARCH---\n",
      "---Generator----\n",
      "---REVISOR---\n",
      "--- AI Reviser feels Good Enough ---\n",
      "--- Formatter ---\n"
     ]
    },
    {
     "name": "stderr",
     "output_type": "stream",
     "text": [
      "\n",
      "Processing Kanji reading (kanji_reading): 100%|██████████| 8/8 [02:42<00:00, 20.27s/it]\u001B[A\n",
      "Processing Vocabulary and Grammar:  12%|█▎        | 1/8 [02:42<18:55, 162.20s/it]\n",
      "Processing Write Chinese characters (write_chinese):   0%|          | 0/6 [00:00<?, ?it/s]\u001B[A"
     ]
    },
    {
     "name": "stdout",
     "output_type": "stream",
     "text": [
      "---WEB SEARCH---\n",
      "---Generator----\n",
      "---REVISOR---\n",
      "--- AI Reviser feels Good Enough ---\n",
      "--- Formatter ---\n"
     ]
    },
    {
     "name": "stderr",
     "output_type": "stream",
     "text": [
      "\n",
      "Processing Write Chinese characters (write_chinese):  17%|█▋        | 1/6 [00:17<01:25, 17.20s/it]\u001B[A"
     ]
    },
    {
     "name": "stdout",
     "output_type": "stream",
     "text": [
      "---WEB SEARCH---\n",
      "---Generator----\n",
      "---REVISOR---\n",
      "--- AI Reviser feels Good Enough ---\n",
      "--- Formatter ---\n"
     ]
    },
    {
     "name": "stderr",
     "output_type": "stream",
     "text": [
      "\n",
      "Processing Write Chinese characters (write_chinese):  33%|███▎      | 2/6 [00:39<01:21, 20.48s/it]\u001B[A"
     ]
    },
    {
     "name": "stdout",
     "output_type": "stream",
     "text": [
      "---WEB SEARCH---\n",
      "---Generator----\n",
      "---REVISOR---\n",
      "--- AI Reviser feels Good Enough ---\n",
      "--- Formatter ---\n"
     ]
    },
    {
     "name": "stderr",
     "output_type": "stream",
     "text": [
      "\n",
      "Processing Write Chinese characters (write_chinese):  50%|█████     | 3/6 [00:59<01:00, 20.23s/it]\u001B[A"
     ]
    },
    {
     "name": "stdout",
     "output_type": "stream",
     "text": [
      "---WEB SEARCH---\n",
      "---Generator----\n",
      "---REVISOR---\n",
      "--- AI Reviser feels Good Enough ---\n",
      "--- Formatter ---\n"
     ]
    },
    {
     "name": "stderr",
     "output_type": "stream",
     "text": [
      "\n",
      "Processing Write Chinese characters (write_chinese):  67%|██████▋   | 4/6 [01:16<00:37, 18.75s/it]\u001B[A"
     ]
    },
    {
     "name": "stdout",
     "output_type": "stream",
     "text": [
      "---WEB SEARCH---\n",
      "---Generator----\n",
      "---REVISOR---\n",
      "--- AI Reviser feels Good Enough ---\n",
      "--- Formatter ---\n"
     ]
    },
    {
     "name": "stderr",
     "output_type": "stream",
     "text": [
      "\n",
      "Processing Write Chinese characters (write_chinese):  83%|████████▎ | 5/6 [01:31<00:17, 17.51s/it]\u001B[A"
     ]
    },
    {
     "name": "stdout",
     "output_type": "stream",
     "text": [
      "---WEB SEARCH---\n",
      "---Generator----\n",
      "---REVISOR---\n",
      "--- AI Reviser feels Good Enough ---\n",
      "--- Formatter ---\n"
     ]
    },
    {
     "name": "stderr",
     "output_type": "stream",
     "text": [
      "\n",
      "Processing Write Chinese characters (write_chinese): 100%|██████████| 6/6 [02:03<00:00, 20.61s/it]\u001B[A\n",
      "Processing Vocabulary and Grammar:  25%|██▌       | 2/8 [04:45<13:57, 139.54s/it]\n",
      "Processing Word Meaning Selection (word_meaning):   0%|          | 0/11 [00:00<?, ?it/s]\u001B[A"
     ]
    },
    {
     "name": "stdout",
     "output_type": "stream",
     "text": [
      "---WEB SEARCH---\n"
     ]
    },
    {
     "name": "stderr",
     "output_type": "stream",
     "text": [
      "Adding a node to a graph that has already been compiled. This will not be reflected in the compiled graph.\n",
      "\n",
      "Processing Word Meaning Selection (word_meaning):   9%|▉         | 1/11 [00:01<00:10,  1.06s/it]\u001B[A"
     ]
    },
    {
     "name": "stdout",
     "output_type": "stream",
     "text": [
      "---WEB SEARCH---\n",
      "---Generator----\n",
      "---REVISOR---\n",
      "---Generator----\n",
      "---REVISOR---\n",
      "--- AI Reviser feels Good Enough ---\n",
      "--- Formatter ---\n"
     ]
    },
    {
     "name": "stderr",
     "output_type": "stream",
     "text": [
      "\n",
      "Processing Word Meaning Selection (word_meaning):  18%|█▊        | 2/11 [00:32<02:52, 19.19s/it]\u001B[A"
     ]
    },
    {
     "name": "stdout",
     "output_type": "stream",
     "text": [
      "---WEB SEARCH---\n",
      "---Generator----\n",
      "---REVISOR---\n",
      "--- AI Reviser feels Good Enough ---\n",
      "--- Formatter ---\n"
     ]
    },
    {
     "name": "stderr",
     "output_type": "stream",
     "text": [
      "\n",
      "Processing Word Meaning Selection (word_meaning):  27%|██▋       | 3/11 [01:08<03:34, 26.81s/it]\u001B[A"
     ]
    },
    {
     "name": "stdout",
     "output_type": "stream",
     "text": [
      "---WEB SEARCH---\n",
      "---Generator----\n",
      "---REVISOR---\n",
      "---Generator----\n",
      "---REVISOR---\n",
      "--- AI Reviser feels Good Enough ---\n",
      "--- Formatter ---\n"
     ]
    },
    {
     "name": "stderr",
     "output_type": "stream",
     "text": [
      "\n",
      "Processing Word Meaning Selection (word_meaning):  36%|███▋      | 4/11 [02:04<04:27, 38.16s/it]\u001B[A"
     ]
    },
    {
     "name": "stdout",
     "output_type": "stream",
     "text": [
      "---WEB SEARCH---\n",
      "---Generator----\n",
      "---REVISOR---\n",
      "--- AI Reviser feels Good Enough ---\n",
      "--- Formatter ---\n"
     ]
    },
    {
     "name": "stderr",
     "output_type": "stream",
     "text": [
      "\n",
      "Processing Word Meaning Selection (word_meaning):  45%|████▌     | 5/11 [02:37<03:38, 36.49s/it]\u001B[A"
     ]
    },
    {
     "name": "stdout",
     "output_type": "stream",
     "text": [
      "---WEB SEARCH---\n"
     ]
    },
    {
     "name": "stderr",
     "output_type": "stream",
     "text": [
      "Adding a node to a graph that has already been compiled. This will not be reflected in the compiled graph.\n",
      "\n",
      "Processing Word Meaning Selection (word_meaning):  55%|█████▍    | 6/11 [02:38<02:02, 24.44s/it]\u001B[A"
     ]
    },
    {
     "name": "stdout",
     "output_type": "stream",
     "text": [
      "---WEB SEARCH---\n",
      "---Generator----\n",
      "---REVISOR---\n",
      "--- AI Reviser feels Good Enough ---\n",
      "--- Formatter ---\n"
     ]
    },
    {
     "name": "stderr",
     "output_type": "stream",
     "text": [
      "\n",
      "Processing Word Meaning Selection (word_meaning):  64%|██████▎   | 7/11 [03:04<01:39, 24.77s/it]\u001B[A"
     ]
    },
    {
     "name": "stdout",
     "output_type": "stream",
     "text": [
      "---WEB SEARCH---\n",
      "---Generator----\n",
      "---REVISOR---\n",
      "--- AI Reviser feels Good Enough ---\n",
      "--- Formatter ---\n"
     ]
    },
    {
     "name": "stderr",
     "output_type": "stream",
     "text": [
      "\n",
      "Processing Word Meaning Selection (word_meaning):  73%|███████▎  | 8/11 [03:19<01:05, 21.77s/it]\u001B[A"
     ]
    },
    {
     "name": "stdout",
     "output_type": "stream",
     "text": [
      "---WEB SEARCH---\n",
      "---Generator----\n",
      "---REVISOR---\n",
      "--- AI Reviser feels Good Enough ---\n",
      "--- Formatter ---\n"
     ]
    },
    {
     "name": "stderr",
     "output_type": "stream",
     "text": [
      "\n",
      "Processing Word Meaning Selection (word_meaning):  82%|████████▏ | 9/11 [03:37<00:41, 20.56s/it]\u001B[A"
     ]
    },
    {
     "name": "stdout",
     "output_type": "stream",
     "text": [
      "---WEB SEARCH---\n",
      "---Generator----\n",
      "---REVISOR---\n",
      "--- AI Reviser feels Good Enough ---\n",
      "--- Formatter ---\n"
     ]
    },
    {
     "name": "stderr",
     "output_type": "stream",
     "text": [
      "\n",
      "Processing Word Meaning Selection (word_meaning):  91%|█████████ | 10/11 [04:10<00:24, 24.27s/it]\u001B[A"
     ]
    },
    {
     "name": "stdout",
     "output_type": "stream",
     "text": [
      "---WEB SEARCH---\n",
      "---Generator----\n",
      "---REVISOR---\n",
      "--- AI Reviser feels Good Enough ---\n",
      "--- Formatter ---\n"
     ]
    },
    {
     "name": "stderr",
     "output_type": "stream",
     "text": [
      "\n",
      "Processing Word Meaning Selection (word_meaning): 100%|██████████| 11/11 [04:35<00:00, 25.06s/it]\u001B[A\n",
      "Processing Vocabulary and Grammar:  38%|███▊      | 3/8 [09:21<16:48, 201.71s/it]\n",
      "Processing Synonyms substitution (synonym_substitution):   0%|          | 0/5 [00:00<?, ?it/s]\u001B[A"
     ]
    },
    {
     "name": "stdout",
     "output_type": "stream",
     "text": [
      "---WEB SEARCH---\n",
      "---Generator----\n",
      "---REVISOR---\n",
      "--- AI Reviser feels Good Enough ---\n",
      "--- Formatter ---\n"
     ]
    },
    {
     "name": "stderr",
     "output_type": "stream",
     "text": [
      "\n",
      "Processing Synonyms substitution (synonym_substitution):  20%|██        | 1/5 [00:18<01:13, 18.27s/it]\u001B[A"
     ]
    },
    {
     "name": "stdout",
     "output_type": "stream",
     "text": [
      "---WEB SEARCH---\n",
      "---Generator----\n",
      "---REVISOR---\n",
      "--- AI Reviser feels Good Enough ---\n",
      "--- Formatter ---\n"
     ]
    },
    {
     "name": "stderr",
     "output_type": "stream",
     "text": [
      "\n",
      "Processing Synonyms substitution (synonym_substitution):  40%|████      | 2/5 [00:35<00:52, 17.44s/it]\u001B[A"
     ]
    },
    {
     "name": "stdout",
     "output_type": "stream",
     "text": [
      "---WEB SEARCH---\n",
      "---Generator----\n",
      "---REVISOR---\n",
      "--- AI Reviser feels Good Enough ---\n",
      "--- Formatter ---\n"
     ]
    },
    {
     "name": "stderr",
     "output_type": "stream",
     "text": [
      "\n",
      "Processing Synonyms substitution (synonym_substitution):  60%|██████    | 3/5 [00:58<00:40, 20.24s/it]\u001B[A"
     ]
    },
    {
     "name": "stdout",
     "output_type": "stream",
     "text": [
      "---WEB SEARCH---\n",
      "---Generator----\n",
      "---REVISOR---\n",
      "--- AI Reviser feels Good Enough ---\n",
      "--- Formatter ---\n"
     ]
    },
    {
     "name": "stderr",
     "output_type": "stream",
     "text": [
      "\n",
      "Processing Synonyms substitution (synonym_substitution):  80%|████████  | 4/5 [01:17<00:19, 19.51s/it]\u001B[A"
     ]
    },
    {
     "name": "stdout",
     "output_type": "stream",
     "text": [
      "---WEB SEARCH---\n",
      "---Generator----\n",
      "---REVISOR---\n",
      "--- AI Reviser feels Good Enough ---\n",
      "--- Formatter ---\n"
     ]
    },
    {
     "name": "stderr",
     "output_type": "stream",
     "text": [
      "\n",
      "Processing Synonyms substitution (synonym_substitution): 100%|██████████| 5/5 [01:56<00:00, 23.37s/it]\u001B[A\n",
      "Processing Vocabulary and Grammar:  50%|█████     | 4/8 [11:18<11:12, 168.21s/it]\n",
      "Processing Word usage (word_usage):   0%|          | 0/5 [00:00<?, ?it/s]\u001B[A"
     ]
    },
    {
     "name": "stdout",
     "output_type": "stream",
     "text": [
      "---WEB SEARCH---\n",
      "---Generator----\n",
      "---REVISOR---\n",
      "--- AI Reviser feels Good Enough ---\n",
      "--- Formatter ---\n"
     ]
    },
    {
     "name": "stderr",
     "output_type": "stream",
     "text": [
      "\n",
      "Processing Word usage (word_usage):  20%|██        | 1/5 [00:23<01:35, 23.88s/it]\u001B[A"
     ]
    },
    {
     "name": "stdout",
     "output_type": "stream",
     "text": [
      "---WEB SEARCH---\n",
      "---Generator----\n",
      "---REVISOR---\n",
      "--- AI Reviser feels Good Enough ---\n",
      "--- Formatter ---\n"
     ]
    },
    {
     "name": "stderr",
     "output_type": "stream",
     "text": [
      "\n",
      "Processing Word usage (word_usage):  40%|████      | 2/5 [01:01<01:36, 32.13s/it]\u001B[A"
     ]
    },
    {
     "name": "stdout",
     "output_type": "stream",
     "text": [
      "---WEB SEARCH---\n",
      "---Generator----\n",
      "---REVISOR---\n",
      "--- AI Reviser feels Good Enough ---\n",
      "--- Formatter ---\n"
     ]
    },
    {
     "name": "stderr",
     "output_type": "stream",
     "text": [
      "\n",
      "Processing Word usage (word_usage):  60%|██████    | 3/5 [01:19<00:50, 25.45s/it]\u001B[A"
     ]
    },
    {
     "name": "stdout",
     "output_type": "stream",
     "text": [
      "---WEB SEARCH---\n"
     ]
    },
    {
     "name": "stderr",
     "output_type": "stream",
     "text": [
      "Adding a node to a graph that has already been compiled. This will not be reflected in the compiled graph.\n",
      "\n",
      "Processing Word usage (word_usage):  80%|████████  | 4/5 [01:20<00:15, 15.80s/it]\u001B[A"
     ]
    },
    {
     "name": "stdout",
     "output_type": "stream",
     "text": [
      "---WEB SEARCH---\n",
      "---Generator----\n",
      "---REVISOR---\n",
      "--- AI Reviser feels Good Enough ---\n",
      "--- Formatter ---\n"
     ]
    },
    {
     "name": "stderr",
     "output_type": "stream",
     "text": [
      "\n",
      "Processing Word usage (word_usage): 100%|██████████| 5/5 [01:46<00:00, 21.29s/it]\u001B[A\n",
      "Processing Vocabulary and Grammar:  62%|██████▎   | 5/8 [13:04<07:17, 145.93s/it]\n",
      "Processing Grammar fill in the blank (sentence_grammar):   0%|          | 0/13 [00:00<?, ?it/s]\u001B[A"
     ]
    },
    {
     "name": "stdout",
     "output_type": "stream",
     "text": [
      "---WEB SEARCH---\n",
      "---Generator----\n",
      "---REVISOR---\n",
      "--- AI Reviser feels Good Enough ---\n",
      "--- Formatter ---\n"
     ]
    },
    {
     "name": "stderr",
     "output_type": "stream",
     "text": [
      "\n",
      "Processing Grammar fill in the blank (sentence_grammar):   8%|▊         | 1/13 [00:25<05:11, 25.99s/it]\u001B[A"
     ]
    },
    {
     "name": "stdout",
     "output_type": "stream",
     "text": [
      "---WEB SEARCH---\n",
      "---Generator----\n",
      "---REVISOR---\n",
      "---Generator----\n",
      "---REVISOR---\n",
      "--- AI Reviser feels Good Enough ---\n",
      "--- Formatter ---\n"
     ]
    },
    {
     "name": "stderr",
     "output_type": "stream",
     "text": [
      "\n",
      "Processing Grammar fill in the blank (sentence_grammar):  15%|█▌        | 2/13 [01:07<06:24, 34.92s/it]\u001B[A"
     ]
    },
    {
     "name": "stdout",
     "output_type": "stream",
     "text": [
      "---WEB SEARCH---\n",
      "---Generator----\n",
      "---REVISOR---\n",
      "--- AI Reviser feels Good Enough ---\n",
      "--- Formatter ---\n"
     ]
    },
    {
     "name": "stderr",
     "output_type": "stream",
     "text": [
      "\n",
      "Processing Grammar fill in the blank (sentence_grammar):  23%|██▎       | 3/13 [01:32<05:05, 30.53s/it]\u001B[A"
     ]
    },
    {
     "name": "stdout",
     "output_type": "stream",
     "text": [
      "---WEB SEARCH---\n",
      "---Generator----\n",
      "---REVISOR---\n",
      "--- AI Reviser feels Good Enough ---\n",
      "--- Formatter ---\n"
     ]
    },
    {
     "name": "stderr",
     "output_type": "stream",
     "text": [
      "\n",
      "Processing Grammar fill in the blank (sentence_grammar):  31%|███       | 4/13 [02:07<04:49, 32.17s/it]\u001B[A"
     ]
    },
    {
     "name": "stdout",
     "output_type": "stream",
     "text": [
      "---WEB SEARCH---\n",
      "---Generator----\n",
      "---REVISOR---\n",
      "--- AI Reviser feels Good Enough ---\n",
      "--- Formatter ---\n"
     ]
    },
    {
     "name": "stderr",
     "output_type": "stream",
     "text": [
      "\n",
      "Processing Grammar fill in the blank (sentence_grammar):  38%|███▊      | 5/13 [02:31<03:54, 29.37s/it]\u001B[A"
     ]
    },
    {
     "name": "stdout",
     "output_type": "stream",
     "text": [
      "---WEB SEARCH---\n"
     ]
    },
    {
     "name": "stderr",
     "output_type": "stream",
     "text": [
      "Adding a node to a graph that has already been compiled. This will not be reflected in the compiled graph.\n",
      "\n",
      "Processing Grammar fill in the blank (sentence_grammar):  46%|████▌     | 6/13 [02:33<02:19, 19.91s/it]\u001B[A"
     ]
    },
    {
     "name": "stdout",
     "output_type": "stream",
     "text": [
      "---WEB SEARCH---\n",
      "---Generator----\n",
      "---REVISOR---\n",
      "--- AI Reviser feels Good Enough ---\n",
      "--- Formatter ---\n"
     ]
    },
    {
     "name": "stderr",
     "output_type": "stream",
     "text": [
      "\n",
      "Processing Grammar fill in the blank (sentence_grammar):  54%|█████▍    | 7/13 [02:57<02:08, 21.47s/it]\u001B[A"
     ]
    },
    {
     "name": "stdout",
     "output_type": "stream",
     "text": [
      "---WEB SEARCH---\n",
      "---Generator----\n",
      "---REVISOR---\n",
      "--- AI Reviser feels Good Enough ---\n",
      "--- Formatter ---\n"
     ]
    },
    {
     "name": "stderr",
     "output_type": "stream",
     "text": [
      "\n",
      "Processing Grammar fill in the blank (sentence_grammar):  62%|██████▏   | 8/13 [03:16<01:42, 20.54s/it]\u001B[A"
     ]
    },
    {
     "name": "stdout",
     "output_type": "stream",
     "text": [
      "---WEB SEARCH---\n",
      "---Generator----\n",
      "---REVISOR---\n",
      "--- AI Reviser feels Good Enough ---\n",
      "--- Formatter ---\n"
     ]
    },
    {
     "name": "stderr",
     "output_type": "stream",
     "text": [
      "\n",
      "Processing Grammar fill in the blank (sentence_grammar):  69%|██████▉   | 9/13 [03:36<01:21, 20.28s/it]\u001B[A"
     ]
    },
    {
     "name": "stdout",
     "output_type": "stream",
     "text": [
      "---WEB SEARCH---\n",
      "---Generator----\n",
      "---REVISOR---\n",
      "--- AI Reviser feels Good Enough ---\n",
      "--- Formatter ---\n"
     ]
    },
    {
     "name": "stderr",
     "output_type": "stream",
     "text": [
      "\n",
      "Processing Grammar fill in the blank (sentence_grammar):  77%|███████▋  | 10/13 [04:00<01:04, 21.62s/it]\u001B[A"
     ]
    },
    {
     "name": "stdout",
     "output_type": "stream",
     "text": [
      "---WEB SEARCH---\n",
      "---Generator----\n",
      "---REVISOR---\n",
      "--- AI Reviser feels Good Enough ---\n",
      "--- Formatter ---\n"
     ]
    },
    {
     "name": "stderr",
     "output_type": "stream",
     "text": [
      "\n",
      "Processing Grammar fill in the blank (sentence_grammar):  85%|████████▍ | 11/13 [04:19<00:41, 20.75s/it]\u001B[A"
     ]
    },
    {
     "name": "stdout",
     "output_type": "stream",
     "text": [
      "---WEB SEARCH---\n",
      "---Generator----\n",
      "---REVISOR---\n",
      "--- AI Reviser feels Good Enough ---\n",
      "--- Formatter ---\n"
     ]
    },
    {
     "name": "stderr",
     "output_type": "stream",
     "text": [
      "\n",
      "Processing Grammar fill in the blank (sentence_grammar):  92%|█████████▏| 12/13 [04:36<00:19, 19.49s/it]\u001B[A"
     ]
    },
    {
     "name": "stdout",
     "output_type": "stream",
     "text": [
      "---WEB SEARCH---\n",
      "---Generator----\n",
      "---REVISOR---\n",
      "--- AI Reviser feels Good Enough ---\n",
      "--- Formatter ---\n"
     ]
    },
    {
     "name": "stderr",
     "output_type": "stream",
     "text": [
      "\n",
      "Processing Grammar fill in the blank (sentence_grammar): 100%|██████████| 13/13 [04:58<00:00, 22.98s/it]\u001B[A\n",
      "Processing Vocabulary and Grammar:  75%|███████▌  | 6/8 [18:03<06:35, 197.89s/it]\n",
      "Processing Sentence sorting (sentence_sort):   0%|          | 0/5 [00:00<?, ?it/s]\u001B[A"
     ]
    },
    {
     "name": "stdout",
     "output_type": "stream",
     "text": [
      "---WEB SEARCH---\n"
     ]
    },
    {
     "name": "stderr",
     "output_type": "stream",
     "text": [
      "Adding a node to a graph that has already been compiled. This will not be reflected in the compiled graph.\n",
      "\n",
      "Processing Sentence sorting (sentence_sort):  20%|██        | 1/5 [00:01<00:04,  1.01s/it]\u001B[A"
     ]
    },
    {
     "name": "stdout",
     "output_type": "stream",
     "text": [
      "---WEB SEARCH---\n",
      "---Generator----\n",
      "---REVISOR---\n",
      "--- AI Reviser feels Good Enough ---\n",
      "--- Formatter ---\n"
     ]
    },
    {
     "name": "stderr",
     "output_type": "stream",
     "text": [
      "\n",
      "Processing Sentence sorting (sentence_sort):  40%|████      | 2/5 [00:38<01:07, 22.59s/it]\u001B[A"
     ]
    },
    {
     "name": "stdout",
     "output_type": "stream",
     "text": [
      "---WEB SEARCH---\n",
      "---Generator----\n",
      "---REVISOR---\n",
      "--- AI Reviser feels Good Enough ---\n",
      "--- Formatter ---\n"
     ]
    },
    {
     "name": "stderr",
     "output_type": "stream",
     "text": [
      "\n",
      "Processing Sentence sorting (sentence_sort):  60%|██████    | 3/5 [01:01<00:45, 22.53s/it]\u001B[A"
     ]
    },
    {
     "name": "stdout",
     "output_type": "stream",
     "text": [
      "---WEB SEARCH---\n",
      "---Generator----\n",
      "---REVISOR---\n",
      "---Generator----\n",
      "---REVISOR---\n",
      "---Generator----\n",
      "---REVISOR---\n",
      "--- Reach the Maximum Round ---\n",
      "--- Formatter ---\n"
     ]
    },
    {
     "name": "stderr",
     "output_type": "stream",
     "text": [
      "\n",
      "Processing Sentence sorting (sentence_sort):  80%|████████  | 4/5 [02:48<00:55, 55.91s/it]\u001B[A"
     ]
    },
    {
     "name": "stdout",
     "output_type": "stream",
     "text": [
      "---WEB SEARCH---\n",
      "---Generator----\n",
      "---REVISOR---\n",
      "--- AI Reviser feels Good Enough ---\n",
      "--- Formatter ---\n"
     ]
    },
    {
     "name": "stderr",
     "output_type": "stream",
     "text": [
      "\n",
      "Processing Sentence sorting (sentence_sort): 100%|██████████| 5/5 [03:08<00:00, 37.77s/it]\u001B[A\n",
      "Processing Vocabulary and Grammar:  88%|████████▊ | 7/8 [21:12<03:14, 194.94s/it]\n",
      "Processing Grammar structure selection (sentence_structure):   0%|          | 0/4 [00:00<?, ?it/s]\u001B[A"
     ]
    },
    {
     "name": "stdout",
     "output_type": "stream",
     "text": [
      "---WEB SEARCH---\n",
      "---Generator----\n",
      "---REVISOR---\n",
      "--- AI Reviser feels Good Enough ---\n",
      "--- Formatter ---\n"
     ]
    },
    {
     "name": "stderr",
     "output_type": "stream",
     "text": [
      "\n",
      "Processing Grammar structure selection (sentence_structure):  25%|██▌       | 1/4 [00:51<02:33, 51.18s/it]\u001B[A"
     ]
    },
    {
     "name": "stdout",
     "output_type": "stream",
     "text": [
      "---WEB SEARCH---\n"
     ]
    },
    {
     "name": "stderr",
     "output_type": "stream",
     "text": [
      "Adding a node to a graph that has already been compiled. This will not be reflected in the compiled graph.\n",
      "\n",
      "Processing Grammar structure selection (sentence_structure):  50%|█████     | 2/4 [00:52<00:43, 21.64s/it]\u001B[A"
     ]
    },
    {
     "name": "stdout",
     "output_type": "stream",
     "text": [
      "---WEB SEARCH---\n",
      "---Generator----\n",
      "---REVISOR---\n",
      "--- AI Reviser feels Good Enough ---\n",
      "--- Formatter ---\n"
     ]
    },
    {
     "name": "stderr",
     "output_type": "stream",
     "text": [
      "\n",
      "Processing Grammar structure selection (sentence_structure):  75%|███████▌  | 3/4 [01:31<00:29, 29.53s/it]\u001B[A"
     ]
    },
    {
     "name": "stdout",
     "output_type": "stream",
     "text": [
      "---WEB SEARCH---\n",
      "---Generator----\n",
      "---REVISOR---\n",
      "--- AI Reviser feels Good Enough ---\n",
      "--- Formatter ---\n"
     ]
    },
    {
     "name": "stderr",
     "output_type": "stream",
     "text": [
      "\n",
      "Processing Grammar structure selection (sentence_structure): 100%|██████████| 4/4 [01:52<00:00, 28.02s/it]\u001B[A\n",
      "Processing Vocabulary and Grammar: 100%|██████████| 8/8 [23:04<00:00, 173.07s/it]\n",
      "Processing Reading Comprehension:   0%|          | 0/4 [00:00<?, ?it/s]\n",
      "Processing Short passages (short_passage_read):   0%|          | 0/4 [00:00<?, ?it/s]\u001B[A"
     ]
    },
    {
     "name": "stdout",
     "output_type": "stream",
     "text": [
      "---WEB SEARCH---\n",
      "---Generator----\n",
      "---REVISOR---\n",
      "--- AI Reviser feels Good Enough ---\n",
      "--- Formatter ---\n"
     ]
    },
    {
     "name": "stderr",
     "output_type": "stream",
     "text": [
      "\n",
      "Processing Short passages (short_passage_read):  25%|██▌       | 1/4 [00:19<00:59, 19.81s/it]\u001B[A"
     ]
    },
    {
     "name": "stdout",
     "output_type": "stream",
     "text": [
      "---WEB SEARCH---\n",
      "---Generator----\n",
      "---REVISOR---\n",
      "--- AI Reviser feels Good Enough ---\n",
      "--- Formatter ---\n"
     ]
    },
    {
     "name": "stderr",
     "output_type": "stream",
     "text": [
      "\n",
      "Processing Short passages (short_passage_read):  50%|█████     | 2/4 [00:41<00:41, 20.98s/it]\u001B[A"
     ]
    },
    {
     "name": "stdout",
     "output_type": "stream",
     "text": [
      "---WEB SEARCH---\n",
      "---Generator----\n",
      "---REVISOR---\n",
      "--- AI Reviser feels Good Enough ---\n",
      "--- Formatter ---\n"
     ]
    },
    {
     "name": "stderr",
     "output_type": "stream",
     "text": [
      "\n",
      "Processing Short passages (short_passage_read):  75%|███████▌  | 3/4 [01:09<00:24, 24.14s/it]\u001B[A"
     ]
    },
    {
     "name": "stdout",
     "output_type": "stream",
     "text": [
      "---WEB SEARCH---\n",
      "---Generator----\n",
      "---REVISOR---\n",
      "--- AI Reviser feels Good Enough ---\n",
      "--- Formatter ---\n"
     ]
    },
    {
     "name": "stderr",
     "output_type": "stream",
     "text": [
      "\n",
      "Processing Short passages (short_passage_read): 100%|██████████| 4/4 [01:35<00:00, 23.78s/it]\u001B[A\n",
      "Processing Reading Comprehension:  25%|██▌       | 1/4 [01:35<04:45, 95.10s/it]\n",
      "Processing Mid-size passages (midsize_passage_read):   0%|          | 0/2 [00:00<?, ?it/s]\u001B[A"
     ]
    },
    {
     "name": "stdout",
     "output_type": "stream",
     "text": [
      "---WEB SEARCH---\n",
      "---Generator----\n",
      "---REVISOR---\n",
      "--- AI Reviser feels Good Enough ---\n",
      "--- Formatter ---\n"
     ]
    },
    {
     "name": "stderr",
     "output_type": "stream",
     "text": [
      "\n",
      "Processing Mid-size passages (midsize_passage_read):  50%|█████     | 1/2 [00:23<00:23, 23.94s/it]\u001B[A"
     ]
    },
    {
     "name": "stdout",
     "output_type": "stream",
     "text": [
      "---WEB SEARCH---\n",
      "---Generator----\n",
      "---REVISOR---\n",
      "--- AI Reviser feels Good Enough ---\n",
      "--- Formatter ---\n"
     ]
    },
    {
     "name": "stderr",
     "output_type": "stream",
     "text": [
      "\n",
      "Processing Mid-size passages (midsize_passage_read): 100%|██████████| 2/2 [00:46<00:00, 23.42s/it]\u001B[A\n",
      "Processing Reading Comprehension:  50%|█████     | 2/4 [02:21<02:13, 66.72s/it]\n",
      "Processing Long passages (long_passage_read):   0%|          | 0/1 [00:00<?, ?it/s]\u001B[A"
     ]
    },
    {
     "name": "stdout",
     "output_type": "stream",
     "text": [
      "---WEB SEARCH---\n",
      "---Generator----\n",
      "---REVISOR---\n",
      "--- AI Reviser feels Good Enough ---\n",
      "--- Formatter ---\n"
     ]
    },
    {
     "name": "stderr",
     "output_type": "stream",
     "text": [
      "\n",
      "Processing Long passages (long_passage_read): 100%|██████████| 1/1 [00:26<00:00, 26.36s/it]\u001B[A\n",
      "Processing Reading Comprehension:  75%|███████▌  | 3/4 [02:48<00:48, 48.29s/it]\n",
      "Processing Information retrieval (info_retrieval):   0%|          | 0/1 [00:00<?, ?it/s]\u001B[A"
     ]
    },
    {
     "name": "stdout",
     "output_type": "stream",
     "text": [
      "---WEB SEARCH---\n",
      "---Generator----\n",
      "---REVISOR---\n",
      "--- AI Reviser feels Good Enough ---\n",
      "--- Formatter ---\n"
     ]
    },
    {
     "name": "stderr",
     "output_type": "stream",
     "text": [
      "\n",
      "Processing Information retrieval (info_retrieval): 100%|██████████| 1/1 [00:29<00:00, 29.53s/it]\u001B[A\n",
      "Processing Reading Comprehension: 100%|██████████| 4/4 [03:17<00:00, 49.46s/it]\n",
      "Processing Listening Comprehension:   0%|          | 0/5 [00:00<?, ?it/s]\n",
      "Processing Topic understanding (topic_understanding):   0%|          | 0/6 [00:00<?, ?it/s]\u001B[A"
     ]
    },
    {
     "name": "stdout",
     "output_type": "stream",
     "text": [
      "---WEB SEARCH---\n",
      "---Generator----\n",
      "---REVISOR---\n",
      "--- AI Reviser feels Good Enough ---\n",
      "--- Formatter ---\n"
     ]
    },
    {
     "name": "stderr",
     "output_type": "stream",
     "text": [
      "\n",
      "Processing Topic understanding (topic_understanding):  17%|█▋        | 1/6 [00:23<01:55, 23.17s/it]\u001B[A"
     ]
    },
    {
     "name": "stdout",
     "output_type": "stream",
     "text": [
      "---WEB SEARCH---\n",
      "---Generator----\n",
      "---REVISOR---\n",
      "--- AI Reviser feels Good Enough ---\n",
      "--- Formatter ---\n"
     ]
    },
    {
     "name": "stderr",
     "output_type": "stream",
     "text": [
      "\n",
      "Processing Topic understanding (topic_understanding):  33%|███▎      | 2/6 [00:47<01:36, 24.02s/it]\u001B[A"
     ]
    },
    {
     "name": "stdout",
     "output_type": "stream",
     "text": [
      "---WEB SEARCH---\n",
      "---Generator----\n",
      "---REVISOR---\n",
      "--- AI Reviser feels Good Enough ---\n",
      "--- Formatter ---\n"
     ]
    },
    {
     "name": "stderr",
     "output_type": "stream",
     "text": [
      "\n",
      "Processing Topic understanding (topic_understanding):  50%|█████     | 3/6 [01:11<01:11, 23.93s/it]\u001B[A"
     ]
    },
    {
     "name": "stdout",
     "output_type": "stream",
     "text": [
      "---WEB SEARCH---\n",
      "---Generator----\n",
      "---REVISOR---\n",
      "--- AI Reviser feels Good Enough ---\n",
      "--- Formatter ---\n"
     ]
    },
    {
     "name": "stderr",
     "output_type": "stream",
     "text": [
      "\n",
      "Processing Topic understanding (topic_understanding):  67%|██████▋   | 4/6 [01:45<00:55, 27.75s/it]\u001B[A"
     ]
    },
    {
     "name": "stdout",
     "output_type": "stream",
     "text": [
      "---WEB SEARCH---\n",
      "---Generator----\n",
      "---REVISOR---\n",
      "--- AI Reviser feels Good Enough ---\n",
      "--- Formatter ---\n"
     ]
    },
    {
     "name": "stderr",
     "output_type": "stream",
     "text": [
      "\n",
      "Processing Topic understanding (topic_understanding):  83%|████████▎ | 5/6 [02:19<00:30, 30.09s/it]\u001B[A"
     ]
    },
    {
     "name": "stdout",
     "output_type": "stream",
     "text": [
      "---WEB SEARCH---\n",
      "---Generator----\n",
      "---REVISOR---\n",
      "--- AI Reviser feels Good Enough ---\n",
      "--- Formatter ---\n"
     ]
    },
    {
     "name": "stderr",
     "output_type": "stream",
     "text": [
      "\n",
      "Processing Topic understanding (topic_understanding): 100%|██████████| 6/6 [02:43<00:00, 27.23s/it]\u001B[A\n",
      "Processing Listening Comprehension:  20%|██        | 1/5 [02:43<10:53, 163.38s/it]\n",
      "Processing Key understanding (keypoint_understanding):   0%|          | 0/6 [00:00<?, ?it/s]\u001B[A"
     ]
    },
    {
     "name": "stdout",
     "output_type": "stream",
     "text": [
      "---WEB SEARCH---\n",
      "---Generator----\n",
      "---REVISOR---\n",
      "--- AI Reviser feels Good Enough ---\n",
      "--- Formatter ---\n"
     ]
    },
    {
     "name": "stderr",
     "output_type": "stream",
     "text": [
      "\n",
      "Processing Key understanding (keypoint_understanding):  17%|█▋        | 1/6 [00:21<01:45, 21.20s/it]\u001B[A"
     ]
    },
    {
     "name": "stdout",
     "output_type": "stream",
     "text": [
      "---WEB SEARCH---\n",
      "---Generator----\n",
      "---REVISOR---\n",
      "---Generator----\n",
      "---REVISOR---\n",
      "--- AI Reviser feels Good Enough ---\n",
      "--- Formatter ---\n"
     ]
    },
    {
     "name": "stderr",
     "output_type": "stream",
     "text": [
      "\n",
      "Processing Key understanding (keypoint_understanding):  33%|███▎      | 2/6 [01:24<03:03, 45.81s/it]\u001B[A"
     ]
    },
    {
     "name": "stdout",
     "output_type": "stream",
     "text": [
      "---WEB SEARCH---\n",
      "---Generator----\n",
      "---REVISOR---\n",
      "--- AI Reviser feels Good Enough ---\n",
      "--- Formatter ---\n"
     ]
    },
    {
     "name": "stderr",
     "output_type": "stream",
     "text": [
      "\n",
      "Processing Key understanding (keypoint_understanding):  50%|█████     | 3/6 [01:56<01:59, 39.67s/it]\u001B[A"
     ]
    },
    {
     "name": "stdout",
     "output_type": "stream",
     "text": [
      "---WEB SEARCH---\n",
      "---Generator----\n",
      "---REVISOR---\n",
      "--- AI Reviser feels Good Enough ---\n",
      "--- Formatter ---\n"
     ]
    },
    {
     "name": "stderr",
     "output_type": "stream",
     "text": [
      "\n",
      "Processing Key understanding (keypoint_understanding):  67%|██████▋   | 4/6 [02:18<01:05, 32.77s/it]\u001B[A"
     ]
    },
    {
     "name": "stdout",
     "output_type": "stream",
     "text": [
      "---WEB SEARCH---\n",
      "---Generator----\n",
      "---REVISOR---\n",
      "--- AI Reviser feels Good Enough ---\n",
      "--- Formatter ---\n"
     ]
    },
    {
     "name": "stderr",
     "output_type": "stream",
     "text": [
      "\n",
      "Processing Key understanding (keypoint_understanding):  83%|████████▎ | 5/6 [02:49<00:32, 32.20s/it]\u001B[A"
     ]
    },
    {
     "name": "stdout",
     "output_type": "stream",
     "text": [
      "---WEB SEARCH---\n",
      "---Generator----\n",
      "---REVISOR---\n",
      "--- AI Reviser feels Good Enough ---\n",
      "--- Formatter ---\n"
     ]
    },
    {
     "name": "stderr",
     "output_type": "stream",
     "text": [
      "\n",
      "Processing Key understanding (keypoint_understanding): 100%|██████████| 6/6 [03:34<00:00, 35.80s/it]\u001B[A\n",
      "Processing Listening Comprehension:  40%|████      | 2/5 [06:18<09:40, 193.63s/it]\n",
      "Processing Summary understanding (summary_understanding):   0%|          | 0/3 [00:00<?, ?it/s]\u001B[A"
     ]
    },
    {
     "name": "stdout",
     "output_type": "stream",
     "text": [
      "---WEB SEARCH---\n",
      "---Generator----\n",
      "---REVISOR---\n",
      "--- AI Reviser feels Good Enough ---\n",
      "--- Formatter ---\n"
     ]
    },
    {
     "name": "stderr",
     "output_type": "stream",
     "text": [
      "\n",
      "Processing Summary understanding (summary_understanding):  33%|███▎      | 1/3 [00:50<01:40, 50.43s/it]\u001B[A"
     ]
    },
    {
     "name": "stdout",
     "output_type": "stream",
     "text": [
      "---WEB SEARCH---\n",
      "---Generator----\n",
      "---REVISOR---\n",
      "--- AI Reviser feels Good Enough ---\n",
      "--- Formatter ---\n"
     ]
    },
    {
     "name": "stderr",
     "output_type": "stream",
     "text": [
      "\n",
      "Processing Summary understanding (summary_understanding):  67%|██████▋   | 2/3 [01:13<00:34, 34.48s/it]\u001B[A"
     ]
    },
    {
     "name": "stdout",
     "output_type": "stream",
     "text": [
      "---WEB SEARCH---\n",
      "---Generator----\n",
      "---REVISOR---\n",
      "--- AI Reviser feels Good Enough ---\n",
      "--- Formatter ---\n"
     ]
    },
    {
     "name": "stderr",
     "output_type": "stream",
     "text": [
      "\n",
      "Processing Summary understanding (summary_understanding): 100%|██████████| 3/3 [01:41<00:00, 33.98s/it]\u001B[A\n",
      "Processing Listening Comprehension:  60%|██████    | 3/5 [08:00<05:03, 151.77s/it]\n",
      "Processing Active expression (active_expression):   0%|          | 0/4 [00:00<?, ?it/s]\u001B[A"
     ]
    },
    {
     "name": "stdout",
     "output_type": "stream",
     "text": [
      "---WEB SEARCH---\n",
      "---Generator----\n",
      "---REVISOR---\n",
      "--- AI Reviser feels Good Enough ---\n",
      "--- Formatter ---\n"
     ]
    },
    {
     "name": "stderr",
     "output_type": "stream",
     "text": [
      "\n",
      "Processing Active expression (active_expression):  25%|██▌       | 1/4 [00:28<01:26, 28.70s/it]\u001B[A"
     ]
    },
    {
     "name": "stdout",
     "output_type": "stream",
     "text": [
      "---WEB SEARCH---\n",
      "---Generator----\n",
      "---REVISOR---\n",
      "--- AI Reviser feels Good Enough ---\n",
      "--- Formatter ---\n"
     ]
    },
    {
     "name": "stderr",
     "output_type": "stream",
     "text": [
      "\n",
      "Processing Active expression (active_expression):  50%|█████     | 2/4 [00:54<00:53, 26.93s/it]\u001B[A"
     ]
    },
    {
     "name": "stdout",
     "output_type": "stream",
     "text": [
      "---WEB SEARCH---\n",
      "---Generator----\n",
      "---REVISOR---\n",
      "--- AI Reviser feels Good Enough ---\n",
      "--- Formatter ---\n"
     ]
    },
    {
     "name": "stderr",
     "output_type": "stream",
     "text": [
      "\n",
      "Processing Active expression (active_expression):  75%|███████▌  | 3/4 [01:22<00:27, 27.50s/it]\u001B[A"
     ]
    },
    {
     "name": "stdout",
     "output_type": "stream",
     "text": [
      "---WEB SEARCH---\n",
      "---Generator----\n",
      "---REVISOR---\n",
      "--- AI Reviser feels Good Enough ---\n",
      "--- Formatter ---\n"
     ]
    },
    {
     "name": "stderr",
     "output_type": "stream",
     "text": [
      "\n",
      "Processing Active expression (active_expression): 100%|██████████| 4/4 [01:58<00:00, 29.54s/it]\u001B[A\n",
      "Processing Listening Comprehension:  80%|████████  | 4/5 [09:58<02:18, 138.50s/it]\n",
      "Processing Immediate acknowledgment (immediate_ack):   0%|          | 0/9 [00:00<?, ?it/s]\u001B[A"
     ]
    },
    {
     "name": "stdout",
     "output_type": "stream",
     "text": [
      "---WEB SEARCH---\n",
      "---Generator----\n",
      "---REVISOR---\n",
      "--- AI Reviser feels Good Enough ---\n",
      "--- Formatter ---\n"
     ]
    },
    {
     "name": "stderr",
     "output_type": "stream",
     "text": [
      "\n",
      "Processing Immediate acknowledgment (immediate_ack):  11%|█         | 1/9 [00:29<03:52, 29.00s/it]\u001B[A"
     ]
    },
    {
     "name": "stdout",
     "output_type": "stream",
     "text": [
      "---WEB SEARCH---\n",
      "---Generator----\n",
      "---REVISOR---\n",
      "--- AI Reviser feels Good Enough ---\n",
      "--- Formatter ---\n"
     ]
    },
    {
     "name": "stderr",
     "output_type": "stream",
     "text": [
      "\n",
      "Processing Immediate acknowledgment (immediate_ack):  22%|██▏       | 2/9 [00:53<03:06, 26.64s/it]\u001B[A"
     ]
    },
    {
     "name": "stdout",
     "output_type": "stream",
     "text": [
      "---WEB SEARCH---\n",
      "---Generator----\n",
      "---REVISOR---\n",
      "--- AI Reviser feels Good Enough ---\n",
      "--- Formatter ---\n"
     ]
    },
    {
     "name": "stderr",
     "output_type": "stream",
     "text": [
      "\n",
      "Processing Immediate acknowledgment (immediate_ack):  33%|███▎      | 3/9 [01:29<03:03, 30.52s/it]\u001B[A"
     ]
    },
    {
     "name": "stdout",
     "output_type": "stream",
     "text": [
      "---WEB SEARCH---\n",
      "---Generator----\n",
      "---REVISOR---\n",
      "--- AI Reviser feels Good Enough ---\n",
      "--- Formatter ---\n"
     ]
    },
    {
     "name": "stderr",
     "output_type": "stream",
     "text": [
      "\n",
      "Processing Immediate acknowledgment (immediate_ack):  44%|████▍     | 4/9 [02:04<02:41, 32.32s/it]\u001B[A"
     ]
    },
    {
     "name": "stdout",
     "output_type": "stream",
     "text": [
      "---WEB SEARCH---\n",
      "---Generator----\n",
      "---REVISOR---\n",
      "--- AI Reviser feels Good Enough ---\n",
      "--- Formatter ---\n"
     ]
    },
    {
     "name": "stderr",
     "output_type": "stream",
     "text": [
      "\n",
      "Processing Immediate acknowledgment (immediate_ack):  56%|█████▌    | 5/9 [02:37<02:10, 32.69s/it]\u001B[A"
     ]
    },
    {
     "name": "stdout",
     "output_type": "stream",
     "text": [
      "---WEB SEARCH---\n",
      "---Generator----\n",
      "---REVISOR---\n",
      "---Generator----\n",
      "---REVISOR---\n",
      "---Generator----\n",
      "---REVISOR---\n",
      "--- Reach the Maximum Round ---\n",
      "--- Formatter ---\n"
     ]
    },
    {
     "name": "stderr",
     "output_type": "stream",
     "text": [
      "\n",
      "Processing Immediate acknowledgment (immediate_ack):  67%|██████▋   | 6/9 [04:19<02:48, 56.21s/it]\u001B[A"
     ]
    },
    {
     "name": "stdout",
     "output_type": "stream",
     "text": [
      "---WEB SEARCH---\n",
      "---Generator----\n",
      "---REVISOR---\n",
      "--- AI Reviser feels Good Enough ---\n",
      "--- Formatter ---\n"
     ]
    },
    {
     "name": "stderr",
     "output_type": "stream",
     "text": [
      "\n",
      "Processing Immediate acknowledgment (immediate_ack):  78%|███████▊  | 7/9 [04:39<01:28, 44.44s/it]\u001B[A"
     ]
    },
    {
     "name": "stdout",
     "output_type": "stream",
     "text": [
      "---WEB SEARCH---\n",
      "---Generator----\n"
     ]
    },
    {
     "name": "stderr",
     "output_type": "stream",
     "text": [
      "Adding a node to a graph that has already been compiled. This will not be reflected in the compiled graph.\n",
      "\n",
      "Processing Immediate acknowledgment (immediate_ack):  89%|████████▉ | 8/9 [06:52<01:12, 72.50s/it]\u001B[A"
     ]
    },
    {
     "name": "stdout",
     "output_type": "stream",
     "text": [
      "---WEB SEARCH---\n",
      "---Generator----\n",
      "---REVISOR---\n",
      "--- AI Reviser feels Good Enough ---\n",
      "--- Formatter ---\n"
     ]
    },
    {
     "name": "stderr",
     "output_type": "stream",
     "text": [
      "\n",
      "Processing Immediate acknowledgment (immediate_ack): 100%|██████████| 9/9 [07:14<00:00, 48.31s/it]\u001B[A\n",
      "Processing Listening Comprehension: 100%|██████████| 5/5 [17:13<00:00, 206.61s/it]"
     ]
    },
    {
     "name": "stdout",
     "output_type": "stream",
     "text": [
      "Total execution time: 2615.46 seconds\n"
     ]
    },
    {
     "name": "stderr",
     "output_type": "stream",
     "text": [
      "\n"
     ]
    }
   ],
   "source": [
    "outliner_json = initial_outline.model_dump_json()\n",
    "data = json.loads(outliner_json)  # Replace with your actual JSON data\n",
    "\n",
    "start_time = time.time()\n",
    "\n",
    "output_data = {'sections': []}\n",
    "\n",
    "for section in data['sections']:\n",
    "    output_section = {'section_title': section['section_title'], 'subsections': []}\n",
    "\n",
    "    for subsection in tqdm(section['subsections'], desc=f\"Processing {section['section_title']}\"):\n",
    "        function_name = subsection['subsection_title'].split(' (')[1].rstrip(')')\n",
    "        questions = subsection['question_topics']\n",
    "\n",
    "        for question in tqdm(questions, desc=f\"Processing {subsection['subsection_title']}\"):\n",
    "            handler = ExamTaskHandler(vocab=vocab_dict)\n",
    "            func = getattr(handler, function_name, None)\n",
    "\n",
    "            if func:\n",
    "                max_attempts = 2\n",
    "                original_topic = question['topic']  # Optional: Track original topic\n",
    "                for attempt in range(max_attempts):\n",
    "                    try:\n",
    "                        result = json.loads(func(question['topic']))\n",
    "                        question['result'] = result\n",
    "                        break  # Exit on success\n",
    "                    except Exception as e:\n",
    "                        if attempt < max_attempts - 1:\n",
    "                            # Replace topic and retry\n",
    "                            question['topic'] = random.choice(topics_list)\n",
    "                        else:\n",
    "                            question['result'] = f\"Error after {max_attempts} attempts: {str(e)}\"\n",
    "            else:\n",
    "                question['result'] = f\"Method {function_name} not found\"\n",
    "\n",
    "        output_subsection = {\n",
    "            'subsection_title': subsection['subsection_title'],\n",
    "            'description': subsection['description'],\n",
    "            'question_topics': questions\n",
    "        }\n",
    "        output_section['subsections'].append(output_subsection)\n",
    "\n",
    "    output_data['sections'].append(output_section)\n",
    "\n",
    "# End the timer\n",
    "end_time = time.time()\n",
    "\n",
    "# Calculate the total execution time\n",
    "execution_time = end_time - start_time\n",
    "\n",
    "print(f\"Total execution time: {execution_time:.2f} seconds\")"
   ],
   "metadata": {
    "collapsed": false,
    "ExecuteTime": {
     "end_time": "2025-05-08T16:47:36.894750100Z",
     "start_time": "2025-05-08T16:04:01.423507200Z"
    }
   },
   "id": "5c2b7e675e5302a8"
  },
  {
   "cell_type": "code",
   "execution_count": 18,
   "outputs": [
    {
     "data": {
      "text/plain": "<IPython.core.display.Markdown object>",
      "text/markdown": "sections:\n- section_title: Vocabulary and Grammar\n  subsections:\n  - subsection_title: Kanji reading (kanji_reading)\n    description: 8 questions requiring the test-taker to read kanji.\n    question_topics:\n    - topic: 時事問題について話す\n      result: 'Error after 2 attempts: Node `online_search` already present.'\n    - topic: 愛情\n      result:\n        question: '次の漢字の読み方として正しいものを選びなさい。\n\n\n          愛情'\n        choices:\n        - あいじょう\n        - あいせい\n        - あいしょう\n        - あいじゅう\n        correct_answer: 1\n        explanation: 「愛情」是指「深深的爱与慈爱之心」，作为N3级别的汉字经常使用。这个单词的读法难点在于容易与类似的汉字或读法（例如：爱称「あいしょう」、爱着「あいちゃく」等）混淆。正确的读法有助于深入理解文章。\n    - topic: 日光\n      result:\n        question: 「日光」は日本の有名な観光地です。次の文中の「日光」の正しい読み方を選びなさい。\n        explanation: 「日光」是一个日本地名，位于栃木县，因其丰富的自然风光和世界遗产建筑而闻名。主要的难点在于「日光」的正确音读「にっこう」，而不是「にちこう」或其他读法。考生需要熟悉常见地名的读法以便正确选择答案。\n        correct_answer: 1\n        choices:\n        - にっこう\n        - にちこう\n        - にちひかり\n        - にっひかり\n    - topic: あらゆる\n      result:\n        question: '次の文中の「**あらゆる**」の正しい読み方を選びなさい。例文: あらゆる角度から検討する必要があります。'\n        choices:\n        - あるゆる\n        - あらゆる\n        - ありゆる\n        - あらいる\n        correct_answer: 2\n        explanation: 「あらゆる」是一个连体词，意思是“所有的”“一切的”。虽然没有汉字书写方式，但通常用平假名书写。这个词在正式的文章和会话中使用较多，因此记住正确的读法很重要。选项中的「あるゆる」和「ありゆる」等是错误的。\n    - topic: 不通\n      result:\n        question: '**不通** の正しい読み方を選んでください。'\n        choices:\n        - ふつう\n        - ふとう\n        - ふとお\n        - ぶつう\n        correct_answer: 1\n        explanation: 「不通」は指交通或通信中断的状态。这个词在日常生活中经常使用，尤其是在像“音信不通”这样的表达中。问题的难点在于选项中有类似发音的干扰项，因此需要准确的知识来回答。\n    - topic: スター\n      result:\n        question: 映画祭には多くの有名な **スター** が参加しました。\n        explanation: 主要挑战在于“スター”这个外来语的发音，它采用片假名书写，且发音与英语的“star”相似。考生可能会被其他选项误导，例如“すてー”或“せたー”，但正确答案是“すたー”。\n        correct_answer: 1\n        choices:\n        - すたー\n        - すてー\n        - せたー\n        - さたー\n    - topic: 付き合い\n      result:\n        question: '以下の文における「付き合い」の正しい読み方を選びなさい。\n\n\n          彼とは長い付き合いだ。'\n        explanation: “付き合い”的正确读法是“つきあい”。这个词源于动词“付き合う（つきあう）”，表示“交往”或“人际关系”。在选择答案时，容易混淆的是“つけあい”和“つきあう”，因为它们与原词形状相似，但含义和用法不同。注意区分动词的词形和名词的读法是关键点。\n        correct_answer: 2\n        choices:\n        - つけあい\n        - つきあい\n        - つきあう\n        - つけあう\n    - topic: 不思議\n      result:\n        question: '次の漢字の読み方として正しいものを選びなさい。\n\n\n          **不思議**'\n        choices:\n        - ふしぎ\n        - ふしき\n        - ふしげ\n        - ふしぎょう\n        correct_answer: 1\n        explanation: 「不思議」は「ふしぎ」と読み。这些汉字在日常生活中经常使用，表示“不可思议的事情”或“无法解释的事情”。主要挑战是正确组合“不”和“思”的音读。“ふしぎ”以外的选项是错误的，尤其是“ふしき”和“ふしげ”等读法是不存在的。\n  - subsection_title: Write Chinese characters (write_chinese)\n    description: 6 questions asking the test-taker to write the correct kanji for\n      given words.\n    question_topics:\n    - topic: 移動\n      result:\n        question: 次の会場へいどうしてください。\n        explanation: 这道题的关键在于区分「移動」和其他类似的词汇。虽然「異動」、「移転」和「移設」都涉及位置或状态的变化，但它们的使用场景不同。「移動」指的是物理位置的移动，比如从一个地方移动到另一个地方，这是题目中所要求的。\n        correct_answer: 2\n        choices:\n        - 異動\n        - 移動\n        - 移転\n        - 移設\n    - topic: 呼吸\n      result:\n        question: 深い呼吸をすると、気持ちが落ち着きます。\n        explanation: 正确答案是“呼吸”。“呼吸”读作“こきゅう”，指的是吸入和呼出空气的动作。其他选项如“吸呼”和“呼吸器”虽然是相关词，但含义有所不同。“吸收”则是完全不同的概念，指的是物质的吸纳。因为选项相似，需要注意区分。\n        correct_answer: 1\n        choices:\n        - 呼吸\n        - 吸呼\n        - 呼吸器\n        - 吸收\n    - topic: 製品\n      result:\n        question: 父は新しい **せいひん** を開発する仕事をしています。\n        choices:\n        - 製品\n        - 成品\n        - 精品\n        - 製作\n        correct_answer: 1\n        explanation: 本题的难点在于选项中包含了几个与“せいひん”读音相近或意思相关的干扰项，如“成品”和“精品”。“製品”是指通过加工制造而成的产品，符合句子的语境。其余选项虽有一定的迷惑性，但并不符合“せいひん”的正确写法和含义。\n    - topic: 診察\n      result:\n        question: 文中の「しんさつ」の正しい漢字を選んでください。\n        explanation: 这个问题的难点在于干扰选项“検察”、“観察”和“視察”都与观察、检查有关，容易让考生混淆。但“診察”特指医师对患者进行身体检查和问诊的行为，这是医学领域特有的词汇。\n        correct_answer: 1\n        choices:\n        - 診察\n        - 検察\n        - 観察\n        - 視察\n    - topic: 独特\n      result:\n        question: この絵はとてもどくとくな雰囲気を持っています。\n        choices:\n        - 独得\n        - 特独\n        - 独特\n        - 特有\n        correct_answer: 3\n        explanation: 正确答案是“独特”。“独特”的意思是“与众不同、独一无二”，在句子中表示这幅画具有特别的气氛。其他选项虽然看似合理，但它们的意思或者写法与“独特”不完全一致，容易混淆。\n    - topic: 務め\n      result:\n        question: 父は銀行に つとめて います。\n        explanation: 主要的挑战在于“つとめて”有多个汉字写法，包括“勤めて”、“務めて”和“努めて”，但它们有不同的用法和意义。“勤めて”通常用于表示在某个地方工作或任职，例如公司或银行。而“務めて”更侧重于履行职责或完成任务，“努めて”则表示努力或尽力。考生需要根据句子背景选择正确的汉字写法。\n        correct_answer: 2\n        choices:\n        - 勧めて\n        - 勤めて\n        - 仕めて\n        - 労めて\n  - subsection_title: Word Meaning Selection (word_meaning)\n    description: 11 questions where the test-taker selects the correct meaning of\n      words.\n    question_topics:\n    - topic: 引退後の生活について話す\n      result: 'Error after 2 attempts: Node `online_search` already present.'\n    - topic: 冗談\n      result:\n        question: 林先生总是开玩笑，所以这次他说的话是否属实（　）。\n        choices:\n        - 冗长\n        - 冗谈\n        - 笑\n        - 戏言\n        correct_answer: 2\n        explanation: “冗谈”读作“じょうだん”，指的是开玩笑的话语或言辞。选项“冗长”意为“verbose（冗长的）”，表示话语过长。“笑”意为“笑声”，是开玩笑的结果，但不是开玩笑本身。“戏言”读作“たわごと”，虽然接近开玩笑的意思，但通常使用“冗谈”更为正确。此问题要求选择正确的汉字，测试词汇理解。\n    - topic: 逆らう\n      result:\n        question: 以下の文の（　）に入る正しい漢字を選びなさい。彼は上司の命令に（　）ことが多い。\n        explanation: 这句话中需要表达的是“不遵从上司的命令并且反抗”的意思。“逆らう”表示不服从上级的意见或指示。其他选项也表示反抗或抵抗的意思，但“背く”主要是指违反约定或规则，“抗う”表示对敌对关系的对方进行抵抗，“歯向う”则有直接攻击的语感。符合正确语境的是“逆らう”。\n        correct_answer: 1\n        choices:\n        - 逆らう\n        - 背く\n        - 抗う\n        - 歯向う\n    - topic: 住宅\n      result:\n        question: この地域では、新しい（じゅうたく）の建設が進んでいます。\n        explanation: 「じゅうたく」の正确汉字表记是「住宅」。其他选项由于意义或汉字结构相似而容易混淆，但并不是正确的词汇。具体解释如下：- 「宿宅」不是存在的词汇。-\n          「住居」读作「じゅうきょ」，意义相似但并非「じゅうたく」。- 「住舎」通常不使用的表达。此题的难点在于选择项包含了类似汉字，容易引起混淆。\n        correct_answer: 1\n        choices:\n        - 住宅\n        - 宿宅\n        - 住居\n        - 住舎\n    - topic: 無駄\n      result:\n        question: このプロジェクトの計画には、時間とお金の（　）が多すぎる。もっと効率的に進めるべきだ。\n        choices:\n        - 無益\n        - 無駄\n        - 無用\n        - 無効\n        correct_answer: 2\n        explanation: 「无用」这个词指的是“没有用处的事情”或“没有效果的事情”。在文中，表示“时间和金钱被浪费”的表达是合适的。其他选项的意思虽然相似，但「无用」是日常场景中经常使用的表达。\n    - topic: 地元の食べ物や特産品について話す\n      result: 'Error after 2 attempts: Node `online_search` already present.'\n    - topic: 経由\n      result:\n        question: '次の文の（　）に入る正しい漢字を選びなさい。例文: 私たちは東京（　）で大阪に行きました。'\n        choices:\n        - 渓由\n        - 経由\n        - 継由\n        - 径由\n        correct_answer: 2\n        explanation: 「経由」表示“在去目的地的途中经过某个地点”。该汉字在日常使用中非常常见，“经”表示“经过”，“由”表示“理由或路径”。其他选项中的“渓由”、“継由”、“径由”虽然形状相似，但含义不同，因此在此语境中不可使用。\n    - topic: 効果\n      result:\n        question: この薬は風邪に対して非常に高い（こうか）があります。\n        choices:\n        - 効果\n        - 光果\n        - 効果\n        - 功果\n        correct_answer: 3\n        explanation: 正确的答案是“効果”。这个单词的含义是“通过某种作用而产生的理想结果”。选项中包含了类似形状的汉字（効果、功果），尤其“効果”有“有效”的意思，因此容易混淆。此外，“光果”会让人联想到“闪光”或“果实”，增加了迷惑性。\n    - topic: キャプテン\n      result:\n        question: 彼は野球チームの（キャプテン）として、とても頼りになる存在です。\n        explanation: 正确答案是“主将”，因为“キャプテン”在这里表示团队的领导者，特别是体育团队的队长。其他选项如“船长”、“队长”和“机长”虽然也有领导者的含义，但它们更适用于具体的场景，例如船、队伍或飞机，而不是体育团队。\n        correct_answer: 1\n        choices:\n        - 主将\n        - 船长\n        - 隊長\n        - 機長\n    - topic: インタビュー\n      result:\n        question: 彼はテレビ番組での（　）がとても上手で、視聴者に好評だった。\n        choices:\n        - 会議\n        - 面接\n        - 訪問\n        - インタビュー\n        correct_answer: 4\n        explanation: 这一问题的难点在于选项中的其他词汇（如「会議」「面接」「訪問」）也与交流或接触相关，容易让考生混淆。但「インタビュー」特指采访或取材，与句中「テレビ番組」的场景最为契合。\n    - topic: 髪の毛\n      result:\n        question: 佐藤さんは髪を切ったばかりで、（かみのけ）がとてもきれいですね。\n        choices:\n        - 髪毛\n        - 毛髪\n        - 髪の毛\n        - 頭髪\n        correct_answer: 3\n        explanation: 正确答案是「髪の毛」，表示头上的每一根毛发。错误选项的干扰点如下：1.「髪毛」虽然看似合理，但并不是日语中的正确表达。2.「毛髪」通常用于更正式或科学的语境，而非日常对话。3.「頭髪」是指头发整体，不能具体到一根根毛发。考生需要注意这些词汇的使用场景及细微差别。\n  - subsection_title: Synonyms substitution (synonym_substitution)\n    description: 5 questions asking the test-taker to substitute words with synonyms.\n    question_topics:\n    - topic: 親しい\n      result:\n        question: 以下的句子中，选择与“亲密”意义相同的词语。\n        choices:\n        - 关系好\n        - 疏远\n        - 遥远\n        - 普通\n        correct_answer: 1\n        explanation: “亲密”表示彼此融洽关系良好，选项中的“关系好”最接近其含义。而“疏远”和“遥远”是反义词，“普通”并不表达亲密的意思。\n    - topic: 声明\n      result:\n        question: 声明（せいめい）についての文脈で、同義語を選んでください。\n        choices:\n        - 公表\n        - 発言\n        - 宣言\n        - 見解\n        correct_answer: 3\n        explanation: '\"声明\" 是指针对某事项向公众表达意见或意图。同样，“宣言”也通常用于正式表达意见或立场，因此是正确的同义词。其他选项可能不适合此文脈，容易引起混淆。'\n    - topic: そのうち\n      result:\n        question: 以下の文章の中で「そのうち」に最も近い意味を持つ語を選びなさい。\n        choices:\n        - やがて\n        - いつも\n        - すぐに\n        - たまに\n        correct_answer: 1\n        explanation: 「そのうち」的意思是“在不久的将来”或“最终”，但并没有具体的时间规定。其他选项的意思不同，“いつも”表示频率，“すぐに”表示即时性，“たまに”表示频率较低。这些都与“そのうち”的意思不同。\n    - topic: 攻める\n      result:\n        question: 以下の文中の「攻める」に最も近い意味を持つ言葉を選びなさい。\n        choices:\n        - 攻撃する\n        - 守る\n        - 支える\n        - 避ける\n        correct_answer: 1\n        explanation: 「攻める」是指对敌人或对手积极发起攻击或战斗。在选项中，“守る”、“支える”、“避ける”分别具有相反或不相关的意义，因此正确答案是“攻撃する”。\n    - topic: 関連\n      result:\n        question: 以下的句子中，“関連”与哪个词意义相似？\n        explanation: 在中文中，“関連”和“関係”都表示事物之间的联系，但“関連”更强调一般性的联系，而“関係”则可以表示直接的、具体的联系。因此，这两个词在使用时需注意语境的区别。本题的干扰选项如“つながり”和“状況”也可能让考生混淆，因为它们在某些场合下也与“関連”有一定的关联性，但并非完全同义。\n        correct_answer: 1\n        choices:\n        - 関係\n        - つながり\n        - 結果\n        - 状況\n  - subsection_title: Word usage (word_usage)\n    description: 5 questions assessing the correct usage of words.\n    question_topics:\n    - topic: バイオリン\n      result:\n        question: 选择以下选项中与小提琴相关的最恰当的描述。\n        explanation: 小提琴是一种弦乐器，通过使用弓摩擦琴弦来发出声音。选项1是关于吉他的描述，而选项3和选项4与小提琴的特性不同。\n        correct_answer: 2\n        choices:\n        - 小提琴有六根弦，并且像吉他一样有品柱。\n        - 小提琴是一种弦乐器，通过弓摩擦弦来发出声音。\n        - 小提琴是一种打击乐器，通过手敲击发出声音。\n        - 小提琴是一种键盘乐器，通过按键盘发出声音。\n    - topic: 芝居\n      result:\n        question: 芝居\n        explanation: 芝居在日语中有多种意思，包括演戏、表演以及为了欺骗他人而做的计划性表演。在这里，最贴合题目语境的是“自然的表演让观众感动”，因为它体现了芝居作为演技的主要含义。其他选项中提到的芝生（草坪）或欺骗性行为不符合芝居的常规用法。\n        correct_answer: 3\n        choices:\n        - 子供たちは芝居をして遊びながら、想像力を育てています。\n        - 芝居の中で、主人公が芝生の上に座っている場面が印象的でした。\n        - 彼の芝居はとても自然で、観客を感動させました。\n        - 昨日の芝居は、観客を騙すための計画的な作り事だった。\n    - topic: 整理\n      result:\n        question: 整理\n        explanation: '\"整理\"指的是将混乱的状态整顿好，或者处理掉不需要的东西。选项1正确地体现了\"整理\"的用法。其他选项要么与\"整理\"的意思不符，要么包含矛盾内容。'\n        correct_answer: 1\n        choices:\n        - 部屋が汚れているので、整理してきれいにしました。\n        - 書類を整理して、机の上に広げたままにしておきました。\n        - 整理したおかげで、机の上がさらに散らかりました。\n        - 整理のために、必要なものを捨てずに全部取っておきました。\n    - topic: 特別な日の計画について話す\n      result: 'Error after 2 attempts: Node `online_search` already present.'\n    - topic: プラス\n      result:\n        question: 次の文の中で、最も適切な「プラス」の意味が使われている文を選んでください。\n        explanation: 「プラス」指的是事情朝着积极方向发展或者具有附加价值。选项1在意义上成立，但语法上更自然的表达是“プラスになる”。选项3和选项4中的“プラス”含义不适合上下文。\n        correct_answer: 2\n        choices:\n        - この新しいシステムを導入したことで、作業効率がプラスになりました。\n        - 彼の意見はプラスの方向に働き、会議はスムーズに進みました。\n        - 今日のランチはプラスの味がして、とても美味しかったです。\n        - プラスの電池を使うと、機械が壊れることがあります。\n  - subsection_title: Grammar fill in the blank (sentence_grammar)\n    description: 13 questions requiring the test-taker to fill in blanks with appropriate\n      grammar.\n    question_topics:\n    - topic: 延期\n      result:\n        question: 今日的会议由于安排原因推迟到下周。\n        explanation: 主语是“会议”，因此需要被动语态“延期されました”来表达会议被推迟到下周的状态。主要难点在于区分主动与被动语态。\n        correct_answer: 2\n        choices:\n        - 延期しました\n        - 延期されました\n        - 延期させました\n        - 延期していました\n    - topic: 泳ぎ\n      result:\n        question: 夏休みに、友達と川に（　　　）に行きました。私は（　　　）が得意ではないですが、とても楽しかったです。\n        explanation: 第一空需要填入一个名词，表示“去游泳”，所以选择“泳ぎ”。第二空也需要一个名词，“泳ぎ”表示游泳技巧或能力，符合句意。其他选项中，“泳ぐ”是动词形式，不适合用在这里；“泳ぎ方”表示游泳方式，与句意不符；“泳ぎる”是错误的表达，日语中没有这个形式。主要难点在于区分“泳ぎ”（名词）和“泳ぐ”（动词），以及理解句子整体语境。\n        correct_answer: 1\n        choices:\n        - 泳ぎ\n        - 泳ぐ\n        - 泳ぎ方\n        - 泳ぎる\n    - topic: 会計\n      result:\n        question: 店员：「お会计はレジで（　）ください。」\n        explanation: 这句话中，适合的表达是请求对方完成某事，因此选项1「済ませて」是正确的。\n        correct_answer: 1\n        choices:\n        - 済ませて\n        - 済んで\n        - 済ませる\n        - 済まない\n    - topic: 変化\n      result:\n        question: 最近の気候の（　）は、地球温暖化の影響だと言われています。\n        choices:\n        - 変化\n        - 変更\n        - 変容\n        - 変動\n        correct_answer: 1\n        explanation: 在这个句子中，“気候の変化”是指气候状态的变化，符合“変化”的定义，即“物事的状态或性质发生变化”。其他选项如“変更”通常指人为的改变，“変容”强调形态上的变化，而“変動”则更偏向于波动或不稳定。对学习者来说，区分这些近义词的使用场景是主要难点。\n    - topic: 罰する\n      result:\n        question: 政府は、環境を汚染する企業を厳しく（　　　）べきだ。\n        choices:\n        - 罰する\n        - 罰して\n        - 罰される\n        - 罰しよう\n        correct_answer: 1\n        explanation: 句子中的「べきだ」表示一种义务或建议，因此动词需要使用原形。选项「罰する」符合语法要求，表示政府应该惩罚污染环境的企业。其他选项如「罰して」是动词的连用形，不符合语境；「罰される」是被动形，不符合主语为政府的主动行为；「罰しよう」是意志形，也不符合句子的语气。\n    - topic: 海外旅行の体験を話す\n      result: 'Error after 2 attempts: Node `online_search` already present.'\n    - topic: 映す\n      result:\n        question: 次の文の（　）に最も適切な言葉を入れなさい。\n        explanation: 1. 「映す」用于将姿态通过反射或投影展现在镜子或其他表面上。2. 「映って」表示自然地反射或显现。3. 「映して」可以表示抽象意义上的反映，例如社会现状或思想。\n        correct_answer: 2\n        choices:\n        - 写す\n        - 映す\n        - 描く\n        - 見る\n    - topic: 載せる\n      result:\n        question: 今回の記事、どのページに（　）予定ですか。\n        explanation: 「載せる」是用于将物体放在某个位置或刊登在出版物上，而「乗せる」通常用于人或物登上交通工具。在这里，讨论的是将文章刊登在报纸上，因此正确答案是「載せる」。主要挑战在于区分「載せる」和「乗せる」的使用场景，需通过语境判断。\n        correct_answer: 1\n        choices:\n        - 載せる\n        - 乗せる\n        - 載っている\n        - 乗っている\n    - topic: 単語\n      result:\n        question: この文には難しい（　）が含まれているので、辞書を使って調べてください。\n        explanation: 本题中，“难しい単語”自然地嵌入到句子中，因此正确选项是“単語”。其他选项与语境不符。主要挑战是根据上下文选择最合适的词汇。\n        correct_answer: 1\n        choices:\n        - 単語\n        - 文法\n        - 意味\n        - 言葉\n    - topic: 選考\n      result:\n        question: この会社では、応募者の書類（　）選考を行った後、面接を実施します。\n        explanation: 正确答案是“に基づいて”。它用于表示行动或决定的依据，与其他类似表达（例如“によって”或“を通じて”）的细微差别容易混淆。\n        correct_answer: 3\n        choices:\n        - によって\n        - を通じて\n        - に基づいて\n        - において\n    - topic: 対する\n      result:\n        question: ニュース番組にて：アナウンサー：「最近の経済状況（　）、政府は新しい政策を発表しました。」\n        explanation: 「に対して」用于表示针对某个对象采取行动或表达态度。这里是针对“最近的经济状况”采取政策的意思，因此选择「に対して」。主要难点在于「に対して」和「に関して」的区别。「に関して」表示“关于某事”，更偏向说明或讨论，而「に対して」更强调动作或态度的对象。\n        correct_answer: 1\n        choices:\n        - に対して\n        - に関して\n        - について\n        - に対する\n    - topic: 相変わらず\n      result:\n        question: 友人との会話にて\n        explanation: 在本题中，“相変わらず”表示“仍然和以前一样，没有变化”。因为是在回答朋友的问候，语气需要自然且符合当前对话场景，因此选用“相変わらずだよ”是最合适的。其他选项如“だったよ”或“だったね”是过去时态，不符合对话中描述现在情况的语境。主要难点是理解“相変わらず”的用法以及选择正确的时态。\n        correct_answer: 1\n        choices:\n        - 相変わらずだよ\n        - 相変わらずだったよ\n        - 相変わらずだね\n        - 相変わらずだったね\n    - topic: 考え\n      result:\n        question: 彼の意見を聞いてから、自分の（　）を述べるつもりです。\n        explanation: 在这个句子中，“考え”表示经过思考后得出的具体结论或观点。其他选项如“思い”和“気持ち”更侧重于情感，而“見解”强调个人的见解，但不一定是经过深思熟虑的结论。\n        correct_answer: 1\n        choices:\n        - 考え\n        - 思い\n        - 気持ち\n        - 見解\n  - subsection_title: Sentence sorting (sentence_sort)\n    description: 5 questions asking the test-taker to arrange sentences in the correct\n      order.\n    question_topics:\n    - topic: 時事問題について話す\n      result: 'Error after 2 attempts: Node `online_search` already present.'\n    - topic: 人生\n      result:\n        question: 山川大学では、__★_ 新入生がにアンケート調査を行っている。\n        explanation: 在这个问题中，需要选择语法上正确的词序。“大学生活に対してイメージを持っている”是自然的日语结构。需要仔细选择选项。\n        correct_answer: 1\n        choices:\n        - 1 → 3 → 4 → 2\n        - 3 → 4 → 2 → 1\n        - 4 → 1 → 3 → 2\n        - 2 → 1 → 4 → 3\n    - topic: 金額\n      result:\n        question: 次の文を完成させるために、正しい順序を選んでください。「商品の合計金額を確認してから、__★_ 支払いを行ってください。」\n        explanation: 这道题的难点在于理解“确认总金额”的自然顺序。首先应该是“总金额”，接着是确认的动作，最后是支付行为，这样句子才能完成。\n        correct_answer: 1\n        choices:\n        - 4 → 2 → 3 → 1\n        - 3 → 2 → 4 → 1\n        - 2 → 4 → 3 → 1\n        - 4 → 3 → 2 → 1\n    - topic: 高速\n      result:\n        question: 山川大学では、新入生に__★_ アンケート調査を行っている。\n        explanation: 正确的语序是“イメージに対する大学生活を持っている”。此题主要考察助词“に対する”的使用，它表示对象的关系，而“持っている”与“イメージ”搭配自然。其他选项在助词使用或语序上不符合日语表达习惯，容易引起误解。\n        correct_answer: 1\n        choices:\n        - 4 → 3 → 1 → 2\n        - 1 → 4 → 3 → 2\n        - 3 → 4 → 2 → 1\n        - 4 → 1 → 3 → 2\n    - topic: すれ違う\n      result:\n        question: 以下の文を正しい順序に並べ替えてください：彼とは最近、__★_ すれ違うことが多い。\n        explanation: 这个问题的主要挑战是理解语法的流畅性。“时间がずれて会えるはずがないままいつもすれ違う”这种顺序自然且有意义。\n        correct_answer: 3\n        choices:\n        - 1 → 2 → 3 → 4\n        - 2 → 4 → 1 → 3\n        - 4 → 1 → 3 → 2\n        - 3 → 1 → 4 → 2\n  - subsection_title: Grammar structure selection (sentence_structure)\n    description: 4-5 questions asking the test-taker to select the correct grammar\n      structure.\n    question_topics:\n    - topic: 俳優\n      result:\n        article: '### 关于演员\n\n\n          演员是指在电影、电视剧、舞台等场合进行表演的人。日本的演员通常兼具“演技能力”和“个性”，因此在各种类型的作品中都有出色表现。演员从年轻演员到资深演员类型多样，每一类都有其吸引观众的独特魅力。\n\n\n          近年来，越来越多的演员在电视连续剧、电影、广告等领域活跃。尤其是二十多岁的年轻演员，他们不仅有出色的演技，还有引人注目的外貌，因而受到女性观众的喜爱。而资深演员则以其多年积累的经验带来的深刻演技为特点。\n\n\n          演员的工作不仅仅是表演，他们还需要为角色进行大量准备。例如，根据角色需要增减体重或者学习特定技能。此外，演员还需要与导演和工作人员协作完成作品，因此沟通能力也非常重要。\n\n\n          演员通过表演为观众带来感动和欢乐。通过他们的演技，观众能够沉浸在故事的世界中，或者从中思考人生。这正是演员这一职业的魅力所在。\n\n\n          ---'\n        questions:\n        - question: 关于演员的工作，选择正确的表述。\n          explanation: 演员不仅仅是表演，他们还需要为角色进行准备，例如增减体重或学习技能。这是演员工作的一个重要部分。\n          correct_answer: 2\n          choices:\n          - 演员仅仅是表演的职业。\n          - 演员会为角色进行准备。\n          - 演员的工作是与观众直接交流。\n          - 演员与导演一起表演。\n        - question: 关于最近受到关注的演员，选择正确的选项。\n          explanation: 近年来，年轻演员因其演技和外貌受到关注，尤其受到女性观众的喜爱。\n          correct_answer: 3\n          choices:\n          - 年轻演员经验丰富。\n          - 资深演员因外貌受到关注。\n          - 年轻演员因演技和外貌受到关注。\n          - 资深演员比年轻演员更受欢迎。\n        - question: 关于演员的魅力，选择正确的选项。\n          explanation: 演员的魅力在于他们通过表演为观众带来感动和欢乐。\n          correct_answer: 3\n          choices:\n          - 演员仅仅为观众带来感动。\n          - 演员不会为观众带来欢乐。\n          - 演员为观众带来感动和欢乐。\n          - 演员是教观众人生的职业。\n        - question: 关于演员的准备工作，选择正确的选项。\n          explanation: 演员会根据角色需要学习特定技能，这是角色准备的一部分。\n          correct_answer: 1\n          choices:\n          - 演员会根据角色需要学习技能。\n          - 演员不需要准备就可以表演。\n          - 演员将准备工作交给导演。\n          - 演员仅仅是根据角色选择服装。\n    - topic: 家族について話す\n      result: 'Error after 2 attempts: Node `online_search` already present.'\n    - topic: 深まる\n      result:\n        article: '### 深まる（ふかまる）\n\n\n          「深まる」という言葉は、ある状態や感情がより一層進行したり、強まったりすることを意味します。この言葉は、季節の移り変わりや人間関係、知識、理解などの文脈でよく使われます。例えば、「秋が深まる」は季節の変化を表し、「理解が深まる」は知識や認識がより深くなることを示します。\n\n\n          また、「深まる」は自動詞であり、自然に進行する様子を表します。一方、「深める」は他動詞であり、意図的に何かを進めたり強めたりする場合に使われます。このように使い分けることで、文章のニュアンスを正確に伝えることができます。\n\n\n          例えば、「両国の関係が深まった」という表現は、自然に関係が強まったことを示します。一方、「両国の関係を深める」という表現は、意図的に関係を強化しようとする行動を意味します。\n\n\n          ### 「深まる」の例文\n\n          1. 秋が深まるにつれて、木々の葉が赤や黄色に染まっていきます。\n\n          2. 友人との絆が深まることで、より良い関係を築くことができました。\n\n          3. この本を読むことで、歴史に対する理解が深まりました。\n\n          4. 夜が深まるにつれて、街は静けさを増していきます。'\n        questions:\n        - question: 「深まる」の意味として正しいものはどれですか？\n          explanation: 「深まる」は状态或程度的进展或增强的意思。\n          correct_answer: 1\n          choices:\n          - 状态或程度的进展\n          - 状态或程度的停止\n          - 状态或程度的减少\n          - 状态或程度的不变\n        - question: 次の文の空所に入る適切な言葉を選びなさい。「秋が深まるにつれて、木々の葉が赤や黄色に（　　　）染まっていきます。」\n          explanation: 「鲜艳地」适合表达秋天树叶变色的样子。\n          correct_answer: 2\n          choices:\n          - 明亮地\n          - 鲜艳地\n          - 暗暗地\n          - 静静地\n        - question: 「両国の関係が深まった」という表現はどのような意味ですか？\n          explanation: 「深まる」表示关系自然增强，与「深める」不同，后者包含有意图的行为。\n          correct_answer: 1\n          choices:\n          - 两国关系自然增强\n          - 两国关系有意图地增强\n          - 两国关系恶化\n          - 两国关系停止\n        - question: 「深まる」と「深める」の違いとして正しいものはどれですか？\n          explanation: 「深まる」表示自然进展，「深める」表示有意图的行为，这种区别影响文章的语气。\n          correct_answer: 2\n          choices:\n          - 「深まる」是他动词，「深める」是自动词\n          - 「深まる」是自然进展，「深める」是有意图的行为\n          - 「深まる」是过去的行为，「深める」是未来的行为\n          - 「深まる」用于情感，「深める」用于物理现象\n    - topic: 言わば\n      result:\n        article: '### 「言わば」の使い方と意味について\n\n\n          「言わば（いわば）」は、日本語の副詞で、「言ってみれば」や「例えて言えば」という意味を持つ表現です。物事を説明する際に、他のよく知られているものに例えて分かりやすく伝えるために使われます。この表現は、特に書き言葉やフォーマルな場面でよく使用されます。\n\n\n          例えば、以下のような使い方があります：\n\n          - 彼は、言わば、チームの心臓のような存在だ。\n\n          - 私の母は、言わば、家族の太陽のようなものだ。\n\n\n          このように、「言わば」を使うことで、抽象的な概念や感覚を具体的なイメージに置き換え、相手に分かりやすく伝えることができます。'\n        questions:\n        - question: '以下の文章を完成させるために、適切な選択肢を選びなさい。\n\n\n            「彼は、＿＿＿、会社のエンジンのような存在だ。」'\n          explanation: '\"言わば\" 是在比喻物事时使用的表达，这句话中为了说明 \"公司发动机般的存在\" 的比喻，使用 \"言わば\" 是合适的。\"いわゆる\"\n            是在表示一般认知或称呼时使用，\"つまり\" 是在叙述总结或结论时使用，\"例えば\" 是在举具体例子时使用，但这句话中不适合。'\n          correct_answer: 1\n          choices:\n          - 言わば\n          - いわゆる\n          - つまり\n          - 例えば\n- section_title: Reading Comprehension\n  subsections:\n  - subsection_title: Short passages (short_passage_read)\n    description: 4 articles for short passage reading comprehension.\n    question_topics:\n    - topic: 店で価格を尋ねる\n      result:\n        question: 山田さんは店员さんに何を询问了？\n        explanation: 山田先生询问店员“这个三明治多少钱？”，明确是关于价格的提问。挑战点在于准确理解对话中询问价格的部分。\n        correct_answer: 2\n        choices:\n        - 咖啡的价格\n        - 三明治的价格\n        - 咖啡馆的营业时间\n        - 菜单的内容\n    - topic: 購入したい商品の説明\n      result:\n        question: 商品説明文に口コミやレビューを組み込むことで、どのような効果が期待できるか。\n        explanation: 商品说明中包含评价和评论可以让购买者了解产品的实际使用感受和评价，从而减轻不安。这是购买决策中的重要因素。\n        correct_answer: 1\n        choices:\n        - 购买者的不安被消除，满意度提高\n        - 具有降低商品价格的效果\n        - 提高商品质量\n        - 教购买者如何使用商品\n    - topic: 割引交渉\n      result:\n        question: 值引谈判中，为了维持与顾客的信任关系，重要的是什么？\n        explanation: 此问题的关键在于理解不仅要接受顾客的要求，还要考虑双方的利益进行谈判。提出值引时的交换条件是维持信任关系的重要要素。\n        correct_answer: 2\n        choices:\n        - 将值引金额最大化\n        - 提出交换条件进行对等谈判\n        - 接受顾客的所有要求\n        - 缩短合同期限\n    - topic: レストランで食べ物を注文する\n      result:\n        question: レストランで注文する際に使えるフレーズのうち、「料理が辛いかどうかを確認する」ための表現はどれですか？\n        explanation: 这个问题是为了确认菜肴的辣度而使用的。挑战的关键是理解“辣”这个词与菜肴的味道相关。\n        correct_answer: 2\n        choices:\n        - 「これは何ですか？」\n        - 「辛いですか？」\n        - 「おすすめは何ですか？」\n        - 「もう一皿お願いします。」\n  - subsection_title: Mid-size passages (midsize_passage_read)\n    description: 2 articles for mid-size passage reading comprehension.\n    question_topics:\n    - topic: 食事の好みについて話す\n      result:\n        question: 日本人が食事を楽しむ理由として適切なものはどれか。\n        explanation: 本文中提到“食物不仅仅是营养补充，更是分享文化和情感的重要元素”，因此选项1是正确答案。其他选项与本文内容不符。\n        correct_answer: 1\n        choices:\n        - 食物不仅仅是营养补充，更是分享文化和情感的元素。\n        - 禁止食用和食以外的料理。\n        - 饮食偏好与健康无关。\n        - 食物仅仅是为了营养补充。\n    - topic: 料理を褒める\n      result:\n        question: 料理を褒める際に重要なポイントは何ですか？\n        explanation: 料理を褒める際には，除了简单地说“好吃”，还需要具体地传达料理的特点和制作人的巧思，这样才能更好地表达感谢之情。\n        correct_answer: 2\n        choices:\n        - 料理の材料の値段を確認する\n        - 具体的に料理の特徴や工夫を褒める\n        - 料理を作った人の性格を褒める\n        - 料理を食べるスピードを早くする\n  - subsection_title: Long passages (long_passage_read)\n    description: 1 article for long passage reading comprehension.\n    question_topics:\n    - topic: 道を尋ねる\n      result:\n        article: '道を尋ねることは、知らない場所で迷ったときに役立つ技術です。\n\n\n          まずは「すみません」と声をかけて、相手の注意を引きます。\n\n\n          その後、「〇〇はどこですか？」という質問を使うと良いでしょう。\n\n\n          例えば、「駅はどこですか？」や「図書館はどこですか？」などです。\n\n\n          目的地が近くにある場合は、「まっすぐ行って右です」など具体的な説明を受けやすくなります。\n\n\n          地図を持っている場合は、「この地図で〇〇はどこですか？」と聞くと便利です。\n\n\n          また、ジェスチャーを使うと、さらに分かりやすくなるでしょう。\n\n\n          道を尋ねる際は、相手に感謝の気持ちを伝えることも重要です。\n\n\n          「ありがとうございます」と言うことで、良い印象を与えます。\n\n\n          道を尋ねる技術を身につけると、旅先での不安が軽減されます。\n\n\n          ぜひ、勇気を持って道を尋ねてみてください。'\n        questions:\n        - question: 道を尋ねるとき、最初に使うべき言葉は何ですか？\n          choices:\n          - 「こんにちは」\n          - 「すみません」\n          - 「ありがとう」\n          - 「どうぞよろしく」\n          correct_answer: 2\n          explanation: 道を尋ねる際，吸引对方注意力的基本用语是“すみません”。\n        - question: 地図を使って道を尋ねる際に便利なフレーズは何ですか？\n          choices:\n          - 「この地図で〇〇はどこですか？」\n          - 「ここからどこに行けばいいですか？」\n          - 「地図を見せてもらえますか？」\n          - 「地図を持っていますか？」\n          correct_answer: 1\n          explanation: 使用地图时，明确指示具体地点可以让对方更容易理解。\n        - question: 道を尋ねた後、相手に伝えるべきことは何ですか？\n          choices:\n          - 「また会いましょう」\n          - 「すみません」\n          - 「ありがとうございます」\n          - 「さようなら」\n          correct_answer: 3\n          explanation: 表达感谢之情可以给对方留下好印象，并促进顺畅的交流。\n  - subsection_title: Information retrieval (info_retrieval)\n    description: 1 article requiring test-takers to retrieve specific information.\n    question_topics:\n    - topic: 交通手段について話す\n      result:\n        article: '### 交通手段について話す: 活動案内\n\n\n          以下は交通手段に関連する情報を含む活動案内です。これを読んで、質問に答えてください。\n\n\n          #### 活動案内表\n\n          | 活動名         | 日時               | 場所/内容                              |\n          条件                          |\n\n          |----------------|-------------------|---------------------------------------|------------------------------|\n\n          | 自転車ツアー   | 毎月第1土曜日9:00-12:00 | 市内の観光地を自転車で巡るツアー。   | 自転車を持参すること。        |\n\n          | バス遠足       | 毎月第2日曜日10:00-16:00 | 郊外の公園でピクニックを楽しむ遠足。 | 昼食を持参すること。          |\n\n          | 電車体験       | 毎月第3土曜日13:00-16:00 | 電車の運転体験を行うイベント。       | 事前予約が必要。              |\n\n          | 徒歩ガイドツアー | 毎週水曜日10:00-12:00   | 歴史的な街並みを徒歩で巡るツアー。   | 動きやすい服装で参加すること。\n          |\n\n\n          #### 応募方法\n\n          - **対象者**: 市内在住または在勤者。\n\n          - **応募方法**: 事前に電話で予約し、参加当日に受付で登録。\n\n          - **注意事項**: 参加費は無料。ただし、自転車ツアーとバス遠足では持参物が必要です。'\n        questions:\n        - question: 次の交通手段に関する活動の中で、持参物が必要なものはどれですか？\n          explanation: 自転車ツアーでは自転車を持参する必要があり、バス遠足では昼食が必要です。\n          correct_answer: 3\n          choices:\n          - 自転車ツアーと徒歩ガイドツアー\n          - 徒歩ガイドツアーと電車体験\n          - 自転車ツアーとバス遠足\n          - 電車体験とバス遠足\n        - question: 電車体験に参加するために必要な条件はどれですか？\n          explanation: 電車体験は事前予約が必要という条件が記載されています。\n          correct_answer: 4\n          choices:\n          - 動きやすい服装で参加すること\n          - 昼食を持参すること\n          - 自転車を持参すること\n          - 事前予約が必要\n- section_title: Listening Comprehension\n  subsections:\n  - subsection_title: Topic understanding (topic_understanding)\n    description: 6 questions assessing understanding of spoken topics.\n    question_topics:\n    - topic: 交通状況について話す\n      result:\n        questions:\n          question: 男の人はこの後何をしますか。\n          explanation: 这个问题的难点在于需要从对话内容中推测具体行动。特别是需要准确听取关于方向的信息。\n          correct_answer: 1\n          choices:\n          - 交差点で右折する\n          - 交差点で左折する\n          - 直進する\n          - 駐車場を探す\n        conversation:\n        - gender: male\n          context: 最近、交通事故が増えているってニュースで見たけど、原因は何だろうね。\n        - gender: female\n          context: そうね。ドライバーの不注意やスピードの出しすぎが多いみたいよ。特に交差点での事故が増えているって聞いたわ。\n        - gender: male\n          context: そうか。交差点では注意が必要だね。ところで、次の信号を右に曲がるんだよね？\n        - gender: female\n          context: うん、そう。右折してから数百メートル進むと目的地の駐車場があるはずよ。\n        - gender: male\n          context: わかった。安全運転で行くよ。\n    - topic: タクシーを予約する\n      result:\n        questions:\n          question: 男の人はこの後、何をしますか。\n          explanation: 这个问题的难点在于理解男士决定使用应用程序，但尚未到预约阶段。\n          correct_answer: 2\n          choices:\n          - タクシー会社に電話をする\n          - タクシー配車アプリをダウンロードする\n          - タクシー乗り場に行く\n          - アプリを使ってタクシーを呼ぶ\n        conversation:\n        - gender: male\n          context: タクシーを予約したいんですが、どうすればいいですか？\n        - gender: female\n          context: 予約には2つの方法があります。電話で予約するか、タクシー配車アプリ「GO」を使う方法です。\n        - gender: male\n          context: アプリを使ったことがないんですが、簡単にできますか？\n        - gender: female\n          context: はい、アプリをダウンロードして登録すればすぐに使えます。予約の際は日時と目的地を指定してください。\n        - gender: male\n          context: わかりました。アプリをダウンロードしてみます。\n    - topic: 電車の切符を買う\n      result:\n        questions:\n          question: 男の人は何をしますか。\n          explanation: 这个问题的难点在于听出选项中“咨询”和“购买”的区别。在对话中，男士表示“首先去窗口咨询一下”，所以正确答案是2。\n          correct_answer: 2\n          choices:\n          - 自動券売機で切符を買う\n          - みどりの窓口で相談する\n          - クレジットカードを作る\n          - 現金で切符を買う\n        conversation:\n        - gender: male\n          context: すみません、新幹線の切符を買いたいんですが、どこで買えますか？\n        - gender: female\n          context: こちらの自動券売機でも買えますし、みどりの窓口でも購入できます。\n        - gender: male\n          context: 自動券売機で買う場合、クレジットカードは使えますか？\n        - gender: female\n          context: はい、使えます。ただ、1回払いのみとなっています。\n        - gender: male\n          context: なるほど。では、みどりの窓口では現金とクレジットカード、どちらでも大丈夫ですか？\n        - gender: female\n          context: はい、どちらでも対応しています。\n        - gender: male\n          context: ありがとうございます。では、まず窓口で相談してみます。\n    - topic: バスの時刻表を尋ねる\n      result:\n        questions:\n          question: 男の人はこの後、何をしますか。\n          explanation: 为了选择正确答案，需要准确理解对话内容。男的对‘在咖啡馆等待’的建议回答‘那么，就这样做吧’。\n          correct_answer: 2\n          choices:\n          - バス停で待つ\n          - カフェで待つ\n          - 時刻表を確認する\n          - 別のバス停に行く\n        conversation:\n        - gender: male\n          context: すみません、このバス停から次のバスは何時に来ますか？\n        - gender: female\n          context: ええと、時刻表によると、次は10時15分ですね。\n        - gender: male\n          context: そうですか。10時15分まで少し時間がありますね。\n        - gender: female\n          context: そうですね。バス停の近くにカフェがありますよ。もしよければ、そこで待つのもいいかもしれません。\n        - gender: male\n          context: ありがとうございます。では、そうします。\n    - topic: 通勤について説明する\n      result:\n        questions:\n          question: 男の人はこの後何をしますか。\n          explanation: 这个问题的重点在于男士在听了课长的说明后会采取的具体行动。“领取申请表”这一行动已经明确展示，因此正确答案是选项3。\n          correct_answer: 3\n          choices:\n          - 課長に再度質問する\n          - 自転車で通勤する\n          - 総務課に申請書を受け取りに行く\n          - 通勤経路を変更する\n        conversation:\n        - gender: male\n          context: 課長、少しお時間よろしいですか。通勤手当について伺いたいのですが、どういう場合に支給されるのか教えていただけますか？\n        - gender: female\n          context: はい、もちろんです。通勤手当は、会社から自宅までの交通費を補助するものです。例えば、電車やバスを利用する場合、その定期券代が支給されます。自家用車を使う場合は距離に応じた金額が支給されます。\n        - gender: male\n          context: なるほど。では、自転車の場合はどうなりますか？\n        - gender: female\n          context: 自転車の場合も規定があります。会社に申請して認められれば、一定の金額が支給されます。ただし、通勤経路を事前に申請しておく必要があります。\n        - gender: male\n          context: 分かりました。申請書はどこで手に入れられますか？\n        - gender: female\n          context: 総務課に行けばもらえますよ。\n        - gender: male\n          context: ありがとうございます。それでは、総務課に行って申請書を受け取ります。\n    - topic: 天気の状況について話す\n      result:\n        questions:\n          question: 男の人はこの後何をしますか。\n          explanation: 男的明确表示他计划去湖边租船，因此正确答案是选项2。选项3提到的“等待”可能是在租船后进行的活动。\n          correct_answer: 2\n          choices:\n          - 花坛を回る\n          - ボートを借りに行く\n          - 女の人を待つ\n          - 散歩を続ける\n        conversation:\n        - gender: male\n          context: 今日は本当にいい天気ですね。\n        - gender: female\n          context: ええ、青空が広がっていて、気温もちょうどいいです。散歩するには最高の日ですね。\n        - gender: male\n          context: そうですね。ところで、私はこれから湖のほうに行ってボートを借りる予定なんですが、一緒にどうですか？\n        - gender: female\n          context: いいですね！でもその前に、ちょっとお花を見たいので、園内の花壇を少し回ってから行きます。\n        - gender: male\n          context: わかりました。私は湖のほうで待っていますね。\n  - subsection_title: Key understanding (keypoint_understanding)\n    description: 6 questions assessing understanding of key points in spoken passages.\n    question_topics:\n    - topic: 週末の予定について話す\n      result:\n        questions:\n          question: 男の人は週末に何をする予定ですか。\n          explanation: 对话中男方明确提到周日会和朋友一起去爬山，而周六是打算在家休息。考生需要注意区分两天的活动安排，避免混淆。\n          correct_answer: 4\n          choices:\n          - 土曜日にハイキングに行く\n          - 日曜日に友達と映画を見る\n          - 土曜日に家で休む\n          - 日曜日に山に登る\n        conversation:\n        - gender: female\n          context: 週末の予定はもう決まった？\n        - gender: male\n          context: うん、土曜日は家でのんびりしようと思ってる。最近忙しかったからね。\n        - gender: female\n          context: そうなんだ。じゃあ、日曜日は？\n        - gender: male\n          context: 日曜日はハイキングに行く予定だよ。友達と一緒に山に登るんだ。\n        - gender: female\n          context: いいね！気候も良さそうだし、楽しんできてね。\n    - topic: おすすめを尋ねる\n      result:\n        questions:\n          question: 男の人は何をおすすめしていますか。\n          explanation: 男性明确表示“公園が一番オススメだよ”，并强调公园比河边更受欢迎。主要难点在于理解男性在对比两个地点时的推荐重点。\n          correct_answer: 1\n          choices:\n          - 公園でジョギングをすること\n          - 音楽を聴きながら運動すること\n          - 川沿いでジョギングをすること\n          - 短い距離からジョギングを始めること\n        conversation:\n        - gender: female\n          context: 最近、運動不足で困ってるんだけど、何かいい方法ないかな？\n        - gender: male\n          context: それなら、ジョギングを始めてみるのはどう？僕も最近始めたんだけど、気分転換にもなるし、健康にもいいよ。\n        - gender: female\n          context: そうなんだ。ジョギングって、どこでやるのがいいの？\n        - gender: male\n          context: 公園が一番オススメだよ。自然を感じながら走れるし、すごくリフレッシュできるんだ。川沿いもいいけど、公園のほうが人気があると思うよ。\n        - gender: female\n          context: なるほどね。でも、続けられるか心配だなぁ。\n        - gender: male\n          context: 最初は無理せず、短い距離から始めるといいよ。それに、音楽を聴きながら走ると楽しさもアップすると思う。\n        - gender: female\n          context: ありがとう。ちょっとやってみようかな。\n    - topic: ショッピング体験を説明する\n      result:\n        questions:\n          question: ショッピング体験とは何を指しますか。\n          explanation: 购物体验是指在购买商品时所获得的一系列体验，例如店内的氛围、接待方式以及商品的展示方式等。\n          correct_answer: 1\n          choices:\n          - 商品を購入する際の一連の体験\n          - 商品の製造過程\n          - 店員の制服のデザイン\n          - 商品の価格設定\n        conversation:\n        - gender: male\n          context: 最近、ショッピング体験ってよく聞くけど、具体的には何のことを言うの？\n        - gender: female\n          context: ショッピング体験は、商品を購入する際に得られる一連の体験を指しているのよ。例えば、店内の雰囲気や接客の仕方、商品の見せ方なんかが含まれるわ。\n        - gender: male\n          context: なるほど。実店舗だけじゃなくて、オンラインショップでも関係あるの？\n        - gender: female\n          context: そうね。オンラインでも、使いやすいウェブサイトや便利な支払い方法が提供されることもショッピング体験の一部よ。最近では、仮想試着室や360度VRショッピングなんかも人気よね。\n        - gender: male\n          context: 面白いね。そういう体験が良いと、またそのお店で買いたくなるってことだよね？\n        - gender: female\n          context: その通り！ショッピング体験が良ければ、顧客満足度が上がって、リピート客も増えるのよ。\n    - topic: 支払い方法について話す\n      result:\n        questions:\n          question: 男の人はどの支払い方法を選びましたか。\n          explanation: 对话中明确提到男方选择了用信用卡支付，因为信用卡既能积累积分，又能在发生问题时提供保险。主要难点在于考生需要理解对话中关于支付方式的优缺点讨论，并准确提取信息。\n          correct_answer: 2\n          choices:\n          - 現金\n          - クレジットカード\n          - デビットカード\n          - スマホ決済\n        conversation:\n        - gender: female\n          context: 田中さん、今度の旅行の支払い方法、もう決めた？\n        - gender: male\n          context: うん、いろいろ考えたんだけど、クレジットカードで支払うことにしたよ。\n        - gender: female\n          context: そうなんだ。現金で払うのもいいけど、クレジットカードならポイントも貯まるし便利だよね。\n        - gender: male\n          context: そうそう。それに、カードなら万一何かトラブルがあった時にも、保険が効くから安心だし。\n        - gender: female\n          context: 確かにね。だけど使いすぎには注意しないとね。\n        - gender: male\n          context: もちろん。ちゃんと計画的に使うよ。\n    - topic: 領収書を求める\n      result:\n        questions:\n          question: 男性はなぜ領収書を求めていますか？\n          explanation: 本题的主要难点在于听力中提到“会社で経費精算をするため”，需要理解这一表达与选项的对应关系。\n          correct_answer: 1\n          choices:\n          - 会社で経費精算をするため\n          - 税金を支払うため\n          - 商品の交換をするため\n          - 領収書をコレクションするため\n        conversation:\n        - gender: male\n          context: すみません、領収書をいただけますか？\n        - gender: female\n          context: もちろんです。領収書はどういった用途で必要ですか？\n        - gender: male\n          context: 会社で経費精算をするためです。今回の出張で使った費用を報告する必要があるんです。\n        - gender: female\n          context: なるほど、承知しました。会社名を記載する必要はありますか？\n        - gender: male\n          context: はい、会社名「東京商事」を記載してください。あと、金額は税込でお願いします。\n        - gender: female\n          context: かしこまりました。こちらが領収書です。ご確認ください。\n        - gender: male\n          context: ありがとうございます。これで報告がスムーズに進められます。\n    - topic: お気に入りのレストランについて話す\n      result:\n        questions:\n          question: 男の人はお気に入りのレストランについてどう思っていますか。\n          explanation: 男性认为这家餐厅的料理质量高，店内氛围优雅，并且价格合理，性价比非常高。因此，选项中\"コストパフォーマンスが良い\"是正确的。\n          correct_answer: 4\n          choices:\n          - 料理がまずいと思っている\n          - 雰囲気が悪いと思っている\n          - 値段が高すぎると思っている\n          - コストパフォーマンスが良いと思っている\n        conversation:\n        - gender: female\n          context: 田中さん、最近新しいレストランに行ったんだって？どうだった？\n        - gender: male\n          context: はい、すごく良かったです。「風の丘」というイタリアンレストランなんですが、料理がとてもおいしくて、特にピザが最高でした。\n        - gender: female\n          context: へえ、ピザがそんなにおいしいんだ。どんな特徴があるの？\n        - gender: male\n          context: 生地が薄くて、焼き方が独特なんです。香ばしくて、素材の味が引き立っていました。それに、店内の雰囲気もすごくおしゃれで、落ち着いて食事が楽しめるんです。\n        - gender: female\n          context: いいね。値段はどう？高そうだけど。\n        - gender: male\n          context: そこがまたいいんです。値段も手頃で、コストパフォーマンスが素晴らしいんですよ。友達と行くのにもぴったりです。\n  - subsection_title: Summary understanding (summary_understanding)\n    description: 3 questions assessing summary understanding of spoken passages.\n    question_topics:\n    - topic: 趣味について話す\n      result:\n        questions:\n          question: 2人は何について話していますか?\n          explanation: 对话中两人讨论了各自的兴趣爱好，主要围绕摄影和读书展开。\n          correct_answer: 2\n          choices:\n          - 写真の撮り方\n          - 趣味について\n          - 公園の風景\n          - 読書の楽しさ\n        conversation:\n        - gender: female\n          context: ねえ、田中さん、趣味って何かあるの?\n        - gender: male\n          context: 僕は写真を撮るのが好きだよ。週末はよく公園や街で撮影するんだ。\n        - gender: female\n          context: 素敵だね。どんな写真を撮るの?\n        - gender: male\n          context: 自然の風景が多いかな。桜とか紅葉とか、季節を感じられる写真が好きなんだ。\n        - gender: female\n          context: いいね。私は読書が趣味だけど、写真も興味あるな。今度教えてくれる?\n        - gender: male\n          context: もちろん！じゃあ、次の週末、一緒に撮影に行こうか。\n    - topic: 仕事のプロジェクトについて話す\n      result:\n        questions:\n          question: 男性は次に何をする予定ですか?\n          explanation: 男性在对话中提到他需要更加具体地准备演示内容，因此他的下一个任务是具体化演示内容。其他选项要么已经进行中，要么是后续计划。\n          correct_answer: 2\n          choices:\n          - 資料を整理する\n          - プレゼン内容を具体的にする\n          - スケジュールを確認する\n          - 会議で意見を共有する\n        conversation:\n        - gender: female\n          context: 次のプロジェクト、来週から始まるんだよね。準備はどう?\n        - gender: male\n          context: うん、資料はほぼ整理できたよ。ただ、プレゼンの内容をもう少し具体的にしないといけないと思ってる。\n        - gender: female\n          context: プレゼンは重要だよね。クライアントにしっかり伝わるようにしないと。\n        - gender: male\n          context: そうだね。あと、進行のスケジュールも確認しないと。みんなの意見をまとめるのがちょっと大変そうだけど。\n        - gender: female\n          context: 私も手伝うよ。まずは、今週中に全員の意見を集めて、来週の会議で共有するっていうのはどう?\n        - gender: male\n          context: いいね。それで進めよう。ありがとう、助かるよ。\n    - topic: 家族について話す\n      result:\n        questions:\n          question: 2人は何について話していますか?\n          explanation: 在这段对话中，男留学生介绍了自己的家族构成。虽然他提到了弟弟和妹妹的兴趣爱好，但主要话题是家族构成。因此，选择3是最适合的答案。\n          correct_answer: 3\n          choices:\n          - 家族の趣味について\n          - 家族の住んでいる場所\n          - 家族構成について\n          - 家族の仕事について\n        conversation:\n        - gender: female\n          context: あなたの家族はどんな人たちなの?\n        - gender: male\n          context: 僕の家族は5人で、父、母、弟、妹、それから僕だよ。\n        - gender: female\n          context: へえ、弟さんと妹さんもいるんだね。弟さんはどんな人?\n        - gender: male\n          context: 弟は大学生で、スポーツが好きなんだ。サッカー部に入っていて、毎週試合をしているよ。\n        - gender: female\n          context: すごいね。妹さんは?\n        - gender: male\n          context: 妹は高校生で、絵を描くのが好きなんだ。美術部に入っていて、よく家で絵を描いてるよ。\n        - gender: female\n          context: それぞれ違う趣味があるんだね。楽しそうな家族だね。\n  - subsection_title: Active expression (active_expression)\n    description: 4 questions requiring active spoken responses.\n    question_topics:\n    - topic: 旅行の計画について話す\n      result:\n        image_background: 写真では、二人の男女がリビングで旅行の計画について話している様子が描かれています。机の上には地図や旅行パンフレットが広げられており、男性が指をさして何かを提案しているようです。女性はスマートフォンを持ちながら、笑顔で話を聞いています。\n        questions:\n          question: この会話の後、男性が次に提案するのは何ですか？\n          explanation: 女性说她希望进行更加活跃的旅行，因此男性很可能会建议适合这种需求的山梨地区进行徒步旅行。关键点在于准确理解女性的需求。\n          correct_answer: 2\n          choices:\n          - 温泉旅行の計画を進める\n          - 山梨でハイキングをする計画を立てる\n          - 沖縄の観光スポットを調べる\n        conversation:\n        - gender: male\n          context: 今度の休み、旅行に行こうと思うんだけど、どこがいいかな？\n        - gender: female\n          context: いいね！私は海が好きだから、海の近くの場所がいいかな。\n        - gender: male\n          context: なるほど。じゃあ、沖縄はどう？きれいな海もあるし、観光スポットもたくさんあるよ。\n        - gender: female\n          context: 沖縄かぁ、いいね。でも、飛行機の料金が高くないかな？\n        - gender: male\n          context: 確かに。それなら、近場で温泉旅行もいいかもしれないね。リラックスできるし、美味しい料理も楽しめるよ。\n        - gender: female\n          context: 温泉もいいね。でも、私はちょっとアクティブな旅行がしたいかも。ハイキングとか、自然を楽しむ感じの。\n        - gender: male\n          context: それなら、山梨とかはどう？富士山もあるし、ハイキングコースも充実してるよ。\n    - topic: 最近の映画について話す\n      result:\n        image_background: A park bench with two friends sitting and talking.\n        questions:\n          question: 女の人は次に何をすると思いますか？\n          explanation: 这个问题的关键是，女性对电影感兴趣但尚未观看。从她说“今度一緒に行こうよ”可以推测，她可能会先观看电影预告片以了解电影内容。\n          correct_answer: 3\n          choices:\n          - 映画のチケットを買う\n          - 映画のレビューを読む\n          - 映画の予告編を観る\n        conversation:\n        - gender: male\n          context: 最近、映画館で新しい映画を観たんだ。\n        - gender: female\n          context: へぇ！どんな映画だったの？\n        - gender: male\n          context: SF映画で、地球を救うために宇宙へ行く話なんだ。ストーリーもすごく面白かったし、映像もとてもきれいだったよ。\n        - gender: female\n          context: それはいいね！主演は誰？\n        - gender: male\n          context: あの人気俳優、山田さんだよ。彼の演技がとても良かった。\n        - gender: female\n          context: 山田さんかぁ。私もその映画観たいな。今度一緒に行こうよ。\n    - topic: 本について話す\n      result:\n        image_background: library\n        questions:\n          question: 女の人は何について話していますか？\n          explanation: 她在谈论一本关于历史的书籍，内容涉及不同国家的文化和传统。\n          correct_answer: 1\n          choices:\n          - 历史相关的书\n          - 恋爱小说\n          - 烹饪食谱书\n          - 科学书\n        conversation:\n        - gender: male\n          context: 最近，读了什么有趣的书？\n        - gender: female\n          context: 是的，上周读了一本非常好的书。\n        - gender: male\n          context: 什么样的书？\n        - gender: female\n          context: 是关于历史的书。书中详细描述了不同国家的文化和传统，读起来很有学习价值。\n        - gender: male\n          context: 哦，听起来很有趣。我也想读读看。\n        - gender: female\n          context: 一定要读读看。而且，作者独特的观点也非常吸引人。\n    - topic: スポーツについて話す\n      result:\n        image_background: '背景: 公园里朋友之间正在谈话。照片中有一个男人正在踢足球。'\n        questions:\n          question: 箭头指向的男人接下来会说什么？\n          explanation: 男士正在谈论比赛的相关内容，接下来提到比赛结束后的计划是最自然的。\n          correct_answer: 1\n          choices:\n          - 今天比赛结束后，我打算和队友一起去吃饭。\n          - 最近，我觉得记住足球规则有点困难。\n          - 为了比赛，我想要增强体力。\n        conversation:\n        - gender: male\n          context: 最近，我特别喜欢踢足球。\n        - gender: female\n          context: 是吗！你每周练习多久呢？\n        - gender: male\n          context: 周末一定会练习，平时如果有时间也会练习。今天有比赛，所以有点紧张。\n        - gender: female\n          context: 比赛啊。加油！你是哪个位置呢？\n        - gender: male\n          context: 我是前锋。负责得分，虽然有压力，但很有成就感。\n  - subsection_title: Immediate acknowledgment (immediate_ack)\n    description: 9 questions requiring immediate acknowledgment of spoken prompts.\n    question_topics:\n    - topic: 健康とフィットネスについて話す\n      result:\n        question: 问题5\n        explanation: 挑战在于听到建议并理解其含义。\n        suggestion: 选择合适的回答以匹配对话内容。\n        conversation:\n        - gender: female\n          context: 最近、運動をする時間がなくて、体が重い感じがするの。\n        - gender: male\n          context: それは大変だね。週に3回くらいウォーキングを始めてみたらどう?\n        - gender: female\n          context: そうだね。まずは歩くことから始めてみるよ。\n    - topic: 技術について話す\n      result:\n        question: 女の人は会議で何を話す予定ですか?\n        explanation: 问题的难点在于听者需要明确对话内容中的关键词“技術の効果”并理解其与会议内容的关系。简洁的表达容易误导考生选择其他选项。\n        suggestion: 根据对话内容，女方明确表示她将在会议上讨论技术的效果，因此正确答案是选项1。\n        conversation:\n        - gender: male\n          context: 来週の会議では、新しい技術について話す予定です。準備は進んでいますか?\n        - gender: female\n          context: はい、資料をまとめています。技術の効果についても話すつもりです。\n        - gender: male\n          context: それはいいですね。具体的な例を挙げると、もっとわかりやすくなると思います。\n    - topic: 時事問題について話す\n      result:\n        question: 问题10\n        explanation: 1. 关于日元贬值，应理解其对生活的影响，并考虑国家整体的应对措施。2. 在AI技术的发展中，应关注效率化和存在的课题两方面。3.\n          环境问题需要从长期视角逐步推进。\n        suggestion: 1. 如果缺乏时事问题相关词汇，可能会难以理解选项。2. 对新闻的关注度较低时，选择正确选项可能会变得困难。3. 需要有捕捉对话细微语气的能力。\n        conversation:\n        - gender: female\n          context: 最近、ニュースで話題になっている円安についてどう思いますか?\n        - gender: male\n          context: 確かに、輸入品の価格が上がって生活に影響が出ていますよね。\n        - gender: female\n          context: そうですね。これからどう対応すべきか、国全体で考える必要がありますね。\n    - topic: 音楽について話す\n      result:\n        question: 問題5\n        explanation: 第一题的挑战在于听懂推荐曲目，并选择正确的回答。第二题需要理解对方的感受并做出积极回应。第三题涉及兴趣爱好，需要选择与“弹钢琴”相关的答案。第四题考察对天气和计划的理解，选项1表达了可能性和希望。\n        suggestion: 选择答案时要注意对话的情境和内容，理解对方的意思后选择最适合的回答。\n        conversation:\n        - gender: female\n          context: 最近、どんな音楽を聴いてるの?\n        - gender: male\n          context: ジャズかな。落ち着くからね。\n        - gender: female\n          context: いいね。おすすめの曲はある?\n        - gender: male\n          context: 「Autumn Leaves」がいいよ\n        - gender: male\n          context: 昨日、ライブに行ったんだけど、すごくよかったよ。\n        - gender: female\n          context: どんなライブだったの?\n        - gender: male\n          context: ギターの演奏が中心で、感動したよ。\n        - gender: female\n          context: 楽しそうだね。行ってみたいな\n        - gender: male\n          context: 新しいピアノを買ったんだ。すごく音がきれいだよ。\n        - gender: female\n          context: ピアノ、弾けるの?\n        - gender: male\n          context: うん、趣味でね。\n        - gender: female\n          context: すごいね。どんな曲を弾くの?\n        - gender: female\n          context: 来週、音楽フェスがあるって聞いたんだけど、行くの?\n        - gender: male\n          context: まだ迷ってるんだ。天気が悪そうでね。\n        - gender: female\n          context: 晴れるといいね。\n        - gender: male\n          context: そうだね。行くかもしれない\n    - topic: 芸術と文化について話す\n      result:\n        question: 問題5\n        explanation: '**1番:** 在给出的选项中，“去历史博物馆”是最自然的建议。 **2番:** 对于对茶道感兴趣的对话内容，提出去茶道教室的建议是适当的。\n          **3番:** 表示对濑户内国际艺术节感兴趣，并提出一起去的建议最符合对话的流向。'\n        suggestion: 通过选择适当的选项，可以更好地理解和参与对话的情境。\n        conversation:\n        - gender: female\n          context: 昨日の美術館、とても面白かったね。特に日本の伝統的な絵画が印象的だったよ。\n        - gender: male\n          context: うん、芸術を通じて文化を学ぶのは本当に楽しいね。次はどこに行く?\n        - gender: male\n          context: 日本の芸術と文化は本当に奥深いね。特に茶道や書道には興味があるんだ。\n        - gender: female\n          context: わかる。茶道はただのお茶を飲むだけじゃなくて、精神を磨く場でもあるよね。\n        - gender: female\n          context: 最近、瀬戸内国際芸術祭の情報を見たけど、すごく楽しそうだね。行ってみたいな。\n        - gender: male\n          context: そうだね。地域の文化や芸術を体験できるイベントは魅力的だよね。\n    - topic: 教育について話す\n      result:\n        question: 問題1\n        explanation: 问题1的正确选项是2，因为它准确地反映了对话中提到的内容。问题2的正确选项是3，问题3的正确选项是1。\n        suggestion: 可以通过增加选项中的微妙差异来提高问题的难度，同时扩展对话内容以包含更多条件句或对比内容。\n        conversation:\n        - gender: male\n          context: 教育相談では、どんなことが話されますか?\n        - gender: female\n          context: 主に学習面や生活面について話します。\n        - gender: male\n          context: そうですか。相談内容が幅広いんですね。\n    - topic: キャリア目標について話す\n      result:\n        question: 男性は将来どのような仕事を目指していますか?\n        explanation: 男性明确表示希望将来作为项目经理领导团队，因此正确答案是选项2。解答此类问题时，需注意对具体职业名称或目标的倾听。\n        suggestion: 仔细聆听对话内容，尤其是有关职业目标的具体描述，可以帮助更好地理解问题并选择正确答案。\n        conversation:\n        - gender: male\n          context: 最近、キャリアについて考えているんだけど、将来はもっと責任ある仕事をしたいと思っているんだ。\n        - gender: female\n          context: いい目標だね。具体的にはどういう仕事を目指しているの?\n        - gender: male\n          context: 例えば、プロジェクトマネージャーとしてチームを率いるような仕事かな。\n    - topic: ファッションとスタイルについて話す\n      result: 'Error after 2 attempts: Node `online_search` already present.'\n    - topic: 課題と解決策について話す\n      result:\n        question: 男性は次に何をするべきですか?\n        explanation: 男性表示他在工作上遇到了许多问题，并且不知道如何解决。女性建议他先整理问题，并设定优先级。这表明选项2是正确答案。\n        suggestion: 课题整理和优先级设定是解决复杂问题的第一步，男性应该按照这个建议行动。\n        conversation:\n        - gender: male\n          context: 最近、仕事で課題が多くて、どう解決すればいいかわからないんだ。\n        - gender: female\n          context: それは大変だね。具体的にどんな課題があるの?\n        - gender: male\n          context: 例えば、業務の効率化とか、チーム内のコミュニケーション不足とか。\n        - gender: female\n          context: まずは課題を整理して、優先順位をつけてみたらどう?\n"
     },
     "metadata": {},
     "output_type": "display_data"
    }
   ],
   "source": [
    "yaml_str = yaml.dump(output_data, allow_unicode=True, sort_keys=False, default_flow_style=False)\n",
    "# Display as formatted YAML\n",
    "display(Markdown(yaml_str))"
   ],
   "metadata": {
    "collapsed": false,
    "ExecuteTime": {
     "end_time": "2025-05-08T16:47:36.937645100Z",
     "start_time": "2025-05-08T16:47:36.891047200Z"
    }
   },
   "id": "43e411616ee939b1"
  },
  {
   "cell_type": "code",
   "execution_count": 18,
   "outputs": [],
   "source": [],
   "metadata": {
    "collapsed": false,
    "ExecuteTime": {
     "end_time": "2025-05-08T16:47:36.939720200Z",
     "start_time": "2025-05-08T16:47:36.937141300Z"
    }
   },
   "id": "307398e88bf20dc3"
  },
  {
   "cell_type": "code",
   "execution_count": 18,
   "outputs": [],
   "source": [],
   "metadata": {
    "collapsed": false,
    "ExecuteTime": {
     "end_time": "2025-05-08T16:47:36.939720200Z",
     "start_time": "2025-05-08T16:47:36.939720200Z"
    }
   },
   "id": "aa98a476d1ded815"
  }
 ],
 "metadata": {
  "kernelspec": {
   "display_name": "Python 3",
   "language": "python",
   "name": "python3"
  },
  "language_info": {
   "codemirror_mode": {
    "name": "ipython",
    "version": 2
   },
   "file_extension": ".py",
   "mimetype": "text/x-python",
   "name": "python",
   "nbconvert_exporter": "python",
   "pygments_lexer": "ipython2",
   "version": "2.7.6"
  }
 },
 "nbformat": 4,
 "nbformat_minor": 5
}
