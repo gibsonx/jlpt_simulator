{
 "cells": [
  {
   "cell_type": "code",
   "execution_count": null,
   "outputs": [],
   "source": [
    "!git clone https://github.com/gibsonx/jlpt_simulator.git\n",
    "%cd jlpt_simulator\n",
    "!git checkout dev\n",
    "\n",
    "!apt-get install python3-dev graphviz libgraphviz-dev pkg-config\n",
    "!pip install -r requirements.txt \n",
    "!pip install pandas numpy==2.0.2"
   ],
   "metadata": {
    "collapsed": false
   },
   "id": "712d86d2ae0847a0"
  },
  {
   "cell_type": "markdown",
   "id": "2b011bdf967ca7ff",
   "metadata": {
    "collapsed": false
   },
   "source": [
    "# Language Knowledge (Vocabulary)\n",
    "Duration: 30 minutes\n",
    "Content: This section tests your knowledge of Japanese vocabulary, including kanji readings, orthography, word formation, contextually-defined expressions, paraphrases, and usage\n",
    "It mainly composes following five categories:\n",
    "- ``Reading Kana`` (Pronunciation Questions): Given a kanji word, choose the correct kana reading.\n",
    "- `Writing Kanji` (Writing Questions): Given a word written in kana, choose the correct kanji representation.\n",
    "- `Word Meaning` Selection (Vocabulary Understanding): Choose the most suitable word to fill in the sentence from four options.\n",
    "- `Synonym Replacement`: Select a word that has the same or similar meaning as the underlined word.\n",
    "- `Vocabulary Usage`: Assess the usage of words in actual contexts, choosing the most appropriate word usage, including some common Japanese expressions or fixed phrases."
   ]
  },
  {
   "cell_type": "code",
   "execution_count": 1,
   "id": "7f526a68a7e73a65",
   "metadata": {
    "collapsed": false,
    "ExecuteTime": {
     "end_time": "2025-05-14T13:35:25.282335500Z",
     "start_time": "2025-05-14T13:35:20.399706600Z"
    }
   },
   "outputs": [
    {
     "data": {
      "text/plain": "True"
     },
     "execution_count": 1,
     "metadata": {},
     "output_type": "execute_result"
    }
   ],
   "source": [
    "import json\n",
    "import random\n",
    "import datetime\n",
    "import os\n",
    "import logging\n",
    "import pickle\n",
    "import re\n",
    "import uuid\n",
    "import threading\n",
    "import asyncio\n",
    "from typing import *\n",
    "from tqdm import tqdm\n",
    "import time\n",
    "import yaml\n",
    "import sys\n",
    "import asyncio\n",
    "import json\n",
    "import random\n",
    "import time\n",
    "from tqdm.asyncio import tqdm_asyncio\n",
    "from graphs.common.utils import collect_vocabulary\n",
    "from langchain_openai import AzureOpenAI,AzureChatOpenAI\n",
    "from langchain_anthropic import ChatAnthropic\n",
    "from langchain_core.prompts import ChatPromptTemplate\n",
    "from dotenv import load_dotenv\n",
    "from langchain_aws import ChatBedrock\n",
    "from langchain.embeddings.base import Embeddings\n",
    "from langchain.text_splitter import CharacterTextSplitter\n",
    "from langchain_community.document_loaders import PyPDFLoader\n",
    "from langchain_community.embeddings import HuggingFaceEmbeddings\n",
    "# from langchain_community.embeddings import XinferenceEmbeddings\n",
    "from langchain_community.vectorstores import Chroma\n",
    "from langchain_openai import OpenAIEmbeddings\n",
    "from typing import Annotated, Literal, Sequence\n",
    "from typing_extensions import TypedDict\n",
    "from libs.LLMs import *\n",
    "from langchain import hub\n",
    "from langchain_core.output_parsers import StrOutputParser\n",
    "from langchain_core.prompts import PromptTemplate\n",
    "from langchain_openai import ChatOpenAI\n",
    "from typing import Annotated, Sequence\n",
    "from typing_extensions import TypedDict\n",
    "from langchain_core.messages import BaseMessage,RemoveMessage,HumanMessage,AIMessage,ToolMessage\n",
    "from langgraph.graph.message import add_messages\n",
    "from pydantic import BaseModel, Field\n",
    "from langgraph.graph import END, StateGraph, START\n",
    "from langgraph.prebuilt import ToolNode\n",
    "from langgraph.prebuilt import tools_condition\n",
    "from langgraph.checkpoint.memory import MemorySaver\n",
    "from langchain.output_parsers import PydanticOutputParser\n",
    "from pydantic import BaseModel, Field, validator\n",
    "from typing import List, Optional\n",
    "\n",
    "logging.basicConfig(level=logging.INFO, format='%(asctime)s - %(levelname)s - %(message)s')\n",
    "\n",
    "from ExamTaskHandler import ExamTaskHandler\n",
    "load_dotenv()"
   ]
  },
  {
   "cell_type": "code",
   "execution_count": 2,
   "id": "initial_id",
   "metadata": {
    "collapsed": false,
    "ExecuteTime": {
     "end_time": "2025-05-14T13:35:25.305235600Z",
     "start_time": "2025-05-14T13:35:25.279584800Z"
    }
   },
   "outputs": [],
   "source": [
    "# Import N3 Vocabulary\n",
    "file_path = '../../Vocab/n3.csv'\n",
    "# Display the content of the CSV file\n",
    "vocab_dict = collect_vocabulary(file_path)\n",
    "with open(\"../../Vocab/topics.txt\", \"r\", encoding=\"utf-8\") as file:\n",
    "    topics_list = [line.strip() for line in file]"
   ]
  },
  {
   "cell_type": "markdown",
   "id": "4c1cdce8b1f57ef3",
   "metadata": {
    "collapsed": false
   },
   "source": [
    "#### load Models"
   ]
  },
  {
   "cell_type": "markdown",
   "id": "385c63b54b5c2a36",
   "metadata": {
    "collapsed": false
   },
   "source": [
    "#### Exam Paper Outline\n",
    "### A. overall thinking the structure of an exam\n",
    "1. distribution of the difficulty \n",
    "2. topics\n",
    "3. reasoning"
   ]
  },
  {
   "cell_type": "code",
   "execution_count": 3,
   "id": "e339295a858fb5f8",
   "metadata": {
    "collapsed": false,
    "ExecuteTime": {
     "end_time": "2025-05-14T13:35:25.314486200Z",
     "start_time": "2025-05-14T13:35:25.308404400Z"
    }
   },
   "outputs": [],
   "source": [
    "from typing import List, Optional\n",
    "\n",
    "from langchain_core.prompts import ChatPromptTemplate\n",
    "\n",
    "from pydantic import BaseModel, Field\n",
    "\n",
    "# instruction = \"\"\"\n",
    "# Section 1: Vocabulary and Grammar\n",
    "# - Kanji reading (kanji_reading): 8 questions\n",
    "# - Write Chinese characters (write_chinese): 6 questions\n",
    "# - Word Meaning Selection (word_meaning): 11 questions\n",
    "# - Synonyms substitution (synonym_substitution): 5 questions\n",
    "# - word usage (word_usage): 5 questions\n",
    "# - Grammar fill in the blank (sentence_grammar): 13 questions\n",
    "# - Sentence sorting (sentence_sort): 5 questions\n",
    "# - Grammar structure selection (sentence_structure): 4-5 questions\n",
    "# \n",
    "# Section 2: Reading Comprehension\n",
    "# - Short passages (short_passage_read): 4 articles\n",
    "# - Mid-size passages (midsize_passage_read): 2 articles\n",
    "# - Long passages (long_passage_read): 1 articles\n",
    "# - Information retrieval (info_retrieval): 1 articles\n",
    "# \n",
    "# Section 3: Listening Comprehension\n",
    "# - Topic understanding (topic_understanding): 6 questions\n",
    "# - Key understanding (keypoint_understanding): 6 questions\n",
    "# - Summary understanding (summary_understanding): 3 questions\n",
    "# - Active expression (active_expression): 4 questions\n",
    "# - Immediate acknowledgment (immediate_ack): 9 questions\n",
    "# \"\"\"\n",
    "\n",
    "instruction = \"\"\"\n",
    "Section 1: Vocabulary and Grammar\n",
    "- Kanji reading (kanji_reading): 8 questions\n",
    "- Write Chinese characters (write_chinese): 6 questions\n",
    "- Word Meaning Selection (word_meaning): 11 questions\n",
    "- Synonyms substitution (synonym_substitution): 5 questions\n",
    "- word usage (word_usage): 5 questions\n",
    "- Grammar fill in the blank (sentence_grammar): 13 questions\n",
    "- Sentence sorting (sentence_sort): 5 questions\n",
    "- Grammar structure selection (sentence_structure): 4-5 questions\n",
    "\n",
    "Section 2: Reading Comprehension\n",
    "- Short passages (short_passage_read): 4 articles\n",
    "- Mid-size passages (midsize_passage_read): 2 articles\n",
    "- Long passages (long_passage_read): 1 articles\n",
    "- Information retrieval (info_retrieval): 1 articles\n",
    "\n",
    "Section 3: Listening Comprehension\n",
    "- Topic understanding (topic_understanding): 6 questions\n",
    "- Key understanding (keypoint_understanding): 6 questions\n",
    "- Summary understanding (summary_understanding): 3 questions\n",
    "- Active expression (active_expression): 4 questions\n",
    "- Immediate acknowledgment (immediate_ack): 9 questions\n",
    "\"\"\"\n",
    "\n",
    "\n",
    "direct_gen_outline_prompt = ChatPromptTemplate.from_messages(\n",
    "    [\n",
    "        (\n",
    "            \"system\",\n",
    "            f\"You are a japanese teacher. Your job is to write an outline for a JLPT Japanese-Language Proficiency Test N3 level exam paper. the complexity should be restricted to N3 level and respect japanese culture. The JLPT Japanese-Language Proficiency Test exam paper includes a mix of easy, moderate, and difficult questions to accurately assess the test-taker's proficiency across different aspects of the language.\"\n",
    "            f\"First,  randomly pick words in 'Vocabulary' for questions in Vocabulary and Grammar. At Section 2 and 3, randomly choose topics in 'TopicList' for Reading Comprehension and Listening Comprehension Sections, don't repeat to choose a same word or topic\"  \n",
    "            f\"Second, you should abide by the provided exam instruction and decide the number of questions and content in the each Section.\"\n",
    "            f\"Finally, write the outline of the examination paper in japanese and provide question topics according to the instructions.\"\n",
    "            f\"Instruction: {instruction}\",\n",
    "        ),\n",
    "        (\"user\", \"TopicList: {topic_list}, Vocabulary: {vocab_dict}\"),\n",
    "    ]\n",
    ")\n"
   ]
  },
  {
   "cell_type": "markdown",
   "id": "fed5f032dadafac1",
   "metadata": {
    "collapsed": false
   },
   "source": [
    "## Data Strcuture"
   ]
  },
  {
   "cell_type": "code",
   "execution_count": 4,
   "id": "39329a71b16d2400",
   "metadata": {
    "collapsed": false,
    "ExecuteTime": {
     "end_time": "2025-05-14T13:35:25.344914800Z",
     "start_time": "2025-05-14T13:35:25.311024300Z"
    }
   },
   "outputs": [],
   "source": [
    "class QuestionTopic(BaseModel):\n",
    "    topic: str = Field(..., title=\"a vocabulary or topic hint for a question\")\n",
    "    \n",
    "    \n",
    "class Subsection(BaseModel):\n",
    "    subsection_title: str = Field(..., title=\"subsection English word in () only from the instruction\")\n",
    "    description: str = Field(..., title=\"giving the number of questions and requirements\")\n",
    "    question_topics: Optional[List[QuestionTopic]] = Field(\n",
    "        default_factory=list\n",
    "    )\n",
    "    \n",
    "    @property\n",
    "    def as_str(self) -> str:\n",
    "        question_topics_str = \"\\n\".join(\n",
    "            f\"- **{qt.topic}**\" for qt in self.question_topics\n",
    "        )\n",
    "        return f\"### {self.subsection_title}\\n\\n{self.description}\\n\\n{question_topics_str}\".strip()\n",
    "\n",
    "class Section(BaseModel):\n",
    "    section_title: str = Field(..., title=\"Title of the section\")\n",
    "    subsections: Optional[List[Subsection]] = Field(\n",
    "        default_factory=list,\n",
    "        title=\"Titles and reason for each subsection of the JLPT exam page.\",\n",
    "    )\n",
    "\n",
    "    @property\n",
    "    def as_str(self) -> str:\n",
    "        subsections = \"\\n\\n\".join(\n",
    "            subsection.as_str for subsection in self.subsections or []\n",
    "        )\n",
    "        return f\"## {self.section_title}\\n\\n{subsections}\".strip()\n",
    "\n",
    "\n",
    "class Outline(BaseModel):\n",
    "    page_title: str = Field(..., title=\"Title of the JLPT exam page\")\n",
    "    sections: List[Section] = Field(\n",
    "        default_factory=list,\n",
    "        title=\"Titles and descriptions for each section of the JLPT exam paper.\",\n",
    "    )\n",
    "\n",
    "    @property\n",
    "    def as_str(self) -> str:\n",
    "        sections = \"\\n\\n\".join(section.as_str for section in self.sections)\n",
    "        return f\"# {self.page_title}\\n\\n{sections}\".strip()\n"
   ]
  },
  {
   "cell_type": "code",
   "execution_count": 5,
   "outputs": [],
   "source": [
    "# Read the topics from a file, sort them, and print the sorted list  \n",
    "def process_topics(file_path):\n",
    "    try:  \n",
    "        # Read the file  \n",
    "        with open(file_path, 'r', encoding='utf-8') as file:  \n",
    "            topics = file.readlines()  \n",
    "          \n",
    "        # Remove any extra whitespace or newline characters  \n",
    "        topics = [topic.strip() for topic in topics if topic.strip()]  \n",
    "          \n",
    "        # Shuffle the topics randomly  \n",
    "        random.shuffle(topics)  \n",
    "                \n",
    "    except FileNotFoundError:  \n",
    "        print(\"The file was not found. Please check the file path.\")  \n",
    "    except Exception as e:  \n",
    "        print(\"An error occurred:\", str(e)) \n",
    "      \n",
    "    except FileNotFoundError:  \n",
    "        print(\"The file was not found. Please check the file path.\")  \n",
    "    except Exception as e:  \n",
    "        print(\"An error occurred:\", str(e)) "
   ],
   "metadata": {
    "collapsed": false,
    "ExecuteTime": {
     "end_time": "2025-05-14T13:35:25.356180900Z",
     "start_time": "2025-05-14T13:35:25.323998500Z"
    }
   },
   "id": "d0730de416980c6"
  },
  {
   "cell_type": "code",
   "execution_count": 6,
   "outputs": [
    {
     "name": "stderr",
     "output_type": "stream",
     "text": [
      "2025-05-14 21:35:47,357 - INFO - HTTP Request: POST https://ai-rolandaws880125ai409947751408.openai.azure.com/openai/deployments/gpt-4.1/chat/completions?api-version=2025-01-01-preview \"HTTP/1.1 200 OK\"\n"
     ]
    }
   ],
   "source": [
    "# Preload all topics from the file\n",
    "with open(\"../../Vocab/topics.txt\", \"r\", encoding=\"utf-8\") as file:\n",
    "    topics_list = [line.strip() for line in file]\n",
    "\n",
    "generate_outline_direct = direct_gen_outline_prompt | azure_llm.with_structured_output(Outline)\n",
    "initial_outline = generate_outline_direct.invoke({\"topic_list\": topics_list, \"vocab_dict\": vocab_dict})"
   ],
   "metadata": {
    "collapsed": false,
    "ExecuteTime": {
     "end_time": "2025-05-14T13:35:47.471210400Z",
     "start_time": "2025-05-14T13:35:25.332153600Z"
    }
   },
   "id": "8fc17fee14c40716"
  },
  {
   "cell_type": "code",
   "execution_count": 7,
   "outputs": [
    {
     "data": {
      "text/plain": "<IPython.core.display.Markdown object>",
      "text/markdown": "# 日本語能力試験N3 模擬試験\n\n## 第1部：語彙・文法\n\n### 漢字読み (kanji_reading)\n\n8問。与えられた漢字の読み仮名をひらがなで答える。\n\n- **膳**\n- **湿る**\n- **現れ**\n- **冗談**\n- **栄養**\n- **豊か**\n- **筋肉**\n- **答案**\n\n### 漢字書き取り (write_chinese)\n\n6問。ひらがなで書かれた単語を漢字で書く。\n\n- **しゅつじょう（出場）**\n- **しょくひん（食品）**\n- **せつやく（節約）**\n- **けんこう（健康）**\n- **しゅうにゅう（収入）**\n- **かんしゃ（感謝）**\n\n### 語彙意味選択 (word_meaning)\n\n11問。下線部の語の意味に最も近いものを選ぶ。\n\n- **必死**\n- **調子**\n- **破産**\n- **争う**\n- **題名**\n- **要素**\n- **湿気**\n- **努力**\n- **礼儀**\n- **資本**\n- **特徴**\n\n### 同義語置き換え (synonym_substitution)\n\n5問。文中の語句を同じ意味の語に置き換える。\n\n- **現代**\n- **種類**\n- **完全**\n- **冷やす**\n- **自然**\n\n### 語彙使い方 (word_usage)\n\n5問。語彙の使い方として正しい文を選ぶ。\n\n- **保存**\n- **拍手**\n- **要点**\n- **礼儀**\n- **順調**\n\n### 文法穴埋め (sentence_grammar)\n\n13問。空欄に入る最も適切な語句や助詞を選ぶ。\n\n- **句**\n- **助詞**\n- **順**\n- **場合**\n- **程度**\n- **状態**\n- **内容**\n- **判断**\n- **条件**\n- **関する**\n- **比較**\n- **場合**\n- **原因**\n\n### 文の並べ替え (sentence_sort)\n\n5問。バラバラになった文を正しい順番に並べる。\n\n- **感謝**\n- **決心**\n- **説明**\n- **提案**\n- **結論**\n\n### 文法構造選択 (sentence_structure)\n\n4問。文の構造として正しいものを選ぶ。\n\n- **原因・理由**\n- **逆接**\n- **条件**\n- **目的**\n\n## 第2部：読解\n\n### 短文読解 (short_passage_read)\n\n4題。短い文章を読み、内容に関する問いに答える。\n\n- **店で価格を尋ねる**\n- **レストランで食べ物を注文する**\n- **道を尋ねる**\n- **週末の予定について話す**\n\n### 中文章読解 (midsize_passage_read)\n\n2題。中程度の長さの文章を読み、主旨や詳細情報について答える。\n\n- **趣味について話す**\n- **家族について話す**\n\n### 長文読解 (long_passage_read)\n\n1題。やや長い文章を読み、全体の内容や筆者の意図を理解する。\n\n- **旅行の計画について話す**\n\n### 情報検索 (info_retrieval)\n\n1題。案内や掲示などの情報から必要な情報を探し出す。\n\n- **電車の切符を買う**\n\n## 第3部：聴解\n\n### 話題理解 (topic_understanding)\n\n6問。流れる会話や説明から話題を把握する。\n\n- **お気に入りのレストランについて話す**\n- **健康とフィットネスについて話す**\n- **最近の映画について話す**\n- **支払い方法について話す**\n- **家事の分担について話す**\n- **公共施設の利用方法について話す**\n\n### 要点理解 (keypoint_understanding)\n\n6問。会話の中の重要な情報や要点を聞き取る。\n\n- **仕事のプロジェクトについて話す**\n- **最近のニュースについて意見を述べる**\n- **交通状況について話す**\n- **ショッピング体験を説明する**\n- **ペットについて話す**\n- **新しいスキルを学ぶ計画について話す**\n\n### 概要理解 (summary_understanding)\n\n3問。聴いた内容の大意やまとめを問う。\n\n- **異文化交流について話す**\n- **地域のイベントについて話す**\n- **おすすめの旅行先について話す**\n\n### 積極的表現 (active_expression)\n\n4問。会話の中で自分の意見や希望を述べる場面を聞き取る。\n\n- **キャリア目標について話す**\n- **将来の抱負について話す**\n- **友人へのプレゼント選びについて話す**\n- **特別な日の計画について話す**\n\n### 即時応答 (immediate_ack)\n\n9問。短い会話や問いかけに対して即座に適切な返答を選ぶ。\n\n- **バスの時刻表を尋ねる**\n- **領収書を求める**\n- **おすすめを尋ねる**\n- **引っ越しの準備について話す**\n- **学校や職場での一日の流れについて話す**\n- **言語学習のコツについて話す**\n- **好きな季節について話す**\n- **地元の食べ物や特産品について話す**\n- **健康診断や医者への訪問について話す**"
     },
     "metadata": {},
     "output_type": "display_data"
    }
   ],
   "source": [
    "from IPython.display import display, Markdown, Latex\n",
    "display(Markdown(initial_outline.as_str))"
   ],
   "metadata": {
    "collapsed": false,
    "ExecuteTime": {
     "end_time": "2025-05-14T13:35:47.476014200Z",
     "start_time": "2025-05-14T13:35:47.471210400Z"
    }
   },
   "id": "d53b7d9ff86a5377"
  },
  {
   "cell_type": "code",
   "execution_count": 8,
   "outputs": [
    {
     "name": "stderr",
     "output_type": "stream",
     "text": [
      "Processing 第1部：語彙・文法:   0%|          | 0/8 [00:00<?, ?it/s]\n",
      "Processing 漢字読み (kanji_reading):   0%|          | 0/8 [00:00<?, ?it/s]\u001B[A"
     ]
    },
    {
     "name": "stdout",
     "output_type": "stream",
     "text": [
      "---WEB SEARCH---\n",
      "---WEB SEARCH---\n",
      "---Generator----\n"
     ]
    },
    {
     "name": "stderr",
     "output_type": "stream",
     "text": [
      "2025-05-14 21:36:00,547 - INFO - HTTP Request: POST https://ai-rolandaws880125ai409947751408.openai.azure.com/openai/deployments/gpt-4.1/chat/completions?api-version=2025-01-01-preview \"HTTP/1.1 200 OK\"\n"
     ]
    },
    {
     "name": "stdout",
     "output_type": "stream",
     "text": [
      "---REVISOR---\n"
     ]
    },
    {
     "name": "stderr",
     "output_type": "stream",
     "text": [
      "2025-05-14 21:36:07,423 - INFO - HTTP Request: POST https://ai-rolandaws880125ai409947751408.openai.azure.com/openai/deployments/gpt-4.1-mini/chat/completions?api-version=2025-01-01-preview \"HTTP/1.1 200 OK\"\n"
     ]
    },
    {
     "name": "stdout",
     "output_type": "stream",
     "text": [
      "---Generator----\n"
     ]
    },
    {
     "name": "stderr",
     "output_type": "stream",
     "text": [
      "2025-05-14 21:36:13,306 - INFO - HTTP Request: POST https://ai-rolandaws880125ai409947751408.openai.azure.com/openai/deployments/gpt-4.1/chat/completions?api-version=2025-01-01-preview \"HTTP/1.1 200 OK\"\n"
     ]
    },
    {
     "name": "stdout",
     "output_type": "stream",
     "text": [
      "---REVISOR---\n"
     ]
    },
    {
     "name": "stderr",
     "output_type": "stream",
     "text": [
      "2025-05-14 21:36:17,089 - INFO - HTTP Request: POST https://ai-rolandaws880125ai409947751408.openai.azure.com/openai/deployments/gpt-4.1-mini/chat/completions?api-version=2025-01-01-preview \"HTTP/1.1 200 OK\"\n"
     ]
    },
    {
     "name": "stdout",
     "output_type": "stream",
     "text": [
      "--- AI Reviser feels Good Enough ---\n",
      "--- Formatter ---\n"
     ]
    },
    {
     "name": "stderr",
     "output_type": "stream",
     "text": [
      "2025-05-14 21:36:19,867 - INFO - HTTP Request: POST https://ai-rolandaws880125ai409947751408.openai.azure.com/openai/deployments/gpt-4.1-mini/chat/completions?api-version=2025-01-01-preview \"HTTP/1.1 200 OK\"\n",
      "\n",
      "Processing 漢字読み (kanji_reading):  12%|█▎        | 1/8 [00:32<03:46, 32.36s/it]\u001B[A"
     ]
    },
    {
     "name": "stdout",
     "output_type": "stream",
     "text": [
      "---WEB SEARCH---\n",
      "---Generator----\n"
     ]
    },
    {
     "name": "stderr",
     "output_type": "stream",
     "text": [
      "2025-05-14 21:36:27,541 - INFO - HTTP Request: POST https://ai-rolandaws880125ai409947751408.openai.azure.com/openai/deployments/gpt-4.1/chat/completions?api-version=2025-01-01-preview \"HTTP/1.1 400 model_error\"\n"
     ]
    },
    {
     "name": "stdout",
     "output_type": "stream",
     "text": [
      "---WEB SEARCH---\n",
      "---Generator----\n"
     ]
    },
    {
     "name": "stderr",
     "output_type": "stream",
     "text": [
      "2025-05-14 21:36:35,156 - INFO - HTTP Request: POST https://ai-rolandaws880125ai409947751408.openai.azure.com/openai/deployments/gpt-4.1/chat/completions?api-version=2025-01-01-preview \"HTTP/1.1 200 OK\"\n"
     ]
    },
    {
     "name": "stdout",
     "output_type": "stream",
     "text": [
      "---REVISOR---\n"
     ]
    },
    {
     "name": "stderr",
     "output_type": "stream",
     "text": [
      "2025-05-14 21:36:40,707 - INFO - HTTP Request: POST https://ai-rolandaws880125ai409947751408.openai.azure.com/openai/deployments/gpt-4.1-mini/chat/completions?api-version=2025-01-01-preview \"HTTP/1.1 200 OK\"\n"
     ]
    },
    {
     "name": "stdout",
     "output_type": "stream",
     "text": [
      "--- AI Reviser feels Good Enough ---\n",
      "--- Formatter ---\n"
     ]
    },
    {
     "name": "stderr",
     "output_type": "stream",
     "text": [
      "2025-05-14 21:36:43,009 - INFO - HTTP Request: POST https://ai-rolandaws880125ai409947751408.openai.azure.com/openai/deployments/gpt-4.1-mini/chat/completions?api-version=2025-01-01-preview \"HTTP/1.1 200 OK\"\n",
      "\n",
      "Processing 漢字読み (kanji_reading):  25%|██▌       | 2/8 [00:55<02:41, 26.94s/it]\u001B[A"
     ]
    },
    {
     "name": "stdout",
     "output_type": "stream",
     "text": [
      "---WEB SEARCH---\n",
      "---Generator----\n"
     ]
    },
    {
     "name": "stderr",
     "output_type": "stream",
     "text": [
      "2025-05-14 21:36:51,756 - INFO - HTTP Request: POST https://ai-rolandaws880125ai409947751408.openai.azure.com/openai/deployments/gpt-4.1/chat/completions?api-version=2025-01-01-preview \"HTTP/1.1 200 OK\"\n"
     ]
    },
    {
     "name": "stdout",
     "output_type": "stream",
     "text": [
      "---REVISOR---\n"
     ]
    },
    {
     "name": "stderr",
     "output_type": "stream",
     "text": [
      "2025-05-14 21:37:00,585 - INFO - HTTP Request: POST https://ai-rolandaws880125ai409947751408.openai.azure.com/openai/deployments/gpt-4.1-mini/chat/completions?api-version=2025-01-01-preview \"HTTP/1.1 200 OK\"\n"
     ]
    },
    {
     "name": "stdout",
     "output_type": "stream",
     "text": [
      "---Generator----\n"
     ]
    },
    {
     "name": "stderr",
     "output_type": "stream",
     "text": [
      "2025-05-14 21:37:06,105 - INFO - HTTP Request: POST https://ai-rolandaws880125ai409947751408.openai.azure.com/openai/deployments/gpt-4.1/chat/completions?api-version=2025-01-01-preview \"HTTP/1.1 200 OK\"\n"
     ]
    },
    {
     "name": "stdout",
     "output_type": "stream",
     "text": [
      "---REVISOR---\n"
     ]
    },
    {
     "name": "stderr",
     "output_type": "stream",
     "text": [
      "2025-05-14 21:37:11,728 - INFO - HTTP Request: POST https://ai-rolandaws880125ai409947751408.openai.azure.com/openai/deployments/gpt-4.1-mini/chat/completions?api-version=2025-01-01-preview \"HTTP/1.1 200 OK\"\n"
     ]
    },
    {
     "name": "stdout",
     "output_type": "stream",
     "text": [
      "--- AI Reviser feels Good Enough ---\n",
      "--- Formatter ---\n"
     ]
    },
    {
     "name": "stderr",
     "output_type": "stream",
     "text": [
      "2025-05-14 21:37:13,969 - INFO - HTTP Request: POST https://ai-rolandaws880125ai409947751408.openai.azure.com/openai/deployments/gpt-4.1-mini/chat/completions?api-version=2025-01-01-preview \"HTTP/1.1 200 OK\"\n",
      "\n",
      "Processing 漢字読み (kanji_reading):  38%|███▊      | 3/8 [01:26<02:23, 28.77s/it]\u001B[A"
     ]
    },
    {
     "name": "stdout",
     "output_type": "stream",
     "text": [
      "---WEB SEARCH---\n",
      "---Generator----\n"
     ]
    },
    {
     "name": "stderr",
     "output_type": "stream",
     "text": [
      "2025-05-14 21:37:21,875 - INFO - HTTP Request: POST https://ai-rolandaws880125ai409947751408.openai.azure.com/openai/deployments/gpt-4.1/chat/completions?api-version=2025-01-01-preview \"HTTP/1.1 200 OK\"\n"
     ]
    },
    {
     "name": "stdout",
     "output_type": "stream",
     "text": [
      "---REVISOR---\n"
     ]
    },
    {
     "name": "stderr",
     "output_type": "stream",
     "text": [
      "2025-05-14 21:37:27,123 - INFO - HTTP Request: POST https://ai-rolandaws880125ai409947751408.openai.azure.com/openai/deployments/gpt-4.1-mini/chat/completions?api-version=2025-01-01-preview \"HTTP/1.1 200 OK\"\n"
     ]
    },
    {
     "name": "stdout",
     "output_type": "stream",
     "text": [
      "---Generator----\n"
     ]
    },
    {
     "name": "stderr",
     "output_type": "stream",
     "text": [
      "2025-05-14 21:37:30,932 - INFO - HTTP Request: POST https://ai-rolandaws880125ai409947751408.openai.azure.com/openai/deployments/gpt-4.1/chat/completions?api-version=2025-01-01-preview \"HTTP/1.1 200 OK\"\n"
     ]
    },
    {
     "name": "stdout",
     "output_type": "stream",
     "text": [
      "---REVISOR---\n"
     ]
    },
    {
     "name": "stderr",
     "output_type": "stream",
     "text": [
      "2025-05-14 21:37:34,324 - INFO - HTTP Request: POST https://ai-rolandaws880125ai409947751408.openai.azure.com/openai/deployments/gpt-4.1-mini/chat/completions?api-version=2025-01-01-preview \"HTTP/1.1 200 OK\"\n"
     ]
    },
    {
     "name": "stdout",
     "output_type": "stream",
     "text": [
      "--- AI Reviser feels Good Enough ---\n",
      "--- Formatter ---\n"
     ]
    },
    {
     "name": "stderr",
     "output_type": "stream",
     "text": [
      "2025-05-14 21:37:36,092 - INFO - HTTP Request: POST https://ai-rolandaws880125ai409947751408.openai.azure.com/openai/deployments/gpt-4.1-mini/chat/completions?api-version=2025-01-01-preview \"HTTP/1.1 200 OK\"\n",
      "\n",
      "Processing 漢字読み (kanji_reading):  50%|█████     | 4/8 [01:48<01:44, 26.15s/it]\u001B[A"
     ]
    },
    {
     "name": "stdout",
     "output_type": "stream",
     "text": [
      "---WEB SEARCH---\n",
      "---Generator----\n"
     ]
    },
    {
     "name": "stderr",
     "output_type": "stream",
     "text": [
      "2025-05-14 21:37:47,569 - INFO - HTTP Request: POST https://ai-rolandaws880125ai409947751408.openai.azure.com/openai/deployments/gpt-4.1/chat/completions?api-version=2025-01-01-preview \"HTTP/1.1 200 OK\"\n"
     ]
    },
    {
     "name": "stdout",
     "output_type": "stream",
     "text": [
      "---REVISOR---\n"
     ]
    },
    {
     "name": "stderr",
     "output_type": "stream",
     "text": [
      "2025-05-14 21:37:53,270 - INFO - HTTP Request: POST https://ai-rolandaws880125ai409947751408.openai.azure.com/openai/deployments/gpt-4.1-mini/chat/completions?api-version=2025-01-01-preview \"HTTP/1.1 200 OK\"\n"
     ]
    },
    {
     "name": "stdout",
     "output_type": "stream",
     "text": [
      "---Generator----\n"
     ]
    },
    {
     "name": "stderr",
     "output_type": "stream",
     "text": [
      "2025-05-14 21:37:59,364 - INFO - HTTP Request: POST https://ai-rolandaws880125ai409947751408.openai.azure.com/openai/deployments/gpt-4.1/chat/completions?api-version=2025-01-01-preview \"HTTP/1.1 200 OK\"\n"
     ]
    },
    {
     "name": "stdout",
     "output_type": "stream",
     "text": [
      "---REVISOR---\n"
     ]
    },
    {
     "name": "stderr",
     "output_type": "stream",
     "text": [
      "2025-05-14 21:38:05,095 - INFO - HTTP Request: POST https://ai-rolandaws880125ai409947751408.openai.azure.com/openai/deployments/gpt-4.1-mini/chat/completions?api-version=2025-01-01-preview \"HTTP/1.1 200 OK\"\n"
     ]
    },
    {
     "name": "stdout",
     "output_type": "stream",
     "text": [
      "--- AI Reviser feels Good Enough ---\n",
      "--- Formatter ---\n"
     ]
    },
    {
     "name": "stderr",
     "output_type": "stream",
     "text": [
      "2025-05-14 21:38:07,906 - INFO - HTTP Request: POST https://ai-rolandaws880125ai409947751408.openai.azure.com/openai/deployments/gpt-4.1-mini/chat/completions?api-version=2025-01-01-preview \"HTTP/1.1 200 OK\"\n",
      "\n",
      "Processing 漢字読み (kanji_reading):  62%|██████▎   | 5/8 [02:20<01:24, 28.19s/it]\u001B[A"
     ]
    },
    {
     "name": "stdout",
     "output_type": "stream",
     "text": [
      "---WEB SEARCH---\n",
      "---Generator----\n"
     ]
    },
    {
     "name": "stderr",
     "output_type": "stream",
     "text": [
      "2025-05-14 21:38:15,788 - INFO - HTTP Request: POST https://ai-rolandaws880125ai409947751408.openai.azure.com/openai/deployments/gpt-4.1/chat/completions?api-version=2025-01-01-preview \"HTTP/1.1 200 OK\"\n"
     ]
    },
    {
     "name": "stdout",
     "output_type": "stream",
     "text": [
      "---REVISOR---\n"
     ]
    },
    {
     "name": "stderr",
     "output_type": "stream",
     "text": [
      "2025-05-14 21:38:23,832 - INFO - HTTP Request: POST https://ai-rolandaws880125ai409947751408.openai.azure.com/openai/deployments/gpt-4.1-mini/chat/completions?api-version=2025-01-01-preview \"HTTP/1.1 200 OK\"\n"
     ]
    },
    {
     "name": "stdout",
     "output_type": "stream",
     "text": [
      "---Generator----\n"
     ]
    },
    {
     "name": "stderr",
     "output_type": "stream",
     "text": [
      "2025-05-14 21:38:32,742 - INFO - HTTP Request: POST https://ai-rolandaws880125ai409947751408.openai.azure.com/openai/deployments/gpt-4.1/chat/completions?api-version=2025-01-01-preview \"HTTP/1.1 200 OK\"\n"
     ]
    },
    {
     "name": "stdout",
     "output_type": "stream",
     "text": [
      "---REVISOR---\n"
     ]
    },
    {
     "name": "stderr",
     "output_type": "stream",
     "text": [
      "2025-05-14 21:38:50,661 - INFO - HTTP Request: POST https://ai-rolandaws880125ai409947751408.openai.azure.com/openai/deployments/gpt-4.1-mini/chat/completions?api-version=2025-01-01-preview \"HTTP/1.1 200 OK\"\n"
     ]
    },
    {
     "name": "stdout",
     "output_type": "stream",
     "text": [
      "--- AI Reviser feels Good Enough ---\n",
      "--- Formatter ---\n"
     ]
    },
    {
     "name": "stderr",
     "output_type": "stream",
     "text": [
      "2025-05-14 21:38:54,914 - INFO - HTTP Request: POST https://ai-rolandaws880125ai409947751408.openai.azure.com/openai/deployments/gpt-4.1-mini/chat/completions?api-version=2025-01-01-preview \"HTTP/1.1 200 OK\"\n",
      "\n",
      "Processing 漢字読み (kanji_reading):  75%|███████▌  | 6/8 [03:07<01:09, 34.59s/it]\u001B[A"
     ]
    },
    {
     "name": "stdout",
     "output_type": "stream",
     "text": [
      "---WEB SEARCH---\n",
      "---Generator----\n"
     ]
    },
    {
     "name": "stderr",
     "output_type": "stream",
     "text": [
      "2025-05-14 21:39:03,388 - INFO - HTTP Request: POST https://ai-rolandaws880125ai409947751408.openai.azure.com/openai/deployments/gpt-4.1/chat/completions?api-version=2025-01-01-preview \"HTTP/1.1 200 OK\"\n"
     ]
    },
    {
     "name": "stdout",
     "output_type": "stream",
     "text": [
      "---REVISOR---\n"
     ]
    },
    {
     "name": "stderr",
     "output_type": "stream",
     "text": [
      "2025-05-14 21:39:09,931 - INFO - HTTP Request: POST https://ai-rolandaws880125ai409947751408.openai.azure.com/openai/deployments/gpt-4.1-mini/chat/completions?api-version=2025-01-01-preview \"HTTP/1.1 200 OK\"\n"
     ]
    },
    {
     "name": "stdout",
     "output_type": "stream",
     "text": [
      "--- AI Reviser feels Good Enough ---\n",
      "--- Formatter ---\n"
     ]
    },
    {
     "name": "stderr",
     "output_type": "stream",
     "text": [
      "2025-05-14 21:39:11,562 - INFO - HTTP Request: POST https://ai-rolandaws880125ai409947751408.openai.azure.com/openai/deployments/gpt-4.1-mini/chat/completions?api-version=2025-01-01-preview \"HTTP/1.1 200 OK\"\n",
      "\n",
      "Processing 漢字読み (kanji_reading):  88%|████████▊ | 7/8 [03:24<00:28, 28.72s/it]\u001B[A"
     ]
    },
    {
     "name": "stdout",
     "output_type": "stream",
     "text": [
      "---WEB SEARCH---\n",
      "---Generator----\n"
     ]
    },
    {
     "name": "stderr",
     "output_type": "stream",
     "text": [
      "2025-05-14 21:39:20,163 - INFO - HTTP Request: POST https://ai-rolandaws880125ai409947751408.openai.azure.com/openai/deployments/gpt-4.1/chat/completions?api-version=2025-01-01-preview \"HTTP/1.1 200 OK\"\n"
     ]
    },
    {
     "name": "stdout",
     "output_type": "stream",
     "text": [
      "---REVISOR---\n"
     ]
    },
    {
     "name": "stderr",
     "output_type": "stream",
     "text": [
      "2025-05-14 21:39:26,370 - INFO - HTTP Request: POST https://ai-rolandaws880125ai409947751408.openai.azure.com/openai/deployments/gpt-4.1-mini/chat/completions?api-version=2025-01-01-preview \"HTTP/1.1 200 OK\"\n"
     ]
    },
    {
     "name": "stdout",
     "output_type": "stream",
     "text": [
      "---Generator----\n"
     ]
    },
    {
     "name": "stderr",
     "output_type": "stream",
     "text": [
      "2025-05-14 21:39:29,887 - INFO - HTTP Request: POST https://ai-rolandaws880125ai409947751408.openai.azure.com/openai/deployments/gpt-4.1/chat/completions?api-version=2025-01-01-preview \"HTTP/1.1 200 OK\"\n"
     ]
    },
    {
     "name": "stdout",
     "output_type": "stream",
     "text": [
      "---REVISOR---\n"
     ]
    },
    {
     "name": "stderr",
     "output_type": "stream",
     "text": [
      "2025-05-14 21:39:35,619 - INFO - HTTP Request: POST https://ai-rolandaws880125ai409947751408.openai.azure.com/openai/deployments/gpt-4.1-mini/chat/completions?api-version=2025-01-01-preview \"HTTP/1.1 200 OK\"\n"
     ]
    },
    {
     "name": "stdout",
     "output_type": "stream",
     "text": [
      "--- AI Reviser feels Good Enough ---\n",
      "--- Formatter ---\n"
     ]
    },
    {
     "name": "stderr",
     "output_type": "stream",
     "text": [
      "2025-05-14 21:39:37,210 - INFO - HTTP Request: POST https://ai-rolandaws880125ai409947751408.openai.azure.com/openai/deployments/gpt-4.1-mini/chat/completions?api-version=2025-01-01-preview \"HTTP/1.1 200 OK\"\n",
      "\n",
      "Processing 漢字読み (kanji_reading): 100%|██████████| 8/8 [03:49<00:00, 28.71s/it]\u001B[A\n",
      "Processing 第1部：語彙・文法:  12%|█▎        | 1/8 [03:49<26:47, 229.71s/it]\n",
      "Processing 漢字書き取り (write_chinese):   0%|          | 0/6 [00:00<?, ?it/s]\u001B[A"
     ]
    },
    {
     "name": "stdout",
     "output_type": "stream",
     "text": [
      "---WEB SEARCH---\n",
      "---Generator----\n"
     ]
    },
    {
     "name": "stderr",
     "output_type": "stream",
     "text": [
      "2025-05-14 21:39:46,169 - INFO - HTTP Request: POST https://ai-rolandaws880125ai409947751408.openai.azure.com/openai/deployments/gpt-4.1/chat/completions?api-version=2025-01-01-preview \"HTTP/1.1 200 OK\"\n"
     ]
    },
    {
     "name": "stdout",
     "output_type": "stream",
     "text": [
      "---REVISOR---\n"
     ]
    },
    {
     "name": "stderr",
     "output_type": "stream",
     "text": [
      "2025-05-14 21:39:53,087 - INFO - HTTP Request: POST https://ai-rolandaws880125ai409947751408.openai.azure.com/openai/deployments/gpt-4.1-mini/chat/completions?api-version=2025-01-01-preview \"HTTP/1.1 200 OK\"\n"
     ]
    },
    {
     "name": "stdout",
     "output_type": "stream",
     "text": [
      "---Generator----\n"
     ]
    },
    {
     "name": "stderr",
     "output_type": "stream",
     "text": [
      "2025-05-14 21:39:58,542 - INFO - HTTP Request: POST https://ai-rolandaws880125ai409947751408.openai.azure.com/openai/deployments/gpt-4.1/chat/completions?api-version=2025-01-01-preview \"HTTP/1.1 200 OK\"\n"
     ]
    },
    {
     "name": "stdout",
     "output_type": "stream",
     "text": [
      "---REVISOR---\n"
     ]
    },
    {
     "name": "stderr",
     "output_type": "stream",
     "text": [
      "2025-05-14 21:39:59,868 - INFO - HTTP Request: POST https://ai-rolandaws880125ai409947751408.openai.azure.com/openai/deployments/gpt-4.1-mini/chat/completions?api-version=2025-01-01-preview \"HTTP/1.1 200 OK\"\n"
     ]
    },
    {
     "name": "stdout",
     "output_type": "stream",
     "text": [
      "--- AI Reviser feels Good Enough ---\n",
      "--- Formatter ---\n"
     ]
    },
    {
     "name": "stderr",
     "output_type": "stream",
     "text": [
      "2025-05-14 21:40:02,100 - INFO - HTTP Request: POST https://ai-rolandaws880125ai409947751408.openai.azure.com/openai/deployments/gpt-4.1-mini/chat/completions?api-version=2025-01-01-preview \"HTTP/1.1 200 OK\"\n",
      "\n",
      "Processing 漢字書き取り (write_chinese):  17%|█▋        | 1/6 [00:24<02:04, 24.88s/it]\u001B[A"
     ]
    },
    {
     "name": "stdout",
     "output_type": "stream",
     "text": [
      "---WEB SEARCH---\n",
      "---Generator----\n"
     ]
    },
    {
     "name": "stderr",
     "output_type": "stream",
     "text": [
      "2025-05-14 21:40:11,033 - INFO - HTTP Request: POST https://ai-rolandaws880125ai409947751408.openai.azure.com/openai/deployments/gpt-4.1/chat/completions?api-version=2025-01-01-preview \"HTTP/1.1 200 OK\"\n"
     ]
    },
    {
     "name": "stdout",
     "output_type": "stream",
     "text": [
      "---REVISOR---\n"
     ]
    },
    {
     "name": "stderr",
     "output_type": "stream",
     "text": [
      "2025-05-14 21:40:16,156 - INFO - HTTP Request: POST https://ai-rolandaws880125ai409947751408.openai.azure.com/openai/deployments/gpt-4.1-mini/chat/completions?api-version=2025-01-01-preview \"HTTP/1.1 200 OK\"\n"
     ]
    },
    {
     "name": "stdout",
     "output_type": "stream",
     "text": [
      "---Generator----\n"
     ]
    },
    {
     "name": "stderr",
     "output_type": "stream",
     "text": [
      "2025-05-14 21:40:24,405 - INFO - HTTP Request: POST https://ai-rolandaws880125ai409947751408.openai.azure.com/openai/deployments/gpt-4.1/chat/completions?api-version=2025-01-01-preview \"HTTP/1.1 200 OK\"\n"
     ]
    },
    {
     "name": "stdout",
     "output_type": "stream",
     "text": [
      "---REVISOR---\n"
     ]
    },
    {
     "name": "stderr",
     "output_type": "stream",
     "text": [
      "2025-05-14 21:40:32,104 - INFO - HTTP Request: POST https://ai-rolandaws880125ai409947751408.openai.azure.com/openai/deployments/gpt-4.1-mini/chat/completions?api-version=2025-01-01-preview \"HTTP/1.1 200 OK\"\n"
     ]
    },
    {
     "name": "stdout",
     "output_type": "stream",
     "text": [
      "--- AI Reviser feels Good Enough ---\n",
      "--- Formatter ---\n"
     ]
    },
    {
     "name": "stderr",
     "output_type": "stream",
     "text": [
      "2025-05-14 21:40:33,446 - INFO - HTTP Request: POST https://ai-rolandaws880125ai409947751408.openai.azure.com/openai/deployments/gpt-4.1-mini/chat/completions?api-version=2025-01-01-preview \"HTTP/1.1 200 OK\"\n",
      "\n",
      "Processing 漢字書き取り (write_chinese):  33%|███▎      | 2/6 [00:56<01:54, 28.68s/it]\u001B[A"
     ]
    },
    {
     "name": "stdout",
     "output_type": "stream",
     "text": [
      "---WEB SEARCH---\n",
      "---Generator----\n"
     ]
    },
    {
     "name": "stderr",
     "output_type": "stream",
     "text": [
      "2025-05-14 21:40:43,169 - INFO - HTTP Request: POST https://ai-rolandaws880125ai409947751408.openai.azure.com/openai/deployments/gpt-4.1/chat/completions?api-version=2025-01-01-preview \"HTTP/1.1 200 OK\"\n"
     ]
    },
    {
     "name": "stdout",
     "output_type": "stream",
     "text": [
      "---REVISOR---\n"
     ]
    },
    {
     "name": "stderr",
     "output_type": "stream",
     "text": [
      "2025-05-14 21:40:50,755 - INFO - HTTP Request: POST https://ai-rolandaws880125ai409947751408.openai.azure.com/openai/deployments/gpt-4.1-mini/chat/completions?api-version=2025-01-01-preview \"HTTP/1.1 200 OK\"\n"
     ]
    },
    {
     "name": "stdout",
     "output_type": "stream",
     "text": [
      "--- AI Reviser feels Good Enough ---\n",
      "--- Formatter ---\n"
     ]
    },
    {
     "name": "stderr",
     "output_type": "stream",
     "text": [
      "2025-05-14 21:40:52,975 - INFO - HTTP Request: POST https://ai-rolandaws880125ai409947751408.openai.azure.com/openai/deployments/gpt-4.1-mini/chat/completions?api-version=2025-01-01-preview \"HTTP/1.1 200 OK\"\n",
      "\n",
      "Processing 漢字書き取り (write_chinese):  50%|█████     | 3/6 [01:15<01:13, 24.51s/it]\u001B[A"
     ]
    },
    {
     "name": "stdout",
     "output_type": "stream",
     "text": [
      "---WEB SEARCH---\n",
      "---Generator----\n"
     ]
    },
    {
     "name": "stderr",
     "output_type": "stream",
     "text": [
      "2025-05-14 21:41:02,103 - INFO - HTTP Request: POST https://ai-rolandaws880125ai409947751408.openai.azure.com/openai/deployments/gpt-4.1/chat/completions?api-version=2025-01-01-preview \"HTTP/1.1 200 OK\"\n"
     ]
    },
    {
     "name": "stdout",
     "output_type": "stream",
     "text": [
      "---REVISOR---\n"
     ]
    },
    {
     "name": "stderr",
     "output_type": "stream",
     "text": [
      "2025-05-14 21:41:08,538 - INFO - HTTP Request: POST https://ai-rolandaws880125ai409947751408.openai.azure.com/openai/deployments/gpt-4.1-mini/chat/completions?api-version=2025-01-01-preview \"HTTP/1.1 200 OK\"\n"
     ]
    },
    {
     "name": "stdout",
     "output_type": "stream",
     "text": [
      "---Generator----\n"
     ]
    },
    {
     "name": "stderr",
     "output_type": "stream",
     "text": [
      "2025-05-14 21:41:15,116 - INFO - HTTP Request: POST https://ai-rolandaws880125ai409947751408.openai.azure.com/openai/deployments/gpt-4.1/chat/completions?api-version=2025-01-01-preview \"HTTP/1.1 200 OK\"\n"
     ]
    },
    {
     "name": "stdout",
     "output_type": "stream",
     "text": [
      "---REVISOR---\n"
     ]
    },
    {
     "name": "stderr",
     "output_type": "stream",
     "text": [
      "2025-05-14 21:41:21,072 - INFO - HTTP Request: POST https://ai-rolandaws880125ai409947751408.openai.azure.com/openai/deployments/gpt-4.1-mini/chat/completions?api-version=2025-01-01-preview \"HTTP/1.1 200 OK\"\n"
     ]
    },
    {
     "name": "stdout",
     "output_type": "stream",
     "text": [
      "--- AI Reviser feels Good Enough ---\n",
      "--- Formatter ---\n"
     ]
    },
    {
     "name": "stderr",
     "output_type": "stream",
     "text": [
      "2025-05-14 21:41:23,647 - INFO - HTTP Request: POST https://ai-rolandaws880125ai409947751408.openai.azure.com/openai/deployments/gpt-4.1-mini/chat/completions?api-version=2025-01-01-preview \"HTTP/1.1 200 OK\"\n",
      "\n",
      "Processing 漢字書き取り (write_chinese):  67%|██████▋   | 4/6 [01:46<00:53, 26.94s/it]\u001B[A"
     ]
    },
    {
     "name": "stdout",
     "output_type": "stream",
     "text": [
      "---WEB SEARCH---\n",
      "---Generator----\n"
     ]
    },
    {
     "name": "stderr",
     "output_type": "stream",
     "text": [
      "2025-05-14 21:41:31,513 - INFO - HTTP Request: POST https://ai-rolandaws880125ai409947751408.openai.azure.com/openai/deployments/gpt-4.1/chat/completions?api-version=2025-01-01-preview \"HTTP/1.1 200 OK\"\n"
     ]
    },
    {
     "name": "stdout",
     "output_type": "stream",
     "text": [
      "---REVISOR---\n"
     ]
    },
    {
     "name": "stderr",
     "output_type": "stream",
     "text": [
      "2025-05-14 21:41:38,849 - INFO - HTTP Request: POST https://ai-rolandaws880125ai409947751408.openai.azure.com/openai/deployments/gpt-4.1-mini/chat/completions?api-version=2025-01-01-preview \"HTTP/1.1 200 OK\"\n"
     ]
    },
    {
     "name": "stdout",
     "output_type": "stream",
     "text": [
      "--- AI Reviser feels Good Enough ---\n",
      "--- Formatter ---\n"
     ]
    },
    {
     "name": "stderr",
     "output_type": "stream",
     "text": [
      "2025-05-14 21:41:40,301 - INFO - HTTP Request: POST https://ai-rolandaws880125ai409947751408.openai.azure.com/openai/deployments/gpt-4.1-mini/chat/completions?api-version=2025-01-01-preview \"HTTP/1.1 200 OK\"\n",
      "\n",
      "Processing 漢字書き取り (write_chinese):  83%|████████▎ | 5/6 [02:03<00:23, 23.23s/it]\u001B[A"
     ]
    },
    {
     "name": "stdout",
     "output_type": "stream",
     "text": [
      "---WEB SEARCH---\n",
      "---Generator----\n"
     ]
    },
    {
     "name": "stderr",
     "output_type": "stream",
     "text": [
      "2025-05-14 21:41:48,204 - INFO - HTTP Request: POST https://ai-rolandaws880125ai409947751408.openai.azure.com/openai/deployments/gpt-4.1/chat/completions?api-version=2025-01-01-preview \"HTTP/1.1 200 OK\"\n"
     ]
    },
    {
     "name": "stdout",
     "output_type": "stream",
     "text": [
      "---REVISOR---\n"
     ]
    },
    {
     "name": "stderr",
     "output_type": "stream",
     "text": [
      "2025-05-14 21:42:01,682 - INFO - HTTP Request: POST https://ai-rolandaws880125ai409947751408.openai.azure.com/openai/deployments/gpt-4.1-mini/chat/completions?api-version=2025-01-01-preview \"HTTP/1.1 200 OK\"\n"
     ]
    },
    {
     "name": "stdout",
     "output_type": "stream",
     "text": [
      "---Generator----\n"
     ]
    },
    {
     "name": "stderr",
     "output_type": "stream",
     "text": [
      "2025-05-14 21:42:05,701 - INFO - HTTP Request: POST https://ai-rolandaws880125ai409947751408.openai.azure.com/openai/deployments/gpt-4.1/chat/completions?api-version=2025-01-01-preview \"HTTP/1.1 200 OK\"\n"
     ]
    },
    {
     "name": "stdout",
     "output_type": "stream",
     "text": [
      "---REVISOR---\n"
     ]
    },
    {
     "name": "stderr",
     "output_type": "stream",
     "text": [
      "2025-05-14 21:42:09,231 - INFO - HTTP Request: POST https://ai-rolandaws880125ai409947751408.openai.azure.com/openai/deployments/gpt-4.1-mini/chat/completions?api-version=2025-01-01-preview \"HTTP/1.1 200 OK\"\n"
     ]
    },
    {
     "name": "stdout",
     "output_type": "stream",
     "text": [
      "--- AI Reviser feels Good Enough ---\n",
      "--- Formatter ---\n"
     ]
    },
    {
     "name": "stderr",
     "output_type": "stream",
     "text": [
      "2025-05-14 21:42:11,014 - INFO - HTTP Request: POST https://ai-rolandaws880125ai409947751408.openai.azure.com/openai/deployments/gpt-4.1-mini/chat/completions?api-version=2025-01-01-preview \"HTTP/1.1 200 OK\"\n",
      "\n",
      "Processing 漢字書き取り (write_chinese): 100%|██████████| 6/6 [02:33<00:00, 25.63s/it]\u001B[A\n",
      "Processing 第1部：語彙・文法:  25%|██▌       | 2/8 [06:23<18:30, 185.06s/it]\n",
      "Processing 語彙意味選択 (word_meaning):   0%|          | 0/11 [00:00<?, ?it/s]\u001B[A"
     ]
    },
    {
     "name": "stdout",
     "output_type": "stream",
     "text": [
      "---WEB SEARCH---\n",
      "---Generator----\n"
     ]
    },
    {
     "name": "stderr",
     "output_type": "stream",
     "text": [
      "2025-05-14 21:42:18,963 - INFO - HTTP Request: POST https://ai-rolandaws880125ai409947751408.openai.azure.com/openai/deployments/gpt-4.1/chat/completions?api-version=2025-01-01-preview \"HTTP/1.1 200 OK\"\n"
     ]
    },
    {
     "name": "stdout",
     "output_type": "stream",
     "text": [
      "---REVISOR---\n"
     ]
    },
    {
     "name": "stderr",
     "output_type": "stream",
     "text": [
      "2025-05-14 21:42:24,615 - INFO - HTTP Request: POST https://ai-rolandaws880125ai409947751408.openai.azure.com/openai/deployments/gpt-4.1-mini/chat/completions?api-version=2025-01-01-preview \"HTTP/1.1 200 OK\"\n"
     ]
    },
    {
     "name": "stdout",
     "output_type": "stream",
     "text": [
      "---Generator----\n"
     ]
    },
    {
     "name": "stderr",
     "output_type": "stream",
     "text": [
      "2025-05-14 21:42:29,681 - INFO - HTTP Request: POST https://ai-rolandaws880125ai409947751408.openai.azure.com/openai/deployments/gpt-4.1/chat/completions?api-version=2025-01-01-preview \"HTTP/1.1 200 OK\"\n"
     ]
    },
    {
     "name": "stdout",
     "output_type": "stream",
     "text": [
      "---REVISOR---\n"
     ]
    },
    {
     "name": "stderr",
     "output_type": "stream",
     "text": [
      "2025-05-14 21:42:35,199 - INFO - HTTP Request: POST https://ai-rolandaws880125ai409947751408.openai.azure.com/openai/deployments/gpt-4.1-mini/chat/completions?api-version=2025-01-01-preview \"HTTP/1.1 200 OK\"\n"
     ]
    },
    {
     "name": "stdout",
     "output_type": "stream",
     "text": [
      "--- AI Reviser feels Good Enough ---\n",
      "--- Formatter ---\n"
     ]
    },
    {
     "name": "stderr",
     "output_type": "stream",
     "text": [
      "2025-05-14 21:42:37,925 - INFO - HTTP Request: POST https://ai-rolandaws880125ai409947751408.openai.azure.com/openai/deployments/gpt-4.1-mini/chat/completions?api-version=2025-01-01-preview \"HTTP/1.1 200 OK\"\n",
      "\n",
      "Processing 語彙意味選択 (word_meaning):   9%|▉         | 1/11 [00:26<04:29, 26.91s/it]\u001B[A"
     ]
    },
    {
     "name": "stdout",
     "output_type": "stream",
     "text": [
      "---WEB SEARCH---\n",
      "---Generator----\n"
     ]
    },
    {
     "name": "stderr",
     "output_type": "stream",
     "text": [
      "2025-05-14 21:42:45,487 - INFO - HTTP Request: POST https://ai-rolandaws880125ai409947751408.openai.azure.com/openai/deployments/gpt-4.1/chat/completions?api-version=2025-01-01-preview \"HTTP/1.1 200 OK\"\n"
     ]
    },
    {
     "name": "stdout",
     "output_type": "stream",
     "text": [
      "---REVISOR---\n"
     ]
    },
    {
     "name": "stderr",
     "output_type": "stream",
     "text": [
      "2025-05-14 21:42:51,586 - INFO - HTTP Request: POST https://ai-rolandaws880125ai409947751408.openai.azure.com/openai/deployments/gpt-4.1-mini/chat/completions?api-version=2025-01-01-preview \"HTTP/1.1 200 OK\"\n"
     ]
    },
    {
     "name": "stdout",
     "output_type": "stream",
     "text": [
      "---Generator----\n"
     ]
    },
    {
     "name": "stderr",
     "output_type": "stream",
     "text": [
      "2025-05-14 21:42:55,673 - INFO - HTTP Request: POST https://ai-rolandaws880125ai409947751408.openai.azure.com/openai/deployments/gpt-4.1/chat/completions?api-version=2025-01-01-preview \"HTTP/1.1 200 OK\"\n"
     ]
    },
    {
     "name": "stdout",
     "output_type": "stream",
     "text": [
      "---REVISOR---\n"
     ]
    },
    {
     "name": "stderr",
     "output_type": "stream",
     "text": [
      "2025-05-14 21:43:01,053 - INFO - HTTP Request: POST https://ai-rolandaws880125ai409947751408.openai.azure.com/openai/deployments/gpt-4.1-mini/chat/completions?api-version=2025-01-01-preview \"HTTP/1.1 200 OK\"\n"
     ]
    },
    {
     "name": "stdout",
     "output_type": "stream",
     "text": [
      "--- AI Reviser feels Good Enough ---\n",
      "--- Formatter ---\n"
     ]
    },
    {
     "name": "stderr",
     "output_type": "stream",
     "text": [
      "2025-05-14 21:43:03,135 - INFO - HTTP Request: POST https://ai-rolandaws880125ai409947751408.openai.azure.com/openai/deployments/gpt-4.1-mini/chat/completions?api-version=2025-01-01-preview \"HTTP/1.1 200 OK\"\n",
      "\n",
      "Processing 語彙意味選択 (word_meaning):  18%|█▊        | 2/11 [00:52<03:53, 25.91s/it]\u001B[A"
     ]
    },
    {
     "name": "stdout",
     "output_type": "stream",
     "text": [
      "---WEB SEARCH---\n",
      "---Generator----\n"
     ]
    },
    {
     "name": "stderr",
     "output_type": "stream",
     "text": [
      "2025-05-14 21:43:11,221 - INFO - HTTP Request: POST https://ai-rolandaws880125ai409947751408.openai.azure.com/openai/deployments/gpt-4.1/chat/completions?api-version=2025-01-01-preview \"HTTP/1.1 200 OK\"\n"
     ]
    },
    {
     "name": "stdout",
     "output_type": "stream",
     "text": [
      "---REVISOR---\n"
     ]
    },
    {
     "name": "stderr",
     "output_type": "stream",
     "text": [
      "2025-05-14 21:47:17,898 - INFO - HTTP Request: POST https://ai-rolandaws880125ai409947751408.openai.azure.com/openai/deployments/gpt-4.1-mini/chat/completions?api-version=2025-01-01-preview \"HTTP/1.1 200 OK\"\n"
     ]
    },
    {
     "name": "stdout",
     "output_type": "stream",
     "text": [
      "---Generator----\n"
     ]
    },
    {
     "name": "stderr",
     "output_type": "stream",
     "text": [
      "2025-05-14 21:47:30,370 - INFO - HTTP Request: POST https://ai-rolandaws880125ai409947751408.openai.azure.com/openai/deployments/gpt-4.1/chat/completions?api-version=2025-01-01-preview \"HTTP/1.1 200 OK\"\n"
     ]
    },
    {
     "name": "stdout",
     "output_type": "stream",
     "text": [
      "---REVISOR---\n"
     ]
    },
    {
     "name": "stderr",
     "output_type": "stream",
     "text": [
      "2025-05-14 21:47:44,005 - INFO - HTTP Request: POST https://ai-rolandaws880125ai409947751408.openai.azure.com/openai/deployments/gpt-4.1-mini/chat/completions?api-version=2025-01-01-preview \"HTTP/1.1 200 OK\"\n"
     ]
    },
    {
     "name": "stdout",
     "output_type": "stream",
     "text": [
      "--- AI Reviser feels Good Enough ---\n",
      "--- Formatter ---\n"
     ]
    },
    {
     "name": "stderr",
     "output_type": "stream",
     "text": [
      "2025-05-14 21:47:45,802 - INFO - HTTP Request: POST https://ai-rolandaws880125ai409947751408.openai.azure.com/openai/deployments/gpt-4.1-mini/chat/completions?api-version=2025-01-01-preview \"HTTP/1.1 200 OK\"\n",
      "\n",
      "Processing 語彙意味選択 (word_meaning):  27%|██▋       | 3/11 [05:34<19:05, 143.15s/it]\u001B[A"
     ]
    },
    {
     "name": "stdout",
     "output_type": "stream",
     "text": [
      "---WEB SEARCH---\n",
      "---Generator----\n"
     ]
    },
    {
     "name": "stderr",
     "output_type": "stream",
     "text": [
      "2025-05-14 21:47:59,786 - INFO - HTTP Request: POST https://ai-rolandaws880125ai409947751408.openai.azure.com/openai/deployments/gpt-4.1/chat/completions?api-version=2025-01-01-preview \"HTTP/1.1 200 OK\"\n"
     ]
    },
    {
     "name": "stdout",
     "output_type": "stream",
     "text": [
      "---REVISOR---\n"
     ]
    },
    {
     "name": "stderr",
     "output_type": "stream",
     "text": [
      "2025-05-14 21:48:12,311 - INFO - HTTP Request: POST https://ai-rolandaws880125ai409947751408.openai.azure.com/openai/deployments/gpt-4.1-mini/chat/completions?api-version=2025-01-01-preview \"HTTP/1.1 200 OK\"\n"
     ]
    },
    {
     "name": "stdout",
     "output_type": "stream",
     "text": [
      "---Generator----\n"
     ]
    },
    {
     "name": "stderr",
     "output_type": "stream",
     "text": [
      "2025-05-14 21:48:14,614 - INFO - Retrying request to /chat/completions in 0.382566 seconds\n",
      "2025-05-14 21:48:35,808 - INFO - Retrying request to /chat/completions in 0.849590 seconds\n",
      "2025-05-14 21:48:42,368 - INFO - HTTP Request: POST https://ai-rolandaws880125ai409947751408.openai.azure.com/openai/deployments/gpt-4.1/chat/completions?api-version=2025-01-01-preview \"HTTP/1.1 200 OK\"\n"
     ]
    },
    {
     "name": "stdout",
     "output_type": "stream",
     "text": [
      "---REVISOR---\n"
     ]
    },
    {
     "name": "stderr",
     "output_type": "stream",
     "text": [
      "2025-05-14 21:48:54,664 - INFO - HTTP Request: POST https://ai-rolandaws880125ai409947751408.openai.azure.com/openai/deployments/gpt-4.1-mini/chat/completions?api-version=2025-01-01-preview \"HTTP/1.1 200 OK\"\n"
     ]
    },
    {
     "name": "stdout",
     "output_type": "stream",
     "text": [
      "--- AI Reviser feels Good Enough ---\n",
      "--- Formatter ---\n"
     ]
    },
    {
     "name": "stderr",
     "output_type": "stream",
     "text": [
      "2025-05-14 21:48:56,983 - INFO - HTTP Request: POST https://ai-rolandaws880125ai409947751408.openai.azure.com/openai/deployments/gpt-4.1-mini/chat/completions?api-version=2025-01-01-preview \"HTTP/1.1 200 OK\"\n",
      "\n",
      "Processing 語彙意味選択 (word_meaning):  36%|███▋      | 4/11 [06:45<13:23, 114.74s/it]\u001B[A"
     ]
    },
    {
     "name": "stdout",
     "output_type": "stream",
     "text": [
      "---WEB SEARCH---\n",
      "---Generator----\n"
     ]
    },
    {
     "name": "stderr",
     "output_type": "stream",
     "text": [
      "2025-05-14 21:49:09,569 - INFO - HTTP Request: POST https://ai-rolandaws880125ai409947751408.openai.azure.com/openai/deployments/gpt-4.1/chat/completions?api-version=2025-01-01-preview \"HTTP/1.1 200 OK\"\n"
     ]
    },
    {
     "name": "stdout",
     "output_type": "stream",
     "text": [
      "---REVISOR---\n"
     ]
    },
    {
     "name": "stderr",
     "output_type": "stream",
     "text": [
      "2025-05-14 21:49:29,790 - INFO - HTTP Request: POST https://ai-rolandaws880125ai409947751408.openai.azure.com/openai/deployments/gpt-4.1-mini/chat/completions?api-version=2025-01-01-preview \"HTTP/1.1 200 OK\"\n"
     ]
    },
    {
     "name": "stdout",
     "output_type": "stream",
     "text": [
      "---Generator----\n"
     ]
    },
    {
     "name": "stderr",
     "output_type": "stream",
     "text": [
      "2025-05-14 21:49:35,012 - INFO - HTTP Request: POST https://ai-rolandaws880125ai409947751408.openai.azure.com/openai/deployments/gpt-4.1/chat/completions?api-version=2025-01-01-preview \"HTTP/1.1 200 OK\"\n"
     ]
    },
    {
     "name": "stdout",
     "output_type": "stream",
     "text": [
      "---REVISOR---\n"
     ]
    },
    {
     "name": "stderr",
     "output_type": "stream",
     "text": [
      "2025-05-14 21:49:40,598 - INFO - HTTP Request: POST https://ai-rolandaws880125ai409947751408.openai.azure.com/openai/deployments/gpt-4.1-mini/chat/completions?api-version=2025-01-01-preview \"HTTP/1.1 200 OK\"\n"
     ]
    },
    {
     "name": "stdout",
     "output_type": "stream",
     "text": [
      "--- AI Reviser feels Good Enough ---\n",
      "--- Formatter ---\n"
     ]
    },
    {
     "name": "stderr",
     "output_type": "stream",
     "text": [
      "2025-05-14 21:49:42,646 - INFO - HTTP Request: POST https://ai-rolandaws880125ai409947751408.openai.azure.com/openai/deployments/gpt-4.1-mini/chat/completions?api-version=2025-01-01-preview \"HTTP/1.1 200 OK\"\n",
      "\n",
      "Processing 語彙意味選択 (word_meaning):  45%|████▌     | 5/11 [07:31<08:58, 89.83s/it] \u001B[A"
     ]
    },
    {
     "name": "stdout",
     "output_type": "stream",
     "text": [
      "---WEB SEARCH---\n",
      "---Generator----\n"
     ]
    },
    {
     "name": "stderr",
     "output_type": "stream",
     "text": [
      "2025-05-14 21:49:54,438 - INFO - HTTP Request: POST https://ai-rolandaws880125ai409947751408.openai.azure.com/openai/deployments/gpt-4.1/chat/completions?api-version=2025-01-01-preview \"HTTP/1.1 200 OK\"\n"
     ]
    },
    {
     "name": "stdout",
     "output_type": "stream",
     "text": [
      "---REVISOR---\n"
     ]
    },
    {
     "name": "stderr",
     "output_type": "stream",
     "text": [
      "2025-05-14 21:50:01,235 - INFO - HTTP Request: POST https://ai-rolandaws880125ai409947751408.openai.azure.com/openai/deployments/gpt-4.1-mini/chat/completions?api-version=2025-01-01-preview \"HTTP/1.1 200 OK\"\n"
     ]
    },
    {
     "name": "stdout",
     "output_type": "stream",
     "text": [
      "--- AI Reviser feels Good Enough ---\n",
      "--- Formatter ---\n"
     ]
    },
    {
     "name": "stderr",
     "output_type": "stream",
     "text": [
      "2025-05-14 21:50:03,818 - INFO - HTTP Request: POST https://ai-rolandaws880125ai409947751408.openai.azure.com/openai/deployments/gpt-4.1-mini/chat/completions?api-version=2025-01-01-preview \"HTTP/1.1 200 OK\"\n",
      "\n",
      "Processing 語彙意味選択 (word_meaning):  55%|█████▍    | 6/11 [07:52<05:32, 66.49s/it]\u001B[A"
     ]
    },
    {
     "name": "stdout",
     "output_type": "stream",
     "text": [
      "---WEB SEARCH---\n",
      "---Generator----\n"
     ]
    },
    {
     "name": "stderr",
     "output_type": "stream",
     "text": [
      "2025-05-14 21:50:19,402 - INFO - HTTP Request: POST https://ai-rolandaws880125ai409947751408.openai.azure.com/openai/deployments/gpt-4.1/chat/completions?api-version=2025-01-01-preview \"HTTP/1.1 200 OK\"\n"
     ]
    },
    {
     "name": "stdout",
     "output_type": "stream",
     "text": [
      "---REVISOR---\n"
     ]
    },
    {
     "name": "stderr",
     "output_type": "stream",
     "text": [
      "2025-05-14 21:50:26,821 - INFO - HTTP Request: POST https://ai-rolandaws880125ai409947751408.openai.azure.com/openai/deployments/gpt-4.1-mini/chat/completions?api-version=2025-01-01-preview \"HTTP/1.1 200 OK\"\n"
     ]
    },
    {
     "name": "stdout",
     "output_type": "stream",
     "text": [
      "---Generator----\n"
     ]
    },
    {
     "name": "stderr",
     "output_type": "stream",
     "text": [
      "2025-05-14 21:50:32,751 - INFO - HTTP Request: POST https://ai-rolandaws880125ai409947751408.openai.azure.com/openai/deployments/gpt-4.1/chat/completions?api-version=2025-01-01-preview \"HTTP/1.1 200 OK\"\n"
     ]
    },
    {
     "name": "stdout",
     "output_type": "stream",
     "text": [
      "---REVISOR---\n"
     ]
    },
    {
     "name": "stderr",
     "output_type": "stream",
     "text": [
      "2025-05-14 21:50:39,215 - INFO - HTTP Request: POST https://ai-rolandaws880125ai409947751408.openai.azure.com/openai/deployments/gpt-4.1-mini/chat/completions?api-version=2025-01-01-preview \"HTTP/1.1 200 OK\"\n"
     ]
    },
    {
     "name": "stdout",
     "output_type": "stream",
     "text": [
      "--- AI Reviser feels Good Enough ---\n",
      "--- Formatter ---\n"
     ]
    },
    {
     "name": "stderr",
     "output_type": "stream",
     "text": [
      "2025-05-14 21:50:46,065 - INFO - HTTP Request: POST https://ai-rolandaws880125ai409947751408.openai.azure.com/openai/deployments/gpt-4.1-mini/chat/completions?api-version=2025-01-01-preview \"HTTP/1.1 200 OK\"\n",
      "\n",
      "Processing 語彙意味選択 (word_meaning):  64%|██████▎   | 7/11 [08:35<03:54, 58.56s/it]\u001B[A"
     ]
    },
    {
     "name": "stdout",
     "output_type": "stream",
     "text": [
      "---WEB SEARCH---\n",
      "---Generator----\n"
     ]
    },
    {
     "name": "stderr",
     "output_type": "stream",
     "text": [
      "2025-05-14 21:51:07,693 - INFO - HTTP Request: POST https://ai-rolandaws880125ai409947751408.openai.azure.com/openai/deployments/gpt-4.1/chat/completions?api-version=2025-01-01-preview \"HTTP/1.1 200 OK\"\n"
     ]
    },
    {
     "name": "stdout",
     "output_type": "stream",
     "text": [
      "---REVISOR---\n"
     ]
    },
    {
     "name": "stderr",
     "output_type": "stream",
     "text": [
      "2025-05-14 21:51:17,507 - INFO - HTTP Request: POST https://ai-rolandaws880125ai409947751408.openai.azure.com/openai/deployments/gpt-4.1-mini/chat/completions?api-version=2025-01-01-preview \"HTTP/1.1 200 OK\"\n"
     ]
    },
    {
     "name": "stdout",
     "output_type": "stream",
     "text": [
      "---Generator----\n"
     ]
    },
    {
     "name": "stderr",
     "output_type": "stream",
     "text": [
      "2025-05-14 21:51:23,960 - INFO - HTTP Request: POST https://ai-rolandaws880125ai409947751408.openai.azure.com/openai/deployments/gpt-4.1/chat/completions?api-version=2025-01-01-preview \"HTTP/1.1 200 OK\"\n"
     ]
    },
    {
     "name": "stdout",
     "output_type": "stream",
     "text": [
      "---REVISOR---\n"
     ]
    },
    {
     "name": "stderr",
     "output_type": "stream",
     "text": [
      "2025-05-14 21:51:31,161 - INFO - HTTP Request: POST https://ai-rolandaws880125ai409947751408.openai.azure.com/openai/deployments/gpt-4.1-mini/chat/completions?api-version=2025-01-01-preview \"HTTP/1.1 200 OK\"\n"
     ]
    },
    {
     "name": "stdout",
     "output_type": "stream",
     "text": [
      "--- AI Reviser feels Good Enough ---\n",
      "--- Formatter ---\n"
     ]
    },
    {
     "name": "stderr",
     "output_type": "stream",
     "text": [
      "2025-05-14 21:51:34,413 - INFO - HTTP Request: POST https://ai-rolandaws880125ai409947751408.openai.azure.com/openai/deployments/gpt-4.1-mini/chat/completions?api-version=2025-01-01-preview \"HTTP/1.1 200 OK\"\n",
      "\n",
      "Processing 語彙意味選択 (word_meaning):  73%|███████▎  | 8/11 [09:23<02:45, 55.31s/it]\u001B[A"
     ]
    },
    {
     "name": "stdout",
     "output_type": "stream",
     "text": [
      "---WEB SEARCH---\n",
      "---Generator----\n"
     ]
    },
    {
     "name": "stderr",
     "output_type": "stream",
     "text": [
      "2025-05-14 21:51:44,355 - INFO - HTTP Request: POST https://ai-rolandaws880125ai409947751408.openai.azure.com/openai/deployments/gpt-4.1/chat/completions?api-version=2025-01-01-preview \"HTTP/1.1 200 OK\"\n"
     ]
    },
    {
     "name": "stdout",
     "output_type": "stream",
     "text": [
      "---REVISOR---\n"
     ]
    },
    {
     "name": "stderr",
     "output_type": "stream",
     "text": [
      "2025-05-14 21:51:59,599 - INFO - HTTP Request: POST https://ai-rolandaws880125ai409947751408.openai.azure.com/openai/deployments/gpt-4.1-mini/chat/completions?api-version=2025-01-01-preview \"HTTP/1.1 200 OK\"\n"
     ]
    },
    {
     "name": "stdout",
     "output_type": "stream",
     "text": [
      "---Generator----\n"
     ]
    },
    {
     "name": "stderr",
     "output_type": "stream",
     "text": [
      "2025-05-14 21:52:04,968 - INFO - HTTP Request: POST https://ai-rolandaws880125ai409947751408.openai.azure.com/openai/deployments/gpt-4.1/chat/completions?api-version=2025-01-01-preview \"HTTP/1.1 200 OK\"\n"
     ]
    },
    {
     "name": "stdout",
     "output_type": "stream",
     "text": [
      "---REVISOR---\n"
     ]
    },
    {
     "name": "stderr",
     "output_type": "stream",
     "text": [
      "2025-05-14 21:52:18,410 - INFO - HTTP Request: POST https://ai-rolandaws880125ai409947751408.openai.azure.com/openai/deployments/gpt-4.1-mini/chat/completions?api-version=2025-01-01-preview \"HTTP/1.1 200 OK\"\n"
     ]
    },
    {
     "name": "stdout",
     "output_type": "stream",
     "text": [
      "--- AI Reviser feels Good Enough ---\n",
      "--- Formatter ---\n"
     ]
    },
    {
     "name": "stderr",
     "output_type": "stream",
     "text": [
      "2025-05-14 21:52:20,489 - INFO - HTTP Request: POST https://ai-rolandaws880125ai409947751408.openai.azure.com/openai/deployments/gpt-4.1-mini/chat/completions?api-version=2025-01-01-preview \"HTTP/1.1 200 OK\"\n",
      "\n",
      "Processing 語彙意味選択 (word_meaning):  82%|████████▏ | 9/11 [10:09<01:44, 52.42s/it]\u001B[A"
     ]
    },
    {
     "name": "stdout",
     "output_type": "stream",
     "text": [
      "---WEB SEARCH---\n",
      "---Generator----\n"
     ]
    },
    {
     "name": "stderr",
     "output_type": "stream",
     "text": [
      "2025-05-14 21:52:30,392 - INFO - HTTP Request: POST https://ai-rolandaws880125ai409947751408.openai.azure.com/openai/deployments/gpt-4.1/chat/completions?api-version=2025-01-01-preview \"HTTP/1.1 200 OK\"\n"
     ]
    },
    {
     "name": "stdout",
     "output_type": "stream",
     "text": [
      "---REVISOR---\n"
     ]
    },
    {
     "name": "stderr",
     "output_type": "stream",
     "text": [
      "2025-05-14 21:52:41,099 - INFO - HTTP Request: POST https://ai-rolandaws880125ai409947751408.openai.azure.com/openai/deployments/gpt-4.1-mini/chat/completions?api-version=2025-01-01-preview \"HTTP/1.1 200 OK\"\n"
     ]
    },
    {
     "name": "stdout",
     "output_type": "stream",
     "text": [
      "---Generator----\n"
     ]
    },
    {
     "name": "stderr",
     "output_type": "stream",
     "text": [
      "2025-05-14 21:52:47,106 - INFO - HTTP Request: POST https://ai-rolandaws880125ai409947751408.openai.azure.com/openai/deployments/gpt-4.1/chat/completions?api-version=2025-01-01-preview \"HTTP/1.1 200 OK\"\n"
     ]
    },
    {
     "name": "stdout",
     "output_type": "stream",
     "text": [
      "---REVISOR---\n"
     ]
    },
    {
     "name": "stderr",
     "output_type": "stream",
     "text": [
      "2025-05-14 21:52:51,753 - INFO - HTTP Request: POST https://ai-rolandaws880125ai409947751408.openai.azure.com/openai/deployments/gpt-4.1-mini/chat/completions?api-version=2025-01-01-preview \"HTTP/1.1 200 OK\"\n"
     ]
    },
    {
     "name": "stdout",
     "output_type": "stream",
     "text": [
      "--- AI Reviser feels Good Enough ---\n",
      "--- Formatter ---\n"
     ]
    },
    {
     "name": "stderr",
     "output_type": "stream",
     "text": [
      "2025-05-14 21:52:53,997 - INFO - HTTP Request: POST https://ai-rolandaws880125ai409947751408.openai.azure.com/openai/deployments/gpt-4.1-mini/chat/completions?api-version=2025-01-01-preview \"HTTP/1.1 200 OK\"\n",
      "\n",
      "Processing 語彙意味選択 (word_meaning):  91%|█████████ | 10/11 [10:42<00:46, 46.59s/it]\u001B[A"
     ]
    },
    {
     "name": "stdout",
     "output_type": "stream",
     "text": [
      "---WEB SEARCH---\n",
      "---Generator----\n"
     ]
    },
    {
     "name": "stderr",
     "output_type": "stream",
     "text": [
      "2025-05-14 21:53:05,828 - INFO - HTTP Request: POST https://ai-rolandaws880125ai409947751408.openai.azure.com/openai/deployments/gpt-4.1/chat/completions?api-version=2025-01-01-preview \"HTTP/1.1 200 OK\"\n"
     ]
    },
    {
     "name": "stdout",
     "output_type": "stream",
     "text": [
      "---REVISOR---\n"
     ]
    },
    {
     "name": "stderr",
     "output_type": "stream",
     "text": [
      "2025-05-14 21:53:27,873 - INFO - HTTP Request: POST https://ai-rolandaws880125ai409947751408.openai.azure.com/openai/deployments/gpt-4.1-mini/chat/completions?api-version=2025-01-01-preview \"HTTP/1.1 200 OK\"\n"
     ]
    },
    {
     "name": "stdout",
     "output_type": "stream",
     "text": [
      "---Generator----\n"
     ]
    },
    {
     "name": "stderr",
     "output_type": "stream",
     "text": [
      "2025-05-14 21:53:34,171 - INFO - HTTP Request: POST https://ai-rolandaws880125ai409947751408.openai.azure.com/openai/deployments/gpt-4.1/chat/completions?api-version=2025-01-01-preview \"HTTP/1.1 200 OK\"\n"
     ]
    },
    {
     "name": "stdout",
     "output_type": "stream",
     "text": [
      "---REVISOR---\n"
     ]
    },
    {
     "name": "stderr",
     "output_type": "stream",
     "text": [
      "2025-05-14 21:53:43,370 - INFO - HTTP Request: POST https://ai-rolandaws880125ai409947751408.openai.azure.com/openai/deployments/gpt-4.1-mini/chat/completions?api-version=2025-01-01-preview \"HTTP/1.1 200 OK\"\n"
     ]
    },
    {
     "name": "stdout",
     "output_type": "stream",
     "text": [
      "--- AI Reviser feels Good Enough ---\n",
      "--- Formatter ---\n"
     ]
    },
    {
     "name": "stderr",
     "output_type": "stream",
     "text": [
      "2025-05-14 21:53:46,730 - INFO - HTTP Request: POST https://ai-rolandaws880125ai409947751408.openai.azure.com/openai/deployments/gpt-4.1-mini/chat/completions?api-version=2025-01-01-preview \"HTTP/1.1 200 OK\"\n",
      "\n",
      "Processing 語彙意味選択 (word_meaning): 100%|██████████| 11/11 [11:35<00:00, 63.25s/it]\u001B[A\n",
      "Processing 第1部：語彙・文法:  38%|███▊      | 3/8 [17:59<34:51, 418.23s/it]\n",
      "Processing 同義語置き換え (synonym_substitution):   0%|          | 0/5 [00:00<?, ?it/s]\u001B[A"
     ]
    },
    {
     "name": "stdout",
     "output_type": "stream",
     "text": [
      "---WEB SEARCH---\n",
      "---Generator----\n"
     ]
    },
    {
     "name": "stderr",
     "output_type": "stream",
     "text": [
      "2025-05-14 21:54:22,280 - INFO - Retrying request to /chat/completions in 0.464981 seconds\n",
      "2025-05-14 21:54:25,608 - INFO - Retrying request to /chat/completions in 0.885839 seconds\n",
      "2025-05-14 21:54:35,832 - INFO - HTTP Request: POST https://ai-rolandaws880125ai409947751408.openai.azure.com/openai/deployments/gpt-4.1/chat/completions?api-version=2025-01-01-preview \"HTTP/1.1 200 OK\"\n"
     ]
    },
    {
     "name": "stdout",
     "output_type": "stream",
     "text": [
      "---REVISOR---\n"
     ]
    },
    {
     "name": "stderr",
     "output_type": "stream",
     "text": [
      "2025-05-14 21:54:43,006 - INFO - HTTP Request: POST https://ai-rolandaws880125ai409947751408.openai.azure.com/openai/deployments/gpt-4.1-mini/chat/completions?api-version=2025-01-01-preview \"HTTP/1.1 200 OK\"\n"
     ]
    },
    {
     "name": "stdout",
     "output_type": "stream",
     "text": [
      "---Generator----\n"
     ]
    },
    {
     "name": "stderr",
     "output_type": "stream",
     "text": [
      "2025-05-14 21:54:58,023 - INFO - Retrying request to /chat/completions in 0.486759 seconds\n",
      "2025-05-14 21:55:03,998 - INFO - HTTP Request: POST https://ai-rolandaws880125ai409947751408.openai.azure.com/openai/deployments/gpt-4.1/chat/completions?api-version=2025-01-01-preview \"HTTP/1.1 200 OK\"\n"
     ]
    },
    {
     "name": "stdout",
     "output_type": "stream",
     "text": [
      "---REVISOR---\n"
     ]
    },
    {
     "name": "stderr",
     "output_type": "stream",
     "text": [
      "2025-05-14 21:55:10,311 - INFO - HTTP Request: POST https://ai-rolandaws880125ai409947751408.openai.azure.com/openai/deployments/gpt-4.1-mini/chat/completions?api-version=2025-01-01-preview \"HTTP/1.1 200 OK\"\n"
     ]
    },
    {
     "name": "stdout",
     "output_type": "stream",
     "text": [
      "--- AI Reviser feels Good Enough ---\n",
      "--- Formatter ---\n"
     ]
    },
    {
     "name": "stderr",
     "output_type": "stream",
     "text": [
      "2025-05-14 21:55:12,374 - INFO - HTTP Request: POST https://ai-rolandaws880125ai409947751408.openai.azure.com/openai/deployments/gpt-4.1-mini/chat/completions?api-version=2025-01-01-preview \"HTTP/1.1 200 OK\"\n",
      "\n",
      "Processing 同義語置き換え (synonym_substitution):  20%|██        | 1/5 [01:25<05:42, 85.65s/it]\u001B[A"
     ]
    },
    {
     "name": "stdout",
     "output_type": "stream",
     "text": [
      "---WEB SEARCH---\n",
      "---Generator----\n"
     ]
    },
    {
     "name": "stderr",
     "output_type": "stream",
     "text": [
      "2025-05-14 21:55:25,817 - INFO - HTTP Request: POST https://ai-rolandaws880125ai409947751408.openai.azure.com/openai/deployments/gpt-4.1/chat/completions?api-version=2025-01-01-preview \"HTTP/1.1 200 OK\"\n"
     ]
    },
    {
     "name": "stdout",
     "output_type": "stream",
     "text": [
      "---REVISOR---\n"
     ]
    },
    {
     "name": "stderr",
     "output_type": "stream",
     "text": [
      "2025-05-14 21:55:37,889 - INFO - HTTP Request: POST https://ai-rolandaws880125ai409947751408.openai.azure.com/openai/deployments/gpt-4.1-mini/chat/completions?api-version=2025-01-01-preview \"HTTP/1.1 200 OK\"\n"
     ]
    },
    {
     "name": "stdout",
     "output_type": "stream",
     "text": [
      "---Generator----\n"
     ]
    },
    {
     "name": "stderr",
     "output_type": "stream",
     "text": [
      "2025-05-14 21:55:44,585 - INFO - HTTP Request: POST https://ai-rolandaws880125ai409947751408.openai.azure.com/openai/deployments/gpt-4.1/chat/completions?api-version=2025-01-01-preview \"HTTP/1.1 200 OK\"\n"
     ]
    },
    {
     "name": "stdout",
     "output_type": "stream",
     "text": [
      "---REVISOR---\n"
     ]
    },
    {
     "name": "stderr",
     "output_type": "stream",
     "text": [
      "2025-05-14 21:55:51,603 - INFO - HTTP Request: POST https://ai-rolandaws880125ai409947751408.openai.azure.com/openai/deployments/gpt-4.1-mini/chat/completions?api-version=2025-01-01-preview \"HTTP/1.1 200 OK\"\n"
     ]
    },
    {
     "name": "stdout",
     "output_type": "stream",
     "text": [
      "--- AI Reviser feels Good Enough ---\n",
      "--- Formatter ---\n"
     ]
    },
    {
     "name": "stderr",
     "output_type": "stream",
     "text": [
      "2025-05-14 21:55:54,268 - INFO - HTTP Request: POST https://ai-rolandaws880125ai409947751408.openai.azure.com/openai/deployments/gpt-4.1-mini/chat/completions?api-version=2025-01-01-preview \"HTTP/1.1 200 OK\"\n",
      "\n",
      "Processing 同義語置き換え (synonym_substitution):  40%|████      | 2/5 [02:07<02:59, 59.91s/it]\u001B[A"
     ]
    },
    {
     "name": "stdout",
     "output_type": "stream",
     "text": [
      "---WEB SEARCH---\n",
      "---Generator----\n"
     ]
    },
    {
     "name": "stderr",
     "output_type": "stream",
     "text": [
      "2025-05-14 21:56:22,148 - INFO - HTTP Request: POST https://ai-rolandaws880125ai409947751408.openai.azure.com/openai/deployments/gpt-4.1/chat/completions?api-version=2025-01-01-preview \"HTTP/1.1 200 OK\"\n"
     ]
    },
    {
     "name": "stdout",
     "output_type": "stream",
     "text": [
      "---REVISOR---\n"
     ]
    },
    {
     "name": "stderr",
     "output_type": "stream",
     "text": [
      "2025-05-14 21:56:29,742 - INFO - HTTP Request: POST https://ai-rolandaws880125ai409947751408.openai.azure.com/openai/deployments/gpt-4.1-mini/chat/completions?api-version=2025-01-01-preview \"HTTP/1.1 200 OK\"\n"
     ]
    },
    {
     "name": "stdout",
     "output_type": "stream",
     "text": [
      "--- AI Reviser feels Good Enough ---\n",
      "--- Formatter ---\n"
     ]
    },
    {
     "name": "stderr",
     "output_type": "stream",
     "text": [
      "2025-05-14 21:56:31,572 - INFO - HTTP Request: POST https://ai-rolandaws880125ai409947751408.openai.azure.com/openai/deployments/gpt-4.1-mini/chat/completions?api-version=2025-01-01-preview \"HTTP/1.1 200 OK\"\n",
      "\n",
      "Processing 同義語置き換え (synonym_substitution):  60%|██████    | 3/5 [02:44<01:39, 49.58s/it]\u001B[A"
     ]
    },
    {
     "name": "stdout",
     "output_type": "stream",
     "text": [
      "---WEB SEARCH---\n",
      "---Generator----\n"
     ]
    },
    {
     "name": "stderr",
     "output_type": "stream",
     "text": [
      "2025-05-14 21:56:42,605 - INFO - HTTP Request: POST https://ai-rolandaws880125ai409947751408.openai.azure.com/openai/deployments/gpt-4.1/chat/completions?api-version=2025-01-01-preview \"HTTP/1.1 200 OK\"\n"
     ]
    },
    {
     "name": "stdout",
     "output_type": "stream",
     "text": [
      "---REVISOR---\n"
     ]
    },
    {
     "name": "stderr",
     "output_type": "stream",
     "text": [
      "2025-05-14 21:56:49,344 - INFO - HTTP Request: POST https://ai-rolandaws880125ai409947751408.openai.azure.com/openai/deployments/gpt-4.1-mini/chat/completions?api-version=2025-01-01-preview \"HTTP/1.1 200 OK\"\n"
     ]
    },
    {
     "name": "stdout",
     "output_type": "stream",
     "text": [
      "---Generator----\n"
     ]
    },
    {
     "name": "stderr",
     "output_type": "stream",
     "text": [
      "2025-05-14 21:56:53,656 - INFO - HTTP Request: POST https://ai-rolandaws880125ai409947751408.openai.azure.com/openai/deployments/gpt-4.1/chat/completions?api-version=2025-01-01-preview \"HTTP/1.1 200 OK\"\n"
     ]
    },
    {
     "name": "stdout",
     "output_type": "stream",
     "text": [
      "---REVISOR---\n"
     ]
    },
    {
     "name": "stderr",
     "output_type": "stream",
     "text": [
      "2025-05-14 21:56:59,116 - INFO - HTTP Request: POST https://ai-rolandaws880125ai409947751408.openai.azure.com/openai/deployments/gpt-4.1-mini/chat/completions?api-version=2025-01-01-preview \"HTTP/1.1 200 OK\"\n"
     ]
    },
    {
     "name": "stdout",
     "output_type": "stream",
     "text": [
      "---Generator----\n"
     ]
    },
    {
     "name": "stderr",
     "output_type": "stream",
     "text": [
      "2025-05-14 21:57:04,331 - INFO - HTTP Request: POST https://ai-rolandaws880125ai409947751408.openai.azure.com/openai/deployments/gpt-4.1/chat/completions?api-version=2025-01-01-preview \"HTTP/1.1 200 OK\"\n"
     ]
    },
    {
     "name": "stdout",
     "output_type": "stream",
     "text": [
      "---REVISOR---\n"
     ]
    },
    {
     "name": "stderr",
     "output_type": "stream",
     "text": [
      "2025-05-14 21:57:11,046 - INFO - HTTP Request: POST https://ai-rolandaws880125ai409947751408.openai.azure.com/openai/deployments/gpt-4.1-mini/chat/completions?api-version=2025-01-01-preview \"HTTP/1.1 200 OK\"\n"
     ]
    },
    {
     "name": "stdout",
     "output_type": "stream",
     "text": [
      "--- Reach the Maximum Round ---\n",
      "--- Formatter ---\n"
     ]
    },
    {
     "name": "stderr",
     "output_type": "stream",
     "text": [
      "2025-05-14 21:57:13,650 - INFO - HTTP Request: POST https://ai-rolandaws880125ai409947751408.openai.azure.com/openai/deployments/gpt-4.1-mini/chat/completions?api-version=2025-01-01-preview \"HTTP/1.1 200 OK\"\n",
      "\n",
      "Processing 同義語置き換え (synonym_substitution):  80%|████████  | 4/5 [03:26<00:46, 46.62s/it]\u001B[A"
     ]
    },
    {
     "name": "stdout",
     "output_type": "stream",
     "text": [
      "---WEB SEARCH---\n",
      "---Generator----\n"
     ]
    },
    {
     "name": "stderr",
     "output_type": "stream",
     "text": [
      "2025-05-14 21:57:25,212 - INFO - HTTP Request: POST https://ai-rolandaws880125ai409947751408.openai.azure.com/openai/deployments/gpt-4.1/chat/completions?api-version=2025-01-01-preview \"HTTP/1.1 200 OK\"\n"
     ]
    },
    {
     "name": "stdout",
     "output_type": "stream",
     "text": [
      "---REVISOR---\n"
     ]
    },
    {
     "name": "stderr",
     "output_type": "stream",
     "text": [
      "2025-05-14 21:57:31,842 - INFO - HTTP Request: POST https://ai-rolandaws880125ai409947751408.openai.azure.com/openai/deployments/gpt-4.1-mini/chat/completions?api-version=2025-01-01-preview \"HTTP/1.1 200 OK\"\n"
     ]
    },
    {
     "name": "stdout",
     "output_type": "stream",
     "text": [
      "---Generator----\n"
     ]
    },
    {
     "name": "stderr",
     "output_type": "stream",
     "text": [
      "2025-05-14 21:57:39,880 - INFO - HTTP Request: POST https://ai-rolandaws880125ai409947751408.openai.azure.com/openai/deployments/gpt-4.1/chat/completions?api-version=2025-01-01-preview \"HTTP/1.1 200 OK\"\n"
     ]
    },
    {
     "name": "stdout",
     "output_type": "stream",
     "text": [
      "---REVISOR---\n"
     ]
    },
    {
     "name": "stderr",
     "output_type": "stream",
     "text": [
      "2025-05-14 21:57:49,415 - INFO - HTTP Request: POST https://ai-rolandaws880125ai409947751408.openai.azure.com/openai/deployments/gpt-4.1-mini/chat/completions?api-version=2025-01-01-preview \"HTTP/1.1 200 OK\"\n"
     ]
    },
    {
     "name": "stdout",
     "output_type": "stream",
     "text": [
      "--- AI Reviser feels Good Enough ---\n",
      "--- Formatter ---\n"
     ]
    },
    {
     "name": "stderr",
     "output_type": "stream",
     "text": [
      "2025-05-14 21:57:51,782 - INFO - HTTP Request: POST https://ai-rolandaws880125ai409947751408.openai.azure.com/openai/deployments/gpt-4.1-mini/chat/completions?api-version=2025-01-01-preview \"HTTP/1.1 200 OK\"\n",
      "\n",
      "Processing 同義語置き換え (synonym_substitution): 100%|██████████| 5/5 [04:05<00:00, 49.01s/it]\u001B[A\n",
      "Processing 第1部：語彙・文法:  50%|█████     | 4/8 [22:04<23:19, 349.87s/it]\n",
      "Processing 語彙使い方 (word_usage):   0%|          | 0/5 [00:00<?, ?it/s]\u001B[A"
     ]
    },
    {
     "name": "stdout",
     "output_type": "stream",
     "text": [
      "---WEB SEARCH---\n",
      "---Generator----\n"
     ]
    },
    {
     "name": "stderr",
     "output_type": "stream",
     "text": [
      "2025-05-14 21:58:04,765 - INFO - HTTP Request: POST https://ai-rolandaws880125ai409947751408.openai.azure.com/openai/deployments/gpt-4.1/chat/completions?api-version=2025-01-01-preview \"HTTP/1.1 200 OK\"\n"
     ]
    },
    {
     "name": "stdout",
     "output_type": "stream",
     "text": [
      "---REVISOR---\n"
     ]
    },
    {
     "name": "stderr",
     "output_type": "stream",
     "text": [
      "2025-05-14 21:58:14,220 - INFO - HTTP Request: POST https://ai-rolandaws880125ai409947751408.openai.azure.com/openai/deployments/gpt-4.1-mini/chat/completions?api-version=2025-01-01-preview \"HTTP/1.1 200 OK\"\n"
     ]
    },
    {
     "name": "stdout",
     "output_type": "stream",
     "text": [
      "---Generator----\n"
     ]
    },
    {
     "name": "stderr",
     "output_type": "stream",
     "text": [
      "2025-05-14 21:58:26,372 - INFO - HTTP Request: POST https://ai-rolandaws880125ai409947751408.openai.azure.com/openai/deployments/gpt-4.1/chat/completions?api-version=2025-01-01-preview \"HTTP/1.1 200 OK\"\n"
     ]
    },
    {
     "name": "stdout",
     "output_type": "stream",
     "text": [
      "---REVISOR---\n"
     ]
    },
    {
     "name": "stderr",
     "output_type": "stream",
     "text": [
      "2025-05-14 21:58:33,427 - INFO - HTTP Request: POST https://ai-rolandaws880125ai409947751408.openai.azure.com/openai/deployments/gpt-4.1-mini/chat/completions?api-version=2025-01-01-preview \"HTTP/1.1 200 OK\"\n"
     ]
    },
    {
     "name": "stdout",
     "output_type": "stream",
     "text": [
      "--- AI Reviser feels Good Enough ---\n",
      "--- Formatter ---\n"
     ]
    },
    {
     "name": "stderr",
     "output_type": "stream",
     "text": [
      "2025-05-14 21:58:37,038 - INFO - HTTP Request: POST https://ai-rolandaws880125ai409947751408.openai.azure.com/openai/deployments/gpt-4.1-mini/chat/completions?api-version=2025-01-01-preview \"HTTP/1.1 200 OK\"\n",
      "\n",
      "Processing 語彙使い方 (word_usage):  20%|██        | 1/5 [00:45<03:00, 45.25s/it]\u001B[A"
     ]
    },
    {
     "name": "stdout",
     "output_type": "stream",
     "text": [
      "---WEB SEARCH---\n",
      "---Generator----\n"
     ]
    },
    {
     "name": "stderr",
     "output_type": "stream",
     "text": [
      "2025-05-14 21:58:50,043 - INFO - HTTP Request: POST https://ai-rolandaws880125ai409947751408.openai.azure.com/openai/deployments/gpt-4.1/chat/completions?api-version=2025-01-01-preview \"HTTP/1.1 200 OK\"\n"
     ]
    },
    {
     "name": "stdout",
     "output_type": "stream",
     "text": [
      "---REVISOR---\n"
     ]
    },
    {
     "name": "stderr",
     "output_type": "stream",
     "text": [
      "2025-05-14 21:58:59,652 - INFO - HTTP Request: POST https://ai-rolandaws880125ai409947751408.openai.azure.com/openai/deployments/gpt-4.1-mini/chat/completions?api-version=2025-01-01-preview \"HTTP/1.1 200 OK\"\n"
     ]
    },
    {
     "name": "stdout",
     "output_type": "stream",
     "text": [
      "---Generator----\n"
     ]
    },
    {
     "name": "stderr",
     "output_type": "stream",
     "text": [
      "2025-05-14 21:59:11,245 - INFO - HTTP Request: POST https://ai-rolandaws880125ai409947751408.openai.azure.com/openai/deployments/gpt-4.1/chat/completions?api-version=2025-01-01-preview \"HTTP/1.1 200 OK\"\n"
     ]
    },
    {
     "name": "stdout",
     "output_type": "stream",
     "text": [
      "---REVISOR---\n"
     ]
    },
    {
     "name": "stderr",
     "output_type": "stream",
     "text": [
      "2025-05-14 21:59:17,765 - INFO - HTTP Request: POST https://ai-rolandaws880125ai409947751408.openai.azure.com/openai/deployments/gpt-4.1-mini/chat/completions?api-version=2025-01-01-preview \"HTTP/1.1 200 OK\"\n"
     ]
    },
    {
     "name": "stdout",
     "output_type": "stream",
     "text": [
      "--- AI Reviser feels Good Enough ---\n",
      "--- Formatter ---\n"
     ]
    },
    {
     "name": "stderr",
     "output_type": "stream",
     "text": [
      "2025-05-14 21:59:21,494 - INFO - HTTP Request: POST https://ai-rolandaws880125ai409947751408.openai.azure.com/openai/deployments/gpt-4.1-mini/chat/completions?api-version=2025-01-01-preview \"HTTP/1.1 200 OK\"\n",
      "\n",
      "Processing 語彙使い方 (word_usage):  40%|████      | 2/5 [01:29<02:14, 44.78s/it]\u001B[A"
     ]
    },
    {
     "name": "stdout",
     "output_type": "stream",
     "text": [
      "---WEB SEARCH---\n",
      "---Generator----\n"
     ]
    },
    {
     "name": "stderr",
     "output_type": "stream",
     "text": [
      "2025-05-14 21:59:32,488 - INFO - HTTP Request: POST https://ai-rolandaws880125ai409947751408.openai.azure.com/openai/deployments/gpt-4.1/chat/completions?api-version=2025-01-01-preview \"HTTP/1.1 200 OK\"\n"
     ]
    },
    {
     "name": "stdout",
     "output_type": "stream",
     "text": [
      "---REVISOR---\n"
     ]
    },
    {
     "name": "stderr",
     "output_type": "stream",
     "text": [
      "2025-05-14 21:59:40,731 - INFO - HTTP Request: POST https://ai-rolandaws880125ai409947751408.openai.azure.com/openai/deployments/gpt-4.1-mini/chat/completions?api-version=2025-01-01-preview \"HTTP/1.1 200 OK\"\n"
     ]
    },
    {
     "name": "stdout",
     "output_type": "stream",
     "text": [
      "---Generator----\n"
     ]
    },
    {
     "name": "stderr",
     "output_type": "stream",
     "text": [
      "2025-05-14 21:59:49,096 - INFO - HTTP Request: POST https://ai-rolandaws880125ai409947751408.openai.azure.com/openai/deployments/gpt-4.1/chat/completions?api-version=2025-01-01-preview \"HTTP/1.1 200 OK\"\n"
     ]
    },
    {
     "name": "stdout",
     "output_type": "stream",
     "text": [
      "---REVISOR---\n"
     ]
    },
    {
     "name": "stderr",
     "output_type": "stream",
     "text": [
      "2025-05-14 21:59:56,715 - INFO - HTTP Request: POST https://ai-rolandaws880125ai409947751408.openai.azure.com/openai/deployments/gpt-4.1-mini/chat/completions?api-version=2025-01-01-preview \"HTTP/1.1 200 OK\"\n"
     ]
    },
    {
     "name": "stdout",
     "output_type": "stream",
     "text": [
      "--- AI Reviser feels Good Enough ---\n",
      "--- Formatter ---\n"
     ]
    },
    {
     "name": "stderr",
     "output_type": "stream",
     "text": [
      "2025-05-14 21:59:59,042 - INFO - HTTP Request: POST https://ai-rolandaws880125ai409947751408.openai.azure.com/openai/deployments/gpt-4.1-mini/chat/completions?api-version=2025-01-01-preview \"HTTP/1.1 200 OK\"\n",
      "\n",
      "Processing 語彙使い方 (word_usage):  60%|██████    | 3/5 [02:07<01:22, 41.48s/it]\u001B[A"
     ]
    },
    {
     "name": "stdout",
     "output_type": "stream",
     "text": [
      "---WEB SEARCH---\n",
      "---Generator----\n"
     ]
    },
    {
     "name": "stderr",
     "output_type": "stream",
     "text": [
      "2025-05-14 22:00:07,849 - INFO - HTTP Request: POST https://ai-rolandaws880125ai409947751408.openai.azure.com/openai/deployments/gpt-4.1/chat/completions?api-version=2025-01-01-preview \"HTTP/1.1 200 OK\"\n"
     ]
    },
    {
     "name": "stdout",
     "output_type": "stream",
     "text": [
      "---REVISOR---\n"
     ]
    },
    {
     "name": "stderr",
     "output_type": "stream",
     "text": [
      "2025-05-14 22:00:15,364 - INFO - HTTP Request: POST https://ai-rolandaws880125ai409947751408.openai.azure.com/openai/deployments/gpt-4.1-mini/chat/completions?api-version=2025-01-01-preview \"HTTP/1.1 200 OK\"\n"
     ]
    },
    {
     "name": "stdout",
     "output_type": "stream",
     "text": [
      "--- AI Reviser feels Good Enough ---\n",
      "--- Formatter ---\n"
     ]
    },
    {
     "name": "stderr",
     "output_type": "stream",
     "text": [
      "2025-05-14 22:00:17,621 - INFO - HTTP Request: POST https://ai-rolandaws880125ai409947751408.openai.azure.com/openai/deployments/gpt-4.1-mini/chat/completions?api-version=2025-01-01-preview \"HTTP/1.1 200 OK\"\n",
      "\n",
      "Processing 語彙使い方 (word_usage):  80%|████████  | 4/5 [02:25<00:32, 32.44s/it]\u001B[A"
     ]
    },
    {
     "name": "stdout",
     "output_type": "stream",
     "text": [
      "---WEB SEARCH---\n",
      "---Generator----\n"
     ]
    },
    {
     "name": "stderr",
     "output_type": "stream",
     "text": [
      "2025-05-14 22:00:30,009 - INFO - HTTP Request: POST https://ai-rolandaws880125ai409947751408.openai.azure.com/openai/deployments/gpt-4.1/chat/completions?api-version=2025-01-01-preview \"HTTP/1.1 200 OK\"\n"
     ]
    },
    {
     "name": "stdout",
     "output_type": "stream",
     "text": [
      "---REVISOR---\n"
     ]
    },
    {
     "name": "stderr",
     "output_type": "stream",
     "text": [
      "2025-05-14 22:00:43,525 - INFO - HTTP Request: POST https://ai-rolandaws880125ai409947751408.openai.azure.com/openai/deployments/gpt-4.1-mini/chat/completions?api-version=2025-01-01-preview \"HTTP/1.1 200 OK\"\n"
     ]
    },
    {
     "name": "stdout",
     "output_type": "stream",
     "text": [
      "---Generator----\n"
     ]
    },
    {
     "name": "stderr",
     "output_type": "stream",
     "text": [
      "2025-05-14 22:00:50,199 - INFO - HTTP Request: POST https://ai-rolandaws880125ai409947751408.openai.azure.com/openai/deployments/gpt-4.1/chat/completions?api-version=2025-01-01-preview \"HTTP/1.1 200 OK\"\n"
     ]
    },
    {
     "name": "stdout",
     "output_type": "stream",
     "text": [
      "---REVISOR---\n"
     ]
    },
    {
     "name": "stderr",
     "output_type": "stream",
     "text": [
      "2025-05-14 22:00:56,132 - INFO - HTTP Request: POST https://ai-rolandaws880125ai409947751408.openai.azure.com/openai/deployments/gpt-4.1-mini/chat/completions?api-version=2025-01-01-preview \"HTTP/1.1 200 OK\"\n"
     ]
    },
    {
     "name": "stdout",
     "output_type": "stream",
     "text": [
      "--- AI Reviser feels Good Enough ---\n",
      "--- Formatter ---\n"
     ]
    },
    {
     "name": "stderr",
     "output_type": "stream",
     "text": [
      "2025-05-14 22:01:00,357 - INFO - HTTP Request: POST https://ai-rolandaws880125ai409947751408.openai.azure.com/openai/deployments/gpt-4.1-mini/chat/completions?api-version=2025-01-01-preview \"HTTP/1.1 200 OK\"\n",
      "\n",
      "Processing 語彙使い方 (word_usage): 100%|██████████| 5/5 [03:08<00:00, 37.71s/it]\u001B[A\n",
      "Processing 第1部：語彙・文法:  62%|██████▎   | 5/8 [25:12<14:35, 291.70s/it]\n",
      "Processing 文法穴埋め (sentence_grammar):   0%|          | 0/13 [00:00<?, ?it/s]\u001B[A"
     ]
    },
    {
     "name": "stdout",
     "output_type": "stream",
     "text": [
      "---WEB SEARCH---\n",
      "---WEB SEARCH---\n",
      "---Generator----\n"
     ]
    },
    {
     "name": "stderr",
     "output_type": "stream",
     "text": [
      "2025-05-14 22:01:15,731 - INFO - HTTP Request: POST https://ai-rolandaws880125ai409947751408.openai.azure.com/openai/deployments/gpt-4.1/chat/completions?api-version=2025-01-01-preview \"HTTP/1.1 200 OK\"\n"
     ]
    },
    {
     "name": "stdout",
     "output_type": "stream",
     "text": [
      "---REVISOR---\n"
     ]
    },
    {
     "name": "stderr",
     "output_type": "stream",
     "text": [
      "2025-05-14 22:01:23,548 - INFO - HTTP Request: POST https://ai-rolandaws880125ai409947751408.openai.azure.com/openai/deployments/gpt-4.1-mini/chat/completions?api-version=2025-01-01-preview \"HTTP/1.1 200 OK\"\n"
     ]
    },
    {
     "name": "stdout",
     "output_type": "stream",
     "text": [
      "---Generator----\n"
     ]
    },
    {
     "name": "stderr",
     "output_type": "stream",
     "text": [
      "2025-05-14 22:01:32,572 - INFO - HTTP Request: POST https://ai-rolandaws880125ai409947751408.openai.azure.com/openai/deployments/gpt-4.1/chat/completions?api-version=2025-01-01-preview \"HTTP/1.1 200 OK\"\n"
     ]
    },
    {
     "name": "stdout",
     "output_type": "stream",
     "text": [
      "---REVISOR---\n"
     ]
    },
    {
     "name": "stderr",
     "output_type": "stream",
     "text": [
      "2025-05-14 22:01:39,972 - INFO - HTTP Request: POST https://ai-rolandaws880125ai409947751408.openai.azure.com/openai/deployments/gpt-4.1-mini/chat/completions?api-version=2025-01-01-preview \"HTTP/1.1 200 OK\"\n"
     ]
    },
    {
     "name": "stdout",
     "output_type": "stream",
     "text": [
      "--- AI Reviser feels Good Enough ---\n",
      "--- Formatter ---\n"
     ]
    },
    {
     "name": "stderr",
     "output_type": "stream",
     "text": [
      "2025-05-14 22:01:46,865 - INFO - HTTP Request: POST https://ai-rolandaws880125ai409947751408.openai.azure.com/openai/deployments/gpt-4.1-mini/chat/completions?api-version=2025-01-01-preview \"HTTP/1.1 200 OK\"\n",
      "\n",
      "Processing 文法穴埋め (sentence_grammar):   8%|▊         | 1/13 [00:46<09:18, 46.50s/it]\u001B[A"
     ]
    },
    {
     "name": "stdout",
     "output_type": "stream",
     "text": [
      "---WEB SEARCH---\n",
      "---Generator----\n"
     ]
    },
    {
     "name": "stderr",
     "output_type": "stream",
     "text": [
      "2025-05-14 22:01:55,912 - INFO - HTTP Request: POST https://ai-rolandaws880125ai409947751408.openai.azure.com/openai/deployments/gpt-4.1/chat/completions?api-version=2025-01-01-preview \"HTTP/1.1 200 OK\"\n"
     ]
    },
    {
     "name": "stdout",
     "output_type": "stream",
     "text": [
      "---REVISOR---\n"
     ]
    },
    {
     "name": "stderr",
     "output_type": "stream",
     "text": [
      "2025-05-14 22:02:01,938 - INFO - HTTP Request: POST https://ai-rolandaws880125ai409947751408.openai.azure.com/openai/deployments/gpt-4.1-mini/chat/completions?api-version=2025-01-01-preview \"HTTP/1.1 200 OK\"\n"
     ]
    },
    {
     "name": "stdout",
     "output_type": "stream",
     "text": [
      "---Generator----\n"
     ]
    },
    {
     "name": "stderr",
     "output_type": "stream",
     "text": [
      "2025-05-14 22:02:06,832 - INFO - HTTP Request: POST https://ai-rolandaws880125ai409947751408.openai.azure.com/openai/deployments/gpt-4.1/chat/completions?api-version=2025-01-01-preview \"HTTP/1.1 200 OK\"\n"
     ]
    },
    {
     "name": "stdout",
     "output_type": "stream",
     "text": [
      "---REVISOR---\n"
     ]
    },
    {
     "name": "stderr",
     "output_type": "stream",
     "text": [
      "2025-05-14 22:02:11,225 - INFO - HTTP Request: POST https://ai-rolandaws880125ai409947751408.openai.azure.com/openai/deployments/gpt-4.1-mini/chat/completions?api-version=2025-01-01-preview \"HTTP/1.1 200 OK\"\n"
     ]
    },
    {
     "name": "stdout",
     "output_type": "stream",
     "text": [
      "--- AI Reviser feels Good Enough ---\n",
      "--- Formatter ---\n"
     ]
    },
    {
     "name": "stderr",
     "output_type": "stream",
     "text": [
      "2025-05-14 22:02:13,204 - INFO - HTTP Request: POST https://ai-rolandaws880125ai409947751408.openai.azure.com/openai/deployments/gpt-4.1-mini/chat/completions?api-version=2025-01-01-preview \"HTTP/1.1 200 OK\"\n",
      "\n",
      "Processing 文法穴埋め (sentence_grammar):  15%|█▌        | 2/13 [01:12<06:21, 34.64s/it]\u001B[A"
     ]
    },
    {
     "name": "stdout",
     "output_type": "stream",
     "text": [
      "---WEB SEARCH---\n",
      "---WEB SEARCH---\n",
      "---Generator----\n"
     ]
    },
    {
     "name": "stderr",
     "output_type": "stream",
     "text": [
      "2025-05-14 22:02:27,275 - INFO - HTTP Request: POST https://ai-rolandaws880125ai409947751408.openai.azure.com/openai/deployments/gpt-4.1/chat/completions?api-version=2025-01-01-preview \"HTTP/1.1 200 OK\"\n"
     ]
    },
    {
     "name": "stdout",
     "output_type": "stream",
     "text": [
      "---REVISOR---\n"
     ]
    },
    {
     "name": "stderr",
     "output_type": "stream",
     "text": [
      "2025-05-14 22:02:35,521 - INFO - HTTP Request: POST https://ai-rolandaws880125ai409947751408.openai.azure.com/openai/deployments/gpt-4.1-mini/chat/completions?api-version=2025-01-01-preview \"HTTP/1.1 200 OK\"\n"
     ]
    },
    {
     "name": "stdout",
     "output_type": "stream",
     "text": [
      "--- AI Reviser feels Good Enough ---\n",
      "--- Formatter ---\n"
     ]
    },
    {
     "name": "stderr",
     "output_type": "stream",
     "text": [
      "2025-05-14 22:02:38,231 - INFO - HTTP Request: POST https://ai-rolandaws880125ai409947751408.openai.azure.com/openai/deployments/gpt-4.1-mini/chat/completions?api-version=2025-01-01-preview \"HTTP/1.1 200 OK\"\n",
      "\n",
      "Processing 文法穴埋め (sentence_grammar):  23%|██▎       | 3/13 [01:37<05:02, 30.25s/it]\u001B[A"
     ]
    },
    {
     "name": "stdout",
     "output_type": "stream",
     "text": [
      "---WEB SEARCH---\n",
      "---Generator----\n"
     ]
    },
    {
     "name": "stderr",
     "output_type": "stream",
     "text": [
      "2025-05-14 22:02:47,006 - INFO - HTTP Request: POST https://ai-rolandaws880125ai409947751408.openai.azure.com/openai/deployments/gpt-4.1/chat/completions?api-version=2025-01-01-preview \"HTTP/1.1 200 OK\"\n"
     ]
    },
    {
     "name": "stdout",
     "output_type": "stream",
     "text": [
      "---REVISOR---\n"
     ]
    },
    {
     "name": "stderr",
     "output_type": "stream",
     "text": [
      "2025-05-14 22:03:00,289 - INFO - HTTP Request: POST https://ai-rolandaws880125ai409947751408.openai.azure.com/openai/deployments/gpt-4.1-mini/chat/completions?api-version=2025-01-01-preview \"HTTP/1.1 200 OK\"\n"
     ]
    },
    {
     "name": "stdout",
     "output_type": "stream",
     "text": [
      "---Generator----\n"
     ]
    },
    {
     "name": "stderr",
     "output_type": "stream",
     "text": [
      "2025-05-14 22:03:05,912 - INFO - HTTP Request: POST https://ai-rolandaws880125ai409947751408.openai.azure.com/openai/deployments/gpt-4.1/chat/completions?api-version=2025-01-01-preview \"HTTP/1.1 200 OK\"\n"
     ]
    },
    {
     "name": "stdout",
     "output_type": "stream",
     "text": [
      "---REVISOR---\n"
     ]
    },
    {
     "name": "stderr",
     "output_type": "stream",
     "text": [
      "2025-05-14 22:03:10,356 - INFO - HTTP Request: POST https://ai-rolandaws880125ai409947751408.openai.azure.com/openai/deployments/gpt-4.1-mini/chat/completions?api-version=2025-01-01-preview \"HTTP/1.1 200 OK\"\n"
     ]
    },
    {
     "name": "stdout",
     "output_type": "stream",
     "text": [
      "--- AI Reviser feels Good Enough ---\n",
      "--- Formatter ---\n"
     ]
    },
    {
     "name": "stderr",
     "output_type": "stream",
     "text": [
      "2025-05-14 22:03:12,254 - INFO - HTTP Request: POST https://ai-rolandaws880125ai409947751408.openai.azure.com/openai/deployments/gpt-4.1-mini/chat/completions?api-version=2025-01-01-preview \"HTTP/1.1 200 OK\"\n",
      "\n",
      "Processing 文法穴埋め (sentence_grammar):  31%|███       | 4/13 [02:11<04:45, 31.74s/it]\u001B[A"
     ]
    },
    {
     "name": "stdout",
     "output_type": "stream",
     "text": [
      "---WEB SEARCH---\n",
      "---Generator----\n"
     ]
    },
    {
     "name": "stderr",
     "output_type": "stream",
     "text": [
      "2025-05-14 22:03:20,690 - INFO - HTTP Request: POST https://ai-rolandaws880125ai409947751408.openai.azure.com/openai/deployments/gpt-4.1/chat/completions?api-version=2025-01-01-preview \"HTTP/1.1 200 OK\"\n"
     ]
    },
    {
     "name": "stdout",
     "output_type": "stream",
     "text": [
      "---REVISOR---\n"
     ]
    },
    {
     "name": "stderr",
     "output_type": "stream",
     "text": [
      "2025-05-14 22:03:32,917 - INFO - HTTP Request: POST https://ai-rolandaws880125ai409947751408.openai.azure.com/openai/deployments/gpt-4.1-mini/chat/completions?api-version=2025-01-01-preview \"HTTP/1.1 200 OK\"\n"
     ]
    },
    {
     "name": "stdout",
     "output_type": "stream",
     "text": [
      "--- AI Reviser feels Good Enough ---\n",
      "--- Formatter ---\n"
     ]
    },
    {
     "name": "stderr",
     "output_type": "stream",
     "text": [
      "2025-05-14 22:03:35,455 - INFO - HTTP Request: POST https://ai-rolandaws880125ai409947751408.openai.azure.com/openai/deployments/gpt-4.1-mini/chat/completions?api-version=2025-01-01-preview \"HTTP/1.1 200 OK\"\n",
      "\n",
      "Processing 文法穴埋め (sentence_grammar):  38%|███▊      | 5/13 [02:35<03:49, 28.66s/it]\u001B[A"
     ]
    },
    {
     "name": "stdout",
     "output_type": "stream",
     "text": [
      "---WEB SEARCH---\n",
      "---Generator----\n"
     ]
    },
    {
     "name": "stderr",
     "output_type": "stream",
     "text": [
      "2025-05-14 22:03:44,997 - INFO - HTTP Request: POST https://ai-rolandaws880125ai409947751408.openai.azure.com/openai/deployments/gpt-4.1/chat/completions?api-version=2025-01-01-preview \"HTTP/1.1 200 OK\"\n"
     ]
    },
    {
     "name": "stdout",
     "output_type": "stream",
     "text": [
      "---REVISOR---\n"
     ]
    },
    {
     "name": "stderr",
     "output_type": "stream",
     "text": [
      "2025-05-14 22:03:51,563 - INFO - HTTP Request: POST https://ai-rolandaws880125ai409947751408.openai.azure.com/openai/deployments/gpt-4.1-mini/chat/completions?api-version=2025-01-01-preview \"HTTP/1.1 200 OK\"\n"
     ]
    },
    {
     "name": "stdout",
     "output_type": "stream",
     "text": [
      "---Generator----\n"
     ]
    },
    {
     "name": "stderr",
     "output_type": "stream",
     "text": [
      "2025-05-14 22:03:56,589 - INFO - HTTP Request: POST https://ai-rolandaws880125ai409947751408.openai.azure.com/openai/deployments/gpt-4.1/chat/completions?api-version=2025-01-01-preview \"HTTP/1.1 200 OK\"\n"
     ]
    },
    {
     "name": "stdout",
     "output_type": "stream",
     "text": [
      "---REVISOR---\n"
     ]
    },
    {
     "name": "stderr",
     "output_type": "stream",
     "text": [
      "2025-05-14 22:04:02,622 - INFO - HTTP Request: POST https://ai-rolandaws880125ai409947751408.openai.azure.com/openai/deployments/gpt-4.1-mini/chat/completions?api-version=2025-01-01-preview \"HTTP/1.1 200 OK\"\n"
     ]
    },
    {
     "name": "stdout",
     "output_type": "stream",
     "text": [
      "--- AI Reviser feels Good Enough ---\n",
      "--- Formatter ---\n"
     ]
    },
    {
     "name": "stderr",
     "output_type": "stream",
     "text": [
      "2025-05-14 22:04:05,020 - INFO - HTTP Request: POST https://ai-rolandaws880125ai409947751408.openai.azure.com/openai/deployments/gpt-4.1-mini/chat/completions?api-version=2025-01-01-preview \"HTTP/1.1 200 OK\"\n",
      "\n",
      "Processing 文法穴埋め (sentence_grammar):  46%|████▌     | 6/13 [03:04<03:22, 28.97s/it]\u001B[A"
     ]
    },
    {
     "name": "stdout",
     "output_type": "stream",
     "text": [
      "---WEB SEARCH---\n",
      "---Generator----\n"
     ]
    },
    {
     "name": "stderr",
     "output_type": "stream",
     "text": [
      "2025-05-14 22:04:14,075 - INFO - HTTP Request: POST https://ai-rolandaws880125ai409947751408.openai.azure.com/openai/deployments/gpt-4.1/chat/completions?api-version=2025-01-01-preview \"HTTP/1.1 200 OK\"\n"
     ]
    },
    {
     "name": "stdout",
     "output_type": "stream",
     "text": [
      "---REVISOR---\n"
     ]
    },
    {
     "name": "stderr",
     "output_type": "stream",
     "text": [
      "2025-05-14 22:04:20,612 - INFO - HTTP Request: POST https://ai-rolandaws880125ai409947751408.openai.azure.com/openai/deployments/gpt-4.1-mini/chat/completions?api-version=2025-01-01-preview \"HTTP/1.1 200 OK\"\n"
     ]
    },
    {
     "name": "stdout",
     "output_type": "stream",
     "text": [
      "---Generator----\n"
     ]
    },
    {
     "name": "stderr",
     "output_type": "stream",
     "text": [
      "2025-05-14 22:04:27,970 - INFO - HTTP Request: POST https://ai-rolandaws880125ai409947751408.openai.azure.com/openai/deployments/gpt-4.1/chat/completions?api-version=2025-01-01-preview \"HTTP/1.1 200 OK\"\n"
     ]
    },
    {
     "name": "stdout",
     "output_type": "stream",
     "text": [
      "---REVISOR---\n"
     ]
    },
    {
     "name": "stderr",
     "output_type": "stream",
     "text": [
      "2025-05-14 22:04:35,151 - INFO - HTTP Request: POST https://ai-rolandaws880125ai409947751408.openai.azure.com/openai/deployments/gpt-4.1-mini/chat/completions?api-version=2025-01-01-preview \"HTTP/1.1 200 OK\"\n"
     ]
    },
    {
     "name": "stdout",
     "output_type": "stream",
     "text": [
      "--- AI Reviser feels Good Enough ---\n",
      "--- Formatter ---\n"
     ]
    },
    {
     "name": "stderr",
     "output_type": "stream",
     "text": [
      "2025-05-14 22:04:37,514 - INFO - HTTP Request: POST https://ai-rolandaws880125ai409947751408.openai.azure.com/openai/deployments/gpt-4.1-mini/chat/completions?api-version=2025-01-01-preview \"HTTP/1.1 200 OK\"\n",
      "\n",
      "Processing 文法穴埋め (sentence_grammar):  54%|█████▍    | 7/13 [03:37<03:00, 30.13s/it]\u001B[A"
     ]
    },
    {
     "name": "stdout",
     "output_type": "stream",
     "text": [
      "---WEB SEARCH---\n",
      "---Generator----\n"
     ]
    },
    {
     "name": "stderr",
     "output_type": "stream",
     "text": [
      "2025-05-14 22:04:45,834 - INFO - HTTP Request: POST https://ai-rolandaws880125ai409947751408.openai.azure.com/openai/deployments/gpt-4.1/chat/completions?api-version=2025-01-01-preview \"HTTP/1.1 200 OK\"\n"
     ]
    },
    {
     "name": "stdout",
     "output_type": "stream",
     "text": [
      "---REVISOR---\n"
     ]
    },
    {
     "name": "stderr",
     "output_type": "stream",
     "text": [
      "2025-05-14 22:04:51,772 - INFO - HTTP Request: POST https://ai-rolandaws880125ai409947751408.openai.azure.com/openai/deployments/gpt-4.1-mini/chat/completions?api-version=2025-01-01-preview \"HTTP/1.1 200 OK\"\n"
     ]
    },
    {
     "name": "stdout",
     "output_type": "stream",
     "text": [
      "---Generator----\n"
     ]
    },
    {
     "name": "stderr",
     "output_type": "stream",
     "text": [
      "2025-05-14 22:04:56,865 - INFO - HTTP Request: POST https://ai-rolandaws880125ai409947751408.openai.azure.com/openai/deployments/gpt-4.1/chat/completions?api-version=2025-01-01-preview \"HTTP/1.1 200 OK\"\n"
     ]
    },
    {
     "name": "stdout",
     "output_type": "stream",
     "text": [
      "---REVISOR---\n"
     ]
    },
    {
     "name": "stderr",
     "output_type": "stream",
     "text": [
      "2025-05-14 22:05:03,956 - INFO - HTTP Request: POST https://ai-rolandaws880125ai409947751408.openai.azure.com/openai/deployments/gpt-4.1-mini/chat/completions?api-version=2025-01-01-preview \"HTTP/1.1 200 OK\"\n"
     ]
    },
    {
     "name": "stdout",
     "output_type": "stream",
     "text": [
      "--- AI Reviser feels Good Enough ---\n",
      "--- Formatter ---\n"
     ]
    },
    {
     "name": "stderr",
     "output_type": "stream",
     "text": [
      "2025-05-14 22:05:05,794 - INFO - HTTP Request: POST https://ai-rolandaws880125ai409947751408.openai.azure.com/openai/deployments/gpt-4.1-mini/chat/completions?api-version=2025-01-01-preview \"HTTP/1.1 200 OK\"\n",
      "\n",
      "Processing 文法穴埋め (sentence_grammar):  62%|██████▏   | 8/13 [04:05<02:27, 29.53s/it]\u001B[A"
     ]
    },
    {
     "name": "stdout",
     "output_type": "stream",
     "text": [
      "---WEB SEARCH---\n",
      "---Generator----\n"
     ]
    },
    {
     "name": "stderr",
     "output_type": "stream",
     "text": [
      "2025-05-14 22:05:14,895 - INFO - HTTP Request: POST https://ai-rolandaws880125ai409947751408.openai.azure.com/openai/deployments/gpt-4.1/chat/completions?api-version=2025-01-01-preview \"HTTP/1.1 200 OK\"\n"
     ]
    },
    {
     "name": "stdout",
     "output_type": "stream",
     "text": [
      "---REVISOR---\n"
     ]
    },
    {
     "name": "stderr",
     "output_type": "stream",
     "text": [
      "2025-05-14 22:05:21,777 - INFO - HTTP Request: POST https://ai-rolandaws880125ai409947751408.openai.azure.com/openai/deployments/gpt-4.1-mini/chat/completions?api-version=2025-01-01-preview \"HTTP/1.1 200 OK\"\n"
     ]
    },
    {
     "name": "stdout",
     "output_type": "stream",
     "text": [
      "--- AI Reviser feels Good Enough ---\n",
      "--- Formatter ---\n"
     ]
    },
    {
     "name": "stderr",
     "output_type": "stream",
     "text": [
      "2025-05-14 22:05:23,794 - INFO - HTTP Request: POST https://ai-rolandaws880125ai409947751408.openai.azure.com/openai/deployments/gpt-4.1-mini/chat/completions?api-version=2025-01-01-preview \"HTTP/1.1 200 OK\"\n",
      "\n",
      "Processing 文法穴埋め (sentence_grammar):  69%|██████▉   | 9/13 [04:23<01:43, 25.93s/it]\u001B[A"
     ]
    },
    {
     "name": "stdout",
     "output_type": "stream",
     "text": [
      "---WEB SEARCH---\n",
      "---Generator----\n"
     ]
    },
    {
     "name": "stderr",
     "output_type": "stream",
     "text": [
      "2025-05-14 22:05:32,492 - INFO - HTTP Request: POST https://ai-rolandaws880125ai409947751408.openai.azure.com/openai/deployments/gpt-4.1/chat/completions?api-version=2025-01-01-preview \"HTTP/1.1 200 OK\"\n"
     ]
    },
    {
     "name": "stdout",
     "output_type": "stream",
     "text": [
      "---REVISOR---\n"
     ]
    },
    {
     "name": "stderr",
     "output_type": "stream",
     "text": [
      "2025-05-14 22:05:37,843 - INFO - HTTP Request: POST https://ai-rolandaws880125ai409947751408.openai.azure.com/openai/deployments/gpt-4.1-mini/chat/completions?api-version=2025-01-01-preview \"HTTP/1.1 200 OK\"\n"
     ]
    },
    {
     "name": "stdout",
     "output_type": "stream",
     "text": [
      "---Generator----\n"
     ]
    },
    {
     "name": "stderr",
     "output_type": "stream",
     "text": [
      "2025-05-14 22:05:44,905 - INFO - HTTP Request: POST https://ai-rolandaws880125ai409947751408.openai.azure.com/openai/deployments/gpt-4.1/chat/completions?api-version=2025-01-01-preview \"HTTP/1.1 200 OK\"\n"
     ]
    },
    {
     "name": "stdout",
     "output_type": "stream",
     "text": [
      "---REVISOR---\n"
     ]
    },
    {
     "name": "stderr",
     "output_type": "stream",
     "text": [
      "2025-05-14 22:05:51,341 - INFO - HTTP Request: POST https://ai-rolandaws880125ai409947751408.openai.azure.com/openai/deployments/gpt-4.1-mini/chat/completions?api-version=2025-01-01-preview \"HTTP/1.1 200 OK\"\n"
     ]
    },
    {
     "name": "stdout",
     "output_type": "stream",
     "text": [
      "---Generator----\n"
     ]
    },
    {
     "name": "stderr",
     "output_type": "stream",
     "text": [
      "2025-05-14 22:05:58,213 - INFO - HTTP Request: POST https://ai-rolandaws880125ai409947751408.openai.azure.com/openai/deployments/gpt-4.1/chat/completions?api-version=2025-01-01-preview \"HTTP/1.1 200 OK\"\n"
     ]
    },
    {
     "name": "stdout",
     "output_type": "stream",
     "text": [
      "---REVISOR---\n"
     ]
    },
    {
     "name": "stderr",
     "output_type": "stream",
     "text": [
      "2025-05-14 22:06:05,380 - INFO - HTTP Request: POST https://ai-rolandaws880125ai409947751408.openai.azure.com/openai/deployments/gpt-4.1-mini/chat/completions?api-version=2025-01-01-preview \"HTTP/1.1 200 OK\"\n"
     ]
    },
    {
     "name": "stdout",
     "output_type": "stream",
     "text": [
      "--- Reach the Maximum Round ---\n",
      "--- Formatter ---\n"
     ]
    },
    {
     "name": "stderr",
     "output_type": "stream",
     "text": [
      "2025-05-14 22:06:08,236 - INFO - HTTP Request: POST https://ai-rolandaws880125ai409947751408.openai.azure.com/openai/deployments/gpt-4.1-mini/chat/completions?api-version=2025-01-01-preview \"HTTP/1.1 200 OK\"\n",
      "\n",
      "Processing 文法穴埋め (sentence_grammar):  77%|███████▋  | 10/13 [05:07<01:34, 31.64s/it]\u001B[A"
     ]
    },
    {
     "name": "stdout",
     "output_type": "stream",
     "text": [
      "---WEB SEARCH---\n",
      "---Generator----\n"
     ]
    },
    {
     "name": "stderr",
     "output_type": "stream",
     "text": [
      "2025-05-14 22:06:20,315 - INFO - HTTP Request: POST https://ai-rolandaws880125ai409947751408.openai.azure.com/openai/deployments/gpt-4.1/chat/completions?api-version=2025-01-01-preview \"HTTP/1.1 200 OK\"\n"
     ]
    },
    {
     "name": "stdout",
     "output_type": "stream",
     "text": [
      "---REVISOR---\n"
     ]
    },
    {
     "name": "stderr",
     "output_type": "stream",
     "text": [
      "2025-05-14 22:06:41,668 - INFO - HTTP Request: POST https://ai-rolandaws880125ai409947751408.openai.azure.com/openai/deployments/gpt-4.1-mini/chat/completions?api-version=2025-01-01-preview \"HTTP/1.1 200 OK\"\n"
     ]
    },
    {
     "name": "stdout",
     "output_type": "stream",
     "text": [
      "---Generator----\n"
     ]
    },
    {
     "name": "stderr",
     "output_type": "stream",
     "text": [
      "2025-05-14 22:06:46,604 - INFO - HTTP Request: POST https://ai-rolandaws880125ai409947751408.openai.azure.com/openai/deployments/gpt-4.1/chat/completions?api-version=2025-01-01-preview \"HTTP/1.1 200 OK\"\n"
     ]
    },
    {
     "name": "stdout",
     "output_type": "stream",
     "text": [
      "---REVISOR---\n"
     ]
    },
    {
     "name": "stderr",
     "output_type": "stream",
     "text": [
      "2025-05-14 22:06:51,665 - INFO - HTTP Request: POST https://ai-rolandaws880125ai409947751408.openai.azure.com/openai/deployments/gpt-4.1-mini/chat/completions?api-version=2025-01-01-preview \"HTTP/1.1 200 OK\"\n"
     ]
    },
    {
     "name": "stdout",
     "output_type": "stream",
     "text": [
      "--- AI Reviser feels Good Enough ---\n",
      "--- Formatter ---\n"
     ]
    },
    {
     "name": "stderr",
     "output_type": "stream",
     "text": [
      "2025-05-14 22:06:54,238 - INFO - HTTP Request: POST https://ai-rolandaws880125ai409947751408.openai.azure.com/openai/deployments/gpt-4.1-mini/chat/completions?api-version=2025-01-01-preview \"HTTP/1.1 200 OK\"\n",
      "\n",
      "Processing 文法穴埋め (sentence_grammar):  85%|████████▍ | 11/13 [05:53<01:12, 36.04s/it]\u001B[A"
     ]
    },
    {
     "name": "stdout",
     "output_type": "stream",
     "text": [
      "---WEB SEARCH---\n",
      "---Generator----\n"
     ]
    },
    {
     "name": "stderr",
     "output_type": "stream",
     "text": [
      "2025-05-14 22:07:01,349 - INFO - HTTP Request: POST https://ai-rolandaws880125ai409947751408.openai.azure.com/openai/deployments/gpt-4.1/chat/completions?api-version=2025-01-01-preview \"HTTP/1.1 200 OK\"\n"
     ]
    },
    {
     "name": "stdout",
     "output_type": "stream",
     "text": [
      "---REVISOR---\n"
     ]
    },
    {
     "name": "stderr",
     "output_type": "stream",
     "text": [
      "2025-05-14 22:07:10,062 - INFO - HTTP Request: POST https://ai-rolandaws880125ai409947751408.openai.azure.com/openai/deployments/gpt-4.1-mini/chat/completions?api-version=2025-01-01-preview \"HTTP/1.1 200 OK\"\n"
     ]
    },
    {
     "name": "stdout",
     "output_type": "stream",
     "text": [
      "---Generator----\n"
     ]
    },
    {
     "name": "stderr",
     "output_type": "stream",
     "text": [
      "2025-05-14 22:07:14,023 - INFO - HTTP Request: POST https://ai-rolandaws880125ai409947751408.openai.azure.com/openai/deployments/gpt-4.1/chat/completions?api-version=2025-01-01-preview \"HTTP/1.1 200 OK\"\n"
     ]
    },
    {
     "name": "stdout",
     "output_type": "stream",
     "text": [
      "---REVISOR---\n"
     ]
    },
    {
     "name": "stderr",
     "output_type": "stream",
     "text": [
      "2025-05-14 22:07:18,661 - INFO - HTTP Request: POST https://ai-rolandaws880125ai409947751408.openai.azure.com/openai/deployments/gpt-4.1-mini/chat/completions?api-version=2025-01-01-preview \"HTTP/1.1 200 OK\"\n"
     ]
    },
    {
     "name": "stdout",
     "output_type": "stream",
     "text": [
      "--- AI Reviser feels Good Enough ---\n",
      "--- Formatter ---\n"
     ]
    },
    {
     "name": "stderr",
     "output_type": "stream",
     "text": [
      "2025-05-14 22:07:20,598 - INFO - HTTP Request: POST https://ai-rolandaws880125ai409947751408.openai.azure.com/openai/deployments/gpt-4.1-mini/chat/completions?api-version=2025-01-01-preview \"HTTP/1.1 200 OK\"\n",
      "\n",
      "Processing 文法穴埋め (sentence_grammar):  92%|█████████▏| 12/13 [06:20<00:33, 33.10s/it]\u001B[A"
     ]
    },
    {
     "name": "stdout",
     "output_type": "stream",
     "text": [
      "---WEB SEARCH---\n",
      "---Generator----\n"
     ]
    },
    {
     "name": "stderr",
     "output_type": "stream",
     "text": [
      "2025-05-14 22:07:28,695 - INFO - HTTP Request: POST https://ai-rolandaws880125ai409947751408.openai.azure.com/openai/deployments/gpt-4.1/chat/completions?api-version=2025-01-01-preview \"HTTP/1.1 200 OK\"\n"
     ]
    },
    {
     "name": "stdout",
     "output_type": "stream",
     "text": [
      "---REVISOR---\n"
     ]
    },
    {
     "name": "stderr",
     "output_type": "stream",
     "text": [
      "2025-05-14 22:07:33,758 - INFO - HTTP Request: POST https://ai-rolandaws880125ai409947751408.openai.azure.com/openai/deployments/gpt-4.1-mini/chat/completions?api-version=2025-01-01-preview \"HTTP/1.1 200 OK\"\n"
     ]
    },
    {
     "name": "stdout",
     "output_type": "stream",
     "text": [
      "---Generator----\n"
     ]
    },
    {
     "name": "stderr",
     "output_type": "stream",
     "text": [
      "2025-05-14 22:07:39,945 - INFO - HTTP Request: POST https://ai-rolandaws880125ai409947751408.openai.azure.com/openai/deployments/gpt-4.1/chat/completions?api-version=2025-01-01-preview \"HTTP/1.1 200 OK\"\n"
     ]
    },
    {
     "name": "stdout",
     "output_type": "stream",
     "text": [
      "---REVISOR---\n"
     ]
    },
    {
     "name": "stderr",
     "output_type": "stream",
     "text": [
      "2025-05-14 22:07:44,557 - INFO - HTTP Request: POST https://ai-rolandaws880125ai409947751408.openai.azure.com/openai/deployments/gpt-4.1-mini/chat/completions?api-version=2025-01-01-preview \"HTTP/1.1 200 OK\"\n"
     ]
    },
    {
     "name": "stdout",
     "output_type": "stream",
     "text": [
      "--- AI Reviser feels Good Enough ---\n",
      "--- Formatter ---\n"
     ]
    },
    {
     "name": "stderr",
     "output_type": "stream",
     "text": [
      "2025-05-14 22:07:47,740 - INFO - HTTP Request: POST https://ai-rolandaws880125ai409947751408.openai.azure.com/openai/deployments/gpt-4.1-mini/chat/completions?api-version=2025-01-01-preview \"HTTP/1.1 200 OK\"\n",
      "\n",
      "Processing 文法穴埋め (sentence_grammar): 100%|██████████| 13/13 [06:47<00:00, 31.34s/it]\u001B[A\n",
      "Processing 第1部：語彙・文法:  75%|███████▌  | 6/8 [32:00<11:02, 331.04s/it]\n",
      "Processing 文の並べ替え (sentence_sort):   0%|          | 0/5 [00:00<?, ?it/s]\u001B[A"
     ]
    },
    {
     "name": "stdout",
     "output_type": "stream",
     "text": [
      "---WEB SEARCH---\n",
      "---Generator----\n"
     ]
    },
    {
     "name": "stderr",
     "output_type": "stream",
     "text": [
      "2025-05-14 22:07:57,155 - INFO - HTTP Request: POST https://ai-rolandaws880125ai409947751408.openai.azure.com/openai/deployments/gpt-4.1/chat/completions?api-version=2025-01-01-preview \"HTTP/1.1 200 OK\"\n"
     ]
    },
    {
     "name": "stdout",
     "output_type": "stream",
     "text": [
      "---REVISOR---\n"
     ]
    },
    {
     "name": "stderr",
     "output_type": "stream",
     "text": [
      "2025-05-14 22:08:06,050 - INFO - HTTP Request: POST https://ai-rolandaws880125ai409947751408.openai.azure.com/openai/deployments/gpt-4.1-mini/chat/completions?api-version=2025-01-01-preview \"HTTP/1.1 200 OK\"\n"
     ]
    },
    {
     "name": "stdout",
     "output_type": "stream",
     "text": [
      "---Generator----\n"
     ]
    },
    {
     "name": "stderr",
     "output_type": "stream",
     "text": [
      "2025-05-14 22:08:13,249 - INFO - HTTP Request: POST https://ai-rolandaws880125ai409947751408.openai.azure.com/openai/deployments/gpt-4.1/chat/completions?api-version=2025-01-01-preview \"HTTP/1.1 200 OK\"\n"
     ]
    },
    {
     "name": "stdout",
     "output_type": "stream",
     "text": [
      "---REVISOR---\n"
     ]
    },
    {
     "name": "stderr",
     "output_type": "stream",
     "text": [
      "2025-05-14 22:08:20,612 - INFO - HTTP Request: POST https://ai-rolandaws880125ai409947751408.openai.azure.com/openai/deployments/gpt-4.1-mini/chat/completions?api-version=2025-01-01-preview \"HTTP/1.1 200 OK\"\n"
     ]
    },
    {
     "name": "stdout",
     "output_type": "stream",
     "text": [
      "--- AI Reviser feels Good Enough ---\n",
      "--- Formatter ---\n"
     ]
    },
    {
     "name": "stderr",
     "output_type": "stream",
     "text": [
      "2025-05-14 22:08:24,220 - INFO - HTTP Request: POST https://ai-rolandaws880125ai409947751408.openai.azure.com/openai/deployments/gpt-4.1-mini/chat/completions?api-version=2025-01-01-preview \"HTTP/1.1 200 OK\"\n",
      "\n",
      "Processing 文の並べ替え (sentence_sort):  20%|██        | 1/5 [00:36<02:25, 36.48s/it]\u001B[A"
     ]
    },
    {
     "name": "stdout",
     "output_type": "stream",
     "text": [
      "---WEB SEARCH---\n",
      "---Generator----\n"
     ]
    },
    {
     "name": "stderr",
     "output_type": "stream",
     "text": [
      "2025-05-14 22:08:32,909 - INFO - HTTP Request: POST https://ai-rolandaws880125ai409947751408.openai.azure.com/openai/deployments/gpt-4.1/chat/completions?api-version=2025-01-01-preview \"HTTP/1.1 200 OK\"\n"
     ]
    },
    {
     "name": "stdout",
     "output_type": "stream",
     "text": [
      "---REVISOR---\n"
     ]
    },
    {
     "name": "stderr",
     "output_type": "stream",
     "text": [
      "2025-05-14 22:08:40,974 - INFO - HTTP Request: POST https://ai-rolandaws880125ai409947751408.openai.azure.com/openai/deployments/gpt-4.1-mini/chat/completions?api-version=2025-01-01-preview \"HTTP/1.1 200 OK\"\n"
     ]
    },
    {
     "name": "stdout",
     "output_type": "stream",
     "text": [
      "---Generator----\n"
     ]
    },
    {
     "name": "stderr",
     "output_type": "stream",
     "text": [
      "2025-05-14 22:08:46,315 - INFO - HTTP Request: POST https://ai-rolandaws880125ai409947751408.openai.azure.com/openai/deployments/gpt-4.1/chat/completions?api-version=2025-01-01-preview \"HTTP/1.1 200 OK\"\n"
     ]
    },
    {
     "name": "stdout",
     "output_type": "stream",
     "text": [
      "---REVISOR---\n"
     ]
    },
    {
     "name": "stderr",
     "output_type": "stream",
     "text": [
      "2025-05-14 22:08:50,171 - INFO - HTTP Request: POST https://ai-rolandaws880125ai409947751408.openai.azure.com/openai/deployments/gpt-4.1-mini/chat/completions?api-version=2025-01-01-preview \"HTTP/1.1 200 OK\"\n"
     ]
    },
    {
     "name": "stdout",
     "output_type": "stream",
     "text": [
      "--- AI Reviser feels Good Enough ---\n",
      "--- Formatter ---\n"
     ]
    },
    {
     "name": "stderr",
     "output_type": "stream",
     "text": [
      "2025-05-14 22:08:51,852 - INFO - HTTP Request: POST https://ai-rolandaws880125ai409947751408.openai.azure.com/openai/deployments/gpt-4.1-mini/chat/completions?api-version=2025-01-01-preview \"HTTP/1.1 200 OK\"\n",
      "\n",
      "Processing 文の並べ替え (sentence_sort):  40%|████      | 2/5 [01:04<01:33, 31.27s/it]\u001B[A"
     ]
    },
    {
     "name": "stdout",
     "output_type": "stream",
     "text": [
      "---WEB SEARCH---\n",
      "---Generator----\n"
     ]
    },
    {
     "name": "stderr",
     "output_type": "stream",
     "text": [
      "2025-05-14 22:09:02,611 - INFO - HTTP Request: POST https://ai-rolandaws880125ai409947751408.openai.azure.com/openai/deployments/gpt-4.1/chat/completions?api-version=2025-01-01-preview \"HTTP/1.1 200 OK\"\n"
     ]
    },
    {
     "name": "stdout",
     "output_type": "stream",
     "text": [
      "---REVISOR---\n"
     ]
    },
    {
     "name": "stderr",
     "output_type": "stream",
     "text": [
      "2025-05-14 22:09:10,621 - INFO - HTTP Request: POST https://ai-rolandaws880125ai409947751408.openai.azure.com/openai/deployments/gpt-4.1-mini/chat/completions?api-version=2025-01-01-preview \"HTTP/1.1 200 OK\"\n"
     ]
    },
    {
     "name": "stdout",
     "output_type": "stream",
     "text": [
      "---Generator----\n"
     ]
    },
    {
     "name": "stderr",
     "output_type": "stream",
     "text": [
      "2025-05-14 22:09:16,155 - INFO - HTTP Request: POST https://ai-rolandaws880125ai409947751408.openai.azure.com/openai/deployments/gpt-4.1/chat/completions?api-version=2025-01-01-preview \"HTTP/1.1 200 OK\"\n"
     ]
    },
    {
     "name": "stdout",
     "output_type": "stream",
     "text": [
      "---REVISOR---\n"
     ]
    },
    {
     "name": "stderr",
     "output_type": "stream",
     "text": [
      "2025-05-14 22:09:22,243 - INFO - HTTP Request: POST https://ai-rolandaws880125ai409947751408.openai.azure.com/openai/deployments/gpt-4.1-mini/chat/completions?api-version=2025-01-01-preview \"HTTP/1.1 200 OK\"\n"
     ]
    },
    {
     "name": "stdout",
     "output_type": "stream",
     "text": [
      "--- AI Reviser feels Good Enough ---\n",
      "--- Formatter ---\n"
     ]
    },
    {
     "name": "stderr",
     "output_type": "stream",
     "text": [
      "2025-05-14 22:09:24,601 - INFO - HTTP Request: POST https://ai-rolandaws880125ai409947751408.openai.azure.com/openai/deployments/gpt-4.1-mini/chat/completions?api-version=2025-01-01-preview \"HTTP/1.1 200 OK\"\n",
      "\n",
      "Processing 文の並べ替え (sentence_sort):  60%|██████    | 3/5 [01:36<01:03, 31.95s/it]\u001B[A"
     ]
    },
    {
     "name": "stdout",
     "output_type": "stream",
     "text": [
      "---WEB SEARCH---\n",
      "---Generator----\n"
     ]
    },
    {
     "name": "stderr",
     "output_type": "stream",
     "text": [
      "2025-05-14 22:09:35,904 - INFO - HTTP Request: POST https://ai-rolandaws880125ai409947751408.openai.azure.com/openai/deployments/gpt-4.1/chat/completions?api-version=2025-01-01-preview \"HTTP/1.1 200 OK\"\n"
     ]
    },
    {
     "name": "stdout",
     "output_type": "stream",
     "text": [
      "---REVISOR---\n"
     ]
    },
    {
     "name": "stderr",
     "output_type": "stream",
     "text": [
      "2025-05-14 22:09:44,019 - INFO - HTTP Request: POST https://ai-rolandaws880125ai409947751408.openai.azure.com/openai/deployments/gpt-4.1-mini/chat/completions?api-version=2025-01-01-preview \"HTTP/1.1 200 OK\"\n"
     ]
    },
    {
     "name": "stdout",
     "output_type": "stream",
     "text": [
      "---Generator----\n"
     ]
    },
    {
     "name": "stderr",
     "output_type": "stream",
     "text": [
      "2025-05-14 22:09:49,798 - INFO - HTTP Request: POST https://ai-rolandaws880125ai409947751408.openai.azure.com/openai/deployments/gpt-4.1/chat/completions?api-version=2025-01-01-preview \"HTTP/1.1 200 OK\"\n"
     ]
    },
    {
     "name": "stdout",
     "output_type": "stream",
     "text": [
      "---REVISOR---\n"
     ]
    },
    {
     "name": "stderr",
     "output_type": "stream",
     "text": [
      "2025-05-14 22:09:55,403 - INFO - HTTP Request: POST https://ai-rolandaws880125ai409947751408.openai.azure.com/openai/deployments/gpt-4.1-mini/chat/completions?api-version=2025-01-01-preview \"HTTP/1.1 200 OK\"\n"
     ]
    },
    {
     "name": "stdout",
     "output_type": "stream",
     "text": [
      "--- AI Reviser feels Good Enough ---\n",
      "--- Formatter ---\n"
     ]
    },
    {
     "name": "stderr",
     "output_type": "stream",
     "text": [
      "2025-05-14 22:09:58,339 - INFO - HTTP Request: POST https://ai-rolandaws880125ai409947751408.openai.azure.com/openai/deployments/gpt-4.1-mini/chat/completions?api-version=2025-01-01-preview \"HTTP/1.1 200 OK\"\n",
      "\n",
      "Processing 文の並べ替え (sentence_sort):  80%|████████  | 4/5 [02:10<00:32, 32.65s/it]\u001B[A"
     ]
    },
    {
     "name": "stdout",
     "output_type": "stream",
     "text": [
      "---WEB SEARCH---\n",
      "---Generator----\n"
     ]
    },
    {
     "name": "stderr",
     "output_type": "stream",
     "text": [
      "2025-05-14 22:10:05,860 - INFO - HTTP Request: POST https://ai-rolandaws880125ai409947751408.openai.azure.com/openai/deployments/gpt-4.1/chat/completions?api-version=2025-01-01-preview \"HTTP/1.1 200 OK\"\n"
     ]
    },
    {
     "name": "stdout",
     "output_type": "stream",
     "text": [
      "---REVISOR---\n"
     ]
    },
    {
     "name": "stderr",
     "output_type": "stream",
     "text": [
      "2025-05-14 22:10:12,059 - INFO - HTTP Request: POST https://ai-rolandaws880125ai409947751408.openai.azure.com/openai/deployments/gpt-4.1-mini/chat/completions?api-version=2025-01-01-preview \"HTTP/1.1 200 OK\"\n"
     ]
    },
    {
     "name": "stdout",
     "output_type": "stream",
     "text": [
      "--- AI Reviser feels Good Enough ---\n",
      "--- Formatter ---\n"
     ]
    },
    {
     "name": "stderr",
     "output_type": "stream",
     "text": [
      "2025-05-14 22:10:16,110 - INFO - HTTP Request: POST https://ai-rolandaws880125ai409947751408.openai.azure.com/openai/deployments/gpt-4.1-mini/chat/completions?api-version=2025-01-01-preview \"HTTP/1.1 200 OK\"\n",
      "\n",
      "Processing 文の並べ替え (sentence_sort): 100%|██████████| 5/5 [02:28<00:00, 29.67s/it]\u001B[A\n",
      "Processing 第1部：語彙・文法:  88%|████████▊ | 7/8 [34:28<04:31, 271.32s/it]\n",
      "Processing 文法構造選択 (sentence_structure):   0%|          | 0/4 [00:00<?, ?it/s]\u001B[A"
     ]
    },
    {
     "name": "stdout",
     "output_type": "stream",
     "text": [
      "---WEB SEARCH---\n",
      "---Generator----\n"
     ]
    },
    {
     "name": "stderr",
     "output_type": "stream",
     "text": [
      "2025-05-14 22:10:32,187 - INFO - HTTP Request: POST https://ai-rolandaws880125ai409947751408.openai.azure.com/openai/deployments/gpt-4.1/chat/completions?api-version=2025-01-01-preview \"HTTP/1.1 200 OK\"\n"
     ]
    },
    {
     "name": "stdout",
     "output_type": "stream",
     "text": [
      "---REVISOR---\n"
     ]
    },
    {
     "name": "stderr",
     "output_type": "stream",
     "text": [
      "2025-05-14 22:10:39,324 - INFO - HTTP Request: POST https://ai-rolandaws880125ai409947751408.openai.azure.com/openai/deployments/gpt-4.1-mini/chat/completions?api-version=2025-01-01-preview \"HTTP/1.1 200 OK\"\n"
     ]
    },
    {
     "name": "stdout",
     "output_type": "stream",
     "text": [
      "---Generator----\n"
     ]
    },
    {
     "name": "stderr",
     "output_type": "stream",
     "text": [
      "2025-05-14 22:10:48,064 - INFO - HTTP Request: POST https://ai-rolandaws880125ai409947751408.openai.azure.com/openai/deployments/gpt-4.1/chat/completions?api-version=2025-01-01-preview \"HTTP/1.1 200 OK\"\n"
     ]
    },
    {
     "name": "stdout",
     "output_type": "stream",
     "text": [
      "---REVISOR---\n"
     ]
    },
    {
     "name": "stderr",
     "output_type": "stream",
     "text": [
      "2025-05-14 22:10:52,805 - INFO - HTTP Request: POST https://ai-rolandaws880125ai409947751408.openai.azure.com/openai/deployments/gpt-4.1-mini/chat/completions?api-version=2025-01-01-preview \"HTTP/1.1 200 OK\"\n"
     ]
    },
    {
     "name": "stdout",
     "output_type": "stream",
     "text": [
      "--- AI Reviser feels Good Enough ---\n",
      "--- Formatter ---\n"
     ]
    },
    {
     "name": "stderr",
     "output_type": "stream",
     "text": [
      "2025-05-14 22:11:02,079 - INFO - HTTP Request: POST https://ai-rolandaws880125ai409947751408.openai.azure.com/openai/deployments/gpt-4.1-mini/chat/completions?api-version=2025-01-01-preview \"HTTP/1.1 200 OK\"\n",
      "\n",
      "Processing 文法構造選択 (sentence_structure):  25%|██▌       | 1/4 [00:45<02:17, 45.97s/it]\u001B[A"
     ]
    },
    {
     "name": "stdout",
     "output_type": "stream",
     "text": [
      "---WEB SEARCH---\n",
      "---Generator----\n"
     ]
    },
    {
     "name": "stderr",
     "output_type": "stream",
     "text": [
      "2025-05-14 22:11:15,033 - INFO - HTTP Request: POST https://ai-rolandaws880125ai409947751408.openai.azure.com/openai/deployments/gpt-4.1/chat/completions?api-version=2025-01-01-preview \"HTTP/1.1 200 OK\"\n"
     ]
    },
    {
     "name": "stdout",
     "output_type": "stream",
     "text": [
      "---REVISOR---\n"
     ]
    },
    {
     "name": "stderr",
     "output_type": "stream",
     "text": [
      "2025-05-14 22:11:23,922 - INFO - HTTP Request: POST https://ai-rolandaws880125ai409947751408.openai.azure.com/openai/deployments/gpt-4.1-mini/chat/completions?api-version=2025-01-01-preview \"HTTP/1.1 200 OK\"\n"
     ]
    },
    {
     "name": "stdout",
     "output_type": "stream",
     "text": [
      "---Generator----\n"
     ]
    },
    {
     "name": "stderr",
     "output_type": "stream",
     "text": [
      "2025-05-14 22:11:33,267 - INFO - HTTP Request: POST https://ai-rolandaws880125ai409947751408.openai.azure.com/openai/deployments/gpt-4.1/chat/completions?api-version=2025-01-01-preview \"HTTP/1.1 200 OK\"\n"
     ]
    },
    {
     "name": "stdout",
     "output_type": "stream",
     "text": [
      "---REVISOR---\n"
     ]
    },
    {
     "name": "stderr",
     "output_type": "stream",
     "text": [
      "2025-05-14 22:11:39,977 - INFO - HTTP Request: POST https://ai-rolandaws880125ai409947751408.openai.azure.com/openai/deployments/gpt-4.1-mini/chat/completions?api-version=2025-01-01-preview \"HTTP/1.1 200 OK\"\n"
     ]
    },
    {
     "name": "stdout",
     "output_type": "stream",
     "text": [
      "--- AI Reviser feels Good Enough ---\n",
      "--- Formatter ---\n"
     ]
    },
    {
     "name": "stderr",
     "output_type": "stream",
     "text": [
      "2025-05-14 22:11:52,393 - INFO - HTTP Request: POST https://ai-rolandaws880125ai409947751408.openai.azure.com/openai/deployments/gpt-4.1-mini/chat/completions?api-version=2025-01-01-preview \"HTTP/1.1 200 OK\"\n",
      "\n",
      "Processing 文法構造選択 (sentence_structure):  50%|█████     | 2/4 [01:36<01:37, 48.52s/it]\u001B[A"
     ]
    },
    {
     "name": "stdout",
     "output_type": "stream",
     "text": [
      "---WEB SEARCH---\n",
      "---Generator----\n"
     ]
    },
    {
     "name": "stderr",
     "output_type": "stream",
     "text": [
      "2025-05-14 22:12:07,076 - INFO - HTTP Request: POST https://ai-rolandaws880125ai409947751408.openai.azure.com/openai/deployments/gpt-4.1/chat/completions?api-version=2025-01-01-preview \"HTTP/1.1 200 OK\"\n"
     ]
    },
    {
     "name": "stdout",
     "output_type": "stream",
     "text": [
      "---REVISOR---\n"
     ]
    },
    {
     "name": "stderr",
     "output_type": "stream",
     "text": [
      "2025-05-14 22:12:15,055 - INFO - HTTP Request: POST https://ai-rolandaws880125ai409947751408.openai.azure.com/openai/deployments/gpt-4.1-mini/chat/completions?api-version=2025-01-01-preview \"HTTP/1.1 200 OK\"\n"
     ]
    },
    {
     "name": "stdout",
     "output_type": "stream",
     "text": [
      "--- AI Reviser feels Good Enough ---\n",
      "--- Formatter ---\n"
     ]
    },
    {
     "name": "stderr",
     "output_type": "stream",
     "text": [
      "2025-05-14 22:12:20,519 - INFO - HTTP Request: POST https://ai-rolandaws880125ai409947751408.openai.azure.com/openai/deployments/gpt-4.1-mini/chat/completions?api-version=2025-01-01-preview \"HTTP/1.1 200 OK\"\n",
      "\n",
      "Processing 文法構造選択 (sentence_structure):  75%|███████▌  | 3/4 [02:04<00:39, 39.22s/it]\u001B[A"
     ]
    },
    {
     "name": "stdout",
     "output_type": "stream",
     "text": [
      "---WEB SEARCH---\n",
      "---Generator----\n"
     ]
    },
    {
     "name": "stderr",
     "output_type": "stream",
     "text": [
      "2025-05-14 22:12:33,256 - INFO - HTTP Request: POST https://ai-rolandaws880125ai409947751408.openai.azure.com/openai/deployments/gpt-4.1/chat/completions?api-version=2025-01-01-preview \"HTTP/1.1 200 OK\"\n"
     ]
    },
    {
     "name": "stdout",
     "output_type": "stream",
     "text": [
      "---REVISOR---\n"
     ]
    },
    {
     "name": "stderr",
     "output_type": "stream",
     "text": [
      "2025-05-14 22:12:41,679 - INFO - HTTP Request: POST https://ai-rolandaws880125ai409947751408.openai.azure.com/openai/deployments/gpt-4.1-mini/chat/completions?api-version=2025-01-01-preview \"HTTP/1.1 200 OK\"\n"
     ]
    },
    {
     "name": "stdout",
     "output_type": "stream",
     "text": [
      "---Generator----\n"
     ]
    },
    {
     "name": "stderr",
     "output_type": "stream",
     "text": [
      "2025-05-14 22:12:52,695 - INFO - HTTP Request: POST https://ai-rolandaws880125ai409947751408.openai.azure.com/openai/deployments/gpt-4.1/chat/completions?api-version=2025-01-01-preview \"HTTP/1.1 200 OK\"\n"
     ]
    },
    {
     "name": "stdout",
     "output_type": "stream",
     "text": [
      "---REVISOR---\n"
     ]
    },
    {
     "name": "stderr",
     "output_type": "stream",
     "text": [
      "2025-05-14 22:12:59,355 - INFO - HTTP Request: POST https://ai-rolandaws880125ai409947751408.openai.azure.com/openai/deployments/gpt-4.1-mini/chat/completions?api-version=2025-01-01-preview \"HTTP/1.1 200 OK\"\n"
     ]
    },
    {
     "name": "stdout",
     "output_type": "stream",
     "text": [
      "--- AI Reviser feels Good Enough ---\n",
      "--- Formatter ---\n"
     ]
    },
    {
     "name": "stderr",
     "output_type": "stream",
     "text": [
      "2025-05-14 22:13:09,734 - INFO - HTTP Request: POST https://ai-rolandaws880125ai409947751408.openai.azure.com/openai/deployments/gpt-4.1-mini/chat/completions?api-version=2025-01-01-preview \"HTTP/1.1 200 OK\"\n",
      "\n",
      "Processing 文法構造選択 (sentence_structure): 100%|██████████| 4/4 [02:53<00:00, 43.41s/it]\u001B[A\n",
      "Processing 第1部：語彙・文法: 100%|██████████| 8/8 [37:22<00:00, 280.28s/it]\n",
      "Processing 第2部：読解:   0%|          | 0/4 [00:00<?, ?it/s]\n",
      "Processing 短文読解 (short_passage_read):   0%|          | 0/4 [00:00<?, ?it/s]\u001B[A"
     ]
    },
    {
     "name": "stdout",
     "output_type": "stream",
     "text": [
      "---WEB SEARCH---\n",
      "---Generator----\n"
     ]
    },
    {
     "name": "stderr",
     "output_type": "stream",
     "text": [
      "2025-05-14 22:13:25,125 - INFO - HTTP Request: POST https://ai-rolandaws880125ai409947751408.openai.azure.com/openai/deployments/gpt-4.1/chat/completions?api-version=2025-01-01-preview \"HTTP/1.1 200 OK\"\n"
     ]
    },
    {
     "name": "stdout",
     "output_type": "stream",
     "text": [
      "---REVISOR---\n"
     ]
    },
    {
     "name": "stderr",
     "output_type": "stream",
     "text": [
      "2025-05-14 22:13:31,924 - INFO - HTTP Request: POST https://ai-rolandaws880125ai409947751408.openai.azure.com/openai/deployments/gpt-4.1-mini/chat/completions?api-version=2025-01-01-preview \"HTTP/1.1 200 OK\"\n"
     ]
    },
    {
     "name": "stdout",
     "output_type": "stream",
     "text": [
      "---Generator----\n"
     ]
    },
    {
     "name": "stderr",
     "output_type": "stream",
     "text": [
      "2025-05-14 22:13:37,893 - INFO - HTTP Request: POST https://ai-rolandaws880125ai409947751408.openai.azure.com/openai/deployments/gpt-4.1/chat/completions?api-version=2025-01-01-preview \"HTTP/1.1 200 OK\"\n"
     ]
    },
    {
     "name": "stdout",
     "output_type": "stream",
     "text": [
      "---REVISOR---\n"
     ]
    },
    {
     "name": "stderr",
     "output_type": "stream",
     "text": [
      "2025-05-14 22:13:46,715 - INFO - HTTP Request: POST https://ai-rolandaws880125ai409947751408.openai.azure.com/openai/deployments/gpt-4.1-mini/chat/completions?api-version=2025-01-01-preview \"HTTP/1.1 200 OK\"\n"
     ]
    },
    {
     "name": "stdout",
     "output_type": "stream",
     "text": [
      "---Generator----\n"
     ]
    },
    {
     "name": "stderr",
     "output_type": "stream",
     "text": [
      "2025-05-14 22:13:51,752 - INFO - HTTP Request: POST https://ai-rolandaws880125ai409947751408.openai.azure.com/openai/deployments/gpt-4.1/chat/completions?api-version=2025-01-01-preview \"HTTP/1.1 200 OK\"\n"
     ]
    },
    {
     "name": "stdout",
     "output_type": "stream",
     "text": [
      "---REVISOR---\n"
     ]
    },
    {
     "name": "stderr",
     "output_type": "stream",
     "text": [
      "2025-05-14 22:13:57,460 - INFO - HTTP Request: POST https://ai-rolandaws880125ai409947751408.openai.azure.com/openai/deployments/gpt-4.1-mini/chat/completions?api-version=2025-01-01-preview \"HTTP/1.1 200 OK\"\n"
     ]
    },
    {
     "name": "stdout",
     "output_type": "stream",
     "text": [
      "--- Reach the Maximum Round ---\n",
      "--- Formatter ---\n"
     ]
    },
    {
     "name": "stderr",
     "output_type": "stream",
     "text": [
      "2025-05-14 22:13:59,224 - INFO - HTTP Request: POST https://ai-rolandaws880125ai409947751408.openai.azure.com/openai/deployments/gpt-4.1-mini/chat/completions?api-version=2025-01-01-preview \"HTTP/1.1 200 OK\"\n",
      "\n",
      "Processing 短文読解 (short_passage_read):  25%|██▌       | 1/4 [00:49<02:28, 49.48s/it]\u001B[A"
     ]
    },
    {
     "name": "stdout",
     "output_type": "stream",
     "text": [
      "---WEB SEARCH---\n",
      "---Generator----\n"
     ]
    },
    {
     "name": "stderr",
     "output_type": "stream",
     "text": [
      "2025-05-14 22:14:09,574 - INFO - HTTP Request: POST https://ai-rolandaws880125ai409947751408.openai.azure.com/openai/deployments/gpt-4.1/chat/completions?api-version=2025-01-01-preview \"HTTP/1.1 200 OK\"\n"
     ]
    },
    {
     "name": "stdout",
     "output_type": "stream",
     "text": [
      "---REVISOR---\n"
     ]
    },
    {
     "name": "stderr",
     "output_type": "stream",
     "text": [
      "2025-05-14 22:14:14,641 - INFO - HTTP Request: POST https://ai-rolandaws880125ai409947751408.openai.azure.com/openai/deployments/gpt-4.1-mini/chat/completions?api-version=2025-01-01-preview \"HTTP/1.1 200 OK\"\n"
     ]
    },
    {
     "name": "stdout",
     "output_type": "stream",
     "text": [
      "--- AI Reviser feels Good Enough ---\n",
      "--- Formatter ---\n"
     ]
    },
    {
     "name": "stderr",
     "output_type": "stream",
     "text": [
      "2025-05-14 22:14:16,834 - INFO - HTTP Request: POST https://ai-rolandaws880125ai409947751408.openai.azure.com/openai/deployments/gpt-4.1-mini/chat/completions?api-version=2025-01-01-preview \"HTTP/1.1 200 OK\"\n",
      "\n",
      "Processing 短文読解 (short_passage_read):  50%|█████     | 2/4 [01:07<01:01, 30.73s/it]\u001B[A"
     ]
    },
    {
     "name": "stdout",
     "output_type": "stream",
     "text": [
      "---WEB SEARCH---\n",
      "---Generator----\n"
     ]
    },
    {
     "name": "stderr",
     "output_type": "stream",
     "text": [
      "2025-05-14 22:14:28,510 - INFO - HTTP Request: POST https://ai-rolandaws880125ai409947751408.openai.azure.com/openai/deployments/gpt-4.1/chat/completions?api-version=2025-01-01-preview \"HTTP/1.1 200 OK\"\n"
     ]
    },
    {
     "name": "stdout",
     "output_type": "stream",
     "text": [
      "---REVISOR---\n"
     ]
    },
    {
     "name": "stderr",
     "output_type": "stream",
     "text": [
      "2025-05-14 22:14:35,646 - INFO - HTTP Request: POST https://ai-rolandaws880125ai409947751408.openai.azure.com/openai/deployments/gpt-4.1-mini/chat/completions?api-version=2025-01-01-preview \"HTTP/1.1 200 OK\"\n"
     ]
    },
    {
     "name": "stdout",
     "output_type": "stream",
     "text": [
      "---Generator----\n"
     ]
    },
    {
     "name": "stderr",
     "output_type": "stream",
     "text": [
      "2025-05-14 22:14:42,801 - INFO - HTTP Request: POST https://ai-rolandaws880125ai409947751408.openai.azure.com/openai/deployments/gpt-4.1/chat/completions?api-version=2025-01-01-preview \"HTTP/1.1 200 OK\"\n"
     ]
    },
    {
     "name": "stdout",
     "output_type": "stream",
     "text": [
      "---REVISOR---\n"
     ]
    },
    {
     "name": "stderr",
     "output_type": "stream",
     "text": [
      "2025-05-14 22:14:48,549 - INFO - HTTP Request: POST https://ai-rolandaws880125ai409947751408.openai.azure.com/openai/deployments/gpt-4.1-mini/chat/completions?api-version=2025-01-01-preview \"HTTP/1.1 200 OK\"\n"
     ]
    },
    {
     "name": "stdout",
     "output_type": "stream",
     "text": [
      "--- AI Reviser feels Good Enough ---\n",
      "--- Formatter ---\n"
     ]
    },
    {
     "name": "stderr",
     "output_type": "stream",
     "text": [
      "2025-05-14 22:14:54,673 - INFO - HTTP Request: POST https://ai-rolandaws880125ai409947751408.openai.azure.com/openai/deployments/gpt-4.1-mini/chat/completions?api-version=2025-01-01-preview \"HTTP/1.1 200 OK\"\n",
      "\n",
      "Processing 短文読解 (short_passage_read):  75%|███████▌  | 3/4 [01:44<00:33, 33.98s/it]\u001B[A"
     ]
    },
    {
     "name": "stdout",
     "output_type": "stream",
     "text": [
      "---WEB SEARCH---\n",
      "---Generator----\n"
     ]
    },
    {
     "name": "stderr",
     "output_type": "stream",
     "text": [
      "2025-05-14 22:15:05,676 - INFO - HTTP Request: POST https://ai-rolandaws880125ai409947751408.openai.azure.com/openai/deployments/gpt-4.1/chat/completions?api-version=2025-01-01-preview \"HTTP/1.1 200 OK\"\n"
     ]
    },
    {
     "name": "stdout",
     "output_type": "stream",
     "text": [
      "---REVISOR---\n"
     ]
    },
    {
     "name": "stderr",
     "output_type": "stream",
     "text": [
      "2025-05-14 22:15:12,996 - INFO - HTTP Request: POST https://ai-rolandaws880125ai409947751408.openai.azure.com/openai/deployments/gpt-4.1-mini/chat/completions?api-version=2025-01-01-preview \"HTTP/1.1 200 OK\"\n"
     ]
    },
    {
     "name": "stdout",
     "output_type": "stream",
     "text": [
      "--- AI Reviser feels Good Enough ---\n",
      "--- Formatter ---\n"
     ]
    },
    {
     "name": "stderr",
     "output_type": "stream",
     "text": [
      "2025-05-14 22:15:14,928 - INFO - HTTP Request: POST https://ai-rolandaws880125ai409947751408.openai.azure.com/openai/deployments/gpt-4.1-mini/chat/completions?api-version=2025-01-01-preview \"HTTP/1.1 200 OK\"\n",
      "\n",
      "Processing 短文読解 (short_passage_read): 100%|██████████| 4/4 [02:05<00:00, 31.30s/it]\u001B[A\n",
      "Processing 第2部：読解:  25%|██▌       | 1/4 [02:05<06:15, 125.19s/it]\n",
      "Processing 中文章読解 (midsize_passage_read):   0%|          | 0/2 [00:00<?, ?it/s]\u001B[A"
     ]
    },
    {
     "name": "stdout",
     "output_type": "stream",
     "text": [
      "---WEB SEARCH---\n",
      "---Generator----\n"
     ]
    },
    {
     "name": "stderr",
     "output_type": "stream",
     "text": [
      "2025-05-14 22:15:28,585 - INFO - HTTP Request: POST https://ai-rolandaws880125ai409947751408.openai.azure.com/openai/deployments/gpt-4.1/chat/completions?api-version=2025-01-01-preview \"HTTP/1.1 200 OK\"\n"
     ]
    },
    {
     "name": "stdout",
     "output_type": "stream",
     "text": [
      "---REVISOR---\n"
     ]
    },
    {
     "name": "stderr",
     "output_type": "stream",
     "text": [
      "2025-05-14 22:15:36,530 - INFO - HTTP Request: POST https://ai-rolandaws880125ai409947751408.openai.azure.com/openai/deployments/gpt-4.1-mini/chat/completions?api-version=2025-01-01-preview \"HTTP/1.1 200 OK\"\n"
     ]
    },
    {
     "name": "stdout",
     "output_type": "stream",
     "text": [
      "--- AI Reviser feels Good Enough ---\n",
      "--- Formatter ---\n"
     ]
    },
    {
     "name": "stderr",
     "output_type": "stream",
     "text": [
      "2025-05-14 22:15:39,367 - INFO - HTTP Request: POST https://ai-rolandaws880125ai409947751408.openai.azure.com/openai/deployments/gpt-4.1-mini/chat/completions?api-version=2025-01-01-preview \"HTTP/1.1 200 OK\"\n",
      "\n",
      "Processing 中文章読解 (midsize_passage_read):  50%|█████     | 1/2 [00:24<00:24, 24.44s/it]\u001B[A"
     ]
    },
    {
     "name": "stdout",
     "output_type": "stream",
     "text": [
      "---WEB SEARCH---\n",
      "---Generator----\n"
     ]
    },
    {
     "name": "stderr",
     "output_type": "stream",
     "text": [
      "2025-05-14 22:15:52,643 - INFO - HTTP Request: POST https://ai-rolandaws880125ai409947751408.openai.azure.com/openai/deployments/gpt-4.1/chat/completions?api-version=2025-01-01-preview \"HTTP/1.1 200 OK\"\n"
     ]
    },
    {
     "name": "stdout",
     "output_type": "stream",
     "text": [
      "---REVISOR---\n"
     ]
    },
    {
     "name": "stderr",
     "output_type": "stream",
     "text": [
      "2025-05-14 22:15:58,836 - INFO - HTTP Request: POST https://ai-rolandaws880125ai409947751408.openai.azure.com/openai/deployments/gpt-4.1-mini/chat/completions?api-version=2025-01-01-preview \"HTTP/1.1 200 OK\"\n"
     ]
    },
    {
     "name": "stdout",
     "output_type": "stream",
     "text": [
      "--- AI Reviser feels Good Enough ---\n",
      "--- Formatter ---\n"
     ]
    },
    {
     "name": "stderr",
     "output_type": "stream",
     "text": [
      "2025-05-14 22:16:00,844 - INFO - HTTP Request: POST https://ai-rolandaws880125ai409947751408.openai.azure.com/openai/deployments/gpt-4.1-mini/chat/completions?api-version=2025-01-01-preview \"HTTP/1.1 200 OK\"\n",
      "\n",
      "Processing 中文章読解 (midsize_passage_read): 100%|██████████| 2/2 [00:45<00:00, 22.97s/it]\u001B[A\n",
      "Processing 第2部：読解:  50%|█████     | 2/4 [02:51<02:37, 78.57s/it] \n",
      "Processing 長文読解 (long_passage_read):   0%|          | 0/1 [00:00<?, ?it/s]\u001B[A"
     ]
    },
    {
     "name": "stdout",
     "output_type": "stream",
     "text": [
      "---WEB SEARCH---\n",
      "---Generator----\n"
     ]
    },
    {
     "name": "stderr",
     "output_type": "stream",
     "text": [
      "2025-05-14 22:16:16,601 - INFO - HTTP Request: POST https://ai-rolandaws880125ai409947751408.openai.azure.com/openai/deployments/gpt-4.1/chat/completions?api-version=2025-01-01-preview \"HTTP/1.1 200 OK\"\n"
     ]
    },
    {
     "name": "stdout",
     "output_type": "stream",
     "text": [
      "---REVISOR---\n"
     ]
    },
    {
     "name": "stderr",
     "output_type": "stream",
     "text": [
      "2025-05-14 22:16:22,818 - INFO - HTTP Request: POST https://ai-rolandaws880125ai409947751408.openai.azure.com/openai/deployments/gpt-4.1-mini/chat/completions?api-version=2025-01-01-preview \"HTTP/1.1 200 OK\"\n"
     ]
    },
    {
     "name": "stdout",
     "output_type": "stream",
     "text": [
      "---Generator----\n"
     ]
    },
    {
     "name": "stderr",
     "output_type": "stream",
     "text": [
      "2025-05-14 22:16:32,309 - INFO - HTTP Request: POST https://ai-rolandaws880125ai409947751408.openai.azure.com/openai/deployments/gpt-4.1/chat/completions?api-version=2025-01-01-preview \"HTTP/1.1 200 OK\"\n"
     ]
    },
    {
     "name": "stdout",
     "output_type": "stream",
     "text": [
      "---REVISOR---\n"
     ]
    },
    {
     "name": "stderr",
     "output_type": "stream",
     "text": [
      "2025-05-14 22:16:39,355 - INFO - HTTP Request: POST https://ai-rolandaws880125ai409947751408.openai.azure.com/openai/deployments/gpt-4.1-mini/chat/completions?api-version=2025-01-01-preview \"HTTP/1.1 200 OK\"\n"
     ]
    },
    {
     "name": "stdout",
     "output_type": "stream",
     "text": [
      "--- AI Reviser feels Good Enough ---\n",
      "--- Formatter ---\n"
     ]
    },
    {
     "name": "stderr",
     "output_type": "stream",
     "text": [
      "2025-05-14 22:16:44,634 - INFO - HTTP Request: POST https://ai-rolandaws880125ai409947751408.openai.azure.com/openai/deployments/gpt-4.1-mini/chat/completions?api-version=2025-01-01-preview \"HTTP/1.1 200 OK\"\n",
      "\n",
      "Processing 長文読解 (long_passage_read): 100%|██████████| 1/1 [00:43<00:00, 43.78s/it]\u001B[A\n",
      "Processing 第2部：読解:  75%|███████▌  | 3/4 [03:34<01:02, 62.68s/it]\n",
      "Processing 情報検索 (info_retrieval):   0%|          | 0/1 [00:00<?, ?it/s]\u001B[A"
     ]
    },
    {
     "name": "stdout",
     "output_type": "stream",
     "text": [
      "---WEB SEARCH---\n",
      "---Generator----\n"
     ]
    },
    {
     "name": "stderr",
     "output_type": "stream",
     "text": [
      "2025-05-14 22:17:00,643 - INFO - HTTP Request: POST https://ai-rolandaws880125ai409947751408.openai.azure.com/openai/deployments/gpt-4.1/chat/completions?api-version=2025-01-01-preview \"HTTP/1.1 200 OK\"\n"
     ]
    },
    {
     "name": "stdout",
     "output_type": "stream",
     "text": [
      "---REVISOR---\n"
     ]
    },
    {
     "name": "stderr",
     "output_type": "stream",
     "text": [
      "2025-05-14 22:17:11,931 - INFO - HTTP Request: POST https://ai-rolandaws880125ai409947751408.openai.azure.com/openai/deployments/gpt-4.1-mini/chat/completions?api-version=2025-01-01-preview \"HTTP/1.1 200 OK\"\n"
     ]
    },
    {
     "name": "stdout",
     "output_type": "stream",
     "text": [
      "---Generator----\n"
     ]
    },
    {
     "name": "stderr",
     "output_type": "stream",
     "text": [
      "2025-05-14 22:17:27,312 - INFO - HTTP Request: POST https://ai-rolandaws880125ai409947751408.openai.azure.com/openai/deployments/gpt-4.1/chat/completions?api-version=2025-01-01-preview \"HTTP/1.1 200 OK\"\n"
     ]
    },
    {
     "name": "stdout",
     "output_type": "stream",
     "text": [
      "---REVISOR---\n"
     ]
    },
    {
     "name": "stderr",
     "output_type": "stream",
     "text": [
      "2025-05-14 22:17:33,890 - INFO - HTTP Request: POST https://ai-rolandaws880125ai409947751408.openai.azure.com/openai/deployments/gpt-4.1-mini/chat/completions?api-version=2025-01-01-preview \"HTTP/1.1 200 OK\"\n"
     ]
    },
    {
     "name": "stdout",
     "output_type": "stream",
     "text": [
      "--- AI Reviser feels Good Enough ---\n",
      "--- Formatter ---\n"
     ]
    },
    {
     "name": "stderr",
     "output_type": "stream",
     "text": [
      "2025-05-14 22:17:49,025 - INFO - HTTP Request: POST https://ai-rolandaws880125ai409947751408.openai.azure.com/openai/deployments/gpt-4.1-mini/chat/completions?api-version=2025-01-01-preview \"HTTP/1.1 200 OK\"\n",
      "\n",
      "Processing 情報検索 (info_retrieval): 100%|██████████| 1/1 [01:04<00:00, 64.39s/it]\u001B[A\n",
      "Processing 第2部：読解: 100%|██████████| 4/4 [04:39<00:00, 69.82s/it]\n",
      "Processing 第3部：聴解:   0%|          | 0/5 [00:00<?, ?it/s]\n",
      "Processing 話題理解 (topic_understanding):   0%|          | 0/6 [00:00<?, ?it/s]\u001B[A"
     ]
    },
    {
     "name": "stdout",
     "output_type": "stream",
     "text": [
      "---WEB SEARCH---\n",
      "---Generator----\n"
     ]
    },
    {
     "name": "stderr",
     "output_type": "stream",
     "text": [
      "2025-05-14 22:18:01,151 - INFO - HTTP Request: POST https://ai-rolandaws880125ai409947751408.openai.azure.com/openai/deployments/gpt-4.1/chat/completions?api-version=2025-01-01-preview \"HTTP/1.1 200 OK\"\n"
     ]
    },
    {
     "name": "stdout",
     "output_type": "stream",
     "text": [
      "---REVISOR---\n"
     ]
    },
    {
     "name": "stderr",
     "output_type": "stream",
     "text": [
      "2025-05-14 22:18:06,526 - INFO - HTTP Request: POST https://ai-rolandaws880125ai409947751408.openai.azure.com/openai/deployments/gpt-4.1-mini/chat/completions?api-version=2025-01-01-preview \"HTTP/1.1 200 OK\"\n"
     ]
    },
    {
     "name": "stdout",
     "output_type": "stream",
     "text": [
      "--- AI Reviser feels Good Enough ---\n",
      "--- Formatter ---\n"
     ]
    },
    {
     "name": "stderr",
     "output_type": "stream",
     "text": [
      "2025-05-14 22:18:10,116 - INFO - HTTP Request: POST https://ai-rolandaws880125ai409947751408.openai.azure.com/openai/deployments/gpt-4.1-mini/chat/completions?api-version=2025-01-01-preview \"HTTP/1.1 200 OK\"\n",
      "\n",
      "Processing 話題理解 (topic_understanding):  17%|█▋        | 1/6 [00:21<01:45, 21.10s/it]\u001B[A"
     ]
    },
    {
     "name": "stdout",
     "output_type": "stream",
     "text": [
      "---WEB SEARCH---\n",
      "---Generator----\n"
     ]
    },
    {
     "name": "stderr",
     "output_type": "stream",
     "text": [
      "2025-05-14 22:18:23,454 - INFO - HTTP Request: POST https://ai-rolandaws880125ai409947751408.openai.azure.com/openai/deployments/gpt-4.1/chat/completions?api-version=2025-01-01-preview \"HTTP/1.1 200 OK\"\n"
     ]
    },
    {
     "name": "stdout",
     "output_type": "stream",
     "text": [
      "---REVISOR---\n"
     ]
    },
    {
     "name": "stderr",
     "output_type": "stream",
     "text": [
      "2025-05-14 22:18:30,216 - INFO - HTTP Request: POST https://ai-rolandaws880125ai409947751408.openai.azure.com/openai/deployments/gpt-4.1-mini/chat/completions?api-version=2025-01-01-preview \"HTTP/1.1 200 OK\"\n"
     ]
    },
    {
     "name": "stdout",
     "output_type": "stream",
     "text": [
      "--- AI Reviser feels Good Enough ---\n",
      "--- Formatter ---\n"
     ]
    },
    {
     "name": "stderr",
     "output_type": "stream",
     "text": [
      "2025-05-14 22:18:34,252 - INFO - HTTP Request: POST https://ai-rolandaws880125ai409947751408.openai.azure.com/openai/deployments/gpt-4.1-mini/chat/completions?api-version=2025-01-01-preview \"HTTP/1.1 200 OK\"\n",
      "\n",
      "Processing 話題理解 (topic_understanding):  33%|███▎      | 2/6 [00:45<01:31, 22.88s/it]\u001B[A"
     ]
    },
    {
     "name": "stdout",
     "output_type": "stream",
     "text": [
      "---WEB SEARCH---\n",
      "---Generator----\n"
     ]
    },
    {
     "name": "stderr",
     "output_type": "stream",
     "text": [
      "2025-05-14 22:18:44,549 - INFO - HTTP Request: POST https://ai-rolandaws880125ai409947751408.openai.azure.com/openai/deployments/gpt-4.1/chat/completions?api-version=2025-01-01-preview \"HTTP/1.1 200 OK\"\n"
     ]
    },
    {
     "name": "stdout",
     "output_type": "stream",
     "text": [
      "---REVISOR---\n"
     ]
    },
    {
     "name": "stderr",
     "output_type": "stream",
     "text": [
      "2025-05-14 22:18:50,509 - INFO - HTTP Request: POST https://ai-rolandaws880125ai409947751408.openai.azure.com/openai/deployments/gpt-4.1-mini/chat/completions?api-version=2025-01-01-preview \"HTTP/1.1 200 OK\"\n"
     ]
    },
    {
     "name": "stdout",
     "output_type": "stream",
     "text": [
      "---Generator----\n"
     ]
    },
    {
     "name": "stderr",
     "output_type": "stream",
     "text": [
      "2025-05-14 22:18:57,141 - INFO - HTTP Request: POST https://ai-rolandaws880125ai409947751408.openai.azure.com/openai/deployments/gpt-4.1/chat/completions?api-version=2025-01-01-preview \"HTTP/1.1 200 OK\"\n"
     ]
    },
    {
     "name": "stdout",
     "output_type": "stream",
     "text": [
      "---REVISOR---\n"
     ]
    },
    {
     "name": "stderr",
     "output_type": "stream",
     "text": [
      "2025-05-14 22:19:05,441 - INFO - HTTP Request: POST https://ai-rolandaws880125ai409947751408.openai.azure.com/openai/deployments/gpt-4.1-mini/chat/completions?api-version=2025-01-01-preview \"HTTP/1.1 200 OK\"\n"
     ]
    },
    {
     "name": "stdout",
     "output_type": "stream",
     "text": [
      "--- AI Reviser feels Good Enough ---\n",
      "--- Formatter ---\n"
     ]
    },
    {
     "name": "stderr",
     "output_type": "stream",
     "text": [
      "2025-05-14 22:22:35,129 - INFO - HTTP Request: POST https://ai-rolandaws880125ai409947751408.openai.azure.com/openai/deployments/gpt-4.1-mini/chat/completions?api-version=2025-01-01-preview \"HTTP/1.1 200 OK\"\n",
      "\n",
      "Processing 話題理解 (topic_understanding):  50%|█████     | 3/6 [04:46<06:07, 122.43s/it]\u001B[A"
     ]
    },
    {
     "name": "stdout",
     "output_type": "stream",
     "text": [
      "---WEB SEARCH---\n",
      "---Generator----\n"
     ]
    },
    {
     "name": "stderr",
     "output_type": "stream",
     "text": [
      "2025-05-14 22:22:45,240 - INFO - HTTP Request: POST https://ai-rolandaws880125ai409947751408.openai.azure.com/openai/deployments/gpt-4.1/chat/completions?api-version=2025-01-01-preview \"HTTP/1.1 200 OK\"\n"
     ]
    },
    {
     "name": "stdout",
     "output_type": "stream",
     "text": [
      "---REVISOR---\n"
     ]
    },
    {
     "name": "stderr",
     "output_type": "stream",
     "text": [
      "2025-05-14 22:22:51,919 - INFO - HTTP Request: POST https://ai-rolandaws880125ai409947751408.openai.azure.com/openai/deployments/gpt-4.1-mini/chat/completions?api-version=2025-01-01-preview \"HTTP/1.1 200 OK\"\n"
     ]
    },
    {
     "name": "stdout",
     "output_type": "stream",
     "text": [
      "---Generator----\n"
     ]
    },
    {
     "name": "stderr",
     "output_type": "stream",
     "text": [
      "2025-05-14 22:22:57,744 - INFO - HTTP Request: POST https://ai-rolandaws880125ai409947751408.openai.azure.com/openai/deployments/gpt-4.1/chat/completions?api-version=2025-01-01-preview \"HTTP/1.1 200 OK\"\n"
     ]
    },
    {
     "name": "stdout",
     "output_type": "stream",
     "text": [
      "---REVISOR---\n"
     ]
    },
    {
     "name": "stderr",
     "output_type": "stream",
     "text": [
      "2025-05-14 22:23:06,916 - INFO - HTTP Request: POST https://ai-rolandaws880125ai409947751408.openai.azure.com/openai/deployments/gpt-4.1-mini/chat/completions?api-version=2025-01-01-preview \"HTTP/1.1 200 OK\"\n"
     ]
    },
    {
     "name": "stdout",
     "output_type": "stream",
     "text": [
      "---Generator----\n"
     ]
    },
    {
     "name": "stderr",
     "output_type": "stream",
     "text": [
      "2025-05-14 22:23:12,419 - INFO - HTTP Request: POST https://ai-rolandaws880125ai409947751408.openai.azure.com/openai/deployments/gpt-4.1/chat/completions?api-version=2025-01-01-preview \"HTTP/1.1 200 OK\"\n"
     ]
    },
    {
     "name": "stdout",
     "output_type": "stream",
     "text": [
      "---REVISOR---\n"
     ]
    },
    {
     "name": "stderr",
     "output_type": "stream",
     "text": [
      "2025-05-14 22:23:18,460 - INFO - HTTP Request: POST https://ai-rolandaws880125ai409947751408.openai.azure.com/openai/deployments/gpt-4.1-mini/chat/completions?api-version=2025-01-01-preview \"HTTP/1.1 200 OK\"\n"
     ]
    },
    {
     "name": "stdout",
     "output_type": "stream",
     "text": [
      "--- Reach the Maximum Round ---\n",
      "--- Formatter ---\n"
     ]
    },
    {
     "name": "stderr",
     "output_type": "stream",
     "text": [
      "2025-05-14 22:23:23,022 - INFO - HTTP Request: POST https://ai-rolandaws880125ai409947751408.openai.azure.com/openai/deployments/gpt-4.1-mini/chat/completions?api-version=2025-01-01-preview \"HTTP/1.1 200 OK\"\n",
      "\n",
      "Processing 話題理解 (topic_understanding):  67%|██████▋   | 4/6 [05:33<03:05, 93.00s/it] \u001B[A"
     ]
    },
    {
     "name": "stdout",
     "output_type": "stream",
     "text": [
      "---WEB SEARCH---\n",
      "---Generator----\n"
     ]
    },
    {
     "name": "stderr",
     "output_type": "stream",
     "text": [
      "2025-05-14 22:23:34,635 - INFO - HTTP Request: POST https://ai-rolandaws880125ai409947751408.openai.azure.com/openai/deployments/gpt-4.1/chat/completions?api-version=2025-01-01-preview \"HTTP/1.1 200 OK\"\n"
     ]
    },
    {
     "name": "stdout",
     "output_type": "stream",
     "text": [
      "---REVISOR---\n"
     ]
    },
    {
     "name": "stderr",
     "output_type": "stream",
     "text": [
      "2025-05-14 22:23:41,536 - INFO - HTTP Request: POST https://ai-rolandaws880125ai409947751408.openai.azure.com/openai/deployments/gpt-4.1-mini/chat/completions?api-version=2025-01-01-preview \"HTTP/1.1 200 OK\"\n"
     ]
    },
    {
     "name": "stdout",
     "output_type": "stream",
     "text": [
      "---Generator----\n"
     ]
    },
    {
     "name": "stderr",
     "output_type": "stream",
     "text": [
      "2025-05-14 22:23:46,895 - INFO - HTTP Request: POST https://ai-rolandaws880125ai409947751408.openai.azure.com/openai/deployments/gpt-4.1/chat/completions?api-version=2025-01-01-preview \"HTTP/1.1 200 OK\"\n"
     ]
    },
    {
     "name": "stdout",
     "output_type": "stream",
     "text": [
      "---REVISOR---\n"
     ]
    },
    {
     "name": "stderr",
     "output_type": "stream",
     "text": [
      "2025-05-14 22:23:53,377 - INFO - HTTP Request: POST https://ai-rolandaws880125ai409947751408.openai.azure.com/openai/deployments/gpt-4.1-mini/chat/completions?api-version=2025-01-01-preview \"HTTP/1.1 200 OK\"\n"
     ]
    },
    {
     "name": "stdout",
     "output_type": "stream",
     "text": [
      "--- AI Reviser feels Good Enough ---\n",
      "--- Formatter ---\n"
     ]
    },
    {
     "name": "stderr",
     "output_type": "stream",
     "text": [
      "2025-05-14 22:23:59,631 - INFO - HTTP Request: POST https://ai-rolandaws880125ai409947751408.openai.azure.com/openai/deployments/gpt-4.1-mini/chat/completions?api-version=2025-01-01-preview \"HTTP/1.1 200 OK\"\n",
      "\n",
      "Processing 話題理解 (topic_understanding):  83%|████████▎ | 5/6 [06:10<01:12, 72.66s/it]\u001B[A"
     ]
    },
    {
     "name": "stdout",
     "output_type": "stream",
     "text": [
      "---WEB SEARCH---\n",
      "---Generator----\n"
     ]
    },
    {
     "name": "stderr",
     "output_type": "stream",
     "text": [
      "2025-05-14 22:24:12,476 - INFO - HTTP Request: POST https://ai-rolandaws880125ai409947751408.openai.azure.com/openai/deployments/gpt-4.1/chat/completions?api-version=2025-01-01-preview \"HTTP/1.1 200 OK\"\n"
     ]
    },
    {
     "name": "stdout",
     "output_type": "stream",
     "text": [
      "---REVISOR---\n"
     ]
    },
    {
     "name": "stderr",
     "output_type": "stream",
     "text": [
      "2025-05-14 22:24:20,205 - INFO - HTTP Request: POST https://ai-rolandaws880125ai409947751408.openai.azure.com/openai/deployments/gpt-4.1-mini/chat/completions?api-version=2025-01-01-preview \"HTTP/1.1 200 OK\"\n"
     ]
    },
    {
     "name": "stdout",
     "output_type": "stream",
     "text": [
      "---Generator----\n"
     ]
    },
    {
     "name": "stderr",
     "output_type": "stream",
     "text": [
      "2025-05-14 22:24:25,027 - INFO - HTTP Request: POST https://ai-rolandaws880125ai409947751408.openai.azure.com/openai/deployments/gpt-4.1/chat/completions?api-version=2025-01-01-preview \"HTTP/1.1 200 OK\"\n"
     ]
    },
    {
     "name": "stdout",
     "output_type": "stream",
     "text": [
      "---REVISOR---\n"
     ]
    },
    {
     "name": "stderr",
     "output_type": "stream",
     "text": [
      "2025-05-14 22:24:29,995 - INFO - HTTP Request: POST https://ai-rolandaws880125ai409947751408.openai.azure.com/openai/deployments/gpt-4.1-mini/chat/completions?api-version=2025-01-01-preview \"HTTP/1.1 200 OK\"\n"
     ]
    },
    {
     "name": "stdout",
     "output_type": "stream",
     "text": [
      "--- AI Reviser feels Good Enough ---\n",
      "--- Formatter ---\n"
     ]
    },
    {
     "name": "stderr",
     "output_type": "stream",
     "text": [
      "2025-05-14 22:24:35,680 - INFO - HTTP Request: POST https://ai-rolandaws880125ai409947751408.openai.azure.com/openai/deployments/gpt-4.1-mini/chat/completions?api-version=2025-01-01-preview \"HTTP/1.1 200 OK\"\n",
      "\n",
      "Processing 話題理解 (topic_understanding): 100%|██████████| 6/6 [06:46<00:00, 67.77s/it]\u001B[A\n",
      "Processing 第3部：聴解:  20%|██        | 1/5 [06:46<27:06, 406.65s/it]\n",
      "Processing 要点理解 (keypoint_understanding):   0%|          | 0/6 [00:00<?, ?it/s]\u001B[A"
     ]
    },
    {
     "name": "stdout",
     "output_type": "stream",
     "text": [
      "---WEB SEARCH---\n",
      "---Generator----\n"
     ]
    },
    {
     "name": "stderr",
     "output_type": "stream",
     "text": [
      "2025-05-14 22:24:50,837 - INFO - HTTP Request: POST https://ai-rolandaws880125ai409947751408.openai.azure.com/openai/deployments/gpt-4.1/chat/completions?api-version=2025-01-01-preview \"HTTP/1.1 200 OK\"\n"
     ]
    },
    {
     "name": "stdout",
     "output_type": "stream",
     "text": [
      "---REVISOR---\n"
     ]
    },
    {
     "name": "stderr",
     "output_type": "stream",
     "text": [
      "2025-05-14 22:24:56,831 - INFO - HTTP Request: POST https://ai-rolandaws880125ai409947751408.openai.azure.com/openai/deployments/gpt-4.1-mini/chat/completions?api-version=2025-01-01-preview \"HTTP/1.1 200 OK\"\n"
     ]
    },
    {
     "name": "stdout",
     "output_type": "stream",
     "text": [
      "---Generator----\n"
     ]
    },
    {
     "name": "stderr",
     "output_type": "stream",
     "text": [
      "2025-05-14 22:25:03,469 - INFO - HTTP Request: POST https://ai-rolandaws880125ai409947751408.openai.azure.com/openai/deployments/gpt-4.1/chat/completions?api-version=2025-01-01-preview \"HTTP/1.1 200 OK\"\n"
     ]
    },
    {
     "name": "stdout",
     "output_type": "stream",
     "text": [
      "---REVISOR---\n"
     ]
    },
    {
     "name": "stderr",
     "output_type": "stream",
     "text": [
      "2025-05-14 22:25:08,611 - INFO - HTTP Request: POST https://ai-rolandaws880125ai409947751408.openai.azure.com/openai/deployments/gpt-4.1-mini/chat/completions?api-version=2025-01-01-preview \"HTTP/1.1 200 OK\"\n"
     ]
    },
    {
     "name": "stdout",
     "output_type": "stream",
     "text": [
      "--- AI Reviser feels Good Enough ---\n",
      "--- Formatter ---\n"
     ]
    },
    {
     "name": "stderr",
     "output_type": "stream",
     "text": [
      "2025-05-14 22:25:12,716 - INFO - HTTP Request: POST https://ai-rolandaws880125ai409947751408.openai.azure.com/openai/deployments/gpt-4.1-mini/chat/completions?api-version=2025-01-01-preview \"HTTP/1.1 200 OK\"\n",
      "\n",
      "Processing 要点理解 (keypoint_understanding):  17%|█▋        | 1/6 [00:37<03:05, 37.04s/it]\u001B[A"
     ]
    },
    {
     "name": "stdout",
     "output_type": "stream",
     "text": [
      "---WEB SEARCH---\n",
      "---Generator----\n"
     ]
    },
    {
     "name": "stderr",
     "output_type": "stream",
     "text": [
      "2025-05-14 22:25:25,018 - INFO - HTTP Request: POST https://ai-rolandaws880125ai409947751408.openai.azure.com/openai/deployments/gpt-4.1/chat/completions?api-version=2025-01-01-preview \"HTTP/1.1 200 OK\"\n"
     ]
    },
    {
     "name": "stdout",
     "output_type": "stream",
     "text": [
      "---REVISOR---\n"
     ]
    },
    {
     "name": "stderr",
     "output_type": "stream",
     "text": [
      "2025-05-14 22:25:34,505 - INFO - HTTP Request: POST https://ai-rolandaws880125ai409947751408.openai.azure.com/openai/deployments/gpt-4.1-mini/chat/completions?api-version=2025-01-01-preview \"HTTP/1.1 200 OK\"\n"
     ]
    },
    {
     "name": "stdout",
     "output_type": "stream",
     "text": [
      "--- AI Reviser feels Good Enough ---\n",
      "--- Formatter ---\n"
     ]
    },
    {
     "name": "stderr",
     "output_type": "stream",
     "text": [
      "2025-05-14 22:29:18,044 - INFO - HTTP Request: POST https://ai-rolandaws880125ai409947751408.openai.azure.com/openai/deployments/gpt-4.1-mini/chat/completions?api-version=2025-01-01-preview \"HTTP/1.1 200 OK\"\n"
     ]
    },
    {
     "name": "stdout",
     "output_type": "stream",
     "text": [
      "---WEB SEARCH---\n",
      "---Generator----\n"
     ]
    },
    {
     "name": "stderr",
     "output_type": "stream",
     "text": [
      "2025-05-14 22:29:31,313 - INFO - HTTP Request: POST https://ai-rolandaws880125ai409947751408.openai.azure.com/openai/deployments/gpt-4.1/chat/completions?api-version=2025-01-01-preview \"HTTP/1.1 200 OK\"\n"
     ]
    },
    {
     "name": "stdout",
     "output_type": "stream",
     "text": [
      "---REVISOR---\n"
     ]
    },
    {
     "name": "stderr",
     "output_type": "stream",
     "text": [
      "2025-05-14 22:29:37,555 - INFO - HTTP Request: POST https://ai-rolandaws880125ai409947751408.openai.azure.com/openai/deployments/gpt-4.1-mini/chat/completions?api-version=2025-01-01-preview \"HTTP/1.1 200 OK\"\n"
     ]
    },
    {
     "name": "stdout",
     "output_type": "stream",
     "text": [
      "---Generator----\n"
     ]
    },
    {
     "name": "stderr",
     "output_type": "stream",
     "text": [
      "2025-05-14 22:29:45,819 - INFO - HTTP Request: POST https://ai-rolandaws880125ai409947751408.openai.azure.com/openai/deployments/gpt-4.1/chat/completions?api-version=2025-01-01-preview \"HTTP/1.1 200 OK\"\n"
     ]
    },
    {
     "name": "stdout",
     "output_type": "stream",
     "text": [
      "---REVISOR---\n"
     ]
    },
    {
     "name": "stderr",
     "output_type": "stream",
     "text": [
      "2025-05-14 22:29:51,551 - INFO - HTTP Request: POST https://ai-rolandaws880125ai409947751408.openai.azure.com/openai/deployments/gpt-4.1-mini/chat/completions?api-version=2025-01-01-preview \"HTTP/1.1 200 OK\"\n"
     ]
    },
    {
     "name": "stdout",
     "output_type": "stream",
     "text": [
      "--- AI Reviser feels Good Enough ---\n",
      "--- Formatter ---\n"
     ]
    },
    {
     "name": "stderr",
     "output_type": "stream",
     "text": [
      "2025-05-14 22:29:55,645 - INFO - HTTP Request: POST https://ai-rolandaws880125ai409947751408.openai.azure.com/openai/deployments/gpt-4.1-mini/chat/completions?api-version=2025-01-01-preview \"HTTP/1.1 200 OK\"\n",
      "\n",
      "Processing 要点理解 (keypoint_understanding):  33%|███▎      | 2/6 [05:19<12:06, 181.68s/it]\u001B[A"
     ]
    },
    {
     "name": "stdout",
     "output_type": "stream",
     "text": [
      "---WEB SEARCH---\n",
      "---Generator----\n"
     ]
    },
    {
     "name": "stderr",
     "output_type": "stream",
     "text": [
      "2025-05-14 22:30:08,935 - INFO - HTTP Request: POST https://ai-rolandaws880125ai409947751408.openai.azure.com/openai/deployments/gpt-4.1/chat/completions?api-version=2025-01-01-preview \"HTTP/1.1 200 OK\"\n"
     ]
    },
    {
     "name": "stdout",
     "output_type": "stream",
     "text": [
      "---REVISOR---\n"
     ]
    },
    {
     "name": "stderr",
     "output_type": "stream",
     "text": [
      "2025-05-14 22:30:27,962 - INFO - HTTP Request: POST https://ai-rolandaws880125ai409947751408.openai.azure.com/openai/deployments/gpt-4.1-mini/chat/completions?api-version=2025-01-01-preview \"HTTP/1.1 200 OK\"\n"
     ]
    },
    {
     "name": "stdout",
     "output_type": "stream",
     "text": [
      "---Generator----\n"
     ]
    },
    {
     "name": "stderr",
     "output_type": "stream",
     "text": [
      "2025-05-14 22:30:33,245 - INFO - HTTP Request: POST https://ai-rolandaws880125ai409947751408.openai.azure.com/openai/deployments/gpt-4.1/chat/completions?api-version=2025-01-01-preview \"HTTP/1.1 200 OK\"\n"
     ]
    },
    {
     "name": "stdout",
     "output_type": "stream",
     "text": [
      "---REVISOR---\n"
     ]
    },
    {
     "name": "stderr",
     "output_type": "stream",
     "text": [
      "2025-05-14 22:30:42,144 - INFO - HTTP Request: POST https://ai-rolandaws880125ai409947751408.openai.azure.com/openai/deployments/gpt-4.1-mini/chat/completions?api-version=2025-01-01-preview \"HTTP/1.1 200 OK\"\n"
     ]
    },
    {
     "name": "stdout",
     "output_type": "stream",
     "text": [
      "--- AI Reviser feels Good Enough ---\n",
      "--- Formatter ---\n"
     ]
    },
    {
     "name": "stderr",
     "output_type": "stream",
     "text": [
      "2025-05-14 22:30:46,652 - INFO - HTTP Request: POST https://ai-rolandaws880125ai409947751408.openai.azure.com/openai/deployments/gpt-4.1-mini/chat/completions?api-version=2025-01-01-preview \"HTTP/1.1 200 OK\"\n",
      "\n",
      "Processing 要点理解 (keypoint_understanding):  50%|█████     | 3/6 [06:10<06:06, 122.01s/it]\u001B[A"
     ]
    },
    {
     "name": "stdout",
     "output_type": "stream",
     "text": [
      "---WEB SEARCH---\n",
      "---Generator----\n"
     ]
    },
    {
     "name": "stderr",
     "output_type": "stream",
     "text": [
      "2025-05-14 22:30:56,704 - INFO - HTTP Request: POST https://ai-rolandaws880125ai409947751408.openai.azure.com/openai/deployments/gpt-4.1/chat/completions?api-version=2025-01-01-preview \"HTTP/1.1 200 OK\"\n"
     ]
    },
    {
     "name": "stdout",
     "output_type": "stream",
     "text": [
      "---REVISOR---\n"
     ]
    },
    {
     "name": "stderr",
     "output_type": "stream",
     "text": [
      "2025-05-14 22:31:15,422 - INFO - HTTP Request: POST https://ai-rolandaws880125ai409947751408.openai.azure.com/openai/deployments/gpt-4.1-mini/chat/completions?api-version=2025-01-01-preview \"HTTP/1.1 200 OK\"\n"
     ]
    },
    {
     "name": "stdout",
     "output_type": "stream",
     "text": [
      "---Generator----\n"
     ]
    },
    {
     "name": "stderr",
     "output_type": "stream",
     "text": [
      "2025-05-14 22:31:22,833 - INFO - HTTP Request: POST https://ai-rolandaws880125ai409947751408.openai.azure.com/openai/deployments/gpt-4.1/chat/completions?api-version=2025-01-01-preview \"HTTP/1.1 200 OK\"\n"
     ]
    },
    {
     "name": "stdout",
     "output_type": "stream",
     "text": [
      "---REVISOR---\n"
     ]
    },
    {
     "name": "stderr",
     "output_type": "stream",
     "text": [
      "2025-05-14 22:31:32,137 - INFO - HTTP Request: POST https://ai-rolandaws880125ai409947751408.openai.azure.com/openai/deployments/gpt-4.1-mini/chat/completions?api-version=2025-01-01-preview \"HTTP/1.1 200 OK\"\n"
     ]
    },
    {
     "name": "stdout",
     "output_type": "stream",
     "text": [
      "---Generator----\n"
     ]
    },
    {
     "name": "stderr",
     "output_type": "stream",
     "text": [
      "2025-05-14 22:31:38,678 - INFO - HTTP Request: POST https://ai-rolandaws880125ai409947751408.openai.azure.com/openai/deployments/gpt-4.1/chat/completions?api-version=2025-01-01-preview \"HTTP/1.1 200 OK\"\n"
     ]
    },
    {
     "name": "stdout",
     "output_type": "stream",
     "text": [
      "---REVISOR---\n"
     ]
    },
    {
     "name": "stderr",
     "output_type": "stream",
     "text": [
      "2025-05-14 22:31:45,088 - INFO - HTTP Request: POST https://ai-rolandaws880125ai409947751408.openai.azure.com/openai/deployments/gpt-4.1-mini/chat/completions?api-version=2025-01-01-preview \"HTTP/1.1 200 OK\"\n"
     ]
    },
    {
     "name": "stdout",
     "output_type": "stream",
     "text": [
      "--- Reach the Maximum Round ---\n",
      "--- Formatter ---\n"
     ]
    },
    {
     "name": "stderr",
     "output_type": "stream",
     "text": [
      "2025-05-14 22:31:54,746 - INFO - HTTP Request: POST https://ai-rolandaws880125ai409947751408.openai.azure.com/openai/deployments/gpt-4.1-mini/chat/completions?api-version=2025-01-01-preview \"HTTP/1.1 200 OK\"\n",
      "\n",
      "Processing 要点理解 (keypoint_understanding):  67%|██████▋   | 4/6 [07:19<03:21, 100.72s/it]\u001B[A"
     ]
    },
    {
     "name": "stdout",
     "output_type": "stream",
     "text": [
      "---WEB SEARCH---\n",
      "---Generator----\n"
     ]
    },
    {
     "name": "stderr",
     "output_type": "stream",
     "text": [
      "2025-05-14 22:32:06,739 - INFO - HTTP Request: POST https://ai-rolandaws880125ai409947751408.openai.azure.com/openai/deployments/gpt-4.1/chat/completions?api-version=2025-01-01-preview \"HTTP/1.1 200 OK\"\n"
     ]
    },
    {
     "name": "stdout",
     "output_type": "stream",
     "text": [
      "---REVISOR---\n"
     ]
    },
    {
     "name": "stderr",
     "output_type": "stream",
     "text": [
      "2025-05-14 22:32:13,737 - INFO - HTTP Request: POST https://ai-rolandaws880125ai409947751408.openai.azure.com/openai/deployments/gpt-4.1-mini/chat/completions?api-version=2025-01-01-preview \"HTTP/1.1 200 OK\"\n"
     ]
    },
    {
     "name": "stdout",
     "output_type": "stream",
     "text": [
      "---Generator----\n"
     ]
    },
    {
     "name": "stderr",
     "output_type": "stream",
     "text": [
      "2025-05-14 22:32:19,260 - INFO - HTTP Request: POST https://ai-rolandaws880125ai409947751408.openai.azure.com/openai/deployments/gpt-4.1/chat/completions?api-version=2025-01-01-preview \"HTTP/1.1 200 OK\"\n"
     ]
    },
    {
     "name": "stdout",
     "output_type": "stream",
     "text": [
      "---REVISOR---\n"
     ]
    },
    {
     "name": "stderr",
     "output_type": "stream",
     "text": [
      "2025-05-14 22:32:25,598 - INFO - HTTP Request: POST https://ai-rolandaws880125ai409947751408.openai.azure.com/openai/deployments/gpt-4.1-mini/chat/completions?api-version=2025-01-01-preview \"HTTP/1.1 200 OK\"\n"
     ]
    },
    {
     "name": "stdout",
     "output_type": "stream",
     "text": [
      "--- AI Reviser feels Good Enough ---\n",
      "--- Formatter ---\n"
     ]
    },
    {
     "name": "stderr",
     "output_type": "stream",
     "text": [
      "2025-05-14 22:32:29,563 - INFO - HTTP Request: POST https://ai-rolandaws880125ai409947751408.openai.azure.com/openai/deployments/gpt-4.1-mini/chat/completions?api-version=2025-01-01-preview \"HTTP/1.1 200 OK\"\n",
      "\n",
      "Processing 要点理解 (keypoint_understanding):  83%|████████▎ | 5/6 [07:53<01:16, 76.96s/it] \u001B[A"
     ]
    },
    {
     "name": "stdout",
     "output_type": "stream",
     "text": [
      "---WEB SEARCH---\n",
      "---Generator----\n"
     ]
    },
    {
     "name": "stderr",
     "output_type": "stream",
     "text": [
      "2025-05-14 22:32:37,744 - INFO - HTTP Request: POST https://ai-rolandaws880125ai409947751408.openai.azure.com/openai/deployments/gpt-4.1/chat/completions?api-version=2025-01-01-preview \"HTTP/1.1 200 OK\"\n"
     ]
    },
    {
     "name": "stdout",
     "output_type": "stream",
     "text": [
      "---REVISOR---\n"
     ]
    },
    {
     "name": "stderr",
     "output_type": "stream",
     "text": [
      "2025-05-14 22:32:44,089 - INFO - HTTP Request: POST https://ai-rolandaws880125ai409947751408.openai.azure.com/openai/deployments/gpt-4.1-mini/chat/completions?api-version=2025-01-01-preview \"HTTP/1.1 200 OK\"\n"
     ]
    },
    {
     "name": "stdout",
     "output_type": "stream",
     "text": [
      "---Generator----\n"
     ]
    },
    {
     "name": "stderr",
     "output_type": "stream",
     "text": [
      "2025-05-14 22:32:48,286 - INFO - HTTP Request: POST https://ai-rolandaws880125ai409947751408.openai.azure.com/openai/deployments/gpt-4.1/chat/completions?api-version=2025-01-01-preview \"HTTP/1.1 200 OK\"\n"
     ]
    },
    {
     "name": "stdout",
     "output_type": "stream",
     "text": [
      "---REVISOR---\n"
     ]
    },
    {
     "name": "stderr",
     "output_type": "stream",
     "text": [
      "2025-05-14 22:32:58,168 - INFO - HTTP Request: POST https://ai-rolandaws880125ai409947751408.openai.azure.com/openai/deployments/gpt-4.1-mini/chat/completions?api-version=2025-01-01-preview \"HTTP/1.1 200 OK\"\n"
     ]
    },
    {
     "name": "stdout",
     "output_type": "stream",
     "text": [
      "---Generator----\n"
     ]
    },
    {
     "name": "stderr",
     "output_type": "stream",
     "text": [
      "2025-05-14 22:33:01,412 - INFO - HTTP Request: POST https://ai-rolandaws880125ai409947751408.openai.azure.com/openai/deployments/gpt-4.1/chat/completions?api-version=2025-01-01-preview \"HTTP/1.1 200 OK\"\n"
     ]
    },
    {
     "name": "stdout",
     "output_type": "stream",
     "text": [
      "---REVISOR---\n"
     ]
    },
    {
     "name": "stderr",
     "output_type": "stream",
     "text": [
      "2025-05-14 22:33:05,142 - INFO - HTTP Request: POST https://ai-rolandaws880125ai409947751408.openai.azure.com/openai/deployments/gpt-4.1-mini/chat/completions?api-version=2025-01-01-preview \"HTTP/1.1 200 OK\"\n"
     ]
    },
    {
     "name": "stdout",
     "output_type": "stream",
     "text": [
      "--- Reach the Maximum Round ---\n",
      "--- Formatter ---\n"
     ]
    },
    {
     "name": "stderr",
     "output_type": "stream",
     "text": [
      "2025-05-14 22:33:08,150 - INFO - HTTP Request: POST https://ai-rolandaws880125ai409947751408.openai.azure.com/openai/deployments/gpt-4.1-mini/chat/completions?api-version=2025-01-01-preview \"HTTP/1.1 200 OK\"\n",
      "\n",
      "Processing 要点理解 (keypoint_understanding): 100%|██████████| 6/6 [08:32<00:00, 85.41s/it]\u001B[A\n",
      "Processing 第3部：聴解:  40%|████      | 2/5 [15:19<23:26, 468.90s/it]\n",
      "Processing 概要理解 (summary_understanding):   0%|          | 0/3 [00:00<?, ?it/s]\u001B[A"
     ]
    },
    {
     "name": "stdout",
     "output_type": "stream",
     "text": [
      "---WEB SEARCH---\n",
      "---Generator----\n"
     ]
    },
    {
     "name": "stderr",
     "output_type": "stream",
     "text": [
      "2025-05-14 22:33:20,235 - INFO - HTTP Request: POST https://ai-rolandaws880125ai409947751408.openai.azure.com/openai/deployments/gpt-4.1/chat/completions?api-version=2025-01-01-preview \"HTTP/1.1 200 OK\"\n"
     ]
    },
    {
     "name": "stdout",
     "output_type": "stream",
     "text": [
      "---REVISOR---\n"
     ]
    },
    {
     "name": "stderr",
     "output_type": "stream",
     "text": [
      "2025-05-14 22:33:26,141 - INFO - HTTP Request: POST https://ai-rolandaws880125ai409947751408.openai.azure.com/openai/deployments/gpt-4.1-mini/chat/completions?api-version=2025-01-01-preview \"HTTP/1.1 200 OK\"\n"
     ]
    },
    {
     "name": "stdout",
     "output_type": "stream",
     "text": [
      "--- AI Reviser feels Good Enough ---\n",
      "--- Formatter ---\n"
     ]
    },
    {
     "name": "stderr",
     "output_type": "stream",
     "text": [
      "2025-05-14 22:37:09,445 - INFO - HTTP Request: POST https://ai-rolandaws880125ai409947751408.openai.azure.com/openai/deployments/gpt-4.1-mini/chat/completions?api-version=2025-01-01-preview \"HTTP/1.1 200 OK\"\n"
     ]
    },
    {
     "name": "stdout",
     "output_type": "stream",
     "text": [
      "---WEB SEARCH---\n",
      "---Generator----\n"
     ]
    },
    {
     "name": "stderr",
     "output_type": "stream",
     "text": [
      "2025-05-14 22:37:23,922 - INFO - HTTP Request: POST https://ai-rolandaws880125ai409947751408.openai.azure.com/openai/deployments/gpt-4.1/chat/completions?api-version=2025-01-01-preview \"HTTP/1.1 200 OK\"\n"
     ]
    },
    {
     "name": "stdout",
     "output_type": "stream",
     "text": [
      "---REVISOR---\n"
     ]
    },
    {
     "name": "stderr",
     "output_type": "stream",
     "text": [
      "2025-05-14 22:37:36,883 - INFO - HTTP Request: POST https://ai-rolandaws880125ai409947751408.openai.azure.com/openai/deployments/gpt-4.1-mini/chat/completions?api-version=2025-01-01-preview \"HTTP/1.1 200 OK\"\n"
     ]
    },
    {
     "name": "stdout",
     "output_type": "stream",
     "text": [
      "---Generator----\n"
     ]
    },
    {
     "name": "stderr",
     "output_type": "stream",
     "text": [
      "2025-05-14 22:37:44,501 - INFO - HTTP Request: POST https://ai-rolandaws880125ai409947751408.openai.azure.com/openai/deployments/gpt-4.1/chat/completions?api-version=2025-01-01-preview \"HTTP/1.1 200 OK\"\n"
     ]
    },
    {
     "name": "stdout",
     "output_type": "stream",
     "text": [
      "---REVISOR---\n"
     ]
    },
    {
     "name": "stderr",
     "output_type": "stream",
     "text": [
      "2025-05-14 22:37:50,822 - INFO - HTTP Request: POST https://ai-rolandaws880125ai409947751408.openai.azure.com/openai/deployments/gpt-4.1-mini/chat/completions?api-version=2025-01-01-preview \"HTTP/1.1 200 OK\"\n"
     ]
    },
    {
     "name": "stdout",
     "output_type": "stream",
     "text": [
      "--- AI Reviser feels Good Enough ---\n",
      "--- Formatter ---\n"
     ]
    },
    {
     "name": "stderr",
     "output_type": "stream",
     "text": [
      "2025-05-14 22:37:54,613 - INFO - HTTP Request: POST https://ai-rolandaws880125ai409947751408.openai.azure.com/openai/deployments/gpt-4.1-mini/chat/completions?api-version=2025-01-01-preview \"HTTP/1.1 200 OK\"\n",
      "\n",
      "Processing 概要理解 (summary_understanding):  33%|███▎      | 1/3 [04:46<09:32, 286.46s/it]\u001B[A"
     ]
    },
    {
     "name": "stdout",
     "output_type": "stream",
     "text": [
      "---WEB SEARCH---\n",
      "---Generator----\n"
     ]
    },
    {
     "name": "stderr",
     "output_type": "stream",
     "text": [
      "2025-05-14 22:38:07,385 - INFO - HTTP Request: POST https://ai-rolandaws880125ai409947751408.openai.azure.com/openai/deployments/gpt-4.1/chat/completions?api-version=2025-01-01-preview \"HTTP/1.1 200 OK\"\n"
     ]
    },
    {
     "name": "stdout",
     "output_type": "stream",
     "text": [
      "---REVISOR---\n"
     ]
    },
    {
     "name": "stderr",
     "output_type": "stream",
     "text": [
      "2025-05-14 22:38:13,449 - INFO - HTTP Request: POST https://ai-rolandaws880125ai409947751408.openai.azure.com/openai/deployments/gpt-4.1-mini/chat/completions?api-version=2025-01-01-preview \"HTTP/1.1 200 OK\"\n"
     ]
    },
    {
     "name": "stdout",
     "output_type": "stream",
     "text": [
      "--- AI Reviser feels Good Enough ---\n",
      "--- Formatter ---\n"
     ]
    },
    {
     "name": "stderr",
     "output_type": "stream",
     "text": [
      "2025-05-14 22:38:18,790 - INFO - HTTP Request: POST https://ai-rolandaws880125ai409947751408.openai.azure.com/openai/deployments/gpt-4.1-mini/chat/completions?api-version=2025-01-01-preview \"HTTP/1.1 200 OK\"\n",
      "\n",
      "Processing 概要理解 (summary_understanding):  67%|██████▋   | 2/3 [05:10<02:12, 132.17s/it]\u001B[A"
     ]
    },
    {
     "name": "stdout",
     "output_type": "stream",
     "text": [
      "---WEB SEARCH---\n",
      "---Generator----\n"
     ]
    },
    {
     "name": "stderr",
     "output_type": "stream",
     "text": [
      "2025-05-14 22:38:30,904 - INFO - HTTP Request: POST https://ai-rolandaws880125ai409947751408.openai.azure.com/openai/deployments/gpt-4.1/chat/completions?api-version=2025-01-01-preview \"HTTP/1.1 200 OK\"\n"
     ]
    },
    {
     "name": "stdout",
     "output_type": "stream",
     "text": [
      "---REVISOR---\n"
     ]
    },
    {
     "name": "stderr",
     "output_type": "stream",
     "text": [
      "2025-05-14 22:38:41,756 - INFO - HTTP Request: POST https://ai-rolandaws880125ai409947751408.openai.azure.com/openai/deployments/gpt-4.1-mini/chat/completions?api-version=2025-01-01-preview \"HTTP/1.1 200 OK\"\n"
     ]
    },
    {
     "name": "stdout",
     "output_type": "stream",
     "text": [
      "--- AI Reviser feels Good Enough ---\n",
      "--- Formatter ---\n"
     ]
    },
    {
     "name": "stderr",
     "output_type": "stream",
     "text": [
      "2025-05-14 22:38:46,276 - INFO - HTTP Request: POST https://ai-rolandaws880125ai409947751408.openai.azure.com/openai/deployments/gpt-4.1-mini/chat/completions?api-version=2025-01-01-preview \"HTTP/1.1 200 OK\"\n",
      "\n",
      "Processing 概要理解 (summary_understanding): 100%|██████████| 3/3 [05:38<00:00, 112.71s/it]\u001B[A\n",
      "Processing 第3部：聴解:  60%|██████    | 3/5 [20:57<13:38, 409.19s/it]\n",
      "Processing 積極的表現 (active_expression):   0%|          | 0/4 [00:00<?, ?it/s]\u001B[A"
     ]
    },
    {
     "name": "stdout",
     "output_type": "stream",
     "text": [
      "---WEB SEARCH---\n",
      "---Generator----\n"
     ]
    },
    {
     "name": "stderr",
     "output_type": "stream",
     "text": [
      "2025-05-14 22:38:58,761 - INFO - HTTP Request: POST https://ai-rolandaws880125ai409947751408.openai.azure.com/openai/deployments/gpt-4.1/chat/completions?api-version=2025-01-01-preview \"HTTP/1.1 200 OK\"\n"
     ]
    },
    {
     "name": "stdout",
     "output_type": "stream",
     "text": [
      "---REVISOR---\n"
     ]
    },
    {
     "name": "stderr",
     "output_type": "stream",
     "text": [
      "2025-05-14 22:39:06,297 - INFO - HTTP Request: POST https://ai-rolandaws880125ai409947751408.openai.azure.com/openai/deployments/gpt-4.1-mini/chat/completions?api-version=2025-01-01-preview \"HTTP/1.1 200 OK\"\n"
     ]
    },
    {
     "name": "stdout",
     "output_type": "stream",
     "text": [
      "--- AI Reviser feels Good Enough ---\n",
      "--- Formatter ---\n"
     ]
    },
    {
     "name": "stderr",
     "output_type": "stream",
     "text": [
      "2025-05-14 22:39:09,065 - INFO - HTTP Request: POST https://ai-rolandaws880125ai409947751408.openai.azure.com/openai/deployments/gpt-4.1-mini/chat/completions?api-version=2025-01-01-preview \"HTTP/1.1 200 OK\"\n",
      "\n",
      "Processing 積極的表現 (active_expression):  25%|██▌       | 1/4 [00:22<01:08, 22.80s/it]\u001B[A"
     ]
    },
    {
     "name": "stdout",
     "output_type": "stream",
     "text": [
      "---WEB SEARCH---\n",
      "---Generator----\n"
     ]
    },
    {
     "name": "stderr",
     "output_type": "stream",
     "text": [
      "2025-05-14 22:39:21,715 - INFO - HTTP Request: POST https://ai-rolandaws880125ai409947751408.openai.azure.com/openai/deployments/gpt-4.1/chat/completions?api-version=2025-01-01-preview \"HTTP/1.1 200 OK\"\n"
     ]
    },
    {
     "name": "stdout",
     "output_type": "stream",
     "text": [
      "---REVISOR---\n"
     ]
    },
    {
     "name": "stderr",
     "output_type": "stream",
     "text": [
      "2025-05-14 22:39:28,264 - INFO - HTTP Request: POST https://ai-rolandaws880125ai409947751408.openai.azure.com/openai/deployments/gpt-4.1-mini/chat/completions?api-version=2025-01-01-preview \"HTTP/1.1 200 OK\"\n"
     ]
    },
    {
     "name": "stdout",
     "output_type": "stream",
     "text": [
      "---Generator----\n"
     ]
    },
    {
     "name": "stderr",
     "output_type": "stream",
     "text": [
      "2025-05-14 22:39:34,909 - INFO - HTTP Request: POST https://ai-rolandaws880125ai409947751408.openai.azure.com/openai/deployments/gpt-4.1/chat/completions?api-version=2025-01-01-preview \"HTTP/1.1 200 OK\"\n"
     ]
    },
    {
     "name": "stdout",
     "output_type": "stream",
     "text": [
      "---REVISOR---\n"
     ]
    },
    {
     "name": "stderr",
     "output_type": "stream",
     "text": [
      "2025-05-14 22:39:40,056 - INFO - HTTP Request: POST https://ai-rolandaws880125ai409947751408.openai.azure.com/openai/deployments/gpt-4.1-mini/chat/completions?api-version=2025-01-01-preview \"HTTP/1.1 200 OK\"\n"
     ]
    },
    {
     "name": "stdout",
     "output_type": "stream",
     "text": [
      "---Generator----\n"
     ]
    },
    {
     "name": "stderr",
     "output_type": "stream",
     "text": [
      "2025-05-14 22:39:45,719 - INFO - HTTP Request: POST https://ai-rolandaws880125ai409947751408.openai.azure.com/openai/deployments/gpt-4.1/chat/completions?api-version=2025-01-01-preview \"HTTP/1.1 200 OK\"\n"
     ]
    },
    {
     "name": "stdout",
     "output_type": "stream",
     "text": [
      "---REVISOR---\n"
     ]
    },
    {
     "name": "stderr",
     "output_type": "stream",
     "text": [
      "2025-05-14 22:39:52,714 - INFO - HTTP Request: POST https://ai-rolandaws880125ai409947751408.openai.azure.com/openai/deployments/gpt-4.1-mini/chat/completions?api-version=2025-01-01-preview \"HTTP/1.1 200 OK\"\n"
     ]
    },
    {
     "name": "stdout",
     "output_type": "stream",
     "text": [
      "--- Reach the Maximum Round ---\n",
      "--- Formatter ---\n"
     ]
    },
    {
     "name": "stderr",
     "output_type": "stream",
     "text": [
      "2025-05-14 22:39:56,879 - INFO - HTTP Request: POST https://ai-rolandaws880125ai409947751408.openai.azure.com/openai/deployments/gpt-4.1-mini/chat/completions?api-version=2025-01-01-preview \"HTTP/1.1 200 OK\"\n",
      "\n",
      "Processing 積極的表現 (active_expression):  50%|█████     | 2/4 [01:10<01:14, 37.50s/it]\u001B[A"
     ]
    },
    {
     "name": "stdout",
     "output_type": "stream",
     "text": [
      "---WEB SEARCH---\n",
      "---Generator----\n"
     ]
    },
    {
     "name": "stderr",
     "output_type": "stream",
     "text": [
      "2025-05-14 22:40:10,468 - INFO - HTTP Request: POST https://ai-rolandaws880125ai409947751408.openai.azure.com/openai/deployments/gpt-4.1/chat/completions?api-version=2025-01-01-preview \"HTTP/1.1 200 OK\"\n"
     ]
    },
    {
     "name": "stdout",
     "output_type": "stream",
     "text": [
      "---REVISOR---\n"
     ]
    },
    {
     "name": "stderr",
     "output_type": "stream",
     "text": [
      "2025-05-14 22:40:14,920 - INFO - HTTP Request: POST https://ai-rolandaws880125ai409947751408.openai.azure.com/openai/deployments/gpt-4.1-mini/chat/completions?api-version=2025-01-01-preview \"HTTP/1.1 200 OK\"\n"
     ]
    },
    {
     "name": "stdout",
     "output_type": "stream",
     "text": [
      "--- AI Reviser feels Good Enough ---\n",
      "--- Formatter ---\n"
     ]
    },
    {
     "name": "stderr",
     "output_type": "stream",
     "text": [
      "2025-05-14 22:40:17,626 - INFO - HTTP Request: POST https://ai-rolandaws880125ai409947751408.openai.azure.com/openai/deployments/gpt-4.1-mini/chat/completions?api-version=2025-01-01-preview \"HTTP/1.1 200 OK\"\n",
      "\n",
      "Processing 積極的表現 (active_expression):  75%|███████▌  | 3/4 [01:31<00:29, 29.85s/it]\u001B[A"
     ]
    },
    {
     "name": "stdout",
     "output_type": "stream",
     "text": [
      "---WEB SEARCH---\n",
      "---Generator----\n"
     ]
    },
    {
     "name": "stderr",
     "output_type": "stream",
     "text": [
      "2025-05-14 22:40:27,862 - INFO - HTTP Request: POST https://ai-rolandaws880125ai409947751408.openai.azure.com/openai/deployments/gpt-4.1/chat/completions?api-version=2025-01-01-preview \"HTTP/1.1 200 OK\"\n"
     ]
    },
    {
     "name": "stdout",
     "output_type": "stream",
     "text": [
      "---REVISOR---\n"
     ]
    },
    {
     "name": "stderr",
     "output_type": "stream",
     "text": [
      "2025-05-14 22:40:33,669 - INFO - HTTP Request: POST https://ai-rolandaws880125ai409947751408.openai.azure.com/openai/deployments/gpt-4.1-mini/chat/completions?api-version=2025-01-01-preview \"HTTP/1.1 200 OK\"\n"
     ]
    },
    {
     "name": "stdout",
     "output_type": "stream",
     "text": [
      "--- AI Reviser feels Good Enough ---\n",
      "--- Formatter ---\n"
     ]
    },
    {
     "name": "stderr",
     "output_type": "stream",
     "text": [
      "2025-05-14 22:40:36,926 - INFO - HTTP Request: POST https://ai-rolandaws880125ai409947751408.openai.azure.com/openai/deployments/gpt-4.1-mini/chat/completions?api-version=2025-01-01-preview \"HTTP/1.1 200 OK\"\n",
      "\n",
      "Processing 積極的表現 (active_expression): 100%|██████████| 4/4 [01:50<00:00, 27.66s/it]\u001B[A\n",
      "Processing 第3部：聴解:  80%|████████  | 4/5 [22:47<04:51, 291.33s/it]\n",
      "Processing 即時応答 (immediate_ack):   0%|          | 0/9 [00:00<?, ?it/s]\u001B[A"
     ]
    },
    {
     "name": "stdout",
     "output_type": "stream",
     "text": [
      "---WEB SEARCH---\n",
      "---Generator----\n"
     ]
    },
    {
     "name": "stderr",
     "output_type": "stream",
     "text": [
      "2025-05-14 22:40:49,605 - INFO - HTTP Request: POST https://ai-rolandaws880125ai409947751408.openai.azure.com/openai/deployments/gpt-4.1/chat/completions?api-version=2025-01-01-preview \"HTTP/1.1 200 OK\"\n"
     ]
    },
    {
     "name": "stdout",
     "output_type": "stream",
     "text": [
      "---REVISOR---\n"
     ]
    },
    {
     "name": "stderr",
     "output_type": "stream",
     "text": [
      "2025-05-14 22:40:57,104 - INFO - HTTP Request: POST https://ai-rolandaws880125ai409947751408.openai.azure.com/openai/deployments/gpt-4.1-mini/chat/completions?api-version=2025-01-01-preview \"HTTP/1.1 200 OK\"\n"
     ]
    },
    {
     "name": "stdout",
     "output_type": "stream",
     "text": [
      "--- AI Reviser feels Good Enough ---\n",
      "--- Formatter ---\n"
     ]
    },
    {
     "name": "stderr",
     "output_type": "stream",
     "text": [
      "2025-05-14 22:41:00,134 - INFO - HTTP Request: POST https://ai-rolandaws880125ai409947751408.openai.azure.com/openai/deployments/gpt-4.1-mini/chat/completions?api-version=2025-01-01-preview \"HTTP/1.1 200 OK\"\n",
      "\n",
      "Processing 即時応答 (immediate_ack):  11%|█         | 1/9 [00:23<03:05, 23.20s/it]\u001B[A"
     ]
    },
    {
     "name": "stdout",
     "output_type": "stream",
     "text": [
      "---WEB SEARCH---\n",
      "---Generator----\n"
     ]
    },
    {
     "name": "stderr",
     "output_type": "stream",
     "text": [
      "2025-05-14 22:41:10,898 - INFO - HTTP Request: POST https://ai-rolandaws880125ai409947751408.openai.azure.com/openai/deployments/gpt-4.1/chat/completions?api-version=2025-01-01-preview \"HTTP/1.1 200 OK\"\n"
     ]
    },
    {
     "name": "stdout",
     "output_type": "stream",
     "text": [
      "---REVISOR---\n"
     ]
    },
    {
     "name": "stderr",
     "output_type": "stream",
     "text": [
      "2025-05-14 22:41:16,590 - INFO - HTTP Request: POST https://ai-rolandaws880125ai409947751408.openai.azure.com/openai/deployments/gpt-4.1-mini/chat/completions?api-version=2025-01-01-preview \"HTTP/1.1 200 OK\"\n"
     ]
    },
    {
     "name": "stdout",
     "output_type": "stream",
     "text": [
      "--- AI Reviser feels Good Enough ---\n",
      "--- Formatter ---\n"
     ]
    },
    {
     "name": "stderr",
     "output_type": "stream",
     "text": [
      "2025-05-14 22:41:18,990 - INFO - HTTP Request: POST https://ai-rolandaws880125ai409947751408.openai.azure.com/openai/deployments/gpt-4.1-mini/chat/completions?api-version=2025-01-01-preview \"HTTP/1.1 200 OK\"\n",
      "\n",
      "Processing 即時応答 (immediate_ack):  22%|██▏       | 2/9 [00:42<02:24, 20.65s/it]\u001B[A"
     ]
    },
    {
     "name": "stdout",
     "output_type": "stream",
     "text": [
      "---WEB SEARCH---\n",
      "---Generator----\n"
     ]
    },
    {
     "name": "stderr",
     "output_type": "stream",
     "text": [
      "2025-05-14 22:41:26,812 - INFO - HTTP Request: POST https://ai-rolandaws880125ai409947751408.openai.azure.com/openai/deployments/gpt-4.1/chat/completions?api-version=2025-01-01-preview \"HTTP/1.1 200 OK\"\n"
     ]
    },
    {
     "name": "stdout",
     "output_type": "stream",
     "text": [
      "---REVISOR---\n"
     ]
    },
    {
     "name": "stderr",
     "output_type": "stream",
     "text": [
      "2025-05-14 22:41:35,539 - INFO - HTTP Request: POST https://ai-rolandaws880125ai409947751408.openai.azure.com/openai/deployments/gpt-4.1-mini/chat/completions?api-version=2025-01-01-preview \"HTTP/1.1 200 OK\"\n"
     ]
    },
    {
     "name": "stdout",
     "output_type": "stream",
     "text": [
      "--- AI Reviser feels Good Enough ---\n",
      "--- Formatter ---\n"
     ]
    },
    {
     "name": "stderr",
     "output_type": "stream",
     "text": [
      "2025-05-14 22:41:37,551 - INFO - HTTP Request: POST https://ai-rolandaws880125ai409947751408.openai.azure.com/openai/deployments/gpt-4.1-mini/chat/completions?api-version=2025-01-01-preview \"HTTP/1.1 200 OK\"\n",
      "\n",
      "Processing 即時応答 (immediate_ack):  33%|███▎      | 3/9 [01:00<01:58, 19.69s/it]\u001B[A"
     ]
    },
    {
     "name": "stdout",
     "output_type": "stream",
     "text": [
      "---WEB SEARCH---\n",
      "---Generator----\n"
     ]
    },
    {
     "name": "stderr",
     "output_type": "stream",
     "text": [
      "2025-05-14 22:41:46,017 - INFO - HTTP Request: POST https://ai-rolandaws880125ai409947751408.openai.azure.com/openai/deployments/gpt-4.1/chat/completions?api-version=2025-01-01-preview \"HTTP/1.1 200 OK\"\n"
     ]
    },
    {
     "name": "stdout",
     "output_type": "stream",
     "text": [
      "---REVISOR---\n"
     ]
    },
    {
     "name": "stderr",
     "output_type": "stream",
     "text": [
      "2025-05-14 22:41:53,153 - INFO - HTTP Request: POST https://ai-rolandaws880125ai409947751408.openai.azure.com/openai/deployments/gpt-4.1-mini/chat/completions?api-version=2025-01-01-preview \"HTTP/1.1 200 OK\"\n"
     ]
    },
    {
     "name": "stdout",
     "output_type": "stream",
     "text": [
      "--- AI Reviser feels Good Enough ---\n",
      "--- Formatter ---\n"
     ]
    },
    {
     "name": "stderr",
     "output_type": "stream",
     "text": [
      "2025-05-14 22:41:55,324 - INFO - HTTP Request: POST https://ai-rolandaws880125ai409947751408.openai.azure.com/openai/deployments/gpt-4.1-mini/chat/completions?api-version=2025-01-01-preview \"HTTP/1.1 200 OK\"\n",
      "\n",
      "Processing 即時応答 (immediate_ack):  44%|████▍     | 4/9 [01:18<01:34, 18.94s/it]\u001B[A"
     ]
    },
    {
     "name": "stdout",
     "output_type": "stream",
     "text": [
      "---WEB SEARCH---\n",
      "---Generator----\n"
     ]
    },
    {
     "name": "stderr",
     "output_type": "stream",
     "text": [
      "2025-05-14 22:42:04,091 - INFO - HTTP Request: POST https://ai-rolandaws880125ai409947751408.openai.azure.com/openai/deployments/gpt-4.1/chat/completions?api-version=2025-01-01-preview \"HTTP/1.1 200 OK\"\n"
     ]
    },
    {
     "name": "stdout",
     "output_type": "stream",
     "text": [
      "---REVISOR---\n"
     ]
    },
    {
     "name": "stderr",
     "output_type": "stream",
     "text": [
      "2025-05-14 22:42:09,934 - INFO - HTTP Request: POST https://ai-rolandaws880125ai409947751408.openai.azure.com/openai/deployments/gpt-4.1-mini/chat/completions?api-version=2025-01-01-preview \"HTTP/1.1 200 OK\"\n"
     ]
    },
    {
     "name": "stdout",
     "output_type": "stream",
     "text": [
      "---Generator----\n"
     ]
    },
    {
     "name": "stderr",
     "output_type": "stream",
     "text": [
      "2025-05-14 22:42:13,601 - INFO - HTTP Request: POST https://ai-rolandaws880125ai409947751408.openai.azure.com/openai/deployments/gpt-4.1/chat/completions?api-version=2025-01-01-preview \"HTTP/1.1 200 OK\"\n"
     ]
    },
    {
     "name": "stdout",
     "output_type": "stream",
     "text": [
      "---REVISOR---\n"
     ]
    },
    {
     "name": "stderr",
     "output_type": "stream",
     "text": [
      "2025-05-14 22:42:21,096 - INFO - HTTP Request: POST https://ai-rolandaws880125ai409947751408.openai.azure.com/openai/deployments/gpt-4.1-mini/chat/completions?api-version=2025-01-01-preview \"HTTP/1.1 200 OK\"\n"
     ]
    },
    {
     "name": "stdout",
     "output_type": "stream",
     "text": [
      "---Generator----\n"
     ]
    },
    {
     "name": "stderr",
     "output_type": "stream",
     "text": [
      "2025-05-14 22:42:24,909 - INFO - HTTP Request: POST https://ai-rolandaws880125ai409947751408.openai.azure.com/openai/deployments/gpt-4.1/chat/completions?api-version=2025-01-01-preview \"HTTP/1.1 200 OK\"\n"
     ]
    },
    {
     "name": "stdout",
     "output_type": "stream",
     "text": [
      "---REVISOR---\n"
     ]
    },
    {
     "name": "stderr",
     "output_type": "stream",
     "text": [
      "2025-05-14 22:42:30,034 - INFO - HTTP Request: POST https://ai-rolandaws880125ai409947751408.openai.azure.com/openai/deployments/gpt-4.1-mini/chat/completions?api-version=2025-01-01-preview \"HTTP/1.1 200 OK\"\n"
     ]
    },
    {
     "name": "stdout",
     "output_type": "stream",
     "text": [
      "--- Reach the Maximum Round ---\n",
      "--- Formatter ---\n"
     ]
    },
    {
     "name": "stderr",
     "output_type": "stream",
     "text": [
      "2025-05-14 22:42:33,204 - INFO - HTTP Request: POST https://ai-rolandaws880125ai409947751408.openai.azure.com/openai/deployments/gpt-4.1-mini/chat/completions?api-version=2025-01-01-preview \"HTTP/1.1 200 OK\"\n",
      "\n",
      "Processing 即時応答 (immediate_ack):  56%|█████▌    | 5/9 [01:56<01:43, 25.77s/it]\u001B[A"
     ]
    },
    {
     "name": "stdout",
     "output_type": "stream",
     "text": [
      "---WEB SEARCH---\n",
      "---Generator----\n"
     ]
    },
    {
     "name": "stderr",
     "output_type": "stream",
     "text": [
      "2025-05-14 22:42:43,071 - INFO - HTTP Request: POST https://ai-rolandaws880125ai409947751408.openai.azure.com/openai/deployments/gpt-4.1/chat/completions?api-version=2025-01-01-preview \"HTTP/1.1 200 OK\"\n"
     ]
    },
    {
     "name": "stdout",
     "output_type": "stream",
     "text": [
      "---REVISOR---\n"
     ]
    },
    {
     "name": "stderr",
     "output_type": "stream",
     "text": [
      "2025-05-14 22:43:01,244 - INFO - HTTP Request: POST https://ai-rolandaws880125ai409947751408.openai.azure.com/openai/deployments/gpt-4.1-mini/chat/completions?api-version=2025-01-01-preview \"HTTP/1.1 200 OK\"\n"
     ]
    },
    {
     "name": "stdout",
     "output_type": "stream",
     "text": [
      "---Generator----\n"
     ]
    },
    {
     "name": "stderr",
     "output_type": "stream",
     "text": [
      "2025-05-14 22:43:05,541 - INFO - HTTP Request: POST https://ai-rolandaws880125ai409947751408.openai.azure.com/openai/deployments/gpt-4.1/chat/completions?api-version=2025-01-01-preview \"HTTP/1.1 200 OK\"\n"
     ]
    },
    {
     "name": "stdout",
     "output_type": "stream",
     "text": [
      "---REVISOR---\n"
     ]
    },
    {
     "name": "stderr",
     "output_type": "stream",
     "text": [
      "2025-05-14 22:43:14,399 - INFO - HTTP Request: POST https://ai-rolandaws880125ai409947751408.openai.azure.com/openai/deployments/gpt-4.1-mini/chat/completions?api-version=2025-01-01-preview \"HTTP/1.1 200 OK\"\n"
     ]
    },
    {
     "name": "stdout",
     "output_type": "stream",
     "text": [
      "--- AI Reviser feels Good Enough ---\n",
      "--- Formatter ---\n"
     ]
    },
    {
     "name": "stderr",
     "output_type": "stream",
     "text": [
      "2025-05-14 22:43:17,599 - INFO - HTTP Request: POST https://ai-rolandaws880125ai409947751408.openai.azure.com/openai/deployments/gpt-4.1-mini/chat/completions?api-version=2025-01-01-preview \"HTTP/1.1 200 OK\"\n",
      "\n",
      "Processing 即時応答 (immediate_ack):  67%|██████▋   | 6/9 [02:40<01:36, 32.10s/it]\u001B[A"
     ]
    },
    {
     "name": "stdout",
     "output_type": "stream",
     "text": [
      "---WEB SEARCH---\n",
      "---Generator----\n"
     ]
    },
    {
     "name": "stderr",
     "output_type": "stream",
     "text": [
      "2025-05-14 22:43:28,039 - INFO - HTTP Request: POST https://ai-rolandaws880125ai409947751408.openai.azure.com/openai/deployments/gpt-4.1/chat/completions?api-version=2025-01-01-preview \"HTTP/1.1 200 OK\"\n"
     ]
    },
    {
     "name": "stdout",
     "output_type": "stream",
     "text": [
      "---REVISOR---\n"
     ]
    },
    {
     "name": "stderr",
     "output_type": "stream",
     "text": [
      "2025-05-14 22:43:37,949 - INFO - HTTP Request: POST https://ai-rolandaws880125ai409947751408.openai.azure.com/openai/deployments/gpt-4.1-mini/chat/completions?api-version=2025-01-01-preview \"HTTP/1.1 200 OK\"\n"
     ]
    },
    {
     "name": "stdout",
     "output_type": "stream",
     "text": [
      "---Generator----\n"
     ]
    },
    {
     "name": "stderr",
     "output_type": "stream",
     "text": [
      "2025-05-14 22:43:43,674 - INFO - HTTP Request: POST https://ai-rolandaws880125ai409947751408.openai.azure.com/openai/deployments/gpt-4.1/chat/completions?api-version=2025-01-01-preview \"HTTP/1.1 200 OK\"\n"
     ]
    },
    {
     "name": "stdout",
     "output_type": "stream",
     "text": [
      "---REVISOR---\n"
     ]
    },
    {
     "name": "stderr",
     "output_type": "stream",
     "text": [
      "2025-05-14 22:44:02,024 - INFO - HTTP Request: POST https://ai-rolandaws880125ai409947751408.openai.azure.com/openai/deployments/gpt-4.1-mini/chat/completions?api-version=2025-01-01-preview \"HTTP/1.1 200 OK\"\n"
     ]
    },
    {
     "name": "stdout",
     "output_type": "stream",
     "text": [
      "---Generator----\n"
     ]
    },
    {
     "name": "stderr",
     "output_type": "stream",
     "text": [
      "2025-05-14 22:44:07,318 - INFO - HTTP Request: POST https://ai-rolandaws880125ai409947751408.openai.azure.com/openai/deployments/gpt-4.1/chat/completions?api-version=2025-01-01-preview \"HTTP/1.1 200 OK\"\n"
     ]
    },
    {
     "name": "stdout",
     "output_type": "stream",
     "text": [
      "---REVISOR---\n"
     ]
    },
    {
     "name": "stderr",
     "output_type": "stream",
     "text": [
      "2025-05-14 22:44:14,712 - INFO - HTTP Request: POST https://ai-rolandaws880125ai409947751408.openai.azure.com/openai/deployments/gpt-4.1-mini/chat/completions?api-version=2025-01-01-preview \"HTTP/1.1 200 OK\"\n"
     ]
    },
    {
     "name": "stdout",
     "output_type": "stream",
     "text": [
      "--- Reach the Maximum Round ---\n",
      "--- Formatter ---\n"
     ]
    },
    {
     "name": "stderr",
     "output_type": "stream",
     "text": [
      "2025-05-14 22:44:16,956 - INFO - HTTP Request: POST https://ai-rolandaws880125ai409947751408.openai.azure.com/openai/deployments/gpt-4.1-mini/chat/completions?api-version=2025-01-01-preview \"HTTP/1.1 200 OK\"\n",
      "\n",
      "Processing 即時応答 (immediate_ack):  78%|███████▊  | 7/9 [03:40<01:22, 41.01s/it]\u001B[A"
     ]
    },
    {
     "name": "stdout",
     "output_type": "stream",
     "text": [
      "---WEB SEARCH---\n",
      "---Generator----\n"
     ]
    },
    {
     "name": "stderr",
     "output_type": "stream",
     "text": [
      "2025-05-14 22:44:27,276 - INFO - HTTP Request: POST https://ai-rolandaws880125ai409947751408.openai.azure.com/openai/deployments/gpt-4.1/chat/completions?api-version=2025-01-01-preview \"HTTP/1.1 200 OK\"\n"
     ]
    },
    {
     "name": "stdout",
     "output_type": "stream",
     "text": [
      "---REVISOR---\n"
     ]
    },
    {
     "name": "stderr",
     "output_type": "stream",
     "text": [
      "2025-05-14 22:44:34,894 - INFO - HTTP Request: POST https://ai-rolandaws880125ai409947751408.openai.azure.com/openai/deployments/gpt-4.1-mini/chat/completions?api-version=2025-01-01-preview \"HTTP/1.1 200 OK\"\n"
     ]
    },
    {
     "name": "stdout",
     "output_type": "stream",
     "text": [
      "---Generator----\n"
     ]
    },
    {
     "name": "stderr",
     "output_type": "stream",
     "text": [
      "2025-05-14 22:44:42,242 - INFO - HTTP Request: POST https://ai-rolandaws880125ai409947751408.openai.azure.com/openai/deployments/gpt-4.1/chat/completions?api-version=2025-01-01-preview \"HTTP/1.1 200 OK\"\n"
     ]
    },
    {
     "name": "stdout",
     "output_type": "stream",
     "text": [
      "---REVISOR---\n"
     ]
    },
    {
     "name": "stderr",
     "output_type": "stream",
     "text": [
      "2025-05-14 22:44:47,182 - INFO - HTTP Request: POST https://ai-rolandaws880125ai409947751408.openai.azure.com/openai/deployments/gpt-4.1-mini/chat/completions?api-version=2025-01-01-preview \"HTTP/1.1 200 OK\"\n"
     ]
    },
    {
     "name": "stdout",
     "output_type": "stream",
     "text": [
      "--- AI Reviser feels Good Enough ---\n",
      "--- Formatter ---\n"
     ]
    },
    {
     "name": "stderr",
     "output_type": "stream",
     "text": [
      "2025-05-14 22:44:55,479 - INFO - HTTP Request: POST https://ai-rolandaws880125ai409947751408.openai.azure.com/openai/deployments/gpt-4.1-mini/chat/completions?api-version=2025-01-01-preview \"HTTP/1.1 200 OK\"\n",
      "\n",
      "Processing 即時応答 (immediate_ack):  89%|████████▉ | 8/9 [04:18<00:40, 40.22s/it]\u001B[A"
     ]
    },
    {
     "name": "stdout",
     "output_type": "stream",
     "text": [
      "---WEB SEARCH---\n",
      "---Generator----\n"
     ]
    },
    {
     "name": "stderr",
     "output_type": "stream",
     "text": [
      "2025-05-14 22:45:08,231 - INFO - HTTP Request: POST https://ai-rolandaws880125ai409947751408.openai.azure.com/openai/deployments/gpt-4.1/chat/completions?api-version=2025-01-01-preview \"HTTP/1.1 200 OK\"\n"
     ]
    },
    {
     "name": "stdout",
     "output_type": "stream",
     "text": [
      "---REVISOR---\n"
     ]
    },
    {
     "name": "stderr",
     "output_type": "stream",
     "text": [
      "2025-05-14 22:45:15,782 - INFO - HTTP Request: POST https://ai-rolandaws880125ai409947751408.openai.azure.com/openai/deployments/gpt-4.1-mini/chat/completions?api-version=2025-01-01-preview \"HTTP/1.1 200 OK\"\n"
     ]
    },
    {
     "name": "stdout",
     "output_type": "stream",
     "text": [
      "---Generator----\n"
     ]
    },
    {
     "name": "stderr",
     "output_type": "stream",
     "text": [
      "2025-05-14 22:45:19,339 - INFO - HTTP Request: POST https://ai-rolandaws880125ai409947751408.openai.azure.com/openai/deployments/gpt-4.1/chat/completions?api-version=2025-01-01-preview \"HTTP/1.1 200 OK\"\n"
     ]
    },
    {
     "name": "stdout",
     "output_type": "stream",
     "text": [
      "---REVISOR---\n"
     ]
    },
    {
     "name": "stderr",
     "output_type": "stream",
     "text": [
      "2025-05-14 22:45:26,473 - INFO - HTTP Request: POST https://ai-rolandaws880125ai409947751408.openai.azure.com/openai/deployments/gpt-4.1-mini/chat/completions?api-version=2025-01-01-preview \"HTTP/1.1 200 OK\"\n"
     ]
    },
    {
     "name": "stdout",
     "output_type": "stream",
     "text": [
      "--- AI Reviser feels Good Enough ---\n",
      "--- Formatter ---\n"
     ]
    },
    {
     "name": "stderr",
     "output_type": "stream",
     "text": [
      "2025-05-14 22:45:29,163 - INFO - HTTP Request: POST https://ai-rolandaws880125ai409947751408.openai.azure.com/openai/deployments/gpt-4.1-mini/chat/completions?api-version=2025-01-01-preview \"HTTP/1.1 200 OK\"\n",
      "\n",
      "Processing 即時応答 (immediate_ack): 100%|██████████| 9/9 [04:52<00:00, 32.47s/it]\u001B[A\n",
      "Processing 第3部：聴解: 100%|██████████| 5/5 [27:40<00:00, 332.03s/it]"
     ]
    },
    {
     "name": "stdout",
     "output_type": "stream",
     "text": [
      "Total execution time: 4181.70 seconds\n"
     ]
    },
    {
     "name": "stderr",
     "output_type": "stream",
     "text": [
      "\n"
     ]
    }
   ],
   "source": [
    "outliner_json = initial_outline.model_dump_json()\n",
    "data = json.loads(outliner_json)  # Replace with your actual JSON data\n",
    "\n",
    "start_time = time.time()\n",
    "\n",
    "output_data = {'sections': []}\n",
    "\n",
    "for section in data['sections']:\n",
    "    output_section = {'section_title': section['section_title'], 'subsections': []}\n",
    "\n",
    "    for subsection in tqdm(section['subsections'], desc=f\"Processing {section['section_title']}\"):\n",
    "        function_name = subsection['subsection_title'].split(' (')[1].rstrip(')')\n",
    "        questions = subsection['question_topics']\n",
    "\n",
    "        for question in tqdm(questions, desc=f\"Processing {subsection['subsection_title']}\"):\n",
    "            handler = ExamTaskHandler()\n",
    "            func = getattr(handler, function_name, None)\n",
    "\n",
    "            if func:\n",
    "                max_attempts = 2\n",
    "                original_topic = question['topic']  # Optional: Track original topic\n",
    "                for attempt in range(max_attempts):\n",
    "                    try:\n",
    "                        result = func(question['topic'])\n",
    "                        question['result'] = result\n",
    "                        break  # Exit on success\n",
    "                    except Exception as e:\n",
    "                        if attempt < max_attempts - 1:\n",
    "                            # Replace topic and retry\n",
    "                            question['topic'] = random.choice(topics_list)\n",
    "                        else:\n",
    "                            question['result'] = f\"Error after {max_attempts} attempts: {str(e)}\"\n",
    "            else:\n",
    "                question['result'] = f\"Method {function_name} not found\"\n",
    "\n",
    "        output_subsection = {\n",
    "            'subsection_title': subsection['subsection_title'],\n",
    "            'description': subsection['description'],\n",
    "            'question_topics': questions\n",
    "        }\n",
    "        output_section['subsections'].append(output_subsection)\n",
    "\n",
    "    output_data['sections'].append(output_section)\n",
    "\n",
    "# End the timer\n",
    "end_time = time.time()\n",
    "\n",
    "# Calculate the total execution time\n",
    "execution_time = end_time - start_time\n",
    "\n",
    "print(f\"Total execution time: {execution_time:.2f} seconds\")"
   ],
   "metadata": {
    "collapsed": false,
    "ExecuteTime": {
     "end_time": "2025-05-14T14:45:29.177738200Z",
     "start_time": "2025-05-14T13:35:47.476014200Z"
    }
   },
   "id": "5c2b7e675e5302a8"
  },
  {
   "cell_type": "code",
   "execution_count": 9,
   "outputs": [
    {
     "data": {
      "text/plain": "<IPython.core.display.Markdown object>",
      "text/markdown": "sections:\n- section_title: 第1部：語彙・文法\n  subsections:\n  - subsection_title: 漢字読み (kanji_reading)\n    description: 8問。与えられた漢字の読み仮名をひらがなで答える。\n    question_topics:\n    - topic: お気に入りのレストランについて話す\n      result:\n        question: 下線部の語の読み方として最も適当なものを、1・2・3・4の中から一つ選びなさい。私は休日によくお気に入りのレストランに行きます。\n        choices:\n        - おきにいり\n        - おきにい\n        - おきあいり\n        - おきにいみ\n        correct_answer: 1\n        explanation: 「お気に入り」は「特に好きなもの」「愛着のあるもの」という意味で、日常会話や文章でよく使われる表現です。語全体の正しい読み方は「おきにいり」です。JLPT\n          N3レベルの学習者にとっては、送り仮名を含む語の読み方を正確に覚えることが重要なポイントです。選択肢2、3、4は実際には使われない読み方なので、正しい音のつながりと送り仮名に注意して覚えましょう。\n    - topic: 地元の観光名所について話す\n      result:\n        question: 地元の **観光名所** について話す。  1 かんこうみょうしょ  2 かんこうめいしょ  3 かんこうめいところ  4 かんこうなところ\n        correct_answer: 2\n        choices:\n        - かんこうみょうしょ\n        - かんこうめいしょ\n        - かんこうめいところ\n        - かんこうなところ\n        explanation: 「観光名所」はN3レベルでよく出る語彙ですが、「名所（めいしょ）」の読みが難しいと感じる学習者が多いです。「名（めい）」は「有名（ゆうめい）」などで馴染みがあっても、「所（しょ）」の音読みとの組み合わせが分かりづらいからです。また、「名所」を「みょうしょ」と読んでしまうミスや、「名」と「所」を訓読みで「めいところ」などと読んでしまうこともよく見られます。選択肢2「かんこうめいしょ」が正しい読みです。\n    - topic: 現れ\n      result:\n        question: 次の漢字の読み方として最もよいものを、1・2・3・4から一つ選びなさい。彼の努力がついに現れとなった。\n        choices:\n        - あらわれ\n        - うつれ\n        - ひかれ\n        - みだれ\n        correct_answer: 1\n        explanation: 「現れ（あらわれ）」は、目に見える形で現れることや、何かが表面に出てくることを意味する名詞です。N3レベルで頻出する語彙であり、動詞「現れる（あらわれる）」の名詞形です。他の選択肢「うつれ」「ひかれ」「みだれ」は、それぞれ「移れ」「光れ」「乱れ」という意味や読みですが、「現れ」とは関係ありません。学習者が混同しやすいポイントは、「現」という漢字が「げん」「うつ（す）」など複数の読み方を持つこと、また「現れ」と「表れ（あらわれ）」の使い分けがあることです。関連語：現れる（あらわれる／to\n          appear）、表れる（あらわれる／to become apparent）\n    - topic: 冗談\n      result:\n        question: 次の漢字の読み方として正しいものを選びなさい。冗談は言わないでください。\n        choices:\n        - じょうたん\n        - じょうだん\n        - じょだん\n        - じょうなん\n        correct_answer: 2\n        explanation: 「冗談」は日常会話でよく使われるN3レベルの語彙です。「冗」は「じょう」、「談」は「だん」と読むため、正しい組み合わせは「じょうだん」となります。選択肢には、発音が似ているものや誤読しやすいものが含まれており、漢字の音読みの知識が問われます。特に「じょうたん」や「じょだん」は一見正しそうに見えるため、注意が必要です。\n    - topic: 栄養\n      result:\n        question: 次の漢字の正しい読み方を選びなさい。栄養\n        choices:\n        - えいよう\n        - えいしょく\n        - せいよう\n        - せいしょく\n        correct_answer: 1\n        explanation: 「栄養（えいよう）」は、食事や健康に関する会話・文章で頻繁に使われるN3レベルの重要語彙です。「栄」は「えい」、「養」は「よう」と読むのが一般的ですが、「養」には「やしな（う）」や「いく」などの読みもあり、漢字の音読み・訓読みの区別が混乱しやすい点が学習者にとっての難しさです。また、「栄」の読みは「えい」と「さか（える）」があり、「養」は「よう」と「やしな（う）」があります。選択肢の「せいよう」は「西洋（せいよう）」の読みと混同しやすく、「せいしょく」は「生殖（せいしょく）」の読みと混同しやすい例です。また、「えいしょく」は「栄食」という熟語は一般的ではありませんが、似た音の組み合わせとして誤答例に挙げられます。このように、実際に存在する語彙や音の似た熟語と混同しやすい点が、漢字語彙問題の主な難しさとなります。\n    - topic: 豊か\n      result:\n        question: 田中さんは都会での生活に疲れて、**自然が豊かな**町に引っ越すことにしました。次のうち、空欄に入る適切な読み方はどれですか？\n        choices:\n        - ほうふな\n        - ゆたかな\n        - とよかな\n        - ほうかな\n        correct_answer: 2\n        explanation: 「豊か」は「ゆたか」と読み、な形容詞（形容動詞）です。「自然が豊かな町」は、自然が十分にあって恵まれている町という意味になります。選択肢1の「ほうふな」は「豊富な」で、「ほうふ」と読む別の単語です。選択肢3「とよかな」、4「ほうかな」は誤読です。「豊か」は「豊富（ほうふ）」と混同しやすいため、漢字と言葉の使い分けに注意しましょう。主なポイントと難しさ：・「豊か」はN3レベルの重要語で、意味・読み・文法（な形容詞）を正確に押さえる必要があります。・「豊富（ほうふ）」との違いが混乱しやすいので、選択肢に入れることで識別力を問うことができます。・やや長めの文脈にすることで、文脈理解力も同時に測れます。\n    - topic: 筋肉\n      result:\n        question: 筋肉は身体を動かすために大切な組織です。この「筋肉」の正しい読み方を選びなさい。\n        choices:\n        - きんにく\n        - きんしょく\n        - すじにく\n        - けんにく\n        correct_answer: 1\n        explanation: 「筋肉」はJLPT N3レベルでよく出る語彙です。漢字「筋（きん）」と「肉（にく）」を正しく組み合わせて読めるかがポイントです。「筋」は「すじ」とも読めますが、熟語では「きん」と読むことが多く、「筋肉」は「きんにく」となります。他の選択肢は間違った読み方や意味の異なる語です。漢字の訓読みと音読みの区別が難しい点が、この問題の主なチャレンジです。\n    - topic: 答案\n      result:\n        question: この書類の規則をよく読んでください。次の中で「きそく」と読む漢字はどれですか？\n        choices:\n        - きそく\n        - きぞく\n        - きそん\n        - きせつ\n        correct_answer: 1\n        explanation: 「規則（きそく）」は「ルール」という意味で、会社や学校などでよく使われるN3レベルの重要語彙です。「きぞく（貴族）」「きそん（既存）」「きせつ（季節）」は実在する日本語の読みで、音が似ているため間違えやすいですが、意味が異なります。漢字の意味と音を正確に結びつけることがポイントです。\n  - subsection_title: 漢字書き取り (write_chinese)\n    description: 6問。ひらがなで書かれた単語を漢字で書く。\n    question_topics:\n    - topic: しゅつじょう（出場）\n      result:\n        question: 彼は毎年、マラソン大会に しゅつじょう しています。今年も参加する予定です。\n        choices:\n        - 出場\n        - 出張\n        - 出演\n        - 出席\n        correct_answer: 1\n        explanation: 「しゅつじょう」は「出場」と書き、スポーツ大会やコンクールなどに参加・出ることを意味します。選択肢2「出張」は仕事のために他の場所へ行くこと、選択肢3「出演」は舞台やテレビなどに出ること、選択肢4「出席」は会議や授業などに出ることを指し、いずれも「出場」とは意味が異なります。この問題では、似た読みや漢字を持つ語句が並んでいるため、文脈をよく読み取り、語彙の正確な使い分けができるかがポイントとなります。特に「出張」や「出演」など、日常でもよく使われる語と混同しやすいため、意味の違いをしっかり理解しているかを問う良問です。\n    - topic: しょくひん（食品）\n      result:\n        question: 【指示】下線部のことばの正しい漢字表記を、1～4の中から一つ選びなさい。このスーパーでは新鮮な しょくひん がたくさん売られています。\n        choices:\n        - 食品\n        - 食員\n        - 食品物\n        - 食員品\n        correct_answer: 1\n        explanation: 「食品」はN3レベルで頻出する語彙です。類似する漢字語が多いので注意が必要です。\n    - topic: せつやく（節約）\n      result:\n        question: 家計のために せつやく を心がけています。正しい漢字表記を選んでください。\n        choices:\n        - 節約\n        - 節約化\n        - 節税\n        - 節約費\n        correct_answer: 1\n        explanation: この問題のポイントは、「せつやく」という日常的な言葉に対して、正しい漢字表記を選ばせることです。 「節約（せつやく）」は「無駄遣いをしないで控えること、倹約すること」という意味で、N3の重要単語です。\n          選択肢2「節約化」は実際には使われない表現で、語尾の「化」がついていることで迷わせます。 選択肢3「節税」は「税金を節約すること」で、意味が異なりますが、似た漢字なので混同しやすいです。\n          選択肢4「節約費」も実際には使われない表現で、「費」がつくことで「費用」と混同しやすくなっています。 漢字の組み合わせや意味の違いに注意する必要があり、N3レベルの漢字力と語彙力を問う良問です。\n    - topic: けんこう（健康）\n      result:\n        question: 次の文の（　　　）に入る正しい漢字を、1～4の中から一つ選びなさい。毎日運動をして、（けんこう）に気をつけています。\n        choices:\n        - 健考\n        - 健康\n        - 建康\n        - 健体\n        correct_answer: 2\n        explanation: 「けんこう」に正しく対応する漢字は「健康」です。1の「健考」は実際には存在しない熟語ですが、読みが似ているため迷いやすい選択肢です。3の「建康」は中国の地名で、日本語では一般的に使われません。4の「健体」は「けんたい」と読み、「健康な体」という意味を持ちますが、「けんこう」とは読みません。このように、似た漢字や読み方に注意して、正しい語彙知識を身につけることが大切です。N3レベルでは、日常会話や文章で頻出する語彙の正しい漢字表記を問うことが重要です。似た漢字や意味が近い単語が多く、混乱しやすいので、文脈と漢字の意味・読み方の両方を確認しましょう。また、日本語学習者にとっては、日本語で一般的に使われる表現かどうかも判断のポイントとなります。\n    - topic: しゅうにゅう（収入）\n      result:\n        question: 彼は毎月の しゅうにゅう が安定しています。\n        choices:\n        - 収入\n        - 所得\n        - 収納\n        - 入収\n        correct_answer: 1\n        explanation: 「しゅうにゅう」の正しい漢字は「収入」です。他の選択肢も似た意味や読みを持つ熟語ですが、意味や使い方が異なります。「所得」は収入から経費などを差し引いた残りの金額、「収納」は物やお金をしまうこと、「入収」は実際には使われない言葉です。N3レベルでは、音読みの熟語で紛らわしいものが多いため、意味と正しい漢字の組み合わせを覚えているかが問われます。\n    - topic: かんしゃ（感謝）\n      result:\n        question: 田中さんには、いつも助けてもらっているので、心から かんしゃ の気持ちを伝えました。\n        choices:\n        - 感情\n        - 感謝\n        - 感激\n        - 感想\n        correct_answer: 2\n        explanation: この問題では、「かんしゃ」の正しい漢字を選ぶことが求められています。「感謝」は、誰かの親切や助けに対して「ありがたい」と思う気持ちを表す言葉です。選択肢には「感情（かんじょう）」「感激（かんげき）」「感想（かんそう）」など、意味が似ているように見える語が並んでいるため、文の内容をよく読んで正しい言葉を選ぶ必要があります。「感謝」は「ありがとう」と同じ気持ちを表す時に使います。\n  - subsection_title: 語彙意味選択 (word_meaning)\n    description: 11問。下線部の語の意味に最も近いものを選ぶ。\n    question_topics:\n    - topic: 必死\n      result:\n        question: 次の文の（　）に入る最も適切な漢字を、1～4の中から一つ選びなさい。彼は試験に合格するために、毎日（　）に勉強している。\n        choices:\n        - 必至\n        - 必死\n        - 必須\n        - 決死\n        correct_answer: 2\n        explanation: この問題は、「ひっし」という同じ読みを持つ漢字語彙の中から、文脈に合う正しい漢字を選ぶ問題です。「必死」は「死ぬ覚悟で全力を尽くすこと」という意味で、日常的に「必死に勉強する」「必死に働く」など、何かに全力で取り組む様子を表します。選択肢の「必至」は「必ずそうなること」、「必須」は「必ず必要なこと」、「決死」は「死を決する覚悟」という意味で、主に戦いや非常に危険な状況で使われます。したがって、日常的な努力や勉強の場面では「必死」が最も適切です。この問題のポイントは、同音異義語の意味と使い方の違いを正確に理解しているかどうかです。「決死」は意味が似ていますが、日常の努力には通常使わないため、そこを区別できるかが重要です。\n    - topic: 調子\n      result:\n        question: 次の文の（　）に入る正しい漢字を、下の1〜4から一つ選びなさい。最近、体のちょうしがよくないので、今日は早く寝ようと思います。\n        choices:\n        - 調市\n        - 調子\n        - 調氏\n        - 調子子\n        correct_answer: 2\n        explanation: この問題は、「調子」の正しい漢字表記を選ばせるものです。N3レベルの学習者にとって、「調」「子」は基本的な漢字ですが、他の選択肢も見た目が似ていたり、日常で使う漢字の組み合わせなので混乱しやすいです。特に「市」「氏」などはよく目にするため、正確な語彙知識が問われます。「調子」は「物事や体の状態・具合」の意味で、日常会話でも頻出する重要語です。\n    - topic: 破産\n      result:\n        question: 長年の赤字経営が続き、ついに会社が（はさん）することになった。\n        choices:\n        - 破滅\n        - 破産\n        - 破損\n        - 破格\n        correct_answer: 2\n        explanation: 「破産（はさん）」は、借金などの支払いができなくなり、財産を失うことを意味します。他の選択肢は意味や読みが似ていますが、文脈に合いません。-\n          「破滅（はめつ）」はすべてを失うこと- 「破損（はそん）」は壊れること- 「破格（はかく）」は基準から外れること。N3受験者は、漢字の意味と読みの混同に注意しましょう。特に「破損」「破滅」など似た語との区別がポイントです。\n    - topic: 争う\n      result:\n        question: 彼らは優勝を目指してお互いに（あらそう）ことになった。\n        choices:\n        - 競走\n        - 競う\n        - 争う\n        - 争議\n        correct_answer: 2\n        explanation: この文脈では「優勝を目指してお互いに（あらそう）」の意味は「互いに勝とうとして競争する」という意味になります。そのため、正しい漢字は「競う（きそう）」です。「争う（あらそう）」は「けんかする」「対立する」などのニュアンスが強く、スポーツや勝負での「競い合う」場面では「競う」が自然です。「競走（きょうそう）」は「走る競技」の意味、「争議（そうぎ）」は「もめごと」「争いごと」を指します。N3レベルでは「争う」と「競う」の意味や使い分けを正しく理解することが大切です。\n    - topic: 題名\n      result:\n        question: この本のタイトルとして正しい言葉を選びなさい。\n        choices:\n        - 題目\n        - 題名\n        - 表題\n        - 標題\n        correct_answer: 2\n        explanation: 「題名」（だいめい）は、本や映画、作品などのタイトルを意味します。選択肢の「題目」は主題や課題を指し、「表題」「標題」はどちらも見出しやタイトルの意味がありますが、一般的に本や作品のタイトルには「題名」が最も適切です。特に「表題」「標題」は書類や章のタイトルなど、使われる場面が異なります。似た語彙が多いため、文脈に合った正しい語を選ぶ力が求められる問題です。\n    - topic: 要素\n      result:\n        question: この文章の（　）に入る正しい漢字を選びなさい。科学の授業で、水は酸素と水素という二つの（　）からできていると習いました。\n        choices:\n        - 要因\n        - 要素\n        - 要点\n        - 要約\n        correct_answer: 2\n        explanation: この問題のポイントは、「ようそ」という読みから適切な漢字を選ぶことです。N3レベルの学習者にとって、「要素」「要因」「要点」「要約」など似た読み・意味の語が混乱しやすいです。「要素」は「ものごとを成り立たせている基本的な内容や成分」という意味で、この文脈に合います。他の選択肢は、原因（要因）、要点（main\n          point）、要約（summary）と意味が異なるため、正しく区別できるかがポイントです。\n    - topic: 湿気\n      result:\n        question: 梅雨の時期は、部屋の中に「しっけ（しっけ）」がたまりやすいので注意が必要です。次のうち、空気や物に含まれる水分のことを指す言葉はどれですか？\n        choices:\n        - 湿度\n        - 湿気\n        - 湿度計\n        - 湿布\n        correct_answer: 2\n        explanation: この問題の正解は「湿気」です。「しっけ」は空気や物に含まれる水分のことを指し、梅雨の時期によく使われる語です。選択肢1「湿度（しつど）」は空気中の水分量をパーセントで表す言葉で、意味が異なります。選択肢3「湿度計（しつどけい）」は湿度を測る道具です。選択肢4「湿布（しっぷ）」は、けがや痛みに貼る薬です。音が似ている語も多く、読みと意味の区別がN3学習者には難しいポイントです。文脈から正しい語を選ぶ練習をしましょう。例文：・雨の日は湿気が多くて、髪の毛がまとまりません。・この部屋は湿気がたまりやすいので、換気をしてください。教師コメント：「湿気」は日本の生活や気候に密接な語彙であり、日常会話でも頻繁に使われます。問題文にふりがなをつけることで、学習者が漢字と読みを結びつけやすくなります。似た音の語との違いを意識しながら学習しましょう。\n    - topic: 努力\n      result:\n        question: 彼は試験に合格するために毎日「どりょく」している。\n        choices:\n        - 動力\n        - 努力\n        - 労働\n        - 勤勉\n        correct_answer: 2\n        explanation: この問題は、「どりょく」の正しい漢字表記を選ぶものです。- 「動力」（どうりょく）は機械などを動かす力を意味し、意味も読みも異なります。-\n          「労働」（ろうどう）は仕事や働くことを指し、「どりょく」とは読みません。- 「勤勉」（きんべん）は「まじめに努力すること」を意味しますが、読みも異なります。-\n          「努力」が正しい漢字表記で、「どりょく」と読みます。この問題の難しさは、似た意味や形の語が多い点にあります。N3レベルでは「努力」「労働」「勤勉」など、意味が近い語の漢字と読みの結びつきを正確に覚える必要があります。誤答選択肢も実際によく使われる語彙で、学習者の語彙力を適切に測ることができます。\n    - topic: 礼儀\n      result:\n        question: 彼はとても（れいぎ）正しい人なので、みんなに好かれています。\n        choices:\n        - 礼義\n        - 礼儀\n        - 例儀\n        - 礼技\n        correct_answer: 2\n        explanation: この問題は「れいぎ」の正しい漢字表記を選ぶ問題です。「礼儀」は社会的なマナーやルールを示す語で、N3レベルでよく出ます。選択肢の「義」「儀」「技」はそれぞれ意味が異なるので注意しましょう。特に「儀」と「義」は混同しやすいですが、「礼儀」が正解です。\n    - topic: 資本\n      result:\n        question: 次の文の（　）に入る言葉として、最も適切な漢字を1つ選びなさい。新しい会社を作るためには、多くの「しほん」が必要です。\n        choices:\n        - 資産\n        - 資本\n        - 資源\n        - 資金\n        correct_answer: 2\n        explanation: 「資本（しほん）」は、会社や事業を始めるときの元手となるお金や財産を意味します。他の選択肢も似た漢字ですが、「資産（しさん）」は持っている財産全体、「資源（しげん）」は自然や社会の中で使えるもの、「資金（しきん）」は使うためのお金のことです。それぞれ意味が違うので、文の内容に合う「資本」が正解です。\n    - topic: 特徴\n      result:\n        question: 次の文の（　）に入る最も適切な漢字を、1～4の中から一つ選びなさい。彼の話し方には独特の（とくちょう）があるので、すぐに本人だとわかります。\n        choices:\n        - 特徴\n        - 特長\n        - 特性\n        - 特質\n        correct_answer: 1\n        explanation: 「特徴」は、他と区別できる目立った点や性質を指します。例えば、「この鳥の特徴は赤いくちばしです」のように使います。「特長」は、他よりも優れている点を指し、「この車の特長は燃費が良いことです」といった使い方をします。「特性」は、物や人が本来持っている性質や傾向を指します（例：水の特性は100度で沸騰すること）。「特質」は、特に目立つ性質や特徴的な性格を強調する場合に使われます（例：彼の特質は忍耐強さです）。この文脈では、「独特の～がある」は「特徴」が最も適切です。特に「特徴」と「特長」の使い分けはN3レベルで重要なポイントとなります。\n  - subsection_title: 同義語置き換え (synonym_substitution)\n    description: 5問。文中の語句を同じ意味の語に置き換える。\n    question_topics:\n    - topic: 現代\n      result:\n        question: この小説は（現代）の若者について書かれています。\n        choices:\n        - 現在\n        - 近代\n        - 古代\n        - 未来\n        correct_answer: 1\n        explanation: 「現代（げんだい）」は「今の時代」「現在」という意味で使われます。「現在（げんざい）」は「今」という意味で、「現代」と非常に近い意味を持つため、最も適切な選択肢です。「近代（きんだい）」は歴史的に見ると「明治時代から第二次世界大戦ごろまで」を指し、「現代」とは異なります。「古代（こだい）」は昔の時代、「未来（みらい）」はこれからの時代なので文脈に合いません。N3レベルの学習者にとっては、「現代」と「近代」を混同しやすいので、正確な意味の違いに注意しましょう。\n    - topic: 種類\n      result:\n        question: この店にはいろいろな種類のパンがあります。この文の「種類」と最も近い意味の言葉はどれですか。\n        choices:\n        - 形\n        - タイプ\n        - 重さ\n        - 時間\n        correct_answer: 2\n        explanation: 「種類」は、性質や特徴によって分けられたグループやカテゴリーを表す言葉です。「タイプ」も同じように、形や性質によって分けられたグループを指します。「形」は見た目、「重さ」は量、「時間」は時刻や期間を表すため、「種類」とは意味が異なります。カタカナ語の「タイプ」もN3レベルでよく使われるので、文脈から正しい意味を選ぶ必要があります。受験者にとっては、似ている言葉の中から文に合うものを選ぶ力が問われる問題です。\n    - topic: 完全\n      result:\n        question: 次の文の「完全」と最も近い意味の言葉を選びなさい。この計画は完全に成功した。\n        choices:\n        - しっかり\n        - すべて\n        - まったく\n        - かんたんに\n        correct_answer: 3\n        explanation: 「完全」は「欠けているところがなく、すべてがそろっていること」を意味し、「まったく」も「すべて」「完全に」という意味で使われます。N3レベルでは「しっかり（firmly）」「すべて（all）」「かんたんに（easily）」もよく出る言葉ですが、文脈的に「完全に成功した」は「まったく成功した」と言い換えられます。主な難しさは、「すべて」も「全部」という意味があるため、選択肢として迷いやすい点です。しかし、「完全に」は「まったく」「徹底的に」といった副詞がより近い意味となります。\n    - topic: 冷やす\n      result:\n        question: 冷蔵庫でジュースを冷やしておきました。次の中から、「冷やす」の意味に最も近いものを選びなさい。\n        choices:\n        - あたためる\n        - こおらせる\n        - 冷たくする\n        - さます\n        correct_answer: 3\n        explanation: この問題は、「冷やす」の意味を正しく理解し、似ている語彙と区別できるかどうかを問うものです。「冷やす」は、物の温度を下げて冷たくすることを表します。選択肢3「冷たくする」が最も近い意味です。選択肢4「さます」は、熱いものを適温に下げる場合に使うため、必ずしも冷たくするとは限りません。選択肢2「こおらせる」は「凍らせる」こと、選択肢1「あたためる」は反対の意味です。N3レベルでは、「冷やす」「さます」「冷たくする」などの使い分けが難しいため、意味の違いに注意しましょう。\n    - topic: 自然\n      result:\n        question: 次の文の（　）に入る言葉と最も意味が近いものを、1～4の中から一つ選びなさい。休日には（自然）の中で散歩するのが好きです。\n        choices:\n        - 人工\n        - 天然\n        - 文化\n        - 都会\n        correct_answer: 2\n        explanation: この文での「自然」は「人の手が加わっていない、ありのままの環境」という意味です。「天然」も「自然にできたもの、人が作ったものではない」という意味で、最も近いです。「人工」は「人が作ったもの」、「文化」は人間が作り出したものや活動、「都会」は都市のことなので、文脈から外れます。N3受験者は「自然」と「天然」の違いを正確に理解するのが難しい場合がありますが、この文脈では「自然＝天然の環境」と推測できるようにしました。「人工」「文化」「都会」は意味が異なるため、混乱しにくいですが、似た意味の語彙（天然）と対比語（人工）を含めることで、語彙力と読解力の両方を測ることができます。\n  - subsection_title: 語彙使い方 (word_usage)\n    description: 5問。語彙の使い方として正しい文を選ぶ。\n    question_topics:\n    - topic: 保存\n      result:\n        question: 次の文の中で、「保存」の用法として最も適切なものを一つ選びなさい。①　この美術館では、貴重な絵画を長い間きれいなまま保存しています。②　昨日のパーティーで使ったお皿を保存してから、もう一度洗いました。③　友達に手紙を保存したので、すぐに読んで返事を書きました。④　新しい靴を保存して、明日から毎日履くことにします。⑤　パソコンで作ったファイルをUSBに保存しておきました。\n        choices:\n        - ①　この美術館では、貴重な絵画を長い間きれいなまま保存しています。\n        - ②　昨日のパーティーで使ったお皿を保存してから、もう一度洗いました。\n        - ③　友達に手紙を保存したので、すぐに読んで返事を書きました。\n        - ④　新しい靴を保存して、明日から毎日履くことにします。\n        - ⑤　パソコンで作ったファイルをUSBに保存しておきました。\n        correct_answer:\n        - 1\n        - 5\n        explanation: 「保存」は、物やデータなどの状態を変えずに長く保つ場合に使います。①は、美術館で絵画を良い状態で保っている文脈で、最も基本的な使い方です。⑤は、IT分野で「データを保存する」という現代的な使い方で、N3レベルでも重要な例です。②や④は「保管」「しまう」が自然な表現です。③は、手紙を「保存する」という表現も場合によっては使えますが、「すぐに読む」という文脈では不自然です。\n    - topic: 拍手\n      result:\n        question: 次の文の中で、「拍手（はくしゅ）」の使い方として最も適切なものをすべて選びなさい。\n        choices:\n        - 先生が教室に入ってきたとき、みんなで拍手しました。\n        - 昨日の晩ご飯は、とてもおいしくて家族で拍手しました。\n        - 神社でお参りするとき、まず拍手（はくしゅ）をしてからお願いごとをします。\n        - 友達の誕生日に、みんなで拍手をしながら歌を歌いました。\n        correct_answer:\n        - 1\n        - 4\n        explanation: 1は、先生が入ってきたときに歓迎や感謝の気持ちを表すために「拍手」する、自然な使い方です。4は、誕生日のお祝いの場面で、みんなで歌いながら「拍手」するのもよくある使い方です。2は、「拍手」が賞賛や歓迎、祝福の場面で使われるのが一般的であり、食事が美味しかっただけで家族で拍手するのは、特別なイベント（例：料理コンテストやパーティ）を除き、日常的な日本の習慣としては自然ではありません。3は、神社で手を打つ行為は「柏手（かしわで）」と呼ばれ、神道の作法です。一般的な「拍手」とは目的や意味が異なります。日本語の文脈では「柏手」と「拍手」を区別する必要があり、ここで「拍手」を使うのは不適切です。\n    - topic: 要点\n      result:\n        question: 次の文のうち、「要点」の使い方として最も適切なものをすべて選びなさい。\n        explanation: 「要点」は「物事の中心となるところ、重要な点」という意味で、話・ニュース・スピーチなど抽象的内容の大切な部分に使います。1、2、3は正しい使い方ですが、4は「家」など物理的な対象には使いません。\n        correct_answer:\n        - 1\n        - 2\n        - 3\n        choices:\n        - この話の要点をまとめてください。\n        - 今朝のニュースの要点をノートに書きました。\n        - 彼女のスピーチは長かったが、要点はよく伝わった。\n        - 家の要点をきれいに掃除してください。\n    - topic: 礼儀\n      result:\n        question: 次の文の中で、「礼儀」の正しい使い方はどれですか。\n        choices:\n        - 彼は礼儀が正しいので、誰に対してもていねいに話します。\n        - この料理は礼儀が強くて、少し苦い味がします。\n        - 昨日の会議では、礼儀を使ってパソコンの問題を解決しました。\n        - 山田さんは礼儀を集めるのが趣味で、たくさん持っています。\n        correct_answer: 1\n        explanation: この問題の主な難しさは、「礼儀」という語が人間関係や社会生活で守るべき行動様式やマナーを指すことを理解しているかどうかです。2～4の選択肢は、「礼儀」という語の意味から外れています（2は味に使う表現、3は道具のように使っている、4は物を集める趣味のように使っている）。「礼儀が正しい」は日本語の固定表現であり、N3レベルの学習者が正しい文脈で使えるかを問う良問です。\n    - topic: 順調\n      result:\n        question: 次の文の中で、「順調」の使い方として最も適切なものを一つ選びなさい。\n        choices:\n        - 新しいプロジェクトは、今のところ順調に進んでいます。\n        - 今日は順調な天気なので、ピクニックに行きましょう。\n        - 彼から順調な返事をもらって、安心しました。\n        - この店は順調な料理がたくさんあります。\n        correct_answer: 1\n        explanation: 「順調」は「物事が予定通りに、問題なく進むこと」を意味します。特に「順調に進む」「順調な経過」など、仕事や計画、進行状況に対して使われる表現です。1は「プロジェクトが順調に進む」という、もっとも一般的で自然な使い方です。2の「順調な天気」は不自然で、「天気がいい」「天候に恵まれて」などが自然です。3の「順調な返事」も不自然で、「返事が早い」「返事がスムーズ」などが適切です。4の「順調な料理」という表現は日本語として使いません。「順調」は「進む」「経過」「回復」「推移」など、進行や状態の良さを表す名詞とよく組み合わせて使います。物や天気、返事などには直接使わないので、コロケーション（よく使われる言葉の組み合わせ）に注意しましょう。\n  - subsection_title: 文法穴埋め (sentence_grammar)\n    description: 13問。空欄に入る最も適切な語句や助詞を選ぶ。\n    question_topics:\n    - topic: 店で価格を尋ねる\n      result:\n        question: （店で）次の会話の空欄に入る最も適切な語を、下の1～4から一つ選びなさい。客：「すみません、この商品の値段を（　　　）いただけますか。」\n        choices:\n        - 教えて\n        - 話して\n        - 聞いて\n        - 書いて\n        correct_answer: 1\n        explanation: この文では、「～ていただけますか」という丁寧な依頼表現を使っています。「教えていただけますか」は「教える」の「て形」＋「いただけますか」で、「教えてください」よりも丁寧な表現です。「話して」や「聞いて」「書いて」は意味が合わず、不自然です。「教えて」を使うことで、店員に商品の値段を丁寧に尋ねることができます。N3レベルでは、「～ていただけますか」や「～てくれますか」などの依頼表現がよく問われます。正しい「て形」を使えるかどうかがポイントです。\n    - topic: 助詞\n      result:\n        question: 以下の文の（　）に入る最も適切な助詞を1つ選びなさい。私は毎朝7時（　）起きて、学校に行きます。\n        choices:\n        - に\n        - で\n        - へ\n        - と\n        correct_answer: 1\n        explanation: 「に」は特定の時刻や場所、目的地を表す格助詞として使われます。この文では「7時」という特定の時刻に起きることを表しているため、「に」が正しいです。他の選択肢について：-\n          「で」は場所や手段を表します（例：教室で勉強する）。- 「へ」は方向・目的地を示します（例：学校へ行く）。- 「と」は「一緒に」などの意味で使います（例：友達と話す）。類似例文：-\n          毎晩10時に寝ます。- 8時に家を出ます。このように、時刻を表す場合は必ず「に」を使うことを覚えましょう。\n    - topic: キャリア目標について話す\n      result:\n        question: （面接練習） 面接官：「あなたのキャリア目標について教えてください。」 あなた：「はい、私のキャリア目標は、3年後にはプロジェクトリーダーとしてチームをまとめ、会社の売上に貢献できるようになることです。そのために、今は業務に必要な知識やスキルを（　　　　　）、毎日勉強しています。」\n          （　　）に入る最も適切な語句を選びなさい。\n        choices:\n        - 身につけるようにして\n        - 身につけるために\n        - 身につけて\n        - 身につけたあとで\n        correct_answer: 2\n        explanation: この文では、「目的」を表す表現が必要です。「～ために」は、「…する目的で」「…するために」という意味で、目標に向かって努力する姿勢を表します。他の選択肢は文脈に合いません。N3レベルでは、「～ために」の使い方を正確に理解し、目的を表す文を作れるかがポイントです。特に「ようにして」や「て」など、手段や継続・結果を表す表現との違いに注意が必要です。\n    - topic: 場合\n      result:\n        question: 次の文の（　　　）に入る最も適切な語句を、1～4の中から一つ選びなさい。（会社の案内）「火事や地震が起こった（　　　）、落ち着いて行動してください。」\n        choices:\n        - こと\n        - 場合\n        - 時\n        - もの\n        correct_answer: 2\n        explanation: 「場合」は「もし～のような状況が起きたとき」という意味で、公式な案内や指示文でよく使われます。「時」も似た意味ですが、より一般的な表現であり、「場合」の方が条件や状況を強調できます。「こと」「もの」はこの文脈には合いません。\n    - topic: 程度\n      result:\n        question: 先生：「みなさんの日本語の（　　　）は、前よりずっと上がっていますね。」この文に入る最も適切な言葉はどれですか。\n        choices:\n        - 程度\n        - 具合\n        - 様子\n        - 状態\n        correct_answer: 1\n        explanation: この文では、「みなさんの日本語の（　　　）は、前よりずっと上がっていますね。」という表現から、何がどのくらい上がったのかを問うています。「程度」は「レベル」や「どのくらいか」という意味で、能力や知識の高さを表すときによく使います。他の選択肢「具合」「様子」「状態」は、体調や状況、見た目などを表す言葉であり、「日本語の（　　　）が上がる」という文脈には適しません。この問題の主なチャレンジは、「程度」と他の似た意味の語彙（具合、様子、状態）との違いを理解し、正しく使い分けることです。N3レベルの学習者にとっては、抽象的な語彙の使い分けが難しいポイントとなります。\n    - topic: 状態\n      result:\n        question: （病院にて）医者：「こんにちは。最近、体の（　　　）はどうですか。どこか痛いところはありませんか？」\n        choices:\n        - 具合\n        - 状態\n        - 事情\n        - 理由\n        correct_answer: 1\n        explanation: 「体の具合」は、医者や家族が体調を尋ねるときによく使われる自然な表現です。日常会話や医療現場では、「体の具合が悪い」「具合はどうですか」のように使われます。「状態」も意味は通じますが、より医学的・客観的なニュアンスが強く、診断書や報告書などで使われる傾向があります。N3レベルでは、会話の場面では「具合」を優先して使うことを学びましょう。使い分け例-\n          「最近、体の具合はどうですか？」（日常会話・医者が患者に）- 「患者の健康状態を記録します。」（報告・記録などやや硬い表現）この問題の主な難しさは、「具合」と「状態」の意味の違いと使い分けを理解することにあります。どちらもN3レベルで学ぶ重要な語彙ですが、場面によって適切な語を選ぶ力が求められます。\n    - topic: 内容\n      result:\n        question: 【指示】次の会話文を読んで、（　　　）に入る最も適切な語を1つ選びなさい。（会議にて）部長：「この企画書の（　　　）を、もう一度確認してから提出してください。」\n        choices:\n        - 内容\n        - 形式\n        - 理由\n        - 結果\n        correct_answer: 1\n        explanation: 「内容」は「中身」や「具体的な情報」という意味で、文書や企画書などの「何が書かれているか」を指します。「形式」は「書き方」や「フォーマット」、「理由」は「なぜそうしたか」、「結果」は「どうなったか」を表します。この文脈では、「企画書の内容を確認する」が最も自然です。例文：-\n          レポートの内容を確認してください。- テストの形式が変わりました。\n    - topic: 判断\n      result:\n        question: （　　　）に入る正しい言葉を選びなさい。（会議室）部長：「このプロジェクトを続けるかどうかは、今週中に（　　　）してください。」\n        choices:\n        - 判断して\n        - 判断し\n        - 判断する\n        - 判断した\n        correct_answer: 1\n        explanation: 「〜してください」という依頼表現では、動詞の「て形」が必要です。「判断する」の「て形」は「判断して」なので、正解は1番です。他の選択肢は依頼の文型として使えません。学習者がつまずきやすいポイント：サ変動詞「判断する」の「て形」活用に注意が必要です。「て形＋ください」の依頼表現は頻出ですが、語幹や「し」「する」「した」と混同しやすいので、正しい活用を確認しましょう。補足例文：早く返事してください。よく考えてください。注意してください。\n    - topic: 条件\n      result:\n        question: 部長：「このプロジェクトに参加したい人は、英語が話せることが（　）です。」\n        choices:\n        - 条件\n        - 理由\n        - 方法\n        - 目的\n        correct_answer: 1\n        explanation: この文では、「英語が話せること」が「プロジェクトに参加したい人」にとって必要な事項であることを表しています。「条件」は、あることが成立するために必要な事柄を指します。他の選択肢「理由」「方法」「目的」は文脈に合いません。N3レベルの学習者にとって、「条件」という語の意味や使い方、特に「～が条件です」という表現に慣れることがポイントです。また、日常会話やビジネスの場面でよく使われる表現なので、語彙の定着が大切です。\n    - topic: 関する\n      result:\n        question: この説明会は、留学生の生活（　　　　　）重要な情報を提供します。\n        choices:\n        - に関する\n        - に対する\n        - について\n        - に関して\n        correct_answer: 1\n        explanation: 「～に関する＋名詞」は、「～に関連する」という意味で、公式な文書や案内などでよく使われる硬い表現です。「～について」は「～についての＋名詞」の形で使い、より口語的・柔らかい印象になります。例：留学生の生活についての説明（やや口語的）、日本の文化についての本（一般的な使い方）「に対する」は「Aに対するB」（Aに向けたB）となり、対象を示します。例：留学生に対する支援「に関して」は「に関して話す」など動詞を修飾する場合によく使われますが、名詞を直接修飾する場合は「に関する」の方が一般的です。ただし、口語では「に関しての情報」も使われます。N3レベルの学習者は「に関する」と「について」の違いでよく混乱します。特に、「に関する＋名詞」と「についての＋名詞」の使い分けがポイントです。また、「に対する」や「に関して」など似た表現も多いため、文脈に合った選択ができるかが問われます。\n    - topic: 比較\n      result:\n        question: 次の文の（　）に入る最も適切な語句を１～４の中から一つ選びなさい。私の家の冷蔵庫は、新しい冷蔵庫（　）音が静かです。\n        choices:\n        - より\n        - しか\n        - だけ\n        - でも\n        correct_answer: 1\n        explanation: この文は「比較」の文型を問う問題です。「AはBより～です」は「A is more ~ than B」という意味で、N3レベルで頻出の表現です。「新しい冷蔵庫より、私の家の冷蔵庫の方が音が静かです」と主語を明示すると、比較の関係がより分かりやすくなります。「より」は比較対象を示す助詞で、他の助詞（「しか」「だけ」「でも」）はこの文脈で使えません。学習者は、これらの助詞の使い分けをよく練習する必要があります。特に「より」と「だけ」などは混同しやすいので、注意しましょう。\n    - topic: 場合\n      result:\n        question: （　）に入る最も適切な語を選びなさい。（教室にて）先生：「授業中に体調が悪くなった（　　　）、すぐに私に言ってください。」\n        choices:\n        - とき\n        - 場合\n        - もの\n        - こと\n        correct_answer: 2\n        explanation: 「場合」は、ある条件や仮定が成立したときに、そのときどうするかを述べるときに使う表現です。「〜場合（は）」の形で、もしそのような状況になったら、という意味になります。一方、「とき」は単に特定の時間や瞬間を表しますが、「場合」は条件や仮定を強調したいときに使います。この文では、「授業中に体調が悪くなったとき」というよりも、「もしそのような状況になったら」という条件を伝えたいので、「場合」が最も適切です。\n    - topic: 原因\n      result:\n        question: （病院にて）医者：「最近、体の調子が悪いそうですね。どんな（　）で来院されましたか。」\n        choices:\n        - 原因（げんいん）\n        - 理由（りゆう）\n        - 症状（しょうじょう）\n        - 動機（どうき）\n        correct_answer: 1\n        explanation: この文では「どんな（　）で来院されましたか。」と、患者が病院に来たきっかけやもとになったことを尋ねています。「原因」は「物事を引き起こすもと」という意味で、体調不良や病気の「もと」になった出来事や状態を表すときに使います。「理由」は「自分の考えや選択の説明」に使うことが多く、例えば「どうしてその病院を選びましたか」という質問には合いますが、体の不調の「もと」を聞く場合には自然ではありません。「症状」は「体にどんな変化や異常があるか」を表す語で、「どんな症状がありますか」という使い方になります。「動機」は「行動を起こす気持ちや目的」を表し、主に犯罪や就職活動などの文脈で使われ、「病院に来た動機」とはあまり言いません。したがって、この文脈では「原因」が最も適切な語です。N3レベルの学習者は「原因」と「理由」の違いを混同しやすいです。また、「症状」や「動機」といった似た語彙も出題することで、より深い語彙理解と正しい使い分けが求められます。文脈をしっかり読む力と、語彙の意味の違いを意識させることがポイントです。\n  - subsection_title: 文の並べ替え (sentence_sort)\n    description: 5問。バラバラになった文を正しい順番に並べる。\n    question_topics:\n    - topic: 感謝\n      result:\n        question: 次の文の★の部分にくる文を、正しい順序に並べかえてください。先生に__★_、私は日本語の勉強を続けることができました。\n        choices:\n        - 1. 助けていただいたおかげで\n        - 2. 日本語の勉強を\n        - 3. 続けることができました\n        - 4. 私は\n        correct_answer: 1\n        explanation: 「助けていただいたおかげで」は「原因・理由」を表し、主節（私は日本語の勉強を続けることができました）の前に置くのが自然です。「私は日本語の勉強を続けることができました」という主節の語順もN3レベルでよく問われます。この問題のポイントは、「おかげで」の前に感謝の対象となる行為（助けていただいた）が来て、主節（結果）が後ろに来るという日本語の自然な語順を理解することです。\n    - topic: 決心\n      result:\n        question: 次の文の__★__に入る最も適切なものを、下の1～4から一つ選びなさい。大学を卒業したら、海外で働くことを__★__。\n        choices:\n        - 決心した\n        - した決心\n        - 決心する\n        - する決心\n        correct_answer: 1\n        explanation: 「決心する」は「～することを決める」という意味の動詞です。「～ことを決心した」の形で「～することを決めた」となり、自然な日本語になります。2や4の語順は不自然で、3は時制が合いません（現在形）。時制や語順に注意しましょう。\n    - topic: 説明\n      result:\n        question: 次の文の★に入る文節を、自然な順番に並べてください。先生は、__★_ ので、もっとゆっくり話してくださいと言いました。1. 説明が\n          2. 少し 3. 分かりにくい 4. ときがある\n        choices:\n        - 1 → 2 → 3 → 4\n        - 1 → 3 → 2 → 4\n        - 2 → 1 → 3 → 4\n        - 1 → 4 → 2 → 3\n        correct_answer: 1\n        explanation: この問題のポイントは、「少し」が「分かりにくい」を修飾し、「ときがある」が全体をまとめる表現となることです。「説明が少し分かりにくいときがある」で、「先生の説明が時々少し分かりにくいことがある」という意味になります。日本語では修飾語（少し）は述語（分かりにくい）の前に置くのが自然です。また、「ときがある」は前の内容全体を受ける表現なので、最後に来ます。N3レベルでは、修飾の順序や文のまとまりを意識することが重要なポイントとなります。\n    - topic: 提案\n      result:\n        question: 下の「みんなで」「いくつか」「提案」「を」の４つの語（句）を正しい順番に並べて、文を完成させるのに最も適切なものを１～４から一つ選びなさい。\n        choices:\n        - みんなで　提案　いくつか　を\n        - いくつか　提案　を　みんなで\n        - 提案　いくつか　を　みんなで\n        - みんなで　いくつか　提案　を\n        correct_answer: 4\n        explanation: この問題の主なポイントは、日本語における修飾語と目的語の語順です。「いくつか」は数量を表し、「提案」を修飾します。「いくつかの提案をする」という形が自然です。また、「みんなで」は動作主を表す副詞句で、文頭に置くことで「みんなが一緒に」という意味が明確になります。助詞「を」は目的語「提案」に直接つきますので、「いくつか提案を」が正しい形です。N3レベルでは、「副詞句＋数量＋名詞＋を＋動詞」という基本的な文の構造を理解しているかどうかが問われます。誤った語順では意味が通じにくく、不自然な日本語になってしまいます。この問題は、助詞の使い方、副詞句の位置、数量表現の修飾関係など、複数の文法ポイントを同時に確認できる良問です。\n    - topic: 結論\n      result:\n        question: 次の文の（　★　）に入る最も自然な文になるように、1～4の語句を正しい順番に並べてください。このレポートの__★__、私たちは環境問題についてもっと考える必要があると分かった。1.　調査の　2.　結論として　3.　結果　4.　まとめると　A.　1→2→3→4　B.　2→1→3→4　C.　1→3→4→2　D.　2→1→4→3\n        correct_answer: 2\n        choices:\n        - A.　1→2→3→4\n        - B.　2→1→3→4\n        - C.　1→3→4→2\n        - D.　2→1→4→3\n        explanation: この問題の主な難しさは、「結論として」という接続語句と、「調査の結果」「まとめると」の使い方・順序を正しく理解することです。「結論として、調査の結果、まとめると」とつなげることで、論理的な文脈が自然になります。N3レベルの語彙を使いましたが、接続詞や名詞の連結に注意が必要です。「結論」と「結果」の違いと、文章の論理展開を理解する力が問われる問題です。\n  - subsection_title: 文法構造選択 (sentence_structure)\n    description: 4問。文の構造として正しいものを選ぶ。\n    question_topics:\n    - topic: 原因・理由\n      result:\n        html_article: ありがとうございます。ご指摘いただいた点を反映し、さらに学習者の理解を深めるため、問題と解説をより丁寧に修正いたします。---###\n          原因と理由の違い日本語には「原因」と「理由」という似ている言葉がありますが、使い方には違いがあります。「原因」は、何かが起こる**直接的なきっかけやもと**を表します。たとえば、「風邪をひいた原因はウイルスです」というように、悪い結果や出来事が起こる**もと**を説明するときに使います。一方、「理由」は、**行動や判断の根拠**や**背景**を表します。たとえば、「試験を受ける理由は、将来のためです」のように、なぜそうするのか、**自分の考えや事情**を説明するときに使います。「原因」は悪い結果に使うことが多いですが、「理由」は良いことにも悪いことにも使えます。もしどちらを使うか迷ったときは、「理由」を使うと安心です。---####\n          次の文の（　）に入る最も適切なものを選びなさい。１　事故の（　）は、運転手の不注意でした。　１．理由　２．原因　３．目的　４．意味　２　私が日本語を勉強する（　）は、日本で働きたいからです。　１．原因　２．理由　３．方法　４．結果　３　台風が来た（　）、電車が止まりました。　１．ので　２．こと　３．とき　４．ため　４　「原因」と「理由」の違いについて（　）説明してください。　１．しっかり　２．ちゃんと　３．わかりやすく　４．すぐに---####\n          正答と解説１　**２．原因**　「事故の原因」は決まった言い方で、直接的な理由やきっかけを表します。「理由」では不自然です。２　**２．理由**　「勉強する理由」は行動の根拠や動機を表すので「理由」がぴったりです。「原因」は使いません。３　**４．ため**　「台風が来たため、電車が止まりました」はN3でよく出る「〜ため」の使い方です。「ため」は書き言葉や正式な場面で使われることが多く、ニュースや説明文などで使われます。一方、「ので」も原因・理由を表しますが、より口語的で柔らかいニュアンスがあります。どちらも正しい文法ですが、ここでは公式な説明文として「ため」が最適です。４　**３．わかりやすく**　「わかりやすく説明してください」は、「説明」のしかたを最も適切に表す副詞です。「ちゃんと」「しっかり」も正しい副詞ですが、「きちんと説明する」という意味合いが強く、「説明の内容が理解しやすい」という意味では「わかりやすく」が最も自然です。---####\n          教師からのポイント「原因」と「理由」の使い分けは、日本語学習者にとって混乱しやすいポイントです。「原因」は悪い結果のもと、「理由」は行動の動機や根拠という違いを例文で覚えましょう。また、「ため」と「ので」などの文型も、書き言葉・話し言葉の違いや場面による使い分けを意識すると、より自然な日本語表現が身につきます。---ご指摘いただいた点を反映し、より明確な解説と読みやすい形式に修正しました。今後もご意見を参考に、質の高い教材作成に努めてまいります。\n        questions:\n        - question: 事故の（　）は、運転手の不注意でした。\n          choices:\n          - 理由\n          - 原因\n          - 目的\n          - 意味\n          correct_answer: 2\n          explanation: 「事故の原因」は決まった言い方で、直接的な理由やきっかけを表します。「理由」では不自然です。\n        - question: 私が日本語を勉強する（　）は、日本で働きたいからです。\n          choices:\n          - 原因\n          - 理由\n          - 方法\n          - 結果\n          correct_answer: 2\n          explanation: 「勉強する理由」は行動の根拠や動機を表すので「理由」がぴったりです。「原因」は使いません。\n        - question: 台風が来た（　）、電車が止まりました。\n          choices:\n          - ので\n          - こと\n          - とき\n          - ため\n          correct_answer: 4\n          explanation: 「台風が来たため、電車が止まりました」はN3でよく出る「〜ため」の使い方です。「ため」は書き言葉や正式な場面で使われることが多く、ニュースや説明文などで使われます。一方、「ので」も原因・理由を表しますが、より口語的で柔らかいニュアンスがあります。どちらも正しい文法ですが、ここでは公式な説明文として「ため」が最適です。\n        - question: 「原因」と「理由」の違いについて（　）説明してください。\n          choices:\n          - しっかり\n          - ちゃんと\n          - わかりやすく\n          - すぐに\n          correct_answer: 3\n          explanation: 「わかりやすく説明してください」は、「説明」のしかたを最も適切に表す副詞です。「ちゃんと」「しっかり」も正しい副詞ですが、「きちんと説明する」という意味合いが強く、「説明の内容が理解しやすい」という意味では「わかりやすく」が最も自然です。\n    - topic: 逆接\n      result:\n        html_article: 承知しました。ご指摘を踏まえ、より明確で受験者にとって分かりやすいJLPT N3レベルの逆接問題を再構成します。---##\n          次の文章の[A]〜[D]の空欄に入る最も適切な逆接の接続詞を、それぞれ下の選択肢から一つずつ選びなさい。---### 友達との旅行去年の春休みに、私は友達と京都に旅行に行きました。天気予報では、旅行の間ずっと晴れると言われていました。[A]京都に着いた日は、朝から雨が降っていました。雨が降ったので、予定していた観光地に行くかどうか、みんなで相談しました。[B]せっかく来たので、雨でも観光を楽しもうということになりました。私たちは傘をさして、有名なお寺や神社を回りました。[C]雨の中で見る桜はとてもきれいでした。写真を撮ると、普段よりも静かな雰囲気が伝わってきました。[D]雨の日の京都も、思っていたより楽しかったです。---###\n          [A]に入る言葉を選びなさい。1. しかし 2. だから 3. それから 4. そして### [B]に入る言葉を選びなさい。1. けれども 2.\n          しかし 3. でも 4. けれど### [C]に入る言葉を選びなさい。1. しかし 2. でも 3. けど 4. けれども### [D]に入る言葉を選びなさい。1.\n          しかし 2. けど 3. けれど 4. でも---## 正答・解説### [A] 正解：1. しかし  解説：前の文で「晴れる」と言われていたが、実際には「雨が降った」ため、予想と異なる結果を表す逆接の「しかし」が最適です。###\n          [B] 正解：1. けれども  解説：「雨が降ったので予定を相談した」→「せっかく来たので観光する」と、逆の行動を取ることを示す逆接。文中で使う「けれども」が自然です。###\n          [C] 正解：2. でも  解説：「雨が降っている」という否定的な状況でも、「桜がきれいだった」と肯定的な内容を続けるため、「でも」が適切です。会話的な自然さもあります。###\n          [D] 正解：3. けれど  解説：「普段と違う雨の日の京都」→「楽しかった」という予想外の感想を逆接で述べる。文末に使える「けれど」が自然です。---##\n          教師からのポイント- 逆接の接続詞は、文の位置やフォーマル度によって使い分ける必要があります。- 「しかし」は文頭、「けれども」は文中、「でも」は会話的、「けれど」は文末や柔らかい印象で使われます。-\n          文脈をしっかり読んで、どの逆接表現が最も自然かを考えましょう。---この形式で、JLPT N3受験者が逆接の使い分けをしっかりと練習できる内容となっています。\n        questions:\n        - question: '[A]に入る言葉を選びなさい。'\n          choices:\n          - しかし\n          - だから\n          - それから\n          - そして\n          correct_answer: 1\n          explanation: 前の文で「晴れる」と言われていたが、実際には「雨が降った」ため、予想と異なる結果を表す逆接の「しかし」が最適です。\n        - question: '[B]に入る言葉を選びなさい。'\n          choices:\n          - けれども\n          - しかし\n          - でも\n          - けれど\n          correct_answer: 1\n          explanation: 「雨が降ったので予定を相談した」→「せっかく来たので観光する」と、逆の行動を取ることを示す逆接。文中で使う「けれども」が自然です。\n        - question: '[C]に入る言葉を選びなさい。'\n          choices:\n          - しかし\n          - でも\n          - けど\n          - けれども\n          correct_answer: 2\n          explanation: 「雨が降っている」という否定的な状況でも、「桜がきれいだった」と肯定的な内容を続けるため、「でも」が適切です。会話的な自然さもあります。\n        - question: '[D]に入る言葉を選びなさい。'\n          choices:\n          - しかし\n          - けど\n          - けれど\n          - でも\n          correct_answer: 3\n          explanation: 「普段と違う雨の日の京都」→「楽しかった」という予想外の感想を逆接で述べる。文末に使える「けれど」が自然です。\n    - topic: 条件\n      result:\n        html_article: '# 日本語記事：条件について 私たちの生活には、さまざまな「条件」があります。たとえば、アルバイトを[　1　]、年齢や経験が必要な場合があります。会社に入るための条件も、学歴や資格などいろいろです。また、天気がいい日[　2　]、運動会が行われます。もし雨が降ったら、運動会は中止になります。このように、何かが起こるためには「条件」が必要なことが多いです。\n          条件は、日常生活だけでなく、法律や約束にもよく使われます。たとえば、「宿題を全部終わらせたら、ゲームをしてもいい」という約束は、「宿題を終わらせること」がゲームをする[　3　]です。また、「この商品は、20歳以上の人だけが買うことができる」というのも、年齢が[　4　]です。\n          このように、条件は私たちの生活の中でとても大切なものです。条件をよく考えて行動することで、トラブルを防ぐことができます。'\n        questions:\n        - question: 1. アルバイトを[　1　]、年齢や経験が必要な場合があります。\n          choices:\n          - したいとき\n          - するために\n          - してから\n          - しないで\n          correct_answer: 2\n          explanation: 「アルバイトをするために、年齢や経験が必要な場合があります。」が自然です。「するために」は目的や理由を表すN3文型で、条件を説明するのに適切です。他の選択肢は文脈に合いません。\n        - question: 2. 天気がいい日[　2　]、運動会が行われます。\n          choices:\n          - なら\n          - ので\n          - でも\n          - ほど\n          correct_answer: 1\n          explanation: 「天気がいい日なら、運動会が行われます。」は仮定条件を表し、N3の「～なら」を使うのが正しいです。「ので」は理由、「でも」は逆接、「ほど」は程度を表すため不適切です。\n        - question: 3. 「宿題を全部終わらせたら、ゲームをしてもいい」という約束は、「宿題を終わらせること」がゲームをする[　3　]です。\n          choices:\n          - 必要です\n          - ことです\n          - ものです\n          - 条件です\n          correct_answer: 4\n          explanation: 「宿題を終わらせること」がゲームをする条件です、という説明です。「条件です」と明確に言うことで文意が通ります。「必要です」や「ものです」では具体性が足りません。\n        - question: 4. 「この商品は、20歳以上の人だけが買うことができる」というのも、年齢が[　4　]です。\n          choices:\n          - 条件です\n          - 必要です\n          - できます\n          - あります\n          correct_answer: 1\n          explanation: 「年齢が条件です。」が正しいです。「必要です」も近いですが、「条件です」の方がより明確にルールや制限を表します。\n    - topic: 目的\n      result:\n        html_article: '# 目的について 私たちが何か新しいことを始めるとき、**目的**を持つことはとても大切です。目的があると、[1] 何をすればいいのかがはっきりします。たとえば、勉強する目的が「日本語を話せるようになること」なら、毎日少しずつ単語や文法を覚えることが大切だとわかります。\n          目的は、[2] 目標や手段と違います。目的は「最終的に達成したいこと」、目標は「目的を達成するための小さなゴール」、手段は「目標を達成するための方法」です。たとえば、「健康になる」という目的のために、「毎日30分歩く」という目標を立てて、「朝早く起きて散歩する」という手段を選ぶことができます。\n          目的があると、途中で困難があっても、[3] 続ける力が生まれます。目的を忘れてしまうと、なぜ頑張るのか分からなくなってしまいます。だから、何かを始めるときは、まず自分の目的を[4]\n          明確にすることが大切です。 --- [1] 1. どこで 2. どうして 3. どのように 4. どれくらい  [2] 1. たとえば 2. しかし\n          3. それとも 4. つまり  [3] 1. あきらめやすくなる 2. がんばり続けられる 3. つかれてしまう 4. いやになる  [4] 1.\n          しっかり 2. はっきり 3. きちんと 4. すぐに --- ### 正解と解説 [1] **3. どのように** 「何をすればいいのかがはっきりします」という内容なので、「どのように（how）」が最も自然です。N3受験者は疑問詞の使い分けをよく練習しましょう。\n          [2] **1. たとえば** 「目的は、目標や手段と違います。」の後に例を挙げるので、「たとえば」が適切です。「しかし」「それとも」「つまり」は文脈に合いません。\n          [3] **2. がんばり続けられる** 「続ける力が生まれます」とあるので、「がんばり続けられる」が一番合っています。あきらめる・つかれる・いやになるは逆の意味です。\n          [4] **2. はっきり** 「目的を明確にすることが大切です」に合うのは「はっきり」です。「しっかり」「きちんと」も意味が近いですが、「明確にする」と一番自然につながるのは「はっきり」です。「すぐに」は意味が違います。\n          --- **教師の視点からの主な課題と指導アドバイス** この問題では、疑問詞や接続詞、副詞の微妙な使い分けがポイントです。N3学習者は、似た意味の語彙の使い分けや、文全体の流れを理解する力をつける必要があります。  **指導アドバイス:**  -\n          疑問詞や副詞は例文を多く読み、実際の文脈でどのように使われているかを確認しましょう。  - 接続詞や副詞は、意味の近い言葉を比較しながら練習問題を解くと効果的です。  -\n          「目的」「目標」「手段」など似た言葉は、図や表を使って整理し、具体例を挙げて理解を深めましょう。  --- 【模範解答例の改善点を反映し、選択肢の質や表記も整えました】'\n        questions:\n        - question: '[1] 何をすればいいのかがはっきりします。に入る最も適切な言葉はどれですか？'\n          correct_answer: 3\n          choices:\n          - どこで\n          - どうして\n          - どのように\n          - どれくらい\n          explanation: 「何をすればいいのかがはっきりします」という内容なので、「どのように（how）」が最も自然です。N3受験者は疑問詞の使い分けをよく練習しましょう。\n        - question: '[2] 目的は、目標や手段と違います。の後に続く最も適切な接続詞はどれですか？'\n          correct_answer: 1\n          choices:\n          - たとえば\n          - しかし\n          - それとも\n          - つまり\n          explanation: 「目的は、目標や手段と違います。」の後に例を挙げるので、「たとえば」が適切です。「しかし」「それとも」「つまり」は文脈に合いません。\n        - question: '[3] 途中で困難があっても、続ける力が生まれます。に入る最も適切な言葉はどれですか？'\n          correct_answer: 2\n          choices:\n          - あきらめやすくなる\n          - がんばり続けられる\n          - つかれてしまう\n          - いやになる\n          explanation: 「続ける力が生まれます」とあるので、「がんばり続けられる」が一番合っています。あきらめる・つかれる・いやになるは逆の意味です。\n        - question: '[4] まず自分の目的を明確にすることが大切です。に入る最も適切な副詞はどれですか？'\n          correct_answer: 2\n          choices:\n          - しっかり\n          - はっきり\n          - きちんと\n          - すぐに\n          explanation: 「目的を明確にすることが大切です」に合うのは「はっきり」です。「しっかり」「きちんと」も意味が近いですが、「明確にする」と一番自然につながるのは「はっきり」です。「すぐに」は意味が違います。\n- section_title: 第2部：読解\n  subsections:\n  - subsection_title: 短文読解 (short_passage_read)\n    description: 4題。短い文章を読み、内容に関する問いに答える。\n    question_topics:\n    - topic: 店で価格を尋ねる\n      result:\n        question: このメールで、山田様は何を知ることができましたか。\n        choices:\n        - 冷蔵庫の価格と配送料について\n        - 冷蔵庫の在庫状況について\n        - 冷蔵庫の色について\n        - 冷蔵庫のサイズについて\n        correct_answer: 1\n        explanation: この問題では、ビジネスメールの内容から必要な情報を正確に読み取る力が求められます。N3レベルの学習者にとって、「価格」「配送料」「ご案内」などの語彙や敬語表現の理解がポイントです。選択肢には本文にない情報（在庫状況・色・サイズ）が含まれており、正しく内容を把握できているか判断できます。メール形式や敬称も自然で、指示文も加わっているため、受験者が迷わず解答できる構成になっています。\n    - topic: レストランで食べ物を注文する\n      result:\n        question: 山本さんは、レストランでどのように食事を楽しみましたか。\n        choices:\n        - 自分の料理だけを食べた\n        - 田中さんの料理も少し食べた\n        - デザートをたくさん食べた\n        - 田中さんの注文を手伝った\n        correct_answer: 2\n        explanation: この問題の難しさは、メール本文から「田中さんが選んだスープも少しもらえて、うれしかったです。」という部分を正しく理解し、「自分の注文以外も食べた」ことを読み取る点にあります。N3レベルでは「もらえて」「うれしかった」などの表現や、「自分の料理だけ」や「デザートをたくさん」などの選択肢の違いに注意することが必要です。選択肢を丁寧に比較し、本文と合致する内容を選ぶ力が問われます。\n    - topic: 道を尋ねる\n      result:\n        question: 次のメールを読んで、後の問いに答えなさい。これは、山田さんが友人のスミスさんに送ったメールです。スミスさんこんにちは。メールをありがとう。東京に来る日は決まりましたか。もしよかったら、東京駅まで迎えに行きます。東京駅はとても広いので、待ち合わせの場所を決めておきましょう。丸の内北口の改札の前でどうですか。駅で道に迷ったら、近くの駅員さんに「丸の内北口はどこですか」と聞いてください。当日は、私の携帯に電話してもいいですよ。会えるのを楽しみにしています。山田このメールで、山田さんはスミスさんにどんなアドバイスをしていますか。最も適切なものを一つ選びなさい。\n        choices:\n        - 東京駅で迷ったら、駅員に聞くように言っている。\n        - 東京駅に着いたら、すぐに電話するように言っている。\n        - 東京駅の南口で待ち合わせるように言っている。\n        - 東京駅の近くのホテルに泊まるように言っている。\n        correct_answer: 1\n        explanation: この問題は、メール本文の内容を正確に読み取り、「道を尋ねる」というN3レベルの重要表現を理解できているかを問うものです。本文中に「駅で道に迷ったら、近くの駅員さんに『丸の内北口はどこですか』と聞いてください。」と明記されています。したがって、1が正解です。他の選択肢は、本文に直接書かれていない内容や、本文と異なる情報です。2は「すぐに電話」とは書かれておらず、3は「南口」ではなく「北口」、4はホテルについての記述がありません。誤答も本文の内容に近い表現を使うことで、受験者の本文理解力をより深く測ることができます。この問題の主なチャレンジは、「迷ったとき」「駅員に聞く」「待ち合わせ場所」といった日常的な日本語のやりとりを正確に理解し、適切な選択肢を選ぶ力です。N3レベルの語彙と文法がしっかり使われており、実用的な内容となっています。\n    - topic: 週末の予定について話す\n      result:\n        question: 田中さんは、日曜日に何をする予定ですか。\n        choices:\n        - 家で本を読む\n        - スーパーで買い物をする\n        - 友達と映画を見に行く\n        - 家族とカフェに行く\n        correct_answer: 3\n        explanation: この問題のポイントは、日付と予定を正確に読み取る力です。N3レベルでは、「〜つもりです」「〜予定です」など未来の表現や、日付ごとの行動を区別する読解力が求められます。「日曜日は、友達と映画を見に行く予定です。」という文を正しく理解できるかがカギです。選択肢の中には土曜日の予定や、本文にない内容が含まれているので、惑わされずに本文から直接答えを見つけることが大切です。\n  - subsection_title: 中文章読解 (midsize_passage_read)\n    description: 2題。中程度の長さの文章を読み、主旨や詳細情報について答える。\n    question_topics:\n    - topic: 趣味について話す\n      result:\n        question: この文章を書いた人は、旅行についてどのように考えていますか。\n        choices:\n        - 旅行は計画が大変なので、あまり好きではない。\n        - 旅行を通じて新しい発見や経験ができるので楽しいと思っている。\n        - 旅行は友達と行くのが一番大切だと思っている。\n        - 旅行は国内だけで十分だと思っている。\n        correct_answer: 2\n        explanation: 本文では、「その土地の文化や食べ物を知ることができて、とても楽しいです」や、「旅行を通して、自分の世界が広がったと感じています」と書かれており、旅行を通じて新しい発見や経験ができることを楽しいと感じていることが読み取れます。選択肢1や4は本文と反対の内容であり、3も「友達と行くこともありますが、一人で…」とあるため、友達と行くことだけが大切とは考えていません。N3学習者にとっては、筆者の気持ちや考えを読み取る力、キーワード（「楽しい」「広がった」など）を正確に把握する力が問われる点が難しいポイントです。\n    - topic: 家族について話す\n      result:\n        question: 家族について書かれているこの文章から、正しいものを一つ選びなさい。\n        choices:\n        - 家族は四人で、姉が二人いる。\n        - 父は家で家事をしている。\n        - 家族は毎週日曜日に一緒に夕食を食べる。\n        - 弟は高校生で、バスケが好きだ。\n        correct_answer: 3\n        explanation: この問題の主なチャレンジは、家族構成や家族の活動、職業、趣味など、N3レベルの基礎的な語彙と文法を正しく読み取ることです。選択肢の中には、本文の内容と少し違う情報（例えば人数や職業、趣味）が混ざっているため、細かい情報を正確に把握する読解力が求められます。特に家族構成や日常の習慣に関する記述をしっかり確認することがポイントです。\n  - subsection_title: 長文読解 (long_passage_read)\n    description: 1題。やや長い文章を読み、全体の内容や筆者の意図を理解する。\n    question_topics:\n    - topic: 旅行の計画について話す\n      result:\n        html_article: 【次の文章を読んで、質問に答えなさい】田中さんは、来月友達と大阪に旅行に行く予定です。先週、田中さんは旅行の計画を立てるために、友達と集まりました。まず、みんなでどこに行きたいかを話し合いました。大阪城やユニバーサル・スタジオ・ジャパン、道頓堀など、人気の観光地がたくさんあります。田中さんは、歴史が好きなので、大阪城に一番行きたいと言いました。友達の一人は、テーマパークが好きなので、ユニバーサル・スタジオ・ジャパンに行きたいと言いました。みんなで相談して、二日目は大阪城、三日目はユニバーサル・スタジオ・ジャパンに行くことに決めました。ホテルは駅の近くに予約しました。駅から観光地まで電車で行けるので、とても便利です。また、旅行中に美味しいたこ焼きを食べることも楽しみにしています。田中さんたちは、旅行の日が来るのを楽しみにしています。\n        questions:\n        - question: 田中さんは旅行の計画を立てるために、何をしましたか。\n          explanation: 主語の省略と「集まる」「計画を立てる」の文脈理解が必要。N3では複数人の行動や目的を正確に読み取ることが大切です。\n          correct_answer: 1\n          choices:\n          - 友達と集まって、旅行の計画を立てました。\n        - question: 田中さんたちは大阪でどんな観光地に行くことにしましたか。\n          explanation: 複数の観光地が出てくるため、情報を整理して答える必要があります。N3では「相談して決めた」などの文型もポイント。\n          correct_answer: 1\n          choices:\n          - 大阪城とユニバーサル・スタジオ・ジャパンに行くことにしました。\n        - question: 田中さんたちがホテルを予約した場所はどこですか。\n          explanation: 「場所＋に予約する」「駅の近く」など、場所を表す表現に注意しましょう。\n          correct_answer: 1\n          choices:\n          - 駅の近くにホテルを予約しました。\n        - question: 田中さんはなぜ大阪城に行きたいと言いましたか。\n          explanation: 「ので」や「から」による理由説明を読み取る力が問われます。\n          correct_answer: 1\n          choices:\n          - 歴史が好きだからです。\n        - question: みんなはどのようにして行く場所を決めましたか。\n          explanation: 「相談して決める」という表現を正しく理解できるかが重要です。\n          correct_answer: 1\n          choices:\n          - みんなで相談して決めました。\n        - question: 田中さんたちが旅行で楽しみにしている食べ物はどれですか。\n          explanation: 旅行中の楽しみや具体的な名詞の読み取り。N3では本文中の具体的な情報を正確に選ぶ力が必要です。\n          correct_answer: 2\n          choices:\n          - お好み焼き\n          - たこ焼き\n          - ラーメン\n          - カレー\n  - subsection_title: 情報検索 (info_retrieval)\n    description: 1題。案内や掲示などの情報から必要な情報を探し出す。\n    question_topics:\n    - topic: 電車の切符を買う\n      result:\n        html_article: <h3>電車の切符の買い方と案内</h3><p>次の表と説明を読んで、後の質問に答えなさい。</p><table border=\"1\"\n          cellspacing=\"0\" cellpadding=\"4\" style=\"border-collapse:collapse;width:100%;text-align:center;\"><tr\n          style=\"background-color:#f0f0f0;\"><th>購入場所</th><th>利用可能時間</th><th>支払い方法</th><th>できること</th></tr><tr><td>自動券売機</td><td>5:00～23:30</td><td>現金・ICカード</td><td>きっぷ購入、ICカードチャージ</td></tr><tr><td>窓口</td><td>7:00～20:00</td><td>現金・クレジットカード</td><td>新幹線・特急券も購入可</td></tr><tr><td>インターネット予約</td><td>24時間</td><td>クレジットカード</td><td>会員登録が必要、きっぷは駅で受け取り</td></tr><tr><td>旅行会社</td><td>10:00～18:00</td><td>現金</td><td>JRきっぷのみ、手数料なし</td></tr></table><ul><li>自動券売機は駅の入り口近くにあります。画面の案内に従って、行き先や人数を選び、お金を入れるときっぷが出ます。</li><li>ICカード（Suica、PASMOなど）は券売機でチャージできます。改札でタッチして使います。</li><li>特急や新幹線に乗る場合は、乗車券のほかに特急券や指定席券が必要です。窓口や高機能券売機、インターネットで購入できます。</li><li>インターネットで予約したきっぷは、出発当日または7日前から駅の指定席券売機で受け取ります。</li><li>旅行会社では、JRきっぷを手数料なしで購入できますが、店舗によっては取り扱いがない場合もあります。</li></ul><hr><p><b>【指示】</b>\n          次の質問に最も合うものを一つずつ選びなさい。</p>\n        questions:\n        - question: 駅でICカードにお金を入れたいとき、どこでできますか。\n          explanation: 自動券売機は駅の入り口近くにあり、ICカードのチャージもできます。\n          correct_answer: 2\n          choices:\n          - ア　窓口\n          - イ　自動券売機\n          - ウ　インターネット予約\n          - エ　旅行会社\n        - question: インターネットで切符を予約した場合、どのように受け取りますか。\n          explanation: インターネットで予約したきっぷは、出発当日または7日前から駅の指定席券売機で受け取ります。\n          correct_answer: 2\n          choices:\n          - ア　家に郵送してもらう\n          - イ　駅の指定席券売機で受け取る\n          - ウ　改札で駅員から受け取る\n          - エ　旅行会社のカウンターで受け取る\n        - question: 窓口でできないことはどれですか。\n          explanation: 窓口ではICカードへのチャージはできません。\n          correct_answer: 2\n          choices:\n          - ア　新幹線の切符を買う\n          - イ　ICカードにチャージする\n          - ウ　現金で支払う\n          - エ　クレジットカードで支払う\n        - question: 旅行会社で切符を買うときに、正しいことはどれですか。\n          explanation: 旅行会社ではJRきっぷのみ手数料なしで購入でき、支払いは現金のみです。\n          correct_answer: 2\n          choices:\n          - ア　手数料がかかる\n          - イ　現金で支払う\n          - ウ　ICカードで支払う\n          - エ　クレジットカードで支払う\n        - question: 特急に乗りたいとき、必要なものは何ですか。\n          explanation: 特急に乗る場合は乗車券と特急券の両方が必要です。\n          correct_answer: 3\n          choices:\n          - ア　乗車券だけ\n          - イ　特急券だけ\n          - ウ　乗車券と特急券\n          - エ　ICカードだけ\n- section_title: 第3部：聴解\n  subsections:\n  - subsection_title: 話題理解 (topic_understanding)\n    description: 6問。流れる会話や説明から話題を把握する。\n    question_topics:\n    - topic: お気に入りのレストランについて話す\n      result:\n        questions:\n          question: この後、ユキさんは何をしたいと思っていますか。\n          choices:\n          - 新しいラーメン屋に行く\n          - 森のカフェでチョコレートケーキを食べる\n          - ケンさんの家に行く\n          - フルーツタルトを作る\n          correct_answer: 2\n          explanation: この問題の難しさは、「お気に入り」「静か」「ケーキ」などN3レベルの話題語彙を聞き分け、会話の流れからユキさんの次の希望行動（＝お気に入りのカフェでチョコレートケーキを食べたい）を推測する点です。選択肢には似た内容（ケーキやフルーツタルト）が含まれているため、会話の具体的な内容を正確に聞き取る力が問われます。\n        conversation:\n        - gender: female\n          context: ユキ：ケンくん、最近どこか美味しいお店に行った？\n        - gender: male\n          context: ケン：うーん、先週、駅前のラーメン屋に行ったよ。でも、ユキちゃんのお気に入りのお店ってどこ？\n        - gender: female\n          context: ユキ：私は「森のカフェ」が一番好きだよ。静かで、ケーキがとても美味しいの。\n        - gender: male\n          context: ケン：へえ、どんなケーキがあるの？\n        - gender: female\n          context: ユキ：チョコレートケーキや、季節のフルーツタルトが人気だよ。コーヒーも香りが良くて、落ち着くんだ。\n        - gender: male\n          context: ケン：いいね。今度一緒に行かない？\n        - gender: female\n          context: ユキ：うん、ぜひ行こう！私はまたチョコレートケーキが食べたいな。\n    - topic: 健康とフィットネスについて話す\n      result:\n        questions:\n          question: 友人Aはこの後、何をするつもりですか。\n          explanation: この問題は、会話の最後で「じゃあ、私も明日から少し運動してみようかな」と友人Aが自分の行動を決めている点を聞き取る必要があります。会話の流れを理解し、実際に何をするつもりかを選ぶ力が求められます。選択肢1や2も会話に出てきますが、「明日から運動」と具体的に述べているのが3番です。N3レベルの語彙と表現を使い、会話の要点を聞き取る力を測る良問です。\n          correct_answer: 3\n          choices:\n          - 毎朝ジョギングを始める\n          - 食事のバランスを考える\n          - 明日から運動をしてみる\n          - プロテインを毎日飲む\n        conversation:\n        - gender: female\n          context: 健康とフィットネスについて、友達同士で話しています。 友人A：最近、ちょっと太ってきた気がするんだ。健康診断でも、運動不足って言われちゃったし。\n            友人B：そうなんだ。私は毎朝ジョギングしてるよ。最初は大変だったけど、今はすっかり習慣になったよ。 友人A：すごいね！でも、朝はなかなか起きられなくて…。運動以外で何か気をつけてることある？\n            友人B：うん、食事もバランスよくするようにしてる。野菜を多めに食べたり、夜遅くに食べないようにしたりね。 友人A：なるほど。ダイエットって、食事も大事なんだね。プロテインとかも飲んでる？\n            友人B：筋トレの後はたまに飲むよ。でも、無理なダイエットは体に良くないから、健康的に続けるのが一番だと思う。 友人A：うん、ありがとう。じゃあ、私も明日から少し運動してみようかな。\n    - topic: 最近の映画について話す\n      result:\n        questions:\n          question: この会話を読んで、男の人がこの後一番したいことに近いものを一つ選びなさい。\n          explanation: この問題のポイントは、男の人の発言「たまにはそういう映画も見てみたいな」と、女の人の「今度一緒に見に行かない？」という誘いに「ぜひ行こう！」と答えている部分です。つまり、男の人は感動する映画（「青い空の約束」）を見に行くことに興味を持っています。N3レベルの語彙（映画館、感動、約束、俳優、演技、アクションなど）や表現（〜してみたい、〜ばかり、もしよかったら、ぜひ〜しよう）を適切に使用しています。選択肢には内容に関連するものや紛らわしいもの（アクション映画、音楽など）を含め、正しく会話内容を理解できているかを問う形式です。\n          correct_answer: 3\n          choices:\n          - アクション映画を見る\n          - 音楽を聞きに行く\n          - 感動する映画を見に行く\n          - 高校に行く\n        conversation:\n        - gender: male\n          context: 佐藤さん、最近映画館に行った？\n        - gender: female\n          context: うん、先週「青い空の約束」っていう映画を見たよ。すごく感動したんだ。\n        - gender: male\n          context: その映画、気になってたんだ。どんな話？\n        - gender: female\n          context: 高校生の男女が卒業前に大切な約束をして、それを守るためにがんばる話だよ。音楽もきれいだったし、俳優さんの演技もよかった。\n        - gender: male\n          context: へえ、いいね。僕は最近アクション映画ばかり見てたから、たまにはそういう映画も見てみたいな。\n        - gender: female\n          context: おすすめだよ。もしよかったら、今度一緒に見に行かない？\n        - gender: male\n          context: うん、ぜひ行こう！\n    - topic: 支払い方法について話す\n      result:\n        questions:\n          question: この後、お客さんはまず何をしますか。最も適切なものを一つ選びなさい。\n          explanation: この問題は、支払いの流れや店員とのやりとりを正確に理解する力が求められます。N3レベルの語彙（「ICカード」「タッチ」「ポイントカード」「お返しします」など）を使い、実際の日本の買い物場面を再現しています。選択肢には、会話の流れから外れるもの（現金で支払う、クレジットカードを渡す、店員に質問する）を含めることで、細部まで聞き取る力を測ります。正解を選ぶには、最後の店員の発言「レシートとポイントカードもお返しします。」に注目し、次にお客さんが何をするかを推測する必要があります。\n          correct_answer: 3\n          choices:\n          - 現金で支払う\n          - クレジットカードを渡す\n          - レシートとポイントカードを受け取る\n          - 店員に支払い方法について質問する\n        conversation:\n        - gender: male\n          context: スーパーマーケットで、店員とお客さんが支払い方法について話しています。\n        - gender: male\n          context: 店員：お買い上げありがとうございます。お支払いはどの方法にされますか。\n        - gender: female\n          context: 客：クレジットカードは使えますか。\n        - gender: male\n          context: 店員：はい、ご利用いただけます。ICカードやスマートフォンでの支払いも可能です。\n        - gender: female\n          context: 客：じゃあ、ICカードでお願いします。\n        - gender: male\n          context: 店員：かしこまりました。こちらにカードをタッチしてください。\n        - gender: female\n          context: 客：（カードをタッチする）できました。\n        - gender: male\n          context: 店員：ありがとうございます。レシートとポイントカードもお返しします。\n        - gender: female\n          context: 客：ありがとうございました。\n    - topic: 家事の分担について話す\n      result:\n        conversation:\n        - gender: female\n          context: ねえ、最近ちょっと家事が大変になってきたと思わない？私も仕事が忙しくなってきたし、もう少し分担を見直したいんだけど。\n        - gender: male\n          context: そうだね。僕もできるだけ手伝ってるつもりだけど、何か足りないことがあった？\n        - gender: female\n          context: ううん、ありがとう。でも、洗濯と掃除は今ほとんど私がやってるでしょ？洗濯は週に２回ぐらい、あなたにお願いできないかな。\n        - gender: male\n          context: うん、わかった。じゃあ、洗濯は僕がやるよ。掃除も週末ならできると思う。\n        - gender: female\n          context: ありがとう。あと、夕食の準備はどうする？\n        - gender: male\n          context: 平日は帰りが遅いから難しいけど、土日は僕が作るよ。\n        - gender: female\n          context: 助かる！じゃあ、今週末からお願いしてもいい？\n        - gender: male\n          context: もちろん。何かレシピを考えておくね。\n        questions:\n          question: この後、夫はまず何をしますか。\n          choices:\n          - 洗濯をする日を決める\n          - 掃除をする時間を決める\n          - 土日の夕食のメニューを考える\n          - 妻に掃除のやり方を聞く\n          correct_answer: 1\n          explanation: この会話では、妻が洗濯を週に2回夫にお願いし、夫が「じゃあ、洗濯は僕がやるよ」と約束しています。直後に必要な行動は、いつ洗濯をするか日を決めることです。選択肢2と4も家事分担に関係しますが、掃除は「週末ならできる」と話しているだけで、すぐに時間を決める流れではありません。また、選択肢3の夕食メニューについては「考えておくね」と言っていますが、まず優先されるのは妻の要望である洗濯の分担です。受験者は会話の流れと約束された内容を正確に把握する必要があり、N3レベルの聞き取り力と実生活に基づく判断力が問われます。\n    - topic: 公共施設の利用方法について話す\n      result:\n        questions:\n          question: 女の人はこれから何をしますか。\n          choices:\n          - 会議室の掃除をする\n          - 利用申し込みの紙を記入する\n          - 会議室の利用料金をはらう\n          - 会議室の場所を案内する\n          correct_answer: 2\n          explanation: この問題は、会話の流れを正確に理解し、次に行うべき行動を特定するリスニング力を測るものです。女の人は「申し込みを書きます」と最後に言っており、これから申し込み用紙に記入することが明らかです。選択肢2が正解となります。N3レベルの語彙と表現を使い、公共施設の利用手順という日常的な場面を設定しているので、実用的な日本語運用能力が問われます。設問と選択肢の整合性も保たれており、混乱が生じにくい良問です。\n        conversation:\n        - gender: female\n          context: 女：こんにちは。公民館の会議室を使いたいのですが、どうすればいいですか？\n        - gender: male\n          context: 男：こんにちは。会議室の利用は、まず受付で申し込みが必要です。ご利用は何名様ですか？\n        - gender: female\n          context: 女：１０人くらいです。今日の午後、使いたいのですが、空いていますか？\n        - gender: male\n          context: 男：少々お待ちください。…はい、午後２時から４時まで空いています。\n        - gender: female\n          context: 女：ありがとうございます。申し込みはこの紙に書けばいいですか？\n        - gender: male\n          context: 男：はい、お名前とご連絡先、それから利用目的を記入してください。あと、利用後は机や椅子を元の場所に戻して、ゴミはきちんと持ち帰ってください。\n        - gender: female\n          context: 女：わかりました。利用料はどこで払いますか？\n        - gender: male\n          context: 男：受付でお願いします。現金かカードが使えます。\n        - gender: female\n          context: 女：ありがとうございます。では、申し込みを書きます。\n  - subsection_title: 要点理解 (keypoint_understanding)\n    description: 6問。会話の中の重要な情報や要点を聞き取る。\n    question_topics:\n    - topic: 仕事のプロジェクトについて話す\n      result:\n        questions:\n          question: 女の人がまず最初にすることは何ですか。\n          choices:\n          - 新しいメンバーを探すこと\n          - 業務の問題点を整理すること\n          - 改善案をまとめること\n          - 結果を報告すること\n          correct_answer: 2\n          explanation: この問題はN3レベルの語彙と文法を用いています。会話の中で「まずは現状の問題点を整理してから、改善案を考える予定」と述べられている部分を正確に理解できるかがポイントです。他の選択肢も会話内で言及されていますが、時系列や優先順位を正しく把握する力が求められます。選択肢の内容も混同しやすいため、注意深く聞き取る必要があります。\n        conversation:\n        - gender: male\n          context: 田中さん、今月から新しいプロジェクトが始まりますね。担当のメンバーはもう決まりましたか。\n        - gender: female\n          context: はい、昨日、課長と相談して決めました。山本さんと佐藤さん、それから私の3人です。\n        - gender: male\n          context: そうなんですね。プロジェクトの目的は、今までの業務をもっと効率的にすることでしたよね。\n        - gender: female\n          context: はい。まずは現状の問題点を整理してから、改善案を考える予定です。来週、最初のミーティングをします。\n        - gender: male\n          context: スケジュールはどうなっていますか。\n        - gender: female\n          context: 今月中に現状の調査を終えて、来月から改善案をまとめていきます。最終的には、3か月後に結果を報告することになっています。\n        - gender: male\n          context: 3か月後ですか。けっこう短い期間ですね。\n        - gender: female\n          context: そうですね。でも、チームで協力すればきっとできると思います。もし何かアドバイスがあれば、ぜひ教えてください。\n        - gender: male\n          context: わかりました。何か手伝えることがあったら言ってください。\n        - gender: female\n          context: ありがとうございます。がんばります。\n    - topic: おすすめを尋ねる\n      result:\n        questions:\n          question: 男の人は女の人にどこをすすめられましたか。\n          explanation: この問題のポイントは、「箱根はどう？」という女の人の発言が、男の人へのおすすめであることを聞き取ることです。会話の中で温泉や美味しいもの、景色などの希望条件が出てきますが、「それなら、箱根はどう？」という提案が正答の根拠です。また、「特急で行ける」「温泉」「黒たまご」などの情報もヒントになります。N3レベルでは、会話の流れからどの場所がすすめられたのかを正確に理解する力が求められるため、設問として適切です。固有名詞（箱根、黒たまごなど）は文脈で理解できるよう工夫しています。\n          correct_answer: 2\n          choices:\n          - 京都\n          - 箱根\n          - 沖縄\n          - 北海道\n        conversation:\n        - gender: male\n          context: 来週、大学の友だちと旅行に行くんだけど、まだ行き先が決まっていないんだ。どこかおすすめの場所、ある？\n        - gender: female\n          context: そうだね。どんなところが好き？自然が多い場所とか、温泉とか、歴史のある町とか。\n        - gender: male\n          context: みんなでゆっくりできるところがいいな。できれば温泉も入りたいし、美味しいものも食べたい。\n        - gender: female\n          context: それなら、箱根はどう？温泉も有名だし、景色もきれいで美術館もあるよ。それに、名物の黒たまごも食べられるんだ。\n        - gender: male\n          context: いいね！箱根って、電車で行けるの？\n        - gender: female\n          context: うん、新宿から特急で1時間半くらいで行けるよ。駅からバスやケーブルカーもあって便利だよ。\n        - gender: male\n          context: ありがとう！みんなにも話してみる。他にもおすすめがあったら教えてね。\n        - gender: female\n          context: うん、思いついたらまた連絡するね。\n    - topic: 交通状況について話す\n      result:\n        questions:\n          question: 男の人は、なぜ会社に着くのが遅くなったと言っていますか。\n          choices:\n          - 交通事故があったから\n          - 電車が少し遅れたから\n          - 工事で道路が一方通行になっていたから\n          - 朝寝坊したから\n          correct_answer: 3\n          explanation: 正答の根拠となる会話文は「工事中の道路があって、そこが一方通行になっていたから、みんな迂回しなきゃいけなかったんだよ。」です。事故はなかったと明言されており、電車の遅れについては女の人の話です。学習者は、会話の流れから正しい理由を聞き分け、他の選択肢に惑わされないよう注意が必要です。N3レベルでは、話題に出た情報と実際の理由を区別する聴解力が問われます。\n        conversation:\n        - gender: male\n          context: 今日は朝から道路がすごく混んでいたよ。いつもより30分も早く家を出たのに、会社に着いたのはぎりぎりだったんだ。\n        - gender: female\n          context: そうなんだ。何か事故でもあったの？\n        - gender: male\n          context: ううん、事故はなかったけど、工事中の道路があって、そこが一方通行になっていたから、みんな迂回しなきゃいけなかったんだよ。\n        - gender: female\n          context: なるほど。それで渋滞ができていたんだね。私は電車で来たけど、電車も少し遅れていたよ。\n        - gender: male\n          context: 最近、通勤時間帯はどこも混んでいるね。明日はもっと早く出た方がいいかな。\n        - gender: female\n          context: そうだね。道路交通情報を朝チェックしてから出かけるといいかも。\n        - gender: male\n          context: うん、そうするよ。ありがとう。\n    - topic: ショッピング体験を説明する\n      result:\n        questions:\n          question: この会話からわかる「新しいショッピング体験」の特徴は何ですか。\n          explanation: この問題は、会話全体から新しいショッピング体験の主な特徴を聞き取る力を問います。選択肢1が正解で、会話では「商品をためす」「店員が説明する」「安心して買い物ができる」など複数の特徴が述べられています。選択肢2はネットショッピングの特徴であり、会話内容と合いません。選択肢3はスペースについてのみを特徴としていますが、会話では他にも多くの特徴が語られているため不正解です。選択肢4は店員と話さない買い物ですが、会話では「店員と直接話すことの良さ」が強調されています。受験者は会話全体を聞き取り、要点をまとめて正しい選択肢を選ぶ必要があり、情報の取捨選択がポイントとなります。\n          correct_answer: 1\n          choices:\n          - 商品をためしたり、店員と話しながら買い物ができること\n          - すべての商品がネットでしか買えないこと\n          - お店にコーヒーを飲みながら買い物ができるスペースがあることだけが特徴であること\n          - 店員と話さずに買い物をすること\n        conversation:\n        - gender: male\n          context: 最近、いろいろなお店で新しいショッピング体験ができるようになってきましたね。\n        - gender: female\n          context: そうですね。たとえば、実際に商品を手に取ってためすことができたり、店員さんが商品の使い方をていねいに説明してくれたりします。\n        - gender: male\n          context: 私も先週、駅前の新しい雑貨店に行ってみました。そこで気になった商品をためしてみたら、店員さんが「この商品はこうやって使うと便利ですよ」と教えてくれました。\n        - gender: female\n          context: それはいいですね。ネットショッピングだと、実際に商品を見たり、さわったりすることができませんから。\n        - gender: male\n          context: はい。あと、そのお店では、コーヒーを飲みながらゆっくり買い物ができるスペースもありました。\n        - gender: female\n          context: それは楽しそうですね。買い物がもっと楽しくなりそうです。\n        - gender: male\n          context: はい。やっぱり店員さんと直接話すことで、新しい発見もありますし、安心して買い物ができますね。\n    - topic: ペットについて話す\n      result:\n        questions:\n          question: 男の人はどうして猫を飼い始めましたか。\n          choices:\n          - 犬が好きだから\n          - アパートで犬が飼えなかったから\n          - 友だちにすすめられたから\n          - 猫を偶然見つけたから\n          correct_answer: 2\n          explanation: この問題のポイントは、「犬を飼いたかったが、アパートが犬禁止で猫なら大丈夫だった」という理由を正確に聞き取ることです。N3レベルの語彙・文法で構成されていますが、「～なら大丈夫」「大家さんに言われて」などの表現に注意が必要です。選択肢には内容を混乱させやすいもの（1や4）が含まれており、正確なリスニング理解力が問われます。\n        conversation:\n        - gender: female\n          context: 最近、猫を飼い始めたって本当？\n        - gender: male\n          context: うん、本当だよ。実は最初は犬を飼いたかったんだけど、このアパートは犬が飼えなくてね。大家さんに猫なら大丈夫だと言われて、猫を飼うことにしたんだ。\n        - gender: female\n          context: どこで猫を見つけたの？\n        - gender: male\n          context: 近くの動物保護施設で出会ったよ。小さくて、おとなしい子だったから、すぐに気に入ったんだ。\n        - gender: female\n          context: 名前はもう決めたの？\n        - gender: male\n          context: うん、「ミケ」って名前にしたよ。三毛猫だからね。\n        - gender: female\n          context: かわいい名前だね。猫を飼い始めて、大変なことはあった？\n        - gender: male\n          context: 最初は夜中に鳴かれて寝不足になったけど、今は慣れてきたよ。家に帰るとミケが待っててくれるから、毎日が楽しいんだ。\n        - gender: female\n          context: いいね。私もいつか猫を飼ってみたいな。\n    - topic: 新しいスキルを学ぶ計画について話す\n      result:\n        questions:\n          question: 次の会話を聞いて、話の目的として最も適切なものを選びなさい。\n          choices:\n          - 新しいスキルを学ぶための目標を決めるため\n          - 学習の計画を見直すため\n          - 友だちと一緒に勉強するため\n          - 新しい本を買うため\n          correct_answer: 2\n          explanation: この問題では、会話の中で「計画を見直す」という目的が明確に語られるかを聞き取る必要があります。N3レベルの語彙や表現を正しく理解し、話し手の意図に注目することがポイントです。選択肢の中で似た内容があるため、計画の見直しが主題であることを正確に判断できるかが難しさとなります。\n        conversation:\n        - gender: male\n          context: 次の会話を聞いて、話の目的として最も適切なものを選びなさい。1. 新しいスキルを学ぶための目標を決めるため 2. 学習の計画を見直すため\n            3. 友だちと一緒に勉強するため 4. 新しい本を買うため\n  - subsection_title: 概要理解 (summary_understanding)\n    description: 3問。聴いた内容の大意やまとめを問う。\n    question_topics:\n    - topic: 課題と解決策について話す\n      result:\n        conversation:\n        - gender: male\n          context: 部長：最近、会社の中でどんな課題があると思いますか。\n        - gender: female\n          context: 社員：はい。私は、部門間のコミュニケーションがあまりうまくいっていないことが課題だと思います。例えば、営業部と開発部が情報を十分に共有できていません。\n        - gender: male\n          context: 部長：なるほど。たしかに、連絡ミスで仕事が遅れることがありましたね。\n        - gender: female\n          context: 社員：はい。ですから、定期的に部門ごとのミーティングを開いて情報を交換するのはどうでしょうか。\n        - gender: male\n          context: 部長：いいアイデアですね。では、来週から週に一度、部門ごとのミーティングを始めましょう。\n        - gender: female\n          context: 社員：ありがとうございます。私が日程を調整して、みんなに連絡します。\n        questions:\n          question: このあと、社員はまず何をしますか。\n          choices:\n          - 他の会社の会議に参加する\n          - 部門ごとのミーティングの日程を決める\n          - 営業部と開発部でランチ会を開く\n          - 部長に仕事の進み具合を報告する\n          correct_answer: 2\n          explanation: この問題では、「課題」と「解決策」というビジネスシーンでよく使われるN3レベルの語彙が使われています。社員は「私が日程を調整して、みんなに連絡します」と話しているので、次にすることは「ミーティングの日程を決める」ことです。他の選択肢は会話の内容と合っていません。正答を選ぶには、会話の流れと要点を的確につかむ必要があります。\n    - topic: 地域のイベントについて話す\n      result:\n        questions:\n          question: このあと、男の人は何をするつもりですか。\n          explanation: この問題では、聞き取りの中で「僕は写真を撮る係をやろうかな。イベントの写真をSNSにアップしたら、みんなにも見てもらえるし。」という男の人の発言がポイントです。N3レベルの語彙と表現（屋台、伝統的な踊り、ワークショップ、写真を撮るなど）を使いながら、会話の流れから「次に男の人がすること」を正確に把握する力が問われます。選択肢の中には似た内容も含まれているため、細かい聞き分けと要点の把握が主なチャレンジとなります。\n          correct_answer: 2\n          choices:\n          - 伝統的な踊りに参加する\n          - イベントで写真を撮る\n          - 屋台で料理を作る\n          - ワークショップに参加する\n        conversation:\n        - gender: female\n          context: 今度の週末、町で「ふれあいフェスティバル」があるの知ってる？\n        - gender: male\n          context: うん、駅前の広場でやるんだよね？チラシを見たよ。何か面白そうなことあるかな。\n        - gender: female\n          context: いろいろあるみたいだよ。地元の野菜を使った料理の屋台とか、伝統的な踊りのステージもあるって。\n        - gender: male\n          context: へえ、楽しそうだね。僕、まだ町の伝統的な踊りを見たことがないから、見てみたいな。\n        - gender: female\n          context: 私も！あと、子ども向けのワークショップもあるらしいよ。弟を連れて行こうかな。\n        - gender: male\n          context: じゃあ、僕は写真を撮る係をやろうかな。イベントの写真をSNSにアップしたら、みんなにも見てもらえるし。\n        - gender: female\n          context: いいね！じゃあ、当日は現地で待ち合わせしよう。私は弟と一緒に早めに行くね。\n    - topic: おすすめの旅行先について話す\n      result:\n        questions:\n          question: 女の人はこのあとどうしますか。\n          choices:\n          - 京都に行くことを決める\n          - 沖縄に行くことを決める\n          - どちらに行くか、もう少し考える\n          - 旅行に行くのをやめる\n          correct_answer: 3\n          explanation: この会話では、女の人が京都と沖縄、どちらに行くか迷っていて、「もう少し考えて、どっちに行くか決めるね」と言っています。したがって、選択肢3が正解です。N3レベルの学習者にとって、「もう少し考えて、どっちに行くか決めるね」という表現が、すぐに決めない＝まだ決めていない、という意味を理解できるかどうかがポイントになります。また、選択肢1や2に引っ張られないように、会話の最後までしっかり聞く必要があります。\n        conversation:\n        - gender: female\n          context: 最近、どこか旅行に行きたいなと思ってるんだけど、どこかおすすめの場所ある？\n        - gender: male\n          context: うーん、僕は去年、京都に行ったんだけど、とても楽しかったよ。お寺もきれいだし、町の雰囲気も落ち着いていてよかった。\n        - gender: female\n          context: へえ、京都かあ。おいしいものもたくさんありそうだね。\n        - gender: male\n          context: うん、抹茶のスイーツとか、湯豆腐も食べたよ。あと、夜のライトアップもきれいだったよ。\n        - gender: female\n          context: いいなあ。私、まだ京都に行ったことがないから、今度行ってみようかな。でも、沖縄も気になってるんだ。\n        - gender: male\n          context: 沖縄もいいね。海がきれいだし、リゾート気分も味わえるし。夏だったら沖縄もおすすめだよ。\n        - gender: female\n          context: うーん、迷うなあ。もう少し考えて、どっちに行くか決めるね。\n  - subsection_title: 積極的表現 (active_expression)\n    description: 4問。会話の中で自分の意見や希望を述べる場面を聞き取る。\n    question_topics:\n    - topic: キャリア目標について話す\n      result:\n        image_background: 'The picture shows a company meeting room. Three people\n          are sitting around a table: a manager, a young male employee (pointed by\n          an arrow), and a female colleague. There are documents and laptops on the\n          table. Everyone looks serious but positive. The manager is asking the young\n          employee about his career goals as part of a regular evaluation meeting.'\n        conversation:\n        - gender: male\n          context: 部長：山田さん、今日はこれからのキャリア目標について話しましょう。山田さんは、今後どんな仕事にチャレンジしたいと考えていますか？\n        - gender: male\n          context: 山田：はい、私は今の仕事にやりがいを感じていますが、もっとチームに貢献できるようになりたいと思っています。\n        - gender: male\n          context: 部長：具体的に、どんなことを目標にしていますか？\n        questions:\n          question: What will the person pointed by the arrow (the young employee)\n            say next?\n          choices:\n          - まず、プロジェクトリーダーとしての経験を積みたいです。\n          - 会社を辞めて、海外で働きたいです。\n          - 休みを増やして、趣味の時間を増やしたいです。\n          correct_answer: 1\n          explanation: This question assesses students' ability to understand context\n            and predict a logical, professional response in a career discussion. Options\n            2 and 3 do not align with the positive and proactive tone expected in\n            a formal career goal setting within a company. Option 1 uses N3-level\n            vocabulary and is the most appropriate and realistic answer in a Japanese\n            workplace setting, reflecting ambition and willingness to contribute to\n            the team. The challenge for students is to distinguish between personal\n            wishes and suitable career goals in a business context.\n    - topic: 将来の抱負について話す\n      result:\n        image_background: The picture shows a Japanese classroom. Four students are\n          sitting together in a group, with a teacher standing nearby. One girl with\n          short hair (indicated by an arrow) is holding a sheet of paper and looks\n          a little nervous. The other students are watching her. The teacher has just\n          asked each student to talk about their “future goals” (将来の抱負).\n        conversation:\n        - gender: male\n          context: 先生：それでは、みなさん、順番に将来の抱負について話してください。まず、田中さんからお願いします。\n        - gender: female\n          context: 田中：はい。私は将来、英語の先生になりたいです。そのために、もっと英語を勉強しようと思います。\n        - gender: male\n          context: 先生：いいですね。努力してください。では、次は山本さん、どうぞ。\n        - gender: female\n          context: 山本：はい。私は、大学で経済を勉強して、将来は自分の会社を作りたいです。そのために、今から経済の本をたくさん読もうと思っています。\n        - gender: male\n          context: 先生：すばらしいですね。では、矢印の女の子、佐藤さん、次はあなたの番です。\n        questions:\n          question: このあと、矢印の女の子（佐藤さん）は何と言いますか。\n          choices:\n          - 私は日本の歴史に興味があるので、歴史の先生になりたいです。\n          - 私はサッカーが好きなので、毎日サッカーの練習をしています。\n          - 私は料理が得意なので、今度みんなにお弁当を作ります。\n          correct_answer: 1\n          explanation: この問題のポイントは、「将来の抱負」というテーマに合う答えを選ぶことです。1番は「歴史の先生になりたい」という明確な将来の目標を理由とともに述べており、N3レベルの文法や語彙が使われています。2番と3番は現在の趣味や特技について述べていますが、「将来どうなりたいか」という抱負にはなっていません。N3学習者にとって、意志や希望を表す「〜たいです」「〜ので」などの文型を理解し、将来の目標を表現できるかが問われています。また、誤答選択肢も自然な内容なので、文脈理解力と将来の抱負表現の区別が試されます。\n    - topic: 友人へのプレゼント選びについて話す\n      result:\n        image_background: In the picture, two university students are sitting at a\n          café table. One student (pointed by the arrow) looks worried and is holding\n          her smartphone, while the other is smiling and showing a small notebook.\n          On the table, there are two cups of coffee and a gift bag. The atmosphere\n          suggests they are discussing what to buy as a birthday present for a mutual\n          friend.\n        conversation:\n        - gender: female\n          context: もうすぐ佐藤さんの誕生日だけど、何をプレゼントしたらいいか、全然決められなくて困ってるの。去年はハンカチをあげたけど、今年は何か特別なものがいいなあ。\n        - gender: female\n          context: 佐藤さん、最近コーヒーにハマってるみたいだよ。コーヒーカップとかどう？\n        - gender: female\n          context: うーん、それもいいけど、他に何かアイデアあるかな。悩むなあ。\n        questions:\n          question: このあと、矢印の人は何と言いますか。\n          choices:\n          - じゃあ、コーヒーカップを見に行こうかな。\n          - やっぱり、去年と同じハンカチにしよう。\n          - もうプレゼントは買ってあるよ。\n          correct_answer: 1\n          explanation: The main challenge in this question is distinguishing between\n            the options based on the context of the conversation. The student pointed\n            by the arrow is indecisive about the gift and is considering new ideas.\n            Option 1 shows a natural next step based on the friend's suggestion. Option\n            2 contradicts her desire to choose something special and different from\n            last year. Option 3 is not logical, as she is still undecided and hasn't\n            bought anything yet. This tests careful listening and understanding of\n            nuance at the N3 level.\n    - topic: 特別な日の計画について話す\n      result:\n        image_background: There is a picture of a family of three—father, mother,\n          and their teenage daughter—sitting together at the living room table. On\n          the table are a cake box, a bouquet of flowers, and a small present. The\n          father is pointing to a calendar where today’s date is circled in red. The\n          mother, who is pointed by the arrow, is smiling and looking at her daughter,\n          who looks surprised and happy. The recording is a conversation among the\n          family members about today’s special plan.\n        conversation:\n        - gender: male\n          context: 今日は家族みんなで集まる特別な日だね。\n        - gender: female\n          context: えっ？どうして？\n        - gender: female\n          context: 今日はあなたの誕生日でしょう？\n        - gender: female\n          context: あっ、そうだった！すっかり忘れてた！\n        - gender: male\n          context: それで、今夜はみんなで外で食事しようと思ってるんだ。\n        - gender: female\n          context: （娘に向かって）\n        questions:\n          question: What will the mother say next?\n          choices:\n          - じゃあ、一緒にケーキを作りましょうか。\n          - 今日はあなたの好きなレストランに行く予定よ。\n          - 今から公園で散歩しましょう。\n          correct_answer: 2\n          explanation: The main challenge for students is to listen for key information\n            about the special day and the planned activity. The dialogue context makes\n            it clear that the family is celebrating the daughter’s birthday and the\n            father has suggested going out for dinner. Option 2 matches this context,\n            using the N3-level phrase 「行く予定」 to express a future plan. Option 1 and\n            3 mention other activities (making a cake, going for a walk) that are\n            not mentioned in the dialogue, so students need to distinguish the correct\n            future plan based on the listening.\n  - subsection_title: 即時応答 (immediate_ack)\n    description: 9問。短い会話や問いかけに対して即座に適切な返答を選ぶ。\n    question_topics:\n    - topic: バスの時刻表を尋ねる\n      result:\n        question: このあと、男の人はどうしますか。\n        explanation: この問題のポイントは、会話の流れから「次のバスは10時15分に出発しますよ」と言われた後、男の人がどうするかを考えることです。N3レベルの学習者にとって、「時刻表」「出発」「待つ」など基本的な語彙の理解が問われます。選択肢1は「すぐにバスに乗る」ですが、バスはまだ来ていません。選択肢2は「もう一度聞く」ですが、すでに答えをもらっています。したがって、正しい選択は「10時15分まで待ちます」となります。時間表現や会話の流れを正確に理解することが主なチャレンジポイントです。\n        suggestion: 3. 10時15分まで待ちます。\n        conversation:\n        - gender: male\n          context: すみません、このバス停から駅まで行くバスは何時に出ますか。\n        - gender: female\n          context: ええと、時刻表を見ますね。次のバスは10時15分に出発しますよ。\n        - gender: male\n          context: ありがとうございます。\n    - topic: 領収書を求める\n      result:\n        question: 会話を聞いて、次に男の人が何をするか、最もよいものを選びなさい。\n        conversation:\n        - gender: female\n          context: すみません、こちらでコーヒーとサンドイッチをいただきました。領収書をいただけますか？\n        - gender: male\n          context: はい、少々お待ちください。今、レジで発行しますので。\n        suggestion: 1. 男の人は領収書を発行する。\n        explanation: この問題のポイントは、「領収書をいただけますか？」という依頼に対して、男の人が「今、レジで発行します」と答えているため、次に男の人がすることは領収書の発行です。N3レベルの学習者にとって、「発行する」「領収書」などの語彙の聞き取りと、会話の流れを正確に理解することが課題となります。選択肢の中には他の店員の業務（コーヒーを作る、サンドイッチを温める）も含まれているため、聞き取りの注意力が求められます。\n    - topic: おすすめを尋ねる\n      result:\n        question: この後、男の人はどうしますか。\n        explanation: この問題のポイントは、「今から行ってみます」という男の人の発言です。これは、女の人がすすめた駅前のイタリアンレストランに行く意志を表しています。N3レベルの語彙と表現を使っていますが、「おすすめ」「行ってみます」など、聞き取りが苦手な学習者は話の流れを正確に理解できないことがあります。「おすすめを尋ねる」→「すすめられた場所に行く」という自然な流れを押さえましょう。\n        suggestion: 1. 駅の前のレストランに行く\n        conversation:\n        - gender: male\n          context: すみません、この近くでおすすめのレストランはありますか？\n        - gender: female\n          context: そうですね、駅の前に新しいイタリアンレストランができましたよ。とてもおいしいですよ。\n        - gender: male\n          context: ありがとうございます。今から行ってみます。\n    - topic: 引っ越しの準備について話す\n      result:\n        question: 男の人はこれから何をしますか。\n        conversation:\n        - gender: female\n          context: 田中さん、引っ越しの準備は進んでいますか？\n        - gender: male\n          context: まだあまりできていません。今日はまず、いらないものを捨てようと思っています。\n        - gender: female\n          context: そうですか。荷物が少なくなると、荷造りも楽になりますよね。\n        suggestion: 1. いらないものを捨てる\n        explanation: この問題の主な難しさは、「これから何をするか」という未来の行動を聞き取る点です。会話では「今日はまず、いらないものを捨てようと思っています」という発言があり、意志表現「〜ようと思っています」に注目できるかがポイントです。N3レベルの語彙「いらないもの」「捨てる」も重要です。\n    - topic: 学校や職場での一日の流れについて話す\n      result:\n        question: 次の会話を読んで、最も適切なものを一つ選びなさい。\n        conversation:\n        - gender: female\n          context: 田中さん、今日の仕事はもう終わりましたか？\n        - gender: male\n          context: はい、さっき終わりました。これから教室の掃除をします。\n        - gender: female\n          context: じゃあ、掃除が終わったら帰るんですね。\n        - gender: male\n          context: はい、そうです。\n        suggestion: 1. 田中さんは掃除の前に少し休憩します。 2. 田中さんはこれから教室の掃除をします。 3. 田中さんは掃除のあとにまた仕事をします。\n        explanation: この会話では、田中さんが「これから教室の掃除をします」と言っています。選択肢1の「休憩」や選択肢3の「また仕事をします」といった内容は会話に出てきません。田中さんの次の行動は掃除をすることなので、2が正解です。会話の流れを正確に読み取り、登場人物の次の行動を理解することがポイントです。\n    - topic: 言語学習のコツについて話す\n      result:\n        question: 会話の内容から、女の人が次に取る行動として最も適切なものを一つ選びなさい。\n        explanation: この問題は、会話の流れを理解し、アドバイスをどう受け止めて行動を変えるかを問うものです。N3レベルの「日記を書く」「ドラマを見る」「楽しみながら勉強する」といった表現が理解できるかがポイントです。選択肢も具体的に違いが分かるように設定しており、正しい選択肢を選ぶためには、会話の意図を正確に読み取る必要があります。\n        suggestion: 女の人は日本語で日記を書いたり、ドラマを見たりして勉強を続けることが最も適切です。\n        conversation:\n        - gender: female\n          context: 最近、日本語の勉強がなかなか続かなくて困っています。\n        - gender: male\n          context: そうなんですか。僕は、自分の趣味について日本語で日記を書いたり、好きなドラマを日本語で見たりしていますよ。\n        - gender: female\n          context: なるほど。楽しみながら勉強するのが大事なんですね。\n        - gender: male\n          context: ええ、毎日少しずつ続けることもポイントですよ。\n    - topic: 好きな季節について話す\n      result:\n        question: 今週末、男の人は何をしますか。\n        explanation: 男の人は「今週末も友だちと山に行くつもりです」と言っています。「紅葉を見に行く」という前の発言と合わせて、1が正解です。この問題のポイントは、「紅葉」「山に行く」「つもり」の語彙や表現を正しく理解できるかどうかです。秋の季節感や日本の文化的な行動を反映した内容で、N3レベルの学習者に適しています。選択肢も季節や会話内容に関連し、消去法だけでなく内容理解が必要となっています。\n        suggestion: 1. 山へ紅葉を見に行きます\n        conversation:\n        - gender: female\n          context: 鈴木さん、秋は何をするのが好きですか。\n        - gender: male\n          context: 僕は秋になると、よく山へ紅葉を見に行きます。きれいな葉を見ながら歩くのが楽しいです。\n        - gender: female\n          context: いいですね。秋は涼しくて散歩にちょうどいい季節ですよね。\n        - gender: male\n          context: はい。今週末も友だちと山に行くつもりです。\n    - topic: 地元の食べ物や特産品について話す\n      result:\n        question: 田中さん（女）はこの後どうしますか。\n        explanation: この問題のポイントは、会話の流れを正しく理解し、田中さん（女）が次に何をするかを推測することです。最後に田中さん（男）が「僕も買ってみようかな」と言っているので、田中さん（女）は「おすすめですよ」などとすすめる可能性が高いです。選択肢2や3は会話からは自然ではありません。N3レベルの語彙や表現を使い、ふりがなも付けて、より分かりやすくしました。\n        suggestion: 1. 男にまんじゅうをすすめる。\n        conversation:\n        - gender: male\n          context: 田中さん（女）、週末はどこか行きましたか？\n        - gender: female\n          context: はい、地元の市場（いちば）に行ってきました。新鮮（しんせん）な野菜（やさい）や果物（くだもの）、それに有名（ゆうめい）な特産品（とくさんひん）のまんじゅうを買いました。\n        - gender: male\n          context: へえ、そのまんじゅうはどんな味（あじ）ですか？\n        - gender: female\n          context: 甘（あま）くて、とてもおいしいですよ。お土産（みやげ）にも人気（にんき）なんです。\n        - gender: male\n          context: そうなんですか。今度（こんど）、僕（ぼく）も買ってみようかな。\n    - topic: 健康診断や医者への訪問について話す\n      result:\n        question: このあと、男の人は何をしますか。\n        explanation: この問題のポイントは、「これからどうするんですか？」という質問に対して、男の人が「医者に相談しに行こうと思っています」と答えていることです。したがって、男の人が次にすることは「病院に行って医者に相談する」になります。N3レベルでは、「相談する」「健康診断」などの語彙の理解と、会話の流れから次の行動を推測する力が問われます。選択肢2や3にひきずられず、会話文の意図を正確につかむことが主なチャレンジです。\n        suggestion: 1. 病院に行って医者に相談する\n        conversation:\n        - gender: female\n          context: 田中さん、最近体の調子はどうですか？\n        - gender: male\n          context: 実は、会社の健康診断で血圧が高いと言われて…。\n        - gender: female\n          context: そうなんですか。それで、これからどうするんですか？\n        - gender: male\n          context: 医者に相談しに行こうと思っています。\n"
     },
     "metadata": {},
     "output_type": "display_data"
    }
   ],
   "source": [
    "yaml_str = yaml.dump(output_data, allow_unicode=True, sort_keys=False, default_flow_style=False)\n",
    "# Display as formatted YAML\n",
    "display(Markdown(yaml_str))"
   ],
   "metadata": {
    "collapsed": false,
    "ExecuteTime": {
     "end_time": "2025-05-14T14:45:29.289054900Z",
     "start_time": "2025-05-14T14:45:29.179007800Z"
    }
   },
   "id": "43e411616ee939b1"
  },
  {
   "cell_type": "code",
   "outputs": [
    {
     "data": {
      "text/plain": "{'sections': [{'section_title': '第1部：語彙・文法',\n   'subsections': [{'subsection_title': '漢字読み (kanji_reading)',\n     'description': '8問。与えられた漢字の読み仮名をひらがなで答える。',\n     'question_topics': [{'topic': 'お気に入りのレストランについて話す',\n       'result': {'question': '下線部の語の読み方として最も適当なものを、1・2・3・4の中から一つ選びなさい。私は休日によくお気に入りのレストランに行きます。',\n        'choices': ['おきにいり', 'おきにい', 'おきあいり', 'おきにいみ'],\n        'correct_answer': 1,\n        'explanation': '「お気に入り」は「特に好きなもの」「愛着のあるもの」という意味で、日常会話や文章でよく使われる表現です。語全体の正しい読み方は「おきにいり」です。JLPT N3レベルの学習者にとっては、送り仮名を含む語の読み方を正確に覚えることが重要なポイントです。選択肢2、3、4は実際には使われない読み方なので、正しい音のつながりと送り仮名に注意して覚えましょう。'}},\n      {'topic': '地元の観光名所について話す',\n       'result': {'question': '地元の **観光名所** について話す。  1 かんこうみょうしょ  2 かんこうめいしょ  3 かんこうめいところ  4 かんこうなところ',\n        'correct_answer': 2,\n        'choices': ['かんこうみょうしょ', 'かんこうめいしょ', 'かんこうめいところ', 'かんこうなところ'],\n        'explanation': '「観光名所」はN3レベルでよく出る語彙ですが、「名所（めいしょ）」の読みが難しいと感じる学習者が多いです。「名（めい）」は「有名（ゆうめい）」などで馴染みがあっても、「所（しょ）」の音読みとの組み合わせが分かりづらいからです。また、「名所」を「みょうしょ」と読んでしまうミスや、「名」と「所」を訓読みで「めいところ」などと読んでしまうこともよく見られます。選択肢2「かんこうめいしょ」が正しい読みです。'}},\n      {'topic': '現れ',\n       'result': {'question': '次の漢字の読み方として最もよいものを、1・2・3・4から一つ選びなさい。彼の努力がついに現れとなった。',\n        'choices': ['あらわれ', 'うつれ', 'ひかれ', 'みだれ'],\n        'correct_answer': 1,\n        'explanation': '「現れ（あらわれ）」は、目に見える形で現れることや、何かが表面に出てくることを意味する名詞です。N3レベルで頻出する語彙であり、動詞「現れる（あらわれる）」の名詞形です。他の選択肢「うつれ」「ひかれ」「みだれ」は、それぞれ「移れ」「光れ」「乱れ」という意味や読みですが、「現れ」とは関係ありません。学習者が混同しやすいポイントは、「現」という漢字が「げん」「うつ（す）」など複数の読み方を持つこと、また「現れ」と「表れ（あらわれ）」の使い分けがあることです。関連語：現れる（あらわれる／to appear）、表れる（あらわれる／to become apparent）'}},\n      {'topic': '冗談',\n       'result': {'question': '次の漢字の読み方として正しいものを選びなさい。冗談は言わないでください。',\n        'choices': ['じょうたん', 'じょうだん', 'じょだん', 'じょうなん'],\n        'correct_answer': 2,\n        'explanation': '「冗談」は日常会話でよく使われるN3レベルの語彙です。「冗」は「じょう」、「談」は「だん」と読むため、正しい組み合わせは「じょうだん」となります。選択肢には、発音が似ているものや誤読しやすいものが含まれており、漢字の音読みの知識が問われます。特に「じょうたん」や「じょだん」は一見正しそうに見えるため、注意が必要です。'}},\n      {'topic': '栄養',\n       'result': {'question': '次の漢字の正しい読み方を選びなさい。栄養',\n        'choices': ['えいよう', 'えいしょく', 'せいよう', 'せいしょく'],\n        'correct_answer': 1,\n        'explanation': '「栄養（えいよう）」は、食事や健康に関する会話・文章で頻繁に使われるN3レベルの重要語彙です。「栄」は「えい」、「養」は「よう」と読むのが一般的ですが、「養」には「やしな（う）」や「いく」などの読みもあり、漢字の音読み・訓読みの区別が混乱しやすい点が学習者にとっての難しさです。また、「栄」の読みは「えい」と「さか（える）」があり、「養」は「よう」と「やしな（う）」があります。選択肢の「せいよう」は「西洋（せいよう）」の読みと混同しやすく、「せいしょく」は「生殖（せいしょく）」の読みと混同しやすい例です。また、「えいしょく」は「栄食」という熟語は一般的ではありませんが、似た音の組み合わせとして誤答例に挙げられます。このように、実際に存在する語彙や音の似た熟語と混同しやすい点が、漢字語彙問題の主な難しさとなります。'}},\n      {'topic': '豊か',\n       'result': {'question': '田中さんは都会での生活に疲れて、**自然が豊かな**町に引っ越すことにしました。次のうち、空欄に入る適切な読み方はどれですか？',\n        'choices': ['ほうふな', 'ゆたかな', 'とよかな', 'ほうかな'],\n        'correct_answer': 2,\n        'explanation': '「豊か」は「ゆたか」と読み、な形容詞（形容動詞）です。「自然が豊かな町」は、自然が十分にあって恵まれている町という意味になります。選択肢1の「ほうふな」は「豊富な」で、「ほうふ」と読む別の単語です。選択肢3「とよかな」、4「ほうかな」は誤読です。「豊か」は「豊富（ほうふ）」と混同しやすいため、漢字と言葉の使い分けに注意しましょう。主なポイントと難しさ：・「豊か」はN3レベルの重要語で、意味・読み・文法（な形容詞）を正確に押さえる必要があります。・「豊富（ほうふ）」との違いが混乱しやすいので、選択肢に入れることで識別力を問うことができます。・やや長めの文脈にすることで、文脈理解力も同時に測れます。'}},\n      {'topic': '筋肉',\n       'result': {'question': '筋肉は身体を動かすために大切な組織です。この「筋肉」の正しい読み方を選びなさい。',\n        'choices': ['きんにく', 'きんしょく', 'すじにく', 'けんにく'],\n        'correct_answer': 1,\n        'explanation': '「筋肉」はJLPT N3レベルでよく出る語彙です。漢字「筋（きん）」と「肉（にく）」を正しく組み合わせて読めるかがポイントです。「筋」は「すじ」とも読めますが、熟語では「きん」と読むことが多く、「筋肉」は「きんにく」となります。他の選択肢は間違った読み方や意味の異なる語です。漢字の訓読みと音読みの区別が難しい点が、この問題の主なチャレンジです。'}},\n      {'topic': '答案',\n       'result': {'question': 'この書類の規則をよく読んでください。次の中で「きそく」と読む漢字はどれですか？',\n        'choices': ['きそく', 'きぞく', 'きそん', 'きせつ'],\n        'correct_answer': 1,\n        'explanation': '「規則（きそく）」は「ルール」という意味で、会社や学校などでよく使われるN3レベルの重要語彙です。「きぞく（貴族）」「きそん（既存）」「きせつ（季節）」は実在する日本語の読みで、音が似ているため間違えやすいですが、意味が異なります。漢字の意味と音を正確に結びつけることがポイントです。'}}]},\n    {'subsection_title': '漢字書き取り (write_chinese)',\n     'description': '6問。ひらがなで書かれた単語を漢字で書く。',\n     'question_topics': [{'topic': 'しゅつじょう（出場）',\n       'result': {'question': '彼は毎年、マラソン大会に しゅつじょう しています。今年も参加する予定です。',\n        'choices': ['出場', '出張', '出演', '出席'],\n        'correct_answer': 1,\n        'explanation': '「しゅつじょう」は「出場」と書き、スポーツ大会やコンクールなどに参加・出ることを意味します。選択肢2「出張」は仕事のために他の場所へ行くこと、選択肢3「出演」は舞台やテレビなどに出ること、選択肢4「出席」は会議や授業などに出ることを指し、いずれも「出場」とは意味が異なります。この問題では、似た読みや漢字を持つ語句が並んでいるため、文脈をよく読み取り、語彙の正確な使い分けができるかがポイントとなります。特に「出張」や「出演」など、日常でもよく使われる語と混同しやすいため、意味の違いをしっかり理解しているかを問う良問です。'}},\n      {'topic': 'しょくひん（食品）',\n       'result': {'question': '【指示】下線部のことばの正しい漢字表記を、1～4の中から一つ選びなさい。このスーパーでは新鮮な しょくひん がたくさん売られています。',\n        'choices': ['食品', '食員', '食品物', '食員品'],\n        'correct_answer': 1,\n        'explanation': '「食品」はN3レベルで頻出する語彙です。類似する漢字語が多いので注意が必要です。'}},\n      {'topic': 'せつやく（節約）',\n       'result': {'question': '家計のために せつやく を心がけています。正しい漢字表記を選んでください。',\n        'choices': ['節約', '節約化', '節税', '節約費'],\n        'correct_answer': 1,\n        'explanation': 'この問題のポイントは、「せつやく」という日常的な言葉に対して、正しい漢字表記を選ばせることです。 「節約（せつやく）」は「無駄遣いをしないで控えること、倹約すること」という意味で、N3の重要単語です。 選択肢2「節約化」は実際には使われない表現で、語尾の「化」がついていることで迷わせます。 選択肢3「節税」は「税金を節約すること」で、意味が異なりますが、似た漢字なので混同しやすいです。 選択肢4「節約費」も実際には使われない表現で、「費」がつくことで「費用」と混同しやすくなっています。 漢字の組み合わせや意味の違いに注意する必要があり、N3レベルの漢字力と語彙力を問う良問です。'}},\n      {'topic': 'けんこう（健康）',\n       'result': {'question': '次の文の（\\u3000\\u3000\\u3000）に入る正しい漢字を、1～4の中から一つ選びなさい。毎日運動をして、（けんこう）に気をつけています。',\n        'choices': ['健考', '健康', '建康', '健体'],\n        'correct_answer': 2,\n        'explanation': '「けんこう」に正しく対応する漢字は「健康」です。1の「健考」は実際には存在しない熟語ですが、読みが似ているため迷いやすい選択肢です。3の「建康」は中国の地名で、日本語では一般的に使われません。4の「健体」は「けんたい」と読み、「健康な体」という意味を持ちますが、「けんこう」とは読みません。このように、似た漢字や読み方に注意して、正しい語彙知識を身につけることが大切です。N3レベルでは、日常会話や文章で頻出する語彙の正しい漢字表記を問うことが重要です。似た漢字や意味が近い単語が多く、混乱しやすいので、文脈と漢字の意味・読み方の両方を確認しましょう。また、日本語学習者にとっては、日本語で一般的に使われる表現かどうかも判断のポイントとなります。'}},\n      {'topic': 'しゅうにゅう（収入）',\n       'result': {'question': '彼は毎月の しゅうにゅう が安定しています。',\n        'choices': ['収入', '所得', '収納', '入収'],\n        'correct_answer': 1,\n        'explanation': '「しゅうにゅう」の正しい漢字は「収入」です。他の選択肢も似た意味や読みを持つ熟語ですが、意味や使い方が異なります。「所得」は収入から経費などを差し引いた残りの金額、「収納」は物やお金をしまうこと、「入収」は実際には使われない言葉です。N3レベルでは、音読みの熟語で紛らわしいものが多いため、意味と正しい漢字の組み合わせを覚えているかが問われます。'}},\n      {'topic': 'かんしゃ（感謝）',\n       'result': {'question': '田中さんには、いつも助けてもらっているので、心から かんしゃ の気持ちを伝えました。',\n        'choices': ['感情', '感謝', '感激', '感想'],\n        'correct_answer': 2,\n        'explanation': 'この問題では、「かんしゃ」の正しい漢字を選ぶことが求められています。「感謝」は、誰かの親切や助けに対して「ありがたい」と思う気持ちを表す言葉です。選択肢には「感情（かんじょう）」「感激（かんげき）」「感想（かんそう）」など、意味が似ているように見える語が並んでいるため、文の内容をよく読んで正しい言葉を選ぶ必要があります。「感謝」は「ありがとう」と同じ気持ちを表す時に使います。'}}]},\n    {'subsection_title': '語彙意味選択 (word_meaning)',\n     'description': '11問。下線部の語の意味に最も近いものを選ぶ。',\n     'question_topics': [{'topic': '必死',\n       'result': {'question': '次の文の（\\u3000）に入る最も適切な漢字を、1～4の中から一つ選びなさい。彼は試験に合格するために、毎日（\\u3000）に勉強している。',\n        'choices': ['必至', '必死', '必須', '決死'],\n        'correct_answer': 2,\n        'explanation': 'この問題は、「ひっし」という同じ読みを持つ漢字語彙の中から、文脈に合う正しい漢字を選ぶ問題です。「必死」は「死ぬ覚悟で全力を尽くすこと」という意味で、日常的に「必死に勉強する」「必死に働く」など、何かに全力で取り組む様子を表します。選択肢の「必至」は「必ずそうなること」、「必須」は「必ず必要なこと」、「決死」は「死を決する覚悟」という意味で、主に戦いや非常に危険な状況で使われます。したがって、日常的な努力や勉強の場面では「必死」が最も適切です。この問題のポイントは、同音異義語の意味と使い方の違いを正確に理解しているかどうかです。「決死」は意味が似ていますが、日常の努力には通常使わないため、そこを区別できるかが重要です。'}},\n      {'topic': '調子',\n       'result': {'question': '次の文の（\\u3000）に入る正しい漢字を、下の1〜4から一つ選びなさい。最近、体のちょうしがよくないので、今日は早く寝ようと思います。',\n        'choices': ['調市', '調子', '調氏', '調子子'],\n        'correct_answer': 2,\n        'explanation': 'この問題は、「調子」の正しい漢字表記を選ばせるものです。N3レベルの学習者にとって、「調」「子」は基本的な漢字ですが、他の選択肢も見た目が似ていたり、日常で使う漢字の組み合わせなので混乱しやすいです。特に「市」「氏」などはよく目にするため、正確な語彙知識が問われます。「調子」は「物事や体の状態・具合」の意味で、日常会話でも頻出する重要語です。'}},\n      {'topic': '破産',\n       'result': {'question': '長年の赤字経営が続き、ついに会社が（はさん）することになった。',\n        'choices': ['破滅', '破産', '破損', '破格'],\n        'correct_answer': 2,\n        'explanation': '「破産（はさん）」は、借金などの支払いができなくなり、財産を失うことを意味します。他の選択肢は意味や読みが似ていますが、文脈に合いません。- 「破滅（はめつ）」はすべてを失うこと- 「破損（はそん）」は壊れること- 「破格（はかく）」は基準から外れること。N3受験者は、漢字の意味と読みの混同に注意しましょう。特に「破損」「破滅」など似た語との区別がポイントです。'}},\n      {'topic': '争う',\n       'result': {'question': '彼らは優勝を目指してお互いに（あらそう）ことになった。',\n        'choices': ['競走', '競う', '争う', '争議'],\n        'correct_answer': 2,\n        'explanation': 'この文脈では「優勝を目指してお互いに（あらそう）」の意味は「互いに勝とうとして競争する」という意味になります。そのため、正しい漢字は「競う（きそう）」です。「争う（あらそう）」は「けんかする」「対立する」などのニュアンスが強く、スポーツや勝負での「競い合う」場面では「競う」が自然です。「競走（きょうそう）」は「走る競技」の意味、「争議（そうぎ）」は「もめごと」「争いごと」を指します。N3レベルでは「争う」と「競う」の意味や使い分けを正しく理解することが大切です。'}},\n      {'topic': '題名',\n       'result': {'question': 'この本のタイトルとして正しい言葉を選びなさい。',\n        'choices': ['題目', '題名', '表題', '標題'],\n        'correct_answer': 2,\n        'explanation': '「題名」（だいめい）は、本や映画、作品などのタイトルを意味します。選択肢の「題目」は主題や課題を指し、「表題」「標題」はどちらも見出しやタイトルの意味がありますが、一般的に本や作品のタイトルには「題名」が最も適切です。特に「表題」「標題」は書類や章のタイトルなど、使われる場面が異なります。似た語彙が多いため、文脈に合った正しい語を選ぶ力が求められる問題です。'}},\n      {'topic': '要素',\n       'result': {'question': 'この文章の（\\u3000）に入る正しい漢字を選びなさい。科学の授業で、水は酸素と水素という二つの（\\u3000）からできていると習いました。',\n        'choices': ['要因', '要素', '要点', '要約'],\n        'correct_answer': 2,\n        'explanation': 'この問題のポイントは、「ようそ」という読みから適切な漢字を選ぶことです。N3レベルの学習者にとって、「要素」「要因」「要点」「要約」など似た読み・意味の語が混乱しやすいです。「要素」は「ものごとを成り立たせている基本的な内容や成分」という意味で、この文脈に合います。他の選択肢は、原因（要因）、要点（main point）、要約（summary）と意味が異なるため、正しく区別できるかがポイントです。'}},\n      {'topic': '湿気',\n       'result': {'question': '梅雨の時期は、部屋の中に「しっけ（しっけ）」がたまりやすいので注意が必要です。次のうち、空気や物に含まれる水分のことを指す言葉はどれですか？',\n        'choices': ['湿度', '湿気', '湿度計', '湿布'],\n        'correct_answer': 2,\n        'explanation': 'この問題の正解は「湿気」です。「しっけ」は空気や物に含まれる水分のことを指し、梅雨の時期によく使われる語です。選択肢1「湿度（しつど）」は空気中の水分量をパーセントで表す言葉で、意味が異なります。選択肢3「湿度計（しつどけい）」は湿度を測る道具です。選択肢4「湿布（しっぷ）」は、けがや痛みに貼る薬です。音が似ている語も多く、読みと意味の区別がN3学習者には難しいポイントです。文脈から正しい語を選ぶ練習をしましょう。例文：・雨の日は湿気が多くて、髪の毛がまとまりません。・この部屋は湿気がたまりやすいので、換気をしてください。教師コメント：「湿気」は日本の生活や気候に密接な語彙であり、日常会話でも頻繁に使われます。問題文にふりがなをつけることで、学習者が漢字と読みを結びつけやすくなります。似た音の語との違いを意識しながら学習しましょう。'}},\n      {'topic': '努力',\n       'result': {'question': '彼は試験に合格するために毎日「どりょく」している。',\n        'choices': ['動力', '努力', '労働', '勤勉'],\n        'correct_answer': 2,\n        'explanation': 'この問題は、「どりょく」の正しい漢字表記を選ぶものです。- 「動力」（どうりょく）は機械などを動かす力を意味し、意味も読みも異なります。- 「労働」（ろうどう）は仕事や働くことを指し、「どりょく」とは読みません。- 「勤勉」（きんべん）は「まじめに努力すること」を意味しますが、読みも異なります。- 「努力」が正しい漢字表記で、「どりょく」と読みます。この問題の難しさは、似た意味や形の語が多い点にあります。N3レベルでは「努力」「労働」「勤勉」など、意味が近い語の漢字と読みの結びつきを正確に覚える必要があります。誤答選択肢も実際によく使われる語彙で、学習者の語彙力を適切に測ることができます。'}},\n      {'topic': '礼儀',\n       'result': {'question': '彼はとても（れいぎ）正しい人なので、みんなに好かれています。',\n        'choices': ['礼義', '礼儀', '例儀', '礼技'],\n        'correct_answer': 2,\n        'explanation': 'この問題は「れいぎ」の正しい漢字表記を選ぶ問題です。「礼儀」は社会的なマナーやルールを示す語で、N3レベルでよく出ます。選択肢の「義」「儀」「技」はそれぞれ意味が異なるので注意しましょう。特に「儀」と「義」は混同しやすいですが、「礼儀」が正解です。'}},\n      {'topic': '資本',\n       'result': {'question': '次の文の（\\u3000）に入る言葉として、最も適切な漢字を1つ選びなさい。新しい会社を作るためには、多くの「しほん」が必要です。',\n        'choices': ['資産', '資本', '資源', '資金'],\n        'correct_answer': 2,\n        'explanation': '「資本（しほん）」は、会社や事業を始めるときの元手となるお金や財産を意味します。他の選択肢も似た漢字ですが、「資産（しさん）」は持っている財産全体、「資源（しげん）」は自然や社会の中で使えるもの、「資金（しきん）」は使うためのお金のことです。それぞれ意味が違うので、文の内容に合う「資本」が正解です。'}},\n      {'topic': '特徴',\n       'result': {'question': '次の文の（\\u3000）に入る最も適切な漢字を、1～4の中から一つ選びなさい。彼の話し方には独特の（とくちょう）があるので、すぐに本人だとわかります。',\n        'choices': ['特徴', '特長', '特性', '特質'],\n        'correct_answer': 1,\n        'explanation': '「特徴」は、他と区別できる目立った点や性質を指します。例えば、「この鳥の特徴は赤いくちばしです」のように使います。「特長」は、他よりも優れている点を指し、「この車の特長は燃費が良いことです」といった使い方をします。「特性」は、物や人が本来持っている性質や傾向を指します（例：水の特性は100度で沸騰すること）。「特質」は、特に目立つ性質や特徴的な性格を強調する場合に使われます（例：彼の特質は忍耐強さです）。この文脈では、「独特の～がある」は「特徴」が最も適切です。特に「特徴」と「特長」の使い分けはN3レベルで重要なポイントとなります。'}}]},\n    {'subsection_title': '同義語置き換え (synonym_substitution)',\n     'description': '5問。文中の語句を同じ意味の語に置き換える。',\n     'question_topics': [{'topic': '現代',\n       'result': {'question': 'この小説は（現代）の若者について書かれています。',\n        'choices': ['現在', '近代', '古代', '未来'],\n        'correct_answer': 1,\n        'explanation': '「現代（げんだい）」は「今の時代」「現在」という意味で使われます。「現在（げんざい）」は「今」という意味で、「現代」と非常に近い意味を持つため、最も適切な選択肢です。「近代（きんだい）」は歴史的に見ると「明治時代から第二次世界大戦ごろまで」を指し、「現代」とは異なります。「古代（こだい）」は昔の時代、「未来（みらい）」はこれからの時代なので文脈に合いません。N3レベルの学習者にとっては、「現代」と「近代」を混同しやすいので、正確な意味の違いに注意しましょう。'}},\n      {'topic': '種類',\n       'result': {'question': 'この店にはいろいろな種類のパンがあります。この文の「種類」と最も近い意味の言葉はどれですか。',\n        'choices': ['形', 'タイプ', '重さ', '時間'],\n        'correct_answer': 2,\n        'explanation': '「種類」は、性質や特徴によって分けられたグループやカテゴリーを表す言葉です。「タイプ」も同じように、形や性質によって分けられたグループを指します。「形」は見た目、「重さ」は量、「時間」は時刻や期間を表すため、「種類」とは意味が異なります。カタカナ語の「タイプ」もN3レベルでよく使われるので、文脈から正しい意味を選ぶ必要があります。受験者にとっては、似ている言葉の中から文に合うものを選ぶ力が問われる問題です。'}},\n      {'topic': '完全',\n       'result': {'question': '次の文の「完全」と最も近い意味の言葉を選びなさい。この計画は完全に成功した。',\n        'choices': ['しっかり', 'すべて', 'まったく', 'かんたんに'],\n        'correct_answer': 3,\n        'explanation': '「完全」は「欠けているところがなく、すべてがそろっていること」を意味し、「まったく」も「すべて」「完全に」という意味で使われます。N3レベルでは「しっかり（firmly）」「すべて（all）」「かんたんに（easily）」もよく出る言葉ですが、文脈的に「完全に成功した」は「まったく成功した」と言い換えられます。主な難しさは、「すべて」も「全部」という意味があるため、選択肢として迷いやすい点です。しかし、「完全に」は「まったく」「徹底的に」といった副詞がより近い意味となります。'}},\n      {'topic': '冷やす',\n       'result': {'question': '冷蔵庫でジュースを冷やしておきました。次の中から、「冷やす」の意味に最も近いものを選びなさい。',\n        'choices': ['あたためる', 'こおらせる', '冷たくする', 'さます'],\n        'correct_answer': 3,\n        'explanation': 'この問題は、「冷やす」の意味を正しく理解し、似ている語彙と区別できるかどうかを問うものです。「冷やす」は、物の温度を下げて冷たくすることを表します。選択肢3「冷たくする」が最も近い意味です。選択肢4「さます」は、熱いものを適温に下げる場合に使うため、必ずしも冷たくするとは限りません。選択肢2「こおらせる」は「凍らせる」こと、選択肢1「あたためる」は反対の意味です。N3レベルでは、「冷やす」「さます」「冷たくする」などの使い分けが難しいため、意味の違いに注意しましょう。'}},\n      {'topic': '自然',\n       'result': {'question': '次の文の（\\u3000）に入る言葉と最も意味が近いものを、1～4の中から一つ選びなさい。休日には（自然）の中で散歩するのが好きです。',\n        'choices': ['人工', '天然', '文化', '都会'],\n        'correct_answer': 2,\n        'explanation': 'この文での「自然」は「人の手が加わっていない、ありのままの環境」という意味です。「天然」も「自然にできたもの、人が作ったものではない」という意味で、最も近いです。「人工」は「人が作ったもの」、「文化」は人間が作り出したものや活動、「都会」は都市のことなので、文脈から外れます。N3受験者は「自然」と「天然」の違いを正確に理解するのが難しい場合がありますが、この文脈では「自然＝天然の環境」と推測できるようにしました。「人工」「文化」「都会」は意味が異なるため、混乱しにくいですが、似た意味の語彙（天然）と対比語（人工）を含めることで、語彙力と読解力の両方を測ることができます。'}}]},\n    {'subsection_title': '語彙使い方 (word_usage)',\n     'description': '5問。語彙の使い方として正しい文を選ぶ。',\n     'question_topics': [{'topic': '保存',\n       'result': {'question': '次の文の中で、「保存」の用法として最も適切なものを一つ選びなさい。①\\u3000この美術館では、貴重な絵画を長い間きれいなまま保存しています。②\\u3000昨日のパーティーで使ったお皿を保存してから、もう一度洗いました。③\\u3000友達に手紙を保存したので、すぐに読んで返事を書きました。④\\u3000新しい靴を保存して、明日から毎日履くことにします。⑤\\u3000パソコンで作ったファイルをUSBに保存しておきました。',\n        'choices': ['①\\u3000この美術館では、貴重な絵画を長い間きれいなまま保存しています。',\n         '②\\u3000昨日のパーティーで使ったお皿を保存してから、もう一度洗いました。',\n         '③\\u3000友達に手紙を保存したので、すぐに読んで返事を書きました。',\n         '④\\u3000新しい靴を保存して、明日から毎日履くことにします。',\n         '⑤\\u3000パソコンで作ったファイルをUSBに保存しておきました。'],\n        'correct_answer': [1, 5],\n        'explanation': '「保存」は、物やデータなどの状態を変えずに長く保つ場合に使います。①は、美術館で絵画を良い状態で保っている文脈で、最も基本的な使い方です。⑤は、IT分野で「データを保存する」という現代的な使い方で、N3レベルでも重要な例です。②や④は「保管」「しまう」が自然な表現です。③は、手紙を「保存する」という表現も場合によっては使えますが、「すぐに読む」という文脈では不自然です。'}},\n      {'topic': '拍手',\n       'result': {'question': '次の文の中で、「拍手（はくしゅ）」の使い方として最も適切なものをすべて選びなさい。',\n        'choices': ['先生が教室に入ってきたとき、みんなで拍手しました。',\n         '昨日の晩ご飯は、とてもおいしくて家族で拍手しました。',\n         '神社でお参りするとき、まず拍手（はくしゅ）をしてからお願いごとをします。',\n         '友達の誕生日に、みんなで拍手をしながら歌を歌いました。'],\n        'correct_answer': [1, 4],\n        'explanation': '1は、先生が入ってきたときに歓迎や感謝の気持ちを表すために「拍手」する、自然な使い方です。4は、誕生日のお祝いの場面で、みんなで歌いながら「拍手」するのもよくある使い方です。2は、「拍手」が賞賛や歓迎、祝福の場面で使われるのが一般的であり、食事が美味しかっただけで家族で拍手するのは、特別なイベント（例：料理コンテストやパーティ）を除き、日常的な日本の習慣としては自然ではありません。3は、神社で手を打つ行為は「柏手（かしわで）」と呼ばれ、神道の作法です。一般的な「拍手」とは目的や意味が異なります。日本語の文脈では「柏手」と「拍手」を区別する必要があり、ここで「拍手」を使うのは不適切です。'}},\n      {'topic': '要点',\n       'result': {'question': '次の文のうち、「要点」の使い方として最も適切なものをすべて選びなさい。',\n        'explanation': '「要点」は「物事の中心となるところ、重要な点」という意味で、話・ニュース・スピーチなど抽象的内容の大切な部分に使います。1、2、3は正しい使い方ですが、4は「家」など物理的な対象には使いません。',\n        'correct_answer': [1, 2, 3],\n        'choices': ['この話の要点をまとめてください。',\n         '今朝のニュースの要点をノートに書きました。',\n         '彼女のスピーチは長かったが、要点はよく伝わった。',\n         '家の要点をきれいに掃除してください。']}},\n      {'topic': '礼儀',\n       'result': {'question': '次の文の中で、「礼儀」の正しい使い方はどれですか。',\n        'choices': ['彼は礼儀が正しいので、誰に対してもていねいに話します。',\n         'この料理は礼儀が強くて、少し苦い味がします。',\n         '昨日の会議では、礼儀を使ってパソコンの問題を解決しました。',\n         '山田さんは礼儀を集めるのが趣味で、たくさん持っています。'],\n        'correct_answer': 1,\n        'explanation': 'この問題の主な難しさは、「礼儀」という語が人間関係や社会生活で守るべき行動様式やマナーを指すことを理解しているかどうかです。2～4の選択肢は、「礼儀」という語の意味から外れています（2は味に使う表現、3は道具のように使っている、4は物を集める趣味のように使っている）。「礼儀が正しい」は日本語の固定表現であり、N3レベルの学習者が正しい文脈で使えるかを問う良問です。'}},\n      {'topic': '順調',\n       'result': {'question': '次の文の中で、「順調」の使い方として最も適切なものを一つ選びなさい。',\n        'choices': ['新しいプロジェクトは、今のところ順調に進んでいます。',\n         '今日は順調な天気なので、ピクニックに行きましょう。',\n         '彼から順調な返事をもらって、安心しました。',\n         'この店は順調な料理がたくさんあります。'],\n        'correct_answer': 1,\n        'explanation': '「順調」は「物事が予定通りに、問題なく進むこと」を意味します。特に「順調に進む」「順調な経過」など、仕事や計画、進行状況に対して使われる表現です。1は「プロジェクトが順調に進む」という、もっとも一般的で自然な使い方です。2の「順調な天気」は不自然で、「天気がいい」「天候に恵まれて」などが自然です。3の「順調な返事」も不自然で、「返事が早い」「返事がスムーズ」などが適切です。4の「順調な料理」という表現は日本語として使いません。「順調」は「進む」「経過」「回復」「推移」など、進行や状態の良さを表す名詞とよく組み合わせて使います。物や天気、返事などには直接使わないので、コロケーション（よく使われる言葉の組み合わせ）に注意しましょう。'}}]},\n    {'subsection_title': '文法穴埋め (sentence_grammar)',\n     'description': '13問。空欄に入る最も適切な語句や助詞を選ぶ。',\n     'question_topics': [{'topic': '店で価格を尋ねる',\n       'result': {'question': '（店で）次の会話の空欄に入る最も適切な語を、下の1～4から一つ選びなさい。客：「すみません、この商品の値段を（\\u3000\\u3000\\u3000）いただけますか。」',\n        'choices': ['教えて', '話して', '聞いて', '書いて'],\n        'correct_answer': 1,\n        'explanation': 'この文では、「～ていただけますか」という丁寧な依頼表現を使っています。「教えていただけますか」は「教える」の「て形」＋「いただけますか」で、「教えてください」よりも丁寧な表現です。「話して」や「聞いて」「書いて」は意味が合わず、不自然です。「教えて」を使うことで、店員に商品の値段を丁寧に尋ねることができます。N3レベルでは、「～ていただけますか」や「～てくれますか」などの依頼表現がよく問われます。正しい「て形」を使えるかどうかがポイントです。'}},\n      {'topic': '助詞',\n       'result': {'question': '以下の文の（\\u3000）に入る最も適切な助詞を1つ選びなさい。私は毎朝7時（\\u3000）起きて、学校に行きます。',\n        'choices': ['に', 'で', 'へ', 'と'],\n        'correct_answer': 1,\n        'explanation': '「に」は特定の時刻や場所、目的地を表す格助詞として使われます。この文では「7時」という特定の時刻に起きることを表しているため、「に」が正しいです。他の選択肢について：- 「で」は場所や手段を表します（例：教室で勉強する）。- 「へ」は方向・目的地を示します（例：学校へ行く）。- 「と」は「一緒に」などの意味で使います（例：友達と話す）。類似例文：- 毎晩10時に寝ます。- 8時に家を出ます。このように、時刻を表す場合は必ず「に」を使うことを覚えましょう。'}},\n      {'topic': 'キャリア目標について話す',\n       'result': {'question': '（面接練習） 面接官：「あなたのキャリア目標について教えてください。」 あなた：「はい、私のキャリア目標は、3年後にはプロジェクトリーダーとしてチームをまとめ、会社の売上に貢献できるようになることです。そのために、今は業務に必要な知識やスキルを（\\u3000\\u3000\\u3000\\u3000\\u3000）、毎日勉強しています。」 （\\u3000\\u3000）に入る最も適切な語句を選びなさい。',\n        'choices': ['身につけるようにして', '身につけるために', '身につけて', '身につけたあとで'],\n        'correct_answer': 2,\n        'explanation': 'この文では、「目的」を表す表現が必要です。「～ために」は、「…する目的で」「…するために」という意味で、目標に向かって努力する姿勢を表します。他の選択肢は文脈に合いません。N3レベルでは、「～ために」の使い方を正確に理解し、目的を表す文を作れるかがポイントです。特に「ようにして」や「て」など、手段や継続・結果を表す表現との違いに注意が必要です。'}},\n      {'topic': '場合',\n       'result': {'question': '次の文の（\\u3000\\u3000\\u3000）に入る最も適切な語句を、1～4の中から一つ選びなさい。（会社の案内）「火事や地震が起こった（\\u3000\\u3000\\u3000）、落ち着いて行動してください。」',\n        'choices': ['こと', '場合', '時', 'もの'],\n        'correct_answer': 2,\n        'explanation': '「場合」は「もし～のような状況が起きたとき」という意味で、公式な案内や指示文でよく使われます。「時」も似た意味ですが、より一般的な表現であり、「場合」の方が条件や状況を強調できます。「こと」「もの」はこの文脈には合いません。'}},\n      {'topic': '程度',\n       'result': {'question': '先生：「みなさんの日本語の（\\u3000\\u3000\\u3000）は、前よりずっと上がっていますね。」この文に入る最も適切な言葉はどれですか。',\n        'choices': ['程度', '具合', '様子', '状態'],\n        'correct_answer': 1,\n        'explanation': 'この文では、「みなさんの日本語の（\\u3000\\u3000\\u3000）は、前よりずっと上がっていますね。」という表現から、何がどのくらい上がったのかを問うています。「程度」は「レベル」や「どのくらいか」という意味で、能力や知識の高さを表すときによく使います。他の選択肢「具合」「様子」「状態」は、体調や状況、見た目などを表す言葉であり、「日本語の（\\u3000\\u3000\\u3000）が上がる」という文脈には適しません。この問題の主なチャレンジは、「程度」と他の似た意味の語彙（具合、様子、状態）との違いを理解し、正しく使い分けることです。N3レベルの学習者にとっては、抽象的な語彙の使い分けが難しいポイントとなります。'}},\n      {'topic': '状態',\n       'result': {'question': '（病院にて）医者：「こんにちは。最近、体の（\\u3000\\u3000\\u3000）はどうですか。どこか痛いところはありませんか？」',\n        'choices': ['具合', '状態', '事情', '理由'],\n        'correct_answer': 1,\n        'explanation': '「体の具合」は、医者や家族が体調を尋ねるときによく使われる自然な表現です。日常会話や医療現場では、「体の具合が悪い」「具合はどうですか」のように使われます。「状態」も意味は通じますが、より医学的・客観的なニュアンスが強く、診断書や報告書などで使われる傾向があります。N3レベルでは、会話の場面では「具合」を優先して使うことを学びましょう。使い分け例- 「最近、体の具合はどうですか？」（日常会話・医者が患者に）- 「患者の健康状態を記録します。」（報告・記録などやや硬い表現）この問題の主な難しさは、「具合」と「状態」の意味の違いと使い分けを理解することにあります。どちらもN3レベルで学ぶ重要な語彙ですが、場面によって適切な語を選ぶ力が求められます。'}},\n      {'topic': '内容',\n       'result': {'question': '【指示】次の会話文を読んで、（\\u3000\\u3000\\u3000）に入る最も適切な語を1つ選びなさい。（会議にて）部長：「この企画書の（\\u3000\\u3000\\u3000）を、もう一度確認してから提出してください。」',\n        'choices': ['内容', '形式', '理由', '結果'],\n        'correct_answer': 1,\n        'explanation': '「内容」は「中身」や「具体的な情報」という意味で、文書や企画書などの「何が書かれているか」を指します。「形式」は「書き方」や「フォーマット」、「理由」は「なぜそうしたか」、「結果」は「どうなったか」を表します。この文脈では、「企画書の内容を確認する」が最も自然です。例文：- レポートの内容を確認してください。- テストの形式が変わりました。'}},\n      {'topic': '判断',\n       'result': {'question': '（\\u3000\\u3000\\u3000）に入る正しい言葉を選びなさい。（会議室）部長：「このプロジェクトを続けるかどうかは、今週中に（\\u3000\\u3000\\u3000）してください。」',\n        'choices': ['判断して', '判断し', '判断する', '判断した'],\n        'correct_answer': 1,\n        'explanation': '「〜してください」という依頼表現では、動詞の「て形」が必要です。「判断する」の「て形」は「判断して」なので、正解は1番です。他の選択肢は依頼の文型として使えません。学習者がつまずきやすいポイント：サ変動詞「判断する」の「て形」活用に注意が必要です。「て形＋ください」の依頼表現は頻出ですが、語幹や「し」「する」「した」と混同しやすいので、正しい活用を確認しましょう。補足例文：早く返事してください。よく考えてください。注意してください。'}},\n      {'topic': '条件',\n       'result': {'question': '部長：「このプロジェクトに参加したい人は、英語が話せることが（\\u3000）です。」',\n        'choices': ['条件', '理由', '方法', '目的'],\n        'correct_answer': 1,\n        'explanation': 'この文では、「英語が話せること」が「プロジェクトに参加したい人」にとって必要な事項であることを表しています。「条件」は、あることが成立するために必要な事柄を指します。他の選択肢「理由」「方法」「目的」は文脈に合いません。N3レベルの学習者にとって、「条件」という語の意味や使い方、特に「～が条件です」という表現に慣れることがポイントです。また、日常会話やビジネスの場面でよく使われる表現なので、語彙の定着が大切です。'}},\n      {'topic': '関する',\n       'result': {'question': 'この説明会は、留学生の生活（\\u3000\\u3000\\u3000\\u3000\\u3000）重要な情報を提供します。',\n        'choices': ['に関する', 'に対する', 'について', 'に関して'],\n        'correct_answer': 1,\n        'explanation': '「～に関する＋名詞」は、「～に関連する」という意味で、公式な文書や案内などでよく使われる硬い表現です。「～について」は「～についての＋名詞」の形で使い、より口語的・柔らかい印象になります。例：留学生の生活についての説明（やや口語的）、日本の文化についての本（一般的な使い方）「に対する」は「Aに対するB」（Aに向けたB）となり、対象を示します。例：留学生に対する支援「に関して」は「に関して話す」など動詞を修飾する場合によく使われますが、名詞を直接修飾する場合は「に関する」の方が一般的です。ただし、口語では「に関しての情報」も使われます。N3レベルの学習者は「に関する」と「について」の違いでよく混乱します。特に、「に関する＋名詞」と「についての＋名詞」の使い分けがポイントです。また、「に対する」や「に関して」など似た表現も多いため、文脈に合った選択ができるかが問われます。'}},\n      {'topic': '比較',\n       'result': {'question': '次の文の（\\u3000）に入る最も適切な語句を１～４の中から一つ選びなさい。私の家の冷蔵庫は、新しい冷蔵庫（\\u3000）音が静かです。',\n        'choices': ['より', 'しか', 'だけ', 'でも'],\n        'correct_answer': 1,\n        'explanation': 'この文は「比較」の文型を問う問題です。「AはBより～です」は「A is more ~ than B」という意味で、N3レベルで頻出の表現です。「新しい冷蔵庫より、私の家の冷蔵庫の方が音が静かです」と主語を明示すると、比較の関係がより分かりやすくなります。「より」は比較対象を示す助詞で、他の助詞（「しか」「だけ」「でも」）はこの文脈で使えません。学習者は、これらの助詞の使い分けをよく練習する必要があります。特に「より」と「だけ」などは混同しやすいので、注意しましょう。'}},\n      {'topic': '場合',\n       'result': {'question': '（\\u3000）に入る最も適切な語を選びなさい。（教室にて）先生：「授業中に体調が悪くなった（\\u3000\\u3000\\u3000）、すぐに私に言ってください。」',\n        'choices': ['とき', '場合', 'もの', 'こと'],\n        'correct_answer': 2,\n        'explanation': '「場合」は、ある条件や仮定が成立したときに、そのときどうするかを述べるときに使う表現です。「〜場合（は）」の形で、もしそのような状況になったら、という意味になります。一方、「とき」は単に特定の時間や瞬間を表しますが、「場合」は条件や仮定を強調したいときに使います。この文では、「授業中に体調が悪くなったとき」というよりも、「もしそのような状況になったら」という条件を伝えたいので、「場合」が最も適切です。'}},\n      {'topic': '原因',\n       'result': {'question': '（病院にて）医者：「最近、体の調子が悪いそうですね。どんな（\\u3000）で来院されましたか。」',\n        'choices': ['原因（げんいん）', '理由（りゆう）', '症状（しょうじょう）', '動機（どうき）'],\n        'correct_answer': 1,\n        'explanation': 'この文では「どんな（\\u3000）で来院されましたか。」と、患者が病院に来たきっかけやもとになったことを尋ねています。「原因」は「物事を引き起こすもと」という意味で、体調不良や病気の「もと」になった出来事や状態を表すときに使います。「理由」は「自分の考えや選択の説明」に使うことが多く、例えば「どうしてその病院を選びましたか」という質問には合いますが、体の不調の「もと」を聞く場合には自然ではありません。「症状」は「体にどんな変化や異常があるか」を表す語で、「どんな症状がありますか」という使い方になります。「動機」は「行動を起こす気持ちや目的」を表し、主に犯罪や就職活動などの文脈で使われ、「病院に来た動機」とはあまり言いません。したがって、この文脈では「原因」が最も適切な語です。N3レベルの学習者は「原因」と「理由」の違いを混同しやすいです。また、「症状」や「動機」といった似た語彙も出題することで、より深い語彙理解と正しい使い分けが求められます。文脈をしっかり読む力と、語彙の意味の違いを意識させることがポイントです。'}}]},\n    {'subsection_title': '文の並べ替え (sentence_sort)',\n     'description': '5問。バラバラになった文を正しい順番に並べる。',\n     'question_topics': [{'topic': '感謝',\n       'result': {'question': '次の文の★の部分にくる文を、正しい順序に並べかえてください。先生に__★_、私は日本語の勉強を続けることができました。',\n        'choices': ['1. 助けていただいたおかげで',\n         '2. 日本語の勉強を',\n         '3. 続けることができました',\n         '4. 私は'],\n        'correct_answer': 1,\n        'explanation': '「助けていただいたおかげで」は「原因・理由」を表し、主節（私は日本語の勉強を続けることができました）の前に置くのが自然です。「私は日本語の勉強を続けることができました」という主節の語順もN3レベルでよく問われます。この問題のポイントは、「おかげで」の前に感謝の対象となる行為（助けていただいた）が来て、主節（結果）が後ろに来るという日本語の自然な語順を理解することです。'}},\n      {'topic': '決心',\n       'result': {'question': '次の文の__★__に入る最も適切なものを、下の1～4から一つ選びなさい。大学を卒業したら、海外で働くことを__★__。',\n        'choices': ['決心した', 'した決心', '決心する', 'する決心'],\n        'correct_answer': 1,\n        'explanation': '「決心する」は「～することを決める」という意味の動詞です。「～ことを決心した」の形で「～することを決めた」となり、自然な日本語になります。2や4の語順は不自然で、3は時制が合いません（現在形）。時制や語順に注意しましょう。'}},\n      {'topic': '説明',\n       'result': {'question': '次の文の★に入る文節を、自然な順番に並べてください。先生は、__★_ ので、もっとゆっくり話してくださいと言いました。1. 説明が 2. 少し 3. 分かりにくい 4. ときがある',\n        'choices': ['1 → 2 → 3 → 4',\n         '1 → 3 → 2 → 4',\n         '2 → 1 → 3 → 4',\n         '1 → 4 → 2 → 3'],\n        'correct_answer': 1,\n        'explanation': 'この問題のポイントは、「少し」が「分かりにくい」を修飾し、「ときがある」が全体をまとめる表現となることです。「説明が少し分かりにくいときがある」で、「先生の説明が時々少し分かりにくいことがある」という意味になります。日本語では修飾語（少し）は述語（分かりにくい）の前に置くのが自然です。また、「ときがある」は前の内容全体を受ける表現なので、最後に来ます。N3レベルでは、修飾の順序や文のまとまりを意識することが重要なポイントとなります。'}},\n      {'topic': '提案',\n       'result': {'question': '下の「みんなで」「いくつか」「提案」「を」の４つの語（句）を正しい順番に並べて、文を完成させるのに最も適切なものを１～４から一つ選びなさい。',\n        'choices': ['みんなで\\u3000提案\\u3000いくつか\\u3000を',\n         'いくつか\\u3000提案\\u3000を\\u3000みんなで',\n         '提案\\u3000いくつか\\u3000を\\u3000みんなで',\n         'みんなで\\u3000いくつか\\u3000提案\\u3000を'],\n        'correct_answer': 4,\n        'explanation': 'この問題の主なポイントは、日本語における修飾語と目的語の語順です。「いくつか」は数量を表し、「提案」を修飾します。「いくつかの提案をする」という形が自然です。また、「みんなで」は動作主を表す副詞句で、文頭に置くことで「みんなが一緒に」という意味が明確になります。助詞「を」は目的語「提案」に直接つきますので、「いくつか提案を」が正しい形です。N3レベルでは、「副詞句＋数量＋名詞＋を＋動詞」という基本的な文の構造を理解しているかどうかが問われます。誤った語順では意味が通じにくく、不自然な日本語になってしまいます。この問題は、助詞の使い方、副詞句の位置、数量表現の修飾関係など、複数の文法ポイントを同時に確認できる良問です。'}},\n      {'topic': '結論',\n       'result': {'question': '次の文の（\\u3000★\\u3000）に入る最も自然な文になるように、1～4の語句を正しい順番に並べてください。このレポートの__★__、私たちは環境問題についてもっと考える必要があると分かった。1.\\u3000調査の\\u30002.\\u3000結論として\\u30003.\\u3000結果\\u30004.\\u3000まとめると\\u3000A.\\u30001→2→3→4\\u3000B.\\u30002→1→3→4\\u3000C.\\u30001→3→4→2\\u3000D.\\u30002→1→4→3',\n        'correct_answer': 2,\n        'choices': ['A.\\u30001→2→3→4',\n         'B.\\u30002→1→3→4',\n         'C.\\u30001→3→4→2',\n         'D.\\u30002→1→4→3'],\n        'explanation': 'この問題の主な難しさは、「結論として」という接続語句と、「調査の結果」「まとめると」の使い方・順序を正しく理解することです。「結論として、調査の結果、まとめると」とつなげることで、論理的な文脈が自然になります。N3レベルの語彙を使いましたが、接続詞や名詞の連結に注意が必要です。「結論」と「結果」の違いと、文章の論理展開を理解する力が問われる問題です。'}}]},\n    {'subsection_title': '文法構造選択 (sentence_structure)',\n     'description': '4問。文の構造として正しいものを選ぶ。',\n     'question_topics': [{'topic': '原因・理由',\n       'result': {'html_article': 'ありがとうございます。ご指摘いただいた点を反映し、さらに学習者の理解を深めるため、問題と解説をより丁寧に修正いたします。---### 原因と理由の違い日本語には「原因」と「理由」という似ている言葉がありますが、使い方には違いがあります。「原因」は、何かが起こる**直接的なきっかけやもと**を表します。たとえば、「風邪をひいた原因はウイルスです」というように、悪い結果や出来事が起こる**もと**を説明するときに使います。一方、「理由」は、**行動や判断の根拠**や**背景**を表します。たとえば、「試験を受ける理由は、将来のためです」のように、なぜそうするのか、**自分の考えや事情**を説明するときに使います。「原因」は悪い結果に使うことが多いですが、「理由」は良いことにも悪いことにも使えます。もしどちらを使うか迷ったときは、「理由」を使うと安心です。---#### 次の文の（\\u3000）に入る最も適切なものを選びなさい。１\\u3000事故の（\\u3000）は、運転手の不注意でした。\\u3000１．理由\\u3000２．原因\\u3000３．目的\\u3000４．意味\\u3000２\\u3000私が日本語を勉強する（\\u3000）は、日本で働きたいからです。\\u3000１．原因\\u3000２．理由\\u3000３．方法\\u3000４．結果\\u3000３\\u3000台風が来た（\\u3000）、電車が止まりました。\\u3000１．ので\\u3000２．こと\\u3000３．とき\\u3000４．ため\\u3000４\\u3000「原因」と「理由」の違いについて（\\u3000）説明してください。\\u3000１．しっかり\\u3000２．ちゃんと\\u3000３．わかりやすく\\u3000４．すぐに---#### 正答と解説１\\u3000**２．原因**\\u3000「事故の原因」は決まった言い方で、直接的な理由やきっかけを表します。「理由」では不自然です。２\\u3000**２．理由**\\u3000「勉強する理由」は行動の根拠や動機を表すので「理由」がぴったりです。「原因」は使いません。３\\u3000**４．ため**\\u3000「台風が来たため、電車が止まりました」はN3でよく出る「〜ため」の使い方です。「ため」は書き言葉や正式な場面で使われることが多く、ニュースや説明文などで使われます。一方、「ので」も原因・理由を表しますが、より口語的で柔らかいニュアンスがあります。どちらも正しい文法ですが、ここでは公式な説明文として「ため」が最適です。４\\u3000**３．わかりやすく**\\u3000「わかりやすく説明してください」は、「説明」のしかたを最も適切に表す副詞です。「ちゃんと」「しっかり」も正しい副詞ですが、「きちんと説明する」という意味合いが強く、「説明の内容が理解しやすい」という意味では「わかりやすく」が最も自然です。---#### 教師からのポイント「原因」と「理由」の使い分けは、日本語学習者にとって混乱しやすいポイントです。「原因」は悪い結果のもと、「理由」は行動の動機や根拠という違いを例文で覚えましょう。また、「ため」と「ので」などの文型も、書き言葉・話し言葉の違いや場面による使い分けを意識すると、より自然な日本語表現が身につきます。---ご指摘いただいた点を反映し、より明確な解説と読みやすい形式に修正しました。今後もご意見を参考に、質の高い教材作成に努めてまいります。',\n        'questions': [{'question': '事故の（\\u3000）は、運転手の不注意でした。',\n          'choices': ['理由', '原因', '目的', '意味'],\n          'correct_answer': 2,\n          'explanation': '「事故の原因」は決まった言い方で、直接的な理由やきっかけを表します。「理由」では不自然です。'},\n         {'question': '私が日本語を勉強する（\\u3000）は、日本で働きたいからです。',\n          'choices': ['原因', '理由', '方法', '結果'],\n          'correct_answer': 2,\n          'explanation': '「勉強する理由」は行動の根拠や動機を表すので「理由」がぴったりです。「原因」は使いません。'},\n         {'question': '台風が来た（\\u3000）、電車が止まりました。',\n          'choices': ['ので', 'こと', 'とき', 'ため'],\n          'correct_answer': 4,\n          'explanation': '「台風が来たため、電車が止まりました」はN3でよく出る「〜ため」の使い方です。「ため」は書き言葉や正式な場面で使われることが多く、ニュースや説明文などで使われます。一方、「ので」も原因・理由を表しますが、より口語的で柔らかいニュアンスがあります。どちらも正しい文法ですが、ここでは公式な説明文として「ため」が最適です。'},\n         {'question': '「原因」と「理由」の違いについて（\\u3000）説明してください。',\n          'choices': ['しっかり', 'ちゃんと', 'わかりやすく', 'すぐに'],\n          'correct_answer': 3,\n          'explanation': '「わかりやすく説明してください」は、「説明」のしかたを最も適切に表す副詞です。「ちゃんと」「しっかり」も正しい副詞ですが、「きちんと説明する」という意味合いが強く、「説明の内容が理解しやすい」という意味では「わかりやすく」が最も自然です。'}]}},\n      {'topic': '逆接',\n       'result': {'html_article': '承知しました。ご指摘を踏まえ、より明確で受験者にとって分かりやすいJLPT N3レベルの逆接問題を再構成します。---## 次の文章の[A]〜[D]の空欄に入る最も適切な逆接の接続詞を、それぞれ下の選択肢から一つずつ選びなさい。---### 友達との旅行去年の春休みに、私は友達と京都に旅行に行きました。天気予報では、旅行の間ずっと晴れると言われていました。[A]京都に着いた日は、朝から雨が降っていました。雨が降ったので、予定していた観光地に行くかどうか、みんなで相談しました。[B]せっかく来たので、雨でも観光を楽しもうということになりました。私たちは傘をさして、有名なお寺や神社を回りました。[C]雨の中で見る桜はとてもきれいでした。写真を撮ると、普段よりも静かな雰囲気が伝わってきました。[D]雨の日の京都も、思っていたより楽しかったです。---### [A]に入る言葉を選びなさい。1. しかし 2. だから 3. それから 4. そして### [B]に入る言葉を選びなさい。1. けれども 2. しかし 3. でも 4. けれど### [C]に入る言葉を選びなさい。1. しかし 2. でも 3. けど 4. けれども### [D]に入る言葉を選びなさい。1. しかし 2. けど 3. けれど 4. でも---## 正答・解説### [A] 正解：1. しかし  解説：前の文で「晴れる」と言われていたが、実際には「雨が降った」ため、予想と異なる結果を表す逆接の「しかし」が最適です。### [B] 正解：1. けれども  解説：「雨が降ったので予定を相談した」→「せっかく来たので観光する」と、逆の行動を取ることを示す逆接。文中で使う「けれども」が自然です。### [C] 正解：2. でも  解説：「雨が降っている」という否定的な状況でも、「桜がきれいだった」と肯定的な内容を続けるため、「でも」が適切です。会話的な自然さもあります。### [D] 正解：3. けれど  解説：「普段と違う雨の日の京都」→「楽しかった」という予想外の感想を逆接で述べる。文末に使える「けれど」が自然です。---## 教師からのポイント- 逆接の接続詞は、文の位置やフォーマル度によって使い分ける必要があります。- 「しかし」は文頭、「けれども」は文中、「でも」は会話的、「けれど」は文末や柔らかい印象で使われます。- 文脈をしっかり読んで、どの逆接表現が最も自然かを考えましょう。---この形式で、JLPT N3受験者が逆接の使い分けをしっかりと練習できる内容となっています。',\n        'questions': [{'question': '[A]に入る言葉を選びなさい。',\n          'choices': ['しかし', 'だから', 'それから', 'そして'],\n          'correct_answer': 1,\n          'explanation': '前の文で「晴れる」と言われていたが、実際には「雨が降った」ため、予想と異なる結果を表す逆接の「しかし」が最適です。'},\n         {'question': '[B]に入る言葉を選びなさい。',\n          'choices': ['けれども', 'しかし', 'でも', 'けれど'],\n          'correct_answer': 1,\n          'explanation': '「雨が降ったので予定を相談した」→「せっかく来たので観光する」と、逆の行動を取ることを示す逆接。文中で使う「けれども」が自然です。'},\n         {'question': '[C]に入る言葉を選びなさい。',\n          'choices': ['しかし', 'でも', 'けど', 'けれども'],\n          'correct_answer': 2,\n          'explanation': '「雨が降っている」という否定的な状況でも、「桜がきれいだった」と肯定的な内容を続けるため、「でも」が適切です。会話的な自然さもあります。'},\n         {'question': '[D]に入る言葉を選びなさい。',\n          'choices': ['しかし', 'けど', 'けれど', 'でも'],\n          'correct_answer': 3,\n          'explanation': '「普段と違う雨の日の京都」→「楽しかった」という予想外の感想を逆接で述べる。文末に使える「けれど」が自然です。'}]}},\n      {'topic': '条件',\n       'result': {'html_article': '# 日本語記事：条件について 私たちの生活には、さまざまな「条件」があります。たとえば、アルバイトを[\\u30001\\u3000]、年齢や経験が必要な場合があります。会社に入るための条件も、学歴や資格などいろいろです。また、天気がいい日[\\u30002\\u3000]、運動会が行われます。もし雨が降ったら、運動会は中止になります。このように、何かが起こるためには「条件」が必要なことが多いです。 条件は、日常生活だけでなく、法律や約束にもよく使われます。たとえば、「宿題を全部終わらせたら、ゲームをしてもいい」という約束は、「宿題を終わらせること」がゲームをする[\\u30003\\u3000]です。また、「この商品は、20歳以上の人だけが買うことができる」というのも、年齢が[\\u30004\\u3000]です。 このように、条件は私たちの生活の中でとても大切なものです。条件をよく考えて行動することで、トラブルを防ぐことができます。',\n        'questions': [{'question': '1. アルバイトを[\\u30001\\u3000]、年齢や経験が必要な場合があります。',\n          'choices': ['したいとき', 'するために', 'してから', 'しないで'],\n          'correct_answer': 2,\n          'explanation': '「アルバイトをするために、年齢や経験が必要な場合があります。」が自然です。「するために」は目的や理由を表すN3文型で、条件を説明するのに適切です。他の選択肢は文脈に合いません。'},\n         {'question': '2. 天気がいい日[\\u30002\\u3000]、運動会が行われます。',\n          'choices': ['なら', 'ので', 'でも', 'ほど'],\n          'correct_answer': 1,\n          'explanation': '「天気がいい日なら、運動会が行われます。」は仮定条件を表し、N3の「～なら」を使うのが正しいです。「ので」は理由、「でも」は逆接、「ほど」は程度を表すため不適切です。'},\n         {'question': '3. 「宿題を全部終わらせたら、ゲームをしてもいい」という約束は、「宿題を終わらせること」がゲームをする[\\u30003\\u3000]です。',\n          'choices': ['必要です', 'ことです', 'ものです', '条件です'],\n          'correct_answer': 4,\n          'explanation': '「宿題を終わらせること」がゲームをする条件です、という説明です。「条件です」と明確に言うことで文意が通ります。「必要です」や「ものです」では具体性が足りません。'},\n         {'question': '4. 「この商品は、20歳以上の人だけが買うことができる」というのも、年齢が[\\u30004\\u3000]です。',\n          'choices': ['条件です', '必要です', 'できます', 'あります'],\n          'correct_answer': 1,\n          'explanation': '「年齢が条件です。」が正しいです。「必要です」も近いですが、「条件です」の方がより明確にルールや制限を表します。'}]}},\n      {'topic': '目的',\n       'result': {'html_article': '# 目的について 私たちが何か新しいことを始めるとき、**目的**を持つことはとても大切です。目的があると、[1] 何をすればいいのかがはっきりします。たとえば、勉強する目的が「日本語を話せるようになること」なら、毎日少しずつ単語や文法を覚えることが大切だとわかります。 目的は、[2] 目標や手段と違います。目的は「最終的に達成したいこと」、目標は「目的を達成するための小さなゴール」、手段は「目標を達成するための方法」です。たとえば、「健康になる」という目的のために、「毎日30分歩く」という目標を立てて、「朝早く起きて散歩する」という手段を選ぶことができます。 目的があると、途中で困難があっても、[3] 続ける力が生まれます。目的を忘れてしまうと、なぜ頑張るのか分からなくなってしまいます。だから、何かを始めるときは、まず自分の目的を[4] 明確にすることが大切です。 --- [1] 1. どこで 2. どうして 3. どのように 4. どれくらい  [2] 1. たとえば 2. しかし 3. それとも 4. つまり  [3] 1. あきらめやすくなる 2. がんばり続けられる 3. つかれてしまう 4. いやになる  [4] 1. しっかり 2. はっきり 3. きちんと 4. すぐに --- ### 正解と解説 [1] **3. どのように** 「何をすればいいのかがはっきりします」という内容なので、「どのように（how）」が最も自然です。N3受験者は疑問詞の使い分けをよく練習しましょう。 [2] **1. たとえば** 「目的は、目標や手段と違います。」の後に例を挙げるので、「たとえば」が適切です。「しかし」「それとも」「つまり」は文脈に合いません。 [3] **2. がんばり続けられる** 「続ける力が生まれます」とあるので、「がんばり続けられる」が一番合っています。あきらめる・つかれる・いやになるは逆の意味です。 [4] **2. はっきり** 「目的を明確にすることが大切です」に合うのは「はっきり」です。「しっかり」「きちんと」も意味が近いですが、「明確にする」と一番自然につながるのは「はっきり」です。「すぐに」は意味が違います。 --- **教師の視点からの主な課題と指導アドバイス** この問題では、疑問詞や接続詞、副詞の微妙な使い分けがポイントです。N3学習者は、似た意味の語彙の使い分けや、文全体の流れを理解する力をつける必要があります。  **指導アドバイス:**  - 疑問詞や副詞は例文を多く読み、実際の文脈でどのように使われているかを確認しましょう。  - 接続詞や副詞は、意味の近い言葉を比較しながら練習問題を解くと効果的です。  - 「目的」「目標」「手段」など似た言葉は、図や表を使って整理し、具体例を挙げて理解を深めましょう。  --- 【模範解答例の改善点を反映し、選択肢の質や表記も整えました】',\n        'questions': [{'question': '[1] 何をすればいいのかがはっきりします。に入る最も適切な言葉はどれですか？',\n          'correct_answer': 3,\n          'choices': ['どこで', 'どうして', 'どのように', 'どれくらい'],\n          'explanation': '「何をすればいいのかがはっきりします」という内容なので、「どのように（how）」が最も自然です。N3受験者は疑問詞の使い分けをよく練習しましょう。'},\n         {'question': '[2] 目的は、目標や手段と違います。の後に続く最も適切な接続詞はどれですか？',\n          'correct_answer': 1,\n          'choices': ['たとえば', 'しかし', 'それとも', 'つまり'],\n          'explanation': '「目的は、目標や手段と違います。」の後に例を挙げるので、「たとえば」が適切です。「しかし」「それとも」「つまり」は文脈に合いません。'},\n         {'question': '[3] 途中で困難があっても、続ける力が生まれます。に入る最も適切な言葉はどれですか？',\n          'correct_answer': 2,\n          'choices': ['あきらめやすくなる', 'がんばり続けられる', 'つかれてしまう', 'いやになる'],\n          'explanation': '「続ける力が生まれます」とあるので、「がんばり続けられる」が一番合っています。あきらめる・つかれる・いやになるは逆の意味です。'},\n         {'question': '[4] まず自分の目的を明確にすることが大切です。に入る最も適切な副詞はどれですか？',\n          'correct_answer': 2,\n          'choices': ['しっかり', 'はっきり', 'きちんと', 'すぐに'],\n          'explanation': '「目的を明確にすることが大切です」に合うのは「はっきり」です。「しっかり」「きちんと」も意味が近いですが、「明確にする」と一番自然につながるのは「はっきり」です。「すぐに」は意味が違います。'}]}}]}]},\n  {'section_title': '第2部：読解',\n   'subsections': [{'subsection_title': '短文読解 (short_passage_read)',\n     'description': '4題。短い文章を読み、内容に関する問いに答える。',\n     'question_topics': [{'topic': '店で価格を尋ねる',\n       'result': {'question': 'このメールで、山田様は何を知ることができましたか。',\n        'choices': ['冷蔵庫の価格と配送料について',\n         '冷蔵庫の在庫状況について',\n         '冷蔵庫の色について',\n         '冷蔵庫のサイズについて'],\n        'correct_answer': 1,\n        'explanation': 'この問題では、ビジネスメールの内容から必要な情報を正確に読み取る力が求められます。N3レベルの学習者にとって、「価格」「配送料」「ご案内」などの語彙や敬語表現の理解がポイントです。選択肢には本文にない情報（在庫状況・色・サイズ）が含まれており、正しく内容を把握できているか判断できます。メール形式や敬称も自然で、指示文も加わっているため、受験者が迷わず解答できる構成になっています。'}},\n      {'topic': 'レストランで食べ物を注文する',\n       'result': {'question': '山本さんは、レストランでどのように食事を楽しみましたか。',\n        'choices': ['自分の料理だけを食べた',\n         '田中さんの料理も少し食べた',\n         'デザートをたくさん食べた',\n         '田中さんの注文を手伝った'],\n        'correct_answer': 2,\n        'explanation': 'この問題の難しさは、メール本文から「田中さんが選んだスープも少しもらえて、うれしかったです。」という部分を正しく理解し、「自分の注文以外も食べた」ことを読み取る点にあります。N3レベルでは「もらえて」「うれしかった」などの表現や、「自分の料理だけ」や「デザートをたくさん」などの選択肢の違いに注意することが必要です。選択肢を丁寧に比較し、本文と合致する内容を選ぶ力が問われます。'}},\n      {'topic': '道を尋ねる',\n       'result': {'question': '次のメールを読んで、後の問いに答えなさい。これは、山田さんが友人のスミスさんに送ったメールです。スミスさんこんにちは。メールをありがとう。東京に来る日は決まりましたか。もしよかったら、東京駅まで迎えに行きます。東京駅はとても広いので、待ち合わせの場所を決めておきましょう。丸の内北口の改札の前でどうですか。駅で道に迷ったら、近くの駅員さんに「丸の内北口はどこですか」と聞いてください。当日は、私の携帯に電話してもいいですよ。会えるのを楽しみにしています。山田このメールで、山田さんはスミスさんにどんなアドバイスをしていますか。最も適切なものを一つ選びなさい。',\n        'choices': ['東京駅で迷ったら、駅員に聞くように言っている。',\n         '東京駅に着いたら、すぐに電話するように言っている。',\n         '東京駅の南口で待ち合わせるように言っている。',\n         '東京駅の近くのホテルに泊まるように言っている。'],\n        'correct_answer': 1,\n        'explanation': 'この問題は、メール本文の内容を正確に読み取り、「道を尋ねる」というN3レベルの重要表現を理解できているかを問うものです。本文中に「駅で道に迷ったら、近くの駅員さんに『丸の内北口はどこですか』と聞いてください。」と明記されています。したがって、1が正解です。他の選択肢は、本文に直接書かれていない内容や、本文と異なる情報です。2は「すぐに電話」とは書かれておらず、3は「南口」ではなく「北口」、4はホテルについての記述がありません。誤答も本文の内容に近い表現を使うことで、受験者の本文理解力をより深く測ることができます。この問題の主なチャレンジは、「迷ったとき」「駅員に聞く」「待ち合わせ場所」といった日常的な日本語のやりとりを正確に理解し、適切な選択肢を選ぶ力です。N3レベルの語彙と文法がしっかり使われており、実用的な内容となっています。'}},\n      {'topic': '週末の予定について話す',\n       'result': {'question': '田中さんは、日曜日に何をする予定ですか。',\n        'choices': ['家で本を読む', 'スーパーで買い物をする', '友達と映画を見に行く', '家族とカフェに行く'],\n        'correct_answer': 3,\n        'explanation': 'この問題のポイントは、日付と予定を正確に読み取る力です。N3レベルでは、「〜つもりです」「〜予定です」など未来の表現や、日付ごとの行動を区別する読解力が求められます。「日曜日は、友達と映画を見に行く予定です。」という文を正しく理解できるかがカギです。選択肢の中には土曜日の予定や、本文にない内容が含まれているので、惑わされずに本文から直接答えを見つけることが大切です。'}}]},\n    {'subsection_title': '中文章読解 (midsize_passage_read)',\n     'description': '2題。中程度の長さの文章を読み、主旨や詳細情報について答える。',\n     'question_topics': [{'topic': '趣味について話す',\n       'result': {'question': 'この文章を書いた人は、旅行についてどのように考えていますか。',\n        'choices': ['旅行は計画が大変なので、あまり好きではない。',\n         '旅行を通じて新しい発見や経験ができるので楽しいと思っている。',\n         '旅行は友達と行くのが一番大切だと思っている。',\n         '旅行は国内だけで十分だと思っている。'],\n        'correct_answer': 2,\n        'explanation': '本文では、「その土地の文化や食べ物を知ることができて、とても楽しいです」や、「旅行を通して、自分の世界が広がったと感じています」と書かれており、旅行を通じて新しい発見や経験ができることを楽しいと感じていることが読み取れます。選択肢1や4は本文と反対の内容であり、3も「友達と行くこともありますが、一人で…」とあるため、友達と行くことだけが大切とは考えていません。N3学習者にとっては、筆者の気持ちや考えを読み取る力、キーワード（「楽しい」「広がった」など）を正確に把握する力が問われる点が難しいポイントです。'}},\n      {'topic': '家族について話す',\n       'result': {'question': '家族について書かれているこの文章から、正しいものを一つ選びなさい。',\n        'choices': ['家族は四人で、姉が二人いる。',\n         '父は家で家事をしている。',\n         '家族は毎週日曜日に一緒に夕食を食べる。',\n         '弟は高校生で、バスケが好きだ。'],\n        'correct_answer': 3,\n        'explanation': 'この問題の主なチャレンジは、家族構成や家族の活動、職業、趣味など、N3レベルの基礎的な語彙と文法を正しく読み取ることです。選択肢の中には、本文の内容と少し違う情報（例えば人数や職業、趣味）が混ざっているため、細かい情報を正確に把握する読解力が求められます。特に家族構成や日常の習慣に関する記述をしっかり確認することがポイントです。'}}]},\n    {'subsection_title': '長文読解 (long_passage_read)',\n     'description': '1題。やや長い文章を読み、全体の内容や筆者の意図を理解する。',\n     'question_topics': [{'topic': '旅行の計画について話す',\n       'result': {'html_article': '【次の文章を読んで、質問に答えなさい】田中さんは、来月友達と大阪に旅行に行く予定です。先週、田中さんは旅行の計画を立てるために、友達と集まりました。まず、みんなでどこに行きたいかを話し合いました。大阪城やユニバーサル・スタジオ・ジャパン、道頓堀など、人気の観光地がたくさんあります。田中さんは、歴史が好きなので、大阪城に一番行きたいと言いました。友達の一人は、テーマパークが好きなので、ユニバーサル・スタジオ・ジャパンに行きたいと言いました。みんなで相談して、二日目は大阪城、三日目はユニバーサル・スタジオ・ジャパンに行くことに決めました。ホテルは駅の近くに予約しました。駅から観光地まで電車で行けるので、とても便利です。また、旅行中に美味しいたこ焼きを食べることも楽しみにしています。田中さんたちは、旅行の日が来るのを楽しみにしています。',\n        'questions': [{'question': '田中さんは旅行の計画を立てるために、何をしましたか。',\n          'explanation': '主語の省略と「集まる」「計画を立てる」の文脈理解が必要。N3では複数人の行動や目的を正確に読み取ることが大切です。',\n          'correct_answer': 1,\n          'choices': ['友達と集まって、旅行の計画を立てました。']},\n         {'question': '田中さんたちは大阪でどんな観光地に行くことにしましたか。',\n          'explanation': '複数の観光地が出てくるため、情報を整理して答える必要があります。N3では「相談して決めた」などの文型もポイント。',\n          'correct_answer': 1,\n          'choices': ['大阪城とユニバーサル・スタジオ・ジャパンに行くことにしました。']},\n         {'question': '田中さんたちがホテルを予約した場所はどこですか。',\n          'explanation': '「場所＋に予約する」「駅の近く」など、場所を表す表現に注意しましょう。',\n          'correct_answer': 1,\n          'choices': ['駅の近くにホテルを予約しました。']},\n         {'question': '田中さんはなぜ大阪城に行きたいと言いましたか。',\n          'explanation': '「ので」や「から」による理由説明を読み取る力が問われます。',\n          'correct_answer': 1,\n          'choices': ['歴史が好きだからです。']},\n         {'question': 'みんなはどのようにして行く場所を決めましたか。',\n          'explanation': '「相談して決める」という表現を正しく理解できるかが重要です。',\n          'correct_answer': 1,\n          'choices': ['みんなで相談して決めました。']},\n         {'question': '田中さんたちが旅行で楽しみにしている食べ物はどれですか。',\n          'explanation': '旅行中の楽しみや具体的な名詞の読み取り。N3では本文中の具体的な情報を正確に選ぶ力が必要です。',\n          'correct_answer': 2,\n          'choices': ['お好み焼き', 'たこ焼き', 'ラーメン', 'カレー']}]}}]},\n    {'subsection_title': '情報検索 (info_retrieval)',\n     'description': '1題。案内や掲示などの情報から必要な情報を探し出す。',\n     'question_topics': [{'topic': '電車の切符を買う',\n       'result': {'html_article': '<h3>電車の切符の買い方と案内</h3><p>次の表と説明を読んで、後の質問に答えなさい。</p><table border=\"1\" cellspacing=\"0\" cellpadding=\"4\" style=\"border-collapse:collapse;width:100%;text-align:center;\"><tr style=\"background-color:#f0f0f0;\"><th>購入場所</th><th>利用可能時間</th><th>支払い方法</th><th>できること</th></tr><tr><td>自動券売機</td><td>5:00～23:30</td><td>現金・ICカード</td><td>きっぷ購入、ICカードチャージ</td></tr><tr><td>窓口</td><td>7:00～20:00</td><td>現金・クレジットカード</td><td>新幹線・特急券も購入可</td></tr><tr><td>インターネット予約</td><td>24時間</td><td>クレジットカード</td><td>会員登録が必要、きっぷは駅で受け取り</td></tr><tr><td>旅行会社</td><td>10:00～18:00</td><td>現金</td><td>JRきっぷのみ、手数料なし</td></tr></table><ul><li>自動券売機は駅の入り口近くにあります。画面の案内に従って、行き先や人数を選び、お金を入れるときっぷが出ます。</li><li>ICカード（Suica、PASMOなど）は券売機でチャージできます。改札でタッチして使います。</li><li>特急や新幹線に乗る場合は、乗車券のほかに特急券や指定席券が必要です。窓口や高機能券売機、インターネットで購入できます。</li><li>インターネットで予約したきっぷは、出発当日または7日前から駅の指定席券売機で受け取ります。</li><li>旅行会社では、JRきっぷを手数料なしで購入できますが、店舗によっては取り扱いがない場合もあります。</li></ul><hr><p><b>【指示】</b> 次の質問に最も合うものを一つずつ選びなさい。</p>',\n        'questions': [{'question': '駅でICカードにお金を入れたいとき、どこでできますか。',\n          'explanation': '自動券売機は駅の入り口近くにあり、ICカードのチャージもできます。',\n          'correct_answer': 2,\n          'choices': ['ア\\u3000窓口',\n           'イ\\u3000自動券売機',\n           'ウ\\u3000インターネット予約',\n           'エ\\u3000旅行会社']},\n         {'question': 'インターネットで切符を予約した場合、どのように受け取りますか。',\n          'explanation': 'インターネットで予約したきっぷは、出発当日または7日前から駅の指定席券売機で受け取ります。',\n          'correct_answer': 2,\n          'choices': ['ア\\u3000家に郵送してもらう',\n           'イ\\u3000駅の指定席券売機で受け取る',\n           'ウ\\u3000改札で駅員から受け取る',\n           'エ\\u3000旅行会社のカウンターで受け取る']},\n         {'question': '窓口でできないことはどれですか。',\n          'explanation': '窓口ではICカードへのチャージはできません。',\n          'correct_answer': 2,\n          'choices': ['ア\\u3000新幹線の切符を買う',\n           'イ\\u3000ICカードにチャージする',\n           'ウ\\u3000現金で支払う',\n           'エ\\u3000クレジットカードで支払う']},\n         {'question': '旅行会社で切符を買うときに、正しいことはどれですか。',\n          'explanation': '旅行会社ではJRきっぷのみ手数料なしで購入でき、支払いは現金のみです。',\n          'correct_answer': 2,\n          'choices': ['ア\\u3000手数料がかかる',\n           'イ\\u3000現金で支払う',\n           'ウ\\u3000ICカードで支払う',\n           'エ\\u3000クレジットカードで支払う']},\n         {'question': '特急に乗りたいとき、必要なものは何ですか。',\n          'explanation': '特急に乗る場合は乗車券と特急券の両方が必要です。',\n          'correct_answer': 3,\n          'choices': ['ア\\u3000乗車券だけ',\n           'イ\\u3000特急券だけ',\n           'ウ\\u3000乗車券と特急券',\n           'エ\\u3000ICカードだけ']}]}}]}]},\n  {'section_title': '第3部：聴解',\n   'subsections': [{'subsection_title': '話題理解 (topic_understanding)',\n     'description': '6問。流れる会話や説明から話題を把握する。',\n     'question_topics': [{'topic': 'お気に入りのレストランについて話す',\n       'result': {'questions': {'question': 'この後、ユキさんは何をしたいと思っていますか。',\n         'choices': ['新しいラーメン屋に行く',\n          '森のカフェでチョコレートケーキを食べる',\n          'ケンさんの家に行く',\n          'フルーツタルトを作る'],\n         'correct_answer': 2,\n         'explanation': 'この問題の難しさは、「お気に入り」「静か」「ケーキ」などN3レベルの話題語彙を聞き分け、会話の流れからユキさんの次の希望行動（＝お気に入りのカフェでチョコレートケーキを食べたい）を推測する点です。選択肢には似た内容（ケーキやフルーツタルト）が含まれているため、会話の具体的な内容を正確に聞き取る力が問われます。'},\n        'conversation': [{'gender': 'female',\n          'context': 'ユキ：ケンくん、最近どこか美味しいお店に行った？'},\n         {'gender': 'male',\n          'context': 'ケン：うーん、先週、駅前のラーメン屋に行ったよ。でも、ユキちゃんのお気に入りのお店ってどこ？'},\n         {'gender': 'female',\n          'context': 'ユキ：私は「森のカフェ」が一番好きだよ。静かで、ケーキがとても美味しいの。'},\n         {'gender': 'male', 'context': 'ケン：へえ、どんなケーキがあるの？'},\n         {'gender': 'female',\n          'context': 'ユキ：チョコレートケーキや、季節のフルーツタルトが人気だよ。コーヒーも香りが良くて、落ち着くんだ。'},\n         {'gender': 'male', 'context': 'ケン：いいね。今度一緒に行かない？'},\n         {'gender': 'female',\n          'context': 'ユキ：うん、ぜひ行こう！私はまたチョコレートケーキが食べたいな。'}]}},\n      {'topic': '健康とフィットネスについて話す',\n       'result': {'questions': {'question': '友人Aはこの後、何をするつもりですか。',\n         'explanation': 'この問題は、会話の最後で「じゃあ、私も明日から少し運動してみようかな」と友人Aが自分の行動を決めている点を聞き取る必要があります。会話の流れを理解し、実際に何をするつもりかを選ぶ力が求められます。選択肢1や2も会話に出てきますが、「明日から運動」と具体的に述べているのが3番です。N3レベルの語彙と表現を使い、会話の要点を聞き取る力を測る良問です。',\n         'correct_answer': 3,\n         'choices': ['毎朝ジョギングを始める',\n          '食事のバランスを考える',\n          '明日から運動をしてみる',\n          'プロテインを毎日飲む']},\n        'conversation': [{'gender': 'female',\n          'context': '健康とフィットネスについて、友達同士で話しています。 友人A：最近、ちょっと太ってきた気がするんだ。健康診断でも、運動不足って言われちゃったし。 友人B：そうなんだ。私は毎朝ジョギングしてるよ。最初は大変だったけど、今はすっかり習慣になったよ。 友人A：すごいね！でも、朝はなかなか起きられなくて…。運動以外で何か気をつけてることある？ 友人B：うん、食事もバランスよくするようにしてる。野菜を多めに食べたり、夜遅くに食べないようにしたりね。 友人A：なるほど。ダイエットって、食事も大事なんだね。プロテインとかも飲んでる？ 友人B：筋トレの後はたまに飲むよ。でも、無理なダイエットは体に良くないから、健康的に続けるのが一番だと思う。 友人A：うん、ありがとう。じゃあ、私も明日から少し運動してみようかな。'}]}},\n      {'topic': '最近の映画について話す',\n       'result': {'questions': {'question': 'この会話を読んで、男の人がこの後一番したいことに近いものを一つ選びなさい。',\n         'explanation': 'この問題のポイントは、男の人の発言「たまにはそういう映画も見てみたいな」と、女の人の「今度一緒に見に行かない？」という誘いに「ぜひ行こう！」と答えている部分です。つまり、男の人は感動する映画（「青い空の約束」）を見に行くことに興味を持っています。N3レベルの語彙（映画館、感動、約束、俳優、演技、アクションなど）や表現（〜してみたい、〜ばかり、もしよかったら、ぜひ〜しよう）を適切に使用しています。選択肢には内容に関連するものや紛らわしいもの（アクション映画、音楽など）を含め、正しく会話内容を理解できているかを問う形式です。',\n         'correct_answer': 3,\n         'choices': ['アクション映画を見る', '音楽を聞きに行く', '感動する映画を見に行く', '高校に行く']},\n        'conversation': [{'gender': 'male', 'context': '佐藤さん、最近映画館に行った？'},\n         {'gender': 'female', 'context': 'うん、先週「青い空の約束」っていう映画を見たよ。すごく感動したんだ。'},\n         {'gender': 'male', 'context': 'その映画、気になってたんだ。どんな話？'},\n         {'gender': 'female',\n          'context': '高校生の男女が卒業前に大切な約束をして、それを守るためにがんばる話だよ。音楽もきれいだったし、俳優さんの演技もよかった。'},\n         {'gender': 'male',\n          'context': 'へえ、いいね。僕は最近アクション映画ばかり見てたから、たまにはそういう映画も見てみたいな。'},\n         {'gender': 'female', 'context': 'おすすめだよ。もしよかったら、今度一緒に見に行かない？'},\n         {'gender': 'male', 'context': 'うん、ぜひ行こう！'}]}},\n      {'topic': '支払い方法について話す',\n       'result': {'questions': {'question': 'この後、お客さんはまず何をしますか。最も適切なものを一つ選びなさい。',\n         'explanation': 'この問題は、支払いの流れや店員とのやりとりを正確に理解する力が求められます。N3レベルの語彙（「ICカード」「タッチ」「ポイントカード」「お返しします」など）を使い、実際の日本の買い物場面を再現しています。選択肢には、会話の流れから外れるもの（現金で支払う、クレジットカードを渡す、店員に質問する）を含めることで、細部まで聞き取る力を測ります。正解を選ぶには、最後の店員の発言「レシートとポイントカードもお返しします。」に注目し、次にお客さんが何をするかを推測する必要があります。',\n         'correct_answer': 3,\n         'choices': ['現金で支払う',\n          'クレジットカードを渡す',\n          'レシートとポイントカードを受け取る',\n          '店員に支払い方法について質問する']},\n        'conversation': [{'gender': 'male',\n          'context': 'スーパーマーケットで、店員とお客さんが支払い方法について話しています。'},\n         {'gender': 'male', 'context': '店員：お買い上げありがとうございます。お支払いはどの方法にされますか。'},\n         {'gender': 'female', 'context': '客：クレジットカードは使えますか。'},\n         {'gender': 'male',\n          'context': '店員：はい、ご利用いただけます。ICカードやスマートフォンでの支払いも可能です。'},\n         {'gender': 'female', 'context': '客：じゃあ、ICカードでお願いします。'},\n         {'gender': 'male', 'context': '店員：かしこまりました。こちらにカードをタッチしてください。'},\n         {'gender': 'female', 'context': '客：（カードをタッチする）できました。'},\n         {'gender': 'male', 'context': '店員：ありがとうございます。レシートとポイントカードもお返しします。'},\n         {'gender': 'female', 'context': '客：ありがとうございました。'}]}},\n      {'topic': '家事の分担について話す',\n       'result': {'conversation': [{'gender': 'female',\n          'context': 'ねえ、最近ちょっと家事が大変になってきたと思わない？私も仕事が忙しくなってきたし、もう少し分担を見直したいんだけど。'},\n         {'gender': 'male',\n          'context': 'そうだね。僕もできるだけ手伝ってるつもりだけど、何か足りないことがあった？'},\n         {'gender': 'female',\n          'context': 'ううん、ありがとう。でも、洗濯と掃除は今ほとんど私がやってるでしょ？洗濯は週に２回ぐらい、あなたにお願いできないかな。'},\n         {'gender': 'male', 'context': 'うん、わかった。じゃあ、洗濯は僕がやるよ。掃除も週末ならできると思う。'},\n         {'gender': 'female', 'context': 'ありがとう。あと、夕食の準備はどうする？'},\n         {'gender': 'male', 'context': '平日は帰りが遅いから難しいけど、土日は僕が作るよ。'},\n         {'gender': 'female', 'context': '助かる！じゃあ、今週末からお願いしてもいい？'},\n         {'gender': 'male', 'context': 'もちろん。何かレシピを考えておくね。'}],\n        'questions': {'question': 'この後、夫はまず何をしますか。',\n         'choices': ['洗濯をする日を決める',\n          '掃除をする時間を決める',\n          '土日の夕食のメニューを考える',\n          '妻に掃除のやり方を聞く'],\n         'correct_answer': 1,\n         'explanation': 'この会話では、妻が洗濯を週に2回夫にお願いし、夫が「じゃあ、洗濯は僕がやるよ」と約束しています。直後に必要な行動は、いつ洗濯をするか日を決めることです。選択肢2と4も家事分担に関係しますが、掃除は「週末ならできる」と話しているだけで、すぐに時間を決める流れではありません。また、選択肢3の夕食メニューについては「考えておくね」と言っていますが、まず優先されるのは妻の要望である洗濯の分担です。受験者は会話の流れと約束された内容を正確に把握する必要があり、N3レベルの聞き取り力と実生活に基づく判断力が問われます。'}}},\n      {'topic': '公共施設の利用方法について話す',\n       'result': {'questions': {'question': '女の人はこれから何をしますか。',\n         'choices': ['会議室の掃除をする',\n          '利用申し込みの紙を記入する',\n          '会議室の利用料金をはらう',\n          '会議室の場所を案内する'],\n         'correct_answer': 2,\n         'explanation': 'この問題は、会話の流れを正確に理解し、次に行うべき行動を特定するリスニング力を測るものです。女の人は「申し込みを書きます」と最後に言っており、これから申し込み用紙に記入することが明らかです。選択肢2が正解となります。N3レベルの語彙と表現を使い、公共施設の利用手順という日常的な場面を設定しているので、実用的な日本語運用能力が問われます。設問と選択肢の整合性も保たれており、混乱が生じにくい良問です。'},\n        'conversation': [{'gender': 'female',\n          'context': '女：こんにちは。公民館の会議室を使いたいのですが、どうすればいいですか？'},\n         {'gender': 'male',\n          'context': '男：こんにちは。会議室の利用は、まず受付で申し込みが必要です。ご利用は何名様ですか？'},\n         {'gender': 'female', 'context': '女：１０人くらいです。今日の午後、使いたいのですが、空いていますか？'},\n         {'gender': 'male', 'context': '男：少々お待ちください。…はい、午後２時から４時まで空いています。'},\n         {'gender': 'female', 'context': '女：ありがとうございます。申し込みはこの紙に書けばいいですか？'},\n         {'gender': 'male',\n          'context': '男：はい、お名前とご連絡先、それから利用目的を記入してください。あと、利用後は机や椅子を元の場所に戻して、ゴミはきちんと持ち帰ってください。'},\n         {'gender': 'female', 'context': '女：わかりました。利用料はどこで払いますか？'},\n         {'gender': 'male', 'context': '男：受付でお願いします。現金かカードが使えます。'},\n         {'gender': 'female', 'context': '女：ありがとうございます。では、申し込みを書きます。'}]}}]},\n    {'subsection_title': '要点理解 (keypoint_understanding)',\n     'description': '6問。会話の中の重要な情報や要点を聞き取る。',\n     'question_topics': [{'topic': '仕事のプロジェクトについて話す',\n       'result': {'questions': {'question': '女の人がまず最初にすることは何ですか。',\n         'choices': ['新しいメンバーを探すこと',\n          '業務の問題点を整理すること',\n          '改善案をまとめること',\n          '結果を報告すること'],\n         'correct_answer': 2,\n         'explanation': 'この問題はN3レベルの語彙と文法を用いています。会話の中で「まずは現状の問題点を整理してから、改善案を考える予定」と述べられている部分を正確に理解できるかがポイントです。他の選択肢も会話内で言及されていますが、時系列や優先順位を正しく把握する力が求められます。選択肢の内容も混同しやすいため、注意深く聞き取る必要があります。'},\n        'conversation': [{'gender': 'male',\n          'context': '田中さん、今月から新しいプロジェクトが始まりますね。担当のメンバーはもう決まりましたか。'},\n         {'gender': 'female',\n          'context': 'はい、昨日、課長と相談して決めました。山本さんと佐藤さん、それから私の3人です。'},\n         {'gender': 'male',\n          'context': 'そうなんですね。プロジェクトの目的は、今までの業務をもっと効率的にすることでしたよね。'},\n         {'gender': 'female',\n          'context': 'はい。まずは現状の問題点を整理してから、改善案を考える予定です。来週、最初のミーティングをします。'},\n         {'gender': 'male', 'context': 'スケジュールはどうなっていますか。'},\n         {'gender': 'female',\n          'context': '今月中に現状の調査を終えて、来月から改善案をまとめていきます。最終的には、3か月後に結果を報告することになっています。'},\n         {'gender': 'male', 'context': '3か月後ですか。けっこう短い期間ですね。'},\n         {'gender': 'female',\n          'context': 'そうですね。でも、チームで協力すればきっとできると思います。もし何かアドバイスがあれば、ぜひ教えてください。'},\n         {'gender': 'male', 'context': 'わかりました。何か手伝えることがあったら言ってください。'},\n         {'gender': 'female', 'context': 'ありがとうございます。がんばります。'}]}},\n      {'topic': 'おすすめを尋ねる',\n       'result': {'questions': {'question': '男の人は女の人にどこをすすめられましたか。',\n         'explanation': 'この問題のポイントは、「箱根はどう？」という女の人の発言が、男の人へのおすすめであることを聞き取ることです。会話の中で温泉や美味しいもの、景色などの希望条件が出てきますが、「それなら、箱根はどう？」という提案が正答の根拠です。また、「特急で行ける」「温泉」「黒たまご」などの情報もヒントになります。N3レベルでは、会話の流れからどの場所がすすめられたのかを正確に理解する力が求められるため、設問として適切です。固有名詞（箱根、黒たまごなど）は文脈で理解できるよう工夫しています。',\n         'correct_answer': 2,\n         'choices': ['京都', '箱根', '沖縄', '北海道']},\n        'conversation': [{'gender': 'male',\n          'context': '来週、大学の友だちと旅行に行くんだけど、まだ行き先が決まっていないんだ。どこかおすすめの場所、ある？'},\n         {'gender': 'female',\n          'context': 'そうだね。どんなところが好き？自然が多い場所とか、温泉とか、歴史のある町とか。'},\n         {'gender': 'male',\n          'context': 'みんなでゆっくりできるところがいいな。できれば温泉も入りたいし、美味しいものも食べたい。'},\n         {'gender': 'female',\n          'context': 'それなら、箱根はどう？温泉も有名だし、景色もきれいで美術館もあるよ。それに、名物の黒たまごも食べられるんだ。'},\n         {'gender': 'male', 'context': 'いいね！箱根って、電車で行けるの？'},\n         {'gender': 'female',\n          'context': 'うん、新宿から特急で1時間半くらいで行けるよ。駅からバスやケーブルカーもあって便利だよ。'},\n         {'gender': 'male', 'context': 'ありがとう！みんなにも話してみる。他にもおすすめがあったら教えてね。'},\n         {'gender': 'female', 'context': 'うん、思いついたらまた連絡するね。'}]}},\n      {'topic': '交通状況について話す',\n       'result': {'questions': {'question': '男の人は、なぜ会社に着くのが遅くなったと言っていますか。',\n         'choices': ['交通事故があったから',\n          '電車が少し遅れたから',\n          '工事で道路が一方通行になっていたから',\n          '朝寝坊したから'],\n         'correct_answer': 3,\n         'explanation': '正答の根拠となる会話文は「工事中の道路があって、そこが一方通行になっていたから、みんな迂回しなきゃいけなかったんだよ。」です。事故はなかったと明言されており、電車の遅れについては女の人の話です。学習者は、会話の流れから正しい理由を聞き分け、他の選択肢に惑わされないよう注意が必要です。N3レベルでは、話題に出た情報と実際の理由を区別する聴解力が問われます。'},\n        'conversation': [{'gender': 'male',\n          'context': '今日は朝から道路がすごく混んでいたよ。いつもより30分も早く家を出たのに、会社に着いたのはぎりぎりだったんだ。'},\n         {'gender': 'female', 'context': 'そうなんだ。何か事故でもあったの？'},\n         {'gender': 'male',\n          'context': 'ううん、事故はなかったけど、工事中の道路があって、そこが一方通行になっていたから、みんな迂回しなきゃいけなかったんだよ。'},\n         {'gender': 'female',\n          'context': 'なるほど。それで渋滞ができていたんだね。私は電車で来たけど、電車も少し遅れていたよ。'},\n         {'gender': 'male', 'context': '最近、通勤時間帯はどこも混んでいるね。明日はもっと早く出た方がいいかな。'},\n         {'gender': 'female', 'context': 'そうだね。道路交通情報を朝チェックしてから出かけるといいかも。'},\n         {'gender': 'male', 'context': 'うん、そうするよ。ありがとう。'}]}},\n      {'topic': 'ショッピング体験を説明する',\n       'result': {'questions': {'question': 'この会話からわかる「新しいショッピング体験」の特徴は何ですか。',\n         'explanation': 'この問題は、会話全体から新しいショッピング体験の主な特徴を聞き取る力を問います。選択肢1が正解で、会話では「商品をためす」「店員が説明する」「安心して買い物ができる」など複数の特徴が述べられています。選択肢2はネットショッピングの特徴であり、会話内容と合いません。選択肢3はスペースについてのみを特徴としていますが、会話では他にも多くの特徴が語られているため不正解です。選択肢4は店員と話さない買い物ですが、会話では「店員と直接話すことの良さ」が強調されています。受験者は会話全体を聞き取り、要点をまとめて正しい選択肢を選ぶ必要があり、情報の取捨選択がポイントとなります。',\n         'correct_answer': 1,\n         'choices': ['商品をためしたり、店員と話しながら買い物ができること',\n          'すべての商品がネットでしか買えないこと',\n          'お店にコーヒーを飲みながら買い物ができるスペースがあることだけが特徴であること',\n          '店員と話さずに買い物をすること']},\n        'conversation': [{'gender': 'male',\n          'context': '最近、いろいろなお店で新しいショッピング体験ができるようになってきましたね。'},\n         {'gender': 'female',\n          'context': 'そうですね。たとえば、実際に商品を手に取ってためすことができたり、店員さんが商品の使い方をていねいに説明してくれたりします。'},\n         {'gender': 'male',\n          'context': '私も先週、駅前の新しい雑貨店に行ってみました。そこで気になった商品をためしてみたら、店員さんが「この商品はこうやって使うと便利ですよ」と教えてくれました。'},\n         {'gender': 'female',\n          'context': 'それはいいですね。ネットショッピングだと、実際に商品を見たり、さわったりすることができませんから。'},\n         {'gender': 'male',\n          'context': 'はい。あと、そのお店では、コーヒーを飲みながらゆっくり買い物ができるスペースもありました。'},\n         {'gender': 'female', 'context': 'それは楽しそうですね。買い物がもっと楽しくなりそうです。'},\n         {'gender': 'male',\n          'context': 'はい。やっぱり店員さんと直接話すことで、新しい発見もありますし、安心して買い物ができますね。'}]}},\n      {'topic': 'ペットについて話す',\n       'result': {'questions': {'question': '男の人はどうして猫を飼い始めましたか。',\n         'choices': ['犬が好きだから',\n          'アパートで犬が飼えなかったから',\n          '友だちにすすめられたから',\n          '猫を偶然見つけたから'],\n         'correct_answer': 2,\n         'explanation': 'この問題のポイントは、「犬を飼いたかったが、アパートが犬禁止で猫なら大丈夫だった」という理由を正確に聞き取ることです。N3レベルの語彙・文法で構成されていますが、「～なら大丈夫」「大家さんに言われて」などの表現に注意が必要です。選択肢には内容を混乱させやすいもの（1や4）が含まれており、正確なリスニング理解力が問われます。'},\n        'conversation': [{'gender': 'female', 'context': '最近、猫を飼い始めたって本当？'},\n         {'gender': 'male',\n          'context': 'うん、本当だよ。実は最初は犬を飼いたかったんだけど、このアパートは犬が飼えなくてね。大家さんに猫なら大丈夫だと言われて、猫を飼うことにしたんだ。'},\n         {'gender': 'female', 'context': 'どこで猫を見つけたの？'},\n         {'gender': 'male',\n          'context': '近くの動物保護施設で出会ったよ。小さくて、おとなしい子だったから、すぐに気に入ったんだ。'},\n         {'gender': 'female', 'context': '名前はもう決めたの？'},\n         {'gender': 'male', 'context': 'うん、「ミケ」って名前にしたよ。三毛猫だからね。'},\n         {'gender': 'female', 'context': 'かわいい名前だね。猫を飼い始めて、大変なことはあった？'},\n         {'gender': 'male',\n          'context': '最初は夜中に鳴かれて寝不足になったけど、今は慣れてきたよ。家に帰るとミケが待っててくれるから、毎日が楽しいんだ。'},\n         {'gender': 'female', 'context': 'いいね。私もいつか猫を飼ってみたいな。'}]}},\n      {'topic': '新しいスキルを学ぶ計画について話す',\n       'result': {'questions': {'question': '次の会話を聞いて、話の目的として最も適切なものを選びなさい。',\n         'choices': ['新しいスキルを学ぶための目標を決めるため',\n          '学習の計画を見直すため',\n          '友だちと一緒に勉強するため',\n          '新しい本を買うため'],\n         'correct_answer': 2,\n         'explanation': 'この問題では、会話の中で「計画を見直す」という目的が明確に語られるかを聞き取る必要があります。N3レベルの語彙や表現を正しく理解し、話し手の意図に注目することがポイントです。選択肢の中で似た内容があるため、計画の見直しが主題であることを正確に判断できるかが難しさとなります。'},\n        'conversation': [{'gender': 'male',\n          'context': '次の会話を聞いて、話の目的として最も適切なものを選びなさい。1. 新しいスキルを学ぶための目標を決めるため 2. 学習の計画を見直すため 3. 友だちと一緒に勉強するため 4. 新しい本を買うため'}]}}]},\n    {'subsection_title': '概要理解 (summary_understanding)',\n     'description': '3問。聴いた内容の大意やまとめを問う。',\n     'question_topics': [{'topic': '課題と解決策について話す',\n       'result': {'conversation': [{'gender': 'male',\n          'context': '部長：最近、会社の中でどんな課題があると思いますか。'},\n         {'gender': 'female',\n          'context': '社員：はい。私は、部門間のコミュニケーションがあまりうまくいっていないことが課題だと思います。例えば、営業部と開発部が情報を十分に共有できていません。'},\n         {'gender': 'male', 'context': '部長：なるほど。たしかに、連絡ミスで仕事が遅れることがありましたね。'},\n         {'gender': 'female',\n          'context': '社員：はい。ですから、定期的に部門ごとのミーティングを開いて情報を交換するのはどうでしょうか。'},\n         {'gender': 'male',\n          'context': '部長：いいアイデアですね。では、来週から週に一度、部門ごとのミーティングを始めましょう。'},\n         {'gender': 'female',\n          'context': '社員：ありがとうございます。私が日程を調整して、みんなに連絡します。'}],\n        'questions': {'question': 'このあと、社員はまず何をしますか。',\n         'choices': ['他の会社の会議に参加する',\n          '部門ごとのミーティングの日程を決める',\n          '営業部と開発部でランチ会を開く',\n          '部長に仕事の進み具合を報告する'],\n         'correct_answer': 2,\n         'explanation': 'この問題では、「課題」と「解決策」というビジネスシーンでよく使われるN3レベルの語彙が使われています。社員は「私が日程を調整して、みんなに連絡します」と話しているので、次にすることは「ミーティングの日程を決める」ことです。他の選択肢は会話の内容と合っていません。正答を選ぶには、会話の流れと要点を的確につかむ必要があります。'}}},\n      {'topic': '地域のイベントについて話す',\n       'result': {'questions': {'question': 'このあと、男の人は何をするつもりですか。',\n         'explanation': 'この問題では、聞き取りの中で「僕は写真を撮る係をやろうかな。イベントの写真をSNSにアップしたら、みんなにも見てもらえるし。」という男の人の発言がポイントです。N3レベルの語彙と表現（屋台、伝統的な踊り、ワークショップ、写真を撮るなど）を使いながら、会話の流れから「次に男の人がすること」を正確に把握する力が問われます。選択肢の中には似た内容も含まれているため、細かい聞き分けと要点の把握が主なチャレンジとなります。',\n         'correct_answer': 2,\n         'choices': ['伝統的な踊りに参加する', 'イベントで写真を撮る', '屋台で料理を作る', 'ワークショップに参加する']},\n        'conversation': [{'gender': 'female',\n          'context': '今度の週末、町で「ふれあいフェスティバル」があるの知ってる？'},\n         {'gender': 'male',\n          'context': 'うん、駅前の広場でやるんだよね？チラシを見たよ。何か面白そうなことあるかな。'},\n         {'gender': 'female',\n          'context': 'いろいろあるみたいだよ。地元の野菜を使った料理の屋台とか、伝統的な踊りのステージもあるって。'},\n         {'gender': 'male',\n          'context': 'へえ、楽しそうだね。僕、まだ町の伝統的な踊りを見たことがないから、見てみたいな。'},\n         {'gender': 'female',\n          'context': '私も！あと、子ども向けのワークショップもあるらしいよ。弟を連れて行こうかな。'},\n         {'gender': 'male',\n          'context': 'じゃあ、僕は写真を撮る係をやろうかな。イベントの写真をSNSにアップしたら、みんなにも見てもらえるし。'},\n         {'gender': 'female',\n          'context': 'いいね！じゃあ、当日は現地で待ち合わせしよう。私は弟と一緒に早めに行くね。'}]}},\n      {'topic': 'おすすめの旅行先について話す',\n       'result': {'questions': {'question': '女の人はこのあとどうしますか。',\n         'choices': ['京都に行くことを決める',\n          '沖縄に行くことを決める',\n          'どちらに行くか、もう少し考える',\n          '旅行に行くのをやめる'],\n         'correct_answer': 3,\n         'explanation': 'この会話では、女の人が京都と沖縄、どちらに行くか迷っていて、「もう少し考えて、どっちに行くか決めるね」と言っています。したがって、選択肢3が正解です。N3レベルの学習者にとって、「もう少し考えて、どっちに行くか決めるね」という表現が、すぐに決めない＝まだ決めていない、という意味を理解できるかどうかがポイントになります。また、選択肢1や2に引っ張られないように、会話の最後までしっかり聞く必要があります。'},\n        'conversation': [{'gender': 'female',\n          'context': '最近、どこか旅行に行きたいなと思ってるんだけど、どこかおすすめの場所ある？'},\n         {'gender': 'male',\n          'context': 'うーん、僕は去年、京都に行ったんだけど、とても楽しかったよ。お寺もきれいだし、町の雰囲気も落ち着いていてよかった。'},\n         {'gender': 'female', 'context': 'へえ、京都かあ。おいしいものもたくさんありそうだね。'},\n         {'gender': 'male',\n          'context': 'うん、抹茶のスイーツとか、湯豆腐も食べたよ。あと、夜のライトアップもきれいだったよ。'},\n         {'gender': 'female',\n          'context': 'いいなあ。私、まだ京都に行ったことがないから、今度行ってみようかな。でも、沖縄も気になってるんだ。'},\n         {'gender': 'male',\n          'context': '沖縄もいいね。海がきれいだし、リゾート気分も味わえるし。夏だったら沖縄もおすすめだよ。'},\n         {'gender': 'female', 'context': 'うーん、迷うなあ。もう少し考えて、どっちに行くか決めるね。'}]}}]},\n    {'subsection_title': '積極的表現 (active_expression)',\n     'description': '4問。会話の中で自分の意見や希望を述べる場面を聞き取る。',\n     'question_topics': [{'topic': 'キャリア目標について話す',\n       'result': {'image_background': 'The picture shows a company meeting room. Three people are sitting around a table: a manager, a young male employee (pointed by an arrow), and a female colleague. There are documents and laptops on the table. Everyone looks serious but positive. The manager is asking the young employee about his career goals as part of a regular evaluation meeting.',\n        'conversation': [{'gender': 'male',\n          'context': '部長：山田さん、今日はこれからのキャリア目標について話しましょう。山田さんは、今後どんな仕事にチャレンジしたいと考えていますか？'},\n         {'gender': 'male',\n          'context': '山田：はい、私は今の仕事にやりがいを感じていますが、もっとチームに貢献できるようになりたいと思っています。'},\n         {'gender': 'male', 'context': '部長：具体的に、どんなことを目標にしていますか？'}],\n        'questions': {'question': 'What will the person pointed by the arrow (the young employee) say next?',\n         'choices': ['まず、プロジェクトリーダーとしての経験を積みたいです。',\n          '会社を辞めて、海外で働きたいです。',\n          '休みを増やして、趣味の時間を増やしたいです。'],\n         'correct_answer': 1,\n         'explanation': \"This question assesses students' ability to understand context and predict a logical, professional response in a career discussion. Options 2 and 3 do not align with the positive and proactive tone expected in a formal career goal setting within a company. Option 1 uses N3-level vocabulary and is the most appropriate and realistic answer in a Japanese workplace setting, reflecting ambition and willingness to contribute to the team. The challenge for students is to distinguish between personal wishes and suitable career goals in a business context.\"}}},\n      {'topic': '将来の抱負について話す',\n       'result': {'image_background': 'The picture shows a Japanese classroom. Four students are sitting together in a group, with a teacher standing nearby. One girl with short hair (indicated by an arrow) is holding a sheet of paper and looks a little nervous. The other students are watching her. The teacher has just asked each student to talk about their “future goals” (将来の抱負).',\n        'conversation': [{'gender': 'male',\n          'context': '先生：それでは、みなさん、順番に将来の抱負について話してください。まず、田中さんからお願いします。'},\n         {'gender': 'female',\n          'context': '田中：はい。私は将来、英語の先生になりたいです。そのために、もっと英語を勉強しようと思います。'},\n         {'gender': 'male', 'context': '先生：いいですね。努力してください。では、次は山本さん、どうぞ。'},\n         {'gender': 'female',\n          'context': '山本：はい。私は、大学で経済を勉強して、将来は自分の会社を作りたいです。そのために、今から経済の本をたくさん読もうと思っています。'},\n         {'gender': 'male',\n          'context': '先生：すばらしいですね。では、矢印の女の子、佐藤さん、次はあなたの番です。'}],\n        'questions': {'question': 'このあと、矢印の女の子（佐藤さん）は何と言いますか。',\n         'choices': ['私は日本の歴史に興味があるので、歴史の先生になりたいです。',\n          '私はサッカーが好きなので、毎日サッカーの練習をしています。',\n          '私は料理が得意なので、今度みんなにお弁当を作ります。'],\n         'correct_answer': 1,\n         'explanation': 'この問題のポイントは、「将来の抱負」というテーマに合う答えを選ぶことです。1番は「歴史の先生になりたい」という明確な将来の目標を理由とともに述べており、N3レベルの文法や語彙が使われています。2番と3番は現在の趣味や特技について述べていますが、「将来どうなりたいか」という抱負にはなっていません。N3学習者にとって、意志や希望を表す「〜たいです」「〜ので」などの文型を理解し、将来の目標を表現できるかが問われています。また、誤答選択肢も自然な内容なので、文脈理解力と将来の抱負表現の区別が試されます。'}}},\n      {'topic': '友人へのプレゼント選びについて話す',\n       'result': {'image_background': 'In the picture, two university students are sitting at a café table. One student (pointed by the arrow) looks worried and is holding her smartphone, while the other is smiling and showing a small notebook. On the table, there are two cups of coffee and a gift bag. The atmosphere suggests they are discussing what to buy as a birthday present for a mutual friend.',\n        'conversation': [{'gender': 'female',\n          'context': 'もうすぐ佐藤さんの誕生日だけど、何をプレゼントしたらいいか、全然決められなくて困ってるの。去年はハンカチをあげたけど、今年は何か特別なものがいいなあ。'},\n         {'gender': 'female',\n          'context': '佐藤さん、最近コーヒーにハマってるみたいだよ。コーヒーカップとかどう？'},\n         {'gender': 'female', 'context': 'うーん、それもいいけど、他に何かアイデアあるかな。悩むなあ。'}],\n        'questions': {'question': 'このあと、矢印の人は何と言いますか。',\n         'choices': ['じゃあ、コーヒーカップを見に行こうかな。',\n          'やっぱり、去年と同じハンカチにしよう。',\n          'もうプレゼントは買ってあるよ。'],\n         'correct_answer': 1,\n         'explanation': \"The main challenge in this question is distinguishing between the options based on the context of the conversation. The student pointed by the arrow is indecisive about the gift and is considering new ideas. Option 1 shows a natural next step based on the friend's suggestion. Option 2 contradicts her desire to choose something special and different from last year. Option 3 is not logical, as she is still undecided and hasn't bought anything yet. This tests careful listening and understanding of nuance at the N3 level.\"}}},\n      {'topic': '特別な日の計画について話す',\n       'result': {'image_background': 'There is a picture of a family of three—father, mother, and their teenage daughter—sitting together at the living room table. On the table are a cake box, a bouquet of flowers, and a small present. The father is pointing to a calendar where today’s date is circled in red. The mother, who is pointed by the arrow, is smiling and looking at her daughter, who looks surprised and happy. The recording is a conversation among the family members about today’s special plan.',\n        'conversation': [{'gender': 'male', 'context': '今日は家族みんなで集まる特別な日だね。'},\n         {'gender': 'female', 'context': 'えっ？どうして？'},\n         {'gender': 'female', 'context': '今日はあなたの誕生日でしょう？'},\n         {'gender': 'female', 'context': 'あっ、そうだった！すっかり忘れてた！'},\n         {'gender': 'male', 'context': 'それで、今夜はみんなで外で食事しようと思ってるんだ。'},\n         {'gender': 'female', 'context': '（娘に向かって）'}],\n        'questions': {'question': 'What will the mother say next?',\n         'choices': ['じゃあ、一緒にケーキを作りましょうか。',\n          '今日はあなたの好きなレストランに行く予定よ。',\n          '今から公園で散歩しましょう。'],\n         'correct_answer': 2,\n         'explanation': 'The main challenge for students is to listen for key information about the special day and the planned activity. The dialogue context makes it clear that the family is celebrating the daughter’s birthday and the father has suggested going out for dinner. Option 2 matches this context, using the N3-level phrase 「行く予定」 to express a future plan. Option 1 and 3 mention other activities (making a cake, going for a walk) that are not mentioned in the dialogue, so students need to distinguish the correct future plan based on the listening.'}}}]},\n    {'subsection_title': '即時応答 (immediate_ack)',\n     'description': '9問。短い会話や問いかけに対して即座に適切な返答を選ぶ。',\n     'question_topics': [{'topic': 'バスの時刻表を尋ねる',\n       'result': {'question': 'このあと、男の人はどうしますか。',\n        'explanation': 'この問題のポイントは、会話の流れから「次のバスは10時15分に出発しますよ」と言われた後、男の人がどうするかを考えることです。N3レベルの学習者にとって、「時刻表」「出発」「待つ」など基本的な語彙の理解が問われます。選択肢1は「すぐにバスに乗る」ですが、バスはまだ来ていません。選択肢2は「もう一度聞く」ですが、すでに答えをもらっています。したがって、正しい選択は「10時15分まで待ちます」となります。時間表現や会話の流れを正確に理解することが主なチャレンジポイントです。',\n        'suggestion': '3. 10時15分まで待ちます。',\n        'conversation': [{'gender': 'male',\n          'context': 'すみません、このバス停から駅まで行くバスは何時に出ますか。'},\n         {'gender': 'female', 'context': 'ええと、時刻表を見ますね。次のバスは10時15分に出発しますよ。'},\n         {'gender': 'male', 'context': 'ありがとうございます。'}]}},\n      {'topic': '領収書を求める',\n       'result': {'question': '会話を聞いて、次に男の人が何をするか、最もよいものを選びなさい。',\n        'conversation': [{'gender': 'female',\n          'context': 'すみません、こちらでコーヒーとサンドイッチをいただきました。領収書をいただけますか？'},\n         {'gender': 'male', 'context': 'はい、少々お待ちください。今、レジで発行しますので。'}],\n        'suggestion': '1. 男の人は領収書を発行する。',\n        'explanation': 'この問題のポイントは、「領収書をいただけますか？」という依頼に対して、男の人が「今、レジで発行します」と答えているため、次に男の人がすることは領収書の発行です。N3レベルの学習者にとって、「発行する」「領収書」などの語彙の聞き取りと、会話の流れを正確に理解することが課題となります。選択肢の中には他の店員の業務（コーヒーを作る、サンドイッチを温める）も含まれているため、聞き取りの注意力が求められます。'}},\n      {'topic': 'おすすめを尋ねる',\n       'result': {'question': 'この後、男の人はどうしますか。',\n        'explanation': 'この問題のポイントは、「今から行ってみます」という男の人の発言です。これは、女の人がすすめた駅前のイタリアンレストランに行く意志を表しています。N3レベルの語彙と表現を使っていますが、「おすすめ」「行ってみます」など、聞き取りが苦手な学習者は話の流れを正確に理解できないことがあります。「おすすめを尋ねる」→「すすめられた場所に行く」という自然な流れを押さえましょう。',\n        'suggestion': '1. 駅の前のレストランに行く',\n        'conversation': [{'gender': 'male',\n          'context': 'すみません、この近くでおすすめのレストランはありますか？'},\n         {'gender': 'female',\n          'context': 'そうですね、駅の前に新しいイタリアンレストランができましたよ。とてもおいしいですよ。'},\n         {'gender': 'male', 'context': 'ありがとうございます。今から行ってみます。'}]}},\n      {'topic': '引っ越しの準備について話す',\n       'result': {'question': '男の人はこれから何をしますか。',\n        'conversation': [{'gender': 'female',\n          'context': '田中さん、引っ越しの準備は進んでいますか？'},\n         {'gender': 'male',\n          'context': 'まだあまりできていません。今日はまず、いらないものを捨てようと思っています。'},\n         {'gender': 'female', 'context': 'そうですか。荷物が少なくなると、荷造りも楽になりますよね。'}],\n        'suggestion': '1. いらないものを捨てる',\n        'explanation': 'この問題の主な難しさは、「これから何をするか」という未来の行動を聞き取る点です。会話では「今日はまず、いらないものを捨てようと思っています」という発言があり、意志表現「〜ようと思っています」に注目できるかがポイントです。N3レベルの語彙「いらないもの」「捨てる」も重要です。'}},\n      {'topic': '学校や職場での一日の流れについて話す',\n       'result': {'question': '次の会話を読んで、最も適切なものを一つ選びなさい。',\n        'conversation': [{'gender': 'female',\n          'context': '田中さん、今日の仕事はもう終わりましたか？'},\n         {'gender': 'male', 'context': 'はい、さっき終わりました。これから教室の掃除をします。'},\n         {'gender': 'female', 'context': 'じゃあ、掃除が終わったら帰るんですね。'},\n         {'gender': 'male', 'context': 'はい、そうです。'}],\n        'suggestion': '1. 田中さんは掃除の前に少し休憩します。 2. 田中さんはこれから教室の掃除をします。 3. 田中さんは掃除のあとにまた仕事をします。',\n        'explanation': 'この会話では、田中さんが「これから教室の掃除をします」と言っています。選択肢1の「休憩」や選択肢3の「また仕事をします」といった内容は会話に出てきません。田中さんの次の行動は掃除をすることなので、2が正解です。会話の流れを正確に読み取り、登場人物の次の行動を理解することがポイントです。'}},\n      {'topic': '言語学習のコツについて話す',\n       'result': {'question': '会話の内容から、女の人が次に取る行動として最も適切なものを一つ選びなさい。',\n        'explanation': 'この問題は、会話の流れを理解し、アドバイスをどう受け止めて行動を変えるかを問うものです。N3レベルの「日記を書く」「ドラマを見る」「楽しみながら勉強する」といった表現が理解できるかがポイントです。選択肢も具体的に違いが分かるように設定しており、正しい選択肢を選ぶためには、会話の意図を正確に読み取る必要があります。',\n        'suggestion': '女の人は日本語で日記を書いたり、ドラマを見たりして勉強を続けることが最も適切です。',\n        'conversation': [{'gender': 'female',\n          'context': '最近、日本語の勉強がなかなか続かなくて困っています。'},\n         {'gender': 'male',\n          'context': 'そうなんですか。僕は、自分の趣味について日本語で日記を書いたり、好きなドラマを日本語で見たりしていますよ。'},\n         {'gender': 'female', 'context': 'なるほど。楽しみながら勉強するのが大事なんですね。'},\n         {'gender': 'male', 'context': 'ええ、毎日少しずつ続けることもポイントですよ。'}]}},\n      {'topic': '好きな季節について話す',\n       'result': {'question': '今週末、男の人は何をしますか。',\n        'explanation': '男の人は「今週末も友だちと山に行くつもりです」と言っています。「紅葉を見に行く」という前の発言と合わせて、1が正解です。この問題のポイントは、「紅葉」「山に行く」「つもり」の語彙や表現を正しく理解できるかどうかです。秋の季節感や日本の文化的な行動を反映した内容で、N3レベルの学習者に適しています。選択肢も季節や会話内容に関連し、消去法だけでなく内容理解が必要となっています。',\n        'suggestion': '1. 山へ紅葉を見に行きます',\n        'conversation': [{'gender': 'female',\n          'context': '鈴木さん、秋は何をするのが好きですか。'},\n         {'gender': 'male',\n          'context': '僕は秋になると、よく山へ紅葉を見に行きます。きれいな葉を見ながら歩くのが楽しいです。'},\n         {'gender': 'female', 'context': 'いいですね。秋は涼しくて散歩にちょうどいい季節ですよね。'},\n         {'gender': 'male', 'context': 'はい。今週末も友だちと山に行くつもりです。'}]}},\n      {'topic': '地元の食べ物や特産品について話す',\n       'result': {'question': '田中さん（女）はこの後どうしますか。',\n        'explanation': 'この問題のポイントは、会話の流れを正しく理解し、田中さん（女）が次に何をするかを推測することです。最後に田中さん（男）が「僕も買ってみようかな」と言っているので、田中さん（女）は「おすすめですよ」などとすすめる可能性が高いです。選択肢2や3は会話からは自然ではありません。N3レベルの語彙や表現を使い、ふりがなも付けて、より分かりやすくしました。',\n        'suggestion': '1. 男にまんじゅうをすすめる。',\n        'conversation': [{'gender': 'male',\n          'context': '田中さん（女）、週末はどこか行きましたか？'},\n         {'gender': 'female',\n          'context': 'はい、地元の市場（いちば）に行ってきました。新鮮（しんせん）な野菜（やさい）や果物（くだもの）、それに有名（ゆうめい）な特産品（とくさんひん）のまんじゅうを買いました。'},\n         {'gender': 'male', 'context': 'へえ、そのまんじゅうはどんな味（あじ）ですか？'},\n         {'gender': 'female',\n          'context': '甘（あま）くて、とてもおいしいですよ。お土産（みやげ）にも人気（にんき）なんです。'},\n         {'gender': 'male', 'context': 'そうなんですか。今度（こんど）、僕（ぼく）も買ってみようかな。'}]}},\n      {'topic': '健康診断や医者への訪問について話す',\n       'result': {'question': 'このあと、男の人は何をしますか。',\n        'explanation': 'この問題のポイントは、「これからどうするんですか？」という質問に対して、男の人が「医者に相談しに行こうと思っています」と答えていることです。したがって、男の人が次にすることは「病院に行って医者に相談する」になります。N3レベルでは、「相談する」「健康診断」などの語彙の理解と、会話の流れから次の行動を推測する力が問われます。選択肢2や3にひきずられず、会話文の意図を正確につかむことが主なチャレンジです。',\n        'suggestion': '1. 病院に行って医者に相談する',\n        'conversation': [{'gender': 'female', 'context': '田中さん、最近体の調子はどうですか？'},\n         {'gender': 'male', 'context': '実は、会社の健康診断で血圧が高いと言われて…。'},\n         {'gender': 'female', 'context': 'そうなんですか。それで、これからどうするんですか？'},\n         {'gender': 'male', 'context': '医者に相談しに行こうと思っています。'}]}}]}]}]}"
     },
     "execution_count": 10,
     "metadata": {},
     "output_type": "execute_result"
    }
   ],
   "source": [
    "output_data"
   ],
   "metadata": {
    "collapsed": false,
    "ExecuteTime": {
     "end_time": "2025-05-14T14:45:29.311329400Z",
     "start_time": "2025-05-14T14:45:29.288544600Z"
    }
   },
   "id": "307398e88bf20dc3",
   "execution_count": 10
  },
  {
   "cell_type": "code",
   "execution_count": 11,
   "outputs": [],
   "source": [
    "def render_to_html(sections):  \n",
    "    html = '<html><body>\\n'  \n",
    "    for section in sections:  \n",
    "        html += f'<h1>{section.get(\"section_title\", \"\")}</h1>\\n'  \n",
    "        for subsection in section.get(\"subsections\", []):  \n",
    "            html += f'<h2>{subsection.get(\"subsection_title\", \"\")}</h2>\\n'  \n",
    "            if \"description\" in subsection:  \n",
    "                html += f'<p>{subsection[\"description\"]}</p>\\n'  \n",
    "            for qtopic in subsection.get(\"question_topics\", []):  \n",
    "                html += f'<h3>{qtopic.get(\"topic\", \"\")}</h3>\\n'  \n",
    "                result = qtopic.get(\"result\", {})  \n",
    "                if isinstance(result, dict):  \n",
    "                    if \"html_article\" in result:  \n",
    "                        html += result[\"html_article\"] + \"\\n\"  \n",
    "                    if \"question\" in result:  \n",
    "                        html += f'<p><strong>Q: {result[\"question\"]}</strong></p>\\n'  \n",
    "                        if \"choices\" in result:  \n",
    "                            correct = result.get(\"correct_answer\", -1)  \n",
    "                            html += '<ul>\\n'  \n",
    "                            for idx, choice in enumerate(result[\"choices\"], 1):  \n",
    "                                if idx == correct:  \n",
    "                                    html += f\"<li><b>{choice}</b> <span style='color:green;'>(correct)</span></li>\\n\"  \n",
    "                                else:  \n",
    "                                    html += f\"<li>{choice}</li>\\n\"  \n",
    "                            html += '</ul>\\n'\n",
    "                        if \"explanation\" in result:  \n",
    "                            html += f'<p><em>Explanation: {result[\"explanation\"]}</em></p>\\n'                              \n",
    "                    if \"questions\" in result and isinstance(result[\"questions\"], list):  \n",
    "                        for q in result[\"questions\"]:  \n",
    "                            html += f'<p><strong>Q: {q[\"question\"]}</strong></p>\\n'  \n",
    "                            if \"choices\" in q:  \n",
    "                                correct = q.get(\"correct_answer\", -1)  \n",
    "                                html += '<ul>\\n'  \n",
    "                                for idx, choice in enumerate(q[\"choices\"], 1):  \n",
    "                                    if idx == correct:  \n",
    "                                        html += f\"<li><b>{choice}</b> <span style='color:green;'>(correct)</span></li>\\n\"  \n",
    "                                    else:  \n",
    "                                        html += f\"<li>{choice}</li>\\n\"  \n",
    "                                html += '</ul>\\n'\n",
    "                            if \"explanation\" in q:  \n",
    "                                html += f'<p><em>Explanation: {q[\"explanation\"]}</em></p>\\n'                                  \n",
    "                    if \"questions\" in result and isinstance(result[\"questions\"], dict):  \n",
    "                        q = result[\"questions\"]  \n",
    "                        html += f'<p><strong>Q: {q[\"question\"]}</strong></p>\\n'\n",
    "                        if \"choices\" in q:  \n",
    "                            correct = q.get(\"correct_answer\", -1)  \n",
    "                            html += '<ul>\\n'  \n",
    "                            for idx, choice in enumerate(q[\"choices\"], 1):  \n",
    "                                if idx == correct:  \n",
    "                                    html += f\"<li><b>{choice}</b> <span style='color:green;'>(correct)</span></li>\\n\"  \n",
    "                                else:  \n",
    "                                    html += f\"<li>{choice}</li>\\n\"  \n",
    "                            html += '</ul>\\n'\n",
    "                        if \"explanation\" in q:  \n",
    "                            html += f'<p><em>Explanation: {q[\"explanation\"]}</em></p>\\n' \n",
    "    html += '</body></html>'  \n",
    "    return html"
   ],
   "metadata": {
    "collapsed": false,
    "ExecuteTime": {
     "end_time": "2025-05-14T14:45:29.454011800Z",
     "start_time": "2025-05-14T14:45:29.309322200Z"
    }
   },
   "id": "aa98a476d1ded815"
  },
  {
   "cell_type": "code",
   "outputs": [
    {
     "data": {
      "text/plain": "<IPython.core.display.Markdown object>",
      "text/markdown": "<html><body>\n<h1>第1部：語彙・文法</h1>\n<h2>漢字読み (kanji_reading)</h2>\n<p>8問。与えられた漢字の読み仮名をひらがなで答える。</p>\n<h3>お気に入りのレストランについて話す</h3>\n<p><strong>Q: 下線部の語の読み方として最も適当なものを、1・2・3・4の中から一つ選びなさい。私は休日によくお気に入りのレストランに行きます。</strong></p>\n<ul>\n<li><b>おきにいり</b> <span style='color:green;'>(correct)</span></li>\n<li>おきにい</li>\n<li>おきあいり</li>\n<li>おきにいみ</li>\n</ul>\n<p><em>Explanation: 「お気に入り」は「特に好きなもの」「愛着のあるもの」という意味で、日常会話や文章でよく使われる表現です。語全体の正しい読み方は「おきにいり」です。JLPT N3レベルの学習者にとっては、送り仮名を含む語の読み方を正確に覚えることが重要なポイントです。選択肢2、3、4は実際には使われない読み方なので、正しい音のつながりと送り仮名に注意して覚えましょう。</em></p>\n<h3>地元の観光名所について話す</h3>\n<p><strong>Q: 地元の **観光名所** について話す。  1 かんこうみょうしょ  2 かんこうめいしょ  3 かんこうめいところ  4 かんこうなところ</strong></p>\n<ul>\n<li>かんこうみょうしょ</li>\n<li><b>かんこうめいしょ</b> <span style='color:green;'>(correct)</span></li>\n<li>かんこうめいところ</li>\n<li>かんこうなところ</li>\n</ul>\n<p><em>Explanation: 「観光名所」はN3レベルでよく出る語彙ですが、「名所（めいしょ）」の読みが難しいと感じる学習者が多いです。「名（めい）」は「有名（ゆうめい）」などで馴染みがあっても、「所（しょ）」の音読みとの組み合わせが分かりづらいからです。また、「名所」を「みょうしょ」と読んでしまうミスや、「名」と「所」を訓読みで「めいところ」などと読んでしまうこともよく見られます。選択肢2「かんこうめいしょ」が正しい読みです。</em></p>\n<h3>現れ</h3>\n<p><strong>Q: 次の漢字の読み方として最もよいものを、1・2・3・4から一つ選びなさい。彼の努力がついに現れとなった。</strong></p>\n<ul>\n<li><b>あらわれ</b> <span style='color:green;'>(correct)</span></li>\n<li>うつれ</li>\n<li>ひかれ</li>\n<li>みだれ</li>\n</ul>\n<p><em>Explanation: 「現れ（あらわれ）」は、目に見える形で現れることや、何かが表面に出てくることを意味する名詞です。N3レベルで頻出する語彙であり、動詞「現れる（あらわれる）」の名詞形です。他の選択肢「うつれ」「ひかれ」「みだれ」は、それぞれ「移れ」「光れ」「乱れ」という意味や読みですが、「現れ」とは関係ありません。学習者が混同しやすいポイントは、「現」という漢字が「げん」「うつ（す）」など複数の読み方を持つこと、また「現れ」と「表れ（あらわれ）」の使い分けがあることです。関連語：現れる（あらわれる／to appear）、表れる（あらわれる／to become apparent）</em></p>\n<h3>冗談</h3>\n<p><strong>Q: 次の漢字の読み方として正しいものを選びなさい。冗談は言わないでください。</strong></p>\n<ul>\n<li>じょうたん</li>\n<li><b>じょうだん</b> <span style='color:green;'>(correct)</span></li>\n<li>じょだん</li>\n<li>じょうなん</li>\n</ul>\n<p><em>Explanation: 「冗談」は日常会話でよく使われるN3レベルの語彙です。「冗」は「じょう」、「談」は「だん」と読むため、正しい組み合わせは「じょうだん」となります。選択肢には、発音が似ているものや誤読しやすいものが含まれており、漢字の音読みの知識が問われます。特に「じょうたん」や「じょだん」は一見正しそうに見えるため、注意が必要です。</em></p>\n<h3>栄養</h3>\n<p><strong>Q: 次の漢字の正しい読み方を選びなさい。栄養</strong></p>\n<ul>\n<li><b>えいよう</b> <span style='color:green;'>(correct)</span></li>\n<li>えいしょく</li>\n<li>せいよう</li>\n<li>せいしょく</li>\n</ul>\n<p><em>Explanation: 「栄養（えいよう）」は、食事や健康に関する会話・文章で頻繁に使われるN3レベルの重要語彙です。「栄」は「えい」、「養」は「よう」と読むのが一般的ですが、「養」には「やしな（う）」や「いく」などの読みもあり、漢字の音読み・訓読みの区別が混乱しやすい点が学習者にとっての難しさです。また、「栄」の読みは「えい」と「さか（える）」があり、「養」は「よう」と「やしな（う）」があります。選択肢の「せいよう」は「西洋（せいよう）」の読みと混同しやすく、「せいしょく」は「生殖（せいしょく）」の読みと混同しやすい例です。また、「えいしょく」は「栄食」という熟語は一般的ではありませんが、似た音の組み合わせとして誤答例に挙げられます。このように、実際に存在する語彙や音の似た熟語と混同しやすい点が、漢字語彙問題の主な難しさとなります。</em></p>\n<h3>豊か</h3>\n<p><strong>Q: 田中さんは都会での生活に疲れて、**自然が豊かな**町に引っ越すことにしました。次のうち、空欄に入る適切な読み方はどれですか？</strong></p>\n<ul>\n<li>ほうふな</li>\n<li><b>ゆたかな</b> <span style='color:green;'>(correct)</span></li>\n<li>とよかな</li>\n<li>ほうかな</li>\n</ul>\n<p><em>Explanation: 「豊か」は「ゆたか」と読み、な形容詞（形容動詞）です。「自然が豊かな町」は、自然が十分にあって恵まれている町という意味になります。選択肢1の「ほうふな」は「豊富な」で、「ほうふ」と読む別の単語です。選択肢3「とよかな」、4「ほうかな」は誤読です。「豊か」は「豊富（ほうふ）」と混同しやすいため、漢字と言葉の使い分けに注意しましょう。主なポイントと難しさ：・「豊か」はN3レベルの重要語で、意味・読み・文法（な形容詞）を正確に押さえる必要があります。・「豊富（ほうふ）」との違いが混乱しやすいので、選択肢に入れることで識別力を問うことができます。・やや長めの文脈にすることで、文脈理解力も同時に測れます。</em></p>\n<h3>筋肉</h3>\n<p><strong>Q: 筋肉は身体を動かすために大切な組織です。この「筋肉」の正しい読み方を選びなさい。</strong></p>\n<ul>\n<li><b>きんにく</b> <span style='color:green;'>(correct)</span></li>\n<li>きんしょく</li>\n<li>すじにく</li>\n<li>けんにく</li>\n</ul>\n<p><em>Explanation: 「筋肉」はJLPT N3レベルでよく出る語彙です。漢字「筋（きん）」と「肉（にく）」を正しく組み合わせて読めるかがポイントです。「筋」は「すじ」とも読めますが、熟語では「きん」と読むことが多く、「筋肉」は「きんにく」となります。他の選択肢は間違った読み方や意味の異なる語です。漢字の訓読みと音読みの区別が難しい点が、この問題の主なチャレンジです。</em></p>\n<h3>答案</h3>\n<p><strong>Q: この書類の規則をよく読んでください。次の中で「きそく」と読む漢字はどれですか？</strong></p>\n<ul>\n<li><b>きそく</b> <span style='color:green;'>(correct)</span></li>\n<li>きぞく</li>\n<li>きそん</li>\n<li>きせつ</li>\n</ul>\n<p><em>Explanation: 「規則（きそく）」は「ルール」という意味で、会社や学校などでよく使われるN3レベルの重要語彙です。「きぞく（貴族）」「きそん（既存）」「きせつ（季節）」は実在する日本語の読みで、音が似ているため間違えやすいですが、意味が異なります。漢字の意味と音を正確に結びつけることがポイントです。</em></p>\n<h2>漢字書き取り (write_chinese)</h2>\n<p>6問。ひらがなで書かれた単語を漢字で書く。</p>\n<h3>しゅつじょう（出場）</h3>\n<p><strong>Q: 彼は毎年、マラソン大会に しゅつじょう しています。今年も参加する予定です。</strong></p>\n<ul>\n<li><b>出場</b> <span style='color:green;'>(correct)</span></li>\n<li>出張</li>\n<li>出演</li>\n<li>出席</li>\n</ul>\n<p><em>Explanation: 「しゅつじょう」は「出場」と書き、スポーツ大会やコンクールなどに参加・出ることを意味します。選択肢2「出張」は仕事のために他の場所へ行くこと、選択肢3「出演」は舞台やテレビなどに出ること、選択肢4「出席」は会議や授業などに出ることを指し、いずれも「出場」とは意味が異なります。この問題では、似た読みや漢字を持つ語句が並んでいるため、文脈をよく読み取り、語彙の正確な使い分けができるかがポイントとなります。特に「出張」や「出演」など、日常でもよく使われる語と混同しやすいため、意味の違いをしっかり理解しているかを問う良問です。</em></p>\n<h3>しょくひん（食品）</h3>\n<p><strong>Q: 【指示】下線部のことばの正しい漢字表記を、1～4の中から一つ選びなさい。このスーパーでは新鮮な しょくひん がたくさん売られています。</strong></p>\n<ul>\n<li><b>食品</b> <span style='color:green;'>(correct)</span></li>\n<li>食員</li>\n<li>食品物</li>\n<li>食員品</li>\n</ul>\n<p><em>Explanation: 「食品」はN3レベルで頻出する語彙です。類似する漢字語が多いので注意が必要です。</em></p>\n<h3>せつやく（節約）</h3>\n<p><strong>Q: 家計のために せつやく を心がけています。正しい漢字表記を選んでください。</strong></p>\n<ul>\n<li><b>節約</b> <span style='color:green;'>(correct)</span></li>\n<li>節約化</li>\n<li>節税</li>\n<li>節約費</li>\n</ul>\n<p><em>Explanation: この問題のポイントは、「せつやく」という日常的な言葉に対して、正しい漢字表記を選ばせることです。 「節約（せつやく）」は「無駄遣いをしないで控えること、倹約すること」という意味で、N3の重要単語です。 選択肢2「節約化」は実際には使われない表現で、語尾の「化」がついていることで迷わせます。 選択肢3「節税」は「税金を節約すること」で、意味が異なりますが、似た漢字なので混同しやすいです。 選択肢4「節約費」も実際には使われない表現で、「費」がつくことで「費用」と混同しやすくなっています。 漢字の組み合わせや意味の違いに注意する必要があり、N3レベルの漢字力と語彙力を問う良問です。</em></p>\n<h3>けんこう（健康）</h3>\n<p><strong>Q: 次の文の（　　　）に入る正しい漢字を、1～4の中から一つ選びなさい。毎日運動をして、（けんこう）に気をつけています。</strong></p>\n<ul>\n<li>健考</li>\n<li><b>健康</b> <span style='color:green;'>(correct)</span></li>\n<li>建康</li>\n<li>健体</li>\n</ul>\n<p><em>Explanation: 「けんこう」に正しく対応する漢字は「健康」です。1の「健考」は実際には存在しない熟語ですが、読みが似ているため迷いやすい選択肢です。3の「建康」は中国の地名で、日本語では一般的に使われません。4の「健体」は「けんたい」と読み、「健康な体」という意味を持ちますが、「けんこう」とは読みません。このように、似た漢字や読み方に注意して、正しい語彙知識を身につけることが大切です。N3レベルでは、日常会話や文章で頻出する語彙の正しい漢字表記を問うことが重要です。似た漢字や意味が近い単語が多く、混乱しやすいので、文脈と漢字の意味・読み方の両方を確認しましょう。また、日本語学習者にとっては、日本語で一般的に使われる表現かどうかも判断のポイントとなります。</em></p>\n<h3>しゅうにゅう（収入）</h3>\n<p><strong>Q: 彼は毎月の しゅうにゅう が安定しています。</strong></p>\n<ul>\n<li><b>収入</b> <span style='color:green;'>(correct)</span></li>\n<li>所得</li>\n<li>収納</li>\n<li>入収</li>\n</ul>\n<p><em>Explanation: 「しゅうにゅう」の正しい漢字は「収入」です。他の選択肢も似た意味や読みを持つ熟語ですが、意味や使い方が異なります。「所得」は収入から経費などを差し引いた残りの金額、「収納」は物やお金をしまうこと、「入収」は実際には使われない言葉です。N3レベルでは、音読みの熟語で紛らわしいものが多いため、意味と正しい漢字の組み合わせを覚えているかが問われます。</em></p>\n<h3>かんしゃ（感謝）</h3>\n<p><strong>Q: 田中さんには、いつも助けてもらっているので、心から かんしゃ の気持ちを伝えました。</strong></p>\n<ul>\n<li>感情</li>\n<li><b>感謝</b> <span style='color:green;'>(correct)</span></li>\n<li>感激</li>\n<li>感想</li>\n</ul>\n<p><em>Explanation: この問題では、「かんしゃ」の正しい漢字を選ぶことが求められています。「感謝」は、誰かの親切や助けに対して「ありがたい」と思う気持ちを表す言葉です。選択肢には「感情（かんじょう）」「感激（かんげき）」「感想（かんそう）」など、意味が似ているように見える語が並んでいるため、文の内容をよく読んで正しい言葉を選ぶ必要があります。「感謝」は「ありがとう」と同じ気持ちを表す時に使います。</em></p>\n<h2>語彙意味選択 (word_meaning)</h2>\n<p>11問。下線部の語の意味に最も近いものを選ぶ。</p>\n<h3>必死</h3>\n<p><strong>Q: 次の文の（　）に入る最も適切な漢字を、1～4の中から一つ選びなさい。彼は試験に合格するために、毎日（　）に勉強している。</strong></p>\n<ul>\n<li>必至</li>\n<li><b>必死</b> <span style='color:green;'>(correct)</span></li>\n<li>必須</li>\n<li>決死</li>\n</ul>\n<p><em>Explanation: この問題は、「ひっし」という同じ読みを持つ漢字語彙の中から、文脈に合う正しい漢字を選ぶ問題です。「必死」は「死ぬ覚悟で全力を尽くすこと」という意味で、日常的に「必死に勉強する」「必死に働く」など、何かに全力で取り組む様子を表します。選択肢の「必至」は「必ずそうなること」、「必須」は「必ず必要なこと」、「決死」は「死を決する覚悟」という意味で、主に戦いや非常に危険な状況で使われます。したがって、日常的な努力や勉強の場面では「必死」が最も適切です。この問題のポイントは、同音異義語の意味と使い方の違いを正確に理解しているかどうかです。「決死」は意味が似ていますが、日常の努力には通常使わないため、そこを区別できるかが重要です。</em></p>\n<h3>調子</h3>\n<p><strong>Q: 次の文の（　）に入る正しい漢字を、下の1〜4から一つ選びなさい。最近、体のちょうしがよくないので、今日は早く寝ようと思います。</strong></p>\n<ul>\n<li>調市</li>\n<li><b>調子</b> <span style='color:green;'>(correct)</span></li>\n<li>調氏</li>\n<li>調子子</li>\n</ul>\n<p><em>Explanation: この問題は、「調子」の正しい漢字表記を選ばせるものです。N3レベルの学習者にとって、「調」「子」は基本的な漢字ですが、他の選択肢も見た目が似ていたり、日常で使う漢字の組み合わせなので混乱しやすいです。特に「市」「氏」などはよく目にするため、正確な語彙知識が問われます。「調子」は「物事や体の状態・具合」の意味で、日常会話でも頻出する重要語です。</em></p>\n<h3>破産</h3>\n<p><strong>Q: 長年の赤字経営が続き、ついに会社が（はさん）することになった。</strong></p>\n<ul>\n<li>破滅</li>\n<li><b>破産</b> <span style='color:green;'>(correct)</span></li>\n<li>破損</li>\n<li>破格</li>\n</ul>\n<p><em>Explanation: 「破産（はさん）」は、借金などの支払いができなくなり、財産を失うことを意味します。他の選択肢は意味や読みが似ていますが、文脈に合いません。- 「破滅（はめつ）」はすべてを失うこと- 「破損（はそん）」は壊れること- 「破格（はかく）」は基準から外れること。N3受験者は、漢字の意味と読みの混同に注意しましょう。特に「破損」「破滅」など似た語との区別がポイントです。</em></p>\n<h3>争う</h3>\n<p><strong>Q: 彼らは優勝を目指してお互いに（あらそう）ことになった。</strong></p>\n<ul>\n<li>競走</li>\n<li><b>競う</b> <span style='color:green;'>(correct)</span></li>\n<li>争う</li>\n<li>争議</li>\n</ul>\n<p><em>Explanation: この文脈では「優勝を目指してお互いに（あらそう）」の意味は「互いに勝とうとして競争する」という意味になります。そのため、正しい漢字は「競う（きそう）」です。「争う（あらそう）」は「けんかする」「対立する」などのニュアンスが強く、スポーツや勝負での「競い合う」場面では「競う」が自然です。「競走（きょうそう）」は「走る競技」の意味、「争議（そうぎ）」は「もめごと」「争いごと」を指します。N3レベルでは「争う」と「競う」の意味や使い分けを正しく理解することが大切です。</em></p>\n<h3>題名</h3>\n<p><strong>Q: この本のタイトルとして正しい言葉を選びなさい。</strong></p>\n<ul>\n<li>題目</li>\n<li><b>題名</b> <span style='color:green;'>(correct)</span></li>\n<li>表題</li>\n<li>標題</li>\n</ul>\n<p><em>Explanation: 「題名」（だいめい）は、本や映画、作品などのタイトルを意味します。選択肢の「題目」は主題や課題を指し、「表題」「標題」はどちらも見出しやタイトルの意味がありますが、一般的に本や作品のタイトルには「題名」が最も適切です。特に「表題」「標題」は書類や章のタイトルなど、使われる場面が異なります。似た語彙が多いため、文脈に合った正しい語を選ぶ力が求められる問題です。</em></p>\n<h3>要素</h3>\n<p><strong>Q: この文章の（　）に入る正しい漢字を選びなさい。科学の授業で、水は酸素と水素という二つの（　）からできていると習いました。</strong></p>\n<ul>\n<li>要因</li>\n<li><b>要素</b> <span style='color:green;'>(correct)</span></li>\n<li>要点</li>\n<li>要約</li>\n</ul>\n<p><em>Explanation: この問題のポイントは、「ようそ」という読みから適切な漢字を選ぶことです。N3レベルの学習者にとって、「要素」「要因」「要点」「要約」など似た読み・意味の語が混乱しやすいです。「要素」は「ものごとを成り立たせている基本的な内容や成分」という意味で、この文脈に合います。他の選択肢は、原因（要因）、要点（main point）、要約（summary）と意味が異なるため、正しく区別できるかがポイントです。</em></p>\n<h3>湿気</h3>\n<p><strong>Q: 梅雨の時期は、部屋の中に「しっけ（しっけ）」がたまりやすいので注意が必要です。次のうち、空気や物に含まれる水分のことを指す言葉はどれですか？</strong></p>\n<ul>\n<li>湿度</li>\n<li><b>湿気</b> <span style='color:green;'>(correct)</span></li>\n<li>湿度計</li>\n<li>湿布</li>\n</ul>\n<p><em>Explanation: この問題の正解は「湿気」です。「しっけ」は空気や物に含まれる水分のことを指し、梅雨の時期によく使われる語です。選択肢1「湿度（しつど）」は空気中の水分量をパーセントで表す言葉で、意味が異なります。選択肢3「湿度計（しつどけい）」は湿度を測る道具です。選択肢4「湿布（しっぷ）」は、けがや痛みに貼る薬です。音が似ている語も多く、読みと意味の区別がN3学習者には難しいポイントです。文脈から正しい語を選ぶ練習をしましょう。例文：・雨の日は湿気が多くて、髪の毛がまとまりません。・この部屋は湿気がたまりやすいので、換気をしてください。教師コメント：「湿気」は日本の生活や気候に密接な語彙であり、日常会話でも頻繁に使われます。問題文にふりがなをつけることで、学習者が漢字と読みを結びつけやすくなります。似た音の語との違いを意識しながら学習しましょう。</em></p>\n<h3>努力</h3>\n<p><strong>Q: 彼は試験に合格するために毎日「どりょく」している。</strong></p>\n<ul>\n<li>動力</li>\n<li><b>努力</b> <span style='color:green;'>(correct)</span></li>\n<li>労働</li>\n<li>勤勉</li>\n</ul>\n<p><em>Explanation: この問題は、「どりょく」の正しい漢字表記を選ぶものです。- 「動力」（どうりょく）は機械などを動かす力を意味し、意味も読みも異なります。- 「労働」（ろうどう）は仕事や働くことを指し、「どりょく」とは読みません。- 「勤勉」（きんべん）は「まじめに努力すること」を意味しますが、読みも異なります。- 「努力」が正しい漢字表記で、「どりょく」と読みます。この問題の難しさは、似た意味や形の語が多い点にあります。N3レベルでは「努力」「労働」「勤勉」など、意味が近い語の漢字と読みの結びつきを正確に覚える必要があります。誤答選択肢も実際によく使われる語彙で、学習者の語彙力を適切に測ることができます。</em></p>\n<h3>礼儀</h3>\n<p><strong>Q: 彼はとても（れいぎ）正しい人なので、みんなに好かれています。</strong></p>\n<ul>\n<li>礼義</li>\n<li><b>礼儀</b> <span style='color:green;'>(correct)</span></li>\n<li>例儀</li>\n<li>礼技</li>\n</ul>\n<p><em>Explanation: この問題は「れいぎ」の正しい漢字表記を選ぶ問題です。「礼儀」は社会的なマナーやルールを示す語で、N3レベルでよく出ます。選択肢の「義」「儀」「技」はそれぞれ意味が異なるので注意しましょう。特に「儀」と「義」は混同しやすいですが、「礼儀」が正解です。</em></p>\n<h3>資本</h3>\n<p><strong>Q: 次の文の（　）に入る言葉として、最も適切な漢字を1つ選びなさい。新しい会社を作るためには、多くの「しほん」が必要です。</strong></p>\n<ul>\n<li>資産</li>\n<li><b>資本</b> <span style='color:green;'>(correct)</span></li>\n<li>資源</li>\n<li>資金</li>\n</ul>\n<p><em>Explanation: 「資本（しほん）」は、会社や事業を始めるときの元手となるお金や財産を意味します。他の選択肢も似た漢字ですが、「資産（しさん）」は持っている財産全体、「資源（しげん）」は自然や社会の中で使えるもの、「資金（しきん）」は使うためのお金のことです。それぞれ意味が違うので、文の内容に合う「資本」が正解です。</em></p>\n<h3>特徴</h3>\n<p><strong>Q: 次の文の（　）に入る最も適切な漢字を、1～4の中から一つ選びなさい。彼の話し方には独特の（とくちょう）があるので、すぐに本人だとわかります。</strong></p>\n<ul>\n<li><b>特徴</b> <span style='color:green;'>(correct)</span></li>\n<li>特長</li>\n<li>特性</li>\n<li>特質</li>\n</ul>\n<p><em>Explanation: 「特徴」は、他と区別できる目立った点や性質を指します。例えば、「この鳥の特徴は赤いくちばしです」のように使います。「特長」は、他よりも優れている点を指し、「この車の特長は燃費が良いことです」といった使い方をします。「特性」は、物や人が本来持っている性質や傾向を指します（例：水の特性は100度で沸騰すること）。「特質」は、特に目立つ性質や特徴的な性格を強調する場合に使われます（例：彼の特質は忍耐強さです）。この文脈では、「独特の～がある」は「特徴」が最も適切です。特に「特徴」と「特長」の使い分けはN3レベルで重要なポイントとなります。</em></p>\n<h2>同義語置き換え (synonym_substitution)</h2>\n<p>5問。文中の語句を同じ意味の語に置き換える。</p>\n<h3>現代</h3>\n<p><strong>Q: この小説は（現代）の若者について書かれています。</strong></p>\n<ul>\n<li><b>現在</b> <span style='color:green;'>(correct)</span></li>\n<li>近代</li>\n<li>古代</li>\n<li>未来</li>\n</ul>\n<p><em>Explanation: 「現代（げんだい）」は「今の時代」「現在」という意味で使われます。「現在（げんざい）」は「今」という意味で、「現代」と非常に近い意味を持つため、最も適切な選択肢です。「近代（きんだい）」は歴史的に見ると「明治時代から第二次世界大戦ごろまで」を指し、「現代」とは異なります。「古代（こだい）」は昔の時代、「未来（みらい）」はこれからの時代なので文脈に合いません。N3レベルの学習者にとっては、「現代」と「近代」を混同しやすいので、正確な意味の違いに注意しましょう。</em></p>\n<h3>種類</h3>\n<p><strong>Q: この店にはいろいろな種類のパンがあります。この文の「種類」と最も近い意味の言葉はどれですか。</strong></p>\n<ul>\n<li>形</li>\n<li><b>タイプ</b> <span style='color:green;'>(correct)</span></li>\n<li>重さ</li>\n<li>時間</li>\n</ul>\n<p><em>Explanation: 「種類」は、性質や特徴によって分けられたグループやカテゴリーを表す言葉です。「タイプ」も同じように、形や性質によって分けられたグループを指します。「形」は見た目、「重さ」は量、「時間」は時刻や期間を表すため、「種類」とは意味が異なります。カタカナ語の「タイプ」もN3レベルでよく使われるので、文脈から正しい意味を選ぶ必要があります。受験者にとっては、似ている言葉の中から文に合うものを選ぶ力が問われる問題です。</em></p>\n<h3>完全</h3>\n<p><strong>Q: 次の文の「完全」と最も近い意味の言葉を選びなさい。この計画は完全に成功した。</strong></p>\n<ul>\n<li>しっかり</li>\n<li>すべて</li>\n<li><b>まったく</b> <span style='color:green;'>(correct)</span></li>\n<li>かんたんに</li>\n</ul>\n<p><em>Explanation: 「完全」は「欠けているところがなく、すべてがそろっていること」を意味し、「まったく」も「すべて」「完全に」という意味で使われます。N3レベルでは「しっかり（firmly）」「すべて（all）」「かんたんに（easily）」もよく出る言葉ですが、文脈的に「完全に成功した」は「まったく成功した」と言い換えられます。主な難しさは、「すべて」も「全部」という意味があるため、選択肢として迷いやすい点です。しかし、「完全に」は「まったく」「徹底的に」といった副詞がより近い意味となります。</em></p>\n<h3>冷やす</h3>\n<p><strong>Q: 冷蔵庫でジュースを冷やしておきました。次の中から、「冷やす」の意味に最も近いものを選びなさい。</strong></p>\n<ul>\n<li>あたためる</li>\n<li>こおらせる</li>\n<li><b>冷たくする</b> <span style='color:green;'>(correct)</span></li>\n<li>さます</li>\n</ul>\n<p><em>Explanation: この問題は、「冷やす」の意味を正しく理解し、似ている語彙と区別できるかどうかを問うものです。「冷やす」は、物の温度を下げて冷たくすることを表します。選択肢3「冷たくする」が最も近い意味です。選択肢4「さます」は、熱いものを適温に下げる場合に使うため、必ずしも冷たくするとは限りません。選択肢2「こおらせる」は「凍らせる」こと、選択肢1「あたためる」は反対の意味です。N3レベルでは、「冷やす」「さます」「冷たくする」などの使い分けが難しいため、意味の違いに注意しましょう。</em></p>\n<h3>自然</h3>\n<p><strong>Q: 次の文の（　）に入る言葉と最も意味が近いものを、1～4の中から一つ選びなさい。休日には（自然）の中で散歩するのが好きです。</strong></p>\n<ul>\n<li>人工</li>\n<li><b>天然</b> <span style='color:green;'>(correct)</span></li>\n<li>文化</li>\n<li>都会</li>\n</ul>\n<p><em>Explanation: この文での「自然」は「人の手が加わっていない、ありのままの環境」という意味です。「天然」も「自然にできたもの、人が作ったものではない」という意味で、最も近いです。「人工」は「人が作ったもの」、「文化」は人間が作り出したものや活動、「都会」は都市のことなので、文脈から外れます。N3受験者は「自然」と「天然」の違いを正確に理解するのが難しい場合がありますが、この文脈では「自然＝天然の環境」と推測できるようにしました。「人工」「文化」「都会」は意味が異なるため、混乱しにくいですが、似た意味の語彙（天然）と対比語（人工）を含めることで、語彙力と読解力の両方を測ることができます。</em></p>\n<h2>語彙使い方 (word_usage)</h2>\n<p>5問。語彙の使い方として正しい文を選ぶ。</p>\n<h3>保存</h3>\n<p><strong>Q: 次の文の中で、「保存」の用法として最も適切なものを一つ選びなさい。①　この美術館では、貴重な絵画を長い間きれいなまま保存しています。②　昨日のパーティーで使ったお皿を保存してから、もう一度洗いました。③　友達に手紙を保存したので、すぐに読んで返事を書きました。④　新しい靴を保存して、明日から毎日履くことにします。⑤　パソコンで作ったファイルをUSBに保存しておきました。</strong></p>\n<ul>\n<li>①　この美術館では、貴重な絵画を長い間きれいなまま保存しています。</li>\n<li>②　昨日のパーティーで使ったお皿を保存してから、もう一度洗いました。</li>\n<li>③　友達に手紙を保存したので、すぐに読んで返事を書きました。</li>\n<li>④　新しい靴を保存して、明日から毎日履くことにします。</li>\n<li>⑤　パソコンで作ったファイルをUSBに保存しておきました。</li>\n</ul>\n<p><em>Explanation: 「保存」は、物やデータなどの状態を変えずに長く保つ場合に使います。①は、美術館で絵画を良い状態で保っている文脈で、最も基本的な使い方です。⑤は、IT分野で「データを保存する」という現代的な使い方で、N3レベルでも重要な例です。②や④は「保管」「しまう」が自然な表現です。③は、手紙を「保存する」という表現も場合によっては使えますが、「すぐに読む」という文脈では不自然です。</em></p>\n<h3>拍手</h3>\n<p><strong>Q: 次の文の中で、「拍手（はくしゅ）」の使い方として最も適切なものをすべて選びなさい。</strong></p>\n<ul>\n<li>先生が教室に入ってきたとき、みんなで拍手しました。</li>\n<li>昨日の晩ご飯は、とてもおいしくて家族で拍手しました。</li>\n<li>神社でお参りするとき、まず拍手（はくしゅ）をしてからお願いごとをします。</li>\n<li>友達の誕生日に、みんなで拍手をしながら歌を歌いました。</li>\n</ul>\n<p><em>Explanation: 1は、先生が入ってきたときに歓迎や感謝の気持ちを表すために「拍手」する、自然な使い方です。4は、誕生日のお祝いの場面で、みんなで歌いながら「拍手」するのもよくある使い方です。2は、「拍手」が賞賛や歓迎、祝福の場面で使われるのが一般的であり、食事が美味しかっただけで家族で拍手するのは、特別なイベント（例：料理コンテストやパーティ）を除き、日常的な日本の習慣としては自然ではありません。3は、神社で手を打つ行為は「柏手（かしわで）」と呼ばれ、神道の作法です。一般的な「拍手」とは目的や意味が異なります。日本語の文脈では「柏手」と「拍手」を区別する必要があり、ここで「拍手」を使うのは不適切です。</em></p>\n<h3>要点</h3>\n<p><strong>Q: 次の文のうち、「要点」の使い方として最も適切なものをすべて選びなさい。</strong></p>\n<ul>\n<li>この話の要点をまとめてください。</li>\n<li>今朝のニュースの要点をノートに書きました。</li>\n<li>彼女のスピーチは長かったが、要点はよく伝わった。</li>\n<li>家の要点をきれいに掃除してください。</li>\n</ul>\n<p><em>Explanation: 「要点」は「物事の中心となるところ、重要な点」という意味で、話・ニュース・スピーチなど抽象的内容の大切な部分に使います。1、2、3は正しい使い方ですが、4は「家」など物理的な対象には使いません。</em></p>\n<h3>礼儀</h3>\n<p><strong>Q: 次の文の中で、「礼儀」の正しい使い方はどれですか。</strong></p>\n<ul>\n<li><b>彼は礼儀が正しいので、誰に対してもていねいに話します。</b> <span style='color:green;'>(correct)</span></li>\n<li>この料理は礼儀が強くて、少し苦い味がします。</li>\n<li>昨日の会議では、礼儀を使ってパソコンの問題を解決しました。</li>\n<li>山田さんは礼儀を集めるのが趣味で、たくさん持っています。</li>\n</ul>\n<p><em>Explanation: この問題の主な難しさは、「礼儀」という語が人間関係や社会生活で守るべき行動様式やマナーを指すことを理解しているかどうかです。2～4の選択肢は、「礼儀」という語の意味から外れています（2は味に使う表現、3は道具のように使っている、4は物を集める趣味のように使っている）。「礼儀が正しい」は日本語の固定表現であり、N3レベルの学習者が正しい文脈で使えるかを問う良問です。</em></p>\n<h3>順調</h3>\n<p><strong>Q: 次の文の中で、「順調」の使い方として最も適切なものを一つ選びなさい。</strong></p>\n<ul>\n<li><b>新しいプロジェクトは、今のところ順調に進んでいます。</b> <span style='color:green;'>(correct)</span></li>\n<li>今日は順調な天気なので、ピクニックに行きましょう。</li>\n<li>彼から順調な返事をもらって、安心しました。</li>\n<li>この店は順調な料理がたくさんあります。</li>\n</ul>\n<p><em>Explanation: 「順調」は「物事が予定通りに、問題なく進むこと」を意味します。特に「順調に進む」「順調な経過」など、仕事や計画、進行状況に対して使われる表現です。1は「プロジェクトが順調に進む」という、もっとも一般的で自然な使い方です。2の「順調な天気」は不自然で、「天気がいい」「天候に恵まれて」などが自然です。3の「順調な返事」も不自然で、「返事が早い」「返事がスムーズ」などが適切です。4の「順調な料理」という表現は日本語として使いません。「順調」は「進む」「経過」「回復」「推移」など、進行や状態の良さを表す名詞とよく組み合わせて使います。物や天気、返事などには直接使わないので、コロケーション（よく使われる言葉の組み合わせ）に注意しましょう。</em></p>\n<h2>文法穴埋め (sentence_grammar)</h2>\n<p>13問。空欄に入る最も適切な語句や助詞を選ぶ。</p>\n<h3>店で価格を尋ねる</h3>\n<p><strong>Q: （店で）次の会話の空欄に入る最も適切な語を、下の1～4から一つ選びなさい。客：「すみません、この商品の値段を（　　　）いただけますか。」</strong></p>\n<ul>\n<li><b>教えて</b> <span style='color:green;'>(correct)</span></li>\n<li>話して</li>\n<li>聞いて</li>\n<li>書いて</li>\n</ul>\n<p><em>Explanation: この文では、「～ていただけますか」という丁寧な依頼表現を使っています。「教えていただけますか」は「教える」の「て形」＋「いただけますか」で、「教えてください」よりも丁寧な表現です。「話して」や「聞いて」「書いて」は意味が合わず、不自然です。「教えて」を使うことで、店員に商品の値段を丁寧に尋ねることができます。N3レベルでは、「～ていただけますか」や「～てくれますか」などの依頼表現がよく問われます。正しい「て形」を使えるかどうかがポイントです。</em></p>\n<h3>助詞</h3>\n<p><strong>Q: 以下の文の（　）に入る最も適切な助詞を1つ選びなさい。私は毎朝7時（　）起きて、学校に行きます。</strong></p>\n<ul>\n<li><b>に</b> <span style='color:green;'>(correct)</span></li>\n<li>で</li>\n<li>へ</li>\n<li>と</li>\n</ul>\n<p><em>Explanation: 「に」は特定の時刻や場所、目的地を表す格助詞として使われます。この文では「7時」という特定の時刻に起きることを表しているため、「に」が正しいです。他の選択肢について：- 「で」は場所や手段を表します（例：教室で勉強する）。- 「へ」は方向・目的地を示します（例：学校へ行く）。- 「と」は「一緒に」などの意味で使います（例：友達と話す）。類似例文：- 毎晩10時に寝ます。- 8時に家を出ます。このように、時刻を表す場合は必ず「に」を使うことを覚えましょう。</em></p>\n<h3>キャリア目標について話す</h3>\n<p><strong>Q: （面接練習） 面接官：「あなたのキャリア目標について教えてください。」 あなた：「はい、私のキャリア目標は、3年後にはプロジェクトリーダーとしてチームをまとめ、会社の売上に貢献できるようになることです。そのために、今は業務に必要な知識やスキルを（　　　　　）、毎日勉強しています。」 （　　）に入る最も適切な語句を選びなさい。</strong></p>\n<ul>\n<li>身につけるようにして</li>\n<li><b>身につけるために</b> <span style='color:green;'>(correct)</span></li>\n<li>身につけて</li>\n<li>身につけたあとで</li>\n</ul>\n<p><em>Explanation: この文では、「目的」を表す表現が必要です。「～ために」は、「…する目的で」「…するために」という意味で、目標に向かって努力する姿勢を表します。他の選択肢は文脈に合いません。N3レベルでは、「～ために」の使い方を正確に理解し、目的を表す文を作れるかがポイントです。特に「ようにして」や「て」など、手段や継続・結果を表す表現との違いに注意が必要です。</em></p>\n<h3>場合</h3>\n<p><strong>Q: 次の文の（　　　）に入る最も適切な語句を、1～4の中から一つ選びなさい。（会社の案内）「火事や地震が起こった（　　　）、落ち着いて行動してください。」</strong></p>\n<ul>\n<li>こと</li>\n<li><b>場合</b> <span style='color:green;'>(correct)</span></li>\n<li>時</li>\n<li>もの</li>\n</ul>\n<p><em>Explanation: 「場合」は「もし～のような状況が起きたとき」という意味で、公式な案内や指示文でよく使われます。「時」も似た意味ですが、より一般的な表現であり、「場合」の方が条件や状況を強調できます。「こと」「もの」はこの文脈には合いません。</em></p>\n<h3>程度</h3>\n<p><strong>Q: 先生：「みなさんの日本語の（　　　）は、前よりずっと上がっていますね。」この文に入る最も適切な言葉はどれですか。</strong></p>\n<ul>\n<li><b>程度</b> <span style='color:green;'>(correct)</span></li>\n<li>具合</li>\n<li>様子</li>\n<li>状態</li>\n</ul>\n<p><em>Explanation: この文では、「みなさんの日本語の（　　　）は、前よりずっと上がっていますね。」という表現から、何がどのくらい上がったのかを問うています。「程度」は「レベル」や「どのくらいか」という意味で、能力や知識の高さを表すときによく使います。他の選択肢「具合」「様子」「状態」は、体調や状況、見た目などを表す言葉であり、「日本語の（　　　）が上がる」という文脈には適しません。この問題の主なチャレンジは、「程度」と他の似た意味の語彙（具合、様子、状態）との違いを理解し、正しく使い分けることです。N3レベルの学習者にとっては、抽象的な語彙の使い分けが難しいポイントとなります。</em></p>\n<h3>状態</h3>\n<p><strong>Q: （病院にて）医者：「こんにちは。最近、体の（　　　）はどうですか。どこか痛いところはありませんか？」</strong></p>\n<ul>\n<li><b>具合</b> <span style='color:green;'>(correct)</span></li>\n<li>状態</li>\n<li>事情</li>\n<li>理由</li>\n</ul>\n<p><em>Explanation: 「体の具合」は、医者や家族が体調を尋ねるときによく使われる自然な表現です。日常会話や医療現場では、「体の具合が悪い」「具合はどうですか」のように使われます。「状態」も意味は通じますが、より医学的・客観的なニュアンスが強く、診断書や報告書などで使われる傾向があります。N3レベルでは、会話の場面では「具合」を優先して使うことを学びましょう。使い分け例- 「最近、体の具合はどうですか？」（日常会話・医者が患者に）- 「患者の健康状態を記録します。」（報告・記録などやや硬い表現）この問題の主な難しさは、「具合」と「状態」の意味の違いと使い分けを理解することにあります。どちらもN3レベルで学ぶ重要な語彙ですが、場面によって適切な語を選ぶ力が求められます。</em></p>\n<h3>内容</h3>\n<p><strong>Q: 【指示】次の会話文を読んで、（　　　）に入る最も適切な語を1つ選びなさい。（会議にて）部長：「この企画書の（　　　）を、もう一度確認してから提出してください。」</strong></p>\n<ul>\n<li><b>内容</b> <span style='color:green;'>(correct)</span></li>\n<li>形式</li>\n<li>理由</li>\n<li>結果</li>\n</ul>\n<p><em>Explanation: 「内容」は「中身」や「具体的な情報」という意味で、文書や企画書などの「何が書かれているか」を指します。「形式」は「書き方」や「フォーマット」、「理由」は「なぜそうしたか」、「結果」は「どうなったか」を表します。この文脈では、「企画書の内容を確認する」が最も自然です。例文：- レポートの内容を確認してください。- テストの形式が変わりました。</em></p>\n<h3>判断</h3>\n<p><strong>Q: （　　　）に入る正しい言葉を選びなさい。（会議室）部長：「このプロジェクトを続けるかどうかは、今週中に（　　　）してください。」</strong></p>\n<ul>\n<li><b>判断して</b> <span style='color:green;'>(correct)</span></li>\n<li>判断し</li>\n<li>判断する</li>\n<li>判断した</li>\n</ul>\n<p><em>Explanation: 「〜してください」という依頼表現では、動詞の「て形」が必要です。「判断する」の「て形」は「判断して」なので、正解は1番です。他の選択肢は依頼の文型として使えません。学習者がつまずきやすいポイント：サ変動詞「判断する」の「て形」活用に注意が必要です。「て形＋ください」の依頼表現は頻出ですが、語幹や「し」「する」「した」と混同しやすいので、正しい活用を確認しましょう。補足例文：早く返事してください。よく考えてください。注意してください。</em></p>\n<h3>条件</h3>\n<p><strong>Q: 部長：「このプロジェクトに参加したい人は、英語が話せることが（　）です。」</strong></p>\n<ul>\n<li><b>条件</b> <span style='color:green;'>(correct)</span></li>\n<li>理由</li>\n<li>方法</li>\n<li>目的</li>\n</ul>\n<p><em>Explanation: この文では、「英語が話せること」が「プロジェクトに参加したい人」にとって必要な事項であることを表しています。「条件」は、あることが成立するために必要な事柄を指します。他の選択肢「理由」「方法」「目的」は文脈に合いません。N3レベルの学習者にとって、「条件」という語の意味や使い方、特に「～が条件です」という表現に慣れることがポイントです。また、日常会話やビジネスの場面でよく使われる表現なので、語彙の定着が大切です。</em></p>\n<h3>関する</h3>\n<p><strong>Q: この説明会は、留学生の生活（　　　　　）重要な情報を提供します。</strong></p>\n<ul>\n<li><b>に関する</b> <span style='color:green;'>(correct)</span></li>\n<li>に対する</li>\n<li>について</li>\n<li>に関して</li>\n</ul>\n<p><em>Explanation: 「～に関する＋名詞」は、「～に関連する」という意味で、公式な文書や案内などでよく使われる硬い表現です。「～について」は「～についての＋名詞」の形で使い、より口語的・柔らかい印象になります。例：留学生の生活についての説明（やや口語的）、日本の文化についての本（一般的な使い方）「に対する」は「Aに対するB」（Aに向けたB）となり、対象を示します。例：留学生に対する支援「に関して」は「に関して話す」など動詞を修飾する場合によく使われますが、名詞を直接修飾する場合は「に関する」の方が一般的です。ただし、口語では「に関しての情報」も使われます。N3レベルの学習者は「に関する」と「について」の違いでよく混乱します。特に、「に関する＋名詞」と「についての＋名詞」の使い分けがポイントです。また、「に対する」や「に関して」など似た表現も多いため、文脈に合った選択ができるかが問われます。</em></p>\n<h3>比較</h3>\n<p><strong>Q: 次の文の（　）に入る最も適切な語句を１～４の中から一つ選びなさい。私の家の冷蔵庫は、新しい冷蔵庫（　）音が静かです。</strong></p>\n<ul>\n<li><b>より</b> <span style='color:green;'>(correct)</span></li>\n<li>しか</li>\n<li>だけ</li>\n<li>でも</li>\n</ul>\n<p><em>Explanation: この文は「比較」の文型を問う問題です。「AはBより～です」は「A is more ~ than B」という意味で、N3レベルで頻出の表現です。「新しい冷蔵庫より、私の家の冷蔵庫の方が音が静かです」と主語を明示すると、比較の関係がより分かりやすくなります。「より」は比較対象を示す助詞で、他の助詞（「しか」「だけ」「でも」）はこの文脈で使えません。学習者は、これらの助詞の使い分けをよく練習する必要があります。特に「より」と「だけ」などは混同しやすいので、注意しましょう。</em></p>\n<h3>場合</h3>\n<p><strong>Q: （　）に入る最も適切な語を選びなさい。（教室にて）先生：「授業中に体調が悪くなった（　　　）、すぐに私に言ってください。」</strong></p>\n<ul>\n<li>とき</li>\n<li><b>場合</b> <span style='color:green;'>(correct)</span></li>\n<li>もの</li>\n<li>こと</li>\n</ul>\n<p><em>Explanation: 「場合」は、ある条件や仮定が成立したときに、そのときどうするかを述べるときに使う表現です。「〜場合（は）」の形で、もしそのような状況になったら、という意味になります。一方、「とき」は単に特定の時間や瞬間を表しますが、「場合」は条件や仮定を強調したいときに使います。この文では、「授業中に体調が悪くなったとき」というよりも、「もしそのような状況になったら」という条件を伝えたいので、「場合」が最も適切です。</em></p>\n<h3>原因</h3>\n<p><strong>Q: （病院にて）医者：「最近、体の調子が悪いそうですね。どんな（　）で来院されましたか。」</strong></p>\n<ul>\n<li><b>原因（げんいん）</b> <span style='color:green;'>(correct)</span></li>\n<li>理由（りゆう）</li>\n<li>症状（しょうじょう）</li>\n<li>動機（どうき）</li>\n</ul>\n<p><em>Explanation: この文では「どんな（　）で来院されましたか。」と、患者が病院に来たきっかけやもとになったことを尋ねています。「原因」は「物事を引き起こすもと」という意味で、体調不良や病気の「もと」になった出来事や状態を表すときに使います。「理由」は「自分の考えや選択の説明」に使うことが多く、例えば「どうしてその病院を選びましたか」という質問には合いますが、体の不調の「もと」を聞く場合には自然ではありません。「症状」は「体にどんな変化や異常があるか」を表す語で、「どんな症状がありますか」という使い方になります。「動機」は「行動を起こす気持ちや目的」を表し、主に犯罪や就職活動などの文脈で使われ、「病院に来た動機」とはあまり言いません。したがって、この文脈では「原因」が最も適切な語です。N3レベルの学習者は「原因」と「理由」の違いを混同しやすいです。また、「症状」や「動機」といった似た語彙も出題することで、より深い語彙理解と正しい使い分けが求められます。文脈をしっかり読む力と、語彙の意味の違いを意識させることがポイントです。</em></p>\n<h2>文の並べ替え (sentence_sort)</h2>\n<p>5問。バラバラになった文を正しい順番に並べる。</p>\n<h3>感謝</h3>\n<p><strong>Q: 次の文の★の部分にくる文を、正しい順序に並べかえてください。先生に__★_、私は日本語の勉強を続けることができました。</strong></p>\n<ul>\n<li><b>1. 助けていただいたおかげで</b> <span style='color:green;'>(correct)</span></li>\n<li>2. 日本語の勉強を</li>\n<li>3. 続けることができました</li>\n<li>4. 私は</li>\n</ul>\n<p><em>Explanation: 「助けていただいたおかげで」は「原因・理由」を表し、主節（私は日本語の勉強を続けることができました）の前に置くのが自然です。「私は日本語の勉強を続けることができました」という主節の語順もN3レベルでよく問われます。この問題のポイントは、「おかげで」の前に感謝の対象となる行為（助けていただいた）が来て、主節（結果）が後ろに来るという日本語の自然な語順を理解することです。</em></p>\n<h3>決心</h3>\n<p><strong>Q: 次の文の__★__に入る最も適切なものを、下の1～4から一つ選びなさい。大学を卒業したら、海外で働くことを__★__。</strong></p>\n<ul>\n<li><b>決心した</b> <span style='color:green;'>(correct)</span></li>\n<li>した決心</li>\n<li>決心する</li>\n<li>する決心</li>\n</ul>\n<p><em>Explanation: 「決心する」は「～することを決める」という意味の動詞です。「～ことを決心した」の形で「～することを決めた」となり、自然な日本語になります。2や4の語順は不自然で、3は時制が合いません（現在形）。時制や語順に注意しましょう。</em></p>\n<h3>説明</h3>\n<p><strong>Q: 次の文の★に入る文節を、自然な順番に並べてください。先生は、__★_ ので、もっとゆっくり話してくださいと言いました。1. 説明が 2. 少し 3. 分かりにくい 4. ときがある</strong></p>\n<ul>\n<li><b>1 → 2 → 3 → 4</b> <span style='color:green;'>(correct)</span></li>\n<li>1 → 3 → 2 → 4</li>\n<li>2 → 1 → 3 → 4</li>\n<li>1 → 4 → 2 → 3</li>\n</ul>\n<p><em>Explanation: この問題のポイントは、「少し」が「分かりにくい」を修飾し、「ときがある」が全体をまとめる表現となることです。「説明が少し分かりにくいときがある」で、「先生の説明が時々少し分かりにくいことがある」という意味になります。日本語では修飾語（少し）は述語（分かりにくい）の前に置くのが自然です。また、「ときがある」は前の内容全体を受ける表現なので、最後に来ます。N3レベルでは、修飾の順序や文のまとまりを意識することが重要なポイントとなります。</em></p>\n<h3>提案</h3>\n<p><strong>Q: 下の「みんなで」「いくつか」「提案」「を」の４つの語（句）を正しい順番に並べて、文を完成させるのに最も適切なものを１～４から一つ選びなさい。</strong></p>\n<ul>\n<li>みんなで　提案　いくつか　を</li>\n<li>いくつか　提案　を　みんなで</li>\n<li>提案　いくつか　を　みんなで</li>\n<li><b>みんなで　いくつか　提案　を</b> <span style='color:green;'>(correct)</span></li>\n</ul>\n<p><em>Explanation: この問題の主なポイントは、日本語における修飾語と目的語の語順です。「いくつか」は数量を表し、「提案」を修飾します。「いくつかの提案をする」という形が自然です。また、「みんなで」は動作主を表す副詞句で、文頭に置くことで「みんなが一緒に」という意味が明確になります。助詞「を」は目的語「提案」に直接つきますので、「いくつか提案を」が正しい形です。N3レベルでは、「副詞句＋数量＋名詞＋を＋動詞」という基本的な文の構造を理解しているかどうかが問われます。誤った語順では意味が通じにくく、不自然な日本語になってしまいます。この問題は、助詞の使い方、副詞句の位置、数量表現の修飾関係など、複数の文法ポイントを同時に確認できる良問です。</em></p>\n<h3>結論</h3>\n<p><strong>Q: 次の文の（　★　）に入る最も自然な文になるように、1～4の語句を正しい順番に並べてください。このレポートの__★__、私たちは環境問題についてもっと考える必要があると分かった。1.　調査の　2.　結論として　3.　結果　4.　まとめると　A.　1→2→3→4　B.　2→1→3→4　C.　1→3→4→2　D.　2→1→4→3</strong></p>\n<ul>\n<li>A.　1→2→3→4</li>\n<li><b>B.　2→1→3→4</b> <span style='color:green;'>(correct)</span></li>\n<li>C.　1→3→4→2</li>\n<li>D.　2→1→4→3</li>\n</ul>\n<p><em>Explanation: この問題の主な難しさは、「結論として」という接続語句と、「調査の結果」「まとめると」の使い方・順序を正しく理解することです。「結論として、調査の結果、まとめると」とつなげることで、論理的な文脈が自然になります。N3レベルの語彙を使いましたが、接続詞や名詞の連結に注意が必要です。「結論」と「結果」の違いと、文章の論理展開を理解する力が問われる問題です。</em></p>\n<h2>文法構造選択 (sentence_structure)</h2>\n<p>4問。文の構造として正しいものを選ぶ。</p>\n<h3>原因・理由</h3>\nありがとうございます。ご指摘いただいた点を反映し、さらに学習者の理解を深めるため、問題と解説をより丁寧に修正いたします。---### 原因と理由の違い日本語には「原因」と「理由」という似ている言葉がありますが、使い方には違いがあります。「原因」は、何かが起こる**直接的なきっかけやもと**を表します。たとえば、「風邪をひいた原因はウイルスです」というように、悪い結果や出来事が起こる**もと**を説明するときに使います。一方、「理由」は、**行動や判断の根拠**や**背景**を表します。たとえば、「試験を受ける理由は、将来のためです」のように、なぜそうするのか、**自分の考えや事情**を説明するときに使います。「原因」は悪い結果に使うことが多いですが、「理由」は良いことにも悪いことにも使えます。もしどちらを使うか迷ったときは、「理由」を使うと安心です。---#### 次の文の（　）に入る最も適切なものを選びなさい。１　事故の（　）は、運転手の不注意でした。　１．理由　２．原因　３．目的　４．意味　２　私が日本語を勉強する（　）は、日本で働きたいからです。　１．原因　２．理由　３．方法　４．結果　３　台風が来た（　）、電車が止まりました。　１．ので　２．こと　３．とき　４．ため　４　「原因」と「理由」の違いについて（　）説明してください。　１．しっかり　２．ちゃんと　３．わかりやすく　４．すぐに---#### 正答と解説１　**２．原因**　「事故の原因」は決まった言い方で、直接的な理由やきっかけを表します。「理由」では不自然です。２　**２．理由**　「勉強する理由」は行動の根拠や動機を表すので「理由」がぴったりです。「原因」は使いません。３　**４．ため**　「台風が来たため、電車が止まりました」はN3でよく出る「〜ため」の使い方です。「ため」は書き言葉や正式な場面で使われることが多く、ニュースや説明文などで使われます。一方、「ので」も原因・理由を表しますが、より口語的で柔らかいニュアンスがあります。どちらも正しい文法ですが、ここでは公式な説明文として「ため」が最適です。４　**３．わかりやすく**　「わかりやすく説明してください」は、「説明」のしかたを最も適切に表す副詞です。「ちゃんと」「しっかり」も正しい副詞ですが、「きちんと説明する」という意味合いが強く、「説明の内容が理解しやすい」という意味では「わかりやすく」が最も自然です。---#### 教師からのポイント「原因」と「理由」の使い分けは、日本語学習者にとって混乱しやすいポイントです。「原因」は悪い結果のもと、「理由」は行動の動機や根拠という違いを例文で覚えましょう。また、「ため」と「ので」などの文型も、書き言葉・話し言葉の違いや場面による使い分けを意識すると、より自然な日本語表現が身につきます。---ご指摘いただいた点を反映し、より明確な解説と読みやすい形式に修正しました。今後もご意見を参考に、質の高い教材作成に努めてまいります。\n<p><strong>Q: 事故の（　）は、運転手の不注意でした。</strong></p>\n<ul>\n<li>理由</li>\n<li><b>原因</b> <span style='color:green;'>(correct)</span></li>\n<li>目的</li>\n<li>意味</li>\n</ul>\n<p><em>Explanation: 「事故の原因」は決まった言い方で、直接的な理由やきっかけを表します。「理由」では不自然です。</em></p>\n<p><strong>Q: 私が日本語を勉強する（　）は、日本で働きたいからです。</strong></p>\n<ul>\n<li>原因</li>\n<li><b>理由</b> <span style='color:green;'>(correct)</span></li>\n<li>方法</li>\n<li>結果</li>\n</ul>\n<p><em>Explanation: 「勉強する理由」は行動の根拠や動機を表すので「理由」がぴったりです。「原因」は使いません。</em></p>\n<p><strong>Q: 台風が来た（　）、電車が止まりました。</strong></p>\n<ul>\n<li>ので</li>\n<li>こと</li>\n<li>とき</li>\n<li><b>ため</b> <span style='color:green;'>(correct)</span></li>\n</ul>\n<p><em>Explanation: 「台風が来たため、電車が止まりました」はN3でよく出る「〜ため」の使い方です。「ため」は書き言葉や正式な場面で使われることが多く、ニュースや説明文などで使われます。一方、「ので」も原因・理由を表しますが、より口語的で柔らかいニュアンスがあります。どちらも正しい文法ですが、ここでは公式な説明文として「ため」が最適です。</em></p>\n<p><strong>Q: 「原因」と「理由」の違いについて（　）説明してください。</strong></p>\n<ul>\n<li>しっかり</li>\n<li>ちゃんと</li>\n<li><b>わかりやすく</b> <span style='color:green;'>(correct)</span></li>\n<li>すぐに</li>\n</ul>\n<p><em>Explanation: 「わかりやすく説明してください」は、「説明」のしかたを最も適切に表す副詞です。「ちゃんと」「しっかり」も正しい副詞ですが、「きちんと説明する」という意味合いが強く、「説明の内容が理解しやすい」という意味では「わかりやすく」が最も自然です。</em></p>\n<h3>逆接</h3>\n承知しました。ご指摘を踏まえ、より明確で受験者にとって分かりやすいJLPT N3レベルの逆接問題を再構成します。---## 次の文章の[A]〜[D]の空欄に入る最も適切な逆接の接続詞を、それぞれ下の選択肢から一つずつ選びなさい。---### 友達との旅行去年の春休みに、私は友達と京都に旅行に行きました。天気予報では、旅行の間ずっと晴れると言われていました。[A]京都に着いた日は、朝から雨が降っていました。雨が降ったので、予定していた観光地に行くかどうか、みんなで相談しました。[B]せっかく来たので、雨でも観光を楽しもうということになりました。私たちは傘をさして、有名なお寺や神社を回りました。[C]雨の中で見る桜はとてもきれいでした。写真を撮ると、普段よりも静かな雰囲気が伝わってきました。[D]雨の日の京都も、思っていたより楽しかったです。---### [A]に入る言葉を選びなさい。1. しかし 2. だから 3. それから 4. そして### [B]に入る言葉を選びなさい。1. けれども 2. しかし 3. でも 4. けれど### [C]に入る言葉を選びなさい。1. しかし 2. でも 3. けど 4. けれども### [D]に入る言葉を選びなさい。1. しかし 2. けど 3. けれど 4. でも---## 正答・解説### [A] 正解：1. しかし  解説：前の文で「晴れる」と言われていたが、実際には「雨が降った」ため、予想と異なる結果を表す逆接の「しかし」が最適です。### [B] 正解：1. けれども  解説：「雨が降ったので予定を相談した」→「せっかく来たので観光する」と、逆の行動を取ることを示す逆接。文中で使う「けれども」が自然です。### [C] 正解：2. でも  解説：「雨が降っている」という否定的な状況でも、「桜がきれいだった」と肯定的な内容を続けるため、「でも」が適切です。会話的な自然さもあります。### [D] 正解：3. けれど  解説：「普段と違う雨の日の京都」→「楽しかった」という予想外の感想を逆接で述べる。文末に使える「けれど」が自然です。---## 教師からのポイント- 逆接の接続詞は、文の位置やフォーマル度によって使い分ける必要があります。- 「しかし」は文頭、「けれども」は文中、「でも」は会話的、「けれど」は文末や柔らかい印象で使われます。- 文脈をしっかり読んで、どの逆接表現が最も自然かを考えましょう。---この形式で、JLPT N3受験者が逆接の使い分けをしっかりと練習できる内容となっています。\n<p><strong>Q: [A]に入る言葉を選びなさい。</strong></p>\n<ul>\n<li><b>しかし</b> <span style='color:green;'>(correct)</span></li>\n<li>だから</li>\n<li>それから</li>\n<li>そして</li>\n</ul>\n<p><em>Explanation: 前の文で「晴れる」と言われていたが、実際には「雨が降った」ため、予想と異なる結果を表す逆接の「しかし」が最適です。</em></p>\n<p><strong>Q: [B]に入る言葉を選びなさい。</strong></p>\n<ul>\n<li><b>けれども</b> <span style='color:green;'>(correct)</span></li>\n<li>しかし</li>\n<li>でも</li>\n<li>けれど</li>\n</ul>\n<p><em>Explanation: 「雨が降ったので予定を相談した」→「せっかく来たので観光する」と、逆の行動を取ることを示す逆接。文中で使う「けれども」が自然です。</em></p>\n<p><strong>Q: [C]に入る言葉を選びなさい。</strong></p>\n<ul>\n<li>しかし</li>\n<li><b>でも</b> <span style='color:green;'>(correct)</span></li>\n<li>けど</li>\n<li>けれども</li>\n</ul>\n<p><em>Explanation: 「雨が降っている」という否定的な状況でも、「桜がきれいだった」と肯定的な内容を続けるため、「でも」が適切です。会話的な自然さもあります。</em></p>\n<p><strong>Q: [D]に入る言葉を選びなさい。</strong></p>\n<ul>\n<li>しかし</li>\n<li>けど</li>\n<li><b>けれど</b> <span style='color:green;'>(correct)</span></li>\n<li>でも</li>\n</ul>\n<p><em>Explanation: 「普段と違う雨の日の京都」→「楽しかった」という予想外の感想を逆接で述べる。文末に使える「けれど」が自然です。</em></p>\n<h3>条件</h3>\n# 日本語記事：条件について 私たちの生活には、さまざまな「条件」があります。たとえば、アルバイトを[　1　]、年齢や経験が必要な場合があります。会社に入るための条件も、学歴や資格などいろいろです。また、天気がいい日[　2　]、運動会が行われます。もし雨が降ったら、運動会は中止になります。このように、何かが起こるためには「条件」が必要なことが多いです。 条件は、日常生活だけでなく、法律や約束にもよく使われます。たとえば、「宿題を全部終わらせたら、ゲームをしてもいい」という約束は、「宿題を終わらせること」がゲームをする[　3　]です。また、「この商品は、20歳以上の人だけが買うことができる」というのも、年齢が[　4　]です。 このように、条件は私たちの生活の中でとても大切なものです。条件をよく考えて行動することで、トラブルを防ぐことができます。\n<p><strong>Q: 1. アルバイトを[　1　]、年齢や経験が必要な場合があります。</strong></p>\n<ul>\n<li>したいとき</li>\n<li><b>するために</b> <span style='color:green;'>(correct)</span></li>\n<li>してから</li>\n<li>しないで</li>\n</ul>\n<p><em>Explanation: 「アルバイトをするために、年齢や経験が必要な場合があります。」が自然です。「するために」は目的や理由を表すN3文型で、条件を説明するのに適切です。他の選択肢は文脈に合いません。</em></p>\n<p><strong>Q: 2. 天気がいい日[　2　]、運動会が行われます。</strong></p>\n<ul>\n<li><b>なら</b> <span style='color:green;'>(correct)</span></li>\n<li>ので</li>\n<li>でも</li>\n<li>ほど</li>\n</ul>\n<p><em>Explanation: 「天気がいい日なら、運動会が行われます。」は仮定条件を表し、N3の「～なら」を使うのが正しいです。「ので」は理由、「でも」は逆接、「ほど」は程度を表すため不適切です。</em></p>\n<p><strong>Q: 3. 「宿題を全部終わらせたら、ゲームをしてもいい」という約束は、「宿題を終わらせること」がゲームをする[　3　]です。</strong></p>\n<ul>\n<li>必要です</li>\n<li>ことです</li>\n<li>ものです</li>\n<li><b>条件です</b> <span style='color:green;'>(correct)</span></li>\n</ul>\n<p><em>Explanation: 「宿題を終わらせること」がゲームをする条件です、という説明です。「条件です」と明確に言うことで文意が通ります。「必要です」や「ものです」では具体性が足りません。</em></p>\n<p><strong>Q: 4. 「この商品は、20歳以上の人だけが買うことができる」というのも、年齢が[　4　]です。</strong></p>\n<ul>\n<li><b>条件です</b> <span style='color:green;'>(correct)</span></li>\n<li>必要です</li>\n<li>できます</li>\n<li>あります</li>\n</ul>\n<p><em>Explanation: 「年齢が条件です。」が正しいです。「必要です」も近いですが、「条件です」の方がより明確にルールや制限を表します。</em></p>\n<h3>目的</h3>\n# 目的について 私たちが何か新しいことを始めるとき、**目的**を持つことはとても大切です。目的があると、[1] 何をすればいいのかがはっきりします。たとえば、勉強する目的が「日本語を話せるようになること」なら、毎日少しずつ単語や文法を覚えることが大切だとわかります。 目的は、[2] 目標や手段と違います。目的は「最終的に達成したいこと」、目標は「目的を達成するための小さなゴール」、手段は「目標を達成するための方法」です。たとえば、「健康になる」という目的のために、「毎日30分歩く」という目標を立てて、「朝早く起きて散歩する」という手段を選ぶことができます。 目的があると、途中で困難があっても、[3] 続ける力が生まれます。目的を忘れてしまうと、なぜ頑張るのか分からなくなってしまいます。だから、何かを始めるときは、まず自分の目的を[4] 明確にすることが大切です。 --- [1] 1. どこで 2. どうして 3. どのように 4. どれくらい  [2] 1. たとえば 2. しかし 3. それとも 4. つまり  [3] 1. あきらめやすくなる 2. がんばり続けられる 3. つかれてしまう 4. いやになる  [4] 1. しっかり 2. はっきり 3. きちんと 4. すぐに --- ### 正解と解説 [1] **3. どのように** 「何をすればいいのかがはっきりします」という内容なので、「どのように（how）」が最も自然です。N3受験者は疑問詞の使い分けをよく練習しましょう。 [2] **1. たとえば** 「目的は、目標や手段と違います。」の後に例を挙げるので、「たとえば」が適切です。「しかし」「それとも」「つまり」は文脈に合いません。 [3] **2. がんばり続けられる** 「続ける力が生まれます」とあるので、「がんばり続けられる」が一番合っています。あきらめる・つかれる・いやになるは逆の意味です。 [4] **2. はっきり** 「目的を明確にすることが大切です」に合うのは「はっきり」です。「しっかり」「きちんと」も意味が近いですが、「明確にする」と一番自然につながるのは「はっきり」です。「すぐに」は意味が違います。 --- **教師の視点からの主な課題と指導アドバイス** この問題では、疑問詞や接続詞、副詞の微妙な使い分けがポイントです。N3学習者は、似た意味の語彙の使い分けや、文全体の流れを理解する力をつける必要があります。  **指導アドバイス:**  - 疑問詞や副詞は例文を多く読み、実際の文脈でどのように使われているかを確認しましょう。  - 接続詞や副詞は、意味の近い言葉を比較しながら練習問題を解くと効果的です。  - 「目的」「目標」「手段」など似た言葉は、図や表を使って整理し、具体例を挙げて理解を深めましょう。  --- 【模範解答例の改善点を反映し、選択肢の質や表記も整えました】\n<p><strong>Q: [1] 何をすればいいのかがはっきりします。に入る最も適切な言葉はどれですか？</strong></p>\n<ul>\n<li>どこで</li>\n<li>どうして</li>\n<li><b>どのように</b> <span style='color:green;'>(correct)</span></li>\n<li>どれくらい</li>\n</ul>\n<p><em>Explanation: 「何をすればいいのかがはっきりします」という内容なので、「どのように（how）」が最も自然です。N3受験者は疑問詞の使い分けをよく練習しましょう。</em></p>\n<p><strong>Q: [2] 目的は、目標や手段と違います。の後に続く最も適切な接続詞はどれですか？</strong></p>\n<ul>\n<li><b>たとえば</b> <span style='color:green;'>(correct)</span></li>\n<li>しかし</li>\n<li>それとも</li>\n<li>つまり</li>\n</ul>\n<p><em>Explanation: 「目的は、目標や手段と違います。」の後に例を挙げるので、「たとえば」が適切です。「しかし」「それとも」「つまり」は文脈に合いません。</em></p>\n<p><strong>Q: [3] 途中で困難があっても、続ける力が生まれます。に入る最も適切な言葉はどれですか？</strong></p>\n<ul>\n<li>あきらめやすくなる</li>\n<li><b>がんばり続けられる</b> <span style='color:green;'>(correct)</span></li>\n<li>つかれてしまう</li>\n<li>いやになる</li>\n</ul>\n<p><em>Explanation: 「続ける力が生まれます」とあるので、「がんばり続けられる」が一番合っています。あきらめる・つかれる・いやになるは逆の意味です。</em></p>\n<p><strong>Q: [4] まず自分の目的を明確にすることが大切です。に入る最も適切な副詞はどれですか？</strong></p>\n<ul>\n<li>しっかり</li>\n<li><b>はっきり</b> <span style='color:green;'>(correct)</span></li>\n<li>きちんと</li>\n<li>すぐに</li>\n</ul>\n<p><em>Explanation: 「目的を明確にすることが大切です」に合うのは「はっきり」です。「しっかり」「きちんと」も意味が近いですが、「明確にする」と一番自然につながるのは「はっきり」です。「すぐに」は意味が違います。</em></p>\n<h1>第2部：読解</h1>\n<h2>短文読解 (short_passage_read)</h2>\n<p>4題。短い文章を読み、内容に関する問いに答える。</p>\n<h3>店で価格を尋ねる</h3>\n<p><strong>Q: このメールで、山田様は何を知ることができましたか。</strong></p>\n<ul>\n<li><b>冷蔵庫の価格と配送料について</b> <span style='color:green;'>(correct)</span></li>\n<li>冷蔵庫の在庫状況について</li>\n<li>冷蔵庫の色について</li>\n<li>冷蔵庫のサイズについて</li>\n</ul>\n<p><em>Explanation: この問題では、ビジネスメールの内容から必要な情報を正確に読み取る力が求められます。N3レベルの学習者にとって、「価格」「配送料」「ご案内」などの語彙や敬語表現の理解がポイントです。選択肢には本文にない情報（在庫状況・色・サイズ）が含まれており、正しく内容を把握できているか判断できます。メール形式や敬称も自然で、指示文も加わっているため、受験者が迷わず解答できる構成になっています。</em></p>\n<h3>レストランで食べ物を注文する</h3>\n<p><strong>Q: 山本さんは、レストランでどのように食事を楽しみましたか。</strong></p>\n<ul>\n<li>自分の料理だけを食べた</li>\n<li><b>田中さんの料理も少し食べた</b> <span style='color:green;'>(correct)</span></li>\n<li>デザートをたくさん食べた</li>\n<li>田中さんの注文を手伝った</li>\n</ul>\n<p><em>Explanation: この問題の難しさは、メール本文から「田中さんが選んだスープも少しもらえて、うれしかったです。」という部分を正しく理解し、「自分の注文以外も食べた」ことを読み取る点にあります。N3レベルでは「もらえて」「うれしかった」などの表現や、「自分の料理だけ」や「デザートをたくさん」などの選択肢の違いに注意することが必要です。選択肢を丁寧に比較し、本文と合致する内容を選ぶ力が問われます。</em></p>\n<h3>道を尋ねる</h3>\n<p><strong>Q: 次のメールを読んで、後の問いに答えなさい。これは、山田さんが友人のスミスさんに送ったメールです。スミスさんこんにちは。メールをありがとう。東京に来る日は決まりましたか。もしよかったら、東京駅まで迎えに行きます。東京駅はとても広いので、待ち合わせの場所を決めておきましょう。丸の内北口の改札の前でどうですか。駅で道に迷ったら、近くの駅員さんに「丸の内北口はどこですか」と聞いてください。当日は、私の携帯に電話してもいいですよ。会えるのを楽しみにしています。山田このメールで、山田さんはスミスさんにどんなアドバイスをしていますか。最も適切なものを一つ選びなさい。</strong></p>\n<ul>\n<li><b>東京駅で迷ったら、駅員に聞くように言っている。</b> <span style='color:green;'>(correct)</span></li>\n<li>東京駅に着いたら、すぐに電話するように言っている。</li>\n<li>東京駅の南口で待ち合わせるように言っている。</li>\n<li>東京駅の近くのホテルに泊まるように言っている。</li>\n</ul>\n<p><em>Explanation: この問題は、メール本文の内容を正確に読み取り、「道を尋ねる」というN3レベルの重要表現を理解できているかを問うものです。本文中に「駅で道に迷ったら、近くの駅員さんに『丸の内北口はどこですか』と聞いてください。」と明記されています。したがって、1が正解です。他の選択肢は、本文に直接書かれていない内容や、本文と異なる情報です。2は「すぐに電話」とは書かれておらず、3は「南口」ではなく「北口」、4はホテルについての記述がありません。誤答も本文の内容に近い表現を使うことで、受験者の本文理解力をより深く測ることができます。この問題の主なチャレンジは、「迷ったとき」「駅員に聞く」「待ち合わせ場所」といった日常的な日本語のやりとりを正確に理解し、適切な選択肢を選ぶ力です。N3レベルの語彙と文法がしっかり使われており、実用的な内容となっています。</em></p>\n<h3>週末の予定について話す</h3>\n<p><strong>Q: 田中さんは、日曜日に何をする予定ですか。</strong></p>\n<ul>\n<li>家で本を読む</li>\n<li>スーパーで買い物をする</li>\n<li><b>友達と映画を見に行く</b> <span style='color:green;'>(correct)</span></li>\n<li>家族とカフェに行く</li>\n</ul>\n<p><em>Explanation: この問題のポイントは、日付と予定を正確に読み取る力です。N3レベルでは、「〜つもりです」「〜予定です」など未来の表現や、日付ごとの行動を区別する読解力が求められます。「日曜日は、友達と映画を見に行く予定です。」という文を正しく理解できるかがカギです。選択肢の中には土曜日の予定や、本文にない内容が含まれているので、惑わされずに本文から直接答えを見つけることが大切です。</em></p>\n<h2>中文章読解 (midsize_passage_read)</h2>\n<p>2題。中程度の長さの文章を読み、主旨や詳細情報について答える。</p>\n<h3>趣味について話す</h3>\n<p><strong>Q: この文章を書いた人は、旅行についてどのように考えていますか。</strong></p>\n<ul>\n<li>旅行は計画が大変なので、あまり好きではない。</li>\n<li><b>旅行を通じて新しい発見や経験ができるので楽しいと思っている。</b> <span style='color:green;'>(correct)</span></li>\n<li>旅行は友達と行くのが一番大切だと思っている。</li>\n<li>旅行は国内だけで十分だと思っている。</li>\n</ul>\n<p><em>Explanation: 本文では、「その土地の文化や食べ物を知ることができて、とても楽しいです」や、「旅行を通して、自分の世界が広がったと感じています」と書かれており、旅行を通じて新しい発見や経験ができることを楽しいと感じていることが読み取れます。選択肢1や4は本文と反対の内容であり、3も「友達と行くこともありますが、一人で…」とあるため、友達と行くことだけが大切とは考えていません。N3学習者にとっては、筆者の気持ちや考えを読み取る力、キーワード（「楽しい」「広がった」など）を正確に把握する力が問われる点が難しいポイントです。</em></p>\n<h3>家族について話す</h3>\n<p><strong>Q: 家族について書かれているこの文章から、正しいものを一つ選びなさい。</strong></p>\n<ul>\n<li>家族は四人で、姉が二人いる。</li>\n<li>父は家で家事をしている。</li>\n<li><b>家族は毎週日曜日に一緒に夕食を食べる。</b> <span style='color:green;'>(correct)</span></li>\n<li>弟は高校生で、バスケが好きだ。</li>\n</ul>\n<p><em>Explanation: この問題の主なチャレンジは、家族構成や家族の活動、職業、趣味など、N3レベルの基礎的な語彙と文法を正しく読み取ることです。選択肢の中には、本文の内容と少し違う情報（例えば人数や職業、趣味）が混ざっているため、細かい情報を正確に把握する読解力が求められます。特に家族構成や日常の習慣に関する記述をしっかり確認することがポイントです。</em></p>\n<h2>長文読解 (long_passage_read)</h2>\n<p>1題。やや長い文章を読み、全体の内容や筆者の意図を理解する。</p>\n<h3>旅行の計画について話す</h3>\n【次の文章を読んで、質問に答えなさい】田中さんは、来月友達と大阪に旅行に行く予定です。先週、田中さんは旅行の計画を立てるために、友達と集まりました。まず、みんなでどこに行きたいかを話し合いました。大阪城やユニバーサル・スタジオ・ジャパン、道頓堀など、人気の観光地がたくさんあります。田中さんは、歴史が好きなので、大阪城に一番行きたいと言いました。友達の一人は、テーマパークが好きなので、ユニバーサル・スタジオ・ジャパンに行きたいと言いました。みんなで相談して、二日目は大阪城、三日目はユニバーサル・スタジオ・ジャパンに行くことに決めました。ホテルは駅の近くに予約しました。駅から観光地まで電車で行けるので、とても便利です。また、旅行中に美味しいたこ焼きを食べることも楽しみにしています。田中さんたちは、旅行の日が来るのを楽しみにしています。\n<p><strong>Q: 田中さんは旅行の計画を立てるために、何をしましたか。</strong></p>\n<ul>\n<li><b>友達と集まって、旅行の計画を立てました。</b> <span style='color:green;'>(correct)</span></li>\n</ul>\n<p><em>Explanation: 主語の省略と「集まる」「計画を立てる」の文脈理解が必要。N3では複数人の行動や目的を正確に読み取ることが大切です。</em></p>\n<p><strong>Q: 田中さんたちは大阪でどんな観光地に行くことにしましたか。</strong></p>\n<ul>\n<li><b>大阪城とユニバーサル・スタジオ・ジャパンに行くことにしました。</b> <span style='color:green;'>(correct)</span></li>\n</ul>\n<p><em>Explanation: 複数の観光地が出てくるため、情報を整理して答える必要があります。N3では「相談して決めた」などの文型もポイント。</em></p>\n<p><strong>Q: 田中さんたちがホテルを予約した場所はどこですか。</strong></p>\n<ul>\n<li><b>駅の近くにホテルを予約しました。</b> <span style='color:green;'>(correct)</span></li>\n</ul>\n<p><em>Explanation: 「場所＋に予約する」「駅の近く」など、場所を表す表現に注意しましょう。</em></p>\n<p><strong>Q: 田中さんはなぜ大阪城に行きたいと言いましたか。</strong></p>\n<ul>\n<li><b>歴史が好きだからです。</b> <span style='color:green;'>(correct)</span></li>\n</ul>\n<p><em>Explanation: 「ので」や「から」による理由説明を読み取る力が問われます。</em></p>\n<p><strong>Q: みんなはどのようにして行く場所を決めましたか。</strong></p>\n<ul>\n<li><b>みんなで相談して決めました。</b> <span style='color:green;'>(correct)</span></li>\n</ul>\n<p><em>Explanation: 「相談して決める」という表現を正しく理解できるかが重要です。</em></p>\n<p><strong>Q: 田中さんたちが旅行で楽しみにしている食べ物はどれですか。</strong></p>\n<ul>\n<li>お好み焼き</li>\n<li><b>たこ焼き</b> <span style='color:green;'>(correct)</span></li>\n<li>ラーメン</li>\n<li>カレー</li>\n</ul>\n<p><em>Explanation: 旅行中の楽しみや具体的な名詞の読み取り。N3では本文中の具体的な情報を正確に選ぶ力が必要です。</em></p>\n<h2>情報検索 (info_retrieval)</h2>\n<p>1題。案内や掲示などの情報から必要な情報を探し出す。</p>\n<h3>電車の切符を買う</h3>\n<h3>電車の切符の買い方と案内</h3><p>次の表と説明を読んで、後の質問に答えなさい。</p><table border=\"1\" cellspacing=\"0\" cellpadding=\"4\" style=\"border-collapse:collapse;width:100%;text-align:center;\"><tr style=\"background-color:#f0f0f0;\"><th>購入場所</th><th>利用可能時間</th><th>支払い方法</th><th>できること</th></tr><tr><td>自動券売機</td><td>5:00～23:30</td><td>現金・ICカード</td><td>きっぷ購入、ICカードチャージ</td></tr><tr><td>窓口</td><td>7:00～20:00</td><td>現金・クレジットカード</td><td>新幹線・特急券も購入可</td></tr><tr><td>インターネット予約</td><td>24時間</td><td>クレジットカード</td><td>会員登録が必要、きっぷは駅で受け取り</td></tr><tr><td>旅行会社</td><td>10:00～18:00</td><td>現金</td><td>JRきっぷのみ、手数料なし</td></tr></table><ul><li>自動券売機は駅の入り口近くにあります。画面の案内に従って、行き先や人数を選び、お金を入れるときっぷが出ます。</li><li>ICカード（Suica、PASMOなど）は券売機でチャージできます。改札でタッチして使います。</li><li>特急や新幹線に乗る場合は、乗車券のほかに特急券や指定席券が必要です。窓口や高機能券売機、インターネットで購入できます。</li><li>インターネットで予約したきっぷは、出発当日または7日前から駅の指定席券売機で受け取ります。</li><li>旅行会社では、JRきっぷを手数料なしで購入できますが、店舗によっては取り扱いがない場合もあります。</li></ul><hr><p><b>【指示】</b> 次の質問に最も合うものを一つずつ選びなさい。</p>\n<p><strong>Q: 駅でICカードにお金を入れたいとき、どこでできますか。</strong></p>\n<ul>\n<li>ア　窓口</li>\n<li><b>イ　自動券売機</b> <span style='color:green;'>(correct)</span></li>\n<li>ウ　インターネット予約</li>\n<li>エ　旅行会社</li>\n</ul>\n<p><em>Explanation: 自動券売機は駅の入り口近くにあり、ICカードのチャージもできます。</em></p>\n<p><strong>Q: インターネットで切符を予約した場合、どのように受け取りますか。</strong></p>\n<ul>\n<li>ア　家に郵送してもらう</li>\n<li><b>イ　駅の指定席券売機で受け取る</b> <span style='color:green;'>(correct)</span></li>\n<li>ウ　改札で駅員から受け取る</li>\n<li>エ　旅行会社のカウンターで受け取る</li>\n</ul>\n<p><em>Explanation: インターネットで予約したきっぷは、出発当日または7日前から駅の指定席券売機で受け取ります。</em></p>\n<p><strong>Q: 窓口でできないことはどれですか。</strong></p>\n<ul>\n<li>ア　新幹線の切符を買う</li>\n<li><b>イ　ICカードにチャージする</b> <span style='color:green;'>(correct)</span></li>\n<li>ウ　現金で支払う</li>\n<li>エ　クレジットカードで支払う</li>\n</ul>\n<p><em>Explanation: 窓口ではICカードへのチャージはできません。</em></p>\n<p><strong>Q: 旅行会社で切符を買うときに、正しいことはどれですか。</strong></p>\n<ul>\n<li>ア　手数料がかかる</li>\n<li><b>イ　現金で支払う</b> <span style='color:green;'>(correct)</span></li>\n<li>ウ　ICカードで支払う</li>\n<li>エ　クレジットカードで支払う</li>\n</ul>\n<p><em>Explanation: 旅行会社ではJRきっぷのみ手数料なしで購入でき、支払いは現金のみです。</em></p>\n<p><strong>Q: 特急に乗りたいとき、必要なものは何ですか。</strong></p>\n<ul>\n<li>ア　乗車券だけ</li>\n<li>イ　特急券だけ</li>\n<li><b>ウ　乗車券と特急券</b> <span style='color:green;'>(correct)</span></li>\n<li>エ　ICカードだけ</li>\n</ul>\n<p><em>Explanation: 特急に乗る場合は乗車券と特急券の両方が必要です。</em></p>\n<h1>第3部：聴解</h1>\n<h2>話題理解 (topic_understanding)</h2>\n<p>6問。流れる会話や説明から話題を把握する。</p>\n<h3>お気に入りのレストランについて話す</h3>\n<p><strong>Q: この後、ユキさんは何をしたいと思っていますか。</strong></p>\n<ul>\n<li>新しいラーメン屋に行く</li>\n<li><b>森のカフェでチョコレートケーキを食べる</b> <span style='color:green;'>(correct)</span></li>\n<li>ケンさんの家に行く</li>\n<li>フルーツタルトを作る</li>\n</ul>\n<p><em>Explanation: この問題の難しさは、「お気に入り」「静か」「ケーキ」などN3レベルの話題語彙を聞き分け、会話の流れからユキさんの次の希望行動（＝お気に入りのカフェでチョコレートケーキを食べたい）を推測する点です。選択肢には似た内容（ケーキやフルーツタルト）が含まれているため、会話の具体的な内容を正確に聞き取る力が問われます。</em></p>\n<h3>健康とフィットネスについて話す</h3>\n<p><strong>Q: 友人Aはこの後、何をするつもりですか。</strong></p>\n<ul>\n<li>毎朝ジョギングを始める</li>\n<li>食事のバランスを考える</li>\n<li><b>明日から運動をしてみる</b> <span style='color:green;'>(correct)</span></li>\n<li>プロテインを毎日飲む</li>\n</ul>\n<p><em>Explanation: この問題は、会話の最後で「じゃあ、私も明日から少し運動してみようかな」と友人Aが自分の行動を決めている点を聞き取る必要があります。会話の流れを理解し、実際に何をするつもりかを選ぶ力が求められます。選択肢1や2も会話に出てきますが、「明日から運動」と具体的に述べているのが3番です。N3レベルの語彙と表現を使い、会話の要点を聞き取る力を測る良問です。</em></p>\n<h3>最近の映画について話す</h3>\n<p><strong>Q: この会話を読んで、男の人がこの後一番したいことに近いものを一つ選びなさい。</strong></p>\n<ul>\n<li>アクション映画を見る</li>\n<li>音楽を聞きに行く</li>\n<li><b>感動する映画を見に行く</b> <span style='color:green;'>(correct)</span></li>\n<li>高校に行く</li>\n</ul>\n<p><em>Explanation: この問題のポイントは、男の人の発言「たまにはそういう映画も見てみたいな」と、女の人の「今度一緒に見に行かない？」という誘いに「ぜひ行こう！」と答えている部分です。つまり、男の人は感動する映画（「青い空の約束」）を見に行くことに興味を持っています。N3レベルの語彙（映画館、感動、約束、俳優、演技、アクションなど）や表現（〜してみたい、〜ばかり、もしよかったら、ぜひ〜しよう）を適切に使用しています。選択肢には内容に関連するものや紛らわしいもの（アクション映画、音楽など）を含め、正しく会話内容を理解できているかを問う形式です。</em></p>\n<h3>支払い方法について話す</h3>\n<p><strong>Q: この後、お客さんはまず何をしますか。最も適切なものを一つ選びなさい。</strong></p>\n<ul>\n<li>現金で支払う</li>\n<li>クレジットカードを渡す</li>\n<li><b>レシートとポイントカードを受け取る</b> <span style='color:green;'>(correct)</span></li>\n<li>店員に支払い方法について質問する</li>\n</ul>\n<p><em>Explanation: この問題は、支払いの流れや店員とのやりとりを正確に理解する力が求められます。N3レベルの語彙（「ICカード」「タッチ」「ポイントカード」「お返しします」など）を使い、実際の日本の買い物場面を再現しています。選択肢には、会話の流れから外れるもの（現金で支払う、クレジットカードを渡す、店員に質問する）を含めることで、細部まで聞き取る力を測ります。正解を選ぶには、最後の店員の発言「レシートとポイントカードもお返しします。」に注目し、次にお客さんが何をするかを推測する必要があります。</em></p>\n<h3>家事の分担について話す</h3>\n<p><strong>Q: この後、夫はまず何をしますか。</strong></p>\n<ul>\n<li><b>洗濯をする日を決める</b> <span style='color:green;'>(correct)</span></li>\n<li>掃除をする時間を決める</li>\n<li>土日の夕食のメニューを考える</li>\n<li>妻に掃除のやり方を聞く</li>\n</ul>\n<p><em>Explanation: この会話では、妻が洗濯を週に2回夫にお願いし、夫が「じゃあ、洗濯は僕がやるよ」と約束しています。直後に必要な行動は、いつ洗濯をするか日を決めることです。選択肢2と4も家事分担に関係しますが、掃除は「週末ならできる」と話しているだけで、すぐに時間を決める流れではありません。また、選択肢3の夕食メニューについては「考えておくね」と言っていますが、まず優先されるのは妻の要望である洗濯の分担です。受験者は会話の流れと約束された内容を正確に把握する必要があり、N3レベルの聞き取り力と実生活に基づく判断力が問われます。</em></p>\n<h3>公共施設の利用方法について話す</h3>\n<p><strong>Q: 女の人はこれから何をしますか。</strong></p>\n<ul>\n<li>会議室の掃除をする</li>\n<li><b>利用申し込みの紙を記入する</b> <span style='color:green;'>(correct)</span></li>\n<li>会議室の利用料金をはらう</li>\n<li>会議室の場所を案内する</li>\n</ul>\n<p><em>Explanation: この問題は、会話の流れを正確に理解し、次に行うべき行動を特定するリスニング力を測るものです。女の人は「申し込みを書きます」と最後に言っており、これから申し込み用紙に記入することが明らかです。選択肢2が正解となります。N3レベルの語彙と表現を使い、公共施設の利用手順という日常的な場面を設定しているので、実用的な日本語運用能力が問われます。設問と選択肢の整合性も保たれており、混乱が生じにくい良問です。</em></p>\n<h2>要点理解 (keypoint_understanding)</h2>\n<p>6問。会話の中の重要な情報や要点を聞き取る。</p>\n<h3>仕事のプロジェクトについて話す</h3>\n<p><strong>Q: 女の人がまず最初にすることは何ですか。</strong></p>\n<ul>\n<li>新しいメンバーを探すこと</li>\n<li><b>業務の問題点を整理すること</b> <span style='color:green;'>(correct)</span></li>\n<li>改善案をまとめること</li>\n<li>結果を報告すること</li>\n</ul>\n<p><em>Explanation: この問題はN3レベルの語彙と文法を用いています。会話の中で「まずは現状の問題点を整理してから、改善案を考える予定」と述べられている部分を正確に理解できるかがポイントです。他の選択肢も会話内で言及されていますが、時系列や優先順位を正しく把握する力が求められます。選択肢の内容も混同しやすいため、注意深く聞き取る必要があります。</em></p>\n<h3>おすすめを尋ねる</h3>\n<p><strong>Q: 男の人は女の人にどこをすすめられましたか。</strong></p>\n<ul>\n<li>京都</li>\n<li><b>箱根</b> <span style='color:green;'>(correct)</span></li>\n<li>沖縄</li>\n<li>北海道</li>\n</ul>\n<p><em>Explanation: この問題のポイントは、「箱根はどう？」という女の人の発言が、男の人へのおすすめであることを聞き取ることです。会話の中で温泉や美味しいもの、景色などの希望条件が出てきますが、「それなら、箱根はどう？」という提案が正答の根拠です。また、「特急で行ける」「温泉」「黒たまご」などの情報もヒントになります。N3レベルでは、会話の流れからどの場所がすすめられたのかを正確に理解する力が求められるため、設問として適切です。固有名詞（箱根、黒たまごなど）は文脈で理解できるよう工夫しています。</em></p>\n<h3>交通状況について話す</h3>\n<p><strong>Q: 男の人は、なぜ会社に着くのが遅くなったと言っていますか。</strong></p>\n<ul>\n<li>交通事故があったから</li>\n<li>電車が少し遅れたから</li>\n<li><b>工事で道路が一方通行になっていたから</b> <span style='color:green;'>(correct)</span></li>\n<li>朝寝坊したから</li>\n</ul>\n<p><em>Explanation: 正答の根拠となる会話文は「工事中の道路があって、そこが一方通行になっていたから、みんな迂回しなきゃいけなかったんだよ。」です。事故はなかったと明言されており、電車の遅れについては女の人の話です。学習者は、会話の流れから正しい理由を聞き分け、他の選択肢に惑わされないよう注意が必要です。N3レベルでは、話題に出た情報と実際の理由を区別する聴解力が問われます。</em></p>\n<h3>ショッピング体験を説明する</h3>\n<p><strong>Q: この会話からわかる「新しいショッピング体験」の特徴は何ですか。</strong></p>\n<ul>\n<li><b>商品をためしたり、店員と話しながら買い物ができること</b> <span style='color:green;'>(correct)</span></li>\n<li>すべての商品がネットでしか買えないこと</li>\n<li>お店にコーヒーを飲みながら買い物ができるスペースがあることだけが特徴であること</li>\n<li>店員と話さずに買い物をすること</li>\n</ul>\n<p><em>Explanation: この問題は、会話全体から新しいショッピング体験の主な特徴を聞き取る力を問います。選択肢1が正解で、会話では「商品をためす」「店員が説明する」「安心して買い物ができる」など複数の特徴が述べられています。選択肢2はネットショッピングの特徴であり、会話内容と合いません。選択肢3はスペースについてのみを特徴としていますが、会話では他にも多くの特徴が語られているため不正解です。選択肢4は店員と話さない買い物ですが、会話では「店員と直接話すことの良さ」が強調されています。受験者は会話全体を聞き取り、要点をまとめて正しい選択肢を選ぶ必要があり、情報の取捨選択がポイントとなります。</em></p>\n<h3>ペットについて話す</h3>\n<p><strong>Q: 男の人はどうして猫を飼い始めましたか。</strong></p>\n<ul>\n<li>犬が好きだから</li>\n<li><b>アパートで犬が飼えなかったから</b> <span style='color:green;'>(correct)</span></li>\n<li>友だちにすすめられたから</li>\n<li>猫を偶然見つけたから</li>\n</ul>\n<p><em>Explanation: この問題のポイントは、「犬を飼いたかったが、アパートが犬禁止で猫なら大丈夫だった」という理由を正確に聞き取ることです。N3レベルの語彙・文法で構成されていますが、「～なら大丈夫」「大家さんに言われて」などの表現に注意が必要です。選択肢には内容を混乱させやすいもの（1や4）が含まれており、正確なリスニング理解力が問われます。</em></p>\n<h3>新しいスキルを学ぶ計画について話す</h3>\n<p><strong>Q: 次の会話を聞いて、話の目的として最も適切なものを選びなさい。</strong></p>\n<ul>\n<li>新しいスキルを学ぶための目標を決めるため</li>\n<li><b>学習の計画を見直すため</b> <span style='color:green;'>(correct)</span></li>\n<li>友だちと一緒に勉強するため</li>\n<li>新しい本を買うため</li>\n</ul>\n<p><em>Explanation: この問題では、会話の中で「計画を見直す」という目的が明確に語られるかを聞き取る必要があります。N3レベルの語彙や表現を正しく理解し、話し手の意図に注目することがポイントです。選択肢の中で似た内容があるため、計画の見直しが主題であることを正確に判断できるかが難しさとなります。</em></p>\n<h2>概要理解 (summary_understanding)</h2>\n<p>3問。聴いた内容の大意やまとめを問う。</p>\n<h3>課題と解決策について話す</h3>\n<p><strong>Q: このあと、社員はまず何をしますか。</strong></p>\n<ul>\n<li>他の会社の会議に参加する</li>\n<li><b>部門ごとのミーティングの日程を決める</b> <span style='color:green;'>(correct)</span></li>\n<li>営業部と開発部でランチ会を開く</li>\n<li>部長に仕事の進み具合を報告する</li>\n</ul>\n<p><em>Explanation: この問題では、「課題」と「解決策」というビジネスシーンでよく使われるN3レベルの語彙が使われています。社員は「私が日程を調整して、みんなに連絡します」と話しているので、次にすることは「ミーティングの日程を決める」ことです。他の選択肢は会話の内容と合っていません。正答を選ぶには、会話の流れと要点を的確につかむ必要があります。</em></p>\n<h3>地域のイベントについて話す</h3>\n<p><strong>Q: このあと、男の人は何をするつもりですか。</strong></p>\n<ul>\n<li>伝統的な踊りに参加する</li>\n<li><b>イベントで写真を撮る</b> <span style='color:green;'>(correct)</span></li>\n<li>屋台で料理を作る</li>\n<li>ワークショップに参加する</li>\n</ul>\n<p><em>Explanation: この問題では、聞き取りの中で「僕は写真を撮る係をやろうかな。イベントの写真をSNSにアップしたら、みんなにも見てもらえるし。」という男の人の発言がポイントです。N3レベルの語彙と表現（屋台、伝統的な踊り、ワークショップ、写真を撮るなど）を使いながら、会話の流れから「次に男の人がすること」を正確に把握する力が問われます。選択肢の中には似た内容も含まれているため、細かい聞き分けと要点の把握が主なチャレンジとなります。</em></p>\n<h3>おすすめの旅行先について話す</h3>\n<p><strong>Q: 女の人はこのあとどうしますか。</strong></p>\n<ul>\n<li>京都に行くことを決める</li>\n<li>沖縄に行くことを決める</li>\n<li><b>どちらに行くか、もう少し考える</b> <span style='color:green;'>(correct)</span></li>\n<li>旅行に行くのをやめる</li>\n</ul>\n<p><em>Explanation: この会話では、女の人が京都と沖縄、どちらに行くか迷っていて、「もう少し考えて、どっちに行くか決めるね」と言っています。したがって、選択肢3が正解です。N3レベルの学習者にとって、「もう少し考えて、どっちに行くか決めるね」という表現が、すぐに決めない＝まだ決めていない、という意味を理解できるかどうかがポイントになります。また、選択肢1や2に引っ張られないように、会話の最後までしっかり聞く必要があります。</em></p>\n<h2>積極的表現 (active_expression)</h2>\n<p>4問。会話の中で自分の意見や希望を述べる場面を聞き取る。</p>\n<h3>キャリア目標について話す</h3>\n<p><strong>Q: What will the person pointed by the arrow (the young employee) say next?</strong></p>\n<ul>\n<li><b>まず、プロジェクトリーダーとしての経験を積みたいです。</b> <span style='color:green;'>(correct)</span></li>\n<li>会社を辞めて、海外で働きたいです。</li>\n<li>休みを増やして、趣味の時間を増やしたいです。</li>\n</ul>\n<p><em>Explanation: This question assesses students' ability to understand context and predict a logical, professional response in a career discussion. Options 2 and 3 do not align with the positive and proactive tone expected in a formal career goal setting within a company. Option 1 uses N3-level vocabulary and is the most appropriate and realistic answer in a Japanese workplace setting, reflecting ambition and willingness to contribute to the team. The challenge for students is to distinguish between personal wishes and suitable career goals in a business context.</em></p>\n<h3>将来の抱負について話す</h3>\n<p><strong>Q: このあと、矢印の女の子（佐藤さん）は何と言いますか。</strong></p>\n<ul>\n<li><b>私は日本の歴史に興味があるので、歴史の先生になりたいです。</b> <span style='color:green;'>(correct)</span></li>\n<li>私はサッカーが好きなので、毎日サッカーの練習をしています。</li>\n<li>私は料理が得意なので、今度みんなにお弁当を作ります。</li>\n</ul>\n<p><em>Explanation: この問題のポイントは、「将来の抱負」というテーマに合う答えを選ぶことです。1番は「歴史の先生になりたい」という明確な将来の目標を理由とともに述べており、N3レベルの文法や語彙が使われています。2番と3番は現在の趣味や特技について述べていますが、「将来どうなりたいか」という抱負にはなっていません。N3学習者にとって、意志や希望を表す「〜たいです」「〜ので」などの文型を理解し、将来の目標を表現できるかが問われています。また、誤答選択肢も自然な内容なので、文脈理解力と将来の抱負表現の区別が試されます。</em></p>\n<h3>友人へのプレゼント選びについて話す</h3>\n<p><strong>Q: このあと、矢印の人は何と言いますか。</strong></p>\n<ul>\n<li><b>じゃあ、コーヒーカップを見に行こうかな。</b> <span style='color:green;'>(correct)</span></li>\n<li>やっぱり、去年と同じハンカチにしよう。</li>\n<li>もうプレゼントは買ってあるよ。</li>\n</ul>\n<p><em>Explanation: The main challenge in this question is distinguishing between the options based on the context of the conversation. The student pointed by the arrow is indecisive about the gift and is considering new ideas. Option 1 shows a natural next step based on the friend's suggestion. Option 2 contradicts her desire to choose something special and different from last year. Option 3 is not logical, as she is still undecided and hasn't bought anything yet. This tests careful listening and understanding of nuance at the N3 level.</em></p>\n<h3>特別な日の計画について話す</h3>\n<p><strong>Q: What will the mother say next?</strong></p>\n<ul>\n<li>じゃあ、一緒にケーキを作りましょうか。</li>\n<li><b>今日はあなたの好きなレストランに行く予定よ。</b> <span style='color:green;'>(correct)</span></li>\n<li>今から公園で散歩しましょう。</li>\n</ul>\n<p><em>Explanation: The main challenge for students is to listen for key information about the special day and the planned activity. The dialogue context makes it clear that the family is celebrating the daughter’s birthday and the father has suggested going out for dinner. Option 2 matches this context, using the N3-level phrase 「行く予定」 to express a future plan. Option 1 and 3 mention other activities (making a cake, going for a walk) that are not mentioned in the dialogue, so students need to distinguish the correct future plan based on the listening.</em></p>\n<h2>即時応答 (immediate_ack)</h2>\n<p>9問。短い会話や問いかけに対して即座に適切な返答を選ぶ。</p>\n<h3>バスの時刻表を尋ねる</h3>\n<p><strong>Q: このあと、男の人はどうしますか。</strong></p>\n<p><em>Explanation: この問題のポイントは、会話の流れから「次のバスは10時15分に出発しますよ」と言われた後、男の人がどうするかを考えることです。N3レベルの学習者にとって、「時刻表」「出発」「待つ」など基本的な語彙の理解が問われます。選択肢1は「すぐにバスに乗る」ですが、バスはまだ来ていません。選択肢2は「もう一度聞く」ですが、すでに答えをもらっています。したがって、正しい選択は「10時15分まで待ちます」となります。時間表現や会話の流れを正確に理解することが主なチャレンジポイントです。</em></p>\n<h3>領収書を求める</h3>\n<p><strong>Q: 会話を聞いて、次に男の人が何をするか、最もよいものを選びなさい。</strong></p>\n<p><em>Explanation: この問題のポイントは、「領収書をいただけますか？」という依頼に対して、男の人が「今、レジで発行します」と答えているため、次に男の人がすることは領収書の発行です。N3レベルの学習者にとって、「発行する」「領収書」などの語彙の聞き取りと、会話の流れを正確に理解することが課題となります。選択肢の中には他の店員の業務（コーヒーを作る、サンドイッチを温める）も含まれているため、聞き取りの注意力が求められます。</em></p>\n<h3>おすすめを尋ねる</h3>\n<p><strong>Q: この後、男の人はどうしますか。</strong></p>\n<p><em>Explanation: この問題のポイントは、「今から行ってみます」という男の人の発言です。これは、女の人がすすめた駅前のイタリアンレストランに行く意志を表しています。N3レベルの語彙と表現を使っていますが、「おすすめ」「行ってみます」など、聞き取りが苦手な学習者は話の流れを正確に理解できないことがあります。「おすすめを尋ねる」→「すすめられた場所に行く」という自然な流れを押さえましょう。</em></p>\n<h3>引っ越しの準備について話す</h3>\n<p><strong>Q: 男の人はこれから何をしますか。</strong></p>\n<p><em>Explanation: この問題の主な難しさは、「これから何をするか」という未来の行動を聞き取る点です。会話では「今日はまず、いらないものを捨てようと思っています」という発言があり、意志表現「〜ようと思っています」に注目できるかがポイントです。N3レベルの語彙「いらないもの」「捨てる」も重要です。</em></p>\n<h3>学校や職場での一日の流れについて話す</h3>\n<p><strong>Q: 次の会話を読んで、最も適切なものを一つ選びなさい。</strong></p>\n<p><em>Explanation: この会話では、田中さんが「これから教室の掃除をします」と言っています。選択肢1の「休憩」や選択肢3の「また仕事をします」といった内容は会話に出てきません。田中さんの次の行動は掃除をすることなので、2が正解です。会話の流れを正確に読み取り、登場人物の次の行動を理解することがポイントです。</em></p>\n<h3>言語学習のコツについて話す</h3>\n<p><strong>Q: 会話の内容から、女の人が次に取る行動として最も適切なものを一つ選びなさい。</strong></p>\n<p><em>Explanation: この問題は、会話の流れを理解し、アドバイスをどう受け止めて行動を変えるかを問うものです。N3レベルの「日記を書く」「ドラマを見る」「楽しみながら勉強する」といった表現が理解できるかがポイントです。選択肢も具体的に違いが分かるように設定しており、正しい選択肢を選ぶためには、会話の意図を正確に読み取る必要があります。</em></p>\n<h3>好きな季節について話す</h3>\n<p><strong>Q: 今週末、男の人は何をしますか。</strong></p>\n<p><em>Explanation: 男の人は「今週末も友だちと山に行くつもりです」と言っています。「紅葉を見に行く」という前の発言と合わせて、1が正解です。この問題のポイントは、「紅葉」「山に行く」「つもり」の語彙や表現を正しく理解できるかどうかです。秋の季節感や日本の文化的な行動を反映した内容で、N3レベルの学習者に適しています。選択肢も季節や会話内容に関連し、消去法だけでなく内容理解が必要となっています。</em></p>\n<h3>地元の食べ物や特産品について話す</h3>\n<p><strong>Q: 田中さん（女）はこの後どうしますか。</strong></p>\n<p><em>Explanation: この問題のポイントは、会話の流れを正しく理解し、田中さん（女）が次に何をするかを推測することです。最後に田中さん（男）が「僕も買ってみようかな」と言っているので、田中さん（女）は「おすすめですよ」などとすすめる可能性が高いです。選択肢2や3は会話からは自然ではありません。N3レベルの語彙や表現を使い、ふりがなも付けて、より分かりやすくしました。</em></p>\n<h3>健康診断や医者への訪問について話す</h3>\n<p><strong>Q: このあと、男の人は何をしますか。</strong></p>\n<p><em>Explanation: この問題のポイントは、「これからどうするんですか？」という質問に対して、男の人が「医者に相談しに行こうと思っています」と答えていることです。したがって、男の人が次にすることは「病院に行って医者に相談する」になります。N3レベルでは、「相談する」「健康診断」などの語彙の理解と、会話の流れから次の行動を推測する力が問われます。選択肢2や3にひきずられず、会話文の意図を正確につかむことが主なチャレンジです。</em></p>\n</body></html>"
     },
     "metadata": {},
     "output_type": "display_data"
    }
   ],
   "source": [
    "html_output = render_to_html(output_data['sections'])  \n",
    "display(Markdown(html_output))"
   ],
   "metadata": {
    "collapsed": false,
    "ExecuteTime": {
     "end_time": "2025-05-14T14:45:29.454529900Z",
     "start_time": "2025-05-14T14:45:29.318506200Z"
    }
   },
   "id": "e7a5e4b5084d049c",
   "execution_count": 12
  },
  {
   "cell_type": "code",
   "outputs": [],
   "source": [
    "timestamp = datetime.datetime.now().strftime(\"%Y%m%d_%H%M%S\")\n",
    "filename = f\"../../JLPT_{timestamp}.html\"\n",
    "\n",
    "with open(filename, \"w\", encoding=\"utf-8\") as file:\n",
    "    file.write(html_output)"
   ],
   "metadata": {
    "collapsed": false,
    "ExecuteTime": {
     "end_time": "2025-05-14T14:45:29.455060700Z",
     "start_time": "2025-05-14T14:45:29.327690200Z"
    }
   },
   "id": "330a0817d72fe5e",
   "execution_count": 13
  },
  {
   "cell_type": "code",
   "outputs": [],
   "source": [],
   "metadata": {
    "collapsed": false,
    "ExecuteTime": {
     "end_time": "2025-05-14T14:45:29.455568500Z",
     "start_time": "2025-05-14T14:45:29.336070800Z"
    }
   },
   "id": "c02c02ec6620993d",
   "execution_count": 13
  }
 ],
 "metadata": {
  "kernelspec": {
   "display_name": "Python 3",
   "language": "python",
   "name": "python3"
  },
  "language_info": {
   "codemirror_mode": {
    "name": "ipython",
    "version": 2
   },
   "file_extension": ".py",
   "mimetype": "text/x-python",
   "name": "python",
   "nbconvert_exporter": "python",
   "pygments_lexer": "ipython2",
   "version": "2.7.6"
  }
 },
 "nbformat": 4,
 "nbformat_minor": 5
}
