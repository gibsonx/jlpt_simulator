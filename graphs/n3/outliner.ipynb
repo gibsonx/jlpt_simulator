{
 "cells": [
  {
   "cell_type": "markdown",
   "id": "2b011bdf967ca7ff",
   "metadata": {
    "collapsed": false
   },
   "source": [
    "# Language Knowledge (Vocabulary)\n",
    "Duration: 30 minutes\n",
    "Content: This section tests your knowledge of Japanese vocabulary, including kanji readings, orthography, word formation, contextually-defined expressions, paraphrases, and usage\n",
    "It mainly composes following five categories:\n",
    "- ``Reading Kana`` (Pronunciation Questions): Given a kanji word, choose the correct kana reading.\n",
    "- `Writing Kanji` (Writing Questions): Given a word written in kana, choose the correct kanji representation.\n",
    "- `Word Meaning` Selection (Vocabulary Understanding): Choose the most suitable word to fill in the sentence from four options.\n",
    "- `Synonym Replacement`: Select a word that has the same or similar meaning as the underlined word.\n",
    "- `Vocabulary Usage`: Assess the usage of words in actual contexts, choosing the most appropriate word usage, including some common Japanese expressions or fixed phrases."
   ]
  },
  {
   "cell_type": "code",
   "execution_count": 31,
   "id": "7f526a68a7e73a65",
   "metadata": {
    "collapsed": false,
    "ExecuteTime": {
     "end_time": "2025-05-08T14:59:56.285115600Z",
     "start_time": "2025-05-08T14:59:56.273504100Z"
    }
   },
   "outputs": [
    {
     "data": {
      "text/plain": "True"
     },
     "execution_count": 31,
     "metadata": {},
     "output_type": "execute_result"
    }
   ],
   "source": [
    "import pandas as pd\n",
    "import json\n",
    "import random\n",
    "import os\n",
    "import pickle\n",
    "import re\n",
    "import uuid\n",
    "import threading\n",
    "import asyncio\n",
    "from typing import *\n",
    "from tqdm import tqdm\n",
    "import time\n",
    "import yaml\n",
    "import sys\n",
    "import asyncio\n",
    "import json\n",
    "import random\n",
    "import time\n",
    "from tqdm.asyncio import tqdm_asyncio\n",
    "from graphs.common.utils import collect_vocabulary\n",
    "from langchain_openai import AzureOpenAI,AzureChatOpenAI\n",
    "from langchain_anthropic import ChatAnthropic\n",
    "from langchain_core.prompts import ChatPromptTemplate\n",
    "from dotenv import load_dotenv\n",
    "from langchain_aws import ChatBedrock\n",
    "from langchain.embeddings.base import Embeddings\n",
    "from langchain.text_splitter import CharacterTextSplitter\n",
    "from langchain_community.document_loaders import PyPDFLoader\n",
    "from langchain_community.embeddings import HuggingFaceEmbeddings\n",
    "# from langchain_community.embeddings import XinferenceEmbeddings\n",
    "from langchain_community.vectorstores import Chroma\n",
    "from langchain_openai import OpenAIEmbeddings\n",
    "from typing import Annotated, Literal, Sequence\n",
    "from typing_extensions import TypedDict\n",
    "from libs.LLMs import *\n",
    "from langchain import hub\n",
    "from langchain_core.output_parsers import StrOutputParser\n",
    "from langchain_core.prompts import PromptTemplate\n",
    "from langchain_openai import ChatOpenAI\n",
    "from typing import Annotated, Sequence\n",
    "from typing_extensions import TypedDict\n",
    "from langchain_core.messages import BaseMessage,RemoveMessage,HumanMessage,AIMessage,ToolMessage\n",
    "from langgraph.graph.message import add_messages\n",
    "from pydantic import BaseModel, Field\n",
    "from langgraph.graph import END, StateGraph, START\n",
    "from langgraph.prebuilt import ToolNode\n",
    "from langgraph.prebuilt import tools_condition\n",
    "from langgraph.checkpoint.memory import MemorySaver\n",
    "from langchain.output_parsers import PydanticOutputParser\n",
    "from pydantic import BaseModel, Field, validator\n",
    "from typing import List, Optional\n",
    "\n",
    "if sys.platform.startswith(\"win\"):\n",
    "    asyncio.set_event_loop_policy(asyncio.WindowsSelectorEventLoopPolicy())\n",
    "\n",
    "from ExamTaskHandler import ExamTaskHandler\n",
    "load_dotenv()"
   ]
  },
  {
   "cell_type": "code",
   "execution_count": 12,
   "id": "initial_id",
   "metadata": {
    "collapsed": false,
    "ExecuteTime": {
     "end_time": "2025-05-08T14:41:21.144697400Z",
     "start_time": "2025-05-08T14:41:21.124439600Z"
    }
   },
   "outputs": [],
   "source": [
    "# Import N3 Vocabulary\n",
    "file_path = '../../Vocab/n3.csv'\n",
    "# Display the content of the CSV file\n",
    "vocab_dict = collect_vocabulary(file_path)\n",
    "with open(\"../../Vocab/topics.txt\", \"r\", encoding=\"utf-8\") as file:\n",
    "    topics_list = [line.strip() for line in file]"
   ]
  },
  {
   "cell_type": "markdown",
   "id": "4c1cdce8b1f57ef3",
   "metadata": {
    "collapsed": false
   },
   "source": [
    "#### load Models"
   ]
  },
  {
   "cell_type": "markdown",
   "id": "385c63b54b5c2a36",
   "metadata": {
    "collapsed": false
   },
   "source": [
    "#### Exam Paper Outline\n",
    "### A. overall thinking the structure of an exam\n",
    "1. distribution of the difficulty \n",
    "2. topics\n",
    "3. reasoning"
   ]
  },
  {
   "cell_type": "code",
   "execution_count": 13,
   "id": "e339295a858fb5f8",
   "metadata": {
    "collapsed": false,
    "ExecuteTime": {
     "end_time": "2025-05-08T14:41:22.670145700Z",
     "start_time": "2025-05-08T14:41:22.663601900Z"
    }
   },
   "outputs": [],
   "source": [
    "from typing import List, Optional\n",
    "\n",
    "from langchain_core.prompts import ChatPromptTemplate\n",
    "\n",
    "from pydantic import BaseModel, Field\n",
    "\n",
    "instruction = \"\"\"\n",
    "Section 1: Vocabulary and Grammar\n",
    "- Kanji reading (kanji_reading): 8 questions\n",
    "- Write Chinese characters (write_chinese): 6 questions\n",
    "- Word Meaning Selection (word_meaning): 11 questions\n",
    "- Synonyms substitution (synonym_substitution): 5 questions\n",
    "- word usage (word_usage): 5 questions\n",
    "- Grammar fill in the blank (sentence_grammar): 13 questions\n",
    "- Sentence sorting (sentence_sort): 5 questions\n",
    "- Grammar structure selection (sentence_structure): 4-5 questions\n",
    "\n",
    "Section 2: Reading Comprehension\n",
    "- Short passages (short_passage_read): 4 articles\n",
    "- Mid-size passages (midsize_passage_read): 2 articles\n",
    "- Long passages (long_passage_read): 1 articles\n",
    "- Information retrieval (info_retrieval): 1 articles\n",
    "\n",
    "Section 3: Listening Comprehension\n",
    "- Topic understanding (topic_understanding): 6 questions\n",
    "- Key understanding (keypoint_understanding): 6 questions\n",
    "- Summary understanding (summary_understanding): 3 questions\n",
    "- Active expression (active_expression): 4 questions\n",
    "- Immediate acknowledgment (immediate_ack): 9 questions\n",
    "\"\"\"\n",
    "\n",
    "# instruction = \"\"\"\n",
    "# Section 1: Vocabulary and Grammar\n",
    "# - Kanji reading (kanji_reading): 2 questions\n",
    "# \n",
    "# Section 2: Reading Comprehension\n",
    "# - Short passages (short_passage_read): 2 articles\n",
    "# \n",
    "# \n",
    "# Section 3: Listening Comprehension\n",
    "# - Topic understanding (topic_understanding): 2 questions\n",
    "# \"\"\"\n",
    "\n",
    "\n",
    "direct_gen_outline_prompt = ChatPromptTemplate.from_messages(\n",
    "    [\n",
    "        (\n",
    "            \"system\",\n",
    "            f\"You are a japanese teacher. Your job is to write an outline for a JLPT Japanese-Language Proficiency Test N3 level exam paper. the complexity should be restricted to N3 level and respect japanese culture. The JLPT Japanese-Language Proficiency Test exam paper includes a mix of easy, moderate, and difficult questions to accurately assess the test-taker's proficiency across different aspects of the language.\"\n",
    "            f\"First,  randomly pick words in 'Vocabulary' for questions in Vocabulary and Grammar. At Section 2 and 3, randomly choose topics in 'TopicList' for Reading Comprehension and Listening Comprehension Sections, don't repeat to choose a same word or topic\"  \n",
    "            f\"Second, you should abide by the provided exam instruction and decide the number of questions and content in the each Section.\"\n",
    "            f\"Finally, write the outline of the examination paper in japanese and provide question topics according to the instructions.\"\n",
    "            f\"Instruction: {instruction}\",\n",
    "        ),\n",
    "        (\"user\", \"TopicList: {topic_list}, Vocabulary: {vocab_dict}\"),\n",
    "    ]\n",
    ")\n"
   ]
  },
  {
   "cell_type": "markdown",
   "id": "fed5f032dadafac1",
   "metadata": {
    "collapsed": false
   },
   "source": [
    "## Data Strcuture"
   ]
  },
  {
   "cell_type": "code",
   "execution_count": 14,
   "id": "39329a71b16d2400",
   "metadata": {
    "collapsed": false,
    "ExecuteTime": {
     "end_time": "2025-05-08T14:41:23.898841800Z",
     "start_time": "2025-05-08T14:41:23.828845200Z"
    }
   },
   "outputs": [],
   "source": [
    "class QuestionTopic(BaseModel):\n",
    "    topic: str = Field(..., title=\"a vocabulary or topic hint for a question\")\n",
    "    \n",
    "    \n",
    "class Subsection(BaseModel):\n",
    "    subsection_title: str = Field(..., title=\"subsection English word in () only from the instruction\")\n",
    "    description: str = Field(..., title=\"giving the number of questions and requirements\")\n",
    "    question_topics: Optional[List[QuestionTopic]] = Field(\n",
    "        default_factory=list\n",
    "    )\n",
    "    \n",
    "    @property\n",
    "    def as_str(self) -> str:\n",
    "        question_topics_str = \"\\n\".join(\n",
    "            f\"- **{qt.topic}**\" for qt in self.question_topics\n",
    "        )\n",
    "        return f\"### {self.subsection_title}\\n\\n{self.description}\\n\\n{question_topics_str}\".strip()\n",
    "\n",
    "class Section(BaseModel):\n",
    "    section_title: str = Field(..., title=\"Title of the section\")\n",
    "    # description: str = Field(..., title=\"Ideas of this section\")\n",
    "    subsections: Optional[List[Subsection]] = Field(\n",
    "        default_factory=list,\n",
    "        title=\"Titles and reason for each subsection of the JLPT exam page.\",\n",
    "    )\n",
    "\n",
    "    @property\n",
    "    def as_str(self) -> str:\n",
    "        subsections = \"\\n\\n\".join(\n",
    "            subsection.as_str for subsection in self.subsections or []\n",
    "        )\n",
    "        return f\"## {self.section_title}\\n\\n{subsections}\".strip()\n",
    "\n",
    "\n",
    "class Outline(BaseModel):\n",
    "    page_title: str = Field(..., title=\"Title of the JLPT exam page\")\n",
    "    sections: List[Section] = Field(\n",
    "        default_factory=list,\n",
    "        title=\"Titles and descriptions for each section of the JLPT exam paper.\",\n",
    "    )\n",
    "\n",
    "    @property\n",
    "    def as_str(self) -> str:\n",
    "        sections = \"\\n\\n\".join(section.as_str for section in self.sections)\n",
    "        return f\"# {self.page_title}\\n\\n{sections}\".strip()\n"
   ]
  },
  {
   "cell_type": "code",
   "execution_count": 15,
   "outputs": [],
   "source": [
    "# Read the topics from a file, sort them, and print the sorted list  \n",
    "def process_topics(file_path):\n",
    "    try:  \n",
    "        # Read the file  \n",
    "        with open(file_path, 'r', encoding='utf-8') as file:  \n",
    "            topics = file.readlines()  \n",
    "          \n",
    "        # Remove any extra whitespace or newline characters  \n",
    "        topics = [topic.strip() for topic in topics if topic.strip()]  \n",
    "          \n",
    "        # Shuffle the topics randomly  \n",
    "        random.shuffle(topics)  \n",
    "                \n",
    "    except FileNotFoundError:  \n",
    "        print(\"The file was not found. Please check the file path.\")  \n",
    "    except Exception as e:  \n",
    "        print(\"An error occurred:\", str(e)) \n",
    "      \n",
    "    except FileNotFoundError:  \n",
    "        print(\"The file was not found. Please check the file path.\")  \n",
    "    except Exception as e:  \n",
    "        print(\"An error occurred:\", str(e)) "
   ],
   "metadata": {
    "collapsed": false,
    "ExecuteTime": {
     "end_time": "2025-05-08T14:41:24.466852700Z",
     "start_time": "2025-05-08T14:41:24.460825700Z"
    }
   },
   "id": "d0730de416980c6"
  },
  {
   "cell_type": "code",
   "execution_count": 7,
   "outputs": [],
   "source": [
    "# Preload all topics from the file\n",
    "with open(\"../../Vocab/topics.txt\", \"r\", encoding=\"utf-8\") as file:\n",
    "    topics_list = [line.strip() for line in file]\n",
    "\n",
    "generate_outline_direct = direct_gen_outline_prompt | azure_llm.with_structured_output(Outline)\n",
    "initial_outline = generate_outline_direct.invoke({\"topic_list\": topics_list, \"vocab_dict\": vocab_dict})"
   ],
   "metadata": {
    "collapsed": false,
    "ExecuteTime": {
     "end_time": "2025-05-08T14:39:16.241794500Z",
     "start_time": "2025-05-08T14:38:44.751785400Z"
    }
   },
   "id": "8fc17fee14c40716"
  },
  {
   "cell_type": "code",
   "execution_count": 8,
   "outputs": [
    {
     "data": {
      "text/plain": "<IPython.core.display.Markdown object>",
      "text/markdown": "# JLPT N3 試験問題概要\n\n## 語彙と文法\n\n### Kanji reading (kanji_reading)\n\n8問。漢字の読み方を選択する問題。\n\n- **伝わる**\n- **無し**\n- **汲む**\n- **敬意**\n- **住宅**\n- **作法**\n- **協議**\n- **余裕**\n\n### Write Chinese characters (write_chinese)\n\n6問。ひらがなで書かれた言葉を漢字に変換する問題。\n\n- **設備**\n- **トンネル**\n- **手術**\n- **国家**\n- **キャプテン**\n- **外出**\n\n### Word Meaning Selection (word_meaning)\n\n11問。与えられた単語の意味を選択する問題。\n\n- **王子**\n- **霜**\n- **婚約**\n- **人類**\n- **感心**\n- **状況**\n- **アイスクリーム**\n- **グループ**\n- **積む**\n- **有効**\n- **後**\n\n### Synonyms substitution (synonym_substitution)\n\n5問。与えられた単語の同義語を選択する問題。\n\n- **苦しい**\n- **学者**\n- **プラス**\n- **マスコミ**\n- **見事**\n\n### Word usage (word_usage)\n\n5問。与えられた単語を正しく使用する文を選択する問題。\n\n- **がっかり**\n- **と**\n- **上**\n- **大統領**\n- **芝生**\n\n### Grammar fill in the blank (sentence_grammar)\n\n13問。文法を使用して空欄を埋める問題。\n\n- **提出**\n- **影響**\n- **航空**\n- **思い付く**\n- **立場**\n- **きつい**\n- **始まり**\n- **膳**\n- **大使**\n- **加味**\n- **管**\n- **大臣**\n- **まあ**\n\n### Sentence sorting (sentence_sort)\n\n5問。文の順番を正しく並べ替える問題。\n\n- **貸し**\n- **境**\n- **しばしば**\n- **掴む**\n- **隠れる**\n\n### Grammar structure selection (sentence_structure)\n\n4-5問。文法構造を選択する問題。\n\n- **成績**\n- **請求**\n- **永遠**\n- **具える**\n- **幅**\n\n## 読解\n\n### Short passages (short_passage_read)\n\n4記事。短い文章を読んで質問に答える問題。\n\n- **店で価格を尋ねる**\n- **購入したい商品の説明**\n- **割引交渉**\n- **レストランで食べ物を注文する**\n\n### Mid-size passages (midsize_passage_read)\n\n2記事。中程度の長さの文章を読んで質問に答える問題。\n\n- **食事の好みについて話す**\n- **料理を褒める**\n\n### Long passages (long_passage_read)\n\n1記事。長い文章を読んで質問に答える問題。\n\n- **道を尋ねる**\n\n### Information retrieval (info_retrieval)\n\n1記事。情報を検索して質問に答える問題。\n\n- **交通手段について話す**\n\n## 聴解\n\n### Topic understanding (topic_understanding)\n\n6問。会話のトピックを理解する問題。\n\n- **交通状況について話す**\n- **タクシーを予約する**\n- **電車の切符を買う**\n- **バスの時刻表を尋ねる**\n- **通勤について説明する**\n- **天気の状況について話す**\n\n### Key understanding (keypoint_understanding)\n\n6問。会話のキーポイントを理解する問題。\n\n- **週末の予定について話す**\n- **おすすめを尋ねる**\n- **ショッピング体験を説明する**\n- **支払い方法について話す**\n- **領収書を求める**\n- **お気に入りのレストランについて話す**\n\n### Summary understanding (summary_understanding)\n\n3問。会話の要約を理解する問題。\n\n- **趣味について話す**\n- **仕事のプロジェクトについて話す**\n- **家族について話す**\n\n### Active expression (active_expression)\n\n4問。会話で積極的に表現する問題。\n\n- **旅行の計画について話す**\n- **最近の映画について話す**\n- **本について話す**\n- **スポーツについて話す**\n\n### Immediate acknowledgment (immediate_ack)\n\n9問。会話の即時認識を行う問題。\n\n- **健康とフィットネスについて話す**\n- **技術について話す**\n- **時事問題について話す**\n- **音楽について話す**\n- **芸術と文化について話す**\n- **教育について話す**\n- **キャリア目標について話す**\n- **個人的な成果について話す**\n- **課題と解決策について話す**"
     },
     "metadata": {},
     "output_type": "display_data"
    }
   ],
   "source": [
    "from IPython.display import display, Markdown, Latex\n",
    "display(Markdown(initial_outline.as_str))"
   ],
   "metadata": {
    "collapsed": false,
    "ExecuteTime": {
     "end_time": "2025-05-08T14:39:21.269444200Z",
     "start_time": "2025-05-08T14:39:21.262408400Z"
    }
   },
   "id": "d53b7d9ff86a5377"
  },
  {
   "cell_type": "code",
   "execution_count": null,
   "outputs": [],
   "source": [
    "outliner_json = initial_outline.model_dump_json()\n",
    "data = json.loads(outliner_json)  # Replace with your actual JSON data\n",
    "\n",
    "start_time = time.time()\n",
    "\n",
    "output_data = {'sections': []}\n",
    "\n",
    "for section in data['sections']:\n",
    "    output_section = {'section_title': section['section_title'], 'subsections': []}\n",
    "\n",
    "    for subsection in tqdm(section['subsections'], desc=f\"Processing {section['section_title']}\"):\n",
    "        function_name = subsection['subsection_title'].split(' (')[1].rstrip(')')\n",
    "        questions = subsection['question_topics']\n",
    "\n",
    "        for question in tqdm(questions, desc=f\"Processing {subsection['subsection_title']}\"):\n",
    "            handler = ExamTaskHandler(vocab=vocab_dict)\n",
    "            func = getattr(handler, function_name, None)\n",
    "\n",
    "            if func:\n",
    "                max_attempts = 2\n",
    "                original_topic = question['topic']  # Optional: Track original topic\n",
    "                for attempt in range(max_attempts):\n",
    "                    try:\n",
    "                        result = json.loads(func(question['topic']))\n",
    "                        question['result'] = result\n",
    "                        break  # Exit on success\n",
    "                    except Exception as e:\n",
    "                        if attempt < max_attempts - 1:\n",
    "                            # Replace topic and retry\n",
    "                            question['topic'] = random.choice(topics_list)\n",
    "                        else:\n",
    "                            question['result'] = f\"Error after {max_attempts} attempts: {str(e)}\"\n",
    "            else:\n",
    "                question['result'] = f\"Method {function_name} not found\"\n",
    "\n",
    "        output_subsection = {\n",
    "            'subsection_title': subsection['subsection_title'],\n",
    "            'description': subsection['description'],\n",
    "            'question_topics': questions\n",
    "        }\n",
    "        output_section['subsections'].append(output_subsection)\n",
    "\n",
    "    output_data['sections'].append(output_section)\n",
    "\n",
    "# End the timer\n",
    "end_time = time.time()\n",
    "\n",
    "# Calculate the total execution time\n",
    "execution_time = end_time - start_time\n",
    "\n",
    "print(f\"Total execution time: {execution_time:.2f} seconds\")"
   ],
   "metadata": {
    "collapsed": false
   },
   "id": "5c2b7e675e5302a8"
  },
  {
   "cell_type": "code",
   "execution_count": 90,
   "outputs": [
    {
     "data": {
      "text/plain": "<IPython.core.display.Markdown object>",
      "text/markdown": "sections:\n- section_title: 第1部：語彙と文法\n  subsections:\n  - subsection_title: Kanji reading (kanji_reading)\n    description: 漢字の読みを問う問題が8問あります。\n    question_topics:\n    - topic: 徹夜\n      result:\n        question: 昨日は試験のために**徹夜**しました。\n        explanation: 在此问题中，需要选择汉字“徹夜”的正确读音。“徹夜”读作“てつや”，表示整晚不睡觉。选项中包含了类似的发音，特别是“けつや”和“せつや”容易混淆，但正确答案是“てつや”。\n        correct_answer: 1\n        choices:\n        - てつや\n        - けつや\n        - でつや\n        - せつや\n    - topic: 公共施設の利用方法について話す\n      result: 'Error after 2 attempts: Node `online_search` already present.'\n    - topic: 患者\n      result:\n        question: 以下の文の中で、患者的正确读法是什么？\n        explanation: 患者是指接受疾病或受伤治疗的人。这个词的读法是「かんじゃ」，是音读。在选项中，「かんしゃ」和「かんせい」等是错误的。由于「患者」在医疗相关的语境中频繁使用，记住正确读法非常重要。主要难点在于如果不知道「患者」的读法是音读，可能会与训读混淆。\n        correct_answer: 2\n        choices:\n        - かんしゃ\n        - かんじゃ\n        - かんせい\n        - かんしょ\n    - topic: 在る; 有る\n      result:\n        question: 次の文の「在る」または「有る」の正しい読み方を選びなさい。\n        explanation: 选择正确的读法，需根据句子语境理解「在る」表示位置或存在，「有る」表示拥有或具备。\n        correct_answer: 2\n        choices:\n        - あう\n        - ある\n        - いる\n        - おる\n    - topic: 公正\n      result:\n        question: '次の文中の**公正**の正しい読み方を選びなさい。\n\n\n          「裁判官は、すべての人に対して公正な判断を下すべきである。」'\n        choices:\n        - こうしょう\n        - こうせい\n        - こうせつ\n        - こうぜい\n        correct_answer: 2\n        explanation: 这个问题的主要难点在于汉字“公正”的音读和训读的区分。“公正”是N3级别常见的词汇，表示公平、正直、不偏不倚。候选答案中可能会让考生混淆类似发音的词汇（如“こうしょう”或“こうせつ”），但正确答案是“こうせい”，这是“公正”的标准音读。\n    - topic: 公共施設の利用方法について話す\n      result: 'Error after 2 attempts: Node `online_search` already present.'\n    - topic: 反る\n      result:\n        question: '次の漢字の読み方を選びなさい。\n\n\n          反る'\n        explanation: '“反る”的正确读法是“そる”，意思是“向后或向外弯曲”。例如：\n\n          - **板が湿気で反ってしまった。**（木板因湿气而翘曲了。）\n\n          它与其他类似词有细微差别：\n\n          - **返る（かえる）**：指翻转或反向。例如：裾が返る（衣服下摆翻起来）。\n\n          - **曲がる（まがる）**：通常指弯曲或转弯。例如：道が曲がる（道路弯曲）。\n\n          - **たわむ**：指因压力或重量而弯曲。例如：橋がたわむ（桥因重量弯曲）。\n\n          通过这些例子，可以更清楚地理解“反る”的具体用法。考生需要注意语境和动作方向来区分这些词。'\n        correct_answer: 1\n        choices:\n        - そる\n        - かえる\n        - まがる\n        - たわむ\n    - topic: 一帯\n      result:\n        question: '以下の文章の中で「一帯」の正しい読み方を選びなさい。\n\n\n          九州一帯が台風の影響を受けています。'\n        choices:\n        - いったい\n        - いちたい\n        - いっつい\n        - いっけん\n        correct_answer: 1\n        explanation: 「一帯」の正しい読み方是「いったい」。这个词在指特定的区域或范围时使用。主要的难点是，因为「一体（いったい）」的读音相同，所以需要根据上下文来区分其含义。\n  - subsection_title: Write Chinese characters (write_chinese)\n    description: 漢字を書く問題が6問あります。\n    question_topics:\n    - topic: 賛成\n      result:\n        question: 昨日の会議で新しい提案について話し合いが行われましたが、私はその提案にさんせいしました。\n        explanation: 这个问题的难点在于选项之间的微妙差异。虽然“賛助”和“賛同”都表示支持，但它们的含义不同。“賛助”通常指的是金钱或物质上的支持，“賛同”指的是赞同某人的意见或行为。而“賛議”并不是一个常见词汇。只有“賛成”准确表达了对提案的同意。\n        correct_answer: 1\n        choices:\n        - 賛成\n        - 賛助\n        - 賛同\n        - 賛議\n    - topic: 理想\n      result:\n        question: '次の文の中で、下線が引かれた「りそう」の正しい漢字表記を選びなさい。\n\n\n          彼は自分のりそうを実現するために、毎日努力しています。'\n        explanation: 这个问题的难点在于有类似的汉字（理相、利想、利相），因此需要正确理解其含义并作出选择。“理想”指的是“符合道理的梦想或目标”。\n        correct_answer: 1\n        choices:\n        - 理想\n        - 理相\n        - 利想\n        - 利相\n    - topic: 申し訳\n      result:\n        question: お客様にご迷惑をおかけしたことについて、心からもうしわけ申し上げます。この文の中で「もうしわけ」の正しい漢字表記を選んでください。\n        explanation: 此题的难点在于“申し訳”的正确汉字写法。虽然“申”和“申し”都有表达“说”的意思，但“申し訳”是固定的表达形式，表示歉意或辩解的敬语用法。其它选项如“申訳”、“申分”以及“申言”看似合理，但并非实际使用的正确词汇。\n        correct_answer: 3\n        choices:\n        - 申訳\n        - 申分\n        - 申し訳\n        - 申言\n    - topic: 試す\n      result:\n        question: この新しい機械を実際に **ためして** みることにしました。\n        choices:\n        - 試す\n        - 試みる\n        - 実験する\n        - 検査する\n        correct_answer: 1\n        explanation: 在这个句子中，“ためす”的正确汉字写法是“試す”。虽然其他选项（如“試みる”、“実験する”）也有类似的意思，但“試す”更强调直接尝试某物以确认其性能或效果。对于初学者来说，容易混淆“試す”和“試みる”的使用场景，因此需要特别注意。\n    - topic: 世間\n      result:\n        question: '以下の文を読んで、文中の「せけん」に対応する正しい漢字を選んでください。\n\n\n          文：彼は長年の経験から、せけんの常識にとらわれない考え方を持つようになった。'\n        choices:\n        - 世間\n        - 世間話\n        - 世界\n        - 世俗\n        correct_answer: 1\n        explanation: 这个问题的难点在于选项中包含了相似的汉字和意义。“世间话”指日常的闲谈，“世界”是误用，“世俗”在某些情况下可能与“世间”意义相似，但根据上下文，“世间”是最适合的。\n    - topic: 当てる\n      result:\n        question: 先生は学生に質問をして、答えを あてる ように言いました。\n        choices:\n        - 当てる\n        - 宛てる\n        - 充てる\n        - 中てる\n        correct_answer: 1\n        explanation: 正确答案是“当てる”，意思是将某物命中目标或触碰到某物。其他选项“宛てる”和“充てる”虽然读音相同，但分别表示“寄送到某地”或“分配用途”，而“中てる”则较少使用，容易混淆。对于考生而言，区分这些同音异义词的具体含义是主要难点。\n  - subsection_title: Word Meaning Selection (word_meaning)\n    description: 単語の意味を選ぶ問題が11問あります。\n    question_topics:\n    - topic: 撃つ\n      result:\n        question: '以下の文における「うつ」の正しい漢字表記を選びなさい。\n\n\n          文: 「猟師が鳥をうつために銃を準備した。」'\n        choices:\n        - 討つ\n        - 撃つ\n        - 打つ\n        - 射つ\n        correct_answer: 2\n        explanation: '「撃つ」表示使用枪或弓等武器攻击目标的行为。在这句话中，猎人准备用枪射击鸟，因此选择「撃つ」是正确的。其他选项的含义有所不同：\n\n          - 討つ：表示打倒敌人或叛乱者。\n\n          - 打つ：表示用手或工具敲打的行为。\n\n          - 射つ：表示射箭的行为，但通常使用「撃つ」。'\n    - topic: 体温\n      result:\n        question: '次の文の（　）に入る正しい漢字を選びなさい。\n\n\n          健康な人の（　）はほぼ一定で、36.5度から37.5度の範囲に収まることが多い。'\n        choices:\n        - 体温\n        - 温度\n        - 気温\n        - 熱度\n        correct_answer: 1\n        explanation: “体温”指人体内部的温度，最适合该语境。其他选项如“温度”或“气温”表示一般的温度，“热度”是错误的表达。这些汉字容易混淆，因此需要基于语境正确理解。\n    - topic: 家事の分担について話す\n      result: 'Error after 2 attempts: Node `online_search` already present.'\n    - topic: 知合い\n      result:\n        question: 以下の文の中で、括弧内の「しりあい」に最も適した漢字を選びなさい。近所の公園で昔の（しりあい）に偶然会いました。その人は学生時代に同じクラスだった人です。\n        choices:\n        - 知人\n        - 知り合い\n        - 友人\n        - 知識\n        correct_answer: 2\n        explanation: “しりあい” 的正确汉字是“知り合い”。虽然“知人”是同义词，但在上下文中，指代程度较浅的关系时，用“知り合い”更合适。“友人”表示亲密关系，而“知識”指的是信息或知识，因此两者都不符合上下文。这道题的难点在于从意义相近的选项中选择最合适的。\n    - topic: 覗く\n      result:\n        question: '以下的句子中，（　）处应填入正确的汉字：\n\n\n          彼は半開きのドアから部屋を（　）。'\n        choices:\n        - 除く\n        - 覗く\n        - 窺う\n        - 眺める\n        correct_answer: 2\n        explanation: 正确答案是“覗く”。“覗く”的意思是通过缝隙或小孔偷看或观察。在这个句子中，“半开着的门”描述了具体的情境，因此“覗く”最符合语境。而“除く”表示去除，“窺う”表示探查或窥视，“眺める”表示远眺，因此这些选项都不符合语境。\n    - topic: 激しい\n      result:\n        question: '以下的句子中，选择括号内正确的汉字：\n\n\n          昨日的暴风雨以（ ）的气势持续了下来。'\n        choices:\n        - 强烈\n        - 激烈\n        - 粗暴\n        - 猛烈\n        correct_answer: 2\n        explanation: '正确的汉字是“激烈”。“激烈”表示气势或程度非常强烈，广泛用于自然现象或情感等。例如“激烈的风雨”“激烈的竞争”等。其他选项的具体解释如下：\n\n\n          1. **强烈**: 表示力量或能力非常强，但“风雨的气势强烈”可以说，但与“激烈”有细微差异。\n\n          2. **激烈**: 正确答案，表示气势非常强烈。\n\n          3. **粗暴**: 表示粗鲁或暴力的样子，但不适合用于描述暴风雨的气势。\n\n          4. **猛烈**: 是一种较古老的表达方式，现代几乎不再使用。'\n    - topic: ファッションとスタイルについて話す\n      result: 'Error after 2 attempts: Node `online_search` already present.'\n    - topic: 博物館\n      result:\n        question: 文中の「博物館」という言葉の正しい漢字表記を選びなさい。\n        explanation: “博物馆”是正确的汉字表述。其他选项虽然看起来相似，但含义不同或错误。例如，“博物间”是错误的组合，“博物观”中的“观”是错误的，“博务馆”中的“务”也是错误的。由于选项容易混淆，记住准确的汉字非常重要。\n        correct_answer: 1\n        choices:\n        - 博物馆\n        - 博物间\n        - 博物观\n        - 博务馆\n    - topic: キャンプ\n      result:\n        question: 週末は天気が良かったので、家族と一緒に（キャンプ）に行きました。\n        explanation: 「キャンプ」是外来语，用片假名表示。其他选项容易混淆，但含义不同：- 「野营」(やえい)的意思接近于露营，但主要与军队或户外活动相关。-\n          「帐篷」是与露营相关的工具，但不是指露营本身的词。- 「キャンピ」是「キャンプ」的错误拼写。此问题旨在测试对外来语片假名表记的准确识别能力。学习者需要理解片假名词在日常日语中的使用方式。\n        correct_answer: 4\n        choices:\n        - 野営\n        - テント\n        - キャンピ\n        - キャンプ\n    - topic: 活気\n      result:\n        question: 市場には（かっき）があふれている。\n        choices:\n        - 活気\n        - 活発\n        - 活力\n        - 活性\n        correct_answer: 1\n        explanation: 正确答案是“活気”。“活気”指充满生气和活力的状态，通常用于形容场所或群体的氛围。干扰选项如“活発”和“活力”虽然意思相近，但它们更多用于描述个人的性格或能量，这容易造成误选。\n    - topic: タクシーを予約する\n      result: 'Error after 2 attempts: Node `online_search` already present.'\n  - subsection_title: Synonyms substitution (synonym_substitution)\n    description: 類義語を選ぶ問題が5問あります。\n    question_topics:\n    - topic: 医師\n      result:\n        question: 医師は患者の診察や治療を行う専門職です。以下の文章を読んで、医師と同じ意味を持つ言葉を選んでください。\n        explanation: 「医師」と「医者」是同义词，都是指从事医学诊断和治疗的专业人士。其他选项虽然与医疗相关，但并非医师的同义词。例如，「看護師」是护理人员，「薬剤師」是负责药物的专业人员，「研究者」则指从事科学研究的人。\n        correct_answer: 2\n        choices:\n        - 看護師\n        - 医者\n        - 薬剤師\n        - 研究者\n    - topic: 隠す\n      result:\n        question: 以下の文章における「隠す」に最も近い意味を持つ言葉を選びなさい。\n        choices:\n        - 覆う\n        - 明らかにする\n        - 秘密にする\n        - 見せる\n        correct_answer: 3\n        explanation: 这个问题的难点在于判断“隠す”是否是具体的物理覆盖行为，还是抽象的信息隐秘行为。选项1通常用于物理意义，而选项3更符合上下文。\n    - topic: 面接\n      result:\n        question: 面接の前に、しっかり準備をしておきましょう。\n        choices:\n        - 面談\n        - 試験\n        - 面接\n        - 訪問\n        correct_answer: 3\n        explanation: 正解是「3. 面接」。面接是指应聘者与面试官直接对话的考试形式。面谈虽然在会话的意义上类似，但在考试的语境中并不合适。试验指的是一般的测试，而访问的目的与面试不同。选项的混淆源于词汇的微妙差异。\n    - topic: セット\n      result:\n        question: この食器はセットで購入しました。\n        explanation: 正确答案是“一组”。“セット”在日语中表示“一组、一套”，与“一組”意义相近。其他选项如“一部”通常表示部分，“一枚”用于单张物品，“一点”则表示单个物品，因此容易误导考生。\n        correct_answer: 1\n        choices:\n        - 一組\n        - 一部\n        - 一枚\n        - 一点\n    - topic: お辞儀\n      result:\n        question: 日本の伝統的な礼儀であるお辞儀は、深さや角度によって感謝や敬意の度合いを表します。それは、特にビジネスの場面で重要なマナーとされています。この文中の「礼儀」に最も近い意味を持つ言葉を選びなさい。\n        choices:\n        - 態度\n        - 作法\n        - 方法\n        - 規則\n        correct_answer: 2\n        explanation: '\"礼儀\" 是指在社交场合中的正确行为或礼貌。\"作法\" 表示具体的方法或形式，因此是最适合的选项。其他选项虽然有一定关联，但意义略有偏差，因此为错误答案。'\n  - subsection_title: Word usage (word_usage)\n    description: 単語の使い方を問う問題が5問あります。\n    question_topics:\n    - topic: 国籍\n      result:\n        question: 国籍\n        explanation: “国籍”不仅适用于个人，也适用于船舶或飞机的法律归属资格。此选项最适合语境。其他选项虽然提到国籍，但更适合描述个人身份，而不是船只。\n        correct_answer: 4\n        choices:\n        - 日本国籍を持つ人は、日本の選挙に参加する権利があります。\n        - 国籍を証明するために、銀行でパスポートを見せました。\n        - 重国籍者は、期限内にどちらかの国籍を選択しなければなりません。\n        - 国籍不明の船が港に停泊しているのを見ました。\n    - topic: 公演\n      result:\n        question: 36. 公演\n        explanation: '\"公演\" 指的是在公众场合进行演剧、音乐或舞蹈等表演。其他选项中，1 和 3 的语境更适合使用 \"講演\"，而 4 虽然提到演技，但没有强调公开场合的表演性质。'\n        correct_answer: 2\n        choices:\n        - 昨日の公演は、友人の結婚式で行われたスピーチでした。\n        - 新しいミュージカルの公演が、来月から始まる予定です。\n        - 彼女は大学で公演を行い、環境問題について講義しました。\n        - 公演中に照明が故障して、演技が一時中断されました。\n    - topic: 女子\n      result:\n        question: 女子\n        explanation: '**解释:**\n\n          - **选项 1:** 最符合“女子”的使用场景，指的是公园里玩耍的女孩们，符合“女子”作为年轻女性的常规用法。\n\n          - **选项 2:** 虽然提到了“女子”，但与“男子”对比使用，更强调性别分类，而不是具体场景。\n\n          - **选项 3:** “女子”不能用来描述鸟的声音，因为“女子”专指人类的女性，与动物无关。\n\n          - **选项 4:** 日本历史上确实存在“女武士”（如“女武芸者”），但“女子”在现代日语中通常不用于描述武士身份，且该场景不符合常规用法。'\n        correct_answer: 1\n        choices:\n        - 公園で遊んでいる女子たちが楽しそうに笑っている。\n        - この学校では、女子と男子が別々のクラスで授業を受けている。\n        - 女子の声が聞こえたので、振り返ると鳥が鳴いていた。\n        - 昔の日本では、女子が武士として戦うことは珍しいことだった。\n    - topic: 芸術と文化について話す\n      result: 'Error after 2 attempts: Node `online_search` already present.'\n    - topic: 丘陵\n      result:\n        question: 以下の文の中で、単語「丘陵」の意味に最も合うものを選びなさい。\n        correct_answer: 1\n        choices:\n        - この丘陵は農業に適しており、果物や野菜が豊富に育てられています。\n        - 丘陵の頂上からは、遠くの山々や平野が見渡せます。\n        - 丘陵は山地よりも低く、なだらかな地形が特徴です。\n        - 丘陵地帯では、春になると野花が一斉に咲き、景色が美しくなります。\n        explanation: '正确答案：1. 这片丘陵适合农业，水果和蔬菜种植丰富。\n\n          解释：丘陵是指地势起伏较缓的小山或连绵的低矮丘地。选项1准确描述了丘陵地形适合农业发展的特点，因此是正确答案。\n\n          - 选项2虽然描述了丘陵的景色，但没有直接体现丘陵的特点。\n\n          - 选项3虽然提到了丘陵的地势较低，但未具体说明丘陵的实际用途或特性。\n\n          - 选项4提到丘陵地带的景色，但侧重于季节性变化，与丘陵的地形特征关联较弱。\n\n          此题考察点在于理解“丘陵”的定义和实际应用，干扰项的设计旨在测试考生对词汇的准确理解。'\n  - subsection_title: Grammar fill in the blank (sentence_grammar)\n    description: 文法の穴埋め問題が13問あります。\n    question_topics:\n    - topic: 近視\n      result:\n        question: 近視は手元の近距離が鮮明に見える一方で、遠くの物がぼやけて（　）状態です。\n        explanation: 「ぼやけて见えている状态」という进行中的状况表述，使用「～ている」形式。动词「见える」和「见えている」的区分是关键点。\n        correct_answer: 4\n        choices:\n        - 見る\n        - 見えない\n        - 見える\n        - 見えている\n    - topic: 寄付\n      result:\n        question: 彼は、被災地を支援するために多額の金額を（　）寄付しました。\n        explanation: この句子里「寄付」是动作，后面接宾语「多額の金額」，所以需要用助词「を」。\n        correct_answer: 2\n        choices:\n        - に\n        - を\n        - が\n        - で\n    - topic: 戻す\n      result:\n        question: '次の文の（　）に適切な語句を入れなさい。\n\n\n          図書館で借りた本を元の棚に（　）必要があります。'\n        choices:\n        - 戻す\n        - 返す\n        - 置く\n        - 帰す\n        correct_answer: 1\n        explanation: 「戻す」是指将物品归还到原来的地方或状态。在这个例子中，指的是将借来的书归还到图书馆的原书架上。“返す”通常用于归还所有权的情况，在这里“戻す”最符合语境。此外，“置く”指的是单纯的放置动作，“帰す”则更强调送回的语感，因此不适用。\n    - topic: 金属\n      result:\n        question: 金属は、（　）光沢があり、電気や熱をよく伝える性質を持つ。\n        explanation: 本题的难点在于选择最合适的形容词来描述金属的特性。\"独特な\"表示金属的特性具有唯一性和显著性，与文意最为贴合。其他选项如\"特徴的な\"虽然也有描述特性的含义，但语气较弱；\"貴重な\"强调价值，而非性质；\"明確な\"则与文意不符。\n        correct_answer: 2\n        choices:\n        - 特徴的な\n        - 独特な\n        - 貴重な\n        - 明確な\n    - topic: 深刻\n      result:\n        question: '次の文の空欄に適切な言葉を入れなさい。\n\n\n          この問題は非常に（　　　）なので、早急に解決する必要があります。'\n        choices:\n        - 重要\n        - 深刻\n        - 快適\n        - 単純\n        correct_answer: 2\n        explanation: 在这句话中，强调问题的严重性和紧急性，因此选择「深刻」最为合适。「重要」虽然意思接近，但它更强调重要性，而不是紧迫性。「快适」和「单纯」则与语境不符。\n    - topic: 瞬間\n      result:\n        question: 荷物を持ち上げた（　　　）、腰に鋭い痛みが走った。\n        choices:\n        - 瞬間\n        - 瞬時\n        - 刹那\n        - 一瞬\n        correct_answer: 1\n        explanation: 此句指的是“提起行李的那一刻”，强调具体的短暂时间。“瞬间”最适合用于强调特定短时间的表达。其他选项解释如下：- \"瞬时\"：通常用于描述动作或判断即刻发生的情况，在此语境中不自然。-\n          \"刹那\"：文学性、哲学性表达，日常对话中几乎不用。- \"一瞬\"：指极短时间，但在强调特定瞬间的语境中稍显不自然。\n    - topic: 基本\n      result:\n        question: 新しいスキルを学ぶときは、まず（　）をしっかり理解することが大切です。\n        explanation: 在学习新技能时，理解“基本”是最重要的，因为它是所有其他知识或技能的基础。挑战在于区分“基本”和其他选项，如“原因”或“方法”，这些词在语境中并不适用。\n        correct_answer: 1\n        choices:\n        - 基本\n        - 原因\n        - 方法\n        - 結果\n    - topic: 前進\n      result:\n        question: 部長：「このプロジェクトは、解決に向かって一歩（　）しています。次のステップを考えましょう。」\n        explanation: 这句话强调项目向解决方向迈出了一步，而「前進」用于表达向目标或方向前进的动作最为合适。其他选项如「進歩」更多用于描述发展的进程，「進行」表示正在进行的状态，「進む」则是更广泛的前进概念，语境不够精准。\n        correct_answer: 1\n        choices:\n        - 前進\n        - 進歩\n        - 進行\n        - 進む\n    - topic: お気に入りのテレビ番組について話す\n      result: 'Error after 2 attempts: Node `online_search` already present.'\n    - topic: ちょうだい\n      result:\n        question: 14.（家にて） 母：「その新聞を取って（　）。」 子：「はい、どうぞ。」\n        explanation: 主要挑战在于理解「ちょうだい」的使用场景和语气。「ちょうだい」是一种较口语化、亲切的表达方式，通常用于亲密关系中，如家庭成员或朋友之间。相比「ください」，它更加随意，适合母亲对孩子的请求场景。\n        correct_answer: 2\n        choices:\n        - ください\n        - ちょうだい\n        - もらいます\n        - いただきます\n    - topic: 農業\n      result:\n        question: 農業は、土地を利用して作物や家畜を（　）活動のことです。\n        choices:\n        - 育てる\n        - 育てている\n        - 育てた\n        - 育てられる\n        correct_answer: 1\n        explanation: 本题的难点在于动词的正确形式选择。由于句子描述的是农业的定义，因此需要使用动词的原形“育てる”，表示一般的、普遍的行为。其他选项如“育てている”表示正在进行的动作，“育てた”表示过去发生的动作，“育てられる”是被动形式，与句意不符。\n    - topic: 器官\n      result:\n        question: 以下の文の（　）に適切な語句を入れなさい。「人間の体を構成する器官は、それぞれ特定の機能を持ち、（　）働いています。」\n        explanation: 这句话表达了器官“各自具有特定功能，并协同工作”的含义。选择“共同で”可以自然地表达器官协同合作支撑整个身体功能的意思。如果选择其他选项，会让句子的意思变得不自然。\n        correct_answer: 1\n        choices:\n        - 共同で\n        - 一人で\n        - 無理に\n        - 偶然に\n    - topic: 手術\n      result:\n        question: 医师：\"手术已顺利完成。但为了确认术后的恢复情况，需要暂时（　）一段时间。\"\n        explanation: 这道题的挑战在于理解“术后”的语境，选择最适合的表达方式。“様子を見る”表示观察术后的情况是否正常，是医生常用的表达方式。\n        correct_answer: 3\n        choices:\n        - 休息\n        - 注意\n        - 观察情况\n        - 治愈\n  - subsection_title: Sentence sorting (sentence_sort)\n    description: 文の並べ替え問題が5問あります。\n    question_topics:\n    - topic: 自殺\n      result:\n        question: 自殺を防ぐためには、__★__ 必要です。\n        explanation: 正确答案是A，难点在于理解句子的逻辑顺序和语法结构，确保句意通顺。\n        correct_answer: 1\n        choices:\n        - 3 → 4 → 1 → 2\n        - 1 → 3 → 4 → 2\n        - 4 → 3 → 2 → 1\n        - 2 → 1 → 3 → 4\n    - topic: ライター\n      result:\n        question: 选择正确的顺序来解释打火机的使用。\n        explanation: 此问题的主要挑战是理解顺序如何表达逻辑关系。正确答案强调了“基本知识”是“安全使用”的前提条件，因此顺序为“基本的知识 →\n          点火方式 → 理解 → 安全使用”。\n        correct_answer: 1\n        choices:\n        - 1 → 3 → 4 → 2\n        - 3 → 1 → 4 → 2\n        - 1 → 4 → 3 → 2\n        - 4 → 3 → 1 → 2\n    - topic: 最近のニュースについて意見を述べる\n      result: 'Error after 2 attempts: Node `online_search` already present.'\n    - topic: 学期\n      result:\n        question: \"以下の文を正しい順序に並び替えてください。\\n\\n学校では、__★_ 新しい学期が始まると、学生たちがとても忙しくなる。\\n\\n\\\n          1. 勉強やクラブ活動で  \\n2. 春や秋の  \\n3. 生活が充実する  \\n4. 学期の始まりに\"\n        explanation: 这道题的难点在于理解学期的季节（春或秋）相关的语境，并使句子的顺序自然流畅。需要比较选项，并考虑语义是否连贯。\n        correct_answer: 1\n        choices:\n        - 2 → 4 → 1 → 3\n        - 4 → 2 → 1 → 3\n        - 2 → 1 → 4 → 3\n        - 4 → 1 → 2 → 3\n    - topic: 伝統\n      result:\n        question: '次の文を正しい順序に並べ替えてください。\n\n\n          日本の伝統文化は、__★_ 重要な役割を果たしている。\n\n          1. 歴史的背景に\n\n          2. 根ざした\n\n          3. 知識や習慣が\n\n          4. 世代を超えて受け継がれ'\n        explanation: 这道题的难点在于准确理解句子的语义关联。“历史背景中扎根”的表达应该放在最前面，然后“知识和习惯代代相传”紧随其后，这样句子的逻辑流才自然。\n        correct_answer: 0\n        choices:\n        - 1 → 2 → 3 → 4\n        - 3 → 4 → 1 → 2\n        - 4 → 3 → 2 → 1\n        - 2 → 1 → 4 → 3\n  - subsection_title: Grammar structure selection (sentence_structure)\n    description: 文法構造を選ぶ問題が4〜5問あります。\n    question_topics:\n    - topic: 引っ張る\n      result:\n        article: \"### 引っ張るの意味と使い方\\n\\n「引っ張る」という言葉は、日常生活で頻繁に使われる動詞です。この言葉にはいくつかの意味がありますが、主に以下のような使い方がされます。\\n\\\n          \\n1. **物を自分の方に引く**\\n   例えば、ロープや綱を引っ張るときの動作を指します。力を入れて物を自分の方へ動かすことです。\\n\\n\\\n          2. **張った状態にする**\\n   テントを張るときに四方に引っ張る、または電線を長く張り渡すなど、物をピンと張る状態にすることも「引っ張る」と言います。\\n\\\n          \\n3. **人を無理に連れて行く**\\n   例えば、「彼を会議に引っ張ってきた」という場合、無理やり連れてきたというニュアンスを含みます。\\n\\\n          \\n4. **時間や物事を長く延ばす**\\n   「会話を引っ張る」や「締め切りを引っ張る」という表現では、物事を長く続けたり延ばしたりする意味があります。\\n\\\n          \\n「引っ張る」は物理的な動作だけでなく、比喩的な表現としても幅広く使われる便利な言葉です。\"\n        questions:\n        - question: 「引っ張る」の意味として正しいものを選びなさい。\n          explanation: 拉向自己是“引っ張る”的核心意思。其他选项偏离了这个中心。\n          correct_answer: 2\n          choices:\n          - 押して遠ざける\n          - 自分の方へ引く\n          - 上に持ち上げる\n          - 下に押し下げる\n        - question: 次の文の意味として適切なものを選びなさい。「彼はチームを引っ張るリーダーだ。」\n          explanation: “引っ張る”在比喻意义上表示引导或领导，选项3最符合语境。\n          correct_answer: 3\n          choices:\n          - チームを押しつぶすリーダー\n          - チームを引きずるリーダー\n          - チームを導くリーダー\n          - チームを解散させるリーダー\n        - question: 「引っ張る」の使い方として正しい文を選びなさい。\n          explanation: 在实际操作中，“引っ張る”用于拉紧物体，选项1描述了正确的用法。\n          correct_answer: 1\n          choices:\n          - ロープを引っ張ってピンと張った状態にする。\n          - ロープを引っ張りながら遠ざける。\n          - ロープを引っ張って押しつぶす。\n          - ロープを引っ張って切り離す。\n        - question: 「会議の時間を引っ張る」の意味として適切なものを選びなさい。\n          explanation: “引っ張る”在时间上表示延长或拖延，选项2准确表达了这一点。\n          correct_answer: 2\n          choices:\n          - 会議を早く終わらせる\n          - 会議を長引かせる\n          - 会議を中止する\n          - 会議を忘れる\n    - topic: 家族について話す\n      result: 'Error after 2 attempts: Node `online_search` already present.'\n    - topic: 救助\n      result:\n        article: '### 救助的重要性\n\n\n          救助是指帮助处于危险状态的人们的行为。这种行为在自然灾害、交通事故、水难事故等各种场景中都会发生。这些活动不仅保护生命，还为受灾者提供心理上的支持。\n\n\n          例如，在地震发生时，救援队迅速行动可以拯救许多生命。救援活动需要专业的技术和知识。消防员和急救队员通过日常训练，能够在困难情况下冷静应对。\n\n\n          此外，救援活动的成功离不开社区的合作。居民学习灾害时的避难方法并互相帮助，可以使救援活动更有效。因此，救助不仅需要个人的努力，也需要整个社会的协作，是一项重要的活动。'\n        questions:\n        - question: 救助活动需要的场景是什么？\n          explanation: 灾害或事故等紧急情况下需要救助。平常或愉快的情况通常不需要救助活动。\n          correct_answer: 1\n          choices:\n          - 自然灾害或交通事故等情况\n          - 平常生活的情况\n          - 购物时的情况\n          - 旅行中愉快的情况\n        - question: 救助队员每天进行的活动是什么？\n          explanation: 救助队员通过专业训练准备在紧急情况下迅速、安全地进行救助。\n          correct_answer: 2\n          choices:\n          - 救助活动的宣传\n          - 专业训练\n          - 仅提供心理支持\n          - 仅与社区交流\n        - question: 为了救助活动的成功，居民需要学习什么？\n          explanation: 学习灾害时的避难方法可以帮助居民保护自己并协助救助活动的进行。\n          correct_answer: 1\n          choices:\n          - 灾害时的避难方法\n          - 救助队员的名字\n          - 救助活动的历史\n          - 灾害时的娱乐方式\n        - question: 救助活动所需的是什么？\n          explanation: 救助活动需要专业的技术和知识，仅仅拥有昂贵的装备是不够的。\n          correct_answer: 1\n          choices:\n          - 专业的技术和知识\n          - 仅昂贵的装备\n          - 受灾者的年龄信息\n          - 灾害记录\n    - topic: 子供の教育について話す\n      result: 'Error after 2 attempts: Node `online_search` already present.'\n    - topic: 議会\n      result:\n        article: '### 关于议会\n\n\n          议会是由**公选议员**组成的合议制机构，旨在代表选民意愿决定法律和政策。日本的议会包括国会、都道府县议会、市区町村议会等。议会也被称为“立法府”，其主要权力是制定法律的立法权，此外还拥有与国家事务相关的重要权限。\n\n\n          议会是民主制度的重要组成部分，是反映国民声音的场所。在议会制民主主义中，议员通过选举被选出，负责代言国民的意见。议会活动从召集开始，会期的设置、延长和闭会由议会自身决定。\n\n\n          在地方议会中，议决条例和预算等重要事项。根据地方自治法，地方议会由居民选举的议员组成，承担解决地区问题的角色。\n\n\n          议会活动有优点和缺点。优点包括民主的政策决策和权力的监督功能；缺点则包括政策决策的延迟和政党之间的对立等。\n\n\n          ---'\n        questions:\n        - question: 议会的主要权力是什么？\n          choices:\n          - 行政权\n          - 立法权\n          - 裁判权\n          - 财政权\n          correct_answer: 2\n          explanation: 议会被称为“立法府”，其主要权力是制定法律的立法权。行政权和裁判权由其他机构负责。\n        - question: 议会活动的开始由什么决定？\n          choices:\n          - 选举\n          - 召集\n          - 会期的延长\n          - 法律的制定\n          correct_answer: 2\n          explanation: 议会活动由召集开始。召集通常由议会的负责人进行。\n        - question: 地方议会议决的事项是什么？\n          choices:\n          - 国际问题\n          - 条例和预算\n          - 裁判的结果\n          - 国会的议案\n          correct_answer: 2\n          explanation: 地方议会负责议决地区的条例和预算等重要事项。国际问题和裁判结果不属于议会权限。\n        - question: 议会制民主主义的优点是什么？\n          choices:\n          - 政策决策的延迟\n          - 权力的监督功能\n          - 政党之间的对立\n          - 法律的废止\n          correct_answer: 2\n          explanation: 议会制民主主义的优点包括民主的政策决策和权力的监督功能，而政策决策的延迟是缺点之一。\n- section_title: 第2部：読解\n  subsections:\n  - subsection_title: Short passages (short_passage_read)\n    description: 短い文章の読解問題が4つあります。\n    question_topics:\n    - topic: 健康\n      result:\n        question: 健康を維持するために、どのようなことが重要だと述べられていますか。\n        explanation: 这个问题的难点在于准确理解健康维持的要素。选项2和3部分相关，但全面描述健康维持方法的是选项1。\n        correct_answer: 1\n        choices:\n        - 栄養バランスの良い食事、適度な運動、十分な休息、精神的安定\n        - 病気を治すための薬や医療技術の使用\n        - 健康診断を受けることだけ\n        - 社会的なつながりを持つことのみ\n    - topic: 異文化交流について話す\n      result: 'Error after 2 attempts: Node `online_search` already present.'\n    - topic: それと\n      result:\n        question: 田中先生希望通过邮件确认什么内容？\n        explanation: 关键在于理解「それと」连接的内容，田中先生希望对会议日程的变化进行确认。\n        correct_answer: 2\n        choices:\n        - 次回的资料提交期限\n        - 会议日程的变更\n        - 资料内容的修正\n        - 会议地点的变更\n    - topic: 学校や職場での一日の流れについて話す\n      result: 'Error after 2 attempts: Node `online_search` already present.'\n  - subsection_title: Mid-size passages (midsize_passage_read)\n    description: 中くらいの文章の読解問題が2つあります。\n    question_topics:\n    - topic: 砂漠\n      result:\n        question: 砂漠が地球の表面積の約何％を占めているか。\n        explanation: 砂漠占据地球表面面积约33%，这是本文中明确提到的信息。\n        correct_answer: 3\n        choices:\n        - 約10%\n        - 約25%\n        - 約33%\n        - 約50%\n    - topic: パス\n      result:\n        question: 27. 「パス」という言葉の使用例として、正しいものを選びなさい。\n        explanation: “パス”在体育运动中指传递球的行为。其他选项的含义不正确。\n        correct_answer: 2\n        choices:\n        - 試験に落ちたが、パスをもらった。\n        - サッカーでボールを味方に渡すことをパスと言う。\n        - コンピュータのパスは、スポーツのルールを示す。\n        - 入場券のパスは、試験の結果を記録するためのもの。\n  - subsection_title: Long passages (long_passage_read)\n    description: 長い文章の読解問題が1つあります。\n    question_topics:\n    - topic: 引っ越しの準備について話す\n      result: 'Error after 2 attempts: Node `online_search` already present.'\n  - subsection_title: Information retrieval (info_retrieval)\n    description: 情報を検索する問題が1つあります。\n    question_topics:\n    - topic: 何とか\n      result:\n        article: \"### スキー教室の案内（抜粋）\\n\\n| 活動の種類         | 活動日・時間              | 活動内容\\\n          \\                                |\\n|--------------------|--------------------------|----------------------------------------|\\n\\\n          | 定々木の世話       | 毎週火曜日 9:00-11:00    | 無料で、定々木の世話をします。初心者も歓迎。 |\\n| ホームページ付け\\\n          \\   | 毎週火曜日 9:00-11:00    | 事務所でホームページの記事を書きます。PCスキルが必要。 |\\n| 公園の清掃    \\\n          \\     | 毎週水曜日 14:00-16:00   | 無料で公園の清掃を行います。多くの協力が必要。 |\\n| 公園の案内       \\\n          \\  | 毎月第2日曜日 9:00-11:00 | 無料で公園を案内します。 |\\n\\n#### 応募条件\\n- 奥山市在住または在勤者が対象です。他地域の方は要確認。\\n\\\n          \\n#### 说明\\n- 参加希望日の前日までに事務所へ电话联系が必要です（「定々木の世話」と「ホームページ付け」は同じ内容）。  \\n- ◎印の活动は直接事務所へ来场（联系不要）。\\n\\\n          \\n#### 応募方法\\n- 応募用纸に必要事项を记入し、事務所へ持参または邮送してください。\"\n        questions:\n        - question: 次のうち、正しい活動の選択肢はどれか。\n          explanation: 定々木の世話は毎週火曜日に行われ、初心者も歓迎されます。他の選択肢は活動日や内容が一致していません。\n          correct_answer: 1\n          choices:\n          - 定々木の世話は毎週火曜日に行われ、初心者も歓迎される。\n          - ホームページ付けは毎週水曜日に行われる。\n          - 公園の清掃は毎月第2日曜日に行われる。\n          - 公園の案内は毎週火曜日に行われる。\n        - question: 活動に参加する際に必要な条件はどれか。\n          explanation: 応募方法として「応募用紙を郵送または事務所へ持参」と記載されています。参加希望日の前日までに電話連絡が必要ですが、◎印の活動は直接来場で事前連絡不要です。\n          correct_answer: 2\n          choices:\n          - 活動日の当日に電話連絡が必要である。\n          - 応募用紙を郵送または事務所へ持参する必要がある。\n          - 奥山市以外の在住者は参加できない。\n          - ◎印の活動は事前連絡が必要である。\n- section_title: 第3部：聴解\n  subsections:\n  - subsection_title: Topic understanding (topic_understanding)\n    description: トピックの理解を問う問題が6問あります。\n    question_topics:\n    - topic: 代金\n      result:\n        questions:\n          question: 男の人はこの後、何をしますか。\n          explanation: 这个问题的主要难点在于理解对话中支付方式和后续动作的顺序。选择正确答案需要注意男的人的行为以及店员的提示。\n          correct_answer: 3\n          choices:\n          - 現金で払う\n          - クレジットカードで払う\n          - レシートを受け取る\n          - シャツを試着する\n        conversation:\n        - gender: male\n          context: すみません、このシャツをください。\n        - gender: female\n          context: ありがとうございます。お会計は5,000円です。\n        - gender: male\n          context: クレジットカードで払えますか？\n        - gender: female\n          context: はい、もちろんです。クレジットカードをこちらにお願いします。\n        - gender: male\n          context: はい。\n        - gender: female\n          context: ありがとうございます。では、こちらのレシートをお受け取りください。\n    - topic: だが\n      result:\n        questions:\n          question: 男の人は出張レポートについて何をしなければなりませんか。\n          explanation: 这个问题的主要难点是准确听取对话中课长具体要求修改哪个部分。需要注意课长提到的“关于讨论结果的记载有些模糊”的指摘。\n          correct_answer: 3\n          choices:\n          - 出張の目的を追加する\n          - 訪問先の情報を修正する\n          - 話し合いの結果を詳しく書く\n          - 次回の訪問予定を変更する\n        conversation:\n        - gender: male\n          context: 田中：ありがとうございます。\n        - gender: female\n          context: 課長：次回の訪問予定は3ヶ月後ですよね。\n    - topic: 乾燥\n      result:\n        questions:\n          question: 男の人はこの後、何をする予定ですか？\n          explanation: 男の人は会話中で「まず加湿器を探してみます」と言っています，因此正确答案是\"加湿器を探す\"。主要挑战在于理解男の人的行动计划，而不是女の人的建议。\n          correct_answer: 2\n          choices:\n          - 部屋の掃除をする\n          - 加湿器を探す\n          - 濡れたタオルを準備する\n          - エアコンを消す\n        conversation:\n        - gender: female\n          context: 最近、部屋が乾燥してる感じがしませんか？肌も少しカサカサしてきました。\n        - gender: male\n          context: そうですね。特に夜中は乾燥がひどいです。エアコンを使っているせいかもしれませんね。\n        - gender: female\n          context: 加湿器を使ったらどうですか？水蒸気を増やすことで湿度を上げられると思います。\n        - gender: male\n          context: それはいいアイデアですね。加湿器、確か押入れにしまってあったと思います。今出して使ってみます。\n        - gender: female\n          context: そうですね、それが良いと思います。加湿器がない場合は、濡れたタオルを部屋に置くのも効果的ですよ。\n        - gender: male\n          context: わかりました。まず加湿器を探してみます。\n    - topic: 批判\n      result:\n        questions:\n          question: 課長は部下に何を批判しましたか？\n          explanation: 課長批评了部下的报告书中具体数据不足以及结论部分的模糊。这是听力问题的关键点，需要考生注意对话中的具体细节。\n          correct_answer: 2\n          choices:\n          - 報告書の全体的な内容\n          - 報告書のデータ不足と結論の曖昧さ\n          - プロジェクトの進行状況\n          - 報告書の提出期限\n        conversation:\n        - gender: male\n          context: 山田さん、先週のプロジェクト報告書を確認しましたが、少し気になる点があります。\n        - gender: female\n          context: はい、何か問題がありましたでしょうか？\n        - gender: male\n          context: 全体的な内容は良かったですが、具体的なデータが不足しているのと、結論部分が曖昧です。これでは、上層部にしっかり説明できません。\n        - gender: female\n          context: 申し訳ありません。具体的なデータを追加して、結論を明確に修正します。\n        - gender: male\n          context: そうしてください。次回はもっと注意して作成してくださいね。\n        - gender: female\n          context: はい、気をつけます。\n    - topic: 需要\n      result:\n        questions:\n          question: 男の学生は本を予約するためにこの後、何をしますか。\n          explanation: 听力中提到男学生已经确认自己借的书仍在期限内，并且持有图书馆的利用卡，因此他可以直接在受付进行预约。这道题的难点在于需要听清楚预约条件，以及确认男学生的下一步行动。\n          correct_answer: 3\n          choices:\n          - 図書館の検索システムを使う\n          - 利用カードを作る\n          - 受付で予約手続きをする\n          - 借りている本を返す\n        conversation:\n        - gender: male\n          context: すみません、探している本があるんですが、図書館の検索システムで調べたら貸し出し中になっていました。予約はできますか？\n        - gender: female\n          context: はい、できます。ただ、予約する前に現在借りている本がすべて返却されている必要があります。今借りている本は返却期限内ですか？\n        - gender: male\n          context: はい、期限内です。予約をお願いします。\n        - gender: female\n          context: かしこまりました。では、図書館の利用カードをお持ちですか？\n        - gender: male\n          context: はい、持っています。\n        - gender: female\n          context: それでは受付で予約手続きをしてください。\n    - topic: メンバー\n      result:\n        questions:\n          question: 会議で部長と社員が話しています。社員はこの後、何をしますか？\n          explanation: 这道题的关键是听出技术部的成员尚未确定，员工接下来的行动是确认技术部的候选人。\n          correct_answer: 2\n          choices:\n          - 営業部のメンバーを決める\n          - 技術部の候補者を確認する\n          - 会議室の予約をする\n          - 企画部のメンバーに連絡する\n        conversation:\n        - gender: male\n          context: 田中さん、次のプロジェクトのメンバー構成について相談したいんですが、時間ありますか？\n        - gender: female\n          context: はい、もちろんです。どのようなメンバーを考えていますか？\n        - gender: male\n          context: まず、営業部から2名、企画部から1名、そして技術部から3名を入れる予定です。ただし、技術部のメンバーについてはまだ確定していません。\n        - gender: female\n          context: 技術部のメンバーは私が確認して、候補者をリストアップしますね。\n        - gender: male\n          context: 助かります。リストができたら、会議室でみんなで話し合いをしましょう。\n        - gender: female\n          context: わかりました。すぐに技術部に連絡して、候補者を確認します。\n        - gender: male\n          context: よろしくお願いします。\n  - subsection_title: Key understanding (keypoint_understanding)\n    description: 要点の理解を問う問題が6問あります。\n    question_topics:\n    - topic: 苦労\n      result:\n        questions:\n          question: 男の人は「苦労」についてどのように考えていますか。\n          explanation: 男の人は「苦労」が成長や新しいスキル獲得につながると話しており、ポジティブな視点で捉えています。挑戦点在于理解男の人の発言からその考え方を正確に読み取ること。\n          correct_answer: 2\n          choices:\n          - くろうはただくるしいだけだ\n          - くろうはせいちょうにつながることがある\n          - くろうはふせぐべきものだ\n          - くろうはじかんのむだだ\n        conversation:\n        - gender: female\n          context: 最近、仕事が忙しすぎて、本当に疲れちゃった。苦労が多すぎるよ。\n        - gender: male\n          context: それは大変だね。でも、苦労って、後で振り返ると成長につながることが多いと思うよ。\n        - gender: female\n          context: そうかなぁ。今はただ苦しいだけって感じ。\n        - gender: male\n          context: 僕も昔はそう思ってたけど、苦労したおかげで新しいスキルを身につけたり、忍耐力がついたりしたんだ。今ではその経験が役に立ってるよ。\n        - gender: female\n          context: そう聞くと、少し気持ちが楽になるかも。\n    - topic: バスの時刻表を尋ねる\n      result: 'Error after 2 attempts: Node `online_search` already present.'\n    - topic: 志望\n      result:\n        questions:\n          question: 男の人はなぜその大学を志望しましたか。\n          explanation: 考生可能会混淆选项2和选项1的区别。虽然留学经验是男生兴趣的起点，但真正的志望理由是学习国際関係学。\n          correct_answer: 1\n          choices:\n          - 国際関係学を学びたいから\n          - 留学経験が楽しかったから\n          - 外国人留学生が多いから\n          - 国際問題について議論したいから\n        conversation:\n        - gender: female\n          context: 田中さん、大学の志望理由って何だったの？\n        - gender: male\n          context: 僕は、国際関係学を学びたくてあの大学を選んだんだ。あの大学は国際交流プログラムが充実しているし、外国人留学生も多いから、いろんな文化に触れられると思ったんだ。\n        - gender: female\n          context: なるほどね。それにしても、国際関係学って難しそうだけど、何がきっかけで興味を持ったの？\n        - gender: male\n          context: 高校の時に、交換留学でアメリカに行ったことがあってね。その時に、国際問題について議論する機会があって、すごく興味が湧いたんだ。\n        - gender: female\n          context: そうなんだ。じゃあ、留学経験が志望理由につながったんだね。\n    - topic: 農家\n      result:\n        questions:\n          question: 男の人は農家を始める理由として何を一番重要だと言っていますか。\n          explanation: 男の人は自然に囲まれた生活が夢であり、それが農業を始める一番の理由だと话しています。他の选项は理由として挙げられていますが、最も重要な点は自然との触れ合いです。\n          correct_answer: 2\n          choices:\n          - 収入の安定性\n          - 自然との触れ合い\n          - 販売の喜び\n          - 手間の少なさ\n        conversation:\n        - gender: female\n          context: 鈴木さん、農業を始めるって聞いたけど、本当？\n        - gender: male\n          context: うん、そうだよ。実は昔から自然に囲まれた生活を夢見ていてね。\n        - gender: female\n          context: でも農業って大変そう。土地や資金の準備も必要だし、手間もかかるでしょ？\n        - gender: male\n          context: それは確かにあるけど、やりがいが大きいんだ。自分で育てた野菜や果物を食べたり、販売したりする喜びは特別だよ。\n        - gender: female\n          context: なるほど。収入面ではどう？安定してるの？\n        - gender: male\n          context: 収入は季節や作物によって変わるけど、それも農業の醍醐味だと思ってる。工夫次第で収入を増やすこともできるしね。\n        - gender: female\n          context: そうなんだ。じゃあ、農業を始める一番の理由は？\n        - gender: male\n          context: うーん、やっぱり自然との触れ合いかな。それが一番の魅力だと思うよ。\n    - topic: 死亡\n      result:\n        questions:\n          question: 患者の死亡について、医師はどのように説明していますか。\n          explanation: 这个问题的难点在于需要仔细听取家属的问题内容和医生的解释，并准确理解。\n          correct_answer: 1\n          choices:\n          - 心臓病が原因で亡くなった\n          - 病院での治療が不十分だった\n          - 患者が突然自殺した\n          - 医師が死亡時に不在だった\n        conversation:\n        - gender: male\n          context: 申し訳ありませんが、患者さんは今朝、病状が急激に悪化し、残念ながら亡くなられました。\n        - gender: female\n          context: 突然のことで信じられません。何が原因だったのでしょうか？\n        - gender: male\n          context: 患者さんは長い間、心臓病を患っておられました。そして、今回は心臓が耐えられず、心臓停止が起きてしまいました。\n        - gender: female\n          context: 最後の瞬間、苦しんでいましたか？\n        - gender: male\n          context: いいえ、患者さんは穏やかに息を引き取りました。私たちもできる限りのことをしましたが、力及ばずでした。\n    - topic: 無し\n      result:\n        questions:\n          question: 男の人が「無し」という言葉を使った理由は何ですか。\n          explanation: 主要难点在于听清对话中“無し”的具体用法，并理解它在句子中的含义。\n          correct_answer: 1\n          choices:\n          - 「計画がない」という意味を説明するため\n          - 「抜け駆け無し」の使い方を説明するため\n          - 「待った無し」の意味を教えるため\n          - 言葉のニュアンスを説明するため\n        conversation:\n        - gender: female\n          context: 昨日の会議で、山田さんが「無し」という言葉を使っていましたね。どういう意味だったんですか？\n        - gender: male\n          context: ああ、それは「何もない」という意味で使ったんだよ。例えば、「計画無し」って言うと、計画がないことを表すんだ。\n        - gender: female\n          context: なるほど。じゃあ、「無しにする」という表現も使えますか？\n        - gender: male\n          context: うん、そうだね。「抜け駆け無し」とか、「待った無し」なんて言い方もあるね。\n        - gender: female\n          context: 面白いですね。言葉の使い方によって、ニュアンスが変わるんですね。\n  - subsection_title: Summary understanding (summary_understanding)\n    description: 要約を問う問題が3問あります。\n    question_topics:\n    - topic: 炊く\n      result:\n        questions:\n          question: 息子はこの後何をしますか?\n          explanation: 根据会话内容，息子提议要为母亲煮饭，因此正确答案是2。主要挑战点在于听者需要注意息子的具体行动，而不是母亲的行动。\n          correct_answer: 2\n          choices:\n          - 冷蔵庫からカレーの具材を取り出す\n          - ご飯を炊く\n          - カレーを作る\n          - 炊飯器の使い方を母に教える\n        conversation:\n        - gender: female\n          context: 今夜の夕飯、何がいい?\n        - gender: male\n          context: うーん、カレーかな。でもご飯は炊いてないよね?\n        - gender: female\n          context: そうね、まだ炊いてないけど、これから炊くわ。カレーの具材は冷蔵庫にあるからすぐ作れるし。\n        - gender: male\n          context: じゃあ、僕がご飯を炊くよ。炊飯器の使い方、もう覚えたから。\n        - gender: female\n          context: 本当? じゃあお願いね。炊けたら教えてね。\n    - topic: 発明\n      result:\n        questions:\n          question: 学生たちは何について話していますか?\n          explanation: 学生们通过举例讨论了发明的历史和影响。他们提到了干电池的故事以及发明的试验与错误，这些内容让人感受到发明的重要性，但核心主题是历史和影响。\n          correct_answer: 3\n          choices:\n          - 发明家的生活\n          - 发明的重要性\n          - 发明的历史和影响\n          - 发明所需的技术\n        conversation:\n        - gender: male\n          context: 今日の授業、面白かったね。発明についての話だったけど、先生が言っていた「発明は必要から生まれる」っていう言葉、なるほどと思ったよ。\n        - gender: female\n          context: うん、私もそう思う。例えば、蒸気機関とか電球とか、生活を便利にするための発明だよね。\n        - gender: male\n          context: そうだね。でも、先生が話していた中で一番驚いたのは、乾電池の話。寒い地域での戦争で乾電池が役に立ったっていう話、知らなかったよ。\n        - gender: female\n          context: 私も初めて聞いた。乾電池が発明されたことで、通信機器が使えるようになって戦争に影響を与えたなんて、発明って本当にすごいね。\n        - gender: male\n          context: それと、発明って試行錯誤の結果なんだって。失敗を繰り返して、やっと成功するものなんだね。\n        - gender: female\n          context: うん。発明家の努力って本当に尊敬するよ。\n    - topic: 大陸\n      result:\n        questions:\n          question: 2人は何について話していますか?\n          explanation: 学生专注于讨论公园整备的话题，特别是当地人们的努力，因此答案是“公园整备的努力”。\n          correct_answer: 2\n          choices:\n          - 日本の公園の歴史\n          - 公園整備の努力\n          - 日本の自然文化\n          - 地元の人々の活動\n        conversation:\n        - gender: male\n          context: この公園、いつ来ても気持ちがいいね。緑が多くて、空気もきれいだし。\n        - gender: female\n          context: そうですね。日本は自然を大切にする文化がありますよね。\n        - gender: male\n          context: そうだね。でも、昔はこの公園も整備されていなくて、荒れた場所だったらしいよ。\n        - gender: female\n          context: そうなんですか？今はこんなにきれいなのに。\n        - gender: male\n          context: 地元の人たちが協力して整備したんだって。木を植えたり、花を育てたりしてね。\n        - gender: female\n          context: 素晴らしいですね。自然を守るために努力する人たちがいるって、本当に尊敬します。\n  - subsection_title: Active expression (active_expression)\n    description: 積極的な表現を問う問題が4問あります。\n    question_topics:\n    - topic: 取れる\n      result:\n        image_background: 图片中显示了一位年轻女性正在厨房里准备晚餐。桌子上放着一些蔬菜和调味料。她的表情显得有些困惑，似乎在思考如何解决某个问题。\n        questions:\n          question: 女性は次に何をすると言うでしょうか？\n          explanation: 在录音中，女性提到现在没有时间研磨包丁，因此她可能会选择暂时换一把包丁来继续料理。这一题的挑战在于理解女性的意图，而不是直接依赖她的言词。\n          correct_answer: 3\n          choices:\n          - 包丁を研ぐ\n          - 新しい包丁を買う\n          - 包丁を交換する\n        conversation:\n        - gender: female\n          context: あれ？この包丁、切れ味が悪くなってるみたい。\n        - gender: male\n          context: そうだね。最近あまり研いでないんじゃない？\n        - gender: female\n          context: うん、そうかも。切れ味が悪いと料理が大変だよね。\n        - gender: male\n          context: まあ、研ぎ石で研げばすぐに良くなるよ。\n        - gender: female\n          context: そうね。でも今は時間がないから、どうしようかな。\n    - topic: 享受\n      result:\n        image_background: 照片显示一个客厅场景，男人和女人坐在沙发上交谈，桌子上有咖啡杯和书，窗外是晴朗的天空和绿色的花园。\n        conversation:\n        - gender: male\n          context: 最近，这个家里度过的时间增加了，感觉非常放松。\n        - gender: female\n          context: 是的。打理了花园后，感觉越来越舒适了。\n        - gender: male\n          context: 嗯。享受外面的空气，同时喝咖啡的时间是最棒的。\n        - gender: female\n          context: 而且，在家里度过时间，也增加了和家人在一起的时间，这也很好。\n        - gender: male\n          context: 确实。我想更加珍惜这样的时光。\n        questions:\n          question: 男的说“最近，这个家里度过的时间增加了，感觉非常放松”的原因是什么？\n          explanation: 这个问题的难点在于从对话内容中理解男士的感受。男士提到“感觉非常放松”的原因是因为与家人一起度过的时间增加了。虽然对话中提到花园的打理和享受外面的空气，但放松感的直接原因是与家人的时间增加。\n          correct_answer: 1\n          choices:\n          - 与家人一起度过的时间增加了。\n          - 打理了花园。\n          - 享受外面的空气。\n    - topic: 覚ます\n      result:\n        image_background: In the picture, a man is sitting at his desk in an office,\n          looking tired and rubbing his eyes. On the desk, there is a cup of coffee,\n          a stack of documents, and a laptop. His colleague, a woman, is standing\n          nearby, holding a file and looking concerned. The dialogue takes place in\n          a professional office setting.\n        conversation:\n        - gender: female\n          context: 田中さん、大丈夫ですか？最近忙しすぎて疲れているみたいですね。\n        - gender: male\n          context: はい、ちょっと眠くて集中できません。でも、もう少しで会議が始まるので、眠気を覚まさないといけません。\n        - gender: female\n          context: そうですね。コーヒーでも飲んだらどうですか？それとも少し外に出てリフレッシュしますか？\n        questions:\n          question: 田中さんは次に何をする可能性が一番高いですか？\n          choices:\n          - コーヒーを飲む\n          - 外に出てリフレッシュする\n          - 会議の準備をする\n          correct_answer: 1\n          explanation: 田中さん说“必须要清醒过来”。女性建议“要不要喝杯咖啡？”因此，田中先生接下来最有可能喝咖啡。主要挑战点是从建议的选项中推测出最适合的行为。\n    - topic: 物語\n      result:\n        image_background: Living room with a family watching TV together.\n        questions:\n          question: 次にお父さんが言うことは何ですか？\n          explanation: 此问题的难点在于理解对话的流向，并推测人物的性格和意图。父亲对历史感兴趣，并支持家人可以共同享受的建议，因此选择散步的可能性较高。\n          correct_answer: 1\n          choices:\n          - 散歩はいいね。外の空気を吸うのも大事だ。\n          - いや、散歩よりも本屋に行って歴史の本を買おう。\n          - それよりもみんなでゲームをするのはどうだろう。\n        conversation:\n        - gender: male\n          context: この物語は本当に面白いね。昔の人たちがどれだけ苦労していたかがよくわかる。\n        - gender: female\n          context: そうね。でも、子供たちは退屈しているみたいよ。\n        - gender: male\n          context: うん、ちょっとつまんないなぁ。歴史よりもアニメが見たい。\n        - gender: male\n          context: そうか。でも、歴史を学ぶことは大事だよ。これを見た後で、何か楽しいことをしようか。\n        - gender: female\n          context: いいわね。じゃあ、終わったらみんなで外に散歩に行くのはどう？\n  - subsection_title: Immediate acknowledgment (immediate_ack)\n    description: 即時の理解を問う問題が9問あります。\n    question_topics:\n    - topic: 絶対\n      result:\n        question: 問題10\n        explanation: 正解是选项3。从对话内容来看，女性表示她希望能通过考试并表达了些许的不安，男性则鼓励她并表示她已经做好了充分的准备。因此，选项3的回答“是的，为了能够通过考试我们一起努力吧”是最自然的选择。\n        suggestion: 在回答问题时，注意对话的上下文及其流向，选择最符合情景的选项。\n        conversation:\n        - gender: female\n          context: 明日の試験、絶対に合格したいけど、少し不安だな。\n        - gender: male\n          context: 大丈夫だよ、君ならできる。しっかり準備してきたじゃないか。\n    - topic: 積む\n      result:\n        question: 佐藤さんは次に何をしますか?\n        explanation: 在这段对话中，明确指示了“将货物装到卡车上”的具体操作。佐藤先生接下来要做的事情就是将货物装到卡车上。理解“装”的意思是关键。\n        suggestion: 选择选项1：トラックに荷物を積む。\n        conversation:\n        - gender: female\n          context: 佐藤さん、その荷物、トラックに積んでおいてもらえますか?\n        - gender: male\n          context: わかりました。すぐに積みますね。\n    - topic: 先行\n      result:\n        question: 田中さんはこれから何をしますか？\n        explanation: 此问题的难点是理解“先行”一词的含义。“先行”是指先于其他人采取行动。在对话中，明确指出田中先生将先去会场并确认准备情况，因此正确答案是1。\n        suggestion: 正确答案是1：会场に先に行き、準備を確認する。\n        conversation:\n        - gender: female\n          context: 田中さん、先行して会場に行っていただけますか？\n        - gender: male\n          context: はい、わかりました。準備を確認しておきます。\n    - topic: 蹴る\n      result:\n        question: 男的下一步计划是什么？\n        explanation: 男性说他正在逐步提高技能，所以可以推测他有继续练习的意愿。选项2和3不符合对话内容。\n        suggestion: 1.继续练习足球\n        conversation:\n        - gender: male\n          context: 在足球练习中，我练习了踢球。\n        - gender: female\n          context: 怎么样？成功了吗？\n        - gender: male\n          context: 嗯，我正在逐步提高技能。\n    - topic: 数える\n      result:\n        question: 男の人は何をしましたか?\n        explanation: 此问题的难点在于准确理解对话内容。根据“数えてくれる?”的提问以及“全部で7个だよ”的回答，可以明确男士是数了苹果。\n        suggestion: 正确答案是选项2。\n        conversation:\n        - gender: female\n          context: ねえ、あのリンゴ、いくつあるか数えてくれる?\n        - gender: male\n          context: うん、ちょっと待ってね。1, 2, 3… あ、全部で7個だよ。\n    - topic: 上達\n      result:\n        question: 男の人はギターの練習についてどう感じていますか？\n        explanation: 男的说法是“少しずつ弾ける曲が増えてきた”，这表示他的练习正在取得成果。\n        suggestion: 候选选项相似，因此需要注意听取具体的“成果正在显现”的内容。\n        conversation:\n        - gender: male\n          context: 最近、ギターの練習を毎日続けているんだ。\n        - gender: female\n          context: すごいね！上達してきたんじゃない？\n        - gender: male\n          context: うん、少しずつ弾ける曲が増えてきたよ。\n    - topic: 公共施設の利用方法について話す\n      result: 'Error after 2 attempts: Node `online_search` already present.'\n    - topic: たっぷり\n      result:\n        question: 女の人は何をしたと言っていますか?\n        explanation: 这个问题的难点在于需要准确理解“たっぷり”这个词的意思，并从对话中读取出女性具体做了什么。“たっぷり”意思是“充分地”“丰富地”，因此，女性准备了很多便当是正确答案。\n        suggestion: 2. お弁当をたっぷり準備した\n        conversation:\n        - gender: female\n          context: 明日のピクニック、楽しみですね。お弁当はたっぷり用意しましたよ。\n        - gender: male\n          context: それはいいですね。どんなお弁当ですか?\n    - topic: 諦める\n      result:\n        question: 男の人はどうすることにしましたか?\n        explanation: 这个问题的难点在于正确理解“諦める”这个动词的意思。“諦める”表示“放弃”或“停止”的意思。男士说“因为下雨了，所以决定放弃登山”，因此可以判断他决定停止登山。\n        suggestion: 正确答案是选项2。\n        conversation:\n        - gender: male\n          context: 雨が降り出したから、山登りは諦めることにしたよ。\n        - gender: female\n          context: そうなの? 残念だね。次の機会に行けるといいね。\n"
     },
     "metadata": {},
     "output_type": "display_data"
    }
   ],
   "source": [
    "yaml_str = yaml.dump(output_data, allow_unicode=True, sort_keys=False, default_flow_style=False)\n",
    "# Display as formatted YAML\n",
    "display(Markdown(yaml_str))"
   ],
   "metadata": {
    "collapsed": false,
    "ExecuteTime": {
     "end_time": "2025-05-08T14:00:27.362349100Z",
     "start_time": "2025-05-08T14:00:27.302485500Z"
    }
   },
   "id": "43e411616ee939b1"
  },
  {
   "cell_type": "code",
   "execution_count": 90,
   "outputs": [],
   "source": [],
   "metadata": {
    "collapsed": false,
    "ExecuteTime": {
     "end_time": "2025-05-08T14:00:27.362349100Z",
     "start_time": "2025-05-08T14:00:27.335875100Z"
    }
   },
   "id": "307398e88bf20dc3"
  },
  {
   "cell_type": "code",
   "execution_count": 90,
   "outputs": [],
   "source": [],
   "metadata": {
    "collapsed": false,
    "ExecuteTime": {
     "end_time": "2025-05-08T14:00:27.362349100Z",
     "start_time": "2025-05-08T14:00:27.338464400Z"
    }
   },
   "id": "aa98a476d1ded815"
  }
 ],
 "metadata": {
  "kernelspec": {
   "display_name": "Python 3",
   "language": "python",
   "name": "python3"
  },
  "language_info": {
   "codemirror_mode": {
    "name": "ipython",
    "version": 2
   },
   "file_extension": ".py",
   "mimetype": "text/x-python",
   "name": "python",
   "nbconvert_exporter": "python",
   "pygments_lexer": "ipython2",
   "version": "2.7.6"
  }
 },
 "nbformat": 4,
 "nbformat_minor": 5
}
