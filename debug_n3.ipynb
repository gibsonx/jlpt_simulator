{
 "cells": [
  {
   "cell_type": "code",
   "execution_count": 1,
   "outputs": [],
   "source": [
    "from graphs.common.node_builder import *\n",
    "from graphs.common.utils import *\n",
    "from graphs.common.state import *\n",
    "from libs.LLMs import azure_llm, azure_ref_llm\n",
    "import random\n",
    "from graphs.n3.prompts import *\n",
    "from langgraph.graph import StateGraph\n",
    "import logging\n",
    "from graphs.n3.ExamTaskHandler import ExamTaskHandler\n",
    "from IPython.display import display, Markdown, HTML\n",
    "\n",
    "load_dotenv()\n",
    "\n",
    "logging.basicConfig(level=logging.INFO, format='%(asctime)s - %(levelname)s - %(message)s')"
   ],
   "metadata": {
    "collapsed": false,
    "ExecuteTime": {
     "end_time": "2025-06-09T14:20:22.682134900Z",
     "start_time": "2025-06-09T14:20:20.516673500Z"
    }
   },
   "id": "7c4b1c4f53e5c080"
  },
  {
   "cell_type": "code",
   "execution_count": 2,
   "outputs": [
    {
     "name": "stdout",
     "output_type": "stream",
     "text": [
      "---WEB SEARCH---\n",
      "---Generator----\n"
     ]
    },
    {
     "name": "stderr",
     "output_type": "stream",
     "text": [
      "2025-06-09 22:20:35,581 - INFO - HTTP Request: POST https://ai-rolandaws880125ai409947751408.openai.azure.com/openai/deployments/gpt-4.1/chat/completions?api-version=2025-01-01-preview \"HTTP/1.1 200 OK\"\n",
      "2025-06-09 22:20:35,638 - INFO - Generated message: <div class='article'>\n",
      "  <p>私は来月、家族と「特別な日」を過ごす予定です。毎年、家族の誰かの誕生日や記念日には、みんなで集まってお祝いします。去年は母の誕生日にレストランで食事をしましたが、今年は家でパーティーを開くことにしました。</p>\n",
      "  <p>パーティーの計画は私が中心になって考えています。まず、母の好きな料理を作るつもりです。ケーキも自分で作ろうと思っています。家をきれいに掃除して、花を買ってきて飾る予定です。妹は部屋の飾りつけを手伝うことになっています。父はビデオカメラでパーティーの様子を撮る予定です。</p>\n",
      "  <p>みんなでプレゼントも用意しました。母は音楽が好きなので、新しいCDをプレゼントすることにしました。母が喜んでくれるかどうか、今からとても楽しみです。</p>\n",
      "  <p>このように、家族で協力して計画を立てると、特別な日がもっと楽しくなります。来月のパーティーが成功するように、みんなでがんばろうと思います。</p>\n",
      "</div>\n",
      "\n",
      "<a>この家族は、今年の特別な日をどのように過ごす予定ですか。</a>\n",
      "<ul class='options'>\n",
      "  <li>レストランで食事をする</li>\n",
      "  <li>旅行に行く</li>\n",
      "  <li>家でパーティーを開く</li>\n",
      "  <li>公園でピクニックをする</li>\n",
      "</ul>\n",
      "正解: 3\n"
     ]
    },
    {
     "name": "stdout",
     "output_type": "stream",
     "text": [
      "---REVISOR---\n"
     ]
    },
    {
     "name": "stderr",
     "output_type": "stream",
     "text": [
      "2025-06-09 22:20:41,068 - INFO - HTTP Request: POST https://ai-rolandaws880125ai409947751408.openai.azure.com/openai/deployments/gpt-4.1/chat/completions?api-version=2025-01-01-preview \"HTTP/1.1 200 OK\"\n",
      "2025-06-09 22:20:41,073 - INFO - Refelect message: Content Accuracy:\n",
      "- The reading passage is clear, relevant, and appropriately challenging for JLPT N3. The vocabulary and grammar are suitable for this level (e.g., 予定、手伝う、飾る、協力して、成功する).\n",
      "- The passage context (planning a special family day) is culturally appropriate and reflects common Japanese family experiences.\n",
      "- The question directly relates to the passage and tests reading comprehension, which is appropriate for N3.\n",
      "\n",
      "Question and Answer Quality:\n",
      "- The question is clear and unambiguous: \"この家族は、今年の特別な日をどのように過ごす予定ですか。\"\n",
      "- The answer choices are plausible and well-constructed, with only one correct answer that is clearly supported by the passage.\n",
      "- The distractors (restaurant, travel, picnic) are logical and fit the context, making the question appropriately challenging for N3.\n",
      "\n",
      "Detailed Refinement:\n",
      "- The content is culturally relevant, mentioning common Japanese customs (家族の誕生日や記念日を祝う、家でパーティー、花を飾る、手作りケーキ、プレゼントなど).\n",
      "- No inappropriate or irrelevant content is present.\n",
      "- The passage length and complexity are suitable for N3 reading comprehension.\n",
      "\n",
      "Feedback:\n",
      "GOOD ENOUGH\n"
     ]
    },
    {
     "name": "stdout",
     "output_type": "stream",
     "text": [
      "--- AI Reviser feels Good Enough ---\n",
      "--- Formatter ---\n"
     ]
    },
    {
     "name": "stderr",
     "output_type": "stream",
     "text": [
      "2025-06-09 22:20:44,496 - INFO - HTTP Request: POST https://ai-rolandaws880125ai409947751408.openai.azure.com/openai/deployments/gpt-4.1/chat/completions?api-version=2025-01-01-preview \"HTTP/1.1 200 OK\"\n",
      "2025-06-09 22:20:44,510 - INFO - Formatted message: {'html_article': \"<div class='article'>  <p>私は来月、家族と「特別な日」を過ごす予定です。毎年、家族の誰かの誕生日や記念日には、みんなで集まってお祝いします。去年は母の誕生日にレストランで食事をしましたが、今年は家でパーティーを開くことにしました。</p>  <p>パーティーの計画は私が中心になって考えています。まず、母の好きな料理を作るつもりです。ケーキも自分で作ろうと思っています。家をきれいに掃除して、花を買ってきて飾る予定です。妹は部屋の飾りつけを手伝うことになっています。父はビデオカメラでパーティーの様子を撮る予定です。</p>  <p>みんなでプレゼントも用意しました。母は音楽が好きなので、新しいCDをプレゼントすることにしました。母が喜んでくれるかどうか、今からとても楽しみです。</p>  <p>このように、家族で協力して計画を立てると、特別な日がもっと楽しくなります。来月のパーティーが成功するように、みんなでがんばろうと思います。</p></div>\", 'questions': [{'html_question': 'この家族は、今年の特別な日をどのように過ごす予定ですか。', 'correct_answer': 3, 'choices': ['レストランで食事をする', '旅行に行く', '家でパーティーを開く', '公園でピクニックをする']}]}\n"
     ]
    },
    {
     "name": "stdout",
     "output_type": "stream",
     "text": [
      "{'html_article': \"<div class='article'>  <p>私は来月、家族と「特別な日」を過ごす予定です。毎年、家族の誰かの誕生日や記念日には、みんなで集まってお祝いします。去年は母の誕生日にレストランで食事をしましたが、今年は家でパーティーを開くことにしました。</p>  <p>パーティーの計画は私が中心になって考えています。まず、母の好きな料理を作るつもりです。ケーキも自分で作ろうと思っています。家をきれいに掃除して、花を買ってきて飾る予定です。妹は部屋の飾りつけを手伝うことになっています。父はビデオカメラでパーティーの様子を撮る予定です。</p>  <p>みんなでプレゼントも用意しました。母は音楽が好きなので、新しいCDをプレゼントすることにしました。母が喜んでくれるかどうか、今からとても楽しみです。</p>  <p>このように、家族で協力して計画を立てると、特別な日がもっと楽しくなります。来月のパーティーが成功するように、みんなでがんばろうと思います。</p></div>\", 'questions': [{'html_question': 'この家族は、今年の特別な日をどのように過ごす予定ですか。', 'correct_answer': 3, 'choices': ['レストランで食事をする', '旅行に行く', '家でパーティーを開く', '公園でピクニックをする']}]}\n"
     ]
    }
   ],
   "source": [
    "if __name__ == \"__main__\":\n",
    "    n3_vocab = collect_vocabulary(\"Vocab/n3.csv\")\n",
    "    with open(\"Vocab/topics.txt\", \"r\", encoding=\"utf-8\") as file:\n",
    "        topics_list = [line.strip() for line in file]\n",
    "    random_word = random.choice(n3_vocab.split(\",\"))\n",
    "    random_topic = random.choice(topics_list)\n",
    "\n",
    "    # Kanji Reading\n",
    "    # handler = ExamTaskHandler()\n",
    "    # print(handler.kanji_reading(random_word))\n",
    "    \n",
    "    # # Write Chinese Task\n",
    "    # handler = ExamTaskHandler()\n",
    "    # print(handler.write_kanji(random_word))\n",
    "\n",
    "    # # Word Meaning Task\n",
    "    # handler = ExamTaskHandler()\n",
    "    # print(handler.word_meaning(random_word))\n",
    "    #\n",
    "    # # Synonym Substitution Task\n",
    "    # handler = ExamTaskHandler()\n",
    "    # print(handler.synonym_substitution(random_word))\n",
    "    #\n",
    "    # Word Usage Task\n",
    "    # handler = ExamTaskHandler()\n",
    "    # print(handler.word_usage(random_word))\n",
    "    #\n",
    "    # # Sentence Grammar Task\n",
    "    # handler = ExamTaskHandler()\n",
    "    # print(handler.sentence_grammar(random_word))\n",
    "    #\n",
    "    # # Sentence Sort Task\n",
    "    # handler = ExamTaskHandler()\n",
    "    # output = handler.sentence_sort(random_word)\n",
    "    # display(HTML(output['html_question']))\n",
    "    #\n",
    "    # Sentence Structure Task\n",
    "    # handler = ExamTaskHandler()\n",
    "    # print(handler.sentence_structure(random_topic))\n",
    "\n",
    "    # Short Passage Read Task\n",
    "    handler = ExamTaskHandler()\n",
    "    print(handler.short_passage_read(random_topic))\n",
    "    #\n",
    "    # # Midsize Passage Read Task\n",
    "    # handler = ExamTaskHandler()\n",
    "    # print(handler.midsize_passage_read(random_word))\n",
    "    #\n",
    "    # # Long Passage Read Task\n",
    "    # handler = ExamTaskHandler()\n",
    "    # print(handler.long_passage_read(random_word))\n",
    "\n",
    "    # Info Retrieval Task\n",
    "    # handler = ExamTaskHandler()\n",
    "    # print(handler.info_retrieval(random_word))\n",
    "\n",
    "    # # Topic Understanding Task\n",
    "    # handler = ExamTaskHandler()\n",
    "    # print(handler.topic_understanding(random_word))\n",
    "    #\n",
    "    # # Keypoint Understanding Task\n",
    "    # handler = ExamTaskHandler()\n",
    "    # print(handler.keypoint_understanding(random_word))\n",
    "    #\n",
    "    # # Summary Understanding Task\n",
    "    # handler = ExamTaskHandler()\n",
    "    # print(handler.summary_understanding(random_word))\n",
    "    #\n",
    "    # # Active Expression Task\n",
    "    # handler = ExamTaskHandler()\n",
    "    # print(handler.active_expression(random_word))\n",
    "    #\n",
    "    # # Immediate Ack Task\n",
    "    # handler = ExamTaskHandler()\n",
    "    # print(handler.immediate_ack(random_word))"
   ],
   "metadata": {
    "collapsed": false,
    "ExecuteTime": {
     "end_time": "2025-06-09T14:20:44.517566400Z",
     "start_time": "2025-06-09T14:20:22.686080100Z"
    }
   },
   "id": "986a814be6a92dbb"
  },
  {
   "cell_type": "code",
   "execution_count": 2,
   "outputs": [],
   "source": [],
   "metadata": {
    "collapsed": false,
    "ExecuteTime": {
     "end_time": "2025-06-09T14:20:44.517566400Z",
     "start_time": "2025-06-09T14:20:44.515531700Z"
    }
   },
   "id": "dda8922b21b90e2c"
  }
 ],
 "metadata": {
  "kernelspec": {
   "display_name": "Python 3",
   "language": "python",
   "name": "python3"
  },
  "language_info": {
   "codemirror_mode": {
    "name": "ipython",
    "version": 2
   },
   "file_extension": ".py",
   "mimetype": "text/x-python",
   "name": "python",
   "nbconvert_exporter": "python",
   "pygments_lexer": "ipython2",
   "version": "2.7.6"
  }
 },
 "nbformat": 4,
 "nbformat_minor": 5
}
