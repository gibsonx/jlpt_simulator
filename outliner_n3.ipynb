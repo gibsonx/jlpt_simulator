{
 "cells": [
  {
   "cell_type": "markdown",
   "id": "f94c1f8ee4d0b085",
   "metadata": {
    "colab_type": "text",
    "id": "view-in-github"
   },
   "source": [
    "<a href=\"https://colab.research.google.com/github/gibsonx/jlpt_simulator/blob/dev/graphs/n3/outliner.ipynb\" target=\"_parent\"><img src=\"https://colab.research.google.com/assets/colab-badge.svg\" alt=\"Open In Colab\"/></a>"
   ]
  },
  {
   "cell_type": "code",
   "execution_count": 19,
   "id": "712d86d2ae0847a0",
   "metadata": {
    "colab": {
     "base_uri": "https://localhost:8080/"
    },
    "id": "712d86d2ae0847a0",
    "outputId": "0b69e343-ba35-4773-acca-92da0492bdba",
    "ExecuteTime": {
     "end_time": "2025-05-28T14:07:42.092265900Z",
     "start_time": "2025-05-28T14:07:42.059528700Z"
    }
   },
   "outputs": [
    {
     "name": "stdout",
     "output_type": "stream",
     "text": [
      "Not running on CoLab\n"
     ]
    }
   ],
   "source": [
    "if 'google.colab' in str(get_ipython()):\n",
    "    !git clone https://github.com/gibsonx/jlpt_simulator.git\n",
    "    %cd jlpt_simulator\n",
    "    !git checkout dev\n",
    "    \n",
    "    !apt-get install python3-dev graphviz libgraphviz-dev pkg-config\n",
    "    !pip install -r requirements.txt\n",
    "else:\n",
    "  print('Not running on CoLab')\n"
   ]
  },
  {
   "cell_type": "code",
   "execution_count": 20,
   "id": "7f526a68a7e73a65",
   "metadata": {
    "colab": {
     "base_uri": "https://localhost:8080/"
    },
    "id": "7f526a68a7e73a65",
    "outputId": "e3e7c3a2-bde6-4f65-cf4c-8ddd97998d8f",
    "ExecuteTime": {
     "end_time": "2025-05-28T14:07:42.112790200Z",
     "start_time": "2025-05-28T14:07:42.063037100Z"
    }
   },
   "outputs": [
    {
     "data": {
      "text/plain": "True"
     },
     "execution_count": 20,
     "metadata": {},
     "output_type": "execute_result"
    }
   ],
   "source": [
    "import json\n",
    "import logging\n",
    "import random\n",
    "import time\n",
    "from spire.doc import *\n",
    "from spire.doc.common import *\n",
    "import pandas as pd\n",
    "import yaml\n",
    "from tqdm import tqdm\n",
    "\n",
    "# from langchain_community.embeddings import XinferenceEmbeddings\n",
    "from libs.LLMs import *\n",
    "import datetime\n",
    "logging.basicConfig(level=logging.INFO, format='%(asctime)s - %(levelname)s - %(message)s')\n",
    "\n",
    "from graphs.n3.ExamTaskHandler import ExamTaskHandler\n",
    "load_dotenv()"
   ]
  },
  {
   "cell_type": "code",
   "outputs": [],
   "source": [
    "def collect_vocabulary(file_path):\n",
    "    # Read the CSV file\n",
    "    data = pd.read_csv(file_path)\n",
    "    # Shuffle the rows and reset the index\n",
    "    words = data.iloc[:, :2].sample(frac=1).reset_index(drop=True)\n",
    "    # Extract the second column (values) and convert to a single-line string\n",
    "    vocab_string = ','.join(words.iloc[:, 1].astype(str).tolist())\n",
    "    return vocab_string"
   ],
   "metadata": {
    "collapsed": false,
    "ExecuteTime": {
     "end_time": "2025-05-28T14:07:42.113789400Z",
     "start_time": "2025-05-28T14:07:42.071325300Z"
    }
   },
   "id": "d159b3254277b376",
   "execution_count": 21
  },
  {
   "cell_type": "code",
   "execution_count": 22,
   "id": "initial_id",
   "metadata": {
    "id": "initial_id",
    "ExecuteTime": {
     "end_time": "2025-05-28T14:07:42.142983800Z",
     "start_time": "2025-05-28T14:07:42.076760500Z"
    }
   },
   "outputs": [],
   "source": [
    "# Import N3 Vocabulary\n",
    "file_path = 'Vocab/n3.csv'\n",
    "# Display the content of the CSV file\n",
    "vocab_dict = collect_vocabulary(file_path)\n",
    "with open(\"Vocab/topics.txt\", \"r\", encoding=\"utf-8\") as file:\n",
    "    topics_list = [line.strip() for line in file]"
   ]
  },
  {
   "cell_type": "code",
   "outputs": [
    {
     "data": {
      "text/plain": "'れいせい,めいじん,しまい,えいせい,ひとごみ,くわえる,しかく,ある,むす,どく,じんぶつ,みおくり,わん,れつ,はあ (かん),がか,さます,ひょうばん,こうかい,もうふ,たんじゅん,つうしん,せつび,よ,そう,ろうじん,さいちゅう,かる,かんかく,いち,しんゆう,こんなん,きゅうりょう,きゅうに,こぜに,しょもつ,しょくりょう,し,きょだい,ふじん,とおす,さす,しゅうせい,どうよう,だいり,かいてき,さいしゅう,あるいは,うばう,まる,ただ,いき,はで,まもる,のち,たいくつ,だく,かんがえ,さくら,こうけん,であう,じゅうたく,うけとる,まご,ふり,かわ,こと,かさい,ふく,へいきん,ぜんしゃ,ひてい,かたい,つたわる,かつどう,がくもん,どりょく,ころぶ,れんそう,せいしつ,けんとう,わる,ほんにん,りゅうがく,はったつ,きんえん,ひろげる,もえる,たび,こす,そう,だます,かんじる,ごみ,りく,あん,ば,あたたかい,いっち,えさ,すすめる,せいこう,やちん,こうふん,ほうほう,ものおと,あらわす,びじん,いちじ,とう,とける,かなり,であい,じつげん,しよう,ゆずる,とびだす,やく,のせる,きれる,なにか,こうはい,およぼす,つい,いぜん,とうよう,はたけ,しょうがい,げんしょう,こうか,ちょうせん,のうりょく,どくしょ,くやしい,くろう,さかり,ふしぎ,さける,かね,きみょう,ちる,ぶんめい,あらわす,かく,つめる,え,きげん,ゆう,みょう,ねがう,らく,いっか,む,いじ,かく,いし,てってい,そう,たたく,つもる,せいぜい,いいん,かならずしも,しんり,たま,しゅうい,わかれ,めいわく,かさなる,つれ,れいがい,せきたん,つぎつぎ,ことわる,けっか,あぶら,なんでも,びん,がいこう,しょく,とら,あたえる,そそぐ,とたん,びみょう,しゅう,まく,さんか,もちいる,うわさ,けっかん,しきゅう,てんこう,いのち,ゆかい,あな,こうへい,たいせん,じまん,さいばん,しょうじき,みとめる,ばいう,ぐん,だいぶぶん,おそれる,しばい,こっせつ,いっぽう,かっき,まぜる,いね,きょうじゅ,ひこう,きょうりょく,こおる,ながめ,せいり,しゅっしん,ちゅうしょく,おめにかかる,かくにん,おまえ,そだつ,ふるえる,あらわす,かぞえる,ちゅう,どうとく,きく,せいぶつ,くみ,ながめる,きん,とち,ねったい,よそう,なまける,げんば,かかり,ぶき,ふこう,じょう,さそう,ばくだい,なんで,きし,いじわる,だん,かたる,えがお,きり,むりょう,ためす,おさめる,い,てつや,しょくぶつ,こす,ちゅうもん,じょうきゃく,さっか,まじる,みごと,ぎゃく,はんせい,きょうかしょ,いかり,てじな,デモ,おしゃれ,よわめる,つとめ,さんそ,えいえん,せい,ちきゅう,きほん,いりょう,えん,ただちに,ほり,かわ,しばふ,ふやす,しゅと,しだい,ぶっか,きんちょう,よき,ならす,げんだい,よわまる,げんしょう,はなす,おんだん,いわい,げきじょう,たに,しょくりょう,へる,ひげき,いたみ,なかま,すむ,かたな,た,かんこう,つかれ,たった,しぼう,いき,かてい,きちょう,せいめい,おくれ,おそわる,かん,しょうひん,ちしき,とう,さくもつ,にっちゅう,ぎちょう,すくう,ようき,しょくひん,はん,きんし,しょうたい,ごく,さっきょく,かんぜん,よい,かんそう,こうくう,きんぞく,えんき,しな,なっとく,かんそう,よる,たいはん,つとめ,ふくむ,ひも,さぎょう,ぎし,けむり,はっしゃ,きおん,しぼう,とかい,ただ,せいせき,ふまん,そうおん,しょうしょう,なみだ,はかせ,するどい,かた,しょう,かかく,ようそ,かこ,ごかい,はん,しょうりゃく,わける,のぼる,たいおん,さく,きかい,しゅうきょう,ぐん,いしき,いためる,いちどに,のぞみ,しめる,のばす,そなえる,みょうごにち,くむ,りゅうこう,ぜん,しょくぎょう,しょう,このむ,けいき,たく,とつぜん,けんちく,する,かいし,こづつみ,ぬける,まねく,うらぎる,じゅん,のる,ちりょう,ふか,こうせい,まね,まく,だいひょう,つぐ,たたかい,こむぎ,ぬらす,きょうちょう,えがく,す,しょうねん,のき,かえす,こえる,げんきん,あいじょう,まざる,ゆうき,とも,こじん,ぬく,はんこう,こや,くべつ,きかい,ちゅうおう,げいじゅつ,おおう,はい,いらい,さいわい,つく,しかく,つうか,ためし,さかい,とも,しんこう,たとえ,ぬの,かんせい,たい,たしょう,ふそく,いわば,はか,めし,もと,のべる,つきあう,すぐれる,やぶる,よう,ご,じょうし,けいさん,せんたく,かしゅ,よさん,たんに,ぶつり,にゅうじょう,わく,する,こい,おひる,けいえい,うっかり,りえき,くみあい,はっぴょう,ようきゅう,ほり,よろこび,たく,よなか,おしえ,ちほう,せいかく,そうち,ごがく,むかい,こきゅう,なかみ,こううん,こうさい,さんせい,やぶれる,しゅうちゅう,へんこう,やく,ひ,ゆでる,たつ,じどう,ほこり,かたがた,いまに,あてる,こくもつ,いきおい,わん,あかり,こうかん,せいり,すえ,はんにん,ねんげつ,えいよう,さんせい,すいせん,ほうふ,ちょうし,もちあげる,ちいき,めいし,とく,ふし,かい,ひづけ,うちゅう,こい,きづく,すすめる,しょうぼう,そうぞう,しんぱん,かんする,おろす,のびる,とうさん,きみ,きずく,てま,ゆたか,たよる,しほん,してん,おか,きおく,やくわり,とける,のこす,しぜん,せい,もうしわけ,そくど,はなす,むしろ,ねんかん,たば,さめる,あてる,ぶんせき,じみ,ほほえむ,しんちょう,のせる,すがた,かよう,ばめん,せいき,すいせん,ふり,けんせつ,はり,ねがい,きり,にち,ふれる,たて,いためる,はいゆう,がく,きゅうりょう,きょうぎ,さいてい,しらせ,ね,かんげい,つねに,ふんいき,たたかう,しりあい,ちのう,お,ながれる,ぎむ,さいのう,さける,こうば,たい,ひざ,のこり,きゅう,しゅふ,たいほ,かんさつ,たより,おさめる,てつだい,りょう,ちこく,かんれん,よほう,けいこく,しゅうかく,かんせい,ぜんいん,ぶん,おこる,くだ,むく,しょうじょ,きょうふ,けい,じたい,かご,しげん,てきど,しつぼう,よゆう,ものがたり,てんこう,せいしん,うし,おえる,およぎ,しょさい,のんびり,さく,あたためる,せんこう,ひろがる,もとづく,しつぎょう,そば,りつ,ぶ,かた,なくす,かせぐ,ほこり,しきゅう,まぜる,こうか,きげん,ひとりひとり,かえる,じょうたい,げんかい,せめる,かみ,ねんじゅう,ひょうげん,たいど,まっか,ける,あき,れい,わるくち,ぜいたく,もどす,さる,あきらか,みやげ,かんりょう,かえる,きたい,にがて,ようき,せいこう,ほんもの,せいじん,きかん,じょうけん,しょうご,てつ,ちょうじょう,ねっちゅう,まるで,すれちがう,おん,すでに,ぜい,そまつ,せんざい,ひっこし,まなぶ,げんじょう,する,はたらき,いずみ,むかえ,ころす,かなしむ,しはい,ぎん,うごかす,じょじょに,あんがい,まる,い,なか,おしゃべり,とくちょう,か,ねんだい,かわかす,くるう,けいたい,じょし,すうじ,つく,ぶっしつ,やとう,ほぞん,ほうこく,ぜったい,はげしい,かいごう,しゅちょう,たいじゅう,かぶ,とうちゃく,ぎもん,せんじつ,ぜいきん,つむ,はやす,しるし,つむ,ふあん,はってん,いじょう,はね,わた,かじ,かてい,かん,せつ,はつめい,ふくろ,やとう,あせ,ゆか,すじ,ていりゅうじょ,いっそう,かいが,ならす,ひょうめん,ぜつめつ,じつりょく,あたる,のうみん,じこ,オフィス,とれる,きのどく,ふうけい,せきにん,むし,きゅうしゅう,ないよう,びょう,しょうめい,けいじ,ゆうしゅう,ちょしゃ,じゅうたい,てきせつ,くう,じつに,いんよう,しんがく,おとる,そうじゅう,さつ,こんやく,センター,かける,しんり,さべつ,がくれき,ず,ほどう,み,けっせき,どうし,しゅしょう,めったに,どく,おき,おぼれる,おう,まさに,たいりく,ちがい,みやこ,ひこう,しはらう,かだい,そろう,さまざま,めんせつ,ご,ほね,なま,つかまる,ひょうか,じんるい,れい,し,ずつう,うつ,さんか,くるしい,ち,かくじつ,かしこい,さす,うる,でんし,ぐたい,おおいに,かぎる,だいじん,そうさ,なれる,おもわず,きゅう,ようじん,かんじ,かてい,ていき,しつ,うらやましい,ふたご,おろす,もんく,いねむり,きたい,もやす,あんき,しゅうり,こうしゃ,くわわる,とく,いとこ,くむ,ぜんこく,せいねん,ざいさん,じかに,はんだん,よぼう,たいしょう,やくす,つり,へらす,くつう,きんし,くらし,ぶ,しずむ,ふたたび,かんきょう,いっしゅ,はくしゅ,せいねんがっぴ,きんこ,さく,ごうけい,つばさ,すませる,たつ,せいねん,きまり,しじん,しょうひ,ちえ,がら,しょうめい,じゅうみん,てきよう,こうしゃ,ねずみ,せめる,たすかる,ぐうぜん,ぜんしん,み,おじぎ,かさねる,おくる,しょうばい,じょうきょう,した,ゆうびん,め,ちゅうしゃ,はっしゃ,きぼう,すみ,こじん,かみのけ,めんきょ,あちこち,くさり,あく,ふかめる,ばか,うつす,おうだん,ふせい,だんたい,きふ,ぼう,たいする,まつ,くわえる,どうりょう,いた,あずける,なべ,ていど,たかめる,きゅうじょ,たんい,どうし,わらい,こくみん,めいかく,あずかる,きろく,えん,なぞ,しよう,しも,めいれい,がくしゅう,せいけつ,ながれ,つかむ,ふうふ,じょうほう,だいきん,かわる,わん,しょめい,けんとう,じゅよう,あきらめる,まつ,はかる,うんてん,やど,がい,ごく,まつり,いんしょう,せきゆ,こうかい,ひじょう,せい,しょり,いっしゅん,せいかく,そうとう,つぐ,けいたい,ごうか,しょうにん,てつどう,きんだい,まかせる,じこく,ぶじ,がいしゅつ,ふじん,きかん,はぶく,かんじょう,しゅうしょく,りそう,じょう,あいする,ことわざ,けいい,たんなる,よのなか,ひやす,せいき,ゆうじょう,あら,えいきょう,ばったり,あらし,がくしゃ,おる,きにいる,ひっし,さらに,いいん,つうきん,にっこう,さいしゅう,こうふく,ぎいん,こんらん,ばっする,はんばい,ちがいない,かいけつ,さく,さんこう,あわてる,がまん,ゆうき,あげる,つながる,しつど,まけ,じんしゅ,また,ふで,ぜん,ざせき,ろんじる,たまたま,まちがい,ともに,こんかい,しんこう,あやまり,じっし,しゃっきん,よあけ,いし,はば,ありがとう,かげ,ほとけ,かわいそう,もとめる,たんとう,なみ,しんこう,なかみ,くりかえす,せいちょう,しんけん,おもいで,かんじょう,はね,しょうじょう,たま,ふへい,うさぎ,わずか,うつる,てき,ろうどう,こうか,そんがい,ぶぶん,あわれ,けつろん,はた,のうか,はなれる,のぞく,まく,きかん,うしなう,ゆうこう,かんじゃ,じっさい,ようてん,ね,ほか,かみなり,しゅっぱん,いとこ,しんよう,なみ,しょうにん,じさつ,かず,じょうたつ,しよう,おんど,く,つみ,しゅうにゅう,きらう,ぜんたい,ねんかん,か,こくご,じゅうたい,ちゅうがく,かける,ひかく,りこう,どくとく,かぐ,あい,てんけい,ふ,よごす,かんりょう,ちちおや,とうじ,けん,きんゆう,ごうとう,たく,へる,じつは,めうえ,こっか,きゅうそく,ひろまる,えいきゅう,とざん,じゅんばん,あつかう,なわ,かみ,ちゅうもく,にぎる,いったい,しんたい,ます,きたく,ちらす,よす,ね,はし,ぐん,こくばん,かんどう,じゅうし,ひろめる,そろえる,さす,としょ,ほしょう,いだい,はやる,きゅうげき,かける,きょうきゅう,さら,きゅう,わかれる,たにん,いらい,あいかわらず,もじ,ゆるす,ちい,ていでん,のぞむ,じゅうよう,げき,くだる,うつる,だんし,ゆいいつ,いわう,ものごと,ぜんしん,じどう,ゆうじん,せいぞう,ししゅつ,にちじょう,あんてい,すべて,じき,ぶん,つづき,きょうちょう,うわ,から,けいき,くん,いりょう,もと,うったえる,とりあげる,けいい,みまい,から,かつやく,ゆうしょう,つく,でんとう,す,かんり,かんしん,せけん,おく,けっかん,のびる,ていしゅつ,うたがう,ぞうか,せんこう,しそう,ほしょう,ぶ,しゅるい,うまれ,はっこう,まざる,ひたい,かざり,かく,がっき,むだ,みかた,あと,こうえん,おいつく,はんい,がっき,かおり,ちゅうこ,せいど,あわ,であい,いき,ここ,つうじる,けつえき,こっかい,とめる,はだ,せいきゅう,すいじゅん,しげき,こえる,むしあつい,ふつう,かみ,こいびと,しんせん,しあわせ,さくひん,かえる,しろ,かし,たいき,むく,ようび,もうしこむ,とめる,へんか,なる,ひひょう,みちる,じたい,こんご,ささえる,かわく,さ,ざいりょう,かち,もと,ははおや,いどう,きげん,いんたい,はなしあう,けいじ,いきもの,い,わだい,めいし,おに,さく,こっきょう,じっこう,こうほ,ふる,いし,けん,きにゅう,くむ,げんご,しゅんかん,ひとしい,おさない,かこむ,かげ,おどろき,このみ,しゅうしょく,したがう,じき,けいゆ,したしい,よぶん,たたむ,きゅうそく,たまる,びん,こおり,いや,ほうせき,ちょうき,せっきょくてき,さほう,こうこく,しょう,そうぞう,できごと,うお,たいかい,のばす,ためる,さけぶ,はかる,あう,ことなる,いんさつ,ゆき,まさか,あらそう,とう,いぜん,ていあん,すごす,ろんそう,かぐ,じき,けってい,ぐんたい,けってん,うむ,みつ,か,たび,あくま,かいいん,たいしょう,つきあい,やっかい,かかる,だい,さけ,とうひょう,いったい,おさえる,おせん,の,けっしん,ゆうのう,さいこう,みらい,じょしゅ,たっする,たがい,さい,まく,かち,つける,ぎかい,まんぞく,ゆうり,まよう,かんしゃ,そう,そなえる,ゆうこう,こうえん,りょうきん,どうし,たかまる,じじょう,かく,たしかめる,せいめい,おたがい,だい,はら,つぐ,おそらく,こうけい,つよまる,どくりつ,よそく,ほう,はえる,せっけい,ふだん,しめる,かり,しきりに,どくしん,せい,きねん,そんけい,かつよう,あくしゅ,じょうきょう,へいわ,かり,さす,ジェットき,おさめる,かいふく,げんざい,けん,ちじ,しんぽ,おん,たね,なん,はくぶつかん,きこう,みかける,りかい,じゅんちょう,きず,つゆ,けんかい,みりょく,おうさま,はん,しゅよう,にあう,そんちょう,へい,しょうがくきん,うなる,しゅうだん,むちゅう,しょうとつ,すう,どうよう,はさん,きん,けいき,こし,どうよう,こうふく,もっとも,いちば,つち,むすぶ,こな,かう,あらわれ,わく,ほんと,しんせき,じょし,すむ,ひはん,としより,しかく,わ,むね,しんちょう,たいし,しはらい,しんぞう,ふくそう,あらた,やめる,きかん,ぞう,いじ,さめる,そうぞく,せいさん,ひっぱる,はだか,きじ,おうじる,うれる,ひ,おもいつく,しも,かんこう,しんらい,いはん,とく,ほう,あいて,きょうどう,なんとか,しめす,せいしき,かん,ぜん,めんどう,どうか,とい,ほしょう,しゅう,してん,かぶる,なやむ,きょうりょく,こくせき,ほほ,いだく,きぎょう,じょうしき,しょうひん,れいぎ,た,かわいらしい,おだやか,うん,つぐ,はく,とばす,きんがく,ちょうさ,さゆう,めん,しんさつ,じんこう,たんじょう,つなげる,あらわれる,しり,さる,わき,のぞく,あげる,けんさ,く,うむ,どろ,げ,もくひょう,きょうじゅ,いわ,きょうぎ,ぶつ,まち,じじつ,かたづけ,ささる,くれ,いち,じょし,ふくめる,びょうどう,せいげん,もくてき,たちば,うめる,あらゆる,どうろ,ぎろん,きゅうか,かわ,のぼる,とうあん,けい,ひょうじょう,しょくもつ,けんり,つける,ほうそう,りこん,あたり,くんれん,がん,えんじょ,まずしい,ふえ,もの,きょうつう,そんざい,だまる,けいこう,しんこう,まったく,きのう,たいがく,とじる,あわせる,たいした,かくれる,じょうだん,とおりすぎる,なぐる,りょうがえ,うまる,としつき,しゅう,なかば,かんとく,せいちょう,めん,しゅぎ,とどく,ひがい,こうはい,べつに,かげん,こうりょ,せいひん,はかる,すこしも,たちあがる,おうえん,きじ,ほうもん,こくふく,おう,ふかまる,ぼうけん,かもく,よみ,やね,たび,しっけ,つつみ,ほご,じけん,なる,てきする,うつ,だいとうりょう,じき,かいしゃく,かんかく,まく,ねんれい,たいよう,ようす,ちょきん,ちかごろ,かいがい,いたる,きしゃ,おそろしい,てんねん,どういつ,ぜん,にんげん,おろす,もよう,しょくよく,つなぐ,ほお,じょうとう,ちく,ながす,さばく,せい,だいめい,しき,もんじ,つらい,くわしい,じんせい,ほぼ,きんせん,かえる,かくす,きこう,みる,おもに,すいみん,ついに,こうげき,はんざい,ぎょうぎ,はいたつ,こうせい,けっこう,しんこく,にんき,かん,けいやく,すみ,そこ,あつまり,むしば,のう,ちゅう,たんご,しどう,ごうかく,のう,のうぎょう,たおす,せつ,よめ,にえる,そしき,ちへいせん,ひみつ,くるしむ,えんそう,しょるい,し,せつやく,かくだい,おとなしい,くせ,えんぜつ,でんごん,かく,われわれ,しょうじる,しぼう,くだり,こんにち,ひよう,たま,いっしょう,けしょう,くらす,かく,あたたまる,たまらない,ほのお,じゅう,うめ,そで,つうがく,いどう,かいぜん,しんけい,はかる,じゅう,よせる,うま,せんでん,ほうこう,さます,ぶんや,せいふ,こんざつ,さばく,ほうぼう,おうじ,ふく,よ,ばくはつ,ほえる,ちゅうしん,かし,きれ,かいけい,いまにも,とくちょう,くさい,かかえる,しき,ならす,こうそく,な,うず,あたりまえ,あいず,あたたまる,つうか,いふく,たつ,かね,あきる,ふやす,ようするに,あたり,かたい,ふじゆう,きよう,つうこう,しんじる,たいざい,しんごう,おめでとう,かんしん,かのう,あぶら,くさる,ていこう,あける,とくい,いま,がく,よん,にる,かんきゃく,れんぞく,れっしゃ,くらい,きょか,べんとう,なし,はい,ようい,むける,てつがく,まめ,きんにく,える,しょくたく,きゅうけい,ぞう,じしん,で,しゅだん,じょゆう,せいめい,ちゅうし,こうそく,しょうがい,はなれる,ぶたい,さからう,きせい,たから,ある,つうやく,ちゃ,ちか,ひん,じゅうだい,まじる,はっけん,いっぱん,りょう,しゅつじょう,えいぎょう,しゅじゅつ,しんこく,せき,とうぜん,きょく,おおや,えんぎ,はら,まえもって,かんこう,じっけん,たいら,とし,そうさ,おい,こうどう,けっきょく,つゆ,とう,さす,とじる,つよめる,げんじつ,そん,ひょう,ろんぶん,ひとこと,おう,ひとり,かがく,たすける,ふせぐ,せんきょ,どうじ,こしょう,けんこう,ふち,かがやく,やく,めいじる,おび,たま,こきょう,めくる,はかる,ちょくせつ,のぞむ,おとこのひと,じょおう,あたためる,かたづく,ひょう,らい～,まんいち,かくご,はく,しゅくはく,いがい,はじまり,よこぎる,せんしゅ,たいいく,はい,けんぽう,せんこう'"
     },
     "execution_count": 23,
     "metadata": {},
     "output_type": "execute_result"
    }
   ],
   "source": [
    "vocab_dict"
   ],
   "metadata": {
    "collapsed": false,
    "ExecuteTime": {
     "end_time": "2025-05-28T14:07:42.144016800Z",
     "start_time": "2025-05-28T14:07:42.093266700Z"
    }
   },
   "id": "b8190757154161de",
   "execution_count": 23
  },
  {
   "cell_type": "markdown",
   "id": "4c1cdce8b1f57ef3",
   "metadata": {
    "collapsed": false,
    "id": "4c1cdce8b1f57ef3"
   },
   "source": [
    "#### load Models"
   ]
  },
  {
   "cell_type": "code",
   "outputs": [],
   "source": [
    "from typing import List, Optional\n",
    "\n",
    "from langchain_core.prompts import ChatPromptTemplate\n",
    "\n",
    "from pydantic import BaseModel, Field\n",
    "\n",
    "# instruction = \"\"\"\n",
    "# Section 1: Vocabulary and Grammar\n",
    "# - Kanji reading (kanji_reading): 8 questions\n",
    "# - Write Chinese characters (write_chinese): 6 questions\n",
    "# - Word Meaning Selection (word_meaning): 11 questions\n",
    "# - Synonyms substitution (synonym_substitution): 5 questions\n",
    "# - word usage (word_usage): 5 questions\n",
    "# - Grammar fill in the blank (sentence_grammar): 13 questions\n",
    "# - Sentence sorting (sentence_sort): 5 questions\n",
    "# - Grammar structure selection (sentence_structure): 4-5 questions\n",
    "#\n",
    "# Section 2: Reading Comprehension\n",
    "# - Short passages (short_passage_read): 4 articles\n",
    "# - Mid-size passages (midsize_passage_read): 2 articles\n",
    "# - Long passages (long_passage_read): 1 articles\n",
    "# - Information retrieval (info_retrieval): 1 articles\n",
    "#\n",
    "# Section 3: Listening Comprehension\n",
    "# - Topic understanding (topic_understanding): 6 questions\n",
    "# - Key understanding (keypoint_understanding): 6 questions\n",
    "# - Summary understanding (summary_understanding): 3 questions\n",
    "# - Active expression (active_expression): 4 questions\n",
    "# - Immediate acknowledgment (immediate_ack): 9 questions\n",
    "# \"\"\"\n",
    "\n",
    "instruction = \"\"\"\n",
    "Section 1: Vocabulary and Grammar\n",
    "- のことばの読み方として最もよいものを、1・2・3・4から一つえらびなさい (kanji_reading): 8 questions\n",
    "- このことばを漢字で書くとき、最もよいものを、１・２・３・４から一つえらびなさい (write_chinese): 6 questions\n",
    "\n",
    "Section 2: Reading Comprehension\n",
    "- Information retrieval (info_retrieval): 0 articles\n",
    "\n",
    "Section 3: Listening Comprehension\n",
    "- Topic understanding (topic_understanding): 0 questions\n",
    "\n",
    "\"\"\"\n",
    "\n",
    "\n",
    "direct_gen_outline_prompt = ChatPromptTemplate.from_messages(\n",
    "    [\n",
    "        (\n",
    "            \"system\",\n",
    "            f\"You are a japanese teacher. Your job is to write an outline for a JLPT Japanese-Language Proficiency Test N3 level exam paper. The words in outline must be presented in Japanese only. The complexity should be restricted to N3 level and respect japanese culture. The JLPT Japanese-Language Proficiency Test exam paper includes a mix of moderate and very difficult questions to accurately assess the test-taker's proficiency across different aspects of the language.\"\n",
    "            f\"First, evenly pick Japanese words used in different part of sentence from 'Vocabulary' for questions in Vocabulary and Grammar, ensuring 40 percent of very difficult words. At Section 2 and 3, randomly choose topics in 'TopicList' for Reading Comprehension and Listening Comprehension Sections, don't repeat to choose a same word or topic\"\n",
    "            f\"Second, you should abide by the provided exam instruction and decide the number of questions and content in the each Section.\"\n",
    "            f\"Finally, write the outline of the examination paper in japanese and provide question topics according to the instructions.\"\n",
    "            f\"Instruction: {instruction}\",\n",
    "        ),\n",
    "        (\"user\", \"TopicList: {topic_list}, Vocabulary: {vocab_dict}\"),\n",
    "    ]\n",
    ")\n"
   ],
   "metadata": {
    "collapsed": false,
    "ExecuteTime": {
     "end_time": "2025-05-28T14:07:42.144016800Z",
     "start_time": "2025-05-28T14:07:42.096569800Z"
    }
   },
   "id": "e339295a858fb5f8",
   "execution_count": 24
  },
  {
   "cell_type": "markdown",
   "id": "fed5f032dadafac1",
   "metadata": {
    "collapsed": false,
    "id": "fed5f032dadafac1"
   },
   "source": [
    "## Data Strcuture"
   ]
  },
  {
   "cell_type": "code",
   "execution_count": 25,
   "id": "39329a71b16d2400",
   "metadata": {
    "id": "39329a71b16d2400",
    "ExecuteTime": {
     "end_time": "2025-05-28T14:07:42.145576600Z",
     "start_time": "2025-05-28T14:07:42.106790100Z"
    }
   },
   "outputs": [],
   "source": [
    "class QuestionTopic(BaseModel):\n",
    "    topic: str = Field(..., title=\"a vocabulary or topic hint for a question\")\n",
    "\n",
    "\n",
    "class Subsection(BaseModel):\n",
    "    subsection_title: str = Field(..., title=\"subsection English word in () only from the instruction\")\n",
    "    description: str = Field(..., title=\"giving the number of questions and requirements\")\n",
    "    question_topics: Optional[List[QuestionTopic]] = Field(\n",
    "        default_factory=list\n",
    "    )\n",
    "\n",
    "    @property\n",
    "    def as_str(self) -> str:\n",
    "        question_topics_str = \"\\n\".join(\n",
    "            f\"- **{qt.topic}**\" for qt in self.question_topics\n",
    "        )\n",
    "        return f\"### {self.subsection_title}\\n\\n{self.description}\\n\\n{question_topics_str}\".strip()\n",
    "\n",
    "class Section(BaseModel):\n",
    "    section_title: str = Field(..., title=\"Title of the section\")\n",
    "    subsections: Optional[List[Subsection]] = Field(\n",
    "        default_factory=list,\n",
    "        title=\"Titles and reason for each subsection of the JLPT exam page.\",\n",
    "    )\n",
    "\n",
    "    @property\n",
    "    def as_str(self) -> str:\n",
    "        subsections = \"\\n\\n\".join(\n",
    "            subsection.as_str for subsection in self.subsections or []\n",
    "        )\n",
    "        return f\"## {self.section_title}\\n\\n{subsections}\".strip()\n",
    "\n",
    "\n",
    "class Outline(BaseModel):\n",
    "    page_title: str = Field(..., title=\"Title of the JLPT exam page\")\n",
    "    sections: List[Section] = Field(\n",
    "        default_factory=list,\n",
    "        title=\"Titles and descriptions for each section of the JLPT exam paper.\",\n",
    "    )\n",
    "\n",
    "    @property\n",
    "    def as_str(self) -> str:\n",
    "        sections = \"\\n\\n\".join(section.as_str for section in self.sections)\n",
    "        return f\"# {self.page_title}\\n\\n{sections}\".strip()\n"
   ]
  },
  {
   "cell_type": "code",
   "execution_count": 26,
   "id": "d0730de416980c6",
   "metadata": {
    "id": "d0730de416980c6",
    "ExecuteTime": {
     "end_time": "2025-05-28T14:07:42.145576600Z",
     "start_time": "2025-05-28T14:07:42.120163700Z"
    }
   },
   "outputs": [],
   "source": [
    "# Read the topics from a file, sort them, and print the sorted list\n",
    "def process_topics(file_path):\n",
    "    try:\n",
    "        # Read the file\n",
    "        with open(file_path, 'r', encoding='utf-8') as file:\n",
    "            topics = file.readlines()\n",
    "\n",
    "        # Remove any extra whitespace or newline characters\n",
    "        topics = [topic.strip() for topic in topics if topic.strip()]\n",
    "\n",
    "        # Shuffle the topics randomly\n",
    "        random.shuffle(topics)\n",
    "\n",
    "    except FileNotFoundError:\n",
    "        print(\"The file was not found. Please check the file path.\")\n",
    "    except Exception as e:\n",
    "        print(\"An error occurred:\", str(e))\n",
    "\n",
    "    except FileNotFoundError:\n",
    "        print(\"The file was not found. Please check the file path.\")\n",
    "    except Exception as e:\n",
    "        print(\"An error occurred:\", str(e))"
   ]
  },
  {
   "cell_type": "code",
   "execution_count": 27,
   "id": "8fc17fee14c40716",
   "metadata": {
    "id": "8fc17fee14c40716",
    "ExecuteTime": {
     "end_time": "2025-05-28T14:07:47.745655400Z",
     "start_time": "2025-05-28T14:07:42.126764700Z"
    }
   },
   "outputs": [
    {
     "name": "stderr",
     "output_type": "stream",
     "text": [
      "2025-05-28 22:07:47,728 - INFO - HTTP Request: POST https://ai-rolandaws880125ai409947751408.openai.azure.com/openai/deployments/gpt-4.1/chat/completions?api-version=2025-01-01-preview \"HTTP/1.1 200 OK\"\n"
     ]
    }
   ],
   "source": [
    "# Preload all topics from the file\n",
    "with open(\"Vocab/topics.txt\", \"r\", encoding=\"utf-8\") as file:\n",
    "    topics_list = [line.strip() for line in file]\n",
    "\n",
    "generate_outline_direct = direct_gen_outline_prompt | azure_llm.with_structured_output(Outline)\n",
    "initial_outline = generate_outline_direct.invoke({\"topic_list\": topics_list, \"vocab_dict\": vocab_dict})"
   ]
  },
  {
   "cell_type": "code",
   "execution_count": 28,
   "id": "d53b7d9ff86a5377",
   "metadata": {
    "colab": {
     "base_uri": "https://localhost:8080/",
     "height": 1000
    },
    "id": "d53b7d9ff86a5377",
    "outputId": "0e4ce018-377a-48d5-9b87-bed3eac897ac",
    "ExecuteTime": {
     "end_time": "2025-05-28T14:07:47.753936200Z",
     "start_time": "2025-05-28T14:07:47.746654600Z"
    }
   },
   "outputs": [
    {
     "data": {
      "text/plain": "<IPython.core.display.Markdown object>",
      "text/markdown": "# 日本語能力試験N3 模擬試験問題\n\n## 第1部：語彙・文法\n\n### のことばの読み方として最もよいものを、1・2・3・4から一つえらびなさい (kanji_reading)\n\n8問。与えられた漢字語の正しい読み方を選択肢から選びなさい。難問（40%）を含みます。\n\n- **冷静**\n- **衛星**\n- **複雑**\n- **挑戦**\n- **平均**\n- **咲く**\n- **努力**\n- **審判**\n\n### このことばを漢字で書くとき、最もよいものを、１・２・３・４から一つえらびなさい (write_chinese)\n\n6問。与えられた言葉を正しい漢字表記で選びなさい。難問（40%）を含みます。\n\n- **ふくろ**\n- **まもる**\n- **たんじゅん**\n- **くやしい**\n- **さます**\n- **きょうちょう**"
     },
     "metadata": {},
     "output_type": "display_data"
    }
   ],
   "source": [
    "from IPython.display import display, Markdown, HTML\n",
    "display(Markdown(initial_outline.as_str))"
   ]
  },
  {
   "cell_type": "code",
   "execution_count": 29,
   "id": "5c2b7e675e5302a8",
   "metadata": {
    "colab": {
     "base_uri": "https://localhost:8080/"
    },
    "id": "5c2b7e675e5302a8",
    "outputId": "657ff47f-94af-4bd5-8035-03239fd42380",
    "ExecuteTime": {
     "end_time": "2025-05-28T14:09:57.273765400Z",
     "start_time": "2025-05-28T14:07:47.751934900Z"
    }
   },
   "outputs": [
    {
     "name": "stderr",
     "output_type": "stream",
     "text": [
      "Processing 第1部：語彙・文法:   0%|          | 0/2 [00:00<?, ?it/s]\n",
      "Processing のことばの読み方として最もよいものを、1・2・3・4から一つえらびなさい (kanji_reading):   0%|          | 0/8 [00:00<?, ?it/s]\u001B[A"
     ]
    },
    {
     "name": "stdout",
     "output_type": "stream",
     "text": [
      "---WEB SEARCH---\n",
      "---Generator----\n"
     ]
    },
    {
     "name": "stderr",
     "output_type": "stream",
     "text": [
      "2025-05-28 22:07:53,689 - INFO - HTTP Request: POST https://ai-rolandaws880125ai409947751408.openai.azure.com/openai/deployments/gpt-4.1/chat/completions?api-version=2025-01-01-preview \"HTTP/1.1 200 OK\"\n",
      "2025-05-28 22:07:53,691 - INFO - Generated message: <a>彼はいつも<u>冷静</u>に問題を解決します。</a>\n",
      "<ul>\n",
      "    <li>れいじょう</li>\n",
      "    <li>れいせい</li>\n",
      "    <li>れいしん</li>\n",
      "    <li>れいしょう</li>\n",
      "</ul>\n",
      "正解: 2\n"
     ]
    },
    {
     "name": "stdout",
     "output_type": "stream",
     "text": [
      "---REVISOR---\n"
     ]
    },
    {
     "name": "stderr",
     "output_type": "stream",
     "text": [
      "2025-05-28 22:07:54,347 - INFO - HTTP Request: POST https://ai-rolandaws880125ai409947751408.openai.azure.com/openai/deployments/gpt-4.1/chat/completions?api-version=2025-01-01-preview \"HTTP/1.1 200 OK\"\n",
      "2025-05-28 22:07:54,348 - INFO - Refelect message: GOOD ENOUGH\n"
     ]
    },
    {
     "name": "stdout",
     "output_type": "stream",
     "text": [
      "--- AI Reviser feels Good Enough ---\n",
      "--- Formatter ---\n"
     ]
    },
    {
     "name": "stderr",
     "output_type": "stream",
     "text": [
      "2025-05-28 22:07:55,293 - INFO - HTTP Request: POST https://ai-rolandaws880125ai409947751408.openai.azure.com/openai/deployments/gpt-4.1/chat/completions?api-version=2025-01-01-preview \"HTTP/1.1 200 OK\"\n",
      "2025-05-28 22:07:55,299 - INFO - Formatted message: {'html_question': '<a>彼はいつも<u>冷静</u>に問題を解決します。</a>', 'correct_answer': 2, 'choices': ['れいじょう', 'れいせい', 'れいしん', 'れいしょう']}\n",
      "\n",
      "Processing のことばの読み方として最もよいものを、1・2・3・4から一つえらびなさい (kanji_reading):  12%|█▎        | 1/8 [00:07<00:52,  7.43s/it]\u001B[A"
     ]
    },
    {
     "name": "stdout",
     "output_type": "stream",
     "text": [
      "---WEB SEARCH---\n",
      "---Generator----\n"
     ]
    },
    {
     "name": "stderr",
     "output_type": "stream",
     "text": [
      "2025-05-28 22:08:01,054 - INFO - HTTP Request: POST https://ai-rolandaws880125ai409947751408.openai.azure.com/openai/deployments/gpt-4.1/chat/completions?api-version=2025-01-01-preview \"HTTP/1.1 200 OK\"\n",
      "2025-05-28 22:08:01,055 - INFO - Generated message: <a>地球の周りを回っている<u>衛星</u>はとても速く動いています。</a>\n",
      "<ul>\n",
      "    <li>えいせい</li>\n",
      "    <li>えいさい</li>\n",
      "    <li>えいしん</li>\n",
      "    <li>えいせん</li>\n",
      "</ul>\n",
      "正解: 1\n"
     ]
    },
    {
     "name": "stdout",
     "output_type": "stream",
     "text": [
      "---REVISOR---\n"
     ]
    },
    {
     "name": "stderr",
     "output_type": "stream",
     "text": [
      "2025-05-28 22:08:01,592 - INFO - HTTP Request: POST https://ai-rolandaws880125ai409947751408.openai.azure.com/openai/deployments/gpt-4.1/chat/completions?api-version=2025-01-01-preview \"HTTP/1.1 200 OK\"\n",
      "2025-05-28 22:08:01,593 - INFO - Refelect message: GOOD ENOUGH\n"
     ]
    },
    {
     "name": "stdout",
     "output_type": "stream",
     "text": [
      "--- AI Reviser feels Good Enough ---\n",
      "--- Formatter ---\n"
     ]
    },
    {
     "name": "stderr",
     "output_type": "stream",
     "text": [
      "2025-05-28 22:08:02,536 - INFO - HTTP Request: POST https://ai-rolandaws880125ai409947751408.openai.azure.com/openai/deployments/gpt-4.1/chat/completions?api-version=2025-01-01-preview \"HTTP/1.1 200 OK\"\n",
      "2025-05-28 22:08:02,538 - INFO - Formatted message: {'html_question': '<a>地球の周りを回っている<u>衛星</u>はとても速く動いています。</a>', 'correct_answer': 1, 'choices': ['えいせい', 'えいさい', 'えいしん', 'えいせん']}\n",
      "\n",
      "Processing のことばの読み方として最もよいものを、1・2・3・4から一つえらびなさい (kanji_reading):  25%|██▌       | 2/8 [00:14<00:43,  7.32s/it]\u001B[A"
     ]
    },
    {
     "name": "stdout",
     "output_type": "stream",
     "text": [
      "---WEB SEARCH---\n",
      "---Generator----\n"
     ]
    },
    {
     "name": "stderr",
     "output_type": "stream",
     "text": [
      "2025-05-28 22:08:08,749 - INFO - HTTP Request: POST https://ai-rolandaws880125ai409947751408.openai.azure.com/openai/deployments/gpt-4.1/chat/completions?api-version=2025-01-01-preview \"HTTP/1.1 200 OK\"\n",
      "2025-05-28 22:08:08,750 - INFO - Generated message: <a>この問題は<u>複雑</u>なので、よく考えてください。</a>\n",
      "<ul>\n",
      "    <li>ふくぞう</li>\n",
      "    <li>ふくざつ</li>\n",
      "    <li>ふくさつ</li>\n",
      "    <li>ふくぞく</li>\n",
      "</ul>\n",
      "正解: 2\n"
     ]
    },
    {
     "name": "stdout",
     "output_type": "stream",
     "text": [
      "---REVISOR---\n"
     ]
    },
    {
     "name": "stderr",
     "output_type": "stream",
     "text": [
      "2025-05-28 22:08:10,634 - INFO - HTTP Request: POST https://ai-rolandaws880125ai409947751408.openai.azure.com/openai/deployments/gpt-4.1/chat/completions?api-version=2025-01-01-preview \"HTTP/1.1 200 OK\"\n",
      "2025-05-28 22:08:10,636 - INFO - Refelect message: Content Accuracy:  \n",
      "The vocabulary item 「複雑」 and its reading are appropriate for the JLPT N3 level. The example sentence, 「この問題は複雑なので、よく考えてください。」, is clear, contextually relevant, and uses grammar and vocabulary suitable for N3 learners.\n",
      "\n",
      "Question and Answer Quality:  \n",
      "The question is straightforward and unambiguous. The answer choices are plausible distractors, making the question a good test of kanji reading recognition at this level. The correct answer (2. ふくざつ) is accurate.\n",
      "\n",
      "Cultural and Academic Relevance:  \n",
      "The sentence is culturally neutral and academically appropriate, reflecting typical Japanese usage.\n",
      "\n",
      "Feedback:  \n",
      "GOOD ENOUGH\n"
     ]
    },
    {
     "name": "stdout",
     "output_type": "stream",
     "text": [
      "--- AI Reviser feels Good Enough ---\n",
      "--- Formatter ---\n"
     ]
    },
    {
     "name": "stderr",
     "output_type": "stream",
     "text": [
      "2025-05-28 22:08:11,625 - INFO - HTTP Request: POST https://ai-rolandaws880125ai409947751408.openai.azure.com/openai/deployments/gpt-4.1/chat/completions?api-version=2025-01-01-preview \"HTTP/1.1 200 OK\"\n",
      "2025-05-28 22:08:11,632 - INFO - Formatted message: {'html_question': '<a>この問題は<u>複雑</u>なので、よく考えてください。</a>', 'correct_answer': 2, 'choices': ['ふくぞう', 'ふくざつ', 'ふくさつ', 'ふくぞく']}\n",
      "\n",
      "Processing のことばの読み方として最もよいものを、1・2・3・4から一つえらびなさい (kanji_reading):  38%|███▊      | 3/8 [00:23<00:40,  8.13s/it]\u001B[A"
     ]
    },
    {
     "name": "stdout",
     "output_type": "stream",
     "text": [
      "---WEB SEARCH---\n",
      "---Generator----\n"
     ]
    },
    {
     "name": "stderr",
     "output_type": "stream",
     "text": [
      "2025-05-28 22:08:17,635 - INFO - HTTP Request: POST https://ai-rolandaws880125ai409947751408.openai.azure.com/openai/deployments/gpt-4.1/chat/completions?api-version=2025-01-01-preview \"HTTP/1.1 200 OK\"\n",
      "2025-05-28 22:08:17,636 - INFO - Generated message: <a>彼は新しい仕事に<u>挑戦</u>しています。</a><ul><li>ちょうぜん</li><li>ちょうせん</li><li>ちょうしん</li><li>ちょうさん</li></ul>正解: 2\n"
     ]
    },
    {
     "name": "stdout",
     "output_type": "stream",
     "text": [
      "---REVISOR---\n"
     ]
    },
    {
     "name": "stderr",
     "output_type": "stream",
     "text": [
      "2025-05-28 22:08:19,516 - INFO - HTTP Request: POST https://ai-rolandaws880125ai409947751408.openai.azure.com/openai/deployments/gpt-4.1/chat/completions?api-version=2025-01-01-preview \"HTTP/1.1 200 OK\"\n",
      "2025-05-28 22:08:19,518 - INFO - Refelect message: Content Accuracy:  \n",
      "The vocabulary item 「挑戦」 is appropriate for the JLPT N3 level. The sentence 「彼は新しい仕事に挑戦しています。」 is clear, relevant, and uses grammar and vocabulary suitable for N3. The context is natural and culturally appropriate.\n",
      "\n",
      "Question and Answer Quality:  \n",
      "The question is unambiguous and directly tests the reading of the kanji compound, which is a key skill at N3. All distractors are plausible readings, increasing the challenge without being unfair. The correct answer is clearly indicated and matches the context.\n",
      "\n",
      "Detailed Refinement:  \n",
      "The sentence is academically and culturally appropriate. No issues with ambiguity or cultural relevance. The vocabulary and context are suitable for learners at this level.\n",
      "\n",
      "Feedback:  \n",
      "GOOD ENOUGH\n"
     ]
    },
    {
     "name": "stdout",
     "output_type": "stream",
     "text": [
      "--- AI Reviser feels Good Enough ---\n",
      "--- Formatter ---\n"
     ]
    },
    {
     "name": "stderr",
     "output_type": "stream",
     "text": [
      "2025-05-28 22:08:20,698 - INFO - HTTP Request: POST https://ai-rolandaws880125ai409947751408.openai.azure.com/openai/deployments/gpt-4.1/chat/completions?api-version=2025-01-01-preview \"HTTP/1.1 200 OK\"\n",
      "2025-05-28 22:08:20,702 - INFO - Formatted message: {'html_question': '<a>彼は新しい仕事に<u>挑戦</u>しています。</a>', 'correct_answer': 2, 'choices': ['ちょうぜん', 'ちょうせん', 'ちょうしん', 'ちょうさん']}\n",
      "\n",
      "Processing のことばの読み方として最もよいものを、1・2・3・4から一つえらびなさい (kanji_reading):  50%|█████     | 4/8 [00:32<00:34,  8.50s/it]\u001B[A"
     ]
    },
    {
     "name": "stdout",
     "output_type": "stream",
     "text": [
      "---WEB SEARCH---\n",
      "---Generator----\n"
     ]
    },
    {
     "name": "stderr",
     "output_type": "stream",
     "text": [
      "2025-05-28 22:08:24,337 - INFO - HTTP Request: POST https://ai-rolandaws880125ai409947751408.openai.azure.com/openai/deployments/gpt-4.1/chat/completions?api-version=2025-01-01-preview \"HTTP/1.1 200 OK\"\n",
      "2025-05-28 22:08:24,338 - INFO - Generated message: <a>クラスの<u>平均</u>点は７５点でした。</a>\n",
      "<ul>\n",
      "    <li>へいこん</li>\n",
      "    <li>へいきん</li>\n",
      "    <li>びょうきん</li>\n",
      "    <li>びょうこん</li>\n",
      "</ul>\n",
      "正解: 2\n"
     ]
    },
    {
     "name": "stdout",
     "output_type": "stream",
     "text": [
      "---REVISOR---\n"
     ]
    },
    {
     "name": "stderr",
     "output_type": "stream",
     "text": [
      "2025-05-28 22:08:24,945 - INFO - HTTP Request: POST https://ai-rolandaws880125ai409947751408.openai.azure.com/openai/deployments/gpt-4.1/chat/completions?api-version=2025-01-01-preview \"HTTP/1.1 200 OK\"\n",
      "2025-05-28 22:08:24,946 - INFO - Refelect message: GOOD ENOUGH\n"
     ]
    },
    {
     "name": "stdout",
     "output_type": "stream",
     "text": [
      "--- AI Reviser feels Good Enough ---\n",
      "--- Formatter ---\n"
     ]
    },
    {
     "name": "stderr",
     "output_type": "stream",
     "text": [
      "2025-05-28 22:08:25,821 - INFO - HTTP Request: POST https://ai-rolandaws880125ai409947751408.openai.azure.com/openai/deployments/gpt-4.1/chat/completions?api-version=2025-01-01-preview \"HTTP/1.1 200 OK\"\n",
      "2025-05-28 22:08:25,823 - INFO - Formatted message: {'html_question': '<a>クラスの<u>平均</u>点は７５点でした。</a>', 'correct_answer': 2, 'choices': ['へいこん', 'へいきん', 'びょうきん', 'びょうこん']}\n",
      "\n",
      "Processing のことばの読み方として最もよいものを、1・2・3・4から一つえらびなさい (kanji_reading):  62%|██████▎   | 5/8 [00:37<00:21,  7.28s/it]\u001B[A"
     ]
    },
    {
     "name": "stdout",
     "output_type": "stream",
     "text": [
      "---WEB SEARCH---\n",
      "---Generator----\n"
     ]
    },
    {
     "name": "stderr",
     "output_type": "stream",
     "text": [
      "2025-05-28 22:08:38,135 - INFO - HTTP Request: POST https://ai-rolandaws880125ai409947751408.openai.azure.com/openai/deployments/gpt-4.1/chat/completions?api-version=2025-01-01-preview \"HTTP/1.1 200 OK\"\n",
      "2025-05-28 22:08:38,137 - INFO - Generated message: <a>春になると公園で<u>咲く</u>花がとてもきれいです。</a>\n",
      "<ul>\n",
      "    <li>さける</li>\n",
      "    <li>さく</li>\n",
      "    <li>しょう</li>\n",
      "    <li>さき</li>\n",
      "</ul>\n",
      "正解: 2\n"
     ]
    },
    {
     "name": "stdout",
     "output_type": "stream",
     "text": [
      "---REVISOR---\n"
     ]
    },
    {
     "name": "stderr",
     "output_type": "stream",
     "text": [
      "2025-05-28 22:08:38,779 - INFO - HTTP Request: POST https://ai-rolandaws880125ai409947751408.openai.azure.com/openai/deployments/gpt-4.1/chat/completions?api-version=2025-01-01-preview \"HTTP/1.1 200 OK\"\n",
      "2025-05-28 22:08:38,780 - INFO - Refelect message: GOOD ENOUGH\n"
     ]
    },
    {
     "name": "stdout",
     "output_type": "stream",
     "text": [
      "--- AI Reviser feels Good Enough ---\n",
      "--- Formatter ---\n"
     ]
    },
    {
     "name": "stderr",
     "output_type": "stream",
     "text": [
      "2025-05-28 22:08:40,481 - INFO - HTTP Request: POST https://ai-rolandaws880125ai409947751408.openai.azure.com/openai/deployments/gpt-4.1/chat/completions?api-version=2025-01-01-preview \"HTTP/1.1 200 OK\"\n",
      "2025-05-28 22:08:40,483 - INFO - Formatted message: {'html_question': '<a>春になると公園で<u>咲く</u>花がとてもきれいです。</a>', 'correct_answer': 2, 'choices': ['さける', 'さく', 'しょう', 'さき']}\n",
      "\n",
      "Processing のことばの読み方として最もよいものを、1・2・3・4から一つえらびなさい (kanji_reading):  75%|███████▌  | 6/8 [00:52<00:19,  9.79s/it]\u001B[A"
     ]
    },
    {
     "name": "stdout",
     "output_type": "stream",
     "text": [
      "---WEB SEARCH---\n",
      "---Generator----\n"
     ]
    },
    {
     "name": "stderr",
     "output_type": "stream",
     "text": [
      "2025-05-28 22:08:48,070 - INFO - HTTP Request: POST https://ai-rolandaws880125ai409947751408.openai.azure.com/openai/deployments/gpt-4.1/chat/completions?api-version=2025-01-01-preview \"HTTP/1.1 200 OK\"\n",
      "2025-05-28 22:08:48,071 - INFO - Generated message: <a>毎日<u>努力</u>を続けています。</a>\n",
      "<ul>\n",
      "    <li>どりょく</li>\n",
      "    <li>どりょ</li>\n",
      "    <li>ぬりょく</li>\n",
      "    <li>ぬりょ</li>\n",
      "</ul>\n",
      "正解: 1\n"
     ]
    },
    {
     "name": "stdout",
     "output_type": "stream",
     "text": [
      "---REVISOR---\n"
     ]
    },
    {
     "name": "stderr",
     "output_type": "stream",
     "text": [
      "2025-05-28 22:08:48,922 - INFO - HTTP Request: POST https://ai-rolandaws880125ai409947751408.openai.azure.com/openai/deployments/gpt-4.1/chat/completions?api-version=2025-01-01-preview \"HTTP/1.1 200 OK\"\n",
      "2025-05-28 22:08:48,924 - INFO - Refelect message: GOOD ENOUGH\n"
     ]
    },
    {
     "name": "stdout",
     "output_type": "stream",
     "text": [
      "--- AI Reviser feels Good Enough ---\n",
      "--- Formatter ---\n"
     ]
    },
    {
     "name": "stderr",
     "output_type": "stream",
     "text": [
      "2025-05-28 22:08:49,928 - INFO - HTTP Request: POST https://ai-rolandaws880125ai409947751408.openai.azure.com/openai/deployments/gpt-4.1/chat/completions?api-version=2025-01-01-preview \"HTTP/1.1 200 OK\"\n",
      "2025-05-28 22:08:49,930 - INFO - Formatted message: {'html_question': '<a>毎日<u>努力</u>を続けています。</a>', 'correct_answer': 1, 'choices': ['どりょく', 'どりょ', 'ぬりょく', 'ぬりょ']}\n",
      "\n",
      "Processing のことばの読み方として最もよいものを、1・2・3・4から一つえらびなさい (kanji_reading):  88%|████████▊ | 7/8 [01:02<00:09,  9.68s/it]\u001B[A"
     ]
    },
    {
     "name": "stdout",
     "output_type": "stream",
     "text": [
      "---WEB SEARCH---\n",
      "---Generator----\n"
     ]
    },
    {
     "name": "stderr",
     "output_type": "stream",
     "text": [
      "2025-05-28 22:08:56,307 - INFO - HTTP Request: POST https://ai-rolandaws880125ai409947751408.openai.azure.com/openai/deployments/gpt-4.1/chat/completions?api-version=2025-01-01-preview \"HTTP/1.1 200 OK\"\n",
      "2025-05-28 22:08:56,308 - INFO - Generated message: <a>サッカーの試合で<u>審判</u>が笛を吹きました。</a>\n",
      "<ul>\n",
      "    <li>しんばん</li>\n",
      "    <li>しんぱん</li>\n",
      "    <li>しんはん</li>\n",
      "    <li>しんぽん</li>\n",
      "</ul>\n",
      "正解: 2\n"
     ]
    },
    {
     "name": "stdout",
     "output_type": "stream",
     "text": [
      "---REVISOR---\n"
     ]
    },
    {
     "name": "stderr",
     "output_type": "stream",
     "text": [
      "2025-05-28 22:08:58,953 - INFO - HTTP Request: POST https://ai-rolandaws880125ai409947751408.openai.azure.com/openai/deployments/gpt-4.1/chat/completions?api-version=2025-01-01-preview \"HTTP/1.1 200 OK\"\n",
      "2025-05-28 22:08:58,954 - INFO - Refelect message: Content Accuracy:\n",
      "- The vocabulary item \"審判\" (しんぱん) is appropriate for JLPT N3, especially in the context of sports. The sentence \"サッカーの試合で審判が笛を吹きました。\" is clear and relevant, using familiar vocabulary and grammar for N3 level. The reading comprehension of the sentence is straightforward.\n",
      "\n",
      "Question and Answer Quality:\n",
      "- The question is unambiguous and requires the test-taker to select the correct reading for \"審判\" from plausible distractors. All options are similar in structure, making the question fair and adequately challenging for N3.\n",
      "- The correct answer is clearly indicated and matches the context.\n",
      "\n",
      "Cultural and Academic Appropriateness:\n",
      "- The context of soccer and referees is culturally appropriate and relevant, as soccer is a popular sport in Japan and the term \"審判\" is commonly used in academic and daily contexts.\n",
      "\n",
      "Recommendations:\n",
      "- No changes needed. The question is well-constructed, clear, and suitable for JLPT N3.\n",
      "\n",
      "GOOD ENOUGH\n"
     ]
    },
    {
     "name": "stdout",
     "output_type": "stream",
     "text": [
      "--- AI Reviser feels Good Enough ---\n",
      "--- Formatter ---\n"
     ]
    },
    {
     "name": "stderr",
     "output_type": "stream",
     "text": [
      "2025-05-28 22:09:00,039 - INFO - HTTP Request: POST https://ai-rolandaws880125ai409947751408.openai.azure.com/openai/deployments/gpt-4.1/chat/completions?api-version=2025-01-01-preview \"HTTP/1.1 200 OK\"\n",
      "2025-05-28 22:09:00,041 - INFO - Formatted message: {'html_question': '<a>サッカーの試合で<u>審判</u>が笛を吹きました。</a>', 'correct_answer': 2, 'choices': ['しんばん', 'しんぱん', 'しんはん', 'しんぽん']}\n",
      "\n",
      "Processing のことばの読み方として最もよいものを、1・2・3・4から一つえらびなさい (kanji_reading): 100%|██████████| 8/8 [01:12<00:00,  9.02s/it]\u001B[A\n",
      "Processing 第1部：語彙・文法:  50%|█████     | 1/2 [01:12<01:12, 72.18s/it]\n",
      "Processing このことばを漢字で書くとき、最もよいものを、１・２・３・４から一つえらびなさい (write_chinese):   0%|          | 0/6 [00:00<?, ?it/s]\u001B[A"
     ]
    },
    {
     "name": "stdout",
     "output_type": "stream",
     "text": [
      "---WEB SEARCH---\n",
      "---Generator----\n"
     ]
    },
    {
     "name": "stderr",
     "output_type": "stream",
     "text": [
      "2025-05-28 22:09:07,581 - INFO - HTTP Request: POST https://ai-rolandaws880125ai409947751408.openai.azure.com/openai/deployments/gpt-4.1/chat/completions?api-version=2025-01-01-preview \"HTTP/1.1 200 OK\"\n",
      "2025-05-28 22:09:07,583 - INFO - Generated message: <a>スーパーで買い物をした後、<u>ふくろ</u>に入れました。</a>\n",
      "<ul>\n",
      "  <li>袋</li>\n",
      "  <li>箱</li>\n",
      "  <li>箱根</li>\n",
      "  <li>袋根</li>\n",
      "</ul>\n",
      "正解番号：1\n"
     ]
    },
    {
     "name": "stdout",
     "output_type": "stream",
     "text": [
      "---REVISOR---\n"
     ]
    },
    {
     "name": "stderr",
     "output_type": "stream",
     "text": [
      "2025-05-28 22:09:09,929 - INFO - HTTP Request: POST https://ai-rolandaws880125ai409947751408.openai.azure.com/openai/deployments/gpt-4.1/chat/completions?api-version=2025-01-01-preview \"HTTP/1.1 200 OK\"\n",
      "2025-05-28 22:09:09,930 - INFO - Refelect message: Content Accuracy:  \n",
      "The vocabulary item 「ふくろ」 is appropriate for JLPT N3, and the reading passage \"スーパーで買い物をした後、ふくろに入れました。\" is clear and contextually accurate. The vocabulary choices are relevant for the level, and the context (shopping at a supermarket) is appropriate and familiar to most learners.\n",
      "\n",
      "Question and Answer Quality:  \n",
      "The question is clearly worded and unambiguous. The answer choices are well-constructed:  \n",
      "1. 袋 (correct)  \n",
      "2. 箱  \n",
      "3. 箱根  \n",
      "4. 袋根  \n",
      "The distractors are plausible for learners at N3, especially 「箱」, which is a common confusion. 「箱根」 and 「袋根」 are less likely to be chosen but serve to check kanji recognition. The answer key is correct.\n",
      "\n",
      "Detailed Refinement:  \n",
      "The context is culturally appropriate and relevant, reflecting a typical Japanese shopping experience. The vocabulary and kanji used are suitable for the JLPT N3 level.\n",
      "\n",
      "Feedback:  \n",
      "GOOD ENOUGH\n"
     ]
    },
    {
     "name": "stdout",
     "output_type": "stream",
     "text": [
      "--- AI Reviser feels Good Enough ---\n",
      "--- Formatter ---\n"
     ]
    },
    {
     "name": "stderr",
     "output_type": "stream",
     "text": [
      "2025-05-28 22:09:10,909 - INFO - HTTP Request: POST https://ai-rolandaws880125ai409947751408.openai.azure.com/openai/deployments/gpt-4.1/chat/completions?api-version=2025-01-01-preview \"HTTP/1.1 200 OK\"\n",
      "2025-05-28 22:09:10,916 - INFO - Formatted message: {'html_question': '<a>スーパーで買い物をした後、<u>ふくろ</u>に入れました。</a>', 'correct_answer': 1, 'choices': ['袋', '箱', '箱根', '袋根']}\n",
      "\n",
      "Processing このことばを漢字で書くとき、最もよいものを、１・２・３・４から一つえらびなさい (write_chinese):  17%|█▋        | 1/6 [00:10<00:54, 10.87s/it]\u001B[A"
     ]
    },
    {
     "name": "stdout",
     "output_type": "stream",
     "text": [
      "---WEB SEARCH---\n",
      "---Generator----\n"
     ]
    },
    {
     "name": "stderr",
     "output_type": "stream",
     "text": [
      "2025-05-28 22:09:16,365 - INFO - HTTP Request: POST https://ai-rolandaws880125ai409947751408.openai.azure.com/openai/deployments/gpt-4.1/chat/completions?api-version=2025-01-01-preview \"HTTP/1.1 200 OK\"\n",
      "2025-05-28 22:09:16,367 - INFO - Generated message: <a>子どもたちを<u>まもる</u>ために、みんなで協力しましょう。</a>\n",
      "<ul>\n",
      "  <li>守る</li>\n",
      "  <li>護る</li>\n",
      "  <li>衛る</li>\n",
      "  <li>保る</li>\n",
      "</ul>\n",
      "正解番号：1\n"
     ]
    },
    {
     "name": "stdout",
     "output_type": "stream",
     "text": [
      "---REVISOR---\n"
     ]
    },
    {
     "name": "stderr",
     "output_type": "stream",
     "text": [
      "2025-05-28 22:09:16,893 - INFO - HTTP Request: POST https://ai-rolandaws880125ai409947751408.openai.azure.com/openai/deployments/gpt-4.1/chat/completions?api-version=2025-01-01-preview \"HTTP/1.1 200 OK\"\n",
      "2025-05-28 22:09:16,895 - INFO - Refelect message: GOOD ENOUGH\n"
     ]
    },
    {
     "name": "stdout",
     "output_type": "stream",
     "text": [
      "--- AI Reviser feels Good Enough ---\n",
      "--- Formatter ---\n"
     ]
    },
    {
     "name": "stderr",
     "output_type": "stream",
     "text": [
      "2025-05-28 22:09:17,802 - INFO - HTTP Request: POST https://ai-rolandaws880125ai409947751408.openai.azure.com/openai/deployments/gpt-4.1/chat/completions?api-version=2025-01-01-preview \"HTTP/1.1 200 OK\"\n",
      "2025-05-28 22:09:17,804 - INFO - Formatted message: {'html_question': '<a>子どもたちを<u>まもる</u>ために、みんなで協力しましょう。</a>', 'correct_answer': 1, 'choices': ['守る', '護る', '衛る', '保る']}\n",
      "\n",
      "Processing このことばを漢字で書くとき、最もよいものを、１・２・３・４から一つえらびなさい (write_chinese):  33%|███▎      | 2/6 [00:17<00:34,  8.53s/it]\u001B[A"
     ]
    },
    {
     "name": "stdout",
     "output_type": "stream",
     "text": [
      "---WEB SEARCH---\n",
      "---Generator----\n"
     ]
    },
    {
     "name": "stderr",
     "output_type": "stream",
     "text": [
      "2025-05-28 22:09:23,651 - INFO - HTTP Request: POST https://ai-rolandaws880125ai409947751408.openai.azure.com/openai/deployments/gpt-4.1/chat/completions?api-version=2025-01-01-preview \"HTTP/1.1 200 OK\"\n",
      "2025-05-28 22:09:23,652 - INFO - Generated message: <a>この問題は<u>たんじゅん</u>な方法で解けます。</a>\n",
      "<ul>\n",
      "  <li>単純</li>\n",
      "  <li>単順</li>\n",
      "  <li>短純</li>\n",
      "  <li>短順</li>\n",
      "</ul>\n",
      "正解番号：1\n"
     ]
    },
    {
     "name": "stdout",
     "output_type": "stream",
     "text": [
      "---REVISOR---\n"
     ]
    },
    {
     "name": "stderr",
     "output_type": "stream",
     "text": [
      "2025-05-28 22:09:26,271 - INFO - HTTP Request: POST https://ai-rolandaws880125ai409947751408.openai.azure.com/openai/deployments/gpt-4.1/chat/completions?api-version=2025-01-01-preview \"HTTP/1.1 200 OK\"\n",
      "2025-05-28 22:09:26,273 - INFO - Refelect message: Content Accuracy:\n",
      "- The vocabulary item 「たんじゅん」is appropriate for the JLPT N3 level, and the context sentence is clear and relevant. The reading passage is simple and directly tests kanji recognition, which is suitable for this level.\n",
      "- The correct answer is 「単純」, which is the appropriate kanji for the meaning \"simple\" or \"simple method.\" The distractors are plausible but incorrect, which is good for testing.\n",
      "\n",
      "Question and Answer Quality:\n",
      "- The question is clearly worded and unambiguous. The sentence provides enough context for the test-taker to understand the meaning of the word and choose the correct kanji.\n",
      "- The distractors (単順, 短純, 短順) are realistic and test the candidate's ability to distinguish between similar kanji, which is appropriate for the N3 level.\n",
      "- The difficulty level matches the intended JLPT N3 level.\n",
      "\n",
      "Cultural and Academic Relevance:\n",
      "- The sentence is culturally neutral and appropriate for an academic Japanese context. The vocabulary and grammar used are standard and suitable for the JLPT exam.\n",
      "\n",
      "Feedback:\n",
      "GOOD ENOUGH\n"
     ]
    },
    {
     "name": "stdout",
     "output_type": "stream",
     "text": [
      "--- AI Reviser feels Good Enough ---\n",
      "--- Formatter ---\n"
     ]
    },
    {
     "name": "stderr",
     "output_type": "stream",
     "text": [
      "2025-05-28 22:09:27,123 - INFO - HTTP Request: POST https://ai-rolandaws880125ai409947751408.openai.azure.com/openai/deployments/gpt-4.1/chat/completions?api-version=2025-01-01-preview \"HTTP/1.1 200 OK\"\n",
      "2025-05-28 22:09:27,125 - INFO - Formatted message: {'html_question': '<a>この問題は<u>たんじゅん</u>な方法で解けます。</a>', 'correct_answer': 1, 'choices': ['単純', '単順', '短純', '短順']}\n",
      "\n",
      "Processing このことばを漢字で書くとき、最もよいものを、１・２・３・４から一つえらびなさい (write_chinese):  50%|█████     | 3/6 [00:27<00:26,  8.89s/it]\u001B[A"
     ]
    },
    {
     "name": "stdout",
     "output_type": "stream",
     "text": [
      "---WEB SEARCH---\n",
      "---Generator----\n"
     ]
    },
    {
     "name": "stderr",
     "output_type": "stream",
     "text": [
      "2025-05-28 22:09:32,440 - INFO - HTTP Request: POST https://ai-rolandaws880125ai409947751408.openai.azure.com/openai/deployments/gpt-4.1/chat/completions?api-version=2025-01-01-preview \"HTTP/1.1 200 OK\"\n",
      "2025-05-28 22:09:32,441 - INFO - Generated message: <a>試合に負けて<u>くやしい</u>気持ちになった。</a>\n",
      "<ul>\n",
      "  <li>悩しい</li>\n",
      "  <li>悔しい</li>\n",
      "  <li>惜しい</li>\n",
      "  <li>悲しい</li>\n",
      "</ul>\n",
      "正解：2\n"
     ]
    },
    {
     "name": "stdout",
     "output_type": "stream",
     "text": [
      "---REVISOR---\n"
     ]
    },
    {
     "name": "stderr",
     "output_type": "stream",
     "text": [
      "2025-05-28 22:09:35,024 - INFO - HTTP Request: POST https://ai-rolandaws880125ai409947751408.openai.azure.com/openai/deployments/gpt-4.1/chat/completions?api-version=2025-01-01-preview \"HTTP/1.1 200 OK\"\n",
      "2025-05-28 22:09:35,025 - INFO - Refelect message: Content Accuracy:\n",
      "- The vocabulary item \"くやしい\" and its usage in the sentence are appropriate for the JLPT N3 level. The context of losing a match and feeling \"くやしい\" (frustrated/regretful) is realistic and clear.\n",
      "- The distractors (悩しい, 惜しい, 悲しい) are suitable and relevant, testing similar but distinct emotional vocabulary, which is a common N3 focus.\n",
      "- The correct answer (悔しい) is accurate.\n",
      "\n",
      "Question and Answer Quality:\n",
      "- The sentence is clearly worded and unambiguous.\n",
      "- The question tests nuanced understanding of emotional vocabulary, which is appropriate for N3.\n",
      "- All answer choices are plausible, but only one is correct, which is ideal for this format.\n",
      "\n",
      "Cultural and Academic Relevance:\n",
      "- The scenario (losing a match) is culturally neutral and relevant to Japanese learners.\n",
      "- The vocabulary is commonly used in both academic and daily life contexts.\n",
      "\n",
      "Recommendations:\n",
      "- No changes needed; the question is well-constructed and fits the requirements for JLPT N3.\n",
      "\n",
      "GOOD ENOUGH\n"
     ]
    },
    {
     "name": "stdout",
     "output_type": "stream",
     "text": [
      "--- AI Reviser feels Good Enough ---\n",
      "--- Formatter ---\n"
     ]
    },
    {
     "name": "stderr",
     "output_type": "stream",
     "text": [
      "2025-05-28 22:09:35,947 - INFO - HTTP Request: POST https://ai-rolandaws880125ai409947751408.openai.azure.com/openai/deployments/gpt-4.1/chat/completions?api-version=2025-01-01-preview \"HTTP/1.1 200 OK\"\n",
      "2025-05-28 22:09:35,948 - INFO - Formatted message: {'html_question': '<a>試合に負けて<u>くやしい</u>気持ちになった。</a>', 'correct_answer': 2, 'choices': ['悩しい', '悔しい', '惜しい', '悲しい']}\n",
      "\n",
      "Processing このことばを漢字で書くとき、最もよいものを、１・２・３・４から一つえらびなさい (write_chinese):  67%|██████▋   | 4/6 [00:35<00:17,  8.86s/it]\u001B[A"
     ]
    },
    {
     "name": "stdout",
     "output_type": "stream",
     "text": [
      "---WEB SEARCH---\n",
      "---Generator----\n"
     ]
    },
    {
     "name": "stderr",
     "output_type": "stream",
     "text": [
      "2025-05-28 22:09:41,679 - INFO - HTTP Request: POST https://ai-rolandaws880125ai409947751408.openai.azure.com/openai/deployments/gpt-4.1/chat/completions?api-version=2025-01-01-preview \"HTTP/1.1 200 OK\"\n",
      "2025-05-28 22:09:41,680 - INFO - Generated message: <a>おゆを<u>さます</u>ために、しばらくそのままにしておきます。</a>\n",
      "<ul>\n",
      "  <li>冷増</li>\n",
      "  <li>冷済</li>\n",
      "  <li>冷ます</li>\n",
      "  <li>冷清</li>\n",
      "</ul>\n",
      "正解番号：3\n"
     ]
    },
    {
     "name": "stdout",
     "output_type": "stream",
     "text": [
      "---REVISOR---\n"
     ]
    },
    {
     "name": "stderr",
     "output_type": "stream",
     "text": [
      "2025-05-28 22:09:43,723 - INFO - HTTP Request: POST https://ai-rolandaws880125ai409947751408.openai.azure.com/openai/deployments/gpt-4.1/chat/completions?api-version=2025-01-01-preview \"HTTP/1.1 200 OK\"\n",
      "2025-05-28 22:09:43,724 - INFO - Refelect message: Content Accuracy:\n",
      "- The vocabulary \"さます\" (冷ます) meaning \"to let something cool down\" is appropriate for JLPT N3 level.\n",
      "- The distractors (冷増, 冷済, 冷清) are plausible-looking but incorrect kanji combinations, which is suitable for testing kanji recognition at this level.\n",
      "- The reading passage is clear, relevant, and reflects a realistic situation.\n",
      "\n",
      "Question and Answer Quality:\n",
      "- The sentence is straightforward and unambiguous.\n",
      "- The context provided is clear enough to distinguish the correct answer.\n",
      "- The answer options test kanji knowledge and word recognition, both important for N3.\n",
      "\n",
      "Cultural and Academic Appropriateness:\n",
      "- The context of cooling hot water is common and culturally neutral.\n",
      "- The language used is standard and academically suitable.\n",
      "\n",
      "Recommendation:\n",
      "GOOD ENOUGH\n"
     ]
    },
    {
     "name": "stdout",
     "output_type": "stream",
     "text": [
      "--- AI Reviser feels Good Enough ---\n",
      "--- Formatter ---\n"
     ]
    },
    {
     "name": "stderr",
     "output_type": "stream",
     "text": [
      "2025-05-28 22:09:44,484 - INFO - HTTP Request: POST https://ai-rolandaws880125ai409947751408.openai.azure.com/openai/deployments/gpt-4.1/chat/completions?api-version=2025-01-01-preview \"HTTP/1.1 200 OK\"\n",
      "2025-05-28 22:09:44,486 - INFO - Formatted message: {'html_question': '<a>おゆを<u>さます</u>ために、しばらくそのままにしておきます。</a>', 'correct_answer': 3, 'choices': ['冷増', '冷済', '冷ます', '冷清']}\n",
      "\n",
      "Processing このことばを漢字で書くとき、最もよいものを、１・２・３・４から一つえらびなさい (write_chinese):  83%|████████▎ | 5/6 [00:44<00:08,  8.75s/it]\u001B[A"
     ]
    },
    {
     "name": "stdout",
     "output_type": "stream",
     "text": [
      "---WEB SEARCH---\n",
      "---Generator----\n"
     ]
    },
    {
     "name": "stderr",
     "output_type": "stream",
     "text": [
      "2025-05-28 22:09:53,324 - INFO - HTTP Request: POST https://ai-rolandaws880125ai409947751408.openai.azure.com/openai/deployments/gpt-4.1/chat/completions?api-version=2025-01-01-preview \"HTTP/1.1 200 OK\"\n",
      "2025-05-28 22:09:53,325 - INFO - Generated message: <a>グループで作業をするときは<u>きょうちょう</u>が大切です。</a>\n",
      "<ul>\n",
      "  <li>強調</li>\n",
      "  <li>協調</li>\n",
      "  <li>共調</li>\n",
      "  <li>協長</li>\n",
      "</ul>\n",
      "2\n"
     ]
    },
    {
     "name": "stdout",
     "output_type": "stream",
     "text": [
      "---REVISOR---\n"
     ]
    },
    {
     "name": "stderr",
     "output_type": "stream",
     "text": [
      "2025-05-28 22:09:56,134 - INFO - HTTP Request: POST https://ai-rolandaws880125ai409947751408.openai.azure.com/openai/deployments/gpt-4.1/chat/completions?api-version=2025-01-01-preview \"HTTP/1.1 200 OK\"\n",
      "2025-05-28 22:09:56,135 - INFO - Refelect message: Content Accuracy:\n",
      "- The vocabulary item \"きょうちょう\" is accurately chosen for JLPT N3; distinguishing between similar kanji compounds is a typical N3 skill.\n",
      "- The context sentence \"グループで作業をするときはきょうちょうが大切です。\" is clear, natural, and culturally relevant, as group work and cooperation are important concepts in Japanese society.\n",
      "\n",
      "Question and Answer Quality:\n",
      "- The question is clear and unambiguous. The context makes it obvious that \"cooperation\" (協調) is the correct answer.\n",
      "- All distractor options are plausible for N3 level. \"強調\" (emphasis), \"共調\" (not a standard word but plausible as a distractor), and \"協長\" (not a standard word but constructed plausibly) are appropriate for testing kanji recognition and meaning.\n",
      "- The difficulty level is suitable for N3, requiring the test-taker to distinguish between similar-sounding words with different meanings.\n",
      "\n",
      "Cultural and Academic Appropriateness:\n",
      "- The content is culturally appropriate, referencing group work, which is common in Japanese educational and professional contexts.\n",
      "- The language used is standard and appropriate for academic settings.\n",
      "\n",
      "Recommendations:\n",
      "- No changes are necessary. The question is well-constructed and suitable for JLPT N3.\n",
      "\n",
      "GOOD ENOUGH\n"
     ]
    },
    {
     "name": "stdout",
     "output_type": "stream",
     "text": [
      "--- AI Reviser feels Good Enough ---\n",
      "--- Formatter ---\n"
     ]
    },
    {
     "name": "stderr",
     "output_type": "stream",
     "text": [
      "2025-05-28 22:09:57,263 - INFO - HTTP Request: POST https://ai-rolandaws880125ai409947751408.openai.azure.com/openai/deployments/gpt-4.1/chat/completions?api-version=2025-01-01-preview \"HTTP/1.1 200 OK\"\n",
      "2025-05-28 22:09:57,265 - INFO - Formatted message: {'html_question': '<a>グループで作業をするときは<u>きょうちょう</u>が大切です。</a>', 'correct_answer': 2, 'choices': ['強調', '協調', '共調', '協長']}\n",
      "\n",
      "Processing このことばを漢字で書くとき、最もよいものを、１・２・３・４から一つえらびなさい (write_chinese): 100%|██████████| 6/6 [00:57<00:00,  9.54s/it]\u001B[A\n",
      "Processing 第1部：語彙・文法: 100%|██████████| 2/2 [02:09<00:00, 64.70s/it]"
     ]
    },
    {
     "name": "stdout",
     "output_type": "stream",
     "text": [
      "Total execution time: 129.51 seconds\n"
     ]
    },
    {
     "name": "stderr",
     "output_type": "stream",
     "text": [
      "\n"
     ]
    }
   ],
   "source": [
    "import re\n",
    "outliner_json = initial_outline.model_dump_json()\n",
    "data = json.loads(outliner_json)  # Replace with your actual JSON data\n",
    "\n",
    "start_time = time.time()\n",
    "\n",
    "output_data = {'sections': []}\n",
    "\n",
    "for section in data['sections']:\n",
    "    output_section = {'section_title': section['section_title'], 'subsections': []}\n",
    "\n",
    "    for subsection in tqdm(section['subsections'], desc=f\"Processing {section['section_title']}\"):\n",
    "        function_name = re.findall(r'\\((.*?)\\)', subsection['subsection_title'])[0]\n",
    "\n",
    "        questions = subsection['question_topics']\n",
    "\n",
    "        for question in tqdm(questions, desc=f\"Processing {subsection['subsection_title']}\"):\n",
    "            handler = ExamTaskHandler()\n",
    "            func = getattr(handler, function_name, None)\n",
    "\n",
    "            if func:\n",
    "                max_attempts = 2\n",
    "                original_topic = question['topic']  # Optional: Track original topic\n",
    "                for attempt in range(max_attempts):\n",
    "                    try:\n",
    "                        result = func(question['topic'])\n",
    "                        question['result'] = result\n",
    "                        break  # Exit on success\n",
    "                    except Exception as e:\n",
    "                        if attempt < max_attempts - 1:\n",
    "                            # Replace topic and retry\n",
    "                            question['topic'] = random.choice(topics_list)\n",
    "                        else:\n",
    "                            question['result'] = f\"Error after {max_attempts} attempts: {str(e)}\"\n",
    "            else:\n",
    "                question['result'] = f\"Method {function_name} not found\"\n",
    "\n",
    "        output_subsection = {\n",
    "            'subsection_title': subsection['subsection_title'],\n",
    "            'description': subsection['description'],\n",
    "            'question_topics': questions\n",
    "        }\n",
    "        output_section['subsections'].append(output_subsection)\n",
    "\n",
    "    output_data['sections'].append(output_section)\n",
    "\n",
    "# End the timer\n",
    "end_time = time.time()\n",
    "\n",
    "# Calculate the total execution time\n",
    "execution_time = end_time - start_time\n",
    "\n",
    "print(f\"Total execution time: {execution_time:.2f} seconds\")"
   ]
  },
  {
   "cell_type": "code",
   "execution_count": 30,
   "id": "43e411616ee939b1",
   "metadata": {
    "colab": {
     "base_uri": "https://localhost:8080/",
     "height": 1000
    },
    "id": "43e411616ee939b1",
    "outputId": "97cc7eef-f8ae-4401-ef8b-022c706f112c",
    "ExecuteTime": {
     "end_time": "2025-05-28T14:09:57.274452300Z",
     "start_time": "2025-05-28T14:09:57.272087600Z"
    }
   },
   "outputs": [],
   "source": [
    "# yaml_str = yaml.dump(output_data, allow_unicode=True, sort_keys=False, default_flow_style=False)\n",
    "# # Display as formatted YAML\n",
    "# display(Markdown(yaml_str))"
   ]
  },
  {
   "cell_type": "code",
   "execution_count": 31,
   "id": "307398e88bf20dc3",
   "metadata": {
    "colab": {
     "base_uri": "https://localhost:8080/"
    },
    "id": "307398e88bf20dc3",
    "outputId": "4ff94084-e0f5-45ad-ee7b-bca01723dd10",
    "ExecuteTime": {
     "end_time": "2025-05-28T14:09:57.283315700Z",
     "start_time": "2025-05-28T14:09:57.275457Z"
    }
   },
   "outputs": [],
   "source": [
    "# output_data"
   ]
  },
  {
   "cell_type": "code",
   "execution_count": 32,
   "id": "aa98a476d1ded815",
   "metadata": {
    "id": "aa98a476d1ded815",
    "ExecuteTime": {
     "end_time": "2025-05-28T14:09:57.293902200Z",
     "start_time": "2025-05-28T14:09:57.287769300Z"
    }
   },
   "outputs": [],
   "source": [
    "def render_to_html(sections):\n",
    "    html = '<html><body style=\"text-align: left;\">\\n'\n",
    "    for section in sections:\n",
    "        html += f'<h1>{section.get(\"section_title\", \"\")}</h1>\\n'\n",
    "        for subsection in section.get(\"subsections\", []):\n",
    "            html += f'<h2>{subsection.get(\"subsection_title\", \"\")}</h2>\\n'\n",
    "            if \"description\" in subsection:\n",
    "                html += f'<p>{subsection[\"description\"]}</p>\\n'\n",
    "            for idx, qtopic in enumerate(subsection.get(\"question_topics\", []), 1):\n",
    "                result = qtopic.get(\"result\", {})\n",
    "                if isinstance(result, dict):\n",
    "                    if \"html_article\" in result:\n",
    "                        html += result[\"html_article\"] + \"\\n\"\n",
    "                    if \"html_question\" in result:\n",
    "                        html += '<div>\\n'\n",
    "                        # html += f'<div style=\"display: flex; align-items: center;\"><div>{idx}.  </div>{result[\"html_question\"]}</div>\\n'\n",
    "                        html += f'<p><strong>{idx}. </strong>{result[\"html_question\"]}</p>'\n",
    "                        if \"choices\" in result:\n",
    "                            correct = result.get(\"correct_answer\", -1)\n",
    "                            html += '<ul>\\n'\n",
    "                            for idx, choice in enumerate(result[\"choices\"], 1):\n",
    "                                if idx == correct:\n",
    "                                    html += f\"<li>{idx}. <b>{choice}</b> <span style='color:green;'>(correct)</span></li>\\n\"\n",
    "                                else:\n",
    "                                    html += f\"<li>{idx}. {choice}</li>\\n\"\n",
    "                            html += '</ul>\\n'\n",
    "                        html += '</div>\\n'\n",
    "                        if \"explanation\" in result:\n",
    "                            html += f'<p><em>Explanation: {result[\"explanation\"]}</em></p>\\n'\n",
    "                    if \"questions\" in result and isinstance(result[\"questions\"], list):\n",
    "                        for q in result[\"questions\"]:\n",
    "                            html += f'<p><strong>Q: {q[\"question\"]}</strong></p>\\n'\n",
    "                            if \"choices\" in q:\n",
    "                                correct = q.get(\"correct_answer\", -1)\n",
    "                                html += '<ul>\\n'\n",
    "                                for idx, choice in enumerate(q[\"choices\"], 1):\n",
    "                                    if idx == correct:\n",
    "                                        html += f\"<li><b>{choice}</b> <span style='color:green;'>(correct)</span></li>\\n\"\n",
    "                                    else:\n",
    "                                        html += f\"<li>{choice}</li>\\n\"\n",
    "                                html += '</ul>\\n'\n",
    "                            if \"explanation\" in q:\n",
    "                                html += f'<p><em>Explanation: {q[\"explanation\"]}</em></p>\\n'\n",
    "                    if \"questions\" in result and isinstance(result[\"questions\"], dict):\n",
    "                        q = result[\"questions\"]\n",
    "                        html += f'<p><strong>Q: {q[\"question\"]}</strong></p>\\n'\n",
    "                        if \"choices\" in q:\n",
    "                            correct = q.get(\"correct_answer\", -1)\n",
    "                            html += '<ul>\\n'\n",
    "                            for idx, choice in enumerate(q[\"choices\"], 1):\n",
    "                                if idx == correct:\n",
    "                                    html += f\"<li><b>{choice}</b> <span style='color:green;'>(correct)</span></li>\\n\"\n",
    "                                else:\n",
    "                                    html += f\"<li>{choice}</li>\\n\"\n",
    "                            html += '</ul>\\n'\n",
    "                        if \"explanation\" in q:\n",
    "                            html += f'<p><em>Explanation: {q[\"explanation\"]}</em></p>\\n'\n",
    "    html += '</body></html>'\n",
    "    return html"
   ]
  },
  {
   "cell_type": "code",
   "execution_count": 33,
   "id": "e7a5e4b5084d049c",
   "metadata": {
    "colab": {
     "base_uri": "https://localhost:8080/",
     "height": 1000
    },
    "id": "e7a5e4b5084d049c",
    "outputId": "31c9880e-fc8f-46f9-9a24-41d77a425304",
    "ExecuteTime": {
     "end_time": "2025-05-28T14:09:57.301958100Z",
     "start_time": "2025-05-28T14:09:57.292901600Z"
    }
   },
   "outputs": [
    {
     "data": {
      "text/plain": "<IPython.core.display.HTML object>",
      "text/html": "<html><body style=\"text-align: left;\">\n<h1>第1部：語彙・文法</h1>\n<h2>のことばの読み方として最もよいものを、1・2・3・4から一つえらびなさい (kanji_reading)</h2>\n<p>8問。与えられた漢字語の正しい読み方を選択肢から選びなさい。難問（40%）を含みます。</p>\n<div>\n<p><strong>1. </strong><a>彼はいつも<u>冷静</u>に問題を解決します。</a></p><ul>\n<li>1. れいじょう</li>\n<li>2. <b>れいせい</b> <span style='color:green;'>(correct)</span></li>\n<li>3. れいしん</li>\n<li>4. れいしょう</li>\n</ul>\n</div>\n<div>\n<p><strong>2. </strong><a>地球の周りを回っている<u>衛星</u>はとても速く動いています。</a></p><ul>\n<li>1. <b>えいせい</b> <span style='color:green;'>(correct)</span></li>\n<li>2. えいさい</li>\n<li>3. えいしん</li>\n<li>4. えいせん</li>\n</ul>\n</div>\n<div>\n<p><strong>3. </strong><a>この問題は<u>複雑</u>なので、よく考えてください。</a></p><ul>\n<li>1. ふくぞう</li>\n<li>2. <b>ふくざつ</b> <span style='color:green;'>(correct)</span></li>\n<li>3. ふくさつ</li>\n<li>4. ふくぞく</li>\n</ul>\n</div>\n<div>\n<p><strong>4. </strong><a>彼は新しい仕事に<u>挑戦</u>しています。</a></p><ul>\n<li>1. ちょうぜん</li>\n<li>2. <b>ちょうせん</b> <span style='color:green;'>(correct)</span></li>\n<li>3. ちょうしん</li>\n<li>4. ちょうさん</li>\n</ul>\n</div>\n<div>\n<p><strong>5. </strong><a>クラスの<u>平均</u>点は７５点でした。</a></p><ul>\n<li>1. へいこん</li>\n<li>2. <b>へいきん</b> <span style='color:green;'>(correct)</span></li>\n<li>3. びょうきん</li>\n<li>4. びょうこん</li>\n</ul>\n</div>\n<div>\n<p><strong>6. </strong><a>春になると公園で<u>咲く</u>花がとてもきれいです。</a></p><ul>\n<li>1. さける</li>\n<li>2. <b>さく</b> <span style='color:green;'>(correct)</span></li>\n<li>3. しょう</li>\n<li>4. さき</li>\n</ul>\n</div>\n<div>\n<p><strong>7. </strong><a>毎日<u>努力</u>を続けています。</a></p><ul>\n<li>1. <b>どりょく</b> <span style='color:green;'>(correct)</span></li>\n<li>2. どりょ</li>\n<li>3. ぬりょく</li>\n<li>4. ぬりょ</li>\n</ul>\n</div>\n<div>\n<p><strong>8. </strong><a>サッカーの試合で<u>審判</u>が笛を吹きました。</a></p><ul>\n<li>1. しんばん</li>\n<li>2. <b>しんぱん</b> <span style='color:green;'>(correct)</span></li>\n<li>3. しんはん</li>\n<li>4. しんぽん</li>\n</ul>\n</div>\n<h2>このことばを漢字で書くとき、最もよいものを、１・２・３・４から一つえらびなさい (write_chinese)</h2>\n<p>6問。与えられた言葉を正しい漢字表記で選びなさい。難問（40%）を含みます。</p>\n<div>\n<p><strong>1. </strong><a>スーパーで買い物をした後、<u>ふくろ</u>に入れました。</a></p><ul>\n<li>1. <b>袋</b> <span style='color:green;'>(correct)</span></li>\n<li>2. 箱</li>\n<li>3. 箱根</li>\n<li>4. 袋根</li>\n</ul>\n</div>\n<div>\n<p><strong>2. </strong><a>子どもたちを<u>まもる</u>ために、みんなで協力しましょう。</a></p><ul>\n<li>1. <b>守る</b> <span style='color:green;'>(correct)</span></li>\n<li>2. 護る</li>\n<li>3. 衛る</li>\n<li>4. 保る</li>\n</ul>\n</div>\n<div>\n<p><strong>3. </strong><a>この問題は<u>たんじゅん</u>な方法で解けます。</a></p><ul>\n<li>1. <b>単純</b> <span style='color:green;'>(correct)</span></li>\n<li>2. 単順</li>\n<li>3. 短純</li>\n<li>4. 短順</li>\n</ul>\n</div>\n<div>\n<p><strong>4. </strong><a>試合に負けて<u>くやしい</u>気持ちになった。</a></p><ul>\n<li>1. 悩しい</li>\n<li>2. <b>悔しい</b> <span style='color:green;'>(correct)</span></li>\n<li>3. 惜しい</li>\n<li>4. 悲しい</li>\n</ul>\n</div>\n<div>\n<p><strong>5. </strong><a>おゆを<u>さます</u>ために、しばらくそのままにしておきます。</a></p><ul>\n<li>1. 冷増</li>\n<li>2. 冷済</li>\n<li>3. <b>冷ます</b> <span style='color:green;'>(correct)</span></li>\n<li>4. 冷清</li>\n</ul>\n</div>\n<div>\n<p><strong>6. </strong><a>グループで作業をするときは<u>きょうちょう</u>が大切です。</a></p><ul>\n<li>1. 強調</li>\n<li>2. <b>協調</b> <span style='color:green;'>(correct)</span></li>\n<li>3. 共調</li>\n<li>4. 協長</li>\n</ul>\n</div>\n</body></html>"
     },
     "metadata": {},
     "output_type": "display_data"
    }
   ],
   "source": [
    "html_output = render_to_html(output_data['sections'])\n",
    "display(HTML(html_output))"
   ]
  },
  {
   "cell_type": "code",
   "execution_count": 34,
   "id": "330a0817d72fe5e",
   "metadata": {
    "id": "330a0817d72fe5e",
    "ExecuteTime": {
     "end_time": "2025-05-28T14:09:57.352640900Z",
     "start_time": "2025-05-28T14:09:57.301958100Z"
    }
   },
   "outputs": [],
   "source": [
    "timestamp = datetime.datetime.now().strftime(\"%Y%m%d_%H%M%S\")\n",
    "output_folder = \"output\"\n",
    "html_filename = f\"JLPT_{timestamp}.html\"\n",
    "html_filepath = os.path.join(output_folder,html_filename)\n",
    "with open(html_filepath, \"w\", encoding=\"utf-8\") as file:\n",
    "    file.write(html_output)"
   ]
  },
  {
   "cell_type": "code",
   "execution_count": 35,
   "id": "c02c02ec6620993d",
   "metadata": {
    "id": "c02c02ec6620993d",
    "ExecuteTime": {
     "end_time": "2025-05-28T14:09:57.365636200Z",
     "start_time": "2025-05-28T14:09:57.307468100Z"
    }
   },
   "outputs": [],
   "source": [
    "# Create a Document object\n",
    "document = Document()\n",
    "# Add a section to the document\n",
    "section = document.AddSection()\n",
    "# Set the page margins to 72 points (72 points = 1 inch)\n",
    "section.PageSetup.Margins.All = 72\n",
    "\n",
    "# Add a paragraph to the section\n",
    "paragraph = section.AddParagraph()\n",
    "\n",
    "# Add the HTML string to the paragraph\n",
    "paragraph.AppendHTML(html_output)\n",
    "\n",
    "doc_filename = f\"JLPT_{timestamp}.docx\"\n",
    "doc_filepath = os.path.join(output_folder,doc_filename)\n",
    "# Save the result document to a DOCX file\n",
    "document.SaveToFile(doc_filepath, FileFormat.Docx2016)\n",
    "# Or save the result document to a DOC file\n",
    "# document.SaveToFile(\"HtmlStringToDoc.doc\", FileFormat.Doc)\n",
    "\n",
    "document.Close()"
   ]
  },
  {
   "cell_type": "code",
   "outputs": [
    {
     "name": "stderr",
     "output_type": "stream",
     "text": [
      "2025-05-28 22:09:57,458 - INFO - Connected (version 2.0, client OpenSSH_9.6p1)\n",
      "2025-05-28 22:09:57,741 - INFO - Authentication (publickey) successful!\n",
      "2025-05-28 22:09:58,367 - INFO - [chan 0] Opened sftp connection (server version 3)\n"
     ]
    },
    {
     "name": "stdout",
     "output_type": "stream",
     "text": [
      "File transferred to 58.246.203.10:/var/www/html/JLPT_20250528_220957.html\n",
      "File transferred to 58.246.203.10:/var/www/html/JLPT_20250528_220957.docx\n"
     ]
    },
    {
     "name": "stderr",
     "output_type": "stream",
     "text": [
      "2025-05-28 22:09:58,752 - INFO - [chan 0] sftp session closed.\n"
     ]
    }
   ],
   "source": [
    "import paramiko\n",
    "\n",
    "# Load the private key from the environment variable\n",
    "# Parse the private key\n",
    "key_file_path = 'temp_id_ed25519'\n",
    "pkey = paramiko.Ed25519Key.from_private_key_file(key_file_path)\n",
    "\n",
    "# SSH and SFTP parameters\n",
    "hostname = \"58.246.203.10\"\n",
    "username = \"hwu\"\n",
    "port = 22\n",
    "\n",
    "remote_html_file_path = f\"/var/www/html/{html_filename}\"\n",
    "remote_doc_file_path = f\"/var/www/html/{doc_filename}\"\n",
    "\n",
    "# Establish SSH connection\n",
    "ssh = paramiko.SSHClient()\n",
    "ssh.set_missing_host_key_policy(paramiko.AutoAddPolicy())\n",
    "ssh.connect(hostname=hostname, port=port, username=username, pkey=pkey)\n",
    "\n",
    "# Transfer the file\n",
    "sftp = ssh.open_sftp()\n",
    "sftp.put(html_filepath, remote_html_file_path)\n",
    "print(f\"File transferred to {hostname}:{remote_html_file_path}\")\n",
    "sftp.put(doc_filepath, remote_doc_file_path)\n",
    "print(f\"File transferred to {hostname}:{remote_doc_file_path}\")\n",
    "\n",
    "# Clean up\n",
    "sftp.close()\n",
    "ssh.close()"
   ],
   "metadata": {
    "collapsed": false,
    "ExecuteTime": {
     "end_time": "2025-05-28T14:09:58.762713900Z",
     "start_time": "2025-05-28T14:09:57.333411900Z"
    }
   },
   "id": "76d7f92a309995e1",
   "execution_count": 36
  },
  {
   "cell_type": "code",
   "execution_count": 36,
   "outputs": [],
   "source": [],
   "metadata": {
    "collapsed": false,
    "ExecuteTime": {
     "end_time": "2025-05-28T14:09:58.762713900Z",
     "start_time": "2025-05-28T14:09:58.757934200Z"
    }
   },
   "id": "b05d000620248396"
  }
 ],
 "metadata": {
  "colab": {
   "include_colab_link": true,
   "provenance": []
  },
  "kernelspec": {
   "display_name": ".venv",
   "language": "python",
   "name": "python3"
  },
  "language_info": {
   "codemirror_mode": {
    "name": "ipython",
    "version": 3
   },
   "file_extension": ".py",
   "mimetype": "text/x-python",
   "name": "python",
   "nbconvert_exporter": "python",
   "pygments_lexer": "ipython3",
   "version": "3.13.2"
  }
 },
 "nbformat": 4,
 "nbformat_minor": 5
}
