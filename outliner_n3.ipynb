{
 "cells": [
  {
   "cell_type": "markdown",
   "id": "f94c1f8ee4d0b085",
   "metadata": {
    "colab_type": "text",
    "id": "view-in-github"
   },
   "source": [
    "<a href=\"https://colab.research.google.com/github/gibsonx/jlpt_simulator/blob/dev/graphs/n3/outliner.ipynb\" target=\"_parent\"><img src=\"https://colab.research.google.com/assets/colab-badge.svg\" alt=\"Open In Colab\"/></a>"
   ]
  },
  {
   "cell_type": "code",
   "execution_count": 1,
   "id": "712d86d2ae0847a0",
   "metadata": {
    "colab": {
     "base_uri": "https://localhost:8080/"
    },
    "id": "712d86d2ae0847a0",
    "outputId": "0b69e343-ba35-4773-acca-92da0492bdba",
    "ExecuteTime": {
     "end_time": "2025-05-27T07:52:13.819427Z",
     "start_time": "2025-05-27T07:52:13.808265Z"
    }
   },
   "outputs": [
    {
     "name": "stdout",
     "output_type": "stream",
     "text": [
      "Not running on CoLab\n"
     ]
    }
   ],
   "source": [
    "if 'google.colab' in str(get_ipython()):\n",
    "    !git clone https://github.com/gibsonx/jlpt_simulator.git\n",
    "    %cd jlpt_simulator\n",
    "    !git checkout dev\n",
    "    \n",
    "    !apt-get install python3-dev graphviz libgraphviz-dev pkg-config\n",
    "    !pip install -r requirements.txt\n",
    "else:\n",
    "  print('Not running on CoLab')\n"
   ]
  },
  {
   "cell_type": "code",
   "execution_count": 2,
   "id": "7f526a68a7e73a65",
   "metadata": {
    "colab": {
     "base_uri": "https://localhost:8080/"
    },
    "id": "7f526a68a7e73a65",
    "outputId": "e3e7c3a2-bde6-4f65-cf4c-8ddd97998d8f",
    "ExecuteTime": {
     "end_time": "2025-05-27T07:52:21.718385Z",
     "start_time": "2025-05-27T07:52:13.823440Z"
    }
   },
   "outputs": [
    {
     "data": {
      "text/plain": "True"
     },
     "execution_count": 2,
     "metadata": {},
     "output_type": "execute_result"
    }
   ],
   "source": [
    "\n",
    "import json\n",
    "import logging\n",
    "import random\n",
    "import time\n",
    "\n",
    "import pandas as pd\n",
    "import yaml\n",
    "from tqdm import tqdm\n",
    "\n",
    "# from langchain_community.embeddings import XinferenceEmbeddings\n",
    "from libs.LLMs import *\n",
    "\n",
    "logging.basicConfig(level=logging.INFO, format='%(asctime)s - %(levelname)s - %(message)s')\n",
    "\n",
    "from graphs.n3.ExamTaskHandler import ExamTaskHandler\n",
    "load_dotenv()"
   ]
  },
  {
   "cell_type": "code",
   "outputs": [],
   "source": [
    "def collect_vocabulary(file_path):\n",
    "    # Read the CSV file\n",
    "    data = pd.read_csv(file_path)\n",
    "    # Shuffle the rows and reset the index\n",
    "    words = data.iloc[:, :2].sample(frac=1).reset_index(drop=True)\n",
    "    # Extract the second column (values) and convert to a single-line string\n",
    "    vocab_string = ','.join(words.iloc[:, 1].astype(str).tolist())\n",
    "    return vocab_string"
   ],
   "metadata": {
    "collapsed": false,
    "ExecuteTime": {
     "end_time": "2025-05-27T07:52:21.724488Z",
     "start_time": "2025-05-27T07:52:21.719400Z"
    }
   },
   "id": "d159b3254277b376",
   "execution_count": 3
  },
  {
   "cell_type": "code",
   "execution_count": 4,
   "id": "initial_id",
   "metadata": {
    "id": "initial_id",
    "ExecuteTime": {
     "end_time": "2025-05-27T07:52:21.745247Z",
     "start_time": "2025-05-27T07:52:21.726502Z"
    }
   },
   "outputs": [],
   "source": [
    "# Import N3 Vocabulary\n",
    "file_path = 'Vocab/n3.csv'\n",
    "# Display the content of the CSV file\n",
    "vocab_dict = collect_vocabulary(file_path)\n",
    "with open(\"Vocab/topics.txt\", \"r\", encoding=\"utf-8\") as file:\n",
    "    topics_list = [line.strip() for line in file]"
   ]
  },
  {
   "cell_type": "code",
   "outputs": [
    {
     "data": {
      "text/plain": "'そんざい,ようそ,か,ち,りく,ドライブ,だんし,じまん,けっせき,にっこり,えんぎ,まずしい,たび,あたたまる,ふこう,バイオリン,うったえる,すすめる,じょうたつ,まざる,まじる,じょう,きゅう,うさぎ,ながす,こい,すくなくとも,あな,ふち,いわう,しょうめい,まつ,むしあつい,おせん,こしょう,かける,アイスクリーム,かさねる,まえもって,かんしゃ,ちかごろ,うらぎる,このむ,きよう,やとう,せいげん,そっくり,であう,かてい,くわえる,ささえる,おうじる,ぶつ,きょうきゅう,うけとる,じょうほう,ダウン,かっき,かいいん,いし,ねんじゅう,ブレーキ,きたい,だいめい,しゅうしょく,いっち,けんこう,きじ,ししゅつ,つよまる,どくしょ,さいしゅう,かゆい,あらし,するどい,とうちゃく,けむり,せいめい,そなえる,せいけつ,まつ,むすぶ,きょか,せいきゅう,なかみ,かみなり,きゅうりょう,はっけん,なかば,たとえ,かみのけ,ベルト,いつのまにか,ぎし,きみ,だまる,わける,いわば,がい,こうへい,すいみん,じゅん,たとえ,ねがい,ぶ,くだ,あんき,くだり,ふたたび,ホーム,かみ,たんい,だんたい,ながれ,おもいつく,こくせき,としつき,トラック,たび,ろんぶん,わく,おさえる,きずく,しつぼう,むく,よぶん,まねく,つよめる,よゆう,まよう,おたがい,ひはん,ねんかん,ながめる,じゅうみん,たにん,ぎもん,かんせい,ちじ,ゆかい,せいちょう,かなり,じたい,あいて,がくしゃ,いじ,ご,ぜいたく,ぜんこく,しまった (かん),つぐ,じつりょく,レベル,ふくろ,しゅうちゅう,りこん,こうえん,あかり,せいさん,にっこう,はた,どうじ,はっしゃ,くりかえす,げいじゅつ,なっとく,みりょく,よのなか,こむぎ,じょう,ふく,ごがく,だけど,ひげき,きこう,かた,ふつう,つきあい,いらいら,たいほ,おろす,デモ,そば,くろう,はたらき,ばくだい,へい,しかく,がくしゅう,まる,げんだい,くむ,いぜん,もと,かしこい,くべつ,つづき,ぼう,かる,ストレス,ず,おそわる,さくひん,およぎ,マーケット,もうしわけ,かんこう,きんこ,たんじょう,マッサージ,せいしん,きかい,はね,へいきん,うらやましい,しよう,へらす,しめる,せいき,おしゃべり,きぎょう,ちがいない,うつる,しんちょう,みおくり,こうけん,ずっと,ちゅう,けしょう,ここ,いためる,こううん,いきもの,しんゆう,から,まめ,くみあい,プロ,たんに,つとめ,じょうだん,けってん,スキー,ま,しゅうり,なかま,ふせぐ,ぶつり,かくだい,いたずら,だん,こうせい,せっけい,はずれる,きつい,まく,かさい,めんきょ,きょうじゅ,せい,れっしゃ,めん,せんざい,およぼす,いんよう,まっか,だく,かんじょう,ぎいん,ぶっか,ぐうぜん,いわ,ばか,けん,きみょう,さる,ぶん,あう,みちる,さっきょく,しょうひ,なにも,つく,ジュース,せいぶつ,しゅくはく,へる,かだい,なぐる,きねん,そうじゅう,かんする,せいき,スープ,やくわり,どうか,プラス,ちゃんと,わだい,じしん,はっしゃ,きんえん,スケート,それでも,そこで,しるし,げんご,あつかう,うばう,ぶじ,ご,ぶん,ふうけい,グランド,たい,もの,すみ,しんこく,せきたん,のうぎょう,そそぐ,マスター,ろんじる,こな,かわ,する,たく,しゅうかく,やちん,げ,ぶたい,たま,ひろまる,より,しんよう,あてる,キャンプ,やく,わん,ひみつ,ほう,くみ,ちょうき,こうば,あたりまえ,いったい,でんし,こきゅう,そうとう,きょく,けん,チャンス,コード,さゆう,せいねんがっぴ,えいきゅう,しんり,しかも,こうしゃ,にち,じょうしき,カード,こうえん,にぎる,のぼる,インク,ひとこと,きぼう,てつ,きげん,しんこく,あんがい,か,りえき,あわ,こっせつ,とめる,かいが,かぞえる,せいこう,おもに,じさつ,よさん,みやこ,そんがい,ていこう,かげ,ほほ,くわしい,とめる,けいさん,つながる,たに,もんく,ほこり,にちじょう,まく,くるしい,しゅと,はなす,さほう,はくしゅ,ようす,きん,ひかく,そう,くん,しんがく,いったい,あたり,よわめる,い,さまざま,いねむり,たびたび,スタンド,ね,かたづけ,うんてん,しょくよく,さつ,さす,かこ,のぼる,いだく,かこむ,ちゃ,ひろげる,のびる,けっきょく,ねんだい,しどう,すむ,しょう,おえる,ふえ,かんれん,する,かんきゃく,ともに,ひこう,こじん,こうくう,つうしん,つなげる,りょうきん,さて,さんか,みまい,おとる,いずれ,ゆいいつ,あぶら,じっと,ふじん,かかく,ごうかく,むす,とく,どうとく,かがく,ひひょう,じっけん,せんこう,きょうちょう,とばす,やく,けっかん,せいひん,せいしき,ベンチ,たいする,つうじる,きょうちょう,ゆうこう,とら,スタイル,かんかく,わん,ユーモア,うめる,ふあん,ようするに,チーズ,なま,いんしょう,ばいう,もとづく,じんるい,さ,あいかわらず,ていき,とう,かわ,ほう,すみません (かん),もちあげる,チーム,エンジン,しょうねん,かぐ,とうひょう,おめにかかる,はん,スター,たんなる,どうろ,りゅうがく,ほうこう,デザート,だいじん,ちのう,せけん,はいゆう,もうしこむ,せいじん,ショック,こんらん,バランス,ただ,こうはい,おく,かくご,さべつ,ゆうじん,たび,へんこう,じゅんちょう,しあわせ,しょうひん,ほうせき,さます,しょさい,よわまる,てってい,せんこう,ゆずる,すごす,こうどう,きにいる,とうさん,アウト,かご,とりあげる,よこぎる,こんにち,たま,まんいち,つみ,けんせつ,あたえる,すがた,やとう,ことわざ,もよう,どくしん,かがやく,いき,めいし,ことによると,つたわる,しんごう,できれば,あきらめる,きせい,しゅだん,けいい,はかる,みる,せいねん,きちょう,ごみ,あちこち,ゆうのう,きず,まさに,はなれる,ミルク,しんちょう,たいりく,おき,せいぞう,ますます,ぜん,ぬらす,しょもつ,ちほう,いたみ,はかる,かわく,しゅう,ちがい,かた,かんどう,しげき,じょうたい,きゅう,いふく,なんでも,ぜったい,だが,やっかい,こんやく,わるくち,こうせい,かんじ,てきする,よせる,ははおや,そっと,ぐたい,グラス,さす,せいこう,ふしぎ,ひょうじょう,そうぞく,けいじ,なお,さかい,はんい,げんじょう,ちゅうしん,かわる,てきど,げんざい,きゅうに,しも,ひょう,りそう,かち,そろえる,しき,ほうほう,えいきょう,やど,こうそく,しょめい,きょうぎ,こくご,ようき,そん,たたむ,ワイン,しんたい,しょうとつ,しよう,のぞく,うず,アップ,いま,しかく,じゅう,おじぎ,いただきます,とおす,ノー,ひ,タイトル,かんとく,いっぱん,かいけい,はんだん,はんせい,せいしつ,える,たかめる,けんちく,うちゅう,ぎろん,なかみ,はん,とうあん,さかり,きゅうじょ,うめ,かり,つきあう,むし,にんき,ゆうこう,くらい,じょし,げき,およそ,けい,ぞうか,はかる,にあう,れいせい,かいし,のべる,ならす,ぶつける,だい,きちんと,しんぽ,よい,まざる,おそらく,まったく,そまつ,ないよう,ゆうき,いとこ,しょくたく,やがて,ちちおや,はだ,かわいそう,たいしょう,ひょうばん,くれ,いためる,いじ,ぎかい,きかん,ろんそう,くむ,ぜい,たいいく,すっぱい,てつがく,しり,しょうじょう,うつす,かえる,あきらか,ただ,ばくはつ,けんとう,それと,いっぽう,おん,かさなる,すえ,かわいらしい,いずみ,あと,てんけい,めんせつ,よなか,さける,ろうどう,てま,きょうかしょ,きほん,ひやす,のぞく,てき,きんだい,つける,さぎょう,めし,ルール,だいきん,ぶぶん,おまえ,ほしょう,わた,かぎる,ねんげつ,むりょう,のびる,ようい,てきせつ,むしろ,れんぞく,よ,かてい,りょうがえ,かり,いじょう,ねっちゅう,つとめ,かのう,びじん,まんぞく,せい,おもわず,はら,たいよう,せいめい,ます,がっき,きょうつう,みごと,せんこう,われわれ,あん,しょうしょう,ふか,ビデオ,かもしれない,かんしん,しょくひん,はんざい,はっぴょう,ふ,さめる,してん,あくしゅ,ダイヤ,めいじん,きかん,もしも,すでに,さんせい,りかい,かんせい,えん,ピクニック,すこしも,しつぎょう,み,パイプ,ちる,ちゅうもく,くらす,きふ,こくばん,しゅしょう,たしょう,ひっこし,たおす,ゆうしょう,きょうじゅ,りょう,じっし,ちゅうしょく,まく,まちがい,げんしょう,よそう,ぜんいん,ねずみ,しゅるい,ぬの,むかい,そで,かたがた,かんしん,ごうか,たがい,ひろがる,はってん,ほどう,しゅっしん,さいわい,かかえる,し,おさめる,む,じじつ,かみ,あくま,ためる,ふへい,ほうぼう,きろく,おしえ,うわ,ぐっすり,すむ,み,うがい,なやむ,どうぞよろしく,いき,やね,わん,こし,けいやく,ばめん,よめ,ほんと,かん,セット,かおり,くるう,てつどう,しはい,きゅうげき,ゆうびん,かえる,すいじゅん,ざいさん,ふせい,じゅうたい,ヨット,しょうがい,もやす,ちょうさ,しゃっきん,かわ,し,さばく,とつぜん,さばく,ほっと,さる,どりょく,とう,た,かんげい,よる,したしい,うまれ,ハイキング,きれ,ウイスキー,してん,マスコミ,せいど,いがい,まぜる,だい,しつど,ためす,センター,じょうし,あつまり,はく,すれちがう,すべて,とじる,しゅうきょう,ようきゅう,うつ,こっかい,こうかい,きんし,そう,れんそう,りゅうこう,つばさ,はんにん,すみ,きづく,じこく,そのうち,たく,がくもん,げんじつ,はい,ふかめる,たまらない,ちょうじょう,ちょうし,デート,ふる,バッグ,さんか,なべ,みらい,だます,こや,あら,はね,なる,プラスチック,ぐんたい,めったに,かく,とれる,たいおん,よぼう,しょうじき,たしか,えいせい,あんてい,コンテスト,しんこう,おとなしい,くだる,しばい,きゅうけい,かよう,くさい,のせる,しそう,きんがく,げきじょう,まもる,とく,くわえる,しゅんかん,ひじょう,ぜいきん,がく,うむ,もと,おう,とにかく,へんか,きまり,ピン,がっかり,つめる,びん,がか,ぜんしゃ,がく,ついに,やくす,けい,せめる,せつやく,なわ,こうふん,しんぞう,ひろめる,ていりゅうじょ,こくふく,ほえる,おうじ,かず,はなす,であい,かく,しゅう,せんきょ,こうほ,せいめい,はじまり,かえす,かね,しょくぎょう,はずす,しゅっぱん,いかり,のばす,ちきゅう,こす,したがって,しぼう,おくる,ながれる,そのまま,はら,ゆうき,ボート,めいわく,こうげき,さんこう,とどく,けんぽう,たいはん,じゅうたく,つうやく,じどう,しょう,そのうえ,はいたつ,きんちょう,あたる,あたたかい,たいした,ふるえる,ぎょうぎ,ふだん,たいじゅう,ぶんめい,デザイン,うまる,はなれる,のぞみ,うん,さんそ,ひ,そだつ,ふんいき,しりあい,うれる,どくとく,ねんかん,じょしゅ,せいせき,ぴったり,そんちょう,かんきょう,えいえん,しゅうい,かくにん,いつまでも,しばしば,わずか,たっぷり,なみ,さいちゅう,トン,ちりょう,おだやか,キャプテン,それとも,あわれ,ばったり,ミス,かし,さく,ところで,つゆ,ばっする,けっしん,もしかすると,こうかん,ライター,タイプライター,はい,うむ,たて,のう,きり,けいこう,ふじゆう,うしなう,まるで,だいとうりょう,それぞれ,だいひょう,どんなに,じょし,おに,けっこう,まつり,ぶつかる,はで,ぬける,せんたく,しかく,はんばい,じたい,ていしゅつ,ものおと,しんさつ,ひとり,たかまる,こうか,こうこく,ごうとう,たいざい,おさめる,たつ,さくら,ずれる,しんらい,ぜつめつ,つい,どうりょう,じょうけん,しほん,さんせい,てつや,しょうめい,そうぞう,ぎむ,よあけ,かね,ひょうか,ぼんやり,きんし,ふと,トップ,えさ,さっぱり,しょうたい,かいてき,しょうひん,らい～,しきゅう,ごく,ところが,つり,こぼす,すじ,しばふ,ちしき,イメージ,ていど,いきおい,ほぞん,しんこう,おさない,かつよう,はつめい,はかる,いち,かみ,にがて,ゆるす,ぬく,きょうりょく,ものがたり,さく,せき,エネルギー,ひも,ふやす,かくれる,いね,おんど,りょう,うし,とも,せい,こんなん,げんしょう,ひょう,ようてん,さっか,かわかす,てじな,せんじつ,はっこう,わき,じき,きり,かんがえ,がまん,はあ (かん),やめる,とう,ほんもの,じき,しな,むける,パイロット,かんじょう,つねに,わかれる,ね,しょくりょう,みょうごにち,ける,むかえ,ゲーム,くさる,さくもつ,ふれる,けっかん,かたい,めん,そう,あいじょう,がん,じどう,せいかく,はか,みょう,ふやす,えんぜつ,どろ,あたためる,こうさい,サイン,あき,かいけつ,とち,いしき,ひざ,とうぜん,ノック,きのどく,いた,たった,たよる,すなわち,むだ,えんき,なまける,かく,にっちゅう,びみょう,じゅう,しょるい,へる,くらし,とける,ぜんしん,すくう,じんぶつ,けいたい,たんご,うる,いたる,たいがく,さいてい,かし,うお,なみだ,じき,こうけい,ちらす,せつ,ぎん,ひっぱる,かち,はり,もんじ,メッセージ,めいれい,なくす,ちょきん,じんせい,スケジュール,クリスマス,かいぜん,じっこう,そうぞう,あやまり,しょうりゃく,こうりょ,せめる,つゆ,いまにも,たいし,としより,ぜん,うなる,あたためる,じゅよう,べつに,よす,じゅうし,うごかす,ひとりひとり,いどう,かんこう,ケース,あきる,たいら,つつみ,むく,おか,いし,なん,な,よろしく (かん),えいよう,たいかい,ちゅうもん,やく,あぶら,おもいで,おこる,けち,ボーイ,かく,ぐん,じょうきゃく,ほお,ちへいせん,こくみん,つく,くるしむ,ママ,ゴール,かたな,れつ,かんかく,ほこり,じょうきょう,しゅうしょく,おひる,どうよう,さける,たんとう,かんさつ,かせぐ,いぜん,まいご,しょうがくきん,いまに,いつか,じゅうよう,かんこう,みかける,おうだん,かく,さいしゅう,さく,はやる,のぞむ,ほぼ,ひょうめん,と,あてる,しきりに,あらわす,おしゃれ,かえる,おうえん,ペンキ,せいり,ものごと,びん,しぼう,しょり,しょく,めんどう,あるいは,いいん,ちいき,ゆうじょう,けつえき,ちく,つぐ,ひとしい,きげん,せい,いいん,ある,えんそう,がっき,じこ,きらう,なんで,まあ,できごと,まとまる,わがまま,どくりつ,ささる,くつう,しゅう,あげる,すいせん,いわい,らく,しんじる,く,げんば,スピーチ,そくど,いりょう,こうはい,もと,よ,ぞう,しっけ,あわてる,メンバー,はなしあう,きゅうそく,はくぶつかん,し,さけ,きのう,す,ぶ,あわせる,しょくもつ,けいい,きじ,じかに,けん,ねがう,おおや,かげん,いだい,こえる,ゆうしゅう,ていあん,はさみ,とざん,のち,あずかる,あいず,けいたい,ドレス,ふじん,はかる,とも,とう,つく,しぼう,ただ,きょうりょく,りつ,しんけん,しょうご,く,ぶっしつ,ふそく,とかい,か,トレーニング,てんこう,かける,たしかめる,もじ,こづつみ,ぶ,きょうぎ,しょうじる,じゅんばん,もとめる,つぎつぎ,ようび,しんせき,のう,ふうふ,あんまり,かくす,めいし,いちどに,まかせる,れいぎ,ぎゃく,きたく,データ,とんでもない,かたる,めいじる,ていでん,ちゅうおう,わく,ふり,まけ,え,まる,せきにん,ただちに,すてき,まく,けんかい,いき,おい,そして,たいせん,つぐ,せい,さす,しゅうにゅう,すぐれる,ひがい,こす,よん,たいくつ,じょうとう,だいぶぶん,やぶれる,よき,そしき,たいき,ひこう,しょうにん,ぼうけん,とおりすぎる,おろす,あたたまる,きかん,よみ,こぼれる,あんなに,しゅよう,たね,かいがい,たすかる,ざっと,はえる,きかい,ひっし,チャイム,さす,ロケット,とうよう,こおり,のばす,こじん,きゅうしゅう,こくもつ,ふたご,にんげん,けいき,かん,かえる,ねんれい,ほか,こうふく,おんだん,ジェットき,かなしむ,きんせん,たば,きょうどう,がいこう,つらい,でんとう,なにか,しゅちょう,ゆでる,いちじ,こうか,かぐ,おいつく,こんにちは,ちょくせつ,かじ,はん,おそれる,たい,れい,かんそう,ですから,いりょう,かつどう,としょ,め,こうそく,いらっしゃい,さらに,つまり,つうか,じょし,カー,ぶんや,アルバム,がら,どうし,とくちょう,あせ,あらわれ,しろ,いはん,あらわれる,いとこ,むしば,けいえい,きゅうそく,もどす,しんこう,こっか,あらわす,だって,ぜんたい,めうえ,ちい,しつ,かんじゃ,どうよう,じじょう,どうし,はんこう,めくる,いんさつ,トランプ,まじる,そうさ,ゆたか,おる,つける,たより,わる,ゆうり,しんこう,じんしゅ,こい,こぜに,よろこび,のんびり,そなえる,どく,しんり,はぶく,すう,から,かたづく,かける,てんこう,そう,わらい,す,マイク,しんけい,ぜんしん,もくてき,しょうにん,ビール,ひょうげん,さそう,たたく,た,のせる,くう,さいこう,くんれん,しょうばい,いつでも,たから,のこり,さけぶ,ちゅう,どうし,のうか,すすめる,けんさ,たっする,こきょう,かげ,とくちょう,れいがい,かんじる,だいり,おおう,もえる,よほう,うたがう,こうか,しょう,しだい,ふで,こいびと,びょう,さからう,あいする,つかむ,ほうふ,もうふ,せいぜい,ひたい,ゆう,どうしても,べんとう,はば,まね,のこす,ぎちょう,きれる,こうしゃ,ぶき,てきよう,あいにく,しげん,うっかり,つかまる,げんかい,やや,ぜん,にる,いっしゅ,あげる,しょうぼう,あずける,もったいない,じつに,えがく,ごめんなさい,そうち,いっそう,しずむ,とける,かかる,ふかまる,いっしょう,ちか,くむ,もちいる,ろうじん,みとめる,まち,しぜん,はだか,つぐ,ほほえむ,ぞう,ちこく,うつ,わ,かく,あく,おさめる,おう,たいど,ヨーロッパ,けっか,びょうどう,ふり,のうりょく,かいふく,すいせん,ごかい,お,とびだす,しゃべる,りこう,てんねん,のぞむ,ふまん,せいふ,パス,つうか,グループ,はえる,ちょうせん,ば,しじん,いちば,むね,ほんにん,のうみん,ジーンズ,こんかい,きんゆう,おう,おおいに,きんにく,はげしい,でんごん,ほうそう,クラシック,せいり,えんじょ,ひとごみ,がいしゅつ,ほご,みかた,しゅじゅつ,じっさい,おとこのひと,しはらい,かんそう,はし,ためし,かかり,ころす,ならす,ずつう,こおる,した,せいちょう,こうかい,ひよう,そうさ,にゅうじょう,の,しょうがい,かんりょう,きこう,すうじ,ひてい,ゆき,ざいりょう,じょおう,じゅうたい,たま,ハンサム,つうきん,あい,つうがく,こと,しきゅう,せっきょくてき,わざと,しゅうだん,のる,い,ならす,じんこう,ほり,で,なみ,やぶる,うわさ,うま,ざせき,のき,えいぎょう,どういつ,せきゆ,インタビュー,ごうけい,ちゅうし,ことわる,パスポート,せいねん,ドラマ,おん,むちゅう,であい,しんぱん,しまい,せんでん,こんなに,たまたま,いらい,なんとか,タオル,さます,くやしい,ほね,けいき,しょくぶつ,こうふく,マイナス,しき,ね,おそろしい,きおく,とくい,おぼれる,ラケット,ほうこく,ちえ,ゆか,つうこう,せんしゅ,つなぐ,ごく,たたかい,かてい,オフィス,あらわす,どこか,にえる,せいかく,まご,とく,きげん,ふく,いんたい,かんぜん,かもく,かい,しゅうせい,いどう,ちゅうしゃ,つれ,よそく,まなぶ,きたい,とたん,そうおん,なれる,アンケート,ボール,きゅうりょう,がくれき,いっか,とい,さい,なし,そろう,ながめ,ことなる,ひづけ,い,はったつ,ちょうだい,かくじつ,こんざつ,おうさま,ぐん,たたかう,じき,ねったい,くせ,あらた,くわわる,しゅつじょう,たつ,そこ,れい,かたい,しんせん,まぶしい,ほとけ,かん,とじる,もっとも,さす,きんぞく,まとめる,ソファー,けいこく,めいかく,けってい,はさん,きゅうか,けいゆ,みつ,まく,きゅう,かならずしも,こえる,ふくそう,よう,みやげ,しも,おろす,さいばん,なぞ,いち,はい,ちゅうこ,かぶる,ぶんせき,いわゆる,したがう,しよう,しはらう,おどろき,けんとう,きく,たく,つむ,あける,ちょしゃ,ふくめる,きしゃ,また,こんご,けんり,けつろん,ありがとう,すませる,テント,ひん,つもる,よごす,ころぶ,トンネル,ほのお,なか,ラベル,ほしょう,まぜる,わかれ,きん,つち,かいごう,いや,いっしゅん,しめす,かつやく,まさか,はたけ,てつだい,とし,うつる,サービス,プラン,じゅうだい,えん,おくれ,けいき,じょうきょう,ほり,たちば,たちあがる,いけない,さいのう,せつ,もくひょう,いじわる,ふくむ,する,クリーム,ふし,きし,しゅふ,しょうじょ,ぜん,へいわ,かぶ,かいしゃく,じょゆう,つかれ,なる,いのち,たま,しめる,さく,きおん,こっきょう,ようじん,ちゅうがく,きょうふ,かう,かん,はかせ,このみ,ダンス,あらゆる,しらせ,たまる,じけん,どうよう,たんじゅん,ある,たつ,じつげん,そんけい,さめる,メモ,これら,じみ,おめでとう,けいじ,つむ,きにゅう,スイッチ,コーチ,ようき,かんり,とうじ,あらそう,にほん,ほしょう,あたり,どく,パーセント,いし,たいしょう,せつび,くさり,ほうもん,じょじょに,きょだい,さく,しゅぎ,えがお,いらい,かざり,かしゅ,ぐん,にっぽん,かんりょう,げんきん,はやす,じつは,きかん,なぜなら,さら,たすける,おび,はく,しょくりょう'"
     },
     "execution_count": 5,
     "metadata": {},
     "output_type": "execute_result"
    }
   ],
   "source": [
    "vocab_dict"
   ],
   "metadata": {
    "collapsed": false,
    "ExecuteTime": {
     "end_time": "2025-05-27T07:52:21.755413Z",
     "start_time": "2025-05-27T07:52:21.748257Z"
    }
   },
   "id": "b8190757154161de",
   "execution_count": 5
  },
  {
   "cell_type": "markdown",
   "id": "4c1cdce8b1f57ef3",
   "metadata": {
    "collapsed": false,
    "id": "4c1cdce8b1f57ef3"
   },
   "source": [
    "#### load Models"
   ]
  },
  {
   "cell_type": "code",
   "outputs": [],
   "source": [
    "from typing import List, Optional\n",
    "\n",
    "from langchain_core.prompts import ChatPromptTemplate\n",
    "\n",
    "from pydantic import BaseModel, Field\n",
    "\n",
    "# instruction = \"\"\"\n",
    "# Section 1: Vocabulary and Grammar\n",
    "# - Kanji reading (kanji_reading): 8 questions\n",
    "# - Write Chinese characters (write_chinese): 6 questions\n",
    "# - Word Meaning Selection (word_meaning): 11 questions\n",
    "# - Synonyms substitution (synonym_substitution): 5 questions\n",
    "# - word usage (word_usage): 5 questions\n",
    "# - Grammar fill in the blank (sentence_grammar): 13 questions\n",
    "# - Sentence sorting (sentence_sort): 5 questions\n",
    "# - Grammar structure selection (sentence_structure): 4-5 questions\n",
    "#\n",
    "# Section 2: Reading Comprehension\n",
    "# - Short passages (short_passage_read): 4 articles\n",
    "# - Mid-size passages (midsize_passage_read): 2 articles\n",
    "# - Long passages (long_passage_read): 1 articles\n",
    "# - Information retrieval (info_retrieval): 1 articles\n",
    "#\n",
    "# Section 3: Listening Comprehension\n",
    "# - Topic understanding (topic_understanding): 6 questions\n",
    "# - Key understanding (keypoint_understanding): 6 questions\n",
    "# - Summary understanding (summary_understanding): 3 questions\n",
    "# - Active expression (active_expression): 4 questions\n",
    "# - Immediate acknowledgment (immediate_ack): 9 questions\n",
    "# \"\"\"\n",
    "\n",
    "instruction = \"\"\"\n",
    "Section 1: Vocabulary and Grammar\n",
    "- のことばの読み方として最もよいものを、1・2・3・4から一つえらびなさい (kanji_reading): 8 questions\n",
    "- このことばを漢字で書くとき、最もよいものを、１・２・３・４から一つえらびなさい (write_chinese): 6 questions\n",
    "\n",
    "Section 2: Reading Comprehension\n",
    "- Information retrieval (info_retrieval): 0 articles\n",
    "\n",
    "Section 3: Listening Comprehension\n",
    "- Topic understanding (topic_understanding): 0 questions\n",
    "\n",
    "\"\"\"\n",
    "\n",
    "\n",
    "direct_gen_outline_prompt = ChatPromptTemplate.from_messages(\n",
    "    [\n",
    "        (\n",
    "            \"system\",\n",
    "            f\"You are a japanese teacher. Your job is to write an outline for a JLPT Japanese-Language Proficiency Test N3 level exam paper. The words in outline must be presented in Japanese only. The complexity should be restricted to N3 level and respect japanese culture. The JLPT Japanese-Language Proficiency Test exam paper includes a mix of moderate and very difficult questions to accurately assess the test-taker's proficiency across different aspects of the language.\"\n",
    "            f\"First, evenly pick Japanese words used in different part of sentence from 'Vocabulary' for questions in Vocabulary and Grammar, ensuring 40 percent of very difficult words. At Section 2 and 3, randomly choose topics in 'TopicList' for Reading Comprehension and Listening Comprehension Sections, don't repeat to choose a same word or topic\"\n",
    "            f\"Second, you should abide by the provided exam instruction and decide the number of questions and content in the each Section.\"\n",
    "            f\"Finally, write the outline of the examination paper in japanese and provide question topics according to the instructions.\"\n",
    "            f\"Instruction: {instruction}\",\n",
    "        ),\n",
    "        (\"user\", \"TopicList: {topic_list}, Vocabulary: {vocab_dict}\"),\n",
    "    ]\n",
    ")\n"
   ],
   "metadata": {
    "collapsed": false,
    "ExecuteTime": {
     "end_time": "2025-05-27T07:52:21.764604Z",
     "start_time": "2025-05-27T07:52:21.757433Z"
    }
   },
   "id": "e339295a858fb5f8",
   "execution_count": 6
  },
  {
   "cell_type": "markdown",
   "id": "fed5f032dadafac1",
   "metadata": {
    "collapsed": false,
    "id": "fed5f032dadafac1"
   },
   "source": [
    "## Data Strcuture"
   ]
  },
  {
   "cell_type": "code",
   "execution_count": 7,
   "id": "39329a71b16d2400",
   "metadata": {
    "id": "39329a71b16d2400",
    "ExecuteTime": {
     "end_time": "2025-05-27T07:52:21.782012Z",
     "start_time": "2025-05-27T07:52:21.766612Z"
    }
   },
   "outputs": [],
   "source": [
    "class QuestionTopic(BaseModel):\n",
    "    topic: str = Field(..., title=\"a vocabulary or topic hint for a question\")\n",
    "\n",
    "\n",
    "class Subsection(BaseModel):\n",
    "    subsection_title: str = Field(..., title=\"subsection English word in () only from the instruction\")\n",
    "    description: str = Field(..., title=\"giving the number of questions and requirements\")\n",
    "    question_topics: Optional[List[QuestionTopic]] = Field(\n",
    "        default_factory=list\n",
    "    )\n",
    "\n",
    "    @property\n",
    "    def as_str(self) -> str:\n",
    "        question_topics_str = \"\\n\".join(\n",
    "            f\"- **{qt.topic}**\" for qt in self.question_topics\n",
    "        )\n",
    "        return f\"### {self.subsection_title}\\n\\n{self.description}\\n\\n{question_topics_str}\".strip()\n",
    "\n",
    "class Section(BaseModel):\n",
    "    section_title: str = Field(..., title=\"Title of the section\")\n",
    "    subsections: Optional[List[Subsection]] = Field(\n",
    "        default_factory=list,\n",
    "        title=\"Titles and reason for each subsection of the JLPT exam page.\",\n",
    "    )\n",
    "\n",
    "    @property\n",
    "    def as_str(self) -> str:\n",
    "        subsections = \"\\n\\n\".join(\n",
    "            subsection.as_str for subsection in self.subsections or []\n",
    "        )\n",
    "        return f\"## {self.section_title}\\n\\n{subsections}\".strip()\n",
    "\n",
    "\n",
    "class Outline(BaseModel):\n",
    "    page_title: str = Field(..., title=\"Title of the JLPT exam page\")\n",
    "    sections: List[Section] = Field(\n",
    "        default_factory=list,\n",
    "        title=\"Titles and descriptions for each section of the JLPT exam paper.\",\n",
    "    )\n",
    "\n",
    "    @property\n",
    "    def as_str(self) -> str:\n",
    "        sections = \"\\n\\n\".join(section.as_str for section in self.sections)\n",
    "        return f\"# {self.page_title}\\n\\n{sections}\".strip()\n"
   ]
  },
  {
   "cell_type": "code",
   "execution_count": 8,
   "id": "d0730de416980c6",
   "metadata": {
    "id": "d0730de416980c6",
    "ExecuteTime": {
     "end_time": "2025-05-27T07:52:21.790306Z",
     "start_time": "2025-05-27T07:52:21.784028Z"
    }
   },
   "outputs": [],
   "source": [
    "# Read the topics from a file, sort them, and print the sorted list\n",
    "def process_topics(file_path):\n",
    "    try:\n",
    "        # Read the file\n",
    "        with open(file_path, 'r', encoding='utf-8') as file:\n",
    "            topics = file.readlines()\n",
    "\n",
    "        # Remove any extra whitespace or newline characters\n",
    "        topics = [topic.strip() for topic in topics if topic.strip()]\n",
    "\n",
    "        # Shuffle the topics randomly\n",
    "        random.shuffle(topics)\n",
    "\n",
    "    except FileNotFoundError:\n",
    "        print(\"The file was not found. Please check the file path.\")\n",
    "    except Exception as e:\n",
    "        print(\"An error occurred:\", str(e))\n",
    "\n",
    "    except FileNotFoundError:\n",
    "        print(\"The file was not found. Please check the file path.\")\n",
    "    except Exception as e:\n",
    "        print(\"An error occurred:\", str(e))"
   ]
  },
  {
   "cell_type": "code",
   "execution_count": 9,
   "id": "8fc17fee14c40716",
   "metadata": {
    "id": "8fc17fee14c40716",
    "ExecuteTime": {
     "end_time": "2025-05-27T07:52:27.813478Z",
     "start_time": "2025-05-27T07:52:21.792311Z"
    }
   },
   "outputs": [
    {
     "name": "stderr",
     "output_type": "stream",
     "text": [
      "2025-05-27 15:52:27,795 - INFO - HTTP Request: POST https://ai-rolandaws880125ai409947751408.openai.azure.com/openai/deployments/gpt-4.1/chat/completions?api-version=2025-01-01-preview \"HTTP/1.1 200 OK\"\n"
     ]
    }
   ],
   "source": [
    "# Preload all topics from the file\n",
    "with open(\"Vocab/topics.txt\", \"r\", encoding=\"utf-8\") as file:\n",
    "    topics_list = [line.strip() for line in file]\n",
    "\n",
    "generate_outline_direct = direct_gen_outline_prompt | azure_llm.with_structured_output(Outline)\n",
    "initial_outline = generate_outline_direct.invoke({\"topic_list\": topics_list, \"vocab_dict\": vocab_dict})"
   ]
  },
  {
   "cell_type": "code",
   "execution_count": 10,
   "id": "d53b7d9ff86a5377",
   "metadata": {
    "colab": {
     "base_uri": "https://localhost:8080/",
     "height": 1000
    },
    "id": "d53b7d9ff86a5377",
    "outputId": "0e4ce018-377a-48d5-9b87-bed3eac897ac",
    "ExecuteTime": {
     "end_time": "2025-05-27T07:52:27.821062Z",
     "start_time": "2025-05-27T07:52:27.814486Z"
    }
   },
   "outputs": [
    {
     "data": {
      "text/plain": "<IPython.core.display.Markdown object>",
      "text/markdown": "# 日本語能力試験N3 模擬試験 問題用紙\n\n## 第1部　語彙・文法\n\n### のことばの読み方として最もよいものを、1・2・3・4から一つえらびなさい (kanji_reading)\n\n8問　下線部の言葉の読み方を選ぶ問題です。40％は難しい語彙を含みます。\n\n- **存在**\n- **要素**\n- **陸**\n- **自慢**\n- **欠席**\n- **煙**\n- **虚無**\n- **哀れ**\n\n### このことばを漢字で書くとき、最もよいものを、１・２・３・４から一つえらびなさい (write_chinese)\n\n6問　ひらがなで書かれた言葉を正しい漢字に直す問題です。40％は難しい語彙を含みます。\n\n- **すすめる**\n- **ふせぐ**\n- **つよまる**\n- **そんがい**\n- **しつぼう**\n- **まざる**"
     },
     "metadata": {},
     "output_type": "display_data"
    }
   ],
   "source": [
    "from IPython.display import display, Markdown\n",
    "\n",
    "display(Markdown(initial_outline.as_str))"
   ]
  },
  {
   "cell_type": "code",
   "execution_count": 11,
   "id": "5c2b7e675e5302a8",
   "metadata": {
    "colab": {
     "base_uri": "https://localhost:8080/"
    },
    "id": "5c2b7e675e5302a8",
    "outputId": "657ff47f-94af-4bd5-8035-03239fd42380",
    "ExecuteTime": {
     "end_time": "2025-05-27T07:57:08.494605Z",
     "start_time": "2025-05-27T07:52:27.822014Z"
    }
   },
   "outputs": [
    {
     "name": "stderr",
     "output_type": "stream",
     "text": [
      "Processing 第1部　語彙・文法:   0%|          | 0/2 [00:00<?, ?it/s]\n",
      "Processing のことばの読み方として最もよいものを、1・2・3・4から一つえらびなさい (kanji_reading):   0%|          | 0/8 [00:00<?, ?it/s]\u001B[A"
     ]
    },
    {
     "name": "stdout",
     "output_type": "stream",
     "text": [
      "---WEB SEARCH---\n",
      "---Generator----\n"
     ]
    },
    {
     "name": "stderr",
     "output_type": "stream",
     "text": [
      "2025-05-27 15:52:33,613 - INFO - HTTP Request: POST https://ai-rolandaws880125ai409947751408.openai.azure.com/openai/deployments/gpt-4.1/chat/completions?api-version=2025-01-01-preview \"HTTP/1.1 200 OK\"\n",
      "2025-05-27 15:52:33,616 - INFO - Generated message: <li>\n",
      "    この世界にはさまざまな生き物が<u>存在</u>している。\n",
      "    <ol>\n",
      "        <li>そんざい</li>\n",
      "        <li>そんさい</li>\n",
      "        <li>ぞんざい</li>\n",
      "        <li>ぞんさい</li>\n",
      "    </ol>\n",
      "</li>\n"
     ]
    },
    {
     "name": "stdout",
     "output_type": "stream",
     "text": [
      "---REVISOR---\n"
     ]
    },
    {
     "name": "stderr",
     "output_type": "stream",
     "text": [
      "2025-05-27 15:52:38,307 - INFO - HTTP Request: POST https://ai-rolandaws880125ai409947751408.openai.azure.com/openai/deployments/gpt-4.1-mini/chat/completions?api-version=2025-01-01-preview \"HTTP/1.1 200 OK\"\n",
      "2025-05-27 15:52:38,309 - INFO - Refelect message: Thank you for your submission. Here is my detailed critique and recommendations based on your JLPT N3 level exam question:\n",
      "\n",
      "1. Content Accuracy:\n",
      "- The vocabulary word \"存在\" is appropriate for the JLPT N3 level, as it is a common noun and verb form that learners at this level should recognize.\n",
      "- The sentence \"この世界にはさまざまな生き物が存在している。\" is clear, relevant, and appropriately challenging for N3 learners. It uses natural, everyday language and introduces a useful verb form.\n",
      "- The four answer choices focus on the correct reading of the kanji \"存在,\" which is a suitable task for testing vocabulary and kanji reading skills at N3.\n",
      "\n",
      "2. Question and Answer Quality:\n",
      "- The question is straightforward, asking for the correct reading of the underlined word, which is a common question type in JLPT exams.\n",
      "- The answer choices are well designed to test the learner's knowledge of the correct pronunciation. The choices include plausible distractors by varying the vowel sounds and voicing, which is appropriate.\n",
      "- The correct answer is \"そんざい,\" which is option 1.\n",
      "- There is no ambiguity in the question or the choices, so it effectively assesses the learner's reading ability.\n",
      "\n",
      "3. Detailed Refinement and Cultural Appropriateness:\n",
      "- The sentence content is culturally neutral and appropriate for Japanese language learners.\n",
      "- The vocabulary and grammar used are consistent with academic and everyday Japanese.\n",
      "- No adjustments are necessary here.\n",
      "\n",
      "Recommendations:\n",
      "- To further enhance the question, consider adding a follow-up question that asks learners to use \"存在\" in a sentence or to choose the correct meaning in context, which would broaden the assessment of vocabulary knowledge.\n",
      "- Ensure that the font or underlining clearly distinguishes the target word in the exam paper.\n",
      "- Apart from that, this question is well-constructed and suitable for the intended level.\n",
      "\n",
      "Overall, your submission is GOOD ENOUGH for an N3 level vocabulary reading question.\n"
     ]
    },
    {
     "name": "stdout",
     "output_type": "stream",
     "text": [
      "--- AI Reviser feels Good Enough ---\n",
      "--- Formatter ---\n"
     ]
    },
    {
     "name": "stderr",
     "output_type": "stream",
     "text": [
      "2025-05-27 15:52:40,104 - INFO - HTTP Request: POST https://ai-rolandaws880125ai409947751408.openai.azure.com/openai/deployments/gpt-4.1-mini/chat/completions?api-version=2025-01-01-preview \"HTTP/1.1 200 OK\"\n",
      "2025-05-27 15:52:40,115 - INFO - Formatted message: {'html_question': 'この世界にはさまざまな生き物が<u>存在</u>している。', 'correct_answer': 1, 'choices': ['そんざい', 'そんさい', 'ぞんざい', 'ぞんさい']}\n",
      "\n",
      "Processing のことばの読み方として最もよいものを、1・2・3・4から一つえらびなさい (kanji_reading):  12%|█▎        | 1/8 [00:12<01:25, 12.27s/it]\u001B[A"
     ]
    },
    {
     "name": "stdout",
     "output_type": "stream",
     "text": [
      "---WEB SEARCH---\n",
      "---Generator----\n"
     ]
    },
    {
     "name": "stderr",
     "output_type": "stream",
     "text": [
      "2025-05-27 15:52:46,833 - INFO - HTTP Request: POST https://ai-rolandaws880125ai409947751408.openai.azure.com/openai/deployments/gpt-4.1/chat/completions?api-version=2025-01-01-preview \"HTTP/1.1 200 OK\"\n",
      "2025-05-27 15:52:46,836 - INFO - Generated message: <ol><li>このプロジェクトにはいくつか大切な<u>要素</u>があります。<ol><li>ようす</li><li>ようそ</li><li>ようしょ</li><li>ようせい</li></ol></li></ol>\n"
     ]
    },
    {
     "name": "stdout",
     "output_type": "stream",
     "text": [
      "---REVISOR---\n"
     ]
    },
    {
     "name": "stderr",
     "output_type": "stream",
     "text": [
      "2025-05-27 15:52:51,166 - INFO - HTTP Request: POST https://ai-rolandaws880125ai409947751408.openai.azure.com/openai/deployments/gpt-4.1-mini/chat/completions?api-version=2025-01-01-preview \"HTTP/1.1 200 OK\"\n",
      "2025-05-27 15:52:51,168 - INFO - Refelect message: Thank you for your submission. Here is my detailed critique and recommendations:\n",
      "\n",
      "1. Content Accuracy:\n",
      "- The vocabulary question focuses on the word 要素, which is appropriate for JLPT N3 level as it is a common compound noun.\n",
      "- The question asks for the correct reading of 要素, which is a typical vocabulary recognition task suitable for N3.\n",
      "- The answer choices (ようす, ようそ, ようしょ, ようせい) are plausible readings, with ようそ being the correct one. This is good as it tests recognition of on’yomi readings.\n",
      "- The context sentence is clear and relevant, providing a natural usage example of 要素 in a project context, which fits the academic/business vocabulary often seen at N3.\n",
      "- Overall, the content is accurate and appropriate for the level.\n",
      "\n",
      "2. Question and Answer Quality:\n",
      "- The question is straightforward: select the correct reading of the underlined word.\n",
      "- The answer choices are clearly presented and distinct.\n",
      "- However, the question prompt itself is missing; it is important that the question explicitly asks the test taker to select the correct reading of the underlined word.\n",
      "- The question tests vocabulary reading recognition but does not assess grammar or other language skills. For a balanced N3 exam paper, consider including questions that test grammar points or reading comprehension as well.\n",
      "- The difficulty level is appropriate for N3.\n",
      "\n",
      "3. Detailed Refinement:\n",
      "- The sentence is culturally and contextually appropriate.\n",
      "- The use of a project context is relevant and realistic for learners.\n",
      "- The formatting is clear, but since you requested no comments about HTML, I will not address it.\n",
      "\n",
      "Recommendations:\n",
      "- Please add a clear question prompt such as: 「下線部の読み方として正しいものを一つ選びなさい。」 This ensures clarity for test takers.\n",
      "- Consider adding a variety of question types in your exam paper to comprehensively assess grammar, vocabulary, and reading comprehension at N3 level.\n",
      "- Ensure that the vocabulary questions cover a range of JLPT N3 vocabulary items.\n",
      "- If possible, provide answer keys for your questions.\n",
      "\n",
      "Overall, this is a solid vocabulary reading question appropriate for JLPT N3, but adding a clear question prompt and diversifying question types would improve the exam paper quality.\n",
      "\n",
      "Thank you.\n"
     ]
    },
    {
     "name": "stdout",
     "output_type": "stream",
     "text": [
      "---Generator----\n"
     ]
    },
    {
     "name": "stderr",
     "output_type": "stream",
     "text": [
      "2025-05-27 15:52:52,234 - INFO - HTTP Request: POST https://ai-rolandaws880125ai409947751408.openai.azure.com/openai/deployments/gpt-4.1/chat/completions?api-version=2025-01-01-preview \"HTTP/1.1 200 OK\"\n",
      "2025-05-27 15:52:52,236 - INFO - Generated message: <ol><li>このプロジェクトには大切な<u>要素</u>がいくつかあります。<ol><li>ようす</li><li>ようそ</li><li>ようしょ</li><li>ようせい</li></ol></li></ol>\n"
     ]
    },
    {
     "name": "stdout",
     "output_type": "stream",
     "text": [
      "---REVISOR---\n"
     ]
    },
    {
     "name": "stderr",
     "output_type": "stream",
     "text": [
      "2025-05-27 15:52:57,286 - INFO - HTTP Request: POST https://ai-rolandaws880125ai409947751408.openai.azure.com/openai/deployments/gpt-4.1-mini/chat/completions?api-version=2025-01-01-preview \"HTTP/1.1 200 OK\"\n",
      "2025-05-27 15:52:57,287 - INFO - Refelect message: Thank you for your revised submission. Here is my feedback:\n",
      "\n",
      "1. Content Accuracy:\n",
      "- The sentence \"このプロジェクトには大切な要素がいくつかあります。\" is clear, natural, and contextually appropriate for JLPT N3 level.\n",
      "- The vocabulary word 要素 and its reading options remain suitable for N3 learners.\n",
      "- The vocabulary tested is relevant and accurately reflects JLPT N3 level expectations.\n",
      "\n",
      "2. Question and Answer Quality:\n",
      "- The sentence is concise and well-constructed.\n",
      "- However, the question prompt is still missing. It is essential to explicitly instruct test takers on what to do, for example: 「下線部の読み方として正しいものを一つ選びなさい。」 Without this, the question lacks clarity.\n",
      "- The answer choices are appropriate and not ambiguous.\n",
      "- The task effectively tests recognition of correct kanji reading, which is a common N3 question type.\n",
      "\n",
      "3. Detailed Refinement:\n",
      "- The content remains culturally appropriate and relevant.\n",
      "- The context of a project with important elements is realistic and suitable for learners.\n",
      "- The removal of \"いくつか\" before \"大切な\" in the revised sentence is acceptable, though including \"いくつか\" (several) might better reflect natural usage.\n",
      "\n",
      "Recommendations:\n",
      "- Please add a clear question prompt instructing test takers on what to do.\n",
      "- Consider including a variety of question types beyond vocabulary reading, such as grammar usage or short reading comprehension passages, to provide a well-rounded assessment.\n",
      "- Ensure consistent use of natural expressions; \"いくつか大切な要素があります\" is slightly more natural than \"大切な要素がいくつかあります,\" but both are acceptable.\n",
      "- Continue to verify that vocabulary and grammar tested align with JLPT N3 standards.\n",
      "\n",
      "Overall, this vocabulary reading question is appropriate and well-constructed, but adding an explicit question prompt is necessary to improve clarity and test taker guidance.\n",
      "\n",
      "Thank you.\n"
     ]
    },
    {
     "name": "stdout",
     "output_type": "stream",
     "text": [
      "--- Reach the Maximum Round ---\n",
      "--- Formatter ---\n"
     ]
    },
    {
     "name": "stderr",
     "output_type": "stream",
     "text": [
      "2025-05-27 15:52:58,082 - INFO - HTTP Request: POST https://ai-rolandaws880125ai409947751408.openai.azure.com/openai/deployments/gpt-4.1-mini/chat/completions?api-version=2025-01-01-preview \"HTTP/1.1 200 OK\"\n",
      "2025-05-27 15:52:58,084 - INFO - Formatted message: {'html_question': 'このプロジェクトには大切な<u>要素</u>がいくつかあります。', 'correct_answer': 2, 'choices': ['ようす', 'ようそ', 'ようしょ', 'ようせい']}\n",
      "\n",
      "Processing のことばの読み方として最もよいものを、1・2・3・4から一つえらびなさい (kanji_reading):  25%|██▌       | 2/8 [00:30<01:33, 15.62s/it]\u001B[A"
     ]
    },
    {
     "name": "stdout",
     "output_type": "stream",
     "text": [
      "---WEB SEARCH---\n",
      "---WEB SEARCH---\n",
      "---Generator----\n"
     ]
    },
    {
     "name": "stderr",
     "output_type": "stream",
     "text": [
      "2025-05-27 15:53:06,411 - INFO - HTTP Request: POST https://ai-rolandaws880125ai409947751408.openai.azure.com/openai/deployments/gpt-4.1/chat/completions?api-version=2025-01-01-preview \"HTTP/1.1 200 OK\"\n",
      "2025-05-27 15:53:06,413 - INFO - Generated message: <ol>\n",
      "    <li>\n",
      "        兄は<u>動物</u>が大好きです。\n",
      "        <ol>\n",
      "            <li>どうしょく</li>\n",
      "            <li>どうぶつ</li>\n",
      "            <li>どうそく</li>\n",
      "            <li>どうもう</li>\n",
      "        </ol>\n",
      "    </li>\n",
      "</ol>\n"
     ]
    },
    {
     "name": "stdout",
     "output_type": "stream",
     "text": [
      "---REVISOR---\n"
     ]
    },
    {
     "name": "stderr",
     "output_type": "stream",
     "text": [
      "2025-05-27 15:53:16,346 - INFO - HTTP Request: POST https://ai-rolandaws880125ai409947751408.openai.azure.com/openai/deployments/gpt-4.1-mini/chat/completions?api-version=2025-01-01-preview \"HTTP/1.1 200 OK\"\n",
      "2025-05-27 15:53:16,348 - INFO - Refelect message: Thank you for submitting your JLPT N3 exam question. Here is my detailed critique and recommendations:\n",
      "\n",
      "1. Content Accuracy:\n",
      "- The vocabulary question focuses on the reading of the kanji 動物, which is appropriate for N3 level learners as it tests common kanji compounds related to animals.\n",
      "- The answer choices include plausible distractors that test the learner’s kanji reading skills.\n",
      "- The question context is very simple and clear, suitable for N3 level.\n",
      "\n",
      "2. Question and Answer Quality:\n",
      "- The question is clearly worded, asking for the correct reading of the underlined kanji.\n",
      "- The answer choices are distinct and not ambiguous.\n",
      "- The difficulty level is appropriate for N3, as 動物 (どうぶつ) is a basic compound often introduced around this level.\n",
      "\n",
      "3. Detailed Refinement and Cultural Relevance:\n",
      "- The sentence “兄は動物が大好きです。” is natural and culturally appropriate.\n",
      "- However, as a single question, it only tests vocabulary reading. For a more comprehensive assessment, consider including questions that test grammar, listening, or reading comprehension related to pets or animals.\n",
      "- You might also consider adding a short reading passage about pets, followed by multiple questions to better simulate the JLPT exam format.\n",
      "\n",
      "Recommendations:\n",
      "- While this question is good as a vocabulary reading item, I recommend expanding the exam paper with additional questions covering grammar and reading comprehension at N3 level.\n",
      "- Ensure that the vocabulary and grammar points tested align with the JLPT N3 official guidelines.\n",
      "- If you add more questions, maintain clear wording and culturally relevant content.\n",
      "\n",
      "Overall, this submission is a good start but would benefit from more diverse and comprehensive question types to fully assess N3 level skills.\n",
      "\n",
      "Please submit additional questions or a full exam paper for further review.\n",
      "\n",
      "Thank you!\n"
     ]
    },
    {
     "name": "stdout",
     "output_type": "stream",
     "text": [
      "---Generator----\n"
     ]
    },
    {
     "name": "stderr",
     "output_type": "stream",
     "text": [
      "2025-05-27 15:53:20,973 - INFO - HTTP Request: POST https://ai-rolandaws880125ai409947751408.openai.azure.com/openai/deployments/gpt-4.1/chat/completions?api-version=2025-01-01-preview \"HTTP/1.1 200 OK\"\n",
      "2025-05-27 15:53:20,975 - INFO - Generated message: <ol>\n",
      "    <li>\n",
      "        私は毎日<u>世話</u>をしている犬がいます。\n",
      "        <ol>\n",
      "            <li>せわ</li>\n",
      "            <li>せか</li>\n",
      "            <li>よわ</li>\n",
      "            <li>よか</li>\n",
      "        </ol>\n",
      "    </li>\n",
      "    <li>\n",
      "        この猫はとても<u>賢い</u>です。\n",
      "        <ol>\n",
      "            <li>かしこい</li>\n",
      "            <li>けんこい</li>\n",
      "            <li>かんこい</li>\n",
      "            <li>けしかい</li>\n",
      "        </ol>\n",
      "    </li>\n",
      "    <li>\n",
      "        うちの犬は<u>散歩</u>が好きです。\n",
      "        <ol>\n",
      "            <li>さんぼ</li>\n",
      "            <li>さんぽ</li>\n",
      "            <li>さぼ</li>\n",
      "            <li>さぽ</li>\n",
      "        </ol>\n",
      "    </li>\n",
      "    <li>\n",
      "        ペットの健康のために<u>注意</u>が必要です。\n",
      "        <ol>\n",
      "            <li>ちゅい</li>\n",
      "            <li>ちゅうい</li>\n",
      "            <li>しゅい</li>\n",
      "            <li>しゅうい</li>\n",
      "        </ol>\n",
      "    </li>\n",
      "    <li>\n",
      "        私の家には<u>小鳥</u>が三羽います。\n",
      "        <ol>\n",
      "            <li>こちょう</li>\n",
      "            <li>ことり</li>\n",
      "            <li>しょうとり</li>\n",
      "            <li>しょうちょう</li>\n",
      "        </ol>\n",
      "    </li>\n",
      "</ol>\n"
     ]
    },
    {
     "name": "stdout",
     "output_type": "stream",
     "text": [
      "---REVISOR---\n"
     ]
    },
    {
     "name": "stderr",
     "output_type": "stream",
     "text": [
      "2025-05-27 15:53:25,764 - INFO - HTTP Request: POST https://ai-rolandaws880125ai409947751408.openai.azure.com/openai/deployments/gpt-4.1-mini/chat/completions?api-version=2025-01-01-preview \"HTTP/1.1 200 OK\"\n",
      "2025-05-27 15:53:25,767 - INFO - Refelect message: Thank you for providing additional questions for review. Here is a detailed critique and recommendations:\n",
      "\n",
      "1. Content Accuracy:\n",
      "- Each question focuses on the correct reading of common kanji compounds relevant to the theme of pets, which is appropriate for JLPT N3 vocabulary.\n",
      "- The vocabulary items 世話 (せわ), 賢い (かしこい), 散歩 (さんぽ), 注意 (ちゅうい), and 小鳥 (ことり) are suitable for N3 learners.\n",
      "- The distractors are plausible and test the learner’s knowledge of kanji readings effectively.\n",
      "- The sentences are clear, natural, and contextually appropriate for the theme of pets and daily life.\n",
      "\n",
      "2. Question and Answer Quality:\n",
      "- The questions are clearly worded, asking for the correct reading of the underlined kanji.\n",
      "- Answer choices are distinct and unambiguous.\n",
      "- The difficulty level aligns well with N3 expectations, focusing on intermediate kanji vocabulary.\n",
      "- The questions comprehensively assess vocabulary reading skills within a coherent thematic context.\n",
      "\n",
      "3. Detailed Refinement and Cultural Relevance:\n",
      "- The sentences are culturally appropriate and reflect typical Japanese expressions about pets and care.\n",
      "- The use of counters (三羽) and verbs (散歩が好きです) adds naturalness and relevance.\n",
      "- To enhance the exam paper, consider including grammar questions, sentence completion, or short reading comprehension passages related to pets.\n",
      "- You might also want to vary question types to assess listening or usage in context, which are part of JLPT N3.\n",
      "\n",
      "Recommendations:\n",
      "- These vocabulary reading questions are well-constructed and suitable for N3 level.\n",
      "- To create a balanced exam paper, please add grammar questions and reading comprehension items.\n",
      "- Maintain thematic consistency to help learners engage with the content.\n",
      "- Ensure that the entire exam paper includes a variety of question types to fully evaluate the learner’s abilities.\n",
      "\n",
      "Overall, this set of questions is well done and appropriate for the targeted level. Expanding the exam with diverse question formats will improve its comprehensiveness.\n",
      "\n",
      "Please feel free to submit further questions or a full exam draft for additional feedback.\n",
      "\n",
      "Thank you!\n"
     ]
    },
    {
     "name": "stdout",
     "output_type": "stream",
     "text": [
      "--- Reach the Maximum Round ---\n",
      "--- Formatter ---\n"
     ]
    },
    {
     "name": "stderr",
     "output_type": "stream",
     "text": [
      "2025-05-27 15:53:28,852 - INFO - HTTP Request: POST https://ai-rolandaws880125ai409947751408.openai.azure.com/openai/deployments/gpt-4.1-mini/chat/completions?api-version=2025-01-01-preview \"HTTP/1.1 200 OK\"\n",
      "2025-05-27 15:53:28,856 - INFO - Formatted message: {'html_question': '<ol><li>私は毎日<u>世話</u>をしている犬がいます。</li><li>この猫はとても<u>賢い</u>です。</li><li>うちの犬は<u>散歩</u>が好きです。</li><li>ペットの健康のために<u>注意</u>が必要です。</li><li>私の家には<u>小鳥</u>が三羽います。</li></ol>', 'choices': ['せわ', 'せか', 'よわ', 'よか', 'かしこい', 'けんこい', 'かんこい', 'けしかい', 'さんぼ', 'さんぽ', 'さぼ', 'さぽ', 'ちゅい', 'ちゅうい', 'しゅい', 'しゅうい', 'こちょう', 'ことり', 'しょうとり', 'しょうちょう'], 'correct_answer': 1}\n",
      "\n",
      "Processing のことばの読み方として最もよいものを、1・2・3・4から一つえらびなさい (kanji_reading):  38%|███▊      | 3/8 [01:01<01:52, 22.54s/it]\u001B[A"
     ]
    },
    {
     "name": "stdout",
     "output_type": "stream",
     "text": [
      "---WEB SEARCH---\n",
      "---Generator----\n"
     ]
    },
    {
     "name": "stderr",
     "output_type": "stream",
     "text": [
      "2025-05-27 15:53:36,732 - INFO - HTTP Request: POST https://ai-rolandaws880125ai409947751408.openai.azure.com/openai/deployments/gpt-4.1/chat/completions?api-version=2025-01-01-preview \"HTTP/1.1 200 OK\"\n",
      "2025-05-27 15:53:36,734 - INFO - Generated message: <li>\n",
      "    彼は自分の成績を<u>自慢</u>していました。\n",
      "    <ol>\n",
      "        <li>じばん</li>\n",
      "        <li>じまん</li>\n",
      "        <li>じもん</li>\n",
      "        <li>じもん</li>\n",
      "    </ol>\n",
      "</li>\n"
     ]
    },
    {
     "name": "stdout",
     "output_type": "stream",
     "text": [
      "---REVISOR---\n"
     ]
    },
    {
     "name": "stderr",
     "output_type": "stream",
     "text": [
      "2025-05-27 15:53:41,707 - INFO - HTTP Request: POST https://ai-rolandaws880125ai409947751408.openai.azure.com/openai/deployments/gpt-4.1-mini/chat/completions?api-version=2025-01-01-preview \"HTTP/1.1 200 OK\"\n",
      "2025-05-27 15:53:41,709 - INFO - Refelect message: Thank you for your submission. Here is the detailed critique and recommendations based on the factors provided:\n",
      "\n",
      "1. Content Accuracy:\n",
      "- The vocabulary word \"自慢\" is appropriate for the JLPT N3 level, as it is a common noun/verb used in everyday contexts.\n",
      "- The sentence \"彼は自分の成績を自慢していました。\" is clear, grammatically correct, and relevant.\n",
      "- The reading choices provided are all plausible kana readings, but there is a duplication of option 3 and 4 (\"じもん\"), which is likely an error.\n",
      "\n",
      "2. Question and Answer Quality:\n",
      "- The question is straightforward: identify the correct reading of the underlined word \"自慢.\"\n",
      "- However, the duplication of option 3 and 4 introduces ambiguity and reduces the quality of the question.\n",
      "- Also, the first option \"じばん\" is a plausible reading but incorrect for this word, which is good as a distractor.\n",
      "- The correct answer \"じまん\" is present.\n",
      "- The question tests vocabulary recognition and kanji reading, which is suitable for N3.\n",
      "- To improve, ensure all options are unique and plausible distractors.\n",
      "\n",
      "3. Detailed Refinement:\n",
      "- The content is culturally appropriate and reflects common Japanese language use.\n",
      "- The sentence context is natural and relevant.\n",
      "- Consider adding a variety of question types to assess other skills (e.g., grammar usage, comprehension) in the overall exam paper.\n",
      "- Ensure consistent formatting and no duplicated options.\n",
      "\n",
      "Recommendations:\n",
      "- Remove the duplicated option 4 and replace it with a different plausible distractor, such as \"じみん\" or another incorrect but believable reading.\n",
      "- Double-check all answer options for uniqueness and plausibility.\n",
      "- Consider including a brief explanation or feedback for the correct answer in the answer key to aid learning.\n",
      "- If this is part of a larger exam, balance vocabulary questions with grammar and reading comprehension to cover all N3 skills.\n",
      "\n",
      "Overall, the question is well-designed but needs correction of duplicated options to avoid confusion.\n",
      "\n",
      "Please revise accordingly.\n",
      "\n",
      "Thank you.\n"
     ]
    },
    {
     "name": "stdout",
     "output_type": "stream",
     "text": [
      "---Generator----\n"
     ]
    },
    {
     "name": "stderr",
     "output_type": "stream",
     "text": [
      "2025-05-27 15:53:43,081 - INFO - HTTP Request: POST https://ai-rolandaws880125ai409947751408.openai.azure.com/openai/deployments/gpt-4.1/chat/completions?api-version=2025-01-01-preview \"HTTP/1.1 200 OK\"\n",
      "2025-05-27 15:53:43,084 - INFO - Generated message: <li>\n",
      "    彼は自分の成績を<u>自慢</u>していました。\n",
      "    <ol>\n",
      "        <li>じばん</li>\n",
      "        <li>じまん</li>\n",
      "        <li>じもん</li>\n",
      "        <li>じみん</li>\n",
      "    </ol>\n",
      "</li>\n"
     ]
    },
    {
     "name": "stdout",
     "output_type": "stream",
     "text": [
      "---REVISOR---\n"
     ]
    },
    {
     "name": "stderr",
     "output_type": "stream",
     "text": [
      "2025-05-27 15:53:46,847 - INFO - HTTP Request: POST https://ai-rolandaws880125ai409947751408.openai.azure.com/openai/deployments/gpt-4.1-mini/chat/completions?api-version=2025-01-01-preview \"HTTP/1.1 200 OK\"\n",
      "2025-05-27 15:53:46,849 - INFO - Refelect message: Thank you for the revised submission. Here is the feedback:\n",
      "\n",
      "1. Content Accuracy:\n",
      "- The sentence remains clear, grammatically correct, and appropriate for JLPT N3 level.\n",
      "- The vocabulary word \"自慢\" is correctly used and suitable for this level.\n",
      "- The reading options now are all unique and plausible distractors, which is good.\n",
      "\n",
      "2. Question and Answer Quality:\n",
      "- The question format is straightforward and unambiguous: selecting the correct reading of the underlined word.\n",
      "- The options are all plausible kana readings, increasing the challenge appropriately for N3.\n",
      "- The correct answer \"じまん\" is correctly included.\n",
      "- This question effectively tests kanji reading skills relevant to the N3 level.\n",
      "\n",
      "3. Detailed Refinement:\n",
      "- The content remains culturally appropriate and natural.\n",
      "- The formatting is clear and consistent.\n",
      "- The sentence context is realistic and meaningful for learners.\n",
      "\n",
      "Recommendations:\n",
      "- This question is well-constructed and suitable as a vocabulary reading question for JLPT N3.\n",
      "- For further enhancement, consider including questions that test grammar usage, listening, or reading comprehension to provide a balanced assessment.\n",
      "- Providing answer keys with explanations can further support learner understanding.\n",
      "\n",
      "Overall, this submission is GOOD ENOUGH for the intended purpose.\n"
     ]
    },
    {
     "name": "stdout",
     "output_type": "stream",
     "text": [
      "--- Reach the Maximum Round ---\n",
      "--- Formatter ---\n"
     ]
    },
    {
     "name": "stderr",
     "output_type": "stream",
     "text": [
      "2025-05-27 15:53:47,798 - INFO - HTTP Request: POST https://ai-rolandaws880125ai409947751408.openai.azure.com/openai/deployments/gpt-4.1-mini/chat/completions?api-version=2025-01-01-preview \"HTTP/1.1 200 OK\"\n",
      "2025-05-27 15:53:47,800 - INFO - Formatted message: {'html_question': '彼は自分の成績を<u>自慢</u>していました。', 'correct_answer': 2, 'choices': ['じばん', 'じまん', 'じもん', 'じみん']}\n",
      "\n",
      "Processing のことばの読み方として最もよいものを、1・2・3・4から一つえらびなさい (kanji_reading):  50%|█████     | 4/8 [01:19<01:24, 21.12s/it]\u001B[A"
     ]
    },
    {
     "name": "stdout",
     "output_type": "stream",
     "text": [
      "---WEB SEARCH---\n",
      "---Generator----\n"
     ]
    },
    {
     "name": "stderr",
     "output_type": "stream",
     "text": [
      "2025-05-27 15:53:54,247 - INFO - HTTP Request: POST https://ai-rolandaws880125ai409947751408.openai.azure.com/openai/deployments/gpt-4.1/chat/completions?api-version=2025-01-01-preview \"HTTP/1.1 200 OK\"\n",
      "2025-05-27 15:53:54,249 - INFO - Generated message: <li>\n",
      "    体調が悪かったので、昨日の授業を<u>欠席</u>しました。\n",
      "    <ol>\n",
      "        <li>けっせき</li>\n",
      "        <li>けっせつ</li>\n",
      "        <li>けっしゅう</li>\n",
      "        <li>けっしょく</li>\n",
      "    </ol>\n",
      "</li>\n"
     ]
    },
    {
     "name": "stdout",
     "output_type": "stream",
     "text": [
      "---REVISOR---\n"
     ]
    },
    {
     "name": "stderr",
     "output_type": "stream",
     "text": [
      "2025-05-27 15:53:58,752 - INFO - HTTP Request: POST https://ai-rolandaws880125ai409947751408.openai.azure.com/openai/deployments/gpt-4.1-mini/chat/completions?api-version=2025-01-01-preview \"HTTP/1.1 200 OK\"\n",
      "2025-05-27 15:53:58,754 - INFO - Refelect message: The question tests the reading of the kanji 欠席 in a sentence context, which is appropriate for JLPT N3 level. The sentence \"体調が悪かったので、昨日の授業を欠席しました。\" is clear, natural, and relevant to everyday situations, fitting the N3 level well.\n",
      "\n",
      "The multiple-choice options are suitable, as they include plausible readings that a learner might confuse, such as けっせつ and けっしょく, which helps assess the student's kanji reading knowledge accurately.\n",
      "\n",
      "Recommendations:\n",
      "1. The question is clear and unambiguous, focusing on vocabulary and kanji reading skills.\n",
      "2. To enhance the challenge and better assess comprehension, consider including a question that asks for the meaning of 欠席 in this context or to use it in a sentence.\n",
      "3. Ensure consistent formatting throughout the exam paper for all similar questions.\n",
      "4. The cultural context of missing a class due to health reasons is appropriate and relatable for learners.\n",
      "\n",
      "Overall, this question is well-designed for the JLPT N3 level.\n",
      "\n",
      "GOOD ENOUGH\n"
     ]
    },
    {
     "name": "stdout",
     "output_type": "stream",
     "text": [
      "--- AI Reviser feels Good Enough ---\n",
      "--- Formatter ---\n"
     ]
    },
    {
     "name": "stderr",
     "output_type": "stream",
     "text": [
      "2025-05-27 15:53:59,624 - INFO - HTTP Request: POST https://ai-rolandaws880125ai409947751408.openai.azure.com/openai/deployments/gpt-4.1-mini/chat/completions?api-version=2025-01-01-preview \"HTTP/1.1 200 OK\"\n",
      "2025-05-27 15:53:59,627 - INFO - Formatted message: {'html_question': '体調が悪かったので、昨日の授業を<u>欠席</u>しました。', 'correct_answer': 1, 'choices': ['けっせき', 'けっせつ', 'けっしゅう', 'けっしょく']}\n",
      "\n",
      "Processing のことばの読み方として最もよいものを、1・2・3・4から一つえらびなさい (kanji_reading):  62%|██████▎   | 5/8 [01:31<00:53, 17.77s/it]\u001B[A"
     ]
    },
    {
     "name": "stdout",
     "output_type": "stream",
     "text": [
      "---WEB SEARCH---\n",
      "---WEB SEARCH---\n",
      "---Generator----\n"
     ]
    },
    {
     "name": "stderr",
     "output_type": "stream",
     "text": [
      "2025-05-27 15:54:08,671 - INFO - HTTP Request: POST https://ai-rolandaws880125ai409947751408.openai.azure.com/openai/deployments/gpt-4.1/chat/completions?api-version=2025-01-01-preview \"HTTP/1.1 200 OK\"\n",
      "2025-05-27 15:54:08,673 - INFO - Generated message: <ol><li>私は毎朝<u>自転車</u>で駅まで行きます。<ol><li>じてんくるま</li><li>じてんしゃ</li><li>じどうしゃ</li><li>じしゃてん</li></ol></li></ol>\n"
     ]
    },
    {
     "name": "stdout",
     "output_type": "stream",
     "text": [
      "---REVISOR---\n"
     ]
    },
    {
     "name": "stderr",
     "output_type": "stream",
     "text": [
      "2025-05-27 15:54:20,467 - INFO - HTTP Request: POST https://ai-rolandaws880125ai409947751408.openai.azure.com/openai/deployments/gpt-4.1-mini/chat/completions?api-version=2025-01-01-preview \"HTTP/1.1 200 OK\"\n",
      "2025-05-27 15:54:20,469 - INFO - Refelect message: Thank you for your submission. Here is my detailed critique and recommendations:\n",
      "\n",
      "1. Content Accuracy:\n",
      "- The vocabulary tested here is appropriate for JLPT N3 level. \"自転車\" (bicycle) is a common word that N3 learners should know.\n",
      "- The options given test the learner's ability to recognize the correct reading of the kanji compound, which is a suitable skill at this level.\n",
      "- The sentence \"私は毎朝自転車で駅まで行きます。\" is clear, relevant, and contextually appropriate for the topic of transportation.\n",
      "\n",
      "2. Question and Answer Quality:\n",
      "- The question is straightforward: select the correct reading of the underlined word.\n",
      "- The distractors (incorrect options) are plausible and test the learner's kanji reading knowledge well:\n",
      "  - じてんくるま (non-existent word)\n",
      "  - じてんしゃ (correct reading)\n",
      "  - じどうしゃ (means automobile, different word)\n",
      "  - じしゃてん (incorrect order)\n",
      "- The question is unambiguous and clearly worded.\n",
      "\n",
      "3. Detailed Refinement:\n",
      "- The content is culturally appropriate and relevant to Japanese daily life and language learning.\n",
      "- One suggestion is to ensure that the question explicitly asks for the reading of the underlined word, but since instructions should not be added, this is acceptable.\n",
      "- Another recommendation is to include a variety of question types in the overall exam to assess different skills (grammar, vocabulary, reading comprehension, listening), but for this single question, it is well designed.\n",
      "\n",
      "Overall, the question aligns well with the JLPT N3 level and serves its purpose effectively.\n",
      "\n",
      "Recommendation: Please continue to include a balanced set of questions covering grammar and reading comprehension, and maintain clear, contextually relevant sentences like this one.\n",
      "\n",
      "GOOD ENOUGH\n"
     ]
    },
    {
     "name": "stdout",
     "output_type": "stream",
     "text": [
      "--- AI Reviser feels Good Enough ---\n",
      "--- Formatter ---\n"
     ]
    },
    {
     "name": "stderr",
     "output_type": "stream",
     "text": [
      "2025-05-27 15:54:21,243 - INFO - HTTP Request: POST https://ai-rolandaws880125ai409947751408.openai.azure.com/openai/deployments/gpt-4.1-mini/chat/completions?api-version=2025-01-01-preview \"HTTP/1.1 200 OK\"\n",
      "2025-05-27 15:54:21,246 - INFO - Formatted message: {'html_question': '私は毎朝<u>自転車</u>で駅まで行きます。', 'correct_answer': 2, 'choices': ['じてんくるま', 'じてんしゃ', 'じどうしゃ', 'じしゃてん']}\n",
      "\n",
      "Processing のことばの読み方として最もよいものを、1・2・3・4から一つえらびなさい (kanji_reading):  75%|███████▌  | 6/8 [01:53<00:38, 19.08s/it]\u001B[A"
     ]
    },
    {
     "name": "stdout",
     "output_type": "stream",
     "text": [
      "---WEB SEARCH---\n",
      "---Generator----\n"
     ]
    },
    {
     "name": "stderr",
     "output_type": "stream",
     "text": [
      "2025-05-27 15:54:28,323 - INFO - HTTP Request: POST https://ai-rolandaws880125ai409947751408.openai.azure.com/openai/deployments/gpt-4.1/chat/completions?api-version=2025-01-01-preview \"HTTP/1.1 200 OK\"\n",
      "2025-05-27 15:54:28,326 - INFO - Generated message: <li>\n",
      "    彼は人生に<u>虚無</u>を感じているようだった。\n",
      "    <ol>\n",
      "        <li>きょむ</li>\n",
      "        <li>きょぶ</li>\n",
      "        <li>こむ</li>\n",
      "        <li>けむ</li>\n",
      "    </ol>\n",
      "</li>\n"
     ]
    },
    {
     "name": "stdout",
     "output_type": "stream",
     "text": [
      "---REVISOR---\n"
     ]
    },
    {
     "name": "stderr",
     "output_type": "stream",
     "text": [
      "2025-05-27 15:54:45,006 - INFO - HTTP Request: POST https://ai-rolandaws880125ai409947751408.openai.azure.com/openai/deployments/gpt-4.1-mini/chat/completions?api-version=2025-01-01-preview \"HTTP/1.1 200 OK\"\n",
      "2025-05-27 15:54:45,008 - INFO - Refelect message: Thank you for your submission. Here is my detailed feedback and recommendations:\n",
      "\n",
      "1. Content Accuracy:\n",
      "- The vocabulary item \"虚無\" is appropriate for JLPT N3 level, as it is a somewhat advanced noun meaning \"emptiness\" or \"nihilism,\" which fits well in a sentence about feeling in life.\n",
      "- The sentence context \"彼は人生に虚無を感じているようだった。\" is clear, natural, and relevant, providing a meaningful context for the vocabulary.\n",
      "- The reading options include the correct reading \"きょむ\" and plausible distractors, which is good.\n",
      "\n",
      "2. Question and Answer Quality:\n",
      "- The question is straightforward and unambiguous: it asks for the correct reading of the underlined word.\n",
      "- The four answer choices are concise and well-formed.\n",
      "- The difficulty level matches JLPT N3, as recognizing the reading of \"虚無\" requires intermediate vocabulary knowledge.\n",
      "- However, since \"虚無\" is a compound word that might be slightly challenging for N3 learners, it would be helpful if the rest of the exam balances this with more accessible vocabulary.\n",
      "\n",
      "3. Cultural and Contextual Appropriateness:\n",
      "- The sentence is culturally neutral and appropriate; it does not contain any content that is culturally sensitive or inappropriate.\n",
      "- The theme of \"feeling emptiness in life\" is a common and acceptable topic in Japanese language materials.\n",
      "\n",
      "Recommendations:\n",
      "- Consider providing a variety of question types in the exam paper to assess grammar, vocabulary, reading comprehension, and listening skills comprehensively.\n",
      "- Maintain a balance between challenging vocabulary like \"虚無\" and more common words to keep the exam fair for N3 learners.\n",
      "- Ensure that distractors are plausible but not too misleading to avoid confusion.\n",
      "- Overall, this question is well-constructed and suitable for the JLPT N3 level.\n",
      "\n",
      "In summary, this question is well-designed and appropriate. GOOD ENOUGH.\n"
     ]
    },
    {
     "name": "stdout",
     "output_type": "stream",
     "text": [
      "--- AI Reviser feels Good Enough ---\n",
      "--- Formatter ---\n"
     ]
    },
    {
     "name": "stderr",
     "output_type": "stream",
     "text": [
      "2025-05-27 15:54:45,895 - INFO - HTTP Request: POST https://ai-rolandaws880125ai409947751408.openai.azure.com/openai/deployments/gpt-4.1-mini/chat/completions?api-version=2025-01-01-preview \"HTTP/1.1 200 OK\"\n",
      "2025-05-27 15:54:45,897 - INFO - Formatted message: {'html_question': '彼は人生に<u>虚無</u>を感じているようだった。', 'correct_answer': 1, 'choices': ['きょむ', 'きょぶ', 'こむ', 'けむ']}\n",
      "\n",
      "Processing のことばの読み方として最もよいものを、1・2・3・4から一つえらびなさい (kanji_reading):  88%|████████▊ | 7/8 [02:18<00:20, 20.90s/it]\u001B[A"
     ]
    },
    {
     "name": "stdout",
     "output_type": "stream",
     "text": [
      "---WEB SEARCH---\n",
      "---Generator----\n"
     ]
    },
    {
     "name": "stderr",
     "output_type": "stream",
     "text": [
      "2025-05-27 15:54:53,413 - INFO - HTTP Request: POST https://ai-rolandaws880125ai409947751408.openai.azure.com/openai/deployments/gpt-4.1/chat/completions?api-version=2025-01-01-preview \"HTTP/1.1 200 OK\"\n",
      "2025-05-27 15:54:53,415 - INFO - Generated message: <li>\n",
      "    その映画は多くの人に<u>哀れ</u>を感じさせた。\n",
      "    <ol>\n",
      "        <li>あいれ</li>\n",
      "        <li>あわれ</li>\n",
      "        <li>あいわ</li>\n",
      "        <li>あわり</li>\n",
      "    </ol>\n",
      "</li>\n"
     ]
    },
    {
     "name": "stdout",
     "output_type": "stream",
     "text": [
      "---REVISOR---\n"
     ]
    },
    {
     "name": "stderr",
     "output_type": "stream",
     "text": [
      "2025-05-27 15:54:59,033 - INFO - HTTP Request: POST https://ai-rolandaws880125ai409947751408.openai.azure.com/openai/deployments/gpt-4.1-mini/chat/completions?api-version=2025-01-01-preview \"HTTP/1.1 200 OK\"\n",
      "2025-05-27 15:54:59,035 - INFO - Refelect message: Thank you for your submission. Here is my detailed critique and recommendations:\n",
      "\n",
      "1. Content Accuracy:  \n",
      "- The vocabulary focus on the word \"哀れ\" is appropriate for JLPT N3 level, as it is a common adjective expressing pity or sorrow.  \n",
      "- The sentence \"その映画は多くの人に哀れを感じさせた。\" is clear, grammatically correct, and contextually relevant. It uses the word in a natural way that tests understanding of meaning and reading.  \n",
      "- The kanji reading question is suitable for assessing the candidate’s ability to correctly read a somewhat advanced kanji word, fitting the N3 level.\n",
      "\n",
      "2. Question and Answer Quality:  \n",
      "- The question format is straightforward and unambiguous: it asks for the correct reading of the underlined word.  \n",
      "- The answer choices include plausible distractors, with only one correct reading \"あわれ.\" The distractors are reasonable and do not confuse due to similarity with other common readings, which is good.  \n",
      "- This question effectively tests vocabulary reading skills without being too easy or too difficult for N3.\n",
      "\n",
      "3. Cultural and Academic Relevance:  \n",
      "- The sentence content is culturally neutral and appropriate, referencing a movie and emotional response, which is common and understandable in Japanese academic and everyday contexts.  \n",
      "- The vocabulary \"哀れ\" is a good choice as it is often used in literature and media, fitting well with academic language exposure.\n",
      "\n",
      "Recommendations:  \n",
      "- Consider adding a variety of question types in the full exam paper to assess other skills such as grammar usage, listening, and reading comprehension to provide a balanced evaluation.  \n",
      "- For this item alone, it is well constructed and requires no changes.\n",
      "\n",
      "Overall, this question is well-designed and suitable for the JLPT N3 level.\n",
      "\n",
      "Final assessment: GOOD ENOUGH\n"
     ]
    },
    {
     "name": "stdout",
     "output_type": "stream",
     "text": [
      "--- AI Reviser feels Good Enough ---\n",
      "--- Formatter ---\n"
     ]
    },
    {
     "name": "stderr",
     "output_type": "stream",
     "text": [
      "2025-05-27 15:55:00,760 - INFO - HTTP Request: POST https://ai-rolandaws880125ai409947751408.openai.azure.com/openai/deployments/gpt-4.1-mini/chat/completions?api-version=2025-01-01-preview \"HTTP/1.1 200 OK\"\n",
      "2025-05-27 15:55:00,762 - INFO - Formatted message: {'html_question': 'その映画は多くの人に<u>哀れ</u>を感じさせた。', 'correct_answer': 2, 'choices': ['あいれ', 'あわれ', 'あいわ', 'あわり']}\n",
      "\n",
      "Processing のことばの読み方として最もよいものを、1・2・3・4から一つえらびなさい (kanji_reading): 100%|██████████| 8/8 [02:32<00:00, 19.11s/it]\u001B[A\n",
      "Processing 第1部　語彙・文法:  50%|█████     | 1/2 [02:32<02:32, 152.92s/it]\n",
      "Processing このことばを漢字で書くとき、最もよいものを、１・２・３・４から一つえらびなさい (write_chinese):   0%|          | 0/6 [00:00<?, ?it/s]\u001B[A"
     ]
    },
    {
     "name": "stdout",
     "output_type": "stream",
     "text": [
      "---WEB SEARCH---\n",
      "---Generator----\n"
     ]
    },
    {
     "name": "stderr",
     "output_type": "stream",
     "text": [
      "2025-05-27 15:55:07,481 - INFO - HTTP Request: POST https://ai-rolandaws880125ai409947751408.openai.azure.com/openai/deployments/gpt-4.1/chat/completions?api-version=2025-01-01-preview \"HTTP/1.1 200 OK\"\n",
      "2025-05-27 15:55:07,483 - INFO - Generated message: この本を友達に<u>すすめる</u>つもりです。  \n",
      "  1. 進める  \n",
      "  2. 勧める  \n",
      "  3. 薦める  \n",
      "  4. 奨める\n"
     ]
    },
    {
     "name": "stdout",
     "output_type": "stream",
     "text": [
      "---REVISOR---\n"
     ]
    },
    {
     "name": "stderr",
     "output_type": "stream",
     "text": [
      "2025-05-27 15:55:28,522 - INFO - Retrying request to /chat/completions in 0.461269 seconds\n",
      "2025-05-27 15:55:33,563 - INFO - HTTP Request: POST https://ai-rolandaws880125ai409947751408.openai.azure.com/openai/deployments/gpt-4.1-mini/chat/completions?api-version=2025-01-01-preview \"HTTP/1.1 200 OK\"\n",
      "2025-05-27 15:55:33,565 - INFO - Refelect message: Thank you for your submission. Here is my detailed critique and recommendations:\n",
      "\n",
      "1. Content Accuracy:  \n",
      "- The question focuses on the correct kanji for the verb \"すすめる\" in the sentence \"この本を友達にすすめるつもりです。\" This is appropriate for JLPT N3 as it tests kanji recognition and usage in context.  \n",
      "- The four kanji options provided (進める, 勧める, 薦める, 奨める) are all valid readings of \"すすめる\" but have different meanings, which is a good way to test nuanced understanding.  \n",
      "- The context sentence is clear and relevant, reflecting everyday conversation and common usage of the verb \"勧める\" meaning \"to recommend.\"  \n",
      "\n",
      "2. Question and Answer Quality:  \n",
      "- The question is clear and unambiguous: the student must select the correct kanji for \"すすめる\" in this context.  \n",
      "- The options are well chosen to test knowledge of similar-sounding verbs with different kanji and meanings.  \n",
      "- The difficulty level is appropriate for JLPT N3, where learners are expected to distinguish kanji with similar readings and understand context to choose the correct one.  \n",
      "\n",
      "3. Cultural and Academic Relevance:  \n",
      "- The sentence and vocabulary are culturally appropriate and reflect common Japanese usage.  \n",
      "- The question aligns well with academic expectations for this level, focusing on kanji usage and meaning differentiation.  \n",
      "\n",
      "Recommendations:  \n",
      "- Consider adding a brief explanation or feedback section after the question in the exam to clarify why the correct answer is 勧める, as this can enhance learning.  \n",
      "- To further challenge students, you might include a follow-up question asking them to explain the difference in meaning among the four kanji options. However, this is optional and depends on exam length constraints.  \n",
      "\n",
      "Overall, this question is well constructed, clear, and suitable for JLPT N3 level.  \n",
      "\n",
      "Final evaluation: GOOD ENOUGH\n"
     ]
    },
    {
     "name": "stdout",
     "output_type": "stream",
     "text": [
      "--- AI Reviser feels Good Enough ---\n",
      "--- Formatter ---\n"
     ]
    },
    {
     "name": "stderr",
     "output_type": "stream",
     "text": [
      "2025-05-27 15:55:34,407 - INFO - HTTP Request: POST https://ai-rolandaws880125ai409947751408.openai.azure.com/openai/deployments/gpt-4.1-mini/chat/completions?api-version=2025-01-01-preview \"HTTP/1.1 200 OK\"\n",
      "2025-05-27 15:55:34,410 - INFO - Formatted message: {'html_question': 'この本を友達に<u>すすめる</u>つもりです。', 'choices': ['進める', '勧める', '薦める', '奨める'], 'correct_answer': 2}\n",
      "\n",
      "Processing このことばを漢字で書くとき、最もよいものを、１・２・３・４から一つえらびなさい (write_chinese):  17%|█▋        | 1/6 [00:33<02:48, 33.64s/it]\u001B[A"
     ]
    },
    {
     "name": "stdout",
     "output_type": "stream",
     "text": [
      "---WEB SEARCH---\n",
      "---Generator----\n"
     ]
    },
    {
     "name": "stderr",
     "output_type": "stream",
     "text": [
      "2025-05-27 15:55:40,701 - INFO - HTTP Request: POST https://ai-rolandaws880125ai409947751408.openai.azure.com/openai/deployments/gpt-4.1/chat/completions?api-version=2025-01-01-preview \"HTTP/1.1 200 OK\"\n",
      "2025-05-27 15:55:40,703 - INFO - Generated message: 風邪を<u>ふせぐ</u>ために、手をよく洗いましょう。  \n",
      "  1. 防ぐ  \n",
      "  2. 妨ぐ  \n",
      "  3. 塞ぐ  \n",
      "  4. 拒ぐ\n"
     ]
    },
    {
     "name": "stdout",
     "output_type": "stream",
     "text": [
      "---REVISOR---\n"
     ]
    },
    {
     "name": "stderr",
     "output_type": "stream",
     "text": [
      "2025-05-27 15:55:45,953 - INFO - HTTP Request: POST https://ai-rolandaws880125ai409947751408.openai.azure.com/openai/deployments/gpt-4.1-mini/chat/completions?api-version=2025-01-01-preview \"HTTP/1.1 200 OK\"\n",
      "2025-05-27 15:55:45,956 - INFO - Refelect message: Thank you for your submission. Here is a detailed critique and recommendations regarding your JLPT N3 level question:\n",
      "\n",
      "1. Content Accuracy:\n",
      "- The vocabulary question focuses on the verb ふせぐ, which is appropriate for the JLPT N3 level.\n",
      "- The sentence \"風邪をふせぐために、手をよく洗いましょう。\" is clear, relevant, and contextually appropriate.\n",
      "- The four kanji options provided are all read as ふせぐ, which tests the student's ability to distinguish nuance and meaning based on context. This is a good approach for N3 vocabulary.\n",
      "\n",
      "2. Question and Answer Quality:\n",
      "- The question is straightforward and clearly worded.\n",
      "- The options are well chosen, as 防ぐ is the correct kanji for \"to prevent,\" matching the context of preventing a cold.\n",
      "- 妨ぐ (to hinder), 塞ぐ (to block/stop up), and 拒ぐ (to refuse) are plausible distractors, which makes the question appropriately challenging.\n",
      "- The question assesses vocabulary knowledge and kanji recognition, fitting well within the N3 level scope.\n",
      "\n",
      "3. Cultural and Academic Relevance:\n",
      "- The sentence about preventing a cold by washing hands is culturally relevant and reflects common health advice in Japan.\n",
      "- The language is appropriate for academic testing and everyday usage.\n",
      "\n",
      "Recommendations:\n",
      "- This question is well constructed and suitable for the intended level.\n",
      "- To further enhance the exam paper, consider including a variety of question types (e.g., grammar, reading comprehension) alongside vocabulary questions.\n",
      "- Ensure that the entire exam paper maintains this level of clarity and appropriateness.\n",
      "\n",
      "Overall, this question is well designed and meets the standards for JLPT N3 level testing.\n",
      "\n",
      "GOOD ENOUGH\n"
     ]
    },
    {
     "name": "stdout",
     "output_type": "stream",
     "text": [
      "--- AI Reviser feels Good Enough ---\n",
      "--- Formatter ---\n"
     ]
    },
    {
     "name": "stderr",
     "output_type": "stream",
     "text": [
      "2025-05-27 15:55:46,969 - INFO - HTTP Request: POST https://ai-rolandaws880125ai409947751408.openai.azure.com/openai/deployments/gpt-4.1-mini/chat/completions?api-version=2025-01-01-preview \"HTTP/1.1 200 OK\"\n",
      "2025-05-27 15:55:46,985 - INFO - Formatted message: {'html_question': '風邪を<u>ふせぐ</u>ために、手をよく洗いましょう。', 'correct_answer': 1, 'choices': ['防ぐ', '妨ぐ', '塞ぐ', '拒ぐ']}\n",
      "\n",
      "Processing このことばを漢字で書くとき、最もよいものを、１・２・３・４から一つえらびなさい (write_chinese):  33%|███▎      | 2/6 [00:46<01:25, 21.25s/it]\u001B[A"
     ]
    },
    {
     "name": "stdout",
     "output_type": "stream",
     "text": [
      "---WEB SEARCH---\n",
      "---Generator----\n"
     ]
    },
    {
     "name": "stderr",
     "output_type": "stream",
     "text": [
      "2025-05-27 15:56:12,292 - INFO - Retrying request to /chat/completions in 0.385774 seconds\n",
      "2025-05-27 15:56:14,915 - INFO - HTTP Request: POST https://ai-rolandaws880125ai409947751408.openai.azure.com/openai/deployments/gpt-4.1/chat/completions?api-version=2025-01-01-preview \"HTTP/1.1 200 OK\"\n",
      "2025-05-27 15:56:14,917 - INFO - Generated message: 台風の勢力が<u>つよまる</u>でしょう。\n",
      "\n",
      "  1. 強増る  \n",
      "  2. 強生る  \n",
      "  3. 強まる  \n",
      "  4. 強成る  \n"
     ]
    },
    {
     "name": "stdout",
     "output_type": "stream",
     "text": [
      "---REVISOR---\n"
     ]
    },
    {
     "name": "stderr",
     "output_type": "stream",
     "text": [
      "2025-05-27 15:56:19,235 - INFO - HTTP Request: POST https://ai-rolandaws880125ai409947751408.openai.azure.com/openai/deployments/gpt-4.1-mini/chat/completions?api-version=2025-01-01-preview \"HTTP/1.1 200 OK\"\n",
      "2025-05-27 15:56:19,237 - INFO - Refelect message: Thank you for your submission. Here is a detailed critique and recommendations based on the factors you requested:\n",
      "\n",
      "1. Content Accuracy:\n",
      "- The grammar and vocabulary question is appropriate for the JLPT N3 level, focusing on the correct kanji for the verb \"つよまる\" in the context of a typhoon’s strength increasing.\n",
      "- The reading passage is very brief but clear and relevant to the question.\n",
      "- The correct answer is option 3: 強まる, which is accurate and suitable for N3 learners.\n",
      "\n",
      "2. Question and Answer Quality:\n",
      "- The question is straightforward and unambiguous, asking the test taker to choose the correct kanji for the verb.\n",
      "- The options are plausible kanji combinations, making the question a good test of kanji knowledge and vocabulary.\n",
      "- The difficulty level matches the N3 expectation, as recognizing the correct kanji for common verbs is a typical N3 task.\n",
      "\n",
      "3. Detailed Refinement:\n",
      "- The sentence is culturally appropriate and relevant, as typhoons are a common natural phenomenon in Japan and often used in language learning contexts.\n",
      "- However, the question could be improved by providing a fuller sentence or slightly more context to better assess reading comprehension alongside kanji recognition.\n",
      "- Additionally, it might be helpful to ensure that the underline is clearly indicated in the exam format to avoid confusion about which word to focus on.\n",
      "\n",
      "Recommendations:\n",
      "- Consider expanding the reading passage slightly to provide more context, for example: 「台風の勢力が強まると、風や雨が激しくなります。」 This would help test comprehension as well as kanji knowledge.\n",
      "- Maintain the current format of multiple-choice kanji options, as it effectively tests the required skill.\n",
      "- Ensure consistent formatting of the underlined word in the final exam paper to clearly indicate the target word.\n",
      "\n",
      "Overall, this question is well-crafted and suitable for the JLPT N3 level with minor suggestions for enhancing context.\n",
      "\n",
      "GOOD ENOUGH\n"
     ]
    },
    {
     "name": "stdout",
     "output_type": "stream",
     "text": [
      "--- AI Reviser feels Good Enough ---\n",
      "--- Formatter ---\n"
     ]
    },
    {
     "name": "stderr",
     "output_type": "stream",
     "text": [
      "2025-05-27 15:56:21,369 - INFO - HTTP Request: POST https://ai-rolandaws880125ai409947751408.openai.azure.com/openai/deployments/gpt-4.1-mini/chat/completions?api-version=2025-01-01-preview \"HTTP/1.1 200 OK\"\n",
      "2025-05-27 15:56:21,372 - INFO - Formatted message: {'html_question': '台風の勢力が<u>つよまる</u>でしょう。', 'choices': ['強増る', '強生る', '強まる', '強成る'], 'correct_answer': 3}\n",
      "\n",
      "Processing このことばを漢字で書くとき、最もよいものを、１・２・３・４から一つえらびなさい (write_chinese):  50%|█████     | 3/6 [01:20<01:21, 27.25s/it]\u001B[A"
     ]
    },
    {
     "name": "stdout",
     "output_type": "stream",
     "text": [
      "---WEB SEARCH---\n",
      "---Generator----\n"
     ]
    },
    {
     "name": "stderr",
     "output_type": "stream",
     "text": [
      "2025-05-27 15:56:27,873 - INFO - HTTP Request: POST https://ai-rolandaws880125ai409947751408.openai.azure.com/openai/deployments/gpt-4.1/chat/completions?api-version=2025-01-01-preview \"HTTP/1.1 200 OK\"\n",
      "2025-05-27 15:56:27,876 - INFO - Generated message: 台風で多くの家が<u>そんがい</u>を受けました。  \n",
      "  1. 損害  \n",
      "  2. 存外  \n",
      "  3. 尊外  \n",
      "  4. 存害\n"
     ]
    },
    {
     "name": "stdout",
     "output_type": "stream",
     "text": [
      "---REVISOR---\n"
     ]
    },
    {
     "name": "stderr",
     "output_type": "stream",
     "text": [
      "2025-05-27 15:56:32,565 - INFO - HTTP Request: POST https://ai-rolandaws880125ai409947751408.openai.azure.com/openai/deployments/gpt-4.1-mini/chat/completions?api-version=2025-01-01-preview \"HTTP/1.1 200 OK\"\n",
      "2025-05-27 15:56:32,568 - INFO - Refelect message: Thank you for your submission. Here is my detailed feedback based on the JLPT N3 exam paper criteria:\n",
      "\n",
      "1. **Content Accuracy:**  \n",
      "- The vocabulary question focuses on the word \"そんがい,\" which is a common JLPT N3 level word meaning \"damage\" or \"loss.\"  \n",
      "- The sentence \"台風で多くの家がそんがいを受けました。\" is clear, relevant, and contextually appropriate for the N3 level.  \n",
      "- The kanji options mostly contain plausible distractors, but some are not actual words or are unlikely to be known at N3 level (e.g., \"尊外\" and \"存害\" are not standard words).  \n",
      "\n",
      "2. **Question and Answer Quality:**  \n",
      "- The question is straightforward and unambiguous, testing kanji knowledge for a common vocabulary word.  \n",
      "- Option 1 (損害) is the correct answer. Option 2 (存外) is a real word but means \"unexpectedly,\" which could be a good distractor.  \n",
      "- Options 3 and 4 are not valid words, which could confuse test takers and does not align well with N3 level expectations.  \n",
      "- It would be better to replace invalid options with other plausible kanji compounds to maintain a fair challenge.  \n",
      "\n",
      "3. **Cultural and Academic Relevance:**  \n",
      "- The sentence about typhoon damage is culturally relevant for Japanese learners, as natural disasters are common topics in Japanese language education.  \n",
      "- The vocabulary is appropriate for academic and everyday contexts.  \n",
      "\n",
      "**Recommendations:**  \n",
      "- Replace options 3 and 4 with valid kanji compounds that are plausible distractors at the N3 level. For example, consider using:  \n",
      "  - 3. 尊敬 (そんけい, respect)  \n",
      "  - 4. 損傷 (そんしょう, damage)  \n",
      "- This will improve the question's fairness and maintain the appropriate difficulty level.  \n",
      "- Ensure all answer choices are actual words learners might encounter at the N3 level.  \n",
      "\n",
      "Overall, the question is on the right track but would benefit from refinement of distractor options to better match the JLPT N3 level standards.\n",
      "\n",
      "Please revise accordingly.\n"
     ]
    },
    {
     "name": "stdout",
     "output_type": "stream",
     "text": [
      "---Generator----\n"
     ]
    },
    {
     "name": "stderr",
     "output_type": "stream",
     "text": [
      "2025-05-27 15:56:33,703 - INFO - HTTP Request: POST https://ai-rolandaws880125ai409947751408.openai.azure.com/openai/deployments/gpt-4.1/chat/completions?api-version=2025-01-01-preview \"HTTP/1.1 200 OK\"\n",
      "2025-05-27 15:56:33,705 - INFO - Generated message: 台風で多くの家が<u>そんがい</u>を受けました。  \n",
      "  1. 損害  \n",
      "  2. 存外  \n",
      "  3. 尊敬  \n",
      "  4. 損傷\n"
     ]
    },
    {
     "name": "stdout",
     "output_type": "stream",
     "text": [
      "---REVISOR---\n"
     ]
    },
    {
     "name": "stderr",
     "output_type": "stream",
     "text": [
      "2025-05-27 15:56:37,382 - INFO - HTTP Request: POST https://ai-rolandaws880125ai409947751408.openai.azure.com/openai/deployments/gpt-4.1-mini/chat/completions?api-version=2025-01-01-preview \"HTTP/1.1 200 OK\"\n",
      "2025-05-27 15:56:37,384 - INFO - Refelect message: Thank you for your revised submission. Here is my evaluation:\n",
      "\n",
      "1. **Content Accuracy:**  \n",
      "- The sentence remains clear and contextually appropriate for JLPT N3 level.  \n",
      "- The target vocabulary \"そんがい\" corresponds correctly to \"損害,\" which means \"damage\" or \"loss,\" fitting the context of typhoon damage.  \n",
      "- The distractors are all valid words with similar readings or related meanings, which is suitable for testing kanji recognition and vocabulary at N3 level.\n",
      "\n",
      "2. **Question and Answer Quality:**  \n",
      "- The question is clearly worded and unambiguous.  \n",
      "- Option 1 (損害) is the correct answer.  \n",
      "- Option 2 (存外) means \"unexpectedly,\" which is a good distractor due to similar pronunciation but different meaning.  \n",
      "- Option 3 (尊敬) means \"respect,\" which shares the first kanji \"尊\" but differs in meaning and reading; this is a reasonable distractor.  \n",
      "- Option 4 (損傷) means \"damage\" or \"injury,\" similar in meaning to 損害 but slightly different nuance; this is an excellent distractor that requires careful reading.  \n",
      "- The difficulty level is appropriate for N3, as it tests both kanji knowledge and subtle differences in meaning.\n",
      "\n",
      "3. **Cultural and Academic Relevance:**  \n",
      "- The context of typhoon damage is culturally relevant and appropriate.  \n",
      "- Vocabulary is useful for learners to understand common topics in Japanese society and news.\n",
      "\n",
      "**Recommendations:**  \n",
      "- This question is well-designed and suitable for the JLPT N3 level.  \n",
      "- No further changes are necessary.\n",
      "\n",
      "Overall, your revised exam question meets the criteria for clarity, accuracy, appropriate difficulty, and cultural relevance.\n",
      "\n",
      "**GOOD ENOUGH**\n"
     ]
    },
    {
     "name": "stdout",
     "output_type": "stream",
     "text": [
      "--- Reach the Maximum Round ---\n",
      "--- Formatter ---\n"
     ]
    },
    {
     "name": "stderr",
     "output_type": "stream",
     "text": [
      "2025-05-27 15:56:38,790 - INFO - HTTP Request: POST https://ai-rolandaws880125ai409947751408.openai.azure.com/openai/deployments/gpt-4.1-mini/chat/completions?api-version=2025-01-01-preview \"HTTP/1.1 200 OK\"\n",
      "2025-05-27 15:56:38,793 - INFO - Formatted message: {'html_question': '台風で多くの家が<u>そんがい</u>を受けました。', 'correct_answer': 1, 'choices': ['損害', '存外', '尊敬', '損傷']}\n",
      "\n",
      "Processing このことばを漢字で書くとき、最もよいものを、１・２・３・４から一つえらびなさい (write_chinese):  67%|██████▋   | 4/6 [01:38<00:46, 23.37s/it]\u001B[A"
     ]
    },
    {
     "name": "stdout",
     "output_type": "stream",
     "text": [
      "---WEB SEARCH---\n",
      "---Generator----\n"
     ]
    },
    {
     "name": "stderr",
     "output_type": "stream",
     "text": [
      "2025-05-27 15:56:44,904 - INFO - HTTP Request: POST https://ai-rolandaws880125ai409947751408.openai.azure.com/openai/deployments/gpt-4.1/chat/completions?api-version=2025-01-01-preview \"HTTP/1.1 200 OK\"\n",
      "2025-05-27 15:56:44,905 - INFO - Generated message: 彼は結果を聞いて<u>しつぼう</u>したようだった。  \n",
      "  1. 失望  \n",
      "  2. 失貌  \n",
      "  3. 室望  \n",
      "  4. 失防\n"
     ]
    },
    {
     "name": "stdout",
     "output_type": "stream",
     "text": [
      "---REVISOR---\n"
     ]
    },
    {
     "name": "stderr",
     "output_type": "stream",
     "text": [
      "2025-05-27 15:56:50,094 - INFO - HTTP Request: POST https://ai-rolandaws880125ai409947751408.openai.azure.com/openai/deployments/gpt-4.1-mini/chat/completions?api-version=2025-01-01-preview \"HTTP/1.1 200 OK\"\n",
      "2025-05-27 15:56:50,096 - INFO - Refelect message: Thank you for your submission. Here is my detailed critique and recommendations:\n",
      "\n",
      "1. Content Accuracy:  \n",
      "- The vocabulary question correctly focuses on the word \"しつぼう\" and tests kanji knowledge, which is appropriate for JLPT N3 level.  \n",
      "- The sentence context \"彼は結果を聞いてしつぼうしたようだった。\" is clear and relevant, providing a natural setting to understand the meaning of the word.  \n",
      "- The options include one correct answer (失望) and three incorrect ones that are plausible-looking kanji compounds but do not fit the meaning or are non-standard. This is suitable for testing recognition and comprehension.\n",
      "\n",
      "2. Question and Answer Quality:  \n",
      "- The question is straightforward and unambiguous, asking to select the correct kanji for the given reading and context.  \n",
      "- The distractors (失貌, 室望, 失防) are all incorrect but visually similar, which is good for testing kanji knowledge without confusing the examinee unduly.  \n",
      "- The difficulty level matches the JLPT N3 standard, as recognizing 失望 and understanding its usage is expected at this level.\n",
      "\n",
      "3. Cultural and Academic Appropriateness:  \n",
      "- The sentence is culturally neutral and appropriate for Japanese learners.  \n",
      "- The vocabulary is common and useful in everyday and academic contexts.\n",
      "\n",
      "Recommendations:  \n",
      "- This question is well constructed and suitable for the JLPT N3 level.  \n",
      "- To further enhance the exam paper, consider including a variety of question types (e.g., grammar usage, reading comprehension) alongside vocabulary questions to comprehensively assess language skills.  \n",
      "- Ensure that in the full exam paper, the balance of question types and topics covers the range of JLPT N3 requirements.\n",
      "\n",
      "Overall, this question is clear, accurate, and appropriate.\n",
      "\n",
      "GOOD ENOUGH\n"
     ]
    },
    {
     "name": "stdout",
     "output_type": "stream",
     "text": [
      "--- AI Reviser feels Good Enough ---\n",
      "--- Formatter ---\n"
     ]
    },
    {
     "name": "stderr",
     "output_type": "stream",
     "text": [
      "2025-05-27 15:56:54,686 - INFO - HTTP Request: POST https://ai-rolandaws880125ai409947751408.openai.azure.com/openai/deployments/gpt-4.1-mini/chat/completions?api-version=2025-01-01-preview \"HTTP/1.1 200 OK\"\n",
      "2025-05-27 15:56:54,688 - INFO - Formatted message: {'html_question': '彼は結果を聞いて<u>しつぼう</u>したようだった。', 'choices': ['失望', '失貌', '室望', '失防'], 'correct_answer': 1}\n",
      "\n",
      "Processing このことばを漢字で書くとき、最もよいものを、１・２・３・４から一つえらびなさい (write_chinese):  83%|████████▎ | 5/6 [01:53<00:20, 20.67s/it]\u001B[A"
     ]
    },
    {
     "name": "stdout",
     "output_type": "stream",
     "text": [
      "---WEB SEARCH---\n",
      "---Generator----\n"
     ]
    },
    {
     "name": "stderr",
     "output_type": "stream",
     "text": [
      "2025-05-27 15:57:01,546 - INFO - HTTP Request: POST https://ai-rolandaws880125ai409947751408.openai.azure.com/openai/deployments/gpt-4.1/chat/completions?api-version=2025-01-01-preview \"HTTP/1.1 200 OK\"\n",
      "2025-05-27 15:57:01,548 - INFO - Generated message: このジュースは水とよく<u>まざる</u>ので、味がうすくなります。\n",
      "\n",
      "  1. 混ざる  \n",
      "  2. 交ざる  \n",
      "  3. 雑ざる  \n",
      "  4. 減ざる  \n"
     ]
    },
    {
     "name": "stdout",
     "output_type": "stream",
     "text": [
      "---REVISOR---\n"
     ]
    },
    {
     "name": "stderr",
     "output_type": "stream",
     "text": [
      "2025-05-27 15:57:07,539 - INFO - HTTP Request: POST https://ai-rolandaws880125ai409947751408.openai.azure.com/openai/deployments/gpt-4.1-mini/chat/completions?api-version=2025-01-01-preview \"HTTP/1.1 200 OK\"\n",
      "2025-05-27 15:57:07,542 - INFO - Refelect message: Thank you for your submission. Here is the detailed critique and recommendations based on the provided question:\n",
      "\n",
      "1. Content Accuracy:\n",
      "- The question tests the correct kanji for the verb \"まざる\" in the sentence \"このジュースは水とよくまざるので、味がうすくなります.\"\n",
      "- The sentence context is clear and appropriate for JLPT N3 level, as it involves understanding the meaning of \"mix\" or \"blend\" in a natural setting.\n",
      "- The four options include:\n",
      "  1. 混ざる (correct kanji for \"to mix/blend\")\n",
      "  2. 交ざる (less common, but can mean \"to mingle\")\n",
      "  3. 雑ざる (incorrect kanji usage)\n",
      "  4. 減ざる (incorrect, not a valid verb)\n",
      "- This selection effectively tests the learner's ability to distinguish correct kanji usage and meaning.\n",
      "\n",
      "2. Question and Answer Quality:\n",
      "- The question is clearly worded and unambiguous.\n",
      "- The sentence context helps learners understand the meaning needed for the correct kanji.\n",
      "- The distractors are plausible enough to challenge learners but not too obscure.\n",
      "- The difficulty level fits JLPT N3, focusing on kanji recognition and vocabulary.\n",
      "\n",
      "3. Cultural and Academic Relevance:\n",
      "- The sentence is culturally neutral and appropriate.\n",
      "- The content is relevant to everyday life, suitable for testing practical language skills.\n",
      "\n",
      "Recommendations:\n",
      "- Consider adding furigana for kanji in the question text if this is intended for learners at the N3 level who might still require reading support, but since this is an exam paper, it may be fine as is.\n",
      "- The option \"交ざる\" is less common but acceptable; you might want to ensure learners are aware of the subtle differences or consider if it might confuse unnecessarily. However, it can serve as a good distractor.\n",
      "- The option \"減ざる\" is not a valid verb, which might be too obviously incorrect; you might want to replace it with another plausible distractor if you want to increase challenge.\n",
      "\n",
      "Overall, this question is well-constructed and suitable for JLPT N3.\n",
      "\n",
      "GOOD ENOUGH\n"
     ]
    },
    {
     "name": "stdout",
     "output_type": "stream",
     "text": [
      "--- AI Reviser feels Good Enough ---\n",
      "--- Formatter ---\n"
     ]
    },
    {
     "name": "stderr",
     "output_type": "stream",
     "text": [
      "2025-05-27 15:57:08,482 - INFO - HTTP Request: POST https://ai-rolandaws880125ai409947751408.openai.azure.com/openai/deployments/gpt-4.1-mini/chat/completions?api-version=2025-01-01-preview \"HTTP/1.1 200 OK\"\n",
      "2025-05-27 15:57:08,485 - INFO - Formatted message: {'html_question': 'このジュースは水とよく<u>まざる</u>ので、味がうすくなります。', 'correct_answer': 1, 'choices': ['混ざる', '交ざる', '雑ざる', '減ざる']}\n",
      "\n",
      "Processing このことばを漢字で書くとき、最もよいものを、１・２・３・４から一つえらびなさい (write_chinese): 100%|██████████| 6/6 [02:07<00:00, 21.29s/it]\u001B[A\n",
      "Processing 第1部　語彙・文法: 100%|██████████| 2/2 [04:40<00:00, 140.32s/it]"
     ]
    },
    {
     "name": "stdout",
     "output_type": "stream",
     "text": [
      "Total execution time: 280.66 seconds\n"
     ]
    },
    {
     "name": "stderr",
     "output_type": "stream",
     "text": [
      "\n"
     ]
    }
   ],
   "source": [
    "outliner_json = initial_outline.model_dump_json()\n",
    "data = json.loads(outliner_json)  # Replace with your actual JSON data\n",
    "\n",
    "start_time = time.time()\n",
    "\n",
    "output_data = {'sections': []}\n",
    "\n",
    "for section in data['sections']:\n",
    "    output_section = {'section_title': section['section_title'], 'subsections': []}\n",
    "\n",
    "    for subsection in tqdm(section['subsections'], desc=f\"Processing {section['section_title']}\"):\n",
    "        function_name = subsection['subsection_title'].split(' (')[1].rstrip(')')\n",
    "        questions = subsection['question_topics']\n",
    "\n",
    "        for question in tqdm(questions, desc=f\"Processing {subsection['subsection_title']}\"):\n",
    "            handler = ExamTaskHandler()\n",
    "            func = getattr(handler, function_name, None)\n",
    "\n",
    "            if func:\n",
    "                max_attempts = 2\n",
    "                original_topic = question['topic']  # Optional: Track original topic\n",
    "                for attempt in range(max_attempts):\n",
    "                    try:\n",
    "                        result = func(question['topic'])\n",
    "                        question['result'] = result\n",
    "                        break  # Exit on success\n",
    "                    except Exception as e:\n",
    "                        if attempt < max_attempts - 1:\n",
    "                            # Replace topic and retry\n",
    "                            question['topic'] = random.choice(topics_list)\n",
    "                        else:\n",
    "                            question['result'] = f\"Error after {max_attempts} attempts: {str(e)}\"\n",
    "            else:\n",
    "                question['result'] = f\"Method {function_name} not found\"\n",
    "\n",
    "        output_subsection = {\n",
    "            'subsection_title': subsection['subsection_title'],\n",
    "            'description': subsection['description'],\n",
    "            'question_topics': questions\n",
    "        }\n",
    "        output_section['subsections'].append(output_subsection)\n",
    "\n",
    "    output_data['sections'].append(output_section)\n",
    "\n",
    "# End the timer\n",
    "end_time = time.time()\n",
    "\n",
    "# Calculate the total execution time\n",
    "execution_time = end_time - start_time\n",
    "\n",
    "print(f\"Total execution time: {execution_time:.2f} seconds\")"
   ]
  },
  {
   "cell_type": "code",
   "execution_count": 12,
   "id": "43e411616ee939b1",
   "metadata": {
    "colab": {
     "base_uri": "https://localhost:8080/",
     "height": 1000
    },
    "id": "43e411616ee939b1",
    "outputId": "97cc7eef-f8ae-4401-ef8b-022c706f112c",
    "ExecuteTime": {
     "end_time": "2025-05-27T07:57:08.515413Z",
     "start_time": "2025-05-27T07:57:08.496594Z"
    }
   },
   "outputs": [
    {
     "data": {
      "text/plain": "<IPython.core.display.Markdown object>",
      "text/markdown": "sections:\n- section_title: 第1部　語彙・文法\n  subsections:\n  - subsection_title: のことばの読み方として最もよいものを、1・2・3・4から一つえらびなさい (kanji_reading)\n    description: 8問　下線部の言葉の読み方を選ぶ問題です。40％は難しい語彙を含みます。\n    question_topics:\n    - topic: 存在\n      result:\n        html_question: この世界にはさまざまな生き物が<u>存在</u>している。\n        correct_answer: 1\n        choices:\n        - そんざい\n        - そんさい\n        - ぞんざい\n        - ぞんさい\n    - topic: 要素\n      result:\n        html_question: このプロジェクトには大切な<u>要素</u>がいくつかあります。\n        correct_answer: 2\n        choices:\n        - ようす\n        - ようそ\n        - ようしょ\n        - ようせい\n    - topic: ペットについて話す\n      result:\n        html_question: <ol><li>私は毎日<u>世話</u>をしている犬がいます。</li><li>この猫はとても<u>賢い</u>です。</li><li>うちの犬は<u>散歩</u>が好きです。</li><li>ペットの健康のために<u>注意</u>が必要です。</li><li>私の家には<u>小鳥</u>が三羽います。</li></ol>\n        choices:\n        - せわ\n        - せか\n        - よわ\n        - よか\n        - かしこい\n        - けんこい\n        - かんこい\n        - けしかい\n        - さんぼ\n        - さんぽ\n        - さぼ\n        - さぽ\n        - ちゅい\n        - ちゅうい\n        - しゅい\n        - しゅうい\n        - こちょう\n        - ことり\n        - しょうとり\n        - しょうちょう\n        correct_answer: 1\n    - topic: 自慢\n      result:\n        html_question: 彼は自分の成績を<u>自慢</u>していました。\n        correct_answer: 2\n        choices:\n        - じばん\n        - じまん\n        - じもん\n        - じみん\n    - topic: 欠席\n      result:\n        html_question: 体調が悪かったので、昨日の授業を<u>欠席</u>しました。\n        correct_answer: 1\n        choices:\n        - けっせき\n        - けっせつ\n        - けっしゅう\n        - けっしょく\n    - topic: 交通手段について話す\n      result:\n        html_question: 私は毎朝<u>自転車</u>で駅まで行きます。\n        correct_answer: 2\n        choices:\n        - じてんくるま\n        - じてんしゃ\n        - じどうしゃ\n        - じしゃてん\n    - topic: 虚無\n      result:\n        html_question: 彼は人生に<u>虚無</u>を感じているようだった。\n        correct_answer: 1\n        choices:\n        - きょむ\n        - きょぶ\n        - こむ\n        - けむ\n    - topic: 哀れ\n      result:\n        html_question: その映画は多くの人に<u>哀れ</u>を感じさせた。\n        correct_answer: 2\n        choices:\n        - あいれ\n        - あわれ\n        - あいわ\n        - あわり\n  - subsection_title: このことばを漢字で書くとき、最もよいものを、１・２・３・４から一つえらびなさい (write_chinese)\n    description: 6問　ひらがなで書かれた言葉を正しい漢字に直す問題です。40％は難しい語彙を含みます。\n    question_topics:\n    - topic: すすめる\n      result:\n        html_question: この本を友達に<u>すすめる</u>つもりです。\n        choices:\n        - 進める\n        - 勧める\n        - 薦める\n        - 奨める\n        correct_answer: 2\n    - topic: ふせぐ\n      result:\n        html_question: 風邪を<u>ふせぐ</u>ために、手をよく洗いましょう。\n        correct_answer: 1\n        choices:\n        - 防ぐ\n        - 妨ぐ\n        - 塞ぐ\n        - 拒ぐ\n    - topic: つよまる\n      result:\n        html_question: 台風の勢力が<u>つよまる</u>でしょう。\n        choices:\n        - 強増る\n        - 強生る\n        - 強まる\n        - 強成る\n        correct_answer: 3\n    - topic: そんがい\n      result:\n        html_question: 台風で多くの家が<u>そんがい</u>を受けました。\n        correct_answer: 1\n        choices:\n        - 損害\n        - 存外\n        - 尊敬\n        - 損傷\n    - topic: しつぼう\n      result:\n        html_question: 彼は結果を聞いて<u>しつぼう</u>したようだった。\n        choices:\n        - 失望\n        - 失貌\n        - 室望\n        - 失防\n        correct_answer: 1\n    - topic: まざる\n      result:\n        html_question: このジュースは水とよく<u>まざる</u>ので、味がうすくなります。\n        correct_answer: 1\n        choices:\n        - 混ざる\n        - 交ざる\n        - 雑ざる\n        - 減ざる\n"
     },
     "metadata": {},
     "output_type": "display_data"
    }
   ],
   "source": [
    "yaml_str = yaml.dump(output_data, allow_unicode=True, sort_keys=False, default_flow_style=False)\n",
    "# Display as formatted YAML\n",
    "display(Markdown(yaml_str))"
   ]
  },
  {
   "cell_type": "code",
   "execution_count": 13,
   "id": "307398e88bf20dc3",
   "metadata": {
    "colab": {
     "base_uri": "https://localhost:8080/"
    },
    "id": "307398e88bf20dc3",
    "outputId": "4ff94084-e0f5-45ad-ee7b-bca01723dd10",
    "ExecuteTime": {
     "end_time": "2025-05-27T07:57:08.527768Z",
     "start_time": "2025-05-27T07:57:08.517410Z"
    }
   },
   "outputs": [
    {
     "data": {
      "text/plain": "{'sections': [{'section_title': '第1部\\u3000語彙・文法',\n   'subsections': [{'subsection_title': 'のことばの読み方として最もよいものを、1・2・3・4から一つえらびなさい (kanji_reading)',\n     'description': '8問\\u3000下線部の言葉の読み方を選ぶ問題です。40％は難しい語彙を含みます。',\n     'question_topics': [{'topic': '存在',\n       'result': {'html_question': 'この世界にはさまざまな生き物が<u>存在</u>している。',\n        'correct_answer': 1,\n        'choices': ['そんざい', 'そんさい', 'ぞんざい', 'ぞんさい']}},\n      {'topic': '要素',\n       'result': {'html_question': 'このプロジェクトには大切な<u>要素</u>がいくつかあります。',\n        'correct_answer': 2,\n        'choices': ['ようす', 'ようそ', 'ようしょ', 'ようせい']}},\n      {'topic': 'ペットについて話す',\n       'result': {'html_question': '<ol><li>私は毎日<u>世話</u>をしている犬がいます。</li><li>この猫はとても<u>賢い</u>です。</li><li>うちの犬は<u>散歩</u>が好きです。</li><li>ペットの健康のために<u>注意</u>が必要です。</li><li>私の家には<u>小鳥</u>が三羽います。</li></ol>',\n        'choices': ['せわ',\n         'せか',\n         'よわ',\n         'よか',\n         'かしこい',\n         'けんこい',\n         'かんこい',\n         'けしかい',\n         'さんぼ',\n         'さんぽ',\n         'さぼ',\n         'さぽ',\n         'ちゅい',\n         'ちゅうい',\n         'しゅい',\n         'しゅうい',\n         'こちょう',\n         'ことり',\n         'しょうとり',\n         'しょうちょう'],\n        'correct_answer': 1}},\n      {'topic': '自慢',\n       'result': {'html_question': '彼は自分の成績を<u>自慢</u>していました。',\n        'correct_answer': 2,\n        'choices': ['じばん', 'じまん', 'じもん', 'じみん']}},\n      {'topic': '欠席',\n       'result': {'html_question': '体調が悪かったので、昨日の授業を<u>欠席</u>しました。',\n        'correct_answer': 1,\n        'choices': ['けっせき', 'けっせつ', 'けっしゅう', 'けっしょく']}},\n      {'topic': '交通手段について話す',\n       'result': {'html_question': '私は毎朝<u>自転車</u>で駅まで行きます。',\n        'correct_answer': 2,\n        'choices': ['じてんくるま', 'じてんしゃ', 'じどうしゃ', 'じしゃてん']}},\n      {'topic': '虚無',\n       'result': {'html_question': '彼は人生に<u>虚無</u>を感じているようだった。',\n        'correct_answer': 1,\n        'choices': ['きょむ', 'きょぶ', 'こむ', 'けむ']}},\n      {'topic': '哀れ',\n       'result': {'html_question': 'その映画は多くの人に<u>哀れ</u>を感じさせた。',\n        'correct_answer': 2,\n        'choices': ['あいれ', 'あわれ', 'あいわ', 'あわり']}}]},\n    {'subsection_title': 'このことばを漢字で書くとき、最もよいものを、１・２・３・４から一つえらびなさい (write_chinese)',\n     'description': '6問\\u3000ひらがなで書かれた言葉を正しい漢字に直す問題です。40％は難しい語彙を含みます。',\n     'question_topics': [{'topic': 'すすめる',\n       'result': {'html_question': 'この本を友達に<u>すすめる</u>つもりです。',\n        'choices': ['進める', '勧める', '薦める', '奨める'],\n        'correct_answer': 2}},\n      {'topic': 'ふせぐ',\n       'result': {'html_question': '風邪を<u>ふせぐ</u>ために、手をよく洗いましょう。',\n        'correct_answer': 1,\n        'choices': ['防ぐ', '妨ぐ', '塞ぐ', '拒ぐ']}},\n      {'topic': 'つよまる',\n       'result': {'html_question': '台風の勢力が<u>つよまる</u>でしょう。',\n        'choices': ['強増る', '強生る', '強まる', '強成る'],\n        'correct_answer': 3}},\n      {'topic': 'そんがい',\n       'result': {'html_question': '台風で多くの家が<u>そんがい</u>を受けました。',\n        'correct_answer': 1,\n        'choices': ['損害', '存外', '尊敬', '損傷']}},\n      {'topic': 'しつぼう',\n       'result': {'html_question': '彼は結果を聞いて<u>しつぼう</u>したようだった。',\n        'choices': ['失望', '失貌', '室望', '失防'],\n        'correct_answer': 1}},\n      {'topic': 'まざる',\n       'result': {'html_question': 'このジュースは水とよく<u>まざる</u>ので、味がうすくなります。',\n        'correct_answer': 1,\n        'choices': ['混ざる', '交ざる', '雑ざる', '減ざる']}}]}]}]}"
     },
     "execution_count": 13,
     "metadata": {},
     "output_type": "execute_result"
    }
   ],
   "source": [
    "output_data"
   ]
  },
  {
   "cell_type": "code",
   "execution_count": 14,
   "id": "aa98a476d1ded815",
   "metadata": {
    "id": "aa98a476d1ded815",
    "ExecuteTime": {
     "end_time": "2025-05-27T07:57:08.550344Z",
     "start_time": "2025-05-27T07:57:08.532765Z"
    }
   },
   "outputs": [],
   "source": [
    "def render_to_html(sections):\n",
    "    html = '<html><body style=\"text-align: left;\">\\n'\n",
    "    for section in sections:\n",
    "        html += f'<h1>{section.get(\"section_title\", \"\")}</h1>\\n'\n",
    "        for subsection in section.get(\"subsections\", []):\n",
    "            html += f'<h2>{subsection.get(\"subsection_title\", \"\")}</h2>\\n'\n",
    "            if \"description\" in subsection:\n",
    "                html += f'<p>{subsection[\"description\"]}</p>\\n'\n",
    "            for idx, qtopic in enumerate(subsection.get(\"question_topics\", []),1):\n",
    "                # html += f'<h3>{qtopic.get(\"topic\", \"\")}</h3>\\n'\n",
    "                result = qtopic.get(\"result\", {})\n",
    "                if isinstance(result, dict):\n",
    "                    if \"html_article\" in result:\n",
    "                        html += result[\"html_article\"] + \"\\n\"\n",
    "                    if \"html_question\" in result:\n",
    "                        html += f'<p><strong>{idx} . {result[\"html_question\"]}</strong></p>\\n'\n",
    "                        if \"choices\" in result:\n",
    "                            correct = result.get(\"correct_answer\", -1)\n",
    "                            html += '<ul>\\n'\n",
    "                            for idx, choice in enumerate(result[\"choices\"], 1):\n",
    "                                if idx == correct:\n",
    "                                    html += f\"<li>{idx}. <b>{choice}</b> <span style='color:green;'>(correct)</span></li>\\n\"\n",
    "                                else:\n",
    "                                    html += f\"<li>{idx}. {choice}</li>\\n\"\n",
    "                            html += '</ul>\\n'\n",
    "                        if \"explanation\" in result:\n",
    "                            html += f'<p><em>Explanation: {result[\"explanation\"]}</em></p>\\n'\n",
    "                    if \"questions\" in result and isinstance(result[\"questions\"], list):\n",
    "                        for q in result[\"questions\"]:\n",
    "                            html += f'<p><strong>Q: {q[\"question\"]}</strong></p>\\n'\n",
    "                            if \"choices\" in q:\n",
    "                                correct = q.get(\"correct_answer\", -1)\n",
    "                                html += '<ul>\\n'\n",
    "                                for idx, choice in enumerate(q[\"choices\"], 1):\n",
    "                                    if idx == correct:\n",
    "                                        html += f\"<li><b>{choice}</b> <span style='color:green;'>(correct)</span></li>\\n\"\n",
    "                                    else:\n",
    "                                        html += f\"<li>{choice}</li>\\n\"\n",
    "                                html += '</ul>\\n'\n",
    "                            if \"explanation\" in q:\n",
    "                                html += f'<p><em>Explanation: {q[\"explanation\"]}</em></p>\\n'\n",
    "                    if \"questions\" in result and isinstance(result[\"questions\"], dict):\n",
    "                        q = result[\"questions\"]\n",
    "                        html += f'<p><strong>Q: {q[\"question\"]}</strong></p>\\n'\n",
    "                        if \"choices\" in q:\n",
    "                            correct = q.get(\"correct_answer\", -1)\n",
    "                            html += '<ul>\\n'\n",
    "                            for idx, choice in enumerate(q[\"choices\"], 1):\n",
    "                                if idx == correct:\n",
    "                                    html += f\"<li><b>{choice}</b> <span style='color:green;'>(correct)</span></li>\\n\"\n",
    "                                else:\n",
    "                                    html += f\"<li>{choice}</li>\\n\"\n",
    "                            html += '</ul>\\n'\n",
    "                        if \"explanation\" in q:\n",
    "                            html += f'<p><em>Explanation: {q[\"explanation\"]}</em></p>\\n'\n",
    "    html += '</body></html>'\n",
    "    return html"
   ]
  },
  {
   "cell_type": "code",
   "execution_count": 15,
   "id": "e7a5e4b5084d049c",
   "metadata": {
    "colab": {
     "base_uri": "https://localhost:8080/",
     "height": 1000
    },
    "id": "e7a5e4b5084d049c",
    "outputId": "31c9880e-fc8f-46f9-9a24-41d77a425304",
    "ExecuteTime": {
     "end_time": "2025-05-27T07:57:08.561086Z",
     "start_time": "2025-05-27T07:57:08.552341Z"
    }
   },
   "outputs": [
    {
     "data": {
      "text/plain": "<IPython.core.display.Markdown object>",
      "text/markdown": "<html><body style=\"text-align: left;\">\n<h1>第1部　語彙・文法</h1>\n<h2>のことばの読み方として最もよいものを、1・2・3・4から一つえらびなさい (kanji_reading)</h2>\n<p>8問　下線部の言葉の読み方を選ぶ問題です。40％は難しい語彙を含みます。</p>\n<p><strong>1 . この世界にはさまざまな生き物が<u>存在</u>している。</strong></p>\n<ul>\n<li>1. <b>そんざい</b> <span style='color:green;'>(correct)</span></li>\n<li>2. そんさい</li>\n<li>3. ぞんざい</li>\n<li>4. ぞんさい</li>\n</ul>\n<p><strong>2 . このプロジェクトには大切な<u>要素</u>がいくつかあります。</strong></p>\n<ul>\n<li>1. ようす</li>\n<li>2. <b>ようそ</b> <span style='color:green;'>(correct)</span></li>\n<li>3. ようしょ</li>\n<li>4. ようせい</li>\n</ul>\n<p><strong>3 . <ol><li>私は毎日<u>世話</u>をしている犬がいます。</li><li>この猫はとても<u>賢い</u>です。</li><li>うちの犬は<u>散歩</u>が好きです。</li><li>ペットの健康のために<u>注意</u>が必要です。</li><li>私の家には<u>小鳥</u>が三羽います。</li></ol></strong></p>\n<ul>\n<li>1. <b>せわ</b> <span style='color:green;'>(correct)</span></li>\n<li>2. せか</li>\n<li>3. よわ</li>\n<li>4. よか</li>\n<li>5. かしこい</li>\n<li>6. けんこい</li>\n<li>7. かんこい</li>\n<li>8. けしかい</li>\n<li>9. さんぼ</li>\n<li>10. さんぽ</li>\n<li>11. さぼ</li>\n<li>12. さぽ</li>\n<li>13. ちゅい</li>\n<li>14. ちゅうい</li>\n<li>15. しゅい</li>\n<li>16. しゅうい</li>\n<li>17. こちょう</li>\n<li>18. ことり</li>\n<li>19. しょうとり</li>\n<li>20. しょうちょう</li>\n</ul>\n<p><strong>4 . 彼は自分の成績を<u>自慢</u>していました。</strong></p>\n<ul>\n<li>1. じばん</li>\n<li>2. <b>じまん</b> <span style='color:green;'>(correct)</span></li>\n<li>3. じもん</li>\n<li>4. じみん</li>\n</ul>\n<p><strong>5 . 体調が悪かったので、昨日の授業を<u>欠席</u>しました。</strong></p>\n<ul>\n<li>1. <b>けっせき</b> <span style='color:green;'>(correct)</span></li>\n<li>2. けっせつ</li>\n<li>3. けっしゅう</li>\n<li>4. けっしょく</li>\n</ul>\n<p><strong>6 . 私は毎朝<u>自転車</u>で駅まで行きます。</strong></p>\n<ul>\n<li>1. じてんくるま</li>\n<li>2. <b>じてんしゃ</b> <span style='color:green;'>(correct)</span></li>\n<li>3. じどうしゃ</li>\n<li>4. じしゃてん</li>\n</ul>\n<p><strong>7 . 彼は人生に<u>虚無</u>を感じているようだった。</strong></p>\n<ul>\n<li>1. <b>きょむ</b> <span style='color:green;'>(correct)</span></li>\n<li>2. きょぶ</li>\n<li>3. こむ</li>\n<li>4. けむ</li>\n</ul>\n<p><strong>8 . その映画は多くの人に<u>哀れ</u>を感じさせた。</strong></p>\n<ul>\n<li>1. あいれ</li>\n<li>2. <b>あわれ</b> <span style='color:green;'>(correct)</span></li>\n<li>3. あいわ</li>\n<li>4. あわり</li>\n</ul>\n<h2>このことばを漢字で書くとき、最もよいものを、１・２・３・４から一つえらびなさい (write_chinese)</h2>\n<p>6問　ひらがなで書かれた言葉を正しい漢字に直す問題です。40％は難しい語彙を含みます。</p>\n<p><strong>1 . この本を友達に<u>すすめる</u>つもりです。</strong></p>\n<ul>\n<li>1. 進める</li>\n<li>2. <b>勧める</b> <span style='color:green;'>(correct)</span></li>\n<li>3. 薦める</li>\n<li>4. 奨める</li>\n</ul>\n<p><strong>2 . 風邪を<u>ふせぐ</u>ために、手をよく洗いましょう。</strong></p>\n<ul>\n<li>1. <b>防ぐ</b> <span style='color:green;'>(correct)</span></li>\n<li>2. 妨ぐ</li>\n<li>3. 塞ぐ</li>\n<li>4. 拒ぐ</li>\n</ul>\n<p><strong>3 . 台風の勢力が<u>つよまる</u>でしょう。</strong></p>\n<ul>\n<li>1. 強増る</li>\n<li>2. 強生る</li>\n<li>3. <b>強まる</b> <span style='color:green;'>(correct)</span></li>\n<li>4. 強成る</li>\n</ul>\n<p><strong>4 . 台風で多くの家が<u>そんがい</u>を受けました。</strong></p>\n<ul>\n<li>1. <b>損害</b> <span style='color:green;'>(correct)</span></li>\n<li>2. 存外</li>\n<li>3. 尊敬</li>\n<li>4. 損傷</li>\n</ul>\n<p><strong>5 . 彼は結果を聞いて<u>しつぼう</u>したようだった。</strong></p>\n<ul>\n<li>1. <b>失望</b> <span style='color:green;'>(correct)</span></li>\n<li>2. 失貌</li>\n<li>3. 室望</li>\n<li>4. 失防</li>\n</ul>\n<p><strong>6 . このジュースは水とよく<u>まざる</u>ので、味がうすくなります。</strong></p>\n<ul>\n<li>1. <b>混ざる</b> <span style='color:green;'>(correct)</span></li>\n<li>2. 交ざる</li>\n<li>3. 雑ざる</li>\n<li>4. 減ざる</li>\n</ul>\n</body></html>"
     },
     "metadata": {},
     "output_type": "display_data"
    }
   ],
   "source": [
    "html_output = render_to_html(output_data['sections'])\n",
    "display(Markdown(html_output))"
   ]
  },
  {
   "cell_type": "code",
   "execution_count": 16,
   "id": "330a0817d72fe5e",
   "metadata": {
    "id": "330a0817d72fe5e",
    "ExecuteTime": {
     "end_time": "2025-05-27T07:57:08.569171Z",
     "start_time": "2025-05-27T07:57:08.563078Z"
    }
   },
   "outputs": [],
   "source": [
    "# timestamp = datetime.datetime.now().strftime(\"%Y%m%d_%H%M%S\")\n",
    "# filename = f\"./output/jlpt_simulator/JLPT_{timestamp}.html\"\n",
    "\n",
    "# with open(filename, \"w\", encoding=\"utf-8\") as file:\n",
    "#     file.write(html_output)"
   ]
  },
  {
   "cell_type": "code",
   "execution_count": 16,
   "id": "c02c02ec6620993d",
   "metadata": {
    "id": "c02c02ec6620993d",
    "ExecuteTime": {
     "end_time": "2025-05-27T07:57:08.577152Z",
     "start_time": "2025-05-27T07:57:08.572155Z"
    }
   },
   "outputs": [],
   "source": []
  }
 ],
 "metadata": {
  "colab": {
   "include_colab_link": true,
   "provenance": []
  },
  "kernelspec": {
   "display_name": ".venv",
   "language": "python",
   "name": "python3"
  },
  "language_info": {
   "codemirror_mode": {
    "name": "ipython",
    "version": 3
   },
   "file_extension": ".py",
   "mimetype": "text/x-python",
   "name": "python",
   "nbconvert_exporter": "python",
   "pygments_lexer": "ipython3",
   "version": "3.13.2"
  }
 },
 "nbformat": 4,
 "nbformat_minor": 5
}
