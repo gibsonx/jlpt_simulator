{
 "cells": [
  {
   "cell_type": "markdown",
   "id": "f94c1f8ee4d0b085",
   "metadata": {
    "colab_type": "text",
    "id": "view-in-github"
   },
   "source": [
    "<a href=\"https://colab.research.google.com/github/gibsonx/jlpt_simulator/blob/dev/graphs/n3/outliner.ipynb\" target=\"_parent\"><img src=\"https://colab.research.google.com/assets/colab-badge.svg\" alt=\"Open In Colab\"/></a>"
   ]
  },
  {
   "cell_type": "code",
   "execution_count": 1,
   "id": "712d86d2ae0847a0",
   "metadata": {
    "colab": {
     "base_uri": "https://localhost:8080/"
    },
    "id": "712d86d2ae0847a0",
    "outputId": "0b69e343-ba35-4773-acca-92da0492bdba",
    "ExecuteTime": {
     "end_time": "2025-06-09T14:34:57.419783900Z",
     "start_time": "2025-06-09T14:34:57.386504800Z"
    }
   },
   "outputs": [
    {
     "name": "stdout",
     "output_type": "stream",
     "text": [
      "Not running on CoLab\n"
     ]
    }
   ],
   "source": [
    "if 'google.colab' in str(get_ipython()):\n",
    "    !git clone https://github.com/gibsonx/jlpt_simulator.git\n",
    "    %cd jlpt_simulator\n",
    "    !git checkout dev\n",
    "    \n",
    "    !apt-get install python3-dev graphviz libgraphviz-dev pkg-config\n",
    "    !pip install -r requirements.txt\n",
    "else:\n",
    "  print('Not running on CoLab')\n"
   ]
  },
  {
   "cell_type": "code",
   "execution_count": 2,
   "id": "7f526a68a7e73a65",
   "metadata": {
    "colab": {
     "base_uri": "https://localhost:8080/"
    },
    "id": "7f526a68a7e73a65",
    "outputId": "e3e7c3a2-bde6-4f65-cf4c-8ddd97998d8f",
    "ExecuteTime": {
     "end_time": "2025-06-09T14:35:01.673607100Z",
     "start_time": "2025-06-09T14:34:57.402860800Z"
    }
   },
   "outputs": [
    {
     "data": {
      "text/plain": "True"
     },
     "execution_count": 2,
     "metadata": {},
     "output_type": "execute_result"
    }
   ],
   "source": [
    "import json\n",
    "import logging\n",
    "import random\n",
    "import time\n",
    "from spire.doc import *\n",
    "from spire.doc.common import *\n",
    "import pandas as pd\n",
    "import yaml\n",
    "from tqdm import tqdm\n",
    "\n",
    "# from langchain_community.embeddings import XinferenceEmbeddings\n",
    "from libs.LLMs import *\n",
    "import datetime\n",
    "logging.basicConfig(level=logging.INFO, format='%(asctime)s - %(levelname)s - %(message)s')\n",
    "\n",
    "from graphs.n3.ExamTaskHandler import ExamTaskHandler\n",
    "load_dotenv()"
   ]
  },
  {
   "cell_type": "code",
   "outputs": [],
   "source": [
    "def collect_vocabulary(file_path):\n",
    "    # Read the CSV file\n",
    "    data = pd.read_csv(file_path)\n",
    "    # Shuffle the rows and reset the index\n",
    "    words = data.iloc[:, :2].sample(frac=1).reset_index(drop=True)\n",
    "    # Extract the second column (values) and convert to a single-line string\n",
    "    vocab_string = ','.join(words.iloc[:, 1].astype(str).tolist())\n",
    "    return vocab_string"
   ],
   "metadata": {
    "collapsed": false,
    "ExecuteTime": {
     "end_time": "2025-06-09T14:35:01.673607100Z",
     "start_time": "2025-06-09T14:35:01.670279Z"
    }
   },
   "id": "d159b3254277b376",
   "execution_count": 3
  },
  {
   "cell_type": "code",
   "execution_count": 4,
   "id": "initial_id",
   "metadata": {
    "id": "initial_id",
    "ExecuteTime": {
     "end_time": "2025-06-09T14:35:01.686124400Z",
     "start_time": "2025-06-09T14:35:01.673607100Z"
    }
   },
   "outputs": [],
   "source": [
    "# Import N3 Vocabulary\n",
    "file_path = 'Vocab/n3.csv'\n",
    "# Display the content of the CSV file\n",
    "vocab_dict = collect_vocabulary(file_path)\n",
    "with open(\"Vocab/topics.txt\", \"r\", encoding=\"utf-8\") as file:\n",
    "    topics_list = [line.strip() for line in file]"
   ]
  },
  {
   "cell_type": "code",
   "outputs": [
    {
     "data": {
      "text/plain": "'かいけつ,ほぞん,そう,しょくりょう,ざいさん,はん,く,もっとも,しょうたい,とどく,はんだん,さく,かいしゃく,そう,もやす,せんこう,かしこい,はか,さほう,あつかう,じゅうし,きたい,ず,ちる,おろす,あと,こううん,おおいに,えがお,じつりょく,で,さいしゅう,ゆうしゅう,かげん,ぬの,つぐ,きょうじゅ,たんじょう,うわさ,ごうけい,こくみん,ふく,あたり,いいん,な,きゅうけい,ゆるす,みかた,ほり,しんたい,こおる,ねんれい,たま,おうじる,よのなか,どうよう,む,かる,つかまる,つめる,きょだい,しぼう,そうとう,とうちゃく,りゅうがく,むかえ,うったえる,せいちょう,せつ,かげ,きり,しらせ,かえす,せい,まぜる,ひたい,のる,うまれ,かくご,さら,はかせ,けむり,おく,ふくめる,きげん,ほね,じょう,しんこう,かんりょう,のこす,ひひょう,とうあん,ちょうし,けいい,えさ,しどう,むだ,たおす,たい,かん,つり,かぐ,ぜいたく,らい～,かおり,ちく,しまい,かんり,ちい,しきりに,あんがい,きゅう,こうふん,ひげき,ふ,くるう,おだやか,なぞ,つぐ,しょうりゃく,ようす,ジェットき,しょう,ゆずる,ふくむ,てんねん,のぞく,かがく,しょうご,いや,けんとう,さんか,いんたい,おび,がら,しゅうしょく,ふあん,いきもの,いた,けんこう,りえき,ひみつ,ごみ,かたづく,ようき,たいおん,ひやす,よほう,すがた,やね,しんこう,かんそう,おとなしい,しょうがい,はし,けしょう,こうりょ,じょうけん,とうじ,ひとしい,ねんかん,あかり,くだる,うわ,よる,かく,しゅふ,ひろがる,いき,ひとり,こうはい,けいえい,たつ,れいぎ,とばす,もくひょう,さんせい,お,みやげ,かんじる,ろうどう,かいぜん,しゅうせい,やくす,とける,りく,えんそう,しゅだん,まえもって,そで,どくしん,けつえき,たんなる,とくい,かがやく,ふえ,むく,たしょう,かてい,だいぶぶん,けいゆ,のぞむ,ひづけ,うれる,ようじん,とう,およぎ,ひっこし,おぼれる,きょうりょく,いっしゅん,そだつ,いじ,おじぎ,ぶんや,おろす,じゅん,じき,かいがい,ねがう,しげき,いっち,しぜん,ちきゅう,ほこり,ぜん,どく,めし,ちかごろ,うつる,としょ,ねんだい,しゅう,けんかい,ぶ,かんげい,まもる,ほんと,ぶつ,きんちょう,きかい,いためる,うし,つうやく,りそう,ほご,ぜんたい,くむ,てつがく,ためる,かなり,くむ,なっとく,い,なる,こうふく,あくしゅ,やっかい,うなる,かつどう,なれる,けつろん,ひ,いわ,くべつ,なべ,えいせい,おい,しょうねん,ごかい,ます,どうりょう,ほしょう,むける,がい,ろんそう,わく,きんだい,とれる,いんさつ,げんざい,かんこう,むすぶ,じんしゅ,こうかん,おしゃべり,あたえる,おうさま,ゆうこう,めうえ,ようき,せいちょう,しばい,あらし,じまん,めいじる,よそく,ふそく,あたたまる,ぎちょう,ことわる,ものごと,まく,ぶき,ゆうき,はい,とい,こうしゃ,かくじつ,ていこう,しんけい,あきる,しんさつ,みまい,よめ,けってい,だいきん,しょうしょう,こい,せいこう,よあけ,しょくもつ,しあわせ,こくご,きんにく,こや,きく,せいき,えいきゅう,どくしょ,たいら,かた,かみ,うまる,わん,しつぼう,かえる,きょうぎ,あらわれる,かく,そそぐ,とおりすぎる,つもる,とく,きんえん,かんしゃ,つかれ,ただ,とも,ほうこく,なみだ,むく,きじ,くだ,せんじつ,かつよう,じっこう,がいこう,にちじょう,さいこう,ゆか,み,けいき,つける,ささえる,こじん,たい,ちょうさ,きおん,ささる,しんせん,かかり,さいちゅう,ひとこと,せい,ゆうのう,しょり,へる,たんご,はいゆう,やくわり,くん,きんし,じき,せいき,けっしん,よせる,どうし,おそろしい,たね,よさん,じじつ,どろ,そなえる,しゅじゅつ,じっし,さからう,のぼる,はえる,じじょう,はっこう,あつまり,せい,はぶく,むす,みりょく,つむ,さんか,おたがい,にる,ものおと,ちらす,しきゅう,しゅと,どくりつ,たび,こうか,はかる,がまん,とつぜん,きせい,ぜい,まく,み,けい,てき,のうみん,あぶら,から,まさか,いいん,あちこち,よろこび,おひる,かんれん,ひはん,すいせん,ふやす,しょく,しかく,ながれる,こうげき,きかん,おおや,ちゅうしゃ,ごうかく,しげん,しんぞう,かご,いかり,してん,い,しきゅう,ちがいない,はい,ことわざ,ひょう,まさに,がくもん,できごと,くりかえす,しかく,ある,ちゅうもん,いどう,さめる,いわば,ふく,ふり,かしゅ,こきゅう,し,つれ,くるしい,さつ,じゅうよう,あう,くせ,ほんもの,た,ぎし,しゅう,じっさい,はんばい,さっきょく,かり,はら,さける,つうきん,ぐん,こぜに,ひょうか,てってい,のぞみ,きげん,まちがい,もちいる,あてる,はだ,ないよう,よぼう,しょくりょう,ふやす,とも,こんかい,めいわく,したしい,せきたん,ぜんしん,さけぶ,つねに,とたん,ていでん,ほのお,げんだい,たいほ,はんざい,がっき,よ,ぶじ,ばっする,れい,のぞむ,さいばん,つみ,いずみ,れんそう,ほうほう,さゆう,ねんじゅう,ゆうこう,せいぶつ,し,たしかめる,おいつく,もと,はん,あたり,きょうかしょ,さばく,どうよう,ぜん,ゆうしょう,きょうふ,じょうし,こうえん,つきあう,にっこう,こおり,せつび,つよまる,うらぎる,おめにかかる,だまる,せいげん,さくもつ,てつ,かわかす,ちちおや,たいかい,もうしわけ,かさねる,きずく,のぞく,びょうどう,ける,しょくたく,こんやく,ゆうじん,ひよう,ぞう,たま,ぐん,けいじ,けってん,はい,たび,がくしゅう,ころぶ,しょうめい,ほほえむ,たば,くわわる,そんざい,すいみん,めくる,こと,ふうけい,たすける,ひとごみ,よい,ほえる,かじ,すうじ,かぶ,たいざい,はなす,ほうもん,なにか,ぎん,しゅんかん,しんごう,じたい,ぶたい,すごす,かんじょう,まる,ようい,かんしん,やめる,へいきん,ここ,だんたい,しんよう,せい,たいいく,ためす,こっかい,ちょうじょう,すみ,ふかめる,わた,けっきょく,いじわる,うつる,のびる,かち,なぐる,いらい,きんがく,いぜん,げんご,さぎょう,ゆでる,のうぎょう,しゃっきん,こっか,まじる,そうおん,しょくよく,さけ,しょう,おさめる,いっしゅ,きよう,せいせき,けんぽう,きかい,かく,じつは,もと,つく,なみ,じょうきょう,ばくはつ,ぶ,にゅうじょう,かぐ,さんこう,ふじゆう,かっき,つとめ,ぶつり,きゅうしゅう,よわめる,のせる,いわい,だい,ほうぼう,おん,ゆうびん,ふじん,こうこく,たいし,えん,ふし,おとる,あらゆる,なんでも,ひかく,うま,おそらく,はげしい,しつど,あき,す,しゅうだん,こくふく,じょうきゃく,こうほ,あわせる,くらい,すすめる,さめる,いっぱん,つたわる,はやす,いはん,にっちゅう,ぶんせき,かたな,オフィス,わん,ながめる,いき,さます,たちあがる,まざる,みごと,か,じゅう,こうせい,ほか,えいえん,なかま,きゅうげき,こうか,かんがえ,とし,ちゅうおう,やちん,ゆたか,こうふく,かん,えんぜつ,なかみ,てま,ねったい,ちこく,たたく,あいず,とら,めん,はく,ひろまる,べんとう,てんけい,ていあん,かのう,であう,けっせき,れっしゃ,しょうじる,ぬける,けん,おう,ゆいいつ,たいしょう,むしば,ひとりひとり,たいりく,ちゅう,あらそう,えいぎょう,もとめる,てきよう,みらい,へんこう,ふだん,たいしょう,いわう,くらす,しろ,のばす,きづく,じゅよう,いき,まずしい,けいき,やく,あたたまる,あら,する,しょくぎょう,つよめる,さんそ,はってん,しょさい,ぎゃく,かく,じどう,きかん,じんぶつ,また,はたけ,ならす,ならす,ひこう,かう,はたらき,のう,よき,ほしょう,そうじゅう,きこう,おまえ,がく,ご,おえる,かんかく,こうそく,おそれる,ろうじん,ちのう,わらい,どうか,じゅんばん,なやむ,ちょしゃ,すじ,もくてき,はっけん,えいよう,よす,はくしゅ,はつめい,くわえる,むし,ちょくせつ,やとう,どうじ,きん,ちょうせん,わるくち,さす,ちへいせん,もちあげる,あらた,なんで,あらわれ,ていりゅうじょ,しずむ,みとめる,みつ,かんこう,めんどう,めいし,たっする,げんば,ひっぱる,いちじ,たび,かける,さます,たつ,きょうじゅ,ほうふ,ぎかい,こうけい,ぶっか,どうとく,じゅうたく,ち,か,けんせつ,あたためる,つうじる,まつ,いんしょう,ふり,きんゆう,さく,ふこう,すいじゅん,がくれき,いっか,ちりょう,しょくぶつ,こえる,せいこう,こんなん,おもに,せいめい,そう,とく,けっか,ね,つい,デモ,げんしょう,せいしつ,おもわず,おもいつく,あいする,ぎいん,かんじょう,しんらい,おさめる,のこり,はかる,うず,のち,こし,たまらない,けいこく,ごうとう,じょうとう,おめでとう,かいいん,おさめる,いち,もよう,ふんいき,わかれ,しりあい,ちゃ,むりょう,にんき,かず,くんれん,かんする,でんごん,やど,きんせん,もえる,ぎむ,ごうか,ぜんしゃ,ふかまる,てつや,しんこう,だいとうりょう,ならす,ぜいきん,いのち,さい,あせ,きしゃ,かく,めんせつ,せき,のせる,もうしこむ,かよう,してん,さくひん,さす,えんき,かならずしも,いとこ,きげん,ものがたり,め,まち,れんぞく,じょうしき,かさなる,ちじ,せんこう,くさい,うつ,ぜんこく,のんびり,ちえ,どうし,こうしゃ,わく,かん,おもいで,ていど,じょゆう,あんてい,まつ,せいさん,やとう,れつ,あやまり,けいい,しょうめい,ざいりょう,つむ,はかる,とう,いとこ,こくばん,ふうふ,きらう,ねんげつ,あわれ,きず,ふる,でんし,ふまん,ふたたび,かぶる,きのどく,ぶん,ぎょうぎ,ぎもん,きみょう,しも,こいびと,もうふ,かわいそう,じょじょに,わん,とうよう,みょう,うばう,せいぞう,しも,あくま,いんよう,かえる,いきおい,しょうじょう,あずかる,くむ,なかみ,おどろき,しょうがい,こな,きょうちょう,はく,ほり,たま,とくちょう,よわまる,ご,きのう,だん,じょうだん,そまつ,しるし,じゅうだい,きじ,あたりまえ,わずか,じょし,かんじゃ,はやる,くわえる,かんしん,きゅうそく,かんどう,あきらめる,ごく,かち,よ,じつに,ほんにん,うちゅう,かてい,しんぱん,ようび,しょうばい,きまり,こくせき,しゅっぱん,あける,りょうがえ,けっかん,しそう,ほぼ,たかまる,あん,えんじょ,たいじゅう,たたかい,ほしょう,こうはい,ぶんめい,ちゅう,ある,おさない,こくもつ,とうひょう,おき,まめ,あてる,そんがい,せんこう,ひっし,ようするに,ちか,げんきん,せつ,ながす,どくとく,え,さかり,いし,とくちょう,けいやく,くやしい,ひょうじょう,しょうがくきん,しゅうかく,かげ,なかば,かいてき,しんぽ,どうろ,せんきょ,かける,かてい,ほうこう,さっか,ふれる,らく,みやこ,ふせい,せいねん,じょうたい,つなぐ,とう,かい,かたい,すべて,しんちょう,かし,かんきゃく,きたい,すませる,たいせん,しゅうい,ひょうめん,ははおや,たたかう,かん,せきにん,かんとく,しんちょう,さ,みかける,うめる,にがて,うむ,ぐんたい,きれる,げきじょう,じゅんちょう,じんせい,かく,こうかい,おとこのひと,にち,せんたく,まったく,いふく,まんぞく,しばふ,このみ,ぐん,そうち,たいき,かわる,ふで,せっけい,すえ,まぜる,いちば,せいねんがっぴ,たく,じき,たかめる,しゅよう,ぶ,けっこう,せきゆ,こんざつ,かんそう,たいくつ,しき,きゅう,そんちょう,しつぎょう,うめ,めんきょ,だいひょう,まなぶ,しっけ,ぜつめつ,いたみ,うお,こえる,にえる,かんせい,ともに,うんてん,しんこく,あたためる,かもく,したがう,の,せんでん,わかれる,はら,りかい,かくす,かえる,はんせい,ほほ,ほう,けん,ひこう,ぜんいん,かみ,かたづけ,たんに,かた,ぐうぜん,しょうじょ,しゅうり,すぐれる,じょしゅ,へらす,ばか,しょうじき,てじな,きれ,しんり,むちゅう,ぬく,ねっちゅう,かね,やぶれる,たたむ,きねん,とう,ね,きふ,こむぎ,めん,ぞう,かわ,えいきょう,うっかり,このむ,ふくろ,かせぐ,そうさ,つかむ,まつり,せいきゅう,しょうひん,きみ,いぜん,しょうひ,ふせぐ,たから,みおくり,よごす,ぎろん,ふつう,きん,かんぜん,よぶん,つぐ,とめる,しょうひん,ふへい,あきらか,かこ,せいしき,けんり,あらわす,ざせき,ちゅうし,せっきょくてき,きょうどう,こうそく,じょうたつ,しょうにん,ひょうばん,しゅるい,つなげる,はなれる,きょうちょう,ぶぶん,おおう,さく,じけん,いったい,しめす,ひん,せいり,さいわい,はで,ていき,けん,あずける,く,ぜったい,とじる,がっき,するどい,じっけん,そう,ちほう,ふくそう,うる,こうか,うらやましい,じどう,きょか,りこん,ひがい,まっか,まく,きぎょう,あたる,かいし,おうえん,ねがい,ながめ,おこる,れいせい,かみのけ,じんこう,しぼう,へる,はかる,きほん,せいふ,まかせる,しはらう,やぶる,かんきょう,いっしょう,きゅうそく,もんく,じき,せい,おくる,じさつ,ぼう,なんとか,いね,たにん,ね,きり,かいごう,せいかく,つながる,うさぎ,せいじん,いりょう,いったい,ごく,たま,おる,こんご,けいたい,センター,おう,いどう,あわ,ぶっしつ,とく,あんき,ようてん,しんせき,もと,しんがく,つうこう,あわてる,たよる,げ,きたく,なま,ころす,から,しゅちょう,しょう,きゅうりょう,てきせつ,よん,はなす,なみ,たて,はり,はね,しょうぼう,りつ,ながれ,つぐ,いまに,する,とざん,よなか,せいぜい,のばす,まご,ゆうき,おんど,ようきゅう,しつ,つち,こんらん,ようそ,つぎつぎ,かえる,じょし,こうくう,せいしん,た,ぼうけん,びん,たく,さまざま,ふち,とりあげる,まるで,かくれる,なん,ただちに,すみ,だいじん,ふたご,でんとう,ふるえる,きょうりょく,じゅうたい,はあ (かん),なし,よゆう,おしゃれ,とうさん,ゆうり,ゆう,みる,かざり,ちがい,すでに,うけとる,うむ,やく,いし,さらに,する,おうだん,のうりょく,わける,おくれ,くれ,あぶら,わき,ばくだい,であい,きし,さいしゅう,とける,かり,じょうほう,たがい,てきど,くみあい,いしき,じかに,わ,かんかく,ていしゅつ,にあう,せめる,ほどう,つうがく,がく,かつやく,しはい,ちゅうもく,すこしも,はじまり,はさん,きょうつう,りょう,える,こしょう,くだり,ばめん,かんこう,たまたま,とうぜん,いまにも,べつに,へんか,かさい,ひ,さべつ,まねく,しょもつ,おせん,せいめい,しゅっしん,ほお,かいけい,しゅう,かね,けいさん,はんこう,す,しょくひん,ちゅうこ,しよう,いじ,りょう,ちいき,かわ,うん,そうぞく,きんぞく,もんじ,しよう,きゅう,めいれい,きにゅう,いためる,なる,むしろ,たまる,くらし,つとめ,さす,きょうぎ,うつす,ひょう,りゅうこう,とち,うたがう,はなしあう,がくしゃ,かたい,おに,まく,そうぞう,ぞうか,かける,ねずみ,さんせい,じしん,そろえる,がん,がか,まく,きゅうに,こす,こうへい,こうえん,あな,はっぴょう,まんいち,きょうきゅう,ひじょう,めいかく,こじん,くさる,げんしょう,とおす,きゅうじょ,いねむり,ほとけ,くつう,もとづく,みちる,こっせつ,しり,てつどう,ごがく,のうか,ろんじる,びじん,しゅぎ,ばったり,じみ,つゆ,かいが,たとえ,へい,れいがい,ほう,ろんぶん,すいせん,こい,おさえる,まる,いがい,かくにん,せいねん,し,にぎる,おしえ,じつげん,きぼう,なまける,ずつう,つらい,たいがく,さばく,おんだん,かぞえる,どく,がいしゅつ,せんざい,しょうとつ,きんこ,つく,きゅうか,あいじょう,いし,そば,たいど,ほうせき,せいり,ためし,はんにん,ひょうげん,なくす,かんせい,とめる,しだい,かかく,いじょう,かこむ,ついに,かなしむ,けいたい,たいする,つづき,さくら,はくぶつかん,ひろめる,はったつ,はね,しんこう,ししゅつ,きょく,のびる,さく,さす,じょう,とじる,せいど,しんゆう,だんし,かわ,どういつ,りこう,せんしゅ,しゅしょう,しじん,した,にんげん,ちゅうしん,こんにち,しんけん,ひろげる,かみなり,たちば,のぼる,きにいる,つうか,ちゅうがく,わだい,ぶん,つうしん,ねんかん,げき,さいてい,はだか,そうさ,そうぞう,のき,かんじ,ぜん,まじる,けいじ,ゆかい,けんちく,しんこく,すすめる,てきする,けいこう,くろう,くさり,あいかわらず,かみ,そろう,おそわる,こうさい,いだく,きゅうりょう,つける,おか,まよう,こきょう,しゅうきょう,どうよう,すむ,ちょきん,たすかる,のう,あく,きかん,てんこう,のべる,かだい,い,かかえる,けんとう,じたい,けんさ,ゆうじょう,むね,さす,せいけつ,けいき,みょうごにち,そしき,ふしぎ,か,ふか,しゅうちゅう,まね,たより,よみ,たつ,きかん,たいはん,はんい,きちょう,かくだい,こうかい,じゅう,あるいは,どりょく,はかる,あいて,あらわす,かたる,つばさ,えんぎ,びん,こづつみ,しな,さる,こうどう,てんこう,よそう,ひてい,おうじ,なわ,ただ,めいじん,むしあつい,たく,かぎる,じゅうみん,だます,そこ,へいわ,としより,ばいう,ぐたい,げんじょう,せけん,げいじゅつ,しぼう,たんい,せつやく,しゅくはく,しゅうにゅう,しゅうしょく,さそう,としつき,あげる,くう,ちょうき,かわく,いっぽう,つつみ,もどす,われわれ,だく,こっきょう,げんじつ,はた,ゆき,しき,たった,たいした,げんかい,せいかく,すくう,すう,いま,さける,ひざ,くわしい,そんけい,はなれる,いりょう,かいふく,けっかん,ぬらす,だいめい,むかい,きろく,いっそう,すれちがう,てつだい,きおく,ほうそう,じょし,けい,かわいらしい,とびだす,たんじゅん,めったに,ちゅうしょく,あげる,やく,およぼす,しんり,じゅうたい,とかい,じょおう,かんさつ,だいり,どうし,ぜん,おん,いちどに,びょう,ほこり,さいのう,いたる,なか,おう,ば,せいひん,じょうきょう,かんりょう,あたたかい,しんじる,じんるい,そなえる,あらわす,いち,そくど,ことなる,つきあい,うしなう,しゅつじょう,しかく,だい,すむ,よこぎる,しょめい,たに,こす,はん,しめる,きんし,うごかす,かかる,くみ,ぜんしん,しはらい,ひも,しめる,えん,しょるい,つく,せめる,うつ,わる,こうけん,しょうにん,つうか,れい,まざる,さる,はっしゃ,こうせい,たんとう,ちしき,びみょう,じこ,いらい,さかい,りょうきん,まけ,そん,であい,あい,めいし,よう,もの,せいめい,しよう,はば,たいよう,つゆ,はっしゃ,はいたつ,しほん,くるしむ,さく,かし,かたがた,おろす,きこう,いだい,じこく,こうば,ありがとう,えがく,もじ'"
     },
     "execution_count": 5,
     "metadata": {},
     "output_type": "execute_result"
    }
   ],
   "source": [
    "vocab_dict"
   ],
   "metadata": {
    "collapsed": false,
    "ExecuteTime": {
     "end_time": "2025-06-09T14:35:01.695846900Z",
     "start_time": "2025-06-09T14:35:01.686124400Z"
    }
   },
   "id": "b8190757154161de",
   "execution_count": 5
  },
  {
   "cell_type": "markdown",
   "id": "4c1cdce8b1f57ef3",
   "metadata": {
    "collapsed": false,
    "id": "4c1cdce8b1f57ef3"
   },
   "source": [
    "#### load Models"
   ]
  },
  {
   "cell_type": "code",
   "outputs": [],
   "source": [
    "from typing import List, Optional\n",
    "\n",
    "from langchain_core.prompts import ChatPromptTemplate\n",
    "\n",
    "from pydantic import BaseModel, Field\n",
    "\n",
    "# instruction = \"\"\"\n",
    "# Section 1: Vocabulary and Grammar\n",
    "# - Kanji reading (kanji_reading): 8 questions\n",
    "# - Write Chinese characters (write_kanji): 6 questions\n",
    "# - Word Meaning Selection (word_meaning): 11 questions\n",
    "# - Synonyms substitution (synonym_substitution): 5 questions\n",
    "# - word usage (word_usage): 5 questions\n",
    "# - Grammar fill in the blank (sentence_grammar): 13 questions\n",
    "# - Sentence sorting (sentence_sort): 5 questions\n",
    "# - Grammar structure selection (sentence_structure): 4-5 questions\n",
    "#\n",
    "# Section 2: Reading Comprehension\n",
    "# - Short passages (short_passage_read): 4 articles\n",
    "# - Mid-size passages (midsize_passage_read): 2 articles\n",
    "# - Long passages (long_passage_read): 1 articles\n",
    "# - Information retrieval (info_retrieval): 1 articles\n",
    "#\n",
    "# Section 3: Listening Comprehension\n",
    "# - Topic understanding (topic_understanding): 6 questions\n",
    "# - Key understanding (keypoint_understanding): 6 questions\n",
    "# - Summary understanding (summary_understanding): 3 questions\n",
    "# - Active expression (active_expression): 4 questions\n",
    "# - Immediate acknowledgment (immediate_ack): 9 questions\n",
    "# \"\"\"\n",
    "\n",
    "# '''\n",
    "# - 問題1 のことばの読み方として最もよいものを、1・2・3・4から一つえらびなさい (kanji_reading): 1 question\n",
    "# - 問題2 このことばを漢字で書くとき、最もよいものを、１・２・３・４から一つえらびなさい (write_kanji): 1 question\n",
    "# - 問題3（　）に入れるのに最もよいものを、１・２・３・４から一つえらびなさい。 (word_meaning): 1 question\n",
    "# - 問題4 に意味が最も近いものを、１・２・３・４から一つえらびなさい。(synonym_substitution) 1 question\n",
    "# - 問題5 つぎのことばの使い方として最もよいものを、２・３・４から一つえらびなさい。 (word_usage): 1 question\n",
    "# - 問題6 つぎの文の（　　　）に入れるのに最もよいものを、１・２・３・４から一つえらびなさい。(sentence_grammar) 1 questions\n",
    "# - 問題7 つぎの文の ★ に入る最もよいものを、１・２・３・４から一つえらびなさい。(sentence_sort) 1 question\n",
    "# '''\n",
    "\n",
    "instruction = \"\"\"\n",
    "Section 1: Vocabulary and Grammar\n",
    "- 問題8 つぎの文章を読んで、文章全体の内容を考えて、文中の 19 から 22 の中に入る最もよいものを、１・２・３・４から一つえらびなさい (sentence_structure) 1 question\n",
    "\n",
    "Section 2: Reading Comprehension\n",
    "- 問題9 つぎの(1)から(4)の文章を読んで、質問に答えなさい。答えは、1・2・3・4から最もよいものを一つえらびなさい (short_passage_read): 4 articles\n",
    "- Information retrieval (info_retrieval): 1 article\n",
    "\n",
    "Section 3: Listening Comprehension\n",
    "- Topic understanding (topic_understanding): 1 question\n",
    "\n",
    "\"\"\"\n",
    "\n",
    "\n",
    "direct_gen_outline_prompt = ChatPromptTemplate.from_messages(\n",
    "    [\n",
    "        (\n",
    "            \"system\",\n",
    "            f\"You are a japanese teacher. Your job is to write an outline for a JLPT Japanese-Language Proficiency Test N3 level exam paper. The topic word in outline must be presented in Japanese kana only. The complexity should be restricted to N3 level and respect japanese culture. The JLPT Japanese-Language Proficiency Test exam paper includes a mix of moderate and very difficult topics to accurately assess the test-taker's proficiency across different aspects of the language.\"\n",
    "            f\"First, evenly pick Japanese words used in different part of sentence from 'Vocabulary' for questions in Vocabulary and Grammar, ensuring 40 percent of very difficult words for topics. At Section 2 and 3, randomly choose topics in 'TopicList' for reading Comprehension and Listening Comprehension Sections, don't repeat to choose a same word or topic\"\n",
    "            f\"Second, you should abide by the provided exam instruction and decide the number of questions and content in the each Section.\"\n",
    "            f\"Finally, write the outline of the examination paper in japanese and provide question topics according to the instructions.\"\n",
    "            f\"Instruction: {instruction}\",\n",
    "        ),\n",
    "        (\"user\", \"TopicList: {topic_list}, Vocabulary: {vocab_dict}\"),\n",
    "    ]\n",
    ")\n"
   ],
   "metadata": {
    "collapsed": false,
    "ExecuteTime": {
     "end_time": "2025-06-09T14:35:01.727409700Z",
     "start_time": "2025-06-09T14:35:01.691527600Z"
    }
   },
   "id": "e339295a858fb5f8",
   "execution_count": 6
  },
  {
   "cell_type": "markdown",
   "id": "fed5f032dadafac1",
   "metadata": {
    "collapsed": false,
    "id": "fed5f032dadafac1"
   },
   "source": [
    "## Data Strcuture"
   ]
  },
  {
   "cell_type": "code",
   "execution_count": 7,
   "id": "39329a71b16d2400",
   "metadata": {
    "id": "39329a71b16d2400",
    "ExecuteTime": {
     "end_time": "2025-06-09T14:35:01.727409700Z",
     "start_time": "2025-06-09T14:35:01.700069500Z"
    }
   },
   "outputs": [],
   "source": [
    "class QuestionTopic(BaseModel):\n",
    "    topic: str = Field(..., title=\"a vocabulary or topic hint for a question\")\n",
    "\n",
    "\n",
    "class Subsection(BaseModel):\n",
    "    subsection_title: str = Field(..., title=\"subsection English word in () only from the instruction\")\n",
    "    description: str = Field(..., title=\"giving the number of questions and requirements\")\n",
    "    question_topics: Optional[List[QuestionTopic]] = Field(\n",
    "        default_factory=list\n",
    "    )\n",
    "\n",
    "    @property\n",
    "    def as_str(self) -> str:\n",
    "        question_topics_str = \"\\n\".join(\n",
    "            f\"- **{qt.topic}**\" for qt in self.question_topics\n",
    "        )\n",
    "        return f\"### {self.subsection_title}\\n\\n{self.description}\\n\\n{question_topics_str}\".strip()\n",
    "\n",
    "class Section(BaseModel):\n",
    "    section_title: str = Field(..., title=\"Title of the section\")\n",
    "    subsections: Optional[List[Subsection]] = Field(\n",
    "        default_factory=list,\n",
    "        title=\"Titles and reason for each subsection of the JLPT exam page.\",\n",
    "    )\n",
    "\n",
    "    @property\n",
    "    def as_str(self) -> str:\n",
    "        subsections = \"\\n\\n\".join(\n",
    "            subsection.as_str for subsection in self.subsections or []\n",
    "        )\n",
    "        return f\"## {self.section_title}\\n\\n{subsections}\".strip()\n",
    "\n",
    "\n",
    "class Outline(BaseModel):\n",
    "    page_title: str = Field(..., title=\"Title of the JLPT exam page\")\n",
    "    sections: List[Section] = Field(\n",
    "        default_factory=list,\n",
    "        title=\"Titles and descriptions for each section of the JLPT exam paper.\",\n",
    "    )\n",
    "\n",
    "    @property\n",
    "    def as_str(self) -> str:\n",
    "        sections = \"\\n\\n\".join(section.as_str for section in self.sections)\n",
    "        return f\"# {self.page_title}\\n\\n{sections}\".strip()\n"
   ]
  },
  {
   "cell_type": "code",
   "execution_count": 8,
   "id": "d0730de416980c6",
   "metadata": {
    "id": "d0730de416980c6",
    "ExecuteTime": {
     "end_time": "2025-06-09T14:35:01.727409700Z",
     "start_time": "2025-06-09T14:35:01.712365600Z"
    }
   },
   "outputs": [],
   "source": [
    "# Read the topics from a file, sort them, and print the sorted list\n",
    "def process_topics(file_path):\n",
    "    try:\n",
    "        # Read the file\n",
    "        with open(file_path, 'r', encoding='utf-8') as file:\n",
    "            topics = file.readlines()\n",
    "\n",
    "        # Remove any extra whitespace or newline characters\n",
    "        topics = [topic.strip() for topic in topics if topic.strip()]\n",
    "\n",
    "        # Shuffle the topics randomly\n",
    "        random.shuffle(topics)\n",
    "\n",
    "    except FileNotFoundError:\n",
    "        print(\"The file was not found. Please check the file path.\")\n",
    "    except Exception as e:\n",
    "        print(\"An error occurred:\", str(e))\n",
    "\n",
    "    except FileNotFoundError:\n",
    "        print(\"The file was not found. Please check the file path.\")\n",
    "    except Exception as e:\n",
    "        print(\"An error occurred:\", str(e))"
   ]
  },
  {
   "cell_type": "code",
   "execution_count": 9,
   "id": "8fc17fee14c40716",
   "metadata": {
    "id": "8fc17fee14c40716",
    "ExecuteTime": {
     "end_time": "2025-06-09T14:35:08.533997200Z",
     "start_time": "2025-06-09T14:35:01.718908800Z"
    }
   },
   "outputs": [
    {
     "name": "stderr",
     "output_type": "stream",
     "text": [
      "2025-06-09 22:35:08,513 - INFO - HTTP Request: POST https://ai-rolandaws880125ai409947751408.openai.azure.com/openai/deployments/gpt-4.1/chat/completions?api-version=2025-01-01-preview \"HTTP/1.1 200 OK\"\n"
     ]
    }
   ],
   "source": [
    "# Preload all topics from the file\n",
    "with open(\"Vocab/topics.txt\", \"r\", encoding=\"utf-8\") as file:\n",
    "    topics_list = [line.strip() for line in file]\n",
    "\n",
    "generate_outline_direct = direct_gen_outline_prompt | azure_llm.with_structured_output(Outline)\n",
    "initial_outline = generate_outline_direct.invoke({\"topic_list\": topics_list, \"vocab_dict\": vocab_dict})"
   ]
  },
  {
   "cell_type": "code",
   "execution_count": 10,
   "outputs": [
    {
     "data": {
      "text/plain": "Outline(page_title='日本語能力試験N3 模擬試験 問題用紙', sections=[Section(section_title='第１部\\u3000語彙・文法', subsections=[Subsection(subsection_title='(sentence_structure)', description='問題8：1問。つぎの文章を読んで、文章全体の内容を考えて、文中の 19 から 22 の中に入る最もよいものを、１・２・３・４から一つえらびなさい。', question_topics=[QuestionTopic(topic='しゅうしょく'), QuestionTopic(topic='かいしゃく'), QuestionTopic(topic='ふくむ'), QuestionTopic(topic='じょうけん')])]), Section(section_title='第２部\\u3000読解', subsections=[Subsection(subsection_title='(short_passage_read)', description='問題9：4つの短い文章を読んで、それぞれの質問に答えなさい。答えは、1・2・3・4から最もよいものを一つえらびなさい。', question_topics=[QuestionTopic(topic='食事の好みについて話す'), QuestionTopic(topic='道を尋ねる'), QuestionTopic(topic='家族について話す'), QuestionTopic(topic='健康とフィットネスについて話す')]), Subsection(subsection_title='(info_retrieval)', description='1つの記事を読んで、情報を探し出し、最もよい答えを選びなさい。', question_topics=[QuestionTopic(topic='引っ越しの準備について話す')])]), Section(section_title='第３部\\u3000聴解', subsections=[Subsection(subsection_title='(topic_understanding)', description='1問。音声を聞き、内容理解を問う問題。', question_topics=[QuestionTopic(topic='公共施設の利用方法について話す')])])])"
     },
     "execution_count": 10,
     "metadata": {},
     "output_type": "execute_result"
    }
   ],
   "source": [
    "initial_outline"
   ],
   "metadata": {
    "collapsed": false,
    "ExecuteTime": {
     "end_time": "2025-06-09T14:35:08.542363100Z",
     "start_time": "2025-06-09T14:35:08.533997200Z"
    }
   },
   "id": "642ab45795c9eae4"
  },
  {
   "cell_type": "code",
   "execution_count": 11,
   "id": "d53b7d9ff86a5377",
   "metadata": {
    "colab": {
     "base_uri": "https://localhost:8080/",
     "height": 1000
    },
    "id": "d53b7d9ff86a5377",
    "outputId": "0e4ce018-377a-48d5-9b87-bed3eac897ac",
    "ExecuteTime": {
     "end_time": "2025-06-09T14:35:08.592119800Z",
     "start_time": "2025-06-09T14:35:08.539294100Z"
    }
   },
   "outputs": [
    {
     "data": {
      "text/plain": "<IPython.core.display.Markdown object>",
      "text/markdown": "# 日本語能力試験N3 模擬試験 問題用紙\n\n## 第１部　語彙・文法\n\n### (sentence_structure)\n\n問題8：1問。つぎの文章を読んで、文章全体の内容を考えて、文中の 19 から 22 の中に入る最もよいものを、１・２・３・４から一つえらびなさい。\n\n- **しゅうしょく**\n- **かいしゃく**\n- **ふくむ**\n- **じょうけん**\n\n## 第２部　読解\n\n### (short_passage_read)\n\n問題9：4つの短い文章を読んで、それぞれの質問に答えなさい。答えは、1・2・3・4から最もよいものを一つえらびなさい。\n\n- **食事の好みについて話す**\n- **道を尋ねる**\n- **家族について話す**\n- **健康とフィットネスについて話す**\n\n### (info_retrieval)\n\n1つの記事を読んで、情報を探し出し、最もよい答えを選びなさい。\n\n- **引っ越しの準備について話す**\n\n## 第３部　聴解\n\n### (topic_understanding)\n\n1問。音声を聞き、内容理解を問う問題。\n\n- **公共施設の利用方法について話す**"
     },
     "metadata": {},
     "output_type": "display_data"
    }
   ],
   "source": [
    "from IPython.display import display, Markdown, HTML\n",
    "display(Markdown(initial_outline.as_str))"
   ]
  },
  {
   "cell_type": "code",
   "execution_count": 12,
   "id": "5c2b7e675e5302a8",
   "metadata": {
    "colab": {
     "base_uri": "https://localhost:8080/"
    },
    "id": "5c2b7e675e5302a8",
    "outputId": "657ff47f-94af-4bd5-8035-03239fd42380",
    "ExecuteTime": {
     "end_time": "2025-06-09T14:38:33.340250700Z",
     "start_time": "2025-06-09T14:35:08.557919100Z"
    }
   },
   "outputs": [
    {
     "name": "stderr",
     "output_type": "stream",
     "text": [
      "Processing 第１部　語彙・文法:   0%|          | 0/1 [00:00<?, ?it/s]\n",
      "Processing (sentence_structure):   0%|          | 0/4 [00:00<?, ?it/s]\u001B[A"
     ]
    },
    {
     "name": "stdout",
     "output_type": "stream",
     "text": [
      "---WEB SEARCH---\n",
      "---Generator----\n"
     ]
    },
    {
     "name": "stderr",
     "output_type": "stream",
     "text": [
      "2025-06-09 22:35:20,363 - INFO - HTTP Request: POST https://ai-rolandaws880125ai409947751408.openai.azure.com/openai/deployments/gpt-4.1/chat/completions?api-version=2025-01-01-preview \"HTTP/1.1 200 OK\"\n",
      "2025-06-09 22:35:20,364 - INFO - Generated message: <div class='article'>\n",
      "<h3>初めての就職活動</h3>\n",
      "<p>\n",
      "私は大学三年生の時、初めて<strong>就職活動</strong>を始めました。就職活動はとても大変だと聞いていましたが、<strong>【19】</strong>、自分の将来について考える良いきっかけにもなりました。\n",
      "</p>\n",
      "<p>\n",
      "最初はどの会社に応募したらいいか分からず、インターネットでいろいろな企業について調べました。説明会に参加したり、先輩にアドバイスをもらったりして、少しずつ自分に合う会社が分かってきました。<strong>【20】</strong>、面接はとても緊張しましたが、何度も練習することで自信がつきました。\n",
      "</p>\n",
      "<p>\n",
      "私は「人の役に立つ仕事がしたい」と思っていたので、社会福祉の会社に応募しました。面接では、自分の考えや経験を<strong>【21】</strong>話すように心がけました。\n",
      "</p>\n",
      "<p>\n",
      "最終的に、希望していた会社から内定をもらうことができました。今は社会人として働きながら、毎日新しいことを学んでいます。就職活動は大変でしたが、<strong>【22】</strong>、とても良い経験になったと思います。\n",
      "</p>\n",
      "</div>\n",
      "\n",
      "<a>19.</a>\n",
      "<ul>\n",
      "    <li>もちろん</li>\n",
      "    <li>けれども</li>\n",
      "    <li>たとえば</li>\n",
      "    <li>それとも</li>\n",
      "</ul>\n",
      "正解: 2\n",
      "\n",
      "<a>20.</a>\n",
      "<ul>\n",
      "    <li>ですから</li>\n",
      "    <li>ところが</li>\n",
      "    <li>たしかに</li>\n",
      "    <li>それにしては</li>\n",
      "</ul>\n",
      "正解: 3\n",
      "\n",
      "<a>21.</a>\n",
      "<ul>\n",
      "    <li>できるだけ</li>\n",
      "    <li>必ず</li>\n",
      "    <li>なるべく</li>\n",
      "    <li>やはり</li>\n",
      "</ul>\n",
      "正解: 1\n",
      "\n",
      "<a>22.</a>\n",
      "<ul>\n",
      "    <li>苦労したので</li>\n",
      "    <li>苦労しなくても</li>\n",
      "    <li>苦労したけれど</li>\n",
      "    <li>苦労したのであれば</li>\n",
      "</ul>\n",
      "正解: 3\n"
     ]
    },
    {
     "name": "stdout",
     "output_type": "stream",
     "text": [
      "---REVISOR---\n"
     ]
    },
    {
     "name": "stderr",
     "output_type": "stream",
     "text": [
      "2025-06-09 22:35:26,324 - INFO - HTTP Request: POST https://ai-rolandaws880125ai409947751408.openai.azure.com/openai/deployments/gpt-4.1/chat/completions?api-version=2025-01-01-preview \"HTTP/1.1 200 OK\"\n",
      "2025-06-09 22:35:26,325 - INFO - Refelect message: **Content Accuracy:**\n",
      "- The reading passage is clear, relevant, and appropriately challenging for JLPT N3. The vocabulary and grammar used are suitable for this level (e.g., 就職活動, 内定, けれども, たしかに, できるだけ, なるべく, 苦労したけれど).\n",
      "- The context of job hunting as a university student is both culturally and academically appropriate for Japanese learners.\n",
      "\n",
      "**Question and Answer Quality:**\n",
      "- All questions are clearly worded and unambiguous. The blanks test logical connectors and adverbs, which are essential at N3.\n",
      "- The distractors in each question are plausible, but only one is contextually and grammatically correct, which is ideal.\n",
      "- The difficulty level matches the intended N3 level, as students must understand both vocabulary nuance and logical flow.\n",
      "\n",
      "**Detailed Refinement:**\n",
      "- All content is culturally appropriate and reflects real-life situations Japanese students encounter.\n",
      "- The passage uses academic language relevant to job hunting in Japan, which is ideal for JLPT preparation.\n",
      "\n",
      "**Feedback and Recommendations:**\n",
      "- The passage and questions are well-designed for the N3 level. No ambiguity or cultural issues are present.\n",
      "- The answer choices are balanced, and the correct answers fit naturally into the context.\n",
      "\n",
      "**Final Evaluation:**  \n",
      "GOOD ENOUGH\n"
     ]
    },
    {
     "name": "stdout",
     "output_type": "stream",
     "text": [
      "--- AI Reviser feels Good Enough ---\n",
      "--- Formatter ---\n"
     ]
    },
    {
     "name": "stderr",
     "output_type": "stream",
     "text": [
      "2025-06-09 22:35:29,879 - INFO - HTTP Request: POST https://ai-rolandaws880125ai409947751408.openai.azure.com/openai/deployments/gpt-4.1/chat/completions?api-version=2025-01-01-preview \"HTTP/1.1 200 OK\"\n",
      "2025-06-09 22:35:29,885 - INFO - Formatted message: {'html_article': \"<div class='article'><h3>初めての就職活動</h3><p>私は大学三年生の時、初めて<strong>就職活動</strong>を始めました。就職活動はとても大変だと聞いていましたが、<strong>【19】</strong>、自分の将来について考える良いきっかけにもなりました。</p><p>最初はどの会社に応募したらいいか分からず、インターネットでいろいろな企業について調べました。説明会に参加したり、先輩にアドバイスをもらったりして、少しずつ自分に合う会社が分かってきました。<strong>【20】</strong>、面接はとても緊張しましたが、何度も練習することで自信がつきました。</p><p>私は「人の役に立つ仕事がしたい」と思っていたので、社会福祉の会社に応募しました。面接では、自分の考えや経験を<strong>【21】</strong>話すように心がけました。</p><p>最終的に、希望していた会社から内定をもらうことができました。今は社会人として働きながら、毎日新しいことを学んでいます。就職活動は大変でしたが、<strong>【22】</strong>、とても良い経験になったと思います。</p></div>\", 'questions': [{'html_question': '19.', 'correct_answer': 2, 'choices': ['もちろん', 'けれども', 'たとえば', 'それとも']}, {'html_question': '20.', 'correct_answer': 3, 'choices': ['ですから', 'ところが', 'たしかに', 'それにしては']}, {'html_question': '21.', 'correct_answer': 1, 'choices': ['できるだけ', '必ず', 'なるべく', 'やはり']}, {'html_question': '22.', 'correct_answer': 3, 'choices': ['苦労したので', '苦労しなくても', '苦労したけれど', '苦労したのであれば']}]}\n",
      "\n",
      "Processing (sentence_structure):  25%|██▌       | 1/4 [00:21<01:03, 21.30s/it]\u001B[A"
     ]
    },
    {
     "name": "stdout",
     "output_type": "stream",
     "text": [
      "---WEB SEARCH---\n",
      "---Generator----\n"
     ]
    },
    {
     "name": "stderr",
     "output_type": "stream",
     "text": [
      "2025-06-09 22:35:44,845 - INFO - HTTP Request: POST https://ai-rolandaws880125ai409947751408.openai.azure.com/openai/deployments/gpt-4.1/chat/completions?api-version=2025-01-01-preview \"HTTP/1.1 200 OK\"\n",
      "2025-06-09 22:35:44,847 - INFO - Generated message: <div class='article'>\n",
      "<h3>「介錯」という言葉の意味</h3>\n",
      "<p>\n",
      "「介錯（かいしゃく）」という言葉には、二つの主な意味があります。一つ目は、昔の日本で武士が切腹をするとき、その人の苦しみを少なくするために、<strong>【19】</strong>、首を刀で切ることです。この役目をする人も「介錯人」と呼ばれました。\n",
      "</p>\n",
      "<p>\n",
      "もう一つの意味は、誰かのそばについて世話をしたり、助けたりすることです。例えば、舞台や伝統芸能の世界では、道具を渡したり、役者の動きを助けたりすることを「介錯」と言います。\n",
      "</p>\n",
      "<p>\n",
      "現代では、<strong>【20】</strong>、この言葉を使うことは少なくなりました。しかし、歴史や時代劇の話の中では、よく出てくる言葉です。\n",
      "</p>\n",
      "<p>\n",
      "また、「介錯」の意味を知らない人も多いので、<strong>【21】</strong>、説明が必要な場合もあります。\n",
      "</p>\n",
      "<p>\n",
      "このように、「介錯」という言葉には昔からの深い意味があるのです。<strong>【22】</strong>、日本の歴史や文化を知ることができます。\n",
      "</p>\n",
      "</div>\n",
      "\n",
      "<a>  \n",
      "<ul>\n",
      "    <li>切腹する人の後ろに立って</li>\n",
      "    <li>切腹する人の前に座って</li>\n",
      "    <li>切腹する人の横にいて</li>\n",
      "    <li>切腹する人の家族と一緒に</li>\n",
      "</ul>\n",
      "\n",
      "<ul>\n",
      "    <li>日常生活で</li>\n",
      "    <li>学校で</li>\n",
      "    <li>昔より</li>\n",
      "    <li>今でも</li>\n",
      "</ul>\n",
      "\n",
      "<ul>\n",
      "    <li>テレビでよく見られるので</li>\n",
      "    <li>辞書で調べる人が多いので</li>\n",
      "    <li>会話で使うことが多いので</li>\n",
      "    <li>使う時には</li>\n",
      "</ul>\n",
      "\n",
      "<ul>\n",
      "    <li>この言葉を知ることによって</li>\n",
      "    <li>この言葉を使わないようにして</li>\n",
      "    <li>この言葉を忘れないようにして</li>\n",
      "    <li>この言葉を間違えて使って</li>\n",
      "</ul>\n",
      "</a>\n",
      "\n",
      "正解:\n",
      "19: 1  \n",
      "20: 1  \n",
      "21: 4  \n",
      "22: 1\n"
     ]
    },
    {
     "name": "stdout",
     "output_type": "stream",
     "text": [
      "---REVISOR---\n"
     ]
    },
    {
     "name": "stderr",
     "output_type": "stream",
     "text": [
      "2025-06-09 22:35:48,925 - INFO - HTTP Request: POST https://ai-rolandaws880125ai409947751408.openai.azure.com/openai/deployments/gpt-4.1/chat/completions?api-version=2025-01-01-preview \"HTTP/1.1 200 OK\"\n",
      "2025-06-09 22:35:48,929 - INFO - Refelect message: **Content Accuracy:**  \n",
      "- The reading passage is clear, concise, and culturally relevant, providing an explanation of the word 「介錯」 and its historical and modern meanings. The vocabulary and grammar are appropriate for JLPT N3, with some slightly advanced cultural content, but nothing beyond the expected challenge for N3.\n",
      "- The options for each blank are plausible and test comprehension of the passage. The distractors are reasonable and not misleading.\n",
      "- The context is historically and culturally accurate, and the content is appropriate for academic and cultural understanding at this level.\n",
      "\n",
      "**Question and Answer Quality:**  \n",
      "- Each blank is clearly placed, and the options are free from ambiguity.\n",
      "- The questions assess reading comprehension, vocabulary, and the ability to infer context, which are all important skills for N3.\n",
      "- The level of difficulty is suitable for N3: the passage is not too long, the grammar is within expected patterns, and the vocabulary is mostly N3-level, with any specialized terms explained in context.\n",
      "- The correct answers fit naturally and logically in each blank.\n",
      "\n",
      "**Detailed Refinement:**  \n",
      "- The passage is culturally sensitive and introduces a historical concept appropriately, without glorifying or trivializing it.\n",
      "- The content is educational, offering insight into Japanese language and culture.\n",
      "- No inappropriate or unclear content is present.\n",
      "\n",
      "**Feedback and Recommendations:**  \n",
      "- The exam paper effectively challenges students at the N3 level with an authentic and culturally relevant reading passage.\n",
      "- All questions are clear and unambiguous, and the distractors are well-designed.\n",
      "- No further changes are needed.\n",
      "\n",
      "**Final Evaluation:**  \n",
      "GOOD ENOUGH\n"
     ]
    },
    {
     "name": "stdout",
     "output_type": "stream",
     "text": [
      "--- AI Reviser feels Good Enough ---\n",
      "--- Formatter ---\n"
     ]
    },
    {
     "name": "stderr",
     "output_type": "stream",
     "text": [
      "2025-06-09 22:35:51,957 - INFO - HTTP Request: POST https://ai-rolandaws880125ai409947751408.openai.azure.com/openai/deployments/gpt-4.1/chat/completions?api-version=2025-01-01-preview \"HTTP/1.1 200 OK\"\n",
      "2025-06-09 22:35:51,959 - INFO - Formatted message: {'html_article': '<h3>「介錯」という言葉の意味</h3><p>「介錯（かいしゃく）」という言葉には、二つの主な意味があります。一つ目は、昔の日本で武士が切腹をするとき、その人の苦しみを少なくするために、<strong>【19】</strong>、首を刀で切ることです。この役目をする人も「介錯人」と呼ばれました。</p><p>もう一つの意味は、誰かのそばについて世話をしたり、助けたりすることです。例えば、舞台や伝統芸能の世界では、道具を渡したり、役者の動きを助けたりすることを「介錯」と言います。</p><p>現代では、<strong>【20】</strong>、この言葉を使うことは少なくなりました。しかし、歴史や時代劇の話の中では、よく出てくる言葉です。</p><p>また、「介錯」の意味を知らない人も多いので、<strong>【21】</strong>、説明が必要な場合もあります。</p><p>このように、「介錯」という言葉には昔からの深い意味があるのです。<strong>【22】</strong>、日本の歴史や文化を知ることができます。</p>', 'questions': [{'html_question': '【19】', 'correct_answer': 1, 'choices': ['切腹する人の後ろに立って', '切腹する人の前に座って', '切腹する人の横にいて', '切腹する人の家族と一緒に']}, {'html_question': '【20】', 'correct_answer': 1, 'choices': ['日常生活で', '学校で', '昔より', '今でも']}, {'html_question': '【21】', 'correct_answer': 4, 'choices': ['テレビでよく見られるので', '辞書で調べる人が多いので', '会話で使うことが多いので', '使う時には']}, {'html_question': '【22】', 'correct_answer': 1, 'choices': ['この言葉を知ることによって', 'この言葉を使わないようにして', 'この言葉を忘れないようにして', 'この言葉を間違えて使って']}]}\n",
      "\n",
      "Processing (sentence_structure):  50%|█████     | 2/4 [00:43<00:43, 21.76s/it]\u001B[A"
     ]
    },
    {
     "name": "stdout",
     "output_type": "stream",
     "text": [
      "---WEB SEARCH---\n",
      "---Generator----\n"
     ]
    },
    {
     "name": "stderr",
     "output_type": "stream",
     "text": [
      "2025-06-09 22:36:02,966 - INFO - HTTP Request: POST https://ai-rolandaws880125ai409947751408.openai.azure.com/openai/deployments/gpt-4.1/chat/completions?api-version=2025-01-01-preview \"HTTP/1.1 200 OK\"\n",
      "2025-06-09 22:36:02,969 - INFO - Generated message: <div class='article'>\n",
      "<h3>「含む」という言葉の使い方</h3>\n",
      "<p>\n",
      "「含む（ふくむ）」という言葉は、日常生活の中でよく使われます。たとえば、水を口に<strong>【19】</strong>、すぐに飲みこまずにしばらくそのままにしておくことがあります。このようなとき、「口に水を<strong>【20】</strong>」と言います。また、「含む」には、あるものがその中に入っているという意味もあります。\n",
      "</p>\n",
      "<p>\n",
      "例えば、「このお菓子はナッツを<strong>【21】</strong>」や「このクラスには留学生が三人<strong>【22】</strong>」などのように使います。つまり、「含む」は、何かが他のものの一部として中に入っていることを表します。\n",
      "</p>\n",
      "<p>\n",
      "また、「含む」は気持ちや意味についても使われます。「彼の言葉には怒りが<strong>【23】</strong>」という場合は、言葉の中に怒りの気持ちが入っているという意味です。このように、「含む」はいろいろな場面で使われる便利な言葉です。\n",
      "</p>\n",
      "</div>\n",
      "\n",
      "<a>19.</a>  \n",
      "<ul>  \n",
      "    <li>入れて</li>  \n",
      "    <li>含んで</li>  \n",
      "    <li>飲んで</li>  \n",
      "    <li>持って</li>  \n",
      "</ul>\n",
      "正解: 2\n",
      "\n",
      "<a>20.</a>  \n",
      "<ul>  \n",
      "    <li>含んだ</li>  \n",
      "    <li>飲んだ</li>  \n",
      "    <li>入れた</li>  \n",
      "    <li>持った</li>  \n",
      "</ul>\n",
      "正解: 1\n",
      "\n",
      "<a>21.</a>  \n",
      "<ul>  \n",
      "    <li>含みます</li>  \n",
      "    <li>含まれます</li>  \n",
      "    <li>含んでいます</li>  \n",
      "    <li>含ませます</li>  \n",
      "</ul>\n",
      "正解: 3\n",
      "\n",
      "<a>22.</a>  \n",
      "<ul>  \n",
      "    <li>含みます</li>  \n",
      "    <li>含まれています</li>  \n",
      "    <li>含んでいます</li>  \n",
      "    <li>含ませています</li>  \n",
      "</ul>\n",
      "正解: 2\n"
     ]
    },
    {
     "name": "stdout",
     "output_type": "stream",
     "text": [
      "---REVISOR---\n"
     ]
    },
    {
     "name": "stderr",
     "output_type": "stream",
     "text": [
      "2025-06-09 22:36:08,753 - INFO - HTTP Request: POST https://ai-rolandaws880125ai409947751408.openai.azure.com/openai/deployments/gpt-4.1/chat/completions?api-version=2025-01-01-preview \"HTTP/1.1 200 OK\"\n",
      "2025-06-09 22:36:08,756 - INFO - Refelect message: **Content Accuracy:**\n",
      "- The passage and questions are well aligned with the JLPT N3 level. The explanation of the verb 「含む」 is clear, contextually appropriate, and uses vocabulary and grammar that are suitable for N3 learners.\n",
      "- The reading passage is concise and relevant, providing natural examples of 「含む」 in different contexts (physical, abstract, and emotional), which is representative of N3 expectations.\n",
      "\n",
      "**Question and Answer Quality:**\n",
      "- The questions are clear and unambiguous. Each blank tests a different grammatical or usage aspect of 「含む」, effectively checking students’ understanding of both meaning and usage.\n",
      "- The distractors (incorrect options) are plausible, which is appropriate for N3, as they challenge students to think carefully about grammar and nuance.\n",
      "- The correct answers are accurate and fit the context naturally.\n",
      "\n",
      "**Detailed Refinement:**\n",
      "- The content is culturally appropriate and reflects typical Japanese language use, including examples relevant to daily life and academic contexts.\n",
      "- The explanations and examples avoid any inappropriate or culturally insensitive content.\n",
      "- The questions comprehensively assess reading comprehension, vocabulary, and grammar skills as expected at the N3 level.\n",
      "\n",
      "**Feedback and Recommendations:**\n",
      "- The passage and questions are well-constructed, appropriate in difficulty, and effective for assessing JLPT N3-level learners.\n",
      "- The only minor suggestion would be to ensure that all distractors are grammatically plausible (which they are in this case), as this maintains the challenge without introducing confusion.\n",
      "\n",
      "**Final evaluation:**  \n",
      "GOOD ENOUGH\n"
     ]
    },
    {
     "name": "stdout",
     "output_type": "stream",
     "text": [
      "--- AI Reviser feels Good Enough ---\n",
      "--- Formatter ---\n"
     ]
    },
    {
     "name": "stderr",
     "output_type": "stream",
     "text": [
      "2025-06-09 22:36:11,376 - INFO - HTTP Request: POST https://ai-rolandaws880125ai409947751408.openai.azure.com/openai/deployments/gpt-4.1/chat/completions?api-version=2025-01-01-preview \"HTTP/1.1 200 OK\"\n",
      "2025-06-09 22:36:11,387 - INFO - Formatted message: {'html_article': '<h3>「含む」という言葉の使い方</h3><p>「含む（ふくむ）」という言葉は、日常生活の中でよく使われます。たとえば、水を口に<strong>【19】</strong>、すぐに飲みこまずにしばらくそのままにしておくことがあります。このようなとき、「口に水を<strong>【20】</strong>」と言います。また、「含む」には、あるものがその中に入っているという意味もあります。</p><p>例えば、「このお菓子はナッツを<strong>【21】</strong>」や「このクラスには留学生が三人<strong>【22】</strong>」などのように使います。つまり、「含む」は、何かが他のものの一部として中に入っていることを表します。</p><p>また、「含む」は気持ちや意味についても使われます。「彼の言葉には怒りが<strong>【23】</strong>」という場合は、言葉の中に怒りの気持ちが入っているという意味です。このように、「含む」はいろいろな場面で使われる便利な言葉です。</p>', 'questions': [{'html_question': '<a>19.</a>', 'correct_answer': 2, 'choices': ['入れて', '含んで', '飲んで', '持って']}, {'html_question': '<a>20.</a>', 'correct_answer': 1, 'choices': ['含んだ', '飲んだ', '入れた', '持った']}, {'html_question': '<a>21.</a>', 'correct_answer': 3, 'choices': ['含みます', '含まれます', '含んでいます', '含ませます']}, {'html_question': '<a>22.</a>', 'correct_answer': 2, 'choices': ['含みます', '含まれています', '含んでいます', '含ませています']}]}\n",
      "\n",
      "Processing (sentence_structure):  75%|███████▌  | 3/4 [01:02<00:20, 20.69s/it]\u001B[A"
     ]
    },
    {
     "name": "stdout",
     "output_type": "stream",
     "text": [
      "---WEB SEARCH---\n",
      "---Generator----\n"
     ]
    },
    {
     "name": "stderr",
     "output_type": "stream",
     "text": [
      "2025-06-09 22:36:22,502 - INFO - HTTP Request: POST https://ai-rolandaws880125ai409947751408.openai.azure.com/openai/deployments/gpt-4.1/chat/completions?api-version=2025-01-01-preview \"HTTP/1.1 200 OK\"\n",
      "2025-06-09 22:36:22,505 - INFO - Generated message: <div class='article'>\n",
      "<h3>アルバイトの条件</h3>\n",
      "<p>\n",
      "私は大学生になってから、アルバイトを探し始めました。アルバイトを選ぶとき、いくつかの<strong>【19】</strong>を考えました。まず、家から近いことが大切でした。遠いと通うのが大変ですから、できるだけ近い店や会社を探しました。\n",
      "</p>\n",
      "<p>\n",
      "次に、時給が高い<strong>【20】</strong>、仕事の内容も自分に合っているかどうかを調べました。時給が高いだけでなく、楽しく働けることも大切だと思ったからです。\n",
      "</p>\n",
      "<p>\n",
      "また、働く時間も大事な<strong>【21】</strong>です。私は授業がある<strong>【22】</strong>、夜や週末だけ働ける仕事を選びました。\n",
      "</p>\n",
      "<p>\n",
      "いろいろな条件を考えて、自分に一番合うアルバイトを見つけることができました。\n",
      "</p>\n",
      "</div>\n",
      "\n",
      "<a>19.</a>  \n",
      "<ul>  \n",
      "    <li>条件</li>  \n",
      "    <li>理由</li>  \n",
      "    <li>方法</li>  \n",
      "    <li>話</li>  \n",
      "</ul>  \n",
      "  \n",
      "<a>20.</a>  \n",
      "<ul>  \n",
      "    <li>ので</li>  \n",
      "    <li>とか</li>  \n",
      "    <li>し</li>  \n",
      "    <li>なら</li>  \n",
      "</ul>\n",
      "    \n",
      "<a>21.</a>  \n",
      "<ul>  \n",
      "    <li>物</li>  \n",
      "    <li>理由</li>  \n",
      "    <li>条件</li>  \n",
      "    <li>時</li>  \n",
      "</ul>  \n",
      "  \n",
      "<a>22.</a>  \n",
      "<ul>  \n",
      "    <li>ので</li>  \n",
      "    <li>から</li>  \n",
      "    <li>とき</li>  \n",
      "    <li>ため</li>  \n",
      "</ul>      \n",
      "\n",
      "正解:  \n",
      "19. 1  \n",
      "20. 3  \n",
      "21. 3  \n",
      "22. 1\n"
     ]
    },
    {
     "name": "stdout",
     "output_type": "stream",
     "text": [
      "---REVISOR---\n"
     ]
    },
    {
     "name": "stderr",
     "output_type": "stream",
     "text": [
      "2025-06-09 22:36:28,230 - INFO - HTTP Request: POST https://ai-rolandaws880125ai409947751408.openai.azure.com/openai/deployments/gpt-4.1/chat/completions?api-version=2025-01-01-preview \"HTTP/1.1 200 OK\"\n",
      "2025-06-09 22:36:28,231 - INFO - Refelect message: **Review of JLPT N3 Exam Paper Submission:**\n",
      "\n",
      "**Content Accuracy:**\n",
      "- The vocabulary and grammar points tested (条件, ので, し, から, etc.) are appropriate for the JLPT N3 level.\n",
      "- The reading passage is clear, relevant, and reflects a typical scenario for university students in Japan, making it culturally and contextually suitable.\n",
      "- The passage’s structure and language are consistent with the academic tone and language complexity expected at this level.\n",
      "\n",
      "**Question and Answer Quality:**\n",
      "- All questions are clearly worded and the answer choices are unambiguous.\n",
      "- The distractors (incorrect answer choices) are plausible, which is important for assessing comprehension and language skills at the N3 level.\n",
      "- The questions test a range of skills: vocabulary in context, grammar (conjunctions/particles), and reading comprehension.\n",
      "- The difficulty is well-matched to N3; the questions require a solid understanding of intermediate Japanese grammar and vocabulary.\n",
      "\n",
      "**Detailed Refinement:**\n",
      "- The content is culturally appropriate, referencing a common experience for Japanese students (part-time jobs).\n",
      "- The passage and questions avoid any culturally insensitive or irrelevant material.\n",
      "- The language used is standard and suitable for a Japanese academic context.\n",
      "\n",
      "**Feedback and Recommendations:**\n",
      "- The exam paper is well-constructed, with clear, contextually relevant questions and appropriate difficulty for JLPT N3.\n",
      "- All answer choices are logical and test the intended language skills.\n",
      "- No adjustments are necessary for content, clarity, or cultural appropriateness.\n",
      "\n",
      "**Final Assessment:**  \n",
      "GOOD ENOUGH\n"
     ]
    },
    {
     "name": "stdout",
     "output_type": "stream",
     "text": [
      "--- AI Reviser feels Good Enough ---\n",
      "--- Formatter ---\n"
     ]
    },
    {
     "name": "stderr",
     "output_type": "stream",
     "text": [
      "2025-06-09 22:36:30,565 - INFO - HTTP Request: POST https://ai-rolandaws880125ai409947751408.openai.azure.com/openai/deployments/gpt-4.1/chat/completions?api-version=2025-01-01-preview \"HTTP/1.1 200 OK\"\n",
      "2025-06-09 22:36:30,569 - INFO - Formatted message: {'html_article': \"<div class='article'><h3>アルバイトの条件</h3><p>私は大学生になってから、アルバイトを探し始めました。アルバイトを選ぶとき、いくつかの<strong>【19】</strong>を考えました。まず、家から近いことが大切でした。遠いと通うのが大変ですから、できるだけ近い店や会社を探しました。</p><p>次に、時給が高い<strong>【20】</strong>、仕事の内容も自分に合っているかどうかを調べました。時給が高いだけでなく、楽しく働けることも大切だと思ったからです。</p><p>また、働く時間も大事な<strong>【21】</strong>です。私は授業がある<strong>【22】</strong>、夜や週末だけ働ける仕事を選びました。</p><p>いろいろな条件を考えて、自分に一番合うアルバイトを見つけることができました。</p></div>\", 'questions': [{'html_question': '19.', 'correct_answer': 1, 'choices': ['条件', '理由', '方法', '話']}, {'html_question': '20.', 'correct_answer': 3, 'choices': ['ので', 'とか', 'し', 'なら']}, {'html_question': '21.', 'correct_answer': 3, 'choices': ['物', '理由', '条件', '時']}, {'html_question': '22.', 'correct_answer': 1, 'choices': ['ので', 'から', 'とき', 'ため']}]}\n",
      "\n",
      "Processing (sentence_structure): 100%|██████████| 4/4 [01:21<00:00, 20.50s/it]\u001B[A\n",
      "Processing 第１部　語彙・文法: 100%|██████████| 1/1 [01:21<00:00, 81.99s/it]\n",
      "Processing 第２部　読解:   0%|          | 0/2 [00:00<?, ?it/s]\n",
      "Processing (short_passage_read):   0%|          | 0/4 [00:00<?, ?it/s]\u001B[A"
     ]
    },
    {
     "name": "stdout",
     "output_type": "stream",
     "text": [
      "---WEB SEARCH---\n",
      "---Generator----\n"
     ]
    },
    {
     "name": "stderr",
     "output_type": "stream",
     "text": [
      "2025-06-09 22:36:42,597 - INFO - HTTP Request: POST https://ai-rolandaws880125ai409947751408.openai.azure.com/openai/deployments/gpt-4.1/chat/completions?api-version=2025-01-01-preview \"HTTP/1.1 200 OK\"\n",
      "2025-06-09 22:36:42,602 - INFO - Generated message: <div class='article'>\n",
      "    <p>田中さんと山田さんは、昼ご飯の時間に話をしています。</p>\n",
      "    <p>田中さんは、「山田さん、好きな食べ物は何ですか」と聞きました。</p>\n",
      "    <p>山田さんは、「私はカレーが一番好きです。特に、辛いカレーが好きです」と答えました。</p>\n",
      "    <p>田中さんは、「私はあまり辛いものが食べられません。でも、カレーは好きです」と言いました。</p>\n",
      "    <p>山田さんは、「田中さんは、どんなカレーが好きですか」と聞きました。</p>\n",
      "    <p>田中さんは、「私は野菜がたくさん入っているカレーが好きです」と答えました。</p>\n",
      "    <p>山田さんは、「今度、一緒にカレーを食べに行きませんか」と言いました。</p>\n",
      "    <p>田中さんは、「いいですね。楽しみにしています」と答えました。</p>\n",
      "</div>\n",
      "<a>山田さんはどんなカレーが好きですか。</a>\n",
      "<ul class='options'>\n",
      "    <li>甘いカレー</li>\n",
      "    <li>辛いカレー</li>\n",
      "    <li>野菜がたくさん入っているカレー</li>\n",
      "    <li>チーズのカレー</li>\n",
      "</ul>\n",
      "正解: 2\n"
     ]
    },
    {
     "name": "stdout",
     "output_type": "stream",
     "text": [
      "---REVISOR---\n"
     ]
    },
    {
     "name": "stderr",
     "output_type": "stream",
     "text": [
      "2025-06-09 22:36:46,015 - INFO - HTTP Request: POST https://ai-rolandaws880125ai409947751408.openai.azure.com/openai/deployments/gpt-4.1/chat/completions?api-version=2025-01-01-preview \"HTTP/1.1 200 OK\"\n",
      "2025-06-09 22:36:46,019 - INFO - Refelect message: **Content Accuracy:**  \n",
      "The reading passage is clear, relevant, and appropriate for JLPT N3. The vocabulary and grammar are suitable for this level. The topic—discussing food preferences—is culturally and contextually appropriate for Japanese learners at this stage. The dialogue is natural and reflects everyday conversation.\n",
      "\n",
      "**Question and Answer Quality:**  \n",
      "The question is concise and unambiguous: \"山田さんはどんなカレーが好きですか。\" The answer choices are clear and directly related to the text. Only one answer is correct based on the passage (\"辛いカレー\"), and the distractors are plausible, which is good for testing comprehension.\n",
      "\n",
      "**Detailed Refinement:**  \n",
      "The content is culturally appropriate, using typical Japanese names and a common topic. The language used in the passage and question is natural and suitable for an academic context. No issues with ambiguity or inappropriate content.\n",
      "\n",
      "**Feedback:**  \n",
      "GOOD ENOUGH\n"
     ]
    },
    {
     "name": "stdout",
     "output_type": "stream",
     "text": [
      "--- AI Reviser feels Good Enough ---\n",
      "--- Formatter ---\n"
     ]
    },
    {
     "name": "stderr",
     "output_type": "stream",
     "text": [
      "2025-06-09 22:36:49,265 - INFO - HTTP Request: POST https://ai-rolandaws880125ai409947751408.openai.azure.com/openai/deployments/gpt-4.1/chat/completions?api-version=2025-01-01-preview \"HTTP/1.1 200 OK\"\n",
      "2025-06-09 22:36:49,269 - INFO - Formatted message: {'html_article': \"<div class='article'>    <p>田中さんと山田さんは、昼ご飯の時間に話をしています。</p>    <p>田中さんは、「山田さん、好きな食べ物は何ですか」と聞きました。</p>    <p>山田さんは、「私はカレーが一番好きです。特に、辛いカレーが好きです」と答えました。</p>    <p>田中さんは、「私はあまり辛いものが食べられません。でも、カレーは好きです」と言いました。</p>    <p>山田さんは、「田中さんは、どんなカレーが好きですか」と聞きました。</p>    <p>田中さんは、「私は野菜がたくさん入っているカレーが好きです」と答えました。</p>    <p>山田さんは、「今度、一緒にカレーを食べに行きませんか」と言いました。</p>    <p>田中さんは、「いいですね。楽しみにしています」と答えました。</p></div>\", 'questions': [{'html_question': '山田さんはどんなカレーが好きですか。', 'correct_answer': 2, 'choices': ['甘いカレー', '辛いカレー', '野菜がたくさん入っているカレー', 'チーズのカレー']}]}\n",
      "\n",
      "Processing (short_passage_read):  25%|██▌       | 1/4 [00:18<00:56, 18.69s/it]\u001B[A"
     ]
    },
    {
     "name": "stdout",
     "output_type": "stream",
     "text": [
      "---WEB SEARCH---\n",
      "---Generator----\n"
     ]
    },
    {
     "name": "stderr",
     "output_type": "stream",
     "text": [
      "2025-06-09 22:36:59,614 - INFO - HTTP Request: POST https://ai-rolandaws880125ai409947751408.openai.azure.com/openai/deployments/gpt-4.1/chat/completions?api-version=2025-01-01-preview \"HTTP/1.1 200 OK\"\n",
      "2025-06-09 22:36:59,617 - INFO - Generated message: <div class='article'>\n",
      "    <p>私は先週、初めて東京に行きました。東京はとても大きな町で、たくさんの人がいました。ホテルにチェックインした後、浅草寺（せんそうじ）に行きたかったですが、道がよくわかりませんでした。そこで、私は駅の近くで地図を見ているおばあさんに声をかけました。</p>\n",
      "    <p>「すみません、浅草寺までどうやって行けばいいですか」と聞きました。おばあさんは「この道をまっすぐ行って、二つ目の信号を右に曲がってください。それから、五分ぐらい歩くと大きな門が見えます。そこが浅草寺ですよ」と教えてくれました。</p>\n",
      "    <p>私は「ありがとうございます」と言って、教えてもらった通りに歩きました。本当に五分ぐらい歩くと、大きな門が見えました。とてもわかりやすかったので、迷わずに浅草寺に着くことができました。</p>\n",
      "    <p>知らない町で道を尋ねるのは少し緊張しますが、日本の人はとても親切だと思いました。これからも、わからないことがあったら、勇気を出して道を聞いてみようと思います。</p>\n",
      "</div>\n",
      "\n",
      "<a>この文章によると、筆者はどうやって浅草寺に行くことができましたか。</a>\n",
      "<ul class='options'>\n",
      "    <li>ホテルの人に道を聞いて行った</li>\n",
      "    <li>地図だけを見て行った</li>\n",
      "    <li>駅の近くのおばあさんに道を聞いて行った</li>\n",
      "    <li>タクシーで行った</li>\n",
      "</ul>\n",
      "正解: 3\n"
     ]
    },
    {
     "name": "stdout",
     "output_type": "stream",
     "text": [
      "---REVISOR---\n"
     ]
    },
    {
     "name": "stderr",
     "output_type": "stream",
     "text": [
      "2025-06-09 22:37:05,360 - INFO - HTTP Request: POST https://ai-rolandaws880125ai409947751408.openai.azure.com/openai/deployments/gpt-4.1/chat/completions?api-version=2025-01-01-preview \"HTTP/1.1 200 OK\"\n",
      "2025-06-09 22:37:05,361 - INFO - Refelect message: **Content Accuracy:**\n",
      "- The reading passage is clear, contextually relevant, and the vocabulary and grammar are appropriate for the JLPT N3 level. The story is relatable, using everyday expressions and structures (e.g., 〜たい, 〜てください, 〜ことができました), and includes cultural elements such as asking for directions and the mention of a famous temple.\n",
      "- The question accurately requires the student to comprehend the main action in the passage and identify how the protagonist reached the destination.\n",
      "\n",
      "**Question and Answer Quality:**\n",
      "- The question is clear and unambiguous, directly referencing the passage.\n",
      "- The answer choices are plausible, but only one is correct, which is appropriate for JLPT-style multiple-choice questions.\n",
      "- The distractors (other answer choices) are reasonable and not confusing or misleading.\n",
      "- The difficulty is appropriate for N3: students must read for gist and detail.\n",
      "\n",
      "**Cultural and Academic Appropriateness:**\n",
      "- The content is culturally relevant (浅草寺, asking for directions, politeness).\n",
      "- The language and context are suitable for a Japanese academic setting.\n",
      "\n",
      "**Detailed Recommendations:**\n",
      "- Consider varying the complexity of the questions in the full exam to ensure a balanced assessment of both gist and detail, as well as vocabulary and grammar.\n",
      "- Ensure the rest of the exam maintains this level of clarity and appropriateness.\n",
      "- No issues found with ambiguity, cultural appropriateness, or level.\n",
      "\n",
      "**Feedback:**  \n",
      "GOOD ENOUGH\n"
     ]
    },
    {
     "name": "stdout",
     "output_type": "stream",
     "text": [
      "--- AI Reviser feels Good Enough ---\n",
      "--- Formatter ---\n"
     ]
    },
    {
     "name": "stderr",
     "output_type": "stream",
     "text": [
      "2025-06-09 22:37:08,811 - INFO - HTTP Request: POST https://ai-rolandaws880125ai409947751408.openai.azure.com/openai/deployments/gpt-4.1/chat/completions?api-version=2025-01-01-preview \"HTTP/1.1 200 OK\"\n",
      "2025-06-09 22:37:08,814 - INFO - Formatted message: {'html_article': \"<div class='article'>    <p>私は先週、初めて東京に行きました。東京はとても大きな町で、たくさんの人がいました。ホテルにチェックインした後、浅草寺（せんそうじ）に行きたかったですが、道がよくわかりませんでした。そこで、私は駅の近くで地図を見ているおばあさんに声をかけました。</p>    <p>「すみません、浅草寺までどうやって行けばいいですか」と聞きました。おばあさんは「この道をまっすぐ行って、二つ目の信号を右に曲がってください。それから、五分ぐらい歩くと大きな門が見えます。そこが浅草寺ですよ」と教えてくれました。</p>    <p>私は「ありがとうございます」と言って、教えてもらった通りに歩きました。本当に五分ぐらい歩くと、大きな門が見えました。とてもわかりやすかったので、迷わずに浅草寺に着くことができました。</p>    <p>知らない町で道を尋ねるのは少し緊張しますが、日本の人はとても親切だと思いました。これからも、わからないことがあったら、勇気を出して道を聞いてみようと思います。</p></div>\", 'questions': [{'html_question': '<a>この文章によると、筆者はどうやって浅草寺に行くことができましたか。</a>', 'correct_answer': 3, 'choices': ['ホテルの人に道を聞いて行った', '地図だけを見て行った', '駅の近くのおばあさんに道を聞いて行った', 'タクシーで行った']}]}\n",
      "\n",
      "Processing (short_passage_read):  50%|█████     | 2/4 [00:38<00:38, 19.19s/it]\u001B[A"
     ]
    },
    {
     "name": "stdout",
     "output_type": "stream",
     "text": [
      "---WEB SEARCH---\n",
      "---Generator----\n"
     ]
    },
    {
     "name": "stderr",
     "output_type": "stream",
     "text": [
      "2025-06-09 22:37:22,732 - INFO - HTTP Request: POST https://ai-rolandaws880125ai409947751408.openai.azure.com/openai/deployments/gpt-4.1/chat/completions?api-version=2025-01-01-preview \"HTTP/1.1 200 OK\"\n",
      "2025-06-09 22:37:22,734 - INFO - Generated message: <div class='article'>\n",
      "    <p>家族について話すことは、日常生活の中でとても大切です。家族は、私たちの生活を支えてくれる大切な存在です。たとえば、学校や会社で自己紹介をするとき、「私は四人家族です。父と母と妹と私がいます。」のように話すことがあります。</p>\n",
      "    <p>家族の中で一番年上の人はふつう父または母です。父は会社で働いていて、母は家で家事をしたり、パートタイムの仕事をしたりしています。妹は中学生で、毎日学校に行っています。私は大学生で、今はアルバイトもしています。</p>\n",
      "    <p>家族でいっしょにご飯を食べたり、休日に公園へ行ったりすることもあります。時々、家族で旅行に行くこともあります。家族と話すと安心しますし、困ったときは家族に相談します。</p>\n",
      "    <p>また、友だちと家族について話すことで、お互いのことをよく知ることができます。家族の話は、友だちとの会話を始めるときにもよく使われます。</p>\n",
      "</div>\n",
      "\n",
      "<a>この文章によると、家族について話すことはどんな時によく使われますか。</a>\n",
      "<ul class='options'>\n",
      "    <li>家族で旅行に行くとき</li>\n",
      "    <li>友だちとけんかをしたとき</li>\n",
      "    <li>自己紹介や友だちとの会話を始めるとき</li>\n",
      "    <li>学校で勉強するとき</li>\n",
      "</ul>\n",
      "正解: 3\n"
     ]
    },
    {
     "name": "stdout",
     "output_type": "stream",
     "text": [
      "---REVISOR---\n"
     ]
    },
    {
     "name": "stderr",
     "output_type": "stream",
     "text": [
      "2025-06-09 22:37:26,541 - INFO - HTTP Request: POST https://ai-rolandaws880125ai409947751408.openai.azure.com/openai/deployments/gpt-4.1/chat/completions?api-version=2025-01-01-preview \"HTTP/1.1 200 OK\"\n",
      "2025-06-09 22:37:26,544 - INFO - Refelect message: ### Content Accuracy\n",
      "- The reading passage is clear, relevant, and appropriate for the JLPT N3 level. It uses familiar vocabulary and grammar structures that N3 students are expected to know (e.g., ～たり、～こともあります、相談します).\n",
      "- The content is culturally appropriate, reflecting typical Japanese family structure and daily life, which is suitable for academic and cultural learning at this level.\n",
      "\n",
      "### Question and Answer Quality\n",
      "- The question is clearly worded and directly tests comprehension of the passage.\n",
      "- The answer choices are plausible and relevant, with only one correct answer, avoiding ambiguity.\n",
      "- The correct answer (3: 自己紹介や友だちとの会話を始めるとき) is directly supported by the text, which mentions both situations.\n",
      "- The distractors are logical and could plausibly confuse an unprepared student, making the question appropriately challenging for N3.\n",
      "\n",
      "### Detailed Refinement\n",
      "- The passage and question are free from cultural bias or inappropriate content.\n",
      "- The language used is standard and suitable for the intended academic context.\n",
      "- The reading passage is of a suitable length and complexity for N3, providing enough information for a meaningful comprehension question.\n",
      "\n",
      "### Feedback\n",
      "GOOD ENOUGH\n"
     ]
    },
    {
     "name": "stdout",
     "output_type": "stream",
     "text": [
      "--- AI Reviser feels Good Enough ---\n",
      "--- Formatter ---\n"
     ]
    },
    {
     "name": "stderr",
     "output_type": "stream",
     "text": [
      "2025-06-09 22:37:29,096 - INFO - HTTP Request: POST https://ai-rolandaws880125ai409947751408.openai.azure.com/openai/deployments/gpt-4.1/chat/completions?api-version=2025-01-01-preview \"HTTP/1.1 200 OK\"\n",
      "2025-06-09 22:37:29,099 - INFO - Formatted message: {'html_article': \"<div class='article'>    <p>家族について話すことは、日常生活の中でとても大切です。家族は、私たちの生活を支えてくれる大切な存在です。たとえば、学校や会社で自己紹介をするとき、「私は四人家族です。父と母と妹と私がいます。」のように話すことがあります。</p>    <p>家族の中で一番年上の人はふつう父または母です。父は会社で働いていて、母は家で家事をしたり、パートタイムの仕事をしたりしています。妹は中学生で、毎日学校に行っています。私は大学生で、今はアルバイトもしています。</p>    <p>家族でいっしょにご飯を食べたり、休日に公園へ行ったりすることもあります。時々、家族で旅行に行くこともあります。家族と話すと安心しますし、困ったときは家族に相談します。</p>    <p>また、友だちと家族について話すことで、お互いのことをよく知ることができます。家族の話は、友だちとの会話を始めるときにもよく使われます。</p></div>\", 'questions': [{'html_question': '<a>この文章によると、家族について話すことはどんな時によく使われますか。</a>', 'correct_answer': 3, 'choices': ['家族で旅行に行くとき', '友だちとけんかをしたとき', '自己紹介や友だちとの会話を始めるとき', '学校で勉強するとき']}]}\n",
      "\n",
      "Processing (short_passage_read):  75%|███████▌  | 3/4 [00:58<00:19, 19.69s/it]\u001B[A"
     ]
    },
    {
     "name": "stdout",
     "output_type": "stream",
     "text": [
      "---WEB SEARCH---\n",
      "---Generator----\n"
     ]
    },
    {
     "name": "stderr",
     "output_type": "stream",
     "text": [
      "2025-06-09 22:37:39,381 - INFO - HTTP Request: POST https://ai-rolandaws880125ai409947751408.openai.azure.com/openai/deployments/gpt-4.1/chat/completions?api-version=2025-01-01-preview \"HTTP/1.1 200 OK\"\n",
      "2025-06-09 22:37:39,383 - INFO - Generated message: <div class='article'>\n",
      "    <p>健康とフィットネスは、毎日の生活にとってとても大切です。健康でいるためには、バランスのとれた食事や、適度な運動が必要です。たとえば、毎日野菜や果物を食べることは、体に必要なビタミンやミネラルをとることができるので、健康に良いです。また、朝や夕方に散歩をしたり、週に数回ジムで運動したりする人も多いです。運動をすると、筋肉が強くなり、ストレスも減ります。</p>\n",
      "    <p>最近は、仕事や勉強で忙しい人が多いですが、短い時間でも運動をすることが大切です。たとえば、エレベーターを使わずに階段を使う、通勤のときに一駅歩く、家でストレッチをするなど、簡単にできる運動もたくさんあります。また、十分な睡眠をとることや、水分補給を忘れないことも大切です。</p>\n",
      "    <p>健康診断を受けて、自分の体の状態を知ることも大事です。もし体調が悪いと感じたら、早めに休んだり、医者に相談したりしましょう。健康的な生活を続けることで、毎日元気に楽しく過ごすことができます。</p>\n",
      "</div>\n",
      "\n",
      "<a>この記事によると、健康のために大切なことはどれですか。</a>\n",
      "<ul class='options'>\n",
      "    <li>毎日たくさん甘いものを食べること</li>\n",
      "    <li>全く運動をしないこと</li>\n",
      "    <li>バランスのとれた食事や適度な運動をすること</li>\n",
      "    <li>夜遅くまで起きていること</li>\n",
      "</ul>\n",
      "正解: 3\n"
     ]
    },
    {
     "name": "stdout",
     "output_type": "stream",
     "text": [
      "---REVISOR---\n"
     ]
    },
    {
     "name": "stderr",
     "output_type": "stream",
     "text": [
      "2025-06-09 22:37:44,402 - INFO - HTTP Request: POST https://ai-rolandaws880125ai409947751408.openai.azure.com/openai/deployments/gpt-4.1/chat/completions?api-version=2025-01-01-preview \"HTTP/1.1 200 OK\"\n",
      "2025-06-09 22:37:44,404 - INFO - Refelect message: Content Accuracy:\n",
      "- The reading passage is well-suited for JLPT N3 level. The vocabulary (e.g., バランスのとれた食事, 適度な運動, 健康診断, 水分補給) and grammar structures are appropriate for intermediate learners.\n",
      "- The content is clear, relevant, and culturally appropriate. The examples (e.g., using stairs instead of elevators, walking one station, stretching at home) are realistic and common in Japanese daily life.\n",
      "- The passage does not contain any advanced or N2/N1-level vocabulary or grammar that would be out of reach for N3 students.\n",
      "\n",
      "Question and Answer Quality:\n",
      "- The question is clear and unambiguous, directly referencing the passage content.\n",
      "- The answer choices are well-constructed, with only one clearly correct answer (バランスのとれた食事や適度な運動をすること). The distractors are plausible but clearly incorrect, which is ideal for this level.\n",
      "- The question tests reading comprehension and the ability to identify main ideas, which is appropriate for JLPT N3.\n",
      "\n",
      "Detailed Refinement:\n",
      "- The content is culturally appropriate, focusing on health habits common in Japan.\n",
      "- The passage uses everyday vocabulary and situations, which are relevant and likely to be encountered by learners.\n",
      "- No inappropriate or culturally insensitive material is present.\n",
      "\n",
      "Feedback & Recommendations:\n",
      "- The reading passage and question are well-matched to the JLPT N3 level and effectively assess comprehension of main ideas.\n",
      "- The distractors are logical and not too obvious, maintaining a suitable challenge for students.\n",
      "- No changes are necessary.\n",
      "\n",
      "GOOD ENOUGH\n"
     ]
    },
    {
     "name": "stdout",
     "output_type": "stream",
     "text": [
      "--- AI Reviser feels Good Enough ---\n",
      "--- Formatter ---\n"
     ]
    },
    {
     "name": "stderr",
     "output_type": "stream",
     "text": [
      "2025-06-09 22:37:46,867 - INFO - HTTP Request: POST https://ai-rolandaws880125ai409947751408.openai.azure.com/openai/deployments/gpt-4.1/chat/completions?api-version=2025-01-01-preview \"HTTP/1.1 200 OK\"\n",
      "2025-06-09 22:37:46,873 - INFO - Formatted message: {'html_article': \"<div class='article'>    <p>健康とフィットネスは、毎日の生活にとってとても大切です。健康でいるためには、バランスのとれた食事や、適度な運動が必要です。たとえば、毎日野菜や果物を食べることは、体に必要なビタミンやミネラルをとることができるので、健康に良いです。また、朝や夕方に散歩をしたり、週に数回ジムで運動したりする人も多いです。運動をすると、筋肉が強くなり、ストレスも減ります。</p>    <p>最近は、仕事や勉強で忙しい人が多いですが、短い時間でも運動をすることが大切です。たとえば、エレベーターを使わずに階段を使う、通勤のときに一駅歩く、家でストレッチをするなど、簡単にできる運動もたくさんあります。また、十分な睡眠をとることや、水分補給を忘れないことも大切です。</p>    <p>健康診断を受けて、自分の体の状態を知ることも大事です。もし体調が悪いと感じたら、早めに休んだり、医者に相談したりしましょう。健康的な生活を続けることで、毎日元気に楽しく過ごすことができます。</p></div>\", 'questions': [{'html_question': '<a>この記事によると、健康のために大切なことはどれですか。</a>', 'correct_answer': 3, 'choices': ['毎日たくさん甘いものを食べること', '全く運動をしないこと', 'バランスのとれた食事や適度な運動をすること', '夜遅くまで起きていること']}]}\n",
      "\n",
      "Processing (short_passage_read): 100%|██████████| 4/4 [01:16<00:00, 19.07s/it]\u001B[A\n",
      "Processing 第２部　読解:  50%|█████     | 1/2 [01:16<01:16, 76.30s/it]\n",
      "Processing (info_retrieval):   0%|          | 0/1 [00:00<?, ?it/s]\u001B[A"
     ]
    },
    {
     "name": "stdout",
     "output_type": "stream",
     "text": [
      "---WEB SEARCH---\n",
      "---Generator----\n"
     ]
    },
    {
     "name": "stderr",
     "output_type": "stream",
     "text": [
      "2025-06-09 22:37:58,001 - INFO - HTTP Request: POST https://ai-rolandaws880125ai409947751408.openai.azure.com/openai/deployments/gpt-4.1/chat/completions?api-version=2025-01-01-preview \"HTTP/1.1 200 OK\"\n",
      "2025-06-09 22:37:58,002 - INFO - Generated message: <h3>引っ越し準備のスケジュール</h3>\n",
      "<table border=\"1\">\n",
      "<tr>\n",
      "<th>時期</th>\n",
      "<th>主な準備</th>\n",
      "<th>注意点</th>\n",
      "</tr>\n",
      "<tr>\n",
      "<td>1か月前</td>\n",
      "<td>新居の契約・引っ越し業者の予約</td>\n",
      "<td>人気のある時期は早めに予約が必要</td>\n",
      "</tr>\n",
      "<tr>\n",
      "<td>2週間前</td>\n",
      "<td>住所変更の手続き・荷物の整理</td>\n",
      "<td>役所や銀行で手続きをする</td>\n",
      "</tr>\n",
      "<tr>\n",
      "<td>1週間前</td>\n",
      "<td>荷造り・不要品の処分</td>\n",
      "<td>ごみの日を確認して捨てる</td>\n",
      "</tr>\n",
      "<tr>\n",
      "<td>前日</td>\n",
      "<td>貴重品の準備・冷蔵庫の中身を整理</td>\n",
      "<td>冷蔵庫の電源を切る</td>\n",
      "</tr>\n",
      "<tr>\n",
      "<td>当日</td>\n",
      "<td>新居へ移動・ガスや電気の確認</td>\n",
      "<td>忘れ物がないか確認する</td>\n",
      "</tr>\n",
      "</table>\n",
      "\n",
      "<p><strong>ヒント:</strong></p>\n",
      "<ul>\n",
      "<li>引っ越しの1か月前には、新しい家の契約や引っ越し業者の予約をします。</li>\n",
      "<li>住所変更の手続きは2週間前までに行う必要があります。</li>\n",
      "<li>荷造りや不要品の処分は1週間前から始めます。</li>\n",
      "<li>冷蔵庫の電源を切るのは前日です。</li>\n",
      "<li>当日は忘れ物がないか最後に確認しましょう。</li>\n",
      "</ul>\n",
      "\n",
      "<p>この表とヒントを参考に、次の質問に答えてください。</p>\n",
      "\n",
      "<p>新しい家の契約や引っ越し業者の予約をするのに最も適切な時期はいつですか。</p>\n",
      "1. 2週間前  \n",
      "2. 1週間前  \n",
      "3. 1か月前  \n",
      "4. 当日  \n",
      "\n",
      "<p>冷蔵庫の電源を切るのはいつがよいですか。</p>\n",
      "1. 1か月前  \n",
      "2. 2週間前  \n",
      "3. 1週間前  \n",
      "4. 前日  \n",
      "\n",
      "<p>正解: 3, 4</p>\n"
     ]
    },
    {
     "name": "stdout",
     "output_type": "stream",
     "text": [
      "---REVISOR---\n"
     ]
    },
    {
     "name": "stderr",
     "output_type": "stream",
     "text": [
      "2025-06-09 22:38:03,075 - INFO - HTTP Request: POST https://ai-rolandaws880125ai409947751408.openai.azure.com/openai/deployments/gpt-4.1/chat/completions?api-version=2025-01-01-preview \"HTTP/1.1 200 OK\"\n",
      "2025-06-09 22:38:03,076 - INFO - Refelect message: **Content Accuracy:**  \n",
      "The reading passage and questions are well-suited for the JLPT N3 level. The vocabulary (e.g., 契約, 予約, 手続き, 整理, 処分, 貴重品, 電源) and grammar structures are appropriate and provide a realistic context for everyday Japanese. The use of a table and hints is clear and reflects the type of information processing required at N3. The questions are based on the passage and require comprehension rather than simple recall.\n",
      "\n",
      "**Question and Answer Quality:**  \n",
      "The questions are clearly worded and unambiguous. Each question has only one correct answer, and the distractors are plausible, which is important for assessing true understanding. The difficulty is appropriate for N3: students must read for detail and sequence, but the language is not overly complex. The questions test the ability to extract specific information from a schedule, which is a common N3 skill.\n",
      "\n",
      "**Cultural and Academic Appropriateness:**  \n",
      "The content is culturally relevant and reflects a real-life situation in Japan (moving house). The steps, such as dealing with government offices and garbage disposal, are accurate for Japanese society. The academic language is suitable for the JLPT context.\n",
      "\n",
      "**Detailed Recommendations:**  \n",
      "- The passage and questions are well-constructed and suitable for N3.\n",
      "- The context is authentic and the tasks mirror what students may encounter in real life.\n",
      "- No issues with ambiguity, cultural appropriateness, or language level.\n",
      "\n",
      "**Feedback:**  \n",
      "GOOD ENOUGH\n"
     ]
    },
    {
     "name": "stdout",
     "output_type": "stream",
     "text": [
      "--- AI Reviser feels Good Enough ---\n",
      "--- Formatter ---\n"
     ]
    },
    {
     "name": "stderr",
     "output_type": "stream",
     "text": [
      "2025-06-09 22:38:14,554 - INFO - HTTP Request: POST https://ai-rolandaws880125ai409947751408.openai.azure.com/openai/deployments/gpt-4.1/chat/completions?api-version=2025-01-01-preview \"HTTP/1.1 200 OK\"\n",
      "2025-06-09 22:38:14,560 - INFO - Formatted message: {'html_article': '<h3>引っ越し準備のスケジュール</h3><table border=\"1\"><tr><th>時期</th><th>主な準備</th><th>注意点</th></tr><tr><td>1か月前</td><td>新居の契約・引っ越し業者の予約</td><td>人気のある時期は早めに予約が必要</td></tr><tr><td>2週間前</td><td>住所変更の手続き・荷物の整理</td><td>役所や銀行で手続きをする</td></tr><tr><td>1週間前</td><td>荷造り・不要品の処分</td><td>ごみの日を確認して捨てる</td></tr><tr><td>前日</td><td>貴重品の準備・冷蔵庫の中身を整理</td><td>冷蔵庫の電源を切る</td></tr><tr><td>当日</td><td>新居へ移動・ガスや電気の確認</td><td>忘れ物がないか確認する</td></tr></table><p><strong>ヒント:</strong></p><ul><li>引っ越しの1か月前には、新しい家の契約や引っ越し業者の予約をします。</li><li>住所変更の手続きは2週間前までに行う必要があります。</li><li>荷造りや不要品の処分は1週間前から始めます。</li><li>冷蔵庫の電源を切るのは前日です。</li><li>当日は忘れ物がないか最後に確認しましょう。</li></ul><p>この表とヒントを参考に、次の質問に答えてください。</p>', 'questions': [{'html_question': '新しい家の契約や引っ越し業者の予約をするのに最も適切な時期はいつですか。', 'correct_answer': 3, 'choices': ['2週間前', '1週間前', '1か月前', '当日']}, {'html_question': '冷蔵庫の電源を切るのはいつがよいですか。', 'correct_answer': 4, 'choices': ['1か月前', '2週間前', '1週間前', '前日']}]}\n",
      "\n",
      "Processing (info_retrieval): 100%|██████████| 1/1 [00:27<00:00, 27.69s/it]\u001B[A\n",
      "Processing 第２部　読解: 100%|██████████| 2/2 [01:43<00:00, 52.00s/it]\n",
      "Processing 第３部　聴解:   0%|          | 0/1 [00:00<?, ?it/s]\n",
      "Processing (topic_understanding):   0%|          | 0/1 [00:00<?, ?it/s]\u001B[A"
     ]
    },
    {
     "name": "stdout",
     "output_type": "stream",
     "text": [
      "---WEB SEARCH---\n",
      "---Generator----\n"
     ]
    },
    {
     "name": "stderr",
     "output_type": "stream",
     "text": [
      "2025-06-09 22:38:26,095 - INFO - HTTP Request: POST https://ai-rolandaws880125ai409947751408.openai.azure.com/openai/deployments/gpt-4.1/chat/completions?api-version=2025-01-01-preview \"HTTP/1.1 200 OK\"\n",
      "2025-06-09 22:38:26,096 - INFO - Generated message: > 公民館で男の人と女の人が話しています。女の人はこの後、何をしますか。\n",
      ">\n",
      "> 男：すみません、公民館の会議室を利用したいのですが、どうすればいいですか。\n",
      "> 女：はい、会議室の利用には事前に申し込みが必要です。利用希望日はいつですか。\n",
      "> 男：来週の火曜日です。  \n",
      "> 女：来週の火曜日ですね。利用時間は何時から何時までですか。  \n",
      "> 男：午後１時から３時までお願いします。  \n",
      "> 女：かしこまりました。では、申込書に必要事項を書いて、受付に出してください。  \n",
      "> 男：はい、わかりました。  \n",
      "> 女：あと、利用後は机や椅子を元の位置に戻して、部屋をきれいにしてくださいね。  \n",
      "> 男：はい、気をつけます。ありがとうございます。  \n",
      "\n",
      "女の人はこの後、何をしますか。\n",
      "\n",
      "1. 会議室のそうじをする  \n",
      "2. 申込書を受付に出す  \n",
      "3. 利用方法を説明する  \n",
      "4. 机や椅子をならべる\n"
     ]
    },
    {
     "name": "stdout",
     "output_type": "stream",
     "text": [
      "---REVISOR---\n"
     ]
    },
    {
     "name": "stderr",
     "output_type": "stream",
     "text": [
      "2025-06-09 22:38:29,806 - INFO - HTTP Request: POST https://ai-rolandaws880125ai409947751408.openai.azure.com/openai/deployments/gpt-4.1/chat/completions?api-version=2025-01-01-preview \"HTTP/1.1 200 OK\"\n",
      "2025-06-09 22:38:29,808 - INFO - Refelect message: **Content Accuracy:**  \n",
      "The dialogue and question are appropriate for the JLPT N3 level. The vocabulary (e.g., 申込書, 利用方法, 受付, 必要事項), grammar (e.g., どうすればいいですか, 〜してください), and context (public facility usage) are all suitable for N3. The reading passage is clear, relevant, and appropriately challenging, requiring inference based on the exchange.\n",
      "\n",
      "**Question and Answer Quality:**  \n",
      "The question, 「女の人はこの後、何をしますか。」, is clear and direct. The answer choices are plausible but only one is correct, which tests the student's comprehension and inference skills. The distractors are logical and not confusing. The correct answer is (3) 利用方法を説明する, as in the dialogue, the woman is currently explaining the usage procedure.\n",
      "\n",
      "**Detailed Refinement:**  \n",
      "- The passage is culturally appropriate, reflecting real-life Japanese interactions in public facilities.\n",
      "- The language used is formal and matches the context of a public office.\n",
      "- The scenario and vocabulary are relevant to Japanese society and academic content.\n",
      "\n",
      "**Recommendations:**  \n",
      "- Since the passage and question are well-constructed and at the right difficulty level, no major changes are needed.\n",
      "- The answer choices are all realistic actions in the context, which is good for challenging students' understanding.\n",
      "\n",
      "**Final Feedback:**  \n",
      "GOOD ENOUGH\n"
     ]
    },
    {
     "name": "stdout",
     "output_type": "stream",
     "text": [
      "--- AI Reviser feels Good Enough ---\n",
      "--- Formatter ---\n"
     ]
    },
    {
     "name": "stderr",
     "output_type": "stream",
     "text": [
      "2025-06-09 22:38:33,332 - INFO - HTTP Request: POST https://ai-rolandaws880125ai409947751408.openai.azure.com/openai/deployments/gpt-4.1/chat/completions?api-version=2025-01-01-preview \"HTTP/1.1 200 OK\"\n",
      "2025-06-09 22:38:33,334 - INFO - Formatted message: {'question': {'html_question': '公民館で男の人と女の人が話しています。女の人はこの後、何をしますか。', 'correct_answer': 3, 'choices': ['会議室のそうじをする', '申込書を受付に出す', '利用方法を説明する', '机や椅子をならべる']}, 'conversation': [{'gender': 'male', 'context': 'すみません、公民館の会議室を利用したいのですが、どうすればいいですか。'}, {'gender': 'female', 'context': 'はい、会議室の利用には事前に申し込みが必要です。利用希望日はいつですか。'}, {'gender': 'male', 'context': '来週の火曜日です。'}, {'gender': 'female', 'context': '来週の火曜日ですね。利用時間は何時から何時までですか。'}, {'gender': 'male', 'context': '午後１時から３時までお願いします。'}, {'gender': 'female', 'context': 'かしこまりました。では、申込書に必要事項を書いて、受付に出してください。'}, {'gender': 'male', 'context': 'はい、わかりました。'}, {'gender': 'female', 'context': 'あと、利用後は机や椅子を元の位置に戻して、部屋をきれいにしてくださいね。'}, {'gender': 'male', 'context': 'はい、気をつけます。ありがとうございます。'}]}\n",
      "\n",
      "Processing (topic_understanding): 100%|██████████| 1/1 [00:18<00:00, 18.77s/it]\u001B[A\n",
      "Processing 第３部　聴解: 100%|██████████| 1/1 [00:18<00:00, 18.77s/it]"
     ]
    },
    {
     "name": "stdout",
     "output_type": "stream",
     "text": [
      "Total execution time: 204.78 seconds\n"
     ]
    },
    {
     "name": "stderr",
     "output_type": "stream",
     "text": [
      "\n"
     ]
    }
   ],
   "source": [
    "import re\n",
    "outliner_json = initial_outline.model_dump_json()\n",
    "data = json.loads(outliner_json)  # Replace with your actual JSON data\n",
    "\n",
    "start_time = time.time()\n",
    "\n",
    "output_data = {'sections': []}\n",
    "\n",
    "for section in data['sections']:\n",
    "    output_section = {'section_title': section['section_title'], 'subsections': []}\n",
    "\n",
    "    for subsection in tqdm(section['subsections'], desc=f\"Processing {section['section_title']}\"):\n",
    "        function_name = re.findall(r'\\((.*?)\\)', subsection['subsection_title'])[0]\n",
    "\n",
    "        questions = subsection['question_topics']\n",
    "\n",
    "        for question in tqdm(questions, desc=f\"Processing {subsection['subsection_title']}\"):\n",
    "            handler = ExamTaskHandler()\n",
    "            func = getattr(handler, function_name, None)\n",
    "\n",
    "            if func:\n",
    "                max_attempts = 2\n",
    "                original_topic = question['topic']  # Optional: Track original topic\n",
    "                for attempt in range(max_attempts):\n",
    "                    try:\n",
    "                        result = func(question['topic'])\n",
    "                        question['result'] = result\n",
    "                        break  # Exit on success\n",
    "                    except Exception as e:\n",
    "                        if attempt < max_attempts - 1:\n",
    "                            # Replace topic and retry\n",
    "                            question['topic'] = random.choice(topics_list)\n",
    "                        else:\n",
    "                            question['result'] = f\"Error after {max_attempts} attempts: {str(e)}\"\n",
    "            else:\n",
    "                question['result'] = f\"Method {function_name} not found\"\n",
    "\n",
    "        output_subsection = {\n",
    "            'subsection_title': subsection['subsection_title'],\n",
    "            'description': subsection['description'],\n",
    "            'question_topics': questions\n",
    "        }\n",
    "        output_section['subsections'].append(output_subsection)\n",
    "\n",
    "    output_data['sections'].append(output_section)\n",
    "\n",
    "# End the timer\n",
    "end_time = time.time()\n",
    "\n",
    "# Calculate the total execution time\n",
    "execution_time = end_time - start_time\n",
    "\n",
    "print(f\"Total execution time: {execution_time:.2f} seconds\")"
   ]
  },
  {
   "cell_type": "code",
   "execution_count": 13,
   "id": "43e411616ee939b1",
   "metadata": {
    "colab": {
     "base_uri": "https://localhost:8080/",
     "height": 1000
    },
    "id": "43e411616ee939b1",
    "outputId": "97cc7eef-f8ae-4401-ef8b-022c706f112c",
    "ExecuteTime": {
     "end_time": "2025-06-09T14:38:33.344031400Z",
     "start_time": "2025-06-09T14:38:33.342496700Z"
    }
   },
   "outputs": [],
   "source": [
    "# yaml_str = yaml.dump(output_data, allow_unicode=True, sort_keys=False, default_flow_style=False)\n",
    "# # Display as formatted YAML\n",
    "# display(Markdown(yaml_str))"
   ]
  },
  {
   "cell_type": "code",
   "execution_count": 14,
   "id": "307398e88bf20dc3",
   "metadata": {
    "colab": {
     "base_uri": "https://localhost:8080/"
    },
    "id": "307398e88bf20dc3",
    "outputId": "4ff94084-e0f5-45ad-ee7b-bca01723dd10",
    "ExecuteTime": {
     "end_time": "2025-06-09T14:38:33.379308300Z",
     "start_time": "2025-06-09T14:38:33.346378Z"
    }
   },
   "outputs": [
    {
     "data": {
      "text/plain": "{'sections': [{'section_title': '第１部\\u3000語彙・文法',\n   'subsections': [{'subsection_title': '(sentence_structure)',\n     'description': '問題8：1問。つぎの文章を読んで、文章全体の内容を考えて、文中の 19 から 22 の中に入る最もよいものを、１・２・３・４から一つえらびなさい。',\n     'question_topics': [{'topic': 'しゅうしょく',\n       'result': {'html_article': \"<div class='article'><h3>初めての就職活動</h3><p>私は大学三年生の時、初めて<strong>就職活動</strong>を始めました。就職活動はとても大変だと聞いていましたが、<strong>【19】</strong>、自分の将来について考える良いきっかけにもなりました。</p><p>最初はどの会社に応募したらいいか分からず、インターネットでいろいろな企業について調べました。説明会に参加したり、先輩にアドバイスをもらったりして、少しずつ自分に合う会社が分かってきました。<strong>【20】</strong>、面接はとても緊張しましたが、何度も練習することで自信がつきました。</p><p>私は「人の役に立つ仕事がしたい」と思っていたので、社会福祉の会社に応募しました。面接では、自分の考えや経験を<strong>【21】</strong>話すように心がけました。</p><p>最終的に、希望していた会社から内定をもらうことができました。今は社会人として働きながら、毎日新しいことを学んでいます。就職活動は大変でしたが、<strong>【22】</strong>、とても良い経験になったと思います。</p></div>\",\n        'questions': [{'html_question': '19.',\n          'correct_answer': 2,\n          'choices': ['もちろん', 'けれども', 'たとえば', 'それとも']},\n         {'html_question': '20.',\n          'correct_answer': 3,\n          'choices': ['ですから', 'ところが', 'たしかに', 'それにしては']},\n         {'html_question': '21.',\n          'correct_answer': 1,\n          'choices': ['できるだけ', '必ず', 'なるべく', 'やはり']},\n         {'html_question': '22.',\n          'correct_answer': 3,\n          'choices': ['苦労したので', '苦労しなくても', '苦労したけれど', '苦労したのであれば']}]}},\n      {'topic': 'かいしゃく',\n       'result': {'html_article': '<h3>「介錯」という言葉の意味</h3><p>「介錯（かいしゃく）」という言葉には、二つの主な意味があります。一つ目は、昔の日本で武士が切腹をするとき、その人の苦しみを少なくするために、<strong>【19】</strong>、首を刀で切ることです。この役目をする人も「介錯人」と呼ばれました。</p><p>もう一つの意味は、誰かのそばについて世話をしたり、助けたりすることです。例えば、舞台や伝統芸能の世界では、道具を渡したり、役者の動きを助けたりすることを「介錯」と言います。</p><p>現代では、<strong>【20】</strong>、この言葉を使うことは少なくなりました。しかし、歴史や時代劇の話の中では、よく出てくる言葉です。</p><p>また、「介錯」の意味を知らない人も多いので、<strong>【21】</strong>、説明が必要な場合もあります。</p><p>このように、「介錯」という言葉には昔からの深い意味があるのです。<strong>【22】</strong>、日本の歴史や文化を知ることができます。</p>',\n        'questions': [{'html_question': '【19】',\n          'correct_answer': 1,\n          'choices': ['切腹する人の後ろに立って',\n           '切腹する人の前に座って',\n           '切腹する人の横にいて',\n           '切腹する人の家族と一緒に']},\n         {'html_question': '【20】',\n          'correct_answer': 1,\n          'choices': ['日常生活で', '学校で', '昔より', '今でも']},\n         {'html_question': '【21】',\n          'correct_answer': 4,\n          'choices': ['テレビでよく見られるので',\n           '辞書で調べる人が多いので',\n           '会話で使うことが多いので',\n           '使う時には']},\n         {'html_question': '【22】',\n          'correct_answer': 1,\n          'choices': ['この言葉を知ることによって',\n           'この言葉を使わないようにして',\n           'この言葉を忘れないようにして',\n           'この言葉を間違えて使って']}]}},\n      {'topic': 'ふくむ',\n       'result': {'html_article': '<h3>「含む」という言葉の使い方</h3><p>「含む（ふくむ）」という言葉は、日常生活の中でよく使われます。たとえば、水を口に<strong>【19】</strong>、すぐに飲みこまずにしばらくそのままにしておくことがあります。このようなとき、「口に水を<strong>【20】</strong>」と言います。また、「含む」には、あるものがその中に入っているという意味もあります。</p><p>例えば、「このお菓子はナッツを<strong>【21】</strong>」や「このクラスには留学生が三人<strong>【22】</strong>」などのように使います。つまり、「含む」は、何かが他のものの一部として中に入っていることを表します。</p><p>また、「含む」は気持ちや意味についても使われます。「彼の言葉には怒りが<strong>【23】</strong>」という場合は、言葉の中に怒りの気持ちが入っているという意味です。このように、「含む」はいろいろな場面で使われる便利な言葉です。</p>',\n        'questions': [{'html_question': '<a>19.</a>',\n          'correct_answer': 2,\n          'choices': ['入れて', '含んで', '飲んで', '持って']},\n         {'html_question': '<a>20.</a>',\n          'correct_answer': 1,\n          'choices': ['含んだ', '飲んだ', '入れた', '持った']},\n         {'html_question': '<a>21.</a>',\n          'correct_answer': 3,\n          'choices': ['含みます', '含まれます', '含んでいます', '含ませます']},\n         {'html_question': '<a>22.</a>',\n          'correct_answer': 2,\n          'choices': ['含みます', '含まれています', '含んでいます', '含ませています']}]}},\n      {'topic': 'じょうけん',\n       'result': {'html_article': \"<div class='article'><h3>アルバイトの条件</h3><p>私は大学生になってから、アルバイトを探し始めました。アルバイトを選ぶとき、いくつかの<strong>【19】</strong>を考えました。まず、家から近いことが大切でした。遠いと通うのが大変ですから、できるだけ近い店や会社を探しました。</p><p>次に、時給が高い<strong>【20】</strong>、仕事の内容も自分に合っているかどうかを調べました。時給が高いだけでなく、楽しく働けることも大切だと思ったからです。</p><p>また、働く時間も大事な<strong>【21】</strong>です。私は授業がある<strong>【22】</strong>、夜や週末だけ働ける仕事を選びました。</p><p>いろいろな条件を考えて、自分に一番合うアルバイトを見つけることができました。</p></div>\",\n        'questions': [{'html_question': '19.',\n          'correct_answer': 1,\n          'choices': ['条件', '理由', '方法', '話']},\n         {'html_question': '20.',\n          'correct_answer': 3,\n          'choices': ['ので', 'とか', 'し', 'なら']},\n         {'html_question': '21.',\n          'correct_answer': 3,\n          'choices': ['物', '理由', '条件', '時']},\n         {'html_question': '22.',\n          'correct_answer': 1,\n          'choices': ['ので', 'から', 'とき', 'ため']}]}}]}]},\n  {'section_title': '第２部\\u3000読解',\n   'subsections': [{'subsection_title': '(short_passage_read)',\n     'description': '問題9：4つの短い文章を読んで、それぞれの質問に答えなさい。答えは、1・2・3・4から最もよいものを一つえらびなさい。',\n     'question_topics': [{'topic': '食事の好みについて話す',\n       'result': {'html_article': \"<div class='article'>    <p>田中さんと山田さんは、昼ご飯の時間に話をしています。</p>    <p>田中さんは、「山田さん、好きな食べ物は何ですか」と聞きました。</p>    <p>山田さんは、「私はカレーが一番好きです。特に、辛いカレーが好きです」と答えました。</p>    <p>田中さんは、「私はあまり辛いものが食べられません。でも、カレーは好きです」と言いました。</p>    <p>山田さんは、「田中さんは、どんなカレーが好きですか」と聞きました。</p>    <p>田中さんは、「私は野菜がたくさん入っているカレーが好きです」と答えました。</p>    <p>山田さんは、「今度、一緒にカレーを食べに行きませんか」と言いました。</p>    <p>田中さんは、「いいですね。楽しみにしています」と答えました。</p></div>\",\n        'questions': [{'html_question': '山田さんはどんなカレーが好きですか。',\n          'correct_answer': 2,\n          'choices': ['甘いカレー', '辛いカレー', '野菜がたくさん入っているカレー', 'チーズのカレー']}]}},\n      {'topic': '道を尋ねる',\n       'result': {'html_article': \"<div class='article'>    <p>私は先週、初めて東京に行きました。東京はとても大きな町で、たくさんの人がいました。ホテルにチェックインした後、浅草寺（せんそうじ）に行きたかったですが、道がよくわかりませんでした。そこで、私は駅の近くで地図を見ているおばあさんに声をかけました。</p>    <p>「すみません、浅草寺までどうやって行けばいいですか」と聞きました。おばあさんは「この道をまっすぐ行って、二つ目の信号を右に曲がってください。それから、五分ぐらい歩くと大きな門が見えます。そこが浅草寺ですよ」と教えてくれました。</p>    <p>私は「ありがとうございます」と言って、教えてもらった通りに歩きました。本当に五分ぐらい歩くと、大きな門が見えました。とてもわかりやすかったので、迷わずに浅草寺に着くことができました。</p>    <p>知らない町で道を尋ねるのは少し緊張しますが、日本の人はとても親切だと思いました。これからも、わからないことがあったら、勇気を出して道を聞いてみようと思います。</p></div>\",\n        'questions': [{'html_question': '<a>この文章によると、筆者はどうやって浅草寺に行くことができましたか。</a>',\n          'correct_answer': 3,\n          'choices': ['ホテルの人に道を聞いて行った',\n           '地図だけを見て行った',\n           '駅の近くのおばあさんに道を聞いて行った',\n           'タクシーで行った']}]}},\n      {'topic': '家族について話す',\n       'result': {'html_article': \"<div class='article'>    <p>家族について話すことは、日常生活の中でとても大切です。家族は、私たちの生活を支えてくれる大切な存在です。たとえば、学校や会社で自己紹介をするとき、「私は四人家族です。父と母と妹と私がいます。」のように話すことがあります。</p>    <p>家族の中で一番年上の人はふつう父または母です。父は会社で働いていて、母は家で家事をしたり、パートタイムの仕事をしたりしています。妹は中学生で、毎日学校に行っています。私は大学生で、今はアルバイトもしています。</p>    <p>家族でいっしょにご飯を食べたり、休日に公園へ行ったりすることもあります。時々、家族で旅行に行くこともあります。家族と話すと安心しますし、困ったときは家族に相談します。</p>    <p>また、友だちと家族について話すことで、お互いのことをよく知ることができます。家族の話は、友だちとの会話を始めるときにもよく使われます。</p></div>\",\n        'questions': [{'html_question': '<a>この文章によると、家族について話すことはどんな時によく使われますか。</a>',\n          'correct_answer': 3,\n          'choices': ['家族で旅行に行くとき',\n           '友だちとけんかをしたとき',\n           '自己紹介や友だちとの会話を始めるとき',\n           '学校で勉強するとき']}]}},\n      {'topic': '健康とフィットネスについて話す',\n       'result': {'html_article': \"<div class='article'>    <p>健康とフィットネスは、毎日の生活にとってとても大切です。健康でいるためには、バランスのとれた食事や、適度な運動が必要です。たとえば、毎日野菜や果物を食べることは、体に必要なビタミンやミネラルをとることができるので、健康に良いです。また、朝や夕方に散歩をしたり、週に数回ジムで運動したりする人も多いです。運動をすると、筋肉が強くなり、ストレスも減ります。</p>    <p>最近は、仕事や勉強で忙しい人が多いですが、短い時間でも運動をすることが大切です。たとえば、エレベーターを使わずに階段を使う、通勤のときに一駅歩く、家でストレッチをするなど、簡単にできる運動もたくさんあります。また、十分な睡眠をとることや、水分補給を忘れないことも大切です。</p>    <p>健康診断を受けて、自分の体の状態を知ることも大事です。もし体調が悪いと感じたら、早めに休んだり、医者に相談したりしましょう。健康的な生活を続けることで、毎日元気に楽しく過ごすことができます。</p></div>\",\n        'questions': [{'html_question': '<a>この記事によると、健康のために大切なことはどれですか。</a>',\n          'correct_answer': 3,\n          'choices': ['毎日たくさん甘いものを食べること',\n           '全く運動をしないこと',\n           'バランスのとれた食事や適度な運動をすること',\n           '夜遅くまで起きていること']}]}}]},\n    {'subsection_title': '(info_retrieval)',\n     'description': '1つの記事を読んで、情報を探し出し、最もよい答えを選びなさい。',\n     'question_topics': [{'topic': '引っ越しの準備について話す',\n       'result': {'html_article': '<h3>引っ越し準備のスケジュール</h3><table border=\"1\"><tr><th>時期</th><th>主な準備</th><th>注意点</th></tr><tr><td>1か月前</td><td>新居の契約・引っ越し業者の予約</td><td>人気のある時期は早めに予約が必要</td></tr><tr><td>2週間前</td><td>住所変更の手続き・荷物の整理</td><td>役所や銀行で手続きをする</td></tr><tr><td>1週間前</td><td>荷造り・不要品の処分</td><td>ごみの日を確認して捨てる</td></tr><tr><td>前日</td><td>貴重品の準備・冷蔵庫の中身を整理</td><td>冷蔵庫の電源を切る</td></tr><tr><td>当日</td><td>新居へ移動・ガスや電気の確認</td><td>忘れ物がないか確認する</td></tr></table><p><strong>ヒント:</strong></p><ul><li>引っ越しの1か月前には、新しい家の契約や引っ越し業者の予約をします。</li><li>住所変更の手続きは2週間前までに行う必要があります。</li><li>荷造りや不要品の処分は1週間前から始めます。</li><li>冷蔵庫の電源を切るのは前日です。</li><li>当日は忘れ物がないか最後に確認しましょう。</li></ul><p>この表とヒントを参考に、次の質問に答えてください。</p>',\n        'questions': [{'html_question': '新しい家の契約や引っ越し業者の予約をするのに最も適切な時期はいつですか。',\n          'correct_answer': 3,\n          'choices': ['2週間前', '1週間前', '1か月前', '当日']},\n         {'html_question': '冷蔵庫の電源を切るのはいつがよいですか。',\n          'correct_answer': 4,\n          'choices': ['1か月前', '2週間前', '1週間前', '前日']}]}}]}]},\n  {'section_title': '第３部\\u3000聴解',\n   'subsections': [{'subsection_title': '(topic_understanding)',\n     'description': '1問。音声を聞き、内容理解を問う問題。',\n     'question_topics': [{'topic': '公共施設の利用方法について話す',\n       'result': {'question': {'html_question': '公民館で男の人と女の人が話しています。女の人はこの後、何をしますか。',\n         'correct_answer': 3,\n         'choices': ['会議室のそうじをする', '申込書を受付に出す', '利用方法を説明する', '机や椅子をならべる']},\n        'conversation': [{'gender': 'male',\n          'context': 'すみません、公民館の会議室を利用したいのですが、どうすればいいですか。'},\n         {'gender': 'female',\n          'context': 'はい、会議室の利用には事前に申し込みが必要です。利用希望日はいつですか。'},\n         {'gender': 'male', 'context': '来週の火曜日です。'},\n         {'gender': 'female', 'context': '来週の火曜日ですね。利用時間は何時から何時までですか。'},\n         {'gender': 'male', 'context': '午後１時から３時までお願いします。'},\n         {'gender': 'female',\n          'context': 'かしこまりました。では、申込書に必要事項を書いて、受付に出してください。'},\n         {'gender': 'male', 'context': 'はい、わかりました。'},\n         {'gender': 'female',\n          'context': 'あと、利用後は机や椅子を元の位置に戻して、部屋をきれいにしてくださいね。'},\n         {'gender': 'male', 'context': 'はい、気をつけます。ありがとうございます。'}]}}]}]}]}"
     },
     "execution_count": 14,
     "metadata": {},
     "output_type": "execute_result"
    }
   ],
   "source": [
    "output_data"
   ]
  },
  {
   "cell_type": "code",
   "execution_count": 15,
   "id": "aa98a476d1ded815",
   "metadata": {
    "id": "aa98a476d1ded815",
    "ExecuteTime": {
     "end_time": "2025-06-09T14:38:33.379308300Z",
     "start_time": "2025-06-09T14:38:33.364740700Z"
    }
   },
   "outputs": [],
   "source": [
    "def render_to_html(sections):\n",
    "    html = '<html><body style=\"text-align: left;\">\\n'\n",
    "    for section in sections:\n",
    "        html += f'<h1>{section.get(\"section_title\", \"\")}</h1>\\n'\n",
    "        for subsection in section.get(\"subsections\", []):\n",
    "            html += f'<h2>{subsection.get(\"subsection_title\", \"\")}</h2>\\n'\n",
    "            if \"description\" in subsection:\n",
    "                html += f'<p>{subsection[\"description\"]}</p>\\n'\n",
    "            for idx, qtopic in enumerate(subsection.get(\"question_topics\", []), 1):\n",
    "                result = qtopic.get(\"result\", {})\n",
    "                if isinstance(result, dict):\n",
    "                    if \"html_article\" in result:\n",
    "                        html += result[\"html_article\"] + \"\\n\"\n",
    "                    if \"html_question\" in result:\n",
    "                        html += '<div>\\n'\n",
    "                        # html += f'<div style=\"display: flex; align-items: center;\"><div>{idx}.  </div>{result[\"html_question\"]}</div>\\n'\n",
    "                        html += f'<p><strong>{idx}. </strong>{result[\"html_question\"]}</p>'\n",
    "                        if \"choices\" in result:\n",
    "                            correct = result.get(\"correct_answer\", -1)\n",
    "                            html += '<ul>\\n'\n",
    "                            for idx, choice in enumerate(result[\"choices\"], 1):\n",
    "                                if idx == correct:\n",
    "                                    html += f\"<li>{idx}. <b>{choice}</b> <span style='color:green;'>(correct)</span></li>\\n\"\n",
    "                                else:\n",
    "                                    html += f\"<li>{idx}. {choice}</li>\\n\"\n",
    "                            html += '</ul>\\n'\n",
    "                        html += '</div>\\n'\n",
    "                    if \"questions\" in result and isinstance(result[\"questions\"], list):\n",
    "                        for q in result[\"questions\"]:\n",
    "                            html += f'<p><strong>Q: {q[\"html_question\"]}</strong></p>\\n'\n",
    "                            if \"choices\" in q:\n",
    "                                correct = q.get(\"correct_answer\", -1)\n",
    "                                html += '<ul>\\n'\n",
    "                                for idx, choice in enumerate(q[\"choices\"], 1):\n",
    "                                    if idx == correct:\n",
    "                                        html += f\"<li><b>{choice}</b> <span style='color:green;'>(correct)</span></li>\\n\"\n",
    "                                    else:\n",
    "                                        html += f\"<li>{choice}</li>\\n\"\n",
    "                                html += '</ul>\\n'\n",
    "                            if \"explanation\" in q:\n",
    "                                html += f'<p><em>Explanation: {q[\"explanation\"]}</em></p>\\n'\n",
    "                    if \"questions\" in result and isinstance(result[\"questions\"], dict):\n",
    "                        q = result[\"questions\"]\n",
    "                        html += f'<p><strong>Q: {q[\"html_question\"]}</strong></p>\\n'\n",
    "                        if \"choices\" in q:\n",
    "                            correct = q.get(\"correct_answer\", -1)\n",
    "                            html += '<ul>\\n'\n",
    "                            for idx, choice in enumerate(q[\"choices\"], 1):\n",
    "                                if idx == correct:\n",
    "                                    html += f\"<li><b>{choice}</b> <span style='color:green;'>(correct)</span></li>\\n\"\n",
    "                                else:\n",
    "                                    html += f\"<li>{choice}</li>\\n\"\n",
    "                            html += '</ul>\\n'\n",
    "                        if \"explanation\" in q:\n",
    "                            html += f'<p><em>Explanation: {q[\"explanation\"]}</em></p>\\n'\n",
    "    html += '</body></html>'\n",
    "    return html"
   ]
  },
  {
   "cell_type": "code",
   "execution_count": 20,
   "id": "e7a5e4b5084d049c",
   "metadata": {
    "colab": {
     "base_uri": "https://localhost:8080/",
     "height": 1000
    },
    "id": "e7a5e4b5084d049c",
    "outputId": "31c9880e-fc8f-46f9-9a24-41d77a425304",
    "ExecuteTime": {
     "end_time": "2025-06-09T14:40:16.376807100Z",
     "start_time": "2025-06-09T14:40:16.366329100Z"
    }
   },
   "outputs": [
    {
     "data": {
      "text/plain": "<IPython.core.display.HTML object>",
      "text/html": "<html><body style=\"text-align: left;\">\n<h1>第１部　語彙・文法</h1>\n<h2>(sentence_structure)</h2>\n<p>問題8：1問。つぎの文章を読んで、文章全体の内容を考えて、文中の 19 から 22 の中に入る最もよいものを、１・２・３・４から一つえらびなさい。</p>\n<div class='article'><h3>初めての就職活動</h3><p>私は大学三年生の時、初めて<strong>就職活動</strong>を始めました。就職活動はとても大変だと聞いていましたが、<strong>【19】</strong>、自分の将来について考える良いきっかけにもなりました。</p><p>最初はどの会社に応募したらいいか分からず、インターネットでいろいろな企業について調べました。説明会に参加したり、先輩にアドバイスをもらったりして、少しずつ自分に合う会社が分かってきました。<strong>【20】</strong>、面接はとても緊張しましたが、何度も練習することで自信がつきました。</p><p>私は「人の役に立つ仕事がしたい」と思っていたので、社会福祉の会社に応募しました。面接では、自分の考えや経験を<strong>【21】</strong>話すように心がけました。</p><p>最終的に、希望していた会社から内定をもらうことができました。今は社会人として働きながら、毎日新しいことを学んでいます。就職活動は大変でしたが、<strong>【22】</strong>、とても良い経験になったと思います。</p></div>\n<p><strong>Q: 19.</strong></p>\n<ul>\n<li>もちろん</li>\n<li><b>けれども</b> <span style='color:green;'>(correct)</span></li>\n<li>たとえば</li>\n<li>それとも</li>\n</ul>\n<p><strong>Q: 20.</strong></p>\n<ul>\n<li>ですから</li>\n<li>ところが</li>\n<li><b>たしかに</b> <span style='color:green;'>(correct)</span></li>\n<li>それにしては</li>\n</ul>\n<p><strong>Q: 21.</strong></p>\n<ul>\n<li><b>できるだけ</b> <span style='color:green;'>(correct)</span></li>\n<li>必ず</li>\n<li>なるべく</li>\n<li>やはり</li>\n</ul>\n<p><strong>Q: 22.</strong></p>\n<ul>\n<li>苦労したので</li>\n<li>苦労しなくても</li>\n<li><b>苦労したけれど</b> <span style='color:green;'>(correct)</span></li>\n<li>苦労したのであれば</li>\n</ul>\n<h3>「介錯」という言葉の意味</h3><p>「介錯（かいしゃく）」という言葉には、二つの主な意味があります。一つ目は、昔の日本で武士が切腹をするとき、その人の苦しみを少なくするために、<strong>【19】</strong>、首を刀で切ることです。この役目をする人も「介錯人」と呼ばれました。</p><p>もう一つの意味は、誰かのそばについて世話をしたり、助けたりすることです。例えば、舞台や伝統芸能の世界では、道具を渡したり、役者の動きを助けたりすることを「介錯」と言います。</p><p>現代では、<strong>【20】</strong>、この言葉を使うことは少なくなりました。しかし、歴史や時代劇の話の中では、よく出てくる言葉です。</p><p>また、「介錯」の意味を知らない人も多いので、<strong>【21】</strong>、説明が必要な場合もあります。</p><p>このように、「介錯」という言葉には昔からの深い意味があるのです。<strong>【22】</strong>、日本の歴史や文化を知ることができます。</p>\n<p><strong>Q: 【19】</strong></p>\n<ul>\n<li><b>切腹する人の後ろに立って</b> <span style='color:green;'>(correct)</span></li>\n<li>切腹する人の前に座って</li>\n<li>切腹する人の横にいて</li>\n<li>切腹する人の家族と一緒に</li>\n</ul>\n<p><strong>Q: 【20】</strong></p>\n<ul>\n<li><b>日常生活で</b> <span style='color:green;'>(correct)</span></li>\n<li>学校で</li>\n<li>昔より</li>\n<li>今でも</li>\n</ul>\n<p><strong>Q: 【21】</strong></p>\n<ul>\n<li>テレビでよく見られるので</li>\n<li>辞書で調べる人が多いので</li>\n<li>会話で使うことが多いので</li>\n<li><b>使う時には</b> <span style='color:green;'>(correct)</span></li>\n</ul>\n<p><strong>Q: 【22】</strong></p>\n<ul>\n<li><b>この言葉を知ることによって</b> <span style='color:green;'>(correct)</span></li>\n<li>この言葉を使わないようにして</li>\n<li>この言葉を忘れないようにして</li>\n<li>この言葉を間違えて使って</li>\n</ul>\n<h3>「含む」という言葉の使い方</h3><p>「含む（ふくむ）」という言葉は、日常生活の中でよく使われます。たとえば、水を口に<strong>【19】</strong>、すぐに飲みこまずにしばらくそのままにしておくことがあります。このようなとき、「口に水を<strong>【20】</strong>」と言います。また、「含む」には、あるものがその中に入っているという意味もあります。</p><p>例えば、「このお菓子はナッツを<strong>【21】</strong>」や「このクラスには留学生が三人<strong>【22】</strong>」などのように使います。つまり、「含む」は、何かが他のものの一部として中に入っていることを表します。</p><p>また、「含む」は気持ちや意味についても使われます。「彼の言葉には怒りが<strong>【23】</strong>」という場合は、言葉の中に怒りの気持ちが入っているという意味です。このように、「含む」はいろいろな場面で使われる便利な言葉です。</p>\n<p><strong>Q: <a>19.</a></strong></p>\n<ul>\n<li>入れて</li>\n<li><b>含んで</b> <span style='color:green;'>(correct)</span></li>\n<li>飲んで</li>\n<li>持って</li>\n</ul>\n<p><strong>Q: <a>20.</a></strong></p>\n<ul>\n<li><b>含んだ</b> <span style='color:green;'>(correct)</span></li>\n<li>飲んだ</li>\n<li>入れた</li>\n<li>持った</li>\n</ul>\n<p><strong>Q: <a>21.</a></strong></p>\n<ul>\n<li>含みます</li>\n<li>含まれます</li>\n<li><b>含んでいます</b> <span style='color:green;'>(correct)</span></li>\n<li>含ませます</li>\n</ul>\n<p><strong>Q: <a>22.</a></strong></p>\n<ul>\n<li>含みます</li>\n<li><b>含まれています</b> <span style='color:green;'>(correct)</span></li>\n<li>含んでいます</li>\n<li>含ませています</li>\n</ul>\n<div class='article'><h3>アルバイトの条件</h3><p>私は大学生になってから、アルバイトを探し始めました。アルバイトを選ぶとき、いくつかの<strong>【19】</strong>を考えました。まず、家から近いことが大切でした。遠いと通うのが大変ですから、できるだけ近い店や会社を探しました。</p><p>次に、時給が高い<strong>【20】</strong>、仕事の内容も自分に合っているかどうかを調べました。時給が高いだけでなく、楽しく働けることも大切だと思ったからです。</p><p>また、働く時間も大事な<strong>【21】</strong>です。私は授業がある<strong>【22】</strong>、夜や週末だけ働ける仕事を選びました。</p><p>いろいろな条件を考えて、自分に一番合うアルバイトを見つけることができました。</p></div>\n<p><strong>Q: 19.</strong></p>\n<ul>\n<li><b>条件</b> <span style='color:green;'>(correct)</span></li>\n<li>理由</li>\n<li>方法</li>\n<li>話</li>\n</ul>\n<p><strong>Q: 20.</strong></p>\n<ul>\n<li>ので</li>\n<li>とか</li>\n<li><b>し</b> <span style='color:green;'>(correct)</span></li>\n<li>なら</li>\n</ul>\n<p><strong>Q: 21.</strong></p>\n<ul>\n<li>物</li>\n<li>理由</li>\n<li><b>条件</b> <span style='color:green;'>(correct)</span></li>\n<li>時</li>\n</ul>\n<p><strong>Q: 22.</strong></p>\n<ul>\n<li><b>ので</b> <span style='color:green;'>(correct)</span></li>\n<li>から</li>\n<li>とき</li>\n<li>ため</li>\n</ul>\n<h1>第２部　読解</h1>\n<h2>(short_passage_read)</h2>\n<p>問題9：4つの短い文章を読んで、それぞれの質問に答えなさい。答えは、1・2・3・4から最もよいものを一つえらびなさい。</p>\n<div class='article'>    <p>田中さんと山田さんは、昼ご飯の時間に話をしています。</p>    <p>田中さんは、「山田さん、好きな食べ物は何ですか」と聞きました。</p>    <p>山田さんは、「私はカレーが一番好きです。特に、辛いカレーが好きです」と答えました。</p>    <p>田中さんは、「私はあまり辛いものが食べられません。でも、カレーは好きです」と言いました。</p>    <p>山田さんは、「田中さんは、どんなカレーが好きですか」と聞きました。</p>    <p>田中さんは、「私は野菜がたくさん入っているカレーが好きです」と答えました。</p>    <p>山田さんは、「今度、一緒にカレーを食べに行きませんか」と言いました。</p>    <p>田中さんは、「いいですね。楽しみにしています」と答えました。</p></div>\n<p><strong>Q: 山田さんはどんなカレーが好きですか。</strong></p>\n<ul>\n<li>甘いカレー</li>\n<li><b>辛いカレー</b> <span style='color:green;'>(correct)</span></li>\n<li>野菜がたくさん入っているカレー</li>\n<li>チーズのカレー</li>\n</ul>\n<div class='article'>    <p>私は先週、初めて東京に行きました。東京はとても大きな町で、たくさんの人がいました。ホテルにチェックインした後、浅草寺（せんそうじ）に行きたかったですが、道がよくわかりませんでした。そこで、私は駅の近くで地図を見ているおばあさんに声をかけました。</p>    <p>「すみません、浅草寺までどうやって行けばいいですか」と聞きました。おばあさんは「この道をまっすぐ行って、二つ目の信号を右に曲がってください。それから、五分ぐらい歩くと大きな門が見えます。そこが浅草寺ですよ」と教えてくれました。</p>    <p>私は「ありがとうございます」と言って、教えてもらった通りに歩きました。本当に五分ぐらい歩くと、大きな門が見えました。とてもわかりやすかったので、迷わずに浅草寺に着くことができました。</p>    <p>知らない町で道を尋ねるのは少し緊張しますが、日本の人はとても親切だと思いました。これからも、わからないことがあったら、勇気を出して道を聞いてみようと思います。</p></div>\n<p><strong>Q: <a>この文章によると、筆者はどうやって浅草寺に行くことができましたか。</a></strong></p>\n<ul>\n<li>ホテルの人に道を聞いて行った</li>\n<li>地図だけを見て行った</li>\n<li><b>駅の近くのおばあさんに道を聞いて行った</b> <span style='color:green;'>(correct)</span></li>\n<li>タクシーで行った</li>\n</ul>\n<div class='article'>    <p>家族について話すことは、日常生活の中でとても大切です。家族は、私たちの生活を支えてくれる大切な存在です。たとえば、学校や会社で自己紹介をするとき、「私は四人家族です。父と母と妹と私がいます。」のように話すことがあります。</p>    <p>家族の中で一番年上の人はふつう父または母です。父は会社で働いていて、母は家で家事をしたり、パートタイムの仕事をしたりしています。妹は中学生で、毎日学校に行っています。私は大学生で、今はアルバイトもしています。</p>    <p>家族でいっしょにご飯を食べたり、休日に公園へ行ったりすることもあります。時々、家族で旅行に行くこともあります。家族と話すと安心しますし、困ったときは家族に相談します。</p>    <p>また、友だちと家族について話すことで、お互いのことをよく知ることができます。家族の話は、友だちとの会話を始めるときにもよく使われます。</p></div>\n<p><strong>Q: <a>この文章によると、家族について話すことはどんな時によく使われますか。</a></strong></p>\n<ul>\n<li>家族で旅行に行くとき</li>\n<li>友だちとけんかをしたとき</li>\n<li><b>自己紹介や友だちとの会話を始めるとき</b> <span style='color:green;'>(correct)</span></li>\n<li>学校で勉強するとき</li>\n</ul>\n<div class='article'>    <p>健康とフィットネスは、毎日の生活にとってとても大切です。健康でいるためには、バランスのとれた食事や、適度な運動が必要です。たとえば、毎日野菜や果物を食べることは、体に必要なビタミンやミネラルをとることができるので、健康に良いです。また、朝や夕方に散歩をしたり、週に数回ジムで運動したりする人も多いです。運動をすると、筋肉が強くなり、ストレスも減ります。</p>    <p>最近は、仕事や勉強で忙しい人が多いですが、短い時間でも運動をすることが大切です。たとえば、エレベーターを使わずに階段を使う、通勤のときに一駅歩く、家でストレッチをするなど、簡単にできる運動もたくさんあります。また、十分な睡眠をとることや、水分補給を忘れないことも大切です。</p>    <p>健康診断を受けて、自分の体の状態を知ることも大事です。もし体調が悪いと感じたら、早めに休んだり、医者に相談したりしましょう。健康的な生活を続けることで、毎日元気に楽しく過ごすことができます。</p></div>\n<p><strong>Q: <a>この記事によると、健康のために大切なことはどれですか。</a></strong></p>\n<ul>\n<li>毎日たくさん甘いものを食べること</li>\n<li>全く運動をしないこと</li>\n<li><b>バランスのとれた食事や適度な運動をすること</b> <span style='color:green;'>(correct)</span></li>\n<li>夜遅くまで起きていること</li>\n</ul>\n<h2>(info_retrieval)</h2>\n<p>1つの記事を読んで、情報を探し出し、最もよい答えを選びなさい。</p>\n<h3>引っ越し準備のスケジュール</h3><table border=\"1\"><tr><th>時期</th><th>主な準備</th><th>注意点</th></tr><tr><td>1か月前</td><td>新居の契約・引っ越し業者の予約</td><td>人気のある時期は早めに予約が必要</td></tr><tr><td>2週間前</td><td>住所変更の手続き・荷物の整理</td><td>役所や銀行で手続きをする</td></tr><tr><td>1週間前</td><td>荷造り・不要品の処分</td><td>ごみの日を確認して捨てる</td></tr><tr><td>前日</td><td>貴重品の準備・冷蔵庫の中身を整理</td><td>冷蔵庫の電源を切る</td></tr><tr><td>当日</td><td>新居へ移動・ガスや電気の確認</td><td>忘れ物がないか確認する</td></tr></table><p><strong>ヒント:</strong></p><ul><li>引っ越しの1か月前には、新しい家の契約や引っ越し業者の予約をします。</li><li>住所変更の手続きは2週間前までに行う必要があります。</li><li>荷造りや不要品の処分は1週間前から始めます。</li><li>冷蔵庫の電源を切るのは前日です。</li><li>当日は忘れ物がないか最後に確認しましょう。</li></ul><p>この表とヒントを参考に、次の質問に答えてください。</p>\n<p><strong>Q: 新しい家の契約や引っ越し業者の予約をするのに最も適切な時期はいつですか。</strong></p>\n<ul>\n<li>2週間前</li>\n<li>1週間前</li>\n<li><b>1か月前</b> <span style='color:green;'>(correct)</span></li>\n<li>当日</li>\n</ul>\n<p><strong>Q: 冷蔵庫の電源を切るのはいつがよいですか。</strong></p>\n<ul>\n<li>1か月前</li>\n<li>2週間前</li>\n<li>1週間前</li>\n<li><b>前日</b> <span style='color:green;'>(correct)</span></li>\n</ul>\n<h1>第３部　聴解</h1>\n<h2>(topic_understanding)</h2>\n<p>1問。音声を聞き、内容理解を問う問題。</p>\n</body></html>"
     },
     "metadata": {},
     "output_type": "display_data"
    }
   ],
   "source": [
    "html_output = render_to_html(output_data['sections'])\n",
    "display(HTML(html_output))"
   ]
  },
  {
   "cell_type": "code",
   "execution_count": 17,
   "id": "330a0817d72fe5e",
   "metadata": {
    "id": "330a0817d72fe5e",
    "ExecuteTime": {
     "end_time": "2025-06-09T14:38:33.385987300Z",
     "start_time": "2025-06-09T14:38:33.379308300Z"
    }
   },
   "outputs": [],
   "source": [
    "timestamp = datetime.datetime.now().strftime(\"%Y%m%d_%H%M%S\")\n",
    "output_folder = \"output\"\n",
    "html_filename = f\"JLPT_{timestamp}.html\"\n",
    "html_filepath = os.path.join(output_folder,html_filename)\n",
    "with open(html_filepath, \"w\", encoding=\"utf-8\") as file:\n",
    "    file.write(html_output)"
   ]
  },
  {
   "cell_type": "code",
   "execution_count": 18,
   "id": "c02c02ec6620993d",
   "metadata": {
    "id": "c02c02ec6620993d",
    "ExecuteTime": {
     "end_time": "2025-06-09T14:38:34.751464800Z",
     "start_time": "2025-06-09T14:38:33.385987300Z"
    }
   },
   "outputs": [],
   "source": [
    "# Create a Document object\n",
    "document = Document()\n",
    "# Add a section to the document\n",
    "section = document.AddSection()\n",
    "# Set the page margins to 72 points (72 points = 1 inch)\n",
    "section.PageSetup.Margins.All = 72\n",
    "\n",
    "# Add a paragraph to the section\n",
    "paragraph = section.AddParagraph()\n",
    "\n",
    "# Add the HTML string to the paragraph\n",
    "paragraph.AppendHTML(html_output)\n",
    "\n",
    "doc_filename = f\"JLPT_{timestamp}.docx\"\n",
    "doc_filepath = os.path.join(output_folder,doc_filename)\n",
    "# Save the result document to a DOCX file\n",
    "document.SaveToFile(doc_filepath, FileFormat.Docx2016)\n",
    "# Or save the result document to a DOC file\n",
    "# document.SaveToFile(\"HtmlStringToDoc.doc\", FileFormat.Doc)\n",
    "\n",
    "document.Close()"
   ]
  },
  {
   "cell_type": "code",
   "outputs": [
    {
     "name": "stderr",
     "output_type": "stream",
     "text": [
      "2025-06-09 22:38:35,875 - INFO - Connected (version 2.0, client OpenSSH_9.6p1)\n",
      "2025-06-09 22:38:37,042 - INFO - Authentication (publickey) successful!\n",
      "2025-06-09 22:38:50,081 - INFO - [chan 0] Opened sftp connection (server version 3)\n"
     ]
    },
    {
     "name": "stdout",
     "output_type": "stream",
     "text": [
      "File transferred to 58.246.203.10:/var/www/html/JLPT_20250609_223833.html\n"
     ]
    },
    {
     "name": "stderr",
     "output_type": "stream",
     "text": [
      "2025-06-09 22:38:52,312 - INFO - [chan 0] sftp session closed.\n"
     ]
    },
    {
     "name": "stdout",
     "output_type": "stream",
     "text": [
      "File transferred to 58.246.203.10:/var/www/html/JLPT_20250609_223833.docx\n"
     ]
    }
   ],
   "source": [
    "import paramiko\n",
    "\n",
    "# Load the private key from the environment variable\n",
    "# Parse the private key\n",
    "key_file_path = 'temp_id_ed25519'\n",
    "pkey = paramiko.Ed25519Key.from_private_key_file(key_file_path)\n",
    "\n",
    "# SSH and SFTP parameters\n",
    "hostname = \"58.246.203.10\"\n",
    "username = \"hwu\"\n",
    "port = 22\n",
    "\n",
    "remote_html_file_path = f\"/var/www/html/{html_filename}\"\n",
    "remote_doc_file_path = f\"/var/www/html/{doc_filename}\"\n",
    "\n",
    "# Establish SSH connection\n",
    "ssh = paramiko.SSHClient()\n",
    "ssh.set_missing_host_key_policy(paramiko.AutoAddPolicy())\n",
    "ssh.connect(hostname=hostname, port=port, username=username, pkey=pkey)\n",
    "\n",
    "# Transfer the file\n",
    "sftp = ssh.open_sftp()\n",
    "sftp.put(html_filepath, remote_html_file_path)\n",
    "print(f\"File transferred to {hostname}:{remote_html_file_path}\")\n",
    "sftp.put(doc_filepath, remote_doc_file_path)\n",
    "print(f\"File transferred to {hostname}:{remote_doc_file_path}\")\n",
    "\n",
    "# Clean up\n",
    "sftp.close()\n",
    "ssh.close()"
   ],
   "metadata": {
    "collapsed": false,
    "ExecuteTime": {
     "end_time": "2025-06-09T14:38:52.315258800Z",
     "start_time": "2025-06-09T14:38:34.751464800Z"
    }
   },
   "id": "76d7f92a309995e1",
   "execution_count": 19
  },
  {
   "cell_type": "code",
   "execution_count": 19,
   "outputs": [],
   "source": [
    " "
   ],
   "metadata": {
    "collapsed": false,
    "ExecuteTime": {
     "end_time": "2025-06-09T14:38:52.318426200Z",
     "start_time": "2025-06-09T14:38:52.315799100Z"
    }
   },
   "id": "32ac40aec57a40a4"
  }
 ],
 "metadata": {
  "colab": {
   "include_colab_link": true,
   "provenance": []
  },
  "kernelspec": {
   "display_name": ".venv",
   "language": "python",
   "name": "python3"
  },
  "language_info": {
   "codemirror_mode": {
    "name": "ipython",
    "version": 3
   },
   "file_extension": ".py",
   "mimetype": "text/x-python",
   "name": "python",
   "nbconvert_exporter": "python",
   "pygments_lexer": "ipython3",
   "version": "3.13.2"
  }
 },
 "nbformat": 4,
 "nbformat_minor": 5
}
