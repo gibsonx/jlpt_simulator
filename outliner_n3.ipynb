{
 "cells": [
  {
   "cell_type": "markdown",
   "id": "f94c1f8ee4d0b085",
   "metadata": {
    "colab_type": "text",
    "id": "view-in-github"
   },
   "source": [
    "<a href=\"https://colab.research.google.com/github/gibsonx/jlpt_simulator/blob/dev/graphs/n3/outliner.ipynb\" target=\"_parent\"><img src=\"https://colab.research.google.com/assets/colab-badge.svg\" alt=\"Open In Colab\"/></a>"
   ]
  },
  {
   "cell_type": "code",
   "execution_count": 13,
   "id": "712d86d2ae0847a0",
   "metadata": {
    "colab": {
     "base_uri": "https://localhost:8080/"
    },
    "id": "712d86d2ae0847a0",
    "outputId": "0b69e343-ba35-4773-acca-92da0492bdba",
    "ExecuteTime": {
     "end_time": "2025-06-13T11:05:28.038037700Z",
     "start_time": "2025-06-13T11:05:27.996907200Z"
    }
   },
   "outputs": [
    {
     "name": "stdout",
     "output_type": "stream",
     "text": [
      "Not running on CoLab\n"
     ]
    }
   ],
   "source": [
    "if 'google.colab' in str(get_ipython()):\n",
    "    !git clone https://github.com/gibsonx/jlpt_simulator.git\n",
    "    %cd jlpt_simulator\n",
    "    !git checkout dev\n",
    "    \n",
    "    !apt-get install python3-dev graphviz libgraphviz-dev pkg-config\n",
    "    !pip install -r requirements.txt\n",
    "else:\n",
    "  print('Not running on CoLab')\n"
   ]
  },
  {
   "cell_type": "code",
   "execution_count": 14,
   "id": "7f526a68a7e73a65",
   "metadata": {
    "colab": {
     "base_uri": "https://localhost:8080/"
    },
    "id": "7f526a68a7e73a65",
    "outputId": "e3e7c3a2-bde6-4f65-cf4c-8ddd97998d8f",
    "ExecuteTime": {
     "end_time": "2025-06-13T11:05:28.059828400Z",
     "start_time": "2025-06-13T11:05:28.000797100Z"
    }
   },
   "outputs": [
    {
     "data": {
      "text/plain": "True"
     },
     "execution_count": 14,
     "metadata": {},
     "output_type": "execute_result"
    }
   ],
   "source": [
    "import json\n",
    "import logging\n",
    "import random\n",
    "import time\n",
    "from spire.doc import *\n",
    "from spire.doc.common import *\n",
    "import pandas as pd\n",
    "import yaml\n",
    "from tqdm import tqdm\n",
    "\n",
    "# from langchain_community.embeddings import XinferenceEmbeddings\n",
    "from libs.LLMs import *\n",
    "import datetime\n",
    "logging.basicConfig(level=logging.INFO, format='%(asctime)s - %(levelname)s - %(message)s')\n",
    "\n",
    "from graphs.n3.ExamTaskHandler import ExamTaskHandler\n",
    "load_dotenv()"
   ]
  },
  {
   "cell_type": "code",
   "outputs": [],
   "source": [
    "def collect_vocabulary(file_path):\n",
    "    # Read the CSV file\n",
    "    data = pd.read_csv(file_path)\n",
    "    # Shuffle the rows and reset the index\n",
    "    words = data.iloc[:, :2].sample(frac=1).reset_index(drop=True)\n",
    "    # Extract the second column (values) and convert to a single-line string\n",
    "    vocab_string = ','.join(words.iloc[:, 1].astype(str).tolist())\n",
    "    return vocab_string"
   ],
   "metadata": {
    "collapsed": false,
    "ExecuteTime": {
     "end_time": "2025-06-13T11:05:28.059828400Z",
     "start_time": "2025-06-13T11:05:28.009929100Z"
    }
   },
   "id": "d159b3254277b376",
   "execution_count": 15
  },
  {
   "cell_type": "code",
   "execution_count": 16,
   "id": "initial_id",
   "metadata": {
    "id": "initial_id",
    "ExecuteTime": {
     "end_time": "2025-06-13T11:05:28.059828400Z",
     "start_time": "2025-06-13T11:05:28.015238600Z"
    }
   },
   "outputs": [],
   "source": [
    "# Import N3 Vocabulary\n",
    "file_path = 'Vocab/n3.csv'\n",
    "# Display the content of the CSV file\n",
    "vocab_dict = collect_vocabulary(file_path)\n",
    "with open(\"Vocab/topics.txt\", \"r\", encoding=\"utf-8\") as file:\n",
    "    topics_list = [line.strip() for line in file]"
   ]
  },
  {
   "cell_type": "code",
   "outputs": [
    {
     "data": {
      "text/plain": "'はってん,いまに,くだ,ちのう,わん,ぜん,ここ,けんこう,ほこり,かいけい,ちがい,ようするに,どうとく,かたがた,さいしゅう,かたい,われわれ,みやこ,いんよう,ちょうし,てきど,ひとこと,かく,とら,きまり,てつ,いとこ,あいず,けん,たんじゅん,とざん,がら,ねんだい,つかれ,から,しょうたい,はかる,ゆうり,ば,きにいる,はたけ,きゅうりょう,たいしょう,さんか,とおりすぎる,いわい,つい,こや,おひる,ちらす,けん,ようき,そうち,あく,とし,うる,いんさつ,じょうきょう,せんでん,ちか,のんびり,てき,さく,ざせき,げんかい,はやる,たから,おさめる,まえもって,そんちょう,かく,できごと,まもる,たいほ,しょり,しゅよう,ねがい,きゅうけい,さいのう,せっきょくてき,みおくり,よき,せきゆ,こきょう,けいき,めったに,かわいらしい,めうえ,きょく,いじ,ある,ぶんや,くせ,ふく,ひとり,せいり,あらゆる,しつど,うし,ねがう,たいよう,おもいで,しょうがい,さべつ,きゅうげき,ぜんたい,いち,きかん,あわせる,かっき,うれる,さる,じさつ,わく,ゆうしょう,ことわる,じゅうし,しばふ,すえ,かげ,いねむり,やぶる,かんれん,ぜんしゃ,やく,せいけつ,そうぞう,もくてき,はんだん,せいげん,こおる,たまる,め,うさぎ,うわさ,おめでとう,あいて,ろんぶん,いっぽう,めんきょ,みる,うったえる,まよう,ゆうのう,ほう,のうぎょう,きんにく,きしゃ,さける,せんたく,み,かいふく,もくひょう,そなえる,はじまり,あら,ほお,そうじゅう,ふれる,なにか,なん,きほん,そんけい,しんぱん,しょうご,ちょうせん,じじょう,せんこう,くわえる,くみ,ねっちゅう,こうさい,まったく,すむ,はく,あてる,のう,いわ,かわ,たいがく,つなぐ,ちしき,かんそう,おる,ふしぎ,はい,さす,おさめる,おう,ほぞん,いしき,こうせい,へいきん,せんこう,くんれん,ざいさん,ひょうじょう,くつう,せいき,ころぶ,ついに,いわば,いったい,しゅつじょう,いらい,きのう,ほほ,きにゅう,オフィス,しぜん,きちょう,はね,きよう,たび,けいやく,ほんと,あい,りそう,そうおん,きり,がいしゅつ,ご,ちこく,かつやく,きゅうに,ぶたい,せんじつ,けいこう,せいきゅう,しょう,にえる,いずみ,おそろしい,てま,さます,いんしょう,じゅうよう,おだやか,きたい,えさ,ちゅう,ふち,きたく,ぶん,ごうか,ほうもん,かぐ,こうか,ことなる,こうくう,うまれ,にがて,おこる,およぎ,にあう,きゅう,てってい,じょうきょう,しも,ようす,こぜに,よほう,いき,しゅうきょう,とい,ぼうけん,だいり,かぐ,さまざま,わかれ,こっきょう,じんせい,そんがい,ほえる,はり,よろこび,じゅよう,しんこう,えいきゅう,やめる,めいし,なわ,ばいう,じょうしき,きげん,どく,まく,た,しゅくはく,ちじ,しょうじょ,せいしき,えんき,たいかい,ほうふ,きんゆう,げいじゅつ,たいど,じょし,のうか,ひも,よん,わるくち,さいばん,きぎょう,たにん,ふか,ようび,つぎつぎ,くさい,こっか,こっせつ,もと,ちへいせん,ぶ,だまる,にちじょう,じょしゅ,わる,おそらく,つばさ,はっしゃ,せつやく,ぎろん,しゅうだん,かかり,いどう,まっか,ひこう,おさえる,よさん,たい,さつ,ち,はし,しょくよく,ぎょうぎ,みつ,かかる,いっしゅ,がくもん,かご,とりあげる,ていど,れい,さかり,そで,あらわす,さい,たいはん,ならす,きんがく,のこす,せいせき,しゅっぱん,はなれる,かさなる,ねんげつ,あな,なっとく,きげん,ていりゅうじょ,のせる,さからう,くらい,まく,もよう,ふるえる,とじる,かいてき,しょうにん,ねんかん,ゆうじん,まる,はなす,かん,れい,くう,かり,ほんもの,しょうじる,あきる,ひょうか,もと,とくちょう,さく,びじん,きょうぎ,がい,そうさ,およぼす,しゅうかく,おとこのひと,ふじん,とくちょう,けんちく,ためる,おもに,じつげん,かわく,すいみん,くらす,ぐうぜん,かん,いたみ,えんぜつ,あたためる,かんげい,さくら,くさる,ちゅうこ,まかせる,ようい,めいわく,しょうがい,しんこく,ふせい,きれ,しじん,めんせつ,けいゆ,かんこう,かみ,たすかる,とれる,たいくつ,から,じっさい,せいちょう,のち,かざり,つながる,ふる,そろえる,ひこう,むける,はいゆう,つうか,ひょうばん,こうしゃ,しんせん,くるしい,れんぞく,きんし,きゅうしゅう,けんかい,むかい,だい,ゆうしゅう,けんり,もえる,こうそく,ほうほう,じゅん,ひょう,じゅうたい,つよまる,すくう,ほご,あげる,きり,とも,じたい,こうかい,かる,かんさつ,せんこう,こす,なみ,ぎかい,おくる,とく,じょゆう,きょうちょう,ちゅうがく,あんがい,しょく,あたる,ふり,こんかい,かげ,いし,とくい,ぜんこく,はい,しばい,きゅうそく,しょうとつ,かたな,けんせつ,つとめ,とつぜん,しめる,しゅうせい,かいしゃく,よい,つづき,きし,ぜん,えいよう,ふへい,どうよう,いふく,くるう,せっけい,もとめる,こい,ふあん,さいちゅう,ぐん,あくしゅ,しょうがくきん,よわめる,きょうかしょ,のうみん,ごうとう,かわかす,いどう,けっかん,はん,びん,なかみ,あてる,ごがく,むす,とう,だいめい,なし,さんこう,どうよう,おき,くわえる,おく,かく,すでに,せんしゅ,かいぜん,ごく,うつす,かね,ぎゃく,もんじ,ならす,なれる,すみ,そうとう,ものがたり,がか,みかける,とける,げんきん,センター,へい,じょうし,えんじょ,ひづけ,したしい,のぼる,けっきょく,どりょく,かず,ぶんめい,いだい,かげん,あきらか,のせる,さす,たたかい,しかく,けいき,はかせ,おとる,わずか,ゆかい,せめる,なやむ,かんせい,うちゅう,おうじ,せいふ,きゅう,てじな,こくみん,するどい,いらい,つむ,ぜつめつ,いっそう,すむ,しかく,へる,もちいる,こんにち,しどう,せつ,こくふく,ほう,つく,まる,あわれ,たたかう,しかく,ほこり,ふ,たつ,かくにん,いっしょう,かつどう,かんじ,にぎる,もちあげる,しょうぼう,じゅうだい,りこう,くやしい,ひかく,なみだ,しほん,ちょうき,たく,しょう,そう,しんり,しょくぶつ,くれ,ぜんしん,そう,はっけん,とち,しんこう,よみ,けん,わ,つうしん,はかる,うんてん,ふえ,こうか,あたえる,ぜいきん,ぎちょう,ある,しょるい,みやげ,このむ,ゆうじょう,もっとも,せいねんがっぴ,せいかく,え,がまん,いぜん,いんたい,しゅっしん,せい,ただちに,はなす,くむ,けいじ,けいさん,こうこく,はんい,さんせい,たいした,つち,せいり,けいたい,むしば,おおう,げんだい,もうしわけ,つく,ふく,ふまん,えん,めんどう,せきたん,にる,にんげん,さっきょく,おめにかかる,しめす,まさに,ふくめる,しき,つむ,しょうにん,うらぎる,きょうぎ,ぎし,おんど,ねんじゅう,てんねん,どうじ,たいする,じょうきゃく,こづつみ,さぎょう,し,ほどう,しんちょう,のこり,ひっこし,ぎむ,さんか,せいじん,かん,かし,しょくたく,ははおや,かがく,けいこく,きろく,かよう,そそぐ,いためる,こうはい,りょう,ぶぶん,おん,ゆるす,よごす,はら,みちる,らい～,まつり,きかん,もと,びみょう,で,じき,おうじる,かくご,あくま,くだり,そろう,りえき,ちる,まぜる,しあわせ,きんえん,そだつ,ほしょう,さそう,じょじょに,いったい,つつみ,しんこう,ばったり,あらわす,ながす,わん,ぼう,はだ,きょうりょく,かんこう,まく,かた,ちゅうもん,かくす,ひはん,やど,どうりょう,よ,つよめる,じょうほう,きふ,むく,びょう,ほほえむ,ぶ,かえる,よそく,けいき,ぐん,ひ,とたん,いた,たしかめる,のぞむ,たんご,としより,のぼる,おう,かえる,こううん,かせぐ,せめる,たった,ばか,せけん,ほとけ,さいてい,こきゅう,さほう,かいごう,こうか,かね,たて,きおん,えがく,かんする,てんけい,ひてい,おろす,ささる,なかば,ぶき,あきらめる,つうこう,かくだい,よわまる,そしき,せいかく,しりあい,おおいに,おうだん,けむり,いじょう,ぶつ,すう,とうよう,しょさい,あたためる,かじ,きんこ,とう,けいえい,つゆ,しんじる,れんそう,ものおと,じょし,たいりく,しんせき,かいが,つかまる,ろうじん,おしゃべり,かならずしも,じどう,ゆでる,やね,みごと,のぞみ,おそわる,よゆう,やとう,たんとう,いちじ,ぬらす,れいぎ,とびだす,がっき,かなり,なべ,つうじる,すうじ,むりょう,あたたまる,であい,じこ,だん,あき,ふくむ,きょか,ひっし,デモ,びん,つぐ,しんさつ,みらい,つなげる,しつ,すべて,せいめい,ねんれい,あと,ぎん,まく,はなれる,あつかう,でんし,な,どく,してん,ようてん,せいこう,ふだん,ちゅうもく,あう,けいたい,かみなり,へんか,げ,よう,ひとしい,たがい,がく,うばう,おろす,ほうそう,けんとう,む,めいじる,しずむ,かのう,さばく,ちがいない,かぶる,のぞく,しきゅう,つとめ,うむ,じっし,つうきん,ようき,ぞう,かしこい,そば,ひがい,さくひん,さらに,せいめい,たたむ,こくもつ,もやす,かける,おまえ,よこぎる,したがう,きこう,おさない,かん,かんしん,はなしあう,せい,むし,こうりょ,びょうどう,たく,きょうちょう,たば,しゅう,きゅうそく,しゅうり,かち,うしなう,たんじょう,とどく,けってい,ししゅつ,よなか,しゅう,ぜい,さける,せつ,かんじょう,しょうりゃく,か,まざる,がくしゅう,のびる,ひ,こうえん,ね,きづく,ひろめる,あたたまる,やちん,こっかい,きず,せいぜい,かえる,いちば,べんとう,おう,じき,ようきゅう,やっかい,せいこう,いとこ,かたい,きく,しぼう,おび,いっぱん,うつ,じょうたい,とじる,ひひょう,ごうけい,し,よ,どうし,しんごう,そくど,けんさ,じみ,こしょう,わた,ひとごみ,すませる,ひみつ,しげき,おいつく,きょうじゅ,すすめる,かんきょう,もの,うなる,とう,げんば,どういつ,たま,だんたい,よぼう,たいおん,かさねる,かいけつ,きのどく,こうかん,すいせん,にっこう,たすける,しゅうしょく,きょうつう,いだく,そこ,のびる,はげしい,みょう,げんざい,ものごと,ばくだい,ふたたび,どくとく,ゆうこう,みりょく,けつろん,さけ,しょうじき,まんぞく,いや,はら,せき,たいら,ぶん,かう,そうさ,えんそう,ちゅう,ぶじ,すみ,くろう,いりょう,あたりまえ,じどう,はか,べつに,はん,きおく,えいえん,ふくそう,いっち,すぐれる,もんく,しはい,ひげき,がいこう,やくす,つぐ,かく,つり,まずしい,しゅんかん,ごうかく,さいわい,たよる,しょもつ,ひよう,ぬく,しゅじゅつ,きょうじゅ,ちゅうしん,やとう,りつ,りょうがえ,ざいりょう,はかる,ながめる,しそう,のばす,こんらん,ふじゆう,ふうふ,あつまり,しきりに,りく,すれちがう,しょうひ,じしん,かたづく,しげん,げきじょう,ありがとう,おもいつく,しっけ,しょうひん,おたがい,のる,あける,しょくもつ,しな,さくもつ,まなぶ,めいれい,きれる,つうか,ひやす,はくしゅ,してん,だい,さく,どうか,ぐんたい,かさい,こうけん,ぜんいん,あぶら,あちこち,かんとく,なぞ,かく,くわしい,としょ,かわ,たいざい,たに,たちあがる,しょうめい,あわ,ていあん,はったつ,にゅうじょう,とう,い,しも,じょうたつ,たいき,ぜん,あいかわらず,とうあん,ぶつり,さかい,ちゃ,きずく,くるしむ,ゆき,ただ,かんそう,あわてる,かんしゃ,たかまる,かわ,おくれ,いし,い,うめる,しゅしょう,ほうせき,ぞうか,しんぞう,せいさん,うず,はば,ていき,かた,はやす,まんいち,こえる,しんらい,かんじる,どくしょ,あいする,はだか,ひん,おしゃれ,はかる,めいかく,まじる,ちきゅう,とも,ほうぼう,かだい,じょし,わく,てつや,じっこう,まめ,こうえん,だいひょう,よのなか,てきよう,おじぎ,ちょうじょう,へらす,こいびと,こじん,けっかん,しょくぎょう,ようそ,かんこう,かおり,こうへい,のぞむ,きんぞく,ながれる,かち,ちゅうしゃ,あらし,きせい,いいん,きんし,てんこう,まく,しんぽ,けい,どうろ,いっか,じんるい,うごかす,いじわる,こうげき,でんとう,じんこう,さばく,はい,こえる,きょうきゅう,こんなん,でんごん,かんじゃ,えいきょう,あたり,めいし,おん,さす,だいとうりょう,めくる,とうじ,かがやく,かくれる,さす,しゅぎ,ます,どろ,さめる,とく,いかり,とかい,すいじゅん,とうぜん,しょうばい,いきおい,ぞう,こんざつ,かえす,のばす,はんせい,ぐん,つける,たい,たく,おとなしい,いたる,たいし,する,けい,へんこう,いのち,ゆうき,し,しょうじょう,ごく,じゅうたい,あんてい,つもる,かぶ,ちゅうおう,いりょう,じょおう,きんだい,せいしつ,しゅるい,ぜったい,あらた,つぐ,ねずみ,さんそ,のぞく,かたづけ,ぶ,なる,しょうしょう,ぶっしつ,しんけん,はく,しるし,ふうけい,うらやましい,ほしょう,さく,おうえん,ご,かしゅ,ろうどう,あいじょう,がっき,あやまり,かわいそう,そなえる,けっせき,こうふく,えいぎょう,もうしこむ,ひとりひとり,りゅうがく,ふかまる,せいぶつ,だく,ね,ひざ,きげん,わかれる,じき,きねん,ころす,せいめい,ねったい,きゅうじょ,きん,かんきゃく,いま,どうし,こくせき,すいせん,せい,かてい,ふで,あんき,じゅうたく,よそう,ゆたか,かくじつ,げんじょう,うん,ひろげる,しだい,はっしゃ,うま,はつめい,ちいき,なか,めん,わらい,うむ,だいじん,きみ,しゅうにゅう,のべる,まちがい,うつる,むしろ,ゆうびん,せいねん,くみあい,かんりょう,かんかく,しゅうちゅう,たしょう,ふやす,いき,れっしゃ,ひっぱる,かぎる,ほんにん,けっこう,とうひょう,じゅう,こおり,いっしゅん,しぼう,もとづく,きんちょう,しり,ちく,しゅちょう,まつ,かんかく,かこ,しんゆう,むかえ,ね,いわう,せきにん,くわわる,ほのお,こうしゃ,すすめる,ほね,ていしゅつ,ちちおや,あん,えいせい,ふこう,こうはい,げき,かたる,かこむ,へいわ,ちゅうし,おぼれる,ためし,とうちゃく,けっしん,つきあい,ちょくせつ,へる,まね,ゆうこう,み,ふつう,しはらう,つらい,あかり,ばくはつ,かい,にち,たび,きょだい,てきせつ,いがい,さんせい,おうさま,さけぶ,うまる,く,なぐる,とめる,ちょうさ,がく,ちえ,くさり,くらし,たかめる,ためす,そうぞく,てきする,もうふ,しつぎょう,そうぞう,こうば,とうさん,こい,よる,かんしん,じまん,はえる,りかい,かんりょう,の,ほぼ,じょう,ぐたい,しんけい,いはん,むだ,きたい,つねに,ひょうげん,あらわす,ないよう,あせ,つく,こす,どうよう,だいきん,さす,はあ (かん),しょうめい,ふり,つける,おさめる,がん,れいがい,ぬの,であう,くだる,はた,せいちょう,てんこう,おんだん,ともに,じき,する,とめる,げんご,あらわれる,かんり,はんにん,あずける,じゅんばん,じっけん,じょう,けいじ,あぶら,かえる,しゅだん,たつ,げんじつ,ひろがる,ごみ,むく,せいど,しらせ,こうふん,こうせい,こうそく,こくご,ぶっか,めいじん,おい,さいしゅう,じょうだん,うめ,まご,かみのけ,じゅう,はくぶつかん,かんどう,こうかい,きみょう,うわ,じゅんちょう,おどろき,いね,よせる,えがお,きこう,た,ふやす,ぜんしん,けんとう,たいじゅう,にんき,える,せいき,しょくりょう,どくしん,よあけ,ようじん,ほか,かてい,けつえき,こんやく,たび,とく,ほうこく,すこしも,お,かんじょう,けってん,ていこう,さます,しんこう,しょう,はぶく,けっか,いぜん,あたり,しゃっきん,じつに,たちば,はたらき,まけ,ことわざ,とばす,ろんじる,てつどう,はね,こうけい,ひょう,くりかえす,げんしょう,あるいは,はいたつ,みとめる,しゅう,か,す,なんでも,ながれ,しゅうしょく,しょくりょう,さ,かなしむ,かいし,きんせん,じけん,じょうけん,おもわず,しよう,かかく,あげる,あらそう,じじつ,じつりょく,かてい,きかい,もどす,かく,かかえる,みまい,きじ,わける,せつび,こうどう,なみ,なんとか,ふかめる,ろんそう,がくれき,すごす,おそれる,はんばい,かける,てつがく,こうほ,ず,れいせい,はん,ちゅうしょく,とける,する,けしょう,ながめ,むちゅう,かつよう,しゅふ,か,つめる,しょうひん,しゅと,ほうこう,ぬける,いちどに,かいいん,れつ,どくりつ,ほしょう,てつだい,なる,はっこう,さゆう,やぶれる,しょくひん,めん,じゅうみん,であい,なくす,わき,さる,いじ,いまにも,ぶんせき,つたわる,きゅうか,い,きじ,こじん,かり,ちかごろ,ゆいいつ,つれ,ちい,つきあう,たんい,のうりょく,うお,しまい,むしあつい,わだい,ゆう,なま,たま,しぼう,ちょきん,つかむ,こんご,うけとる,しょめい,きゅう,しきゅう,あたたかい,たま,なかま,はんざい,しんこく,そう,たね,たま,くん,そまつ,みかた,した,よす,かみ,ていでん,うたがう,こむぎ,いいん,こと,さいこう,にっちゅう,ぎいん,まさか,かし,ばめん,どうし,まるで,たっする,ふせぐ,こくばん,ほり,りこん,かいがい,こな,さめる,つみ,まち,ひろまる,のう,ばっする,しんよう,ひたい,きらう,このみ,じたい,きかん,くむ,きかい,やくわり,いためる,ける,ゆか,ひじょう,また,とおす,らく,じつは,のき,おか,かみ,まざる,はさん,たまらない,はで,ふたご,しんがく,かんがえ,けんぽう,よぶん,ふんいき,げんしょう,きぼう,かわる,じこく,おしえ,つゆ,やく,こうふく,おろす,がくしゃ,く,こし,ちょしゃ,しよう,ささえる,さっか,りょうきん,せいねん,ひょうめん,たつ,まじる,しんり,はかる,じんぶつ,ぜいたく,いきもの,せいひん,しよう,じかに,ぎもん,くむ,しき,たとえ,まねく,つうやく,しんたい,そう,せい,あずかる,すじ,しろ,たより,ちほう,はんこう,しめる,わん,ごかい,いち,かもく,たまたま,しんちょう,きょうどう,かぞえる,つうがく,けいい,いき,たたく,せんざい,せい,つぐ,ジェットき,だんし,しゅうい,りょう,ならす,うつ,うっかり,なまける,もじ,たいしょう,ただ,えんぎ,たいいく,ちりょう,す,ねんかん,しょうねん,えん,ゆずる,だます,あらわれ,おせん,おに,じょうとう,すがた,むね,くべつ,まぜる,たおす,そん,おえる,さら,ほり,ふくろ,ふし,ふそく,さく,けいい,なかみ,かける,よめ,きょうふ,みょうごにち,そんざい,ゆうき,かんぜん,うつる,むすぶ,きょうりょく,じんしゅ,おおや,ぜん,りゅうこう,きかん,きゅうりょう,たんなる,めし,やく,たいせん,しはらい,なんで,かんせい,いし,せんきょ,ずつう,きん,だいぶぶん,しつぼう,はっぴょう,せいしん,たんに,としつき,まつ,せいぞう'"
     },
     "execution_count": 17,
     "metadata": {},
     "output_type": "execute_result"
    }
   ],
   "source": [
    "vocab_dict"
   ],
   "metadata": {
    "collapsed": false,
    "ExecuteTime": {
     "end_time": "2025-06-13T11:05:28.091248100Z",
     "start_time": "2025-06-13T11:05:28.028828400Z"
    }
   },
   "id": "b8190757154161de",
   "execution_count": 17
  },
  {
   "cell_type": "markdown",
   "id": "4c1cdce8b1f57ef3",
   "metadata": {
    "collapsed": false,
    "id": "4c1cdce8b1f57ef3"
   },
   "source": [
    "#### load Models"
   ]
  },
  {
   "cell_type": "code",
   "outputs": [],
   "source": [
    "from typing import List, Optional\n",
    "\n",
    "from langchain_core.prompts import ChatPromptTemplate\n",
    "\n",
    "from pydantic import BaseModel, Field\n",
    "\n",
    "# instruction = \"\"\"\n",
    "# Section 1: Vocabulary and Grammar\n",
    "# - Kanji reading (kanji_reading): 8 questions\n",
    "# - Write Chinese characters (write_kanji): 6 questions\n",
    "# - Word Meaning Selection (word_meaning): 11 questions\n",
    "# - Synonyms substitution (synonym_substitution): 5 questions\n",
    "# - word usage (word_usage): 5 questions\n",
    "# - Grammar fill in the blank (sentence_grammar): 13 questions\n",
    "# - Sentence sorting (sentence_sort): 5 questions\n",
    "# - Grammar structure selection (sentence_structure): 4-5 questions\n",
    "#\n",
    "# Section 2: Reading Comprehension\n",
    "# - Short passages (short_passage_read): 4 articles\n",
    "# - Mid-size passages (midsize_passage_read): 2 articles\n",
    "# - Long passages (long_passage_read): 1 articles\n",
    "# - Information retrieval (info_retrieval): 1 articles\n",
    "#\n",
    "# Section 3: Listening Comprehension\n",
    "# - Topic understanding (topic_understanding): 6 questions\n",
    "# - Key understanding (keypoint_understanding): 6 questions\n",
    "# - Summary understanding (summary_understanding): 3 questions\n",
    "# - Active expression (active_expression): 4 questions\n",
    "# - Immediate acknowledgment (immediate_ack): 9 questions\n",
    "# \"\"\"\n",
    "\n",
    "# '''\n",
    "# - 問題1 のことばの読み方として最もよいものを、1・2・3・4から一つえらびなさい (kanji_reading): 1 question\n",
    "# - 問題2 このことばを漢字で書くとき、最もよいものを、１・２・３・４から一つえらびなさい (write_kanji): 1 question\n",
    "# - 問題3（　）に入れるのに最もよいものを、１・２・３・４から一つえらびなさい。 (word_meaning): 1 question\n",
    "# - 問題4 に意味が最も近いものを、１・２・３・４から一つえらびなさい。(synonym_substitution) 1 question\n",
    "# - 問題5 つぎのことばの使い方として最もよいものを、２・３・４から一つえらびなさい。 (word_usage): 1 question\n",
    "# - 問題6 つぎの文の（　　　）に入れるのに最もよいものを、１・２・３・４から一つえらびなさい。(sentence_grammar) 1 questions\n",
    "# - 問題7 つぎの文の ★ に入る最もよいものを、１・２・３・４から一つえらびなさい。(sentence_sort) 1 question\n",
    "# '''\n",
    "\n",
    "instruction = \"\"\"\n",
    "Section 1: Vocabulary and Grammar\n",
    "- 問題1 のことばの読み方として最もよいものを、1・2・3・4から一つえらびなさい (kanji_reading) 8 questions in total: 3 are nouns, 3 are verbs, 1 is an adjective, and 1 is an adverb\n",
    "- 問題2 このことばを漢字で書くとき、最もよいものを、１・２・３・４から一つえらびなさい (write_kanji) 6 questions in total: 2 nouns, 2 verbs, 1 adjective, and 1 adverb.\n",
    "- 問題3（　）に入れるのに最もよいものを、１・２・３・４から一つえらびなさい。 (word_meaning) 11 questions in total: 4 are nouns, 4 are verbs, 2 are adjectives, and 1 is an adverb.\n",
    "- 問題4 に意味が最も近いものを、１・２・３・４から一つえらびなさい。(synonym_substitution) 5 questions in total: 2 are nouns, 2 are verbs, and 1 is an adjective.\n",
    "- 問題5 つぎのことばの使い方として最もよいものを、２・３・４から一つえらびなさい。 (word_usage) 5 questions in total: 1 noun, 2 verbs, 1 adjective, and 1 adverb.\n",
    "- 問題6 つぎの文の（　　　）に入れるのに最もよいものを、１・２・３・４から一つえらびなさい。(sentence_grammar) 13 questions in total: 5 focus on verbs, 2 on adjectives, 2 on adverbs, and 4 on particles or conjunctions.\n",
    "- 問題7 つぎの文の ★ に入る最もよいものを、１・２・３・４から一つえらびなさい。(sentence_sort) 5 questions in total: 2 involve verbs, 1 noun, 1 adjective, and 1 particle or conjunction.\n",
    "- 問題8 つぎの文章を読んで、文章全体の内容を考えて、文中の 19 から 22 の中に入る最もよいものを、１・２・３・４から一つえらびなさい (sentence_structure) 1 question\n",
    "\n",
    "Section 2: Reading Comprehension\n",
    "- 問題9 つぎの(1)から(4)の文章を読んで、質問に答えなさい。答えは、1・2・3・4から最もよいものを一つえらびなさい (short_passage_read): 4 articles\n",
    "- Information retrieval (info_retrieval): 1 article\n",
    "\n",
    "Section 3: Listening Comprehension\n",
    "- Topic understanding (topic_understanding): 1 question\n",
    "\n",
    "\"\"\"\n",
    "\n",
    "\n",
    "direct_gen_outline_prompt = ChatPromptTemplate.from_messages(\n",
    "    [\n",
    "        (\n",
    "            \"system\",\n",
    "            f\"You are a japanese teacher. Your job is to write an outline for a JLPT Japanese-Language Proficiency Test N3 level exam paper. The topic word in outline must be presented in Japanese kana only. The topic word cannot be chosen twice. The complexity should be restricted to N3 level. The JLPT Japanese-Language Proficiency Test exam paper includes a mix of moderate and very difficult topics to accurately assess the test-taker's proficiency across different aspects of the language.\"\n",
    "            f\"First, evenly pick Japanese words used in different part of sentence from 'Vocabulary' for questions in Vocabulary and Grammar, ensuring 80 percent of very difficult words for topics. At Section 2 and 3, randomly choose topics in 'TopicList' for reading Comprehension and Listening Comprehension Sections, don't repeat to choose a same word or topic\"\n",
    "            f\"Second, you should abide by the provided exam instruction and decide the number of questions and content in the each Section.\"\n",
    "            f\"Finally, write the outline of the examination paper in japanese and provide question topics according to the instructions.\"\n",
    "            f\"Instruction: {instruction}\",\n",
    "        ),\n",
    "        (\"user\", \"TopicList: {topic_list}, Vocabulary: {vocab_dict}\"),\n",
    "    ]\n",
    ")\n"
   ],
   "metadata": {
    "collapsed": false,
    "ExecuteTime": {
     "end_time": "2025-06-13T11:05:28.091248100Z",
     "start_time": "2025-06-13T11:05:28.030405Z"
    }
   },
   "id": "e339295a858fb5f8",
   "execution_count": 18
  },
  {
   "cell_type": "markdown",
   "id": "fed5f032dadafac1",
   "metadata": {
    "collapsed": false,
    "id": "fed5f032dadafac1"
   },
   "source": [
    "## Data Strcuture"
   ]
  },
  {
   "cell_type": "code",
   "execution_count": 19,
   "id": "39329a71b16d2400",
   "metadata": {
    "id": "39329a71b16d2400",
    "ExecuteTime": {
     "end_time": "2025-06-13T11:05:28.091248100Z",
     "start_time": "2025-06-13T11:05:28.038037700Z"
    }
   },
   "outputs": [],
   "source": [
    "class QuestionTopic(BaseModel):\n",
    "    topic: str = Field(..., title=\"a vocabulary or topic hint for a question\")\n",
    "\n",
    "\n",
    "class Subsection(BaseModel):\n",
    "    subsection_title: str = Field(..., title=\"subsection English word in () only from the instruction\")\n",
    "    description: str = Field(..., title=\"giving the number of questions and requirements\")\n",
    "    question_topics: Optional[List[QuestionTopic]] = Field(\n",
    "        default_factory=list\n",
    "    )\n",
    "\n",
    "    @property\n",
    "    def as_str(self) -> str:\n",
    "        question_topics_str = \"\\n\".join(\n",
    "            f\"- **{qt.topic}**\" for qt in self.question_topics\n",
    "        )\n",
    "        return f\"### {self.subsection_title}\\n\\n{self.description}\\n\\n{question_topics_str}\".strip()\n",
    "\n",
    "class Section(BaseModel):\n",
    "    section_title: str = Field(..., title=\"Title of the section\")\n",
    "    subsections: Optional[List[Subsection]] = Field(\n",
    "        default_factory=list,\n",
    "        title=\"Titles and reason for each subsection of the JLPT exam page.\",\n",
    "    )\n",
    "\n",
    "    @property\n",
    "    def as_str(self) -> str:\n",
    "        subsections = \"\\n\\n\".join(\n",
    "            subsection.as_str for subsection in self.subsections or []\n",
    "        )\n",
    "        return f\"## {self.section_title}\\n\\n{subsections}\".strip()\n",
    "\n",
    "\n",
    "class Outline(BaseModel):\n",
    "    page_title: str = Field(..., title=\"Title of the JLPT exam page\")\n",
    "    sections: List[Section] = Field(\n",
    "        default_factory=list,\n",
    "        title=\"Titles and descriptions for each section of the JLPT exam paper.\",\n",
    "    )\n",
    "\n",
    "    @property\n",
    "    def as_str(self) -> str:\n",
    "        sections = \"\\n\\n\".join(section.as_str for section in self.sections)\n",
    "        return f\"# {self.page_title}\\n\\n{sections}\".strip()\n"
   ]
  },
  {
   "cell_type": "code",
   "execution_count": 20,
   "id": "d0730de416980c6",
   "metadata": {
    "id": "d0730de416980c6",
    "ExecuteTime": {
     "end_time": "2025-06-13T11:05:28.091248100Z",
     "start_time": "2025-06-13T11:05:28.049749Z"
    }
   },
   "outputs": [],
   "source": [
    "# Read the topics from a file, sort them, and print the sorted list\n",
    "def process_topics(file_path):\n",
    "    try:\n",
    "        # Read the file\n",
    "        with open(file_path, 'r', encoding='utf-8') as file:\n",
    "            topics = file.readlines()\n",
    "\n",
    "        # Remove any extra whitespace or newline characters\n",
    "        topics = [topic.strip() for topic in topics if topic.strip()]\n",
    "\n",
    "        # Shuffle the topics randomly\n",
    "        random.shuffle(topics)\n",
    "\n",
    "    except FileNotFoundError:\n",
    "        print(\"The file was not found. Please check the file path.\")\n",
    "    except Exception as e:\n",
    "        print(\"An error occurred:\", str(e))\n",
    "\n",
    "    except FileNotFoundError:\n",
    "        print(\"The file was not found. Please check the file path.\")\n",
    "    except Exception as e:\n",
    "        print(\"An error occurred:\", str(e))"
   ]
  },
  {
   "cell_type": "code",
   "execution_count": 21,
   "id": "8fc17fee14c40716",
   "metadata": {
    "id": "8fc17fee14c40716",
    "ExecuteTime": {
     "end_time": "2025-06-13T11:05:40.643886700Z",
     "start_time": "2025-06-13T11:05:28.057322500Z"
    }
   },
   "outputs": [
    {
     "name": "stderr",
     "output_type": "stream",
     "text": [
      "2025-06-13 19:05:40,554 - INFO - HTTP Request: POST https://ai-rolandaws880125ai409947751408.openai.azure.com/openai/deployments/gpt-4.1/chat/completions?api-version=2025-01-01-preview \"HTTP/1.1 200 OK\"\n"
     ]
    }
   ],
   "source": [
    "# Preload all topics from the file\n",
    "with open(\"Vocab/topics.txt\", \"r\", encoding=\"utf-8\") as file:\n",
    "    topics_list = [line.strip() for line in file]\n",
    "\n",
    "generate_outline_direct = direct_gen_outline_prompt | azure_llm.with_structured_output(Outline)\n",
    "initial_outline = generate_outline_direct.invoke({\"topic_list\": topics_list, \"vocab_dict\": vocab_dict})"
   ]
  },
  {
   "cell_type": "code",
   "execution_count": 22,
   "outputs": [
    {
     "data": {
      "text/plain": "Outline(page_title='日本語能力試験N3 模擬試験 問題用紙', sections=[Section(section_title='第1部 語彙・文法', subsections=[Subsection(subsection_title='kanji_reading', description='8問：名詞3問、動詞3問、形容詞1問、副詞1問。', question_topics=[QuestionTopic(topic='さいのう'), QuestionTopic(topic='くわえる'), QuestionTopic(topic='はたけ'), QuestionTopic(topic='とおりすぎる'), QuestionTopic(topic='はかる'), QuestionTopic(topic='うれる'), QuestionTopic(topic='せっきょくてき'), QuestionTopic(topic='まえもって')]), Subsection(subsection_title='write_kanji', description='6問：名詞2問、動詞2問、形容詞1問、副詞1問。', question_topics=[QuestionTopic(topic='ちしき'), QuestionTopic(topic='きゅうりょう'), QuestionTopic(topic='さそう'), QuestionTopic(topic='ふれる'), QuestionTopic(topic='せいけつ'), QuestionTopic(topic='のんびり')]), Subsection(subsection_title='word_meaning', description='11問：名詞4問、動詞4問、形容詞2問、副詞1問。', question_topics=[QuestionTopic(topic='ざいさん'), QuestionTopic(topic='しゅよう'), QuestionTopic(topic='きょうかしょ'), QuestionTopic(topic='かんれん'), QuestionTopic(topic='やぶる'), QuestionTopic(topic='みおくり'), QuestionTopic(topic='もとめる'), QuestionTopic(topic='ちらす'), QuestionTopic(topic='あらた'), QuestionTopic(topic='かわいらしい'), QuestionTopic(topic='きゅうに')]), Subsection(subsection_title='synonym_substitution', description='5問：名詞2問、動詞2問、形容詞1問。', question_topics=[QuestionTopic(topic='せいり'), QuestionTopic(topic='じょうきょう'), QuestionTopic(topic='さける'), QuestionTopic(topic='きにいる'), QuestionTopic(topic='たんじゅん')]), Subsection(subsection_title='word_usage', description='5問：名詞1問、動詞2問、形容詞1問、副詞1問。', question_topics=[QuestionTopic(topic='かいけい'), QuestionTopic(topic='しゅつじょう'), QuestionTopic(topic='まよう'), QuestionTopic(topic='かたい'), QuestionTopic(topic='つい')]), Subsection(subsection_title='sentence_grammar', description='13問：動詞5問、形容詞2問、副詞2問、助詞・接続詞4問。', question_topics=[QuestionTopic(topic='まもる'), QuestionTopic(topic='うつす'), QuestionTopic(topic='あたためる'), QuestionTopic(topic='かざり'), QuestionTopic(topic='まけ'), QuestionTopic(topic='きちょう'), QuestionTopic(topic='あきらか'), QuestionTopic(topic='まったく'), QuestionTopic(topic='あらゆる'), QuestionTopic(topic='けれども'), QuestionTopic(topic='しかし'), QuestionTopic(topic='それで'), QuestionTopic(topic='また')]), Subsection(subsection_title='sentence_sort', description='5問：動詞2問、名詞1問、形容詞1問、助詞・接続詞1問。', question_topics=[QuestionTopic(topic='つなぐ'), QuestionTopic(topic='しゅうかく'), QuestionTopic(topic='きほん'), QuestionTopic(topic='ゆうり'), QuestionTopic(topic='ので')]), Subsection(subsection_title='sentence_structure', description='1問：文章全体の内容を考えて空欄に最もよいものを選ぶ。', question_topics=[QuestionTopic(topic='じょうきょう')])]), Section(section_title='第2部 読解', subsections=[Subsection(subsection_title='short_passage_read', description='4問：短文読解。各文章のテーマは下記の通り。', question_topics=[QuestionTopic(topic='購入したい商品の説明'), QuestionTopic(topic='道を尋ねる'), QuestionTopic(topic='週末の予定について話す'), QuestionTopic(topic='健康とフィットネスについて話す')]), Subsection(subsection_title='info_retrieval', description='1問：情報検索。テーマは下記の通り。', question_topics=[QuestionTopic(topic='公共施設の利用方法について話す')])]), Section(section_title='第3部 聴解', subsections=[Subsection(subsection_title='topic_understanding', description='1問：話の主題を理解する問題。テーマは下記の通り。', question_topics=[QuestionTopic(topic='友人との日常会話')])])])"
     },
     "execution_count": 22,
     "metadata": {},
     "output_type": "execute_result"
    }
   ],
   "source": [
    "initial_outline"
   ],
   "metadata": {
    "collapsed": false,
    "ExecuteTime": {
     "end_time": "2025-06-13T11:05:40.644903400Z",
     "start_time": "2025-06-13T11:05:40.640338600Z"
    }
   },
   "id": "642ab45795c9eae4"
  },
  {
   "cell_type": "code",
   "execution_count": 23,
   "id": "d53b7d9ff86a5377",
   "metadata": {
    "colab": {
     "base_uri": "https://localhost:8080/",
     "height": 1000
    },
    "id": "d53b7d9ff86a5377",
    "outputId": "0e4ce018-377a-48d5-9b87-bed3eac897ac",
    "ExecuteTime": {
     "end_time": "2025-06-13T11:05:40.658246600Z",
     "start_time": "2025-06-13T11:05:40.643886700Z"
    }
   },
   "outputs": [
    {
     "data": {
      "text/plain": "<IPython.core.display.Markdown object>",
      "text/markdown": "# 日本語能力試験N3 模擬試験 問題用紙\n\n## 第1部 語彙・文法\n\n### kanji_reading\n\n8問：名詞3問、動詞3問、形容詞1問、副詞1問。\n\n- **さいのう**\n- **くわえる**\n- **はたけ**\n- **とおりすぎる**\n- **はかる**\n- **うれる**\n- **せっきょくてき**\n- **まえもって**\n\n### write_kanji\n\n6問：名詞2問、動詞2問、形容詞1問、副詞1問。\n\n- **ちしき**\n- **きゅうりょう**\n- **さそう**\n- **ふれる**\n- **せいけつ**\n- **のんびり**\n\n### word_meaning\n\n11問：名詞4問、動詞4問、形容詞2問、副詞1問。\n\n- **ざいさん**\n- **しゅよう**\n- **きょうかしょ**\n- **かんれん**\n- **やぶる**\n- **みおくり**\n- **もとめる**\n- **ちらす**\n- **あらた**\n- **かわいらしい**\n- **きゅうに**\n\n### synonym_substitution\n\n5問：名詞2問、動詞2問、形容詞1問。\n\n- **せいり**\n- **じょうきょう**\n- **さける**\n- **きにいる**\n- **たんじゅん**\n\n### word_usage\n\n5問：名詞1問、動詞2問、形容詞1問、副詞1問。\n\n- **かいけい**\n- **しゅつじょう**\n- **まよう**\n- **かたい**\n- **つい**\n\n### sentence_grammar\n\n13問：動詞5問、形容詞2問、副詞2問、助詞・接続詞4問。\n\n- **まもる**\n- **うつす**\n- **あたためる**\n- **かざり**\n- **まけ**\n- **きちょう**\n- **あきらか**\n- **まったく**\n- **あらゆる**\n- **けれども**\n- **しかし**\n- **それで**\n- **また**\n\n### sentence_sort\n\n5問：動詞2問、名詞1問、形容詞1問、助詞・接続詞1問。\n\n- **つなぐ**\n- **しゅうかく**\n- **きほん**\n- **ゆうり**\n- **ので**\n\n### sentence_structure\n\n1問：文章全体の内容を考えて空欄に最もよいものを選ぶ。\n\n- **じょうきょう**\n\n## 第2部 読解\n\n### short_passage_read\n\n4問：短文読解。各文章のテーマは下記の通り。\n\n- **購入したい商品の説明**\n- **道を尋ねる**\n- **週末の予定について話す**\n- **健康とフィットネスについて話す**\n\n### info_retrieval\n\n1問：情報検索。テーマは下記の通り。\n\n- **公共施設の利用方法について話す**\n\n## 第3部 聴解\n\n### topic_understanding\n\n1問：話の主題を理解する問題。テーマは下記の通り。\n\n- **友人との日常会話**"
     },
     "metadata": {},
     "output_type": "display_data"
    }
   ],
   "source": [
    "from IPython.display import display, Markdown, HTML\n",
    "display(Markdown(initial_outline.as_str))"
   ]
  },
  {
   "cell_type": "code",
   "execution_count": 24,
   "id": "5c2b7e675e5302a8",
   "metadata": {
    "colab": {
     "base_uri": "https://localhost:8080/"
    },
    "id": "5c2b7e675e5302a8",
    "outputId": "657ff47f-94af-4bd5-8035-03239fd42380",
    "ExecuteTime": {
     "end_time": "2025-06-13T11:05:40.741128300Z",
     "start_time": "2025-06-13T11:05:40.660250800Z"
    }
   },
   "outputs": [
    {
     "name": "stderr",
     "output_type": "stream",
     "text": [
      "Processing 第1部 語彙・文法:   0%|          | 0/8 [00:00<?, ?it/s]\n"
     ]
    },
    {
     "ename": "IndexError",
     "evalue": "list index out of range",
     "output_type": "error",
     "traceback": [
      "\u001B[31m---------------------------------------------------------------------------\u001B[39m",
      "\u001B[31mIndexError\u001B[39m                                Traceback (most recent call last)",
      "\u001B[36mCell\u001B[39m\u001B[36m \u001B[39m\u001B[32mIn[24]\u001B[39m\u001B[32m, line 13\u001B[39m\n\u001B[32m     10\u001B[39m output_section = {\u001B[33m'\u001B[39m\u001B[33msection_title\u001B[39m\u001B[33m'\u001B[39m: section[\u001B[33m'\u001B[39m\u001B[33msection_title\u001B[39m\u001B[33m'\u001B[39m], \u001B[33m'\u001B[39m\u001B[33msubsections\u001B[39m\u001B[33m'\u001B[39m: []}\n\u001B[32m     12\u001B[39m \u001B[38;5;28;01mfor\u001B[39;00m subsection \u001B[38;5;129;01min\u001B[39;00m tqdm(section[\u001B[33m'\u001B[39m\u001B[33msubsections\u001B[39m\u001B[33m'\u001B[39m], desc=\u001B[33mf\u001B[39m\u001B[33m\"\u001B[39m\u001B[33mProcessing \u001B[39m\u001B[38;5;132;01m{\u001B[39;00msection[\u001B[33m'\u001B[39m\u001B[33msection_title\u001B[39m\u001B[33m'\u001B[39m]\u001B[38;5;132;01m}\u001B[39;00m\u001B[33m\"\u001B[39m):\n\u001B[32m---> \u001B[39m\u001B[32m13\u001B[39m     function_name = \u001B[43mre\u001B[49m\u001B[43m.\u001B[49m\u001B[43mfindall\u001B[49m\u001B[43m(\u001B[49m\u001B[33;43mr\u001B[39;49m\u001B[33;43m'\u001B[39;49m\u001B[33;43m\\\u001B[39;49m\u001B[33;43m((.*?)\u001B[39;49m\u001B[33;43m\\\u001B[39;49m\u001B[33;43m)\u001B[39;49m\u001B[33;43m'\u001B[39;49m\u001B[43m,\u001B[49m\u001B[43m \u001B[49m\u001B[43msubsection\u001B[49m\u001B[43m[\u001B[49m\u001B[33;43m'\u001B[39;49m\u001B[33;43msubsection_title\u001B[39;49m\u001B[33;43m'\u001B[39;49m\u001B[43m]\u001B[49m\u001B[43m)\u001B[49m\u001B[43m[\u001B[49m\u001B[32;43m0\u001B[39;49m\u001B[43m]\u001B[49m\n\u001B[32m     15\u001B[39m     questions = subsection[\u001B[33m'\u001B[39m\u001B[33mquestion_topics\u001B[39m\u001B[33m'\u001B[39m]\n\u001B[32m     17\u001B[39m     \u001B[38;5;28;01mfor\u001B[39;00m question \u001B[38;5;129;01min\u001B[39;00m tqdm(questions, desc=\u001B[33mf\u001B[39m\u001B[33m\"\u001B[39m\u001B[33mProcessing \u001B[39m\u001B[38;5;132;01m{\u001B[39;00msubsection[\u001B[33m'\u001B[39m\u001B[33msubsection_title\u001B[39m\u001B[33m'\u001B[39m]\u001B[38;5;132;01m}\u001B[39;00m\u001B[33m\"\u001B[39m):\n",
      "\u001B[31mIndexError\u001B[39m: list index out of range"
     ]
    }
   ],
   "source": [
    "import re\n",
    "outliner_json = initial_outline.model_dump_json()\n",
    "data = json.loads(outliner_json)  # Replace with your actual JSON data\n",
    "\n",
    "start_time = time.time()\n",
    "\n",
    "output_data = {'sections': []}\n",
    "\n",
    "for section in data['sections']:\n",
    "    output_section = {'section_title': section['section_title'], 'subsections': []}\n",
    "\n",
    "    for subsection in tqdm(section['subsections'], desc=f\"Processing {section['section_title']}\"):\n",
    "        function_name = re.findall(r'\\((.*?)\\)', subsection['subsection_title'])[0]\n",
    "\n",
    "        questions = subsection['question_topics']\n",
    "\n",
    "        for question in tqdm(questions, desc=f\"Processing {subsection['subsection_title']}\"):\n",
    "            handler = ExamTaskHandler()\n",
    "            func = getattr(handler, function_name, None)\n",
    "\n",
    "            if func:\n",
    "                max_attempts = 2\n",
    "                original_topic = question['topic']  # Optional: Track original topic\n",
    "                for attempt in range(max_attempts):\n",
    "                    try:\n",
    "                        result = func(question['topic'])\n",
    "                        question['result'] = result\n",
    "                        break  # Exit on success\n",
    "                    except Exception as e:\n",
    "                        if attempt < max_attempts - 1:\n",
    "                            # Replace topic and retry\n",
    "                            question['topic'] = random.choice(topics_list)\n",
    "                        else:\n",
    "                            question['result'] = f\"Error after {max_attempts} attempts: {str(e)}\"\n",
    "            else:\n",
    "                question['result'] = f\"Method {function_name} not found\"\n",
    "\n",
    "        output_subsection = {\n",
    "            'subsection_title': subsection['subsection_title'],\n",
    "            'description': subsection['description'],\n",
    "            'question_topics': questions\n",
    "        }\n",
    "        output_section['subsections'].append(output_subsection)\n",
    "\n",
    "    output_data['sections'].append(output_section)\n",
    "\n",
    "# End the timer\n",
    "end_time = time.time()\n",
    "\n",
    "# Calculate the total execution time\n",
    "execution_time = end_time - start_time\n",
    "\n",
    "print(f\"Total execution time: {execution_time:.2f} seconds\")"
   ]
  },
  {
   "cell_type": "code",
   "execution_count": null,
   "id": "43e411616ee939b1",
   "metadata": {
    "colab": {
     "base_uri": "https://localhost:8080/",
     "height": 1000
    },
    "id": "43e411616ee939b1",
    "outputId": "97cc7eef-f8ae-4401-ef8b-022c706f112c",
    "ExecuteTime": {
     "start_time": "2025-06-13T11:05:40.709733200Z"
    }
   },
   "outputs": [],
   "source": [
    "# yaml_str = yaml.dump(output_data, allow_unicode=True, sort_keys=False, default_flow_style=False)\n",
    "# # Display as formatted YAML\n",
    "# display(Markdown(yaml_str))"
   ]
  },
  {
   "cell_type": "code",
   "execution_count": null,
   "id": "307398e88bf20dc3",
   "metadata": {
    "colab": {
     "base_uri": "https://localhost:8080/"
    },
    "id": "307398e88bf20dc3",
    "outputId": "4ff94084-e0f5-45ad-ee7b-bca01723dd10",
    "ExecuteTime": {
     "start_time": "2025-06-13T11:05:40.709733200Z"
    }
   },
   "outputs": [],
   "source": [
    "output_data"
   ]
  },
  {
   "cell_type": "code",
   "execution_count": null,
   "id": "aa98a476d1ded815",
   "metadata": {
    "id": "aa98a476d1ded815",
    "ExecuteTime": {
     "start_time": "2025-06-13T11:05:40.709733200Z"
    }
   },
   "outputs": [],
   "source": [
    "def render_to_html(sections):\n",
    "    html = '<html><body style=\"text-align: left;\">\\n'\n",
    "    for section in sections:\n",
    "        html += f'<h1>{section.get(\"section_title\", \"\")}</h1>\\n'\n",
    "        for subsection in section.get(\"subsections\", []):\n",
    "            html += f'<h2>{subsection.get(\"subsection_title\", \"\")}</h2>\\n'\n",
    "            if \"description\" in subsection:\n",
    "                html += f'<p>{subsection[\"description\"]}</p>\\n'\n",
    "            for idx, qtopic in enumerate(subsection.get(\"question_topics\", []), 1):\n",
    "                result = qtopic.get(\"result\", {})\n",
    "                if isinstance(result, dict):\n",
    "                    if \"html_article\" in result:\n",
    "                        html += result[\"html_article\"] + \"\\n\"\n",
    "                    if \"html_question\" in result:\n",
    "                        html += '<div>\\n'\n",
    "                        # html += f'<div style=\"display: flex; align-items: center;\"><div>{idx}.  </div>{result[\"html_question\"]}</div>\\n'\n",
    "                        html += f'<p><strong>{idx}. </strong>{result[\"html_question\"]}</p>'\n",
    "                        if \"choices\" in result:\n",
    "                            correct = result.get(\"correct_answer\", -1)\n",
    "                            html += '<ul>\\n'\n",
    "                            for idx, choice in enumerate(result[\"choices\"], 1):\n",
    "                                if idx == correct:\n",
    "                                    html += f\"<li>{idx}. <b>{choice}</b> <span style='color:green;'>(correct)</span></li>\\n\"\n",
    "                                else:\n",
    "                                    html += f\"<li>{idx}. {choice}</li>\\n\"\n",
    "                            html += '</ul>\\n'\n",
    "                        html += '</div>\\n'\n",
    "                    if \"questions\" in result and isinstance(result[\"questions\"], list):\n",
    "                        for q in result[\"questions\"]:\n",
    "                            html += f'<p><strong>Q: {q[\"html_question\"]}</strong></p>\\n'\n",
    "                            if \"choices\" in q:\n",
    "                                correct = q.get(\"correct_answer\", -1)\n",
    "                                html += '<ul>\\n'\n",
    "                                for idx, choice in enumerate(q[\"choices\"], 1):\n",
    "                                    if idx == correct:\n",
    "                                        html += f\"<li><b>{choice}</b> <span style='color:green;'>(correct)</span></li>\\n\"\n",
    "                                    else:\n",
    "                                        html += f\"<li>{choice}</li>\\n\"\n",
    "                                html += '</ul>\\n'\n",
    "                            if \"explanation\" in q:\n",
    "                                html += f'<p><em>Explanation: {q[\"explanation\"]}</em></p>\\n'\n",
    "                    if \"questions\" in result and isinstance(result[\"questions\"], dict):\n",
    "                        q = result[\"questions\"]\n",
    "                        html += f'<p><strong>Q: {q[\"html_question\"]}</strong></p>\\n'\n",
    "                        if \"choices\" in q:\n",
    "                            correct = q.get(\"correct_answer\", -1)\n",
    "                            html += '<ul>\\n'\n",
    "                            for idx, choice in enumerate(q[\"choices\"], 1):\n",
    "                                if idx == correct:\n",
    "                                    html += f\"<li><b>{choice}</b> <span style='color:green;'>(correct)</span></li>\\n\"\n",
    "                                else:\n",
    "                                    html += f\"<li>{choice}</li>\\n\"\n",
    "                            html += '</ul>\\n'\n",
    "                        if \"explanation\" in q:\n",
    "                            html += f'<p><em>Explanation: {q[\"explanation\"]}</em></p>\\n'\n",
    "    html += '</body></html>'\n",
    "    return html"
   ]
  },
  {
   "cell_type": "code",
   "execution_count": null,
   "id": "e7a5e4b5084d049c",
   "metadata": {
    "colab": {
     "base_uri": "https://localhost:8080/",
     "height": 1000
    },
    "id": "e7a5e4b5084d049c",
    "outputId": "31c9880e-fc8f-46f9-9a24-41d77a425304",
    "ExecuteTime": {
     "start_time": "2025-06-13T11:05:40.709733200Z"
    }
   },
   "outputs": [],
   "source": [
    "html_output = render_to_html(output_data['sections'])\n",
    "display(HTML(html_output))"
   ]
  },
  {
   "cell_type": "code",
   "execution_count": null,
   "id": "330a0817d72fe5e",
   "metadata": {
    "id": "330a0817d72fe5e",
    "ExecuteTime": {
     "start_time": "2025-06-13T11:05:40.709733200Z"
    }
   },
   "outputs": [],
   "source": [
    "timestamp = datetime.datetime.now().strftime(\"%Y%m%d_%H%M%S\")\n",
    "output_folder = \"output\"\n",
    "html_filename = f\"JLPT_{timestamp}.html\"\n",
    "html_filepath = os.path.join(output_folder,html_filename)\n",
    "with open(html_filepath, \"w\", encoding=\"utf-8\") as file:\n",
    "    file.write(html_output)"
   ]
  },
  {
   "cell_type": "code",
   "execution_count": null,
   "id": "c02c02ec6620993d",
   "metadata": {
    "id": "c02c02ec6620993d",
    "ExecuteTime": {
     "start_time": "2025-06-13T11:05:40.709733200Z"
    }
   },
   "outputs": [],
   "source": [
    "# Create a Document object\n",
    "document = Document()\n",
    "# Add a section to the document\n",
    "section = document.AddSection()\n",
    "# Set the page margins to 72 points (72 points = 1 inch)\n",
    "section.PageSetup.Margins.All = 72\n",
    "\n",
    "# Add a paragraph to the section\n",
    "paragraph = section.AddParagraph()\n",
    "\n",
    "# Add the HTML string to the paragraph\n",
    "paragraph.AppendHTML(html_output)\n",
    "\n",
    "doc_filename = f\"JLPT_{timestamp}.docx\"\n",
    "doc_filepath = os.path.join(output_folder,doc_filename)\n",
    "# Save the result document to a DOCX file\n",
    "document.SaveToFile(doc_filepath, FileFormat.Docx2016)\n",
    "# Or save the result document to a DOC file\n",
    "# document.SaveToFile(\"HtmlStringToDoc.doc\", FileFormat.Doc)\n",
    "\n",
    "document.Close()"
   ]
  },
  {
   "cell_type": "code",
   "outputs": [],
   "source": [
    "import paramiko\n",
    "\n",
    "# Load the private key from the environment variable\n",
    "# Parse the private key\n",
    "key_file_path = 'temp_id_ed25519'\n",
    "pkey = paramiko.Ed25519Key.from_private_key_file(key_file_path)\n",
    "\n",
    "# SSH and SFTP parameters\n",
    "hostname = \"58.246.203.10\"\n",
    "username = \"hwu\"\n",
    "port = 22\n",
    "\n",
    "remote_html_file_path = f\"/var/www/html/{html_filename}\"\n",
    "remote_doc_file_path = f\"/var/www/html/{doc_filename}\"\n",
    "\n",
    "# Establish SSH connection\n",
    "ssh = paramiko.SSHClient()\n",
    "ssh.set_missing_host_key_policy(paramiko.AutoAddPolicy())\n",
    "ssh.connect(hostname=hostname, port=port, username=username, pkey=pkey)\n",
    "\n",
    "# Transfer the file\n",
    "sftp = ssh.open_sftp()\n",
    "sftp.put(html_filepath, remote_html_file_path)\n",
    "print(f\"File transferred to {hostname}:{remote_html_file_path}\")\n",
    "sftp.put(doc_filepath, remote_doc_file_path)\n",
    "print(f\"File transferred to {hostname}:{remote_doc_file_path}\")\n",
    "\n",
    "# Clean up\n",
    "sftp.close()\n",
    "ssh.close()"
   ],
   "metadata": {
    "collapsed": false,
    "ExecuteTime": {
     "start_time": "2025-06-13T11:05:40.709733200Z"
    }
   },
   "id": "76d7f92a309995e1",
   "execution_count": null
  },
  {
   "cell_type": "code",
   "execution_count": null,
   "outputs": [],
   "source": [
    " "
   ],
   "metadata": {
    "collapsed": false,
    "ExecuteTime": {
     "start_time": "2025-06-13T11:05:40.709733200Z"
    }
   },
   "id": "32ac40aec57a40a4"
  }
 ],
 "metadata": {
  "colab": {
   "include_colab_link": true,
   "provenance": []
  },
  "kernelspec": {
   "display_name": ".venv",
   "language": "python",
   "name": "python3"
  },
  "language_info": {
   "codemirror_mode": {
    "name": "ipython",
    "version": 3
   },
   "file_extension": ".py",
   "mimetype": "text/x-python",
   "name": "python",
   "nbconvert_exporter": "python",
   "pygments_lexer": "ipython3",
   "version": "3.13.2"
  }
 },
 "nbformat": 4,
 "nbformat_minor": 5
}
