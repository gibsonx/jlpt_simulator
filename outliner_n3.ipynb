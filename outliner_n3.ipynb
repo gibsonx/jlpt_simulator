{
 "cells": [
  {
   "cell_type": "markdown",
   "id": "f94c1f8ee4d0b085",
   "metadata": {
    "colab_type": "text",
    "id": "view-in-github"
   },
   "source": [
    "<a href=\"https://colab.research.google.com/github/gibsonx/jlpt_simulator/blob/dev/graphs/n3/outliner.ipynb\" target=\"_parent\"><img src=\"https://colab.research.google.com/assets/colab-badge.svg\" alt=\"Open In Colab\"/></a>"
   ]
  },
  {
   "cell_type": "code",
   "execution_count": 1,
   "id": "712d86d2ae0847a0",
   "metadata": {
    "colab": {
     "base_uri": "https://localhost:8080/"
    },
    "id": "712d86d2ae0847a0",
    "outputId": "0b69e343-ba35-4773-acca-92da0492bdba",
    "ExecuteTime": {
     "end_time": "2025-06-02T13:10:13.125402700Z",
     "start_time": "2025-06-02T13:10:13.020527100Z"
    }
   },
   "outputs": [
    {
     "name": "stdout",
     "output_type": "stream",
     "text": [
      "Not running on CoLab\n"
     ]
    }
   ],
   "source": [
    "if 'google.colab' in str(get_ipython()):\n",
    "    !git clone https://github.com/gibsonx/jlpt_simulator.git\n",
    "    %cd jlpt_simulator\n",
    "    !git checkout dev\n",
    "    \n",
    "    !apt-get install python3-dev graphviz libgraphviz-dev pkg-config\n",
    "    !pip install -r requirements.txt\n",
    "else:\n",
    "  print('Not running on CoLab')\n"
   ]
  },
  {
   "cell_type": "code",
   "execution_count": 2,
   "id": "7f526a68a7e73a65",
   "metadata": {
    "colab": {
     "base_uri": "https://localhost:8080/"
    },
    "id": "7f526a68a7e73a65",
    "outputId": "e3e7c3a2-bde6-4f65-cf4c-8ddd97998d8f",
    "ExecuteTime": {
     "end_time": "2025-06-02T13:10:15.565171400Z",
     "start_time": "2025-06-02T13:10:13.028381100Z"
    }
   },
   "outputs": [
    {
     "data": {
      "text/plain": "True"
     },
     "execution_count": 2,
     "metadata": {},
     "output_type": "execute_result"
    }
   ],
   "source": [
    "import json\n",
    "import logging\n",
    "import random\n",
    "import time\n",
    "from spire.doc import *\n",
    "from spire.doc.common import *\n",
    "import pandas as pd\n",
    "import yaml\n",
    "from tqdm import tqdm\n",
    "\n",
    "# from langchain_community.embeddings import XinferenceEmbeddings\n",
    "from libs.LLMs import *\n",
    "import datetime\n",
    "logging.basicConfig(level=logging.INFO, format='%(asctime)s - %(levelname)s - %(message)s')\n",
    "\n",
    "from graphs.n3.ExamTaskHandler import ExamTaskHandler\n",
    "load_dotenv()"
   ]
  },
  {
   "cell_type": "code",
   "outputs": [],
   "source": [
    "def collect_vocabulary(file_path):\n",
    "    # Read the CSV file\n",
    "    data = pd.read_csv(file_path)\n",
    "    # Shuffle the rows and reset the index\n",
    "    words = data.iloc[:, :2].sample(frac=1).reset_index(drop=True)\n",
    "    # Extract the second column (values) and convert to a single-line string\n",
    "    vocab_string = ','.join(words.iloc[:, 1].astype(str).tolist())\n",
    "    return vocab_string"
   ],
   "metadata": {
    "collapsed": false,
    "ExecuteTime": {
     "end_time": "2025-06-02T13:10:15.565171400Z",
     "start_time": "2025-06-02T13:10:15.559368500Z"
    }
   },
   "id": "d159b3254277b376",
   "execution_count": 3
  },
  {
   "cell_type": "code",
   "execution_count": 4,
   "id": "initial_id",
   "metadata": {
    "id": "initial_id",
    "ExecuteTime": {
     "end_time": "2025-06-02T13:10:15.578605200Z",
     "start_time": "2025-06-02T13:10:15.563165700Z"
    }
   },
   "outputs": [],
   "source": [
    "# Import N3 Vocabulary\n",
    "file_path = 'Vocab/n3.csv'\n",
    "# Display the content of the CSV file\n",
    "vocab_dict = collect_vocabulary(file_path)\n",
    "with open(\"Vocab/topics.txt\", \"r\", encoding=\"utf-8\") as file:\n",
    "    topics_list = [line.strip() for line in file]"
   ]
  },
  {
   "cell_type": "code",
   "outputs": [
    {
     "data": {
      "text/plain": "'しゅだん,いいん,かがやく,ふそく,かんする,もじ,のき,じゅうたい,びん,ぎむ,よん,ひひょう,こくご,けいじ,けしょう,とどく,こううん,たまる,そしき,ちょうさ,じさつ,あいず,じじつ,りこん,てんこう,しばい,かもく,にんき,いずみ,きのう,みりょく,せんこう,くべつ,おい,さんこう,かける,むす,つれ,し,いま,ねんれい,きず,こい,くだる,かぐ,きゅうそく,かげ,いどう,あい,ふか,はた,か,ほしょう,しょさい,どうし,そろえる,もうふ,このみ,いわう,ぜいたく,がん,まかせる,とし,ちしき,しょくぶつ,いわ,かんそう,きほん,す,すう,ちゅうもく,かつやく,かかえる,けってん,つち,しゅう,うしなう,すいじゅん,しんぱん,つける,せいげん,おくれ,へる,むく,あかり,てつや,ゆうこう,ここ,ちがい,ちょくせつ,いじわる,こうふく,め,たいら,ぎん,しゅうきょう,とうひょう,ふたご,したがう,つみ,しぜん,ちょうせん,ほう,まご,おとる,たんなる,やとう,りそう,はくぶつかん,あらし,みやげ,いっぽう,わる,ごがく,いんさつ,ほほえむ,ころぶ,たいしょう,おそらく,くむ,おまえ,たすける,じしん,じこく,れんそう,しょうひん,じつりょく,ほぼ,まぜる,たんじゅん,しんゆう,あける,へいわ,ふんいき,しんがく,かかく,つよめる,もうしわけ,とびだす,のうか,む,はじまり,もと,けんちく,ぜい,ぐんたい,おもいで,やね,する,としつき,じゅよう,ぬく,ぼう,しょう,そだつ,さいこう,へんこう,ようそ,さっきょく,かんせい,てきよう,らく,きんせん,しゅうかく,こうしゃ,じんしゅ,すれちがう,く,ぎょうぎ,めいし,しんよう,かくだい,わかれ,ねんかん,きんし,いためる,とじる,あらわす,ちゅう,かく,うつる,ぞう,なんで,てき,やく,くんれん,じゅうし,なべ,まざる,たいよう,さんそ,えいせい,わずか,こい,いとこ,じょし,さべつ,とく,にんげん,そで,おんど,うまれ,なみだ,すみ,ならす,おう,くわえる,くつう,なし,たに,いがい,おろす,れっしゃ,たがい,しょくもつ,ことわる,おそれる,うつる,ほね,あん,げんきん,おう,とうよう,もよう,いだい,そくど,たんじょう,かくじつ,ちる,ゆか,ようてん,うわさ,しゅうり,きり,たいする,けんかい,まく,かたづく,ようじん,しきゅう,とばす,おか,しゅっしん,ほんもの,とおりすぎる,みとめる,かいがい,まざる,だます,きんぞく,こうさい,かくにん,れんぞく,つぐ,あき,まもる,ひてい,しきゅう,せいり,こくばん,まつ,くむ,そうぞく,しゅるい,りく,とい,さく,とくちょう,うたがう,できごと,あずける,けいじ,せきにん,かける,ぜいきん,さす,でんし,うばう,しゅうちゅう,ふやす,つうこう,かしこい,かた,うらぎる,つうしん,いだく,しぼう,はあ (かん),じょうし,ゆたか,まじる,おめにかかる,おせん,で,かさなる,やく,ぜんしん,ふたたび,かみのけ,きんゆう,おとこのひと,いっち,まさか,つよまる,のうぎょう,きゅうけい,いち,じょじょに,あわれ,びょうどう,くろう,しょうばい,かぶる,あたためる,つむ,のう,たつ,さら,ふくそう,こな,ぬの,めんせつ,ぐん,ふくめる,びみょう,かんげい,す,ず,はかる,こきゅう,はなす,めいじる,れいせい,いらい,い,ちゅうし,おそわる,ひょうめん,わき,かいてき,しげん,めし,みおくり,くさり,ほどう,の,はかる,どうじ,かり,かり,かっき,きょうかしょ,はね,げんしょう,さます,おしゃれ,かん,た,ものごと,どうりょう,たたむ,ひょうばん,はえる,げんざい,むし,こうはい,そう,にあう,あたり,そまつ,まく,ていあん,かさい,じみ,きょうつう,たいかい,しょうじる,たんとう,ようい,ぜんこく,かかり,せつ,い,きんえん,さす,とうじ,つい,しはらう,ふやす,ようす,かぐ,ずつう,りつ,よせる,はなれる,つうか,しんけん,じょうきゃく,きぼう,しも,がい,オフィス,こうえん,かざり,ゆでる,とく,あらそう,しょくりょう,しゅっぱん,はぶく,どうし,にゅうじょう,じじょう,ながす,はし,せんきょ,きこう,かん,よそう,かんじ,ひがい,なんでも,ほうこく,あたえる,あぶら,えん,いちじ,すいせん,せっけい,そば,あやまり,たつ,かがく,ぜんいん,のぼる,ひょう,ぎいん,やど,はかる,なんとか,はり,けつろん,さいしゅう,のびる,かんしゃ,したしい,ばいう,きょうぎ,かち,ほうもん,あげる,てんこう,れいぎ,ふで,かよう,きゅう,しんらい,こす,じかに,かし,かたい,かたる,しゃっきん,ねんかん,じき,きげん,こうそく,ふし,べんとう,せい,かんせい,はったつ,かせぐ,しらせ,あわ,また,ものがたり,たいざい,ねったい,しんこう,ていこう,せいぜい,こうせい,はい,かえる,ぎし,うむ,お,ていき,りゅうがく,ぎろん,ぶぶん,ふじん,おく,くるう,かわ,にぎる,せいこう,なる,れい,いっか,ながれ,から,ふくむ,なかみ,きんちょう,きかん,さいちゅう,くらす,こっか,かたな,おんだん,たて,めいし,ぎもん,うちゅう,かぎる,しよう,きかん,せつやく,ます,せいちょう,ふる,たま,ば,じどう,けいき,ろうじん,やとう,こうけい,ことわざ,ゆき,こくみん,ばめん,ふく,たいおん,きょだい,さい,ふへい,とじる,すくう,ねがう,やめる,い,さく,けっかん,ごく,こうしゃ,かたい,さる,すすめる,けんぽう,ぎかい,さんか,ははおや,そうぞう,かわ,らい～,だいひょう,こうけん,しかく,じつに,みやこ,しな,ちょきん,かつよう,きょうじゅ,よなか,はん,こうか,おだやか,かね,しんごう,さいてい,めくる,えいぎょう,けいこく,たば,してん,ぐたい,はんざい,きげん,はさん,くさる,くさい,こっせつ,どくしん,がいこう,ごうけい,しりあい,する,うむ,つぐ,じゅうみん,ぶん,みょう,けんせつ,あずかる,ぜん,つける,せいき,ちえ,しんじる,ゆうこう,もえる,むすぶ,ぶ,にっこう,なにか,おうえん,てつがく,あきらか,かんじる,かつどう,ほうそう,へらす,おさめる,たま,しょうねん,われわれ,うま,うめ,げんだい,けん,じこ,いち,いねむり,ばくだい,ほり,きょうちょう,あいて,ごうか,やちん,つうじる,げんご,つく,こえる,じゅんばん,もとめる,じゅうたい,せいじん,した,うつ,じっけん,さける,かんりょう,しつぎょう,けむり,ぶつ,ほんにん,よあけ,つゆ,すむ,ゆかい,のばす,そんざい,そうさ,そんちょう,のう,さからう,しゅと,ふくろ,ゆうじょう,れいがい,きおん,じょうしき,たく,ほうこう,まちがい,だい,そうじゅう,けいたい,まけ,ゆうき,かなしむ,おさめる,よわめる,とう,つく,せいぶつ,きじ,ひとしい,せい,かたづけ,おうじ,ひづけ,はっぴょう,ことなる,こおる,けっこう,さぎょう,こうか,はやす,しんちょう,とも,あつまり,せんこう,てきせつ,としより,しゅんかん,ぞうか,よろこび,ただちに,おひる,かんかく,ほしょう,こす,みかた,たいど,あいじょう,はい,こぜに,こんなん,だいめい,しっけ,やぶれる,かみ,よめ,ぎちょう,かえる,せいきゅう,いき,しゅふ,せいき,してん,もくひょう,しんせん,すみ,きょうちょう,じどう,めんきょ,まるで,さく,こんにち,わだい,ちょしゃ,みる,のち,ついに,じょうたつ,おに,まなぶ,のせる,こくせき,げんじょう,きゅうか,かんかく,わらい,おもわず,わるくち,しょくひん,じょうほう,さんせい,おうだん,しょくたく,はだ,しぼう,いんたい,がくもん,しろ,ちゅうがく,かんきょう,きれる,うまる,ジェットき,たかまる,ともに,いき,しきりに,のぼる,よわまる,ねがい,きろく,きょうふ,けっきょく,うらやましい,しはらい,ぶ,うけとる,しゅうしょく,はね,かいぜん,きれ,たいし,なれる,はっこう,ほこり,かんりょう,たい,おいつく,じょうきょう,たま,いぜん,え,かいし,しょるい,すいせん,じまん,あたり,ぐうぜん,がくれき,いた,ちか,ひろまる,ゆうき,かみなり,かんしん,こうそく,そんがい,せっきょくてき,うごかす,きゅうじょ,ぜつめつ,にる,きぎょう,ほのお,まったく,けんこう,およぎ,のぞく,なかま,ひとごみ,こんらん,ながめ,じょう,かくご,ぶき,けいい,むしろ,しゅよう,よぶん,なかみ,ささえる,いっしゅん,ぶんめい,びん,よき,とける,りょう,ちょうき,おしゃべり,ていど,しゅつじょう,そうぞう,つうか,くん,いちば,ほとけ,ぐん,いたる,かえる,おそろしい,かいいん,きかん,すえ,ご,きゅうりょう,たいせん,みらい,がまん,てきど,きねん,じゅうよう,ようきゅう,けんさ,じゅう,まね,しょうご,しょうりゃく,わん,つなげる,か,たちあがる,み,えんじょ,かおり,しょくよく,けいい,ちこく,こうかん,かんれん,たよる,しゅうい,ひよう,きじ,ばくはつ,かてい,そうさ,ほか,てきする,はなす,ばか,じき,かわかす,ただ,つづき,たいしょう,おうさま,にがて,へんか,さいのう,いんよう,よす,あてる,てつ,しかく,くう,まんいち,ためる,とら,かん,せんざい,てんねん,はなれる,やくわり,なみ,けいえい,たつ,けっか,たっする,このむ,ちちおや,りかい,むだ,はやる,きゅう,くわえる,きん,しんこう,ごかい,きょうりょく,けんとう,ちじ,ける,しょうぼう,やっかい,ちゅうこ,ぶたい,まっか,もんく,のびる,しゅちょう,かわいらしい,ふえ,かける,ちのう,なっとく,がか,せめる,けいさん,たんい,ふうふ,かわく,さくひん,まねく,たいき,けっせき,ばったり,なまける,よる,さほう,だいぶぶん,かいしゃく,せつび,つめる,あらわす,ろんそう,めったに,ほんと,ゆう,きんにく,ふく,かんじょう,まめ,むね,さばく,かんこう,しょうがくきん,える,じんるい,さけぶ,かんり,はい,ろんぶん,えん,さゆう,せきたん,きらう,じょうけん,おうじる,しつど,そんけい,こうふん,かのう,いはん,はば,のばす,こうへい,つつみ,ちゅう,がっき,ひとりひとり,ね,かいふく,ひとこと,ひも,かこむ,なぞ,だんし,しゅしょう,おさめる,きょうきゅう,かなり,はかる,かくす,つたわる,とう,ぬける,ちゃ,だく,かしゅ,はかせ,まずしい,うさぎ,たった,くらい,せつ,はか,にえる,ろんじる,ただ,うんてん,とうあん,ようするに,かんしん,じつは,じょしゅ,たび,こくふく,しんこう,いらい,なる,はげしい,しつ,たとえ,さ,けいたい,こと,さめる,ひたい,じたい,とう,くるしい,てま,どうし,せい,きょうりょく,どうよう,うお,しょうひ,あら,あたたまる,にっちゅう,さす,ちゅうしゃ,よぼう,きゅうげき,こうくう,くむ,おん,りゅうこう,かだい,かんさつ,そうおん,つかむ,きみょう,つく,たび,たより,おん,ちゅうしょく,あらた,おおう,じょうだん,ほご,あくしゅ,ためし,たたかう,はんばい,ちく,こきょう,しょり,ちりょう,みょうごにち,のせる,すむ,ぐん,はんこう,どく,たいいく,ぜん,かんこう,すでに,ひろがる,しょうひん,せいねん,こづつみ,いまに,もちあげる,ある,こむぎ,おび,いじょう,さけ,くせ,せめる,のべる,たま,とおす,うず,はいゆう,じょうとう,こしょう,うる,だいり,さんか,うめる,しょうじょう,てつだい,あわてる,かこ,べつに,こじん,いどう,しまい,ほえる,なん,はら,ち,あいする,ちほう,はいたつ,しんちょう,じょし,さる,たく,かたがた,みごと,どうか,ひやす,こんご,こえる,きよう,わく,はんだん,きし,しんけい,しめる,たたく,さらに,じつげん,おこる,おどろき,とめる,あたる,おとなしい,そそぐ,ほうせき,えさ,わかれる,こうはい,せいかく,ご,せいひん,あたたかい,しょうしょう,ていしゅつ,しも,よそく,きゅうりょう,よさん,とつぜん,すべて,しゅうせい,まる,あくま,おおいに,ね,かさねる,かんぜん,むける,たいした,さくら,おろす,はなしあう,じき,とめる,たいじゅう,ばっする,せいちょう,どく,おぼれる,きゅうしゅう,めん,なくす,ねっちゅう,ものおと,ためす,であう,せいせき,しょう,げんば,とける,こっかい,どりょく,うつす,きかん,じんこう,かんそう,せいしん,りょう,かいが,ごく,じょう,むちゅう,けいやく,はかる,きんし,つらい,はん,さす,まく,しょうにん,はたらき,じゅん,ていりゅうじょ,やぶる,おしえ,た,し,ごうとう,かわいそう,れつ,げき,もと,あと,でんごん,がっき,わ,よ,せいふ,あつかう,じゅうだい,ねずみ,さける,おたがい,ぶんせき,かく,よみ,めいれい,めいじん,あらわれる,つゆ,たまたま,のぞむ,はつめい,しげき,ちへいせん,かいけつ,おめでとう,むしば,かう,えんぜつ,ほほ,こうりょ,とざん,うわ,じんぶつ,はってん,くみあい,こうほ,つむ,しょうめい,つかまる,おさない,せいめい,きげん,せいめい,かくれる,しはい,しょうがい,ひっし,うったえる,しほん,あんき,けいこう,こうせい,あらわす,たまらない,あてる,かわる,ようび,よごす,しょもつ,くりかえす,せいめい,せいこう,うん,ひこう,まつり,ならす,ぶ,いきおい,みちる,いのち,こうか,ちい,ようき,やくす,つばさ,せんこう,だいじん,のんびり,ふち,とくい,ほう,しゅくはく,いじ,はんい,ふじん,せいけつ,センター,いまにも,かみ,ぶつり,いね,ふだん,かく,せき,わん,もやす,そう,てんけい,じょゆう,とも,だいきん,ひこう,きせい,りょうきん,きゅうに,ぼうけん,はっしゃ,ぶっしつ,ごみ,ゆいいつ,はんにん,けいき,ぜん,じっし,ていでん,たいりく,おおや,ほうほう,わく,くるしむ,なやむ,にちじょう,あきる,ゆうしゅう,つとめ,よこぎる,たいがく,しんぞう,さす,くわわる,ごうかく,きにゅう,たかめる,あたりまえ,つとめ,じけん,むかえ,ふつう,すごす,すすめる,いっしゅ,ゆずる,けいき,えがく,いいん,さいわい,ほうふ,どくしょ,くだり,えがお,がく,うつ,せんしゅ,か,しゅじゅつ,しんこく,ねんだい,むりょう,のうりょく,ふり,ゆうびん,ゆうり,くやしい,よゆう,ねんげつ,あいかわらず,すぐれる,てじな,つり,たんご,じたい,ろうどう,おう,うれる,こうふく,ひざ,ふ,うっかり,こうげき,げきじょう,ふかまる,じょうたい,みかける,えんぎ,しばふ,ひょう,みまい,ぬらす,しんぽ,しき,そうとう,はんせい,かみ,りえき,げんかい,おる,とうちゃく,ひとり,けんとう,とたん,せけん,かい,だん,しょうとつ,わん,なみ,にち,する,つうきん,いっしょう,かえる,いためる,あんてい,おき,とくちょう,ざせき,さかい,どうよう,せいぞう,ゆうじん,げ,ちょうじょう,いっそう,のこり,こし,きおく,しめす,さます,かわ,まく,しんさつ,あわせる,しょうたい,のこす,ほこり,けい,つうがく,ちいき,たちば,たね,み,こんかい,こうかい,しゅう,がくしゃ,かね,ししゅつ,げいじゅつ,しょくりょう,びじん,いかり,けってい,ひっこし,ちゅうしん,たから,かんじゃ,えいきゅう,まつ,たにん,えいえん,はたけ,いし,であい,はくしゅ,くだ,もの,ちきゅう,とうぜん,きゅうそく,ひろめる,かく,きかい,まよう,たしかめる,つぐ,な,しるし,ゆるす,あな,いたみ,ひ,きしゃ,かぶ,けいゆ,きんだい,さかり,かんじょう,けっしん,たおす,さいしゅう,ひろげる,だいとうりょう,なぐる,いぜん,はん,えいよう,さんせい,しんこう,えんそう,つきあい,みつ,ひじょう,さくもつ,く,げんじつ,どくとく,じんせい,めいわく,あらわれ,かならずしも,きかい,せきゆ,しょう,こっきょう,きこう,せいり,はら,もちいる,せい,じゅんちょう,つきあう,えいきょう,せいさん,たいはん,はっしゃ,ひょうか,ねんじゅう,おくる,せいねんがっぴ,ひかく,きり,しょうがい,どういつ,さまざま,しあわせ,いわば,つなぐ,いっぱん,のうみん,いんしょう,ひげき,ささる,うし,し,たい,えんき,ふれる,がく,ふあん,もっとも,おじぎ,まぜる,しんこく,こじん,たんに,ちがいない,あう,すうじ,やく,ちゅうおう,さく,ふせい,めん,けい,しずむ,ぜん,よほう,すがた,よ,じゅう,こおり,ほお,ぶんや,ながめる,しんせき,としょ,きちょう,わた,あたたまる,ふじゆう,まち,しょめい,つねに,きたい,しょうじき,ぶじ,じっさい,すいみん,こうば,きゅう,そろう,かる,じょおう,まさに,ひん,ぜんたい,とかい,しかく,はで,めうえ,かげ,しょうにん,どうよう,およぼす,きん,ひょうじょう,いとこ,もくてき,くみ,かご,かし,びょう,つぐ,せい,けつえき,きんこ,さいばん,どうろ,あたためる,せいど,たび,から,せんでん,あせ,こうえん,なわ,かく,あらゆる,とうさん,がいしゅつ,あげる,しつぼう,ひっぱる,はく,するどい,ころす,むかい,たたかい,つかれ,へいきん,ほしょう,へる,ひはん,つながる,さそう,あるいは,のぞむ,きみ,どうとく,とく,せいかく,いき,ある,おもいつく,こうかい,せんじつ,きづく,さばく,てつどう,すこしも,ぜったい,かんどう,かぞえる,なま,じっこう,ほり,しんり,こいびと,でんとう,へい,もんじ,きにいる,つもる,かてい,だんたい,まんぞく,くれ,いし,りこう,こうこく,かじ,ふうけい,かんとく,ちょうし,もうしこむ,けん,とう,いし,すませる,だまる,ぜんしゃ,むく,しんたい,きのどく,たしょう,りょうがえ,ふり,とりあげる,こうどう,すじ,きく,おろす,かえす,くらし,しだい,ほうぼう,しょく,そこ,さめる,なか,がくしゅう,まえもって,よい,どろ,しゅうしょく,デモ,きょうぎ,だい,しゅう,じょし,がら,ないよう,きたい,しょうじょ,しょうめい,そう,いきもの,ざいりょう,しり,ざいさん,ふせぐ,うなる,かん,こんざつ,もどす,せいしつ,さっか,かてい,まじる,そなえる,ゆうしょう,かんがえ,あんがい,よのなか,そん,まる,けっかん,きまり,さつ,であい,ふこう,いしき,とれる,ようき,ながれる,かいごう,はく,きょうじゅ,しゅうだん,ひょうげん,こくもつ,むしあつい,いじ,こんやく,ちゅうもん,かち,ぶん,きふ,しよう,てってい,れい,めんどう,つぎつぎ,ぶっか,ほぞん,ふかめる,つうやく,のぞく,きんがく,いわい,はっけん,しじん,とち,くわしい,けんり,ふしぎ,しそう,ひ,ふるえる,もとづく,ふまん,たいくつ,いちどに,しよう,げんしょう,じょうきょう,いったい,ひみつ,せいねん,いふく,かんこう,かた,きずく,かず,あちこち,ならす,ちかごろ,いりょう,かく,あきらめる,せんたく,ぞう,しどう,さく,かかる,ちらす,まく,ありがとう,しょくぎょう,けん,よう,しき,しゅぎ,どくりつ,おえる,いや,こや,きょうどう,そうち,そなえる,ゆうのう,あく,そう,じき,しめる,かんきゃく,たく,はだか,たいほ,しぼう,いったい,きょか,ぎゃく,めいかく,いりょう,ぜんしん,かげん,おもに,きたく,せいしき,しんり,のる,もと,かいけい,ね,のぞみ,わける,あぶら,きょく,じゅうたく,たすかる,おさえる,しゅうにゅう,なかば'"
     },
     "execution_count": 5,
     "metadata": {},
     "output_type": "execute_result"
    }
   ],
   "source": [
    "vocab_dict"
   ],
   "metadata": {
    "collapsed": false,
    "ExecuteTime": {
     "end_time": "2025-06-02T13:10:15.586820500Z",
     "start_time": "2025-06-02T13:10:15.579605Z"
    }
   },
   "id": "b8190757154161de",
   "execution_count": 5
  },
  {
   "cell_type": "markdown",
   "id": "4c1cdce8b1f57ef3",
   "metadata": {
    "collapsed": false,
    "id": "4c1cdce8b1f57ef3"
   },
   "source": [
    "#### load Models"
   ]
  },
  {
   "cell_type": "code",
   "outputs": [],
   "source": [
    "from typing import List, Optional\n",
    "\n",
    "from langchain_core.prompts import ChatPromptTemplate\n",
    "\n",
    "from pydantic import BaseModel, Field\n",
    "\n",
    "# instruction = \"\"\"\n",
    "# Section 1: Vocabulary and Grammar\n",
    "# - Kanji reading (kanji_reading): 8 questions\n",
    "# - Write Chinese characters (write_kanji): 6 questions\n",
    "# - Word Meaning Selection (word_meaning): 11 questions\n",
    "# - Synonyms substitution (synonym_substitution): 5 questions\n",
    "# - word usage (word_usage): 5 questions\n",
    "# - Grammar fill in the blank (sentence_grammar): 13 questions\n",
    "# - Sentence sorting (sentence_sort): 5 questions\n",
    "# - Grammar structure selection (sentence_structure): 4-5 questions\n",
    "#\n",
    "# Section 2: Reading Comprehension\n",
    "# - Short passages (short_passage_read): 4 articles\n",
    "# - Mid-size passages (midsize_passage_read): 2 articles\n",
    "# - Long passages (long_passage_read): 1 articles\n",
    "# - Information retrieval (info_retrieval): 1 articles\n",
    "#\n",
    "# Section 3: Listening Comprehension\n",
    "# - Topic understanding (topic_understanding): 6 questions\n",
    "# - Key understanding (keypoint_understanding): 6 questions\n",
    "# - Summary understanding (summary_understanding): 3 questions\n",
    "# - Active expression (active_expression): 4 questions\n",
    "# - Immediate acknowledgment (immediate_ack): 9 questions\n",
    "# \"\"\"\n",
    "\n",
    "instruction = \"\"\"\n",
    "Section 1: Vocabulary and Grammar\n",
    "- 問題1 のことばの読み方として最もよいものを、1・2・3・4から一つえらびなさい (kanji_reading): 1 questions\n",
    "- 問題2 このことばを漢字で書くとき、最もよいものを、１・２・３・４から一つえらびなさい (write_kanji): 1 questions\n",
    "- 問題3（　）に入れるのに最もよいものを、１・２・３・４から一つえらびなさい。 (word_meaning): 1 questions\n",
    "- 問題4 に意味が最も近いものを、１・２・３・４から一つえらびなさい。(synonym_substitution) 1 questions\n",
    "- 問題5 つぎのことばの使い方として最もよいものを、２・３・４から一つえらびなさい。 (word_usage): 1 questions\n",
    "Section 2: Reading Comprehension\n",
    "- Information retrieval (info_retrieval): 0 articles\n",
    "\n",
    "Section 3: Listening Comprehension\n",
    "- Topic understanding (topic_understanding): 0 questions\n",
    "\n",
    "\"\"\"\n",
    "\n",
    "\n",
    "direct_gen_outline_prompt = ChatPromptTemplate.from_messages(\n",
    "    [\n",
    "        (\n",
    "            \"system\",\n",
    "            f\"You are a japanese teacher. Your job is to write an outline for a JLPT Japanese-Language Proficiency Test N3 level exam paper. The topic word in outline must be presented in Japanese kana only. The complexity should be restricted to N3 level and respect japanese culture. The JLPT Japanese-Language Proficiency Test exam paper includes a mix of moderate and very difficult topics to accurately assess the test-taker's proficiency across different aspects of the language.\"\n",
    "            f\"First, evenly pick Japanese words used in different part of sentence from 'Vocabulary' for questions in Vocabulary and Grammar, ensuring 40 percent of very difficult words for topics. At Section 2 and 3, randomly choose topics in 'TopicList' for Reading Comprehension and Listening Comprehension Sections, don't repeat to choose a same word or topic\"\n",
    "            f\"Second, you should abide by the provided exam instruction and decide the number of questions and content in the each Section.\"\n",
    "            f\"Finally, write the outline of the examination paper in japanese and provide question topics according to the instructions.\"\n",
    "            f\"Instruction: {instruction}\",\n",
    "        ),\n",
    "        (\"user\", \"TopicList: {topic_list}, Vocabulary: {vocab_dict}\"),\n",
    "    ]\n",
    ")\n"
   ],
   "metadata": {
    "collapsed": false,
    "ExecuteTime": {
     "end_time": "2025-06-02T13:10:15.595009600Z",
     "start_time": "2025-06-02T13:10:15.584820500Z"
    }
   },
   "id": "e339295a858fb5f8",
   "execution_count": 6
  },
  {
   "cell_type": "markdown",
   "id": "fed5f032dadafac1",
   "metadata": {
    "collapsed": false,
    "id": "fed5f032dadafac1"
   },
   "source": [
    "## Data Strcuture"
   ]
  },
  {
   "cell_type": "code",
   "execution_count": 7,
   "id": "39329a71b16d2400",
   "metadata": {
    "id": "39329a71b16d2400",
    "ExecuteTime": {
     "end_time": "2025-06-02T13:10:15.638852900Z",
     "start_time": "2025-06-02T13:10:15.596010700Z"
    }
   },
   "outputs": [],
   "source": [
    "class QuestionTopic(BaseModel):\n",
    "    topic: str = Field(..., title=\"a vocabulary or topic hint for a question\")\n",
    "\n",
    "\n",
    "class Subsection(BaseModel):\n",
    "    subsection_title: str = Field(..., title=\"subsection English word in () only from the instruction\")\n",
    "    description: str = Field(..., title=\"giving the number of questions and requirements\")\n",
    "    question_topics: Optional[List[QuestionTopic]] = Field(\n",
    "        default_factory=list\n",
    "    )\n",
    "\n",
    "    @property\n",
    "    def as_str(self) -> str:\n",
    "        question_topics_str = \"\\n\".join(\n",
    "            f\"- **{qt.topic}**\" for qt in self.question_topics\n",
    "        )\n",
    "        return f\"### {self.subsection_title}\\n\\n{self.description}\\n\\n{question_topics_str}\".strip()\n",
    "\n",
    "class Section(BaseModel):\n",
    "    section_title: str = Field(..., title=\"Title of the section\")\n",
    "    subsections: Optional[List[Subsection]] = Field(\n",
    "        default_factory=list,\n",
    "        title=\"Titles and reason for each subsection of the JLPT exam page.\",\n",
    "    )\n",
    "\n",
    "    @property\n",
    "    def as_str(self) -> str:\n",
    "        subsections = \"\\n\\n\".join(\n",
    "            subsection.as_str for subsection in self.subsections or []\n",
    "        )\n",
    "        return f\"## {self.section_title}\\n\\n{subsections}\".strip()\n",
    "\n",
    "\n",
    "class Outline(BaseModel):\n",
    "    page_title: str = Field(..., title=\"Title of the JLPT exam page\")\n",
    "    sections: List[Section] = Field(\n",
    "        default_factory=list,\n",
    "        title=\"Titles and descriptions for each section of the JLPT exam paper.\",\n",
    "    )\n",
    "\n",
    "    @property\n",
    "    def as_str(self) -> str:\n",
    "        sections = \"\\n\\n\".join(section.as_str for section in self.sections)\n",
    "        return f\"# {self.page_title}\\n\\n{sections}\".strip()\n"
   ]
  },
  {
   "cell_type": "code",
   "execution_count": 8,
   "id": "d0730de416980c6",
   "metadata": {
    "id": "d0730de416980c6",
    "ExecuteTime": {
     "end_time": "2025-06-02T13:10:15.647417200Z",
     "start_time": "2025-06-02T13:10:15.606477900Z"
    }
   },
   "outputs": [],
   "source": [
    "# Read the topics from a file, sort them, and print the sorted list\n",
    "def process_topics(file_path):\n",
    "    try:\n",
    "        # Read the file\n",
    "        with open(file_path, 'r', encoding='utf-8') as file:\n",
    "            topics = file.readlines()\n",
    "\n",
    "        # Remove any extra whitespace or newline characters\n",
    "        topics = [topic.strip() for topic in topics if topic.strip()]\n",
    "\n",
    "        # Shuffle the topics randomly\n",
    "        random.shuffle(topics)\n",
    "\n",
    "    except FileNotFoundError:\n",
    "        print(\"The file was not found. Please check the file path.\")\n",
    "    except Exception as e:\n",
    "        print(\"An error occurred:\", str(e))\n",
    "\n",
    "    except FileNotFoundError:\n",
    "        print(\"The file was not found. Please check the file path.\")\n",
    "    except Exception as e:\n",
    "        print(\"An error occurred:\", str(e))"
   ]
  },
  {
   "cell_type": "code",
   "execution_count": 9,
   "id": "8fc17fee14c40716",
   "metadata": {
    "id": "8fc17fee14c40716",
    "ExecuteTime": {
     "end_time": "2025-06-02T13:10:20.931555400Z",
     "start_time": "2025-06-02T13:10:15.612478600Z"
    }
   },
   "outputs": [
    {
     "name": "stderr",
     "output_type": "stream",
     "text": [
      "2025-06-02 21:10:20,904 - INFO - HTTP Request: POST https://ai-rolandaws880125ai409947751408.openai.azure.com/openai/deployments/gpt-4.1/chat/completions?api-version=2025-01-01-preview \"HTTP/1.1 200 OK\"\n"
     ]
    }
   ],
   "source": [
    "# Preload all topics from the file\n",
    "with open(\"Vocab/topics.txt\", \"r\", encoding=\"utf-8\") as file:\n",
    "    topics_list = [line.strip() for line in file]\n",
    "\n",
    "generate_outline_direct = direct_gen_outline_prompt | azure_llm.with_structured_output(Outline)\n",
    "initial_outline = generate_outline_direct.invoke({\"topic_list\": topics_list, \"vocab_dict\": vocab_dict})"
   ]
  },
  {
   "cell_type": "code",
   "execution_count": 10,
   "outputs": [
    {
     "data": {
      "text/plain": "Outline(page_title='日本語能力試験N3 模擬試験問題用紙', sections=[Section(section_title='第1部\\u3000語彙・文法', subsections=[Subsection(subsection_title='(kanji_reading)', description='問題1：ことばの漢字の読み方を選ぶ（1問）', question_topics=[QuestionTopic(topic='かんする')]), Subsection(subsection_title='(write_kanji)', description='問題2：ことばを漢字で書く（1問）', question_topics=[QuestionTopic(topic='しゅだん')]), Subsection(subsection_title='(word_meaning)', description='問題3：（\\u3000）に入れる最もよいことばを選ぶ（1問）', question_topics=[QuestionTopic(topic='ふそく')]), Subsection(subsection_title='(synonym_substitution)', description='問題4：意味が最も近いことばを選ぶ（5問）', question_topics=[QuestionTopic(topic='かんする'), QuestionTopic(topic='しゅだん'), QuestionTopic(topic='ふそく'), QuestionTopic(topic='じゅうたい'), QuestionTopic(topic='かんする')]), Subsection(subsection_title='(word_usage)', description='問題5：ことばの使い方として最もよいものを選ぶ（5問）', question_topics=[QuestionTopic(topic='じゅうたい'), QuestionTopic(topic='ふそく'), QuestionTopic(topic='しゅだん'), QuestionTopic(topic='かんする'), QuestionTopic(topic='しゅだん')])])])"
     },
     "execution_count": 10,
     "metadata": {},
     "output_type": "execute_result"
    }
   ],
   "source": [
    "initial_outline"
   ],
   "metadata": {
    "collapsed": false,
    "ExecuteTime": {
     "end_time": "2025-06-02T13:10:20.932683Z",
     "start_time": "2025-06-02T13:10:20.927229900Z"
    }
   },
   "id": "642ab45795c9eae4"
  },
  {
   "cell_type": "code",
   "execution_count": 11,
   "id": "d53b7d9ff86a5377",
   "metadata": {
    "colab": {
     "base_uri": "https://localhost:8080/",
     "height": 1000
    },
    "id": "d53b7d9ff86a5377",
    "outputId": "0e4ce018-377a-48d5-9b87-bed3eac897ac",
    "ExecuteTime": {
     "end_time": "2025-06-02T13:10:20.954458Z",
     "start_time": "2025-06-02T13:10:20.931555400Z"
    }
   },
   "outputs": [
    {
     "data": {
      "text/plain": "<IPython.core.display.Markdown object>",
      "text/markdown": "# 日本語能力試験N3 模擬試験問題用紙\n\n## 第1部　語彙・文法\n\n### (kanji_reading)\n\n問題1：ことばの漢字の読み方を選ぶ（1問）\n\n- **かんする**\n\n### (write_kanji)\n\n問題2：ことばを漢字で書く（1問）\n\n- **しゅだん**\n\n### (word_meaning)\n\n問題3：（　）に入れる最もよいことばを選ぶ（1問）\n\n- **ふそく**\n\n### (synonym_substitution)\n\n問題4：意味が最も近いことばを選ぶ（5問）\n\n- **かんする**\n- **しゅだん**\n- **ふそく**\n- **じゅうたい**\n- **かんする**\n\n### (word_usage)\n\n問題5：ことばの使い方として最もよいものを選ぶ（5問）\n\n- **じゅうたい**\n- **ふそく**\n- **しゅだん**\n- **かんする**\n- **しゅだん**"
     },
     "metadata": {},
     "output_type": "display_data"
    }
   ],
   "source": [
    "from IPython.display import display, Markdown, HTML\n",
    "display(Markdown(initial_outline.as_str))"
   ]
  },
  {
   "cell_type": "code",
   "execution_count": 12,
   "id": "5c2b7e675e5302a8",
   "metadata": {
    "colab": {
     "base_uri": "https://localhost:8080/"
    },
    "id": "5c2b7e675e5302a8",
    "outputId": "657ff47f-94af-4bd5-8035-03239fd42380",
    "ExecuteTime": {
     "end_time": "2025-06-02T13:12:37.125604300Z",
     "start_time": "2025-06-02T13:10:20.949451500Z"
    }
   },
   "outputs": [
    {
     "name": "stderr",
     "output_type": "stream",
     "text": [
      "Processing 第1部　語彙・文法:   0%|          | 0/5 [00:00<?, ?it/s]\n",
      "Processing (kanji_reading):   0%|          | 0/1 [00:00<?, ?it/s]\u001B[A"
     ]
    },
    {
     "name": "stdout",
     "output_type": "stream",
     "text": [
      "---WEB SEARCH---\n",
      "---Generator----\n"
     ]
    },
    {
     "name": "stderr",
     "output_type": "stream",
     "text": [
      "2025-06-02 21:10:27,866 - INFO - HTTP Request: POST https://ai-rolandaws880125ai409947751408.openai.azure.com/openai/deployments/gpt-4.1/chat/completions?api-version=2025-01-01-preview \"HTTP/1.1 200 OK\"\n",
      "2025-06-02 21:10:27,867 - INFO - Generated message: <a>この問題は環境に<u>関する</u>ものです。</a>\n",
      "<ul>\n",
      "    <li>かんせる</li>\n",
      "    <li>かんする</li>\n",
      "    <li>かんしゅう</li>\n",
      "    <li>かんしゃ</li>\n",
      "</ul>\n",
      "正解: 2\n"
     ]
    },
    {
     "name": "stdout",
     "output_type": "stream",
     "text": [
      "---REVISOR---\n"
     ]
    },
    {
     "name": "stderr",
     "output_type": "stream",
     "text": [
      "2025-06-02 21:10:30,417 - INFO - HTTP Request: POST https://ai-rolandaws880125ai409947751408.openai.azure.com/openai/deployments/gpt-4.1/chat/completions?api-version=2025-01-01-preview \"HTTP/1.1 200 OK\"\n",
      "2025-06-02 21:10:30,418 - INFO - Refelect message: Content Accuracy:  \n",
      "The vocabulary item \"関する\" is appropriate for the JLPT N3 level. The sample sentence \"この問題は環境に関するものです。\" is clear, correctly formed, and relevant to common academic and everyday contexts. The distractor options (かんせる, かんしゅう, かんしゃ) are plausible and at a similar level, which is good for testing recognition.\n",
      "\n",
      "Question and Answer Quality:  \n",
      "The question is unambiguous and tests the student's understanding of the correct word in context. The answer choices are distinct, and only one is correct, which aligns with best practices for multiple-choice questions.\n",
      "\n",
      "Cultural and Academic Relevance:  \n",
      "The sentence is culturally neutral and academically appropriate, referencing \"environmental issues,\" which is a common topic in Japanese exams and educational materials.\n",
      "\n",
      "Feedback and Recommendations:  \n",
      "- The question is well-designed and suitable for the JLPT N3 level.\n",
      "- The vocabulary and context are appropriate and relevant.\n",
      "- No issues with ambiguity or cultural inappropriateness.\n",
      "\n",
      "GOOD ENOUGH\n"
     ]
    },
    {
     "name": "stdout",
     "output_type": "stream",
     "text": [
      "--- AI Reviser feels Good Enough ---\n",
      "--- Formatter ---\n"
     ]
    },
    {
     "name": "stderr",
     "output_type": "stream",
     "text": [
      "2025-06-02 21:10:31,186 - INFO - HTTP Request: POST https://ai-rolandaws880125ai409947751408.openai.azure.com/openai/deployments/gpt-4.1/chat/completions?api-version=2025-01-01-preview \"HTTP/1.1 200 OK\"\n",
      "2025-06-02 21:10:31,195 - INFO - Formatted message: {'html_question': '<a>この問題は環境に<u>関する</u>ものです。</a>', 'correct_answer': 2, 'choices': ['かんせる', 'かんする', 'かんしゅう', 'かんしゃ']}\n",
      "\n",
      "Processing (kanji_reading): 100%|██████████| 1/1 [00:10<00:00, 10.24s/it]\u001B[A\n",
      "Processing 第1部　語彙・文法:  20%|██        | 1/5 [00:10<00:40, 10.24s/it]\n",
      "Processing (write_kanji):   0%|          | 0/1 [00:00<?, ?it/s]\u001B[A"
     ]
    },
    {
     "name": "stdout",
     "output_type": "stream",
     "text": [
      "---WEB SEARCH---\n",
      "---Generator----\n"
     ]
    },
    {
     "name": "stderr",
     "output_type": "stream",
     "text": [
      "2025-06-02 21:10:37,649 - INFO - HTTP Request: POST https://ai-rolandaws880125ai409947751408.openai.azure.com/openai/deployments/gpt-4.1/chat/completions?api-version=2025-01-01-preview \"HTTP/1.1 200 OK\"\n",
      "2025-06-02 21:10:37,650 - INFO - Generated message: <a>この問題を解決する<u>しゅだん</u>を考えましょう。</a>\n",
      "<ul class='options'>\n",
      "  <li>手段</li>\n",
      "  <li>手段</li>\n",
      "  <li>主段</li>\n",
      "  <li>主断</li>\n",
      "</ul>\n",
      "正解: 1\n"
     ]
    },
    {
     "name": "stdout",
     "output_type": "stream",
     "text": [
      "---REVISOR---\n"
     ]
    },
    {
     "name": "stderr",
     "output_type": "stream",
     "text": [
      "2025-06-02 21:10:41,471 - INFO - HTTP Request: POST https://ai-rolandaws880125ai409947751408.openai.azure.com/openai/deployments/gpt-4.1/chat/completions?api-version=2025-01-01-preview \"HTTP/1.1 200 OK\"\n",
      "2025-06-02 21:10:41,472 - INFO - Refelect message: Content Accuracy:\n",
      "- The vocabulary item \"しゅだん\" is appropriate for JLPT N3, as \"手段\" (means, method) is a common word at this level.\n",
      "- The sentence context, 「この問題を解決するしゅだんを考えましょう。」, is clear, natural, and relevant to everyday and academic Japanese usage.\n",
      "\n",
      "Question and Answer Quality:\n",
      "- The question is clearly worded and unambiguous.\n",
      "- The answer options include two identical correct answers (\"手段\"), which could cause confusion or make the question less challenging. For JLPT standards, each option should be unique.\n",
      "- The distractors \"主段\" and \"主断\" are reasonable, as they are visually similar but incorrect, which is appropriate for N3 kanji discrimination.\n",
      "\n",
      "Cultural and Academic Appropriateness:\n",
      "- The context and vocabulary are culturally neutral and academically appropriate for JLPT N3.\n",
      "\n",
      "Detailed Recommendations:\n",
      "- Revise the options to ensure there is only one correct answer and each option is unique. For example:\n",
      "  1. 手段 (correct)\n",
      "  2. 主段\n",
      "  3. 主断\n",
      "  4. 手断\n",
      "- This adjustment will make the question more challenging and in line with JLPT standards.\n",
      "\n",
      "Final Feedback:\n",
      "Please revise the answer options to eliminate duplication and ensure only one correct answer appears. Otherwise, the question is well-constructed and appropriate for the JLPT N3 level.\n"
     ]
    },
    {
     "name": "stdout",
     "output_type": "stream",
     "text": [
      "---Generator----\n"
     ]
    },
    {
     "name": "stderr",
     "output_type": "stream",
     "text": [
      "2025-06-02 21:10:42,365 - INFO - HTTP Request: POST https://ai-rolandaws880125ai409947751408.openai.azure.com/openai/deployments/gpt-4.1/chat/completions?api-version=2025-01-01-preview \"HTTP/1.1 200 OK\"\n",
      "2025-06-02 21:10:42,366 - INFO - Generated message: <a>この問題を解決する<u>しゅだん</u>を考えましょう。</a>\n",
      "<ul class='options'>\n",
      "  <li>手段</li>\n",
      "  <li>主段</li>\n",
      "  <li>主断</li>\n",
      "  <li>手断</li>\n",
      "</ul>\n",
      "正解: 1\n"
     ]
    },
    {
     "name": "stdout",
     "output_type": "stream",
     "text": [
      "---REVISOR---\n"
     ]
    },
    {
     "name": "stderr",
     "output_type": "stream",
     "text": [
      "2025-06-02 21:10:43,201 - INFO - HTTP Request: POST https://ai-rolandaws880125ai409947751408.openai.azure.com/openai/deployments/gpt-4.1/chat/completions?api-version=2025-01-01-preview \"HTTP/1.1 200 OK\"\n",
      "2025-06-02 21:10:43,202 - INFO - Refelect message: GOOD ENOUGH\n"
     ]
    },
    {
     "name": "stdout",
     "output_type": "stream",
     "text": [
      "--- AI Reviser feels Good Enough ---\n",
      "--- Formatter ---\n"
     ]
    },
    {
     "name": "stderr",
     "output_type": "stream",
     "text": [
      "2025-06-02 21:10:43,968 - INFO - HTTP Request: POST https://ai-rolandaws880125ai409947751408.openai.azure.com/openai/deployments/gpt-4.1/chat/completions?api-version=2025-01-01-preview \"HTTP/1.1 200 OK\"\n",
      "2025-06-02 21:10:43,974 - INFO - Formatted message: {'html_question': '<a>この問題を解決する<u>しゅだん</u>を考えましょう。</a>', 'correct_answer': 1, 'choices': ['手段', '主段', '主断', '手断']}\n",
      "\n",
      "Processing (write_kanji): 100%|██████████| 1/1 [00:12<00:00, 12.78s/it]\u001B[A\n",
      "Processing 第1部　語彙・文法:  40%|████      | 2/5 [00:23<00:35, 11.73s/it]\n",
      "Processing (word_meaning):   0%|          | 0/1 [00:00<?, ?it/s]\u001B[A"
     ]
    },
    {
     "name": "stdout",
     "output_type": "stream",
     "text": [
      "---WEB SEARCH---\n",
      "---Generator----\n"
     ]
    },
    {
     "name": "stderr",
     "output_type": "stream",
     "text": [
      "2025-06-02 21:10:47,613 - INFO - HTTP Request: POST https://ai-rolandaws880125ai409947751408.openai.azure.com/openai/deployments/gpt-4.1/chat/completions?api-version=2025-01-01-preview \"HTTP/1.1 200 OK\"\n",
      "2025-06-02 21:10:47,614 - INFO - Generated message: <a>最近、この町では水が（　）している。</a>\n",
      "<ul class='options'>\n",
      "  <li>減少</li>\n",
      "  <li>不足</li>\n",
      "  <li>配達</li>\n",
      "  <li>増加</li>\n",
      "</ul>\n",
      "正解: 2\n"
     ]
    },
    {
     "name": "stdout",
     "output_type": "stream",
     "text": [
      "---REVISOR---\n"
     ]
    },
    {
     "name": "stderr",
     "output_type": "stream",
     "text": [
      "2025-06-02 21:10:50,818 - INFO - HTTP Request: POST https://ai-rolandaws880125ai409947751408.openai.azure.com/openai/deployments/gpt-4.1/chat/completions?api-version=2025-01-01-preview \"HTTP/1.1 200 OK\"\n",
      "2025-06-02 21:10:50,819 - INFO - Refelect message: **Content Accuracy:**  \n",
      "The vocabulary item \"不足\" (ふそく, shortage/lack) is appropriate for JLPT N3 level. The sentence context \"最近、この町では水が（　）している。\" is clear and relevant, and the use of \"している\" with \"不足\" is natural and correct. The distractor choices (\"減少\" - decrease, \"配達\" - delivery, \"増加\" - increase) are all N3-level vocabulary and are plausible enough to challenge students without being misleading.\n",
      "\n",
      "**Question and Answer Quality:**  \n",
      "The question is clearly worded and unambiguous. The correct answer \"不足\" is the only option that fits both grammatically and contextually. The other options are plausible but do not fit as well as \"不足,\" which is what is expected at the N3 level. The question effectively tests students' understanding of vocabulary in context.\n",
      "\n",
      "**Detailed Refinement:**  \n",
      "The content is culturally appropriate and relevant to modern Japanese society, as water shortages can be a real issue in some areas. The language used is standard and suitable for the JLPT N3 level. The sentence is concise and avoids unnecessary complexity, focusing the test on vocabulary comprehension.\n",
      "\n",
      "**Feedback:**  \n",
      "GOOD ENOUGH\n"
     ]
    },
    {
     "name": "stdout",
     "output_type": "stream",
     "text": [
      "--- AI Reviser feels Good Enough ---\n",
      "--- Formatter ---\n"
     ]
    },
    {
     "name": "stderr",
     "output_type": "stream",
     "text": [
      "2025-06-02 21:10:51,658 - INFO - HTTP Request: POST https://ai-rolandaws880125ai409947751408.openai.azure.com/openai/deployments/gpt-4.1/chat/completions?api-version=2025-01-01-preview \"HTTP/1.1 200 OK\"\n",
      "2025-06-02 21:10:51,659 - INFO - Formatted message: {'html_question': '<a>最近、この町では水が（\\u3000）している。</a>', 'correct_answer': 2, 'choices': ['減少', '不足', '配達', '増加']}\n",
      "\n",
      "Processing (word_meaning): 100%|██████████| 1/1 [00:07<00:00,  7.68s/it]\u001B[A\n",
      "Processing 第1部　語彙・文法:  60%|██████    | 3/5 [00:30<00:19,  9.89s/it]\n",
      "Processing (synonym_substitution):   0%|          | 0/5 [00:00<?, ?it/s]\u001B[A"
     ]
    },
    {
     "name": "stdout",
     "output_type": "stream",
     "text": [
      "---WEB SEARCH---\n",
      "---Generator----\n"
     ]
    },
    {
     "name": "stderr",
     "output_type": "stream",
     "text": [
      "2025-06-02 21:10:55,187 - INFO - HTTP Request: POST https://ai-rolandaws880125ai409947751408.openai.azure.com/openai/deployments/gpt-4.1/chat/completions?api-version=2025-01-01-preview \"HTTP/1.1 200 OK\"\n",
      "2025-06-02 21:10:55,188 - INFO - Generated message: <a>この本は日本の歴史<u>に関する</u>内容です。</a>\n",
      "<ul class='options'>\n",
      "  <li>ついて</li>\n",
      "  <li>あたる</li>\n",
      "  <li>かわる</li>\n",
      "  <li>あらわす</li>\n",
      "</ul>\n",
      "正解: 1\n"
     ]
    },
    {
     "name": "stdout",
     "output_type": "stream",
     "text": [
      "---REVISOR---\n"
     ]
    },
    {
     "name": "stderr",
     "output_type": "stream",
     "text": [
      "2025-06-02 21:10:57,518 - INFO - HTTP Request: POST https://ai-rolandaws880125ai409947751408.openai.azure.com/openai/deployments/gpt-4.1/chat/completions?api-version=2025-01-01-preview \"HTTP/1.1 200 OK\"\n",
      "2025-06-02 21:10:57,519 - INFO - Refelect message: Content Accuracy:\n",
      "- The target grammar point 「〜に関する」 is appropriate for the JLPT N3 level. The sentence \"この本は日本の歴史に関する内容です。\" is natural and clear, and the vocabulary used is suitable for N3 examinees.\n",
      "\n",
      "Question and Answer Quality:\n",
      "- The distractors (ついて, あたる, かわる, あらわす) are plausible and commonly confused by learners at this level, making the question appropriately challenging.\n",
      "- The correct answer is unambiguous in this context.\n",
      "\n",
      "Cultural and Academic Relevance:\n",
      "- The sentence is culturally appropriate and references a relevant academic topic (Japanese history).\n",
      "\n",
      "Detailed Recommendations:\n",
      "- The question is well-designed and matches the JLPT N3 level in both grammar and vocabulary.\n",
      "- No further changes are required.\n",
      "\n",
      "GOOD ENOUGH\n"
     ]
    },
    {
     "name": "stdout",
     "output_type": "stream",
     "text": [
      "--- AI Reviser feels Good Enough ---\n",
      "--- Formatter ---\n"
     ]
    },
    {
     "name": "stderr",
     "output_type": "stream",
     "text": [
      "2025-06-02 21:10:58,518 - INFO - HTTP Request: POST https://ai-rolandaws880125ai409947751408.openai.azure.com/openai/deployments/gpt-4.1/chat/completions?api-version=2025-01-01-preview \"HTTP/1.1 200 OK\"\n",
      "2025-06-02 21:10:58,519 - INFO - Formatted message: {'html_question': '<a>この本は日本の歴史<u>に関する</u>内容です。</a>', 'correct_answer': 1, 'choices': ['ついて', 'あたる', 'かわる', 'あらわす']}\n",
      "\n",
      "Processing (synonym_substitution):  20%|██        | 1/5 [00:06<00:27,  6.86s/it]\u001B[A"
     ]
    },
    {
     "name": "stdout",
     "output_type": "stream",
     "text": [
      "---WEB SEARCH---\n",
      "---Generator----\n"
     ]
    },
    {
     "name": "stderr",
     "output_type": "stream",
     "text": [
      "2025-06-02 21:11:02,988 - INFO - HTTP Request: POST https://ai-rolandaws880125ai409947751408.openai.azure.com/openai/deployments/gpt-4.1/chat/completions?api-version=2025-01-01-preview \"HTTP/1.1 200 OK\"\n",
      "2025-06-02 21:11:02,988 - INFO - Generated message: <a>この問題を解決する<u>手段</u>を考えましょう。</a>\n",
      "<ul class='options'>\n",
      "  <li>方法</li>\n",
      "  <li>結果</li>\n",
      "  <li>理由</li>\n",
      "  <li>目的</li>\n",
      "</ul>\n",
      "正解: 1\n"
     ]
    },
    {
     "name": "stdout",
     "output_type": "stream",
     "text": [
      "---REVISOR---\n"
     ]
    },
    {
     "name": "stderr",
     "output_type": "stream",
     "text": [
      "2025-06-02 21:11:06,118 - INFO - HTTP Request: POST https://ai-rolandaws880125ai409947751408.openai.azure.com/openai/deployments/gpt-4.1/chat/completions?api-version=2025-01-01-preview \"HTTP/1.1 200 OK\"\n",
      "2025-06-02 21:11:06,120 - INFO - Refelect message: Content Accuracy:\n",
      "- The vocabulary item \"手段\" (shudan) and its use in the sentence 「この問題を解決する手段を考えましょう。」are both appropriate for JLPT N3. The context is clear and relevant, as \"手段\" is a common word at this level, often appearing in reading and listening sections.\n",
      "- The sentence structure and vocabulary are suitable for N3, and the example is natural and culturally appropriate.\n",
      "\n",
      "Question and Answer Quality:\n",
      "- The question is clear and unambiguous. The distractor options (\"結果\" result, \"理由\" reason, \"目的\" purpose) are all plausible and commonly confused with \"方法\" (method/means), making the question effective for assessing understanding.\n",
      "- The correct answer, \"方法\" (method/way), is accurate as a synonym for \"手段\" in this context.\n",
      "- The options are well-chosen and match the intended difficulty for N3.\n",
      "\n",
      "Detailed Refinement:\n",
      "- The context is culturally neutral and relevant to academic or everyday Japanese situations.\n",
      "- No issues with academic language or appropriateness.\n",
      "- No ambiguity in the phrasing or distractors.\n",
      "\n",
      "Feedback:\n",
      "GOOD ENOUGH\n"
     ]
    },
    {
     "name": "stdout",
     "output_type": "stream",
     "text": [
      "--- AI Reviser feels Good Enough ---\n",
      "--- Formatter ---\n"
     ]
    },
    {
     "name": "stderr",
     "output_type": "stream",
     "text": [
      "2025-06-02 21:11:07,020 - INFO - HTTP Request: POST https://ai-rolandaws880125ai409947751408.openai.azure.com/openai/deployments/gpt-4.1/chat/completions?api-version=2025-01-01-preview \"HTTP/1.1 200 OK\"\n",
      "2025-06-02 21:11:07,022 - INFO - Formatted message: {'html_question': '<a>この問題を解決する<u>手段</u>を考えましょう。</a>', 'correct_answer': 1, 'choices': ['方法', '結果', '理由', '目的']}\n",
      "\n",
      "Processing (synonym_substitution):  40%|████      | 2/5 [00:15<00:23,  7.83s/it]\u001B[A"
     ]
    },
    {
     "name": "stdout",
     "output_type": "stream",
     "text": [
      "---WEB SEARCH---\n",
      "---Generator----\n"
     ]
    },
    {
     "name": "stderr",
     "output_type": "stream",
     "text": [
      "2025-06-02 21:11:10,675 - INFO - HTTP Request: POST https://ai-rolandaws880125ai409947751408.openai.azure.com/openai/deployments/gpt-4.1/chat/completions?api-version=2025-01-01-preview \"HTTP/1.1 200 OK\"\n",
      "2025-06-02 21:11:10,676 - INFO - Generated message: <a>この国では水が<u>不足</u>している。</a>\n",
      "<ul class='options'>\n",
      "  <li>たりない</li>\n",
      "  <li>ふえる</li>\n",
      "  <li>多い</li>\n",
      "  <li>残る</li>\n",
      "</ul>\n",
      "正解: 1\n"
     ]
    },
    {
     "name": "stdout",
     "output_type": "stream",
     "text": [
      "---REVISOR---\n"
     ]
    },
    {
     "name": "stderr",
     "output_type": "stream",
     "text": [
      "2025-06-02 21:11:13,376 - INFO - HTTP Request: POST https://ai-rolandaws880125ai409947751408.openai.azure.com/openai/deployments/gpt-4.1/chat/completions?api-version=2025-01-01-preview \"HTTP/1.1 200 OK\"\n",
      "2025-06-02 21:11:13,378 - INFO - Refelect message: Content Accuracy:  \n",
      "The target word \"不足\" (ふそく) is appropriate for JLPT N3 level, and the sentence \"この国では水が不足している。\" is clear, contextually relevant, and reflects a realistic situation. The vocabulary options are suitable for N3 learners.\n",
      "\n",
      "Question and Answer Quality:  \n",
      "The question is straightforward, and the options are distinct. The correct answer, \"たりない\" (not enough/lacking), accurately matches the meaning of \"不足.\" The distractors (\"ふえる\" - to increase, \"多い\" - many/much, \"残る\" - to remain) are plausible but clearly incorrect, which is ideal for assessing vocabulary comprehension at this level.\n",
      "\n",
      "Cultural and Academic Relevance:  \n",
      "The context of water shortage is appropriate and neutral, and the language used aligns with standard Japanese academic content. There are no cultural issues.\n",
      "\n",
      "Feedback and Recommendations:  \n",
      "GOOD ENOUGH\n"
     ]
    },
    {
     "name": "stdout",
     "output_type": "stream",
     "text": [
      "--- AI Reviser feels Good Enough ---\n",
      "--- Formatter ---\n"
     ]
    },
    {
     "name": "stderr",
     "output_type": "stream",
     "text": [
      "2025-06-02 21:11:14,253 - INFO - HTTP Request: POST https://ai-rolandaws880125ai409947751408.openai.azure.com/openai/deployments/gpt-4.1/chat/completions?api-version=2025-01-01-preview \"HTTP/1.1 200 OK\"\n",
      "2025-06-02 21:11:14,255 - INFO - Formatted message: {'html_question': '<a>この国では水が<u>不足</u>している。</a>', 'correct_answer': 1, 'choices': ['たりない', 'ふえる', '多い', '残る']}\n",
      "\n",
      "Processing (synonym_substitution):  60%|██████    | 3/5 [00:22<00:15,  7.55s/it]\u001B[A"
     ]
    },
    {
     "name": "stdout",
     "output_type": "stream",
     "text": [
      "---WEB SEARCH---\n",
      "---Generator----\n"
     ]
    },
    {
     "name": "stderr",
     "output_type": "stream",
     "text": [
      "2025-06-02 21:11:17,833 - INFO - HTTP Request: POST https://ai-rolandaws880125ai409947751408.openai.azure.com/openai/deployments/gpt-4.1/chat/completions?api-version=2025-01-01-preview \"HTTP/1.1 200 OK\"\n",
      "2025-06-02 21:11:17,834 - INFO - Generated message: <a>朝の通勤時間は道路が<u>渋滞</u>していることが多いです。</a>\n",
      "<ul class='options'>\n",
      "  <li>混雑</li>\n",
      "  <li>整備</li>\n",
      "  <li>通過</li>\n",
      "  <li>解決</li>\n",
      "</ul>\n",
      "正解: 1\n"
     ]
    },
    {
     "name": "stdout",
     "output_type": "stream",
     "text": [
      "---REVISOR---\n"
     ]
    },
    {
     "name": "stderr",
     "output_type": "stream",
     "text": [
      "2025-06-02 21:11:20,997 - INFO - HTTP Request: POST https://ai-rolandaws880125ai409947751408.openai.azure.com/openai/deployments/gpt-4.1/chat/completions?api-version=2025-01-01-preview \"HTTP/1.1 200 OK\"\n",
      "2025-06-02 21:11:20,999 - INFO - Refelect message: Content accuracy:\n",
      "- The vocabulary item \"渋滞\" is appropriate for JLPT N3, and the context of \"朝の通勤時間は道路が渋滞していることが多いです\" is clear and relevant.\n",
      "- The distractors (\"混雑\", \"整備\", \"通過\", \"解決\") are all at an appropriate level for N3, and each is plausible enough to challenge students' understanding of nuance.\n",
      "\n",
      "Question and answer quality:\n",
      "- The sentence is clearly worded, and the target word \"渋滞\" fits naturally in the context.\n",
      "- The correct answer (\"混雑\") is the closest synonym in this context, which is appropriate for synonym/meaning recognition at N3.\n",
      "- There is no ambiguity in the answer choices, and each option tests different aspects of vocabulary knowledge.\n",
      "\n",
      "Cultural and academic appropriateness:\n",
      "- The context of morning commute and traffic is culturally relevant and commonly encountered in Japanese society.\n",
      "- The language used is standard and appropriate for academic testing.\n",
      "\n",
      "Feedback and recommendations:\n",
      "- The question effectively assesses vocabulary knowledge at the JLPT N3 level, using a realistic scenario.\n",
      "- The distractors are well chosen and require the student to have a nuanced understanding of similar vocabulary.\n",
      "- No changes are necessary.\n",
      "\n",
      "GOOD ENOUGH\n"
     ]
    },
    {
     "name": "stdout",
     "output_type": "stream",
     "text": [
      "--- AI Reviser feels Good Enough ---\n",
      "--- Formatter ---\n"
     ]
    },
    {
     "name": "stderr",
     "output_type": "stream",
     "text": [
      "2025-06-02 21:11:22,149 - INFO - HTTP Request: POST https://ai-rolandaws880125ai409947751408.openai.azure.com/openai/deployments/gpt-4.1/chat/completions?api-version=2025-01-01-preview \"HTTP/1.1 200 OK\"\n",
      "2025-06-02 21:11:22,151 - INFO - Formatted message: {'html_question': '<a>朝の通勤時間は道路が<u>渋滞</u>していることが多いです。</a>', 'correct_answer': 1, 'choices': ['混雑', '整備', '通過', '解決']}\n",
      "\n",
      "Processing (synonym_substitution):  80%|████████  | 4/5 [00:30<00:07,  7.69s/it]\u001B[A"
     ]
    },
    {
     "name": "stdout",
     "output_type": "stream",
     "text": [
      "---WEB SEARCH---\n",
      "---Generator----\n"
     ]
    },
    {
     "name": "stderr",
     "output_type": "stream",
     "text": [
      "2025-06-02 21:11:25,378 - INFO - HTTP Request: POST https://ai-rolandaws880125ai409947751408.openai.azure.com/openai/deployments/gpt-4.1/chat/completions?api-version=2025-01-01-preview \"HTTP/1.1 200 OK\"\n",
      "2025-06-02 21:11:25,379 - INFO - Generated message: <a>この本は日本の歴史<u>に関する</u>内容です。</a>\n",
      "<ul class='options'>\n",
      "  <li>ついて</li>\n",
      "  <li>あつめて</li>\n",
      "  <li>すすめて</li>\n",
      "  <li>まなんで</li>\n",
      "</ul>\n",
      "正解: 1\n"
     ]
    },
    {
     "name": "stdout",
     "output_type": "stream",
     "text": [
      "---REVISOR---\n"
     ]
    },
    {
     "name": "stderr",
     "output_type": "stream",
     "text": [
      "2025-06-02 21:11:28,185 - INFO - HTTP Request: POST https://ai-rolandaws880125ai409947751408.openai.azure.com/openai/deployments/gpt-4.1/chat/completions?api-version=2025-01-01-preview \"HTTP/1.1 200 OK\"\n",
      "2025-06-02 21:11:28,186 - INFO - Refelect message: Content Accuracy:  \n",
      "The question tests the correct usage of the expression 「～に関する」, which is appropriate for JLPT N3 level. The vocabulary and grammar point are suitable, and the reading passage is clear and contextually relevant. The sentence \"この本は日本の歴史に関する内容です。\" is natural and representative of academic Japanese.\n",
      "\n",
      "Question and Answer Quality:  \n",
      "The sentence is clearly worded and unambiguous. The distractor options (あつめて, すすめて, まなんで) are plausible but incorrect, which is good for assessing student understanding. The correct answer (ついて) is the most appropriate synonym for \"に関する\" in this context, making the question effective for testing.\n",
      "\n",
      "Cultural and Academic Relevance:  \n",
      "The content is culturally appropriate, referencing Japanese history, which is a common and relevant topic in Japanese language education.\n",
      "\n",
      "Feedback and Recommendations:  \n",
      "GOOD ENOUGH\n"
     ]
    },
    {
     "name": "stdout",
     "output_type": "stream",
     "text": [
      "--- AI Reviser feels Good Enough ---\n",
      "--- Formatter ---\n"
     ]
    },
    {
     "name": "stderr",
     "output_type": "stream",
     "text": [
      "2025-06-02 21:11:29,068 - INFO - HTTP Request: POST https://ai-rolandaws880125ai409947751408.openai.azure.com/openai/deployments/gpt-4.1/chat/completions?api-version=2025-01-01-preview \"HTTP/1.1 200 OK\"\n",
      "2025-06-02 21:11:29,070 - INFO - Formatted message: {'html_question': '<a>この本は日本の歴史<u>に関する</u>内容です。</a>', 'correct_answer': 1, 'choices': ['ついて', 'あつめて', 'すすめて', 'まなんで']}\n",
      "\n",
      "Processing (synonym_substitution): 100%|██████████| 5/5 [00:37<00:00,  7.48s/it]\u001B[A\n",
      "Processing 第1部　語彙・文法:  80%|████████  | 4/5 [01:08<00:20, 20.75s/it]\n",
      "Processing (word_usage):   0%|          | 0/5 [00:00<?, ?it/s]\u001B[A"
     ]
    },
    {
     "name": "stdout",
     "output_type": "stream",
     "text": [
      "---WEB SEARCH---\n",
      "---Generator----\n"
     ]
    },
    {
     "name": "stderr",
     "output_type": "stream",
     "text": [
      "2025-06-02 21:11:33,055 - INFO - HTTP Request: POST https://ai-rolandaws880125ai409947751408.openai.azure.com/openai/deployments/gpt-4.1/chat/completions?api-version=2025-01-01-preview \"HTTP/1.1 200 OK\"\n",
      "2025-06-02 21:11:33,056 - INFO - Generated message: <a>渋滞</a>\n",
      "<ul class='options'>\n",
      "  <li>この道は朝になると車が多くなり、<u>渋滞</u>が発生します。</li>\n",
      "  <li>旅行の前に天気予報と<u>渋滞</u>を調べておきましょう。</li>\n",
      "  <li>高速道路で事故があり、長い<u>渋滞</u>が続きました。</li>\n",
      "  <li>新しい信号ができてから、この交差点は<u>渋滞</u>しなくなりました。</li>\n",
      "</ul>\n",
      "正解: 1\n"
     ]
    },
    {
     "name": "stdout",
     "output_type": "stream",
     "text": [
      "---REVISOR---\n"
     ]
    },
    {
     "name": "stderr",
     "output_type": "stream",
     "text": [
      "2025-06-02 21:11:39,607 - INFO - HTTP Request: POST https://ai-rolandaws880125ai409947751408.openai.azure.com/openai/deployments/gpt-4.1/chat/completions?api-version=2025-01-01-preview \"HTTP/1.1 200 OK\"\n",
      "2025-06-02 21:11:39,608 - INFO - Refelect message: Feedback and Recommendations:\n",
      "\n",
      "Content Accuracy:\n",
      "- The vocabulary word \"渋滞\" (じゅうたい; traffic jam/congestion) is appropriately selected for the JLPT N3 level.\n",
      "- All sentences provided as options use \"渋滞\" in accurate and natural contexts, reflecting common situations in Japanese daily life and media.\n",
      "- The grammar and vocabulary level of the sentences are suitable for N3, with no overly advanced or simplistic structures.\n",
      "\n",
      "Question and Answer Quality:\n",
      "- The sentences are clearly worded and free from ambiguity. Each option demonstrates a different, but correct, usage of \"渋滞.\"\n",
      "- All options are plausible, making the question challenging enough for N3 students.\n",
      "- The context in each example is different, which helps assess the students' comprehensive understanding of the word.\n",
      "- The correct answer is indicated as option 1, but all sentences are actually correct usages of \"渋滞.\" There is no clear indication as to why only option 1 is correct, which may confuse students. If the intention is to select the most typical or natural usage, this should be reflected in the distractors by making one or more options less natural or contextually awkward.\n",
      "\n",
      "Cultural and Academic Appropriateness:\n",
      "- All sentences are culturally appropriate and reflect real-life Japanese situations (e.g., morning traffic, checking traffic before traveling, highway accidents, and changes after a new signal is installed).\n",
      "- The content is relevant to Japanese daily life and would be familiar to learners.\n",
      "\n",
      "Detailed Recommendations:\n",
      "- Since all four sentences are grammatically and contextually correct, the question as currently constructed does not have a single correct answer, which may confuse students. For JLPT-style questions, distractors should include sentences that are incorrect, unnatural, or less appropriate for the meaning of the word.\n",
      "- To improve, consider replacing one or more options with sentences where \"渋滞\" is used incorrectly (e.g., in a context where congestion does not make sense, or with an incorrect verb).\n",
      "- Alternatively, if the goal is to choose the most natural usage, ensure that the distractors are less natural or contextually awkward.\n",
      "\n",
      "Final Evaluation:\n",
      "- The word choice, sentence structure, and cultural content are all appropriate for N3.\n",
      "- However, the question format needs refinement to ensure only one clear, correct answer.\n",
      "\n",
      "Request: Please revise the options so that only one is the correct or most natural usage of \"渋滞,\" or clarify the intended focus of the question.\n",
      "\n",
      "Overall: Needs revision for clear answer selection.\n"
     ]
    },
    {
     "name": "stdout",
     "output_type": "stream",
     "text": [
      "---Generator----\n"
     ]
    },
    {
     "name": "stderr",
     "output_type": "stream",
     "text": [
      "2025-06-02 21:11:41,599 - INFO - HTTP Request: POST https://ai-rolandaws880125ai409947751408.openai.azure.com/openai/deployments/gpt-4.1/chat/completions?api-version=2025-01-01-preview \"HTTP/1.1 200 OK\"\n",
      "2025-06-02 21:11:41,600 - INFO - Generated message: <a>渋滞</a>\n",
      "<ul class='options'>\n",
      "  <li>この道は朝になると車が多くなり、<u>渋滞</u>が発生します。</li>\n",
      "  <li>昨日の会議は<u>渋滞</u>があって、とても楽しかったです。</li>\n",
      "  <li>毎日、冷蔵庫の中が<u>渋滞</u>しています。</li>\n",
      "  <li>新しい映画の<u>渋滞</u>を見て、感動しました。</li>\n",
      "</ul>\n",
      "正解: 1\n"
     ]
    },
    {
     "name": "stdout",
     "output_type": "stream",
     "text": [
      "---REVISOR---\n"
     ]
    },
    {
     "name": "stderr",
     "output_type": "stream",
     "text": [
      "2025-06-02 21:11:42,161 - INFO - HTTP Request: POST https://ai-rolandaws880125ai409947751408.openai.azure.com/openai/deployments/gpt-4.1/chat/completions?api-version=2025-01-01-preview \"HTTP/1.1 200 OK\"\n",
      "2025-06-02 21:11:42,162 - INFO - Refelect message: GOOD ENOUGH\n"
     ]
    },
    {
     "name": "stdout",
     "output_type": "stream",
     "text": [
      "--- AI Reviser feels Good Enough ---\n",
      "--- Formatter ---\n"
     ]
    },
    {
     "name": "stderr",
     "output_type": "stream",
     "text": [
      "2025-06-02 21:11:43,274 - INFO - HTTP Request: POST https://ai-rolandaws880125ai409947751408.openai.azure.com/openai/deployments/gpt-4.1/chat/completions?api-version=2025-01-01-preview \"HTTP/1.1 200 OK\"\n",
      "2025-06-02 21:11:43,279 - INFO - Formatted message: {'html_question': '<a>渋滞</a>', 'correct_answer': 1, 'choices': ['この道は朝になると車が多くなり、<u>渋滞</u>が発生します。', '昨日の会議は<u>渋滞</u>があって、とても楽しかったです。', '毎日、冷蔵庫の中が<u>渋滞</u>しています。', '新しい映画の<u>渋滞</u>を見て、感動しました。']}\n",
      "\n",
      "Processing (word_usage):  20%|██        | 1/5 [00:14<00:56, 14.20s/it]\u001B[A"
     ]
    },
    {
     "name": "stdout",
     "output_type": "stream",
     "text": [
      "---WEB SEARCH---\n",
      "---Generator----\n"
     ]
    },
    {
     "name": "stderr",
     "output_type": "stream",
     "text": [
      "2025-06-02 21:11:47,636 - INFO - HTTP Request: POST https://ai-rolandaws880125ai409947751408.openai.azure.com/openai/deployments/gpt-4.1/chat/completions?api-version=2025-01-01-preview \"HTTP/1.1 200 OK\"\n",
      "2025-06-02 21:11:47,640 - INFO - Generated message: <a>ふそく</a>\n",
      "<ul class='options'>\n",
      "  <li>最近、この町では水が<u>ふそく</u>していて、みんな困っています</li>\n",
      "  <li>彼の話は<u>ふそく</u>が多くて、よくわかりませんでした</li>\n",
      "  <li>新しい映画の<u>ふそく</u>を見て、見に行きたくなりました</li>\n",
      "  <li>この本の<u>ふそく</u>を読んで、内容がよく理解できました</li>\n",
      "</ul>\n",
      "正解: 1\n"
     ]
    },
    {
     "name": "stdout",
     "output_type": "stream",
     "text": [
      "---REVISOR---\n"
     ]
    },
    {
     "name": "stderr",
     "output_type": "stream",
     "text": [
      "2025-06-02 21:11:53,820 - INFO - HTTP Request: POST https://ai-rolandaws880125ai409947751408.openai.azure.com/openai/deployments/gpt-4.1/chat/completions?api-version=2025-01-01-preview \"HTTP/1.1 200 OK\"\n",
      "2025-06-02 21:11:53,821 - INFO - Refelect message: Content Accuracy:\n",
      "- The vocabulary item \"ふそく\" (不足) is appropriate for JLPT N3 level. It means \"shortage\" or \"lack,\" and is commonly used in contexts such as \"water shortage\" or \"lack of information.\" The example sentence in option 1 is accurate and contextually appropriate.\n",
      "- Option 2 is slightly awkward, as \"話の不足\" is not a common phrase; \"説明不足\" or \"情報の不足\" would be more natural. However, it is understandable at N3 level that the student should recognize the unnatural usage.\n",
      "- Options 3 and 4 use \"ふそく\" incorrectly. \"映画の不足\" and \"本の不足\" do not make sense in Japanese; perhaps \"映画の予告\" (trailer) or \"本の要約\" (summary) was intended.\n",
      "\n",
      "Question and Answer Quality:\n",
      "- The question is clear and unambiguous. The correct answer (option 1) is the only one that makes sense, as \"水が不足していて\" is a common phrase.\n",
      "- The distractors (other options) are effective in testing the student's understanding of the meaning of \"ふそく,\" though options 3 and 4 may be too obviously incorrect for N3-level students, as the collocation is unnatural.\n",
      "- The difficulty level is generally appropriate, though the distractors could be improved for better challenge.\n",
      "\n",
      "Cultural and Academic Appropriateness:\n",
      "- The context of water shortage in a town is culturally and academically relevant for Japanese learners.\n",
      "- All content is appropriate, with no cultural insensitivity.\n",
      "\n",
      "Detailed Recommendations:\n",
      "- Consider refining the distractors to make them more plausible, but still incorrect, to better challenge N3 students. For example:\n",
      "  - 彼の説明は<u>ふそく</u>していて、よくわかりませんでした (His explanation was lacking, so I didn't understand well)\n",
      "  - 新しい映画の情報が<u>ふそく</u>していて、内容がよくわかりません (There is a lack of information about the new movie, so I don't understand its content well)\n",
      "- Option 2 could be improved by using \"説明\" or \"情報\" instead of \"話.\"\n",
      "- Options 3 and 4 could be replaced with sentences that use \"ふそく\" in a contextually plausible but still incorrect way.\n",
      "\n",
      "Final Feedback:\n",
      "- The main answer is correct and the question is appropriate, but the distractors could be more challenging and natural. Please revise the distractors for better quality.\n",
      "\n",
      "Request:\n",
      "- Please submit revised distractors for review.\n"
     ]
    },
    {
     "name": "stdout",
     "output_type": "stream",
     "text": [
      "---Generator----\n"
     ]
    },
    {
     "name": "stderr",
     "output_type": "stream",
     "text": [
      "2025-06-02 21:11:55,243 - INFO - HTTP Request: POST https://ai-rolandaws880125ai409947751408.openai.azure.com/openai/deployments/gpt-4.1/chat/completions?api-version=2025-01-01-preview \"HTTP/1.1 200 OK\"\n",
      "2025-06-02 21:11:55,244 - INFO - Generated message: <a>ふそく</a>\n",
      "<ul class='options'>\n",
      "  <li>最近、この町では水が<u>ふそく</u>していて、みんな困っています</li>\n",
      "  <li>彼の説明は<u>ふそく</u>していて、よくわかりませんでした</li>\n",
      "  <li>新しい映画の情報が<u>ふそく</u>していて、内容がよくわかりません</li>\n",
      "  <li>このレストランはサービスが<u>ふそく</u>していると感じました</li>\n",
      "</ul>\n",
      "正解: 1\n"
     ]
    },
    {
     "name": "stdout",
     "output_type": "stream",
     "text": [
      "---REVISOR---\n"
     ]
    },
    {
     "name": "stderr",
     "output_type": "stream",
     "text": [
      "2025-06-02 21:12:00,169 - INFO - HTTP Request: POST https://ai-rolandaws880125ai409947751408.openai.azure.com/openai/deployments/gpt-4.1/chat/completions?api-version=2025-01-01-preview \"HTTP/1.1 200 OK\"\n",
      "2025-06-02 21:12:00,172 - INFO - Refelect message: Content Accuracy:\n",
      "- The vocabulary \"ふそく\" (不足) is accurately presented and all four sentences use it in grammatically and contextually plausible ways for JLPT N3.\n",
      "- Option 1 is the best answer, as \"水が不足している\" is a very common and natural expression.\n",
      "- Option 2 (\"説明は不足していて\") and Option 3 (\"情報が不足していて\") are both grammatically correct and natural collocations, but in the context of the question, they could potentially be correct as well.\n",
      "- Option 4 (\"サービスが不足している\") is also a natural and common phrase.\n",
      "\n",
      "Question and Answer Quality:\n",
      "- All options are clearly worded and free from ambiguity.\n",
      "- However, because all options are grammatically and contextually valid, the question does not have a single clear correct answer, which may confuse students. This reduces the effectiveness of the assessment, as students could reasonably choose any of the options.\n",
      "- The difficulty level is slightly above N3 in terms of nuance, as students need to distinguish which context is most prototypical for \"ふそく\".\n",
      "\n",
      "Cultural and Academic Appropriateness:\n",
      "- All contexts are culturally appropriate and relevant to Japanese language and daily life.\n",
      "\n",
      "Detailed Recommendations:\n",
      "- To ensure a single, unambiguous correct answer, modify the distractors so that \"ふそく\" is used in a way that is grammatically correct but contextually awkward or unnatural, or choose contexts where \"ふそく\" is not typically used.\n",
      "- For example:\n",
      "  - Use \"説明が短くて\" instead of \"説明は不足していて\"\n",
      "  - Use \"映画の情報が少なくて\" instead of \"情報が不足していて\"\n",
      "  - Use \"サービスが悪くて\" instead of \"サービスが不足している\"\n",
      "- Alternatively, keep only one clearly natural use of \"ふそく\" and make the others less appropriate.\n",
      "\n",
      "Final Feedback:\n",
      "- Please revise the distractors so that only one option is clearly and naturally correct for \"ふそく,\" while the others are plausible but not typically used with \"ふそく.\" This will improve the quality of the question and ensure it accurately assesses student understanding.\n",
      "\n",
      "Request:\n",
      "- Please resubmit with revised distractors for final review.\n"
     ]
    },
    {
     "name": "stdout",
     "output_type": "stream",
     "text": [
      "---Generator----\n"
     ]
    },
    {
     "name": "stderr",
     "output_type": "stream",
     "text": [
      "2025-06-02 21:12:03,607 - INFO - HTTP Request: POST https://ai-rolandaws880125ai409947751408.openai.azure.com/openai/deployments/gpt-4.1/chat/completions?api-version=2025-01-01-preview \"HTTP/1.1 200 OK\"\n",
      "2025-06-02 21:12:03,608 - INFO - Generated message: <a>ふそく</a>\n",
      "<ul class='options'>\n",
      "  <li>最近、この町では水が<u>ふそく</u>していて、みんな困っています</li>\n",
      "  <li>彼の説明は<u>ふそく</u>していて、とても面白かったです</li>\n",
      "  <li>新しい映画の<u>ふそく</u>を見て、見に行きたくなりました</li>\n",
      "  <li>このレストランはサービスが<u>ふそく</u>で、料理がとてもおいしかったです</li>\n",
      "</ul>\n",
      "正解: 1\n"
     ]
    },
    {
     "name": "stdout",
     "output_type": "stream",
     "text": [
      "---REVISOR---\n"
     ]
    },
    {
     "name": "stderr",
     "output_type": "stream",
     "text": [
      "2025-06-02 21:12:07,204 - INFO - HTTP Request: POST https://ai-rolandaws880125ai409947751408.openai.azure.com/openai/deployments/gpt-4.1/chat/completions?api-version=2025-01-01-preview \"HTTP/1.1 200 OK\"\n",
      "2025-06-02 21:12:07,207 - INFO - Refelect message: Content Accuracy:\n",
      "- The key vocabulary \"ふそく\" (不足) is accurately targeted for JLPT N3.\n",
      "- Option 1 is the only correct and natural use: \"水が不足していて\" is a common and clear example of the word.\n",
      "- Option 2 (\"説明は不足していて、とても面白かったです\") is contextually awkward; if an explanation is lacking, it would not typically be described as \"very interesting,\" which makes the sentence unnatural.\n",
      "- Option 3 (\"映画の不足を見て\") is an incorrect and unnatural collocation; \"不足\" is not used with \"映画\" in this way.\n",
      "- Option 4 (\"サービスが不足で、料理がとてもおいしかったです\") is also awkward, as the sentence juxtaposes a negative (lack of service) with a positive (delicious food) in a way that is not typical in Japanese.\n",
      "\n",
      "Question and Answer Quality:\n",
      "- The question is now clear, and there is only one unambiguously correct answer.\n",
      "- The distractors are plausible at a glance but become clearly incorrect upon closer inspection, which is appropriate for N3-level students.\n",
      "- The difficulty level is appropriate and the question tests both vocabulary meaning and natural usage.\n",
      "\n",
      "Cultural and Academic Appropriateness:\n",
      "- All content is culturally appropriate and relevant to Japanese language learning contexts.\n",
      "\n",
      "Final Feedback:\n",
      "GOOD ENOUGH\n"
     ]
    },
    {
     "name": "stdout",
     "output_type": "stream",
     "text": [
      "--- AI Reviser feels Good Enough ---\n",
      "--- Formatter ---\n"
     ]
    },
    {
     "name": "stderr",
     "output_type": "stream",
     "text": [
      "2025-06-02 21:12:08,301 - INFO - HTTP Request: POST https://ai-rolandaws880125ai409947751408.openai.azure.com/openai/deployments/gpt-4.1/chat/completions?api-version=2025-01-01-preview \"HTTP/1.1 200 OK\"\n",
      "2025-06-02 21:12:08,303 - INFO - Formatted message: {'html_question': '<a>ふそく</a>', 'correct_answer': 1, 'choices': ['最近、この町では水が<u>ふそく</u>していて、みんな困っています', '彼の説明は<u>ふそく</u>していて、とても面白かったです', '新しい映画の<u>ふそく</u>を見て、見に行きたくなりました', 'このレストランはサービスが<u>ふそく</u>で、料理がとてもおいしかったです']}\n",
      "\n",
      "Processing (word_usage):  40%|████      | 2/5 [00:39<01:01, 20.57s/it]\u001B[A"
     ]
    },
    {
     "name": "stdout",
     "output_type": "stream",
     "text": [
      "---WEB SEARCH---\n",
      "---Generator----\n"
     ]
    },
    {
     "name": "stderr",
     "output_type": "stream",
     "text": [
      "2025-06-02 21:12:12,385 - INFO - HTTP Request: POST https://ai-rolandaws880125ai409947751408.openai.azure.com/openai/deployments/gpt-4.1/chat/completions?api-version=2025-01-01-preview \"HTTP/1.1 200 OK\"\n",
      "2025-06-02 21:12:12,389 - INFO - Generated message: <a>手段</a>\n",
      "<ul class='options'>\n",
      "  <li>新しい仕事を見つける<u>手段</u>を探しています</li>\n",
      "  <li>この料理の<u>手段</u>はとても簡単です</li>\n",
      "  <li>友達と話す<u>手段</u>がなくなってしまいました</li>\n",
      "  <li>目的のためにはどんな<u>手段</u>も使います</li>\n",
      "</ul>\n",
      "正解: 2\n"
     ]
    },
    {
     "name": "stdout",
     "output_type": "stream",
     "text": [
      "---REVISOR---\n"
     ]
    },
    {
     "name": "stderr",
     "output_type": "stream",
     "text": [
      "2025-06-02 21:12:16,303 - INFO - HTTP Request: POST https://ai-rolandaws880125ai409947751408.openai.azure.com/openai/deployments/gpt-4.1/chat/completions?api-version=2025-01-01-preview \"HTTP/1.1 200 OK\"\n",
      "2025-06-02 21:12:16,304 - INFO - Refelect message: Content Accuracy:\n",
      "- The vocabulary item \"手段\" (means, method, way) is appropriate for JLPT N3 level.\n",
      "- The sentences provided are generally clear and use vocabulary and grammar suitable for N3, except for some contextual issues.\n",
      "\n",
      "Question and Answer Quality:\n",
      "- The first, third, and fourth options use \"手段\" correctly, expressing \"means\" or \"way\" to do something.\n",
      "- The second option, \"この料理の手段はとても簡単です,\" is incorrect because \"手段\" is not naturally used to describe a recipe or how to make a dish. The correct word would be \"作り方\" or \"レシピ.\"\n",
      "- The correct answer is thus option 2, which is appropriate for a test of correct word usage.\n",
      "\n",
      "Detailed Refinement:\n",
      "- All sentences are culturally appropriate and reflect academic Japanese.\n",
      "- The distractor (option 2) is well-designed, as it tests the student's understanding of the nuanced meaning of \"手段.\"\n",
      "- The context and vocabulary are suitable for N3, and the question tests practical language skills.\n",
      "\n",
      "Feedback:\n",
      "GOOD ENOUGH\n"
     ]
    },
    {
     "name": "stdout",
     "output_type": "stream",
     "text": [
      "--- AI Reviser feels Good Enough ---\n",
      "--- Formatter ---\n"
     ]
    },
    {
     "name": "stderr",
     "output_type": "stream",
     "text": [
      "2025-06-02 21:12:17,950 - INFO - HTTP Request: POST https://ai-rolandaws880125ai409947751408.openai.azure.com/openai/deployments/gpt-4.1/chat/completions?api-version=2025-01-01-preview \"HTTP/1.1 200 OK\"\n",
      "2025-06-02 21:12:17,956 - INFO - Formatted message: {'html_question': '<a>手段</a>', 'correct_answer': 2, 'choices': ['新しい仕事を見つける<u>手段</u>を探しています', 'この料理の<u>手段</u>はとても簡単です', '友達と話す<u>手段</u>がなくなってしまいました', '目的のためにはどんな<u>手段</u>も使います']}\n",
      "\n",
      "Processing (word_usage):  60%|██████    | 3/5 [00:48<00:31, 15.59s/it]\u001B[A"
     ]
    },
    {
     "name": "stdout",
     "output_type": "stream",
     "text": [
      "---WEB SEARCH---\n",
      "---Generator----\n"
     ]
    },
    {
     "name": "stderr",
     "output_type": "stream",
     "text": [
      "2025-06-02 21:12:22,323 - INFO - HTTP Request: POST https://ai-rolandaws880125ai409947751408.openai.azure.com/openai/deployments/gpt-4.1/chat/completions?api-version=2025-01-01-preview \"HTTP/1.1 200 OK\"\n",
      "2025-06-02 21:12:22,327 - INFO - Generated message: <a>かんする</a>\n",
      "<ul class='options'>\n",
      "  <li>この本は日本の歴史に<u>かんする</u>話がたくさん書かれています。</li>\n",
      "  <li>毎朝、駅に<u>かんする</u>掃除をしています。</li>\n",
      "  <li>友達と一緒に<u>かんする</u>映画を見に行きました。</li>\n",
      "  <li>今日は寒いので、温かいスープに<u>かんする</u>気分です。</li>\n",
      "</ul>\n",
      "正解: 1\n"
     ]
    },
    {
     "name": "stdout",
     "output_type": "stream",
     "text": [
      "---REVISOR---\n"
     ]
    },
    {
     "name": "stderr",
     "output_type": "stream",
     "text": [
      "2025-06-02 21:12:26,672 - INFO - HTTP Request: POST https://ai-rolandaws880125ai409947751408.openai.azure.com/openai/deployments/gpt-4.1/chat/completions?api-version=2025-01-01-preview \"HTTP/1.1 200 OK\"\n",
      "2025-06-02 21:12:26,676 - INFO - Refelect message: Content Accuracy:\n",
      "- The vocabulary item \"かんする\" (concerning, regarding) is appropriate for the JLPT N3 level and is commonly tested.\n",
      "- The sample sentence for the correct answer (1) is accurate and natural: \"この本は日本の歴史にかんする話がたくさん書かれています。\" (\"This book contains many stories regarding Japanese history.\")\n",
      "- The distractor sentences (2, 3, 4) use \"かんする\" incorrectly, which is suitable for testing understanding of its proper usage.\n",
      "\n",
      "Question and Answer Quality:\n",
      "- All answer choices are clearly worded and unambiguous.\n",
      "- The sentences are concise, making the distinction between correct and incorrect usage clear.\n",
      "- The level of difficulty is appropriate for JLPT N3, focusing on a commonly misused phrase.\n",
      "\n",
      "Cultural and Academic Appropriateness:\n",
      "- The content is culturally neutral and relevant to Japanese academic language.\n",
      "- No inappropriate or culturally insensitive content is present.\n",
      "- The context of the sentences (history, daily life, movies, food) is familiar and suitable for learners at this level.\n",
      "\n",
      "Feedback:\n",
      "GOOD ENOUGH\n"
     ]
    },
    {
     "name": "stdout",
     "output_type": "stream",
     "text": [
      "--- AI Reviser feels Good Enough ---\n",
      "--- Formatter ---\n"
     ]
    },
    {
     "name": "stderr",
     "output_type": "stream",
     "text": [
      "2025-06-02 21:12:27,748 - INFO - HTTP Request: POST https://ai-rolandaws880125ai409947751408.openai.azure.com/openai/deployments/gpt-4.1/chat/completions?api-version=2025-01-01-preview \"HTTP/1.1 200 OK\"\n",
      "2025-06-02 21:12:27,750 - INFO - Formatted message: {'html_question': '<a>かんする</a>', 'correct_answer': 1, 'choices': ['この本は日本の歴史に<u>かんする</u>話がたくさん書かれています。', '毎朝、駅に<u>かんする</u>掃除をしています。', '友達と一緒に<u>かんする</u>映画を見に行きました。', '今日は寒いので、温かいスープに<u>かんする</u>気分です。']}\n",
      "\n",
      "Processing (word_usage):  80%|████████  | 4/5 [00:58<00:13, 13.30s/it]\u001B[A"
     ]
    },
    {
     "name": "stdout",
     "output_type": "stream",
     "text": [
      "---WEB SEARCH---\n",
      "---Generator----\n"
     ]
    },
    {
     "name": "stderr",
     "output_type": "stream",
     "text": [
      "2025-06-02 21:12:31,883 - INFO - HTTP Request: POST https://ai-rolandaws880125ai409947751408.openai.azure.com/openai/deployments/gpt-4.1/chat/completions?api-version=2025-01-01-preview \"HTTP/1.1 200 OK\"\n",
      "2025-06-02 21:12:31,884 - INFO - Generated message: <a>手段</a>\n",
      "<ul class='options'>\n",
      "  <li>目的のためには<u>手段</u>を選ばない人もいます。</li>\n",
      "  <li>この問題を解決する<u>手段</u>を考えましょう。</li>\n",
      "  <li>駅まで行く<u>手段</u>がなくて、困っています。</li>\n",
      "  <li>彼の<u>手段</u>はとても親切でした。</li>\n",
      "</ul>\n",
      "正解: 4\n"
     ]
    },
    {
     "name": "stdout",
     "output_type": "stream",
     "text": [
      "---REVISOR---\n"
     ]
    },
    {
     "name": "stderr",
     "output_type": "stream",
     "text": [
      "2025-06-02 21:12:36,094 - INFO - HTTP Request: POST https://ai-rolandaws880125ai409947751408.openai.azure.com/openai/deployments/gpt-4.1/chat/completions?api-version=2025-01-01-preview \"HTTP/1.1 200 OK\"\n",
      "2025-06-02 21:12:36,095 - INFO - Refelect message: Content Accuracy:  \n",
      "The vocabulary item \"手段\" (means, method, way) is appropriate for JLPT N3 level. The example sentences (1-3) accurately reflect the correct usage of \"手段\" in natural, everyday contexts, as would be expected at this level. Sentence 4 is incorrect, as \"手段\" does not mean \"manner\" in the sense of kindness; the word \"方法\" or \"やり方\" would be more appropriate if referring to \"way\" in terms of kindness. This makes sentence 4 the correct answer for identifying the incorrect usage, which is appropriate for this type of question.\n",
      "\n",
      "Question and Answer Quality:  \n",
      "The wording of each sentence is clear, concise, and unambiguous. The sentences effectively test the student's understanding of the meaning and usage of \"手段.\" The distractors (1-3) are plausible and natural, while the incorrect usage in sentence 4 is clear but not overly obvious, providing a suitable challenge for N3 students. The format is consistent with JLPT-style questions.\n",
      "\n",
      "Cultural and Academic Appropriateness:  \n",
      "All sentences are culturally appropriate and relevant to real-life situations in Japan. The contexts (problem-solving, transportation, means to an end) are common and suitable for the academic setting.\n",
      "\n",
      "Detailed Recommendations:  \n",
      "- The question is well-constructed and targets the intended skill (vocabulary usage in context) at the appropriate level.\n",
      "- The distractors are effective, and the error in sentence 4 is subtle enough to challenge students without being misleading.\n",
      "- No improvements are necessary regarding grammar, vocabulary, or cultural content.\n",
      "\n",
      "Feedback:  \n",
      "GOOD ENOUGH\n"
     ]
    },
    {
     "name": "stdout",
     "output_type": "stream",
     "text": [
      "--- AI Reviser feels Good Enough ---\n",
      "--- Formatter ---\n"
     ]
    },
    {
     "name": "stderr",
     "output_type": "stream",
     "text": [
      "2025-06-02 21:12:37,118 - INFO - HTTP Request: POST https://ai-rolandaws880125ai409947751408.openai.azure.com/openai/deployments/gpt-4.1/chat/completions?api-version=2025-01-01-preview \"HTTP/1.1 200 OK\"\n",
      "2025-06-02 21:12:37,119 - INFO - Formatted message: {'html_question': '<a>手段</a>', 'correct_answer': 4, 'choices': ['目的のためには<u>手段</u>を選ばない人もいます。', 'この問題を解決する<u>手段</u>を考えましょう。', '駅まで行く<u>手段</u>がなくて、困っています。', '彼の<u>手段</u>はとても親切でした。']}\n",
      "\n",
      "Processing (word_usage): 100%|██████████| 5/5 [01:08<00:00, 13.61s/it]\u001B[A\n",
      "Processing 第1部　語彙・文法: 100%|██████████| 5/5 [02:16<00:00, 27.23s/it]"
     ]
    },
    {
     "name": "stdout",
     "output_type": "stream",
     "text": [
      "Total execution time: 136.17 seconds\n"
     ]
    },
    {
     "name": "stderr",
     "output_type": "stream",
     "text": [
      "\n"
     ]
    }
   ],
   "source": [
    "import re\n",
    "outliner_json = initial_outline.model_dump_json()\n",
    "data = json.loads(outliner_json)  # Replace with your actual JSON data\n",
    "\n",
    "start_time = time.time()\n",
    "\n",
    "output_data = {'sections': []}\n",
    "\n",
    "for section in data['sections']:\n",
    "    output_section = {'section_title': section['section_title'], 'subsections': []}\n",
    "\n",
    "    for subsection in tqdm(section['subsections'], desc=f\"Processing {section['section_title']}\"):\n",
    "        function_name = re.findall(r'\\((.*?)\\)', subsection['subsection_title'])[0]\n",
    "\n",
    "        questions = subsection['question_topics']\n",
    "\n",
    "        for question in tqdm(questions, desc=f\"Processing {subsection['subsection_title']}\"):\n",
    "            handler = ExamTaskHandler()\n",
    "            func = getattr(handler, function_name, None)\n",
    "\n",
    "            if func:\n",
    "                max_attempts = 2\n",
    "                original_topic = question['topic']  # Optional: Track original topic\n",
    "                for attempt in range(max_attempts):\n",
    "                    try:\n",
    "                        result = func(question['topic'])\n",
    "                        question['result'] = result\n",
    "                        break  # Exit on success\n",
    "                    except Exception as e:\n",
    "                        if attempt < max_attempts - 1:\n",
    "                            # Replace topic and retry\n",
    "                            question['topic'] = random.choice(topics_list)\n",
    "                        else:\n",
    "                            question['result'] = f\"Error after {max_attempts} attempts: {str(e)}\"\n",
    "            else:\n",
    "                question['result'] = f\"Method {function_name} not found\"\n",
    "\n",
    "        output_subsection = {\n",
    "            'subsection_title': subsection['subsection_title'],\n",
    "            'description': subsection['description'],\n",
    "            'question_topics': questions\n",
    "        }\n",
    "        output_section['subsections'].append(output_subsection)\n",
    "\n",
    "    output_data['sections'].append(output_section)\n",
    "\n",
    "# End the timer\n",
    "end_time = time.time()\n",
    "\n",
    "# Calculate the total execution time\n",
    "execution_time = end_time - start_time\n",
    "\n",
    "print(f\"Total execution time: {execution_time:.2f} seconds\")"
   ]
  },
  {
   "cell_type": "code",
   "execution_count": 13,
   "id": "43e411616ee939b1",
   "metadata": {
    "colab": {
     "base_uri": "https://localhost:8080/",
     "height": 1000
    },
    "id": "43e411616ee939b1",
    "outputId": "97cc7eef-f8ae-4401-ef8b-022c706f112c",
    "ExecuteTime": {
     "end_time": "2025-06-02T13:12:37.131977900Z",
     "start_time": "2025-06-02T13:12:37.126830500Z"
    }
   },
   "outputs": [],
   "source": [
    "# yaml_str = yaml.dump(output_data, allow_unicode=True, sort_keys=False, default_flow_style=False)\n",
    "# # Display as formatted YAML\n",
    "# display(Markdown(yaml_str))"
   ]
  },
  {
   "cell_type": "code",
   "execution_count": 14,
   "id": "307398e88bf20dc3",
   "metadata": {
    "colab": {
     "base_uri": "https://localhost:8080/"
    },
    "id": "307398e88bf20dc3",
    "outputId": "4ff94084-e0f5-45ad-ee7b-bca01723dd10",
    "ExecuteTime": {
     "end_time": "2025-06-02T13:12:37.151359500Z",
     "start_time": "2025-06-02T13:12:37.129965900Z"
    }
   },
   "outputs": [
    {
     "data": {
      "text/plain": "{'sections': [{'section_title': '第1部\\u3000語彙・文法',\n   'subsections': [{'subsection_title': '(kanji_reading)',\n     'description': '問題1：ことばの漢字の読み方を選ぶ（1問）',\n     'question_topics': [{'topic': 'かんする',\n       'result': {'html_question': '<a>この問題は環境に<u>関する</u>ものです。</a>',\n        'correct_answer': 2,\n        'choices': ['かんせる', 'かんする', 'かんしゅう', 'かんしゃ']}}]},\n    {'subsection_title': '(write_kanji)',\n     'description': '問題2：ことばを漢字で書く（1問）',\n     'question_topics': [{'topic': 'しゅだん',\n       'result': {'html_question': '<a>この問題を解決する<u>しゅだん</u>を考えましょう。</a>',\n        'correct_answer': 1,\n        'choices': ['手段', '主段', '主断', '手断']}}]},\n    {'subsection_title': '(word_meaning)',\n     'description': '問題3：（\\u3000）に入れる最もよいことばを選ぶ（1問）',\n     'question_topics': [{'topic': 'ふそく',\n       'result': {'html_question': '<a>最近、この町では水が（\\u3000）している。</a>',\n        'correct_answer': 2,\n        'choices': ['減少', '不足', '配達', '増加']}}]},\n    {'subsection_title': '(synonym_substitution)',\n     'description': '問題4：意味が最も近いことばを選ぶ（5問）',\n     'question_topics': [{'topic': 'かんする',\n       'result': {'html_question': '<a>この本は日本の歴史<u>に関する</u>内容です。</a>',\n        'correct_answer': 1,\n        'choices': ['ついて', 'あたる', 'かわる', 'あらわす']}},\n      {'topic': 'しゅだん',\n       'result': {'html_question': '<a>この問題を解決する<u>手段</u>を考えましょう。</a>',\n        'correct_answer': 1,\n        'choices': ['方法', '結果', '理由', '目的']}},\n      {'topic': 'ふそく',\n       'result': {'html_question': '<a>この国では水が<u>不足</u>している。</a>',\n        'correct_answer': 1,\n        'choices': ['たりない', 'ふえる', '多い', '残る']}},\n      {'topic': 'じゅうたい',\n       'result': {'html_question': '<a>朝の通勤時間は道路が<u>渋滞</u>していることが多いです。</a>',\n        'correct_answer': 1,\n        'choices': ['混雑', '整備', '通過', '解決']}},\n      {'topic': 'かんする',\n       'result': {'html_question': '<a>この本は日本の歴史<u>に関する</u>内容です。</a>',\n        'correct_answer': 1,\n        'choices': ['ついて', 'あつめて', 'すすめて', 'まなんで']}}]},\n    {'subsection_title': '(word_usage)',\n     'description': '問題5：ことばの使い方として最もよいものを選ぶ（5問）',\n     'question_topics': [{'topic': 'じゅうたい',\n       'result': {'html_question': '<a>渋滞</a>',\n        'correct_answer': 1,\n        'choices': ['この道は朝になると車が多くなり、<u>渋滞</u>が発生します。',\n         '昨日の会議は<u>渋滞</u>があって、とても楽しかったです。',\n         '毎日、冷蔵庫の中が<u>渋滞</u>しています。',\n         '新しい映画の<u>渋滞</u>を見て、感動しました。']}},\n      {'topic': 'ふそく',\n       'result': {'html_question': '<a>ふそく</a>',\n        'correct_answer': 1,\n        'choices': ['最近、この町では水が<u>ふそく</u>していて、みんな困っています',\n         '彼の説明は<u>ふそく</u>していて、とても面白かったです',\n         '新しい映画の<u>ふそく</u>を見て、見に行きたくなりました',\n         'このレストランはサービスが<u>ふそく</u>で、料理がとてもおいしかったです']}},\n      {'topic': 'しゅだん',\n       'result': {'html_question': '<a>手段</a>',\n        'correct_answer': 2,\n        'choices': ['新しい仕事を見つける<u>手段</u>を探しています',\n         'この料理の<u>手段</u>はとても簡単です',\n         '友達と話す<u>手段</u>がなくなってしまいました',\n         '目的のためにはどんな<u>手段</u>も使います']}},\n      {'topic': 'かんする',\n       'result': {'html_question': '<a>かんする</a>',\n        'correct_answer': 1,\n        'choices': ['この本は日本の歴史に<u>かんする</u>話がたくさん書かれています。',\n         '毎朝、駅に<u>かんする</u>掃除をしています。',\n         '友達と一緒に<u>かんする</u>映画を見に行きました。',\n         '今日は寒いので、温かいスープに<u>かんする</u>気分です。']}},\n      {'topic': 'しゅだん',\n       'result': {'html_question': '<a>手段</a>',\n        'correct_answer': 4,\n        'choices': ['目的のためには<u>手段</u>を選ばない人もいます。',\n         'この問題を解決する<u>手段</u>を考えましょう。',\n         '駅まで行く<u>手段</u>がなくて、困っています。',\n         '彼の<u>手段</u>はとても親切でした。']}}]}]}]}"
     },
     "execution_count": 14,
     "metadata": {},
     "output_type": "execute_result"
    }
   ],
   "source": [
    "output_data"
   ]
  },
  {
   "cell_type": "code",
   "execution_count": 15,
   "id": "aa98a476d1ded815",
   "metadata": {
    "id": "aa98a476d1ded815",
    "ExecuteTime": {
     "end_time": "2025-06-02T13:12:37.185057900Z",
     "start_time": "2025-06-02T13:12:37.151359500Z"
    }
   },
   "outputs": [],
   "source": [
    "def render_to_html(sections):\n",
    "    html = '<html><body style=\"text-align: left;\">\\n'\n",
    "    for section in sections:\n",
    "        html += f'<h1>{section.get(\"section_title\", \"\")}</h1>\\n'\n",
    "        for subsection in section.get(\"subsections\", []):\n",
    "            html += f'<h2>{subsection.get(\"subsection_title\", \"\")}</h2>\\n'\n",
    "            if \"description\" in subsection:\n",
    "                html += f'<p>{subsection[\"description\"]}</p>\\n'\n",
    "            for idx, qtopic in enumerate(subsection.get(\"question_topics\", []), 1):\n",
    "                result = qtopic.get(\"result\", {})\n",
    "                if isinstance(result, dict):\n",
    "                    if \"html_article\" in result:\n",
    "                        html += result[\"html_article\"] + \"\\n\"\n",
    "                    if \"html_question\" in result:\n",
    "                        html += '<div>\\n'\n",
    "                        # html += f'<div style=\"display: flex; align-items: center;\"><div>{idx}.  </div>{result[\"html_question\"]}</div>\\n'\n",
    "                        html += f'<p><strong>{idx}. </strong>{result[\"html_question\"]}</p>'\n",
    "                        if \"choices\" in result:\n",
    "                            correct = result.get(\"correct_answer\", -1)\n",
    "                            html += '<ul>\\n'\n",
    "                            for idx, choice in enumerate(result[\"choices\"], 1):\n",
    "                                if idx == correct:\n",
    "                                    html += f\"<li>{idx}. <b>{choice}</b> <span style='color:green;'>(correct)</span></li>\\n\"\n",
    "                                else:\n",
    "                                    html += f\"<li>{idx}. {choice}</li>\\n\"\n",
    "                            html += '</ul>\\n'\n",
    "                        html += '</div>\\n'\n",
    "                        if \"explanation\" in result:\n",
    "                            html += f'<p><em>Explanation: {result[\"explanation\"]}</em></p>\\n'\n",
    "                    if \"questions\" in result and isinstance(result[\"questions\"], list):\n",
    "                        for q in result[\"questions\"]:\n",
    "                            html += f'<p><strong>Q: {q[\"question\"]}</strong></p>\\n'\n",
    "                            if \"choices\" in q:\n",
    "                                correct = q.get(\"correct_answer\", -1)\n",
    "                                html += '<ul>\\n'\n",
    "                                for idx, choice in enumerate(q[\"choices\"], 1):\n",
    "                                    if idx == correct:\n",
    "                                        html += f\"<li><b>{choice}</b> <span style='color:green;'>(correct)</span></li>\\n\"\n",
    "                                    else:\n",
    "                                        html += f\"<li>{choice}</li>\\n\"\n",
    "                                html += '</ul>\\n'\n",
    "                            if \"explanation\" in q:\n",
    "                                html += f'<p><em>Explanation: {q[\"explanation\"]}</em></p>\\n'\n",
    "                    if \"questions\" in result and isinstance(result[\"questions\"], dict):\n",
    "                        q = result[\"questions\"]\n",
    "                        html += f'<p><strong>Q: {q[\"question\"]}</strong></p>\\n'\n",
    "                        if \"choices\" in q:\n",
    "                            correct = q.get(\"correct_answer\", -1)\n",
    "                            html += '<ul>\\n'\n",
    "                            for idx, choice in enumerate(q[\"choices\"], 1):\n",
    "                                if idx == correct:\n",
    "                                    html += f\"<li><b>{choice}</b> <span style='color:green;'>(correct)</span></li>\\n\"\n",
    "                                else:\n",
    "                                    html += f\"<li>{choice}</li>\\n\"\n",
    "                            html += '</ul>\\n'\n",
    "                        if \"explanation\" in q:\n",
    "                            html += f'<p><em>Explanation: {q[\"explanation\"]}</em></p>\\n'\n",
    "    html += '</body></html>'\n",
    "    return html"
   ]
  },
  {
   "cell_type": "code",
   "execution_count": 16,
   "id": "e7a5e4b5084d049c",
   "metadata": {
    "colab": {
     "base_uri": "https://localhost:8080/",
     "height": 1000
    },
    "id": "e7a5e4b5084d049c",
    "outputId": "31c9880e-fc8f-46f9-9a24-41d77a425304",
    "ExecuteTime": {
     "end_time": "2025-06-02T13:12:37.195260Z",
     "start_time": "2025-06-02T13:12:37.158267200Z"
    }
   },
   "outputs": [
    {
     "data": {
      "text/plain": "<IPython.core.display.HTML object>",
      "text/html": "<html><body style=\"text-align: left;\">\n<h1>第1部　語彙・文法</h1>\n<h2>(kanji_reading)</h2>\n<p>問題1：ことばの漢字の読み方を選ぶ（1問）</p>\n<div>\n<p><strong>1. </strong><a>この問題は環境に<u>関する</u>ものです。</a></p><ul>\n<li>1. かんせる</li>\n<li>2. <b>かんする</b> <span style='color:green;'>(correct)</span></li>\n<li>3. かんしゅう</li>\n<li>4. かんしゃ</li>\n</ul>\n</div>\n<h2>(write_kanji)</h2>\n<p>問題2：ことばを漢字で書く（1問）</p>\n<div>\n<p><strong>1. </strong><a>この問題を解決する<u>しゅだん</u>を考えましょう。</a></p><ul>\n<li>1. <b>手段</b> <span style='color:green;'>(correct)</span></li>\n<li>2. 主段</li>\n<li>3. 主断</li>\n<li>4. 手断</li>\n</ul>\n</div>\n<h2>(word_meaning)</h2>\n<p>問題3：（　）に入れる最もよいことばを選ぶ（1問）</p>\n<div>\n<p><strong>1. </strong><a>最近、この町では水が（　）している。</a></p><ul>\n<li>1. 減少</li>\n<li>2. <b>不足</b> <span style='color:green;'>(correct)</span></li>\n<li>3. 配達</li>\n<li>4. 増加</li>\n</ul>\n</div>\n<h2>(synonym_substitution)</h2>\n<p>問題4：意味が最も近いことばを選ぶ（5問）</p>\n<div>\n<p><strong>1. </strong><a>この本は日本の歴史<u>に関する</u>内容です。</a></p><ul>\n<li>1. <b>ついて</b> <span style='color:green;'>(correct)</span></li>\n<li>2. あたる</li>\n<li>3. かわる</li>\n<li>4. あらわす</li>\n</ul>\n</div>\n<div>\n<p><strong>2. </strong><a>この問題を解決する<u>手段</u>を考えましょう。</a></p><ul>\n<li>1. <b>方法</b> <span style='color:green;'>(correct)</span></li>\n<li>2. 結果</li>\n<li>3. 理由</li>\n<li>4. 目的</li>\n</ul>\n</div>\n<div>\n<p><strong>3. </strong><a>この国では水が<u>不足</u>している。</a></p><ul>\n<li>1. <b>たりない</b> <span style='color:green;'>(correct)</span></li>\n<li>2. ふえる</li>\n<li>3. 多い</li>\n<li>4. 残る</li>\n</ul>\n</div>\n<div>\n<p><strong>4. </strong><a>朝の通勤時間は道路が<u>渋滞</u>していることが多いです。</a></p><ul>\n<li>1. <b>混雑</b> <span style='color:green;'>(correct)</span></li>\n<li>2. 整備</li>\n<li>3. 通過</li>\n<li>4. 解決</li>\n</ul>\n</div>\n<div>\n<p><strong>5. </strong><a>この本は日本の歴史<u>に関する</u>内容です。</a></p><ul>\n<li>1. <b>ついて</b> <span style='color:green;'>(correct)</span></li>\n<li>2. あつめて</li>\n<li>3. すすめて</li>\n<li>4. まなんで</li>\n</ul>\n</div>\n<h2>(word_usage)</h2>\n<p>問題5：ことばの使い方として最もよいものを選ぶ（5問）</p>\n<div>\n<p><strong>1. </strong><a>渋滞</a></p><ul>\n<li>1. <b>この道は朝になると車が多くなり、<u>渋滞</u>が発生します。</b> <span style='color:green;'>(correct)</span></li>\n<li>2. 昨日の会議は<u>渋滞</u>があって、とても楽しかったです。</li>\n<li>3. 毎日、冷蔵庫の中が<u>渋滞</u>しています。</li>\n<li>4. 新しい映画の<u>渋滞</u>を見て、感動しました。</li>\n</ul>\n</div>\n<div>\n<p><strong>2. </strong><a>ふそく</a></p><ul>\n<li>1. <b>最近、この町では水が<u>ふそく</u>していて、みんな困っています</b> <span style='color:green;'>(correct)</span></li>\n<li>2. 彼の説明は<u>ふそく</u>していて、とても面白かったです</li>\n<li>3. 新しい映画の<u>ふそく</u>を見て、見に行きたくなりました</li>\n<li>4. このレストランはサービスが<u>ふそく</u>で、料理がとてもおいしかったです</li>\n</ul>\n</div>\n<div>\n<p><strong>3. </strong><a>手段</a></p><ul>\n<li>1. 新しい仕事を見つける<u>手段</u>を探しています</li>\n<li>2. <b>この料理の<u>手段</u>はとても簡単です</b> <span style='color:green;'>(correct)</span></li>\n<li>3. 友達と話す<u>手段</u>がなくなってしまいました</li>\n<li>4. 目的のためにはどんな<u>手段</u>も使います</li>\n</ul>\n</div>\n<div>\n<p><strong>4. </strong><a>かんする</a></p><ul>\n<li>1. <b>この本は日本の歴史に<u>かんする</u>話がたくさん書かれています。</b> <span style='color:green;'>(correct)</span></li>\n<li>2. 毎朝、駅に<u>かんする</u>掃除をしています。</li>\n<li>3. 友達と一緒に<u>かんする</u>映画を見に行きました。</li>\n<li>4. 今日は寒いので、温かいスープに<u>かんする</u>気分です。</li>\n</ul>\n</div>\n<div>\n<p><strong>5. </strong><a>手段</a></p><ul>\n<li>1. 目的のためには<u>手段</u>を選ばない人もいます。</li>\n<li>2. この問題を解決する<u>手段</u>を考えましょう。</li>\n<li>3. 駅まで行く<u>手段</u>がなくて、困っています。</li>\n<li>4. <b>彼の<u>手段</u>はとても親切でした。</b> <span style='color:green;'>(correct)</span></li>\n</ul>\n</div>\n</body></html>"
     },
     "metadata": {},
     "output_type": "display_data"
    }
   ],
   "source": [
    "html_output = render_to_html(output_data['sections'])\n",
    "display(HTML(html_output))"
   ]
  },
  {
   "cell_type": "code",
   "execution_count": 17,
   "id": "330a0817d72fe5e",
   "metadata": {
    "id": "330a0817d72fe5e",
    "ExecuteTime": {
     "end_time": "2025-06-02T13:12:37.196260700Z",
     "start_time": "2025-06-02T13:12:37.165776200Z"
    }
   },
   "outputs": [],
   "source": [
    "timestamp = datetime.datetime.now().strftime(\"%Y%m%d_%H%M%S\")\n",
    "output_folder = \"output\"\n",
    "html_filename = f\"JLPT_{timestamp}.html\"\n",
    "html_filepath = os.path.join(output_folder,html_filename)\n",
    "with open(html_filepath, \"w\", encoding=\"utf-8\") as file:\n",
    "    file.write(html_output)"
   ]
  },
  {
   "cell_type": "code",
   "execution_count": 18,
   "id": "c02c02ec6620993d",
   "metadata": {
    "id": "c02c02ec6620993d",
    "ExecuteTime": {
     "end_time": "2025-06-02T13:12:37.437986800Z",
     "start_time": "2025-06-02T13:12:37.173055Z"
    }
   },
   "outputs": [],
   "source": [
    "# Create a Document object\n",
    "document = Document()\n",
    "# Add a section to the document\n",
    "section = document.AddSection()\n",
    "# Set the page margins to 72 points (72 points = 1 inch)\n",
    "section.PageSetup.Margins.All = 72\n",
    "\n",
    "# Add a paragraph to the section\n",
    "paragraph = section.AddParagraph()\n",
    "\n",
    "# Add the HTML string to the paragraph\n",
    "paragraph.AppendHTML(html_output)\n",
    "\n",
    "doc_filename = f\"JLPT_{timestamp}.docx\"\n",
    "doc_filepath = os.path.join(output_folder,doc_filename)\n",
    "# Save the result document to a DOCX file\n",
    "document.SaveToFile(doc_filepath, FileFormat.Docx2016)\n",
    "# Or save the result document to a DOC file\n",
    "# document.SaveToFile(\"HtmlStringToDoc.doc\", FileFormat.Doc)\n",
    "\n",
    "document.Close()"
   ]
  },
  {
   "cell_type": "code",
   "outputs": [
    {
     "name": "stderr",
     "output_type": "stream",
     "text": [
      "2025-06-02 21:12:37,637 - INFO - Connected (version 2.0, client OpenSSH_9.6p1)\n",
      "2025-06-02 21:12:37,922 - INFO - Authentication (publickey) successful!\n",
      "2025-06-02 21:12:38,215 - INFO - [chan 0] Opened sftp connection (server version 3)\n",
      "2025-06-02 21:12:38,629 - INFO - [chan 0] sftp session closed.\n"
     ]
    },
    {
     "name": "stdout",
     "output_type": "stream",
     "text": [
      "File transferred to 58.246.203.10:/var/www/html/JLPT_20250602_211237.html\n",
      "File transferred to 58.246.203.10:/var/www/html/JLPT_20250602_211237.docx\n"
     ]
    }
   ],
   "source": [
    "import paramiko\n",
    "\n",
    "# Load the private key from the environment variable\n",
    "# Parse the private key\n",
    "key_file_path = 'temp_id_ed25519'\n",
    "pkey = paramiko.Ed25519Key.from_private_key_file(key_file_path)\n",
    "\n",
    "# SSH and SFTP parameters\n",
    "hostname = \"58.246.203.10\"\n",
    "username = \"hwu\"\n",
    "port = 22\n",
    "\n",
    "remote_html_file_path = f\"/var/www/html/{html_filename}\"\n",
    "remote_doc_file_path = f\"/var/www/html/{doc_filename}\"\n",
    "\n",
    "# Establish SSH connection\n",
    "ssh = paramiko.SSHClient()\n",
    "ssh.set_missing_host_key_policy(paramiko.AutoAddPolicy())\n",
    "ssh.connect(hostname=hostname, port=port, username=username, pkey=pkey)\n",
    "\n",
    "# Transfer the file\n",
    "sftp = ssh.open_sftp()\n",
    "sftp.put(html_filepath, remote_html_file_path)\n",
    "print(f\"File transferred to {hostname}:{remote_html_file_path}\")\n",
    "sftp.put(doc_filepath, remote_doc_file_path)\n",
    "print(f\"File transferred to {hostname}:{remote_doc_file_path}\")\n",
    "\n",
    "# Clean up\n",
    "sftp.close()\n",
    "ssh.close()"
   ],
   "metadata": {
    "collapsed": false,
    "ExecuteTime": {
     "end_time": "2025-06-02T13:12:38.641683300Z",
     "start_time": "2025-06-02T13:12:37.439986900Z"
    }
   },
   "id": "76d7f92a309995e1",
   "execution_count": 19
  },
  {
   "cell_type": "code",
   "execution_count": 19,
   "outputs": [],
   "source": [],
   "metadata": {
    "collapsed": false,
    "ExecuteTime": {
     "end_time": "2025-06-02T13:12:38.642199900Z",
     "start_time": "2025-06-02T13:12:38.638036500Z"
    }
   },
   "id": "32ac40aec57a40a4"
  }
 ],
 "metadata": {
  "colab": {
   "include_colab_link": true,
   "provenance": []
  },
  "kernelspec": {
   "display_name": ".venv",
   "language": "python",
   "name": "python3"
  },
  "language_info": {
   "codemirror_mode": {
    "name": "ipython",
    "version": 3
   },
   "file_extension": ".py",
   "mimetype": "text/x-python",
   "name": "python",
   "nbconvert_exporter": "python",
   "pygments_lexer": "ipython3",
   "version": "3.13.2"
  }
 },
 "nbformat": 4,
 "nbformat_minor": 5
}
