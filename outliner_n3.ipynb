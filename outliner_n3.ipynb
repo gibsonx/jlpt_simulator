{
 "cells": [
  {
   "cell_type": "markdown",
   "id": "f94c1f8ee4d0b085",
   "metadata": {
    "colab_type": "text",
    "id": "view-in-github"
   },
   "source": [
    "<a href=\"https://colab.research.google.com/github/gibsonx/jlpt_simulator/blob/dev/graphs/n3/outliner.ipynb\" target=\"_parent\"><img src=\"https://colab.research.google.com/assets/colab-badge.svg\" alt=\"Open In Colab\"/></a>"
   ]
  },
  {
   "cell_type": "code",
   "execution_count": 1,
   "id": "712d86d2ae0847a0",
   "metadata": {
    "colab": {
     "base_uri": "https://localhost:8080/"
    },
    "id": "712d86d2ae0847a0",
    "outputId": "0b69e343-ba35-4773-acca-92da0492bdba",
    "ExecuteTime": {
     "end_time": "2025-06-02T14:18:29.917750800Z",
     "start_time": "2025-06-02T14:18:29.912571300Z"
    }
   },
   "outputs": [
    {
     "name": "stdout",
     "output_type": "stream",
     "text": [
      "Not running on CoLab\n"
     ]
    }
   ],
   "source": [
    "if 'google.colab' in str(get_ipython()):\n",
    "    !git clone https://github.com/gibsonx/jlpt_simulator.git\n",
    "    %cd jlpt_simulator\n",
    "    !git checkout dev\n",
    "    \n",
    "    !apt-get install python3-dev graphviz libgraphviz-dev pkg-config\n",
    "    !pip install -r requirements.txt\n",
    "else:\n",
    "  print('Not running on CoLab')\n"
   ]
  },
  {
   "cell_type": "code",
   "execution_count": 2,
   "id": "7f526a68a7e73a65",
   "metadata": {
    "colab": {
     "base_uri": "https://localhost:8080/"
    },
    "id": "7f526a68a7e73a65",
    "outputId": "e3e7c3a2-bde6-4f65-cf4c-8ddd97998d8f",
    "ExecuteTime": {
     "end_time": "2025-06-02T14:18:32.426006700Z",
     "start_time": "2025-06-02T14:18:29.917750800Z"
    }
   },
   "outputs": [
    {
     "data": {
      "text/plain": "True"
     },
     "execution_count": 2,
     "metadata": {},
     "output_type": "execute_result"
    }
   ],
   "source": [
    "import json\n",
    "import logging\n",
    "import random\n",
    "import time\n",
    "from spire.doc import *\n",
    "from spire.doc.common import *\n",
    "import pandas as pd\n",
    "import yaml\n",
    "from tqdm import tqdm\n",
    "\n",
    "# from langchain_community.embeddings import XinferenceEmbeddings\n",
    "from libs.LLMs import *\n",
    "import datetime\n",
    "logging.basicConfig(level=logging.INFO, format='%(asctime)s - %(levelname)s - %(message)s')\n",
    "\n",
    "from graphs.n3.ExamTaskHandler import ExamTaskHandler\n",
    "load_dotenv()"
   ]
  },
  {
   "cell_type": "code",
   "outputs": [],
   "source": [
    "def collect_vocabulary(file_path):\n",
    "    # Read the CSV file\n",
    "    data = pd.read_csv(file_path)\n",
    "    # Shuffle the rows and reset the index\n",
    "    words = data.iloc[:, :2].sample(frac=1).reset_index(drop=True)\n",
    "    # Extract the second column (values) and convert to a single-line string\n",
    "    vocab_string = ','.join(words.iloc[:, 1].astype(str).tolist())\n",
    "    return vocab_string"
   ],
   "metadata": {
    "collapsed": false,
    "ExecuteTime": {
     "end_time": "2025-06-02T14:18:32.429270700Z",
     "start_time": "2025-06-02T14:18:32.426006700Z"
    }
   },
   "id": "d159b3254277b376",
   "execution_count": 3
  },
  {
   "cell_type": "code",
   "execution_count": 4,
   "id": "initial_id",
   "metadata": {
    "id": "initial_id",
    "ExecuteTime": {
     "end_time": "2025-06-02T14:18:32.475561100Z",
     "start_time": "2025-06-02T14:18:32.429783800Z"
    }
   },
   "outputs": [],
   "source": [
    "# Import N3 Vocabulary\n",
    "file_path = 'Vocab/n3.csv'\n",
    "# Display the content of the CSV file\n",
    "vocab_dict = collect_vocabulary(file_path)\n",
    "with open(\"Vocab/topics.txt\", \"r\", encoding=\"utf-8\") as file:\n",
    "    topics_list = [line.strip() for line in file]"
   ]
  },
  {
   "cell_type": "code",
   "outputs": [
    {
     "data": {
      "text/plain": "'きょか,かわかす,また,さかい,しんこく,おに,けいこく,かさなる,よわまる,せめる,とく,いぜん,なる,ごみ,のせる,ぶつり,やくわり,ねっちゅう,ちしき,みちる,じじょう,しょくたく,たて,おうじ,ぎし,こうくう,たま,かみのけ,のびる,あたたまる,しゅくはく,ちゅうこ,せいちょう,しげん,し,のう,はっしゃ,ひょう,つきあい,きょうりょく,たに,かんきゃく,するどい,センター,ぐん,じょうきょう,やね,ししゅつ,たま,えいきゅう,ぐんたい,そうち,わん,かんしん,かたる,そなえる,いどう,ひこう,ぶ,ぶん,かんさつ,つらい,いや,およぎ,しょうたい,ねんかん,げんきん,まぜる,きせい,わん,けいじ,さらに,つゆ,せいこう,けいじ,はいたつ,せつ,かくす,じっこう,あぶら,たちば,きかん,ぐん,ぜったい,たいくつ,はぶく,ゆうびん,えいせい,いったい,しゅよう,きみょう,せいねん,かぐ,すいせん,たいき,あき,さる,きづく,いだく,どうし,りく,せいかく,かわいらしい,おじぎ,なん,そだつ,まけ,けつろん,たび,ふうけい,したしい,げ,ていこう,はかる,しょうひん,いね,ゆうこう,たすかる,いったい,かげん,こっせつ,つながる,しょうとつ,ひょうばん,つめる,しんぽ,しょうじょう,じょうきゃく,けっか,にっこう,せい,はなす,ていでん,てきよう,のびる,まざる,ちゅうしょく,さんか,わる,じゅうだい,かう,かえる,めったに,いいん,きょうじゅ,くるう,さくら,いだい,ふかめる,むし,いっち,さ,すじ,せんでん,いし,そなえる,たしかめる,じかに,まなぶ,よのなか,がっき,おせん,うむ,そくど,くん,ふく,しきゅう,あらわれ,ならす,いどう,か,ひよう,だいとうりょう,かん,たいした,しも,いき,てんねん,かてい,こうどう,りこう,つぎつぎ,こと,たんとう,むりょう,すくう,しんたい,しゅう,こうはい,かる,つうがく,きげん,ささえる,こくふく,かたがた,けんちく,ばくはつ,つける,ほうもん,しあわせ,かぶる,まっか,じゅん,てつどう,ちょうし,とくちょう,よめ,ぶっか,はた,ほか,じどう,しぜん,つつみ,むく,とうあん,まるで,しょうぼう,ほどう,きろく,はなれる,うなる,ぶたい,あける,あるいは,なぞ,かける,ぞう,ひっし,はんにん,だんたい,あわてる,ことなる,おだやか,かおり,ためる,かせぐ,とりあげる,らく,こくみん,ぎょうぎ,かえる,しき,かんりょう,ふるえる,ばっする,およぼす,たんじょう,かんじる,しゅちょう,よぼう,とばす,ふこう,てま,かんこう,しょもつ,まんいち,たしょう,がくれき,いたる,かんきょう,やとう,つとめ,ゆうしゅう,さく,おどろき,とうさん,あんがい,あやまり,ほしょう,あんてい,こじん,あちこち,ちいき,げんだい,ちゅう,しょう,おん,こっきょう,かみ,せっけい,こうか,なし,ほんもの,かくじつ,ちりょう,ふせぐ,じっし,はい,てってい,にんげん,よき,にあう,げんじつ,ちきゅう,けいゆ,なる,こい,から,むしば,げんじょう,ゆうじん,きょだい,かかり,ち,しゅうり,かみなり,がく,きよう,うまれ,しょくぶつ,なま,おろす,こし,くやしい,よろこび,ふせい,わん,こうふん,けんこう,ながめ,へいきん,せいげん,くう,さく,てきど,ていき,さんそ,わき,このむ,どうとく,かんり,しな,ひも,おく,りこん,りょう,ひとしい,はかせ,めんきょ,つもる,くせ,はたけ,だいひょう,わた,きゅう,ね,ようす,はんい,あかり,きく,おまえ,わずか,ながれる,しじん,ず,せいしき,ほうこく,いわ,こんざつ,こむぎ,はく,じょおう,しんせん,あな,ばいう,あぶら,わく,むね,ふくろ,びん,さく,ぶぶん,きゅうそく,せけん,ふくそう,しつぼう,わかれ,こうはい,だんし,い,うらぎる,ちかごろ,つきあう,ひょうめん,かね,しゅうい,せいせき,いじょう,いぜん,まねく,のばす,うめ,はね,よ,へい,めいじる,ちゅうしん,さす,ようい,みまい,げき,かえる,ゆいいつ,まよう,りかい,ふり,きゅうそく,オフィス,かかえる,さまざま,ぜんいん,がいしゅつ,せんたく,がくしゃ,こくもつ,かてい,うわさ,たよる,うんてん,かくにん,ご,はら,けしょう,かげ,しょう,いわば,あわれ,さい,でんし,ぶんめい,ひざ,よゆう,けいこう,どくしん,たんご,どうろ,たいおん,いいん,しょくぎょう,か,かくご,もちあげる,うお,しゅうにゅう,きれ,しょうりゃく,ぜん,たっする,ぎいん,きょうふ,ためす,ふる,もえる,ついに,うたがう,さぎょう,きたく,はさん,さっきょく,まく,たいほ,こえる,こうそく,よそく,じゅうたい,さく,うし,じつに,かいいん,いっしゅん,くみ,よみ,くらし,あつかう,かんりょう,きれる,うったえる,いきおい,しはらい,りつ,ようじん,すみ,ふやす,そうじゅう,さくもつ,くるしい,ちる,つたわる,のぼる,はかる,であう,てんけい,しずむ,しんちょう,あら,うつす,じょし,はんせい,かくれる,ちゅうおう,のぞむ,うま,おそろしい,はじまり,こや,てんこう,かわ,ほうふ,あずける,たい,かち,ならす,めんどう,きずく,じゅう,しまい,ねがう,いためる,ほうせき,だいきん,なんとか,よい,おう,じつは,おう,たび,ようするに,どうし,しょくりょう,こくせき,とう,かいがい,しゅっぱん,じょうたい,そしき,せめる,かじ,こうさい,とける,よせる,てき,にえる,とおす,しはらう,かいふく,かんぜん,どうりょう,かもく,た,ちゅうもく,すこしも,やく,こうかい,じつりょく,がん,だい,ほぼ,さばく,たく,しんちょう,まちがい,かわ,いき,おうえん,けんぽう,とし,くさる,はんだん,で,ふんいき,せいけつ,きらう,うまる,びょうどう,はり,せい,せいき,じんぶつ,する,あせ,よあけ,どうか,かつよう,のぞむ,つい,はあ (かん),じこ,かい,あたりまえ,むける,すれちがう,としつき,だいり,かんこう,いっしょう,げんざい,しゅぎ,おおう,ほとけ,そうとう,かんしゃ,いがい,しも,とびだす,いりょう,ちょうさ,はつめい,よす,かつやく,たいよう,かみ,ぶき,じたい,こうしゃ,ゆうのう,えさ,たった,つぐ,ほうこう,とれる,ひとりひとり,きんゆう,たいかい,ばめん,きんし,れいせい,えいきょう,ぬく,こうげき,かぶ,さめる,さいのう,いじ,いのち,おそらく,かてい,けむり,きゅうじょ,ありがとう,こいびと,じょう,おる,あい,しほん,はっこう,きかん,ふつう,ようき,のう,やとう,ひっこし,ないよう,そうぞく,じっけん,しよう,あいする,えいぎょう,じまん,たく,はえる,しげき,あてる,かこむ,かわ,にちじょう,とく,かんそう,えがお,くだる,あらわす,けっしん,く,げんば,くだ,のぞく,め,そろえる,むしろ,たすける,ばったり,たいがく,とどく,たいじゅう,こんやく,そうさ,ほう,もっとも,しょうじき,げきじょう,しょめい,しゅうしょく,じゅう,すえ,じゅうたく,しゅるい,しんこう,つぐ,がい,しょうにん,もうしわけ,ぬける,くらい,ぬの,かたい,さる,ひとり,へらす,しるし,せい,いし,わく,つなぐ,さいちゅう,ぜんしん,めいかく,くべつ,けいき,いっぽう,まつ,ざせき,さべつ,ぎろん,いためる,つく,ばくだい,ふだん,ほこり,こうせい,さける,きょうどう,やちん,ぞうか,そで,かんする,かいが,げんしょう,いま,さす,そんがい,ぜい,おんど,おそわる,おろす,なかみ,ろうどう,がっき,きょうぎ,ご,こううん,せんざい,こきょう,すごす,はだか,うしなう,とうぜん,しょうひん,くらす,かんとく,はかる,しょるい,じゅうたい,ちか,ちゅうしゃ,じんこう,よわめる,ひづけ,ほう,せつび,めいし,こんにち,あたえる,こづつみ,しめる,うわ,かぐ,いわう,きゅうりょう,やっかい,たちあがる,ちい,だいめい,どくとく,けいき,あいじょう,せきたん,そんけい,ちゅう,ははおや,のべる,つづき,しゅじゅつ,きふ,かん,せいじん,すいみん,かわいそう,かしゅ,もとめる,せんじつ,とつぜん,じけん,かたい,ちがい,もどす,せい,しゅう,しんぞう,おもわず,しょう,やめる,し,ぶじ,せいめい,まんぞく,くるしむ,つうか,たいはん,じょうけん,しんごう,ひん,ひょうか,えん,ただ,けっせき,きんこ,つうじる,くんれん,さす,しんこう,つうか,ぞう,ぎちょう,ずつう,ぜん,まさに,ぎかい,いんよう,ゆうこう,きょうじゅ,もとづく,あげる,こうかん,たたむ,きゅうげき,そこ,ぜん,きかい,はん,こうけん,はってん,ごうか,いずみ,かご,じさつ,けいえい,ひかく,かた,しらせ,しゅうせい,しゅうきょう,しんぱん,かんれん,あくま,れんそう,だいじん,しょくりょう,としより,とうじ,ます,かよう,こうほ,もくひょう,まえもって,ほほえむ,つかまる,ちのう,そうぞう,おさえる,しばい,ひょう,ようきゅう,でんごん,きじ,つかれ,こうりょ,しめる,まったく,ちょきん,こくばん,みりょく,めいわく,そうおん,やくす,あいず,てんこう,しょうがくきん,の,みおくり,らい～,しぼう,せき,とう,わける,なんで,たにん,むすぶ,のち,よぶん,どくしょ,おおや,かだい,かっき,しはい,なれる,たたかい,かんじ,つく,ふえ,さく,そうさ,しんらい,さいしゅう,のうりょく,えんき,とめる,まく,なんでも,したがう,すぐれる,うさぎ,きょうちょう,すいじゅん,ちえ,われわれ,そんちょう,きほん,いた,いまに,のぼる,ジェットき,かみ,さかり,ふれる,たいせん,みごと,すべて,ほり,たんなる,あう,けんさ,しよう,ぶ,ぐうぜん,わらい,そう,ぜんしゃ,せいきゅう,つよめる,ひみつ,こきゅう,あと,える,する,けいさん,きんし,かいけつ,いちどに,きょく,しゅふ,おうさま,ふかまる,こしょう,ぶつ,なかば,さけぶ,きん,いち,もと,ならす,くみあい,ちょうじょう,ほほ,しそう,つうやく,もうしこむ,いじわる,のばす,みやげ,かく,なやむ,いとこ,たおす,しょく,おこる,ひょうげん,だい,りょう,いし,べつに,いちじ,うっかり,つける,きたい,ろんぶん,かく,さからう,とうちゃく,けっきょく,せいしつ,ふか,つぐ,どく,じこく,かわく,さいこう,じょし,こぜに,みる,てつ,いんしょう,はやす,じょじょに,み,かんそう,きまり,ひてい,げいじゅつ,けんせつ,ふじゆう,はなしあう,たく,あらし,ひっぱる,しょり,おひる,せきにん,つねに,とう,ほんと,つよまる,けんり,せいねんがっぴ,ぎん,かのう,いらい,さんせい,まじる,めいし,ものがたり,きり,つばさ,いちば,みょうごにち,ひたい,しり,さいてい,ゆたか,おくれ,ほり,かんせい,じんしゅ,ほしょう,かいしゃく,えん,こうけい,かならずしも,せいふ,はね,せきゆ,かち,こえる,じゅうし,しょうしょう,かんじょう,ひろがる,よん,ほうぼう,たいしょう,まかせる,つれ,かんかく,しゅんかん,あらゆる,とい,もの,だん,あたたかい,はいゆう,かんせい,じょうしき,ひがい,さそう,なくす,たたかう,ぜん,くれ,げんしょう,いたみ,めんせつ,ひろまる,なべ,かこ,まく,か,ひろめる,きのう,であい,かく,てきする,むだ,がまん,へいわ,てつだい,ぬらす,けいたい,かいぜん,きし,こっかい,けい,へんこう,くだり,たかめる,あらた,はんばい,じんせい,そう,さいばん,こおる,み,かがく,であい,ちへいせん,たとえ,ぜいたく,せいめい,まく,くつう,けん,えがく,つうきん,ようび,かかく,みとめる,くわえる,なかみ,しゅう,のうぎょう,わるくち,かり,あらわす,きみ,もやす,ひやす,いっぱん,けん,かんげい,ちちおや,にがて,おろす,へる,しつ,めし,しょうがい,ふしぎ,しりあい,ぶん,きん,ちゅうし,かいてき,してん,ふじん,にぎる,ほご,たたく,こす,さす,かげ,ともに,だいぶぶん,ささる,びじん,きんせん,なわ,こんかい,とも,あいかわらず,きょうつう,せいぜい,てじな,まずしい,さつ,わだい,はなす,ある,しゅうかく,けいき,めうえ,きこう,せいかく,のこす,ほね,ね,しょうばい,おたがい,ける,やど,ていしゅつ,あわ,どろ,どういつ,ぜんしん,はくしゅ,ごかい,よう,どくりつ,かし,じしん,こじん,あらわす,おか,じじつ,こうか,へる,れつ,しんけん,すみ,ちほう,げんかい,じみ,こうかい,よそう,れっしゃ,まる,えいえん,かたづけ,じゅんばん,さける,こな,ぎむ,ぜんたい,うけとる,ふり,いき,うめる,おとこのひと,かし,もんじ,できごと,くむ,ちじ,しゅうちゅう,ば,きゅう,せいり,くむ,いんさつ,かぞえる,のこり,すがた,こうふく,やく,おもいつく,せいき,かえす,このみ,ざいさん,じき,ふで,うる,たね,ひ,すむ,いりょう,にゅうじょう,かたな,たいりく,やぶれる,としょ,りょうがえ,りゅうがく,わ,せんきょ,ことわざ,たいざい,あわせる,そんざい,おんだん,かぎる,けい,ねがい,せっきょくてき,つむ,はで,ゆでる,ほぞん,はか,でんとう,おい,きょうりょく,しょうめい,のんびり,ちゅうもん,あんき,けっかん,のぞみ,かく,ぼうけん,いっそう,ちゅうがく,す,めん,いち,つむ,じょうだん,きねん,してん,さばく,けんかい,かなり,つり,ちゃ,ねんだい,じどう,がくしゅう,きにゅう,そうぞう,ひじょう,つぐ,さます,とおりすぎる,あきる,こんなん,きぎょう,ぐん,しょうめい,とくい,むす,たいど,まご,えんじょ,むしあつい,ふあん,つとめ,はい,はら,しんさつ,よこぎる,たま,しだい,く,しゅうだん,きゅうに,さんこう,かんかく,から,こんらん,せつ,まち,さます,はげしい,げんご,せつやく,せいめい,さっか,じょうし,あらそう,おさない,ころぶ,めいじん,たつ,よごす,ゆうき,あたる,こうば,ゆうり,にっちゅう,さんせい,かんじゃ,しゅうしょく,どく,はし,おさめる,きしゃ,えいよう,ちょくせつ,うつる,あく,やく,すでに,デモ,あつまり,まもる,きんにく,ここ,とじる,せいひん,じんるい,かず,はたらき,いかり,しょうじょ,けいやく,ひとごみ,きげん,あたり,ごうかく,のうか,ぶっしつ,とたん,ゆるす,ほのお,おさめる,お,てつや,ろうじん,さめる,さら,ひげき,ふく,かん,こうそく,てきせつ,ちがいない,めいれい,りえき,だく,ふくむ,あたためる,きにいる,かさねる,しかく,くわえる,あたたまる,こくご,じゅうよう,ほえる,おさめる,おもいで,だます,かいごう,とうよう,おとる,まく,い,そう,しんり,めん,きおん,ぜいきん,かた,ちょしゃ,こい,みょう,きかん,ごがく,まる,あてる,さいしゅう,おめでとう,ちこく,きょうぎ,こおり,れいがい,うらやましい,はんざい,たい,あずかる,しんこう,はやる,けってん,まつり,しょうにん,どうよう,れい,べんとう,つなげる,うず,むちゅう,りそう,うん,ゆうしょう,せいこう,きたい,れいぎ,じょう,きげん,おび,どうよう,かしこい,え,しんゆう,はくぶつかん,こうふく,はっしゃ,ねんれい,ある,ばか,さす,きかい,たから,そば,さほう,ね,ていあん,きんがく,いわい,つかむ,とも,けん,かん,せいど,ひとこと,なみ,しぼう,のき,つみ,けいい,ろんそう,にんき,まさか,しゅだん,しかく,のせる,ろんじる,すすめる,あたり,ながれ,かんこう,のうみん,たつ,へんか,かつどう,ねずみ,ふたご,ほこり,しどう,ぶ,そん,あたためる,かいし,けんとう,だまる,うちゅう,しんじる,おん,はっけん,つうしん,ふち,おくる,かさい,しょうじる,やぶる,はかる,にる,しんせき,もじ,じょしゅ,たより,とかい,ふ,ただちに,ゆうじょう,かんしん,しんり,じつげん,くさり,はなれる,おしゃべり,ひろげる,さけ,けつえき,ひょうじょう,む,おいつく,すむ,たつ,たまたま,しめす,がか,にち,きぼう,れい,かく,はば,ひこう,ちょうせん,なか,がくもん,た,あらわれる,ゆか,おぼれる,くりかえす,つゆ,えんそう,とじる,おうじる,いらい,せいぶつ,なかま,きんちょう,あきらか,おとなしい,ごうけい,たいしょう,きかん,きゅうか,ねんげつ,しょうがい,ほうそう,ふまん,ざいりょう,しゅっしん,すませる,けんとう,しつぎょう,ごうとう,がく,みらい,きちょう,さんか,きんだい,ふそく,こす,ころす,くむ,はかる,しょさい,せい,ちく,つうこう,くろう,とざん,こんご,たいいく,けってい,うごかす,しゅと,せいり,ふたたび,ぶんせき,くわしい,きゅうりょう,むかい,ほお,もんく,けっかん,かり,ほしょう,じっさい,かがやく,ていど,しょうひ,おおいに,けっこう,なっとく,もちいる,かたづく,しょうねん,ごく,みやこ,いしき,しんがく,おもに,つち,けいい,しき,きじ,しゃっきん,こうへい,みかた,いふく,じょうほう,おしえ,そう,あげる,ごく,かんじょう,ふうふ,てつがく,しきゅう,おえる,たんに,とら,のる,ながす,もと,しゅしょう,さいわい,しぼう,もよう,ふくめる,せんしゅ,こうせい,まつ,がら,なまける,もうふ,すいせん,とく,じょうたつ,ねったい,じょうきょう,おしゃれ,ぎゃく,しばふ,そろう,かざり,しょくよく,こうか,いっしゅ,きこう,たんじゅん,す,い,たまらない,さくひん,りゅうこう,うつる,うむ,せんこう,はんこう,じゅんちょう,じたい,おうだん,どうし,むかえ,かける,あくしゅ,かいけい,な,ぼう,かえる,いっか,しんこう,たば,ようき,する,ちらす,じょし,ひはん,きおく,いじ,きょうきゅう,たいし,ちょうき,した,ほうほう,りょうきん,もと,たまる,おき,ふへい,どうじ,ぐたい,よさん,きんぞく,めくる,いまにも,びん,ゆき,すう,じき,むく,ゆう,けいたい,きゅうけい,せんこう,せいねん,たがい,ためし,まざる,ぜんこく,うばう,ただ,しょうご,いとこ,きず,そそぐ,しつど,あいて,なにか,はい,たま,まじる,ことわる,こうえん,こうしゃ,せいしん,せんこう,しんけい,きんえん,まね,ねんかん,ゆずる,きゅう,みかける,ふし,かく,かね,たいら,すうじ,じゅよう,なみだ,かんどう,えんぜつ,せいちょう,びょう,かわる,もくてき,あきらめる,せいさん,まぜる,うれる,たび,そまつ,しかく,しんよう,じょうとう,いはん,とう,ぶんや,くさい,がいこう,ねんじゅう,せいぞう,じき,とくちょう,ものおと,わかれる,おそれる,よる,ぜつめつ,ようそ,かんがえ,いねむり,ゆかい,みつ,はん,かくだい,くわわる,しょくひん,はだ,ながめる,ていりゅうじょ,あん,とち,とめる,し,なみ,のぞく,うつ,しんこく,こうえん,たいする,おう,きり,きのどく,しゅつじょう,ようてん,すすめる,よ,どうよう,まめ,きょうかしょ,きゅうしゅう,なぐる,こうこく,とうひょう,ひ,しっけ,いんたい,はく,よほう,かかる,ゆうき,しよう,たかまる,しきりに,とける,しょくもつ,ぎもん,たんい,かなしむ,ふやす,ものごと,さゆう,はっぴょう,れんぞく,うつ,はん,こっか,きょうちょう,つく,はったつ,しろ,ひひょう,かける,じゅうみん,どりょく,じょゆう,じき,えんぎ,ほんにん,よなか,びみょう,いきもの,おめにかかる'"
     },
     "execution_count": 5,
     "metadata": {},
     "output_type": "execute_result"
    }
   ],
   "source": [
    "vocab_dict"
   ],
   "metadata": {
    "collapsed": false,
    "ExecuteTime": {
     "end_time": "2025-06-02T14:18:32.480990600Z",
     "start_time": "2025-06-02T14:18:32.450752400Z"
    }
   },
   "id": "b8190757154161de",
   "execution_count": 5
  },
  {
   "cell_type": "markdown",
   "id": "4c1cdce8b1f57ef3",
   "metadata": {
    "collapsed": false,
    "id": "4c1cdce8b1f57ef3"
   },
   "source": [
    "#### load Models"
   ]
  },
  {
   "cell_type": "code",
   "outputs": [],
   "source": [
    "from typing import List, Optional\n",
    "\n",
    "from langchain_core.prompts import ChatPromptTemplate\n",
    "\n",
    "from pydantic import BaseModel, Field\n",
    "\n",
    "# instruction = \"\"\"\n",
    "# Section 1: Vocabulary and Grammar\n",
    "# - Kanji reading (kanji_reading): 8 questions\n",
    "# - Write Chinese characters (write_kanji): 6 questions\n",
    "# - Word Meaning Selection (word_meaning): 11 questions\n",
    "# - Synonyms substitution (synonym_substitution): 5 questions\n",
    "# - word usage (word_usage): 5 questions\n",
    "# - Grammar fill in the blank (sentence_grammar): 13 questions\n",
    "# - Sentence sorting (sentence_sort): 5 questions\n",
    "# - Grammar structure selection (sentence_structure): 4-5 questions\n",
    "#\n",
    "# Section 2: Reading Comprehension\n",
    "# - Short passages (short_passage_read): 4 articles\n",
    "# - Mid-size passages (midsize_passage_read): 2 articles\n",
    "# - Long passages (long_passage_read): 1 articles\n",
    "# - Information retrieval (info_retrieval): 1 articles\n",
    "#\n",
    "# Section 3: Listening Comprehension\n",
    "# - Topic understanding (topic_understanding): 6 questions\n",
    "# - Key understanding (keypoint_understanding): 6 questions\n",
    "# - Summary understanding (summary_understanding): 3 questions\n",
    "# - Active expression (active_expression): 4 questions\n",
    "# - Immediate acknowledgment (immediate_ack): 9 questions\n",
    "# \"\"\"\n",
    "\n",
    "instruction = \"\"\"\n",
    "Section 1: Vocabulary and Grammar\n",
    "- 問題1 のことばの読み方として最もよいものを、1・2・3・4から一つえらびなさい (kanji_reading): 1 question\n",
    "- 問題2 このことばを漢字で書くとき、最もよいものを、１・２・３・４から一つえらびなさい (write_kanji): 1 question\n",
    "- 問題3（　）に入れるのに最もよいものを、１・２・３・４から一つえらびなさい。 (word_meaning): 1 question\n",
    "- 問題4 に意味が最も近いものを、１・２・３・４から一つえらびなさい。(synonym_substitution) 1 question\n",
    "- 問題5 つぎのことばの使い方として最もよいものを、２・３・４から一つえらびなさい。 (word_usage): 1 question\n",
    "- 問題6 つぎの文の（　　　）に入れるのに最もよいものを、１・２・３・４から一つえらびなさい。(sentence_grammar) 3 question\n",
    "- 問題7 つぎの文の ★ に入る最もよいものを、１・２・３・４から一つえらびなさい。(sentence_sort) 3 questions\n",
    "Section 2: Reading Comprehension\n",
    "- Information retrieval (info_retrieval): 0 articles\n",
    "\n",
    "Section 3: Listening Comprehension\n",
    "- Topic understanding (topic_understanding): 0 questions\n",
    "\n",
    "\"\"\"\n",
    "\n",
    "\n",
    "direct_gen_outline_prompt = ChatPromptTemplate.from_messages(\n",
    "    [\n",
    "        (\n",
    "            \"system\",\n",
    "            f\"You are a japanese teacher. Your job is to write an outline for a JLPT Japanese-Language Proficiency Test N3 level exam paper. The topic word in outline must be presented in Japanese kana only. The complexity should be restricted to N3 level and respect japanese culture. The JLPT Japanese-Language Proficiency Test exam paper includes a mix of moderate and very difficult topics to accurately assess the test-taker's proficiency across different aspects of the language.\"\n",
    "            f\"First, evenly pick Japanese words used in different part of sentence from 'Vocabulary' for questions in Vocabulary and Grammar, ensuring 40 percent of very difficult words for topics. At Section 2 and 3, randomly choose topics in 'TopicList' for Reading Comprehension and Listening Comprehension Sections, don't repeat to choose a same word or topic\"\n",
    "            f\"Second, you should abide by the provided exam instruction and decide the number of questions and content in the each Section.\"\n",
    "            f\"Finally, write the outline of the examination paper in japanese and provide question topics according to the instructions.\"\n",
    "            f\"Instruction: {instruction}\",\n",
    "        ),\n",
    "        (\"user\", \"TopicList: {topic_list}, Vocabulary: {vocab_dict}\"),\n",
    "    ]\n",
    ")\n"
   ],
   "metadata": {
    "collapsed": false,
    "ExecuteTime": {
     "end_time": "2025-06-02T14:18:32.480990600Z",
     "start_time": "2025-06-02T14:18:32.456034600Z"
    }
   },
   "id": "e339295a858fb5f8",
   "execution_count": 6
  },
  {
   "cell_type": "markdown",
   "id": "fed5f032dadafac1",
   "metadata": {
    "collapsed": false,
    "id": "fed5f032dadafac1"
   },
   "source": [
    "## Data Strcuture"
   ]
  },
  {
   "cell_type": "code",
   "execution_count": 7,
   "id": "39329a71b16d2400",
   "metadata": {
    "id": "39329a71b16d2400",
    "ExecuteTime": {
     "end_time": "2025-06-02T14:18:32.480990600Z",
     "start_time": "2025-06-02T14:18:32.462305400Z"
    }
   },
   "outputs": [],
   "source": [
    "class QuestionTopic(BaseModel):\n",
    "    topic: str = Field(..., title=\"a vocabulary or topic hint for a question\")\n",
    "\n",
    "\n",
    "class Subsection(BaseModel):\n",
    "    subsection_title: str = Field(..., title=\"subsection English word in () only from the instruction\")\n",
    "    description: str = Field(..., title=\"giving the number of questions and requirements\")\n",
    "    question_topics: Optional[List[QuestionTopic]] = Field(\n",
    "        default_factory=list\n",
    "    )\n",
    "\n",
    "    @property\n",
    "    def as_str(self) -> str:\n",
    "        question_topics_str = \"\\n\".join(\n",
    "            f\"- **{qt.topic}**\" for qt in self.question_topics\n",
    "        )\n",
    "        return f\"### {self.subsection_title}\\n\\n{self.description}\\n\\n{question_topics_str}\".strip()\n",
    "\n",
    "class Section(BaseModel):\n",
    "    section_title: str = Field(..., title=\"Title of the section\")\n",
    "    subsections: Optional[List[Subsection]] = Field(\n",
    "        default_factory=list,\n",
    "        title=\"Titles and reason for each subsection of the JLPT exam page.\",\n",
    "    )\n",
    "\n",
    "    @property\n",
    "    def as_str(self) -> str:\n",
    "        subsections = \"\\n\\n\".join(\n",
    "            subsection.as_str for subsection in self.subsections or []\n",
    "        )\n",
    "        return f\"## {self.section_title}\\n\\n{subsections}\".strip()\n",
    "\n",
    "\n",
    "class Outline(BaseModel):\n",
    "    page_title: str = Field(..., title=\"Title of the JLPT exam page\")\n",
    "    sections: List[Section] = Field(\n",
    "        default_factory=list,\n",
    "        title=\"Titles and descriptions for each section of the JLPT exam paper.\",\n",
    "    )\n",
    "\n",
    "    @property\n",
    "    def as_str(self) -> str:\n",
    "        sections = \"\\n\\n\".join(section.as_str for section in self.sections)\n",
    "        return f\"# {self.page_title}\\n\\n{sections}\".strip()\n"
   ]
  },
  {
   "cell_type": "code",
   "execution_count": 8,
   "id": "d0730de416980c6",
   "metadata": {
    "id": "d0730de416980c6",
    "ExecuteTime": {
     "end_time": "2025-06-02T14:18:32.480990600Z",
     "start_time": "2025-06-02T14:18:32.473563400Z"
    }
   },
   "outputs": [],
   "source": [
    "# Read the topics from a file, sort them, and print the sorted list\n",
    "def process_topics(file_path):\n",
    "    try:\n",
    "        # Read the file\n",
    "        with open(file_path, 'r', encoding='utf-8') as file:\n",
    "            topics = file.readlines()\n",
    "\n",
    "        # Remove any extra whitespace or newline characters\n",
    "        topics = [topic.strip() for topic in topics if topic.strip()]\n",
    "\n",
    "        # Shuffle the topics randomly\n",
    "        random.shuffle(topics)\n",
    "\n",
    "    except FileNotFoundError:\n",
    "        print(\"The file was not found. Please check the file path.\")\n",
    "    except Exception as e:\n",
    "        print(\"An error occurred:\", str(e))\n",
    "\n",
    "    except FileNotFoundError:\n",
    "        print(\"The file was not found. Please check the file path.\")\n",
    "    except Exception as e:\n",
    "        print(\"An error occurred:\", str(e))"
   ]
  },
  {
   "cell_type": "code",
   "execution_count": 9,
   "id": "8fc17fee14c40716",
   "metadata": {
    "id": "8fc17fee14c40716",
    "ExecuteTime": {
     "end_time": "2025-06-02T14:18:38.318586100Z",
     "start_time": "2025-06-02T14:18:32.479991300Z"
    }
   },
   "outputs": [
    {
     "name": "stderr",
     "output_type": "stream",
     "text": [
      "2025-06-02 22:18:38,297 - INFO - HTTP Request: POST https://ai-rolandaws880125ai409947751408.openai.azure.com/openai/deployments/gpt-4.1/chat/completions?api-version=2025-01-01-preview \"HTTP/1.1 200 OK\"\n"
     ]
    }
   ],
   "source": [
    "# Preload all topics from the file\n",
    "with open(\"Vocab/topics.txt\", \"r\", encoding=\"utf-8\") as file:\n",
    "    topics_list = [line.strip() for line in file]\n",
    "\n",
    "generate_outline_direct = direct_gen_outline_prompt | azure_llm.with_structured_output(Outline)\n",
    "initial_outline = generate_outline_direct.invoke({\"topic_list\": topics_list, \"vocab_dict\": vocab_dict})"
   ]
  },
  {
   "cell_type": "code",
   "execution_count": 10,
   "outputs": [
    {
     "data": {
      "text/plain": "Outline(page_title='日本語能力試験Ｎ３ 模擬試験問題', sections=[Section(section_title='第１部\\u3000語彙・文法', subsections=[Subsection(subsection_title='(kanji_reading)', description='問題1：語彙の読み方を選ぶ問題。1問。', question_topics=[QuestionTopic(topic='せめる'), QuestionTopic(topic='のせる')]), Subsection(subsection_title='(write_kanji)', description='問題2：語彙を漢字で書く問題。1問。', question_topics=[QuestionTopic(topic='ふかめる')]), Subsection(subsection_title='(word_meaning)', description='問題3：（\\u3000）に入れる最もよい語を選ぶ問題。1問。', question_topics=[QuestionTopic(topic='しんこく')]), Subsection(subsection_title='(synonym_substitution)', description='問題4：意味が最も近いものを選ぶ問題。1問。', question_topics=[QuestionTopic(topic='きみょう')]), Subsection(subsection_title='(word_usage)', description='問題5：ことばの使い方として最もよいものを選ぶ問題。1問。', question_topics=[QuestionTopic(topic='やくわり')]), Subsection(subsection_title='(sentence_grammar)', description='問題6：文法問題。文中の（\\u3000）に入る最もよいものを選ぶ問題。3問。', question_topics=[QuestionTopic(topic='とく'), QuestionTopic(topic='しげん'), QuestionTopic(topic='しゅくはく')]), Subsection(subsection_title='(sentence_sort)', description='問題7：文の順番を並び替える問題。3問。', question_topics=[QuestionTopic(topic='じょうきょう'), QuestionTopic(topic='きょうりょく'), QuestionTopic(topic='いどう')])])])"
     },
     "execution_count": 10,
     "metadata": {},
     "output_type": "execute_result"
    }
   ],
   "source": [
    "initial_outline"
   ],
   "metadata": {
    "collapsed": false,
    "ExecuteTime": {
     "end_time": "2025-06-02T14:18:38.324740800Z",
     "start_time": "2025-06-02T14:18:38.318033800Z"
    }
   },
   "id": "642ab45795c9eae4"
  },
  {
   "cell_type": "code",
   "execution_count": 11,
   "id": "d53b7d9ff86a5377",
   "metadata": {
    "colab": {
     "base_uri": "https://localhost:8080/",
     "height": 1000
    },
    "id": "d53b7d9ff86a5377",
    "outputId": "0e4ce018-377a-48d5-9b87-bed3eac897ac",
    "ExecuteTime": {
     "end_time": "2025-06-02T14:18:38.341366400Z",
     "start_time": "2025-06-02T14:18:38.322727300Z"
    }
   },
   "outputs": [
    {
     "data": {
      "text/plain": "<IPython.core.display.Markdown object>",
      "text/markdown": "# 日本語能力試験Ｎ３ 模擬試験問題\n\n## 第１部　語彙・文法\n\n### (kanji_reading)\n\n問題1：語彙の読み方を選ぶ問題。1問。\n\n- **せめる**\n- **のせる**\n\n### (write_kanji)\n\n問題2：語彙を漢字で書く問題。1問。\n\n- **ふかめる**\n\n### (word_meaning)\n\n問題3：（　）に入れる最もよい語を選ぶ問題。1問。\n\n- **しんこく**\n\n### (synonym_substitution)\n\n問題4：意味が最も近いものを選ぶ問題。1問。\n\n- **きみょう**\n\n### (word_usage)\n\n問題5：ことばの使い方として最もよいものを選ぶ問題。1問。\n\n- **やくわり**\n\n### (sentence_grammar)\n\n問題6：文法問題。文中の（　）に入る最もよいものを選ぶ問題。3問。\n\n- **とく**\n- **しげん**\n- **しゅくはく**\n\n### (sentence_sort)\n\n問題7：文の順番を並び替える問題。3問。\n\n- **じょうきょう**\n- **きょうりょく**\n- **いどう**"
     },
     "metadata": {},
     "output_type": "display_data"
    }
   ],
   "source": [
    "from IPython.display import display, Markdown, HTML\n",
    "display(Markdown(initial_outline.as_str))"
   ]
  },
  {
   "cell_type": "code",
   "execution_count": 12,
   "id": "5c2b7e675e5302a8",
   "metadata": {
    "colab": {
     "base_uri": "https://localhost:8080/"
    },
    "id": "5c2b7e675e5302a8",
    "outputId": "657ff47f-94af-4bd5-8035-03239fd42380",
    "ExecuteTime": {
     "end_time": "2025-06-02T14:21:18.448458500Z",
     "start_time": "2025-06-02T14:18:38.342369100Z"
    }
   },
   "outputs": [
    {
     "name": "stderr",
     "output_type": "stream",
     "text": [
      "Processing 第１部　語彙・文法:   0%|          | 0/7 [00:00<?, ?it/s]\n",
      "Processing (kanji_reading):   0%|          | 0/2 [00:00<?, ?it/s]\u001B[A"
     ]
    },
    {
     "name": "stdout",
     "output_type": "stream",
     "text": [
      "---WEB SEARCH---\n",
      "---Generator----\n"
     ]
    },
    {
     "name": "stderr",
     "output_type": "stream",
     "text": [
      "2025-06-02 22:18:48,233 - INFO - HTTP Request: POST https://ai-rolandaws880125ai409947751408.openai.azure.com/openai/deployments/gpt-4.1/chat/completions?api-version=2025-01-01-preview \"HTTP/1.1 400 Bad Request\"\n"
     ]
    },
    {
     "name": "stdout",
     "output_type": "stream",
     "text": [
      "---WEB SEARCH---\n",
      "---Generator----\n"
     ]
    },
    {
     "name": "stderr",
     "output_type": "stream",
     "text": [
      "2025-06-02 22:18:54,266 - INFO - HTTP Request: POST https://ai-rolandaws880125ai409947751408.openai.azure.com/openai/deployments/gpt-4.1/chat/completions?api-version=2025-01-01-preview \"HTTP/1.1 200 OK\"\n",
      "2025-06-02 22:18:54,268 - INFO - Generated message: <a>彼は<u>詳細</u>に計画を説明した。</a>\n",
      "<ul>\n",
      "    <li>しょうさい</li>\n",
      "    <li>せいさい</li>\n",
      "    <li>しょうせい</li>\n",
      "    <li>せいしょう</li>\n",
      "</ul>\n",
      "正解: 1\n"
     ]
    },
    {
     "name": "stdout",
     "output_type": "stream",
     "text": [
      "---REVISOR---\n"
     ]
    },
    {
     "name": "stderr",
     "output_type": "stream",
     "text": [
      "2025-06-02 22:18:57,550 - INFO - HTTP Request: POST https://ai-rolandaws880125ai409947751408.openai.azure.com/openai/deployments/gpt-4.1/chat/completions?api-version=2025-01-01-preview \"HTTP/1.1 200 OK\"\n",
      "2025-06-02 22:18:57,551 - INFO - Refelect message: Content Accuracy:  \n",
      "The vocabulary item \"<u>詳細</u>\" (しょうさい) and its use in the sentence \"彼は詳細に計画を説明した。\" are appropriate for JLPT N3 level. The sentence is clear, natural, and contextually relevant, reflecting everyday academic and workplace scenarios. The vocabulary is suitable for N3, as \"詳細\" is a common word encountered at this level.\n",
      "\n",
      "Question and Answer Quality:  \n",
      "The question is clearly worded and unambiguous. The answer choices are plausible, with only one correct reading, which is suitable for testing kanji reading skills at N3. The distractors are realistic and likely to challenge students without being misleading.\n",
      "\n",
      "Cultural and Academic Appropriateness:  \n",
      "The content and context are culturally appropriate and relevant to Japanese academic and workplace settings. The sentence structure and vocabulary are standard and commonly used in such scenarios.\n",
      "\n",
      "Detailed Recommendations:  \n",
      "No major changes are needed. The question is well-constructed, the distractors are effective, and the vocabulary is suitable for the JLPT N3 level. If the rest of the exam paper follows this standard, it will be sufficiently challenging and effective for students at this level.\n",
      "\n",
      "GOOD ENOUGH\n"
     ]
    },
    {
     "name": "stdout",
     "output_type": "stream",
     "text": [
      "--- AI Reviser feels Good Enough ---\n",
      "--- Formatter ---\n"
     ]
    },
    {
     "name": "stderr",
     "output_type": "stream",
     "text": [
      "2025-06-02 22:18:58,983 - INFO - HTTP Request: POST https://ai-rolandaws880125ai409947751408.openai.azure.com/openai/deployments/gpt-4.1/chat/completions?api-version=2025-01-01-preview \"HTTP/1.1 200 OK\"\n",
      "2025-06-02 22:18:58,990 - INFO - Formatted message: {'html_question': '<a>彼は<u>詳細</u>に計画を説明した。</a>', 'correct_answer': 1, 'choices': ['しょうさい', 'せいさい', 'しょうせい', 'せいしょう']}\n",
      "\n",
      "Processing (kanji_reading):  50%|█████     | 1/2 [00:20<00:20, 20.64s/it]\u001B[A"
     ]
    },
    {
     "name": "stdout",
     "output_type": "stream",
     "text": [
      "---WEB SEARCH---\n",
      "---Generator----\n"
     ]
    },
    {
     "name": "stderr",
     "output_type": "stream",
     "text": [
      "2025-06-02 22:19:04,881 - INFO - HTTP Request: POST https://ai-rolandaws880125ai409947751408.openai.azure.com/openai/deployments/gpt-4.1/chat/completions?api-version=2025-01-01-preview \"HTTP/1.1 200 OK\"\n",
      "2025-06-02 22:19:04,883 - INFO - Generated message: <a>トラックに荷物を<u>載せる</u>仕事をしています。</a><ul> <li>つける</li> <li>おくる</li> <li>のせる</li> <li>はこぶ</li></ul>正解: 3\n"
     ]
    },
    {
     "name": "stdout",
     "output_type": "stream",
     "text": [
      "---REVISOR---\n"
     ]
    },
    {
     "name": "stderr",
     "output_type": "stream",
     "text": [
      "2025-06-02 22:19:07,598 - INFO - HTTP Request: POST https://ai-rolandaws880125ai409947751408.openai.azure.com/openai/deployments/gpt-4.1/chat/completions?api-version=2025-01-01-preview \"HTTP/1.1 200 OK\"\n",
      "2025-06-02 22:19:07,599 - INFO - Refelect message: Content Accuracy:\n",
      "- The vocabulary item 「載せる」(のせる) is appropriate for JLPT N3, as it is a common verb used in daily life and work-related contexts.\n",
      "- The sentence 「トラックに荷物を載せる仕事をしています。」is clear, natural, and contextually appropriate for describing a job that involves loading items onto a truck.\n",
      "\n",
      "Question and Answer Quality:\n",
      "- The distractors (つける, おくる, はこぶ) are plausible but distinct, which is good for testing vocabulary knowledge.\n",
      "- The correct answer (のせる) is unambiguous in this context and fits the sentence best.\n",
      "- The question is clearly worded and free from ambiguity.\n",
      "\n",
      "Detailed Refinement:\n",
      "- The context is culturally and academically appropriate, reflecting a real-life scenario in Japan.\n",
      "- No cultural or contextual issues are present.\n",
      "- The vocabulary and grammar are well-matched to the JLPT N3 level.\n",
      "\n",
      "Feedback:\n",
      "GOOD ENOUGH\n"
     ]
    },
    {
     "name": "stdout",
     "output_type": "stream",
     "text": [
      "--- AI Reviser feels Good Enough ---\n",
      "--- Formatter ---\n"
     ]
    },
    {
     "name": "stderr",
     "output_type": "stream",
     "text": [
      "2025-06-02 22:19:08,649 - INFO - HTTP Request: POST https://ai-rolandaws880125ai409947751408.openai.azure.com/openai/deployments/gpt-4.1/chat/completions?api-version=2025-01-01-preview \"HTTP/1.1 200 OK\"\n",
      "2025-06-02 22:19:08,657 - INFO - Formatted message: {'html_question': '<a>トラックに荷物を<u>載せる</u>仕事をしています。</a>', 'correct_answer': 3, 'choices': ['つける', 'おくる', 'のせる', 'はこぶ']}\n",
      "\n",
      "Processing (kanji_reading): 100%|██████████| 2/2 [00:30<00:00, 15.16s/it]\u001B[A\n",
      "Processing 第１部　語彙・文法:  14%|█▍        | 1/7 [00:30<03:01, 30.31s/it]\n",
      "Processing (write_kanji):   0%|          | 0/1 [00:00<?, ?it/s]\u001B[A"
     ]
    },
    {
     "name": "stdout",
     "output_type": "stream",
     "text": [
      "---WEB SEARCH---\n",
      "---Generator----\n"
     ]
    },
    {
     "name": "stderr",
     "output_type": "stream",
     "text": [
      "2025-06-02 22:19:16,384 - INFO - HTTP Request: POST https://ai-rolandaws880125ai409947751408.openai.azure.com/openai/deployments/gpt-4.1/chat/completions?api-version=2025-01-01-preview \"HTTP/1.1 200 OK\"\n",
      "2025-06-02 22:19:16,388 - INFO - Generated message: <a>この本を読んで、知識を<u>ふかめる</u>ことができました。</a>\n",
      "<ul class='options'>\n",
      "  <li>深進</li>\n",
      "  <li>深成</li>\n",
      "  <li>深める</li>\n",
      "  <li>深まる</li>\n",
      "</ul>\n",
      "正解: 3\n"
     ]
    },
    {
     "name": "stdout",
     "output_type": "stream",
     "text": [
      "---REVISOR---\n"
     ]
    },
    {
     "name": "stderr",
     "output_type": "stream",
     "text": [
      "2025-06-02 22:19:20,168 - INFO - HTTP Request: POST https://ai-rolandaws880125ai409947751408.openai.azure.com/openai/deployments/gpt-4.1/chat/completions?api-version=2025-01-01-preview \"HTTP/1.1 200 OK\"\n",
      "2025-06-02 22:19:20,172 - INFO - Refelect message: Content Accuracy:  \n",
      "The vocabulary and grammar point tested here—「ふかめる」—is appropriate for the JLPT N3 level. The sentence structure is clear, and the context (reading a book to deepen knowledge) is relevant and natural. The kanji options provided are also suitable for N3, as students at this level are expected to distinguish between similar kanji compounds.\n",
      "\n",
      "Question and Answer Quality:  \n",
      "The question is clearly worded and unambiguous. The answer choices are plausible, with subtle differences that challenge students to select the correct form. The correct answer, 「深める」, is at the appropriate level of difficulty. The distractors are also well-chosen:\n",
      "- 「深進」: not a real word, but plausible as a distractor.\n",
      "- 「深成」: not a common word, but plausible.\n",
      "- 「深まる」: a real word that often confuses students with 「深める」, making this a good distractor.\n",
      "\n",
      "Detailed Refinement:  \n",
      "The content is culturally and academically appropriate, with a context that is typical of Japanese academic or everyday language. There are no cultural issues, and the vocabulary fits the JLPT N3 level.\n",
      "\n",
      "Feedback and Recommendations:  \n",
      "GOOD ENOUGH\n"
     ]
    },
    {
     "name": "stdout",
     "output_type": "stream",
     "text": [
      "--- AI Reviser feels Good Enough ---\n",
      "--- Formatter ---\n"
     ]
    },
    {
     "name": "stderr",
     "output_type": "stream",
     "text": [
      "2025-06-02 22:19:20,980 - INFO - HTTP Request: POST https://ai-rolandaws880125ai409947751408.openai.azure.com/openai/deployments/gpt-4.1/chat/completions?api-version=2025-01-01-preview \"HTTP/1.1 200 OK\"\n",
      "2025-06-02 22:19:20,984 - INFO - Formatted message: {'html_question': '<a>この本を読んで、知識を<u>ふかめる</u>ことができました。</a>', 'correct_answer': 3, 'choices': ['深進', '深成', '深める', '深まる']}\n",
      "\n",
      "Processing (write_kanji): 100%|██████████| 1/1 [00:12<00:00, 12.33s/it]\u001B[A\n",
      "Processing 第１部　語彙・文法:  29%|██▊       | 2/7 [00:42<01:38, 19.73s/it]\n",
      "Processing (word_meaning):   0%|          | 0/1 [00:00<?, ?it/s]\u001B[A"
     ]
    },
    {
     "name": "stdout",
     "output_type": "stream",
     "text": [
      "---WEB SEARCH---\n",
      "---Generator----\n"
     ]
    },
    {
     "name": "stderr",
     "output_type": "stream",
     "text": [
      "2025-06-02 22:19:30,255 - INFO - HTTP Request: POST https://ai-rolandaws880125ai409947751408.openai.azure.com/openai/deployments/gpt-4.1/chat/completions?api-version=2025-01-01-preview \"HTTP/1.1 200 OK\"\n",
      "2025-06-02 22:19:30,259 - INFO - Generated message: <a>この問題はとても（　）なので、みんなで協力して解決しましょう。</a>\n",
      "<ul class='options'>\n",
      "  <li>明確</li>\n",
      "  <li>重要</li>\n",
      "  <li>簡単</li>\n",
      "  <li>静か</li>\n",
      "</ul>\n",
      "正解: 2\n"
     ]
    },
    {
     "name": "stdout",
     "output_type": "stream",
     "text": [
      "---REVISOR---\n"
     ]
    },
    {
     "name": "stderr",
     "output_type": "stream",
     "text": [
      "2025-06-02 22:19:35,240 - INFO - HTTP Request: POST https://ai-rolandaws880125ai409947751408.openai.azure.com/openai/deployments/gpt-4.1/chat/completions?api-version=2025-01-01-preview \"HTTP/1.1 200 OK\"\n",
      "2025-06-02 22:19:35,242 - INFO - Refelect message: Content Accuracy:\n",
      "- The vocabulary word \"しんこく\" (深刻) is not directly used in the question or options, which could be confusing if the intention was to test that specific word.\n",
      "- The question as written, \"この問題はとても（　）なので、みんなで協力して解決しましょう。\" is clear and at an appropriate JLPT N3 level.\n",
      "- The correct answer, \"重要\" (important), fits the context, though \"深刻\" (serious) would also be a natural fit, but is not included in the options.\n",
      "\n",
      "Question and Answer Quality:\n",
      "- The options are clear and mostly at the N3 level: \n",
      "  - 明確 (clear) \n",
      "  - 重要 (important)\n",
      "  - 簡単 (easy)\n",
      "  - 静か (quiet)\n",
      "- The distractors are plausible, but \"簡単\" and \"静か\" are less likely to fit, making the correct answer relatively obvious.\n",
      "- The question is not ambiguous, and the phrasing is natural.\n",
      "\n",
      "Cultural and Academic Appropriateness:\n",
      "- The context (solving a problem together) is culturally relevant and appropriate for Japanese language learners.\n",
      "- The vocabulary used is appropriate for JLPT N3 and does not include culturally inappropriate or irrelevant content.\n",
      "\n",
      "Detailed Recommendations:\n",
      "- If you intended to test \"しんこく\" (深刻), please include it as one of the answer choices. For example: \n",
      "  - 明確\n",
      "  - 重要\n",
      "  - 簡単\n",
      "  - 深刻\n",
      "- Consider making the distractors a bit more challenging (e.g., including \"深刻\" and \"重大\") to better assess nuanced understanding at the N3 level.\n",
      "- The current options are acceptable, but including \"深刻\" would make the question more challenging and closer to N3 expectations.\n",
      "\n",
      "Final Feedback:\n",
      "- If you intended to test \"重要,\" the question is GOOD ENOUGH.\n",
      "- If you intended to test \"しんこく\" (as in your initial message), please revise the answer options to include \"深刻.\"\n"
     ]
    },
    {
     "name": "stdout",
     "output_type": "stream",
     "text": [
      "--- AI Reviser feels Good Enough ---\n",
      "--- Formatter ---\n"
     ]
    },
    {
     "name": "stderr",
     "output_type": "stream",
     "text": [
      "2025-06-02 22:19:36,258 - INFO - HTTP Request: POST https://ai-rolandaws880125ai409947751408.openai.azure.com/openai/deployments/gpt-4.1/chat/completions?api-version=2025-01-01-preview \"HTTP/1.1 200 OK\"\n",
      "2025-06-02 22:19:36,259 - INFO - Formatted message: {'html_question': '<a>この問題はとても（\\u3000）なので、みんなで協力して解決しましょう。</a>', 'correct_answer': 2, 'choices': ['明確', '重要', '簡単', '静か']}\n",
      "\n",
      "Processing (word_meaning): 100%|██████████| 1/1 [00:15<00:00, 15.27s/it]\u001B[A\n",
      "Processing 第１部　語彙・文法:  43%|████▎     | 3/7 [00:57<01:10, 17.70s/it]\n",
      "Processing (synonym_substitution):   0%|          | 0/1 [00:00<?, ?it/s]\u001B[A"
     ]
    },
    {
     "name": "stdout",
     "output_type": "stream",
     "text": [
      "---WEB SEARCH---\n",
      "---Generator----\n"
     ]
    },
    {
     "name": "stderr",
     "output_type": "stream",
     "text": [
      "2025-06-02 22:19:42,255 - INFO - HTTP Request: POST https://ai-rolandaws880125ai409947751408.openai.azure.com/openai/deployments/gpt-4.1/chat/completions?api-version=2025-01-01-preview \"HTTP/1.1 200 OK\"\n",
      "2025-06-02 22:19:42,258 - INFO - Generated message: <a>その話はとても<u>奇妙</u>だと思います。</a>\n",
      "<ul class='options'>\n",
      "  <li>ふしぎ</li>\n",
      "  <li>あんぜん</li>\n",
      "  <li>しずか</li>\n",
      "  <li>かんたん</li>\n",
      "</ul>\n",
      "正解: 1\n"
     ]
    },
    {
     "name": "stdout",
     "output_type": "stream",
     "text": [
      "---REVISOR---\n"
     ]
    },
    {
     "name": "stderr",
     "output_type": "stream",
     "text": [
      "2025-06-02 22:19:44,756 - INFO - HTTP Request: POST https://ai-rolandaws880125ai409947751408.openai.azure.com/openai/deployments/gpt-4.1/chat/completions?api-version=2025-01-01-preview \"HTTP/1.1 200 OK\"\n",
      "2025-06-02 22:19:44,759 - INFO - Refelect message: Content Accuracy:  \n",
      "The vocabulary item 「奇妙」(きみょう) is appropriate for the JLPT N3 level. The sentence context—「その話はとても奇妙だと思います。」—is clear, natural, and relevant, making it suitable for testing understanding of this word at N3.\n",
      "\n",
      "Question and Answer Quality:  \n",
      "The question is clearly worded and unambiguous. The distractor options (ふしぎ, あんぜん, しずか, かんたん) are all appropriate for N3. The correct answer, ふしぎ, is a suitable synonym and likely to be recognized by students at this level. The other options provide a fair challenge without being misleading.\n",
      "\n",
      "Cultural and Academic Appropriateness:  \n",
      "The sentence and vocabulary are culturally neutral and appropriate for Japanese academic contexts. The usage of 「奇妙」 fits well within standard Japanese and does not present any cultural or contextual issues.\n",
      "\n",
      "Feedback and Recommendations:  \n",
      "GOOD ENOUGH\n"
     ]
    },
    {
     "name": "stdout",
     "output_type": "stream",
     "text": [
      "--- AI Reviser feels Good Enough ---\n",
      "--- Formatter ---\n"
     ]
    },
    {
     "name": "stderr",
     "output_type": "stream",
     "text": [
      "2025-06-02 22:19:45,905 - INFO - HTTP Request: POST https://ai-rolandaws880125ai409947751408.openai.azure.com/openai/deployments/gpt-4.1/chat/completions?api-version=2025-01-01-preview \"HTTP/1.1 200 OK\"\n",
      "2025-06-02 22:19:45,910 - INFO - Formatted message: {'html_question': '<a>その話はとても<u>奇妙</u>だと思います。</a>', 'correct_answer': 1, 'choices': ['ふしぎ', 'あんぜん', 'しずか', 'かんたん']}\n",
      "\n",
      "Processing (synonym_substitution): 100%|██████████| 1/1 [00:09<00:00,  9.65s/it]\u001B[A\n",
      "Processing 第１部　語彙・文法:  57%|█████▋    | 4/7 [01:07<00:43, 14.52s/it]\n",
      "Processing (word_usage):   0%|          | 0/1 [00:00<?, ?it/s]\u001B[A"
     ]
    },
    {
     "name": "stdout",
     "output_type": "stream",
     "text": [
      "---WEB SEARCH---\n",
      "---Generator----\n"
     ]
    },
    {
     "name": "stderr",
     "output_type": "stream",
     "text": [
      "2025-06-02 22:19:54,002 - INFO - HTTP Request: POST https://ai-rolandaws880125ai409947751408.openai.azure.com/openai/deployments/gpt-4.1/chat/completions?api-version=2025-01-01-preview \"HTTP/1.1 200 OK\"\n",
      "2025-06-02 22:19:54,005 - INFO - Generated message: <a>やくわり</a>\n",
      "<ul class='options'>\n",
      "  <li>このプロジェクトでは、私は会議の時間を決める<u>やくわり</u>です。</li>\n",
      "  <li>大統領には国をまとめる<u>やくわり</u>があります。</li>\n",
      "  <li>料理を作る時、玉ねぎを切るのは私の<u>やくわり</u>です。</li>\n",
      "  <li>この映画で、私は主人公の友人の<u>やくわり</u>を演じます。</li>\n",
      "</ul>\n",
      "正解: 2\n"
     ]
    },
    {
     "name": "stdout",
     "output_type": "stream",
     "text": [
      "---REVISOR---\n"
     ]
    },
    {
     "name": "stderr",
     "output_type": "stream",
     "text": [
      "2025-06-02 22:19:58,099 - INFO - HTTP Request: POST https://ai-rolandaws880125ai409947751408.openai.azure.com/openai/deployments/gpt-4.1/chat/completions?api-version=2025-01-01-preview \"HTTP/1.1 200 OK\"\n",
      "2025-06-02 22:19:58,100 - INFO - Refelect message: Content Accuracy:\n",
      "- The vocabulary item「やくわり」(役割) is appropriate for JLPT N3. The sample sentences cover a range of common usages for this word, which is good.\n",
      "- All examples are grammatically correct and use vocabulary and structures suited to N3 level students.\n",
      "- The reading passages are short and clear, making them accessible but still providing an appropriate challenge.\n",
      "\n",
      "Question and Answer Quality:\n",
      "- The sentences are clearly worded and unambiguous.\n",
      "- Each sentence uses「やくわり」in a slightly different context, which helps assess the student's understanding of the word's nuance and correct usage.\n",
      "- The correct answer (2) is appropriate, as it best fits the meaning of \"role\" or \"duty\" in a broader, more formal context, which is the core meaning of「やくわり」.\n",
      "\n",
      "Cultural and Academic Appropriateness:\n",
      "- The contexts (project meetings, president, cooking, movie roles) are culturally neutral and relevant to Japanese society and language learning.\n",
      "- There is nothing culturally inappropriate or misleading in the sample sentences.\n",
      "\n",
      "Detailed Recommendations:\n",
      "- The variety in the sample sentences is good, covering both professional and casual uses.\n",
      "- If possible, consider making the distractors slightly more challenging by ensuring all sentences are plausible, but only one best captures the core meaning of「やくわり」in the context of the JLPT N3. However, as it stands, the examples are sufficiently challenging for this level.\n",
      "\n",
      "Final Feedback:\n",
      "GOOD ENOUGH\n"
     ]
    },
    {
     "name": "stdout",
     "output_type": "stream",
     "text": [
      "--- AI Reviser feels Good Enough ---\n",
      "--- Formatter ---\n"
     ]
    },
    {
     "name": "stderr",
     "output_type": "stream",
     "text": [
      "2025-06-02 22:19:59,429 - INFO - HTTP Request: POST https://ai-rolandaws880125ai409947751408.openai.azure.com/openai/deployments/gpt-4.1/chat/completions?api-version=2025-01-01-preview \"HTTP/1.1 200 OK\"\n",
      "2025-06-02 22:19:59,431 - INFO - Formatted message: {'html_question': '<a>やくわり</a>', 'correct_answer': 2, 'choices': ['このプロジェクトでは、私は会議の時間を決める<u>やくわり</u>です。', '大統領には国をまとめる<u>やくわり</u>があります。', '料理を作る時、玉ねぎを切るのは私の<u>やくわり</u>です。', 'この映画で、私は主人公の友人の<u>やくわり</u>を演じます。']}\n",
      "\n",
      "Processing (word_usage): 100%|██████████| 1/1 [00:13<00:00, 13.52s/it]\u001B[A\n",
      "Processing 第１部　語彙・文法:  71%|███████▏  | 5/7 [01:21<00:28, 14.16s/it]\n",
      "Processing (sentence_grammar):   0%|          | 0/3 [00:00<?, ?it/s]\u001B[A"
     ]
    },
    {
     "name": "stdout",
     "output_type": "stream",
     "text": [
      "---WEB SEARCH---\n",
      "---Generator----\n"
     ]
    },
    {
     "name": "stderr",
     "output_type": "stream",
     "text": [
      "2025-06-02 22:20:05,252 - INFO - HTTP Request: POST https://ai-rolandaws880125ai409947751408.openai.azure.com/openai/deployments/gpt-4.1/chat/completions?api-version=2025-01-01-preview \"HTTP/1.1 200 OK\"\n",
      "2025-06-02 22:20:05,253 - INFO - Generated message: <a>友達が家に来るから、ケーキを買って（　　　）つもりです。</a>\n",
      "<ul class='options'>\n",
      "  <li>いく</li>\n",
      "  <li>みる</li>\n",
      "  <li>とく</li>\n",
      "  <li>すぎる</li>\n",
      "</ul>\n",
      "正解: 3\n"
     ]
    },
    {
     "name": "stdout",
     "output_type": "stream",
     "text": [
      "---REVISOR---\n"
     ]
    },
    {
     "name": "stderr",
     "output_type": "stream",
     "text": [
      "2025-06-02 22:20:09,222 - INFO - HTTP Request: POST https://ai-rolandaws880125ai409947751408.openai.azure.com/openai/deployments/gpt-4.1/chat/completions?api-version=2025-01-01-preview \"HTTP/1.1 200 OK\"\n",
      "2025-06-02 22:20:09,226 - INFO - Refelect message: Critique and Recommendations:\n",
      "\n",
      "Content Accuracy:\n",
      "- The use of 「～ておく」 (to do something in preparation for something) is appropriate for JLPT N3 and fits the context of the sentence, as it expresses preparing for a friend's visit by buying cake.\n",
      "- Vocabulary and grammar used in the question are suitable for the N3 level.\n",
      "\n",
      "Question and Answer Quality:\n",
      "- The sentence is clear, relevant, and free from ambiguity. The blank tests the ability to recognize the correct auxiliary verb in context.\n",
      "- All answer choices are plausible, but only 「とく」 (the contracted form of 「ておく」) is correct, which is appropriate for N3 level, as students are expected to know both the formal and colloquial forms.\n",
      "- The distractors (\"いく\", \"みる\", \"すぎる\") are common N3 grammar points, making the question more challenging and comprehensive.\n",
      "\n",
      "Cultural and Academic Relevance:\n",
      "- The situation of a friend visiting and preparing by buying cake is culturally neutral and appropriate for a Japanese language exam.\n",
      "- The language is natural and reflects everyday Japanese.\n",
      "\n",
      "Detailed Refinement:\n",
      "- No issues found with the context, wording, or cultural appropriateness.\n",
      "- The question effectively assesses understanding of a key N3 grammar point in a realistic context.\n",
      "\n",
      "Feedback:\n",
      "GOOD ENOUGH\n"
     ]
    },
    {
     "name": "stdout",
     "output_type": "stream",
     "text": [
      "--- AI Reviser feels Good Enough ---\n",
      "--- Formatter ---\n"
     ]
    },
    {
     "name": "stderr",
     "output_type": "stream",
     "text": [
      "2025-06-02 22:20:10,061 - INFO - HTTP Request: POST https://ai-rolandaws880125ai409947751408.openai.azure.com/openai/deployments/gpt-4.1/chat/completions?api-version=2025-01-01-preview \"HTTP/1.1 200 OK\"\n",
      "2025-06-02 22:20:10,062 - INFO - Formatted message: {'html_question': '<a>友達が家に来るから、ケーキを買って（\\u3000\\u3000\\u3000）つもりです。</a>', 'correct_answer': 3, 'choices': ['いく', 'みる', 'とく', 'すぎる']}\n",
      "\n",
      "Processing (sentence_grammar):  33%|███▎      | 1/3 [00:10<00:21, 10.63s/it]\u001B[A"
     ]
    },
    {
     "name": "stdout",
     "output_type": "stream",
     "text": [
      "---WEB SEARCH---\n",
      "---Generator----\n"
     ]
    },
    {
     "name": "stderr",
     "output_type": "stream",
     "text": [
      "2025-06-02 22:20:18,401 - INFO - HTTP Request: POST https://ai-rolandaws880125ai409947751408.openai.azure.com/openai/deployments/gpt-4.1/chat/completions?api-version=2025-01-01-preview \"HTTP/1.1 200 OK\"\n",
      "2025-06-02 22:20:18,402 - INFO - Generated message: <a>地球の（　　　）は限りがあるので、大切に使わなければなりません。</a>\n",
      "<ul class='options'>\n",
      "  <li>資本</li>\n",
      "  <li>資源</li>\n",
      "  <li>資金</li>\n",
      "  <li>資料</li>\n",
      "</ul>\n",
      "正解: 2\n"
     ]
    },
    {
     "name": "stdout",
     "output_type": "stream",
     "text": [
      "---REVISOR---\n"
     ]
    },
    {
     "name": "stderr",
     "output_type": "stream",
     "text": [
      "2025-06-02 22:20:21,541 - INFO - HTTP Request: POST https://ai-rolandaws880125ai409947751408.openai.azure.com/openai/deployments/gpt-4.1/chat/completions?api-version=2025-01-01-preview \"HTTP/1.1 200 OK\"\n",
      "2025-06-02 22:20:21,543 - INFO - Refelect message: Content Accuracy:\n",
      "- The vocabulary tested here, particularly 「資源」, is appropriate for the JLPT N3 level. The distractors (資本, 資金, 資料) are also common N3-level words, making the question suitable for this level.\n",
      "- The context of the sentence, discussing Earth's limited resources, is clear, relevant, and provides an authentic situation in which the vocabulary would be used.\n",
      "- The grammar and sentence structure are appropriate for N3, and the use of 「限りがある」 and 「大切に使わなければなりません」 is accurate and natural.\n",
      "\n",
      "Question and Answer Quality:\n",
      "- The question is clearly worded and unambiguous. The blank is logically placed, and the correct answer is clear from the context.\n",
      "- All distractors are plausible, testing the student's understanding of nuanced vocabulary differences, which is ideal for N3.\n",
      "- The question comprehensively assesses vocabulary recognition and contextual usage.\n",
      "\n",
      "Cultural and Academic Appropriateness:\n",
      "- The content is culturally neutral and relevant to general academic and environmental topics, which are commonly found in JLPT exams.\n",
      "- There is no inappropriate or culturally insensitive content.\n",
      "\n",
      "Recommendations:\n",
      "- No significant changes are required. The question is well-constructed, suitable for the level, and appropriately challenging.\n",
      "\n",
      "GOOD ENOUGH\n"
     ]
    },
    {
     "name": "stdout",
     "output_type": "stream",
     "text": [
      "--- AI Reviser feels Good Enough ---\n",
      "--- Formatter ---\n"
     ]
    },
    {
     "name": "stderr",
     "output_type": "stream",
     "text": [
      "2025-06-02 22:20:22,311 - INFO - HTTP Request: POST https://ai-rolandaws880125ai409947751408.openai.azure.com/openai/deployments/gpt-4.1/chat/completions?api-version=2025-01-01-preview \"HTTP/1.1 200 OK\"\n",
      "2025-06-02 22:20:22,316 - INFO - Formatted message: {'html_question': '<a>地球の（\\u3000\\u3000\\u3000）は限りがあるので、大切に使わなければなりません。</a>', 'correct_answer': 2, 'choices': ['資本', '資源', '資金', '資料']}\n",
      "\n",
      "Processing (sentence_grammar):  67%|██████▋   | 2/3 [00:22<00:11, 11.58s/it]\u001B[A"
     ]
    },
    {
     "name": "stdout",
     "output_type": "stream",
     "text": [
      "---WEB SEARCH---\n",
      "---Generator----\n"
     ]
    },
    {
     "name": "stderr",
     "output_type": "stream",
     "text": [
      "2025-06-02 22:20:31,141 - INFO - HTTP Request: POST https://ai-rolandaws880125ai409947751408.openai.azure.com/openai/deployments/gpt-4.1/chat/completions?api-version=2025-01-01-preview \"HTTP/1.1 200 OK\"\n",
      "2025-06-02 22:20:31,142 - INFO - Generated message: <a>旅行に行くときは、ホテルや旅館などの（　　　）を前もって予約しておくと安心です。</a>\n",
      "<ul class='options'>\n",
      "  <li>しゅっぱつ</li>\n",
      "  <li>しゅくはく</li>\n",
      "  <li>しゅうり</li>\n",
      "  <li>しゅうごう</li>\n",
      "</ul>\n",
      "正解: 2\n"
     ]
    },
    {
     "name": "stdout",
     "output_type": "stream",
     "text": [
      "---REVISOR---\n"
     ]
    },
    {
     "name": "stderr",
     "output_type": "stream",
     "text": [
      "2025-06-02 22:20:34,343 - INFO - HTTP Request: POST https://ai-rolandaws880125ai409947751408.openai.azure.com/openai/deployments/gpt-4.1/chat/completions?api-version=2025-01-01-preview \"HTTP/1.1 200 OK\"\n",
      "2025-06-02 22:20:34,344 - INFO - Refelect message: Content Accuracy:\n",
      "- The vocabulary term \"しゅくはく\" (宿泊) is appropriate for JLPT N3, as it is commonly encountered in travel-related contexts at this level.\n",
      "- The distractors \"しゅっぱつ\" (出発), \"しゅうり\" (修理), and \"しゅうごう\" (集合) are all N3-appropriate and plausible, which helps assess the student's understanding of similar-sounding words.\n",
      "- The reading passage is clear, relevant, and contextually appropriate, describing a common situation (travel and accommodation) that is both practical and culturally relevant for Japanese learners.\n",
      "\n",
      "Question and Answer Quality:\n",
      "- The question is clearly worded, with no ambiguity, and the blank is placed in a natural position in the sentence.\n",
      "- The answer choices are sufficiently challenging without being confusing, and the correct answer (しゅくはく) is unambiguous in this context.\n",
      "- The question tests vocabulary recognition and contextual understanding, which aligns well with JLPT N3 requirements.\n",
      "\n",
      "Detailed Refinement:\n",
      "- The content is culturally appropriate, referencing hotels and ryokan—both typical accommodation options in Japan.\n",
      "- The sentence structure and vocabulary usage are at the expected N3 level, and the context is suitable for academic language learning.\n",
      "\n",
      "Feedback:\n",
      "GOOD ENOUGH\n"
     ]
    },
    {
     "name": "stdout",
     "output_type": "stream",
     "text": [
      "--- AI Reviser feels Good Enough ---\n",
      "--- Formatter ---\n"
     ]
    },
    {
     "name": "stderr",
     "output_type": "stream",
     "text": [
      "2025-06-02 22:20:35,443 - INFO - HTTP Request: POST https://ai-rolandaws880125ai409947751408.openai.azure.com/openai/deployments/gpt-4.1/chat/completions?api-version=2025-01-01-preview \"HTTP/1.1 200 OK\"\n",
      "2025-06-02 22:20:35,444 - INFO - Formatted message: {'html_question': '<a>旅行に行くときは、ホテルや旅館などの（\\u3000\\u3000\\u3000）を前もって予約しておくと安心です。</a>', 'correct_answer': 2, 'choices': ['しゅっぱつ', 'しゅくはく', 'しゅうり', 'しゅうごう']}\n",
      "\n",
      "Processing (sentence_grammar): 100%|██████████| 3/3 [00:36<00:00, 12.00s/it]\u001B[A\n",
      "Processing 第１部　語彙・文法:  86%|████████▌ | 6/7 [01:57<00:21, 21.59s/it]\n",
      "Processing (sentence_sort):   0%|          | 0/3 [00:00<?, ?it/s]\u001B[A"
     ]
    },
    {
     "name": "stdout",
     "output_type": "stream",
     "text": [
      "---WEB SEARCH---\n",
      "---Generator----\n"
     ]
    },
    {
     "name": "stderr",
     "output_type": "stream",
     "text": [
      "2025-06-02 22:20:46,912 - INFO - HTTP Request: POST https://ai-rolandaws880125ai409947751408.openai.azure.com/openai/deployments/gpt-4.1/chat/completions?api-version=2025-01-01-preview \"HTTP/1.1 200 OK\"\n",
      "2025-06-02 22:20:46,915 - INFO - Generated message: <a>事故現場の<u>＿＿</u> <u>＿＿</u> <u>&nbsp; &nbsp;</u><u>★</u><u>&nbsp; &nbsp;</u> <u>＿＿</u> を警察が詳しく調べている。</a>\n",
      "<ul class='options'>\n",
      "  <li>場所</li>\n",
      "  <li>状況</li>\n",
      "  <li>理由</li>\n",
      "  <li>状態</li>\n",
      "</ul>\n",
      "正解: 2\n"
     ]
    },
    {
     "name": "stdout",
     "output_type": "stream",
     "text": [
      "---REVISOR---\n"
     ]
    },
    {
     "name": "stderr",
     "output_type": "stream",
     "text": [
      "2025-06-02 22:20:50,480 - INFO - HTTP Request: POST https://ai-rolandaws880125ai409947751408.openai.azure.com/openai/deployments/gpt-4.1/chat/completions?api-version=2025-01-01-preview \"HTTP/1.1 200 OK\"\n",
      "2025-06-02 22:20:50,482 - INFO - Refelect message: **Content Accuracy:**  \n",
      "The vocabulary word \"状況\" (じょうきょう) is appropriately selected for JLPT N3 level. The sentence \"事故現場の＿＿を警察が詳しく調べている。\" is clear, contextually relevant, and uses vocabulary and grammar structures suitable for N3. The distractor options (\"場所\", \"理由\", \"状態\") are appropriate and plausible, encouraging careful reading.\n",
      "\n",
      "**Question and Answer Quality:**  \n",
      "The question is unambiguous and tests the distinction between similar words, which is a key skill at this level. The sentence is naturally worded and the blank is placed in a position that makes sense for assessing vocabulary knowledge. The correct answer, \"状況\", is clearly the best fit for the context, as it refers to the \"circumstances\" or \"situation\" of the accident, which the police would investigate in detail.\n",
      "\n",
      "**Detailed Refinement:**  \n",
      "The content is culturally and academically appropriate, reflecting a realistic context (police investigating an accident) that is relevant to Japanese society and language use.\n",
      "\n",
      "**Feedback:**  \n",
      "GOOD ENOUGH\n"
     ]
    },
    {
     "name": "stdout",
     "output_type": "stream",
     "text": [
      "--- AI Reviser feels Good Enough ---\n",
      "--- Formatter ---\n"
     ]
    },
    {
     "name": "stderr",
     "output_type": "stream",
     "text": [
      "2025-06-02 22:20:51,445 - INFO - HTTP Request: POST https://ai-rolandaws880125ai409947751408.openai.azure.com/openai/deployments/gpt-4.1/chat/completions?api-version=2025-01-01-preview \"HTTP/1.1 200 OK\"\n",
      "2025-06-02 22:20:51,446 - INFO - Formatted message: {'html_question': '<a>事故現場の<u>＿＿</u> <u>＿＿</u> <u>&nbsp; &nbsp;</u><u>★</u><u>&nbsp; &nbsp;</u> <u>＿＿</u> を警察が詳しく調べている。</a>', 'correct_answer': 2, 'choices': ['場所', '状況', '理由', '状態']}\n",
      "\n",
      "Processing (sentence_sort):  33%|███▎      | 1/3 [00:15<00:31, 16.00s/it]\u001B[A"
     ]
    },
    {
     "name": "stdout",
     "output_type": "stream",
     "text": [
      "---WEB SEARCH---\n",
      "---Generator----\n"
     ]
    },
    {
     "name": "stderr",
     "output_type": "stream",
     "text": [
      "2025-06-02 22:21:02,240 - INFO - HTTP Request: POST https://ai-rolandaws880125ai409947751408.openai.azure.com/openai/deployments/gpt-4.1/chat/completions?api-version=2025-01-01-preview \"HTTP/1.1 200 OK\"\n",
      "2025-06-02 22:21:02,243 - INFO - Generated message: <a>プロジェクトを成功させるためには、チーム全員の<u>＿＿</u> <u>＿＿</u> <u>&nbsp; &nbsp;</u><u>★</u><u>&nbsp; &nbsp;</u> <u>＿＿</u> が必要です。</a>\n",
      "<ul class='options'>\n",
      "  <li>協力</li>\n",
      "  <li>参加</li>\n",
      "  <li>注意</li>\n",
      "  <li>意見</li>\n",
      "</ul>\n",
      "正解: 1\n"
     ]
    },
    {
     "name": "stdout",
     "output_type": "stream",
     "text": [
      "---REVISOR---\n"
     ]
    },
    {
     "name": "stderr",
     "output_type": "stream",
     "text": [
      "2025-06-02 22:21:05,057 - INFO - HTTP Request: POST https://ai-rolandaws880125ai409947751408.openai.azure.com/openai/deployments/gpt-4.1/chat/completions?api-version=2025-01-01-preview \"HTTP/1.1 200 OK\"\n",
      "2025-06-02 22:21:05,059 - INFO - Refelect message: Content Accuracy:\n",
      "- The vocabulary item \"協力\" (きょうりょく, cooperation) is appropriate for JLPT N3 level, and the context of a project requiring everyone’s cooperation is realistic and relevant.\n",
      "- The distractors (参加, 注意, 意見) are also at the N3 level and plausible, which tests the student's ability to distinguish between similar terms.\n",
      "\n",
      "Question and Answer Quality:\n",
      "- The sentence is clear, contextually appropriate, and unambiguous. The blank is positioned in a way that only \"協力\" fits naturally and logically, ensuring the question is effective in testing vocabulary knowledge.\n",
      "- The answer choices are sufficiently challenging for N3 and do not cause confusion due to poor wording.\n",
      "\n",
      "Cultural and Academic Appropriateness:\n",
      "- The scenario of working together on a project is relevant to both academic and professional contexts in Japan.\n",
      "- The language used is formal and suitable for the JLPT context.\n",
      "\n",
      "Recommendations:\n",
      "- No major changes are needed. The question is well-constructed and aligns with the JLPT N3 level requirements.\n",
      "- Continue to ensure that other questions in the exam maintain this level of clarity and relevance.\n",
      "\n",
      "GOOD ENOUGH\n"
     ]
    },
    {
     "name": "stdout",
     "output_type": "stream",
     "text": [
      "--- AI Reviser feels Good Enough ---\n",
      "--- Formatter ---\n"
     ]
    },
    {
     "name": "stderr",
     "output_type": "stream",
     "text": [
      "2025-06-02 22:21:06,184 - INFO - HTTP Request: POST https://ai-rolandaws880125ai409947751408.openai.azure.com/openai/deployments/gpt-4.1/chat/completions?api-version=2025-01-01-preview \"HTTP/1.1 200 OK\"\n",
      "2025-06-02 22:21:06,186 - INFO - Formatted message: {'html_question': '<a>プロジェクトを成功させるためには、チーム全員の<u>＿＿</u> <u>＿＿</u> <u>&nbsp; &nbsp;</u><u>★</u><u>&nbsp; &nbsp;</u> <u>＿＿</u> が必要です。</a>', 'correct_answer': 1, 'choices': ['協力', '参加', '注意', '意見']}\n",
      "\n",
      "Processing (sentence_sort):  67%|██████▋   | 2/3 [00:30<00:15, 15.26s/it]\u001B[A"
     ]
    },
    {
     "name": "stdout",
     "output_type": "stream",
     "text": [
      "---WEB SEARCH---\n",
      "---Generator----\n"
     ]
    },
    {
     "name": "stderr",
     "output_type": "stream",
     "text": [
      "2025-06-02 22:21:12,143 - INFO - HTTP Request: POST https://ai-rolandaws880125ai409947751408.openai.azure.com/openai/deployments/gpt-4.1/chat/completions?api-version=2025-01-01-preview \"HTTP/1.1 200 OK\"\n",
      "2025-06-02 22:21:12,144 - INFO - Generated message: <a>今日は天気がいいので、家族と一緒に公園まで<u>＿＿</u> <u>＿＿</u> <u>&nbsp; &nbsp;</u><u>★</u><u>&nbsp; &nbsp;</u> <u>＿＿</u> ことにしました。</a>\n",
      "<ul class='options'>\n",
      "  <li>歩いて</li>\n",
      "  <li>遊んで</li>\n",
      "  <li>食べて</li>\n",
      "  <li>見て</li>\n",
      "</ul>\n",
      "正解: 1\n"
     ]
    },
    {
     "name": "stdout",
     "output_type": "stream",
     "text": [
      "---REVISOR---\n"
     ]
    },
    {
     "name": "stderr",
     "output_type": "stream",
     "text": [
      "2025-06-02 22:21:15,591 - INFO - HTTP Request: POST https://ai-rolandaws880125ai409947751408.openai.azure.com/openai/deployments/gpt-4.1/chat/completions?api-version=2025-01-01-preview \"HTTP/1.1 200 OK\"\n",
      "2025-06-02 22:21:15,593 - INFO - Refelect message: **Content Accuracy:**  \n",
      "The grammar and vocabulary in the question are appropriate for the JLPT N3 level. The verb \"歩いて\" (to walk) is a common verb, and the context of walking to the park with family is clear and relevant. The sentence structure \"ことにしました\" is also suitable for N3, as it expresses a decided action.\n",
      "\n",
      "**Question and Answer Quality:**  \n",
      "The question is clearly worded and unambiguous. The options provided (歩いて, 遊んで, 食べて, 見て) are all N3-level verbs, and only \"歩いて\" logically fits the context of \"going to the park\" as a means of movement. The distractors are plausible but not confusing, and the sentence tests both vocabulary and comprehension.\n",
      "\n",
      "**Detailed Refinement:**  \n",
      "The content is culturally appropriate and relevant. Walking to the park with family is a common scenario in Japan and aligns well with typical JLPT reading and grammar content. The sentence is natural and uses academic Japanese appropriate for the level.\n",
      "\n",
      "**Feedback and Recommendations:**  \n",
      "- The question is well-constructed and contextually appropriate.\n",
      "- The answer options are suitable and the correct answer is clear.\n",
      "- The difficulty is appropriate for N3.\n",
      "- No cultural or linguistic issues are present.\n",
      "\n",
      "**GOOD ENOUGH**\n"
     ]
    },
    {
     "name": "stdout",
     "output_type": "stream",
     "text": [
      "--- AI Reviser feels Good Enough ---\n",
      "--- Formatter ---\n"
     ]
    },
    {
     "name": "stderr",
     "output_type": "stream",
     "text": [
      "2025-06-02 22:21:18,435 - INFO - HTTP Request: POST https://ai-rolandaws880125ai409947751408.openai.azure.com/openai/deployments/gpt-4.1/chat/completions?api-version=2025-01-01-preview \"HTTP/1.1 200 OK\"\n",
      "2025-06-02 22:21:18,437 - INFO - Formatted message: {'html_question': '<a>今日は天気がいいので、家族と一緒に公園まで<u>＿＿</u> <u>＿＿</u> <u>&nbsp; &nbsp;</u><u>★</u><u>&nbsp; &nbsp;</u> <u>＿＿</u> ことにしました。</a>', 'correct_answer': 1, 'choices': ['歩いて', '遊んで', '食べて', '見て']}\n",
      "\n",
      "Processing (sentence_sort): 100%|██████████| 3/3 [00:42<00:00, 14.33s/it]\u001B[A\n",
      "Processing 第１部　語彙・文法: 100%|██████████| 7/7 [02:40<00:00, 22.87s/it]"
     ]
    },
    {
     "name": "stdout",
     "output_type": "stream",
     "text": [
      "Total execution time: 160.10 seconds\n"
     ]
    },
    {
     "name": "stderr",
     "output_type": "stream",
     "text": [
      "\n"
     ]
    }
   ],
   "source": [
    "import re\n",
    "outliner_json = initial_outline.model_dump_json()\n",
    "data = json.loads(outliner_json)  # Replace with your actual JSON data\n",
    "\n",
    "start_time = time.time()\n",
    "\n",
    "output_data = {'sections': []}\n",
    "\n",
    "for section in data['sections']:\n",
    "    output_section = {'section_title': section['section_title'], 'subsections': []}\n",
    "\n",
    "    for subsection in tqdm(section['subsections'], desc=f\"Processing {section['section_title']}\"):\n",
    "        function_name = re.findall(r'\\((.*?)\\)', subsection['subsection_title'])[0]\n",
    "\n",
    "        questions = subsection['question_topics']\n",
    "\n",
    "        for question in tqdm(questions, desc=f\"Processing {subsection['subsection_title']}\"):\n",
    "            handler = ExamTaskHandler()\n",
    "            func = getattr(handler, function_name, None)\n",
    "\n",
    "            if func:\n",
    "                max_attempts = 2\n",
    "                original_topic = question['topic']  # Optional: Track original topic\n",
    "                for attempt in range(max_attempts):\n",
    "                    try:\n",
    "                        result = func(question['topic'])\n",
    "                        question['result'] = result\n",
    "                        break  # Exit on success\n",
    "                    except Exception as e:\n",
    "                        if attempt < max_attempts - 1:\n",
    "                            # Replace topic and retry\n",
    "                            question['topic'] = random.choice(topics_list)\n",
    "                        else:\n",
    "                            question['result'] = f\"Error after {max_attempts} attempts: {str(e)}\"\n",
    "            else:\n",
    "                question['result'] = f\"Method {function_name} not found\"\n",
    "\n",
    "        output_subsection = {\n",
    "            'subsection_title': subsection['subsection_title'],\n",
    "            'description': subsection['description'],\n",
    "            'question_topics': questions\n",
    "        }\n",
    "        output_section['subsections'].append(output_subsection)\n",
    "\n",
    "    output_data['sections'].append(output_section)\n",
    "\n",
    "# End the timer\n",
    "end_time = time.time()\n",
    "\n",
    "# Calculate the total execution time\n",
    "execution_time = end_time - start_time\n",
    "\n",
    "print(f\"Total execution time: {execution_time:.2f} seconds\")"
   ]
  },
  {
   "cell_type": "code",
   "execution_count": 13,
   "id": "43e411616ee939b1",
   "metadata": {
    "colab": {
     "base_uri": "https://localhost:8080/",
     "height": 1000
    },
    "id": "43e411616ee939b1",
    "outputId": "97cc7eef-f8ae-4401-ef8b-022c706f112c",
    "ExecuteTime": {
     "end_time": "2025-06-02T14:21:18.448458500Z",
     "start_time": "2025-06-02T14:21:18.445376Z"
    }
   },
   "outputs": [],
   "source": [
    "# yaml_str = yaml.dump(output_data, allow_unicode=True, sort_keys=False, default_flow_style=False)\n",
    "# # Display as formatted YAML\n",
    "# display(Markdown(yaml_str))"
   ]
  },
  {
   "cell_type": "code",
   "execution_count": 14,
   "id": "307398e88bf20dc3",
   "metadata": {
    "colab": {
     "base_uri": "https://localhost:8080/"
    },
    "id": "307398e88bf20dc3",
    "outputId": "4ff94084-e0f5-45ad-ee7b-bca01723dd10",
    "ExecuteTime": {
     "end_time": "2025-06-02T14:21:18.459469700Z",
     "start_time": "2025-06-02T14:21:18.448458500Z"
    }
   },
   "outputs": [
    {
     "data": {
      "text/plain": "{'sections': [{'section_title': '第１部\\u3000語彙・文法',\n   'subsections': [{'subsection_title': '(kanji_reading)',\n     'description': '問題1：語彙の読み方を選ぶ問題。1問。',\n     'question_topics': [{'topic': '学校や職場での一日の流れについて話す',\n       'result': {'html_question': '<a>彼は<u>詳細</u>に計画を説明した。</a>',\n        'correct_answer': 1,\n        'choices': ['しょうさい', 'せいさい', 'しょうせい', 'せいしょう']}},\n      {'topic': 'のせる',\n       'result': {'html_question': '<a>トラックに荷物を<u>載せる</u>仕事をしています。</a>',\n        'correct_answer': 3,\n        'choices': ['つける', 'おくる', 'のせる', 'はこぶ']}}]},\n    {'subsection_title': '(write_kanji)',\n     'description': '問題2：語彙を漢字で書く問題。1問。',\n     'question_topics': [{'topic': 'ふかめる',\n       'result': {'html_question': '<a>この本を読んで、知識を<u>ふかめる</u>ことができました。</a>',\n        'correct_answer': 3,\n        'choices': ['深進', '深成', '深める', '深まる']}}]},\n    {'subsection_title': '(word_meaning)',\n     'description': '問題3：（\\u3000）に入れる最もよい語を選ぶ問題。1問。',\n     'question_topics': [{'topic': 'しんこく',\n       'result': {'html_question': '<a>この問題はとても（\\u3000）なので、みんなで協力して解決しましょう。</a>',\n        'correct_answer': 2,\n        'choices': ['明確', '重要', '簡単', '静か']}}]},\n    {'subsection_title': '(synonym_substitution)',\n     'description': '問題4：意味が最も近いものを選ぶ問題。1問。',\n     'question_topics': [{'topic': 'きみょう',\n       'result': {'html_question': '<a>その話はとても<u>奇妙</u>だと思います。</a>',\n        'correct_answer': 1,\n        'choices': ['ふしぎ', 'あんぜん', 'しずか', 'かんたん']}}]},\n    {'subsection_title': '(word_usage)',\n     'description': '問題5：ことばの使い方として最もよいものを選ぶ問題。1問。',\n     'question_topics': [{'topic': 'やくわり',\n       'result': {'html_question': '<a>やくわり</a>',\n        'correct_answer': 2,\n        'choices': ['このプロジェクトでは、私は会議の時間を決める<u>やくわり</u>です。',\n         '大統領には国をまとめる<u>やくわり</u>があります。',\n         '料理を作る時、玉ねぎを切るのは私の<u>やくわり</u>です。',\n         'この映画で、私は主人公の友人の<u>やくわり</u>を演じます。']}}]},\n    {'subsection_title': '(sentence_grammar)',\n     'description': '問題6：文法問題。文中の（\\u3000）に入る最もよいものを選ぶ問題。3問。',\n     'question_topics': [{'topic': 'とく',\n       'result': {'html_question': '<a>友達が家に来るから、ケーキを買って（\\u3000\\u3000\\u3000）つもりです。</a>',\n        'correct_answer': 3,\n        'choices': ['いく', 'みる', 'とく', 'すぎる']}},\n      {'topic': 'しげん',\n       'result': {'html_question': '<a>地球の（\\u3000\\u3000\\u3000）は限りがあるので、大切に使わなければなりません。</a>',\n        'correct_answer': 2,\n        'choices': ['資本', '資源', '資金', '資料']}},\n      {'topic': 'しゅくはく',\n       'result': {'html_question': '<a>旅行に行くときは、ホテルや旅館などの（\\u3000\\u3000\\u3000）を前もって予約しておくと安心です。</a>',\n        'correct_answer': 2,\n        'choices': ['しゅっぱつ', 'しゅくはく', 'しゅうり', 'しゅうごう']}}]},\n    {'subsection_title': '(sentence_sort)',\n     'description': '問題7：文の順番を並び替える問題。3問。',\n     'question_topics': [{'topic': 'じょうきょう',\n       'result': {'html_question': '<a>事故現場の<u>＿＿</u> <u>＿＿</u> <u>&nbsp; &nbsp;</u><u>★</u><u>&nbsp; &nbsp;</u> <u>＿＿</u> を警察が詳しく調べている。</a>',\n        'correct_answer': 2,\n        'choices': ['場所', '状況', '理由', '状態']}},\n      {'topic': 'きょうりょく',\n       'result': {'html_question': '<a>プロジェクトを成功させるためには、チーム全員の<u>＿＿</u> <u>＿＿</u> <u>&nbsp; &nbsp;</u><u>★</u><u>&nbsp; &nbsp;</u> <u>＿＿</u> が必要です。</a>',\n        'correct_answer': 1,\n        'choices': ['協力', '参加', '注意', '意見']}},\n      {'topic': 'いどう',\n       'result': {'html_question': '<a>今日は天気がいいので、家族と一緒に公園まで<u>＿＿</u> <u>＿＿</u> <u>&nbsp; &nbsp;</u><u>★</u><u>&nbsp; &nbsp;</u> <u>＿＿</u> ことにしました。</a>',\n        'correct_answer': 1,\n        'choices': ['歩いて', '遊んで', '食べて', '見て']}}]}]}]}"
     },
     "execution_count": 14,
     "metadata": {},
     "output_type": "execute_result"
    }
   ],
   "source": [
    "output_data"
   ]
  },
  {
   "cell_type": "code",
   "execution_count": 15,
   "id": "aa98a476d1ded815",
   "metadata": {
    "id": "aa98a476d1ded815",
    "ExecuteTime": {
     "end_time": "2025-06-02T14:21:18.493512600Z",
     "start_time": "2025-06-02T14:21:18.461473300Z"
    }
   },
   "outputs": [],
   "source": [
    "def render_to_html(sections):\n",
    "    html = '<html><body style=\"text-align: left;\">\\n'\n",
    "    for section in sections:\n",
    "        html += f'<h1>{section.get(\"section_title\", \"\")}</h1>\\n'\n",
    "        for subsection in section.get(\"subsections\", []):\n",
    "            html += f'<h2>{subsection.get(\"subsection_title\", \"\")}</h2>\\n'\n",
    "            if \"description\" in subsection:\n",
    "                html += f'<p>{subsection[\"description\"]}</p>\\n'\n",
    "            for idx, qtopic in enumerate(subsection.get(\"question_topics\", []), 1):\n",
    "                result = qtopic.get(\"result\", {})\n",
    "                if isinstance(result, dict):\n",
    "                    if \"html_article\" in result:\n",
    "                        html += result[\"html_article\"] + \"\\n\"\n",
    "                    if \"html_question\" in result:\n",
    "                        html += '<div>\\n'\n",
    "                        # html += f'<div style=\"display: flex; align-items: center;\"><div>{idx}.  </div>{result[\"html_question\"]}</div>\\n'\n",
    "                        html += f'<p><strong>{idx}. </strong>{result[\"html_question\"]}</p>'\n",
    "                        if \"choices\" in result:\n",
    "                            correct = result.get(\"correct_answer\", -1)\n",
    "                            html += '<ul>\\n'\n",
    "                            for idx, choice in enumerate(result[\"choices\"], 1):\n",
    "                                if idx == correct:\n",
    "                                    html += f\"<li>{idx}. <b>{choice}</b> <span style='color:green;'>(correct)</span></li>\\n\"\n",
    "                                else:\n",
    "                                    html += f\"<li>{idx}. {choice}</li>\\n\"\n",
    "                            html += '</ul>\\n'\n",
    "                        html += '</div>\\n'\n",
    "                        if \"explanation\" in result:\n",
    "                            html += f'<p><em>Explanation: {result[\"explanation\"]}</em></p>\\n'\n",
    "                    if \"questions\" in result and isinstance(result[\"questions\"], list):\n",
    "                        for q in result[\"questions\"]:\n",
    "                            html += f'<p><strong>Q: {q[\"question\"]}</strong></p>\\n'\n",
    "                            if \"choices\" in q:\n",
    "                                correct = q.get(\"correct_answer\", -1)\n",
    "                                html += '<ul>\\n'\n",
    "                                for idx, choice in enumerate(q[\"choices\"], 1):\n",
    "                                    if idx == correct:\n",
    "                                        html += f\"<li><b>{choice}</b> <span style='color:green;'>(correct)</span></li>\\n\"\n",
    "                                    else:\n",
    "                                        html += f\"<li>{choice}</li>\\n\"\n",
    "                                html += '</ul>\\n'\n",
    "                            if \"explanation\" in q:\n",
    "                                html += f'<p><em>Explanation: {q[\"explanation\"]}</em></p>\\n'\n",
    "                    if \"questions\" in result and isinstance(result[\"questions\"], dict):\n",
    "                        q = result[\"questions\"]\n",
    "                        html += f'<p><strong>Q: {q[\"question\"]}</strong></p>\\n'\n",
    "                        if \"choices\" in q:\n",
    "                            correct = q.get(\"correct_answer\", -1)\n",
    "                            html += '<ul>\\n'\n",
    "                            for idx, choice in enumerate(q[\"choices\"], 1):\n",
    "                                if idx == correct:\n",
    "                                    html += f\"<li><b>{choice}</b> <span style='color:green;'>(correct)</span></li>\\n\"\n",
    "                                else:\n",
    "                                    html += f\"<li>{choice}</li>\\n\"\n",
    "                            html += '</ul>\\n'\n",
    "                        if \"explanation\" in q:\n",
    "                            html += f'<p><em>Explanation: {q[\"explanation\"]}</em></p>\\n'\n",
    "    html += '</body></html>'\n",
    "    return html"
   ]
  },
  {
   "cell_type": "code",
   "execution_count": 16,
   "id": "e7a5e4b5084d049c",
   "metadata": {
    "colab": {
     "base_uri": "https://localhost:8080/",
     "height": 1000
    },
    "id": "e7a5e4b5084d049c",
    "outputId": "31c9880e-fc8f-46f9-9a24-41d77a425304",
    "ExecuteTime": {
     "end_time": "2025-06-02T14:21:18.502513100Z",
     "start_time": "2025-06-02T14:21:18.467737400Z"
    }
   },
   "outputs": [
    {
     "data": {
      "text/plain": "<IPython.core.display.HTML object>",
      "text/html": "<html><body style=\"text-align: left;\">\n<h1>第１部　語彙・文法</h1>\n<h2>(kanji_reading)</h2>\n<p>問題1：語彙の読み方を選ぶ問題。1問。</p>\n<div>\n<p><strong>1. </strong><a>彼は<u>詳細</u>に計画を説明した。</a></p><ul>\n<li>1. <b>しょうさい</b> <span style='color:green;'>(correct)</span></li>\n<li>2. せいさい</li>\n<li>3. しょうせい</li>\n<li>4. せいしょう</li>\n</ul>\n</div>\n<div>\n<p><strong>2. </strong><a>トラックに荷物を<u>載せる</u>仕事をしています。</a></p><ul>\n<li>1. つける</li>\n<li>2. おくる</li>\n<li>3. <b>のせる</b> <span style='color:green;'>(correct)</span></li>\n<li>4. はこぶ</li>\n</ul>\n</div>\n<h2>(write_kanji)</h2>\n<p>問題2：語彙を漢字で書く問題。1問。</p>\n<div>\n<p><strong>1. </strong><a>この本を読んで、知識を<u>ふかめる</u>ことができました。</a></p><ul>\n<li>1. 深進</li>\n<li>2. 深成</li>\n<li>3. <b>深める</b> <span style='color:green;'>(correct)</span></li>\n<li>4. 深まる</li>\n</ul>\n</div>\n<h2>(word_meaning)</h2>\n<p>問題3：（　）に入れる最もよい語を選ぶ問題。1問。</p>\n<div>\n<p><strong>1. </strong><a>この問題はとても（　）なので、みんなで協力して解決しましょう。</a></p><ul>\n<li>1. 明確</li>\n<li>2. <b>重要</b> <span style='color:green;'>(correct)</span></li>\n<li>3. 簡単</li>\n<li>4. 静か</li>\n</ul>\n</div>\n<h2>(synonym_substitution)</h2>\n<p>問題4：意味が最も近いものを選ぶ問題。1問。</p>\n<div>\n<p><strong>1. </strong><a>その話はとても<u>奇妙</u>だと思います。</a></p><ul>\n<li>1. <b>ふしぎ</b> <span style='color:green;'>(correct)</span></li>\n<li>2. あんぜん</li>\n<li>3. しずか</li>\n<li>4. かんたん</li>\n</ul>\n</div>\n<h2>(word_usage)</h2>\n<p>問題5：ことばの使い方として最もよいものを選ぶ問題。1問。</p>\n<div>\n<p><strong>1. </strong><a>やくわり</a></p><ul>\n<li>1. このプロジェクトでは、私は会議の時間を決める<u>やくわり</u>です。</li>\n<li>2. <b>大統領には国をまとめる<u>やくわり</u>があります。</b> <span style='color:green;'>(correct)</span></li>\n<li>3. 料理を作る時、玉ねぎを切るのは私の<u>やくわり</u>です。</li>\n<li>4. この映画で、私は主人公の友人の<u>やくわり</u>を演じます。</li>\n</ul>\n</div>\n<h2>(sentence_grammar)</h2>\n<p>問題6：文法問題。文中の（　）に入る最もよいものを選ぶ問題。3問。</p>\n<div>\n<p><strong>1. </strong><a>友達が家に来るから、ケーキを買って（　　　）つもりです。</a></p><ul>\n<li>1. いく</li>\n<li>2. みる</li>\n<li>3. <b>とく</b> <span style='color:green;'>(correct)</span></li>\n<li>4. すぎる</li>\n</ul>\n</div>\n<div>\n<p><strong>2. </strong><a>地球の（　　　）は限りがあるので、大切に使わなければなりません。</a></p><ul>\n<li>1. 資本</li>\n<li>2. <b>資源</b> <span style='color:green;'>(correct)</span></li>\n<li>3. 資金</li>\n<li>4. 資料</li>\n</ul>\n</div>\n<div>\n<p><strong>3. </strong><a>旅行に行くときは、ホテルや旅館などの（　　　）を前もって予約しておくと安心です。</a></p><ul>\n<li>1. しゅっぱつ</li>\n<li>2. <b>しゅくはく</b> <span style='color:green;'>(correct)</span></li>\n<li>3. しゅうり</li>\n<li>4. しゅうごう</li>\n</ul>\n</div>\n<h2>(sentence_sort)</h2>\n<p>問題7：文の順番を並び替える問題。3問。</p>\n<div>\n<p><strong>1. </strong><a>事故現場の<u>＿＿</u> <u>＿＿</u> <u>&nbsp; &nbsp;</u><u>★</u><u>&nbsp; &nbsp;</u> <u>＿＿</u> を警察が詳しく調べている。</a></p><ul>\n<li>1. 場所</li>\n<li>2. <b>状況</b> <span style='color:green;'>(correct)</span></li>\n<li>3. 理由</li>\n<li>4. 状態</li>\n</ul>\n</div>\n<div>\n<p><strong>2. </strong><a>プロジェクトを成功させるためには、チーム全員の<u>＿＿</u> <u>＿＿</u> <u>&nbsp; &nbsp;</u><u>★</u><u>&nbsp; &nbsp;</u> <u>＿＿</u> が必要です。</a></p><ul>\n<li>1. <b>協力</b> <span style='color:green;'>(correct)</span></li>\n<li>2. 参加</li>\n<li>3. 注意</li>\n<li>4. 意見</li>\n</ul>\n</div>\n<div>\n<p><strong>3. </strong><a>今日は天気がいいので、家族と一緒に公園まで<u>＿＿</u> <u>＿＿</u> <u>&nbsp; &nbsp;</u><u>★</u><u>&nbsp; &nbsp;</u> <u>＿＿</u> ことにしました。</a></p><ul>\n<li>1. <b>歩いて</b> <span style='color:green;'>(correct)</span></li>\n<li>2. 遊んで</li>\n<li>3. 食べて</li>\n<li>4. 見て</li>\n</ul>\n</div>\n</body></html>"
     },
     "metadata": {},
     "output_type": "display_data"
    }
   ],
   "source": [
    "html_output = render_to_html(output_data['sections'])\n",
    "display(HTML(html_output))"
   ]
  },
  {
   "cell_type": "code",
   "execution_count": 17,
   "id": "330a0817d72fe5e",
   "metadata": {
    "id": "330a0817d72fe5e",
    "ExecuteTime": {
     "end_time": "2025-06-02T14:21:18.503515400Z",
     "start_time": "2025-06-02T14:21:18.476246800Z"
    }
   },
   "outputs": [],
   "source": [
    "timestamp = datetime.datetime.now().strftime(\"%Y%m%d_%H%M%S\")\n",
    "output_folder = \"output\"\n",
    "html_filename = f\"JLPT_{timestamp}.html\"\n",
    "html_filepath = os.path.join(output_folder,html_filename)\n",
    "with open(html_filepath, \"w\", encoding=\"utf-8\") as file:\n",
    "    file.write(html_output)"
   ]
  },
  {
   "cell_type": "code",
   "execution_count": 18,
   "id": "c02c02ec6620993d",
   "metadata": {
    "id": "c02c02ec6620993d",
    "ExecuteTime": {
     "end_time": "2025-06-02T14:21:18.787801500Z",
     "start_time": "2025-06-02T14:21:18.484392300Z"
    }
   },
   "outputs": [],
   "source": [
    "# Create a Document object\n",
    "document = Document()\n",
    "# Add a section to the document\n",
    "section = document.AddSection()\n",
    "# Set the page margins to 72 points (72 points = 1 inch)\n",
    "section.PageSetup.Margins.All = 72\n",
    "\n",
    "# Add a paragraph to the section\n",
    "paragraph = section.AddParagraph()\n",
    "\n",
    "# Add the HTML string to the paragraph\n",
    "paragraph.AppendHTML(html_output)\n",
    "\n",
    "doc_filename = f\"JLPT_{timestamp}.docx\"\n",
    "doc_filepath = os.path.join(output_folder,doc_filename)\n",
    "# Save the result document to a DOCX file\n",
    "document.SaveToFile(doc_filepath, FileFormat.Docx2016)\n",
    "# Or save the result document to a DOC file\n",
    "# document.SaveToFile(\"HtmlStringToDoc.doc\", FileFormat.Doc)\n",
    "\n",
    "document.Close()"
   ]
  },
  {
   "cell_type": "code",
   "outputs": [
    {
     "name": "stderr",
     "output_type": "stream",
     "text": [
      "2025-06-02 22:21:19,687 - INFO - Connected (version 2.0, client OpenSSH_9.6p1)\n",
      "2025-06-02 22:21:21,271 - INFO - Authentication (publickey) successful!\n",
      "2025-06-02 22:21:22,636 - INFO - [chan 0] Opened sftp connection (server version 3)\n"
     ]
    },
    {
     "name": "stdout",
     "output_type": "stream",
     "text": [
      "File transferred to 58.246.203.10:/var/www/html/JLPT_20250602_222118.html\n"
     ]
    },
    {
     "name": "stderr",
     "output_type": "stream",
     "text": [
      "2025-06-02 22:21:27,130 - INFO - [chan 0] sftp session closed.\n"
     ]
    },
    {
     "name": "stdout",
     "output_type": "stream",
     "text": [
      "File transferred to 58.246.203.10:/var/www/html/JLPT_20250602_222118.docx\n"
     ]
    }
   ],
   "source": [
    "import paramiko\n",
    "\n",
    "# Load the private key from the environment variable\n",
    "# Parse the private key\n",
    "key_file_path = 'temp_id_ed25519'\n",
    "pkey = paramiko.Ed25519Key.from_private_key_file(key_file_path)\n",
    "\n",
    "# SSH and SFTP parameters\n",
    "hostname = \"58.246.203.10\"\n",
    "username = \"hwu\"\n",
    "port = 22\n",
    "\n",
    "remote_html_file_path = f\"/var/www/html/{html_filename}\"\n",
    "remote_doc_file_path = f\"/var/www/html/{doc_filename}\"\n",
    "\n",
    "# Establish SSH connection\n",
    "ssh = paramiko.SSHClient()\n",
    "ssh.set_missing_host_key_policy(paramiko.AutoAddPolicy())\n",
    "ssh.connect(hostname=hostname, port=port, username=username, pkey=pkey)\n",
    "\n",
    "# Transfer the file\n",
    "sftp = ssh.open_sftp()\n",
    "sftp.put(html_filepath, remote_html_file_path)\n",
    "print(f\"File transferred to {hostname}:{remote_html_file_path}\")\n",
    "sftp.put(doc_filepath, remote_doc_file_path)\n",
    "print(f\"File transferred to {hostname}:{remote_doc_file_path}\")\n",
    "\n",
    "# Clean up\n",
    "sftp.close()\n",
    "ssh.close()"
   ],
   "metadata": {
    "collapsed": false,
    "ExecuteTime": {
     "end_time": "2025-06-02T14:21:27.133409900Z",
     "start_time": "2025-06-02T14:21:18.787801500Z"
    }
   },
   "id": "76d7f92a309995e1",
   "execution_count": 19
  },
  {
   "cell_type": "code",
   "execution_count": 19,
   "outputs": [],
   "source": [],
   "metadata": {
    "collapsed": false,
    "ExecuteTime": {
     "end_time": "2025-06-02T14:21:27.139759500Z",
     "start_time": "2025-06-02T14:21:27.134552300Z"
    }
   },
   "id": "32ac40aec57a40a4"
  }
 ],
 "metadata": {
  "colab": {
   "include_colab_link": true,
   "provenance": []
  },
  "kernelspec": {
   "display_name": ".venv",
   "language": "python",
   "name": "python3"
  },
  "language_info": {
   "codemirror_mode": {
    "name": "ipython",
    "version": 3
   },
   "file_extension": ".py",
   "mimetype": "text/x-python",
   "name": "python",
   "nbconvert_exporter": "python",
   "pygments_lexer": "ipython3",
   "version": "3.13.2"
  }
 },
 "nbformat": 4,
 "nbformat_minor": 5
}
