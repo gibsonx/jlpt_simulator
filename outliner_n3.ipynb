{
 "cells": [
  {
   "cell_type": "markdown",
   "id": "f94c1f8ee4d0b085",
   "metadata": {
    "colab_type": "text",
    "id": "view-in-github"
   },
   "source": [
    "<a href=\"https://colab.research.google.com/github/gibsonx/jlpt_simulator/blob/dev/graphs/n3/outliner.ipynb\" target=\"_parent\"><img src=\"https://colab.research.google.com/assets/colab-badge.svg\" alt=\"Open In Colab\"/></a>"
   ]
  },
  {
   "cell_type": "code",
   "execution_count": 1,
   "id": "712d86d2ae0847a0",
   "metadata": {
    "colab": {
     "base_uri": "https://localhost:8080/"
    },
    "id": "712d86d2ae0847a0",
    "outputId": "0b69e343-ba35-4773-acca-92da0492bdba",
    "ExecuteTime": {
     "end_time": "2025-05-28T06:06:17.382313Z",
     "start_time": "2025-05-28T06:06:17.368690Z"
    }
   },
   "outputs": [
    {
     "name": "stdout",
     "output_type": "stream",
     "text": [
      "Not running on CoLab\n"
     ]
    }
   ],
   "source": [
    "if 'google.colab' in str(get_ipython()):\n",
    "    !git clone https://github.com/gibsonx/jlpt_simulator.git\n",
    "    %cd jlpt_simulator\n",
    "    !git checkout dev\n",
    "    \n",
    "    !apt-get install python3-dev graphviz libgraphviz-dev pkg-config\n",
    "    !pip install -r requirements.txt\n",
    "else:\n",
    "  print('Not running on CoLab')\n"
   ]
  },
  {
   "cell_type": "code",
   "execution_count": 2,
   "id": "7f526a68a7e73a65",
   "metadata": {
    "colab": {
     "base_uri": "https://localhost:8080/"
    },
    "id": "7f526a68a7e73a65",
    "outputId": "e3e7c3a2-bde6-4f65-cf4c-8ddd97998d8f",
    "ExecuteTime": {
     "end_time": "2025-05-28T06:06:23.511354Z",
     "start_time": "2025-05-28T06:06:17.385325Z"
    }
   },
   "outputs": [
    {
     "data": {
      "text/plain": "True"
     },
     "execution_count": 2,
     "metadata": {},
     "output_type": "execute_result"
    }
   ],
   "source": [
    "import json\n",
    "import logging\n",
    "import random\n",
    "import time\n",
    "from spire.doc import *\n",
    "from spire.doc.common import *\n",
    "import pandas as pd\n",
    "import yaml\n",
    "from tqdm import tqdm\n",
    "\n",
    "# from langchain_community.embeddings import XinferenceEmbeddings\n",
    "from libs.LLMs import *\n",
    "import datetime\n",
    "logging.basicConfig(level=logging.INFO, format='%(asctime)s - %(levelname)s - %(message)s')\n",
    "\n",
    "from graphs.n3.ExamTaskHandler import ExamTaskHandler\n",
    "load_dotenv()"
   ]
  },
  {
   "cell_type": "code",
   "outputs": [],
   "source": [
    "def collect_vocabulary(file_path):\n",
    "    # Read the CSV file\n",
    "    data = pd.read_csv(file_path)\n",
    "    # Shuffle the rows and reset the index\n",
    "    words = data.iloc[:, :2].sample(frac=1).reset_index(drop=True)\n",
    "    # Extract the second column (values) and convert to a single-line string\n",
    "    vocab_string = ','.join(words.iloc[:, 1].astype(str).tolist())\n",
    "    return vocab_string"
   ],
   "metadata": {
    "collapsed": false,
    "ExecuteTime": {
     "end_time": "2025-05-28T06:06:23.518931Z",
     "start_time": "2025-05-28T06:06:23.513367Z"
    }
   },
   "id": "d159b3254277b376",
   "execution_count": 3
  },
  {
   "cell_type": "code",
   "execution_count": 4,
   "id": "initial_id",
   "metadata": {
    "id": "initial_id",
    "ExecuteTime": {
     "end_time": "2025-05-28T06:06:23.576872Z",
     "start_time": "2025-05-28T06:06:23.520946Z"
    }
   },
   "outputs": [],
   "source": [
    "# Import N3 Vocabulary\n",
    "file_path = 'Vocab/n3.csv'\n",
    "# Display the content of the CSV file\n",
    "vocab_dict = collect_vocabulary(file_path)\n",
    "with open(\"Vocab/topics.txt\", \"r\", encoding=\"utf-8\") as file:\n",
    "    topics_list = [line.strip() for line in file]"
   ]
  },
  {
   "cell_type": "code",
   "outputs": [
    {
     "data": {
      "text/plain": "'せんこう,あたためる,まく,しゅよう,さつ,こくせき,めいし,しゅうい,ばくだい,もの,しめる,きょく,かえる,ものごと,あらた,ようてん,かん,けいえい,えん,やっかい,こうか,まなぶ,おろす,おそわる,おい,かんこう,おき,さす,やく,われわれ,いきもの,た,ゆうじょう,しよう,じゅよう,こと,かみ,きじ,いとこ,さんか,やくす,けいき,いち,かたな,はね,ははおや,こいびと,とく,おめにかかる,はい,おもわず,あたる,さく,ちがいない,まんいち,さいばん,きおん,ほしょう,ほね,しっけ,げきじょう,ちゅうしゃ,みやげ,ちゅうしん,しんこく,およぎ,けっこう,てつだい,いっしゅ,そろう,いんさつ,ちょうせん,のぞむ,もくてき,きのどく,うまる,とら,はば,きふ,ちゅうし,だんし,えんき,しんぽ,ぐん,あく,むす,けいたい,いぜん,どくとく,みとめる,すこしも,のぼる,ねんかん,おとなしい,ゆうしゅう,ようそ,しょう,ひろげる,ぶん,のぞむ,がいこう,よぼう,せい,みまい,ていでん,なかみ,ころぶ,いっしゅん,ただちに,むだ,あいする,りこう,しゅちょう,こうせい,おめでとう,わける,くむ,じゅうたい,だいきん,きれ,よあけ,せいしつ,こんにち,じっさい,つらい,よのなか,こじん,しゅうちゅう,たび,いちどに,おじぎ,げんば,たび,まずしい,きんし,ひょう,じょうしき,おこる,せいひん,つれ,ふく,ふくめる,おくれ,ちゅう,てつ,にっこう,しゅぎ,げんご,しげん,うむ,けいじ,かん,いどう,ひやす,しょうりゃく,まんぞく,あぶら,じしん,このみ,おさない,ぎいん,ひひょう,ぶっか,もどす,ぜんしん,しょり,せいめい,かぎる,おもいで,うる,しも,きれる,あな,さいてい,かえる,ぶんせき,す,ふたご,すいじゅん,まざる,かい,おう,なし,ちいき,しょくたく,しだい,ひん,せい,にる,しょうじる,ぶんや,ある,がくしゃ,せいしん,ほご,たま,もとめる,せっきょくてき,てつどう,はじまり,かかく,しどう,ゆき,こな,しょめい,ようき,まるで,こくご,とける,あせ,うわ,ほうそう,ぶじ,がくしゅう,ふうふ,こうせい,ぜん,じかに,ふうけい,ずつう,よなか,ふち,かてい,いき,いきおい,すむ,うったえる,かわ,ふ,けいい,とかい,とうあん,ひろまる,せいかく,つぐ,かこむ,しんり,もくひょう,けってん,たちば,しょうひ,しんけん,そんざい,さほう,せき,もと,しんこう,きまり,まざる,かげ,さそう,がっき,える,きかい,ひっし,じょうし,あきる,かわいらしい,けんとう,おいつく,りく,さめる,かく,そん,ごうかく,がい,がか,こうそく,そう,たく,こじん,ごうか,しまい,めいじん,たく,あける,ふやす,じょうだん,さいちゅう,よぶん,ならす,まつ,そう,みかた,のせる,くむ,なにか,もと,かげん,だまる,しょうねん,たま,こや,で,かかり,ぐん,えがお,ひょうか,きらう,わく,きにゅう,にち,ぎゃく,かなり,かいし,せいさん,ほか,しゅくはく,けんちく,ともに,てき,たま,ね,うしなう,おろす,かみなり,あいじょう,のき,ねんげつ,ほぼ,せいねんがっぴ,ひかく,ぎん,かさい,みやこ,みちる,ひも,あたりまえ,えいきゅう,たいする,こす,してん,しょうひん,あたたかい,ぞうか,しんよう,かし,ことなる,おんだん,しゅうきょう,よす,そうさ,がくれき,たかめる,なまける,たいはん,けんかい,じょしゅ,のべる,なかま,なみだ,きょうふ,すいみん,め,いし,かんしゃ,こきゅう,はい,ご,ぼう,ぜんしん,しょくりょう,なる,おか,ぎろん,おん,おまえ,おおう,ゆうびん,おしえ,きり,うお,えいせい,さける,こうか,たば,ぜい,べつに,せいこう,ぶき,かえる,ほとけ,ゆか,かんせい,すくう,つうがく,じゅうみん,りょうがえ,ぶっしつ,めったに,きずく,ためる,おうじる,うんてん,しな,よみ,じょうたい,びん,くりかえす,こうへい,うっかり,きかん,かげ,やとう,じつげん,きおく,ざせき,わらい,たがい,ここ,はつめい,うまれ,ふり,さす,じどう,そんちょう,ほり,かんしん,しつ,しり,たっする,ただ,なっとく,はなす,おたがい,かず,はく,デモ,こうこく,かぐ,はん,ぜんたい,かてい,あらわれる,としょ,けつえき,せいき,しょるい,いま,つとめ,じゅうたい,じみ,きゅうりょう,しゅっぱん,うなる,いいん,えんじょ,しょうたい,すみ,きづく,いわい,かんどう,こんやく,しげき,はだ,うつる,しかく,かんきゃく,ちょうし,じけん,おぼれる,きほん,いじ,きんちょう,かんそう,せいちょう,かぶ,たった,ほぞん,いいん,こううん,こうかい,もちいる,まっか,ちょうき,さばく,ばくはつ,ふそく,さいわい,せいげん,ほんもの,しゅうにゅう,じんるい,いっそう,ろうじん,おに,きぼう,かわく,すすめる,かいふく,しんじる,はんにん,こうくう,れいせい,せけん,まく,きょうどう,ざいりょう,ふで,つゆ,かいてき,つち,かぐ,わかれる,いき,いじょう,まく,せいきゅう,さぎょう,ちょくせつ,しつど,ちえ,のうぎょう,ささる,ふかめる,ひはん,もっとも,あげる,また,しょくりょう,うず,そうぞく,はってん,きじ,いりょう,たく,のうか,めし,くみ,こうかい,つかれ,きんぞく,めいし,こうか,しょくぎょう,めいかく,はん,りつ,ちらす,むりょう,じっこう,く,きゅうそく,うつる,ぶぶん,はんざい,はら,へいきん,そなえる,へい,じじょう,かた,きゅうじょ,ほしょう,しゅうしょく,いしき,きょか,けい,ひよう,あらわれ,うたがう,ちゅうこ,のうみん,かんこう,かがやく,はんこう,とどく,にえる,きかい,たんい,み,しゅつじょう,いぜん,たいざい,さる,じょうほう,しゅう,すうじ,おう,お,あと,けいじ,かなしむ,れいぎ,しゅるい,たね,ついに,つばさ,たいど,もえる,かくじつ,ねんじゅう,みょう,とうよう,ね,きゅうに,どうじ,かんそう,ほんと,れいがい,さくひん,こぜに,のびる,なま,はっこう,ぶ,た,とうぜん,けいやく,ほうもん,いじわる,けいき,きげん,つもる,よせる,ちゃ,しぼう,えいえん,とめる,つける,なみ,はか,きょうぎ,ちい,しんさつ,しんぞう,たんじゅん,はし,こっせつ,りゅうこう,まちがい,しょうひん,くんれん,きしゃ,はんだん,なんとか,あぶら,かんりょう,じっし,ごみ,から,たいき,したがう,てきよう,ひょうめん,そで,じこ,じょじょに,かしゅ,しんこく,きょうりょく,ていこう,かかる,はなれる,たとえ,だん,たから,いったい,さっか,しき,ちこく,みらい,なやむ,わた,せいめい,ある,ひ,しぼう,ぼうけん,わき,わ,ふんいき,わん,ちゅうおう,かんり,べんとう,おうじ,つうきん,たいしょう,じまん,あたり,おもに,とち,あい,ごかい,すれちがう,しょうじき,きんせん,きゅう,こうはい,いっぽう,とう,せいり,しゅふ,きにいる,きたい,ていりゅうじょ,けいたい,はかる,かんじょう,しはらい,つく,しぜん,けっきょく,しょうとつ,おる,いんたい,きかん,くらし,く,くわえる,そうおん,しかく,のばす,だいとうりょう,いたる,かたい,ひみつ,たに,こうほ,もんじ,かさねる,おうえん,ゆうしょう,まぜる,し,みごと,じんぶつ,かんれん,さらに,くさり,かんとく,ちへいせん,めんきょ,せんしゅ,けいき,つく,するどい,かんがえ,りえき,まめ,にあう,こんざつ,まえもって,まじる,たかまる,はかる,ぎむ,げんじょう,やめる,ほこり,あたたまる,そうぞう,きゅうけい,そば,うつ,さからう,なか,かみのけ,ふくろ,たいくつ,じゅんちょう,くべつ,おしゃべり,ふく,きょうりょく,けんこう,うれる,どく,しょもつ,かたづく,ねがう,けしょう,よ,もと,たすかる,れい,たたく,せいど,こんかい,よごす,よそく,あん,ゆうのう,のこり,しらせ,はで,とびだす,ようす,くせ,せい,かわる,くるしむ,しょうじょ,しょうがい,かおり,とい,ゆずる,せっけい,うさぎ,ほんにん,ぶ,さいこう,ろんそう,どうし,さく,かける,けってい,ちゅうもく,どうよう,おろす,げんかい,かんせい,かさなる,ひろがる,すみ,とれる,めうえ,さます,きゅうそく,ゆうこう,ほお,れんそう,つきあい,ゆかい,おそろしい,かご,つゆ,きろく,い,いがい,きかん,つく,けんとう,のんびり,おうだん,たたむ,まる,せい,あちこち,まく,きかん,さまざま,かしこい,やとう,ひょう,きげん,けん,こうふん,きん,としつき,はかる,こうふく,げんしょう,だいり,こうしゃ,いや,みょうごにち,きょうちょう,げき,けいこく,センター,はやす,たまる,けいい,てじな,つつみ,こくみん,てきど,じき,すすめる,ただ,どくしん,いんよう,おん,まく,てってい,のこす,こうえん,さけ,まったく,つり,じつに,くみあい,かこ,のる,かり,むしば,きく,いまにも,あわ,だいぶぶん,おうさま,かたづけ,でんとう,ゆるす,えんぎ,かんこう,きたい,じょうきょう,す,あき,ひとこと,だんたい,えいぎょう,ぬける,かる,にがて,がいしゅつ,じゅうたく,ようするに,いた,かいけつ,らい～,じんしゅ,じゅうよう,あたり,しんけい,じょし,あらわす,はく,いし,めくる,ぜん,むしろ,しそう,こづつみ,めいわく,せいめい,たま,ぶたい,じゅん,まつり,くやしい,たより,きょうじゅ,たいりく,しゅっしん,しきりに,よる,うらやましい,じょおう,えがく,あいず,はったつ,いたみ,こうそく,しょうがい,つきあう,きゅう,きゅうげき,わる,せんこう,りょう,たいほ,たいしょう,どうよう,ふつう,つぐ,ぞう,さく,だく,ぜったい,ことわる,ば,げんきん,びじん,かかえる,うらぎる,かんじゃ,すませる,くわしい,ばめん,ジェットき,かみ,たいした,まけ,こんなん,そうじゅう,こうさい,はっぴょう,つうか,かいいん,ねんかん,はさん,わん,しゃっきん,こうりょ,どうよう,こむぎ,あげる,つとめ,なかば,ひがい,ほうほう,ちしき,むく,したしい,つながる,ふえ,てつや,だいめい,あかり,いだい,さばく,かえる,よろこび,やぶれる,はり,かち,する,やくわり,へんこう,いっち,ばっする,しじん,とくちょう,どうろ,かく,くろう,ものがたり,しりあい,こうば,だい,しきゅう,じょうきょう,ぐん,ふくそう,いわば,こうどう,ひろめる,ちく,ちゅうしょく,ぎかい,む,どうとく,とし,むける,わかれ,ゆたか,だい,かいけい,つよめる,めん,きょうかしょ,たい,ふせい,うごかす,しょくひん,さいしゅう,きず,あやまり,ほうぼう,うん,じゅう,しんちょう,むすぶ,ひこう,へる,こす,さける,しばふ,れんぞく,さく,そんがい,いどう,ちか,うわさ,たいよう,ちのう,でんごん,ゆうこう,りょう,しつぼう,そまつ,きし,ほう,ばったり,みつ,かんさつ,ていど,ぜん,げんじつ,ほうこく,しつぎょう,せいぜい,おだやか,ねんれい,ふじん,かんかく,じこく,こきょう,よゆう,つむ,てま,えさ,そしき,おさめる,こっか,しゅうしょく,ひげき,はかる,かいが,かける,こうけい,あらゆる,ちる,あいて,しんぱん,か,ぎちょう,なんで,あらわす,よほう,げんしょう,さす,かんする,むちゅう,むし,なん,ぎし,いき,くらい,へんか,まつ,あずける,しんこう,ぶつり,かう,はっしゃ,じんこう,こくもつ,こい,ありがとう,なみ,たいかい,ごがく,あたえる,ちょうじょう,かよう,かん,まねく,あらそう,きちょう,はっしゃ,さゆう,おそらく,しかく,ず,よわめる,あつまり,ひとり,けっしん,かみ,れい,いちば,どうし,かえす,ぐうぜん,はだか,した,きゅうりょう,いふく,いまに,しめる,じじつ,つむ,よわまる,こえる,よう,ごく,きょうちょう,なべ,はん,きんだい,ふる,あわせる,しゅう,いねむり,かだい,ひじょう,くむ,のばす,おおや,あら,かぶる,しょう,すいせん,しょうがくきん,うけとる,たいおん,ゆいいつ,のう,わるくち,たいせん,とざん,えんそう,うま,ていしゅつ,やちん,ようき,せきたん,あくしゅ,きんがく,しょうめい,ねんだい,けん,ゆうき,さめる,とう,ほえる,かたがた,しょうばい,うつ,じょうきゃく,わん,する,しはい,いっか,いだく,しょう,せきゆ,たすける,はなれる,かいごう,ね,たまらない,へる,ちほう,とく,がく,かん,のぼる,どく,かし,のうりょく,げ,かくご,たて,よき,くわえる,かたる,かく,ひづけ,しずむ,か,じょうたつ,あたためる,しゅうかく,さけぶ,きり,くさい,のせる,のぞく,たいがく,ふし,ちきゅう,しろ,ふじん,すぐれる,ながれる,ならす,もうしこむ,どりょく,なる,はくぶつかん,ものおと,さいしゅう,けむり,な,のびる,じつりょく,さんそ,きゅうしゅう,まご,つい,らく,きこう,ふあん,ぬの,つなげる,ねずみ,ひたい,つける,かぞえる,ふくむ,たつ,うめる,ていき,しぼう,しんちょう,あつかう,ひてい,くだ,ほほ,よこぎる,さる,えん,きんこ,えんぜつ,さかい,けっせき,はあ (かん),ころす,ます,とめる,めんどう,はんばい,じゅうだい,いのち,そこ,じたい,てつがく,ふじゆう,たたかう,せつ,しるし,さい,つうか,そなえる,じっけん,とおす,しよう,ちかごろ,であう,にんき,まぜる,けっかん,かのう,きみょう,ひ,くん,よん,あらわす,そうち,かつやく,くらす,かならずしも,ちがい,さら,しほん,はんせい,じどう,ゆうじん,かわ,けんせつ,てんけい,せいり,そう,かんじょう,どういつ,とたん,こうけん,ようきゅう,ねっちゅう,ながめ,けい,こんご,こおる,ちゅう,はかる,の,くるう,けつろん,せつび,やく,そろえる,おどろき,かり,かくだい,だいじん,いとこ,まね,おそれる,さす,ひとしい,わく,つうじる,じょゆう,のぞく,くさる,すごす,ぜんこく,せきにん,しんがく,きげん,ひっこし,あいかわらず,いためる,しよう,せんきょ,ご,わだい,おび,たんに,あるいは,ねがい,しんり,むかい,じゅうし,つよまる,しょくよく,きょうぎ,おえる,なれる,ほほえむ,がまん,はやる,じんせい,まち,のち,れっしゃ,たしょう,まる,なくす,きぎょう,きたく,かんげい,かがく,せんざい,まかせる,かいがい,じょう,こうしゃ,ばいう,しょうじょう,いずみ,きん,ほのお,いらい,こい,から,せんこう,にぎる,ぜつめつ,しんせん,ぜいきん,い,ひざ,せいじん,きんし,こっかい,ふまん,びょう,つうしん,どろ,じょう,し,しゅんかん,てきせつ,ちょきん,こうげき,わずか,ぜんいん,せいけつ,やぶる,しょうご,こおり,あきらか,のう,うつす,しょうしょう,さくもつ,しはらう,けっか,とおりすぎる,かもく,さ,たまたま,とうちゃく,せいき,みおくり,かわいそう,とける,きよう,ふこう,ごうとう,さく,かち,かく,くだり,ないよう,こんらん,とじる,ていあん,おしゃれ,きんにく,でんし,きねん,せんたく,みりょく,もじ,はいたつ,じき,きょうじゅ,ひこう,りそう,せつやく,たつ,ふり,ねったい,すがた,くれ,たしかめる,さす,かね,ばか,こっきょう,たいいく,じゅう,あんてい,かく,こうはい,いわう,ほうせき,けんさ,せいしき,さいのう,もんく,み,しゅだん,ようび,こし,しんこう,しきゅう,てんこう,かいぜん,かいしゃく,はかせ,おう,ながめる,いっしょう,つうやく,すむ,せつ,ふたたび,ほう,おくる,げいじゅつ,ひょうばん,いわ,えいよう,せいねん,あてる,やね,うちゅう,しんゆう,しょさい,じょし,ぶんめい,ごうけい,つねに,しゅと,そくど,ふだん,とも,けっかん,えいきょう,ひとごみ,いはん,いね,すでに,かた,かんりょう,ほどう,よ,ことわざ,はぶく,ひっぱる,すべて,いったい,とじる,あきらめる,おさめる,まさに,れつ,いち,しんこう,たい,とうさん,ゆう,とうひょう,ち,なぞ,たおす,てきする,たいし,おく,はっけん,ちゅうがく,よめ,おひる,せいふ,きんえん,あわてる,かてい,ぜいたく,しょうにん,ししゅつ,ようい,できごと,つみ,じき,しょくぶつ,むく,ふか,はね,すいせん,まじる,つぐ,とばす,どくりつ,しょくもつ,およぼす,そうとう,とう,いっぱん,ながれ,いかり,ようじん,ろうどう,とも,むしあつい,くだる,しばい,ざいさん,おとる,かんしん,ぎもん,がん,だます,かつどう,せんじつ,そうぞう,ほしょう,し,さくら,オフィス,まよう,とく,かたい,きこう,せいぶつ,つかむ,はたらき,ひとりひとり,おさえる,してん,がら,ためす,むね,たちあがる,けいゆ,しき,しゅうだん,いらい,であい,ぶつ,かわ,にちじょう,いちじ,こうかん,さべつ,めいれい,よさん,おおいに,としより,たいじゅう,しゅうせい,すえ,けん,もうしわけ,もとづく,あんがい,かね,はげしい,はなす,ゆうり,つなぐ,しんたい,うし,ながす,あらし,じゅんばん,とくい,へいわ,しんせき,ぐたい,ぬく,せいこう,かける,つぐ,けんぽう,ろんぶん,ゆでる,つかまる,そうさ,あたたまる,せめる,きせい,おもいつく,あてる,ほうふ,びみょう,いりょう,せいちょう,かんじる,とくちょう,よそう,おさめる,せめる,かく,みかける,ささえる,じょし,たつ,はたけ,せいねん,よい,じょうけん,つめる,まもる,やく,せい,ちょしゃ,がく,はなしあう,はい,ぐんたい,けいこう,どくしょ,こしょう,まさか,ぞう,こくばん,ほうこう,むかえ,かくす,とう,がっき,うむ,じたい,ふやす,いじ,い,ちちおや,すじ,きんゆう,じょうとう,せいかく,せんでん,りょうきん,かじ,びょうどう,ぎょうぎ,めん,しあわせ,そそぐ,そんけい,かくれる,さんこう,ふれる,やど,きょだい,めいじる,おせん,ちょうさ,なわ,ふへい,する,あずかる,どうし,けいさん,はくしゅ,てんこう,ちゅうもん,しも,うめ,きょうつう,だいひょう,りかい,きのう,ふかまる,くつう,もうふ,こえる,げんだい,ふせぐ,くわわる,ならす,びん,さんか,かくにん,ひょうげん,しゅしょう,たよる,しんらい,にっちゅう,あくま,せいぞう,しゅじゅつ,くるしい,さんせい,みる,ける,しょく,はら,さます,ちりょう,はいゆう,たんじょう,てんねん,さっきょく,しょうにん,しゅう,つたわる,おとこのひと,もよう,かわかす,こうふく,か,つづき,このむ,しょうぼう,きょうきゅう,にんげん,しめす,きゅう,そう,しょうめい,にゅうじょう,かつよう,かざり,げんざい,こうえん,かんかく,じさつ,こくふく,どうりょう,ちじ,じき,けんり,え,いし,のぞみ,さかり,とつぜん,たんとう,ふるえる,ぜん,たび,つぎつぎ,なかみ,はた,とりあげる,たいら,ゆうき,あんき,ごく,かっき,もちあげる,ぜんしゃ,はえる,たんご,そだつ,せいせき,ふしぎ,すう,であい,たんなる,なぐる,おんど,くう,さんせい,いためる,つうこう,たにん,もやす,なんでも,とうじ,ほこり,ぶん,めんせつ,しゅうり,じつは,あう,あわれ,ほり,はんい,きみ,ひょうじょう,しんごう,かせぐ,うばう,ぶ,たたかい,がくもん,かんじ,ためし,かんきょう,ろんじる,へらす,ぬらす,きゅうか,りゅうがく,かんぜん,りこん,いんしょう,どうか'"
     },
     "execution_count": 5,
     "metadata": {},
     "output_type": "execute_result"
    }
   ],
   "source": [
    "vocab_dict"
   ],
   "metadata": {
    "collapsed": false,
    "ExecuteTime": {
     "end_time": "2025-05-28T06:06:23.588336Z",
     "start_time": "2025-05-28T06:06:23.579884Z"
    }
   },
   "id": "b8190757154161de",
   "execution_count": 5
  },
  {
   "cell_type": "markdown",
   "id": "4c1cdce8b1f57ef3",
   "metadata": {
    "collapsed": false,
    "id": "4c1cdce8b1f57ef3"
   },
   "source": [
    "#### load Models"
   ]
  },
  {
   "cell_type": "code",
   "outputs": [],
   "source": [
    "from typing import List, Optional\n",
    "\n",
    "from langchain_core.prompts import ChatPromptTemplate\n",
    "\n",
    "from pydantic import BaseModel, Field\n",
    "\n",
    "# instruction = \"\"\"\n",
    "# Section 1: Vocabulary and Grammar\n",
    "# - Kanji reading (kanji_reading): 8 questions\n",
    "# - Write Chinese characters (write_chinese): 6 questions\n",
    "# - Word Meaning Selection (word_meaning): 11 questions\n",
    "# - Synonyms substitution (synonym_substitution): 5 questions\n",
    "# - word usage (word_usage): 5 questions\n",
    "# - Grammar fill in the blank (sentence_grammar): 13 questions\n",
    "# - Sentence sorting (sentence_sort): 5 questions\n",
    "# - Grammar structure selection (sentence_structure): 4-5 questions\n",
    "#\n",
    "# Section 2: Reading Comprehension\n",
    "# - Short passages (short_passage_read): 4 articles\n",
    "# - Mid-size passages (midsize_passage_read): 2 articles\n",
    "# - Long passages (long_passage_read): 1 articles\n",
    "# - Information retrieval (info_retrieval): 1 articles\n",
    "#\n",
    "# Section 3: Listening Comprehension\n",
    "# - Topic understanding (topic_understanding): 6 questions\n",
    "# - Key understanding (keypoint_understanding): 6 questions\n",
    "# - Summary understanding (summary_understanding): 3 questions\n",
    "# - Active expression (active_expression): 4 questions\n",
    "# - Immediate acknowledgment (immediate_ack): 9 questions\n",
    "# \"\"\"\n",
    "\n",
    "instruction = \"\"\"\n",
    "Section 1: Vocabulary and Grammar\n",
    "- のことばの読み方として最もよいものを、1・2・3・4から一つえらびなさい (kanji_reading): 8 questions\n",
    "- このことばを漢字で書くとき、最もよいものを、１・２・３・４から一つえらびなさい (write_chinese): 6 questions\n",
    "\n",
    "Section 2: Reading Comprehension\n",
    "- Information retrieval (info_retrieval): 0 articles\n",
    "\n",
    "Section 3: Listening Comprehension\n",
    "- Topic understanding (topic_understanding): 0 questions\n",
    "\n",
    "\"\"\"\n",
    "\n",
    "\n",
    "direct_gen_outline_prompt = ChatPromptTemplate.from_messages(\n",
    "    [\n",
    "        (\n",
    "            \"system\",\n",
    "            f\"You are a japanese teacher. Your job is to write an outline for a JLPT Japanese-Language Proficiency Test N3 level exam paper. The words in outline must be presented in Japanese only. The complexity should be restricted to N3 level and respect japanese culture. The JLPT Japanese-Language Proficiency Test exam paper includes a mix of moderate and very difficult questions to accurately assess the test-taker's proficiency across different aspects of the language.\"\n",
    "            f\"First, evenly pick Japanese words used in different part of sentence from 'Vocabulary' for questions in Vocabulary and Grammar, ensuring 40 percent of very difficult words. At Section 2 and 3, randomly choose topics in 'TopicList' for Reading Comprehension and Listening Comprehension Sections, don't repeat to choose a same word or topic\"\n",
    "            f\"Second, you should abide by the provided exam instruction and decide the number of questions and content in the each Section.\"\n",
    "            f\"Finally, write the outline of the examination paper in japanese and provide question topics according to the instructions.\"\n",
    "            f\"Instruction: {instruction}\",\n",
    "        ),\n",
    "        (\"user\", \"TopicList: {topic_list}, Vocabulary: {vocab_dict}\"),\n",
    "    ]\n",
    ")\n"
   ],
   "metadata": {
    "collapsed": false,
    "ExecuteTime": {
     "end_time": "2025-05-28T06:06:23.597947Z",
     "start_time": "2025-05-28T06:06:23.591345Z"
    }
   },
   "id": "e339295a858fb5f8",
   "execution_count": 6
  },
  {
   "cell_type": "markdown",
   "id": "fed5f032dadafac1",
   "metadata": {
    "collapsed": false,
    "id": "fed5f032dadafac1"
   },
   "source": [
    "## Data Strcuture"
   ]
  },
  {
   "cell_type": "code",
   "execution_count": 7,
   "id": "39329a71b16d2400",
   "metadata": {
    "id": "39329a71b16d2400",
    "ExecuteTime": {
     "end_time": "2025-05-28T06:06:23.615995Z",
     "start_time": "2025-05-28T06:06:23.599960Z"
    }
   },
   "outputs": [],
   "source": [
    "class QuestionTopic(BaseModel):\n",
    "    topic: str = Field(..., title=\"a vocabulary or topic hint for a question\")\n",
    "\n",
    "\n",
    "class Subsection(BaseModel):\n",
    "    subsection_title: str = Field(..., title=\"subsection English word in () only from the instruction\")\n",
    "    description: str = Field(..., title=\"giving the number of questions and requirements\")\n",
    "    question_topics: Optional[List[QuestionTopic]] = Field(\n",
    "        default_factory=list\n",
    "    )\n",
    "\n",
    "    @property\n",
    "    def as_str(self) -> str:\n",
    "        question_topics_str = \"\\n\".join(\n",
    "            f\"- **{qt.topic}**\" for qt in self.question_topics\n",
    "        )\n",
    "        return f\"### {self.subsection_title}\\n\\n{self.description}\\n\\n{question_topics_str}\".strip()\n",
    "\n",
    "class Section(BaseModel):\n",
    "    section_title: str = Field(..., title=\"Title of the section\")\n",
    "    subsections: Optional[List[Subsection]] = Field(\n",
    "        default_factory=list,\n",
    "        title=\"Titles and reason for each subsection of the JLPT exam page.\",\n",
    "    )\n",
    "\n",
    "    @property\n",
    "    def as_str(self) -> str:\n",
    "        subsections = \"\\n\\n\".join(\n",
    "            subsection.as_str for subsection in self.subsections or []\n",
    "        )\n",
    "        return f\"## {self.section_title}\\n\\n{subsections}\".strip()\n",
    "\n",
    "\n",
    "class Outline(BaseModel):\n",
    "    page_title: str = Field(..., title=\"Title of the JLPT exam page\")\n",
    "    sections: List[Section] = Field(\n",
    "        default_factory=list,\n",
    "        title=\"Titles and descriptions for each section of the JLPT exam paper.\",\n",
    "    )\n",
    "\n",
    "    @property\n",
    "    def as_str(self) -> str:\n",
    "        sections = \"\\n\\n\".join(section.as_str for section in self.sections)\n",
    "        return f\"# {self.page_title}\\n\\n{sections}\".strip()\n"
   ]
  },
  {
   "cell_type": "code",
   "execution_count": 8,
   "id": "d0730de416980c6",
   "metadata": {
    "id": "d0730de416980c6",
    "ExecuteTime": {
     "end_time": "2025-05-28T06:06:23.625382Z",
     "start_time": "2025-05-28T06:06:23.618006Z"
    }
   },
   "outputs": [],
   "source": [
    "# Read the topics from a file, sort them, and print the sorted list\n",
    "def process_topics(file_path):\n",
    "    try:\n",
    "        # Read the file\n",
    "        with open(file_path, 'r', encoding='utf-8') as file:\n",
    "            topics = file.readlines()\n",
    "\n",
    "        # Remove any extra whitespace or newline characters\n",
    "        topics = [topic.strip() for topic in topics if topic.strip()]\n",
    "\n",
    "        # Shuffle the topics randomly\n",
    "        random.shuffle(topics)\n",
    "\n",
    "    except FileNotFoundError:\n",
    "        print(\"The file was not found. Please check the file path.\")\n",
    "    except Exception as e:\n",
    "        print(\"An error occurred:\", str(e))\n",
    "\n",
    "    except FileNotFoundError:\n",
    "        print(\"The file was not found. Please check the file path.\")\n",
    "    except Exception as e:\n",
    "        print(\"An error occurred:\", str(e))"
   ]
  },
  {
   "cell_type": "code",
   "execution_count": 9,
   "id": "8fc17fee14c40716",
   "metadata": {
    "id": "8fc17fee14c40716",
    "ExecuteTime": {
     "end_time": "2025-05-28T06:06:27.957248Z",
     "start_time": "2025-05-28T06:06:23.628394Z"
    }
   },
   "outputs": [
    {
     "name": "stderr",
     "output_type": "stream",
     "text": [
      "2025-05-28 14:06:27,941 - INFO - HTTP Request: POST https://ai-rolandaws880125ai409947751408.openai.azure.com/openai/deployments/gpt-4.1/chat/completions?api-version=2025-01-01-preview \"HTTP/1.1 200 OK\"\n"
     ]
    }
   ],
   "source": [
    "# Preload all topics from the file\n",
    "with open(\"Vocab/topics.txt\", \"r\", encoding=\"utf-8\") as file:\n",
    "    topics_list = [line.strip() for line in file]\n",
    "\n",
    "generate_outline_direct = direct_gen_outline_prompt | azure_llm.with_structured_output(Outline)\n",
    "initial_outline = generate_outline_direct.invoke({\"topic_list\": topics_list, \"vocab_dict\": vocab_dict})"
   ]
  },
  {
   "cell_type": "code",
   "execution_count": 10,
   "id": "d53b7d9ff86a5377",
   "metadata": {
    "colab": {
     "base_uri": "https://localhost:8080/",
     "height": 1000
    },
    "id": "d53b7d9ff86a5377",
    "outputId": "0e4ce018-377a-48d5-9b87-bed3eac897ac",
    "ExecuteTime": {
     "end_time": "2025-05-28T06:06:27.964774Z",
     "start_time": "2025-05-28T06:06:27.958256Z"
    }
   },
   "outputs": [
    {
     "data": {
      "text/plain": "<IPython.core.display.Markdown object>",
      "text/markdown": "# 日本語能力試験N3 模擬試験 問題用紙\n\n## 第1部：語彙・文法\n\n### のことばの読み方として最もよいものを、1・2・3・4から一つえらびなさい (kanji_reading)\n\n8問。語彙リストから文中で使われる語を選び、その読み方を答える問題。難易度の高い語彙を40％含む。\n\n- **しゅよう**\n- **ばくだい**\n- **じゅよう**\n- **しゅちょう**\n- **おもわず**\n- **きょうふ**\n- **ふくめる**\n- **しょうりゃく**\n\n### このことばを漢字で書くとき、最もよいものを、１・２・３・４から一つえらびなさい (write_chinese)\n\n6問。語彙リストから選ばれた語を漢字で正しく書く。難易度の高い語彙を40％含む。\n\n- **せんこう**\n- **けいえい**\n- **しゅうい**\n- **しんこく**\n- **ほしょう**\n- **じっさい**"
     },
     "metadata": {},
     "output_type": "display_data"
    }
   ],
   "source": [
    "from IPython.display import display, Markdown\n",
    "display(Markdown(initial_outline.as_str))"
   ]
  },
  {
   "cell_type": "code",
   "execution_count": 11,
   "id": "5c2b7e675e5302a8",
   "metadata": {
    "colab": {
     "base_uri": "https://localhost:8080/"
    },
    "id": "5c2b7e675e5302a8",
    "outputId": "657ff47f-94af-4bd5-8035-03239fd42380",
    "ExecuteTime": {
     "end_time": "2025-05-28T06:10:04.225995Z",
     "start_time": "2025-05-28T06:06:27.965785Z"
    }
   },
   "outputs": [
    {
     "name": "stderr",
     "output_type": "stream",
     "text": [
      "Processing 第1部：語彙・文法:   0%|          | 0/2 [00:00<?, ?it/s]\n",
      "Processing のことばの読み方として最もよいものを、1・2・3・4から一つえらびなさい (kanji_reading):   0%|          | 0/8 [00:00<?, ?it/s]\u001B[A"
     ]
    },
    {
     "name": "stdout",
     "output_type": "stream",
     "text": [
      "---WEB SEARCH---\n",
      "---Generator----\n"
     ]
    },
    {
     "name": "stderr",
     "output_type": "stream",
     "text": [
      "2025-05-28 14:06:33,502 - INFO - HTTP Request: POST https://ai-rolandaws880125ai409947751408.openai.azure.com/openai/deployments/gpt-4.1/chat/completions?api-version=2025-01-01-preview \"HTTP/1.1 200 OK\"\n",
      "2025-05-28 14:06:33,505 - INFO - Generated message: <ul>\n",
      "    <li>\n",
      "        体に<u>腫瘍</u>が見つかりました。\n",
      "        <ul>\n",
      "            <li>しゅりょう</li>\n",
      "            <li>しゅよう</li>\n",
      "            <li>しゅようう</li>\n",
      "            <li>しゅりゅう</li>\n",
      "        </ul>\n",
      "    </li>\n",
      "</ul>\n",
      "2\n"
     ]
    },
    {
     "name": "stdout",
     "output_type": "stream",
     "text": [
      "---REVISOR---\n"
     ]
    },
    {
     "name": "stderr",
     "output_type": "stream",
     "text": [
      "2025-05-28 14:06:39,632 - INFO - HTTP Request: POST https://ai-rolandaws880125ai409947751408.openai.azure.com/openai/deployments/gpt-4.1-mini/chat/completions?api-version=2025-01-01-preview \"HTTP/1.1 200 OK\"\n",
      "2025-05-28 14:06:39,635 - INFO - Refelect message: The submitted exam question focuses on the reading of the kanji word \"腫瘍,\" which is appropriate for the JLPT N3 level, as kanji readings and medical vocabulary can appear at this stage. The vocabulary \"腫瘍\" (しゅよう) is correctly chosen, and the question tests the student's ability to select the correct reading from similar-sounding options.\n",
      "\n",
      "However, there are some points to consider for improvement:\n",
      "\n",
      "1. Content Accuracy:\n",
      "- The vocabulary choice \"腫瘍\" is somewhat specialized medical terminology. While it can appear in N3, it is relatively advanced. Ensure that students at this level have been exposed to this term in class or study materials.\n",
      "- The incorrect options include plausible yet incorrect readings. This is good to test kanji reading knowledge.\n",
      "\n",
      "2. Question and Answer Quality:\n",
      "- The question is clear and straightforward: students must select the correct reading of the underlined word.\n",
      "- The distractors are reasonable and similar in phonetics, which effectively tests recognition.\n",
      "- The number \"2\" at the end is ambiguous. If it is the answer choice, it should be clarified or formatted differently. Avoid including stray numbers that might confuse students.\n",
      "\n",
      "3. Detailed Refinement:\n",
      "- The sentence \"体に腫瘍が見つかりました。\" is clear and culturally appropriate, as it reflects a realistic medical context.\n",
      "- Consider providing a slightly more contextualized sentence or a brief passage to better assess reading comprehension rather than isolated vocabulary reading.\n",
      "- To better suit the N3 level, you might include a short passage about health or hospital visits and then ask about the reading or meaning of \"腫瘍\" in context.\n",
      "\n",
      "Recommendations:\n",
      "- Remove or clarify the \"2\" at the end to avoid confusion.\n",
      "- Consider adding a short contextual passage to enhance comprehension assessment.\n",
      "- Ensure that students have been prepared for medical vocabulary like \"腫瘍\" before including it.\n",
      "- Keep the distractors as they are since they are effective.\n",
      "- If the question is solely about reading, confirm that the instruction clearly asks for the reading of the underlined word (even though you should not add instructions to the context, the exam paper should include clear instructions elsewhere).\n",
      "\n",
      "Overall, the question is suitable but could be improved with better context and clarity.\n",
      "\n",
      "Summary: The question is acceptable for JLPT N3 but requires minor clarification regarding the stray number and could benefit from more contextual material to better assess comprehension beyond vocabulary reading.\n",
      "\n",
      "Please revise accordingly.\n"
     ]
    },
    {
     "name": "stdout",
     "output_type": "stream",
     "text": [
      "---Generator----\n"
     ]
    },
    {
     "name": "stderr",
     "output_type": "stream",
     "text": [
      "2025-05-28 14:06:41,695 - INFO - HTTP Request: POST https://ai-rolandaws880125ai409947751408.openai.azure.com/openai/deployments/gpt-4.1/chat/completions?api-version=2025-01-01-preview \"HTTP/1.1 200 OK\"\n",
      "2025-05-28 14:06:41,697 - INFO - Generated message: <ul>\n",
      "    <li>\n",
      "        医者に<u>腫瘍</u>の説明を受けました。\n",
      "        <ul>\n",
      "            <li>しゅりょう</li>\n",
      "            <li>しゅよう</li>\n",
      "            <li>しゅようう</li>\n",
      "            <li>しゅりゅう</li>\n",
      "        </ul>\n",
      "    </li>\n",
      "</ul>\n"
     ]
    },
    {
     "name": "stdout",
     "output_type": "stream",
     "text": [
      "---REVISOR---\n"
     ]
    },
    {
     "name": "stderr",
     "output_type": "stream",
     "text": [
      "2025-05-28 14:06:44,885 - INFO - HTTP Request: POST https://ai-rolandaws880125ai409947751408.openai.azure.com/openai/deployments/gpt-4.1-mini/chat/completions?api-version=2025-01-01-preview \"HTTP/1.1 200 OK\"\n",
      "2025-05-28 14:06:44,887 - INFO - Refelect message: This revised question improves upon the previous submission by placing the target vocabulary \"腫瘍\" in a more natural and contextually relevant sentence: \"医者に腫瘍の説明を受けました。\" This sentence is clear, culturally appropriate, and realistic, reflecting a medical scenario that JLPT N3 learners might encounter. The context helps students understand the usage of the word, which enhances comprehension beyond simple kanji reading.\n",
      "\n",
      "Content Accuracy:\n",
      "- The vocabulary \"腫瘍\" remains somewhat specialized but is acceptable for N3, especially when presented in context.\n",
      "- The sentence is grammatically correct and suitable for the intended level.\n",
      "\n",
      "Question and Answer Quality:\n",
      "- The question effectively tests the correct reading of \"腫瘍\" with plausible distractors.\n",
      "- The distractors are phonetically similar, which is good for testing kanji reading skills.\n",
      "- The question is clear and unambiguous.\n",
      "\n",
      "Detailed Refinement:\n",
      "- The context is culturally appropriate and realistic.\n",
      "- Since the instruction is not included here (per your guidelines), ensure that the exam paper elsewhere clearly instructs students to choose the correct reading.\n",
      "- Consider removing the option \"しゅようう,\" which is an unlikely or non-existent reading and may be too obviously incorrect; however, its presence does not significantly harm the question's quality.\n",
      "\n",
      "Recommendations:\n",
      "- Keep the question as is, as it is well-constructed and suitable for JLPT N3.\n",
      "- Ensure that instructions for the question are clear in the exam paper.\n",
      "- Optionally, you could replace \"しゅようう\" with another plausible but incorrect reading to maintain challenge.\n",
      "\n",
      "Overall, this question is well-aligned with the JLPT N3 level and effectively assesses kanji reading skills within a meaningful context.\n",
      "\n",
      "Summary: GOOD ENOUGH\n"
     ]
    },
    {
     "name": "stdout",
     "output_type": "stream",
     "text": [
      "--- AI Reviser feels Good Enough ---\n",
      "--- Formatter ---\n"
     ]
    },
    {
     "name": "stderr",
     "output_type": "stream",
     "text": [
      "2025-05-28 14:06:45,674 - INFO - HTTP Request: POST https://ai-rolandaws880125ai409947751408.openai.azure.com/openai/deployments/gpt-4.1-mini/chat/completions?api-version=2025-01-01-preview \"HTTP/1.1 200 OK\"\n",
      "2025-05-28 14:06:45,684 - INFO - Formatted message: {'html_question': '医者に<u>腫瘍</u>の説明を受けました。', 'correct_answer': 0, 'choices': ['しゅりょう', 'しゅよう', 'しゅようう', 'しゅりゅう']}\n",
      "\n",
      "Processing のことばの読み方として最もよいものを、1・2・3・4から一つえらびなさい (kanji_reading):  12%|█▎        | 1/8 [00:17<02:03, 17.70s/it]\u001B[A"
     ]
    },
    {
     "name": "stdout",
     "output_type": "stream",
     "text": [
      "---WEB SEARCH---\n",
      "---Generator----\n"
     ]
    },
    {
     "name": "stderr",
     "output_type": "stream",
     "text": [
      "2025-05-28 14:06:50,452 - INFO - HTTP Request: POST https://ai-rolandaws880125ai409947751408.openai.azure.com/openai/deployments/gpt-4.1/chat/completions?api-version=2025-01-01-preview \"HTTP/1.1 200 OK\"\n",
      "2025-05-28 14:06:50,455 - INFO - Generated message: <ul>\n",
      "    <li>\n",
      "        彼は<u>莫大</u>な財産を持っている。\n",
      "        <ul>\n",
      "            <li>ぼうだい</li>\n",
      "            <li>ばくだい</li>\n",
      "            <li>まくだい</li>\n",
      "            <li>もうだい</li>\n",
      "        </ul>\n",
      "    </li>\n",
      "</ul>\n",
      "2\n"
     ]
    },
    {
     "name": "stdout",
     "output_type": "stream",
     "text": [
      "---REVISOR---\n"
     ]
    },
    {
     "name": "stderr",
     "output_type": "stream",
     "text": [
      "2025-05-28 14:06:53,317 - INFO - HTTP Request: POST https://ai-rolandaws880125ai409947751408.openai.azure.com/openai/deployments/gpt-4.1-mini/chat/completions?api-version=2025-01-01-preview \"HTTP/1.1 200 OK\"\n",
      "2025-05-28 14:06:53,318 - INFO - Refelect message: Thank you for your submission. Here is my detailed feedback regarding your JLPT N3 level question:\n",
      "\n",
      "1. Content Accuracy:\n",
      "- The vocabulary question focuses on the kanji 莫大, which is appropriate for N3 level as it is a commonly encountered word in reading passages.\n",
      "- The sentence \"彼は莫大な財産を持っている。\" is clear, natural, and contextually appropriate for testing the reading of 莫大.\n",
      "- The answer choices are relevant and plausible readings, which is good for testing recognition.\n",
      "\n",
      "2. Question and Answer Quality:\n",
      "- The question is straightforward and unambiguous, asking for the correct reading of the underlined kanji.\n",
      "- The inclusion of similar-sounding options (ぼうだい, ばくだい, まくだい, もうだい) effectively tests the student's knowledge.\n",
      "- The correct answer is ぼうだい, but the submission indicates \"2\" as the answer, which corresponds to ばくだい, which is incorrect. This needs correction.\n",
      "\n",
      "3. Cultural and Academic Relevance:\n",
      "- The sentence and vocabulary are culturally appropriate and relevant to Japanese language study.\n",
      "- The vocabulary tested is suitable for academic contexts.\n",
      "\n",
      "Recommendations:\n",
      "- Please correct the indicated correct answer to option 1 (ぼうだい), as 莫大 is read as ぼうだい.\n",
      "- Consider adding a few more questions that test grammar or reading comprehension to cover a broader range of skills at the N3 level.\n",
      "- Ensure that answer keys are double-checked for accuracy before submission.\n",
      "\n",
      "Overall, the question is well constructed but has a critical error in the answer key that must be addressed.\n",
      "\n",
      "Please revise accordingly.\n"
     ]
    },
    {
     "name": "stdout",
     "output_type": "stream",
     "text": [
      "---Generator----\n"
     ]
    },
    {
     "name": "stderr",
     "output_type": "stream",
     "text": [
      "2025-05-28 14:06:55,560 - INFO - HTTP Request: POST https://ai-rolandaws880125ai409947751408.openai.azure.com/openai/deployments/gpt-4.1/chat/completions?api-version=2025-01-01-preview \"HTTP/1.1 200 OK\"\n",
      "2025-05-28 14:06:55,562 - INFO - Generated message: <ul>\n",
      "    <li>\n",
      "        彼は<u>莫大</u>な財産を持っている。\n",
      "        <ul>\n",
      "            <li>ぼうだい</li>\n",
      "            <li>ばくだい</li>\n",
      "            <li>まくだい</li>\n",
      "            <li>もうだい</li>\n",
      "        </ul>\n",
      "    </li>\n",
      "</ul>\n",
      "1\n"
     ]
    },
    {
     "name": "stdout",
     "output_type": "stream",
     "text": [
      "---REVISOR---\n"
     ]
    },
    {
     "name": "stderr",
     "output_type": "stream",
     "text": [
      "2025-05-28 14:06:57,576 - INFO - HTTP Request: POST https://ai-rolandaws880125ai409947751408.openai.azure.com/openai/deployments/gpt-4.1-mini/chat/completions?api-version=2025-01-01-preview \"HTTP/1.1 200 OK\"\n",
      "2025-05-28 14:06:57,579 - INFO - Refelect message: Thank you for your revision. Here is my feedback:\n",
      "\n",
      "1. Content Accuracy:\n",
      "- The vocabulary item 莫大 and the sentence \"彼は莫大な財産を持っている。\" remain appropriate for JLPT N3 level.\n",
      "- The correct reading ぼうだい is now correctly indicated as answer 1, which resolves the previous key error.\n",
      "\n",
      "2. Question and Answer Quality:\n",
      "- The question remains clear, unambiguous, and effectively tests kanji reading skills.\n",
      "- The distractors are plausible, making the question a good assessment tool.\n",
      "\n",
      "3. Cultural and Academic Relevance:\n",
      "- The example sentence is natural and culturally appropriate.\n",
      "- The vocabulary tested is relevant to academic and formal contexts, fitting for N3.\n",
      "\n",
      "Recommendations:\n",
      "- This question is well constructed and suitable for the N3 exam.\n",
      "- To further enhance the exam paper, consider including a variety of question types such as grammar usage, listening comprehension, and reading comprehension passages to comprehensively assess multiple skills at the N3 level.\n",
      "\n",
      "Overall, this question is GOOD ENOUGH for inclusion in an N3 level exam.\n"
     ]
    },
    {
     "name": "stdout",
     "output_type": "stream",
     "text": [
      "--- AI Reviser feels Good Enough ---\n",
      "--- Formatter ---\n"
     ]
    },
    {
     "name": "stderr",
     "output_type": "stream",
     "text": [
      "2025-05-28 14:06:58,275 - INFO - HTTP Request: POST https://ai-rolandaws880125ai409947751408.openai.azure.com/openai/deployments/gpt-4.1-mini/chat/completions?api-version=2025-01-01-preview \"HTTP/1.1 200 OK\"\n",
      "2025-05-28 14:06:58,277 - INFO - Formatted message: {'html_question': '彼は<u>莫大</u>な財産を持っている。', 'correct_answer': 0, 'choices': ['ぼうだい', 'ばくだい', 'まくだい', 'もうだい']}\n",
      "\n",
      "Processing のことばの読み方として最もよいものを、1・2・3・4から一つえらびなさい (kanji_reading):  25%|██▌       | 2/8 [00:30<01:28, 14.70s/it]\u001B[A"
     ]
    },
    {
     "name": "stdout",
     "output_type": "stream",
     "text": [
      "---WEB SEARCH---\n",
      "---Generator----\n"
     ]
    },
    {
     "name": "stderr",
     "output_type": "stream",
     "text": [
      "2025-05-28 14:07:04,061 - INFO - HTTP Request: POST https://ai-rolandaws880125ai409947751408.openai.azure.com/openai/deployments/gpt-4.1/chat/completions?api-version=2025-01-01-preview \"HTTP/1.1 200 OK\"\n",
      "2025-05-28 14:07:04,062 - INFO - Generated message: <ul><li>この商品に<u>需要</u>があります。<ul><li>しょうよう</li><li>じゅよう</li><li>しゅうよう</li><li>じょうよう</li></ul></li></ul>\n"
     ]
    },
    {
     "name": "stdout",
     "output_type": "stream",
     "text": [
      "---REVISOR---\n"
     ]
    },
    {
     "name": "stderr",
     "output_type": "stream",
     "text": [
      "2025-05-28 14:07:08,156 - INFO - HTTP Request: POST https://ai-rolandaws880125ai409947751408.openai.azure.com/openai/deployments/gpt-4.1-mini/chat/completions?api-version=2025-01-01-preview \"HTTP/1.1 200 OK\"\n",
      "2025-05-28 14:07:08,157 - INFO - Refelect message: Thank you for your submission. Here is my detailed feedback:\n",
      "\n",
      "1. Content Accuracy:\n",
      "- The vocabulary question focuses on the word \"需要\" (じゅよう), which is appropriate for JLPT N3 level vocabulary. The kanji and reading choice matches the level.\n",
      "- The sentence \"この商品に需要があります。\" is clear, simple, and contextually relevant, making it suitable for N3 learners to understand the meaning of \"需要\" (demand).\n",
      "- The answer options include plausible readings, which tests careful recognition of kanji readings, a typical N3 skill.\n",
      "\n",
      "2. Question and Answer Quality:\n",
      "- The question is clear: the learner is asked to select the correct reading of the underlined kanji \"需要\".\n",
      "- The options are all reasonable readings of kanji compounds, which adds a level of challenge appropriate for N3.\n",
      "- There is no ambiguity in the question or the options.\n",
      "\n",
      "3. Cultural and Academic Relevance:\n",
      "- The sentence uses a business-related term \"需要\" which is relevant and appropriate for learners at this level.\n",
      "- The vocabulary is commonly used in everyday and academic contexts, which is suitable.\n",
      "\n",
      "Recommendations:\n",
      "- Consider adding a variety of question types (e.g., grammar, reading comprehension) to comprehensively assess different language skills, if this is a single question in the exam.\n",
      "- If this is part of a vocabulary reading section, this question is well-constructed.\n",
      "- Ensure that the answer key clearly marks \"じゅよう\" as the correct answer.\n",
      "\n",
      "Overall, this question is well-designed and appropriate for the JLPT N3 level.\n",
      "\n",
      "GOOD ENOUGH\n"
     ]
    },
    {
     "name": "stdout",
     "output_type": "stream",
     "text": [
      "--- AI Reviser feels Good Enough ---\n",
      "--- Formatter ---\n"
     ]
    },
    {
     "name": "stderr",
     "output_type": "stream",
     "text": [
      "2025-05-28 14:07:08,838 - INFO - HTTP Request: POST https://ai-rolandaws880125ai409947751408.openai.azure.com/openai/deployments/gpt-4.1-mini/chat/completions?api-version=2025-01-01-preview \"HTTP/1.1 200 OK\"\n",
      "2025-05-28 14:07:08,841 - INFO - Formatted message: {'html_question': 'この商品に<u>需要</u>があります。', 'correct_answer': 1, 'choices': ['しょうよう', 'じゅよう', 'しゅうよう', 'じょうよう']}\n",
      "\n",
      "Processing のことばの読み方として最もよいものを、1・2・3・4から一つえらびなさい (kanji_reading):  38%|███▊      | 3/8 [00:40<01:04, 12.81s/it]\u001B[A"
     ]
    },
    {
     "name": "stdout",
     "output_type": "stream",
     "text": [
      "---WEB SEARCH---\n",
      "---Generator----\n"
     ]
    },
    {
     "name": "stderr",
     "output_type": "stream",
     "text": [
      "2025-05-28 14:07:15,709 - INFO - HTTP Request: POST https://ai-rolandaws880125ai409947751408.openai.azure.com/openai/deployments/gpt-4.1/chat/completions?api-version=2025-01-01-preview \"HTTP/1.1 200 OK\"\n",
      "2025-05-28 14:07:15,711 - INFO - Generated message: <ul>\n",
      "    <li>\n",
      "        彼は自分の意見を<u>主張</u>し続けた。\n",
      "        <ul>\n",
      "            <li>しゅしょう</li>\n",
      "            <li>しゅちょう</li>\n",
      "            <li>しゅちゅう</li>\n",
      "            <li>しゅしょうう</li>\n",
      "        </ul>\n",
      "    </li>\n",
      "</ul>\n",
      "2\n"
     ]
    },
    {
     "name": "stdout",
     "output_type": "stream",
     "text": [
      "---REVISOR---\n"
     ]
    },
    {
     "name": "stderr",
     "output_type": "stream",
     "text": [
      "2025-05-28 14:07:19,404 - INFO - HTTP Request: POST https://ai-rolandaws880125ai409947751408.openai.azure.com/openai/deployments/gpt-4.1-mini/chat/completions?api-version=2025-01-01-preview \"HTTP/1.1 200 OK\"\n",
      "2025-05-28 14:07:19,406 - INFO - Refelect message: Thank you for your submission. Here is my detailed critique and recommendations:\n",
      "\n",
      "1. Content Accuracy:\n",
      "- The vocabulary question focuses on the word 主張, which is appropriate for JLPT N3 level learners.\n",
      "- The reading passage sentence \"彼は自分の意見を主張し続けた。\" is clear, natural, and relevant for the level.\n",
      "- The vocabulary options are all plausible readings, which is good for testing reading accuracy.\n",
      "\n",
      "2. Question and Answer Quality:\n",
      "- The question is implied rather than explicitly stated, but given the format, it seems to be a reading kanji reading question.\n",
      "- The options are clear and free of ambiguity.\n",
      "- The correct answer is しゅちょう, which is correctly indicated as option 2.\n",
      "- The difficulty level matches JLPT N3 standards.\n",
      "\n",
      "3. Cultural and Academic Relevance:\n",
      "- The sentence is culturally appropriate and reflects typical Japanese language use.\n",
      "- The vocabulary word 主張 is commonly used in academic and daily contexts.\n",
      "\n",
      "Recommendations:\n",
      "- To improve clarity, consider explicitly stating the question, for example: \"Choose the correct reading for the underlined word 主張.\"\n",
      "- Ensure consistent formatting in options (e.g., all in hiragana or kanji + hiragana) to avoid confusion.\n",
      "- Consider adding a variety of question types to assess other skills, such as grammar usage or comprehension, to provide a more comprehensive evaluation.\n",
      "\n",
      "Overall, this question is well-crafted and suitable for the JLPT N3 level.\n",
      "\n",
      "GOOD ENOUGH\n"
     ]
    },
    {
     "name": "stdout",
     "output_type": "stream",
     "text": [
      "--- AI Reviser feels Good Enough ---\n",
      "--- Formatter ---\n"
     ]
    },
    {
     "name": "stderr",
     "output_type": "stream",
     "text": [
      "2025-05-28 14:07:20,420 - INFO - HTTP Request: POST https://ai-rolandaws880125ai409947751408.openai.azure.com/openai/deployments/gpt-4.1-mini/chat/completions?api-version=2025-01-01-preview \"HTTP/1.1 200 OK\"\n",
      "2025-05-28 14:07:20,423 - INFO - Formatted message: {'html_question': '彼は自分の意見を<u>主張</u>し続けた。', 'choices': ['しゅしょう', 'しゅちょう', 'しゅちゅう', 'しゅしょうう'], 'correct_answer': 2}\n",
      "\n",
      "Processing のことばの読み方として最もよいものを、1・2・3・4から一つえらびなさい (kanji_reading):  50%|█████     | 4/8 [00:52<00:49, 12.33s/it]\u001B[A"
     ]
    },
    {
     "name": "stdout",
     "output_type": "stream",
     "text": [
      "---WEB SEARCH---\n",
      "---Generator----\n"
     ]
    },
    {
     "name": "stderr",
     "output_type": "stream",
     "text": [
      "2025-05-28 14:07:26,442 - INFO - HTTP Request: POST https://ai-rolandaws880125ai409947751408.openai.azure.com/openai/deployments/gpt-4.1/chat/completions?api-version=2025-01-01-preview \"HTTP/1.1 200 OK\"\n",
      "2025-05-28 14:07:26,445 - INFO - Generated message: <ul>\n",
      "    <li>\n",
      "        彼の話を聞いて<u>思わず</u>笑ってしまった。\n",
      "        <ul>\n",
      "            <li>おもいわず</li>\n",
      "            <li>おもわず</li>\n",
      "            <li>しわず</li>\n",
      "            <li>おもうず</li>\n",
      "        </ul>\n",
      "    </li>\n",
      "</ul>\n",
      "2\n"
     ]
    },
    {
     "name": "stdout",
     "output_type": "stream",
     "text": [
      "---REVISOR---\n"
     ]
    },
    {
     "name": "stderr",
     "output_type": "stream",
     "text": [
      "2025-05-28 14:07:30,588 - INFO - HTTP Request: POST https://ai-rolandaws880125ai409947751408.openai.azure.com/openai/deployments/gpt-4.1-mini/chat/completions?api-version=2025-01-01-preview \"HTTP/1.1 200 OK\"\n",
      "2025-05-28 14:07:30,590 - INFO - Refelect message: Thank you for your submission. Here is the detailed critique and recommendations:\n",
      "\n",
      "1. Content Accuracy:\n",
      "- The vocabulary item \"思わず\" is appropriate for the JLPT N3 level, as it is a common adverb used to express an involuntary or unintentional action.\n",
      "- The sentence \"彼の話を聞いて思わず笑ってしまった。\" is clear, natural, and contextually relevant, making it suitable for testing comprehension and vocabulary recognition at this level.\n",
      "\n",
      "2. Question and Answer Quality:\n",
      "- The question tests the reading of the kanji compound \"思わず,\" which is a good focus for N3 learners.\n",
      "- The answer choices include plausible distractors, but \"おもいわず\" and \"おもうず\" are less common reading errors, while \"しわず\" is clearly incorrect. This is acceptable, but consider including more common misreadings to better assess student knowledge.\n",
      "- The question is straightforward and unambiguous, effectively assessing the learner’s ability to read the vocabulary correctly.\n",
      "\n",
      "3. Detailed Refinement:\n",
      "- The sentence and vocabulary are culturally appropriate and reflect natural Japanese usage.\n",
      "- However, to increase challenge and better assess understanding, consider adding a follow-up question that tests the meaning or usage of \"思わず\" in context.\n",
      "- Also, ensure that the answer options are presented in a consistent format (e.g., all in hiragana or kana) to avoid confusion.\n",
      "\n",
      "Recommendations:\n",
      "- Maintain the current sentence as it is well constructed.\n",
      "- Consider adding more commonly confused readings as distractors.\n",
      "- Optionally, include a question on the meaning or usage to deepen assessment.\n",
      "- Ensure answer choices are uniformly formatted for clarity.\n",
      "\n",
      "Overall, this question is well-designed and appropriate for the JLPT N3 level.\n",
      "\n",
      "GOOD ENOUGH\n"
     ]
    },
    {
     "name": "stdout",
     "output_type": "stream",
     "text": [
      "--- AI Reviser feels Good Enough ---\n",
      "--- Formatter ---\n"
     ]
    },
    {
     "name": "stderr",
     "output_type": "stream",
     "text": [
      "2025-05-28 14:07:31,379 - INFO - HTTP Request: POST https://ai-rolandaws880125ai409947751408.openai.azure.com/openai/deployments/gpt-4.1-mini/chat/completions?api-version=2025-01-01-preview \"HTTP/1.1 200 OK\"\n",
      "2025-05-28 14:07:31,381 - INFO - Formatted message: {'html_question': '<ul><li>彼の話を聞いて<u>思わず</u>笑ってしまった。</li></ul>', 'choices': ['おもいわず', 'おもわず', 'しわず', 'おもうず'], 'correct_answer': 2}\n",
      "\n",
      "Processing のことばの読み方として最もよいものを、1・2・3・4から一つえらびなさい (kanji_reading):  62%|██████▎   | 5/8 [01:03<00:35, 11.83s/it]\u001B[A"
     ]
    },
    {
     "name": "stdout",
     "output_type": "stream",
     "text": [
      "---WEB SEARCH---\n",
      "---Generator----\n"
     ]
    },
    {
     "name": "stderr",
     "output_type": "stream",
     "text": [
      "2025-05-28 14:07:41,896 - INFO - HTTP Request: POST https://ai-rolandaws880125ai409947751408.openai.azure.com/openai/deployments/gpt-4.1/chat/completions?api-version=2025-01-01-preview \"HTTP/1.1 200 OK\"\n",
      "2025-05-28 14:07:41,898 - INFO - Generated message: <ul>\n",
      "    <li>\n",
      "        暗い場所で<u>恐怖</u>を感じた。\n",
      "        <ul>\n",
      "            <li>きょうふ</li>\n",
      "            <li>きょうほ</li>\n",
      "            <li>こうふ</li>\n",
      "            <li>こうほ</li>\n",
      "        </ul>\n",
      "    </li>\n",
      "</ul>\n",
      "正解：1\n"
     ]
    },
    {
     "name": "stdout",
     "output_type": "stream",
     "text": [
      "---REVISOR---\n"
     ]
    },
    {
     "name": "stderr",
     "output_type": "stream",
     "text": [
      "2025-05-28 14:07:45,720 - INFO - HTTP Request: POST https://ai-rolandaws880125ai409947751408.openai.azure.com/openai/deployments/gpt-4.1-mini/chat/completions?api-version=2025-01-01-preview \"HTTP/1.1 200 OK\"\n",
      "2025-05-28 14:07:45,722 - INFO - Refelect message: The submitted question focuses on the reading of the kanji 恐怖, which is appropriate for the JLPT N3 level as it tests kanji reading skills combined with vocabulary knowledge. The sentence \"暗い場所で恐怖を感じた。\" is clear, contextually relevant, and suitable for assessing comprehension at this level. The multiple-choice options include plausible distractors, which effectively gauge the learner's knowledge of correct readings.\n",
      "\n",
      "However, the question could be improved by slightly increasing complexity or variety in the vocabulary or grammar to better reflect the N3 level, which often includes more nuanced grammar points and context-based understanding. For example, incorporating a sentence that uses 恐怖 in a more complex structure or with additional grammar elements would provide a better challenge.\n",
      "\n",
      "Additionally, while the question is clear and unambiguous, it assesses only kanji reading and vocabulary recognition. To comprehensively evaluate different language skills at N3, consider including questions that test grammar usage, listening comprehension, or reading comprehension with longer passages.\n",
      "\n",
      "Culturally, the sentence is neutral and appropriate, posing no issues.\n",
      "\n",
      "Recommendations:\n",
      "1. Include a variety of question types beyond kanji reading to fully assess N3-level competencies.\n",
      "2. Consider using slightly more complex sentences that incorporate grammar points typical of N3.\n",
      "3. Maintain clear and unambiguous wording as in this example.\n",
      "4. Ensure distractors remain plausible but not misleading.\n",
      "\n",
      "Overall, this question is well-designed for its purpose but would benefit from integration into a broader set of questions covering diverse skills.\n",
      "\n",
      "GOOD ENOUGH\n"
     ]
    },
    {
     "name": "stdout",
     "output_type": "stream",
     "text": [
      "--- AI Reviser feels Good Enough ---\n",
      "--- Formatter ---\n"
     ]
    },
    {
     "name": "stderr",
     "output_type": "stream",
     "text": [
      "2025-05-28 14:07:46,350 - INFO - HTTP Request: POST https://ai-rolandaws880125ai409947751408.openai.azure.com/openai/deployments/gpt-4.1-mini/chat/completions?api-version=2025-01-01-preview \"HTTP/1.1 200 OK\"\n",
      "2025-05-28 14:07:46,353 - INFO - Formatted message: {'html_question': '暗い場所で<u>恐怖</u>を感じた。', 'correct_answer': 1, 'choices': ['きょうふ', 'きょうほ', 'こうふ', 'こうほ']}\n",
      "\n",
      "Processing のことばの読み方として最もよいものを、1・2・3・4から一つえらびなさい (kanji_reading):  75%|███████▌  | 6/8 [01:18<00:25, 12.90s/it]\u001B[A"
     ]
    },
    {
     "name": "stdout",
     "output_type": "stream",
     "text": [
      "---WEB SEARCH---\n",
      "---Generator----\n"
     ]
    },
    {
     "name": "stderr",
     "output_type": "stream",
     "text": [
      "2025-05-28 14:07:57,496 - INFO - HTTP Request: POST https://ai-rolandaws880125ai409947751408.openai.azure.com/openai/deployments/gpt-4.1/chat/completions?api-version=2025-01-01-preview \"HTTP/1.1 200 OK\"\n",
      "2025-05-28 14:07:57,498 - INFO - Generated message: <ul><li>料金にはサービス料も<u>含める</u>ことになっています。<ul><li>ふくまる</li><li>ふくめる</li><li>ふくもる</li><li>ふくまれる</li></ul></li></ul>\n",
      "2\n"
     ]
    },
    {
     "name": "stdout",
     "output_type": "stream",
     "text": [
      "---REVISOR---\n"
     ]
    },
    {
     "name": "stderr",
     "output_type": "stream",
     "text": [
      "2025-05-28 14:08:01,422 - INFO - HTTP Request: POST https://ai-rolandaws880125ai409947751408.openai.azure.com/openai/deployments/gpt-4.1-mini/chat/completions?api-version=2025-01-01-preview \"HTTP/1.1 200 OK\"\n",
      "2025-05-28 14:08:01,424 - INFO - Refelect message: Thank you for your submission. Here is a detailed critique and recommendations regarding your JLPT N3 exam content:\n",
      "\n",
      "1. Content Accuracy:\n",
      "- The vocabulary tested here, specifically the verb \"含める\" (to include), is appropriate for the JLPT N3 level.\n",
      "- The sentence \"料金にはサービス料も含めることになっています。\" is clear and contextually relevant, reflecting a typical usage scenario.\n",
      "- The answer choices include plausible distractors, but some are incorrect verb forms or non-existent forms, which is good for testing recognition.\n",
      "\n",
      "2. Question and Answer Quality:\n",
      "- The question is implied rather than explicitly stated but is understandable as a vocabulary/reading comprehension question.\n",
      "- However, the question prompt is missing from the context; it would be clearer if the question asked, for example, \"Which is the correct reading of the underlined word?\" or \"Choose the correct reading of 含める.\"\n",
      "- The options given are:\n",
      "  - ふくまる (incorrect reading, but similar to ふくめる)\n",
      "  - ふくめる (correct)\n",
      "  - ふくもる (non-existent)\n",
      "  - ふくまれる (passive form, but not the correct reading here)\n",
      "- The presence of ふくまる and ふくまれる may confuse the test-taker, but this is acceptable at N3 level to test subtle distinctions.\n",
      "- The answer \"2\" presumably indicates the correct option, which is correct.\n",
      "\n",
      "3. Detailed Refinement:\n",
      "- The question should clearly specify what the test-taker is expected to do (e.g., select the correct reading of the underlined word).\n",
      "- The distractors could be refined to better reflect common misreadings or confusions at N3 level.\n",
      "- The sentence is culturally appropriate and realistic, involving service charges, which is common in Japanese daily life.\n",
      "- Consider including a brief context or sentence before the question to enhance clarity for test-takers.\n",
      "\n",
      "Recommendations:\n",
      "- Please provide a clear question prompt to accompany the options.\n",
      "- Ensure that the distractors are plausible but not misleading beyond the intended difficulty.\n",
      "- Confirm that the answer key matches the correct option.\n",
      "\n",
      "Overall, the content is relevant and appropriate but would benefit from clearer question wording.\n",
      "\n",
      "Please revise accordingly.\n"
     ]
    },
    {
     "name": "stdout",
     "output_type": "stream",
     "text": [
      "---Generator----\n"
     ]
    },
    {
     "name": "stderr",
     "output_type": "stream",
     "text": [
      "2025-05-28 14:08:02,637 - INFO - HTTP Request: POST https://ai-rolandaws880125ai409947751408.openai.azure.com/openai/deployments/gpt-4.1/chat/completions?api-version=2025-01-01-preview \"HTTP/1.1 200 OK\"\n",
      "2025-05-28 14:08:02,638 - INFO - Generated message: <ul>\n",
      "    <li>\n",
      "        この料金には、飲み物代も<u>含める</u>必要があります。\n",
      "        <ul>\n",
      "            <li>ふくまる</li>\n",
      "            <li>ふくめる</li>\n",
      "            <li>ふくもる</li>\n",
      "            <li>ふくまれる</li>\n",
      "        </ul>\n",
      "    </li>\n",
      "</ul>\n",
      "2\n"
     ]
    },
    {
     "name": "stdout",
     "output_type": "stream",
     "text": [
      "---REVISOR---\n"
     ]
    },
    {
     "name": "stderr",
     "output_type": "stream",
     "text": [
      "2025-05-28 14:08:05,777 - INFO - HTTP Request: POST https://ai-rolandaws880125ai409947751408.openai.azure.com/openai/deployments/gpt-4.1-mini/chat/completions?api-version=2025-01-01-preview \"HTTP/1.1 200 OK\"\n",
      "2025-05-28 14:08:05,779 - INFO - Refelect message: Thank you for your revised submission. Here is my detailed feedback:\n",
      "\n",
      "1. Content Accuracy:\n",
      "- The sentence \"この料金には、飲み物代も含める必要があります。\" is clear, natural, and contextually appropriate for JLPT N3 level.\n",
      "- The vocabulary tested, \"含める,\" is suitable for N3 and the sentence usage is realistic.\n",
      "- The distractor options remain the same, which is acceptable, as they test recognition of correct reading and verb forms.\n",
      "\n",
      "2. Question and Answer Quality:\n",
      "- You still have not included an explicit question prompt, such as \"Choose the correct reading of the underlined word\" or \"Which is the correct reading of 含める?\"\n",
      "- The lack of a clear question may confuse test-takers about what is expected.\n",
      "- The answer choices are clearly listed and unambiguous.\n",
      "- The difficulty level aligns well with N3, testing vocabulary reading and recognition.\n",
      "\n",
      "3. Detailed Refinement:\n",
      "- The sentence is culturally appropriate and relevant, involving billing and charges, which is common in Japanese daily life.\n",
      "- To improve clarity and test effectiveness, please add a clear question prompt.\n",
      "- Consider refining distractors to include common misreadings or similar-sounding verbs that might realistically confuse learners at this level.\n",
      "- The current distractors include one non-existent reading (\"ふくもる\"), which is acceptable to test recognition but could be replaced with a more plausible distractor for better assessment.\n",
      "\n",
      "Recommendations:\n",
      "- Add a clear question prompt to guide test-takers.\n",
      "- Review distractors to ensure they are plausible yet clearly incorrect, enhancing the question's discriminative power.\n",
      "- Confirm that the answer key correctly identifies option 2 (ふくめる) as the correct answer.\n",
      "\n",
      "In summary, the content is appropriate and relevant for JLPT N3, but adding a clear question prompt and refining distractors will improve the quality and clarity of the question.\n",
      "\n",
      "Please revise accordingly.\n"
     ]
    },
    {
     "name": "stdout",
     "output_type": "stream",
     "text": [
      "---Generator----\n"
     ]
    },
    {
     "name": "stderr",
     "output_type": "stream",
     "text": [
      "2025-05-28 14:08:07,170 - INFO - HTTP Request: POST https://ai-rolandaws880125ai409947751408.openai.azure.com/openai/deployments/gpt-4.1/chat/completions?api-version=2025-01-01-preview \"HTTP/1.1 200 OK\"\n",
      "2025-05-28 14:08:07,172 - INFO - Generated message: <ul>\n",
      "    <li>\n",
      "        次の<u>含める</u>の読み方として正しいものを選んでください。\n",
      "        この料金には、飲み物代も<u>含める</u>必要があります。\n",
      "        <ul>\n",
      "            <li>ふくまる</li>\n",
      "            <li>ふくめる</li>\n",
      "            <li>ふくむ</li>\n",
      "            <li>ふくまれる</li>\n",
      "        </ul>\n",
      "    </li>\n",
      "</ul>\n",
      "2\n"
     ]
    },
    {
     "name": "stdout",
     "output_type": "stream",
     "text": [
      "---REVISOR---\n"
     ]
    },
    {
     "name": "stderr",
     "output_type": "stream",
     "text": [
      "2025-05-28 14:08:10,266 - INFO - HTTP Request: POST https://ai-rolandaws880125ai409947751408.openai.azure.com/openai/deployments/gpt-4.1-mini/chat/completions?api-version=2025-01-01-preview \"HTTP/1.1 200 OK\"\n",
      "2025-05-28 14:08:10,267 - INFO - Refelect message: Thank you for your latest submission. Overall, this version shows clear improvement and aligns well with JLPT N3 standards. Here is a detailed evaluation:\n",
      "\n",
      "1. Content Accuracy:\n",
      "- The sentence \"この料金には、飲み物代も含める必要があります。\" is natural, contextually appropriate, and suitable for N3 level.\n",
      "- The vocabulary item \"含める\" is a relevant and commonly tested verb at this level.\n",
      "- The answer choices now include \"ふくむ,\" which is a valid dictionary form of a related verb, providing a plausible distractor.\n",
      "\n",
      "2. Question and Answer Quality:\n",
      "- You have now included a clear question prompt: \"次の含めるの読み方として正しいものを選んでください。\" This explicitly tells the test-taker what to do, improving clarity.\n",
      "- The answer choices are well selected:\n",
      "  - ふくまる (incorrect reading, but similar sounding)\n",
      "  - ふくめる (correct reading)\n",
      "  - ふくむ (related verb but different reading and form)\n",
      "  - ふくまれる (passive form, incorrect here)\n",
      "- This set effectively tests the learner’s ability to recognize the correct reading and distinguish similar verbs.\n",
      "- The difficulty level is appropriate for JLPT N3.\n",
      "\n",
      "3. Detailed Refinement:\n",
      "- The cultural context of billing and including charges is appropriate and familiar to learners.\n",
      "- The question and options are clearly worded and free from ambiguity.\n",
      "- The formatting is clear and easy to follow.\n",
      "\n",
      "Recommendations:\n",
      "- This version meets the standards for JLPT N3 vocabulary and reading questions.\n",
      "- Ensure the answer key correctly identifies option 2 (ふくめる) as correct.\n",
      "- For future questions, continue to provide explicit prompts and plausible distractors.\n",
      "\n",
      "In conclusion, your exam question is well constructed, clear, and appropriate for the intended level.\n",
      "\n",
      "GOOD ENOUGH\n"
     ]
    },
    {
     "name": "stdout",
     "output_type": "stream",
     "text": [
      "--- AI Reviser feels Good Enough ---\n",
      "--- Formatter ---\n"
     ]
    },
    {
     "name": "stderr",
     "output_type": "stream",
     "text": [
      "2025-05-28 14:08:11,402 - INFO - HTTP Request: POST https://ai-rolandaws880125ai409947751408.openai.azure.com/openai/deployments/gpt-4.1-mini/chat/completions?api-version=2025-01-01-preview \"HTTP/1.1 200 OK\"\n",
      "2025-05-28 14:08:11,404 - INFO - Formatted message: {'html_question': '次の含めるの読み方として正しいものを選んでください。この料金には、飲み物代も含める必要があります。', 'choices': ['ふくまる', 'ふくめる', 'ふくむ', 'ふくまれる'], 'correct_answer': 2}\n",
      "\n",
      "Processing のことばの読み方として最もよいものを、1・2・3・4から一つえらびなさい (kanji_reading):  88%|████████▊ | 7/8 [01:43<00:16, 16.87s/it]\u001B[A"
     ]
    },
    {
     "name": "stdout",
     "output_type": "stream",
     "text": [
      "---WEB SEARCH---\n",
      "---Generator----\n"
     ]
    },
    {
     "name": "stderr",
     "output_type": "stream",
     "text": [
      "2025-05-28 14:08:18,310 - INFO - HTTP Request: POST https://ai-rolandaws880125ai409947751408.openai.azure.com/openai/deployments/gpt-4.1/chat/completions?api-version=2025-01-01-preview \"HTTP/1.1 200 OK\"\n",
      "2025-05-28 14:08:18,311 - INFO - Generated message: <ul>\n",
      "    <li>\n",
      "        時間がないので説明を<u>省略</u>します。\n",
      "        <ul>\n",
      "            <li>せいりゃく</li>\n",
      "            <li>しょうりゃく</li>\n",
      "            <li>しょうりゃくう</li>\n",
      "            <li>せいりゃくう</li>\n",
      "        </ul>\n",
      "    </li>\n",
      "</ul>\n",
      "正解: 2\n"
     ]
    },
    {
     "name": "stdout",
     "output_type": "stream",
     "text": [
      "---REVISOR---\n"
     ]
    },
    {
     "name": "stderr",
     "output_type": "stream",
     "text": [
      "2025-05-28 14:08:22,910 - INFO - HTTP Request: POST https://ai-rolandaws880125ai409947751408.openai.azure.com/openai/deployments/gpt-4.1-mini/chat/completions?api-version=2025-01-01-preview \"HTTP/1.1 200 OK\"\n",
      "2025-05-28 14:08:22,911 - INFO - Refelect message: Thank you for your submission. Here is the detailed feedback and recommendations:\n",
      "\n",
      "1. Content Accuracy:\n",
      "- The vocabulary tested here is \"省略\" (しょうりゃく), meaning \"omission\" or \"abbreviation,\" which is appropriate for JLPT N3 level.\n",
      "- The sentence \"時間がないので説明を省略します。\" is clear, natural, and contextually relevant.\n",
      "- The distractors provided (せいりゃく, しょうりゃくう, せいりゃくう) are plausible kanji readings or similar-sounding options, which is good for testing reading accuracy.\n",
      "\n",
      "2. Question and Answer Quality:\n",
      "- The question is straightforward: selecting the correct reading of the underlined kanji.\n",
      "- The options are clearly presented.\n",
      "- The correct answer is accurately marked as option 2 (しょうりゃく).\n",
      "- The question effectively tests kanji reading skills appropriate for N3.\n",
      "\n",
      "3. Detailed Refinement:\n",
      "- The content is culturally appropriate and reflects typical Japanese academic or business language usage.\n",
      "- To enhance the question's challenge slightly, you might consider including a short instruction such as \"Choose the correct reading of the underlined word,\" but since instructions are excluded per your guidelines, this is acceptable.\n",
      "- The distractors could be refined to exclude non-existent readings like \"しょうりゃくう\" and \"せいりゃくう,\" as these are not valid readings and may confuse test-takers unnecessarily. Instead, use plausible alternative readings or homophones that exist in Japanese.\n",
      "\n",
      "Recommendations:\n",
      "- Replace distractors \"しょうりゃくう\" and \"せいりゃくう\" with more realistic but incorrect readings or similar-looking kanji compounds to better test students’ knowledge.\n",
      "- Ensure that all options are valid potential readings to maintain the question's integrity and avoid confusion.\n",
      "- Overall, this question is well-constructed for JLPT N3 level vocabulary and kanji reading practice.\n",
      "\n",
      "In conclusion, the question is good but can be improved by refining distractors to be more plausible. Please revise accordingly.\n"
     ]
    },
    {
     "name": "stdout",
     "output_type": "stream",
     "text": [
      "---Generator----\n"
     ]
    },
    {
     "name": "stderr",
     "output_type": "stream",
     "text": [
      "2025-05-28 14:08:23,899 - INFO - HTTP Request: POST https://ai-rolandaws880125ai409947751408.openai.azure.com/openai/deployments/gpt-4.1/chat/completions?api-version=2025-01-01-preview \"HTTP/1.1 200 OK\"\n",
      "2025-05-28 14:08:23,900 - INFO - Generated message: <ul>\n",
      "    <li>\n",
      "        時間がないので説明を<u>省略</u>します。\n",
      "        <ul>\n",
      "            <li>せいりゃく</li>\n",
      "            <li>しょうりゃく</li>\n",
      "            <li>しょうりょく</li>\n",
      "            <li>せんりゃく</li>\n",
      "        </ul>\n",
      "    </li>\n",
      "</ul>\n",
      "正解: 2\n"
     ]
    },
    {
     "name": "stdout",
     "output_type": "stream",
     "text": [
      "---REVISOR---\n"
     ]
    },
    {
     "name": "stderr",
     "output_type": "stream",
     "text": [
      "2025-05-28 14:08:26,703 - INFO - HTTP Request: POST https://ai-rolandaws880125ai409947751408.openai.azure.com/openai/deployments/gpt-4.1-mini/chat/completions?api-version=2025-01-01-preview \"HTTP/1.1 200 OK\"\n",
      "2025-05-28 14:08:26,704 - INFO - Refelect message: Thank you for your revised submission. Here is the evaluation and recommendations:\n",
      "\n",
      "1. Content Accuracy:\n",
      "- The vocabulary word \"省略\" (しょうりゃく) remains appropriate for JLPT N3 level.\n",
      "- The sentence context is clear and relevant.\n",
      "- The distractors now include \"せいりゃく,\" \"しょうりょく,\" and \"せんりゃく,\" which are valid readings or similar-sounding words, improving the quality of the distractors.\n",
      "\n",
      "2. Question and Answer Quality:\n",
      "- The question format remains clear and unambiguous.\n",
      "- The distractors are more plausible now, as \"せいりゃく\" and \"せんりゃく\" are legitimate readings for different words (e.g., 戦略 \"strategy\" is read せんりゃく), and \"しょうりょく\" could be confused with other words.\n",
      "- This effectively tests the student's ability to distinguish correct kanji readings, which is suitable for N3.\n",
      "\n",
      "3. Detailed Refinement:\n",
      "- The question is culturally appropriate and reflects typical Japanese usage.\n",
      "- The inclusion of distractors that are actual readings of other words adds a good level of challenge.\n",
      "- No further changes needed regarding cultural or academic appropriateness.\n",
      "\n",
      "Recommendations:\n",
      "- This version is well-crafted and suitable for JLPT N3.\n",
      "- Ensure consistent formatting and presentation in the full exam paper.\n",
      "- Consider including a variety of question types in the full test to assess multiple language skills.\n",
      "\n",
      "Overall, this question is well-designed and appropriate for the target level.\n",
      "\n",
      "Conclusion: GOOD ENOUGH\n"
     ]
    },
    {
     "name": "stdout",
     "output_type": "stream",
     "text": [
      "--- AI Reviser feels Good Enough ---\n",
      "--- Formatter ---\n"
     ]
    },
    {
     "name": "stderr",
     "output_type": "stream",
     "text": [
      "2025-05-28 14:08:27,937 - INFO - HTTP Request: POST https://ai-rolandaws880125ai409947751408.openai.azure.com/openai/deployments/gpt-4.1-mini/chat/completions?api-version=2025-01-01-preview \"HTTP/1.1 200 OK\"\n",
      "2025-05-28 14:08:27,940 - INFO - Formatted message: {'html_question': '<ul><li>時間がないので説明を<u>省略</u>します。<ul><li>せいりゃく</li><li>しょうりゃく</li><li>しょうりょく</li><li>せんりゃく</li></ul></li></ul>', 'choices': ['せいりゃく', 'しょうりゃく', 'しょうりょく', 'せんりゃく'], 'correct_answer': 2}\n",
      "\n",
      "Processing のことばの読み方として最もよいものを、1・2・3・4から一つえらびなさい (kanji_reading): 100%|██████████| 8/8 [01:59<00:00, 14.99s/it]\u001B[A\n",
      "Processing 第1部：語彙・文法:  50%|█████     | 1/2 [01:59<01:59, 119.96s/it]\n",
      "Processing このことばを漢字で書くとき、最もよいものを、１・２・３・４から一つえらびなさい (write_chinese):   0%|          | 0/6 [00:00<?, ?it/s]\u001B[A"
     ]
    },
    {
     "name": "stdout",
     "output_type": "stream",
     "text": [
      "---WEB SEARCH---\n",
      "---Generator----\n"
     ]
    },
    {
     "name": "stderr",
     "output_type": "stream",
     "text": [
      "2025-05-28 14:08:34,674 - INFO - HTTP Request: POST https://ai-rolandaws880125ai409947751408.openai.azure.com/openai/deployments/gpt-4.1/chat/completions?api-version=2025-01-01-preview \"HTTP/1.1 200 OK\"\n",
      "2025-05-28 14:08:34,676 - INFO - Generated message: <li>大学で<u>せんこう</u>を決めました。\n",
      "  <ul>\n",
      "    <li>選考</li>\n",
      "    <li>専攻</li>\n",
      "    <li>先行</li>\n",
      "    <li>閃光</li>\n",
      "  </ul>\n",
      "</li>\n",
      "<!-- correct answer: 2 -->\n"
     ]
    },
    {
     "name": "stdout",
     "output_type": "stream",
     "text": [
      "---REVISOR---\n"
     ]
    },
    {
     "name": "stderr",
     "output_type": "stream",
     "text": [
      "2025-05-28 14:08:37,546 - INFO - HTTP Request: POST https://ai-rolandaws880125ai409947751408.openai.azure.com/openai/deployments/gpt-4.1-mini/chat/completions?api-version=2025-01-01-preview \"HTTP/1.1 200 OK\"\n",
      "2025-05-28 14:08:37,549 - INFO - Refelect message: The question tests the correct kanji for the reading \"せんこう\" in the context of deciding a field of study at university. This is a suitable vocabulary and kanji recognition question for the JLPT N3 level, as \"専攻\" (major/specialization) is a common academic term. The other options (\"選考\" - selection, \"先行\" - precedence, \"閃光\" - flash of light) are also appropriate distractors that share the same reading but differ in meaning, which is good for testing nuanced vocabulary knowledge.\n",
      "\n",
      "The sentence context \"大学でせんこうを決めました\" is clear, relevant, and culturally appropriate for Japanese learners at this level. The question is straightforward and unambiguous, effectively assessing the learner's ability to match reading with the correct kanji in an academic context.\n",
      "\n",
      "Recommendations:  \n",
      "- Ensure that the question format clearly asks the learner to select the correct kanji for the given reading in context, but since instructions are not to be suggested, this may already be handled elsewhere.  \n",
      "- Consider including a brief sentence that uses the other kanji options in different contexts in other questions to reinforce distinctions.  \n",
      "- The difficulty level is appropriate for N3; no changes needed.\n",
      "\n",
      "Overall, this question is well-designed and suitable for the JLPT N3 exam paper.\n",
      "\n",
      "GOOD ENOUGH\n"
     ]
    },
    {
     "name": "stdout",
     "output_type": "stream",
     "text": [
      "--- AI Reviser feels Good Enough ---\n",
      "--- Formatter ---\n"
     ]
    },
    {
     "name": "stderr",
     "output_type": "stream",
     "text": [
      "2025-05-28 14:08:38,441 - INFO - HTTP Request: POST https://ai-rolandaws880125ai409947751408.openai.azure.com/openai/deployments/gpt-4.1-mini/chat/completions?api-version=2025-01-01-preview \"HTTP/1.1 200 OK\"\n",
      "2025-05-28 14:08:38,444 - INFO - Formatted message: {'html_question': '大学で<u>せんこう</u>を決めました。', 'correct_answer': 2, 'choices': ['選考', '専攻', '先行', '閃光']}\n",
      "\n",
      "Processing このことばを漢字で書くとき、最もよいものを、１・２・３・４から一つえらびなさい (write_chinese):  17%|█▋        | 1/6 [00:10<00:52, 10.50s/it]\u001B[A"
     ]
    },
    {
     "name": "stdout",
     "output_type": "stream",
     "text": [
      "---WEB SEARCH---\n",
      "---Generator----\n"
     ]
    },
    {
     "name": "stderr",
     "output_type": "stream",
     "text": [
      "2025-05-28 14:08:44,632 - INFO - HTTP Request: POST https://ai-rolandaws880125ai409947751408.openai.azure.com/openai/deployments/gpt-4.1/chat/completions?api-version=2025-01-01-preview \"HTTP/1.1 200 OK\"\n",
      "2025-05-28 14:08:44,633 - INFO - Generated message: <li>父は会社の<u>けいえい</u>に参加しています。\n",
      "  <ul>\n",
      "    <li>経政</li>\n",
      "    <li>経営</li>\n",
      "    <li>景営</li>\n",
      "    <li>景栄</li>\n",
      "  </ul>\n",
      "</li>\n",
      "<!-- correct answer: 2 -->\n"
     ]
    },
    {
     "name": "stdout",
     "output_type": "stream",
     "text": [
      "---REVISOR---\n"
     ]
    },
    {
     "name": "stderr",
     "output_type": "stream",
     "text": [
      "2025-05-28 14:08:55,740 - INFO - HTTP Request: POST https://ai-rolandaws880125ai409947751408.openai.azure.com/openai/deployments/gpt-4.1-mini/chat/completions?api-version=2025-01-01-preview \"HTTP/1.1 200 OK\"\n",
      "2025-05-28 14:08:55,741 - INFO - Refelect message: Thank you for your submission. Here is a detailed critique and recommendations:\n",
      "\n",
      "1. Content Accuracy:\n",
      "- The vocabulary question focuses on the word \"けいえい\" (keiei), which is appropriate for JLPT N3 level, as \"経営\" (management) is a common term at this stage.\n",
      "- The sentence \"父は会社のけいえいに参加しています。\" is clear and relevant, providing a suitable context for testing the correct kanji for \"けいえい.\"\n",
      "- The incorrect options \"経政,\" \"景営,\" and \"景栄\" are plausible distractors since they use similar kanji, which is good for testing kanji knowledge.\n",
      "- Overall, the content is accurate and appropriate for the N3 level.\n",
      "\n",
      "2. Question and Answer Quality:\n",
      "- The question is implicitly asking to select the correct kanji for the underlined word. Although the instruction is not included here (per your request), the question format is straightforward.\n",
      "- The options are clearly listed, and the correct answer is marked as \"2\" (経営), which is correct.\n",
      "- The question assesses vocabulary and kanji recognition effectively.\n",
      "- However, the sentence might be slightly ambiguous because \"けいえいに参加しています\" (\"participating in management\") is not a very natural expression in Japanese. Typically, one would say \"父は会社の経営に携わっています\" or \"父は会社の経営に参加しています\" is somewhat acceptable but less common.\n",
      "- To improve clarity and naturalness, consider revising the sentence to a more natural expression that still tests the target vocabulary.\n",
      "\n",
      "3. Cultural and Language Appropriateness:\n",
      "- The content is culturally appropriate and relevant to Japanese business vocabulary, which is suitable for JLPT N3 learners.\n",
      "- The kanji choices reflect typical learning challenges at this level.\n",
      "\n",
      "Recommendations:\n",
      "- Revise the sentence for naturalness, for example: \"父は会社の経営に携わっています。\" or \"父は会社の経営に参加しています。\" to better reflect natural Japanese usage.\n",
      "- Ensure the question prompt (outside of this snippet) clearly instructs the test-taker to select the correct kanji for the underlined word.\n",
      "- Consider adding a variety of question types in your exam paper to assess other skills such as grammar, reading comprehension, and listening, if not already included.\n",
      "\n",
      "Overall, this question is well-designed for the N3 level but could benefit from a slight revision in sentence naturalness.\n",
      "\n",
      "Thank you for your work!\n"
     ]
    },
    {
     "name": "stdout",
     "output_type": "stream",
     "text": [
      "---Generator----\n"
     ]
    },
    {
     "name": "stderr",
     "output_type": "stream",
     "text": [
      "2025-05-28 14:08:57,633 - INFO - HTTP Request: POST https://ai-rolandaws880125ai409947751408.openai.azure.com/openai/deployments/gpt-4.1/chat/completions?api-version=2025-01-01-preview \"HTTP/1.1 200 OK\"\n",
      "2025-05-28 14:08:57,635 - INFO - Generated message: <li>彼は店の<u>けいえい</u>を始めました。\n",
      "  <ul>\n",
      "    <li>経栄</li>\n",
      "    <li>景営</li>\n",
      "    <li>経営</li>\n",
      "    <li>景栄</li>\n",
      "  </ul>\n",
      "</li>\n",
      "<!-- correct answer: 3 -->\n"
     ]
    },
    {
     "name": "stdout",
     "output_type": "stream",
     "text": [
      "---REVISOR---\n"
     ]
    },
    {
     "name": "stderr",
     "output_type": "stream",
     "text": [
      "2025-05-28 14:09:01,001 - INFO - HTTP Request: POST https://ai-rolandaws880125ai409947751408.openai.azure.com/openai/deployments/gpt-4.1-mini/chat/completions?api-version=2025-01-01-preview \"HTTP/1.1 200 OK\"\n",
      "2025-05-28 14:09:01,003 - INFO - Refelect message: Thank you for your submission. Here is the detailed feedback:\n",
      "\n",
      "1. Content Accuracy:\n",
      "- The vocabulary tested, \"けいえい\" (keiei), remains appropriate for JLPT N3 level, focusing on the word \"経営\" (management, operation).\n",
      "- The sentence \"彼は店のけいえいを始めました。\" is clear and contextually relevant, describing someone starting to manage or run a store.\n",
      "- The distractor options (\"経栄,\" \"景営,\" \"景栄\") are plausible and use similar kanji, which is effective for testing kanji recognition.\n",
      "- The correct answer is correctly marked as \"3\" (経営).\n",
      "\n",
      "2. Question and Answer Quality:\n",
      "- The question format is consistent with the previous example and clearly asks to select the correct kanji for the underlined word.\n",
      "- The sentence is natural and appropriate for the intended meaning; \"店の経営を始めました\" is a common and natural expression.\n",
      "- The difficulty level fits well within the JLPT N3 range, testing vocabulary and kanji knowledge.\n",
      "- The options are clearly presented and free from ambiguity.\n",
      "\n",
      "3. Cultural and Language Appropriateness:\n",
      "- The content is culturally appropriate and reflects everyday business-related vocabulary relevant for learners at this level.\n",
      "- The sentence is straightforward and uses natural Japanese, which is good for learner comprehension.\n",
      "\n",
      "Recommendations:\n",
      "- This question is well-constructed and natural in phrasing, suitable for the N3 level.\n",
      "- To further enhance your exam paper, consider including a variety of question types (e.g., grammar usage, reading comprehension) alongside vocabulary questions.\n",
      "- Ensure consistency in formatting and instructions throughout the exam paper.\n",
      "\n",
      "Overall, this question is clear, accurate, and well-suited for the JLPT N3 level.\n",
      "\n",
      "GOOD ENOUGH\n"
     ]
    },
    {
     "name": "stdout",
     "output_type": "stream",
     "text": [
      "--- AI Reviser feels Good Enough ---\n",
      "--- Formatter ---\n"
     ]
    },
    {
     "name": "stderr",
     "output_type": "stream",
     "text": [
      "2025-05-28 14:09:03,224 - INFO - HTTP Request: POST https://ai-rolandaws880125ai409947751408.openai.azure.com/openai/deployments/gpt-4.1-mini/chat/completions?api-version=2025-01-01-preview \"HTTP/1.1 200 OK\"\n",
      "2025-05-28 14:09:03,226 - INFO - Formatted message: {'html_question': '彼は店の<u>けいえい</u>を始めました。', 'correct_answer': 3, 'choices': ['経栄', '景営', '経営', '景栄']}\n",
      "\n",
      "Processing このことばを漢字で書くとき、最もよいものを、１・２・３・４から一つえらびなさい (write_chinese):  33%|███▎      | 2/6 [00:35<01:15, 18.90s/it]\u001B[A"
     ]
    },
    {
     "name": "stdout",
     "output_type": "stream",
     "text": [
      "---WEB SEARCH---\n",
      "---Generator----\n"
     ]
    },
    {
     "name": "stderr",
     "output_type": "stream",
     "text": [
      "2025-05-28 14:09:08,972 - INFO - HTTP Request: POST https://ai-rolandaws880125ai409947751408.openai.azure.com/openai/deployments/gpt-4.1/chat/completions?api-version=2025-01-01-preview \"HTTP/1.1 200 OK\"\n",
      "2025-05-28 14:09:08,982 - INFO - Generated message: <li>家の<u>しゅうい</u>を掃除しました。\n",
      "  <ul>\n",
      "    <li>集意</li>\n",
      "    <li>拾遺</li>\n",
      "    <li>周囲</li>\n",
      "    <li>秋衣</li>\n",
      "  </ul>\n",
      "</li>\n",
      "正解番号: 3\n"
     ]
    },
    {
     "name": "stdout",
     "output_type": "stream",
     "text": [
      "---REVISOR---\n"
     ]
    },
    {
     "name": "stderr",
     "output_type": "stream",
     "text": [
      "2025-05-28 14:09:13,121 - INFO - HTTP Request: POST https://ai-rolandaws880125ai409947751408.openai.azure.com/openai/deployments/gpt-4.1-mini/chat/completions?api-version=2025-01-01-preview \"HTTP/1.1 200 OK\"\n",
      "2025-05-28 14:09:13,123 - INFO - Refelect message: Thank you for your submission. Here is the detailed critique and recommendations:\n",
      "\n",
      "1. Content Accuracy:\n",
      "- The vocabulary question tests the word \"しゅうい\" in the context of \"家のしゅういを掃除しました,\" which is appropriate for JLPT N3 level.\n",
      "- The correct answer \"周囲\" (surroundings) fits perfectly with the sentence, making the question accurate and relevant.\n",
      "- The distractors \"集意,\" \"拾遺,\" and \"秋衣\" are less common or less appropriate, which is good for testing knowledge.\n",
      "- However, \"集意\" and \"秋衣\" are not standard or common words, especially for N3 level learners, and might confuse test takers unnecessarily. Consider replacing these with more plausible distractors that are closer in pronunciation or meaning.\n",
      "\n",
      "2. Question and Answer Quality:\n",
      "- The question is clear and unambiguous.\n",
      "- The sentence used provides a good context for the vocabulary word.\n",
      "- The difficulty level matches the N3 level, as recognizing \"周囲\" and understanding its meaning in context is appropriate.\n",
      "- The answer key is correct.\n",
      "\n",
      "3. Cultural and Language Appropriateness:\n",
      "- The sentence and vocabulary are culturally neutral and appropriate.\n",
      "- The vocabulary tested is common and useful for learners at this level.\n",
      "\n",
      "Recommendations:\n",
      "- Replace the distractors \"集意\" and \"秋衣\" with more plausible options such as \"修理\" (しゅうり), \"集会\" (しゅうかい), or \"習慣\" (しゅうかん) to better challenge the test takers while maintaining fairness.\n",
      "- Ensure all distractors are actual words that learners might reasonably confuse with \"しゅうい.\"\n",
      "- Consider providing more context or a slightly longer sentence to better anchor the meaning, though this is optional since the current sentence is sufficient.\n",
      "\n",
      "Overall, the question is well-constructed and suitable for JLPT N3 vocabulary testing with minor improvements suggested.\n",
      "\n",
      "Please revise accordingly.\n"
     ]
    },
    {
     "name": "stdout",
     "output_type": "stream",
     "text": [
      "---Generator----\n"
     ]
    },
    {
     "name": "stderr",
     "output_type": "stream",
     "text": [
      "2025-05-28 14:09:14,146 - INFO - HTTP Request: POST https://ai-rolandaws880125ai409947751408.openai.azure.com/openai/deployments/gpt-4.1/chat/completions?api-version=2025-01-01-preview \"HTTP/1.1 200 OK\"\n",
      "2025-05-28 14:09:14,148 - INFO - Generated message: <li>家の<u>しゅうい</u>を掃除しました。\n",
      "  <ul>\n",
      "    <li>修理</li>\n",
      "    <li>集会</li>\n",
      "    <li>周囲</li>\n",
      "    <li>習慣</li>\n",
      "  </ul>\n",
      "</li>\n",
      "正解番号: 3\n"
     ]
    },
    {
     "name": "stdout",
     "output_type": "stream",
     "text": [
      "---REVISOR---\n"
     ]
    },
    {
     "name": "stderr",
     "output_type": "stream",
     "text": [
      "2025-05-28 14:09:16,622 - INFO - HTTP Request: POST https://ai-rolandaws880125ai409947751408.openai.azure.com/openai/deployments/gpt-4.1-mini/chat/completions?api-version=2025-01-01-preview \"HTTP/1.1 200 OK\"\n",
      "2025-05-28 14:09:16,624 - INFO - Refelect message: Thank you for revising the question. Here is the updated critique:\n",
      "\n",
      "1. Content Accuracy:\n",
      "- The vocabulary tested remains appropriate for JLPT N3 level.\n",
      "- The sentence \"家のしゅういを掃除しました\" clearly requires the meaning \"surroundings,\" which corresponds to \"周囲.\"\n",
      "- The distractors \"修理\" (repair), \"集会\" (meeting), and \"習慣\" (habit) are all common words at the N3 level and share the \"しゅう\" reading, making them plausible distractors.\n",
      "\n",
      "2. Question and Answer Quality:\n",
      "- The question is clear and unambiguous.\n",
      "- The provided options are well-chosen to test the learner's ability to distinguish similar-sounding words with different meanings.\n",
      "- The difficulty level is appropriate for N3 learners.\n",
      "\n",
      "3. Cultural and Language Appropriateness:\n",
      "- The sentence and vocabulary are culturally neutral and appropriate.\n",
      "- The vocabulary and context are relevant to daily life, which is suitable for the target level.\n",
      "\n",
      "Recommendations:\n",
      "- The question is well designed and meets the requirements for JLPT N3 vocabulary testing.\n",
      "- For further enhancement, consider adding a slightly longer sentence or a short passage to provide more context, but this is optional.\n",
      "\n",
      "Overall, this question is well constructed and appropriate for the intended level.\n",
      "\n",
      "GOOD ENOUGH\n"
     ]
    },
    {
     "name": "stdout",
     "output_type": "stream",
     "text": [
      "--- AI Reviser feels Good Enough ---\n",
      "--- Formatter ---\n"
     ]
    },
    {
     "name": "stderr",
     "output_type": "stream",
     "text": [
      "2025-05-28 14:09:17,286 - INFO - HTTP Request: POST https://ai-rolandaws880125ai409947751408.openai.azure.com/openai/deployments/gpt-4.1-mini/chat/completions?api-version=2025-01-01-preview \"HTTP/1.1 200 OK\"\n",
      "2025-05-28 14:09:17,289 - INFO - Formatted message: {'html_question': '家の<u>しゅうい</u>を掃除しました。', 'correct_answer': 3, 'choices': ['修理', '集会', '周囲', '習慣']}\n",
      "\n",
      "Processing このことばを漢字で書くとき、最もよいものを、１・２・３・４から一つえらびなさい (write_chinese):  50%|█████     | 3/6 [00:49<00:50, 16.69s/it]\u001B[A"
     ]
    },
    {
     "name": "stdout",
     "output_type": "stream",
     "text": [
      "---WEB SEARCH---\n",
      "---Generator----\n"
     ]
    },
    {
     "name": "stderr",
     "output_type": "stream",
     "text": [
      "2025-05-28 14:09:25,104 - INFO - HTTP Request: POST https://ai-rolandaws880125ai409947751408.openai.azure.com/openai/deployments/gpt-4.1/chat/completions?api-version=2025-01-01-preview \"HTTP/1.1 200 OK\"\n",
      "2025-05-28 14:09:25,119 - INFO - Generated message: <li>この問題は<u>しんこく</u>ですので、早く対応してください。\n",
      "  <ul>\n",
      "    <li>申告</li>\n",
      "    <li>深刻</li>\n",
      "    <li>新刻</li>\n",
      "    <li>深谷</li>\n",
      "  </ul>\n",
      "</li>\n",
      "<!-- correct answer: 2 -->\n"
     ]
    },
    {
     "name": "stdout",
     "output_type": "stream",
     "text": [
      "---REVISOR---\n"
     ]
    },
    {
     "name": "stderr",
     "output_type": "stream",
     "text": [
      "2025-05-28 14:09:33,058 - INFO - HTTP Request: POST https://ai-rolandaws880125ai409947751408.openai.azure.com/openai/deployments/gpt-4.1-mini/chat/completions?api-version=2025-01-01-preview \"HTTP/1.1 200 OK\"\n",
      "2025-05-28 14:09:33,064 - INFO - Refelect message: Thank you for your submission. Here is my critique and recommendations regarding this question:\n",
      "\n",
      "1. Content Accuracy:\n",
      "- The vocabulary tested here is appropriate for JLPT N3 level, as \"深刻\" (serious) is a common word at this stage.\n",
      "- The kanji choices are plausible, but \"新刻\" and \"深谷\" are less common and might confuse test takers unnecessarily.\n",
      "- The reading \"しんこく\" can correspond to both \"申告\" and \"深刻,\" so the question relies heavily on context to distinguish meaning.\n",
      "\n",
      "2. Question and Answer Quality:\n",
      "- The sentence \"この問題はしんこくですので、早く対応してください。\" provides context, but it may be somewhat ambiguous because \"申告\" (declaration) does not fit naturally, and \"深刻\" (serious) fits best.\n",
      "- The question asks to select the correct kanji for \"しんこく\" based on the sentence.\n",
      "- The options include \"申告,\" which is also read as \"しんこく\" but does not fit the sentence meaning, which is good for testing nuance.\n",
      "- However, \"新刻\" and \"深谷\" are unlikely to be known by N3 learners and may cause confusion.\n",
      "- The question is clear but could be improved by providing a slightly more explicit context or sentence to ensure the meaning is unambiguous.\n",
      "\n",
      "3. Cultural and Academic Relevance:\n",
      "- The sentence is culturally neutral and appropriate.\n",
      "- The vocabulary is relevant to everyday or academic Japanese.\n",
      "\n",
      "Recommendations:\n",
      "- Consider removing \"新刻\" and \"深谷\" as options because they are less common and may confuse learners at the N3 level.\n",
      "- Alternatively, replace them with other plausible but incorrect options that are more familiar to N3 learners.\n",
      "- Slightly revise the sentence to make the context clearer, for example:\n",
      "  \"この問題は<u>しんこく</u>な問題ですので、早く対応してください。\"\n",
      "- This would reinforce that \"深刻\" (serious) is the intended answer.\n",
      "- Ensure that the question explicitly asks the learner to choose the correct kanji for \"しんこく\" based on the sentence meaning.\n",
      "\n",
      "Overall, the question is on the right track but can be refined to better suit the N3 level and reduce ambiguity.\n",
      "\n",
      "Please revise accordingly.\n"
     ]
    },
    {
     "name": "stdout",
     "output_type": "stream",
     "text": [
      "---Generator----\n"
     ]
    },
    {
     "name": "stderr",
     "output_type": "stream",
     "text": [
      "2025-05-28 14:09:35,612 - INFO - HTTP Request: POST https://ai-rolandaws880125ai409947751408.openai.azure.com/openai/deployments/gpt-4.1/chat/completions?api-version=2025-01-01-preview \"HTTP/1.1 200 OK\"\n",
      "2025-05-28 14:09:35,616 - INFO - Generated message: <li>最近、環境汚染が<u>しんこく</u>になっています。\n",
      "  <ul>\n",
      "    <li>申告</li>\n",
      "    <li>深刻</li>\n",
      "    <li>新設</li>\n",
      "    <li>親告</li>\n",
      "  </ul>\n",
      "</li>\n",
      "<!-- correct answer: 2 -->\n"
     ]
    },
    {
     "name": "stdout",
     "output_type": "stream",
     "text": [
      "---REVISOR---\n"
     ]
    },
    {
     "name": "stderr",
     "output_type": "stream",
     "text": [
      "2025-05-28 14:09:38,629 - INFO - HTTP Request: POST https://ai-rolandaws880125ai409947751408.openai.azure.com/openai/deployments/gpt-4.1-mini/chat/completions?api-version=2025-01-01-preview \"HTTP/1.1 200 OK\"\n",
      "2025-05-28 14:09:38,633 - INFO - Refelect message: Thank you for your revised question. Here is my detailed feedback:\n",
      "\n",
      "1. Content Accuracy:\n",
      "- The vocabulary tested remains appropriate for JLPT N3 level. \"深刻\" (serious, severe) is a common word and fits the context of environmental pollution becoming more serious.\n",
      "- The reading \"しんこく\" can correspond to multiple kanji, but \"深刻\" is the correct choice here.\n",
      "- The distractors \"申告\" (declaration), \"新設\" (new establishment), and \"親告\" (complaint by a victim) are all legitimate words with the same reading or similar readings, which is good for testing kanji recognition and understanding.\n",
      "\n",
      "2. Question and Answer Quality:\n",
      "- The sentence \"最近、環境汚染がしんこくになっています。\" is clear and contextually appropriate, making it straightforward for learners to select the correct kanji.\n",
      "- The question is well-structured and unambiguous.\n",
      "- The difficulty level matches JLPT N3, as learners at this level are expected to distinguish between these kanji based on context.\n",
      "- The options are plausible and relevant, which enhances the quality of the question.\n",
      "\n",
      "3. Cultural and Academic Relevance:\n",
      "- The topic of environmental pollution is relevant and appropriate for learners, reflecting real-world issues that Japanese speakers might discuss.\n",
      "- The vocabulary is commonly used in Japanese academic and everyday contexts.\n",
      "\n",
      "Recommendations:\n",
      "- This question is well-designed and suitable for JLPT N3 level.\n",
      "- No changes are necessary unless you want to slightly increase difficulty by adding more challenging distractors, but that is optional.\n",
      "- Ensure that the question prompt clearly instructs learners to choose the correct kanji for the underlined reading based on the sentence meaning.\n",
      "\n",
      "Overall, this question is clear, accurate, culturally appropriate, and well-matched to the intended proficiency level.\n",
      "\n",
      "GOOD ENOUGH\n"
     ]
    },
    {
     "name": "stdout",
     "output_type": "stream",
     "text": [
      "--- AI Reviser feels Good Enough ---\n",
      "--- Formatter ---\n"
     ]
    },
    {
     "name": "stderr",
     "output_type": "stream",
     "text": [
      "2025-05-28 14:09:39,464 - INFO - HTTP Request: POST https://ai-rolandaws880125ai409947751408.openai.azure.com/openai/deployments/gpt-4.1-mini/chat/completions?api-version=2025-01-01-preview \"HTTP/1.1 200 OK\"\n",
      "2025-05-28 14:09:39,487 - INFO - Formatted message: {'html_question': '最近、環境汚染が<u>しんこく</u>になっています。', 'correct_answer': 2, 'choices': ['申告', '深刻', '新設', '親告']}\n",
      "\n",
      "Processing このことばを漢字で書くとき、最もよいものを、１・２・３・４から一つえらびなさい (write_chinese):  67%|██████▋   | 4/6 [01:11<00:37, 18.87s/it]\u001B[A"
     ]
    },
    {
     "name": "stdout",
     "output_type": "stream",
     "text": [
      "---WEB SEARCH---\n",
      "---Generator----\n"
     ]
    },
    {
     "name": "stderr",
     "output_type": "stream",
     "text": [
      "2025-05-28 14:09:47,037 - INFO - HTTP Request: POST https://ai-rolandaws880125ai409947751408.openai.azure.com/openai/deployments/gpt-4.1/chat/completions?api-version=2025-01-01-preview \"HTTP/1.1 200 OK\"\n",
      "2025-05-28 14:09:47,041 - INFO - Generated message: <li>この製品には１年間の<u>ほしょう</u>が付いています。\n",
      "  <ul>\n",
      "    <li>保障</li>\n",
      "    <li>補償</li>\n",
      "    <li>保証</li>\n",
      "    <li>保賞</li>\n",
      "  </ul>\n",
      "</li>\n",
      "正解：3\n"
     ]
    },
    {
     "name": "stdout",
     "output_type": "stream",
     "text": [
      "---REVISOR---\n"
     ]
    },
    {
     "name": "stderr",
     "output_type": "stream",
     "text": [
      "2025-05-28 14:09:50,817 - INFO - HTTP Request: POST https://ai-rolandaws880125ai409947751408.openai.azure.com/openai/deployments/gpt-4.1-mini/chat/completions?api-version=2025-01-01-preview \"HTTP/1.1 200 OK\"\n",
      "2025-05-28 14:09:50,821 - INFO - Refelect message: The question tests the correct kanji usage for the word \"ほしょう\" in the context of a product warranty, which is appropriate for the JLPT N3 level. The sentence provided is clear, relevant, and uses vocabulary and grammar suitable for this level. \n",
      "\n",
      "The four kanji options are well chosen to challenge the learner’s knowledge of homophones and kanji nuances:\n",
      "- 保障 (security, guarantee)\n",
      "- 補償 (compensation)\n",
      "- 保証 (warranty, guarantee)\n",
      "- 保賞 (incorrect, as this is not a standard word)\n",
      "\n",
      "The correct answer \"保証\" is accurate for the context of a product warranty.\n",
      "\n",
      "Recommendations:\n",
      "1. The question is straightforward and unambiguous; however, to enhance comprehensiveness, consider adding a brief explanation or example in the teacher's notes about why the other options are incorrect, especially since 保障 and 補償 are common confusions.\n",
      "2. The vocabulary is appropriate and culturally relevant, as product warranties are common topics in daily life and JLPT exams.\n",
      "3. Ensure that the reading passage or sentence context remains consistent with typical N3-level content, which it currently does.\n",
      "\n",
      "Overall, this question is well-designed and suitable for the intended level.\n",
      "\n",
      "GOOD ENOUGH\n"
     ]
    },
    {
     "name": "stdout",
     "output_type": "stream",
     "text": [
      "--- AI Reviser feels Good Enough ---\n",
      "--- Formatter ---\n"
     ]
    },
    {
     "name": "stderr",
     "output_type": "stream",
     "text": [
      "2025-05-28 14:09:51,507 - INFO - HTTP Request: POST https://ai-rolandaws880125ai409947751408.openai.azure.com/openai/deployments/gpt-4.1-mini/chat/completions?api-version=2025-01-01-preview \"HTTP/1.1 200 OK\"\n",
      "2025-05-28 14:09:51,511 - INFO - Formatted message: {'html_question': 'この製品には１年間の<u>ほしょう</u>が付いています。', 'choices': ['保障', '補償', '保証', '保賞'], 'correct_answer': 3}\n",
      "\n",
      "Processing このことばを漢字で書くとき、最もよいものを、１・２・３・４から一つえらびなさい (write_chinese):  83%|████████▎ | 5/6 [01:23<00:16, 16.40s/it]\u001B[A"
     ]
    },
    {
     "name": "stdout",
     "output_type": "stream",
     "text": [
      "---WEB SEARCH---\n",
      "---Generator----\n"
     ]
    },
    {
     "name": "stderr",
     "output_type": "stream",
     "text": [
      "2025-05-28 14:09:57,458 - INFO - HTTP Request: POST https://ai-rolandaws880125ai409947751408.openai.azure.com/openai/deployments/gpt-4.1/chat/completions?api-version=2025-01-01-preview \"HTTP/1.1 200 OK\"\n",
      "2025-05-28 14:09:57,461 - INFO - Generated message: <li><u>じっさい</u>にやってみることが大切です。\n",
      "  <ul>\n",
      "    <li>実在</li>\n",
      "    <li>実際</li>\n",
      "    <li>実体</li>\n",
      "    <li>実感</li>\n",
      "  </ul>\n",
      "</li>\n",
      "正解番号: 2\n"
     ]
    },
    {
     "name": "stdout",
     "output_type": "stream",
     "text": [
      "---REVISOR---\n"
     ]
    },
    {
     "name": "stderr",
     "output_type": "stream",
     "text": [
      "2025-05-28 14:10:02,643 - INFO - HTTP Request: POST https://ai-rolandaws880125ai409947751408.openai.azure.com/openai/deployments/gpt-4.1-mini/chat/completions?api-version=2025-01-01-preview \"HTTP/1.1 200 OK\"\n",
      "2025-05-28 14:10:02,646 - INFO - Refelect message: Thank you for your submission. Here is a detailed critique and recommendations:\n",
      "\n",
      "1. Content Accuracy:\n",
      "- The vocabulary question focuses on the word \"じっさい\" and asks students to select the correct kanji among similar-looking options. This is appropriate for JLPT N3 level, as kanji recognition and usage are important.\n",
      "- The answer choices include: 実在 (existence in reality), 実際 (actual, real), 実体 (substance, entity), and 実感 (real feeling). These are all valid vocabulary words, but only one fits the sentence context.\n",
      "- The sentence \"じっさいにやってみることが大切です。\" (\"Actually trying it is important.\") requires the meaning \"actually, in practice,\" which corresponds to 実際.\n",
      "- The correct answer is marked as 2, which is accurate.\n",
      "- The sentence is clear and relevant, and the vocabulary tested is appropriate for N3.\n",
      "\n",
      "2. Question and Answer Quality:\n",
      "- The question is straightforward: select the correct kanji for the given reading in context.\n",
      "- The sentence is simple but suitable for N3 learners.\n",
      "- The answer choices are well-chosen to test subtle differences in meaning and kanji.\n",
      "- There is no ambiguity in the question or answer choices.\n",
      "- However, to better assess comprehension, consider providing a slightly longer sentence or context to ensure students understand the nuance.\n",
      "\n",
      "3. Cultural and Academic Relevance:\n",
      "- The sentence is neutral and culturally appropriate.\n",
      "- The vocabulary relates to common Japanese academic language usage.\n",
      "\n",
      "Recommendations:\n",
      "- Consider expanding the sentence slightly to provide more context, for example: \"新しい方法は、じっさいにやってみることが大切です。\" This would better anchor the meaning of 実際.\n",
      "- Alternatively, you might add a short reading passage where this vocabulary appears, to test reading comprehension along with vocabulary.\n",
      "- Overall, the question is well-designed for kanji recognition at N3, but adding context can improve assessment quality.\n",
      "\n",
      "In summary, your question is accurate, clear, and appropriate for JLPT N3 level. With minor improvements to context, it would be even stronger.\n",
      "\n",
      "GOOD ENOUGH\n"
     ]
    },
    {
     "name": "stdout",
     "output_type": "stream",
     "text": [
      "--- AI Reviser feels Good Enough ---\n",
      "--- Formatter ---\n"
     ]
    },
    {
     "name": "stderr",
     "output_type": "stream",
     "text": [
      "2025-05-28 14:10:04,212 - INFO - HTTP Request: POST https://ai-rolandaws880125ai409947751408.openai.azure.com/openai/deployments/gpt-4.1-mini/chat/completions?api-version=2025-01-01-preview \"HTTP/1.1 200 OK\"\n",
      "2025-05-28 14:10:04,215 - INFO - Formatted message: {'html_question': '<li><u>じっさい</u>にやってみることが大切です。</li>', 'correct_answer': 2, 'choices': ['実在', '実際', '実体', '実感']}\n",
      "\n",
      "Processing このことばを漢字で書くとき、最もよいものを、１・２・３・４から一つえらびなさい (write_chinese): 100%|██████████| 6/6 [01:36<00:00, 16.05s/it]\u001B[A\n",
      "Processing 第1部：語彙・文法: 100%|██████████| 2/2 [03:36<00:00, 108.12s/it]"
     ]
    },
    {
     "name": "stdout",
     "output_type": "stream",
     "text": [
      "Total execution time: 216.25 seconds\n"
     ]
    },
    {
     "name": "stderr",
     "output_type": "stream",
     "text": [
      "\n"
     ]
    }
   ],
   "source": [
    "import re\n",
    "outliner_json = initial_outline.model_dump_json()\n",
    "data = json.loads(outliner_json)  # Replace with your actual JSON data\n",
    "\n",
    "start_time = time.time()\n",
    "\n",
    "output_data = {'sections': []}\n",
    "\n",
    "for section in data['sections']:\n",
    "    output_section = {'section_title': section['section_title'], 'subsections': []}\n",
    "\n",
    "    for subsection in tqdm(section['subsections'], desc=f\"Processing {section['section_title']}\"):\n",
    "        function_name = re.findall(r'\\((.*?)\\)', subsection['subsection_title'])[0]\n",
    "\n",
    "        questions = subsection['question_topics']\n",
    "\n",
    "        for question in tqdm(questions, desc=f\"Processing {subsection['subsection_title']}\"):\n",
    "            handler = ExamTaskHandler()\n",
    "            func = getattr(handler, function_name, None)\n",
    "\n",
    "            if func:\n",
    "                max_attempts = 2\n",
    "                original_topic = question['topic']  # Optional: Track original topic\n",
    "                for attempt in range(max_attempts):\n",
    "                    try:\n",
    "                        result = func(question['topic'])\n",
    "                        question['result'] = result\n",
    "                        break  # Exit on success\n",
    "                    except Exception as e:\n",
    "                        if attempt < max_attempts - 1:\n",
    "                            # Replace topic and retry\n",
    "                            question['topic'] = random.choice(topics_list)\n",
    "                        else:\n",
    "                            question['result'] = f\"Error after {max_attempts} attempts: {str(e)}\"\n",
    "            else:\n",
    "                question['result'] = f\"Method {function_name} not found\"\n",
    "\n",
    "        output_subsection = {\n",
    "            'subsection_title': subsection['subsection_title'],\n",
    "            'description': subsection['description'],\n",
    "            'question_topics': questions\n",
    "        }\n",
    "        output_section['subsections'].append(output_subsection)\n",
    "\n",
    "    output_data['sections'].append(output_section)\n",
    "\n",
    "# End the timer\n",
    "end_time = time.time()\n",
    "\n",
    "# Calculate the total execution time\n",
    "execution_time = end_time - start_time\n",
    "\n",
    "print(f\"Total execution time: {execution_time:.2f} seconds\")"
   ]
  },
  {
   "cell_type": "code",
   "execution_count": 12,
   "id": "43e411616ee939b1",
   "metadata": {
    "colab": {
     "base_uri": "https://localhost:8080/",
     "height": 1000
    },
    "id": "43e411616ee939b1",
    "outputId": "97cc7eef-f8ae-4401-ef8b-022c706f112c",
    "ExecuteTime": {
     "end_time": "2025-05-28T06:10:04.244599Z",
     "start_time": "2025-05-28T06:10:04.228008Z"
    }
   },
   "outputs": [
    {
     "data": {
      "text/plain": "<IPython.core.display.Markdown object>",
      "text/markdown": "sections:\n- section_title: 第1部：語彙・文法\n  subsections:\n  - subsection_title: のことばの読み方として最もよいものを、1・2・3・4から一つえらびなさい (kanji_reading)\n    description: 8問。語彙リストから文中で使われる語を選び、その読み方を答える問題。難易度の高い語彙を40％含む。\n    question_topics:\n    - topic: しゅよう\n      result:\n        html_question: 医者に<u>腫瘍</u>の説明を受けました。\n        correct_answer: 0\n        choices:\n        - しゅりょう\n        - しゅよう\n        - しゅようう\n        - しゅりゅう\n    - topic: ばくだい\n      result:\n        html_question: 彼は<u>莫大</u>な財産を持っている。\n        correct_answer: 0\n        choices:\n        - ぼうだい\n        - ばくだい\n        - まくだい\n        - もうだい\n    - topic: じゅよう\n      result:\n        html_question: この商品に<u>需要</u>があります。\n        correct_answer: 1\n        choices:\n        - しょうよう\n        - じゅよう\n        - しゅうよう\n        - じょうよう\n    - topic: しゅちょう\n      result:\n        html_question: 彼は自分の意見を<u>主張</u>し続けた。\n        choices:\n        - しゅしょう\n        - しゅちょう\n        - しゅちゅう\n        - しゅしょうう\n        correct_answer: 2\n    - topic: おもわず\n      result:\n        html_question: <ul><li>彼の話を聞いて<u>思わず</u>笑ってしまった。</li></ul>\n        choices:\n        - おもいわず\n        - おもわず\n        - しわず\n        - おもうず\n        correct_answer: 2\n    - topic: きょうふ\n      result:\n        html_question: 暗い場所で<u>恐怖</u>を感じた。\n        correct_answer: 1\n        choices:\n        - きょうふ\n        - きょうほ\n        - こうふ\n        - こうほ\n    - topic: ふくめる\n      result:\n        html_question: 次の含めるの読み方として正しいものを選んでください。この料金には、飲み物代も含める必要があります。\n        choices:\n        - ふくまる\n        - ふくめる\n        - ふくむ\n        - ふくまれる\n        correct_answer: 2\n    - topic: しょうりゃく\n      result:\n        html_question: <ul><li>時間がないので説明を<u>省略</u>します。<ul><li>せいりゃく</li><li>しょうりゃく</li><li>しょうりょく</li><li>せんりゃく</li></ul></li></ul>\n        choices:\n        - せいりゃく\n        - しょうりゃく\n        - しょうりょく\n        - せんりゃく\n        correct_answer: 2\n  - subsection_title: このことばを漢字で書くとき、最もよいものを、１・２・３・４から一つえらびなさい (write_chinese)\n    description: 6問。語彙リストから選ばれた語を漢字で正しく書く。難易度の高い語彙を40％含む。\n    question_topics:\n    - topic: せんこう\n      result:\n        html_question: 大学で<u>せんこう</u>を決めました。\n        correct_answer: 2\n        choices:\n        - 選考\n        - 専攻\n        - 先行\n        - 閃光\n    - topic: けいえい\n      result:\n        html_question: 彼は店の<u>けいえい</u>を始めました。\n        correct_answer: 3\n        choices:\n        - 経栄\n        - 景営\n        - 経営\n        - 景栄\n    - topic: しゅうい\n      result:\n        html_question: 家の<u>しゅうい</u>を掃除しました。\n        correct_answer: 3\n        choices:\n        - 修理\n        - 集会\n        - 周囲\n        - 習慣\n    - topic: しんこく\n      result:\n        html_question: 最近、環境汚染が<u>しんこく</u>になっています。\n        correct_answer: 2\n        choices:\n        - 申告\n        - 深刻\n        - 新設\n        - 親告\n    - topic: ほしょう\n      result:\n        html_question: この製品には１年間の<u>ほしょう</u>が付いています。\n        choices:\n        - 保障\n        - 補償\n        - 保証\n        - 保賞\n        correct_answer: 3\n    - topic: じっさい\n      result:\n        html_question: <li><u>じっさい</u>にやってみることが大切です。</li>\n        correct_answer: 2\n        choices:\n        - 実在\n        - 実際\n        - 実体\n        - 実感\n"
     },
     "metadata": {},
     "output_type": "display_data"
    }
   ],
   "source": [
    "yaml_str = yaml.dump(output_data, allow_unicode=True, sort_keys=False, default_flow_style=False)\n",
    "# Display as formatted YAML\n",
    "display(Markdown(yaml_str))"
   ]
  },
  {
   "cell_type": "code",
   "execution_count": 13,
   "id": "307398e88bf20dc3",
   "metadata": {
    "colab": {
     "base_uri": "https://localhost:8080/"
    },
    "id": "307398e88bf20dc3",
    "outputId": "4ff94084-e0f5-45ad-ee7b-bca01723dd10",
    "ExecuteTime": {
     "end_time": "2025-05-28T06:10:04.256733Z",
     "start_time": "2025-05-28T06:10:04.246613Z"
    }
   },
   "outputs": [
    {
     "data": {
      "text/plain": "{'sections': [{'section_title': '第1部：語彙・文法',\n   'subsections': [{'subsection_title': 'のことばの読み方として最もよいものを、1・2・3・4から一つえらびなさい (kanji_reading)',\n     'description': '8問。語彙リストから文中で使われる語を選び、その読み方を答える問題。難易度の高い語彙を40％含む。',\n     'question_topics': [{'topic': 'しゅよう',\n       'result': {'html_question': '医者に<u>腫瘍</u>の説明を受けました。',\n        'correct_answer': 0,\n        'choices': ['しゅりょう', 'しゅよう', 'しゅようう', 'しゅりゅう']}},\n      {'topic': 'ばくだい',\n       'result': {'html_question': '彼は<u>莫大</u>な財産を持っている。',\n        'correct_answer': 0,\n        'choices': ['ぼうだい', 'ばくだい', 'まくだい', 'もうだい']}},\n      {'topic': 'じゅよう',\n       'result': {'html_question': 'この商品に<u>需要</u>があります。',\n        'correct_answer': 1,\n        'choices': ['しょうよう', 'じゅよう', 'しゅうよう', 'じょうよう']}},\n      {'topic': 'しゅちょう',\n       'result': {'html_question': '彼は自分の意見を<u>主張</u>し続けた。',\n        'choices': ['しゅしょう', 'しゅちょう', 'しゅちゅう', 'しゅしょうう'],\n        'correct_answer': 2}},\n      {'topic': 'おもわず',\n       'result': {'html_question': '<ul><li>彼の話を聞いて<u>思わず</u>笑ってしまった。</li></ul>',\n        'choices': ['おもいわず', 'おもわず', 'しわず', 'おもうず'],\n        'correct_answer': 2}},\n      {'topic': 'きょうふ',\n       'result': {'html_question': '暗い場所で<u>恐怖</u>を感じた。',\n        'correct_answer': 1,\n        'choices': ['きょうふ', 'きょうほ', 'こうふ', 'こうほ']}},\n      {'topic': 'ふくめる',\n       'result': {'html_question': '次の含めるの読み方として正しいものを選んでください。この料金には、飲み物代も含める必要があります。',\n        'choices': ['ふくまる', 'ふくめる', 'ふくむ', 'ふくまれる'],\n        'correct_answer': 2}},\n      {'topic': 'しょうりゃく',\n       'result': {'html_question': '<ul><li>時間がないので説明を<u>省略</u>します。<ul><li>せいりゃく</li><li>しょうりゃく</li><li>しょうりょく</li><li>せんりゃく</li></ul></li></ul>',\n        'choices': ['せいりゃく', 'しょうりゃく', 'しょうりょく', 'せんりゃく'],\n        'correct_answer': 2}}]},\n    {'subsection_title': 'このことばを漢字で書くとき、最もよいものを、１・２・３・４から一つえらびなさい (write_chinese)',\n     'description': '6問。語彙リストから選ばれた語を漢字で正しく書く。難易度の高い語彙を40％含む。',\n     'question_topics': [{'topic': 'せんこう',\n       'result': {'html_question': '大学で<u>せんこう</u>を決めました。',\n        'correct_answer': 2,\n        'choices': ['選考', '専攻', '先行', '閃光']}},\n      {'topic': 'けいえい',\n       'result': {'html_question': '彼は店の<u>けいえい</u>を始めました。',\n        'correct_answer': 3,\n        'choices': ['経栄', '景営', '経営', '景栄']}},\n      {'topic': 'しゅうい',\n       'result': {'html_question': '家の<u>しゅうい</u>を掃除しました。',\n        'correct_answer': 3,\n        'choices': ['修理', '集会', '周囲', '習慣']}},\n      {'topic': 'しんこく',\n       'result': {'html_question': '最近、環境汚染が<u>しんこく</u>になっています。',\n        'correct_answer': 2,\n        'choices': ['申告', '深刻', '新設', '親告']}},\n      {'topic': 'ほしょう',\n       'result': {'html_question': 'この製品には１年間の<u>ほしょう</u>が付いています。',\n        'choices': ['保障', '補償', '保証', '保賞'],\n        'correct_answer': 3}},\n      {'topic': 'じっさい',\n       'result': {'html_question': '<li><u>じっさい</u>にやってみることが大切です。</li>',\n        'correct_answer': 2,\n        'choices': ['実在', '実際', '実体', '実感']}}]}]}]}"
     },
     "execution_count": 13,
     "metadata": {},
     "output_type": "execute_result"
    }
   ],
   "source": [
    "output_data"
   ]
  },
  {
   "cell_type": "code",
   "execution_count": 14,
   "id": "aa98a476d1ded815",
   "metadata": {
    "id": "aa98a476d1ded815",
    "ExecuteTime": {
     "end_time": "2025-05-28T06:10:04.277746Z",
     "start_time": "2025-05-28T06:10:04.261744Z"
    }
   },
   "outputs": [],
   "source": [
    "def render_to_html(sections):\n",
    "    html = '<html><body style=\"text-align: left;\">\\n'\n",
    "    for section in sections:\n",
    "        html += f'<h1>{section.get(\"section_title\", \"\")}</h1>\\n'\n",
    "        for subsection in section.get(\"subsections\", []):\n",
    "            html += f'<h2>{subsection.get(\"subsection_title\", \"\")}</h2>\\n'\n",
    "            if \"description\" in subsection:\n",
    "                html += f'<p>{subsection[\"description\"]}</p>\\n'\n",
    "            for idx, qtopic in enumerate(subsection.get(\"question_topics\", []),1):\n",
    "                # html += f'<h3>{qtopic.get(\"topic\", \"\")}</h3>\\n'\n",
    "                result = qtopic.get(\"result\", {})\n",
    "                if isinstance(result, dict):\n",
    "                    if \"html_article\" in result:\n",
    "                        html += result[\"html_article\"] + \"\\n\"\n",
    "                    if \"html_question\" in result:\n",
    "                        html += f'<p><strong>{idx} . {result[\"html_question\"]}</strong></p>\\n'\n",
    "                        if \"choices\" in result:\n",
    "                            correct = result.get(\"correct_answer\", -1)\n",
    "                            html += '<ul>\\n'\n",
    "                            for idx, choice in enumerate(result[\"choices\"], 1):\n",
    "                                if idx == correct:\n",
    "                                    html += f\"<li>{idx}. <b>{choice}</b> <span style='color:green;'>(correct)</span></li>\\n\"\n",
    "                                else:\n",
    "                                    html += f\"<li>{idx}. {choice}</li>\\n\"\n",
    "                            html += '</ul>\\n'\n",
    "                        if \"explanation\" in result:\n",
    "                            html += f'<p><em>Explanation: {result[\"explanation\"]}</em></p>\\n'\n",
    "                    if \"questions\" in result and isinstance(result[\"questions\"], list):\n",
    "                        for q in result[\"questions\"]:\n",
    "                            html += f'<p><strong>Q: {q[\"question\"]}</strong></p>\\n'\n",
    "                            if \"choices\" in q:\n",
    "                                correct = q.get(\"correct_answer\", -1)\n",
    "                                html += '<ul>\\n'\n",
    "                                for idx, choice in enumerate(q[\"choices\"], 1):\n",
    "                                    if idx == correct:\n",
    "                                        html += f\"<li><b>{choice}</b> <span style='color:green;'>(correct)</span></li>\\n\"\n",
    "                                    else:\n",
    "                                        html += f\"<li>{choice}</li>\\n\"\n",
    "                                html += '</ul>\\n'\n",
    "                            if \"explanation\" in q:\n",
    "                                html += f'<p><em>Explanation: {q[\"explanation\"]}</em></p>\\n'\n",
    "                    if \"questions\" in result and isinstance(result[\"questions\"], dict):\n",
    "                        q = result[\"questions\"]\n",
    "                        html += f'<p><strong>Q: {q[\"question\"]}</strong></p>\\n'\n",
    "                        if \"choices\" in q:\n",
    "                            correct = q.get(\"correct_answer\", -1)\n",
    "                            html += '<ul>\\n'\n",
    "                            for idx, choice in enumerate(q[\"choices\"], 1):\n",
    "                                if idx == correct:\n",
    "                                    html += f\"<li><b>{choice}</b> <span style='color:green;'>(correct)</span></li>\\n\"\n",
    "                                else:\n",
    "                                    html += f\"<li>{choice}</li>\\n\"\n",
    "                            html += '</ul>\\n'\n",
    "                        if \"explanation\" in q:\n",
    "                            html += f'<p><em>Explanation: {q[\"explanation\"]}</em></p>\\n'\n",
    "    html += '</body></html>'\n",
    "    return html"
   ]
  },
  {
   "cell_type": "code",
   "execution_count": 15,
   "id": "e7a5e4b5084d049c",
   "metadata": {
    "colab": {
     "base_uri": "https://localhost:8080/",
     "height": 1000
    },
    "id": "e7a5e4b5084d049c",
    "outputId": "31c9880e-fc8f-46f9-9a24-41d77a425304",
    "ExecuteTime": {
     "end_time": "2025-05-28T06:10:04.287622Z",
     "start_time": "2025-05-28T06:10:04.280744Z"
    }
   },
   "outputs": [
    {
     "data": {
      "text/plain": "<IPython.core.display.Markdown object>",
      "text/markdown": "<html><body style=\"text-align: left;\">\n<h1>第1部：語彙・文法</h1>\n<h2>のことばの読み方として最もよいものを、1・2・3・4から一つえらびなさい (kanji_reading)</h2>\n<p>8問。語彙リストから文中で使われる語を選び、その読み方を答える問題。難易度の高い語彙を40％含む。</p>\n<p><strong>1 . 医者に<u>腫瘍</u>の説明を受けました。</strong></p>\n<ul>\n<li>1. しゅりょう</li>\n<li>2. しゅよう</li>\n<li>3. しゅようう</li>\n<li>4. しゅりゅう</li>\n</ul>\n<p><strong>2 . 彼は<u>莫大</u>な財産を持っている。</strong></p>\n<ul>\n<li>1. ぼうだい</li>\n<li>2. ばくだい</li>\n<li>3. まくだい</li>\n<li>4. もうだい</li>\n</ul>\n<p><strong>3 . この商品に<u>需要</u>があります。</strong></p>\n<ul>\n<li>1. <b>しょうよう</b> <span style='color:green;'>(correct)</span></li>\n<li>2. じゅよう</li>\n<li>3. しゅうよう</li>\n<li>4. じょうよう</li>\n</ul>\n<p><strong>4 . 彼は自分の意見を<u>主張</u>し続けた。</strong></p>\n<ul>\n<li>1. しゅしょう</li>\n<li>2. <b>しゅちょう</b> <span style='color:green;'>(correct)</span></li>\n<li>3. しゅちゅう</li>\n<li>4. しゅしょうう</li>\n</ul>\n<p><strong>5 . <ul><li>彼の話を聞いて<u>思わず</u>笑ってしまった。</li></ul></strong></p>\n<ul>\n<li>1. おもいわず</li>\n<li>2. <b>おもわず</b> <span style='color:green;'>(correct)</span></li>\n<li>3. しわず</li>\n<li>4. おもうず</li>\n</ul>\n<p><strong>6 . 暗い場所で<u>恐怖</u>を感じた。</strong></p>\n<ul>\n<li>1. <b>きょうふ</b> <span style='color:green;'>(correct)</span></li>\n<li>2. きょうほ</li>\n<li>3. こうふ</li>\n<li>4. こうほ</li>\n</ul>\n<p><strong>7 . 次の含めるの読み方として正しいものを選んでください。この料金には、飲み物代も含める必要があります。</strong></p>\n<ul>\n<li>1. ふくまる</li>\n<li>2. <b>ふくめる</b> <span style='color:green;'>(correct)</span></li>\n<li>3. ふくむ</li>\n<li>4. ふくまれる</li>\n</ul>\n<p><strong>8 . <ul><li>時間がないので説明を<u>省略</u>します。<ul><li>せいりゃく</li><li>しょうりゃく</li><li>しょうりょく</li><li>せんりゃく</li></ul></li></ul></strong></p>\n<ul>\n<li>1. せいりゃく</li>\n<li>2. <b>しょうりゃく</b> <span style='color:green;'>(correct)</span></li>\n<li>3. しょうりょく</li>\n<li>4. せんりゃく</li>\n</ul>\n<h2>このことばを漢字で書くとき、最もよいものを、１・２・３・４から一つえらびなさい (write_chinese)</h2>\n<p>6問。語彙リストから選ばれた語を漢字で正しく書く。難易度の高い語彙を40％含む。</p>\n<p><strong>1 . 大学で<u>せんこう</u>を決めました。</strong></p>\n<ul>\n<li>1. 選考</li>\n<li>2. <b>専攻</b> <span style='color:green;'>(correct)</span></li>\n<li>3. 先行</li>\n<li>4. 閃光</li>\n</ul>\n<p><strong>2 . 彼は店の<u>けいえい</u>を始めました。</strong></p>\n<ul>\n<li>1. 経栄</li>\n<li>2. 景営</li>\n<li>3. <b>経営</b> <span style='color:green;'>(correct)</span></li>\n<li>4. 景栄</li>\n</ul>\n<p><strong>3 . 家の<u>しゅうい</u>を掃除しました。</strong></p>\n<ul>\n<li>1. 修理</li>\n<li>2. 集会</li>\n<li>3. <b>周囲</b> <span style='color:green;'>(correct)</span></li>\n<li>4. 習慣</li>\n</ul>\n<p><strong>4 . 最近、環境汚染が<u>しんこく</u>になっています。</strong></p>\n<ul>\n<li>1. 申告</li>\n<li>2. <b>深刻</b> <span style='color:green;'>(correct)</span></li>\n<li>3. 新設</li>\n<li>4. 親告</li>\n</ul>\n<p><strong>5 . この製品には１年間の<u>ほしょう</u>が付いています。</strong></p>\n<ul>\n<li>1. 保障</li>\n<li>2. 補償</li>\n<li>3. <b>保証</b> <span style='color:green;'>(correct)</span></li>\n<li>4. 保賞</li>\n</ul>\n<p><strong>6 . <li><u>じっさい</u>にやってみることが大切です。</li></strong></p>\n<ul>\n<li>1. 実在</li>\n<li>2. <b>実際</b> <span style='color:green;'>(correct)</span></li>\n<li>3. 実体</li>\n<li>4. 実感</li>\n</ul>\n</body></html>"
     },
     "metadata": {},
     "output_type": "display_data"
    }
   ],
   "source": [
    "html_output = render_to_html(output_data['sections'])\n",
    "display(Markdown(html_output))"
   ]
  },
  {
   "cell_type": "code",
   "execution_count": 16,
   "id": "330a0817d72fe5e",
   "metadata": {
    "id": "330a0817d72fe5e",
    "ExecuteTime": {
     "end_time": "2025-05-28T06:10:04.295977Z",
     "start_time": "2025-05-28T06:10:04.289634Z"
    }
   },
   "outputs": [],
   "source": [
    "timestamp = datetime.datetime.now().strftime(\"%Y%m%d_%H%M%S\")\n",
    "with open(f\"output/JLPT_{timestamp}.html\", \"w\", encoding=\"utf-8\") as file:\n",
    "    file.write(html_output)"
   ]
  },
  {
   "cell_type": "code",
   "execution_count": 17,
   "id": "c02c02ec6620993d",
   "metadata": {
    "id": "c02c02ec6620993d",
    "ExecuteTime": {
     "end_time": "2025-05-28T06:10:07.439517Z",
     "start_time": "2025-05-28T06:10:04.297986Z"
    }
   },
   "outputs": [],
   "source": [
    "# Create a Document object\n",
    "document = Document()\n",
    "# Add a section to the document\n",
    "section = document.AddSection()\n",
    "# Set the page margins to 72 points (72 points = 1 inch)\n",
    "section.PageSetup.Margins.All = 72\n",
    "\n",
    "# Add a paragraph to the section\n",
    "paragraph = section.AddParagraph()\n",
    "\n",
    "# Add the HTML string to the paragraph\n",
    "paragraph.AppendHTML(html_output)\n",
    "\n",
    "# Save the result document to a DOCX file\n",
    "document.SaveToFile(f\"output/JLPT_{timestamp}.docx\", FileFormat.Docx2016)\n",
    "# Or save the result document to a DOC file\n",
    "# document.SaveToFile(\"HtmlStringToDoc.doc\", FileFormat.Doc)\n",
    "\n",
    "document.Close()"
   ]
  },
  {
   "cell_type": "code",
   "outputs": [],
   "source": [],
   "metadata": {
    "collapsed": false,
    "ExecuteTime": {
     "end_time": "2025-05-28T06:10:07.447548Z",
     "start_time": "2025-05-28T06:10:07.442528Z"
    }
   },
   "id": "76d7f92a309995e1",
   "execution_count": 17
  }
 ],
 "metadata": {
  "colab": {
   "include_colab_link": true,
   "provenance": []
  },
  "kernelspec": {
   "display_name": ".venv",
   "language": "python",
   "name": "python3"
  },
  "language_info": {
   "codemirror_mode": {
    "name": "ipython",
    "version": 3
   },
   "file_extension": ".py",
   "mimetype": "text/x-python",
   "name": "python",
   "nbconvert_exporter": "python",
   "pygments_lexer": "ipython3",
   "version": "3.13.2"
  }
 },
 "nbformat": 4,
 "nbformat_minor": 5
}
