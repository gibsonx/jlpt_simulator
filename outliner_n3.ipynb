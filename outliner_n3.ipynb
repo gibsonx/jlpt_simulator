{
 "cells": [
  {
   "cell_type": "markdown",
   "id": "f94c1f8ee4d0b085",
   "metadata": {
    "colab_type": "text",
    "id": "view-in-github"
   },
   "source": [
    "<a href=\"https://colab.research.google.com/github/gibsonx/jlpt_simulator/blob/dev/graphs/n3/outliner.ipynb\" target=\"_parent\"><img src=\"https://colab.research.google.com/assets/colab-badge.svg\" alt=\"Open In Colab\"/></a>"
   ]
  },
  {
   "cell_type": "code",
   "execution_count": 16,
   "id": "712d86d2ae0847a0",
   "metadata": {
    "colab": {
     "base_uri": "https://localhost:8080/"
    },
    "id": "712d86d2ae0847a0",
    "outputId": "0b69e343-ba35-4773-acca-92da0492bdba",
    "ExecuteTime": {
     "end_time": "2025-05-27T02:24:23.538790Z",
     "start_time": "2025-05-27T02:24:23.532860Z"
    }
   },
   "outputs": [
    {
     "name": "stdout",
     "output_type": "stream",
     "text": [
      "Not running on CoLab\n"
     ]
    }
   ],
   "source": [
    "if 'google.colab' in str(get_ipython()):\n",
    "    !git clone https://github.com/gibsonx/jlpt_simulator.git\n",
    "    %cd jlpt_simulator\n",
    "    !git checkout dev\n",
    "    \n",
    "    !apt-get install python3-dev graphviz libgraphviz-dev pkg-config\n",
    "    !pip install -r requirements.txt\n",
    "else:\n",
    "  print('Not running on CoLab')\n"
   ]
  },
  {
   "cell_type": "code",
   "execution_count": 17,
   "id": "7f526a68a7e73a65",
   "metadata": {
    "colab": {
     "base_uri": "https://localhost:8080/"
    },
    "id": "7f526a68a7e73a65",
    "outputId": "e3e7c3a2-bde6-4f65-cf4c-8ddd97998d8f",
    "ExecuteTime": {
     "end_time": "2025-05-27T02:24:23.601136Z",
     "start_time": "2025-05-27T02:24:23.591395Z"
    }
   },
   "outputs": [
    {
     "data": {
      "text/plain": "True"
     },
     "execution_count": 17,
     "metadata": {},
     "output_type": "execute_result"
    }
   ],
   "source": [
    "\n",
    "import json\n",
    "import logging\n",
    "import random\n",
    "import time\n",
    "\n",
    "import pandas as pd\n",
    "import yaml\n",
    "from tqdm import tqdm\n",
    "\n",
    "# from langchain_community.embeddings import XinferenceEmbeddings\n",
    "from libs.LLMs import *\n",
    "\n",
    "logging.basicConfig(level=logging.INFO, format='%(asctime)s - %(levelname)s - %(message)s')\n",
    "\n",
    "from graphs.n3.ExamTaskHandler import ExamTaskHandler\n",
    "load_dotenv()"
   ]
  },
  {
   "cell_type": "code",
   "outputs": [],
   "source": [
    "def collect_vocabulary(file_path):\n",
    "    # Read the CSV file\n",
    "    data = pd.read_csv(file_path)\n",
    "    # Shuffle the rows and reset the index\n",
    "    words = data.iloc[:, :2].sample(frac=1).reset_index(drop=True)\n",
    "    # Extract the second column (values) and convert to a single-line string\n",
    "    vocab_string = ','.join(words.iloc[:, 1].astype(str).tolist())\n",
    "    return vocab_string"
   ],
   "metadata": {
    "collapsed": false,
    "ExecuteTime": {
     "end_time": "2025-05-27T02:24:23.610440Z",
     "start_time": "2025-05-27T02:24:23.606134Z"
    }
   },
   "id": "d159b3254277b376",
   "execution_count": 18
  },
  {
   "cell_type": "code",
   "execution_count": 19,
   "id": "initial_id",
   "metadata": {
    "id": "initial_id",
    "ExecuteTime": {
     "end_time": "2025-05-27T02:24:23.644097Z",
     "start_time": "2025-05-27T02:24:23.628438Z"
    }
   },
   "outputs": [],
   "source": [
    "# Import N3 Vocabulary\n",
    "file_path = 'Vocab/n3.csv'\n",
    "# Display the content of the CSV file\n",
    "vocab_dict = collect_vocabulary(file_path)\n",
    "with open(\"Vocab/topics.txt\", \"r\", encoding=\"utf-8\") as file:\n",
    "    topics_list = [line.strip() for line in file]"
   ]
  },
  {
   "cell_type": "code",
   "outputs": [
    {
     "data": {
      "text/plain": "'まんぞく,かんかく,けっしん,スキー,ぎん,さからう,けいこく,プラス,さんそ,しゅちょう,とう,きんにく,くりかえす,する,むく,ごみ,めんどう,わがまま,しかく,ほり,しつど,かてい,がっき,じき,な,せんしゅ,ちがいない,とう,え,はってん,もとづく,てんねん,れつ,ところが,まぜる,めいわく,たすける,せい,しゅうだん,ようい,ながれ,うらぎる,みごと,どりょく,へんか,あずける,しっけ,できごと,トップ,くむ,めんきょ,ためす,しぼう,けっこう,ひょうばん,はなす,げんしょう,さめる,はっぴょう,だまる,せつ,かた,はずす,ほう,いまにも,ひざ,なまける,わん,きのどく,かくじつ,せいき,たんに,かせぐ,やく,よごす,はいゆう,くつう,かく,もと,せめる,たまたま,いったい,しりあい,むだ,ごがく,もと,せつやく,いけない,やとう,さく,たいせん,してん,へる,げんじつ,うちゅう,おひる,ちえ,ビール,かたい,したがう,じんるい,おそらく,わずか,はね,ふで,チーズ,りょう,しはらう,じかに,きょうふ,むかえ,テント,たから,ますます,ひん,すませる,つい,かがやく,しゅうにゅう,うけとる,しき,りょうがえ,どうぞよろしく,たちば,まちがい,あんまり,しはい,きゅうそく,ひづけ,きんし,える,よみ,どういつ,あたたまる,さそう,さい,ことわざ,はんざい,はくぶつかん,あたたかい,じじつ,カー,ゆう,よせる,ヨット,ちゃ,ふ,えん,ちる,せい,さかり,まさか,こい,しんこく,せいき,し,きゅうけい,さる,きらう,ざいさん,きかい,かわる,まぶしい,けん,もしかすると,けんとう,のせる,つめる,こうほ,で,おおう,こうふく,クリーム,ひっこし,へらす,しょうにん,みとめる,きれ,さら,あいする,せいちょう,つうがく,かえる,きみ,しき,すむ,あける,ダイヤ,おせん,てき,たいし,にっこり,むちゅう,ウイスキー,かしこい,せいかく,はい,しぼう,しゅつじょう,そのうち,ぜん,きんちょう,よろしく (かん),よそく,せいふ,せいり,ヨーロッパ,うず,ばくだい,しんごう,へる,ふたたび,さんか,つく,ドラマ,とかい,しんせん,こくご,よのなか,きちょう,ちらす,けいこう,かける,あたり,くだる,きこう,せいぞう,いためる,かえる,ねったい,ちゃんと,おさめる,ただちに,まけ,いわう,ふじん,ふく,しんたい,ていこう,としつき,あいかわらず,かゆい,とおす,よぶん,ペンキ,うお,もくてき,およぎ,はつめい,てってい,うらやましい,こくもつ,ただ,つむ,しめす,そうぞく,ちゅうしょく,ざっと,まざる,きゅうに,やく,しあわせ,み,もしも,こえる,ふく,スイッチ,つらい,たびたび,だいとうりょう,げいじゅつ,おん,しきゅう,じょう,あたり,ぜんこく,かんしん,かてい,よなか,げき,なん,このむ,かぎる,し,センター,めいじる,ぶつける,はなれる,たて,がいこう,たたかい,だけど,かわ,パスポート,すみません (かん),メンバー,たつ,おうじる,がく,たった,たいじゅう,とじる,い,いどう,いま,てつどう,であい,のぞむ,こっせつ,うつ,ふへい,とじる,かぶる,きゅうそく,どうよう,つぐ,うつる,かん,ゆるす,けっかん,こんざつ,けいゆ,あらわれ,しょく,きたい,けい,それぞれ,うん,つばさ,にぎる,たしょう,しな,おか,つける,しんがく,そう,ちほう,きく,じしん,いちば,あたる,れっしゃ,かえる,こんやく,かつどう,あげる,めいれい,よあけ,こうこく,じっと,もうしこむ,し,しよう,せんでん,たっする,たい,あう,えがお,いき,かえす,いっそう,おとる,やね,もんじ,はじまり,にっぽん,かん,おだやか,うばう,ソファー,ひょう,しょうがい,とめる,じき,くん,きょうじゅ,としより,ぶつり,どうし,かし,たいほ,スター,てきよう,ゆうしょう,だって,うめ,きんせん,しんこう,いかり,たんご,せんざい,めいし,ねんかん,きゅうりょう,おき,しゅしょう,ごうか,なお,くだ,たいき,おもに,しょう,ほんもの,そうさ,ぶっか,よろこび,じょうきゃく,がっき,いた,かし,つく,ほぞん,ふあん,ふうふ,たにん,せいめい,か,ばいう,うなる,ふやす,こえる,こうはい,あいじょう,ゆうのう,プラン,くやしい,しょうぼう,がくもん,よん,じき,うたがう,うつ,とく,つうこう,あな,ずつう,ほうそう,さます,ます,おさめる,えん,むかい,のうみん,ていしゅつ,ぶんせき,せいぶつ,ほほ,べつに,じんこう,じゅうよう,さけ,あいにく,われわれ,くさり,じき,ほとけ,あぶら,ほしょう,どく,しゃべる,ふせい,かくれる,しゅうり,ちいき,えいせい,みらい,ほえる,しょうりゃく,たいりく,いきおい,じつに,ほんにん,ためし,まったく,まぜる,いっぱん,さいてい,げきじょう,いっち,いちどに,ほのお,あたえる,きみょう,ちょくせつ,しょくりょう,かわ,そんちょう,いち,たっぷり,けいい,やくす,かんり,もの,へい,つたわる,はね,たま,みやこ,エンジン,きゅうじょ,ついに,たいくつ,はえる,うしなう,ひひょう,がっかり,ほうこう,おうさま,いいん,はく,じっし,しんけん,やくわり,にっこう,スケート,しょうじる,はかる,はなれる,てんけい,けんこう,しんけい,てま,かみのけ,トンネル,ひろげる,だく,なかば,ホーム,きよう,かく,さんこう,さっきょく,びょうどう,そう,さっぱり,よう,しょう,けいじ,こんご,そまつ,ふち,しゅじゅつ,いんさつ,こうへい,のぞむ,けつえき,そう,へんこう,びみょう,なか,こい,けいやく,せつび,ひろまる,クリスマス,そなえる,おうえん,ルール,わだい,まる,こや,ししゅつ,かさい,かん,しんこく,じょし,ごかい,めったに,いどう,りゅうがく,うむ,そんざい,かかえる,りこう,きょうかしょ,ごうけい,むしば,がくしゃ,ひとり,とうじ,それとも,きずく,まいご,さいちゅう,もよう,まく,きんがく,なぜなら,にんき,ながす,たいはん,はなしあう,ながめる,じつりょく,だいめい,くらし,ちゅうもん,いや,ぜんたい,でんし,せいねん,ぜい,しんちょう,コーチ,のべる,ころす,かん,のぼる,かげ,のる,あたためる,とばす,せいど,しょるい,アイスクリーム,じたい,たより,データ,デート,じゅうし,かんする,おしゃべり,いわい,わける,はっけん,ゆうき,じけん,しょめい,れい,はかる,ほお,くらす,えいえん,くべつ,さます,より,ドレス,きぼう,する,プロ,じょし,まかせる,そうぞう,むし,かんじょう,できれば,めくる,しゃっきん,なにも,トン,ようそ,ゆいいつ,うむ,のぼる,かかる,ね,えさ,しつぎょう,とりあげる,はっしゃ,かんそう,キャプテン,けん,ねんかん,みかける,へいきん,ぜったい,おたがい,ふせぐ,やぶる,おえる,やど,こじん,びん,すべて,すむ,ただ,はやる,くわえる,みょう,だいきん,ショック,ね,ちへいせん,しかも,きゅうしゅう,けいき,こと,さす,ジェットき,とうぜん,かみ,あらそう,けいじ,ユーモア,とうひょう,とうよう,しばい,せいさん,ちか,ぎむ,あんてい,さっか,のぞく,ふれる,ろんそう,しゅっしん,はかる,しゅだん,みつ,かんげい,こいびと,のう,あぶら,しぜん,さいしゅう,まく,ちかごろ,きんぞく,イメージ,たかめる,ベルト,あわせる,かつやく,れんそう,さす,いりょう,ひとごみ,そうとう,きし,たしか,ぬらす,ロケット,ながれる,さつ,ひみつ,ビデオ,ねんれい,きせい,おくる,ぶんや,わん,きげん,まる,どうとく,こんかい,とし,うれる,かたる,げんじょう,いっしゅ,さめる,うわ,こうしゃ,きつい,とつぜん,かいしゃく,スケジュール,もどす,しんぞう,びじん,ゆうこう,じゅうたい,まるで,まとまる,あかり,おび,つうきん,ふと,めし,とう,しょくりょう,たたかう,あたためる,い,しゅと,かさなる,いっしょう,まえもって,まつ,ぜん,かり,よこぎる,がん,こうくう,しるし,はいたつ,ぶ,けんぽう,じゅうみん,かもく,ひとこと,デザイン,かえる,さ,ごめんなさい,ぴったり,わかれる,せいり,ならす,なにか,てきど,ひょう,じゅよう,おく,こうはい,しゅうしょく,ふかまる,おおや,しめる,マイク,おに,ぼう,こうしゃ,ほほえむ,きかん,ことなる,グループ,たがい,あてる,おうじ,せんきょ,じじょう,ちのう,ひよう,たいする,やや,かのう,ほうせき,ごうとう,そくど,あいて,しょうめい,めいし,こっきょう,ふんいき,ひたい,かつよう,ぶぶん,ちょしゃ,かる,さかい,しんせき,スタイル,はん,ちがい,いらい,たとえ,きまり,いたみ,まち,しょうじき,さいのう,ぐうぜん,これら,ふだん,けいえい,かがく,くるしむ,こくふく,なぐる,りかい,うめる,さく,こおり,むりょう,こうげき,くだり,あらわす,かんじょう,サイン,めうえ,じゅうだい,ようき,よい,めんせつ,せんじつ,だいひょう,とい,つける,こくばん,オフィス,うごかす,かわ,そこで,ふくむ,おくれ,じょじょに,あらた,たね,たま,れい,きず,とざん,いらい,よさん,ざいりょう,てつだい,さんせい,がい,いぜん,きり,いったい,せんこう,マスコミ,ふこう,どうろ,わ,すれちがう,かよう,ゆうじん,こな,じつげん,きょだい,よわめる,ほっと,そのまま,おう,あきらめる,しろ,インク,ふり,ねんだい,ゆうき,マイナス,ふかめる,しゅうかく,かい,こうどう,かたな,したがって,どろ,まずしい,かんれん,れいせい,ばか,ぶんめい,あやまり,おしゃれ,ね,はら,さくひん,しゅんかん,はんせい,たつ,ふじゆう,すすめる,じょうし,うまれ,きょうちょう,りそう,ならす,せきゆ,かおり,だんし,かんじゃ,おう,せき,ける,じっこう,つみ,こっか,かいけい,まねく,ていど,そそぐ,ゆか,たしかめる,かぶ,りく,なぞ,つかれ,きぎょう,きり,うし,くわえる,かいいん,おい,ひとしい,ぎかい,せんこう,のびる,せいちょう,したしい,グランド,バイオリン,けんちく,もと,かみ,もやす,かさねる,きゅうか,こしょう,から,すうじ,うま,つゆ,かこむ,さす,ちょうき,かんせい,さばく,のぞく,ぎょうぎ,まめ,にち,こうそく,さけぶ,げんば,きん,きにいる,いのち,あんがい,こうえん,あたたまる,つうしん,はんい,いりょう,ふえ,もえる,なんとか,ぶき,かいごう,かいぜん,ためる,てんこう,でんとう,きゅう,こぼれる,かんぜん,かわかす,ちりょう,かかく,すいせん,せいこう,おこる,くるしい,くさる,どうじ,いつでも,つまり,にゅうじょう,けんさ,くわしい,く,はい,まもる,なべ,ぶじ,けい,かず,つむ,よる,つく,おもいつく,インタビュー,みる,いまに,じたい,なかみ,じゅう,かくにん,ひこう,とく,おさない,はく,ろんじる,かぐ,いんたい,かならずしも,たいした,あちこち,ゆうびん,しきりに,ぐたい,ひも,かく,ほぼ,あせ,つち,じょうとう,くろう,ようきゅう,おとこのひと,かいがい,はら,なみ,やちん,たい,かんがえ,きおく,とける,ぶたい,おさえる,てんこう,ばったり,わらい,だいぶぶん,うわさ,ハイキング,ぼうけん,かわいらしい,じょし,ですから,た,ちこく,とくちょう,きげん,きげん,ドライブ,すごす,ふやす,ほどう,どんなに,はい,ぬける,ぜんいん,じょう,おもいで,かく,どうしても,こんにちは,めいじん,かんどう,はん,ラケット,いじょう,はんにん,けいい,すくう,くわわる,ぐんたい,やとう,はなす,ひてい,しまった (かん),はり,たいおん,かわく,チャンス,かける,せっきょくてき,せいしき,ものごと,ちきゅう,どくしん,ノー,ほご,かんきょう,ほうほう,かんせい,ちゅう,そん,パス,じゅう,はんだん,なみだ,がく,けしょう,コード,はんばい,こうせい,たに,にっちゅう,つり,そして,もっとも,しんさつ,おん,そで,およそ,こうりょ,けいたい,さく,しまい,はぶく,ほうぼう,しょうめい,つきあう,ひ,ふくそう,ささる,トラック,いずみ,ながめ,きかん,こうけい,ちゅうがく,いとこ,そうち,ちょうし,かんこう,しんちょう,マッサージ,ぜん,たおす,じっけん,こぜに,すいみん,いたる,みかた,おう,たいしょう,とにかく,うったえる,かんそう,かいふく,こんなに,とち,ぐん,するどい,せいこう,そっくり,たんなる,しめる,バランス,しらせ,せいめい,げんしょう,けんかい,よほう,ひとりひとり,つよまる,ふたご,ようび,けち,じんしゅ,まあ,きおん,パイプ,あきる,いしき,きのう,のき,いじわる,いねむり,か,タイプライター,かける,だいり,けんとう,すすめる,さる,きょうりょく,じこ,けってい,びょう,じょうたい,つもる,なみ,あてる,あい,つぎつぎ,どうし,せいしん,きんし,だます,たんじゅん,きづく,そば,べんとう,たいど,く,した,なかま,たく,ていあん,ちく,つながる,ことによると,はげしい,ふくめる,ようき,もとめる,ぜんしん,もちあげる,おさめる,じっさい,ほうふ,さばく,しょうたい,あるいは,こじん,そんがい,い,しよう,しかく,つかまる,ば,おろす,ほり,れんぞく,おしえ,たいかい,いとこ,じゅうたく,ぶっしつ,ほんと,すじ,つうか,しんこう,まんいち,とめる,はか,ほこり,くむ,セット,いんよう,なんで,ひはん,だい,しゅう,わき,えんぎ,ようじん,ひろめる,しげき,うがい,ぼんやり,まさに,しゅうしょく,であう,やっかい,ふし,おぼれる,さらに,さく,はたらき,きかい,せいしつ,ぞう,しゅう,はくしゅ,わく,まざる,まご,こす,つぐ,ごく,じゅうたい,おろす,タオル,きこう,つづき,ちちおや,むす,かね,ふる,かだい,スープ,つなぐ,いわ,なんでも,かみ,たたく,はさみ,あいず,おとなしい,だが,ピクニック,さける,じんぶつ,しょうがくきん,せいじん,しんり,たんじょう,せいぜい,むね,たく,ぎし,まなぶ,いっぽう,わかれ,ろうどう,りょう,ねんげつ,どうか,まね,じょゆう,ぶん,ありがとう,つれ,へいわ,なわ,いらいら,ひっし,しんこう,きょか,わる,ささえる,しょうひん,せいねん,たんい,ちょうさ,じょうしき,そうぞう,こうかい,くむ,ブレーキ,のち,そう,のこす,せつ,めん,ようてん,ちょきん,の,かいし,おんだん,トランプ,せいげん,しょうがい,げんざい,せいめい,かち,ほう,なっとく,いじ,おまえ,しょうひ,ふり,はで,かんこう,えんき,まじる,さぎょう,かんじ,とう,かいけつ,そっと,のびる,しゅう,しつ,きんゆう,ハンサム,らい～,しんぽ,ぬの,にほん,あわ,すてき,ほね,しゅよう,しじん,ぶつ,じこく,つかむ,はずれる,メモ,しょうじょう,ふうけい,おどろき,きたい,かわいそう,じょうきょう,てつや,せいきゅう,じょうけん,デザート,きゅう,マスター,きちんと,まつり,あずかる,とうさん,かなり,しんこう,どうし,おろす,ひがい,すみ,はかる,さまざま,おめでとう,のう,チャイム,きねん,とんでもない,ちゅう,そうじゅう,なま,じょうたつ,ずれる,あつまり,さくら,よき,かたづけ,ばっする,たいら,くみあい,つねに,かっき,とくちょう,かしゅ,きたく,どうよう,いがい,さいわい,ま,しょうねん,ママ,ぶつかる,かもしれない,うつる,とたん,エネルギー,はっこう,ばめん,いずれ,たたむ,やく,あくしゅ,たいいく,りつ,しゅうきょう,ものがたり,しょり,ず,デモ,けっせき,たいしょう,よ,じどう,ごうかく,こくせき,ほうもん,いき,おじぎ,かくだい,まく,あらし,かんきゃく,せいかく,はかる,かげん,たいがく,こっかい,おそれる,ざせき,さす,あらわす,アウト,じまん,アンケート,むく,つよめる,しょもつ,ほしょう,きゅう,こうさい,けんり,せんこう,すっぱい,やがて,わく,うんてん,しょうにん,ぜんしん,ひょうめん,びん,バッグ,おそわる,ぐっすり,のばす,いき,よ,ひょうじょう,あらゆる,すみ,つつみ,クラシック,ベンチ,ボーイ,いし,スピーチ,あげる,きんえん,さほう,いち,さいしゅう,めいかく,しよう,から,ひげき,あらわれる,ちょうせん,ねずみ,すえ,けいたい,いらっしゃい,ちい,とびだす,いたずら,かう,ゆうこう,のぞみ,ただ,じょおう,ちゅうこ,あんなに,がくしゅう,ふまん,うさぎ,む,みおくり,まつ,しげん,むける,アップ,はかせ,がか,こきゅう,のうか,はん,さす,お,ご,こうけん,きしゃ,ほうこく,かんりょう,はったつ,かんりょう,かぐ,うっかり,げんご,はだ,かげ,そろう,きろく,こきょう,てじな,かんとく,けっきょく,しゅうせい,いっしゅん,さける,そのうえ,ちゅうしゃ,つとめ,とも,だん,しょくたく,かくす,しゅうい,コンテスト,せめる,わた,まっか,どく,しり,げんかい,おる,ひこう,さくもつ,ゆき,ノック,つうじる,さいこう,すいじゅん,ころぶ,もうふ,しょくぎょう,そんけい,みちる,ねっちゅう,てきする,わざと,けむり,のせる,そしき,はたけ,しだい,ねんじゅう,くんれん,プラスチック,およぼす,きにゅう,レベル,こくみん,たば,けってん,たび,しゅっぱん,じゅんちょう,パーセント,なくす,まく,のうぎょう,こうか,しょくよく,もくひょう,いじ,ちょうだい,かく,ぎろん,しきゅう,あくま,たとえ,しょくひん,ろんぶん,あく,はえる,ここ,せっけい,せいねんがっぴ,ケース,すなわち,せいせき,かご,とれる,ふそく,たいざい,そうおん,せけん,ワイン,たんとう,せい,ぐん,こうそく,よゆう,たび,ご,しそう,ところで,ぎもん,きょうぎ,きふ,すがた,えいきょう,ちゅうもく,め,えがく,しどう,はあ (かん),すくなくとも,くう,むしあつい,なし,きかん,しはらい,ダンス,た,せいけつ,きょうどう,かたがた,ピン,わるくち,ほこり,こうかん,すう,おそろしい,きかん,ぶ,まじる,しも,ひ,くせ,おめにかかる,ねがい,きょうぎ,おもわず,えいぎょう,きゅうげき,しずむ,こづつみ,タイトル,たま,いきもの,つゆ,と,おおいに,じみ,えんそう,すいせん,いちじ,かぞえる,ほしょう,また,すでに,ボール,ジーンズ,いわば,あら,ひっぱる,ていき,しんよう,ぞう,こうふく,あきらか,ダウン,きょうじゅ,であい,しょさい,いだく,こんにち,いつのまにか,はさん,けつろん,あん,とうあん,のばす,ゆうしゅう,でんごん,ぶ,なれる,くらい,あと,いぜん,だんたい,とける,もうしわけ,してん,トレーニング,ひじょう,しょうじょ,ならす,にんげん,くみ,ていでん,メッセージ,とく,はし,キャンプ,きじ,ボート,がくれき,きょく,しゅるい,はば,がいしゅつ,りえき,しょくぶつ,こううん,きょうつう,ともに,つぐ,かた,むしろ,よめ,しんじる,つぐ,しょうひん,たま,ないよう,ろうじん,しゅぎ,とおりすぎる,カード,ゆずる,そなえる,スタンド,ごく,こす,いつか,ことわる,す,しんり,やぶれる,あわれ,ばくはつ,いね,さべつ,よわまる,けいき,あわてる,はた,きん,のんびり,おうだん,ふじん,てつ,くれ,なやむ,きじ,もったいない,つなげる,たちあがる,がまん,ゲーム,いただきます,ライター,きょうりょく,おんど,ぜいたく,じどう,はっしゃ,かんこう,みやげ,とどく,まとめる,しも,いだい,だいじん,げんきん,けんせつ,どうよう,それでも,かいてき,ラベル,しんゆう,なる,ゆたか,マーケット,しゅふ,いいん,おいつく,じゅんばん,のこり,さゆう,としょ,しょうご,ぞうか,たまらない,ひょうか,ふか,よそう,かみなり,ふくろ,かざり,りこん,じょうきょう,げんだい,ゆうじょう,こし,たすかる,ちゅうしん,もちいる,ちょうじょう,よす,えいきゅう,せきにん,まく,ふしぎ,ちゅうし,ゴール,がら,かり,ものおと,ふつう,にあう,たまる,ミス,はやす,かち,たび,ゆかい,こぼす,りょうきん,かかり,せんたく,さく,チーム,ある,とも,しょうとつ,こうば,きょうきゅう,ストレス,けっか,きほん,げ,ぎゃく,さんせい,こおる,ぶん,みょうごにち,こむぎ,きれる,あらわす,グラス,ははおや,ぎいん,みりょく,かたい,せきたん,いふく,ていりゅうじょ,つうやく,むすぶ,らく,しつぼう,たいよう,ぎちょう,こうかい,そうさ,ぐん,あんき,たく,わん,じょうだん,けいさん,まよう,このみ,ちしき,そろえる,とら,きょうちょう,かてい,つうか,ねがう,れいぎ,だい,なかみ,サービス,しんらい,かんさつ,さんか,にえる,すこしも,なる,ほか,ひょうげん,それと,かんかく,かなしむ,たかまる,かんしゃ,どくしょ,いわゆる,しかく,どうりょう,する,かんしん,いためる,ち,パイロット,ぬく,つとめ,あたりまえ,ゆうり,ひやす,はだか,ひかく,しんぱん,じょしゅ,よぼう,しゅくはく,けん,かこ,きんこ,アルバム,どくとく,こんなん,せいひん,ミルク,はんこう,ようするに,いし,てつがく,ずっと,ふるえる,うつす,うまる,ちゅうおう,れいがい,どこか,さて,どくりつ,しほん,きゅうりょう,こうえん,たつ,あつかう,いっか,ジュース,こうか,じんせい,きんだい,めん,こうふん,とくい,やめる,いんしょう,てきせつ,ぜつめつ,いし,しょくもつ,ひろがる,しばふ,こうせい,えんじょ,かたづく,しょうばい,しょうしょう,もじ,かね,にちじょう,もんく,えいよう,つきあい,あき,ようす,ゆでる,のうりょく,せい,しゅうちゅう,いはん,とうちゃく,そだつ,かんじる,こんらん,かいが,ぜいきん,さいばん,じつは,そこ,ぜん,しょう,みまい,けっかん,じゅん,にがて,ある,こうか,えんぜつ,いつまでも,りゅうこう,す,しばしば,くるう,たよる,しぼう,じさつ,かくご,かじ,ちじ,か,かく,ぜんしゃ,じょうほう,み,くさい,すぐれる,うる,せい,けいき,にる'"
     },
     "execution_count": 20,
     "metadata": {},
     "output_type": "execute_result"
    }
   ],
   "source": [
    "vocab_dict"
   ],
   "metadata": {
    "collapsed": false,
    "ExecuteTime": {
     "end_time": "2025-05-27T02:24:23.679840Z",
     "start_time": "2025-05-27T02:24:23.674432Z"
    }
   },
   "id": "b8190757154161de",
   "execution_count": 20
  },
  {
   "cell_type": "markdown",
   "id": "4c1cdce8b1f57ef3",
   "metadata": {
    "collapsed": false,
    "id": "4c1cdce8b1f57ef3"
   },
   "source": [
    "#### load Models"
   ]
  },
  {
   "cell_type": "code",
   "execution_count": 21,
   "id": "e339295a858fb5f8",
   "metadata": {
    "id": "e339295a858fb5f8",
    "ExecuteTime": {
     "end_time": "2025-05-27T02:24:23.696064Z",
     "start_time": "2025-05-27T02:24:23.689975Z"
    }
   },
   "outputs": [],
   "source": [
    "from typing import List, Optional\n",
    "\n",
    "from langchain_core.prompts import ChatPromptTemplate\n",
    "\n",
    "from pydantic import BaseModel, Field\n",
    "\n",
    "# instruction = \"\"\"\n",
    "# Section 1: Vocabulary and Grammar\n",
    "# - Kanji reading (kanji_reading): 8 questions\n",
    "# - Write Chinese characters (write_chinese): 6 questions\n",
    "# - Word Meaning Selection (word_meaning): 11 questions\n",
    "# - Synonyms substitution (synonym_substitution): 5 questions\n",
    "# - word usage (word_usage): 5 questions\n",
    "# - Grammar fill in the blank (sentence_grammar): 13 questions\n",
    "# - Sentence sorting (sentence_sort): 5 questions\n",
    "# - Grammar structure selection (sentence_structure): 4-5 questions\n",
    "#\n",
    "# Section 2: Reading Comprehension\n",
    "# - Short passages (short_passage_read): 4 articles\n",
    "# - Mid-size passages (midsize_passage_read): 2 articles\n",
    "# - Long passages (long_passage_read): 1 articles\n",
    "# - Information retrieval (info_retrieval): 1 articles\n",
    "#\n",
    "# Section 3: Listening Comprehension\n",
    "# - Topic understanding (topic_understanding): 6 questions\n",
    "# - Key understanding (keypoint_understanding): 6 questions\n",
    "# - Summary understanding (summary_understanding): 3 questions\n",
    "# - Active expression (active_expression): 4 questions\n",
    "# - Immediate acknowledgment (immediate_ack): 9 questions\n",
    "# \"\"\"\n",
    "\n",
    "instruction = \"\"\"\n",
    "Section 1: Vocabulary and Grammar\n",
    "- Kanji reading (kanji_reading): 8 questions\n",
    "\n",
    "Section 2: Reading Comprehension\n",
    "- Information retrieval (info_retrieval): 0 articles\n",
    "\n",
    "Section 3: Listening Comprehension\n",
    "- Topic understanding (topic_understanding): 0 questions\n",
    "\n",
    "\"\"\"\n",
    "\n",
    "\n",
    "direct_gen_outline_prompt = ChatPromptTemplate.from_messages(\n",
    "    [\n",
    "        (\n",
    "            \"system\",\n",
    "            f\"You are a japanese teacher. Your job is to write an outline for a JLPT Japanese-Language Proficiency Test N3 level exam paper. The words in outline must be presented in Japanese only. The complexity should be restricted to N3 level and respect japanese culture. The JLPT Japanese-Language Proficiency Test exam paper includes a mix of easy, moderate, and difficult questions to accurately assess the test-taker's proficiency across different aspects of the language.\"\n",
    "            f\"First,  randomly pick Japanese words in 'Vocabulary' for questions in Vocabulary and Grammar. At Section 2 and 3, randomly choose topics in 'TopicList' for Reading Comprehension and Listening Comprehension Sections, don't repeat to choose a same word or topic\"\n",
    "            f\"Second, you should abide by the provided exam instruction and decide the number of questions and content in the each Section.\"\n",
    "            f\"Finally, write the outline of the examination paper in japanese and provide question topics according to the instructions.\"\n",
    "            f\"Instruction: {instruction}\",\n",
    "        ),\n",
    "        (\"user\", \"TopicList: {topic_list}, Vocabulary: {vocab_dict}\"),\n",
    "    ]\n",
    ")\n"
   ]
  },
  {
   "cell_type": "markdown",
   "id": "fed5f032dadafac1",
   "metadata": {
    "collapsed": false,
    "id": "fed5f032dadafac1"
   },
   "source": [
    "## Data Strcuture"
   ]
  },
  {
   "cell_type": "code",
   "execution_count": 22,
   "id": "39329a71b16d2400",
   "metadata": {
    "id": "39329a71b16d2400",
    "ExecuteTime": {
     "end_time": "2025-05-27T02:24:23.719809Z",
     "start_time": "2025-05-27T02:24:23.708480Z"
    }
   },
   "outputs": [],
   "source": [
    "class QuestionTopic(BaseModel):\n",
    "    topic: str = Field(..., title=\"a vocabulary or topic hint for a question\")\n",
    "\n",
    "\n",
    "class Subsection(BaseModel):\n",
    "    subsection_title: str = Field(..., title=\"subsection English word in () only from the instruction\")\n",
    "    description: str = Field(..., title=\"giving the number of questions and requirements\")\n",
    "    question_topics: Optional[List[QuestionTopic]] = Field(\n",
    "        default_factory=list\n",
    "    )\n",
    "\n",
    "    @property\n",
    "    def as_str(self) -> str:\n",
    "        question_topics_str = \"\\n\".join(\n",
    "            f\"- **{qt.topic}**\" for qt in self.question_topics\n",
    "        )\n",
    "        return f\"### {self.subsection_title}\\n\\n{self.description}\\n\\n{question_topics_str}\".strip()\n",
    "\n",
    "class Section(BaseModel):\n",
    "    section_title: str = Field(..., title=\"Title of the section\")\n",
    "    subsections: Optional[List[Subsection]] = Field(\n",
    "        default_factory=list,\n",
    "        title=\"Titles and reason for each subsection of the JLPT exam page.\",\n",
    "    )\n",
    "\n",
    "    @property\n",
    "    def as_str(self) -> str:\n",
    "        subsections = \"\\n\\n\".join(\n",
    "            subsection.as_str for subsection in self.subsections or []\n",
    "        )\n",
    "        return f\"## {self.section_title}\\n\\n{subsections}\".strip()\n",
    "\n",
    "\n",
    "class Outline(BaseModel):\n",
    "    page_title: str = Field(..., title=\"Title of the JLPT exam page\")\n",
    "    sections: List[Section] = Field(\n",
    "        default_factory=list,\n",
    "        title=\"Titles and descriptions for each section of the JLPT exam paper.\",\n",
    "    )\n",
    "\n",
    "    @property\n",
    "    def as_str(self) -> str:\n",
    "        sections = \"\\n\\n\".join(section.as_str for section in self.sections)\n",
    "        return f\"# {self.page_title}\\n\\n{sections}\".strip()\n"
   ]
  },
  {
   "cell_type": "code",
   "execution_count": 23,
   "id": "d0730de416980c6",
   "metadata": {
    "id": "d0730de416980c6",
    "ExecuteTime": {
     "end_time": "2025-05-27T02:24:23.744507Z",
     "start_time": "2025-05-27T02:24:23.739818Z"
    }
   },
   "outputs": [],
   "source": [
    "# Read the topics from a file, sort them, and print the sorted list\n",
    "def process_topics(file_path):\n",
    "    try:\n",
    "        # Read the file\n",
    "        with open(file_path, 'r', encoding='utf-8') as file:\n",
    "            topics = file.readlines()\n",
    "\n",
    "        # Remove any extra whitespace or newline characters\n",
    "        topics = [topic.strip() for topic in topics if topic.strip()]\n",
    "\n",
    "        # Shuffle the topics randomly\n",
    "        random.shuffle(topics)\n",
    "\n",
    "    except FileNotFoundError:\n",
    "        print(\"The file was not found. Please check the file path.\")\n",
    "    except Exception as e:\n",
    "        print(\"An error occurred:\", str(e))\n",
    "\n",
    "    except FileNotFoundError:\n",
    "        print(\"The file was not found. Please check the file path.\")\n",
    "    except Exception as e:\n",
    "        print(\"An error occurred:\", str(e))"
   ]
  },
  {
   "cell_type": "code",
   "execution_count": 24,
   "id": "8fc17fee14c40716",
   "metadata": {
    "id": "8fc17fee14c40716",
    "ExecuteTime": {
     "end_time": "2025-05-27T02:24:27.539055Z",
     "start_time": "2025-05-27T02:24:23.755581Z"
    }
   },
   "outputs": [
    {
     "name": "stderr",
     "output_type": "stream",
     "text": [
      "2025-05-27 10:24:27,526 - INFO - HTTP Request: POST https://ai-rolandaws880125ai409947751408.openai.azure.com/openai/deployments/gpt-4.1/chat/completions?api-version=2025-01-01-preview \"HTTP/1.1 200 OK\"\n"
     ]
    }
   ],
   "source": [
    "# Preload all topics from the file\n",
    "with open(\"Vocab/topics.txt\", \"r\", encoding=\"utf-8\") as file:\n",
    "    topics_list = [line.strip() for line in file]\n",
    "\n",
    "generate_outline_direct = direct_gen_outline_prompt | azure_llm.with_structured_output(Outline)\n",
    "initial_outline = generate_outline_direct.invoke({\"topic_list\": topics_list, \"vocab_dict\": vocab_dict})"
   ]
  },
  {
   "cell_type": "code",
   "execution_count": 25,
   "id": "d53b7d9ff86a5377",
   "metadata": {
    "colab": {
     "base_uri": "https://localhost:8080/",
     "height": 1000
    },
    "id": "d53b7d9ff86a5377",
    "outputId": "0e4ce018-377a-48d5-9b87-bed3eac897ac",
    "ExecuteTime": {
     "end_time": "2025-05-27T02:24:27.548870Z",
     "start_time": "2025-05-27T02:24:27.542216Z"
    }
   },
   "outputs": [
    {
     "data": {
      "text/plain": "<IPython.core.display.Markdown object>",
      "text/markdown": "# 日本語能力試験N3 模擬試験 問題用紙\n\n## 第1部　語彙・文法\n\n### 漢字読み (kanji_reading)\n\n8問。与えられた漢字の読みをひらがなで答えなさい。\n\n- **満足**\n- **繰り返す**\n- **筋肉**\n- **努力**\n- **選手**\n- **現象**\n- **助ける**\n- **情報**"
     },
     "metadata": {},
     "output_type": "display_data"
    }
   ],
   "source": [
    "from IPython.display import display, Markdown\n",
    "\n",
    "display(Markdown(initial_outline.as_str))"
   ]
  },
  {
   "cell_type": "code",
   "execution_count": 26,
   "id": "5c2b7e675e5302a8",
   "metadata": {
    "colab": {
     "base_uri": "https://localhost:8080/"
    },
    "id": "5c2b7e675e5302a8",
    "outputId": "657ff47f-94af-4bd5-8035-03239fd42380",
    "ExecuteTime": {
     "end_time": "2025-05-27T02:26:31.079466Z",
     "start_time": "2025-05-27T02:24:27.550985Z"
    }
   },
   "outputs": [
    {
     "name": "stderr",
     "output_type": "stream",
     "text": [
      "Processing 第1部　語彙・文法:   0%|          | 0/1 [00:00<?, ?it/s]\n",
      "Processing 漢字読み (kanji_reading):   0%|          | 0/8 [00:00<?, ?it/s]\u001B[A"
     ]
    },
    {
     "name": "stdout",
     "output_type": "stream",
     "text": [
      "---WEB SEARCH---\n",
      "---Generator----\n"
     ]
    },
    {
     "name": "stderr",
     "output_type": "stream",
     "text": [
      "2025-05-27 10:24:33,787 - INFO - HTTP Request: POST https://ai-rolandaws880125ai409947751408.openai.azure.com/openai/deployments/gpt-4.1/chat/completions?api-version=2025-01-01-preview \"HTTP/1.1 200 OK\"\n",
      "2025-05-27 10:24:33,789 - INFO - Generated message: <ol>\n",
      "    <li>\n",
      "        旅行がとても楽しくて<u>満足</u>しています。\n",
      "        <ol type=\"1\">\n",
      "            <li>まんそく</li>\n",
      "            <li>まんぞく</li>\n",
      "            <li>まんしょく</li>\n",
      "            <li>まんしょく</li>\n",
      "        </ol>\n",
      "    </li>\n",
      "</ol>\n"
     ]
    },
    {
     "name": "stdout",
     "output_type": "stream",
     "text": [
      "---REVISOR---\n"
     ]
    },
    {
     "name": "stderr",
     "output_type": "stream",
     "text": [
      "2025-05-27 10:24:38,401 - INFO - HTTP Request: POST https://ai-rolandaws880125ai409947751408.openai.azure.com/openai/deployments/gpt-4.1-mini/chat/completions?api-version=2025-01-01-preview \"HTTP/1.1 200 OK\"\n",
      "2025-05-27 10:24:38,403 - INFO - Refelect message: Thank you for your submission. Here is a detailed critique and recommendations:\n",
      "\n",
      "1. Content Accuracy:\n",
      "- The vocabulary question accurately targets the JLPT N3 level. \"満足\" is a common word at this level, and testing its reading is appropriate.\n",
      "- The sentence context, \"旅行がとても楽しくて満足しています,\" is clear, natural, and relevant to everyday situations, which suits the N3 level.\n",
      "\n",
      "2. Question and Answer Quality:\n",
      "- The question format (choosing the correct reading of the underlined word) is straightforward and suitable for assessing vocabulary reading skills.\n",
      "- However, there is a noticeable issue with the answer choices: options 3 and 4 are identical (\"まんしょく\"). This redundancy can confuse test-takers and does not provide a meaningful distractor.\n",
      "- The correct reading is \"まんぞく,\" which is option 2, and the other distractors should be plausible but incorrect readings.\n",
      "- Also, the question does not explicitly prompt the test-taker to choose the correct reading, but since you requested no instruction suggestions, this is acceptable.\n",
      "\n",
      "3. Detailed Refinement:\n",
      "- The sentence is culturally appropriate and relevant, reflecting a common expression of satisfaction after travel.\n",
      "- To improve the quality of the distractors, consider replacing the duplicate option with a different plausible incorrect reading, such as \"まんそく\" (which is already present) and maybe \"みつぞく\" or another incorrect but believable reading.\n",
      "- Ensure that all options are unique and plausible to maintain the question's integrity.\n",
      "\n",
      "Recommendations:\n",
      "- Replace the duplicate answer choice with a unique, plausible distractor.\n",
      "- Double-check that all answer choices are distinct to avoid confusion.\n",
      "- Otherwise, the question aligns well with JLPT N3 vocabulary reading expectations.\n",
      "\n",
      "Overall, this question is well constructed but needs correction on answer options. Please revise accordingly.\n"
     ]
    },
    {
     "name": "stdout",
     "output_type": "stream",
     "text": [
      "---Generator----\n"
     ]
    },
    {
     "name": "stderr",
     "output_type": "stream",
     "text": [
      "2025-05-27 10:24:40,465 - INFO - HTTP Request: POST https://ai-rolandaws880125ai409947751408.openai.azure.com/openai/deployments/gpt-4.1/chat/completions?api-version=2025-01-01-preview \"HTTP/1.1 200 OK\"\n",
      "2025-05-27 10:24:40,467 - INFO - Generated message: <ol>\n",
      "    <li>\n",
      "        旅行がとても楽しくて<u>満足</u>しています。\n",
      "        <ol type=\"1\">\n",
      "            <li>まんそく</li>\n",
      "            <li>まんぞく</li>\n",
      "            <li>まんしょく</li>\n",
      "            <li>みつぞく</li>\n",
      "        </ol>\n",
      "    </li>\n",
      "</ol>\n"
     ]
    },
    {
     "name": "stdout",
     "output_type": "stream",
     "text": [
      "---REVISOR---\n"
     ]
    },
    {
     "name": "stderr",
     "output_type": "stream",
     "text": [
      "2025-05-27 10:24:43,030 - INFO - HTTP Request: POST https://ai-rolandaws880125ai409947751408.openai.azure.com/openai/deployments/gpt-4.1-mini/chat/completions?api-version=2025-01-01-preview \"HTTP/1.1 200 OK\"\n",
      "2025-05-27 10:24:43,032 - INFO - Refelect message: Thank you for your revision. Here is the evaluation of the updated question:\n",
      "\n",
      "1. Content Accuracy:\n",
      "- The sentence remains clear, natural, and appropriate for JLPT N3 level vocabulary.\n",
      "- The target word \"満足\" is appropriate and commonly tested at this level.\n",
      "\n",
      "2. Question and Answer Quality:\n",
      "- The answer choices are now all unique, which resolves the previous issue.\n",
      "- The distractors \"まんそく,\" \"まんしょく,\" and \"みつぞく\" are plausible incorrect readings, which effectively test the student's knowledge.\n",
      "- The correct reading \"まんぞく\" is clearly included as option 2.\n",
      "- The question format is straightforward and unambiguous.\n",
      "\n",
      "3. Detailed Refinement:\n",
      "- The sentence context is culturally relevant and suitable for learners.\n",
      "- The difficulty level matches the N3 standard.\n",
      "\n",
      "Recommendations:\n",
      "- No further changes are necessary.\n",
      "- The question is well designed and suitable for assessing vocabulary reading skills at the JLPT N3 level.\n",
      "\n",
      "Overall, this question is GOOD ENOUGH.\n"
     ]
    },
    {
     "name": "stdout",
     "output_type": "stream",
     "text": [
      "--- AI Reviser feels Good Enough ---\n",
      "--- Formatter ---\n"
     ]
    },
    {
     "name": "stderr",
     "output_type": "stream",
     "text": [
      "2025-05-27 10:24:43,837 - INFO - HTTP Request: POST https://ai-rolandaws880125ai409947751408.openai.azure.com/openai/deployments/gpt-4.1-mini/chat/completions?api-version=2025-01-01-preview \"HTTP/1.1 200 OK\"\n",
      "2025-05-27 10:24:43,845 - INFO - Formatted message: {'html_question': '旅行がとても楽しくて<u>満足</u>しています。', 'correct_answer': 2, 'choices': ['まんそく', 'まんぞく', 'まんしょく', 'みつぞく']}\n",
      "\n",
      "Processing 漢字読み (kanji_reading):  12%|█▎        | 1/8 [00:16<01:53, 16.29s/it]\u001B[A"
     ]
    },
    {
     "name": "stdout",
     "output_type": "stream",
     "text": [
      "---WEB SEARCH---\n",
      "---Generator----\n"
     ]
    },
    {
     "name": "stderr",
     "output_type": "stream",
     "text": [
      "2025-05-27 10:24:50,523 - INFO - HTTP Request: POST https://ai-rolandaws880125ai409947751408.openai.azure.com/openai/deployments/gpt-4.1/chat/completions?api-version=2025-01-01-preview \"HTTP/1.1 200 OK\"\n",
      "2025-05-27 10:24:50,525 - INFO - Generated message: <ol>\n",
      "    <li>\n",
      "        先生は大切なことを<u>繰り返して</u>説明した。\n",
      "        <ol type=\"1\">\n",
      "            <li>くりかえして</li>\n",
      "            <li>くりかえしてい</li>\n",
      "            <li>くりかいして</li>\n",
      "            <li>くるかえして</li>\n",
      "        </ol>\n",
      "    </li>\n",
      "</ol>\n"
     ]
    },
    {
     "name": "stdout",
     "output_type": "stream",
     "text": [
      "---REVISOR---\n"
     ]
    },
    {
     "name": "stderr",
     "output_type": "stream",
     "text": [
      "2025-05-27 10:24:54,670 - INFO - HTTP Request: POST https://ai-rolandaws880125ai409947751408.openai.azure.com/openai/deployments/gpt-4.1-mini/chat/completions?api-version=2025-01-01-preview \"HTTP/1.1 200 OK\"\n",
      "2025-05-27 10:24:54,672 - INFO - Refelect message: The question tests the correct reading of the underlined word \"繰り返して,\" which is appropriate for JLPT N3 level vocabulary recognition.\n",
      "\n",
      "Content Accuracy:\n",
      "- The vocabulary word \"繰り返して\" (kurikaeshite) is suitable for the N3 level.\n",
      "- The sentence is clear, simple, and contextually appropriate for learners at this level.\n",
      "\n",
      "Question and Answer Quality:\n",
      "- The question is straightforward, asking for the correct reading of the underlined word.\n",
      "- The answer choices include plausible distractors with common reading mistakes, which is good.\n",
      "- However, option 2 \"くりかえしてい\" seems less plausible as a distractor because it adds an extra syllable \"い\" that is not common in such readings, which might confuse learners unnecessarily.\n",
      "- Options 3 and 4 contain typical misreadings, which are effective distractors.\n",
      "\n",
      "Detailed Refinement:\n",
      "- The sentence is culturally neutral and appropriate.\n",
      "- To better assess reading skills, consider including questions that test grammar or meaning comprehension alongside reading.\n",
      "- The question currently only tests reading of one word; adding complementary questions to test understanding of the sentence or use of the grammar pattern \"て\" form might enrich the assessment.\n",
      "\n",
      "Recommendations:\n",
      "1. Keep the sentence and the vocabulary word as is, since it fits N3 level.\n",
      "2. Replace option 2 with a more plausible distractor, such as \"くりかえしてる\" or \"くりかえした,\" which are closer to actual verb forms but incorrect in this context.\n",
      "3. Consider adding a follow-up question that asks for the meaning of \"繰り返す\" or for a grammar point related to the \"て\" form used here.\n",
      "4. Ensure that all answer choices are written in hiragana consistently (which they are) and that the distractors are realistic to avoid confusion that is not pedagogically helpful.\n",
      "\n",
      "Overall, the question is good but could be improved by refining distractors and expanding the scope of assessment.\n",
      "\n",
      "Summary: Good content and appropriate difficulty, minor improvements recommended for distractors and question depth.\n"
     ]
    },
    {
     "name": "stdout",
     "output_type": "stream",
     "text": [
      "---Generator----\n"
     ]
    },
    {
     "name": "stderr",
     "output_type": "stream",
     "text": [
      "2025-05-27 10:24:56,044 - INFO - HTTP Request: POST https://ai-rolandaws880125ai409947751408.openai.azure.com/openai/deployments/gpt-4.1/chat/completions?api-version=2025-01-01-preview \"HTTP/1.1 200 OK\"\n",
      "2025-05-27 10:24:56,045 - INFO - Generated message: ありがとうございます。ご指摘いただいた点を踏まえ、選択肢2をより自然な誤答例に修正し、他の選択肢も再確認しました。以下が修正版となります。\n",
      "\n",
      "<ol>\n",
      "    <li>\n",
      "        先生は大切なことを<u>繰り返して</u>説明した。\n",
      "        <ol type=\"1\">\n",
      "            <li>くりかえして</li>\n",
      "            <li>くりかえした</li>\n",
      "            <li>くりかいして</li>\n",
      "            <li>くるかえして</li>\n",
      "        </ol>\n",
      "    </li>\n",
      "</ol>\n"
     ]
    },
    {
     "name": "stdout",
     "output_type": "stream",
     "text": [
      "---REVISOR---\n"
     ]
    },
    {
     "name": "stderr",
     "output_type": "stream",
     "text": [
      "2025-05-27 10:24:59,066 - INFO - HTTP Request: POST https://ai-rolandaws880125ai409947751408.openai.azure.com/openai/deployments/gpt-4.1-mini/chat/completions?api-version=2025-01-01-preview \"HTTP/1.1 200 OK\"\n",
      "2025-05-27 10:24:59,068 - INFO - Refelect message: Thank you for your revision. The updated question reflects thoughtful consideration of the feedback.\n",
      "\n",
      "Content Accuracy:\n",
      "- The vocabulary and sentence remain appropriate for JLPT N3 level.\n",
      "- The new distractor \"くりかえした\" is a natural and common verb form (past tense), making it a plausible incorrect choice when the question asks for the reading of \"繰り返して.\"\n",
      "- This change improves the quality of the distractors by making them more realistic and pedagogically effective.\n",
      "\n",
      "Question and Answer Quality:\n",
      "- The question remains clear and unambiguous.\n",
      "- The inclusion of \"くりかえした\" as a distractor tests learners’ attention to verb forms and endings, which is suitable at N3 level.\n",
      "- The other distractors \"くりかいして\" and \"くるかえして\" continue to serve as useful misreading options.\n",
      "\n",
      "Detailed Refinement:\n",
      "- The sentence and context are culturally appropriate and straightforward.\n",
      "- The question focuses on reading kanji in context, which is a key skill at N3.\n",
      "- For further enrichment, consider incorporating complementary questions testing grammar or comprehension, but as a standalone item, this is acceptable.\n",
      "\n",
      "Recommendations:\n",
      "- This revision is a clear improvement and well-suited for the intended level and purpose.\n",
      "- Ensure answer keys and explanations accompany the question to clarify why each distractor is incorrect.\n",
      "- If this question is part of a larger set, maintain variety in question types to comprehensively assess grammar, vocabulary, reading, and comprehension.\n",
      "\n",
      "Overall, the revision is well done and aligns well with JLPT N3 standards.\n",
      "\n",
      "Summary: The question is now well balanced with plausible distractors and appropriate difficulty. GOOD ENOUGH\n"
     ]
    },
    {
     "name": "stdout",
     "output_type": "stream",
     "text": [
      "--- AI Reviser feels Good Enough ---\n",
      "--- Formatter ---\n"
     ]
    },
    {
     "name": "stderr",
     "output_type": "stream",
     "text": [
      "2025-05-27 10:24:59,962 - INFO - HTTP Request: POST https://ai-rolandaws880125ai409947751408.openai.azure.com/openai/deployments/gpt-4.1-mini/chat/completions?api-version=2025-01-01-preview \"HTTP/1.1 200 OK\"\n",
      "2025-05-27 10:24:59,964 - INFO - Formatted message: {'html_question': '先生は大切なことを<u>繰り返して</u>説明した。', 'correct_answer': 1, 'choices': ['くりかえして', 'くりかえした', 'くりかいして', 'くるかえして']}\n",
      "\n",
      "Processing 漢字読み (kanji_reading):  25%|██▌       | 2/8 [00:32<01:37, 16.19s/it]\u001B[A"
     ]
    },
    {
     "name": "stdout",
     "output_type": "stream",
     "text": [
      "---WEB SEARCH---\n",
      "---Generator----\n"
     ]
    },
    {
     "name": "stderr",
     "output_type": "stream",
     "text": [
      "2025-05-27 10:25:07,470 - INFO - HTTP Request: POST https://ai-rolandaws880125ai409947751408.openai.azure.com/openai/deployments/gpt-4.1/chat/completions?api-version=2025-01-01-preview \"HTTP/1.1 200 OK\"\n",
      "2025-05-27 10:25:07,473 - INFO - Generated message: <ol>\n",
      "    <li>\n",
      "        毎日運動すると<u>筋肉</u>が強くなります。\n",
      "        <ol type=\"1\">\n",
      "            <li>きんいく</li>\n",
      "            <li>きんにく</li>\n",
      "            <li>すじにく</li>\n",
      "            <li>けんにく</li>\n",
      "        </ol>\n",
      "    </li>\n",
      "</ol>\n"
     ]
    },
    {
     "name": "stdout",
     "output_type": "stream",
     "text": [
      "---REVISOR---\n"
     ]
    },
    {
     "name": "stderr",
     "output_type": "stream",
     "text": [
      "2025-05-27 10:25:10,853 - INFO - HTTP Request: POST https://ai-rolandaws880125ai409947751408.openai.azure.com/openai/deployments/gpt-4.1-mini/chat/completions?api-version=2025-01-01-preview \"HTTP/1.1 200 OK\"\n",
      "2025-05-27 10:25:10,855 - INFO - Refelect message: Thank you for your submission. Here is my detailed critique and recommendations:\n",
      "\n",
      "1. Content Accuracy:\n",
      "- The vocabulary question correctly focuses on the word \"筋肉,\" which is appropriate for the JLPT N3 level.\n",
      "- The sentence \"毎日運動すると筋肉が強くなります。\" is clear, contextually relevant, and suitable for N3 learners.\n",
      "- The answer choices for the reading of 筋肉 are appropriate, with only one correct reading (きんにく), and the distractors are plausible but incorrect, which is good.\n",
      "\n",
      "2. Question and Answer Quality:\n",
      "- The question is clearly worded and unambiguous.\n",
      "- The format of presenting the sentence with the underlined word and multiple-choice readings is standard and effective for testing vocabulary reading skills.\n",
      "- The difficulty level fits well within the JLPT N3 range, as reading kanji compounds like 筋肉 is expected at this level.\n",
      "\n",
      "3. Detailed Refinement:\n",
      "- The content is culturally appropriate and relevant.\n",
      "- The sentence about exercise and muscle strength is natural and commonly used in Japanese.\n",
      "- The distractor readings are plausible enough to challenge learners without being misleading.\n",
      "\n",
      "Recommendations:\n",
      "- Consider adding a variety of question types in the exam paper to assess other language skills such as grammar usage, listening comprehension, and reading comprehension.\n",
      "- For vocabulary questions, sometimes including a sentence that uses the word in a slightly different context can help test deeper understanding.\n",
      "- Overall, this item is well constructed and suitable for the intended level.\n",
      "\n",
      "In conclusion, this question is well-made and appropriate for JLPT N3.\n",
      "\n",
      "GOOD ENOUGH\n"
     ]
    },
    {
     "name": "stdout",
     "output_type": "stream",
     "text": [
      "--- AI Reviser feels Good Enough ---\n",
      "--- Formatter ---\n"
     ]
    },
    {
     "name": "stderr",
     "output_type": "stream",
     "text": [
      "2025-05-27 10:25:11,897 - INFO - HTTP Request: POST https://ai-rolandaws880125ai409947751408.openai.azure.com/openai/deployments/gpt-4.1-mini/chat/completions?api-version=2025-01-01-preview \"HTTP/1.1 200 OK\"\n",
      "2025-05-27 10:25:11,900 - INFO - Formatted message: {'html_question': '毎日運動すると<u>筋肉</u>が強くなります。', 'choices': ['きんいく', 'きんにく', 'すじにく', 'けんにく'], 'correct_answer': 2}\n",
      "\n",
      "Processing 漢字読み (kanji_reading):  38%|███▊      | 3/8 [00:44<01:11, 14.25s/it]\u001B[A"
     ]
    },
    {
     "name": "stdout",
     "output_type": "stream",
     "text": [
      "---WEB SEARCH---\n",
      "---Generator----\n"
     ]
    },
    {
     "name": "stderr",
     "output_type": "stream",
     "text": [
      "2025-05-27 10:25:18,609 - INFO - HTTP Request: POST https://ai-rolandaws880125ai409947751408.openai.azure.com/openai/deployments/gpt-4.1/chat/completions?api-version=2025-01-01-preview \"HTTP/1.1 200 OK\"\n",
      "2025-05-27 10:25:18,611 - INFO - Generated message: <ol>\n",
      "    <li>\n",
      "        目標を達成するために毎日<u>努力</u>しています。\n",
      "        <ol type=\"1\">\n",
      "            <li>どりょく</li>\n",
      "            <li>どりく</li>\n",
      "            <li>ぬりょく</li>\n",
      "            <li>ぬりく</li>\n",
      "        </ol>\n",
      "    </li>\n",
      "</ol>\n"
     ]
    },
    {
     "name": "stdout",
     "output_type": "stream",
     "text": [
      "---REVISOR---\n"
     ]
    },
    {
     "name": "stderr",
     "output_type": "stream",
     "text": [
      "2025-05-27 10:25:23,209 - INFO - HTTP Request: POST https://ai-rolandaws880125ai409947751408.openai.azure.com/openai/deployments/gpt-4.1-mini/chat/completions?api-version=2025-01-01-preview \"HTTP/1.1 200 OK\"\n",
      "2025-05-27 10:25:23,210 - INFO - Refelect message: The question tests the reading of the kanji 努力, which is appropriate for JLPT N3 level as it involves common compound kanji used in everyday contexts. The sentence \"目標を達成するために毎日努力しています。\" is clear, natural, and contextually relevant, making it suitable for assessing vocabulary and kanji reading skills.\n",
      "\n",
      "The multiple-choice options are well-formatted and include one correct reading (どりょく) and three plausible distractors that test the examinee's knowledge of kanji readings. The question is unambiguous and straightforward, effectively targeting the intended skill.\n",
      "\n",
      "Recommendations:\n",
      "- The question is well-constructed and appropriate for the N3 level. However, to further enhance the assessment, consider including questions that test the usage of 努力 in different grammatical contexts or sentence patterns.\n",
      "- Ensure that the entire exam paper includes a balanced variety of question types (e.g., grammar, vocabulary, reading comprehension) to comprehensively assess the candidate's abilities.\n",
      "- Since this question is about kanji reading, it might be helpful to confirm that the rest of the exam paper also includes questions targeting other skills such as listening and grammar to maintain a balanced evaluation.\n",
      "\n",
      "Overall, this question is clear, accurate, and suitable for JLPT N3 level.\n",
      "\n",
      "GOOD ENOUGH\n"
     ]
    },
    {
     "name": "stdout",
     "output_type": "stream",
     "text": [
      "--- AI Reviser feels Good Enough ---\n",
      "--- Formatter ---\n"
     ]
    },
    {
     "name": "stderr",
     "output_type": "stream",
     "text": [
      "2025-05-27 10:25:24,330 - INFO - HTTP Request: POST https://ai-rolandaws880125ai409947751408.openai.azure.com/openai/deployments/gpt-4.1-mini/chat/completions?api-version=2025-01-01-preview \"HTTP/1.1 200 OK\"\n",
      "2025-05-27 10:25:24,332 - INFO - Formatted message: {'html_question': '目標を達成するために毎日<u>努力</u>しています。', 'correct_answer': 1, 'choices': ['どりょく', 'どりく', 'ぬりょく', 'ぬりく']}\n",
      "\n",
      "Processing 漢字読み (kanji_reading):  50%|█████     | 4/8 [00:56<00:54, 13.53s/it]\u001B[A"
     ]
    },
    {
     "name": "stdout",
     "output_type": "stream",
     "text": [
      "---WEB SEARCH---\n",
      "---Generator----\n"
     ]
    },
    {
     "name": "stderr",
     "output_type": "stream",
     "text": [
      "2025-05-27 10:25:34,977 - INFO - HTTP Request: POST https://ai-rolandaws880125ai409947751408.openai.azure.com/openai/deployments/gpt-4.1/chat/completions?api-version=2025-01-01-preview \"HTTP/1.1 200 OK\"\n",
      "2025-05-27 10:25:34,979 - INFO - Generated message: <ol>\n",
      "    <li>\n",
      "        彼はサッカーの<u>選手</u>です。\n",
      "        <ol type=\"1\">\n",
      "            <li>せんしゃ</li>\n",
      "            <li>せんしゅ</li>\n",
      "            <li>せんじゅ</li>\n",
      "            <li>せんしょ</li>\n",
      "        </ol>\n",
      "    </li>\n",
      "</ol>\n"
     ]
    },
    {
     "name": "stdout",
     "output_type": "stream",
     "text": [
      "---REVISOR---\n"
     ]
    },
    {
     "name": "stderr",
     "output_type": "stream",
     "text": [
      "2025-05-27 10:25:39,109 - INFO - HTTP Request: POST https://ai-rolandaws880125ai409947751408.openai.azure.com/openai/deployments/gpt-4.1-mini/chat/completions?api-version=2025-01-01-preview \"HTTP/1.1 200 OK\"\n",
      "2025-05-27 10:25:39,116 - INFO - Refelect message: The question focuses on the correct reading of the kanji word \"選手,\" which is appropriate for the JLPT N3 level, as recognizing common compound words and their readings is a key skill at this stage.\n",
      "\n",
      "Content Accuracy:\n",
      "- The vocabulary word \"選手\" (せんしゅ) is suitable for N3 learners.\n",
      "- The sentence \"彼はサッカーの選手です。\" is clear, contextually relevant, and uses simple grammar appropriate for this level.\n",
      "\n",
      "Question and Answer Quality:\n",
      "- The question is straightforward, asking for the correct reading of the underlined word.\n",
      "- The answer choices include plausible distractors that test the student's knowledge of kanji readings, which is good.\n",
      "- However, one minor point is that \"せんしゃ\" could be confused with \"戦車\" (tank), but since the kanji are different, it might be less confusing. Still, the distractors are reasonable.\n",
      "\n",
      "Detailed Refinement:\n",
      "- The question is culturally appropriate and relevant, as soccer is a popular sport in Japan and \"選手\" is a common term.\n",
      "- The formatting is clear, and the question tests vocabulary and kanji reading skills effectively.\n",
      "\n",
      "Recommendations:\n",
      "- Consider adding a follow-up question that tests the student's understanding of the word in context, such as asking for a synonym or using it in a sentence.\n",
      "- Ensure that the distractors are all plausible readings of kanji compounds to increase the challenge.\n",
      "- Overall, the question fits well within the N3 level and tests an important vocabulary item.\n",
      "\n",
      "In summary, this question is well-designed and appropriate for the intended level.\n",
      "\n",
      "GOOD ENOUGH\n"
     ]
    },
    {
     "name": "stdout",
     "output_type": "stream",
     "text": [
      "--- AI Reviser feels Good Enough ---\n",
      "--- Formatter ---\n"
     ]
    },
    {
     "name": "stderr",
     "output_type": "stream",
     "text": [
      "2025-05-27 10:25:39,891 - INFO - HTTP Request: POST https://ai-rolandaws880125ai409947751408.openai.azure.com/openai/deployments/gpt-4.1-mini/chat/completions?api-version=2025-01-01-preview \"HTTP/1.1 200 OK\"\n",
      "2025-05-27 10:25:39,976 - INFO - Formatted message: {'html_question': '彼はサッカーの<u>選手</u>です。', 'correct_answer': 2, 'choices': ['せんしゃ', 'せんしゅ', 'せんじゅ', 'せんしょ']}\n",
      "\n",
      "Processing 漢字読み (kanji_reading):  62%|██████▎   | 5/8 [01:12<00:42, 14.29s/it]\u001B[A"
     ]
    },
    {
     "name": "stdout",
     "output_type": "stream",
     "text": [
      "---WEB SEARCH---\n",
      "---Generator----\n"
     ]
    },
    {
     "name": "stderr",
     "output_type": "stream",
     "text": [
      "2025-05-27 10:25:47,775 - INFO - HTTP Request: POST https://ai-rolandaws880125ai409947751408.openai.azure.com/openai/deployments/gpt-4.1/chat/completions?api-version=2025-01-01-preview \"HTTP/1.1 200 OK\"\n",
      "2025-05-27 10:25:47,777 - INFO - Generated message: <ol>\n",
      "    <li>\n",
      "        最近、この地域で珍しい<u>現象</u>が観察されています。\n",
      "        <ol type=\"1\">\n",
      "            <li>げんしょう</li>\n",
      "            <li>げんぞう</li>\n",
      "            <li>けんしょう</li>\n",
      "            <li>けんぞう</li>\n",
      "        </ol>\n",
      "    </li>\n",
      "</ol>\n"
     ]
    },
    {
     "name": "stdout",
     "output_type": "stream",
     "text": [
      "---REVISOR---\n"
     ]
    },
    {
     "name": "stderr",
     "output_type": "stream",
     "text": [
      "2025-05-27 10:25:52,705 - INFO - HTTP Request: POST https://ai-rolandaws880125ai409947751408.openai.azure.com/openai/deployments/gpt-4.1-mini/chat/completions?api-version=2025-01-01-preview \"HTTP/1.1 200 OK\"\n",
      "2025-05-27 10:25:52,708 - INFO - Refelect message: Thank you for your submission. Here is the detailed critique and recommendations based on the provided question:\n",
      "\n",
      "1. Content Accuracy:\n",
      "- The vocabulary question focuses on the reading of the kanji \"現象,\" which is appropriate for JLPT N3 level, as recognizing common compound words and their readings is expected.\n",
      "- The context sentence \"最近、この地域で珍しい現象が観察されています。\" is clear, relevant, and appropriately challenging for N3 learners. It uses natural language and introduces a meaningful context for the vocabulary.\n",
      "\n",
      "2. Question and Answer Quality:\n",
      "- The question is straightforward and clearly worded, asking for the correct reading of the underlined word.\n",
      "- The answer choices include plausible distractors that test the learner’s knowledge of similar-sounding readings and kanji compounds, which is good for assessing reading skills.\n",
      "- The correct answer is \"げんしょう,\" which is the standard reading for \"現象.\"\n",
      "- The distractors \"げんぞう,\" \"けんしょう,\" and \"けんぞう\" are reasonable and reflect common reading mistakes or confusion, making the question appropriately challenging.\n",
      "\n",
      "3. Cultural and Academic Relevance:\n",
      "- The sentence is culturally neutral and appropriate, referring to an observable phenomenon in a region, which fits well within academic language content.\n",
      "- The vocabulary and sentence are suitable for learners preparing for the JLPT N3 level, focusing on practical and academic vocabulary.\n",
      "\n",
      "Recommendations:\n",
      "- Consider adding a variety of question types in the exam paper to comprehensively assess different language skills such as grammar, reading comprehension, and listening.\n",
      "- For this particular vocabulary question, it might be beneficial to occasionally include questions that ask for meaning or usage to deepen understanding, but this is not mandatory.\n",
      "- Ensure that other questions in the exam maintain the same clarity and appropriate difficulty level.\n",
      "\n",
      "Overall, this question is well-designed for the JLPT N3 level and requires no major changes.\n",
      "\n",
      "GOOD ENOUGH\n"
     ]
    },
    {
     "name": "stdout",
     "output_type": "stream",
     "text": [
      "--- AI Reviser feels Good Enough ---\n",
      "--- Formatter ---\n"
     ]
    },
    {
     "name": "stderr",
     "output_type": "stream",
     "text": [
      "2025-05-27 10:25:53,760 - INFO - HTTP Request: POST https://ai-rolandaws880125ai409947751408.openai.azure.com/openai/deployments/gpt-4.1-mini/chat/completions?api-version=2025-01-01-preview \"HTTP/1.1 200 OK\"\n",
      "2025-05-27 10:25:53,762 - INFO - Formatted message: {'html_question': '最近、この地域で珍しい<u>現象</u>が観察されています。', 'correct_answer': 1, 'choices': ['げんしょう', 'げんぞう', 'けんしょう', 'けんぞう']}\n",
      "\n",
      "Processing 漢字読み (kanji_reading):  75%|███████▌  | 6/8 [01:26<00:28, 14.12s/it]\u001B[A"
     ]
    },
    {
     "name": "stdout",
     "output_type": "stream",
     "text": [
      "---WEB SEARCH---\n",
      "---Generator----\n"
     ]
    },
    {
     "name": "stderr",
     "output_type": "stream",
     "text": [
      "2025-05-27 10:25:59,847 - INFO - HTTP Request: POST https://ai-rolandaws880125ai409947751408.openai.azure.com/openai/deployments/gpt-4.1/chat/completions?api-version=2025-01-01-preview \"HTTP/1.1 200 OK\"\n",
      "2025-05-27 10:25:59,849 - INFO - Generated message: <ol>\n",
      "    <li>\n",
      "        困っている人を<u>助ける</u>のは大切です。\n",
      "        <ol type=\"1\">\n",
      "            <li>てつだう</li>\n",
      "            <li>たすける</li>\n",
      "            <li>すける</li>\n",
      "            <li>たしかる</li>\n",
      "        </ol>\n",
      "    </li>\n",
      "</ol>\n"
     ]
    },
    {
     "name": "stdout",
     "output_type": "stream",
     "text": [
      "---REVISOR---\n"
     ]
    },
    {
     "name": "stderr",
     "output_type": "stream",
     "text": [
      "2025-05-27 10:26:09,410 - INFO - HTTP Request: POST https://ai-rolandaws880125ai409947751408.openai.azure.com/openai/deployments/gpt-4.1-mini/chat/completions?api-version=2025-01-01-preview \"HTTP/1.1 200 OK\"\n",
      "2025-05-27 10:26:09,412 - INFO - Refelect message: Thank you for your submission. Here is my detailed feedback:\n",
      "\n",
      "1. Content Accuracy:\n",
      "- The sentence \"困っている人を助けるのは大切です。\" is grammatically correct and suitable for the JLPT N3 level.\n",
      "- The vocabulary tested here is the verb \"助ける,\" which is appropriate for N3.\n",
      "- The distractors (choices) include:\n",
      "  1) てつだう (to help/assist)\n",
      "  2) たすける (correct answer)\n",
      "  3) すける (not a valid verb in this context)\n",
      "  4) たしかる (incorrect; no such verb)\n",
      "- The inclusion of てつだう as a distractor is good because it tests the student's understanding of similar verbs with different nuances.\n",
      "- However, すける and たしかる are not valid or common verbs, which may confuse students unnecessarily.\n",
      "\n",
      "2. Question and Answer Quality:\n",
      "- The question is clear: the student is asked to select the correct reading for the underlined kanji \"助ける.\"\n",
      "- The choices are presented clearly.\n",
      "- The difficulty level is appropriate for N3, testing kanji reading and vocabulary knowledge.\n",
      "- However, the presence of non-existent or incorrect verbs as choices is not ideal; it may be better to replace these with actual verbs or plausible distractors.\n",
      "\n",
      "3. Cultural and Contextual Appropriateness:\n",
      "- The sentence context is culturally neutral and appropriate.\n",
      "- The sentence is simple and relevant to everyday Japanese usage, fitting for N3.\n",
      "\n",
      "Recommendations:\n",
      "- Replace the invalid distractors \"すける\" and \"たしかる\" with more plausible options. For example:\n",
      "  - たすける (correct)\n",
      "  - てつだう (similar meaning but different kanji)\n",
      "  - ささえる (to support)\n",
      "  - まもる (to protect)\n",
      "- This will better assess the student's knowledge of similar verbs and kanji readings.\n",
      "- Ensure all distractors are actual Japanese verbs or words to avoid confusion.\n",
      "- Overall, the question is good but would benefit from improved distractors.\n",
      "\n",
      "Please revise accordingly.\n"
     ]
    },
    {
     "name": "stdout",
     "output_type": "stream",
     "text": [
      "---Generator----\n"
     ]
    },
    {
     "name": "stderr",
     "output_type": "stream",
     "text": [
      "2025-05-27 10:26:11,705 - INFO - HTTP Request: POST https://ai-rolandaws880125ai409947751408.openai.azure.com/openai/deployments/gpt-4.1/chat/completions?api-version=2025-01-01-preview \"HTTP/1.1 200 OK\"\n",
      "2025-05-27 10:26:11,707 - INFO - Generated message: <ol>\n",
      "    <li>\n",
      "        困っている人を<u>助ける</u>のは大切です。\n",
      "        <ol type=\"1\">\n",
      "            <li>てつだう</li>\n",
      "            <li>たすける</li>\n",
      "            <li>ささえる</li>\n",
      "            <li>まもる</li>\n",
      "        </ol>\n",
      "    </li>\n",
      "</ol>\n"
     ]
    },
    {
     "name": "stdout",
     "output_type": "stream",
     "text": [
      "---REVISOR---\n"
     ]
    },
    {
     "name": "stderr",
     "output_type": "stream",
     "text": [
      "2025-05-27 10:26:14,389 - INFO - HTTP Request: POST https://ai-rolandaws880125ai409947751408.openai.azure.com/openai/deployments/gpt-4.1-mini/chat/completions?api-version=2025-01-01-preview \"HTTP/1.1 200 OK\"\n",
      "2025-05-27 10:26:14,391 - INFO - Refelect message: Thank you for your revision. The updated question shows clear improvement.\n",
      "\n",
      "1. Content Accuracy:\n",
      "- The sentence remains appropriate and clear for JLPT N3 level.\n",
      "- The vocabulary focus on \"助ける\" and its reading is suitable.\n",
      "- The distractors are now all valid verbs with related meanings, which is excellent:\n",
      "  1) てつだう (to assist/help)\n",
      "  2) たすける (correct answer)\n",
      "  3) ささえる (to support)\n",
      "  4) まもる (to protect)\n",
      "- This selection effectively tests the learner’s ability to distinguish similar verbs and their kanji readings.\n",
      "\n",
      "2. Question and Answer Quality:\n",
      "- The question prompt is clear and unambiguous.\n",
      "- The answer choices are well-chosen to assess vocabulary knowledge and kanji reading skills.\n",
      "- The difficulty level matches the intended JLPT N3 standard.\n",
      "\n",
      "3. Cultural and Contextual Appropriateness:\n",
      "- The sentence is culturally neutral and appropriate.\n",
      "- It reflects everyday language use, suitable for the target level.\n",
      "\n",
      "Recommendation:\n",
      "- This question is well constructed and suitable for inclusion in an N3-level exam.\n",
      "- No further changes are necessary.\n",
      "\n",
      "Overall, this submission is GOOD ENOUGH.\n"
     ]
    },
    {
     "name": "stdout",
     "output_type": "stream",
     "text": [
      "--- AI Reviser feels Good Enough ---\n",
      "--- Formatter ---\n"
     ]
    },
    {
     "name": "stderr",
     "output_type": "stream",
     "text": [
      "2025-05-27 10:26:15,446 - INFO - HTTP Request: POST https://ai-rolandaws880125ai409947751408.openai.azure.com/openai/deployments/gpt-4.1-mini/chat/completions?api-version=2025-01-01-preview \"HTTP/1.1 200 OK\"\n",
      "2025-05-27 10:26:15,448 - INFO - Formatted message: {'html_question': '困っている人を<u>助ける</u>のは大切です。', 'correct_answer': 2, 'choices': ['てつだう', 'たすける', 'ささえる', 'まもる']}\n",
      "\n",
      "Processing 漢字読み (kanji_reading):  88%|████████▊ | 7/8 [01:47<00:16, 16.59s/it]\u001B[A"
     ]
    },
    {
     "name": "stdout",
     "output_type": "stream",
     "text": [
      "---WEB SEARCH---\n",
      "---Generator----\n"
     ]
    },
    {
     "name": "stderr",
     "output_type": "stream",
     "text": [
      "2025-05-27 10:26:22,508 - INFO - HTTP Request: POST https://ai-rolandaws880125ai409947751408.openai.azure.com/openai/deployments/gpt-4.1/chat/completions?api-version=2025-01-01-preview \"HTTP/1.1 200 OK\"\n",
      "2025-05-27 10:26:22,510 - INFO - Generated message: <ol>\n",
      "    <li>\n",
      "        新しい<u>情報</u>を集めています。\n",
      "        <ol type=\"1\">\n",
      "            <li>じょうほう</li>\n",
      "            <li>じょうぼう</li>\n",
      "            <li>しょうほう</li>\n",
      "            <li>しょうぼう</li>\n",
      "        </ol>\n",
      "    </li>\n",
      "</ol>\n"
     ]
    },
    {
     "name": "stdout",
     "output_type": "stream",
     "text": [
      "---REVISOR---\n"
     ]
    },
    {
     "name": "stderr",
     "output_type": "stream",
     "text": [
      "2025-05-27 10:26:26,071 - INFO - HTTP Request: POST https://ai-rolandaws880125ai409947751408.openai.azure.com/openai/deployments/gpt-4.1-mini/chat/completions?api-version=2025-01-01-preview \"HTTP/1.1 200 OK\"\n",
      "2025-05-27 10:26:26,073 - INFO - Refelect message: The question tests the reading of the kanji compound \"情報,\" which is appropriate for JLPT N3 level as it covers common vocabulary.\n",
      "\n",
      "Content Accuracy:\n",
      "- The vocabulary word \"情報\" is suitable for N3.\n",
      "- The reading choices include plausible options, but two of them (じょうぼう and しょうぼう) are not standard readings for this word and might confuse learners unnecessarily. The distractors should be carefully chosen to reflect common misreadings or similar-sounding words.\n",
      "\n",
      "Question and Answer Quality:\n",
      "- The question is clear and straightforward, asking for the correct reading.\n",
      "- The answer choices are presented clearly and numbered, which is good.\n",
      "- However, to better assess comprehension, consider including a question that requires understanding the meaning or usage of the word in context, not just reading.\n",
      "\n",
      "Cultural and Academic Relevance:\n",
      "- The word \"情報\" is relevant in academic and everyday contexts in Japan, making it culturally appropriate.\n",
      "\n",
      "Recommendations:\n",
      "1. Keep \"じょうほう\" as the correct answer.\n",
      "2. Replace \"じょうぼう\" and \"しょうぼう\" with distractors that are more plausible and common misreadings or similar words, such as \"じょうほう\" vs. \"じょうほ\" or \"じょうほう\" vs. \"じょうほく.\"\n",
      "3. Consider adding a follow-up question that tests comprehension of the word in context, such as asking for the meaning or usage.\n",
      "4. Ensure the question aligns with N3 level by balancing difficulty—this question as is may be slightly easy for N3, so adding a comprehension component would enhance assessment.\n",
      "\n",
      "Overall, the question is a good start but would benefit from refinement to better suit the N3 level assessment goals.\n"
     ]
    },
    {
     "name": "stdout",
     "output_type": "stream",
     "text": [
      "---Generator----\n"
     ]
    },
    {
     "name": "stderr",
     "output_type": "stream",
     "text": [
      "2025-05-27 10:26:27,485 - INFO - HTTP Request: POST https://ai-rolandaws880125ai409947751408.openai.azure.com/openai/deployments/gpt-4.1/chat/completions?api-version=2025-01-01-preview \"HTTP/1.1 200 OK\"\n",
      "2025-05-27 10:26:27,487 - INFO - Generated message: <ol>\n",
      "    <li>\n",
      "        ニュースで新しい<u>情報</u>を知りました。\n",
      "        <ol type=\"1\">\n",
      "            <li>じょうほう</li>\n",
      "            <li>じょうほ</li>\n",
      "            <li>じょうこう</li>\n",
      "            <li>じょうほく</li>\n",
      "        </ol>\n",
      "    </li>\n",
      "</ol>\n"
     ]
    },
    {
     "name": "stdout",
     "output_type": "stream",
     "text": [
      "---REVISOR---\n"
     ]
    },
    {
     "name": "stderr",
     "output_type": "stream",
     "text": [
      "2025-05-27 10:26:30,089 - INFO - HTTP Request: POST https://ai-rolandaws880125ai409947751408.openai.azure.com/openai/deployments/gpt-4.1-mini/chat/completions?api-version=2025-01-01-preview \"HTTP/1.1 200 OK\"\n",
      "2025-05-27 10:26:30,092 - INFO - Refelect message: Content Accuracy:\n",
      "- The vocabulary word \"情報\" remains appropriate for JLPT N3 level.\n",
      "- The context sentence \"ニュースで新しい情報を知りました。\" is clear, natural, and relevant, providing a realistic usage scenario.\n",
      "- The answer choices include one correct reading \"じょうほう\" and three distractors that are plausible as misreadings, which is effective for testing reading skills.\n",
      "\n",
      "Question and Answer Quality:\n",
      "- The question is clearly presented and unambiguous.\n",
      "- The distractors are reasonable and challenge the learner to distinguish the correct reading.\n",
      "- The difficulty level aligns well with N3 expectations, focusing on kanji reading recognition in context.\n",
      "\n",
      "Cultural and Academic Relevance:\n",
      "- The sentence and vocabulary are culturally appropriate and commonly used in Japanese academic and everyday settings.\n",
      "\n",
      "Recommendations:\n",
      "1. This question is well-constructed for assessing kanji reading at the N3 level.\n",
      "2. To further enhance assessment, consider adding a question that tests comprehension of the word's meaning or usage in context.\n",
      "3. Ensure consistent formatting for answer choices (e.g., all in hiragana) to avoid any unintended clues.\n",
      "\n",
      "Overall, this question is well-designed and suitable for the intended level.\n",
      "\n",
      "Conclusion: GOOD ENOUGH\n"
     ]
    },
    {
     "name": "stdout",
     "output_type": "stream",
     "text": [
      "--- AI Reviser feels Good Enough ---\n",
      "--- Formatter ---\n"
     ]
    },
    {
     "name": "stderr",
     "output_type": "stream",
     "text": [
      "2025-05-27 10:26:31,068 - INFO - HTTP Request: POST https://ai-rolandaws880125ai409947751408.openai.azure.com/openai/deployments/gpt-4.1-mini/chat/completions?api-version=2025-01-01-preview \"HTTP/1.1 200 OK\"\n",
      "2025-05-27 10:26:31,071 - INFO - Formatted message: {'html_question': 'ニュースで新しい<u>情報</u>を知りました。', 'correct_answer': 1, 'choices': ['じょうほう', 'じょうほ', 'じょうこう', 'じょうほく']}\n",
      "\n",
      "Processing 漢字読み (kanji_reading): 100%|██████████| 8/8 [02:03<00:00, 15.44s/it]\u001B[A\n",
      "Processing 第1部　語彙・文法: 100%|██████████| 1/1 [02:03<00:00, 123.52s/it]"
     ]
    },
    {
     "name": "stdout",
     "output_type": "stream",
     "text": [
      "Total execution time: 123.52 seconds\n"
     ]
    },
    {
     "name": "stderr",
     "output_type": "stream",
     "text": [
      "\n"
     ]
    }
   ],
   "source": [
    "outliner_json = initial_outline.model_dump_json()\n",
    "data = json.loads(outliner_json)  # Replace with your actual JSON data\n",
    "\n",
    "start_time = time.time()\n",
    "\n",
    "output_data = {'sections': []}\n",
    "\n",
    "for section in data['sections']:\n",
    "    output_section = {'section_title': section['section_title'], 'subsections': []}\n",
    "\n",
    "    for subsection in tqdm(section['subsections'], desc=f\"Processing {section['section_title']}\"):\n",
    "        function_name = subsection['subsection_title'].split(' (')[1].rstrip(')')\n",
    "        questions = subsection['question_topics']\n",
    "\n",
    "        for question in tqdm(questions, desc=f\"Processing {subsection['subsection_title']}\"):\n",
    "            handler = ExamTaskHandler()\n",
    "            func = getattr(handler, function_name, None)\n",
    "\n",
    "            if func:\n",
    "                max_attempts = 2\n",
    "                original_topic = question['topic']  # Optional: Track original topic\n",
    "                for attempt in range(max_attempts):\n",
    "                    try:\n",
    "                        result = func(question['topic'])\n",
    "                        question['result'] = result\n",
    "                        break  # Exit on success\n",
    "                    except Exception as e:\n",
    "                        if attempt < max_attempts - 1:\n",
    "                            # Replace topic and retry\n",
    "                            question['topic'] = random.choice(topics_list)\n",
    "                        else:\n",
    "                            question['result'] = f\"Error after {max_attempts} attempts: {str(e)}\"\n",
    "            else:\n",
    "                question['result'] = f\"Method {function_name} not found\"\n",
    "\n",
    "        output_subsection = {\n",
    "            'subsection_title': subsection['subsection_title'],\n",
    "            'description': subsection['description'],\n",
    "            'question_topics': questions\n",
    "        }\n",
    "        output_section['subsections'].append(output_subsection)\n",
    "\n",
    "    output_data['sections'].append(output_section)\n",
    "\n",
    "# End the timer\n",
    "end_time = time.time()\n",
    "\n",
    "# Calculate the total execution time\n",
    "execution_time = end_time - start_time\n",
    "\n",
    "print(f\"Total execution time: {execution_time:.2f} seconds\")"
   ]
  },
  {
   "cell_type": "code",
   "execution_count": 27,
   "id": "43e411616ee939b1",
   "metadata": {
    "colab": {
     "base_uri": "https://localhost:8080/",
     "height": 1000
    },
    "id": "43e411616ee939b1",
    "outputId": "97cc7eef-f8ae-4401-ef8b-022c706f112c",
    "ExecuteTime": {
     "end_time": "2025-05-27T02:26:31.090488Z",
     "start_time": "2025-05-27T02:26:31.081550Z"
    }
   },
   "outputs": [
    {
     "data": {
      "text/plain": "<IPython.core.display.Markdown object>",
      "text/markdown": "sections:\n- section_title: 第1部　語彙・文法\n  subsections:\n  - subsection_title: 漢字読み (kanji_reading)\n    description: 8問。与えられた漢字の読みをひらがなで答えなさい。\n    question_topics:\n    - topic: 満足\n      result:\n        html_question: 旅行がとても楽しくて<u>満足</u>しています。\n        correct_answer: 2\n        choices:\n        - まんそく\n        - まんぞく\n        - まんしょく\n        - みつぞく\n    - topic: 繰り返す\n      result:\n        html_question: 先生は大切なことを<u>繰り返して</u>説明した。\n        correct_answer: 1\n        choices:\n        - くりかえして\n        - くりかえした\n        - くりかいして\n        - くるかえして\n    - topic: 筋肉\n      result:\n        html_question: 毎日運動すると<u>筋肉</u>が強くなります。\n        choices:\n        - きんいく\n        - きんにく\n        - すじにく\n        - けんにく\n        correct_answer: 2\n    - topic: 努力\n      result:\n        html_question: 目標を達成するために毎日<u>努力</u>しています。\n        correct_answer: 1\n        choices:\n        - どりょく\n        - どりく\n        - ぬりょく\n        - ぬりく\n    - topic: 選手\n      result:\n        html_question: 彼はサッカーの<u>選手</u>です。\n        correct_answer: 2\n        choices:\n        - せんしゃ\n        - せんしゅ\n        - せんじゅ\n        - せんしょ\n    - topic: 現象\n      result:\n        html_question: 最近、この地域で珍しい<u>現象</u>が観察されています。\n        correct_answer: 1\n        choices:\n        - げんしょう\n        - げんぞう\n        - けんしょう\n        - けんぞう\n    - topic: 助ける\n      result:\n        html_question: 困っている人を<u>助ける</u>のは大切です。\n        correct_answer: 2\n        choices:\n        - てつだう\n        - たすける\n        - ささえる\n        - まもる\n    - topic: 情報\n      result:\n        html_question: ニュースで新しい<u>情報</u>を知りました。\n        correct_answer: 1\n        choices:\n        - じょうほう\n        - じょうほ\n        - じょうこう\n        - じょうほく\n"
     },
     "metadata": {},
     "output_type": "display_data"
    }
   ],
   "source": [
    "yaml_str = yaml.dump(output_data, allow_unicode=True, sort_keys=False, default_flow_style=False)\n",
    "# Display as formatted YAML\n",
    "display(Markdown(yaml_str))"
   ]
  },
  {
   "cell_type": "code",
   "execution_count": 28,
   "id": "307398e88bf20dc3",
   "metadata": {
    "colab": {
     "base_uri": "https://localhost:8080/"
    },
    "id": "307398e88bf20dc3",
    "outputId": "4ff94084-e0f5-45ad-ee7b-bca01723dd10",
    "ExecuteTime": {
     "end_time": "2025-05-27T02:26:31.107527Z",
     "start_time": "2025-05-27T02:26:31.092005Z"
    }
   },
   "outputs": [
    {
     "data": {
      "text/plain": "{'sections': [{'section_title': '第1部\\u3000語彙・文法',\n   'subsections': [{'subsection_title': '漢字読み (kanji_reading)',\n     'description': '8問。与えられた漢字の読みをひらがなで答えなさい。',\n     'question_topics': [{'topic': '満足',\n       'result': {'html_question': '旅行がとても楽しくて<u>満足</u>しています。',\n        'correct_answer': 2,\n        'choices': ['まんそく', 'まんぞく', 'まんしょく', 'みつぞく']}},\n      {'topic': '繰り返す',\n       'result': {'html_question': '先生は大切なことを<u>繰り返して</u>説明した。',\n        'correct_answer': 1,\n        'choices': ['くりかえして', 'くりかえした', 'くりかいして', 'くるかえして']}},\n      {'topic': '筋肉',\n       'result': {'html_question': '毎日運動すると<u>筋肉</u>が強くなります。',\n        'choices': ['きんいく', 'きんにく', 'すじにく', 'けんにく'],\n        'correct_answer': 2}},\n      {'topic': '努力',\n       'result': {'html_question': '目標を達成するために毎日<u>努力</u>しています。',\n        'correct_answer': 1,\n        'choices': ['どりょく', 'どりく', 'ぬりょく', 'ぬりく']}},\n      {'topic': '選手',\n       'result': {'html_question': '彼はサッカーの<u>選手</u>です。',\n        'correct_answer': 2,\n        'choices': ['せんしゃ', 'せんしゅ', 'せんじゅ', 'せんしょ']}},\n      {'topic': '現象',\n       'result': {'html_question': '最近、この地域で珍しい<u>現象</u>が観察されています。',\n        'correct_answer': 1,\n        'choices': ['げんしょう', 'げんぞう', 'けんしょう', 'けんぞう']}},\n      {'topic': '助ける',\n       'result': {'html_question': '困っている人を<u>助ける</u>のは大切です。',\n        'correct_answer': 2,\n        'choices': ['てつだう', 'たすける', 'ささえる', 'まもる']}},\n      {'topic': '情報',\n       'result': {'html_question': 'ニュースで新しい<u>情報</u>を知りました。',\n        'correct_answer': 1,\n        'choices': ['じょうほう', 'じょうほ', 'じょうこう', 'じょうほく']}}]}]}]}"
     },
     "execution_count": 28,
     "metadata": {},
     "output_type": "execute_result"
    }
   ],
   "source": [
    "output_data"
   ]
  },
  {
   "cell_type": "code",
   "execution_count": 29,
   "id": "aa98a476d1ded815",
   "metadata": {
    "id": "aa98a476d1ded815",
    "ExecuteTime": {
     "end_time": "2025-05-27T02:26:31.119623Z",
     "start_time": "2025-05-27T02:26:31.109549Z"
    }
   },
   "outputs": [],
   "source": [
    "def render_to_html(sections):\n",
    "    html = '<html><body>\\n'\n",
    "    for section in sections:\n",
    "        html += f'<h1>{section.get(\"section_title\", \"\")}</h1>\\n'\n",
    "        for subsection in section.get(\"subsections\", []):\n",
    "            html += f'<h2>{subsection.get(\"subsection_title\", \"\")}</h2>\\n'\n",
    "            if \"description\" in subsection:\n",
    "                html += f'<p>{subsection[\"description\"]}</p>\\n'\n",
    "            for qtopic in subsection.get(\"question_topics\", []):\n",
    "                html += f'<h3>{qtopic.get(\"topic\", \"\")}</h3>\\n'\n",
    "                result = qtopic.get(\"result\", {})\n",
    "                if isinstance(result, dict):\n",
    "                    if \"html_article\" in result:\n",
    "                        html += result[\"html_article\"] + \"\\n\"\n",
    "                    if \"html_question\" in result:\n",
    "                        html += f'<p><strong>Q: {result[\"html_question\"]}</strong></p>\\n'\n",
    "                        if \"choices\" in result:\n",
    "                            correct = result.get(\"correct_answer\", -1)\n",
    "                            html += '<ul>\\n'\n",
    "                            for idx, choice in enumerate(result[\"choices\"], 1):\n",
    "                                if idx == correct:\n",
    "                                    html += f\"<li><b>{choice}</b> <span style='color:green;'>(correct)</span></li>\\n\"\n",
    "                                else:\n",
    "                                    html += f\"<li>{choice}</li>\\n\"\n",
    "                            html += '</ul>\\n'\n",
    "                        if \"explanation\" in result:\n",
    "                            html += f'<p><em>Explanation: {result[\"explanation\"]}</em></p>\\n'\n",
    "                    if \"questions\" in result and isinstance(result[\"questions\"], list):\n",
    "                        for q in result[\"questions\"]:\n",
    "                            html += f'<p><strong>Q: {q[\"question\"]}</strong></p>\\n'\n",
    "                            if \"choices\" in q:\n",
    "                                correct = q.get(\"correct_answer\", -1)\n",
    "                                html += '<ul>\\n'\n",
    "                                for idx, choice in enumerate(q[\"choices\"], 1):\n",
    "                                    if idx == correct:\n",
    "                                        html += f\"<li><b>{choice}</b> <span style='color:green;'>(correct)</span></li>\\n\"\n",
    "                                    else:\n",
    "                                        html += f\"<li>{choice}</li>\\n\"\n",
    "                                html += '</ul>\\n'\n",
    "                            if \"explanation\" in q:\n",
    "                                html += f'<p><em>Explanation: {q[\"explanation\"]}</em></p>\\n'\n",
    "                    if \"questions\" in result and isinstance(result[\"questions\"], dict):\n",
    "                        q = result[\"questions\"]\n",
    "                        html += f'<p><strong>Q: {q[\"question\"]}</strong></p>\\n'\n",
    "                        if \"choices\" in q:\n",
    "                            correct = q.get(\"correct_answer\", -1)\n",
    "                            html += '<ul>\\n'\n",
    "                            for idx, choice in enumerate(q[\"choices\"], 1):\n",
    "                                if idx == correct:\n",
    "                                    html += f\"<li><b>{choice}</b> <span style='color:green;'>(correct)</span></li>\\n\"\n",
    "                                else:\n",
    "                                    html += f\"<li>{choice}</li>\\n\"\n",
    "                            html += '</ul>\\n'\n",
    "                        if \"explanation\" in q:\n",
    "                            html += f'<p><em>Explanation: {q[\"explanation\"]}</em></p>\\n'\n",
    "    html += '</body></html>'\n",
    "    return html"
   ]
  },
  {
   "cell_type": "code",
   "execution_count": 30,
   "id": "e7a5e4b5084d049c",
   "metadata": {
    "colab": {
     "base_uri": "https://localhost:8080/",
     "height": 1000
    },
    "id": "e7a5e4b5084d049c",
    "outputId": "31c9880e-fc8f-46f9-9a24-41d77a425304",
    "ExecuteTime": {
     "end_time": "2025-05-27T02:26:31.127866Z",
     "start_time": "2025-05-27T02:26:31.121632Z"
    }
   },
   "outputs": [
    {
     "data": {
      "text/plain": "<IPython.core.display.Markdown object>",
      "text/markdown": "<html><body>\n<h1>第1部　語彙・文法</h1>\n<h2>漢字読み (kanji_reading)</h2>\n<p>8問。与えられた漢字の読みをひらがなで答えなさい。</p>\n<h3>満足</h3>\n<p><strong>Q: 旅行がとても楽しくて<u>満足</u>しています。</strong></p>\n<ul>\n<li>まんそく</li>\n<li><b>まんぞく</b> <span style='color:green;'>(correct)</span></li>\n<li>まんしょく</li>\n<li>みつぞく</li>\n</ul>\n<h3>繰り返す</h3>\n<p><strong>Q: 先生は大切なことを<u>繰り返して</u>説明した。</strong></p>\n<ul>\n<li><b>くりかえして</b> <span style='color:green;'>(correct)</span></li>\n<li>くりかえした</li>\n<li>くりかいして</li>\n<li>くるかえして</li>\n</ul>\n<h3>筋肉</h3>\n<p><strong>Q: 毎日運動すると<u>筋肉</u>が強くなります。</strong></p>\n<ul>\n<li>きんいく</li>\n<li><b>きんにく</b> <span style='color:green;'>(correct)</span></li>\n<li>すじにく</li>\n<li>けんにく</li>\n</ul>\n<h3>努力</h3>\n<p><strong>Q: 目標を達成するために毎日<u>努力</u>しています。</strong></p>\n<ul>\n<li><b>どりょく</b> <span style='color:green;'>(correct)</span></li>\n<li>どりく</li>\n<li>ぬりょく</li>\n<li>ぬりく</li>\n</ul>\n<h3>選手</h3>\n<p><strong>Q: 彼はサッカーの<u>選手</u>です。</strong></p>\n<ul>\n<li>せんしゃ</li>\n<li><b>せんしゅ</b> <span style='color:green;'>(correct)</span></li>\n<li>せんじゅ</li>\n<li>せんしょ</li>\n</ul>\n<h3>現象</h3>\n<p><strong>Q: 最近、この地域で珍しい<u>現象</u>が観察されています。</strong></p>\n<ul>\n<li><b>げんしょう</b> <span style='color:green;'>(correct)</span></li>\n<li>げんぞう</li>\n<li>けんしょう</li>\n<li>けんぞう</li>\n</ul>\n<h3>助ける</h3>\n<p><strong>Q: 困っている人を<u>助ける</u>のは大切です。</strong></p>\n<ul>\n<li>てつだう</li>\n<li><b>たすける</b> <span style='color:green;'>(correct)</span></li>\n<li>ささえる</li>\n<li>まもる</li>\n</ul>\n<h3>情報</h3>\n<p><strong>Q: ニュースで新しい<u>情報</u>を知りました。</strong></p>\n<ul>\n<li><b>じょうほう</b> <span style='color:green;'>(correct)</span></li>\n<li>じょうほ</li>\n<li>じょうこう</li>\n<li>じょうほく</li>\n</ul>\n</body></html>"
     },
     "metadata": {},
     "output_type": "display_data"
    }
   ],
   "source": [
    "html_output = render_to_html(output_data['sections'])\n",
    "display(Markdown(html_output))"
   ]
  },
  {
   "cell_type": "code",
   "execution_count": 31,
   "id": "330a0817d72fe5e",
   "metadata": {
    "id": "330a0817d72fe5e",
    "ExecuteTime": {
     "end_time": "2025-05-27T02:26:31.133139Z",
     "start_time": "2025-05-27T02:26:31.129934Z"
    }
   },
   "outputs": [],
   "source": [
    "# timestamp = datetime.datetime.now().strftime(\"%Y%m%d_%H%M%S\")\n",
    "# filename = f\"./output/jlpt_simulator/JLPT_{timestamp}.html\"\n",
    "\n",
    "# with open(filename, \"w\", encoding=\"utf-8\") as file:\n",
    "#     file.write(html_output)"
   ]
  },
  {
   "cell_type": "code",
   "execution_count": 31,
   "id": "c02c02ec6620993d",
   "metadata": {
    "id": "c02c02ec6620993d",
    "ExecuteTime": {
     "end_time": "2025-05-27T02:26:31.138441Z",
     "start_time": "2025-05-27T02:26:31.135201Z"
    }
   },
   "outputs": [],
   "source": []
  }
 ],
 "metadata": {
  "colab": {
   "include_colab_link": true,
   "provenance": []
  },
  "kernelspec": {
   "display_name": ".venv",
   "language": "python",
   "name": "python3"
  },
  "language_info": {
   "codemirror_mode": {
    "name": "ipython",
    "version": 3
   },
   "file_extension": ".py",
   "mimetype": "text/x-python",
   "name": "python",
   "nbconvert_exporter": "python",
   "pygments_lexer": "ipython3",
   "version": "3.13.2"
  }
 },
 "nbformat": 4,
 "nbformat_minor": 5
}
