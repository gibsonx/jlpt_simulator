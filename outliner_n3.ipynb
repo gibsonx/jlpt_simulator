{
 "cells": [
  {
   "cell_type": "markdown",
   "id": "f94c1f8ee4d0b085",
   "metadata": {
    "colab_type": "text",
    "id": "view-in-github"
   },
   "source": [
    "<a href=\"https://colab.research.google.com/github/gibsonx/jlpt_simulator/blob/dev/graphs/n3/outliner.ipynb\" target=\"_parent\"><img src=\"https://colab.research.google.com/assets/colab-badge.svg\" alt=\"Open In Colab\"/></a>"
   ]
  },
  {
   "cell_type": "code",
   "execution_count": 17,
   "id": "712d86d2ae0847a0",
   "metadata": {
    "colab": {
     "base_uri": "https://localhost:8080/"
    },
    "id": "712d86d2ae0847a0",
    "outputId": "0b69e343-ba35-4773-acca-92da0492bdba",
    "ExecuteTime": {
     "end_time": "2025-05-27T14:46:08.105144Z",
     "start_time": "2025-05-27T14:46:08.059879Z"
    }
   },
   "outputs": [
    {
     "name": "stdout",
     "output_type": "stream",
     "text": [
      "Not running on CoLab\n"
     ]
    }
   ],
   "source": [
    "if 'google.colab' in str(get_ipython()):\n",
    "    !git clone https://github.com/gibsonx/jlpt_simulator.git\n",
    "    %cd jlpt_simulator\n",
    "    !git checkout dev\n",
    "    \n",
    "    !apt-get install python3-dev graphviz libgraphviz-dev pkg-config\n",
    "    !pip install -r requirements.txt\n",
    "else:\n",
    "  print('Not running on CoLab')\n"
   ]
  },
  {
   "cell_type": "code",
   "execution_count": 33,
   "id": "7f526a68a7e73a65",
   "metadata": {
    "colab": {
     "base_uri": "https://localhost:8080/"
    },
    "id": "7f526a68a7e73a65",
    "outputId": "e3e7c3a2-bde6-4f65-cf4c-8ddd97998d8f",
    "ExecuteTime": {
     "end_time": "2025-05-27T14:57:41.353214Z",
     "start_time": "2025-05-27T14:57:39.782470Z"
    }
   },
   "outputs": [
    {
     "data": {
      "text/plain": "True"
     },
     "execution_count": 33,
     "metadata": {},
     "output_type": "execute_result"
    }
   ],
   "source": [
    "import json\n",
    "import logging\n",
    "import random\n",
    "import time\n",
    "from spire.doc import *\n",
    "from spire.doc.common import *\n",
    "import pandas as pd\n",
    "import yaml\n",
    "from tqdm import tqdm\n",
    "\n",
    "# from langchain_community.embeddings import XinferenceEmbeddings\n",
    "from libs.LLMs import *\n",
    "import datetime\n",
    "logging.basicConfig(level=logging.INFO, format='%(asctime)s - %(levelname)s - %(message)s')\n",
    "\n",
    "from graphs.n3.ExamTaskHandler import ExamTaskHandler\n",
    "load_dotenv()"
   ]
  },
  {
   "cell_type": "code",
   "outputs": [],
   "source": [
    "def collect_vocabulary(file_path):\n",
    "    # Read the CSV file\n",
    "    data = pd.read_csv(file_path)\n",
    "    # Shuffle the rows and reset the index\n",
    "    words = data.iloc[:, :2].sample(frac=1).reset_index(drop=True)\n",
    "    # Extract the second column (values) and convert to a single-line string\n",
    "    vocab_string = ','.join(words.iloc[:, 1].astype(str).tolist())\n",
    "    return vocab_string"
   ],
   "metadata": {
    "collapsed": false,
    "ExecuteTime": {
     "end_time": "2025-05-27T14:57:41.569053Z",
     "start_time": "2025-05-27T14:57:41.564200Z"
    }
   },
   "id": "d159b3254277b376",
   "execution_count": 34
  },
  {
   "cell_type": "code",
   "execution_count": 35,
   "id": "initial_id",
   "metadata": {
    "id": "initial_id",
    "ExecuteTime": {
     "end_time": "2025-05-27T14:57:42.500846Z",
     "start_time": "2025-05-27T14:57:42.477081Z"
    }
   },
   "outputs": [],
   "source": [
    "# Import N3 Vocabulary\n",
    "file_path = 'Vocab/n3.csv'\n",
    "# Display the content of the CSV file\n",
    "vocab_dict = collect_vocabulary(file_path)\n",
    "with open(\"Vocab/topics.txt\", \"r\", encoding=\"utf-8\") as file:\n",
    "    topics_list = [line.strip() for line in file]"
   ]
  },
  {
   "cell_type": "code",
   "outputs": [
    {
     "data": {
      "text/plain": "'こんやく,だいとうりょう,けっせき,もうふ,きたく,ぎょうぎ,さいちゅう,がく,しょうじる,どうか,がっかり,あずける,しゅうしょく,しんせき,がっき,じんこう,なわ,また,こっかい,さす,えんじょ,がい,パス,あわれ,ふくろ,たつ,ケース,じゅうし,あく,もとめる,ぶつり,せっけい,はかる,しゅふ,さいばん,すいみん,べつに,だい,ふそく,どういつ,てんこう,つゆ,なっとく,すがた,こす,きり,はく,かたる,とうちゃく,うたがう,たまたま,はん,のびる,てんけい,びみょう,じょうとう,しんけい,ちゅうもく,うれる,かわく,よほう,いいん,むすぶ,きみょう,せいかく,おくる,くれ,ユーモア,アイスクリーム,しはらい,ていこう,まぶしい,たから,けんかい,あいかわらず,えんき,すむ,さいわい,ろうどう,おろす,なくす,くむ,ある,ねんかん,そう,かんじょう,あらわす,けいき,あらわす,ほんにん,しゅつじょう,かかり,たにん,かんじ,ね,とじる,データ,このむ,とめる,いぜん,こぼれる,じき,はら,じょうだん,きしゃ,いわう,はじまり,いち,たたく,さく,かかえる,もんじ,ただ,つかむ,かる,けん,あたたかい,ゆうり,くだり,メンバー,スキー,だが,ろんぶん,かたづけ,てきせつ,さっきょく,がいしゅつ,きゅうか,めんせつ,いっか,なかば,むしあつい,つうじる,とら,こんかい,おん,いじ,ようき,しゅよう,だまる,てんねん,きづく,ちゅう,よこぎる,どうし,ぬの,ね,ルール,とも,とうじ,つきあい,じっと,かり,かける,しゅう,はさみ,かんじゃ,わずか,いきもの,え,でんごん,がん,さす,ちょくせつ,くわわる,おい,つらい,すごす,デモ,じけん,はなれる,たしょう,かんする,わる,のぞく,あたたまる,きこう,いじょう,けいい,ごうとう,つかれ,せいぜい,つまり,かいがい,しだい,げき,しゅぎ,あぶら,りえき,かわかす,しき,はなれる,テント,すませる,くむ,ひっし,きかん,あちこち,ふ,さんか,はで,すてき,アルバム,しんがく,へる,こじん,かよう,かく,ちえ,かんぜん,アウト,いずれ,ねがい,ねがう,スター,トンネル,かえす,かんしん,ろんそう,へんこう,げんかい,もの,ふじゆう,ことなる,よす,プラス,ぎもん,ひこう,ことによると,ここ,くさい,ちかごろ,とりあげる,たいざい,しょうひ,いっそう,きたい,おさない,とう,から,くるう,しはらう,うお,けち,まるで,そしき,ひとこと,つゆ,こおる,ていりゅうじょ,はかる,おしえ,めいわく,いっち,きょうじゅ,おおう,タイプライター,けんせつ,はさん,びん,さます,そんがい,あんまり,しゅうい,ひろがる,つかまる,ける,みらい,たんじゅん,とう,ますます,すみません (かん),きょく,いし,くるしい,どうよう,えん,こうさい,がくしゅう,ばくはつ,もと,ぶんや,かしゅ,しぼう,めいかく,とんでもない,ひたい,かざり,ゆうしゅう,きょうきゅう,かち,ソファー,あてる,ぼう,い,こくばん,りつ,いし,まぜる,せいり,たすける,おぼれる,れつ,それと,けいき,あらゆる,あくま,びじん,きんにく,くだる,ばくだい,いっしょう,けい,したがって,こうげき,ほり,ちゅうこ,じんぶつ,はんい,しきゅう,しぼう,きょうぎ,しかく,かいてき,わん,まち,ことわる,じこく,しゅうり,けっか,たまらない,ふくめる,みりょく,トランプ,きおん,おうさま,かんこう,おとこのひと,せいじん,せい,ながめる,いどう,つよめる,ほとけ,かんじる,そなえる,じたい,ほんもの,ふくむ,うず,せいめい,かんそう,しばふ,くみ,であい,ぜいきん,ぶじ,こじん,えがお,りゅうこう,うごかす,こんなに,し,つなぐ,ほえる,するどい,お,なお,しじん,おうじる,ちょうき,ちょうし,われわれ,せいげん,ふへい,アップ,せっきょくてき,ようじん,まざる,せいしつ,こううん,せけん,はなす,たとえ,ロケット,にっこう,とめる,のうぎょう,きぼう,かかく,たんに,ラケット,みやげ,ふたご,かしこい,えさ,とい,すいせん,いんさつ,どくりつ,てきする,しょうたい,せんでん,せんこう,しょうがい,そうぞう,おんだん,じんるい,インタビュー,マイク,しんゆう,さそう,な,ようい,ぶたい,じっし,むね,しどう,もっとも,あいず,め,ほうほう,いんたい,おび,とくちょう,たおす,つきあう,せんざい,うなる,ちる,がっき,そのまま,しぼう,スピーチ,きおく,より,りこん,こくせき,じんしゅ,さっぱり,ちちおや,むかえ,ぜんいん,きろく,とう,めったに,はかせ,しゅっぱん,めんきょ,ちゅうもん,ふせぐ,あいする,いちば,とうぜん,ちゃんと,かん,ようてん,じんせい,えんそう,やぶれる,かげ,みちる,にがて,きかい,きんがく,けつろん,ぶぶん,まえもって,スープ,れいぎ,わく,ぶん,いっしゅん,げきじょう,やちん,ピン,たいら,はら,たかまる,みやこ,のうみん,かんじょう,およぼす,ふる,うっかり,さめる,かん,かんこう,きゅうに,だいぶぶん,ぶっか,てつどう,ゆいいつ,てんこう,うさぎ,そこで,はやる,そそぐ,コード,せつやく,かこ,うめ,きゅうげき,のせる,すっぱい,けってん,ほう,めいし,さんこう,こくふく,いや,はだか,だいり,かいが,せいり,たすかる,とにかく,そうさ,ふち,こうはい,たいくつ,こづつみ,もやす,にっちゅう,かくじつ,ゆうき,じょじょに,なる,わざと,けいじ,たいした,いためる,そうおん,じゅうだい,かいぜん,せいきゅう,タイトル,さけ,とおす,もくひょう,かぎる,ショック,しんさつ,スイッチ,いんしょう,れいせい,か,あげる,けんとう,たびたび,ぶつかる,かんこう,ベルト,の,すでに,むける,いきおい,しんり,ぬらす,ふるえる,まとまる,ゆたか,わん,しき,ふしぎ,ご,うわ,ぎし,ふり,しんぽ,わがまま,しな,しょくりょう,こっせつ,ふかめる,おひる,た,ほうぼう,ごがく,した,すれちがう,さばく,でんとう,うばう,すぐれる,ほうこく,のぞみ,ほご,てきど,こうふく,ぜん,ぐんたい,はずす,キャンプ,もったいない,それでも,おどろき,ぞうか,ダウン,すくなくとも,あたえる,おさえる,はい,けん,しょめい,よごす,とく,しょうりゃく,もと,つながる,わだい,マイナス,スタイル,むかい,マスコミ,かならずしも,まとめる,かみ,なんで,してん,おう,ですから,たま,てつがく,こうりょ,なまける,あらた,センター,しょうがくきん,はかる,かね,つめる,しんり,なれる,ふあん,けむり,しはい,おせん,たより,ずれる,まさに,たいせん,いき,ちいき,こす,ひょうばん,うけとる,せんじつ,ためる,ごうけい,てつだい,あい,たんなる,まざる,ほのお,ぜったい,みごと,しんよう,ふやす,ころぶ,はなす,かゆい,くらす,いったい,ふで,かだい,はば,ちゅうしょく,おしゃれ,なぐる,さかり,せいさん,たま,さばく,まく,ひとり,えがく,しょうばい,しんぱん,ねんかん,きんぞく,する,ありがとう,ようきゅう,そう,げんじつ,いらい,かんりょう,スタンド,きかん,おさめる,こぜに,あきらめる,にぎる,かもしれない,つとめ,かんどう,きげん,ドライブ,きゅう,のう,けいじ,どこか,ちい,ほぼ,ただ,きんだい,あたたまる,おか,ふかまる,そう,はかる,さける,おもわず,ライター,とばす,ひ,きまり,そうさ,たいしょう,にる,がいこう,こうへい,なぞ,ふこう,ウイスキー,つづき,しょう,そっくり,にっこり,す,サイン,ぜつめつ,かんせい,じゅうみん,はんばい,じき,めいじる,らい～,ね,ぐん,にほん,ふえ,けっしん,しょうひん,ざせき,とおりすぎる,ぼんやり,かえる,なみ,さんせい,ついに,いらっしゃい,する,じつげん,しめる,おろす,どうし,けいえい,おうじ,もうしこむ,じょう,へい,めんどう,こえる,おもに,こんなん,けいたい,しょくぶつ,かいふく,クリーム,しつぎょう,かち,ちきゅう,しゅうだん,きょうつう,しばしば,てま,ひょう,まんいち,こうえん,そのうえ,てじな,ながめ,パイプ,どうしても,かいいん,はく,つねに,ふつう,しょうとつ,レベル,ほこり,ふたたび,うらぎる,げんしょう,せいど,ひょうか,つうこう,じゅうたく,くさる,ためす,けしょう,ひづけ,ながす,ひろまる,きょうりょく,ほか,しきりに,ひてい,うしなう,きふ,もとづく,きょか,げんしょう,じょうきょう,チーズ,してん,しょうにん,タオル,てき,かん,ささる,じゅう,さいしゅう,おとる,ちしき,すう,ちりょう,ふだん,どうとく,く,ほうもん,さいてい,さいこう,あたためる,さつ,つうしん,かたな,かわいらしい,しょくひん,けいき,はんこう,せきにん,こうそく,おおいに,かてい,きず,せきたん,じゅう,なかみ,くわえる,いし,みかける,じつりょく,しんけん,これら,こうかい,あらわれ,たび,せいしん,ひざ,いだい,はだ,たっぷり,せいぞう,ざいさん,ゆずる,やめる,はっぴょう,けいゆ,はっけん,ほぞん,はい,ラベル,さる,きんゆう,みょう,こんらん,かんそう,じょうきょう,ごみ,しめす,じょうたい,ぜんたい,ぎむ,まく,つぐ,ほっと,じょうほう,ちゅうがく,かさねる,まく,よろこび,あう,バイオリン,のうりょく,いつのまにか,しよう,プラスチック,ていき,けっきょく,ぜい,であい,いふく,びょうどう,デザート,かつやく,で,あぶら,つむ,しょり,あかり,どうし,あるいは,はね,じたい,メッセージ,けんぽう,かいごう,はずれる,そうち,いき,かくれる,まつ,よさん,たいよう,ごうか,つたわる,ふうふ,すべて,たしか,ならす,ずっと,ひじょう,きちんと,さめる,かこむ,あらわれる,こうば,さす,ためし,ゆうのう,ずつう,かおり,ピクニック,はなしあう,うんてん,ちょきん,くだ,とびだす,はいゆう,クラシック,ひょうめん,こうほ,じゅうたい,かんかく,かっき,ひょうじょう,きょうちょう,みる,そで,とくい,ぞう,いわば,さける,ぎちょう,ひかく,よう,はやす,あき,いんよう,まかせる,ちじ,せいせき,なみだ,ボーイ,しょうじょ,しょくもつ,じみ,そうぞく,する,がら,やく,のんびり,ぎろん,やね,ともに,こぼす,はってん,ざっと,ねずみ,たんい,ひとしい,ひよう,こうかい,よみ,さけぶ,かてい,ご,かげん,せいぶつ,きく,かくす,ほうそう,まる,あな,かわ,ぐん,じさつ,せき,はか,さらに,しょくよく,きゅう,ゆうこう,チャンス,よぼう,ころす,ドレス,にち,しゅしょう,こうしゃ,なやむ,たいおん,かわる,たしかめる,せいしき,じょしゅ,しつど,りく,よぶん,こな,かん,まじる,ものがたり,まったく,ジェットき,しゃべる,みとめる,たった,くろう,はん,きげん,れっしゃ,であう,おこる,おおや,きゅうじょ,いねむり,おえる,けいたい,かなり,いつでも,きゅうそく,しきゅう,しんごう,だいめい,うちゅう,きこう,トップ,たいかい,うつる,ちがい,かぐ,メモ,かんれん,よのなか,すいじゅん,ペンキ,やとう,のう,ところで,だます,おだやか,ごく,ふじん,しゅるい,せい,たよる,エネルギー,ひみつ,てってい,しまい,かんかく,あきる,のうか,いだく,ちょうせん,かた,じょう,しんせん,きん,ははおや,まねく,およぎ,こきゅう,あわせる,かご,かいけい,きり,ぎゃく,まあ,ストレス,ねったい,うまる,うる,さい,つもる,どうじ,どりょく,どくしょ,いはん,ようす,せいねんがっぴ,かのう,チーム,なま,くるしむ,つり,はげしい,かんさつ,じまん,きゅうりょう,はんせい,だいひょう,みまい,ぜいたく,じこ,きのどく,せいかく,いしき,しらせ,しほん,こうどう,かく,つれ,にえる,すうじ,えいせい,きゅうそく,でんし,いけない,じょうきゃく,さいしゅう,みつ,かんりょう,さっか,ゆうき,すえ,くみあい,かせぐ,どくしん,なかみ,ていあん,かわいそう,あんなに,スケジュール,しょうじき,すみ,きゅうしゅう,あと,しょうしょう,ばめん,まご,しょくりょう,しも,つうがく,あける,プラン,さす,すむ,なかま,たに,へいわ,ぶん,おしゃべり,うつす,きんこ,くりかえす,ふく,ふじん,いためる,がまん,だんし,ち,どく,しょうめい,ゆうしょう,すなわち,けんさ,のこり,めん,やく,こうか,ほほえむ,ぶ,びょう,たいいく,はえる,はたけ,しゅんかん,じょし,うわさ,しょうじょう,ちょうだい,とし,いただきます,しょく,えいぎょう,むす,ひやす,かいし,もしも,たま,たて,きかん,がくれき,かなしむ,かがく,ばいう,りょうきん,げんざい,ひこう,みょうごにち,そろえる,いき,ぶっしつ,しかく,こうせい,きんちょう,ほしょう,うむ,おそれる,ふまん,ひも,こうけい,ほお,たば,つける,ヨーロッパ,きょうぎ,いわ,りょう,せつ,こくもつ,キャプテン,きょうかしょ,そして,へんか,けいさん,しょうご,わける,かね,にんき,デート,たく,うめる,とうよう,いぜん,クリスマス,しょうひん,わらい,しばい,むちゅう,どうぞよろしく,いまにも,しゃっきん,くさり,そろう,ほう,もうしわけ,ひょう,かく,くべつ,いらい,いちどに,はた,こんざつ,わかれ,こっか,こうはい,じょうし,おそわる,ゆうこう,かんしゃ,オフィス,やくす,しょう,がく,むく,だん,きよう,がくしゃ,ねっちゅう,いがい,こい,はね,めいじん,のぞむ,かう,ちゅうし,ふうけい,はっこう,かくにん,きたい,しりあい,いわい,そんちょう,ぐうぜん,はっしゃ,できごと,ほうふ,けいやく,かみのけ,じっこう,さかい,ないよう,やがて,せいふ,おさめる,とたん,とどく,しんこく,きかん,れんそう,すいせん,ちらす,しょうぼう,さて,せいけつ,そくど,せいき,かんしん,うま,きょうどう,ちゅうしん,はくしゅ,せい,しんじる,まぜる,あたる,つつみ,よい,よろしく (かん),ふと,たいど,いち,のばす,よゆう,うつ,つぐ,なんでも,はつめい,そう,どうよう,つぎつぎ,にちじょう,こうか,ふんいき,つとめ,ぎいん,けっこう,ていでん,しょるい,やぶる,ジュース,なし,みおくり,むしろ,ごく,える,ならす,ゆるす,やっかい,かぶ,くん,いずみ,かく,いたみ,できれば,つぐ,むく,ろんじる,ゆうじん,しずむ,けんこう,ひとごみ,こくみん,れいがい,ドラマ,へらす,ばっする,さます,くらい,じょし,ぶつ,むだ,とく,はん,しあわせ,せいこう,わき,あんてい,じょうけん,すこしも,せつび,くんれん,さくもつ,ま,いらいら,しゅうにゅう,ブレーキ,から,とじる,じゅうよう,はくぶつかん,きんせん,もどす,しんたい,ほんと,ぶんめい,おう,さんせい,はぶく,よせる,もしかすると,そっと,ぞう,スケート,たんとう,まく,すみ,ふせい,ひろげる,じゅよう,たく,そこ,おう,たいしょう,おじぎ,ひっこし,マーケット,ゆうじょう,げんご,ひ,だいじん,うし,どく,きほん,いいん,みかた,きかい,せきゆ,けいい,こんご,けっかん,ジーンズ,べんとう,ばか,しり,おく,インク,かぐ,よなか,かける,もと,きげん,さく,しろ,マッサージ,トレーニング,だって,あたり,あらし,せいめい,しゅくはく,こうふん,かさい,かんきょう,つい,まけ,のべる,よ,こむぎ,よ,きじ,たんご,あん,ものごと,じしん,げ,ちか,せいめい,のぞく,たいがく,グランド,しょう,ばったり,きょだい,うん,ほこり,かたい,しんこう,きょうふ,もじ,くむ,し,かてい,うがい,きゅうけい,ちゅうしゃ,おろす,つみ,しょうがい,かんとく,ごうかく,いのち,なん,しょさい,すすめる,ぜんしん,ぜんこく,なる,かた,へいきん,よる,うらやましい,なぜなら,のる,まなぶ,ぐっすり,しるし,そんざい,じゅうたい,いとこ,ようび,よき,ゆでる,おいつく,か,さんか,けっかん,せいき,たたかい,たい,たっする,よそく,ぶんせき,しんらい,い,こうかん,わかれる,あいにく,きんえん,まつ,おる,じょうしき,ならす,まね,ゲーム,はり,つく,のぞむ,ボール,こんにちは,おそろしい,かえる,りかい,すすめる,とち,そのうち,としょ,かじ,したがう,ノック,はんにん,いつか,まめ,あずかる,やく,わん,たたむ,おんど,てつ,さく,ひがい,ゆうびん,けいこう,かんせい,グループ,ある,しゅう,としつき,どうよう,あつまり,ようき,じつは,ホーム,こうそく,こんにち,れい,ひん,おもいつく,む,そうとう,いっぽう,こうせい,いま,ていど,いつまでも,つうきん,しげん,ようそ,かんきゃく,つく,はんだん,たがい,くう,さゆう,かいけつ,たいりく,そば,しかも,あくしゅ,かみ,さくひん,しゅだん,ねんじゅう,しぜん,おうだん,うったえる,うつる,せんしゅ,せいひん,さほう,きじ,あたり,しつぼう,しょもつ,かいしゃく,さべつ,ごめんなさい,ママ,かり,とうあん,ちほう,にあう,げんば,ミス,かみなり,ぎかい,パイロット,ぜん,こうふく,かんげい,じき,もんく,きずく,かわ,とうさん,えいきょう,しかく,てきよう,かたづく,かもく,わた,とくちょう,きにいる,こい,なべ,ろうじん,とける,さぎょう,ちょしゃ,しっけ,ヨット,ちのう,おもいで,きつい,のぼる,ことわざ,はかる,しんちょう,しゅうしょく,まずしい,だけど,かんがえ,せめる,ダイヤ,た,い,コーチ,いじ,ながれ,さら,ただ,そん,おん,きょうちょう,もちいる,かえる,しんこう,とれる,かかる,だんたい,ふくそう,どんなに,か,パーセント,ノー,あきらか,けい,す,めいれい,もちあげる,ぶつける,せんこう,ちゃ,カー,おめでとう,のき,ひひょう,はんざい,けつえき,せい,ハイキング,しげき,あら,ざいりょう,たつ,とく,いかり,こうけん,そうじゅう,エンジン,たかめる,どうりょう,こうえん,よあけ,いたる,すじ,ひょうげん,もえる,ず,かつよう,にっぽん,あつかう,あんき,まもる,しも,めくる,それとも,なにも,たび,しよう,かい,まく,さる,とつぜん,げんだい,さ,めし,だいきん,さまざま,らく,ボート,れい,しつ,けんちく,ぐたい,にゅうじょう,よん,はえる,じょうたつ,やとう,そなえる,きせい,ぜん,こしょう,おとなしい,とうひょう,くわしい,げいじゅつ,まんぞく,きぎょう,じどう,ちく,せつ,おたがい,うつ,よわまる,あわ,ぜんしゃ,しゅうきょう,かさなる,とかい,つむ,なか,かわ,りょうがえ,じき,れんぞく,おそらく,つうやく,ぶき,めうえ,きょうじゅ,かくご,バランス,こし,ぬける,あやまり,そんけい,しめる,ゆき,じょゆう,いたずら,ゆかい,し,いわゆる,しそう,ベンチ,ワイン,はっしゃ,けんとう,えん,つく,かける,おくれ,トラック,しまった (かん),よめ,こと,だく,ねんげつ,イメージ,いっぱん,み,ほほ,じつに,こや,ぬく,ようするに,しゅと,きみ,えいきゅう,きし,トン,きねん,えんぜつ,やくわり,せめる,つよまる,プロ,ほね,いちじ,しんこう,うまれ,たい,くわえる,まつり,あいじょう,かえる,のこす,たく,さんそ,ほどう,しゅうちゅう,ぶ,なんとか,おうえん,こえる,こうこく,せんたく,かみ,やど,おさめる,たちあがる,ほしょう,しゅう,しゅちょう,おに,ば,たいする,ほうせき,たね,せいこう,かつどう,びん,ものおと,かく,ひろめる,むしば,じじょう,いどう,そまつ,つち,いね,ビデオ,はたらき,あわてる,ビール,こくご,あげる,たたかう,ほうこう,りゅうがく,グラス,およそ,セット,まよう,にんげん,あいて,ねんだい,ぴったり,しんぞう,のびる,はし,きん,まっか,きれる,かし,ぐん,とける,へる,しゅうかく,ぶ,まる,じゅん,せいちょう,ちゅうおう,ひとりひとり,いりょう,ながれる,コンテスト,つける,はい,さく,おき,ふし,ぜんしん,こおり,しよう,ぎん,けん,ところが,りそう,しょくたく,つうか,けいこく,そだつ,なにか,こうしゃ,たちば,けってい,あんがい,せんきょ,なみ,かがやく,きのう,さす,まちがい,ほしょう,さからう,くらし,ゴール,たまる,やや,だい,しょうめい,すくう,ていしゅつ,しゅうせい,たんじょう,ふく,わく,いた,むりょう,たいじゅう,がか,よわめる,きゅうりょう,パスポート,ゆう,おめにかかる,ふり,しょうねん,じどう,ささえる,あたためる,おまえ,むし,ひっぱる,えいよう,しょうにん,こうくう,きんし,せいねん,ひはん,つうか,のせる,はあ (かん),チャイム,つなげる,ちょうさ,げんきん,ミルク,そうぞう,しんこう,めいし,てつや,せいねん,ゆか,ふやす,きょうりょく,たとえ,のばす,しょくぎょう,つぐ,カード,アンケート,ちがいない,げんじょう,さいのう,しんちょう,ちゅう,とう,ちへいせん,えいえん,ぜん,りょう,こきょう,よそう,あたりまえ,あてる,わ,かくだい,ぼうけん,ダンス,かぞえる,せい,ひげき,じっさい,デザイン,まいご,かぶる,ただちに,あせ,あらわす,かず,くせ,がくもん,せんこう,ふか,かたい,ししゅつ,たいき,こっきょう,とも,つばさ,もよう,じゅんちょう,はったつ,きゅう,まさか,ほり,ねんれい,えんぎ,うむ,じかに,いまに,しんこく,しゅじゅつ,ます,きんし,ちこく,きらう,ごかい,と,のぼる,したしい,きちょう,たつ,いりょう,じょおう,マスター,サービス,いっしゅ,ふれる,きにゅう,どくとく,じゅんばん,かたがた,いったい,たび,もくてき,せいちょう,いとこ,くやしい,どろ,いじわる,さく,たいし,しゅっしん,かく,きれ,このみ,バッグ,かげ,たいはん,としより,み,こうか,はいたつ,くつう,ちょうじょう,あらそう,さくら,どうろ,けんり,かし,じっけん,じょし,こいびと,とざん,りこう,それぞれ,たま,ハンサム,じじつ,めん,く,まじる,のち,たいほ,かんり,わるくち'"
     },
     "execution_count": 21,
     "metadata": {},
     "output_type": "execute_result"
    }
   ],
   "source": [
    "vocab_dict"
   ],
   "metadata": {
    "collapsed": false,
    "ExecuteTime": {
     "end_time": "2025-05-27T14:46:08.348066Z",
     "start_time": "2025-05-27T14:46:08.338868Z"
    }
   },
   "id": "b8190757154161de",
   "execution_count": 21
  },
  {
   "cell_type": "markdown",
   "id": "4c1cdce8b1f57ef3",
   "metadata": {
    "collapsed": false,
    "id": "4c1cdce8b1f57ef3"
   },
   "source": [
    "#### load Models"
   ]
  },
  {
   "cell_type": "code",
   "outputs": [],
   "source": [
    "from typing import List, Optional\n",
    "\n",
    "from langchain_core.prompts import ChatPromptTemplate\n",
    "\n",
    "from pydantic import BaseModel, Field\n",
    "\n",
    "# instruction = \"\"\"\n",
    "# Section 1: Vocabulary and Grammar\n",
    "# - Kanji reading (kanji_reading): 8 questions\n",
    "# - Write Chinese characters (write_chinese): 6 questions\n",
    "# - Word Meaning Selection (word_meaning): 11 questions\n",
    "# - Synonyms substitution (synonym_substitution): 5 questions\n",
    "# - word usage (word_usage): 5 questions\n",
    "# - Grammar fill in the blank (sentence_grammar): 13 questions\n",
    "# - Sentence sorting (sentence_sort): 5 questions\n",
    "# - Grammar structure selection (sentence_structure): 4-5 questions\n",
    "#\n",
    "# Section 2: Reading Comprehension\n",
    "# - Short passages (short_passage_read): 4 articles\n",
    "# - Mid-size passages (midsize_passage_read): 2 articles\n",
    "# - Long passages (long_passage_read): 1 articles\n",
    "# - Information retrieval (info_retrieval): 1 articles\n",
    "#\n",
    "# Section 3: Listening Comprehension\n",
    "# - Topic understanding (topic_understanding): 6 questions\n",
    "# - Key understanding (keypoint_understanding): 6 questions\n",
    "# - Summary understanding (summary_understanding): 3 questions\n",
    "# - Active expression (active_expression): 4 questions\n",
    "# - Immediate acknowledgment (immediate_ack): 9 questions\n",
    "# \"\"\"\n",
    "\n",
    "instruction = \"\"\"\n",
    "Section 1: Vocabulary and Grammar\n",
    "- のことばの読み方として最もよいものを、1・2・3・4から一つえらびなさい (kanji_reading): 8 questions\n",
    "- このことばを漢字で書くとき、最もよいものを、１・２・３・４から一つえらびなさい (write_chinese): 6 questions\n",
    "\n",
    "Section 2: Reading Comprehension\n",
    "- Information retrieval (info_retrieval): 0 articles\n",
    "\n",
    "Section 3: Listening Comprehension\n",
    "- Topic understanding (topic_understanding): 0 questions\n",
    "\n",
    "\"\"\"\n",
    "\n",
    "\n",
    "direct_gen_outline_prompt = ChatPromptTemplate.from_messages(\n",
    "    [\n",
    "        (\n",
    "            \"system\",\n",
    "            f\"You are a japanese teacher. Your job is to write an outline for a JLPT Japanese-Language Proficiency Test N3 level exam paper. The words in outline must be presented in Japanese only. The complexity should be restricted to N3 level and respect japanese culture. The JLPT Japanese-Language Proficiency Test exam paper includes a mix of moderate and very difficult questions to accurately assess the test-taker's proficiency across different aspects of the language.\"\n",
    "            f\"First, evenly pick Japanese words used in different part of sentence from 'Vocabulary' for questions in Vocabulary and Grammar, ensuring 40 percent of very difficult words. At Section 2 and 3, randomly choose topics in 'TopicList' for Reading Comprehension and Listening Comprehension Sections, don't repeat to choose a same word or topic\"\n",
    "            f\"Second, you should abide by the provided exam instruction and decide the number of questions and content in the each Section.\"\n",
    "            f\"Finally, write the outline of the examination paper in japanese and provide question topics according to the instructions.\"\n",
    "            f\"Instruction: {instruction}\",\n",
    "        ),\n",
    "        (\"user\", \"TopicList: {topic_list}, Vocabulary: {vocab_dict}\"),\n",
    "    ]\n",
    ")\n"
   ],
   "metadata": {
    "collapsed": false,
    "ExecuteTime": {
     "end_time": "2025-05-27T14:46:08.372604Z",
     "start_time": "2025-05-27T14:46:08.351077Z"
    }
   },
   "id": "e339295a858fb5f8",
   "execution_count": 22
  },
  {
   "cell_type": "markdown",
   "id": "fed5f032dadafac1",
   "metadata": {
    "collapsed": false,
    "id": "fed5f032dadafac1"
   },
   "source": [
    "## Data Strcuture"
   ]
  },
  {
   "cell_type": "code",
   "execution_count": 23,
   "id": "39329a71b16d2400",
   "metadata": {
    "id": "39329a71b16d2400",
    "ExecuteTime": {
     "end_time": "2025-05-27T14:46:08.432040Z",
     "start_time": "2025-05-27T14:46:08.376615Z"
    }
   },
   "outputs": [],
   "source": [
    "class QuestionTopic(BaseModel):\n",
    "    topic: str = Field(..., title=\"a vocabulary or topic hint for a question\")\n",
    "\n",
    "\n",
    "class Subsection(BaseModel):\n",
    "    subsection_title: str = Field(..., title=\"subsection English word in () only from the instruction\")\n",
    "    description: str = Field(..., title=\"giving the number of questions and requirements\")\n",
    "    question_topics: Optional[List[QuestionTopic]] = Field(\n",
    "        default_factory=list\n",
    "    )\n",
    "\n",
    "    @property\n",
    "    def as_str(self) -> str:\n",
    "        question_topics_str = \"\\n\".join(\n",
    "            f\"- **{qt.topic}**\" for qt in self.question_topics\n",
    "        )\n",
    "        return f\"### {self.subsection_title}\\n\\n{self.description}\\n\\n{question_topics_str}\".strip()\n",
    "\n",
    "class Section(BaseModel):\n",
    "    section_title: str = Field(..., title=\"Title of the section\")\n",
    "    subsections: Optional[List[Subsection]] = Field(\n",
    "        default_factory=list,\n",
    "        title=\"Titles and reason for each subsection of the JLPT exam page.\",\n",
    "    )\n",
    "\n",
    "    @property\n",
    "    def as_str(self) -> str:\n",
    "        subsections = \"\\n\\n\".join(\n",
    "            subsection.as_str for subsection in self.subsections or []\n",
    "        )\n",
    "        return f\"## {self.section_title}\\n\\n{subsections}\".strip()\n",
    "\n",
    "\n",
    "class Outline(BaseModel):\n",
    "    page_title: str = Field(..., title=\"Title of the JLPT exam page\")\n",
    "    sections: List[Section] = Field(\n",
    "        default_factory=list,\n",
    "        title=\"Titles and descriptions for each section of the JLPT exam paper.\",\n",
    "    )\n",
    "\n",
    "    @property\n",
    "    def as_str(self) -> str:\n",
    "        sections = \"\\n\\n\".join(section.as_str for section in self.sections)\n",
    "        return f\"# {self.page_title}\\n\\n{sections}\".strip()\n"
   ]
  },
  {
   "cell_type": "code",
   "execution_count": 24,
   "id": "d0730de416980c6",
   "metadata": {
    "id": "d0730de416980c6",
    "ExecuteTime": {
     "end_time": "2025-05-27T14:46:08.443470Z",
     "start_time": "2025-05-27T14:46:08.435050Z"
    }
   },
   "outputs": [],
   "source": [
    "# Read the topics from a file, sort them, and print the sorted list\n",
    "def process_topics(file_path):\n",
    "    try:\n",
    "        # Read the file\n",
    "        with open(file_path, 'r', encoding='utf-8') as file:\n",
    "            topics = file.readlines()\n",
    "\n",
    "        # Remove any extra whitespace or newline characters\n",
    "        topics = [topic.strip() for topic in topics if topic.strip()]\n",
    "\n",
    "        # Shuffle the topics randomly\n",
    "        random.shuffle(topics)\n",
    "\n",
    "    except FileNotFoundError:\n",
    "        print(\"The file was not found. Please check the file path.\")\n",
    "    except Exception as e:\n",
    "        print(\"An error occurred:\", str(e))\n",
    "\n",
    "    except FileNotFoundError:\n",
    "        print(\"The file was not found. Please check the file path.\")\n",
    "    except Exception as e:\n",
    "        print(\"An error occurred:\", str(e))"
   ]
  },
  {
   "cell_type": "code",
   "execution_count": 25,
   "id": "8fc17fee14c40716",
   "metadata": {
    "id": "8fc17fee14c40716",
    "ExecuteTime": {
     "end_time": "2025-05-27T14:46:13.118338Z",
     "start_time": "2025-05-27T14:46:08.445573Z"
    }
   },
   "outputs": [
    {
     "name": "stderr",
     "output_type": "stream",
     "text": [
      "2025-05-27 22:46:13,100 - INFO - HTTP Request: POST https://ai-rolandaws880125ai409947751408.openai.azure.com/openai/deployments/gpt-4.1/chat/completions?api-version=2025-01-01-preview \"HTTP/1.1 200 OK\"\n"
     ]
    }
   ],
   "source": [
    "# Preload all topics from the file\n",
    "with open(\"Vocab/topics.txt\", \"r\", encoding=\"utf-8\") as file:\n",
    "    topics_list = [line.strip() for line in file]\n",
    "\n",
    "generate_outline_direct = direct_gen_outline_prompt | azure_llm.with_structured_output(Outline)\n",
    "initial_outline = generate_outline_direct.invoke({\"topic_list\": topics_list, \"vocab_dict\": vocab_dict})"
   ]
  },
  {
   "cell_type": "code",
   "execution_count": 26,
   "id": "d53b7d9ff86a5377",
   "metadata": {
    "colab": {
     "base_uri": "https://localhost:8080/",
     "height": 1000
    },
    "id": "d53b7d9ff86a5377",
    "outputId": "0e4ce018-377a-48d5-9b87-bed3eac897ac",
    "ExecuteTime": {
     "end_time": "2025-05-27T14:46:13.126899Z",
     "start_time": "2025-05-27T14:46:13.120442Z"
    }
   },
   "outputs": [
    {
     "data": {
      "text/plain": "<IPython.core.display.Markdown object>",
      "text/markdown": "# 日本語能力試験N3 模擬試験 問題概要\n\n## 第1部：語彙・文法\n\n### のことばの読み方 (kanji_reading)\n\n次のことばの読み方として最もよいものを、1・2・3・4から一つえらびなさい。全8問。\n\n- **さいちゅう**\n- **がっかり**\n- **しゅうしょく**\n- **しょうじる**\n- **びみょう**\n- **じんこう**\n- **ふそく**\n- **きみょう**\n\n### このことばを漢字で書く (write_chinese)\n\n次のことばを漢字で書くとき、最もよいものを、１・２・３・４から一つえらびなさい。全6問。\n\n- **むすぶ**\n- **てんこう**\n- **しゅふ**\n- **しゅつじょう**\n- **せいかく**\n- **けっせき**"
     },
     "metadata": {},
     "output_type": "display_data"
    }
   ],
   "source": [
    "from IPython.display import display, Markdown\n",
    "\n",
    "display(Markdown(initial_outline.as_str))"
   ]
  },
  {
   "cell_type": "code",
   "execution_count": 27,
   "id": "5c2b7e675e5302a8",
   "metadata": {
    "colab": {
     "base_uri": "https://localhost:8080/"
    },
    "id": "5c2b7e675e5302a8",
    "outputId": "657ff47f-94af-4bd5-8035-03239fd42380",
    "ExecuteTime": {
     "end_time": "2025-05-27T14:51:32.169515Z",
     "start_time": "2025-05-27T14:46:13.128791Z"
    }
   },
   "outputs": [
    {
     "name": "stderr",
     "output_type": "stream",
     "text": [
      "Processing 第1部：語彙・文法:   0%|          | 0/2 [00:00<?, ?it/s]\n",
      "Processing のことばの読み方 (kanji_reading):   0%|          | 0/8 [00:00<?, ?it/s]\u001B[A"
     ]
    },
    {
     "name": "stdout",
     "output_type": "stream",
     "text": [
      "---WEB SEARCH---\n",
      "---Generator----\n"
     ]
    },
    {
     "name": "stderr",
     "output_type": "stream",
     "text": [
      "2025-05-27 22:46:19,162 - INFO - HTTP Request: POST https://ai-rolandaws880125ai409947751408.openai.azure.com/openai/deployments/gpt-4.1/chat/completions?api-version=2025-01-01-preview \"HTTP/1.1 200 OK\"\n",
      "2025-05-27 22:46:19,164 - INFO - Generated message: <li>\n",
      "    試験の<u>最中</u>に電話が鳴りました。\n",
      "    <ol>\n",
      "        <li>さいじゅう</li>\n",
      "        <li>さいちゅう</li>\n",
      "        <li>さいしょう</li>\n",
      "        <li>さいなか</li>\n",
      "    </ol>\n",
      "</li>\n"
     ]
    },
    {
     "name": "stdout",
     "output_type": "stream",
     "text": [
      "---REVISOR---\n"
     ]
    },
    {
     "name": "stderr",
     "output_type": "stream",
     "text": [
      "2025-05-27 22:46:39,805 - INFO - HTTP Request: POST https://ai-rolandaws880125ai409947751408.openai.azure.com/openai/deployments/gpt-4.1-mini/chat/completions?api-version=2025-01-01-preview \"HTTP/1.1 200 OK\"\n",
      "2025-05-27 22:46:39,808 - INFO - Refelect message: Thank you for your submission. Here is a detailed critique and recommendations based on the provided question:\n",
      "\n",
      "1. Content Accuracy:\n",
      "- The vocabulary focus on 最中 and its reading さいちゅう is appropriate for JLPT N3 level, as this is a commonly tested word.\n",
      "- The sentence \"試験の最中に電話が鳴りました。\" is clear, natural, and contextually appropriate, reflecting a typical situation.\n",
      "- The distractors (さいじゅう, さいしょう, さいなか) are plausible readings but only さいちゅう is correct here, which is good for testing recognition.\n",
      "\n",
      "2. Question and Answer Quality:\n",
      "- The question is straightforward: asking for the correct reading of the underlined kanji.\n",
      "- The answer choices are clearly presented and unambiguous.\n",
      "- The difficulty level fits JLPT N3, as recognizing the correct reading of 最中 is expected at this level.\n",
      "\n",
      "3. Cultural and Academic Relevance:\n",
      "- The context of a phone ringing during an exam is culturally relevant and easily understandable.\n",
      "- The sentence structure and vocabulary are consistent with Japanese academic language content.\n",
      "\n",
      "Recommendations:\n",
      "- Consider adding a variety of question types in your exam paper to assess different skills (e.g., grammar usage, reading comprehension, listening, and writing).\n",
      "- For vocabulary questions, sometimes including a sentence that uses the word in a different context can help test deeper understanding.\n",
      "- Ensure that the distractors are all plausible readings or meanings to maintain a good challenge level.\n",
      "- Overall, this question is well-designed and suitable for the JLPT N3 level.\n",
      "\n",
      "In conclusion, this question is well-crafted and appropriate. GOOD ENOUGH.\n"
     ]
    },
    {
     "name": "stdout",
     "output_type": "stream",
     "text": [
      "--- AI Reviser feels Good Enough ---\n",
      "--- Formatter ---\n"
     ]
    },
    {
     "name": "stderr",
     "output_type": "stream",
     "text": [
      "2025-05-27 22:46:40,850 - INFO - HTTP Request: POST https://ai-rolandaws880125ai409947751408.openai.azure.com/openai/deployments/gpt-4.1-mini/chat/completions?api-version=2025-01-01-preview \"HTTP/1.1 200 OK\"\n",
      "2025-05-27 22:46:40,858 - INFO - Formatted message: {'html_question': '試験の<u>最中</u>に電話が鳴りました。', 'correct_answer': 2, 'choices': ['さいじゅう', 'さいちゅう', 'さいしょう', 'さいなか']}\n",
      "\n",
      "Processing のことばの読み方 (kanji_reading):  12%|█▎        | 1/8 [00:27<03:13, 27.71s/it]\u001B[A"
     ]
    },
    {
     "name": "stdout",
     "output_type": "stream",
     "text": [
      "---WEB SEARCH---\n",
      "---Generator----\n"
     ]
    },
    {
     "name": "stderr",
     "output_type": "stream",
     "text": [
      "2025-05-27 22:46:47,831 - INFO - HTTP Request: POST https://ai-rolandaws880125ai409947751408.openai.azure.com/openai/deployments/gpt-4.1/chat/completions?api-version=2025-01-01-preview \"HTTP/1.1 200 OK\"\n",
      "2025-05-27 22:46:47,837 - INFO - Generated message: <ol><li>試験に落ちて<u>がっかり</u>した。</li><ol><li>しっかり</li><li>がっかり</li><li>きっかり</li><li>ばっかり</li></ol></ol>\n"
     ]
    },
    {
     "name": "stdout",
     "output_type": "stream",
     "text": [
      "---REVISOR---\n"
     ]
    },
    {
     "name": "stderr",
     "output_type": "stream",
     "text": [
      "2025-05-27 22:46:53,429 - INFO - HTTP Request: POST https://ai-rolandaws880125ai409947751408.openai.azure.com/openai/deployments/gpt-4.1-mini/chat/completions?api-version=2025-01-01-preview \"HTTP/1.1 200 OK\"\n",
      "2025-05-27 22:46:53,433 - INFO - Refelect message: Thank you for your submission. Here is a detailed critique and recommendations:\n",
      "\n",
      "1. Content Accuracy:\n",
      "- The vocabulary focus on the word \"がっかり\" is appropriate for JLPT N3 level, as it is a common expression indicating disappointment.\n",
      "- The sentence \"試験に落ちてがっかりした。\" is clear, natural, and contextually relevant.\n",
      "- The distractor choices (しっかり, がっかり, きっかり, ばっかり) are suitable as they are similar-sounding adverbs or expressions, which is good for testing listening or reading discrimination.\n",
      "\n",
      "2. Question and Answer Quality:\n",
      "- The question format is straightforward: fill in the blank with the correct word.\n",
      "- However, the question prompt is missing. While instructions are not to be added explicitly, the question itself should be clearly stated (e.g., \"Choose the correct word to fill in the blank\").\n",
      "- The answer choices are clearly presented and unambiguous.\n",
      "- The difficulty level matches JLPT N3, as recognizing the correct adverb based on context requires intermediate vocabulary knowledge.\n",
      "\n",
      "3. Detailed Refinement:\n",
      "- The sentence is culturally appropriate and typical of Japanese language usage.\n",
      "- To enhance the question, consider using a sentence that provides a bit more context or complexity, such as including a cause-effect relationship or emotional nuance.\n",
      "- Also, ensure the underline is placed exactly under the word to be replaced for clarity.\n",
      "\n",
      "Recommendations:\n",
      "- Please ensure that the question prompt is included in the exam paper to guide test takers clearly.\n",
      "- Consider adding a few more questions of similar type to comprehensively assess vocabulary recognition.\n",
      "- Optionally, include a short reading passage or dialogue to provide richer context for vocabulary questions at N3 level.\n",
      "\n",
      "Overall, the question is well-constructed and suitable for the JLPT N3 level with minor improvements needed in clarity of instructions and context richness.\n",
      "\n",
      "Thank you.\n"
     ]
    },
    {
     "name": "stdout",
     "output_type": "stream",
     "text": [
      "---Generator----\n"
     ]
    },
    {
     "name": "stderr",
     "output_type": "stream",
     "text": [
      "2025-05-27 22:46:56,185 - INFO - HTTP Request: POST https://ai-rolandaws880125ai409947751408.openai.azure.com/openai/deployments/gpt-4.1/chat/completions?api-version=2025-01-01-preview \"HTTP/1.1 200 OK\"\n",
      "2025-05-27 22:46:56,187 - INFO - Generated message: <ol>\n",
      "    <li>\n",
      "        旅行が中止になって<u>がっかり</u>した。\n",
      "        <ol>\n",
      "            <li>しっかり</li>\n",
      "            <li>がっかり</li>\n",
      "            <li>きっかり</li>\n",
      "            <li>ばっかり</li>\n",
      "        </ol>\n",
      "    </li>\n",
      "</ol>\n"
     ]
    },
    {
     "name": "stdout",
     "output_type": "stream",
     "text": [
      "---REVISOR---\n"
     ]
    },
    {
     "name": "stderr",
     "output_type": "stream",
     "text": [
      "2025-05-27 22:47:00,234 - INFO - HTTP Request: POST https://ai-rolandaws880125ai409947751408.openai.azure.com/openai/deployments/gpt-4.1-mini/chat/completions?api-version=2025-01-01-preview \"HTTP/1.1 200 OK\"\n",
      "2025-05-27 22:47:00,236 - INFO - Refelect message: Thank you for your submission. Here is my feedback:\n",
      "\n",
      "1. Content Accuracy:\n",
      "- The sentence \"旅行が中止になってがっかりした。\" is clear, natural, and appropriate for the JLPT N3 level.\n",
      "- The vocabulary tested (\"がっかり\") is suitable and commonly used at this level to express disappointment.\n",
      "- The distractors (しっかり, がっかり, きっかり, ばっかり) are well-chosen as they are similar-sounding adverbs, which effectively tests the learner's ability to distinguish subtle differences.\n",
      "\n",
      "2. Question and Answer Quality:\n",
      "- The question format is straightforward with a fill-in-the-blank style.\n",
      "- However, as with the previous submission, the question prompt or instruction is missing. Although you should not add explicit instructions per the guidelines, the question itself should clearly indicate what is expected (e.g., \"Choose the correct word to complete the sentence\").\n",
      "- The answer choices are clearly presented and unambiguous.\n",
      "- The difficulty level matches the JLPT N3 level, requiring knowledge of adverbs and their appropriate contextual use.\n",
      "\n",
      "3. Detailed Refinement:\n",
      "- The sentence is culturally appropriate and relevant.\n",
      "- The underline is correctly placed under the target word.\n",
      "- To increase the challenge slightly, you might consider using a sentence with a bit more complexity or including a short context passage.\n",
      "\n",
      "Recommendations:\n",
      "- Please ensure the question itself clearly cues the test taker on what to do, even without additional instructions.\n",
      "- Consider including a variety of question types to assess different skills comprehensively.\n",
      "- Adding a few more questions of similar difficulty would help provide a balanced assessment.\n",
      "\n",
      "Overall, this question is well-constructed and appropriate for the JLPT N3 level with minor improvements in clarity of the question prompt.\n",
      "\n",
      "Thank you.\n"
     ]
    },
    {
     "name": "stdout",
     "output_type": "stream",
     "text": [
      "--- Reach the Maximum Round ---\n",
      "--- Formatter ---\n"
     ]
    },
    {
     "name": "stderr",
     "output_type": "stream",
     "text": [
      "2025-05-27 22:47:01,181 - INFO - HTTP Request: POST https://ai-rolandaws880125ai409947751408.openai.azure.com/openai/deployments/gpt-4.1-mini/chat/completions?api-version=2025-01-01-preview \"HTTP/1.1 200 OK\"\n",
      "2025-05-27 22:47:01,183 - INFO - Formatted message: {'html_question': '旅行が中止になって<u>_____</u>した。', 'correct_answer': 2, 'choices': ['しっかり', 'がっかり', 'きっかり', 'ばっかり']}\n",
      "\n",
      "Processing のことばの読み方 (kanji_reading):  25%|██▌       | 2/8 [00:48<02:20, 23.37s/it]\u001B[A"
     ]
    },
    {
     "name": "stdout",
     "output_type": "stream",
     "text": [
      "---WEB SEARCH---\n",
      "---Generator----\n"
     ]
    },
    {
     "name": "stderr",
     "output_type": "stream",
     "text": [
      "2025-05-27 22:47:10,532 - INFO - HTTP Request: POST https://ai-rolandaws880125ai409947751408.openai.azure.com/openai/deployments/gpt-4.1/chat/completions?api-version=2025-01-01-preview \"HTTP/1.1 200 OK\"\n",
      "2025-05-27 22:47:10,534 - INFO - Generated message: <ol><li>大学を卒業したら<u>就職</u>したいと思っています。<ol><li>しゅうそく</li><li>しゅうしょく</li><li>しゅうじょく</li><li>しゅしょく</li></ol></li></ol>\n"
     ]
    },
    {
     "name": "stdout",
     "output_type": "stream",
     "text": [
      "---REVISOR---\n"
     ]
    },
    {
     "name": "stderr",
     "output_type": "stream",
     "text": [
      "2025-05-27 22:47:17,183 - INFO - HTTP Request: POST https://ai-rolandaws880125ai409947751408.openai.azure.com/openai/deployments/gpt-4.1-mini/chat/completions?api-version=2025-01-01-preview \"HTTP/1.1 200 OK\"\n",
      "2025-05-27 22:47:17,186 - INFO - Refelect message: The submitted question is a vocabulary reading question focused on the word \"就職,\" which is appropriate for the JLPT N3 level. The sentence \"大学を卒業したら就職したいと思っています。\" is clear, natural, and relevant to the everyday context of a student planning their career, fitting well within the expected content for this level.\n",
      "\n",
      "The multiple-choice options for the reading are well-chosen, including plausible distractors that test the learner's knowledge of similar-sounding words and kanji readings. The correct answer \"しゅうしょく\" is clearly the intended reading, and the other options are reasonable distractors without being misleading or ambiguous.\n",
      "\n",
      "However, since this is a single question, I recommend including a variety of question types to comprehensively assess different language skills at the N3 level, such as grammar usage, reading comprehension, and listening, if applicable. Also, consider including a short reading passage to accompany vocabulary questions, which would provide context and increase the challenge appropriately.\n",
      "\n",
      "In summary, this question is well-constructed and suitable for N3 learners, but the exam paper would benefit from additional questions covering a broader range of skills and slightly more complex reading materials.\n",
      "\n",
      "Recommendations:\n",
      "- Maintain the current vocabulary question style as it fits N3 level well.\n",
      "- Add more diverse question types (grammar, reading comprehension) for balanced assessment.\n",
      "- Include short context passages to increase reading challenge and relevance.\n",
      "- Ensure all questions remain culturally appropriate and reflect common Japanese academic or daily life situations.\n",
      "\n",
      "Overall, this submission is a good start but would need expansion to form a complete JLPT N3 exam paper.\n",
      "\n",
      "Detailed feedback:\n",
      "- Content accuracy: Accurate and appropriate for N3.\n",
      "- Question and answer quality: Clear and unambiguous.\n",
      "- Cultural relevance: Appropriate and relevant.\n",
      "- Refinement: Expand question variety and reading material complexity.\n",
      "\n",
      "Please provide additional questions or sections to review for a more comprehensive critique.\n"
     ]
    },
    {
     "name": "stdout",
     "output_type": "stream",
     "text": [
      "---Generator----\n"
     ]
    },
    {
     "name": "stderr",
     "output_type": "stream",
     "text": [
      "2025-05-27 22:47:20,559 - INFO - HTTP Request: POST https://ai-rolandaws880125ai409947751408.openai.azure.com/openai/deployments/gpt-4.1/chat/completions?api-version=2025-01-01-preview \"HTTP/1.1 200 OK\"\n",
      "2025-05-27 22:47:20,561 - INFO - Generated message: <ol>\n",
      "<li>\n",
      "日本語の文法では<u>修飾</u>の役割が大切です。\n",
      "<ol>\n",
      "<li>しゅうしょく</li>\n",
      "<li>しゅうそく</li>\n",
      "<li>しゅしょう</li>\n",
      "<li>しゅしょうく</li>\n",
      "</ol>\n",
      "</li>\n",
      "</ol>\n"
     ]
    },
    {
     "name": "stdout",
     "output_type": "stream",
     "text": [
      "---REVISOR---\n"
     ]
    },
    {
     "name": "stderr",
     "output_type": "stream",
     "text": [
      "2025-05-27 22:47:24,515 - INFO - HTTP Request: POST https://ai-rolandaws880125ai409947751408.openai.azure.com/openai/deployments/gpt-4.1-mini/chat/completions?api-version=2025-01-01-preview \"HTTP/1.1 200 OK\"\n",
      "2025-05-27 22:47:24,518 - INFO - Refelect message: This vocabulary reading question focuses on the word \"修飾,\" which is appropriate for the JLPT N3 level, as learners at this stage are expected to understand basic academic and linguistic terminology. The sentence \"日本語の文法では修飾の役割が大切です。\" is clear, relevant to language study, and culturally appropriate for learners studying Japanese grammar.\n",
      "\n",
      "The multiple-choice options include plausible distractors, but there is a minor issue: option 1 \"しゅうしょく\" is a homophone of the previous question's correct answer (\"就職\") and might confuse learners if they do not pay close attention to kanji. This is acceptable as it tests kanji recognition, but the other options (\"しゅうそく,\" \"しゅしょう,\" and \"しゅしょうく\") are less common or incorrect readings, which is good for differentiation.\n",
      "\n",
      "However, the option \"しゅしょうく\" (option 4) is not a valid Japanese reading and might confuse learners unnecessarily. It is better to replace it with a more plausible distractor or omit it to maintain question quality.\n",
      "\n",
      "Recommendations:\n",
      "- Replace \"しゅしょうく\" with a more plausible incorrect reading or a common misreading.\n",
      "- Continue to use sentences that provide clear context for the vocabulary.\n",
      "- Consider adding questions that test grammar usage or sentence comprehension to complement vocabulary reading.\n",
      "- Ensure distractors are plausible but not nonsensical to avoid confusion.\n",
      "\n",
      "Overall, this question is well-designed for N3 vocabulary reading but could be improved by refining distractor options.\n",
      "\n",
      "Summary:\n",
      "- Content accuracy: Appropriate and accurate.\n",
      "- Question and answer quality: Clear but one distractor option is problematic.\n",
      "- Cultural relevance: Appropriate.\n",
      "- Refinement: Adjust distractors for better quality.\n",
      "\n",
      "Please consider these suggestions for improving the question set.\n"
     ]
    },
    {
     "name": "stdout",
     "output_type": "stream",
     "text": [
      "--- Reach the Maximum Round ---\n",
      "--- Formatter ---\n"
     ]
    },
    {
     "name": "stderr",
     "output_type": "stream",
     "text": [
      "2025-05-27 22:47:25,648 - INFO - HTTP Request: POST https://ai-rolandaws880125ai409947751408.openai.azure.com/openai/deployments/gpt-4.1-mini/chat/completions?api-version=2025-01-01-preview \"HTTP/1.1 200 OK\"\n",
      "2025-05-27 22:47:25,651 - INFO - Formatted message: {'html_question': '日本語の文法では<u>修飾</u>の役割が大切です。', 'correct_answer': 1, 'choices': ['しゅうしょく', 'しゅうそく', 'しゅしょう', 'しゅしょうく']}\n",
      "\n",
      "Processing のことばの読み方 (kanji_reading):  38%|███▊      | 3/8 [01:12<01:59, 23.87s/it]\u001B[A"
     ]
    },
    {
     "name": "stdout",
     "output_type": "stream",
     "text": [
      "---WEB SEARCH---\n",
      "---Generator----\n"
     ]
    },
    {
     "name": "stderr",
     "output_type": "stream",
     "text": [
      "2025-05-27 22:47:32,554 - INFO - HTTP Request: POST https://ai-rolandaws880125ai409947751408.openai.azure.com/openai/deployments/gpt-4.1/chat/completions?api-version=2025-01-01-preview \"HTTP/1.1 200 OK\"\n",
      "2025-05-27 22:47:32,556 - INFO - Generated message: <ol><li>この問題が<u>生じる</u>理由を説明してください。<ol><li>うまじる</li><li>しょうじる</li><li>いきじる</li><li>せいじる</li></ol></li></ol>\n"
     ]
    },
    {
     "name": "stdout",
     "output_type": "stream",
     "text": [
      "---REVISOR---\n"
     ]
    },
    {
     "name": "stderr",
     "output_type": "stream",
     "text": [
      "2025-05-27 22:47:57,112 - INFO - HTTP Request: POST https://ai-rolandaws880125ai409947751408.openai.azure.com/openai/deployments/gpt-4.1-mini/chat/completions?api-version=2025-01-01-preview \"HTTP/1.1 200 OK\"\n",
      "2025-05-27 22:47:57,114 - INFO - Refelect message: Thank you for your submission. Here is a detailed critique and recommendations based on the factors requested:\n",
      "\n",
      "1. Content Accuracy:  \n",
      "- The vocabulary focus on the verb 生じる (しょうじる) is appropriate for JLPT N3 level, as this verb is commonly used in academic and formal contexts.  \n",
      "- However, the multiple-choice options include some non-standard or incorrect forms:  \n",
      "  - うまじる is not a valid verb form. Possibly you intended 生まじる (うまじる) or 混じる (まじる), but うまじる as written is not correct.  \n",
      "  - いきじる and せいじる are not common or correct verbs in Japanese.  \n",
      "- To maintain content accuracy and relevance, the distractors should be plausible verbs that share similar kanji or readings, or verbs of similar difficulty, but that are real and correctly written.\n",
      "\n",
      "2. Question and Answer Quality:  \n",
      "- The question \"この問題が生じる理由を説明してください。\" is clear and tests the understanding of 生じる in context, which is good.  \n",
      "- However, the format is inconsistent: the question asks for an explanation, but the options are multiple-choice verb readings or forms. If the question is multiple-choice, it should be phrased to ask for the correct reading or meaning of 生じる, or if it is an open-ended question, options should not be given.  \n",
      "- The options currently seem to be intended as readings, but only one is correct (しょうじる). If the question is to choose the correct reading of 生じる, the question should clearly ask that.  \n",
      "- Ambiguity arises because the question asks for an explanation of the reason why the problem arises (生じる理由), but the options are verb readings, which do not answer the question.\n",
      "\n",
      "3. Detailed Refinement:  \n",
      "- The kanji 生じる is appropriate for N3 and culturally relevant, as it appears in academic and formal Japanese.  \n",
      "- The distractors should be culturally and linguistically plausible to avoid confusion. For example, including similar verbs like 生まれる (うまれる), 起きる (おきる), or 発生する (はっせいする) might be more appropriate distractors.  \n",
      "- Ensure that the question type matches the answer format: if multiple-choice, the question should be about meaning, reading, or usage, and the options should reflect that.\n",
      "\n",
      "Recommendations:  \n",
      "- Clarify the question prompt to align with the answer options. For example, if you want to test the reading of 生じる, ask: \"次の漢字の読み方として正しいものを選んでください。生じる\"  \n",
      "- Replace the incorrect or non-existent verb options with plausible readings or verbs that are commonly confused with 生じる.  \n",
      "- Alternatively, if you want to test comprehension of the verb's meaning, provide a sentence context and ask which option best explains the meaning.  \n",
      "- Avoid mixing question types (explanation vs. multiple-choice reading) in one question to prevent confusion.  \n",
      "- Review all distractors for correctness and relevance to JLPT N3 vocabulary.\n",
      "\n",
      "Overall, the current question has good intentions but requires revision to improve clarity, accuracy, and appropriateness for the JLPT N3 level.\n",
      "\n",
      "Please revise accordingly.\n"
     ]
    },
    {
     "name": "stdout",
     "output_type": "stream",
     "text": [
      "---Generator----\n"
     ]
    },
    {
     "name": "stderr",
     "output_type": "stream",
     "text": [
      "2025-05-27 22:47:59,505 - INFO - HTTP Request: POST https://ai-rolandaws880125ai409947751408.openai.azure.com/openai/deployments/gpt-4.1/chat/completions?api-version=2025-01-01-preview \"HTTP/1.1 200 OK\"\n",
      "2025-05-27 22:47:59,507 - INFO - Generated message: <ol><li>新しい問題が<u>生じる</u>ことがあります。<ol><li>うまじる</li><li>しょうじる</li><li>せいじる</li><li>いきじる</li></ol></li></ol>\n"
     ]
    },
    {
     "name": "stdout",
     "output_type": "stream",
     "text": [
      "---REVISOR---\n"
     ]
    },
    {
     "name": "stderr",
     "output_type": "stream",
     "text": [
      "2025-05-27 22:48:05,055 - INFO - HTTP Request: POST https://ai-rolandaws880125ai409947751408.openai.azure.com/openai/deployments/gpt-4.1-mini/chat/completions?api-version=2025-01-01-preview \"HTTP/1.1 200 OK\"\n",
      "2025-05-27 22:48:05,058 - INFO - Refelect message: Thank you for your revision. Here is my feedback on the updated question:\n",
      "\n",
      "1. Content Accuracy:  \n",
      "- The sentence \"新しい問題が生じることがあります。\" is clear, natural, and appropriate for JLPT N3 level. It uses the verb 生じる correctly in context.  \n",
      "- The focus on the reading of 生じる (しょうじる) is suitable for N3 learners, as kanji readings are an important part of the exam.  \n",
      "- However, the distractor options still include non-standard or incorrect readings:  \n",
      "  - うまじる is not a valid reading of any common verb.  \n",
      "  - せいじる and いきじる are not recognized Japanese verbs or readings.  \n",
      "- For better content accuracy, distractors should be plausible alternative readings of the kanji or similar verbs that learners might confuse.\n",
      "\n",
      "2. Question and Answer Quality:  \n",
      "- The question currently lacks an explicit prompt. It only provides a sentence with 生じる underlined and four options listed.  \n",
      "- To avoid ambiguity, the question should explicitly ask what the correct reading of 生じる is, for example:  \n",
      "  \"下線部の読み方として正しいものを選んでください。\" (Please choose the correct reading of the underlined part.)  \n",
      "- Without this prompt, test-takers might be confused about what is being asked—whether it's meaning, reading, or something else.  \n",
      "- The options are presented clearly, but as noted, distractors need to be improved.\n",
      "\n",
      "3. Detailed Refinement:  \n",
      "- The sentence and usage of 生じる is culturally appropriate and relevant to academic or formal Japanese contexts.  \n",
      "- Distractors should be realistic to avoid giving away the correct answer or causing confusion. For example, you might consider:  \n",
      "  - しょうじる (correct)  \n",
      "  - せいじる (incorrect but plausible reading)  \n",
      "  - しょうじゅる (incorrect but plausible)  \n",
      "  - しょうじゅ (incorrect reading)  \n",
      "- Alternatively, you might include similar verbs that share kanji but have different readings, or verbs that sound similar but have different meanings.\n",
      "\n",
      "Recommendations:  \n",
      "- Add an explicit question prompt asking test-takers to select the correct reading of the underlined word.  \n",
      "- Replace invalid distractors with plausible alternative readings or similar verbs to maintain challenge and accuracy.  \n",
      "- Ensure the distractors are all written correctly in kana and correspond to possible readings of the kanji to avoid confusion.  \n",
      "- Confirm that the difficulty level matches JLPT N3 by selecting vocabulary and readings commonly tested at this level.\n",
      "\n",
      "In summary, your question is on the right track with a good sentence context and focus on reading, but it needs a clear prompt and better distractors to be effective for JLPT N3 learners.\n",
      "\n",
      "Please revise accordingly.\n"
     ]
    },
    {
     "name": "stdout",
     "output_type": "stream",
     "text": [
      "--- Reach the Maximum Round ---\n",
      "--- Formatter ---\n"
     ]
    },
    {
     "name": "stderr",
     "output_type": "stream",
     "text": [
      "2025-05-27 22:48:05,978 - INFO - HTTP Request: POST https://ai-rolandaws880125ai409947751408.openai.azure.com/openai/deployments/gpt-4.1-mini/chat/completions?api-version=2025-01-01-preview \"HTTP/1.1 200 OK\"\n",
      "2025-05-27 22:48:05,987 - INFO - Formatted message: {'html_question': '新しい問題が<u>生じる</u>ことがあります。', 'correct_answer': 2, 'choices': ['うまじる', 'しょうじる', 'せいじる', 'いきじる']}\n",
      "\n",
      "Processing のことばの読み方 (kanji_reading):  50%|█████     | 4/8 [01:52<02:01, 30.37s/it]\u001B[A"
     ]
    },
    {
     "name": "stdout",
     "output_type": "stream",
     "text": [
      "---WEB SEARCH---\n",
      "---Generator----\n"
     ]
    },
    {
     "name": "stderr",
     "output_type": "stream",
     "text": [
      "2025-05-27 22:48:14,497 - INFO - HTTP Request: POST https://ai-rolandaws880125ai409947751408.openai.azure.com/openai/deployments/gpt-4.1/chat/completions?api-version=2025-01-01-preview \"HTTP/1.1 200 OK\"\n",
      "2025-05-27 22:48:14,498 - INFO - Generated message: <ol><li>その映画の評価は<u>微妙</u>だった。<ol><li>みみょう</li><li>びみょう</li><li>びみょ</li><li>みみょ</li></ol></li></ol>\n"
     ]
    },
    {
     "name": "stdout",
     "output_type": "stream",
     "text": [
      "---REVISOR---\n"
     ]
    },
    {
     "name": "stderr",
     "output_type": "stream",
     "text": [
      "2025-05-27 22:48:21,211 - INFO - HTTP Request: POST https://ai-rolandaws880125ai409947751408.openai.azure.com/openai/deployments/gpt-4.1-mini/chat/completions?api-version=2025-01-01-preview \"HTTP/1.1 200 OK\"\n",
      "2025-05-27 22:48:21,213 - INFO - Refelect message: Thank you for your submission. Here is my detailed critique and recommendations:\n",
      "\n",
      "1. Content Accuracy:\n",
      "- The vocabulary word \"微妙\" and its reading \"びみょう\" are appropriate for the JLPT N3 level.\n",
      "- The sentence \"その映画の評価は微妙だった。\" is clear, natural, and relevant as a context for the question.\n",
      "- The question tests correct reading of the kanji, which is a common and important skill at N3.\n",
      "\n",
      "2. Question and Answer Quality:\n",
      "- The question is straightforward: choosing the correct reading from multiple choices.\n",
      "- The answer choices include plausible distractors that test knowledge of kana readings and common misreadings, which is good.\n",
      "- The question is unambiguous and clearly worded.\n",
      "- The difficulty level matches N3 well, as this vocabulary is expected at this level.\n",
      "\n",
      "3. Cultural and Academic Relevance:\n",
      "- The content is culturally appropriate and typical for Japanese language tests.\n",
      "- The sentence context (movie evaluation) is relevant and accessible.\n",
      "\n",
      "Recommendations:\n",
      "- Consider adding more variety in question types within the exam paper to comprehensively assess different skills (e.g., grammar usage, comprehension, sentence completion), but for this single question, it is fine.\n",
      "- Ensure consistency in formatting of answer choices (e.g., spacing and presentation), but this is a minor point.\n",
      "- Confirm that the answer key clearly indicates \"びみょう\" as the correct answer.\n",
      "\n",
      "Overall, this question is well-constructed, appropriate, and clear for the JLPT N3 level.\n",
      "\n",
      "GOOD ENOUGH\n"
     ]
    },
    {
     "name": "stdout",
     "output_type": "stream",
     "text": [
      "--- AI Reviser feels Good Enough ---\n",
      "--- Formatter ---\n"
     ]
    },
    {
     "name": "stderr",
     "output_type": "stream",
     "text": [
      "2025-05-27 22:48:21,898 - INFO - HTTP Request: POST https://ai-rolandaws880125ai409947751408.openai.azure.com/openai/deployments/gpt-4.1-mini/chat/completions?api-version=2025-01-01-preview \"HTTP/1.1 200 OK\"\n",
      "2025-05-27 22:48:21,900 - INFO - Formatted message: {'html_question': 'その映画の評価は<u>微妙</u>だった。', 'correct_answer': 2, 'choices': ['みみょう', 'びみょう', 'びみょ', 'みみょ']}\n",
      "\n",
      "Processing のことばの読み方 (kanji_reading):  62%|██████▎   | 5/8 [02:08<01:15, 25.16s/it]\u001B[A"
     ]
    },
    {
     "name": "stdout",
     "output_type": "stream",
     "text": [
      "---WEB SEARCH---\n",
      "---Generator----\n"
     ]
    },
    {
     "name": "stderr",
     "output_type": "stream",
     "text": [
      "2025-05-27 22:48:28,832 - INFO - HTTP Request: POST https://ai-rolandaws880125ai409947751408.openai.azure.com/openai/deployments/gpt-4.1/chat/completions?api-version=2025-01-01-preview \"HTTP/1.1 200 OK\"\n"
     ]
    },
    {
     "name": "stdout",
     "output_type": "stream",
     "text": [
      "---WEB SEARCH---\n",
      "---Generator----\n"
     ]
    },
    {
     "name": "stderr",
     "output_type": "stream",
     "text": [
      "2025-05-27 22:48:37,819 - INFO - HTTP Request: POST https://ai-rolandaws880125ai409947751408.openai.azure.com/openai/deployments/gpt-4.1/chat/completions?api-version=2025-01-01-preview \"HTTP/1.1 200 OK\"\n",
      "2025-05-27 22:48:37,822 - INFO - Generated message: <ol>\n",
      "    <li>\n",
      "        彼は地域の<u>貢献</u>について発表した。\n",
      "        <ol>\n",
      "            <li>こうけん</li>\n",
      "            <li>こうこん</li>\n",
      "            <li>こうけい</li>\n",
      "            <li>こうこんえん</li>\n",
      "        </ol>\n",
      "    </li>\n",
      "</ol>\n"
     ]
    },
    {
     "name": "stdout",
     "output_type": "stream",
     "text": [
      "---REVISOR---\n"
     ]
    },
    {
     "name": "stderr",
     "output_type": "stream",
     "text": [
      "2025-05-27 22:48:44,110 - INFO - HTTP Request: POST https://ai-rolandaws880125ai409947751408.openai.azure.com/openai/deployments/gpt-4.1-mini/chat/completions?api-version=2025-01-01-preview \"HTTP/1.1 200 OK\"\n",
      "2025-05-27 22:48:44,111 - INFO - Refelect message: Thank you for your submission. Here is a detailed critique and recommendations based on your JLPT N3 exam question:\n",
      "\n",
      "1. Content Accuracy:\n",
      "- The vocabulary tested, \"貢献,\" is appropriate for the JLPT N3 level, as it is a commonly encountered word in intermediate Japanese.\n",
      "- The reading passage is very brief but clear and relevant, focusing on a practical topic of community contribution, which fits well with typical N3 content.\n",
      "\n",
      "2. Question and Answer Quality:\n",
      "- The question asks for the correct reading of the underlined word \"貢献,\" which is a standard vocabulary reading question and suitable for N3.\n",
      "- The answer choices mostly contain plausible readings except for \"こうこんえん,\" which is clearly unrelated. This mix is good for testing recognition.\n",
      "- However, the question could be made clearer by explicitly asking \"「貢献」の読み方はどれですか？\" to avoid any ambiguity, but since the instructions say not to suggest adding instructions, this is acceptable.\n",
      "- The answer choices should be presented in a way that clearly distinguishes the correct reading \"こうけん\" from distractors.\n",
      "\n",
      "3. Detailed Refinement:\n",
      "- The sentence used is culturally appropriate and relevant to Japanese academic and social contexts.\n",
      "- The vocabulary and sentence structure are suitable for N3 learners, neither too simple nor too advanced.\n",
      "\n",
      "Recommendations:\n",
      "- Consider adding a slightly longer passage or context to better assess reading comprehension and vocabulary in context, as a single sentence may be too minimal for a comprehensive N3 test.\n",
      "- Ensure that all distractors are plausible readings of kanji compounds to better challenge learners.\n",
      "- Confirm that the answer key clearly marks \"こうけん\" as the correct answer.\n",
      "\n",
      "Overall, your question is well-aligned with JLPT N3 standards and is culturally appropriate. With minor enhancements for challenge and clarity, it would be very effective.\n",
      "\n",
      "GOOD ENOUGH\n"
     ]
    },
    {
     "name": "stdout",
     "output_type": "stream",
     "text": [
      "--- AI Reviser feels Good Enough ---\n",
      "--- Formatter ---\n"
     ]
    },
    {
     "name": "stderr",
     "output_type": "stream",
     "text": [
      "2025-05-27 22:48:44,943 - INFO - HTTP Request: POST https://ai-rolandaws880125ai409947751408.openai.azure.com/openai/deployments/gpt-4.1-mini/chat/completions?api-version=2025-01-01-preview \"HTTP/1.1 200 OK\"\n",
      "2025-05-27 22:48:44,946 - INFO - Formatted message: {'html_question': '彼は地域の<u>貢献</u>について発表した。', 'correct_answer': 1, 'choices': ['こうけん', 'こうこん', 'こうけい', 'こうこんえん']}\n",
      "\n",
      "Processing のことばの読み方 (kanji_reading):  75%|███████▌  | 6/8 [02:31<00:48, 24.44s/it]\u001B[A"
     ]
    },
    {
     "name": "stdout",
     "output_type": "stream",
     "text": [
      "---WEB SEARCH---\n",
      "---Generator----\n"
     ]
    },
    {
     "name": "stderr",
     "output_type": "stream",
     "text": [
      "2025-05-27 22:48:51,882 - INFO - HTTP Request: POST https://ai-rolandaws880125ai409947751408.openai.azure.com/openai/deployments/gpt-4.1/chat/completions?api-version=2025-01-01-preview \"HTTP/1.1 200 OK\"\n",
      "2025-05-27 22:48:51,884 - INFO - Generated message: <ol><li>最近、この町では水の<u>不足</u>が問題になっています。<ol><li>ふそく</li><li>ぶそく</li><li>ふしょく</li><li>ぶしょく</li></ol></li></ol>\n"
     ]
    },
    {
     "name": "stdout",
     "output_type": "stream",
     "text": [
      "---REVISOR---\n"
     ]
    },
    {
     "name": "stderr",
     "output_type": "stream",
     "text": [
      "2025-05-27 22:48:56,995 - INFO - HTTP Request: POST https://ai-rolandaws880125ai409947751408.openai.azure.com/openai/deployments/gpt-4.1-mini/chat/completions?api-version=2025-01-01-preview \"HTTP/1.1 200 OK\"\n",
      "2025-05-27 22:48:56,997 - INFO - Refelect message: Thank you for your submission. Here is my detailed critique and recommendations:\n",
      "\n",
      "1. Content Accuracy:\n",
      "- The vocabulary question focuses on the word 不足, which is appropriate for JLPT N3 level vocabulary.\n",
      "- The sentence \"最近、この町では水の不足が問題になっています。\" is clear, relevant, and contextually appropriate for a reading comprehension or vocabulary recognition question at the N3 level.\n",
      "- The kanji reading options given (ふそく, ぶそく, ふしょく, ぶしょく) are suitable distractors, as they test the students' knowledge of correct pronunciation of this compound word.\n",
      "\n",
      "2. Question and Answer Quality:\n",
      "- The question is straightforward and unambiguous: the student is expected to select the correct reading of the underlined word.\n",
      "- The options cover plausible readings, which is good for testing knowledge.\n",
      "- The difficulty level matches the N3 standard, as reading common kanji compounds and recognizing their pronunciation is a key skill at this level.\n",
      "\n",
      "3. Cultural and Contextual Appropriateness:\n",
      "- The topic of water shortage is relevant and appropriate for Japanese learners, reflecting a real-world issue that may be encountered in Japanese texts.\n",
      "- The sentence is natural and typical of Japanese academic or news language, which is suitable for the exam.\n",
      "\n",
      "Recommendations:\n",
      "- Consider adding a variety of question types to assess different skills beyond vocabulary reading, such as grammar, comprehension, or usage, to make the exam more comprehensive.\n",
      "- For this vocabulary question, you might specify in the instructions that the student should choose the correct reading of the underlined word to avoid any ambiguity.\n",
      "- Ensure that the font or format of the underlined word is clear and visible to the student.\n",
      "\n",
      "Overall, this question is well constructed and appropriate for the JLPT N3 level.\n",
      "\n",
      "GOOD ENOUGH\n"
     ]
    },
    {
     "name": "stdout",
     "output_type": "stream",
     "text": [
      "--- AI Reviser feels Good Enough ---\n",
      "--- Formatter ---\n"
     ]
    },
    {
     "name": "stderr",
     "output_type": "stream",
     "text": [
      "2025-05-27 22:48:57,820 - INFO - HTTP Request: POST https://ai-rolandaws880125ai409947751408.openai.azure.com/openai/deployments/gpt-4.1-mini/chat/completions?api-version=2025-01-01-preview \"HTTP/1.1 200 OK\"\n",
      "2025-05-27 22:48:57,823 - INFO - Formatted message: {'html_question': '最近、この町では水の<u>不足</u>が問題になっています。', 'correct_answer': 1, 'choices': ['ふそく', 'ぶそく', 'ふしょく', 'ぶしょく']}\n",
      "\n",
      "Processing のことばの読み方 (kanji_reading):  88%|████████▊ | 7/8 [02:44<00:20, 20.66s/it]\u001B[A"
     ]
    },
    {
     "name": "stdout",
     "output_type": "stream",
     "text": [
      "---WEB SEARCH---\n",
      "---Generator----\n"
     ]
    },
    {
     "name": "stderr",
     "output_type": "stream",
     "text": [
      "2025-05-27 22:49:04,678 - INFO - HTTP Request: POST https://ai-rolandaws880125ai409947751408.openai.azure.com/openai/deployments/gpt-4.1/chat/completions?api-version=2025-01-01-preview \"HTTP/1.1 200 OK\"\n",
      "2025-05-27 22:49:04,680 - INFO - Generated message: <li>\n",
      "    彼は<u>奇妙</u>な話をしていた。\n",
      "    <ol>\n",
      "        <li>きみつ</li>\n",
      "        <li>きみょう</li>\n",
      "        <li>きみょ</li>\n",
      "        <li>きびょう</li>\n",
      "    </ol>\n",
      "</li>\n"
     ]
    },
    {
     "name": "stdout",
     "output_type": "stream",
     "text": [
      "---REVISOR---\n"
     ]
    },
    {
     "name": "stderr",
     "output_type": "stream",
     "text": [
      "2025-05-27 22:49:18,663 - INFO - HTTP Request: POST https://ai-rolandaws880125ai409947751408.openai.azure.com/openai/deployments/gpt-4.1-mini/chat/completions?api-version=2025-01-01-preview \"HTTP/1.1 200 OK\"\n",
      "2025-05-27 22:49:18,666 - INFO - Refelect message: Thank you for your submission. Here is my critique and recommendations based on the factors requested:\n",
      "\n",
      "1. Content Accuracy:\n",
      "- The vocabulary question correctly focuses on the word \"奇妙\" which is appropriate for the JLPT N3 level.\n",
      "- The reading passage (\"彼は奇妙な話をしていた。\") is clear, culturally appropriate, and relevant.\n",
      "- The question tests the correct reading of the kanji, which is a common type of vocabulary question at N3.\n",
      "\n",
      "2. Question and Answer Quality:\n",
      "- The question is clear and unambiguous: the student must choose the correct reading of the underlined word.\n",
      "- The distractors (incorrect options) are plausible, which is good for testing knowledge.\n",
      "- However, option 3 (\"きみょ\") is a truncated and incorrect reading which might confuse students unnecessarily. It is better to avoid partial or incomplete readings as options.\n",
      "- Option 1 (\"きみつ\") and option 4 (\"きびょう\") are also incorrect but plausible enough.\n",
      "- Overall, the difficulty level matches N3 well.\n",
      "\n",
      "3. Detailed Refinement:\n",
      "- The format of the question is straightforward and culturally appropriate.\n",
      "- The vocabulary \"奇妙\" is suitable for N3 level, and the context sentence is natural.\n",
      "- To improve, consider replacing option 3 with a more plausible but incorrect reading, for example \"きみょう\" with a small mistake, or a similar sounding word.\n",
      "\n",
      "Recommendations:\n",
      "- Replace option 3 \"きみょ\" with a more plausible incorrect reading such as \"きみょうう\" or \"きみょう\" with a small error (e.g., \"きみょお\").\n",
      "- Ensure all answer choices are complete readings to avoid confusion.\n",
      "- Otherwise, the question is well designed and appropriate for JLPT N3 vocabulary testing.\n",
      "\n",
      "Please revise accordingly.\n"
     ]
    },
    {
     "name": "stdout",
     "output_type": "stream",
     "text": [
      "---Generator----\n"
     ]
    },
    {
     "name": "stderr",
     "output_type": "stream",
     "text": [
      "2025-05-27 22:49:39,986 - INFO - Retrying request to /chat/completions in 0.481147 seconds\n",
      "2025-05-27 22:49:43,183 - INFO - HTTP Request: POST https://ai-rolandaws880125ai409947751408.openai.azure.com/openai/deployments/gpt-4.1/chat/completions?api-version=2025-01-01-preview \"HTTP/1.1 200 OK\"\n",
      "2025-05-27 22:49:43,185 - INFO - Generated message: <li>\n",
      "    彼は<u>奇妙</u>な話をしていた。\n",
      "    <ol>\n",
      "        <li>きみつ</li>\n",
      "        <li>きみょう</li>\n",
      "        <li>きみょお</li>\n",
      "        <li>きびょう</li>\n",
      "    </ol>\n",
      "</li>\n"
     ]
    },
    {
     "name": "stdout",
     "output_type": "stream",
     "text": [
      "---REVISOR---\n"
     ]
    },
    {
     "name": "stderr",
     "output_type": "stream",
     "text": [
      "2025-05-27 22:49:50,091 - INFO - HTTP Request: POST https://ai-rolandaws880125ai409947751408.openai.azure.com/openai/deployments/gpt-4.1-mini/chat/completions?api-version=2025-01-01-preview \"HTTP/1.1 200 OK\"\n",
      "2025-05-27 22:49:50,094 - INFO - Refelect message: Thank you for revising the question. Here is my feedback on the updated submission:\n",
      "\n",
      "1. Content Accuracy:\n",
      "- The vocabulary item \"奇妙\" remains appropriate for JLPT N3 level.\n",
      "- The sentence context is clear, natural, and culturally appropriate.\n",
      "- The question accurately tests the correct reading of the kanji.\n",
      "\n",
      "2. Question and Answer Quality:\n",
      "- The question prompt is clear and unambiguous.\n",
      "- The distractors are plausible and maintain an appropriate difficulty level.\n",
      "- The replacement of option 3 with \"きみょお\" is a better choice than the previous truncated form, as it mimics a common misreading pattern without being a valid reading.\n",
      "- Options 1, 3, and 4 are sufficiently distinct from the correct reading \"きみょう\" to test students’ knowledge effectively.\n",
      "\n",
      "3. Detailed Refinement:\n",
      "- The question aligns well with JLPT N3 vocabulary and kanji reading expectations.\n",
      "- The sentence and vocabulary are culturally and linguistically appropriate.\n",
      "\n",
      "Recommendation:\n",
      "- This version of the question is well balanced in terms of difficulty and clarity.\n",
      "- No further changes are necessary.\n",
      "\n",
      "Overall, this question is GOOD ENOUGH for inclusion in a JLPT N3 level exam paper.\n"
     ]
    },
    {
     "name": "stdout",
     "output_type": "stream",
     "text": [
      "--- Reach the Maximum Round ---\n",
      "--- Formatter ---\n"
     ]
    },
    {
     "name": "stderr",
     "output_type": "stream",
     "text": [
      "2025-05-27 22:49:50,912 - INFO - HTTP Request: POST https://ai-rolandaws880125ai409947751408.openai.azure.com/openai/deployments/gpt-4.1-mini/chat/completions?api-version=2025-01-01-preview \"HTTP/1.1 200 OK\"\n",
      "2025-05-27 22:49:50,915 - INFO - Formatted message: {'html_question': '彼は<u>奇妙</u>な話をしていた。', 'correct_answer': 2, 'choices': ['きみつ', 'きみょう', 'きみょお', 'きびょう']}\n",
      "\n",
      "Processing のことばの読み方 (kanji_reading): 100%|██████████| 8/8 [03:37<00:00, 27.22s/it]\u001B[A\n",
      "Processing 第1部：語彙・文法:  50%|█████     | 1/2 [03:37<03:37, 217.78s/it]\n",
      "Processing このことばを漢字で書く (write_chinese):   0%|          | 0/6 [00:00<?, ?it/s]\u001B[A"
     ]
    },
    {
     "name": "stdout",
     "output_type": "stream",
     "text": [
      "---WEB SEARCH---\n",
      "---Generator----\n"
     ]
    },
    {
     "name": "stderr",
     "output_type": "stream",
     "text": [
      "2025-05-27 22:49:57,950 - INFO - HTTP Request: POST https://ai-rolandaws880125ai409947751408.openai.azure.com/openai/deployments/gpt-4.1/chat/completions?api-version=2025-01-01-preview \"HTTP/1.1 200 OK\"\n",
      "2025-05-27 22:49:57,953 - INFO - Generated message: このひもをしっかり<u>むすぶ</u>必要があります。\n",
      "\n",
      "  1. 結ぶ  \n",
      "  2. 編ぶ  \n",
      "  3. 織ぶ  \n",
      "  4. 組ぶ\n"
     ]
    },
    {
     "name": "stdout",
     "output_type": "stream",
     "text": [
      "---REVISOR---\n"
     ]
    },
    {
     "name": "stderr",
     "output_type": "stream",
     "text": [
      "2025-05-27 22:50:05,285 - INFO - HTTP Request: POST https://ai-rolandaws880125ai409947751408.openai.azure.com/openai/deployments/gpt-4.1-mini/chat/completions?api-version=2025-01-01-preview \"HTTP/1.1 200 OK\"\n",
      "2025-05-27 22:50:05,287 - INFO - Refelect message: The question tests the correct usage of the verb \"むすぶ\" in the context of tying a string firmly. The vocabulary choices are appropriate for JLPT N3 level, as they distinguish between similar-sounding verbs with different meanings related to binding or connecting.\n",
      "\n",
      "Content Accuracy:\n",
      "- The sentence \"このひもをしっかりむすぶ必要があります。\" is clear and contextually appropriate for testing the verb \"結ぶ\" (to tie).\n",
      "- The options are well-selected, including:\n",
      "  1. 結ぶ (correct: to tie)\n",
      "  2. 編む (correct spelling is 編む, meaning \"to knit\" or \"to braid\"; note the question lists \"編ぶ\" which is a typo)\n",
      "  3. 織ぶ (incorrect verb form; the correct verb is 織る, meaning \"to weave\")\n",
      "  4. 組ぶ (incorrect spelling; the correct verb is 組む, meaning \"to assemble\" or \"to team up\")\n",
      "\n",
      "Question and Answer Quality:\n",
      "- The question is straightforward and unambiguous.\n",
      "- However, options 2, 3, and 4 contain spelling errors that may confuse test-takers and do not reflect accurate vocabulary forms.\n",
      "- The difficulty level is appropriate for N3, requiring knowledge of similar verbs and their nuances.\n",
      "\n",
      "Detailed Refinement:\n",
      "- Correct the spelling of the distractors to their proper forms:\n",
      "  - 編む (not 編ぶ)\n",
      "  - 織る (not 織ぶ)\n",
      "  - 組む (not 組ぶ)\n",
      "- Consider adding furigana or clarifying kanji readings if the target learners might struggle with less common kanji.\n",
      "- The sentence is culturally appropriate and relevant.\n",
      "\n",
      "Recommendations:\n",
      "1. Correct the spelling mistakes in the answer choices to accurately represent the verbs.\n",
      "2. Ensure that all kanji used are consistent with the JLPT N3 level.\n",
      "3. Confirm that the distractors are plausible but clearly incorrect in this context to effectively test the learner's understanding.\n",
      "4. Optionally, provide example sentences or contexts in the teaching materials to reinforce the distinctions among these verbs.\n",
      "\n",
      "Overall, the question is well-designed but requires correction of kanji and verb forms for clarity and accuracy.\n"
     ]
    },
    {
     "name": "stdout",
     "output_type": "stream",
     "text": [
      "---Generator----\n"
     ]
    },
    {
     "name": "stderr",
     "output_type": "stream",
     "text": [
      "2025-05-27 22:50:07,821 - INFO - HTTP Request: POST https://ai-rolandaws880125ai409947751408.openai.azure.com/openai/deployments/gpt-4.1/chat/completions?api-version=2025-01-01-preview \"HTTP/1.1 200 OK\"\n",
      "2025-05-27 22:50:07,823 - INFO - Generated message: このひもをしっかり<u>むすぶ</u>必要があります。\n",
      "\n",
      "  1. 結ぶ  \n",
      "  2. 編む  \n",
      "  3. 織る  \n",
      "  4. 組む\n"
     ]
    },
    {
     "name": "stdout",
     "output_type": "stream",
     "text": [
      "---REVISOR---\n"
     ]
    },
    {
     "name": "stderr",
     "output_type": "stream",
     "text": [
      "2025-05-27 22:50:10,319 - INFO - HTTP Request: POST https://ai-rolandaws880125ai409947751408.openai.azure.com/openai/deployments/gpt-4.1-mini/chat/completions?api-version=2025-01-01-preview \"HTTP/1.1 200 OK\"\n",
      "2025-05-27 22:50:10,322 - INFO - Refelect message: Thank you for the revised submission. Here is my evaluation and recommendations:\n",
      "\n",
      "Content Accuracy:\n",
      "- The sentence \"このひもをしっかりむすぶ必要があります。\" is clear and contextually appropriate for testing the verb \"結ぶ\" (to tie).\n",
      "- The answer choices are now correctly spelled and appropriate for the JLPT N3 level. Each option represents a different verb related to making or connecting things, which is suitable for distinguishing nuances at this level.\n",
      "\n",
      "Question and Answer Quality:\n",
      "- The question is straightforward, unambiguous, and tests the learner’s understanding of similar verbs with different meanings.\n",
      "- The difficulty level matches JLPT N3, requiring learners to differentiate between verbs that sound similar but have different uses.\n",
      "- The distractors are plausible but clearly incorrect in this context, which is effective for assessment.\n",
      "\n",
      "Detailed Refinement:\n",
      "- The sentence and answer choices are culturally appropriate and relevant.\n",
      "- The use of kanji and vocabulary aligns well with N3 expectations.\n",
      "- No further changes are needed for clarity or appropriateness.\n",
      "\n",
      "Recommendations:\n",
      "- This question is well-constructed and suitable for the intended level.\n",
      "- Continue to ensure that distractors are plausible and correctly spelled to maintain question quality.\n",
      "\n",
      "Overall, this submission is GOOD ENOUGH.\n"
     ]
    },
    {
     "name": "stdout",
     "output_type": "stream",
     "text": [
      "--- Reach the Maximum Round ---\n",
      "--- Formatter ---\n"
     ]
    },
    {
     "name": "stderr",
     "output_type": "stream",
     "text": [
      "2025-05-27 22:50:11,398 - INFO - HTTP Request: POST https://ai-rolandaws880125ai409947751408.openai.azure.com/openai/deployments/gpt-4.1-mini/chat/completions?api-version=2025-01-01-preview \"HTTP/1.1 200 OK\"\n",
      "2025-05-27 22:50:11,400 - INFO - Formatted message: {'html_question': 'このひもをしっかり<u>むすぶ</u>必要があります。', 'correct_answer': 1, 'choices': ['結ぶ', '編む', '織る', '組む']}\n",
      "\n",
      "Processing このことばを漢字で書く (write_chinese):  17%|█▋        | 1/6 [00:20<01:42, 20.48s/it]\u001B[A"
     ]
    },
    {
     "name": "stdout",
     "output_type": "stream",
     "text": [
      "---WEB SEARCH---\n",
      "---Generator----\n"
     ]
    },
    {
     "name": "stderr",
     "output_type": "stream",
     "text": [
      "2025-05-27 22:50:21,927 - INFO - HTTP Request: POST https://ai-rolandaws880125ai409947751408.openai.azure.com/openai/deployments/gpt-4.1/chat/completions?api-version=2025-01-01-preview \"HTTP/1.1 200 OK\"\n",
      "2025-05-27 22:50:21,929 - INFO - Generated message: 明日の<u>てんこう</u>についてニュースで確認しました。\n",
      "\n",
      "  1. 天校  \n",
      "  2. 天候  \n",
      "  3. 天効  \n",
      "  4. 天幸\n"
     ]
    },
    {
     "name": "stdout",
     "output_type": "stream",
     "text": [
      "---REVISOR---\n"
     ]
    },
    {
     "name": "stderr",
     "output_type": "stream",
     "text": [
      "2025-05-27 22:50:29,755 - INFO - HTTP Request: POST https://ai-rolandaws880125ai409947751408.openai.azure.com/openai/deployments/gpt-4.1-mini/chat/completions?api-version=2025-01-01-preview \"HTTP/1.1 200 OK\"\n",
      "2025-05-27 22:50:29,756 - INFO - Refelect message: The question tests recognition of the word \"てんこう\" in the context of a news report about tomorrow, which suggests weather conditions. The correct answer is 2. 天候 (weather).\n",
      "\n",
      "Critique and Recommendations:\n",
      "\n",
      "1. Content Accuracy:\n",
      "- The question correctly targets the JLPT N3 level by focusing on vocabulary that can be inferred from context.\n",
      "- The reading sentence is clear and relevant, mentioning \"ニュース\" and \"明日のてんこう,\" which naturally implies \"weather.\"\n",
      "- The distractors include plausible but incorrect kanji compounds, which is good for testing vocabulary knowledge.\n",
      "\n",
      "2. Question and Answer Quality:\n",
      "- The question is clear and unambiguous.\n",
      "- The options are well chosen to test kanji knowledge and vocabulary.\n",
      "- The difficulty is appropriate for N3, as \"天候\" is a common word at this level.\n",
      "- However, the first option \"天校\" is not a common word and might confuse test takers unnecessarily. It might be better to replace it with a more plausible distractor.\n",
      "\n",
      "3. Cultural and Academic Relevance:\n",
      "- The context of checking the weather on the news is culturally appropriate and familiar to learners.\n",
      "- The vocabulary reflects everyday usage, suitable for N3.\n",
      "\n",
      "Recommendations:\n",
      "- Consider replacing \"天校\" with a more plausible distractor such as \"転校\" (transfer school), which is a common word at N3 level and also pronounced \"てんこう.\" This would make the question more challenging and realistic.\n",
      "- Ensure that the font or formatting clearly distinguishes the underlined word to avoid any confusion.\n",
      "- Overall, the question is well constructed and suitable for the intended level.\n",
      "\n",
      "Summary:\n",
      "The question is well designed and appropriate for JLPT N3, with a minor suggestion to improve distractors for better challenge and realism.\n",
      "\n",
      "GOOD ENOUGH\n"
     ]
    },
    {
     "name": "stdout",
     "output_type": "stream",
     "text": [
      "--- AI Reviser feels Good Enough ---\n",
      "--- Formatter ---\n"
     ]
    },
    {
     "name": "stderr",
     "output_type": "stream",
     "text": [
      "2025-05-27 22:50:30,483 - INFO - HTTP Request: POST https://ai-rolandaws880125ai409947751408.openai.azure.com/openai/deployments/gpt-4.1-mini/chat/completions?api-version=2025-01-01-preview \"HTTP/1.1 200 OK\"\n",
      "2025-05-27 22:50:30,485 - INFO - Formatted message: {'html_question': '明日の<u>てんこう</u>についてニュースで確認しました。', 'choices': ['天校', '天候', '天効', '天幸'], 'correct_answer': 2}\n",
      "\n",
      "Processing このことばを漢字で書く (write_chinese):  33%|███▎      | 2/6 [00:39<01:18, 19.66s/it]\u001B[A"
     ]
    },
    {
     "name": "stdout",
     "output_type": "stream",
     "text": [
      "---WEB SEARCH---\n",
      "---Generator----\n"
     ]
    },
    {
     "name": "stderr",
     "output_type": "stream",
     "text": [
      "2025-05-27 22:50:37,776 - INFO - HTTP Request: POST https://ai-rolandaws880125ai409947751408.openai.azure.com/openai/deployments/gpt-4.1/chat/completions?api-version=2025-01-01-preview \"HTTP/1.1 200 OK\"\n",
      "2025-05-27 22:50:37,778 - INFO - Generated message: 母は<u>しゅふ</u>として毎日家事をしています。  \n",
      "  1. 主婦  \n",
      "  2. 主夫  \n",
      "  3. 主付  \n",
      "  4. 主婦人\n"
     ]
    },
    {
     "name": "stdout",
     "output_type": "stream",
     "text": [
      "---REVISOR---\n"
     ]
    },
    {
     "name": "stderr",
     "output_type": "stream",
     "text": [
      "2025-05-27 22:50:42,901 - INFO - HTTP Request: POST https://ai-rolandaws880125ai409947751408.openai.azure.com/openai/deployments/gpt-4.1-mini/chat/completions?api-version=2025-01-01-preview \"HTTP/1.1 200 OK\"\n",
      "2025-05-27 22:50:42,905 - INFO - Refelect message: Thank you for your submission. Here is a detailed critique and recommendations:\n",
      "\n",
      "1. Content Accuracy:\n",
      "- The vocabulary question focuses on the word \"しゅふ,\" which is appropriate for JLPT N3 level learners as it tests kanji recognition and understanding of common words.\n",
      "- The sentence \"母は<u>しゅふ</u>として毎日家事をしています。\" is clear, simple, and relevant, reflecting everyday life, which is suitable for the N3 level.\n",
      "- The options provided include correct and incorrect kanji compounds, which effectively test the learner's knowledge.\n",
      "\n",
      "2. Question and Answer Quality:\n",
      "- The question is straightforward and unambiguous: selecting the correct kanji for \"しゅふ\" in the given context.\n",
      "- The options are well chosen: \n",
      "  - 主婦 (correct, meaning housewife)\n",
      "  - 主夫 (incorrect, meaning househusband)\n",
      "  - 主付 (incorrect, nonsensical in this context)\n",
      "  - 主婦人 (incorrect, not a standard word)\n",
      "- This effectively assesses vocabulary and kanji knowledge appropriate for N3.\n",
      "\n",
      "3. Detailed Refinement:\n",
      "- The context is culturally appropriate, reflecting a common Japanese family situation.\n",
      "- The vocabulary tested is relevant and common in Japanese daily life.\n",
      "- One minor point: the use of the underline tag (<u>) is not relevant to content accuracy but is acceptable as it highlights the target word.\n",
      "\n",
      "Recommendations:\n",
      "- Consider adding a brief instruction or question prompt to clarify what the examinee is expected to do (e.g., \"Choose the correct kanji for the underlined word\"), though I note the instructions are not to be suggested here.\n",
      "- To further challenge N3 learners, you might consider including a short reading passage or sentence involving the word in a slightly more complex context.\n",
      "- Ensure that the formatting and presentation are consistent throughout the exam paper.\n",
      "\n",
      "Overall, this question is well-designed, clear, and appropriate for JLPT N3.\n",
      "\n",
      "GOOD ENOUGH\n"
     ]
    },
    {
     "name": "stdout",
     "output_type": "stream",
     "text": [
      "--- AI Reviser feels Good Enough ---\n",
      "--- Formatter ---\n"
     ]
    },
    {
     "name": "stderr",
     "output_type": "stream",
     "text": [
      "2025-05-27 22:50:43,948 - INFO - HTTP Request: POST https://ai-rolandaws880125ai409947751408.openai.azure.com/openai/deployments/gpt-4.1-mini/chat/completions?api-version=2025-01-01-preview \"HTTP/1.1 200 OK\"\n",
      "2025-05-27 22:50:43,951 - INFO - Formatted message: {'html_question': '母は<u>しゅふ</u>として毎日家事をしています。', 'correct_answer': 1, 'choices': ['主婦', '主夫', '主付', '主婦人']}\n",
      "\n",
      "Processing このことばを漢字で書く (write_chinese):  50%|█████     | 3/6 [00:53<00:50, 16.83s/it]\u001B[A"
     ]
    },
    {
     "name": "stdout",
     "output_type": "stream",
     "text": [
      "---WEB SEARCH---\n",
      "---Generator----\n"
     ]
    },
    {
     "name": "stderr",
     "output_type": "stream",
     "text": [
      "2025-05-27 22:50:54,178 - INFO - HTTP Request: POST https://ai-rolandaws880125ai409947751408.openai.azure.com/openai/deployments/gpt-4.1/chat/completions?api-version=2025-01-01-preview \"HTTP/1.1 200 OK\"\n",
      "2025-05-27 22:50:54,181 - INFO - Generated message: 彼は全国大会に<u>しゅつじょう</u>することが決まりました。\n",
      "  1. 出場\n",
      "  2. 出情\n",
      "  3. 出条\n",
      "  4. 出場\n"
     ]
    },
    {
     "name": "stdout",
     "output_type": "stream",
     "text": [
      "---REVISOR---\n"
     ]
    },
    {
     "name": "stderr",
     "output_type": "stream",
     "text": [
      "2025-05-27 22:50:58,038 - INFO - HTTP Request: POST https://ai-rolandaws880125ai409947751408.openai.azure.com/openai/deployments/gpt-4.1-mini/chat/completions?api-version=2025-01-01-preview \"HTTP/1.1 200 OK\"\n",
      "2025-05-27 22:50:58,041 - INFO - Refelect message: Thank you for submitting this JLPT N3 level question.\n",
      "\n",
      "Content Accuracy:\n",
      "- The vocabulary tested here is appropriate for the N3 level. \"出場\" (しゅつじょう) is a common word meaning \"participation (in a competition),\" which fits well with the context of \"全国大会\" (national competition).\n",
      "- The sentence is clear and contextually relevant, providing a realistic scenario that Japanese learners at this level can understand.\n",
      "\n",
      "Question and Answer Quality:\n",
      "- The question is straightforward and unambiguous, asking the learner to select the correct kanji for the given reading.\n",
      "- However, answer choices 1 and 4 are both \"出場,\" which is redundant and could cause confusion. There should be only one correct option.\n",
      "- The incorrect options \"出情\" and \"出条\" are plausible looking kanji compounds but are not correct in this context, which is good for testing recognition.\n",
      "- Consider replacing the duplicate \"出場\" option with a different distractor to avoid confusion.\n",
      "\n",
      "Cultural and Linguistic Appropriateness:\n",
      "- The sentence and vocabulary are culturally appropriate and relevant to Japanese academic and social contexts.\n",
      "- The sentence uses natural phrasing suitable for the intended level.\n",
      "\n",
      "Recommendations:\n",
      "1. Remove the duplicate correct option (number 4) to avoid confusion.\n",
      "2. Replace the duplicate with a different incorrect but plausible kanji compound to maintain challenge.\n",
      "3. Optionally, consider adding a brief explanation or example in teacher notes about why \"出場\" is correct, reinforcing learning.\n",
      "\n",
      "Overall, the question is well designed but needs the duplicate answer choice fixed to improve clarity and fairness.\n",
      "\n",
      "Please revise accordingly.\n"
     ]
    },
    {
     "name": "stdout",
     "output_type": "stream",
     "text": [
      "---Generator----\n"
     ]
    },
    {
     "name": "stderr",
     "output_type": "stream",
     "text": [
      "2025-05-27 22:51:00,879 - INFO - HTTP Request: POST https://ai-rolandaws880125ai409947751408.openai.azure.com/openai/deployments/gpt-4.1/chat/completions?api-version=2025-01-01-preview \"HTTP/1.1 200 OK\"\n",
      "2025-05-27 22:51:00,884 - INFO - Generated message: 彼は全国大会に<u>しゅつじょう</u>することが決まりました。\n",
      "  1. 出場\n",
      "  2. 出情\n",
      "  3. 出条\n",
      "  4. 出陽\n"
     ]
    },
    {
     "name": "stdout",
     "output_type": "stream",
     "text": [
      "---REVISOR---\n"
     ]
    },
    {
     "name": "stderr",
     "output_type": "stream",
     "text": [
      "2025-05-27 22:51:04,237 - INFO - HTTP Request: POST https://ai-rolandaws880125ai409947751408.openai.azure.com/openai/deployments/gpt-4.1-mini/chat/completions?api-version=2025-01-01-preview \"HTTP/1.1 200 OK\"\n",
      "2025-05-27 22:51:04,239 - INFO - Refelect message: Thank you for revising the question.\n",
      "\n",
      "Content Accuracy:\n",
      "- The sentence remains clear, contextually appropriate, and suitable for JLPT N3 level.\n",
      "- The target vocabulary \"出場\" (しゅつじょう) is correctly placed and relevant.\n",
      "\n",
      "Question and Answer Quality:\n",
      "- The removal of the duplicate correct answer and replacement with \"出陽\" improves the quality by providing distinct options.\n",
      "- All distractors (\"出情,\" \"出条,\" \"出陽\") are plausible kanji compounds that could confuse learners, which is good for testing kanji recognition.\n",
      "- The question is clearly worded and unambiguous.\n",
      "\n",
      "Cultural and Linguistic Appropriateness:\n",
      "- The sentence is culturally appropriate and natural for Japanese learners.\n",
      "- The scenario of participating in a national competition is realistic and relevant.\n",
      "\n",
      "Recommendations:\n",
      "- This question now meets the criteria for JLPT N3 level vocabulary and kanji recognition.\n",
      "- For further refinement, consider including a variety of question types in the exam paper to assess different language skills (e.g., grammar usage, reading comprehension).\n",
      "- Otherwise, this question is well-prepared.\n",
      "\n",
      "GOOD ENOUGH\n"
     ]
    },
    {
     "name": "stdout",
     "output_type": "stream",
     "text": [
      "--- Reach the Maximum Round ---\n",
      "--- Formatter ---\n"
     ]
    },
    {
     "name": "stderr",
     "output_type": "stream",
     "text": [
      "2025-05-27 22:51:05,281 - INFO - HTTP Request: POST https://ai-rolandaws880125ai409947751408.openai.azure.com/openai/deployments/gpt-4.1-mini/chat/completions?api-version=2025-01-01-preview \"HTTP/1.1 200 OK\"\n",
      "2025-05-27 22:51:05,286 - INFO - Formatted message: {'html_question': '彼は全国大会に<u>しゅつじょう</u>することが決まりました。', 'correct_answer': 1, 'choices': ['出場', '出情', '出条', '出陽']}\n",
      "\n",
      "Processing このことばを漢字で書く (write_chinese):  67%|██████▋   | 4/6 [01:14<00:37, 18.61s/it]\u001B[A"
     ]
    },
    {
     "name": "stdout",
     "output_type": "stream",
     "text": [
      "---WEB SEARCH---\n",
      "---Generator----\n"
     ]
    },
    {
     "name": "stderr",
     "output_type": "stream",
     "text": [
      "2025-05-27 22:51:14,741 - INFO - HTTP Request: POST https://ai-rolandaws880125ai409947751408.openai.azure.com/openai/deployments/gpt-4.1/chat/completions?api-version=2025-01-01-preview \"HTTP/1.1 200 OK\"\n",
      "2025-05-27 22:51:14,743 - INFO - Generated message: 彼はとても<u>せいかく</u>が明るい人です。\n",
      "\n",
      "  1. 性格  \n",
      "  2. 正格  \n",
      "  3. 精格  \n",
      "  4. 生格\n"
     ]
    },
    {
     "name": "stdout",
     "output_type": "stream",
     "text": [
      "---REVISOR---\n"
     ]
    },
    {
     "name": "stderr",
     "output_type": "stream",
     "text": [
      "2025-05-27 22:51:19,671 - INFO - HTTP Request: POST https://ai-rolandaws880125ai409947751408.openai.azure.com/openai/deployments/gpt-4.1-mini/chat/completions?api-version=2025-01-01-preview \"HTTP/1.1 200 OK\"\n",
      "2025-05-27 22:51:19,678 - INFO - Refelect message: Thank you for your submission. Here is my detailed feedback:\n",
      "\n",
      "1. Content Accuracy:\n",
      "- The vocabulary question focuses on the word \"せいかく\" in the sentence \"彼はとてもせいかくが明るい人です,\" which is appropriate for JLPT N3 level since it tests knowledge of common vocabulary and kanji.\n",
      "- The correct answer is \"性格,\" which is the standard kanji for \"personality.\"\n",
      "- The other options (\"正格,\" \"精格,\" \"生格\") are either non-existent or very rare, which is good for testing kanji recognition and vocabulary knowledge.\n",
      "- The sentence is clear and culturally appropriate, describing a common personality trait, which fits well with the JLPT N3 level.\n",
      "\n",
      "2. Question and Answer Quality:\n",
      "- The question is straightforward and unambiguous.\n",
      "- The sentence context is sufficient to understand the meaning of \"せいかく.\"\n",
      "- The answer choices are plausible enough to challenge learners without being misleading.\n",
      "- The difficulty level matches JLPT N3, as kanji recognition and vocabulary knowledge at this level include words like 性格.\n",
      "\n",
      "3. Detailed Refinement:\n",
      "- The sentence is natural and culturally appropriate.\n",
      "- Consider adding a bit more context or a longer sentence to increase the reading challenge slightly, but this is optional.\n",
      "- Ensure the formatting of the underline is consistent with your exam style (this is a minor point and not related to content).\n",
      "\n",
      "Overall, this question is well constructed and suitable for JLPT N3.\n",
      "\n",
      "Recommendation:\n",
      "- Maintain this question as is.\n",
      "- For future submissions, consider including a variety of question types (e.g., grammar, reading comprehension) alongside vocabulary to comprehensively assess multiple skills.\n",
      "\n",
      "GOOD ENOUGH\n"
     ]
    },
    {
     "name": "stdout",
     "output_type": "stream",
     "text": [
      "--- AI Reviser feels Good Enough ---\n",
      "--- Formatter ---\n"
     ]
    },
    {
     "name": "stderr",
     "output_type": "stream",
     "text": [
      "2025-05-27 22:51:20,590 - INFO - HTTP Request: POST https://ai-rolandaws880125ai409947751408.openai.azure.com/openai/deployments/gpt-4.1-mini/chat/completions?api-version=2025-01-01-preview \"HTTP/1.1 200 OK\"\n",
      "2025-05-27 22:51:20,604 - INFO - Formatted message: {'html_question': '彼はとても<u>せいかく</u>が明るい人です。', 'correct_answer': 1, 'choices': ['性格', '正格', '精格', '生格']}\n",
      "\n",
      "Processing このことばを漢字で書く (write_chinese):  83%|████████▎ | 5/6 [01:29<00:17, 17.42s/it]\u001B[A"
     ]
    },
    {
     "name": "stdout",
     "output_type": "stream",
     "text": [
      "---WEB SEARCH---\n",
      "---Generator----\n"
     ]
    },
    {
     "name": "stderr",
     "output_type": "stream",
     "text": [
      "2025-05-27 22:51:26,906 - INFO - HTTP Request: POST https://ai-rolandaws880125ai409947751408.openai.azure.com/openai/deployments/gpt-4.1/chat/completions?api-version=2025-01-01-preview \"HTTP/1.1 200 OK\"\n",
      "2025-05-27 22:51:26,907 - INFO - Generated message: 彼は会議を<u>けっせき</u>しました。  \n",
      "  1. 結席  \n",
      "  2. 欠石  \n",
      "  3. 欠席  \n",
      "  4. 結石  \n"
     ]
    },
    {
     "name": "stdout",
     "output_type": "stream",
     "text": [
      "---REVISOR---\n"
     ]
    },
    {
     "name": "stderr",
     "output_type": "stream",
     "text": [
      "2025-05-27 22:51:31,352 - INFO - HTTP Request: POST https://ai-rolandaws880125ai409947751408.openai.azure.com/openai/deployments/gpt-4.1-mini/chat/completions?api-version=2025-01-01-preview \"HTTP/1.1 200 OK\"\n",
      "2025-05-27 22:51:31,354 - INFO - Refelect message: Thank you for your submission. Here is my detailed critique and recommendations:\n",
      "\n",
      "1. Content Accuracy:  \n",
      "- The vocabulary question correctly targets the word \"けっせき\" in the context of a meeting, which is appropriate for JLPT N3 level.  \n",
      "- The correct answer is \"欠席,\" which means \"absence.\" The other options are plausible kanji compounds but incorrect in this context, making this a good multiple-choice question to test kanji knowledge and vocabulary.  \n",
      "- The sentence is clear and relevant, and the vocabulary fits the N3 level well.\n",
      "\n",
      "2. Question and Answer Quality:  \n",
      "- The question is straightforward and unambiguous. The sentence context clearly indicates the meaning of \"けっせき\" as \"absence.\"  \n",
      "- The distractors are well chosen:  \n",
      "  - 結席 (not a common word, but plausible looking)  \n",
      "  - 欠石 (meaning \"missing stone,\" nonsensical here)  \n",
      "  - 結石 (kidney stone, familiar word but unrelated meaning)  \n",
      "- This helps test both kanji recognition and vocabulary knowledge.  \n",
      "- The difficulty level matches the N3 standard.\n",
      "\n",
      "3. Cultural and Language Appropriateness:  \n",
      "- The sentence is culturally neutral and appropriate. It uses a common scenario (attending or missing a meeting), which is relevant for learners.  \n",
      "- The kanji and vocabulary are standard and suitable for academic or business contexts.\n",
      "\n",
      "Recommendations:  \n",
      "- Consider providing more context or a slightly longer sentence to increase reading comprehension challenge, but this is optional and depends on your exam format.  \n",
      "- The question as is effectively tests kanji reading and vocabulary knowledge at N3 level.  \n",
      "- No changes needed in wording or format.\n",
      "\n",
      "Overall, this question is well constructed, clear, and appropriate for JLPT N3 level.\n",
      "\n",
      "GOOD ENOUGH\n"
     ]
    },
    {
     "name": "stdout",
     "output_type": "stream",
     "text": [
      "--- AI Reviser feels Good Enough ---\n",
      "--- Formatter ---\n"
     ]
    },
    {
     "name": "stderr",
     "output_type": "stream",
     "text": [
      "2025-05-27 22:51:32,160 - INFO - HTTP Request: POST https://ai-rolandaws880125ai409947751408.openai.azure.com/openai/deployments/gpt-4.1-mini/chat/completions?api-version=2025-01-01-preview \"HTTP/1.1 200 OK\"\n",
      "2025-05-27 22:51:32,162 - INFO - Formatted message: {'html_question': '彼は会議を<u>けっせき</u>しました。', 'choices': ['結席', '欠石', '欠席', '結石'], 'correct_answer': 3}\n",
      "\n",
      "Processing このことばを漢字で書く (write_chinese): 100%|██████████| 6/6 [01:41<00:00, 16.87s/it]\u001B[A\n",
      "Processing 第1部：語彙・文法: 100%|██████████| 2/2 [05:19<00:00, 159.51s/it]"
     ]
    },
    {
     "name": "stdout",
     "output_type": "stream",
     "text": [
      "Total execution time: 319.03 seconds\n"
     ]
    },
    {
     "name": "stderr",
     "output_type": "stream",
     "text": [
      "\n"
     ]
    }
   ],
   "source": [
    "outliner_json = initial_outline.model_dump_json()\n",
    "data = json.loads(outliner_json)  # Replace with your actual JSON data\n",
    "\n",
    "start_time = time.time()\n",
    "\n",
    "output_data = {'sections': []}\n",
    "\n",
    "for section in data['sections']:\n",
    "    output_section = {'section_title': section['section_title'], 'subsections': []}\n",
    "\n",
    "    for subsection in tqdm(section['subsections'], desc=f\"Processing {section['section_title']}\"):\n",
    "        function_name = subsection['subsection_title'].split(' (')[1].rstrip(')')\n",
    "        questions = subsection['question_topics']\n",
    "\n",
    "        for question in tqdm(questions, desc=f\"Processing {subsection['subsection_title']}\"):\n",
    "            handler = ExamTaskHandler()\n",
    "            func = getattr(handler, function_name, None)\n",
    "\n",
    "            if func:\n",
    "                max_attempts = 2\n",
    "                original_topic = question['topic']  # Optional: Track original topic\n",
    "                for attempt in range(max_attempts):\n",
    "                    try:\n",
    "                        result = func(question['topic'])\n",
    "                        question['result'] = result\n",
    "                        break  # Exit on success\n",
    "                    except Exception as e:\n",
    "                        if attempt < max_attempts - 1:\n",
    "                            # Replace topic and retry\n",
    "                            question['topic'] = random.choice(topics_list)\n",
    "                        else:\n",
    "                            question['result'] = f\"Error after {max_attempts} attempts: {str(e)}\"\n",
    "            else:\n",
    "                question['result'] = f\"Method {function_name} not found\"\n",
    "\n",
    "        output_subsection = {\n",
    "            'subsection_title': subsection['subsection_title'],\n",
    "            'description': subsection['description'],\n",
    "            'question_topics': questions\n",
    "        }\n",
    "        output_section['subsections'].append(output_subsection)\n",
    "\n",
    "    output_data['sections'].append(output_section)\n",
    "\n",
    "# End the timer\n",
    "end_time = time.time()\n",
    "\n",
    "# Calculate the total execution time\n",
    "execution_time = end_time - start_time\n",
    "\n",
    "print(f\"Total execution time: {execution_time:.2f} seconds\")"
   ]
  },
  {
   "cell_type": "code",
   "execution_count": 28,
   "id": "43e411616ee939b1",
   "metadata": {
    "colab": {
     "base_uri": "https://localhost:8080/",
     "height": 1000
    },
    "id": "43e411616ee939b1",
    "outputId": "97cc7eef-f8ae-4401-ef8b-022c706f112c",
    "ExecuteTime": {
     "end_time": "2025-05-27T14:51:32.183610Z",
     "start_time": "2025-05-27T14:51:32.170527Z"
    }
   },
   "outputs": [
    {
     "data": {
      "text/plain": "<IPython.core.display.Markdown object>",
      "text/markdown": "sections:\n- section_title: 第1部：語彙・文法\n  subsections:\n  - subsection_title: のことばの読み方 (kanji_reading)\n    description: 次のことばの読み方として最もよいものを、1・2・3・4から一つえらびなさい。全8問。\n    question_topics:\n    - topic: さいちゅう\n      result:\n        html_question: 試験の<u>最中</u>に電話が鳴りました。\n        correct_answer: 2\n        choices:\n        - さいじゅう\n        - さいちゅう\n        - さいしょう\n        - さいなか\n    - topic: がっかり\n      result:\n        html_question: 旅行が中止になって<u>_____</u>した。\n        correct_answer: 2\n        choices:\n        - しっかり\n        - がっかり\n        - きっかり\n        - ばっかり\n    - topic: しゅうしょく\n      result:\n        html_question: 日本語の文法では<u>修飾</u>の役割が大切です。\n        correct_answer: 1\n        choices:\n        - しゅうしょく\n        - しゅうそく\n        - しゅしょう\n        - しゅしょうく\n    - topic: しょうじる\n      result:\n        html_question: 新しい問題が<u>生じる</u>ことがあります。\n        correct_answer: 2\n        choices:\n        - うまじる\n        - しょうじる\n        - せいじる\n        - いきじる\n    - topic: びみょう\n      result:\n        html_question: その映画の評価は<u>微妙</u>だった。\n        correct_answer: 2\n        choices:\n        - みみょう\n        - びみょう\n        - びみょ\n        - みみょ\n    - topic: 地域社会への貢献について話す\n      result:\n        html_question: 彼は地域の<u>貢献</u>について発表した。\n        correct_answer: 1\n        choices:\n        - こうけん\n        - こうこん\n        - こうけい\n        - こうこんえん\n    - topic: ふそく\n      result:\n        html_question: 最近、この町では水の<u>不足</u>が問題になっています。\n        correct_answer: 1\n        choices:\n        - ふそく\n        - ぶそく\n        - ふしょく\n        - ぶしょく\n    - topic: きみょう\n      result:\n        html_question: 彼は<u>奇妙</u>な話をしていた。\n        correct_answer: 2\n        choices:\n        - きみつ\n        - きみょう\n        - きみょお\n        - きびょう\n  - subsection_title: このことばを漢字で書く (write_chinese)\n    description: 次のことばを漢字で書くとき、最もよいものを、１・２・３・４から一つえらびなさい。全6問。\n    question_topics:\n    - topic: むすぶ\n      result:\n        html_question: このひもをしっかり<u>むすぶ</u>必要があります。\n        correct_answer: 1\n        choices:\n        - 結ぶ\n        - 編む\n        - 織る\n        - 組む\n    - topic: てんこう\n      result:\n        html_question: 明日の<u>てんこう</u>についてニュースで確認しました。\n        choices:\n        - 天校\n        - 天候\n        - 天効\n        - 天幸\n        correct_answer: 2\n    - topic: しゅふ\n      result:\n        html_question: 母は<u>しゅふ</u>として毎日家事をしています。\n        correct_answer: 1\n        choices:\n        - 主婦\n        - 主夫\n        - 主付\n        - 主婦人\n    - topic: しゅつじょう\n      result:\n        html_question: 彼は全国大会に<u>しゅつじょう</u>することが決まりました。\n        correct_answer: 1\n        choices:\n        - 出場\n        - 出情\n        - 出条\n        - 出陽\n    - topic: せいかく\n      result:\n        html_question: 彼はとても<u>せいかく</u>が明るい人です。\n        correct_answer: 1\n        choices:\n        - 性格\n        - 正格\n        - 精格\n        - 生格\n    - topic: けっせき\n      result:\n        html_question: 彼は会議を<u>けっせき</u>しました。\n        choices:\n        - 結席\n        - 欠石\n        - 欠席\n        - 結石\n        correct_answer: 3\n"
     },
     "metadata": {},
     "output_type": "display_data"
    }
   ],
   "source": [
    "yaml_str = yaml.dump(output_data, allow_unicode=True, sort_keys=False, default_flow_style=False)\n",
    "# Display as formatted YAML\n",
    "display(Markdown(yaml_str))"
   ]
  },
  {
   "cell_type": "code",
   "execution_count": 29,
   "id": "307398e88bf20dc3",
   "metadata": {
    "colab": {
     "base_uri": "https://localhost:8080/"
    },
    "id": "307398e88bf20dc3",
    "outputId": "4ff94084-e0f5-45ad-ee7b-bca01723dd10",
    "ExecuteTime": {
     "end_time": "2025-05-27T14:51:32.193699Z",
     "start_time": "2025-05-27T14:51:32.185621Z"
    }
   },
   "outputs": [
    {
     "data": {
      "text/plain": "{'sections': [{'section_title': '第1部：語彙・文法',\n   'subsections': [{'subsection_title': 'のことばの読み方 (kanji_reading)',\n     'description': '次のことばの読み方として最もよいものを、1・2・3・4から一つえらびなさい。全8問。',\n     'question_topics': [{'topic': 'さいちゅう',\n       'result': {'html_question': '試験の<u>最中</u>に電話が鳴りました。',\n        'correct_answer': 2,\n        'choices': ['さいじゅう', 'さいちゅう', 'さいしょう', 'さいなか']}},\n      {'topic': 'がっかり',\n       'result': {'html_question': '旅行が中止になって<u>_____</u>した。',\n        'correct_answer': 2,\n        'choices': ['しっかり', 'がっかり', 'きっかり', 'ばっかり']}},\n      {'topic': 'しゅうしょく',\n       'result': {'html_question': '日本語の文法では<u>修飾</u>の役割が大切です。',\n        'correct_answer': 1,\n        'choices': ['しゅうしょく', 'しゅうそく', 'しゅしょう', 'しゅしょうく']}},\n      {'topic': 'しょうじる',\n       'result': {'html_question': '新しい問題が<u>生じる</u>ことがあります。',\n        'correct_answer': 2,\n        'choices': ['うまじる', 'しょうじる', 'せいじる', 'いきじる']}},\n      {'topic': 'びみょう',\n       'result': {'html_question': 'その映画の評価は<u>微妙</u>だった。',\n        'correct_answer': 2,\n        'choices': ['みみょう', 'びみょう', 'びみょ', 'みみょ']}},\n      {'topic': '地域社会への貢献について話す',\n       'result': {'html_question': '彼は地域の<u>貢献</u>について発表した。',\n        'correct_answer': 1,\n        'choices': ['こうけん', 'こうこん', 'こうけい', 'こうこんえん']}},\n      {'topic': 'ふそく',\n       'result': {'html_question': '最近、この町では水の<u>不足</u>が問題になっています。',\n        'correct_answer': 1,\n        'choices': ['ふそく', 'ぶそく', 'ふしょく', 'ぶしょく']}},\n      {'topic': 'きみょう',\n       'result': {'html_question': '彼は<u>奇妙</u>な話をしていた。',\n        'correct_answer': 2,\n        'choices': ['きみつ', 'きみょう', 'きみょお', 'きびょう']}}]},\n    {'subsection_title': 'このことばを漢字で書く (write_chinese)',\n     'description': '次のことばを漢字で書くとき、最もよいものを、１・２・３・４から一つえらびなさい。全6問。',\n     'question_topics': [{'topic': 'むすぶ',\n       'result': {'html_question': 'このひもをしっかり<u>むすぶ</u>必要があります。',\n        'correct_answer': 1,\n        'choices': ['結ぶ', '編む', '織る', '組む']}},\n      {'topic': 'てんこう',\n       'result': {'html_question': '明日の<u>てんこう</u>についてニュースで確認しました。',\n        'choices': ['天校', '天候', '天効', '天幸'],\n        'correct_answer': 2}},\n      {'topic': 'しゅふ',\n       'result': {'html_question': '母は<u>しゅふ</u>として毎日家事をしています。',\n        'correct_answer': 1,\n        'choices': ['主婦', '主夫', '主付', '主婦人']}},\n      {'topic': 'しゅつじょう',\n       'result': {'html_question': '彼は全国大会に<u>しゅつじょう</u>することが決まりました。',\n        'correct_answer': 1,\n        'choices': ['出場', '出情', '出条', '出陽']}},\n      {'topic': 'せいかく',\n       'result': {'html_question': '彼はとても<u>せいかく</u>が明るい人です。',\n        'correct_answer': 1,\n        'choices': ['性格', '正格', '精格', '生格']}},\n      {'topic': 'けっせき',\n       'result': {'html_question': '彼は会議を<u>けっせき</u>しました。',\n        'choices': ['結席', '欠石', '欠席', '結石'],\n        'correct_answer': 3}}]}]}]}"
     },
     "execution_count": 29,
     "metadata": {},
     "output_type": "execute_result"
    }
   ],
   "source": [
    "output_data"
   ]
  },
  {
   "cell_type": "code",
   "execution_count": 30,
   "id": "aa98a476d1ded815",
   "metadata": {
    "id": "aa98a476d1ded815",
    "ExecuteTime": {
     "end_time": "2025-05-27T14:51:32.209434Z",
     "start_time": "2025-05-27T14:51:32.196707Z"
    }
   },
   "outputs": [],
   "source": [
    "def render_to_html(sections):\n",
    "    html = '<html><body style=\"text-align: left;\">\\n'\n",
    "    for section in sections:\n",
    "        html += f'<h1>{section.get(\"section_title\", \"\")}</h1>\\n'\n",
    "        for subsection in section.get(\"subsections\", []):\n",
    "            html += f'<h2>{subsection.get(\"subsection_title\", \"\")}</h2>\\n'\n",
    "            if \"description\" in subsection:\n",
    "                html += f'<p>{subsection[\"description\"]}</p>\\n'\n",
    "            for idx, qtopic in enumerate(subsection.get(\"question_topics\", []),1):\n",
    "                # html += f'<h3>{qtopic.get(\"topic\", \"\")}</h3>\\n'\n",
    "                result = qtopic.get(\"result\", {})\n",
    "                if isinstance(result, dict):\n",
    "                    if \"html_article\" in result:\n",
    "                        html += result[\"html_article\"] + \"\\n\"\n",
    "                    if \"html_question\" in result:\n",
    "                        html += f'<p><strong>{idx} . {result[\"html_question\"]}</strong></p>\\n'\n",
    "                        if \"choices\" in result:\n",
    "                            correct = result.get(\"correct_answer\", -1)\n",
    "                            html += '<ul>\\n'\n",
    "                            for idx, choice in enumerate(result[\"choices\"], 1):\n",
    "                                if idx == correct:\n",
    "                                    html += f\"<li>{idx}. <b>{choice}</b> <span style='color:green;'>(correct)</span></li>\\n\"\n",
    "                                else:\n",
    "                                    html += f\"<li>{idx}. {choice}</li>\\n\"\n",
    "                            html += '</ul>\\n'\n",
    "                        if \"explanation\" in result:\n",
    "                            html += f'<p><em>Explanation: {result[\"explanation\"]}</em></p>\\n'\n",
    "                    if \"questions\" in result and isinstance(result[\"questions\"], list):\n",
    "                        for q in result[\"questions\"]:\n",
    "                            html += f'<p><strong>Q: {q[\"question\"]}</strong></p>\\n'\n",
    "                            if \"choices\" in q:\n",
    "                                correct = q.get(\"correct_answer\", -1)\n",
    "                                html += '<ul>\\n'\n",
    "                                for idx, choice in enumerate(q[\"choices\"], 1):\n",
    "                                    if idx == correct:\n",
    "                                        html += f\"<li><b>{choice}</b> <span style='color:green;'>(correct)</span></li>\\n\"\n",
    "                                    else:\n",
    "                                        html += f\"<li>{choice}</li>\\n\"\n",
    "                                html += '</ul>\\n'\n",
    "                            if \"explanation\" in q:\n",
    "                                html += f'<p><em>Explanation: {q[\"explanation\"]}</em></p>\\n'\n",
    "                    if \"questions\" in result and isinstance(result[\"questions\"], dict):\n",
    "                        q = result[\"questions\"]\n",
    "                        html += f'<p><strong>Q: {q[\"question\"]}</strong></p>\\n'\n",
    "                        if \"choices\" in q:\n",
    "                            correct = q.get(\"correct_answer\", -1)\n",
    "                            html += '<ul>\\n'\n",
    "                            for idx, choice in enumerate(q[\"choices\"], 1):\n",
    "                                if idx == correct:\n",
    "                                    html += f\"<li><b>{choice}</b> <span style='color:green;'>(correct)</span></li>\\n\"\n",
    "                                else:\n",
    "                                    html += f\"<li>{choice}</li>\\n\"\n",
    "                            html += '</ul>\\n'\n",
    "                        if \"explanation\" in q:\n",
    "                            html += f'<p><em>Explanation: {q[\"explanation\"]}</em></p>\\n'\n",
    "    html += '</body></html>'\n",
    "    return html"
   ]
  },
  {
   "cell_type": "code",
   "execution_count": 38,
   "id": "e7a5e4b5084d049c",
   "metadata": {
    "colab": {
     "base_uri": "https://localhost:8080/",
     "height": 1000
    },
    "id": "e7a5e4b5084d049c",
    "outputId": "31c9880e-fc8f-46f9-9a24-41d77a425304",
    "ExecuteTime": {
     "end_time": "2025-05-27T14:59:47.219311Z",
     "start_time": "2025-05-27T14:59:47.213471Z"
    }
   },
   "outputs": [
    {
     "data": {
      "text/plain": "<IPython.core.display.Markdown object>",
      "text/markdown": "<html><body style=\"text-align: left;\">\n<h1>第1部：語彙・文法</h1>\n<h2>のことばの読み方 (kanji_reading)</h2>\n<p>次のことばの読み方として最もよいものを、1・2・3・4から一つえらびなさい。全8問。</p>\n<p><strong>1 . 試験の<u>最中</u>に電話が鳴りました。</strong></p>\n<ul>\n<li>1. さいじゅう</li>\n<li>2. <b>さいちゅう</b> <span style='color:green;'>(correct)</span></li>\n<li>3. さいしょう</li>\n<li>4. さいなか</li>\n</ul>\n<p><strong>2 . 旅行が中止になって<u>_____</u>した。</strong></p>\n<ul>\n<li>1. しっかり</li>\n<li>2. <b>がっかり</b> <span style='color:green;'>(correct)</span></li>\n<li>3. きっかり</li>\n<li>4. ばっかり</li>\n</ul>\n<p><strong>3 . 日本語の文法では<u>修飾</u>の役割が大切です。</strong></p>\n<ul>\n<li>1. <b>しゅうしょく</b> <span style='color:green;'>(correct)</span></li>\n<li>2. しゅうそく</li>\n<li>3. しゅしょう</li>\n<li>4. しゅしょうく</li>\n</ul>\n<p><strong>4 . 新しい問題が<u>生じる</u>ことがあります。</strong></p>\n<ul>\n<li>1. うまじる</li>\n<li>2. <b>しょうじる</b> <span style='color:green;'>(correct)</span></li>\n<li>3. せいじる</li>\n<li>4. いきじる</li>\n</ul>\n<p><strong>5 . その映画の評価は<u>微妙</u>だった。</strong></p>\n<ul>\n<li>1. みみょう</li>\n<li>2. <b>びみょう</b> <span style='color:green;'>(correct)</span></li>\n<li>3. びみょ</li>\n<li>4. みみょ</li>\n</ul>\n<p><strong>6 . 彼は地域の<u>貢献</u>について発表した。</strong></p>\n<ul>\n<li>1. <b>こうけん</b> <span style='color:green;'>(correct)</span></li>\n<li>2. こうこん</li>\n<li>3. こうけい</li>\n<li>4. こうこんえん</li>\n</ul>\n<p><strong>7 . 最近、この町では水の<u>不足</u>が問題になっています。</strong></p>\n<ul>\n<li>1. <b>ふそく</b> <span style='color:green;'>(correct)</span></li>\n<li>2. ぶそく</li>\n<li>3. ふしょく</li>\n<li>4. ぶしょく</li>\n</ul>\n<p><strong>8 . 彼は<u>奇妙</u>な話をしていた。</strong></p>\n<ul>\n<li>1. きみつ</li>\n<li>2. <b>きみょう</b> <span style='color:green;'>(correct)</span></li>\n<li>3. きみょお</li>\n<li>4. きびょう</li>\n</ul>\n<h2>このことばを漢字で書く (write_chinese)</h2>\n<p>次のことばを漢字で書くとき、最もよいものを、１・２・３・４から一つえらびなさい。全6問。</p>\n<p><strong>1 . このひもをしっかり<u>むすぶ</u>必要があります。</strong></p>\n<ul>\n<li>1. <b>結ぶ</b> <span style='color:green;'>(correct)</span></li>\n<li>2. 編む</li>\n<li>3. 織る</li>\n<li>4. 組む</li>\n</ul>\n<p><strong>2 . 明日の<u>てんこう</u>についてニュースで確認しました。</strong></p>\n<ul>\n<li>1. 天校</li>\n<li>2. <b>天候</b> <span style='color:green;'>(correct)</span></li>\n<li>3. 天効</li>\n<li>4. 天幸</li>\n</ul>\n<p><strong>3 . 母は<u>しゅふ</u>として毎日家事をしています。</strong></p>\n<ul>\n<li>1. <b>主婦</b> <span style='color:green;'>(correct)</span></li>\n<li>2. 主夫</li>\n<li>3. 主付</li>\n<li>4. 主婦人</li>\n</ul>\n<p><strong>4 . 彼は全国大会に<u>しゅつじょう</u>することが決まりました。</strong></p>\n<ul>\n<li>1. <b>出場</b> <span style='color:green;'>(correct)</span></li>\n<li>2. 出情</li>\n<li>3. 出条</li>\n<li>4. 出陽</li>\n</ul>\n<p><strong>5 . 彼はとても<u>せいかく</u>が明るい人です。</strong></p>\n<ul>\n<li>1. <b>性格</b> <span style='color:green;'>(correct)</span></li>\n<li>2. 正格</li>\n<li>3. 精格</li>\n<li>4. 生格</li>\n</ul>\n<p><strong>6 . 彼は会議を<u>けっせき</u>しました。</strong></p>\n<ul>\n<li>1. 結席</li>\n<li>2. 欠石</li>\n<li>3. <b>欠席</b> <span style='color:green;'>(correct)</span></li>\n<li>4. 結石</li>\n</ul>\n</body></html>"
     },
     "metadata": {},
     "output_type": "display_data"
    }
   ],
   "source": [
    "html_output = render_to_html(output_data['sections'])\n",
    "display(Markdown(html_output))"
   ]
  },
  {
   "cell_type": "code",
   "execution_count": 39,
   "id": "330a0817d72fe5e",
   "metadata": {
    "id": "330a0817d72fe5e",
    "ExecuteTime": {
     "end_time": "2025-05-27T14:59:52.483668Z",
     "start_time": "2025-05-27T14:59:52.478341Z"
    }
   },
   "outputs": [],
   "source": [
    "timestamp = datetime.datetime.now().strftime(\"%Y%m%d_%H%M%S\")\n",
    "with open(f\"output/JLPT_{timestamp}.html\", \"w\", encoding=\"utf-8\") as file:\n",
    "    file.write(html_output)"
   ]
  },
  {
   "cell_type": "code",
   "execution_count": 37,
   "id": "c02c02ec6620993d",
   "metadata": {
    "id": "c02c02ec6620993d",
    "ExecuteTime": {
     "end_time": "2025-05-27T14:59:30.358883Z",
     "start_time": "2025-05-27T14:59:30.140238Z"
    }
   },
   "outputs": [],
   "source": [
    "# Create a Document object\n",
    "document = Document()\n",
    "# Add a section to the document\n",
    "section = document.AddSection()\n",
    "# Set the page margins to 72 points (72 points = 1 inch)\n",
    "section.PageSetup.Margins.All = 72\n",
    "\n",
    "# Add a paragraph to the section\n",
    "paragraph = section.AddParagraph()\n",
    "\n",
    "# Add the HTML string to the paragraph\n",
    "paragraph.AppendHTML(html_output)\n",
    "\n",
    "# Save the result document to a DOCX file\n",
    "document.SaveToFile(f\"output/JLPT_{timestamp}.docx\", FileFormat.Docx2016)\n",
    "# Or save the result document to a DOC file\n",
    "# document.SaveToFile(\"HtmlStringToDoc.doc\", FileFormat.Doc)\n",
    "\n",
    "document.Close()"
   ]
  },
  {
   "cell_type": "code",
   "outputs": [],
   "source": [],
   "metadata": {
    "collapsed": false
   },
   "id": "76d7f92a309995e1"
  }
 ],
 "metadata": {
  "colab": {
   "include_colab_link": true,
   "provenance": []
  },
  "kernelspec": {
   "display_name": ".venv",
   "language": "python",
   "name": "python3"
  },
  "language_info": {
   "codemirror_mode": {
    "name": "ipython",
    "version": 3
   },
   "file_extension": ".py",
   "mimetype": "text/x-python",
   "name": "python",
   "nbconvert_exporter": "python",
   "pygments_lexer": "ipython3",
   "version": "3.13.2"
  }
 },
 "nbformat": 4,
 "nbformat_minor": 5
}
