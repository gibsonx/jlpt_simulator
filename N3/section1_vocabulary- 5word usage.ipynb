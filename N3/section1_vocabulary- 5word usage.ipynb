{
 "cells": [
  {
   "cell_type": "markdown",
   "id": "2b011bdf967ca7ff",
   "metadata": {
    "collapsed": false
   },
   "source": [
    "# Language Knowledge (Vocabulary)\n",
    "Duration: 30 minutes\n",
    "Content: This section tests your knowledge of Japanese vocabulary, including kanji readings, orthography, word formation, contextually-defined expressions, paraphrases, and usage\n",
    "It mainly composes following five categories:\n",
    "- ``Reading Kana`` (Pronunciation Questions): Given a kanji word, choose the correct kana reading.\n",
    "- `Writing Kanji` (Writing Questions): Given a word written in kana, choose the correct kanji representation.\n",
    "- `Word Meaning` Selection (Vocabulary Understanding): Choose the most suitable word to fill in the sentence from four options.\n",
    "- `Synonym Replacement`: Select a word that has the same or similar meaning as the underlined word.\n",
    "- `Vocabulary Usage`: Assess the usage of words in actual contexts, choosing the most appropriate word usage, including some common Japanese expressions or fixed phrases."
   ]
  },
  {
   "cell_type": "code",
   "execution_count": 9,
   "id": "7f526a68a7e73a65",
   "metadata": {
    "ExecuteTime": {
     "end_time": "2025-03-21T04:52:51.327395Z",
     "start_time": "2025-03-21T04:52:51.315832Z"
    },
    "collapsed": false
   },
   "outputs": [
    {
     "data": {
      "text/plain": [
       "True"
      ]
     },
     "execution_count": 9,
     "metadata": {},
     "output_type": "execute_result"
    }
   ],
   "source": [
    "import pandas as pd\n",
    "import json\n",
    "import os\n",
    "import pickle\n",
    "import re\n",
    "import uuid\n",
    "from typing import *\n",
    "from langchain_openai import AzureOpenAI,AzureChatOpenAI\n",
    "from langchain_anthropic import ChatAnthropic\n",
    "from langchain_core.prompts import ChatPromptTemplate\n",
    "from dotenv import load_dotenv\n",
    "from langchain_aws import ChatBedrock\n",
    "from langchain.embeddings.base import Embeddings\n",
    "from langchain.text_splitter import CharacterTextSplitter\n",
    "from langchain_community.document_loaders import PyPDFLoader\n",
    "from langchain_community.embeddings import HuggingFaceEmbeddings\n",
    "# from langchain_community.embeddings import XinferenceEmbeddings\n",
    "from langchain_community.vectorstores import Chroma\n",
    "from langchain_openai import OpenAIEmbeddings\n",
    "from typing import Annotated, Literal, Sequence\n",
    "from typing_extensions import TypedDict\n",
    "from IPython.display import display, Markdown, Latex\n",
    "from langchain import hub\n",
    "from langchain_core.output_parsers import StrOutputParser\n",
    "from langchain_core.prompts import PromptTemplate\n",
    "from langchain_openai import ChatOpenAI\n",
    "from typing import Annotated, Sequence\n",
    "from typing_extensions import TypedDict\n",
    "from langchain_core.messages import BaseMessage,RemoveMessage,HumanMessage,AIMessage,ToolMessage\n",
    "from langgraph.graph.message import add_messages\n",
    "from pydantic import BaseModel, Field\n",
    "from langgraph.graph import END, StateGraph, START\n",
    "from langgraph.prebuilt import ToolNode\n",
    "from langgraph.prebuilt import tools_condition\n",
    "from langgraph.checkpoint.memory import MemorySaver\n",
    "from langchain.output_parsers import PydanticOutputParser\n",
    "from pydantic import BaseModel, Field, validator\n",
    "from typing import List, Optional\n",
    "\n",
    "load_dotenv()"
   ]
  },
  {
   "cell_type": "code",
   "execution_count": 10,
   "id": "initial_id",
   "metadata": {
    "ExecuteTime": {
     "end_time": "2025-03-21T04:52:51.375033Z",
     "start_time": "2025-03-21T04:52:51.356406Z"
    },
    "collapsed": false
   },
   "outputs": [
    {
     "data": {
      "text/html": [
       "<div>\n",
       "<style scoped>\n",
       "    .dataframe tbody tr th:only-of-type {\n",
       "        vertical-align: middle;\n",
       "    }\n",
       "\n",
       "    .dataframe tbody tr th {\n",
       "        vertical-align: top;\n",
       "    }\n",
       "\n",
       "    .dataframe thead th {\n",
       "        text-align: right;\n",
       "    }\n",
       "</style>\n",
       "<table border=\"1\" class=\"dataframe\">\n",
       "  <thead>\n",
       "    <tr style=\"text-align: right;\">\n",
       "      <th></th>\n",
       "      <th>expression</th>\n",
       "      <th>reading</th>\n",
       "    </tr>\n",
       "  </thead>\n",
       "  <tbody>\n",
       "    <tr>\n",
       "      <th>0</th>\n",
       "      <td>実行</td>\n",
       "      <td>じっこう</td>\n",
       "    </tr>\n",
       "    <tr>\n",
       "      <th>1</th>\n",
       "      <td>貢献</td>\n",
       "      <td>こうけん</td>\n",
       "    </tr>\n",
       "    <tr>\n",
       "      <th>2</th>\n",
       "      <td>除く</td>\n",
       "      <td>のぞく</td>\n",
       "    </tr>\n",
       "    <tr>\n",
       "      <th>3</th>\n",
       "      <td>トップ</td>\n",
       "      <td>トップ</td>\n",
       "    </tr>\n",
       "    <tr>\n",
       "      <th>4</th>\n",
       "      <td>僅か</td>\n",
       "      <td>わずか</td>\n",
       "    </tr>\n",
       "  </tbody>\n",
       "</table>\n",
       "</div>"
      ],
      "text/plain": [
       "  expression reading\n",
       "0         実行    じっこう\n",
       "1         貢献    こうけん\n",
       "2         除く     のぞく\n",
       "3        トップ     トップ\n",
       "4         僅か     わずか"
      ]
     },
     "execution_count": 10,
     "metadata": {},
     "output_type": "execute_result"
    }
   ],
   "source": [
    "# Import N3 Vocabulary\n",
    "file_path = '../Vocab/n3.csv'\n",
    "# Read the CSV file\n",
    "data = pd.read_csv(file_path)\n",
    "words = data.iloc[:, :2].sample(frac=1).reset_index(drop=True)\n",
    "# Display the content of the CSV file\n",
    "words.head()"
   ]
  },
  {
   "cell_type": "markdown",
   "id": "4c1cdce8b1f57ef3",
   "metadata": {
    "collapsed": false
   },
   "source": [
    "#### load Models"
   ]
  },
  {
   "cell_type": "code",
   "execution_count": 11,
   "id": "895a64c8ba51e354",
   "metadata": {
    "ExecuteTime": {
     "end_time": "2025-03-21T04:52:52.986251Z",
     "start_time": "2025-03-21T04:52:51.377041Z"
    },
    "collapsed": false
   },
   "outputs": [],
   "source": [
    "# azure_llm = AzureChatOpenAI(\n",
    "#     azure_endpoint=\"https://tooldev-openai.openai.azure.com/openai/deployments/gpt-4o/chat/completions?api-version=2025-01-01-preview\",\n",
    "#     api_key=os.environ[\"AZURE_API_KEY\"],\n",
    "#     model_name=\"gpt-4o\",\n",
    "#     api_version=\"2025-01-01-preview\",\n",
    "#     temperature=0.5,\n",
    "# )"
   ]
  },
  {
   "cell_type": "code",
   "execution_count": 12,
   "id": "5643fdb248144100",
   "metadata": {
    "ExecuteTime": {
     "end_time": "2025-03-21T04:52:53.325835Z",
     "start_time": "2025-03-21T04:52:52.988251Z"
    },
    "collapsed": false
   },
   "outputs": [],
   "source": [
    "aws_llm = ChatBedrock(\n",
    "    model_id=\"us.anthropic.claude-3-7-sonnet-20250219-v1:0\",\n",
    "     # model_id=\"us.anthropic.claude-3-5-haiku-20241022-v1:0\",\n",
    "    model_kwargs=dict(temperature=0.5),\n",
    "    region = \"us-east-2\",\n",
    "    aws_access_key_id=os.environ[\"AWS_ACCESS_KEY_ID\"],\n",
    "    aws_secret_access_key=os.environ[\"AWS_SECRET_ACCESS_KEY\"],\n",
    ")"
   ]
  },
  {
   "cell_type": "markdown",
   "id": "fed5f032dadafac1",
   "metadata": {
    "collapsed": false
   },
   "source": [
    "## Question Explore"
   ]
  },
  {
   "cell_type": "markdown",
   "id": "5795bb3d95c0cc50",
   "metadata": {
    "collapsed": false
   },
   "source": [
    "# Kanji 读假名（读音问题）"
   ]
  },
  {
   "cell_type": "code",
   "execution_count": 13,
   "id": "1a966afd733d860d",
   "metadata": {
    "ExecuteTime": {
     "end_time": "2025-03-21T04:55:02.288686Z",
     "start_time": "2025-03-21T04:55:01.768183Z"
    },
    "collapsed": false
   },
   "outputs": [
    {
     "name": "stdout",
     "output_type": "stream",
     "text": [
      "     expression reading\n",
      "0            実行    じっこう\n",
      "1            貢献    こうけん\n",
      "2            除く     のぞく\n",
      "3           トップ     トップ\n",
      "4            僅か     わずか\n",
      "...         ...     ...\n",
      "2134        うなる     うなる\n",
      "2135          脳      のう\n",
      "2136         臨む     のぞむ\n",
      "2137         機嫌     きげん\n",
      "2138        駆ける     かける\n",
      "\n",
      "[2139 rows x 2 columns]\n"
     ]
    }
   ],
   "source": [
    "from typing_extensions import TypedDict\n",
    "from langgraph.graph import StateGraph, START, END\n",
    "from IPython.display import Image, display\n",
    "\n",
    "\n",
    "# Graph state\n",
    "class QuestionState(TypedDict):\n",
    "    topic: str\n",
    "    question: str\n",
    "    improved_question: str\n",
    "    final_question: str\n",
    "\n",
    "\n",
    "kanji_example = \"\"\"\n",
    "問題5\n",
    "\n",
    "つぎのことばの使い方として最もよいものを、1・2・3・4から一つえらびなさい。\n",
    "\n",
    "31. 内容\n",
    "\t1.\t修理のため、エアコンの内容を一度取り出します\n",
    "\t2.\t鍋の中にカレーの内容を入れて、1時間くらい煮てください\n",
    "\t3.\t古い財布から新しい財布へ内容を移しました\n",
    "\t4.\tこの手紙の内容は、ほかの人には秘密にしてください\n",
    "\n",
    "32. 活動\n",
    "\t1.\t彼は有名なロック歌手だったが、今は活動していない\n",
    "\t2.\t山に登ると、新鮮な空気が活動していて気持ちがいい\n",
    "\t3.\tさっきまで活動していたパソコンが、急に動かなくなった\n",
    "\t4.\t駅前のコンビニは24時間活動しているので便利だ\n",
    "\n",
    "33. 落ち着く\n",
    "\t1.\tこの辺りは、冬になると雪が落ち着いて、春になるまで溶けません\n",
    "\t2.\tシャツにしみが落ち着いてしまって、洗ってもきれいになりません\n",
    "\t3.\tあそこの木の上に美しい鳥が落ち着いています\n",
    "\t4.\t大好きなこの曲を聞くと、いつも気持ちが落ち着きます\n",
    "\n",
    "34. ぐっすり\n",
    "\t1.\t遠慮しないで、ぐっすり食べてください\n",
    "\t2.\t優勝できたのは、毎日ぐっすり練習したからだと思う\n",
    "\t3.\t今日は疲れているので、朝までぐっすり眠れそうだ\n",
    "\t4.\t古い友人と久しぶりに会って、ぐっすりおしゃべりした\n",
    "\n",
    "35. 性格\n",
    "\t1.\t日本の古い性格に興味があるので、神社やお寺によく行きます\n",
    "\t2.\t森さんはおとなしい性格で、自分の意見はあまり言いません\n",
    "\t3.\t値段が高くても、塗装で性格のいい車を買うつもりです\n",
    "\t4.\t音楽の性格を伸ばすために、5歳から専門家の指導を受けました\n",
    "\"\"\"\n",
    "\n",
    "print(words)\n",
    "\n",
    "# Nodes\n",
    "def generate_question(state: QuestionState):\n",
    "    \"\"\"First LLM call to generate initial question\"\"\"\n",
    "\n",
    "    msg = aws_llm.invoke(f\"\"\"You are a Japanese teacher. Your job is to write 5 word usage for candidates from the following sentences, select the most appropriate usage of the word from options 1, 2, 3, and 4. (Includes Japanese idiomatic expressions and fixed collocations.)\n",
    "\"\"\"\n",
    "            f\"The vocabulary should be restricted to N3 level, you can refer to the vocabulary in the word list, choosing random words for the questions\"\n",
    "            f\"please refer the question examples following the formal exam paper\"\n",
    "            f\"append the correct answer and explanation of main challenges and why teacher asks this question to candidate in chinese at each question\"\n",
    "            f\"Finally, beautify markdown format\"\n",
    "            f\"topic list: {state['topic']}\"\n",
    "            f\"word list: {words}\"\n",
    "            f\"formal exam paper: {kanji_example}\")\n",
    "    \n",
    "    return {\"question\": msg.content}\n",
    "\n",
    "\n",
    "# Build workflow\n",
    "kanji_workflow = StateGraph(QuestionState)\n",
    "\n",
    "# Add nodes\n",
    "kanji_workflow.add_node(\"generate_question\", generate_question)\n",
    "\n",
    "# Add edges to connect nodes\n",
    "kanji_workflow.add_edge(START, \"generate_question\")\n",
    "kanji_workflow.add_edge(\"generate_question\", END)\n",
    "\n",
    "# Compile\n",
    "kanji_graph = kanji_workflow.compile()\n"
   ]
  },
  {
   "cell_type": "code",
   "execution_count": 14,
   "id": "ec483e4e",
   "metadata": {},
   "outputs": [],
   "source": [
    "# Show workflow\n",
    "#display(Image(kanji_graph.get_graph().draw_png()))"
   ]
  },
  {
   "cell_type": "code",
   "execution_count": 15,
   "id": "3c2e1e740fbe6971",
   "metadata": {
    "ExecuteTime": {
     "end_time": "2025-03-21T04:56:04.739875Z",
     "start_time": "2025-03-21T04:55:57.132978Z"
    },
    "collapsed": false
   },
   "outputs": [
    {
     "data": {
      "text/markdown": [
       "# 日本語語彙使用問題\n",
       "\n",
       "## 問題5\n",
       "\n",
       "つぎのことばの使い方として最もよいものを、1・2・3・4から一つえらびなさい。\n",
       "\n",
       "### 31. 実行\n",
       "1. 明日の会議で新しいプロジェクトの実行について話し合います\n",
       "2. この薬は胃の実行を良くする効果があります\n",
       "3. 彼は約束の実行をして、友達を助けました\n",
       "4. 会社の実行が悪くなって、多くの社員が辞めました\n",
       "\n",
       "**正解：1**\n",
       "\n",
       "**解説**：「実行」は計画やアイデアを実際に行うことを意味します。この問題は「実行」の正しい使い方を理解しているかを確認するものです。「プロジェクトの実行」は正しい使い方ですが、胃の機能、約束を守ること、会社の状況には使いません。\n",
       "\n",
       "### 32. 除く\n",
       "1. 彼は家族を除くすべての人に秘密を話しました\n",
       "2. 窓を開けて、部屋の空気を除いてください\n",
       "3. 彼女は毎朝、家の前の雪を除きます\n",
       "4. 彼は友達の悩みを除くために、一生懸命話を聞きました\n",
       "\n",
       "**正解：1**\n",
       "\n",
       "**解説**：「除く」は「取り除く」「含めない」という意味です。この問題は前置詞的な使い方と動詞としての使い方の違いを理解しているかを確認します。「〜を除く」で「〜以外の」という意味で使うのが正しいです。2と3では「取り除く」という意味で使えますが、表現が不自然です。4は「取り除く」対象として「悩み」は使えますが、「除く」より「解消する」などが自然です。\n",
       "\n",
       "### 33. 機嫌\n",
       "1. 子供は機嫌が良くて、ずっと笑っています\n",
       "2. 上司の機嫌を取るために、いつも彼のコーヒーを入れています\n",
       "3. この店の機嫌はとても良くて、料理がおいしいです\n",
       "4. 新しい靴を買ったら、足の機嫌が良くなりました\n",
       "\n",
       "**正解：2**\n",
       "\n",
       "**解説**：「機嫌」は人の気分や心の状態を表す言葉です。この問題は「機嫌」が人の感情状態に使われることを理解しているか確認します。「機嫌を取る」は「相手の気分を良くするために行動する」という意味の慣用表現です。1も正しい使い方ですが、2が最も自然な慣用表現です。3と4は店や足に「機嫌」を使うのは不適切です。\n",
       "\n",
       "### 34. トップ\n",
       "1. 彼はクラスのトップで、いつも試験で一番です\n",
       "2. この山のトップまで登ると、素晴らしい景色が見えます\n",
       "3. トップの声で歌うと、のどが痛くなります\n",
       "4. このケーキのトップにイチゴを置いて飾りました\n",
       "\n",
       "**正解：1**\n",
       "\n",
       "**解説**：「トップ」は「最上位」「先頭」「頂点」などを意味します。この問題は「トップ」の様々な使い方の中から最も自然なものを選ぶ問題です。1の「クラスのトップ」は「成績が最も良い」という意味で正しいです。2は「頂上」、4は「"
      ],
      "text/plain": [
       "<IPython.core.display.Markdown object>"
      ]
     },
     "metadata": {},
     "output_type": "display_data"
    }
   ],
   "source": [
    "# Invoke\n",
    "kanji = kanji_graph.invoke({\"topic\": \"店で商品の特徴や価格を尋ねる | 電車やバスの乗り方を尋ねる | 今日の天気や気温について話す| 映画やドラマの感想を話す | 仕事のスケジュールや業務内容を話す\"})\n",
    "display(Markdown(kanji[\"question\"]))"
   ]
  },
  {
   "cell_type": "code",
   "execution_count": null,
   "id": "553844c1e99d121c",
   "metadata": {
    "collapsed": false
   },
   "outputs": [],
   "source": []
  },
  {
   "cell_type": "code",
   "execution_count": null,
   "id": "c778d8e10606427f",
   "metadata": {
    "ExecuteTime": {
     "start_time": "2025-03-21T04:53:14.733662Z"
    },
    "collapsed": false
   },
   "outputs": [],
   "source": []
  }
 ],
 "metadata": {
  "kernelspec": {
   "display_name": ".venv",
   "language": "python",
   "name": "python3"
  },
  "language_info": {
   "codemirror_mode": {
    "name": "ipython",
    "version": 3
   },
   "file_extension": ".py",
   "mimetype": "text/x-python",
   "name": "python",
   "nbconvert_exporter": "python",
   "pygments_lexer": "ipython3",
   "version": "3.13.2"
  }
 },
 "nbformat": 4,
 "nbformat_minor": 5
}
