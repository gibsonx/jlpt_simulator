{
 "cells": [
  {
   "cell_type": "markdown",
   "id": "2b011bdf967ca7ff",
   "metadata": {
    "collapsed": false
   },
   "source": [
    "# Language Knowledge (Vocabulary)\n",
    "Duration: 30 minutes\n",
    "Content: This section tests your knowledge of Japanese vocabulary, including kanji readings, orthography, word formation, contextually-defined expressions, paraphrases, and usage\n",
    "It mainly composes following five categories:\n",
    "- ``Reading Kana`` (Pronunciation Questions): Given a kanji word, choose the correct kana reading.\n",
    "- `Writing Kanji` (Writing Questions): Given a word written in kana, choose the correct kanji representation.\n",
    "- `Word Meaning` Selection (Vocabulary Understanding): Choose the most suitable word to fill in the sentence from four options.\n",
    "- `Synonym Replacement`: Select a word that has the same or similar meaning as the underlined word.\n",
    "- `Vocabulary Usage`: Assess the usage of words in actual contexts, choosing the most appropriate word usage, including some common Japanese expressions or fixed phrases."
   ]
  },
  {
   "cell_type": "code",
   "execution_count": 212,
   "id": "7f526a68a7e73a65",
   "metadata": {
    "collapsed": false,
    "ExecuteTime": {
     "end_time": "2025-04-24T15:17:00.236037300Z",
     "start_time": "2025-04-24T15:17:00.227206200Z"
    }
   },
   "outputs": [
    {
     "data": {
      "text/plain": "True"
     },
     "execution_count": 212,
     "metadata": {},
     "output_type": "execute_result"
    }
   ],
   "source": [
    "import pandas as pd\n",
    "import json\n",
    "import os\n",
    "import random\n",
    "import pickle\n",
    "import re\n",
    "import uuid\n",
    "from typing import *\n",
    "from langchain_openai import AzureOpenAI,AzureChatOpenAI\n",
    "from langchain_anthropic import ChatAnthropic\n",
    "from langchain_core.prompts import ChatPromptTemplate, MessagesPlaceholder\n",
    "from dotenv import load_dotenv\n",
    "from langchain_aws import ChatBedrock\n",
    "from langchain.embeddings.base import Embeddings\n",
    "from langchain.text_splitter import CharacterTextSplitter\n",
    "from langchain_community.document_loaders import PyPDFLoader\n",
    "from langchain_community.embeddings import HuggingFaceEmbeddings\n",
    "# from langchain_community.embeddings import XinferenceEmbeddings\n",
    "from langchain_community.vectorstores import Chroma\n",
    "from langchain_openai import OpenAIEmbeddings\n",
    "from typing import Annotated, Literal, Sequence\n",
    "from typing_extensions import TypedDict\n",
    "from IPython.display import display, Markdown, Latex\n",
    "from langchain import hub\n",
    "from langchain_core.output_parsers import StrOutputParser\n",
    "from langchain_core.prompts import PromptTemplate\n",
    "from langchain_openai import ChatOpenAI\n",
    "from typing import Annotated, Sequence\n",
    "from typing_extensions import TypedDict\n",
    "from langchain_core.messages import BaseMessage,RemoveMessage,HumanMessage,AIMessage,ToolMessage\n",
    "from langgraph.graph.message import add_messages\n",
    "from pydantic import BaseModel, Field\n",
    "from langgraph.graph import END, StateGraph, START\n",
    "from langgraph.prebuilt import ToolNode\n",
    "from langgraph.prebuilt import tools_condition\n",
    "from langgraph.checkpoint.memory import MemorySaver\n",
    "from langchain.output_parsers import PydanticOutputParser\n",
    "from pydantic import BaseModel, Field, validator\n",
    "from typing import List, Optional\n",
    "from langchain_tavily import TavilySearch\n",
    "from langchain.schema import Document\n",
    "from langgraph.prebuilt import create_react_agent\n",
    "from langchain_community.tools.tavily_search import TavilySearchResults\n",
    "load_dotenv()"
   ]
  },
  {
   "cell_type": "code",
   "execution_count": 213,
   "id": "58607e19",
   "metadata": {
    "ExecuteTime": {
     "end_time": "2025-04-24T15:17:00.713300800Z",
     "start_time": "2025-04-24T15:17:00.236037300Z"
    }
   },
   "outputs": [],
   "source": [
    "azure_llm = AzureChatOpenAI(\n",
    "    azure_endpoint=\"https://ai-rolandaws880125ai409947751408.openai.azure.com/openai/deployments/gpt-4o/chat/completions?api-version=2025-01-01-preview\",\n",
    "    api_key=os.environ[\"AZURE_API_KEY\"],\n",
    "    model_name=\"gpt-4o\",\n",
    "    api_version=\"2025-01-01-preview\",\n",
    "    temperature=0.5,\n",
    ")\n",
    "\n",
    "aws_llm = ChatBedrock(\n",
    "    # model_id=\"us.anthropic.claude-3-7-sonnet-20250219-v1:0\",\n",
    "     model_id=\"us.anthropic.claude-3-5-haiku-20241022-v1:0\",\n",
    "    model_kwargs=dict(temperature=0.5),\n",
    "    region = \"us-east-2\",\n",
    "    aws_access_key_id=os.environ[\"AWS_ACCESS_KEY_ID\"],\n",
    "    aws_secret_access_key=os.environ[\"AWS_SECRET_ACCESS_KEY\"],\n",
    ")"
   ]
  },
  {
   "cell_type": "code",
   "execution_count": 214,
   "id": "initial_id",
   "metadata": {
    "collapsed": false,
    "ExecuteTime": {
     "end_time": "2025-04-24T15:17:00.713808600Z",
     "start_time": "2025-04-24T15:17:00.682426300Z"
    }
   },
   "outputs": [],
   "source": [
    "# Import N3 Vocabulary\n",
    "file_path = '../Vocab/n3.csv'\n",
    "# Read the CSV file\n",
    "data = pd.read_csv(file_path)\n",
    "words = data.iloc[:, :2].sample(frac=1).reset_index(drop=True)\n",
    "# Display the content of the CSV file\n",
    "words.head()\n",
    "vocab_dict = words.set_index(words.columns[0])[words.columns[1]].to_dict()\n",
    "vocab_dict = json.dumps(vocab_dict, ensure_ascii=False, separators=(',', ':'))"
   ]
  },
  {
   "cell_type": "markdown",
   "id": "4c1cdce8b1f57ef3",
   "metadata": {
    "collapsed": false
   },
   "source": [
    "#### load Models"
   ]
  },
  {
   "cell_type": "markdown",
   "id": "385c63b54b5c2a36",
   "metadata": {
    "collapsed": false
   },
   "source": [
    "#### Exam Paper Outline\n",
    "### A. overall thinking the structure of an exam\n",
    "1. distribution of the difficulty \n",
    "2. topics\n",
    "3. reasoning"
   ]
  },
  {
   "cell_type": "markdown",
   "id": "fed5f032dadafac1",
   "metadata": {
    "collapsed": false
   },
   "source": [
    "## Data Strcuture"
   ]
  },
  {
   "cell_type": "markdown",
   "id": "5795bb3d95c0cc50",
   "metadata": {
    "collapsed": false
   },
   "source": [
    "# Kanji 读假名（读音问题）"
   ]
  },
  {
   "cell_type": "code",
   "execution_count": 215,
   "id": "252ffacd6ebb7b37",
   "metadata": {
    "collapsed": false,
    "ExecuteTime": {
     "end_time": "2025-04-24T15:17:00.713808600Z",
     "start_time": "2025-04-24T15:17:00.697787Z"
    }
   },
   "outputs": [],
   "source": [
    "def online_search(state):\n",
    "    \"\"\"\n",
    "    Web search based on the re-phrased question.\n",
    "\n",
    "    Args:\n",
    "        state (dict): The current graph state\n",
    "\n",
    "    Returns:\n",
    "        state (dict): Updates documents key with appended web results\n",
    "    \"\"\"\n",
    "    \n",
    "    print(\"---WEB SEARCH---\")\n",
    "    \n",
    "    topic = state['messages'][0].content\n",
    "    \n",
    "    tavily_search_tool = TavilySearch(\n",
    "        max_results=5,\n",
    "        topic=\"news\",\n",
    "        days=1\n",
    "    )\n",
    "    # Web search\n",
    "    docs = tavily_search_tool.invoke({\"query\": topic})\n",
    "    \n",
    "    print(docs)\n",
    "\n",
    "    web_results = \"\\n\".join([d[\"content\"] for d in docs[\"results\"]])\n",
    "    \n",
    "    print(\"Web results: \", web_results)\n",
    "\n",
    "    return {\"documents\": web_results, \"topic\": topic}"
   ]
  },
  {
   "cell_type": "code",
   "execution_count": 216,
   "id": "1a966afd733d860d",
   "metadata": {
    "collapsed": false,
    "ExecuteTime": {
     "end_time": "2025-04-24T15:17:00.713808600Z",
     "start_time": "2025-04-24T15:17:00.704349400Z"
    }
   },
   "outputs": [],
   "source": [
    "from typing_extensions import TypedDict\n",
    "from langgraph.graph import StateGraph, START, END\n",
    "from IPython.display import Image, display\n",
    "\n",
    "\n",
    "class SimpleChoiceQuestionOutput(TypedDict):\n",
    "    \"\"\"Question Formatted Output\"\"\"\n",
    "    question: Annotated[str, \"the question to ask candidate\"]\n",
    "    explanation: Annotated[str, \"the key challenges and explanation in Chinese\"]\n",
    "    correct_answer: Annotated[int, \"correct option\"]\n",
    "    choices: Annotated[List, \"options as a list for candidate to choose\"]\n",
    "\n",
    "# Graph stater\n",
    "class QuestionState(TypedDict):\n",
    "    topic: str\n",
    "    question: str\n",
    "    documents: str\n",
    "    formatted_output: SimpleChoiceQuestionOutput\n",
    "    messages: Annotated[list, add_messages]\n",
    "\n",
    "\n",
    "example = \"\"\"\n",
    "1. 山田さんがちらしを **配った**。  \n",
    "　1 ひろった　2 くばった　3 やぶった　4 はった\n",
    "\n",
    "2. 私の国は **石油** を輸入しています。  \n",
    "　1 いしゅ　2 せきそう　3 せきゆ　4 いしう\n",
    "\n",
    "3. 卒業式には住徒の **父母** たちもたくさん来ていた。  \n",
    "　1 ふば　2 ふぼ　3 ふうぼ　4 ちちば\n",
    "\n",
    "4. この町の主要な産業は何ですか。  \n",
    "　1 じゅちょう　2 しゅおう　3 じゅよう　4 しゅよう\n",
    "\n",
    "5. これは **加熱** して食べてください。  \n",
    "　1 かわつ　2 かねつ　3 かいねつ　4 かいあつ\n",
    "\n",
    "6. 川はあの **辺り** で **深く** なっている。  \n",
    "　1 ふかく　2 あさく　3 ひろく　4 せまく\n",
    "\n",
    "7. 失礼なことを言われたので、つい **感情的** になってしまった。  \n",
    "　1 がんじょうてき　2 かんじょうてき　3 かんしょうてき　4 がんしょうてき\n",
    "\n",
    "8. これは **残さない** でください。  \n",
    "　1 なさないで　2 よこさないで　3 ごぼさないで　4 のこさないで\n",
    "\"\"\"\n",
    "\n",
    "# Nodes\n",
    "def question_draft_generator(state: QuestionState):\n",
    "    \"\"\"First LLM call to generate initial question\"\"\"\n",
    "    print(\"---Generator----\")\n",
    "        \n",
    "    search_result = state['documents'],\n",
    "    \n",
    "    prompt = ChatPromptTemplate.from_messages(\n",
    "        [\n",
    "            (\n",
    "                \"system\",\n",
    "                \"\"\"\n",
    "    Role: You are a Japanese Teacher\n",
    "    Task: Write a kanji question for the JLPT N3 exam. Your job is to provide a kanji vocabulary word in a short sentence and ask the candidate to choose the correct kana reading. \n",
    "    \n",
    "    Instructions:\n",
    "    Format: Follow the format of the Formal exam paper. Please don't describe the task in the question.\n",
    "    Content: Ensure the vocabulary is restricted to N3 level. Use the vocabulary in the `Dictionary` as much as possible.\n",
    "    Reference: Get inspiration from the Search result. Only use the format as a reference; do not use any specific content from existing exams.\n",
    "    Explanation: Append the correct answer and an explanation of the main challenges  at each question.\n",
    "                Finally, output beautiful markdown format.\n",
    "                    Dictionary: {vocab_dict}\n",
    "                    Search result: {search_result}\n",
    "                    Formal exam paper: {example}\n",
    "                \"\"\"\n",
    "            ),\n",
    "            MessagesPlaceholder(variable_name=\"messages\"),\n",
    "        ]\n",
    "    )\n",
    "\n",
    "    \n",
    "    input = { \"topic\" : state['topic'],\n",
    "              \"search_result\": search_result, \n",
    "              \"vocab_dict\": vocab_dict,\n",
    "              \"example\": example,\n",
    "              \"messages\": state[\"messages\"]\n",
    "              }\n",
    "    # final_message = prompt.format_messages(**input)\n",
    "    # print(final_message)\n",
    "    \n",
    "    generate = prompt | azure_llm\n",
    "    \n",
    "    msg = generate.invoke(input=input)\n",
    "    \n",
    "    \n",
    "    return {\"question\": msg.content, \"messages\": [AIMessage(content=msg.content)] }\n",
    "\n",
    "\n",
    "def reflection_node(state: QuestionState) -> QuestionState:\n",
    "    print(\"---REVISOR---\")\n",
    "    \n",
    "    # Other messages we need to adjust\n",
    "    cls_map = {\"ai\": HumanMessage, \"human\": AIMessage}\n",
    "    # First message is the original user request. We hold it the same for all nodes\n",
    "    translated = [state[\"messages\"][0]] + [\n",
    "        cls_map[msg.type](content=msg.content) for msg in state[\"messages\"][1:]\n",
    "    ]\n",
    "\n",
    "    reflection_prompt = ChatPromptTemplate.from_messages(\n",
    "    [\n",
    "        (\n",
    "            \"system\",\n",
    "            \"\"\"you are a Japanese language educator reviewing a JLPT exam paper. Generate critique and recommendations for the user's submission.\n",
    "            the review focuses on content accuracy and question quality. \n",
    "            - For content accuracy, you must verify that the grammar and vocabulary questions accurately reflect the appropriate JLPT N3 level, ensuring the reading passages are clear, relevant, and appropriately challenging. \n",
    "            - For question quality, you must ensure all questions are clearly worded and free from ambiguity to comprehensively assess different language skills, and confirm that the difficulty level of the questions matches the intended JLPT N3 level.\n",
    "            - During detailed refinement, you check the format and presentation of the paper, ensuring it is well-organized and the instructions are clear and concise. you also ensure the content is culturally appropriate and relevant to Japanese language and culture.\n",
    "            - Finally, you make give feedback, providing detailed recommendations, including requests.If you think the exam paper is good enough, you just say \"GOOD ENOUGH\"\n",
    "            \"\"\"\n",
    "        ),\n",
    "            MessagesPlaceholder(variable_name=\"messages\"),\n",
    "        ]\n",
    "    )\n",
    "    reflect = reflection_prompt | azure_llm\n",
    "    \n",
    "    res = reflect.invoke(translated)\n",
    "    \n",
    "    print(res.content)\n",
    "    \n",
    "    # We treat the output of this as human feedback for the generator\n",
    "    return {\"messages\": [HumanMessage(content=res.content)]}\n",
    "\n",
    "\n",
    "def formatter_node(state: QuestionState) -> QuestionState:\n",
    "    print(\"--- Formatter ---\")\n",
    "    \n",
    "    question = state[\"question\"]\n",
    "    \n",
    "    print(\"### I am going to format: \",question)\n",
    "    \n",
    "    formatter_prompt = ChatPromptTemplate.from_messages(\n",
    "    [\n",
    "        (\n",
    "            \"system\",\n",
    "            \"\"\"You are a AI assistance. your job is to format the following content to the structured output, please don't modify contextual meanings and keep markdown format. Also, don't repeat question in the output. If explanation section is in japanese, please translate to simplified chinese:\n",
    "            {question}\n",
    "            \"\"\"\n",
    "        )\n",
    "        ]\n",
    "    )\n",
    "    format_pipeline = formatter_prompt | azure_llm.with_structured_output(SimpleChoiceQuestionOutput)\n",
    "    res = format_pipeline.invoke(input={\"question\": question})\n",
    "    \n",
    "    # We treat the output of this as human feedback for the generator\n",
    "    return {\"formatted_output\": res }\n",
    "\n"
   ]
  },
  {
   "cell_type": "code",
   "execution_count": 217,
   "id": "30e802dc904d791c",
   "metadata": {
    "collapsed": false,
    "ExecuteTime": {
     "end_time": "2025-04-24T15:17:01.235403Z",
     "start_time": "2025-04-24T15:17:00.713808600Z"
    }
   },
   "outputs": [
    {
     "data": {
      "image/png": "[encoded data removed]",
      "text/plain": "<IPython.core.display.Image object>"
     },
     "metadata": {},
     "output_type": "display_data"
    }
   ],
   "source": [
    "# Build workflow\n",
    "builder = StateGraph(QuestionState)\n",
    "\n",
    "builder.add_node(\"online_search\", online_search)\n",
    "builder.add_node(\"generator\", question_draft_generator)\n",
    "builder.add_node(\"reflector\", reflection_node)\n",
    "builder.add_node(\"formatter\",formatter_node)\n",
    "# Add nodes\n",
    "\n",
    "def should_continue(state: QuestionState):\n",
    "    if state[\"messages\"]:\n",
    "        if len(state[\"messages\"]) > 6: \n",
    "            print(\"--- Reach the Maximum Round ---\")\n",
    "            return \"formatter\"\n",
    "        elif \"GOOD ENOUGH\" in state[\"messages\"][-1].content:\n",
    "            print(\"--- AI Reviser feels Good Enough ---\")\n",
    "            return \"formatter\"\n",
    "    return \"generator\"\n",
    "\n",
    "# Add edges to connect nodes\n",
    "builder.add_edge(START, \"online_search\")\n",
    "builder.add_edge(\"online_search\", \"generator\")\n",
    "builder.add_edge(\"generator\", \"reflector\")\n",
    "# \n",
    "builder.add_conditional_edges(\"reflector\", should_continue)\n",
    "builder.add_edge(\"formatter\",END)\n",
    "memory = MemorySaver()\n",
    "\n",
    "# Compile\n",
    "kanji_graph = builder.compile()\n",
    "\n",
    "# Show workflow\n",
    "display(Image(kanji_graph.get_graph().draw_png()))"
   ]
  },
  {
   "cell_type": "code",
   "execution_count": 218,
   "id": "eec5f157c924be8b",
   "metadata": {
    "collapsed": false,
    "ExecuteTime": {
     "end_time": "2025-04-24T15:17:01.235403Z",
     "start_time": "2025-04-24T15:17:01.230922400Z"
    }
   },
   "outputs": [
    {
     "name": "stderr",
     "output_type": "stream",
     "text": [
      "C:\\Users\\Administrator\\AppData\\Local\\Temp\\ipykernel_20260\\878816679.py:2: FutureWarning: Series.__getitem__ treating keys as positions is deprecated. In a future version, integer keys will always be treated as labels (consistent with DataFrame behavior). To access a value by position, use `ser.iloc[pos]`\n",
      "  word = f\"{row[0]}({row[1]})\"\n"
     ]
    },
    {
     "data": {
      "text/plain": "'個々(ここ)'"
     },
     "execution_count": 218,
     "metadata": {},
     "output_type": "execute_result"
    }
   ],
   "source": [
    "row = words.iloc[1]\n",
    "word = f\"{row[0]}({row[1]})\"\n",
    "word"
   ]
  },
  {
   "cell_type": "code",
   "execution_count": 219,
   "id": "3c2e1e740fbe6971",
   "metadata": {
    "collapsed": false,
    "ExecuteTime": {
     "end_time": "2025-04-24T15:17:01.244273200Z",
     "start_time": "2025-04-24T15:17:01.235403Z"
    }
   },
   "outputs": [],
   "source": [
    "# # Debug the Conversation\n",
    "# for event in kanji_graph.stream(\n",
    "#     {\n",
    "#         \"messages\": [\n",
    "#             HumanMessage(\n",
    "#                 content=word\n",
    "#             )\n",
    "#         ],\n",
    "#     },\n",
    "#     config={\"configurable\": {\"thread_id\": \"1\"}},\n",
    "# ):\n",
    "#     print(event)\n",
    "#     print(\"---\")"
   ]
  },
  {
   "cell_type": "code",
   "execution_count": 220,
   "id": "553844c1e99d121c",
   "metadata": {
    "collapsed": false,
    "ExecuteTime": {
     "end_time": "2025-04-24T15:17:29.813326100Z",
     "start_time": "2025-04-24T15:17:01.245079700Z"
    }
   },
   "outputs": [
    {
     "name": "stdout",
     "output_type": "stream",
     "text": [
      "---WEB SEARCH---\n",
      "{'query': '個々(ここ)', 'follow_up_questions': None, 'answer': None, 'images': [], 'results': [{'title': '「個々」と「個別」の違いとは？分かりやすく解釈 | 意味解説辞典', 'url': 'https://meaning-dictionary.com/「個々」と「個別」の違いとは？分かりやすく解/', 'content': '「個々」とは? 「個々(ここ)」 とは、 「物がいくつかある内の一つ一つ」 や 「人が複数いる場合の一人一人」 を意味している言葉です。 「個々」 の表現は、 「複数の物・人がある(いる)内のそれぞれ・おのおの(各々)・一つ一つ」 といった意味のニュアンスを持っています。', 'score': 0.82288796, 'raw_content': None}, {'title': '「各人」「各自」「各々」「個々」の意味と違い - 社会人の教科書', 'url': 'https://business-textbooks.com/kakujin-kakuji-onoono/', 'content': '「個々（ここ）」とは、「いくつかあるうちの1つ1つ」という意味の言葉です。「個々の状況に応じて柔軟に対応してくれ」「個々の力ではどうしようもない問題だ」のように使われます。', 'score': 0.8055255, 'raw_content': None}, {'title': '個々(ここ)とは？ 意味や使い方 - コトバンク', 'url': 'https://kotobank.jp/word/個々-265455', 'content': '精選版 日本国語大辞典 - 個々の用語解説 - 〘 名詞 〙 一個一個。ひとつひとつ。ひとりひとり。おのおの。[初出の実例]「鈔に又まうさく、あらゆる所の仏法の趣き、ここゑんじゃうの道すぐに、今に絶えせぬ跡とかや」(出典：車屋本謡曲・東岸居士（1423頃）)「個々の病人、個々のケース', 'score': 0.79215926, 'raw_content': None}, {'title': '個々(ここ)の意味や読み方 わかりやすく解説 Weblio辞書', 'url': 'https://www.weblio.jp/content/個々', 'content': '「個々」の意味は 読み方：ここ いくつかあるうちの一つ一つのこと。Weblio国語辞典では「個々」の意味や使い方、用例、類似表現などを解説しています。', 'score': 0.67885995, 'raw_content': None}, {'title': '【個々 (ここ)】 と 【此処 (ここ)】 はどう違いますか？ | HiNative', 'url': 'https://ja.hinative.com/questions/19407205', 'content': '【ネイティブ回答】「個々 (ここ)」と「此処 (ここ)」はどう違うの？質問に2件の回答が集まっています!Hinativeでは\"日本語\"や外国語の勉強で気になったことを、ネイティブスピーカーに簡単に質問できます。', 'score': 0.61057013, 'raw_content': None}], 'response_time': 1.28}\n",
      "Web results:  「個々」とは? 「個々(ここ)」 とは、 「物がいくつかある内の一つ一つ」 や 「人が複数いる場合の一人一人」 を意味している言葉です。 「個々」 の表現は、 「複数の物・人がある(いる)内のそれぞれ・おのおの(各々)・一つ一つ」 といった意味のニュアンスを持っています。\n",
      "「個々（ここ）」とは、「いくつかあるうちの1つ1つ」という意味の言葉です。「個々の状況に応じて柔軟に対応してくれ」「個々の力ではどうしようもない問題だ」のように使われます。\n",
      "精選版 日本国語大辞典 - 個々の用語解説 - 〘 名詞 〙 一個一個。ひとつひとつ。ひとりひとり。おのおの。[初出の実例]「鈔に又まうさく、あらゆる所の仏法の趣き、ここゑんじゃうの道すぐに、今に絶えせぬ跡とかや」(出典：車屋本謡曲・東岸居士（1423頃）)「個々の病人、個々のケース\n",
      "「個々」の意味は 読み方：ここ いくつかあるうちの一つ一つのこと。Weblio国語辞典では「個々」の意味や使い方、用例、類似表現などを解説しています。\n",
      "【ネイティブ回答】「個々 (ここ)」と「此処 (ここ)」はどう違うの？質問に2件の回答が集まっています!Hinativeでは\"日本語\"や外国語の勉強で気になったことを、ネイティブスピーカーに簡単に質問できます。\n",
      "---Generator----\n",
      "---REVISOR---\n",
      "### Review of JLPT N3 Kanji Question: **個々(ここ)**\n",
      "\n",
      "#### **Content Accuracy**\n",
      "1. **Grammar and Vocabulary Appropriateness**:  \n",
      "   The question tests the reading of the kanji compound \"個々,\" which is suitable for the JLPT N3 level. This compound is commonly used in contexts discussing individuality or separate entities, making it relevant to intermediate learners. The explanation provided is accurate and clarifies the meaning and usage of the term. However, the inclusion of redundant options like \"ここ\" twice may confuse examinees or appear as an oversight. \n",
      "\n",
      "2. **Clarity and Challenge**:  \n",
      "   The reading and meaning of \"個々\" are clear and appropriately challenging for N3 level learners. However, the question could benefit from a more robust context or a slightly longer sentence to test comprehension in a real-world scenario. For instance, adding a sentence that elaborates on the importance of individuality would provide a deeper cultural and linguistic context.\n",
      "\n",
      "#### **Question Quality**\n",
      "1. **Ambiguity**:  \n",
      "   The question is straightforward and free from ambiguity. However, presenting \"ここ\" twice in the options may detract from the quality of the question. It would be better to replace one of the duplicate options with a plausible distractor, such as \"ここ\" (incorrect reading but similar in appearance), to challenge the learner's understanding further.\n",
      "\n",
      "2. **Difficulty Level**:  \n",
      "   The difficulty level matches the intended JLPT N3 level, as learners at this stage are expected to recognize common kanji compounds and their readings. The vocabulary term \"個々\" aligns well with the intermediate level of proficiency.\n",
      "\n",
      "#### **Format and Presentation**\n",
      "1. **Organization**:  \n",
      "   The format is simple and easy to follow. However, the inclusion of duplicate options may make the question appear less professional. Replacing the duplicate with a better distractor would improve the presentation.\n",
      "\n",
      "2. **Instructions**:  \n",
      "   The instructions are clear and concise, but adding a note about the importance of choosing the most appropriate reading could enhance clarity.\n",
      "\n",
      "3. **Cultural Relevance**:  \n",
      "   The sentence provided is culturally appropriate and relevant to Japanese language learners. Discussing individual opinions aligns well with Japanese social and cultural practices.\n",
      "\n",
      "#### **Recommendations**\n",
      "1. Replace the duplicate \"ここ\" option with a plausible distractor, such as \"ここ\" or \"こきょ,\" to improve the quality of the question.\n",
      "2. Consider expanding the sentence slightly to provide more context, such as:  \n",
      "   このプロジェクトでは **個々** の意見を大切にし、全員の考えを尊重します。  \n",
      "   This would make the question more engaging and culturally relevant.\n",
      "3. Ensure all options are distinct and meaningful to avoid confusion or the appearance of oversight.\n",
      "4. Add a brief note in the explanation about why \"個々\" is important in Japanese communication, emphasizing its cultural relevance.\n",
      "\n",
      "Overall, the question is well-constructed but could benefit from minor refinements to improve its quality and presentation.\n",
      "---Generator----\n",
      "---REVISOR---\n",
      "### Review of Revised JLPT N3 Kanji Question: **個々 (ここ)**\n",
      "\n",
      "#### **Content Accuracy**\n",
      "1. **Grammar and Vocabulary Appropriateness**:  \n",
      "   The revised question tests the reading of \"個々,\" which remains appropriate for the JLPT N3 level. The updated sentence provides a richer context, emphasizing the importance of respecting individual opinions, which aligns well with intermediate-level learners' expected comprehension skills. The explanation is accurate and provides additional insights into the usage of \"個々.\"\n",
      "\n",
      "2. **Clarity and Challenge**:  \n",
      "   The revised sentence enhances clarity and cultural relevance by introducing a more realistic and meaningful context. The inclusion of plausible distractors like \"こきょ\" and \"きょく\" ensures the question is appropriately challenging without being overly difficult.\n",
      "\n",
      "#### **Question Quality**\n",
      "1. **Ambiguity**:  \n",
      "   The duplicate \"ここ\" option has been removed, resolving the earlier issue of redundancy. Each option is now distinct, making the question clearer and more professional.\n",
      "\n",
      "2. **Difficulty Level**:  \n",
      "   The difficulty level remains consistent with the JLPT N3 standard. The plausible distractors challenge learners to differentiate between similar-sounding readings, which is a key skill at this level.\n",
      "\n",
      "#### **Format and Presentation**\n",
      "1. **Organization**:  \n",
      "   The revised format is well-organized, with the question, options, and explanation presented logically. The addition of a detailed explanation  adds value for learners who may benefit from bilingual support.\n",
      "\n",
      "2. **Instructions**:  \n",
      "   The instructions are clear, and the improved sentence provides a better linguistic and cultural context for the question.\n",
      "\n",
      "3. **Cultural Relevance**:  \n",
      "   The revised sentence emphasizes the cultural value of respecting individual opinions, which is highly relevant to Japanese society. This addition enhances learners' understanding of the language in a cultural context.\n",
      "\n",
      "#### **Recommendations**\n",
      "1. The revised question is significantly improved, with better distractors, richer context, and enhanced cultural relevance. No further changes are necessary.\n",
      "2. Consider including a brief note in the explanation about how \"個々\" is commonly used in Japanese communication to reinforce its practical application.\n",
      "\n",
      "### Final Verdict\n",
      "**GOOD ENOUGH**\n",
      "--- AI Reviser feels Good Enough ---\n",
      "--- Formatter ---\n",
      "### I am going to format:  ### Revised JLPT N3 Kanji Question: **個々 (ここ)**\n",
      "\n",
      "**問題:**  \n",
      "このプロジェクトでは **個々** の意見を大切にし、全員の考えを尊重します。  \n",
      "1. こきょ  \n",
      "2. ここ  \n",
      "3. きょく  \n",
      "4. ここ\n",
      "\n",
      "---\n",
      "\n",
      "**正解:**  \n",
      "2. ここ  \n",
      "\n",
      "---\n",
      "\n",
      "### **Explanation **  \n",
      "**解释:**  \n",
      "“个々”是指“每一个”或“分别”的意思，正确的读法是“ここ”。它常用于表达个体的意见或情况，例如“个々の意見を聞く”（听取每个人的意见）。其他选项中，“こきょ”和“きょく”是错误的读法，而“ここ”虽然形似，但并不是正确的读音。注意不要混淆类似的选项。  \n",
      "\n",
      "**主要难点:**  \n",
      "1. 学生可能会混淆“ここ”和其他音近的选项，例如“こきょ”。  \n",
      "2. 理解“个々”的语境和文化意义，例如在团队中重视每个人的意见，这是日本社会的重要价值观之一。  \n",
      "\n",
      "---\n",
      "\n",
      "This revised version improves clarity, removes duplicate options, and provides a richer context to enhance the learner's comprehension and cultural understanding.\n"
     ]
    },
    {
     "data": {
      "text/plain": "<IPython.core.display.Markdown object>",
      "text/markdown": "### Revised JLPT N3 Kanji Question: **個々 (ここ)**\n\n**問題:**  \nこのプロジェクトでは **個々** の意見を大切にし、全員の考えを尊重します。  \n1. こきょ  \n2. ここ  \n3. きょく  \n4. ここ\n\n---\n\n**正解:**  \n2. ここ  \n\n---\n\n### **Explanation **  \n**解释:**  \n“个々”是指“每一个”或“分别”的意思，正确的读法是“ここ”。它常用于表达个体的意见或情况，例如“个々の意見を聞く”（听取每个人的意见）。其他选项中，“こきょ”和“きょく”是错误的读法，而“ここ”虽然形似，但并不是正确的读音。注意不要混淆类似的选项。  \n\n**主要难点:**  \n1. 学生可能会混淆“ここ”和其他音近的选项，例如“こきょ”。  \n2. 理解“个々”的语境和文化意义，例如在团队中重视每个人的意见，这是日本社会的重要价值观之一。  \n\n---\n\nThis revised version improves clarity, removes duplicate options, and provides a richer context to enhance the learner's comprehension and cultural understanding."
     },
     "metadata": {},
     "output_type": "display_data"
    }
   ],
   "source": [
    "kanji = kanji_graph.invoke(\n",
    "    {\n",
    "       \"messages\": [\n",
    "                HumanMessage(\n",
    "                    content=word\n",
    "                )\n",
    "            ],\n",
    "        },\n",
    "    config={\"configurable\": {\"thread_id\": \"1\"}}\n",
    ")\n",
    "display(Markdown(kanji[\"question\"]))"
   ]
  },
  {
   "cell_type": "code",
   "execution_count": 221,
   "id": "c778d8e10606427f",
   "metadata": {
    "collapsed": false,
    "ExecuteTime": {
     "end_time": "2025-04-24T15:17:29.814340600Z",
     "start_time": "2025-04-24T15:17:29.803662Z"
    }
   },
   "outputs": [
    {
     "data": {
      "text/plain": "{'question': 'このプロジェクトでは **個々** の意見を大切にし、全員の考えを尊重します。',\n 'explanation': '“个々”是指“每一个”或“分别”的意思，正确的读法是“ここ”。它常用于表达个体的意见或情况，例如“个々の意見を聞く”（听取每个人的意见）。其他选项中，“こきょ”和“きょく”是错误的读法，而“ここ”虽然形似，但并不是正确的读音。注意不要混淆类似的选项。',\n 'correct_answer': 2,\n 'choices': ['こきょ', 'ここ', 'きょく', 'ここ']}"
     },
     "execution_count": 221,
     "metadata": {},
     "output_type": "execute_result"
    }
   ],
   "source": [
    "kanji[\"formatted_output\"]"
   ]
  },
  {
   "cell_type": "code",
   "execution_count": 221,
   "outputs": [],
   "source": [],
   "metadata": {
    "collapsed": false,
    "ExecuteTime": {
     "end_time": "2025-04-24T15:17:29.814340600Z",
     "start_time": "2025-04-24T15:17:29.811288Z"
    }
   },
   "id": "40093863c7ab4727"
  }
 ],
 "metadata": {
  "kernelspec": {
   "display_name": ".venv",
   "language": "python",
   "name": "python3"
  },
  "language_info": {
   "codemirror_mode": {
    "name": "ipython",
    "version": 3
   },
   "file_extension": ".py",
   "mimetype": "text/x-python",
   "name": "python",
   "nbconvert_exporter": "python",
   "pygments_lexer": "ipython3",
   "version": "3.13.2"
  }
 },
 "nbformat": 4,
 "nbformat_minor": 5
}
