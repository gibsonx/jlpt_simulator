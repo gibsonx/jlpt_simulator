{
 "cells": [
  {
   "cell_type": "markdown",
   "id": "2b011bdf967ca7ff",
   "metadata": {
    "collapsed": false
   },
   "source": [
    "# Language Knowledge (Vocabulary)\n",
    "Duration: 30 minutes\n",
    "Content: This section tests your knowledge of Japanese vocabulary, including kanji readings, orthography, word formation, contextually-defined expressions, paraphrases, and usage\n",
    "It mainly composes following five categories:\n",
    "- ``Reading Kana`` (Pronunciation Questions): Given a kanji word, choose the correct kana reading.\n",
    "- `Writing Kanji` (Writing Questions): Given a word written in kana, choose the correct kanji representation.\n",
    "- `Word Meaning` Selection (Vocabulary Understanding): Choose the most suitable word to fill in the sentence from four options.\n",
    "- `Synonym Replacement`: Select a word that has the same or similar meaning as the underlined word.\n",
    "- `Vocabulary Usage`: Assess the usage of words in actual contexts, choosing the most appropriate word usage, including some common Japanese expressions or fixed phrases."
   ]
  },
  {
   "cell_type": "code",
   "execution_count": 1,
   "id": "7f526a68a7e73a65",
   "metadata": {
    "ExecuteTime": {
     "end_time": "2025-04-12T09:05:46.881337200Z",
     "start_time": "2025-04-12T09:05:46.846841100Z"
    },
    "collapsed": false
   },
   "outputs": [
    {
     "data": {
      "text/plain": [
       "True"
      ]
     },
     "execution_count": 1,
     "metadata": {},
     "output_type": "execute_result"
    }
   ],
   "source": [
    "import pandas as pd\n",
    "import json\n",
    "import os\n",
    "import random\n",
    "import pickle\n",
    "import re\n",
    "import uuid\n",
    "from typing import *\n",
    "from langchain_openai import AzureOpenAI,AzureChatOpenAI\n",
    "from langchain_anthropic import ChatAnthropic\n",
    "from langchain_core.prompts import ChatPromptTemplate, MessagesPlaceholder\n",
    "from dotenv import load_dotenv\n",
    "from langchain_aws import ChatBedrock\n",
    "from langchain.embeddings.base import Embeddings\n",
    "from langchain.text_splitter import CharacterTextSplitter\n",
    "from langchain_community.document_loaders import PyPDFLoader\n",
    "from langchain_community.embeddings import HuggingFaceEmbeddings\n",
    "# from langchain_community.embeddings import XinferenceEmbeddings\n",
    "from langchain_community.vectorstores import Chroma\n",
    "from langchain_openai import OpenAIEmbeddings\n",
    "from typing import Annotated, Literal, Sequence\n",
    "from typing_extensions import TypedDict\n",
    "from IPython.display import display, Markdown, Latex\n",
    "from langchain import hub\n",
    "from langchain_core.output_parsers import StrOutputParser\n",
    "from langchain_core.prompts import PromptTemplate\n",
    "from langchain_openai import ChatOpenAI\n",
    "from typing import Annotated, Sequence\n",
    "from typing_extensions import TypedDict\n",
    "from langchain_core.messages import BaseMessage,RemoveMessage,HumanMessage,AIMessage,ToolMessage\n",
    "from langgraph.graph.message import add_messages\n",
    "from pydantic import BaseModel, Field\n",
    "from langgraph.graph import END, StateGraph, START\n",
    "from langgraph.prebuilt import ToolNode\n",
    "from langgraph.prebuilt import tools_condition\n",
    "from langgraph.checkpoint.memory import MemorySaver\n",
    "from langchain.output_parsers import PydanticOutputParser\n",
    "from pydantic import BaseModel, Field, validator\n",
    "from typing import List, Optional\n",
    "from langchain_tavily import TavilySearch\n",
    "from langchain.schema import Document\n",
    "from langgraph.prebuilt import create_react_agent\n",
    "from langchain_community.tools.tavily_search import TavilySearchResults\n",
    "load_dotenv()"
   ]
  },
  {
   "cell_type": "code",
   "execution_count": 2,
   "id": "58607e19",
   "metadata": {},
   "outputs": [],
   "source": [
    "azure_llm = AzureChatOpenAI(\n",
    "    azure_endpoint=\"https://ai-rolandaws880125ai409947751408.openai.azure.com/openai/deployments/gpt-4o/chat/completions?api-version=2025-01-01-preview\",\n",
    "    api_key=os.environ[\"AZURE_API_KEY\"],\n",
    "    model_name=\"gpt-4o\",\n",
    "    api_version=\"2025-01-01-preview\",\n",
    "    temperature=0.5,\n",
    ")\n",
    "\n",
    "aws_llm = ChatBedrock(\n",
    "    # model_id=\"us.anthropic.claude-3-7-sonnet-20250219-v1:0\",\n",
    "     model_id=\"us.anthropic.claude-3-5-haiku-20241022-v1:0\",\n",
    "    model_kwargs=dict(temperature=0.5),\n",
    "    region = \"us-east-2\",\n",
    "    aws_access_key_id=os.environ[\"AWS_ACCESS_KEY_ID\"],\n",
    "    aws_secret_access_key=os.environ[\"AWS_SECRET_ACCESS_KEY\"],\n",
    ")"
   ]
  },
  {
   "cell_type": "code",
   "execution_count": 3,
   "id": "initial_id",
   "metadata": {
    "ExecuteTime": {
     "end_time": "2025-04-12T09:05:46.893687800Z",
     "start_time": "2025-04-12T09:05:46.853897400Z"
    },
    "collapsed": false
   },
   "outputs": [],
   "source": [
    "# Import N3 Vocabulary\n",
    "file_path = '../Vocab/n3.csv'\n",
    "# Read the CSV file\n",
    "data = pd.read_csv(file_path)\n",
    "words = data.iloc[:, :2].sample(frac=1).reset_index(drop=True)\n",
    "# Display the content of the CSV file\n",
    "words.head()\n",
    "vocab_dict = words.set_index(words.columns[0])[words.columns[1]].to_dict()\n",
    "vocab_dict = json.dumps(vocab_dict, ensure_ascii=False, separators=(',', ':'))"
   ]
  },
  {
   "cell_type": "markdown",
   "id": "4c1cdce8b1f57ef3",
   "metadata": {
    "collapsed": false
   },
   "source": [
    "#### load Models"
   ]
  },
  {
   "cell_type": "markdown",
   "id": "385c63b54b5c2a36",
   "metadata": {
    "collapsed": false
   },
   "source": [
    "#### Exam Paper Outline\n",
    "### A. overall thinking the structure of an exam\n",
    "1. distribution of the difficulty \n",
    "2. topics\n",
    "3. reasoning"
   ]
  },
  {
   "cell_type": "markdown",
   "id": "fed5f032dadafac1",
   "metadata": {
    "collapsed": false
   },
   "source": [
    "## Data Strcuture"
   ]
  },
  {
   "cell_type": "markdown",
   "id": "5795bb3d95c0cc50",
   "metadata": {
    "collapsed": false
   },
   "source": [
    "# Kanji 读假名（读音问题）"
   ]
  },
  {
   "cell_type": "code",
   "execution_count": 4,
   "id": "252ffacd6ebb7b37",
   "metadata": {
    "ExecuteTime": {
     "end_time": "2025-04-12T09:05:46.893687800Z",
     "start_time": "2025-04-12T09:05:46.867091900Z"
    },
    "collapsed": false
   },
   "outputs": [],
   "source": [
    "def online_search(state):\n",
    "    \"\"\"\n",
    "    Web search based on the re-phrased question.\n",
    "\n",
    "    Args:\n",
    "        state (dict): The current graph state\n",
    "\n",
    "    Returns:\n",
    "        state (dict): Updates documents key with appended web results\n",
    "    \"\"\"\n",
    "    \n",
    "    print(\"---WEB SEARCH---\")\n",
    "    \n",
    "    topic = state['messages'][0].content\n",
    "    \n",
    "    tavily_search_tool = TavilySearch(\n",
    "        max_results=5,\n",
    "        topic=\"news\",\n",
    "        days=1\n",
    "    )\n",
    "    # Web search\n",
    "    docs = tavily_search_tool.invoke({\"query\": topic})\n",
    "    \n",
    "    print(docs)\n",
    "\n",
    "    web_results = \"\\n\".join([d[\"content\"] for d in docs[\"results\"]])\n",
    "    \n",
    "    print(\"Web results: \", web_results)\n",
    "\n",
    "    return {\"documents\": web_results, \"topic\": topic}"
   ]
  },
  {
   "cell_type": "code",
   "execution_count": null,
   "id": "1a966afd733d860d",
   "metadata": {
    "ExecuteTime": {
     "end_time": "2025-04-12T09:05:46.917155100Z",
     "start_time": "2025-04-12T09:05:46.871842700Z"
    },
    "collapsed": false
   },
   "outputs": [],
   "source": [
    "from typing_extensions import TypedDict\n",
    "from langgraph.graph import StateGraph, START, END\n",
    "from IPython.display import Image, display\n",
    "\n",
    "\n",
    "# Graph state\n",
    "class QuestionState(TypedDict):\n",
    "    topic: str\n",
    "    question: str\n",
    "    documents: str\n",
    "    messages: Annotated[list, add_messages]\n",
    "\n",
    "\n",
    "example = \"\"\"\n",
    "問題１  \n",
    "のことばの読みかたとして最もよいものを、1・2・3・4から一つえらびなさい。\n",
    "\n",
    "1. 山田さんがちらしを **配った**。  \n",
    "　1 ひろった　2 くばった　3 やぶった　4 はった\n",
    "\n",
    "2. 私の国は **石油** を輸入しています。  \n",
    "　1 いしゅ　2 せきそう　3 せきゆ　4 いしう\n",
    "\n",
    "3. 卒業式には住徒の **父母** たちもたくさん来ていた。  \n",
    "　1 ふば　2 ふぼ　3 ふうぼ　4 ちちば\n",
    "\n",
    "4. この町の主要な産業は何ですか。  \n",
    "　1 じゅちょう　2 しゅおう　3 じゅよう　4 しゅよう\n",
    "\n",
    "5. これは **加熱** して食べてください。  \n",
    "　1 かわつ　2 かねつ　3 かいねつ　4 かいあつ\n",
    "\n",
    "6. 川はあの **辺り** で **深く** なっている。  \n",
    "　1 ふかく　2 あさく　3 ひろく　4 せまく\n",
    "\n",
    "7. 失礼なことを言われたので、つい **感情的** になってしまった。  \n",
    "　1 がんじょうてき　2 かんじょうてき　3 かんしょうてき　4 がんしょうてき\n",
    "\n",
    "8. これは **残さない** でください。  \n",
    "　1 なさないで　2 よこさないで　3 ごぼさないで　4 のこさないで\n",
    "\"\"\"\n",
    "\n",
    "# Nodes\n",
    "def question_draft_generator(state: QuestionState):\n",
    "    \"\"\"First LLM call to generate initial question\"\"\"\n",
    "    print(\"---Generator----\")\n",
    "        \n",
    "    search_result = state['documents'],\n",
    "    \n",
    "    prompt = ChatPromptTemplate.from_messages(\n",
    "        [\n",
    "            (\n",
    "                \"system\",\n",
    "                \"\"\"\n",
    "                    You are a Japanese teacher. Your job is to write vocabulary question for candidates to provide a Chinese character vocabulary and ask students to choose the correct pronunciation of kana. The question should have 4 options and only refer to the format, not the content.\n",
    "                    The vocabulary should be restricted to N3 level, use the vocabulary in the `Dictionary` as much as you can.\n",
    "                    Please refer to the question examples following the formal exam paper.\n",
    "                    Append the correct answer and explanation of the main challenges on why the teacher asks this question to the candidate in simplified Chinese at each question.\n",
    "                    Finally, output beautiful markdown format.\n",
    "                    Dictionary: {vocab_dict}\n",
    "                    Search result: {search_result}\n",
    "                    Formal exam paper: {example}\n",
    "                \"\"\"\n",
    "            ),\n",
    "            MessagesPlaceholder(variable_name=\"messages\"),\n",
    "        ]\n",
    "    )\n",
    "\n",
    "    \n",
    "    input = { \"topic\" : state['topic'],\n",
    "              \"search_result\": search_result, \n",
    "              \"vocab_dict\": vocab_dict,\n",
    "              \"example\": example,\n",
    "              \"messages\": state[\"messages\"]\n",
    "              }\n",
    "    # final_message = prompt.format_messages(**input)\n",
    "    # print(final_message)\n",
    "    \n",
    "    generate = prompt | azure_llmgit push\n",
    "    \n",
    "    msg = generate.invoke(input=input)\n",
    "    \n",
    "    \n",
    "    return {\"question\": msg.content, \"messages\": [AIMessage(content=msg.content)] }\n",
    "\n",
    "\n",
    "def reflection_node(state: QuestionState) -> QuestionState:\n",
    "    print(\"---REVISOR---\")\n",
    "    \n",
    "    # Other messages we need to adjust\n",
    "    cls_map = {\"ai\": HumanMessage, \"human\": AIMessage}\n",
    "    # First message is the original user request. We hold it the same for all nodes\n",
    "    translated = [state[\"messages\"][0]] + [\n",
    "        cls_map[msg.type](content=msg.content) for msg in state[\"messages\"][1:]\n",
    "    ]\n",
    "\n",
    "    reflection_prompt = ChatPromptTemplate.from_messages(\n",
    "    [\n",
    "        (\n",
    "            \"system\",\n",
    "            \"\"\"you are a Japanese language educator reviewing a JLPT exam paper. Generate critique and recommendations for the user's submission.\n",
    "            the review focuses on content accuracy and question quality. \n",
    "            - For content accuracy, you must verify that the grammar and vocabulary questions accurately reflect the appropriate JLPT N3 level, ensuring the reading passages are clear, relevant, and appropriately challenging. \n",
    "            - For question quality, you must ensure all questions are clearly worded and free from ambiguity to comprehensively assess different language skills, and confirm that the difficulty level of the questions matches the intended JLPT N3 level.\n",
    "            - During detailed refinement, you check the format and presentation of the paper, ensuring it is well-organized and the instructions are clear and concise. you also ensure the content is culturally appropriate and relevant to Japanese language and culture.\n",
    "            - Finally, you make give feedback, providing detailed recommendations, including requests.If you think the exam paper is good enough, you just say \"GOOD ENOUGH\"\n",
    "            \"\"\"\n",
    "        ),\n",
    "            MessagesPlaceholder(variable_name=\"messages\"),\n",
    "        ]\n",
    "    )\n",
    "    reflect = reflection_prompt | azure_llm\n",
    "    \n",
    "    res = reflect.invoke(translated)\n",
    "    \n",
    "    print(res.content)\n",
    "    \n",
    "    # We treat the output of this as human feedback for the generator\n",
    "    return {\"messages\": [HumanMessage(content=res.content)]}\n",
    "\n"
   ]
  },
  {
   "cell_type": "code",
   "execution_count": 6,
   "id": "30e802dc904d791c",
   "metadata": {
    "ExecuteTime": {
     "end_time": "2025-04-12T09:05:47.226967100Z",
     "start_time": "2025-04-12T09:05:46.881337200Z"
    },
    "collapsed": false
   },
   "outputs": [],
   "source": [
    "# Build workflow\n",
    "builder = StateGraph(QuestionState)\n",
    "\n",
    "builder.add_node(\"online_search\", online_search)\n",
    "builder.add_node(\"generator\", question_draft_generator)\n",
    "builder.add_node(\"reflector\", reflection_node)\n",
    "# Add nodes\n",
    "\n",
    "def should_continue(state: QuestionState):\n",
    "    if state[\"messages\"]:\n",
    "        if len(state[\"messages\"]) > 6: \n",
    "            print(\"--- Reach the Maximum Round ---\")\n",
    "            return END\n",
    "        elif \"GOOD ENOUGH\" in state[\"messages\"][-1].content:\n",
    "            print(\"--- AI Reviser feels Good Enough ---\")\n",
    "            return END\n",
    "    return \"generator\"\n",
    "\n",
    "# Add edges to connect nodes\n",
    "builder.add_edge(START, \"online_search\")\n",
    "builder.add_edge(\"online_search\", \"generator\")\n",
    "builder.add_edge(\"generator\",\"reflector\")\n",
    "# \n",
    "builder.add_conditional_edges(\"reflector\", should_continue)\n",
    "memory = MemorySaver()\n",
    "\n",
    "# Compile\n",
    "kanji_graph = builder.compile()\n",
    "\n",
    "# Show workflow\n",
    "# display(Image(kanji_graph.get_graph().draw_png()))"
   ]
  },
  {
   "cell_type": "code",
   "execution_count": 7,
   "id": "eec5f157c924be8b",
   "metadata": {
    "ExecuteTime": {
     "end_time": "2025-04-12T09:05:47.233071800Z",
     "start_time": "2025-04-12T09:05:47.226967100Z"
    },
    "collapsed": false
   },
   "outputs": [
    {
     "name": "stderr",
     "output_type": "stream",
     "text": [
      "C:\\Users\\HW-BK003\\AppData\\Local\\Temp\\ipykernel_21256\\846002302.py:2: FutureWarning: Series.__getitem__ treating keys as positions is deprecated. In a future version, integer keys will always be treated as labels (consistent with DataFrame behavior). To access a value by position, use `ser.iloc[pos]`\n",
      "  word = f\"{row[0]}({row[1]})\"\n"
     ]
    },
    {
     "data": {
      "text/plain": [
       "'高まる(たかまる)'"
      ]
     },
     "execution_count": 7,
     "metadata": {},
     "output_type": "execute_result"
    }
   ],
   "source": [
    "row = words.iloc[1]\n",
    "word = f\"{row[0]}({row[1]})\"\n",
    "word"
   ]
  },
  {
   "cell_type": "code",
   "execution_count": 8,
   "id": "3c2e1e740fbe6971",
   "metadata": {
    "ExecuteTime": {
     "end_time": "2025-04-12T09:05:47.238098800Z",
     "start_time": "2025-04-12T09:05:47.233071800Z"
    },
    "collapsed": false
   },
   "outputs": [],
   "source": [
    "# # Debug the Conversation\n",
    "# for event in kanji_graph.stream(\n",
    "#     {\n",
    "#         \"messages\": [\n",
    "#             HumanMessage(\n",
    "#                 content=word\n",
    "#             )\n",
    "#         ],\n",
    "#     },\n",
    "#     config={\"configurable\": {\"thread_id\": \"1\"}},\n",
    "# ):\n",
    "#     print(event)\n",
    "#     print(\"---\")"
   ]
  },
  {
   "cell_type": "code",
   "execution_count": 9,
   "id": "553844c1e99d121c",
   "metadata": {
    "ExecuteTime": {
     "end_time": "2025-04-12T09:06:11.173729Z",
     "start_time": "2025-04-12T09:05:47.238098800Z"
    },
    "collapsed": false
   },
   "outputs": [
    {
     "name": "stdout",
     "output_type": "stream",
     "text": [
      "---WEB SEARCH---\n",
      "{'query': '高まる(たかまる)', 'follow_up_questions': None, 'answer': None, 'images': [], 'results': [{'title': '高まる（たかまる）とは？ 意味・読み方・使い方をわかりやすく解説 - goo国語辞書', 'url': 'https://dictionary.goo.ne.jp/word/高まる/', 'content': '高まる（たかまる）とは。意味や使い方、類語をわかりやすく解説。[動ラ五（四）]物事の程度が増してくる、高くなる、大きくなる、また、強くなる。「人気が—・る」「波音が—・る」「関心が—・る」 - goo国語辞書は30万9千件語以上を収録。政治・経済・医学・ITなど、最新用語の追加も', 'score': 0.8921218, 'raw_content': None}, {'title': '高まる(タカマル)とは？ 意味や使い方 - コトバンク', 'url': 'https://kotobank.jp/word/高まる-559454', 'content': 'デジタル大辞泉 - 高まるの用語解説 - [動ラ五（四）]物事の程度が増してくる、高くなる、大きくなる、また、強くなる。 ... [初出の実例]「我が位置たかまるに付けて湧き来る企望のさまざま」(出典：うもれ木（1892）〈樋口一葉〉四)', 'score': 0.8156003, 'raw_content': None}, {'title': 'Definition of 高まる - JapanDict: Japanese Dictionary', 'url': 'https://www.japandict.com/高まる', 'content': 'Definition of 高まる. Click for more info and examples: たかまる - takamaru - to rise, to swell, to be promoted', 'score': 0.77487355, 'raw_content': None}, {'title': '「高まる(たかまる)」の意味や使い方 わかりやすく解説 Weblio辞書', 'url': 'https://www.weblio.jp/content/高まる', 'content': 'クラスの人数が減るということは、教育水準が高まるということであり、それこそ、我々が子供たちのために 求めていることなのです。 それで彼らの士気は高まるだろう. 彼女は彼の 名声が高まるのを関心 をもって 見守った. 帆船は高まる風を受けて 疾走', 'score': 0.7382357, 'raw_content': None}, {'title': '【高める】 と 【高まる】 はどう違いますか？ | HiNative', 'url': 'https://ja.hinative.com/questions/1116587', 'content': '「高まる」には二つの意味があります。 1. 物事の量や勢いを上げること。 2. よくある表現として、良い出来事に出会ったり良いことを考えたりして興奮することを意味します。 「高める」はより低いものを増加させることを意味します。', 'score': 0.69249696, 'raw_content': None}], 'response_time': 1.35}\n",
      "Web results:  高まる（たかまる）とは。意味や使い方、類語をわかりやすく解説。[動ラ五（四）]物事の程度が増してくる、高くなる、大きくなる、また、強くなる。「人気が—・る」「波音が—・る」「関心が—・る」 - goo国語辞書は30万9千件語以上を収録。政治・経済・医学・ITなど、最新用語の追加も\n",
      "デジタル大辞泉 - 高まるの用語解説 - [動ラ五（四）]物事の程度が増してくる、高くなる、大きくなる、また、強くなる。 ... [初出の実例]「我が位置たかまるに付けて湧き来る企望のさまざま」(出典：うもれ木（1892）〈樋口一葉〉四)\n",
      "Definition of 高まる. Click for more info and examples: たかまる - takamaru - to rise, to swell, to be promoted\n",
      "クラスの人数が減るということは、教育水準が高まるということであり、それこそ、我々が子供たちのために 求めていることなのです。 それで彼らの士気は高まるだろう. 彼女は彼の 名声が高まるのを関心 をもって 見守った. 帆船は高まる風を受けて 疾走\n",
      "「高まる」には二つの意味があります。 1. 物事の量や勢いを上げること。 2. よくある表現として、良い出来事に出会ったり良いことを考えたりして興奮することを意味します。 「高める」はより低いものを増加させることを意味します。\n",
      "---Generator----\n",
      "---REVISOR---\n",
      "### Review and Recommendations for JLPT N3 Exam Question\n",
      "\n",
      "#### **Content Accuracy**\n",
      "1. **Appropriateness of Vocabulary**: The word **高まる (たかまる)** is a suitable choice for the JLPT N3 level. It is a common verb used in various contexts, such as \"人気が高まる\" (popularity increases) or \"関心が高まる\" (interest grows). This aligns well with the expected vocabulary knowledge of N3 learners.\n",
      "\n",
      "2. **Grammar Level**: The question does not require advanced grammar knowledge but focuses on kanji reading recognition, which is appropriate for N3. However, it would be beneficial to provide a sentence example in the question to situate the word in context, as N3 tends to emphasize practical language usage.\n",
      "\n",
      "3. **Clarity of Reading Passage**: Since this is a single-word recognition question, there is no reading passage. However, adding a brief sentence example would enhance the question's relevance and challenge.\n",
      "\n",
      "#### **Question Quality**\n",
      "1. **Clarity of Wording**: The question is clear and free from ambiguity. The wording effectively communicates the task to the examinee.\n",
      "\n",
      "2. **Distractor Quality**: The distractors (たかみる, たかめる, たかもる) are well-chosen. Specifically:\n",
      "   - **たかめる** is a real word and closely related in meaning to **たかまる**, making it a strong distractor.\n",
      "   - **たかみる** and **たかもる** are fabricated options, which is acceptable for distractors but less challenging for higher-level learners. Consider replacing one of these with another real word that might confuse learners (e.g., たかる).\n",
      "\n",
      "3. **Difficulty Level**: The question matches the difficulty level of N3, focusing on kanji reading and recognition of verbs.\n",
      "\n",
      "#### **Format and Presentation**\n",
      "1. **Organization**: The question is presented in a clear and structured format. However, adding an example sentence would make the question more engaging and relevant to real-world language usage.\n",
      "\n",
      "2. **Instructions**: The instructions are concise, but they could be slightly more detailed. For example:\n",
      "   - Current: \"**高まる** の読み方として最もよいものを、1・2・3・4から一つ選びなさい。\"\n",
      "   - Suggested: \"**高まる** の正しい読み方を選びなさい。以下の選択肢から一つ選んでください。\"\n",
      "\n",
      "3. **Cultural Relevance**: The word **高まる** is culturally neutral and widely applicable in various contexts, making it suitable for the exam.\n",
      "\n",
      "#### **Recommendations**\n",
      "1. **Add Context**: Include a sample sentence to situate the word in context, such as:\n",
      "   - \"人気が＿＿＿＿。\"  \n",
      "   - 1. 高まる  \n",
      "   - 2. 高みる  \n",
      "   - 3. 高める  \n",
      "   - 4. 高もる  \n",
      "\n",
      "2. **Enhance Distractors**: Replace one of the fabricated distractors (e.g., たかみる or たかもる) with a real word or a common misreading to increase the challenge. For example:\n",
      "   - たかる (a real word meaning \"to swarm\" or \"to extort\").\n",
      "\n",
      "3. **Improve Instructions**: Slightly refine the instructions for greater clarity and a more professional tone.\n",
      "\n",
      "4. **Cultural Example**: Consider using a culturally relevant example sentence, such as:\n",
      "   - \"オリンピックへの期待が＿＿＿＿。\"  \n",
      "   This ties the word to a topic that is widely recognized and relevant.\n",
      "\n",
      "---\n",
      "\n",
      "### Final Evaluation\n",
      "The question is **GOOD ENOUGH** for the JLPT N3 level in its current form. However, implementing the above recommendations would enhance its quality and alignment with JLPT standards.\n",
      "--- AI Reviser feels Good Enough ---\n"
     ]
    },
    {
     "data": {
      "text/markdown": [
       "### 問題  \n",
       "**高まる** の読み方として最もよいものを、1・2・3・4から一つ選びなさい。  \n",
       "\n",
       "1. たかまる  \n",
       "2. たかみる  \n",
       "3. たかめる  \n",
       "4. たかもる  \n",
       "\n",
       "---\n",
       "\n",
       "### 答え  \n",
       "**1. たかまる**  \n",
       "\n",
       "---\n",
       "\n",
       "### 解説  \n",
       "**簡体字**  \n",
       "\"高まる\" 的正确读法是 \"たかまる\"。这个词的意思是某事的程度增加、变高、变大或变强，例如“人気が高まる”（人气上升）。教师选择这个词的原因是它是一个常见的动词，考察学生对日语动词的理解。错误选项如“たかめる”是另一个相关词，表示“使某事变高或增加”，容易混淆，因此考察了学生的辨识能力。  \n",
       "\n"
      ],
      "text/plain": [
       "<IPython.core.display.Markdown object>"
      ]
     },
     "metadata": {},
     "output_type": "display_data"
    }
   ],
   "source": [
    "kanji = kanji_graph.invoke(\n",
    "    {\n",
    "       \"messages\": [\n",
    "                HumanMessage(\n",
    "                    content=word\n",
    "                )\n",
    "            ],\n",
    "        },\n",
    "    config={\"configurable\": {\"thread_id\": \"1\"}}\n",
    ")\n",
    "display(Markdown(kanji[\"question\"]))"
   ]
  },
  {
   "cell_type": "code",
   "execution_count": null,
   "id": "c778d8e10606427f",
   "metadata": {
    "ExecuteTime": {
     "end_time": "2025-04-12T09:06:11.182472400Z",
     "start_time": "2025-04-12T09:06:11.173729Z"
    },
    "collapsed": false
   },
   "outputs": [],
   "source": []
  }
 ],
 "metadata": {
  "kernelspec": {
   "display_name": ".venv",
   "language": "python",
   "name": "python3"
  },
  "language_info": {
   "codemirror_mode": {
    "name": "ipython",
    "version": 3
   },
   "file_extension": ".py",
   "mimetype": "text/x-python",
   "name": "python",
   "nbconvert_exporter": "python",
   "pygments_lexer": "ipython3",
   "version": "3.13.2"
  }
 },
 "nbformat": 4,
 "nbformat_minor": 5
}
