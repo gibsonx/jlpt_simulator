{
 "cells": [
  {
   "cell_type": "markdown",
   "id": "2b011bdf967ca7ff",
   "metadata": {
    "collapsed": false
   },
   "source": [
    "# Language Knowledge (Vocabulary)\n",
    "Duration: 30 minutes\n",
    "Content: This section tests your knowledge of Japanese vocabulary, including kanji readings, orthography, word formation, contextually-defined expressions, paraphrases, and usage\n",
    "It mainly composes following five categories:\n",
    "- ``Reading Kana`` (Pronunciation Questions): Given a kanji word, choose the correct kana reading.\n",
    "- `Writing Kanji` (Writing Questions): Given a word written in kana, choose the correct kanji representation.\n",
    "- `Word Meaning` Selection (Vocabulary Understanding): Choose the most suitable word to fill in the sentence from four options.\n",
    "- `Synonym Replacement`: Select a word that has the same or similar meaning as the underlined word.\n",
    "- `Vocabulary Usage`: Assess the usage of words in actual contexts, choosing the most appropriate word usage, including some common Japanese expressions or fixed phrases."
   ]
  },
  {
   "cell_type": "code",
   "execution_count": 23,
   "id": "7f526a68a7e73a65",
   "metadata": {
    "ExecuteTime": {
     "end_time": "2025-03-21T04:52:51.327395Z",
     "start_time": "2025-03-21T04:52:51.315832Z"
    },
    "collapsed": false
   },
   "outputs": [
    {
     "data": {
      "text/plain": [
       "True"
      ]
     },
     "execution_count": 23,
     "metadata": {},
     "output_type": "execute_result"
    }
   ],
   "source": [
    "import pandas as pd\n",
    "import json\n",
    "import os\n",
    "import pickle\n",
    "import re\n",
    "import uuid\n",
    "from typing import *\n",
    "from langchain_openai import AzureOpenAI,AzureChatOpenAI\n",
    "from langchain_anthropic import ChatAnthropic\n",
    "from langchain_core.prompts import ChatPromptTemplate\n",
    "from dotenv import load_dotenv\n",
    "from langchain_aws import ChatBedrock\n",
    "from langchain.embeddings.base import Embeddings\n",
    "from langchain.text_splitter import CharacterTextSplitter\n",
    "from langchain_community.document_loaders import PyPDFLoader\n",
    "from langchain_community.embeddings import HuggingFaceEmbeddings\n",
    "# from langchain_community.embeddings import XinferenceEmbeddings\n",
    "from langchain_community.vectorstores import Chroma\n",
    "from langchain_openai import OpenAIEmbeddings\n",
    "from typing import Annotated, Literal, Sequence\n",
    "from typing_extensions import TypedDict\n",
    "from IPython.display import display, Markdown, Latex\n",
    "from langchain import hub\n",
    "from langchain_core.output_parsers import StrOutputParser\n",
    "from langchain_core.prompts import PromptTemplate\n",
    "from langchain_openai import ChatOpenAI\n",
    "from typing import Annotated, Sequence\n",
    "from typing_extensions import TypedDict\n",
    "from langchain_core.messages import BaseMessage,RemoveMessage,HumanMessage,AIMessage,ToolMessage\n",
    "from langgraph.graph.message import add_messages\n",
    "from pydantic import BaseModel, Field\n",
    "from langgraph.graph import END, StateGraph, START\n",
    "from langgraph.prebuilt import ToolNode\n",
    "from langgraph.prebuilt import tools_condition\n",
    "from langgraph.checkpoint.memory import MemorySaver\n",
    "from langchain.output_parsers import PydanticOutputParser\n",
    "from pydantic import BaseModel, Field, validator\n",
    "from typing import List, Optional\n",
    "\n",
    "load_dotenv()"
   ]
  },
  {
   "cell_type": "code",
   "execution_count": 24,
   "id": "initial_id",
   "metadata": {
    "ExecuteTime": {
     "end_time": "2025-03-21T04:52:51.375033Z",
     "start_time": "2025-03-21T04:52:51.356406Z"
    },
    "collapsed": false
   },
   "outputs": [
    {
     "data": {
      "text/html": [
       "<div>\n",
       "<style scoped>\n",
       "    .dataframe tbody tr th:only-of-type {\n",
       "        vertical-align: middle;\n",
       "    }\n",
       "\n",
       "    .dataframe tbody tr th {\n",
       "        vertical-align: top;\n",
       "    }\n",
       "\n",
       "    .dataframe thead th {\n",
       "        text-align: right;\n",
       "    }\n",
       "</style>\n",
       "<table border=\"1\" class=\"dataframe\">\n",
       "  <thead>\n",
       "    <tr style=\"text-align: right;\">\n",
       "      <th></th>\n",
       "      <th>expression</th>\n",
       "      <th>reading</th>\n",
       "    </tr>\n",
       "  </thead>\n",
       "  <tbody>\n",
       "    <tr>\n",
       "      <th>0</th>\n",
       "      <td>名人</td>\n",
       "      <td>めいじん</td>\n",
       "    </tr>\n",
       "    <tr>\n",
       "      <th>1</th>\n",
       "      <td>重体</td>\n",
       "      <td>じゅうたい</td>\n",
       "    </tr>\n",
       "    <tr>\n",
       "      <th>2</th>\n",
       "      <td>楽</td>\n",
       "      <td>らく</td>\n",
       "    </tr>\n",
       "    <tr>\n",
       "      <th>3</th>\n",
       "      <td>加わる</td>\n",
       "      <td>くわわる</td>\n",
       "    </tr>\n",
       "    <tr>\n",
       "      <th>4</th>\n",
       "      <td>小包</td>\n",
       "      <td>こづつみ</td>\n",
       "    </tr>\n",
       "  </tbody>\n",
       "</table>\n",
       "</div>"
      ],
      "text/plain": [
       "  expression reading\n",
       "0         名人    めいじん\n",
       "1         重体   じゅうたい\n",
       "2          楽      らく\n",
       "3        加わる    くわわる\n",
       "4         小包    こづつみ"
      ]
     },
     "execution_count": 24,
     "metadata": {},
     "output_type": "execute_result"
    }
   ],
   "source": [
    "# Import N3 Vocabulary\n",
    "file_path = '../Vocab/n3.csv'\n",
    "# Read the CSV file\n",
    "data = pd.read_csv(file_path)\n",
    "words = data.iloc[:, :2].sample(frac=1).reset_index(drop=True)\n",
    "# Display the content of the CSV file\n",
    "words.head()"
   ]
  },
  {
   "cell_type": "markdown",
   "id": "4c1cdce8b1f57ef3",
   "metadata": {
    "collapsed": false
   },
   "source": [
    "#### load Models"
   ]
  },
  {
   "cell_type": "code",
   "execution_count": 25,
   "id": "895a64c8ba51e354",
   "metadata": {
    "ExecuteTime": {
     "end_time": "2025-03-21T04:52:52.986251Z",
     "start_time": "2025-03-21T04:52:51.377041Z"
    },
    "collapsed": false
   },
   "outputs": [],
   "source": [
    "# azure_llm = AzureChatOpenAI(\n",
    "#     azure_endpoint=\"https://tooldev-openai.openai.azure.com/openai/deployments/gpt-4o/chat/completions?api-version=2025-01-01-preview\",\n",
    "#     api_key=os.environ[\"AZURE_API_KEY\"],\n",
    "#     model_name=\"gpt-4o\",\n",
    "#     api_version=\"2025-01-01-preview\",\n",
    "#     temperature=0.5,\n",
    "# )"
   ]
  },
  {
   "cell_type": "code",
   "execution_count": 26,
   "id": "5643fdb248144100",
   "metadata": {
    "ExecuteTime": {
     "end_time": "2025-03-21T04:52:53.325835Z",
     "start_time": "2025-03-21T04:52:52.988251Z"
    },
    "collapsed": false
   },
   "outputs": [],
   "source": [
    "aws_llm = ChatBedrock(\n",
    "    model_id=\"us.anthropic.claude-3-7-sonnet-20250219-v1:0\",\n",
    "     # model_id=\"us.anthropic.claude-3-5-haiku-20241022-v1:0\",\n",
    "    model_kwargs=dict(temperature=0.3),\n",
    "    region = \"us-east-2\",\n",
    "    aws_access_key_id=os.environ[\"AWS_ACCESS_KEY_ID\"],\n",
    "    aws_secret_access_key=os.environ[\"AWS_SECRET_ACCESS_KEY\"],\n",
    ")"
   ]
  },
  {
   "cell_type": "markdown",
   "id": "fed5f032dadafac1",
   "metadata": {
    "collapsed": false
   },
   "source": [
    "## Question Explore"
   ]
  },
  {
   "cell_type": "markdown",
   "id": "5795bb3d95c0cc50",
   "metadata": {
    "collapsed": false
   },
   "source": [
    "# Kanji 读假名（读音问题）"
   ]
  },
  {
   "cell_type": "code",
   "execution_count": 27,
   "id": "1a966afd733d860d",
   "metadata": {
    "ExecuteTime": {
     "end_time": "2025-03-21T04:55:02.288686Z",
     "start_time": "2025-03-21T04:55:01.768183Z"
    },
    "collapsed": false
   },
   "outputs": [
    {
     "name": "stdout",
     "output_type": "stream",
     "text": [
      "     expression reading\n",
      "0            名人    めいじん\n",
      "1            重体   じゅうたい\n",
      "2             楽      らく\n",
      "3           加わる    くわわる\n",
      "4            小包    こづつみ\n",
      "...         ...     ...\n",
      "2134         回復    かいふく\n",
      "2135          偶      たま\n",
      "2136         疲れ     つかれ\n",
      "2137          孫      まご\n",
      "2138          球      たま\n",
      "\n",
      "[2139 rows x 2 columns]\n"
     ]
    }
   ],
   "source": [
    "from typing_extensions import TypedDict\n",
    "from langgraph.graph import StateGraph, START, END\n",
    "from IPython.display import Image, display\n",
    "\n",
    "\n",
    "# Graph state\n",
    "class QuestionState(TypedDict):\n",
    "    topic: str\n",
    "    question: str\n",
    "    improved_question: str\n",
    "    final_question: str\n",
    "\n",
    "\n",
    "kanji_example = \"\"\"\n",
    "問題 1\n",
    "\n",
    "（　　）に入れるのに最もよいものを、1・2・3・4から一つ選びなさい。\n",
    "\n",
    "1.\n",
    "\n",
    "私は、自分の作ったパンを多くたくさんの人（　）食べてほしいと思って、パン屋を始めた。\n",
    "\t1.\tは\n",
    "\t2.\tに\n",
    "\t3.\tまで\n",
    "\t4.\tなら\n",
    "\n",
    "2.（学校にて）\n",
    "\n",
    "学生：「先生、今、よろしいですか。英語の発表（　）、ちょっと相談したいのですが。」\n",
    "先生：「ええ、いいですよ。」\n",
    "\t1.\tにとって\n",
    "\t2.\tによると\n",
    "\t3.\tのことで\n",
    "\t4.\tのは\n",
    "\n",
    "3.\n",
    "\n",
    "いつもは勉強を2時間以上かかるが、今日は1時間（　）終わりそうだ。\n",
    "\t1.\tくらい\n",
    "\t2.\tころで\n",
    "\t3.\tぐらい\n",
    "\t4.\tぐらいで\n",
    "\n",
    "4.\n",
    "\n",
    "母：「えっ、（　）ご飯食べたばかりなのに、もうおなかすいたの？」\n",
    "\t1.\tそろそろ\n",
    "\t2.\tだんだん\n",
    "\t3.\tさっき\n",
    "\t4.\tずっと\n",
    "\n",
    "5.\n",
    "\n",
    "大事なレシートをズボンのポケットに（　）洗濯してしまった。\n",
    "\t1.\t入れたまま\n",
    "\t2.\t入ったまま\n",
    "\t3.\t入れている間\n",
    "\t4.\t入っている間\n",
    "\n",
    "6.（駅のホームにて）\n",
    "\n",
    "「急げ、9時の特急に間に合うかもしれないし、走ろうか。」\n",
    "「いや、（　）もう間に合わないと思う。次の電車にしよう。」\n",
    "\t1.\t走ってて\n",
    "\t2.\t走ってるよ\n",
    "\t3.\t走らさきゃ\n",
    "\t4.\t走っちゃって\n",
    "\n",
    "7.\n",
    "\n",
    "私はよくインターネットで物を買い替えるが、掃除機は壊れたら、実際に（　）買いたいものだ。\n",
    "\t1.\t見てないと\n",
    "\t2.\t見ておきたくなった\n",
    "\t3.\t見てから\n",
    "\t4.\t見ておいて\n",
    "\n",
    "8.（料亭にて）\n",
    "\n",
    "（体を丸めてお辞儀をして）「おいしそうな料理ですね。」\n",
    "店員：「どうぞたくさん（　）ください。」\n",
    "\t1.\t召し上がって\n",
    "\t2.\tおっしゃって\n",
    "\t3.\tなおって\n",
    "\t4.\tいらっし\n",
    "\n",
    "9.\n",
    "\n",
    "A：「最近、寒くなって（　）ね。」\n",
    "B：「ええ、今日は特に冷えますね。」\n",
    "\t1.\tいました\n",
    "\t2.\tありました\n",
    "\t3.\tいきました\n",
    "\t4.\tきました\n",
    "\n",
    "10.（大学にて）\n",
    "\n",
    "A：「日曜日の留学生交流会、どうだった？」\n",
    "B：「楽しかったよ。初めてだったからちょっと緊張したけど、新しい友達もできたし。」\n",
    "\t1.\t行ってよかったよ\n",
    "\t2.\t行こうかと思うよ\n",
    "\t3.\t行きたかったなあ\n",
    "\t4.\t行けたらいいなあ\n",
    "\n",
    "11.（大学の事務所で）\n",
    "\n",
    "学生：「すみません、ペンを（　）。」\n",
    "事務所の人：「あ、はい、これを使ってください。」\n",
    "\t1.\tお貸しできますか\n",
    "\t2.\tお貸しいたしますか\n",
    "\t3.\t貸したらいかがですか\n",
    "\t4.\t貸していただけませんか\n",
    "\n",
    "12.（家にて）\n",
    "\n",
    "娘：「ちょっと駅前の本屋に行ってくるね。」\n",
    "父：「雨が降っているし、車で（　）？」\n",
    "娘：「いいの？ありがとう。」\n",
    "\t1.\t送っててない\n",
    "\t2.\t送ってこようか\n",
    "\t3.\t送ってあげない\n",
    "\t4.\t送ってあげようか\n",
    "\n",
    "13.（会社にて）\n",
    "\n",
    "「中山さん、今、ちょっといいですか。」\n",
    "中山：「あ、ごめんなさい、これからABC銀行に（　）、戻ってきてからでもいいですか。」\n",
    "\t1.\t行くところだからです\n",
    "\t2.\t行くとこなんです\n",
    "\t3.\t行っているところだからです\n",
    "\t4.\t行っているところなんです\n",
    "\"\"\"\n",
    "\n",
    "print(words)\n",
    "\n",
    "# Nodes\n",
    "def generate_question(state: QuestionState):\n",
    "    \"\"\"First LLM call to generate initial question\"\"\"\n",
    "\n",
    "    msg = aws_llm.invoke(f\"You are a japanese teacher. Your job is to write 13 grammar questions for candidate to identify kanji characters and their meanings for a JLPT N3 level exam paper by topics that user provided in the topic list. This includes recognizing kanji in context, such as in sentences or phrase. Don't replace kanji part and only substitute in the options. The JLPT exam paper includes a mix of easy, moderate, and difficult questions to accurately assess the test-taker's proficiency across different aspects of the language.\"\n",
    "            f\"The vocabulary should be restricted to N3 level, you can refer to the vocabulary in the word list, choosing random words for the questions\"\n",
    "            f\"please refer the question examples following the formal exam paper\"\n",
    "            f\"append the correct answer and explanation of main challenges and why teacher asks this question to candidate in chinese at each question\"\n",
    "            f\"Finally, beautify markdown format\"\n",
    "            f\"topic list: {state['topic']}\"\n",
    "            f\"word list: {words}\"\n",
    "            f\"formal exam paper: {kanji_example}\")\n",
    "    \n",
    "    return {\"question\": msg.content}\n",
    "\n",
    "\n",
    "# Build workflow\n",
    "kanji_workflow = StateGraph(QuestionState)\n",
    "\n",
    "# Add nodes\n",
    "kanji_workflow.add_node(\"generate_question\", generate_question)\n",
    "\n",
    "# Add edges to connect nodes\n",
    "kanji_workflow.add_edge(START, \"generate_question\")\n",
    "kanji_workflow.add_edge(\"generate_question\", END)\n",
    "\n",
    "# Compile\n",
    "kanji_graph = kanji_workflow.compile()\n"
   ]
  },
  {
   "cell_type": "code",
   "execution_count": 28,
   "id": "ec483e4e",
   "metadata": {},
   "outputs": [],
   "source": [
    "# Show workflow\n",
    "#display(Image(kanji_graph.get_graph().draw_png()))"
   ]
  },
  {
   "cell_type": "code",
   "execution_count": 29,
   "id": "3c2e1e740fbe6971",
   "metadata": {
    "ExecuteTime": {
     "end_time": "2025-03-21T04:56:04.739875Z",
     "start_time": "2025-03-21T04:55:57.132978Z"
    },
    "collapsed": false
   },
   "outputs": [
    {
     "data": {
      "text/markdown": [
       "# JLPT N3 漢字問題\n",
       "\n",
       "## 問題 1\n",
       "\n",
       "（　　）に入れるのに最もよいものを、1・2・3・4から一つ選びなさい。\n",
       "\n",
       "1. この**店**では、さまざまな（　　）の商品を取り扱っています。\n",
       "   1. 価格\n",
       "   2. 代金\n",
       "   3. 料金\n",
       "   4. 金額\n",
       "\n",
       "**正解：1. 価格**\n",
       "\n",
       "*解説：この問題は「店で価格を尋ねる」というトピックに関連しています。「価格」は商品の値段を表す最も一般的な言葉です。「代金」は支払う金額、「料金」はサービスに対して支払う金額、「金額」は総額を意味します。店の商品について話す場合は「価格」が最も適切です。この問題で候補者の語彙の正確さを測ります。*\n",
       "\n",
       "## 問題 2\n",
       "\n",
       "2. **レストラン**で（　　）を見ながら、何を食べるか決めましょう。\n",
       "   1. 注文\n",
       "   2. 献立\n",
       "   3. メニュー\n",
       "   4. 料理\n",
       "\n",
       "**正解：3. メニュー**\n",
       "\n",
       "*解説：「レストランで食べ物を注文する」というトピックに関連する問題です。レストランで食事を選ぶ際に見るのは「メニュー」が最も適切です。「注文」は注文する行為、「献立」は家庭や施設での食事計画、「料理」は調理された食べ物を指します。この問題は日常的な場面での適切な語彙選択能力を測ります。*\n",
       "\n",
       "## 問題 3\n",
       "\n",
       "3. 明日の**天気**（　　）によると、午後から雨が降るそうです。\n",
       "   1. 予報\n",
       "   2. 情報\n",
       "   3. 状態\n",
       "   4. 発表\n",
       "\n",
       "**正解：1. 予報**\n",
       "\n",
       "*解説：「天気の状況について話す」というトピックに関連する問題です。「天気予報」は気象状況の予測を表す最も適切な表現です。「天気情報」も使いますが、「天気予報」ほど一般的ではありません。「天気状態」「天気発表」という表現はあまり使いません。この問題は天気に関する表現の理解度を測ります。*\n",
       "\n",
       "## 問題 4\n",
       "\n",
       "4. 彼は**交通**（　　）が便利な場所に住んでいます。\n",
       "   1. 手段\n",
       "   2. 機関\n",
       "   3. 方法\n",
       "   4. 道具\n",
       "\n",
       "**正解：2. 機関**\n",
       "\n",
       "*解説：「交通手段について話す」というトピックに関連する問題です。「交通機関」は電車やバスなどの公共交通を指す表現です。「交通手段」も使いますが、この文脈では「交通機関が便利」という表現が自然です。この問題は交通に関する語彙の適切な使用を測ります。*\n",
       "\n",
       "## 問題 5\n",
       "\n",
       "5. 私の**趣味**は写真（　　）です。休日にはカメラを持って出かけます。\n",
       "   1. 撮影\n",
       "   2. 撮る\n",
       "   3. 取る\n",
       "   4. 写す\n",
       "\n",
       "**正解：1. 撮影**\n",
       "\n",
       "*解説：「趣味について話す」というトピックに関連する問題です。写真を趣味とする場合、「写真撮影」という表現が最も適切です。「撮る」は動詞の基本形、「取る」は間違った漢字、「写"
      ],
      "text/plain": [
       "<IPython.core.display.Markdown object>"
      ]
     },
     "metadata": {},
     "output_type": "display_data"
    }
   ],
   "source": [
    "# Invoke\n",
    "kanji = kanji_graph.invoke({\"topic\": \"店で価格を尋ねる | レストランで食べ物を注文する | 交通手段について話す| 天気の状況について話す | 趣味について話す | 店で商品の特徴や価格を尋ねる | スーパーマーケットで買い物をする | レストランで食べ物や飲み物を注文する | カフェでテイクアウトを頼む | コンビニで支払い方法について質問する |  ネットショッピングで商品を選ぶ\"})\n",
    "display(Markdown(kanji[\"question\"]))"
   ]
  },
  {
   "cell_type": "code",
   "execution_count": null,
   "id": "553844c1e99d121c",
   "metadata": {
    "collapsed": false
   },
   "outputs": [],
   "source": []
  },
  {
   "cell_type": "code",
   "execution_count": null,
   "id": "c778d8e10606427f",
   "metadata": {
    "ExecuteTime": {
     "start_time": "2025-03-21T04:53:14.733662Z"
    },
    "collapsed": false
   },
   "outputs": [],
   "source": []
  }
 ],
 "metadata": {
  "kernelspec": {
   "display_name": ".venv",
   "language": "python",
   "name": "python3"
  },
  "language_info": {
   "codemirror_mode": {
    "name": "ipython",
    "version": 3
   },
   "file_extension": ".py",
   "mimetype": "text/x-python",
   "name": "python",
   "nbconvert_exporter": "python",
   "pygments_lexer": "ipython3",
   "version": "3.13.2"
  }
 },
 "nbformat": 4,
 "nbformat_minor": 5
}
