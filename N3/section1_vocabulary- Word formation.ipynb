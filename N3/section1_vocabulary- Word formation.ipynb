{
 "cells": [
  {
   "cell_type": "markdown",
   "id": "2b011bdf967ca7ff",
   "metadata": {
    "collapsed": false
   },
   "source": [
    "# Language Knowledge (Vocabulary)\n",
    "Duration: 30 minutes\n",
    "Content: This section tests your knowledge of Japanese vocabulary, including kanji readings, orthography, word formation, contextually-defined expressions, paraphrases, and usage\n",
    "It mainly composes following five categories:\n",
    "- ``Reading Kana`` (Pronunciation Questions): Given a kanji word, choose the correct kana reading.\n",
    "- `Writing Kanji` (Writing Questions): Given a word written in kana, choose the correct kanji representation.\n",
    "- `Word Meaning` Selection (Vocabulary Understanding): Choose the most suitable word to fill in the sentence from four options.\n",
    "- `Synonym Replacement`: Select a word that has the same or similar meaning as the underlined word.\n",
    "- `Vocabulary Usage`: Assess the usage of words in actual contexts, choosing the most appropriate word usage, including some common Japanese expressions or fixed phrases."
   ]
  },
  {
   "cell_type": "code",
   "execution_count": 2,
   "id": "7f526a68a7e73a65",
   "metadata": {
    "ExecuteTime": {
     "end_time": "2025-03-21T04:52:51.327395Z",
     "start_time": "2025-03-21T04:52:51.315832Z"
    },
    "collapsed": false
   },
   "outputs": [
    {
     "data": {
      "text/plain": [
       "True"
      ]
     },
     "execution_count": 2,
     "metadata": {},
     "output_type": "execute_result"
    }
   ],
   "source": [
    "import pandas as pd\n",
    "import json\n",
    "import os\n",
    "import pickle\n",
    "import re\n",
    "import uuid\n",
    "from typing import *\n",
    "from langchain_openai import AzureOpenAI,AzureChatOpenAI\n",
    "from langchain_anthropic import ChatAnthropic\n",
    "from langchain_core.prompts import ChatPromptTemplate\n",
    "from dotenv import load_dotenv\n",
    "from langchain_aws import ChatBedrock\n",
    "from langchain.embeddings.base import Embeddings\n",
    "from langchain.text_splitter import CharacterTextSplitter\n",
    "from langchain_community.document_loaders import PyPDFLoader\n",
    "from langchain_community.embeddings import HuggingFaceEmbeddings\n",
    "# from langchain_community.embeddings import XinferenceEmbeddings\n",
    "from langchain_community.vectorstores import Chroma\n",
    "from langchain_openai import OpenAIEmbeddings\n",
    "from typing import Annotated, Literal, Sequence\n",
    "from typing_extensions import TypedDict\n",
    "from IPython.display import display, Markdown, Latex\n",
    "from langchain import hub\n",
    "from langchain_core.output_parsers import StrOutputParser\n",
    "from langchain_core.prompts import PromptTemplate\n",
    "from langchain_openai import ChatOpenAI\n",
    "from typing import Annotated, Sequence\n",
    "from typing_extensions import TypedDict\n",
    "from langchain_core.messages import BaseMessage,RemoveMessage,HumanMessage,AIMessage,ToolMessage\n",
    "from langgraph.graph.message import add_messages\n",
    "from pydantic import BaseModel, Field\n",
    "from langgraph.graph import END, StateGraph, START\n",
    "from langgraph.prebuilt import ToolNode\n",
    "from langgraph.prebuilt import tools_condition\n",
    "from langgraph.checkpoint.memory import MemorySaver\n",
    "from langchain.output_parsers import PydanticOutputParser\n",
    "from pydantic import BaseModel, Field, validator\n",
    "from typing import List, Optional\n",
    "\n",
    "load_dotenv()"
   ]
  },
  {
   "cell_type": "code",
   "execution_count": 3,
   "id": "initial_id",
   "metadata": {
    "ExecuteTime": {
     "end_time": "2025-03-21T04:52:51.375033Z",
     "start_time": "2025-03-21T04:52:51.356406Z"
    },
    "collapsed": false
   },
   "outputs": [
    {
     "data": {
      "text/html": [
       "<div>\n",
       "<style scoped>\n",
       "    .dataframe tbody tr th:only-of-type {\n",
       "        vertical-align: middle;\n",
       "    }\n",
       "\n",
       "    .dataframe tbody tr th {\n",
       "        vertical-align: top;\n",
       "    }\n",
       "\n",
       "    .dataframe thead th {\n",
       "        text-align: right;\n",
       "    }\n",
       "</style>\n",
       "<table border=\"1\" class=\"dataframe\">\n",
       "  <thead>\n",
       "    <tr style=\"text-align: right;\">\n",
       "      <th></th>\n",
       "      <th>expression</th>\n",
       "      <th>reading</th>\n",
       "    </tr>\n",
       "  </thead>\n",
       "  <tbody>\n",
       "    <tr>\n",
       "      <th>0</th>\n",
       "      <td>題名</td>\n",
       "      <td>だいめい</td>\n",
       "    </tr>\n",
       "    <tr>\n",
       "      <th>1</th>\n",
       "      <td>女史</td>\n",
       "      <td>じょし</td>\n",
       "    </tr>\n",
       "    <tr>\n",
       "      <th>2</th>\n",
       "      <td>尻</td>\n",
       "      <td>しり</td>\n",
       "    </tr>\n",
       "    <tr>\n",
       "      <th>3</th>\n",
       "      <td>下</td>\n",
       "      <td>しも</td>\n",
       "    </tr>\n",
       "    <tr>\n",
       "      <th>4</th>\n",
       "      <td>ハイキング</td>\n",
       "      <td>ハイキング</td>\n",
       "    </tr>\n",
       "  </tbody>\n",
       "</table>\n",
       "</div>"
      ],
      "text/plain": [
       "  expression reading\n",
       "0         題名    だいめい\n",
       "1         女史     じょし\n",
       "2          尻      しり\n",
       "3          下      しも\n",
       "4      ハイキング   ハイキング"
      ]
     },
     "execution_count": 3,
     "metadata": {},
     "output_type": "execute_result"
    }
   ],
   "source": [
    "# Import N3 Vocabulary\n",
    "file_path = '../Vocab/n3.csv'\n",
    "# Read the CSV file\n",
    "data = pd.read_csv(file_path)\n",
    "words = data.iloc[:, :2].sample(frac=1).reset_index(drop=True)\n",
    "# Display the content of the CSV file\n",
    "words.head()"
   ]
  },
  {
   "cell_type": "markdown",
   "id": "4c1cdce8b1f57ef3",
   "metadata": {
    "collapsed": false
   },
   "source": [
    "#### load Models"
   ]
  },
  {
   "cell_type": "code",
   "execution_count": 4,
   "id": "895a64c8ba51e354",
   "metadata": {
    "ExecuteTime": {
     "end_time": "2025-03-21T04:52:52.986251Z",
     "start_time": "2025-03-21T04:52:51.377041Z"
    },
    "collapsed": false
   },
   "outputs": [],
   "source": [
    "# azure_llm = AzureChatOpenAI(\n",
    "#     azure_endpoint=\"https://tooldev-openai.openai.azure.com/openai/deployments/gpt-4o/chat/completions?api-version=2025-01-01-preview\",\n",
    "#     api_key=os.environ[\"AZURE_API_KEY\"],\n",
    "#     model_name=\"gpt-4o\",\n",
    "#     api_version=\"2025-01-01-preview\",\n",
    "#     temperature=0.5,\n",
    "# )"
   ]
  },
  {
   "cell_type": "code",
   "execution_count": 5,
   "id": "5643fdb248144100",
   "metadata": {
    "ExecuteTime": {
     "end_time": "2025-03-21T04:52:53.325835Z",
     "start_time": "2025-03-21T04:52:52.988251Z"
    },
    "collapsed": false
   },
   "outputs": [],
   "source": [
    "aws_llm = ChatBedrock(\n",
    "    model_id=\"us.anthropic.claude-3-7-sonnet-20250219-v1:0\",\n",
    "     # model_id=\"us.anthropic.claude-3-5-haiku-20241022-v1:0\",\n",
    "    model_kwargs=dict(temperature=0.5),\n",
    "    region = \"us-east-2\",\n",
    "    aws_access_key_id=os.environ[\"AWS_ACCESS_KEY_ID\"],\n",
    "    aws_secret_access_key=os.environ[\"AWS_SECRET_ACCESS_KEY\"],\n",
    ")"
   ]
  },
  {
   "cell_type": "markdown",
   "id": "fed5f032dadafac1",
   "metadata": {
    "collapsed": false
   },
   "source": [
    "## Question Explore"
   ]
  },
  {
   "cell_type": "markdown",
   "id": "5795bb3d95c0cc50",
   "metadata": {
    "collapsed": false
   },
   "source": [
    "# Kanji 读假名（读音问题）"
   ]
  },
  {
   "cell_type": "code",
   "execution_count": 6,
   "id": "1a966afd733d860d",
   "metadata": {
    "ExecuteTime": {
     "end_time": "2025-03-21T04:55:02.288686Z",
     "start_time": "2025-03-21T04:55:01.768183Z"
    },
    "collapsed": false
   },
   "outputs": [
    {
     "name": "stdout",
     "output_type": "stream",
     "text": [
      "     expression reading\n",
      "0            題名    だいめい\n",
      "1            女史     じょし\n",
      "2             尻      しり\n",
      "3             下      しも\n",
      "4         ハイキング   ハイキング\n",
      "...         ...     ...\n",
      "2134         通勤    つうきん\n",
      "2135        命じる    めいじる\n",
      "2136         切れ      きれ\n",
      "2137         訓練    くんれん\n",
      "2138         出版   しゅっぱん\n",
      "\n",
      "[2139 rows x 2 columns]\n"
     ]
    }
   ],
   "source": [
    "from typing_extensions import TypedDict\n",
    "from langgraph.graph import StateGraph, START, END\n",
    "from IPython.display import Image, display\n",
    "\n",
    "\n",
    "# Graph state\n",
    "class QuestionState(TypedDict):\n",
    "    topic: str\n",
    "    question: str\n",
    "    improved_question: str\n",
    "    final_question: str\n",
    "\n",
    "\n",
    "kanji_example = \"\"\"\n",
    "15. 大雪で朝から電車が（　）している。\n",
    "\t1.\t縮小\n",
    "\t2.\t滞在\n",
    "\t3.\t延期\n",
    "\t4.\t運休\n",
    "\n",
    "16. 今日は暑かったので、シャツが（　）でぬれてしまった。\n",
    "\t1.\tいびき\n",
    "\t2.\tあくび\n",
    "\t3.\tあせ\n",
    "\t4.\tいき\n",
    "\n",
    "17. 答えさんに声がよく聞こえるように、（　）を使って話してください。\n",
    "\t1.\tサイレン\n",
    "\t2.\tエンジン\n",
    "\t3.\tノック\n",
    "\t4.\tマイク\n",
    "\n",
    "18. 昨日は早く寝たが、夜中に大きな音がして目が（　）しまった。\n",
    "\t1.\t嫌がって\n",
    "\t2.\t覚めて\n",
    "\t3.\t驚いて\n",
    "\t4.\t怖がって\n",
    "\n",
    "19. 林さんはいつも冗談ばかり言うので、その話も本当かどうか（　）。\n",
    "\t1.\tあやしい\n",
    "\t2.\tおそろしい\n",
    "\t3.\tにくらしい\n",
    "\t4.\tまずしい\n",
    "\n",
    "20. 本日の面接の結果は、1 週間以内にメールで（　）します。\n",
    "\t1.\t広告\n",
    "\t2.\t合図\n",
    "\t3.\t通知\n",
    "\t4.\t伝言\n",
    "\n",
    "21. 兄はいつも（　）シャツを着ているので、遠くにいてもすぐに見つかる。\n",
    "\t1.\t派手な\n",
    "\t2.\t盛んな\n",
    "\t3.\tわがままな\n",
    "\t4.\t身近な\n",
    "\n",
    "22. ここに車を止めることは規則で（　）されていますから、すぐに移動してください。\n",
    "\t1.\t支配\n",
    "\t2.\t英殺\n",
    "\t3.\t禁止\n",
    "\t4.\t批判\n",
    "\n",
    "23. このコートは古いがまだ着られるので、捨ててしまうのは（　）。\n",
    "\t1.\tもったいない\n",
    "\t2.\tしかたない\n",
    "\t3.\tかわいらしい\n",
    "\t4.\tこいかない\n",
    "\n",
    "24. 弟への誕生日プレゼントは、誕生日まで弟に見つからないように、たんすの奥に（　）。\n",
    "\t1.\t包んだ\n",
    "\t2.\t隠した\n",
    "\t3.\t囲んだ\n",
    "\t4.\t閉じた\n",
    "\n",
    "25. 山口さんは今度のパーティーには来られないかもしれないが、（　）誘うつもりだ。\n",
    "\t1.\t十分\n",
    "\t2.\t一応\n",
    "\t3.\tけっこう\n",
    "\t4.\tたいてい\n",
    "\"\"\"\n",
    "\n",
    "print(words)\n",
    "\n",
    "# Nodes\n",
    "def generate_question(state: QuestionState):\n",
    "    \"\"\"First LLM call to generate initial question\"\"\"\n",
    "\n",
    "    msg = aws_llm.invoke(f\"\"\"You are a Japanese teacher. Your job is to write 11 vocabulary questions for candidates to identify the correct kanji writing of a given word in hiragana for a JLPT N3 level exam paper. The question format follows:\n",
    "Each question presents a word in hiragana within a sentence, and candidates must choose the correct kanji representation from four options. The options should include one correct kanji form and three distractors that are plausible but incorrect. The JLPT exam paper includes a mix of easy, moderate, and difficult questions to accurately assess the test-taker’s proficiency across different aspects of the language.\n",
    "\n",
    "\"\"\"\n",
    "            f\"The vocabulary should be restricted to N3 level, you can refer to the vocabulary in the word list, choosing random words for the questions\"\n",
    "            f\"please refer the question examples following the formal exam paper\"\n",
    "            f\"append the correct answer and explanation of main challenges and why teacher asks this question to candidate in chinese at each question\"\n",
    "            f\"Finally, beautify markdown format\"\n",
    "            f\"topic list: {state['topic']}\"\n",
    "            f\"word list: {words}\"\n",
    "            f\"formal exam paper: {kanji_example}\")\n",
    "    \n",
    "    return {\"question\": msg.content}\n",
    "\n",
    "\n",
    "# Build workflow\n",
    "kanji_workflow = StateGraph(QuestionState)\n",
    "\n",
    "# Add nodes\n",
    "kanji_workflow.add_node(\"generate_question\", generate_question)\n",
    "\n",
    "# Add edges to connect nodes\n",
    "kanji_workflow.add_edge(START, \"generate_question\")\n",
    "kanji_workflow.add_edge(\"generate_question\", END)\n",
    "\n",
    "# Compile\n",
    "kanji_graph = kanji_workflow.compile()\n"
   ]
  },
  {
   "cell_type": "code",
   "execution_count": 7,
   "id": "ec483e4e",
   "metadata": {},
   "outputs": [],
   "source": [
    "# Show workflow\n",
    "#display(Image(kanji_graph.get_graph().draw_png()))"
   ]
  },
  {
   "cell_type": "code",
   "execution_count": 8,
   "id": "3c2e1e740fbe6971",
   "metadata": {
    "ExecuteTime": {
     "end_time": "2025-03-21T04:56:04.739875Z",
     "start_time": "2025-03-21T04:55:57.132978Z"
    },
    "collapsed": false
   },
   "outputs": [
    {
     "data": {
      "text/markdown": [
       "# JLPT N3 Kanji Selection Questions\n",
       "\n",
       "## 問題1: 店で商品の特徴や価格を尋ねる\n",
       "この商品の（とくちょう）について教えてください。\n",
       "1. 特微\n",
       "2. 特徴\n",
       "3. 特長\n",
       "4. 特性\n",
       "\n",
       "**正解: 2. 特徴**\n",
       "\n",
       "**解释**: 这道题测试考生对\"特徴\"一词的正确汉字书写的掌握程度。\"特徴\"是N3级别的常见词汇，在购物场景中经常使用。干扰项中的\"特微\"、\"特长\"和\"特性\"都是形似的错误写法，考生需要识别正确的汉字组合。\n",
       "\n",
       "## 問題2: 電車やバスの乗り方を尋ねる\n",
       "この（えき）から新宿まで、どの電車に乗ればいいですか。\n",
       "1. 駅\n",
       "2. 役\n",
       "3. 液\n",
       "4. 訳\n",
       "\n",
       "**正解: 1. 駅**\n",
       "\n",
       "**解释**: 这道题考查基础交通词汇\"駅\"的正确书写。虽然这是较简单的N3词汇，但在询问交通方式时非常重要。干扰项\"役\"、\"液\"和\"訳\"的发音都与\"えき\"相似，测试考生是否能正确识别表示\"车站\"的汉字。\n",
       "\n",
       "## 問題3: 今日の天気や気温について話す\n",
       "今日の（てんき）予報によると、明日は雨が降るそうです。\n",
       "1. 天気\n",
       "2. 天期\n",
       "3. 天記\n",
       "4. 天机\n",
       "\n",
       "**正解: 1. 天気**\n",
       "\n",
       "**解释**: 这道题测试考生对\"天気\"这个基础词汇的掌握。虽然是较简单的词汇，但在日常谈论天气时必不可少。干扰项都是形似但不正确的组合，考查考生对正确汉字组合的识别能力。\n",
       "\n",
       "## 問題4: 映画やドラマの感想を話す\n",
       "この映画の（ないよう）はとても感動的でした。\n",
       "1. 内用\n",
       "2. 内容\n",
       "3. 内陽\n",
       "4. 内様\n",
       "\n",
       "**正解: 2. 内容**\n",
       "\n",
       "**解释**: 这道题考查\"内容\"一词的正确汉字写法，这是讨论电影或电视剧情节时常用的词汇。干扰项\"内用\"、\"内陽\"和\"内様\"都是看似合理但不正确的组合，测试考生是否能准确识别表示\"内容\"的正确汉字。\n",
       "\n",
       "## 問題5: 仕事のスケジュールや業務内容を話す\n",
       "明日の（かいぎ）は9時から始まります。\n",
       "1. 会儀\n",
       "2. 会議\n",
       "3. 回議\n",
       "4. 回儀\n",
       "\n",
       "**正解: 2. 会議**\n",
       "\n",
       "**解释**: 这道题测试考生对商务场景中常用词汇\"会議\"的掌握程度。干扰项中的\"会儀\"、\"回議\"和\"回儀\"都是形似但不正确的组合，考查考生对正确汉字组合的识别能力，特别是在工作环境中使用的词汇。\n",
       "\n",
       "## 問題6: 店で商品の特徴や価格を尋ねる\n",
       "この商品の（ねだん）はいくらですか。\n",
       "1. 値段\n",
       "2. 根段\n",
       "3. 値断\n",
       "4. 根断\n",
       "\n",
       "**正解: 1. 値段**\n",
       "\n",
       "**解释**: 这道题考查"
      ],
      "text/plain": [
       "<IPython.core.display.Markdown object>"
      ]
     },
     "metadata": {},
     "output_type": "display_data"
    }
   ],
   "source": [
    "# Invoke\n",
    "kanji = kanji_graph.invoke({\"topic\": \"店で商品の特徴や価格を尋ねる | 電車やバスの乗り方を尋ねる | 今日の天気や気温について話す| 映画やドラマの感想を話す | 仕事のスケジュールや業務内容を話す\"})\n",
    "display(Markdown(kanji[\"question\"]))"
   ]
  },
  {
   "cell_type": "code",
   "execution_count": null,
   "id": "553844c1e99d121c",
   "metadata": {
    "collapsed": false
   },
   "outputs": [],
   "source": []
  },
  {
   "cell_type": "code",
   "execution_count": null,
   "id": "c778d8e10606427f",
   "metadata": {
    "ExecuteTime": {
     "start_time": "2025-03-21T04:53:14.733662Z"
    },
    "collapsed": false
   },
   "outputs": [],
   "source": []
  }
 ],
 "metadata": {
  "kernelspec": {
   "display_name": ".venv",
   "language": "python",
   "name": "python3"
  },
  "language_info": {
   "codemirror_mode": {
    "name": "ipython",
    "version": 3
   },
   "file_extension": ".py",
   "mimetype": "text/x-python",
   "name": "python",
   "nbconvert_exporter": "python",
   "pygments_lexer": "ipython3",
   "version": "3.13.2"
  }
 },
 "nbformat": 4,
 "nbformat_minor": 5
}
