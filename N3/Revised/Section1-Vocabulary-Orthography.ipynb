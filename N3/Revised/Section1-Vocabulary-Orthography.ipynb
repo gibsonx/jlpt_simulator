{
 "cells": [
  {
   "cell_type": "markdown",
   "id": "2b011bdf967ca7ff",
   "metadata": {
    "collapsed": false
   },
   "source": [
    "# Language Knowledge (Vocabulary)\n",
    "Duration: 30 minutes\n",
    "Content: This section tests your knowledge of Japanese vocabulary, including kanji readings, orthography, word formation, contextually-defined expressions, paraphrases, and usage\n",
    "It mainly composes following five categories:\n",
    "- ``Reading Kana`` (Pronunciation Questions): Given a kanji word, choose the correct kana reading.\n",
    "- `Writing Kanji` (Writing Questions): Given a word written in kana, choose the correct kanji representation.\n",
    "- `Word Meaning` Selection (Vocabulary Understanding): Choose the most suitable word to fill in the sentence from four options.\n",
    "- `Synonym Replacement`: Select a word that has the same or similar meaning as the underlined word.\n",
    "- `Vocabulary Usage`: Assess the usage of words in actual contexts, choosing the most appropriate word usage, including some common Japanese expressions or fixed phrases."
   ]
  },
  {
   "cell_type": "code",
   "execution_count": 17,
   "id": "7f526a68a7e73a65",
   "metadata": {
    "ExecuteTime": {
     "end_time": "2025-04-12T18:31:36.227552200Z",
     "start_time": "2025-04-12T18:31:36.208848500Z"
    },
    "collapsed": false
   },
   "outputs": [
    {
     "data": {
      "text/plain": [
       "True"
      ]
     },
     "execution_count": 17,
     "metadata": {},
     "output_type": "execute_result"
    }
   ],
   "source": [
    "import pandas as pd\n",
    "import json\n",
    "import os\n",
    "import random\n",
    "import pickle\n",
    "import re\n",
    "import uuid\n",
    "from typing import *\n",
    "from langchain_openai import AzureOpenAI,AzureChatOpenAI\n",
    "from langchain_anthropic import ChatAnthropic\n",
    "from langchain_core.prompts import ChatPromptTemplate, MessagesPlaceholder\n",
    "from dotenv import load_dotenv\n",
    "from langchain_aws import ChatBedrock\n",
    "from langchain.embeddings.base import Embeddings\n",
    "from langchain.text_splitter import CharacterTextSplitter\n",
    "from langchain_community.document_loaders import PyPDFLoader\n",
    "from langchain_community.embeddings import HuggingFaceEmbeddings\n",
    "# from langchain_community.embeddings import XinferenceEmbeddings\n",
    "from langchain_community.vectorstores import Chroma\n",
    "from langchain_openai import OpenAIEmbeddings\n",
    "from typing import Annotated, Literal, Sequence\n",
    "from typing_extensions import TypedDict\n",
    "from IPython.display import display, Markdown, Latex\n",
    "from langchain import hub\n",
    "from langchain_core.output_parsers import StrOutputParser\n",
    "from langchain_core.prompts import PromptTemplate\n",
    "from langchain_openai import ChatOpenAI\n",
    "from typing import Annotated, Sequence\n",
    "from typing_extensions import TypedDict\n",
    "from langchain_core.messages import BaseMessage,RemoveMessage,HumanMessage,AIMessage,ToolMessage\n",
    "from langgraph.graph.message import add_messages\n",
    "from pydantic import BaseModel, Field\n",
    "from langgraph.graph import END, StateGraph, START\n",
    "from langgraph.prebuilt import ToolNode\n",
    "from langgraph.prebuilt import tools_condition\n",
    "from langgraph.checkpoint.memory import MemorySaver\n",
    "from langchain.output_parsers import PydanticOutputParser\n",
    "from pydantic import BaseModel, Field, validator\n",
    "from typing import List, Optional\n",
    "from langchain_tavily import TavilySearch\n",
    "from langchain.schema import Document\n",
    "from langgraph.prebuilt import create_react_agent\n",
    "from langchain_community.tools.tavily_search import TavilySearchResults\n",
    "load_dotenv()"
   ]
  },
  {
   "cell_type": "code",
   "execution_count": 18,
   "id": "6370b4dd",
   "metadata": {},
   "outputs": [],
   "source": [
    "azure_llm = AzureChatOpenAI(\n",
    "    azure_endpoint=\"https://ai-rolandaws880125ai409947751408.openai.azure.com/openai/deployments/gpt-4o/chat/completions?api-version=2025-01-01-preview\",\n",
    "    api_key=os.environ[\"AZURE_API_KEY\"],\n",
    "    model_name=\"gpt-4o\",\n",
    "    api_version=\"2025-01-01-preview\",\n",
    "    temperature=0.5,\n",
    ")\n",
    "\n",
    "aws_llm = ChatBedrock(\n",
    "    # model_id=\"us.anthropic.claude-3-7-sonnet-20250219-v1:0\",\n",
    "     model_id=\"us.anthropic.claude-3-5-haiku-20241022-v1:0\",\n",
    "    model_kwargs=dict(temperature=0.5),\n",
    "    region = \"us-east-2\",\n",
    "    aws_access_key_id=os.environ[\"AWS_ACCESS_KEY_ID\"],\n",
    "    aws_secret_access_key=os.environ[\"AWS_SECRET_ACCESS_KEY\"],\n",
    ")"
   ]
  },
  {
   "cell_type": "code",
   "execution_count": 19,
   "id": "initial_id",
   "metadata": {
    "ExecuteTime": {
     "end_time": "2025-04-12T18:31:36.249058900Z",
     "start_time": "2025-04-12T18:31:36.214351Z"
    },
    "collapsed": false
   },
   "outputs": [],
   "source": [
    "# Import N3 Vocabulary\n",
    "file_path = '../../Vocab/n3.csv'\n",
    "# Read the CSV file\n",
    "data = pd.read_csv(file_path)\n",
    "words = data.iloc[:, :2].sample(frac=1).reset_index(drop=True)\n",
    "# Display the content of the CSV file\n",
    "words.head()\n",
    "vocab_dict = words.set_index(words.columns[0])[words.columns[1]].to_dict()\n",
    "vocab_dict = json.dumps(vocab_dict, ensure_ascii=False, separators=(',', ':'))"
   ]
  },
  {
   "cell_type": "markdown",
   "id": "4c1cdce8b1f57ef3",
   "metadata": {
    "collapsed": false
   },
   "source": [
    "#### load Models"
   ]
  },
  {
   "cell_type": "markdown",
   "id": "385c63b54b5c2a36",
   "metadata": {
    "collapsed": false
   },
   "source": [
    "#### Exam Paper Outline\n",
    "### A. overall thinking the structure of an exam\n",
    "1. distribution of the difficulty \n",
    "2. topics\n",
    "3. reasoning"
   ]
  },
  {
   "cell_type": "markdown",
   "id": "fed5f032dadafac1",
   "metadata": {
    "collapsed": false
   },
   "source": [
    "## Data Strcuture"
   ]
  },
  {
   "cell_type": "markdown",
   "id": "5795bb3d95c0cc50",
   "metadata": {
    "collapsed": false
   },
   "source": [
    "# Kanji 读假名（读音问题）"
   ]
  },
  {
   "cell_type": "code",
   "execution_count": 20,
   "id": "252ffacd6ebb7b37",
   "metadata": {
    "ExecuteTime": {
     "end_time": "2025-04-12T18:31:36.250060900Z",
     "start_time": "2025-04-12T18:31:36.227552200Z"
    },
    "collapsed": false
   },
   "outputs": [],
   "source": [
    "def online_search(state):\n",
    "    \"\"\"\n",
    "    Web search based on the re-phrased question.\n",
    "\n",
    "    Args:\n",
    "        state (dict): The current graph state\n",
    "\n",
    "    Returns:\n",
    "        state (dict): Updates documents key with appended web results\n",
    "    \"\"\"\n",
    "    \n",
    "    print(\"---WEB SEARCH---\")\n",
    "    \n",
    "    topic = state['messages'][0].content\n",
    "    \n",
    "    tavily_search_tool = TavilySearch(\n",
    "        max_results=5,\n",
    "        topic=\"general\",\n",
    "        time_range=\"day\",\n",
    "    )\n",
    "    # Web search\n",
    "    docs = tavily_search_tool.invoke({\"query\": topic})\n",
    "    \n",
    "    print(docs)\n",
    "\n",
    "    web_results = \"\\n\".join([d[\"content\"] for d in docs[\"results\"]])\n",
    "    \n",
    "    print(\"Web results: \", web_results)\n",
    "\n",
    "    return {\"documents\": web_results, \"topic\": topic}"
   ]
  },
  {
   "cell_type": "code",
   "execution_count": null,
   "id": "1a966afd733d860d",
   "metadata": {
    "ExecuteTime": {
     "end_time": "2025-04-12T18:31:36.251060Z",
     "start_time": "2025-04-12T18:31:36.231964200Z"
    },
    "collapsed": false
   },
   "outputs": [],
   "source": [
    "from typing_extensions import TypedDict\n",
    "from langgraph.graph import StateGraph, START, END\n",
    "from IPython.display import Image, display\n",
    "\n",
    "\n",
    "# Graph state\n",
    "class QuestionState(TypedDict):\n",
    "    topic: str\n",
    "    question: str\n",
    "    documents: str\n",
    "    messages: Annotated[list, add_messages]\n",
    "\n",
    "\n",
    "example = \"\"\"\n",
    "9. ここから じゅんばん に見てください。\n",
    "\t1.\t順番\n",
    "\t2.\t項番\n",
    "\t3.\t順落\n",
    "\t4.\t項落\n",
    "\n",
    "10. 父は銀行に つとめて います。\n",
    "\t1.\t勧めて\n",
    "\t2.\t勤めて\n",
    "\t3.\t仕めて\n",
    "\t4.\t労めて\n",
    "\n",
    "11. ポケットが さゆう にあるんですね。\n",
    "\t1.\t裏表\n",
    "\t2.\t右左\n",
    "\t3.\t表裏\n",
    "\t4.\t左右\n",
    "\n",
    "12. 昨日の試合は まけて しまいました。\n",
    "\t1.\t退けて\n",
    "\t2.\t負けて\n",
    "\t3.\t失けて\n",
    "\t4.\t欠けて\n",
    "\n",
    "13. かこの 例も調べてみましょう。\n",
    "\t1.\t適去\n",
    "\t2.\t過古\n",
    "\t3.\t過去\n",
    "\t4.\t適古\n",
    "\n",
    "14. この資料はページが ぎゃく になっていますよ。\n",
    "\t1.\t達\n",
    "\t2.\t変\n",
    "\t3.\t逆\n",
    "\t4.\t別\n",
    "\"\"\"\n",
    "\n",
    "# Nodes\n",
    "def question_draft_generator(state: QuestionState):\n",
    "    \"\"\"First LLM call to generate initial question\"\"\"\n",
    "    print(\"---Generator----\")\n",
    "        \n",
    "    search_result = state['documents'],\n",
    "    \n",
    "    prompt = ChatPromptTemplate.from_messages(\n",
    "        [\n",
    "            (\n",
    "                \"system\",\n",
    "                \"\"\"\n",
    "                    You are a Japanese teacher. Your job is to write a vocabulary question for candidates to identify the correct kanji writing of a given word in hiragana for a JLPT N3 level exam paper. Each question presents a word in hiragana within a sentence, and candidates must choose the correct kanji representation from four options. The options should include one correct kanji form and three distractors that are plausible but incorrect. The JLPT exam paper includes a mix of easy, moderate, and difficult questions to accurately assess the test-taker’s proficiency across different aspects of the language.\n",
    "                    The vocabulary should be restricted to N3 level, use the vocabulary in the `Dictionary` as much as you can.\n",
    "                    Please refer to the question examples following the formal exam paper. please highlight the word to ask candidate with <u><em></em></u>.\n",
    "                    Append the correct answer and explanation of the main challenges on why the teacher asks this question to the candidate in simplified Chinese at each question.\n",
    "                    Finally, output beautiful markdown format.\n",
    "                    Dictionary: {vocab_dict}\n",
    "                    Search result: {search_result}\n",
    "                    Formal exam paper: {example}\n",
    "                \"\"\"\n",
    "            ),\n",
    "            MessagesPlaceholder(variable_name=\"messages\"),\n",
    "        ]\n",
    "    )\n",
    "\n",
    "    input = { \"topic\" : state['topic'],\n",
    "              \"search_result\": search_result, \n",
    "              \"vocab_dict\": vocab_dict,\n",
    "              \"example\": example,\n",
    "              \"messages\": state[\"messages\"]\n",
    "              }\n",
    "    # final_message = prompt.format_messages(**input)\n",
    "    # print(final_message)\n",
    "    \n",
    "    generate = prompt | azure_llm\n",
    "    \n",
    "    res = generate.invoke(input=input)\n",
    "    \n",
    "    print(\"---AI Generator---: \", res.content)\n",
    "    \n",
    "    return {\"question\": res.content, \"messages\": [AIMessage(content=res.content)] }\n",
    "\n",
    "def reflection_node(state: QuestionState) -> QuestionState:\n",
    "    print(\"---REVISOR---\")\n",
    "    \n",
    "    # Other messages we need to adjust\n",
    "    cls_map = {\"ai\": HumanMessage, \"human\": AIMessage}\n",
    "    # First message is the original user request. We hold it the same for all nodes\n",
    "    translated = [state[\"messages\"][0]] + [\n",
    "        cls_map[msg.type](content=msg.content) for msg in state[\"messages\"][1:]\n",
    "    ]\n",
    "\n",
    "    reflection_prompt = ChatPromptTemplate.from_messages(\n",
    "    [\n",
    "        (\n",
    "            \"system\",\n",
    "            \"\"\"you are a Japanese language educator reviewing a JLPT exam paper. Generate critique and recommendations for the user's submission.\n",
    "            the review focuses on content accuracy and question quality. \n",
    "            - For content accuracy, you must verify that the grammar and vocabulary questions accurately reflect the appropriate JLPT N3 level, ensuring the reading passages are clear, relevant, and appropriately challenging. \n",
    "            - For question quality, you must ensure all questions are clearly worded and free from ambiguity to comprehensively assess different language skills, and confirm that the difficulty level of the questions matches the intended JLPT N3 level.\n",
    "            - During detailed refinement, you check the format and presentation of the paper, ensuring it is well-organized and the instructions are clear and concise. you also ensure the content is culturally appropriate and relevant to Japanese language and culture.\n",
    "            - Finally, you make give feedback, providing detailed recommendations, including requests.If you think the exam paper is good enough, you just say \"GOOD ENOUGH\" and not to output anything else.\n",
    "            \"\"\"\n",
    "        ),\n",
    "            MessagesPlaceholder(variable_name=\"messages\"),\n",
    "        ]\n",
    "    )\n",
    "    reflect = reflection_prompt | azure_llm\n",
    "    \n",
    "    res = reflect.invoke(translated)\n",
    "    \n",
    "    print(\"AI Suggestions: \",res.content)\n",
    "    \n",
    "    # We treat the output of this as human feedback for the generator\n",
    "    return {\"messages\": [HumanMessage(content=res.content)]}\n",
    "\n"
   ]
  },
  {
   "cell_type": "code",
   "execution_count": 22,
   "id": "30e802dc904d791c",
   "metadata": {
    "ExecuteTime": {
     "end_time": "2025-04-12T18:31:36.597949300Z",
     "start_time": "2025-04-12T18:31:36.240059400Z"
    },
    "collapsed": false
   },
   "outputs": [],
   "source": [
    "# Build workflow\n",
    "builder = StateGraph(QuestionState)\n",
    "\n",
    "builder.add_node(\"online_search\", online_search)\n",
    "builder.add_node(\"generator\", question_draft_generator)\n",
    "builder.add_node(\"reflector\", reflection_node)\n",
    "# Add nodes\n",
    "\n",
    "def should_continue(state: QuestionState):\n",
    "    if state[\"messages\"]:\n",
    "        if len(state[\"messages\"]) > 6: \n",
    "            print(\"--- Reach the Maximum Round ---\")\n",
    "            return END\n",
    "        elif \"GOOD ENOUGH\" in state[\"messages\"][-1].content:\n",
    "            print(\"--- AI Reviser feels Good Enough ---\")\n",
    "            return END\n",
    "    return \"generator\"\n",
    "\n",
    "# Add edges to connect nodes\n",
    "builder.add_edge(START, \"online_search\")\n",
    "builder.add_edge(\"online_search\", \"generator\")\n",
    "builder.add_edge(\"generator\",\"reflector\")\n",
    "# \n",
    "builder.add_conditional_edges(\"reflector\", should_continue)\n",
    "memory = MemorySaver()\n",
    "\n",
    "# Compile\n",
    "kanji_graph = builder.compile()\n",
    "\n",
    "# Show workflow\n",
    "# display(Image(kanji_graph.get_graph().draw_png()))"
   ]
  },
  {
   "cell_type": "code",
   "execution_count": 23,
   "id": "eec5f157c924be8b",
   "metadata": {
    "ExecuteTime": {
     "end_time": "2025-04-12T18:31:36.598454100Z",
     "start_time": "2025-04-12T18:31:36.590161Z"
    },
    "collapsed": false
   },
   "outputs": [
    {
     "name": "stderr",
     "output_type": "stream",
     "text": [
      "C:\\Users\\HW-BK003\\AppData\\Local\\Temp\\ipykernel_5020\\846002302.py:2: FutureWarning: Series.__getitem__ treating keys as positions is deprecated. In a future version, integer keys will always be treated as labels (consistent with DataFrame behavior). To access a value by position, use `ser.iloc[pos]`\n",
      "  word = f\"{row[0]}({row[1]})\"\n"
     ]
    },
    {
     "data": {
      "text/plain": [
       "'計(けい)'"
      ]
     },
     "execution_count": 23,
     "metadata": {},
     "output_type": "execute_result"
    }
   ],
   "source": [
    "row = words.iloc[1]\n",
    "word = f\"{row[0]}({row[1]})\"\n",
    "word"
   ]
  },
  {
   "cell_type": "code",
   "execution_count": 24,
   "id": "553844c1e99d121c",
   "metadata": {
    "ExecuteTime": {
     "end_time": "2025-04-12T18:32:11.155838700Z",
     "start_time": "2025-04-12T18:31:36.595929400Z"
    },
    "collapsed": false
   },
   "outputs": [
    {
     "name": "stdout",
     "output_type": "stream",
     "text": [
      "---WEB SEARCH---\n",
      "{'query': '計(けい)', 'follow_up_questions': None, 'answer': None, 'images': [], 'results': [{'title': '「けいはんな万博」も開幕、京都、大阪、奈良の3府県が舞台 10月まで多彩なイベント - 産経ニュース', 'url': 'https://www.sankei.com/article/20250414-GSCXPTHVHVPPLHJ5SERWOUQNMA/', 'content': '「けいはんな万博2025」の開会式が13日、けいなんなプラザ（京都府精華町）で行われた。けいはんな万博は、同日開幕した大阪・関西万博に', 'score': 0.07264344, 'raw_content': None}, {'title': '染色家75年の歩み紹介 18日から柚木沙弥郎展 島根県立美術館 作品や資料など300点 | 山陰中央新報デジタル', 'url': 'https://www.sanin-chuo.co.jp/articles/-/763498', 'content': '101歳の生涯を閉じるまでの作品の数々や資料など計300点を紹介する。', 'score': 0.06484878, 'raw_content': None}, {'title': '国鉄12系客車 - Wikipedia', 'url': 'https://ja.wikipedia.org/wiki/国鉄12系客車', 'content': '国鉄では、1980年から老朽化したスロ81系和式客車の代替や増備として、各 鉄道管理局 で12系客車の改造により和式客車を製造した。 国鉄時代には15編成+1両（計62両）が、国鉄分割民営化後はJR西日本において1編成（6両）が製作された [20]。', 'score': 0.060646243, 'raw_content': None}, {'title': '★青山一丁目で「LOOK」のバーゲン。 | ilovecb、セレンディピティを求めて - 楽天ブログ', 'url': 'https://plaza.rakuten.co.jp/ilovecb/diary/202504130000/', 'content': '★青山一丁目で「LOOK」のバーゲン。 ★三男孫が入社式で上京、「花より団子」・上野でお寿司。 ★三男孫が入社式で上京、上野公園でお花見。 ★「ﾎﾟｹﾓﾝGO」で進化含めて新種5種ゲット!、子孫とも楽しく。 ★三男孫が入社式で上京、高輪ゲートウェイで花見。 ★三男孫が入社式で上京', 'score': 0.03580315, 'raw_content': None}, {'title': '【2025年版】炭火焼き鳥ブログNo.1のプレゼント おすすめ人気ランキング | ギフトモール', 'url': 'https://giftmall.co.jp/search/炭火焼き鳥ブログNo.1/', 'content': '2025年4月現在、編集部がおすすめする「炭火焼き鳥ブログNo.1」のプレゼントと、お客様に多く選ばれた人気の「炭火焼き鳥ブログNo.1」のプレゼントをご紹介します。ギフトモールは、月間700万人が訪れる日本最大級ギフト専門ショップです。編集部が100万種類以上の豊富なギフトの中から編集', 'score': 0.029159855, 'raw_content': None}], 'response_time': 1.49}\n",
      "Web results:  「けいはんな万博2025」の開会式が13日、けいなんなプラザ（京都府精華町）で行われた。けいはんな万博は、同日開幕した大阪・関西万博に\n",
      "101歳の生涯を閉じるまでの作品の数々や資料など計300点を紹介する。\n",
      "国鉄では、1980年から老朽化したスロ81系和式客車の代替や増備として、各 鉄道管理局 で12系客車の改造により和式客車を製造した。 国鉄時代には15編成+1両（計62両）が、国鉄分割民営化後はJR西日本において1編成（6両）が製作された [20]。\n",
      "★青山一丁目で「LOOK」のバーゲン。 ★三男孫が入社式で上京、「花より団子」・上野でお寿司。 ★三男孫が入社式で上京、上野公園でお花見。 ★「ﾎﾟｹﾓﾝGO」で進化含めて新種5種ゲット!、子孫とも楽しく。 ★三男孫が入社式で上京、高輪ゲートウェイで花見。 ★三男孫が入社式で上京\n",
      "2025年4月現在、編集部がおすすめする「炭火焼き鳥ブログNo.1」のプレゼントと、お客様に多く選ばれた人気の「炭火焼き鳥ブログNo.1」のプレゼントをご紹介します。ギフトモールは、月間700万人が訪れる日本最大級ギフト専門ショップです。編集部が100万種類以上の豊富なギフトの中から編集\n",
      "---Generator----\n",
      "AI Suggestions:  ### Vocabulary Question\n",
      "\n",
      "**問題:** 以下の文を読んで、<u><em>けい</em></u>に最も適切な漢字を選びなさい。\n",
      "\n",
      "**文:** この資料には、すべての費用が詳細に<u><em>けい</em></u>算されています。\n",
      "\n",
      "1. 計  \n",
      "2. 軽  \n",
      "3. 経  \n",
      "4. 啓  \n",
      "\n",
      "---\n",
      "\n",
      "**正解:** 1. 計  \n",
      "**説明:**  \n",
      "この問題では、「けい」の適切な漢字を選ぶ必要があります。「計算」は、物事を数値で計ることを意味し、「計」が正しい漢字です。選択肢の「軽」（軽い）、「経」（経過）、「啓」（啓発）は意味が異なるため、誤りです。この問題は、漢字の意味を理解する力を問うために出題されました。\n",
      "\n",
      "**简体中文解释:**  \n",
      "正确答案是“1. 計”。“計算”表示计算或数值测量，与句子中的意思一致。其他选项“軽”（轻）、“経”（经过）、“啓”（启发）与句子语境不符。这道题目考察考生对汉字意义的理解能力。\n",
      "---REVISOR---\n",
      "AI Suggestions:  **Critique and Recommendations:**\n",
      "\n",
      "### Content Accuracy:\n",
      "1. **Appropriateness for JLPT N3 Level:**  \n",
      "   The vocabulary question is appropriate for the JLPT N3 level. \"計算\" is a commonly used term at this level, and the sentence context provides a clear clue for selecting the correct answer. The inclusion of alternative kanji like \"軽,\" \"経,\" and \"啓\" adds complexity while ensuring the question is not overly difficult for N3 learners.\n",
      "\n",
      "2. **Grammar and Vocabulary Context:**  \n",
      "   The sentence structure is straightforward and aligns with N3 grammar expectations. The use of \"詳細に計算されています\" provides a realistic and culturally relevant context for the word \"計算.\"\n",
      "\n",
      "### Question Quality:\n",
      "1. **Clarity of Question:**  \n",
      "   The instructions are clear and concise. The question format (\"以下の文を読んで、けいに最も適切な漢字を選びなさい\") is easy to understand and avoids ambiguity.\n",
      "\n",
      "2. **Difficulty Level:**  \n",
      "   The difficulty level matches the intended N3 level. Learners at this stage are expected to recognize common kanji compounds like \"計算\" and distinguish them from other similar-sounding kanji.\n",
      "\n",
      "### Format and Presentation:\n",
      "1. **Organization:**  \n",
      "   The question is well-organized, with a clear layout that separates the sentence, options, and explanation. The use of furigana (\"けい\") helps learners focus on the task without being distracted by pronunciation issues.\n",
      "\n",
      "2. **Cultural Appropriateness:**  \n",
      "   The sentence is culturally neutral and relevant to everyday Japanese usage, making it suitable for learners.\n",
      "\n",
      "### Recommendations:\n",
      "1. **Additional Context for Choices:**  \n",
      "   To further enhance the quality of the question, consider providing brief explanations for the incorrect choices (\"軽,\" \"経,\" and \"啓\") in the explanation section. For example:\n",
      "   - 軽: 軽い (lightweight) does not fit the context of calculation.  \n",
      "   - 経: 経過 (progress) refers to the passage of time, unrelated to numerical computation.  \n",
      "   - 啓: 啓発 (enlightenment) is unrelated to the context of mathematical calculation.\n",
      "\n",
      "2. **Formatting Suggestion:**  \n",
      "   Add visual emphasis to the correct answer in the explanation section, such as bolding or underlining the correct kanji (\"計\") to make the feedback more accessible for learners.\n",
      "\n",
      "3. **Potential Expansion:**  \n",
      "   Consider adding a follow-up question that asks learners to use \"計算\" in a different sentence or context. This would deepen their understanding of how the word is used in various scenarios.\n",
      "\n",
      "Overall, this question is well-constructed and meets the requirements for the JLPT N3 level. With minor refinements, it can be even more effective as a learning tool.\n",
      "---Generator----\n",
      "AI Suggestions:  Thank you for the detailed critique and recommendations! Below is the revised version of the question, incorporating your suggestions for improvement:\n",
      "\n",
      "---\n",
      "\n",
      "### Vocabulary Question\n",
      "\n",
      "**問題:** 以下の文を読んで、<u><em>けい</em></u>に最も適切な漢字を選びなさい。\n",
      "\n",
      "**文:** この資料には、すべての費用が詳細に<u><em>けい</em></u>算されています。\n",
      "\n",
      "1. 計  \n",
      "2. 軽  \n",
      "3. 経  \n",
      "4. 啓  \n",
      "\n",
      "---\n",
      "\n",
      "### **正解:** 1. 計  \n",
      "\n",
      "**説明:**  \n",
      "「計算」は、数値を計ることを意味し、「計」が正しい漢字です。他の選択肢は文脈に合いません：  \n",
      "- **軽:** 「軽い」（lightweight）は、重さや量に関連し、この文脈では不適切です。  \n",
      "- **経:** 「経過」（progress）は、時間の流れを指し、計算とは関係がありません。  \n",
      "- **啓:** 「啓発」（enlightenment）は、啓蒙や学びに関連する言葉であり、この文脈には合いません。  \n",
      "\n",
      "この問題は、漢字の意味と文脈を理解する力を問うために作られています。\n",
      "\n",
      "---\n",
      "\n",
      "**简体中文解释:**  \n",
      "**正确答案是“1. 計”。**  \n",
      "「計算」表示计算或数值测量，与句子中的意思一致。其他选项的解释如下：  \n",
      "- **軽:** 「軽い」（轻）与重量或数量相关，不符合句子语境。  \n",
      "- **経:** 「経過」（经过）指时间的流逝，与计算无关。  \n",
      "- **啓:** 「啓発」（启发）与启蒙或学习相关，与句子语境不符。  \n",
      "\n",
      "这道题目考察考生对汉字意义和语境的理解能力。\n",
      "\n",
      "---\n",
      "\n",
      "### **Formatting Enhancements:**\n",
      "- Added **bolding** to emphasize the correct answer in the explanation.\n",
      "- Provided **brief explanations** for incorrect options to deepen learners' understanding.\n",
      "- Retained the clear and organized layout.\n",
      "\n",
      "---\n",
      "\n",
      "### **Follow-up Suggestion:**\n",
      "To further reinforce learning, try this additional question:  \n",
      "**文:** このシステムは、正確な<u><em>けい</em></u>算が必要です。  \n",
      "**正解:** 計  \n",
      "\n",
      "---\n",
      "\n",
      "This revised version addresses the critique and provides a more comprehensive learning experience for N3-level learners. Thank you again for your valuable feedback! 😊\n",
      "---REVISOR---\n",
      "AI Suggestions:  **GOOD ENOUGH**\n",
      "--- AI Reviser feels Good Enough ---\n"
     ]
    },
    {
     "data": {
      "text/markdown": [
       "Thank you for the detailed critique and recommendations! Below is the revised version of the question, incorporating your suggestions for improvement:\n",
       "\n",
       "---\n",
       "\n",
       "### Vocabulary Question\n",
       "\n",
       "**問題:** 以下の文を読んで、<u><em>けい</em></u>に最も適切な漢字を選びなさい。\n",
       "\n",
       "**文:** この資料には、すべての費用が詳細に<u><em>けい</em></u>算されています。\n",
       "\n",
       "1. 計  \n",
       "2. 軽  \n",
       "3. 経  \n",
       "4. 啓  \n",
       "\n",
       "---\n",
       "\n",
       "### **正解:** 1. 計  \n",
       "\n",
       "**説明:**  \n",
       "「計算」は、数値を計ることを意味し、「計」が正しい漢字です。他の選択肢は文脈に合いません：  \n",
       "- **軽:** 「軽い」（lightweight）は、重さや量に関連し、この文脈では不適切です。  \n",
       "- **経:** 「経過」（progress）は、時間の流れを指し、計算とは関係がありません。  \n",
       "- **啓:** 「啓発」（enlightenment）は、啓蒙や学びに関連する言葉であり、この文脈には合いません。  \n",
       "\n",
       "この問題は、漢字の意味と文脈を理解する力を問うために作られています。\n",
       "\n",
       "---\n",
       "\n",
       "**简体中文解释:**  \n",
       "**正确答案是“1. 計”。**  \n",
       "「計算」表示计算或数值测量，与句子中的意思一致。其他选项的解释如下：  \n",
       "- **軽:** 「軽い」（轻）与重量或数量相关，不符合句子语境。  \n",
       "- **経:** 「経過」（经过）指时间的流逝，与计算无关。  \n",
       "- **啓:** 「啓発」（启发）与启蒙或学习相关，与句子语境不符。  \n",
       "\n",
       "这道题目考察考生对汉字意义和语境的理解能力。\n",
       "\n",
       "---\n",
       "\n",
       "### **Formatting Enhancements:**\n",
       "- Added **bolding** to emphasize the correct answer in the explanation.\n",
       "- Provided **brief explanations** for incorrect options to deepen learners' understanding.\n",
       "- Retained the clear and organized layout.\n",
       "\n",
       "---\n",
       "\n",
       "### **Follow-up Suggestion:**\n",
       "To further reinforce learning, try this additional question:  \n",
       "**文:** このシステムは、正確な<u><em>けい</em></u>算が必要です。  \n",
       "**正解:** 計  \n",
       "\n",
       "---\n",
       "\n",
       "This revised version addresses the critique and provides a more comprehensive learning experience for N3-level learners. Thank you again for your valuable feedback! 😊"
      ],
      "text/plain": [
       "<IPython.core.display.Markdown object>"
      ]
     },
     "metadata": {},
     "output_type": "display_data"
    }
   ],
   "source": [
    "kanji = kanji_graph.invoke(\n",
    "    {\n",
    "       \"messages\": [\n",
    "                HumanMessage(\n",
    "                    content=word\n",
    "                )\n",
    "            ],\n",
    "        },\n",
    "    config={\"configurable\": {\"thread_id\": \"1\"}}\n",
    ")\n",
    "display(Markdown(kanji[\"question\"]))"
   ]
  },
  {
   "cell_type": "code",
   "execution_count": null,
   "id": "478a300282b3216",
   "metadata": {
    "ExecuteTime": {
     "end_time": "2025-04-12T18:32:11.155838700Z",
     "start_time": "2025-04-12T18:32:11.152984300Z"
    },
    "collapsed": false
   },
   "outputs": [],
   "source": []
  }
 ],
 "metadata": {
  "kernelspec": {
   "display_name": "Python 3",
   "language": "python",
   "name": "python3"
  },
  "language_info": {
   "codemirror_mode": {
    "name": "ipython",
    "version": 2
   },
   "file_extension": ".py",
   "mimetype": "text/x-python",
   "name": "python",
   "nbconvert_exporter": "python",
   "pygments_lexer": "ipython2",
   "version": "2.7.6"
  }
 },
 "nbformat": 4,
 "nbformat_minor": 5
}
