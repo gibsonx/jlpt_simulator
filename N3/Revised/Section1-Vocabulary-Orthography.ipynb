{
 "cells": [
  {
   "cell_type": "markdown",
   "source": [
    "# Language Knowledge (Vocabulary)\n",
    "Duration: 30 minutes\n",
    "Content: This section tests your knowledge of Japanese vocabulary, including kanji readings, orthography, word formation, contextually-defined expressions, paraphrases, and usage\n",
    "It mainly composes following five categories:\n",
    "- ``Reading Kana`` (Pronunciation Questions): Given a kanji word, choose the correct kana reading.\n",
    "- `Writing Kanji` (Writing Questions): Given a word written in kana, choose the correct kanji representation.\n",
    "- `Word Meaning` Selection (Vocabulary Understanding): Choose the most suitable word to fill in the sentence from four options.\n",
    "- `Synonym Replacement`: Select a word that has the same or similar meaning as the underlined word.\n",
    "- `Vocabulary Usage`: Assess the usage of words in actual contexts, choosing the most appropriate word usage, including some common Japanese expressions or fixed phrases."
   ],
   "metadata": {
    "collapsed": false
   },
   "id": "2b011bdf967ca7ff"
  },
  {
   "cell_type": "code",
   "execution_count": 19,
   "outputs": [
    {
     "data": {
      "text/plain": "True"
     },
     "execution_count": 19,
     "metadata": {},
     "output_type": "execute_result"
    }
   ],
   "source": [
    "import pandas as pd\n",
    "import json\n",
    "import os\n",
    "import random\n",
    "import pickle\n",
    "import re\n",
    "import uuid\n",
    "from typing import *\n",
    "from langchain_openai import AzureOpenAI,AzureChatOpenAI\n",
    "from langchain_anthropic import ChatAnthropic\n",
    "from langchain_core.prompts import ChatPromptTemplate, MessagesPlaceholder\n",
    "from dotenv import load_dotenv\n",
    "from langchain_aws import ChatBedrock\n",
    "from langchain.embeddings.base import Embeddings\n",
    "from langchain.text_splitter import CharacterTextSplitter\n",
    "from langchain_community.document_loaders import PyPDFLoader\n",
    "from langchain_community.embeddings import HuggingFaceEmbeddings\n",
    "# from langchain_community.embeddings import XinferenceEmbeddings\n",
    "from langchain_community.vectorstores import Chroma\n",
    "from langchain_openai import OpenAIEmbeddings\n",
    "from typing import Annotated, Literal, Sequence\n",
    "from typing_extensions import TypedDict\n",
    "from IPython.display import display, Markdown, Latex\n",
    "from langchain import hub\n",
    "from langchain_core.output_parsers import StrOutputParser\n",
    "from langchain_core.prompts import PromptTemplate\n",
    "from langchain_openai import ChatOpenAI\n",
    "from typing import Annotated, Sequence\n",
    "from typing_extensions import TypedDict\n",
    "from langchain_core.messages import BaseMessage,RemoveMessage,HumanMessage,AIMessage,ToolMessage\n",
    "from langgraph.graph.message import add_messages\n",
    "from pydantic import BaseModel, Field\n",
    "from langgraph.graph import END, StateGraph, START\n",
    "from langgraph.prebuilt import ToolNode\n",
    "from langgraph.prebuilt import tools_condition\n",
    "from langgraph.checkpoint.memory import MemorySaver\n",
    "from langchain.output_parsers import PydanticOutputParser\n",
    "from pydantic import BaseModel, Field, validator\n",
    "from typing import List, Optional\n",
    "from langchain_tavily import TavilySearch\n",
    "from langchain.schema import Document\n",
    "from langgraph.prebuilt import create_react_agent\n",
    "from langchain_community.tools.tavily_search import TavilySearchResults\n",
    "from Libs.LLMs import azure_llm, aws_llm\n",
    "load_dotenv()"
   ],
   "metadata": {
    "collapsed": false,
    "ExecuteTime": {
     "end_time": "2025-04-12T18:31:36.227552200Z",
     "start_time": "2025-04-12T18:31:36.208848500Z"
    }
   },
   "id": "7f526a68a7e73a65"
  },
  {
   "cell_type": "code",
   "execution_count": 20,
   "outputs": [],
   "source": [
    "# Import N3 Vocabulary\n",
    "file_path = '../../Vocab/n3.csv'\n",
    "# Read the CSV file\n",
    "data = pd.read_csv(file_path)\n",
    "words = data.iloc[:, :2].sample(frac=1).reset_index(drop=True)\n",
    "# Display the content of the CSV file\n",
    "words.head()\n",
    "vocab_dict = words.set_index(words.columns[0])[words.columns[1]].to_dict()\n",
    "vocab_dict = json.dumps(vocab_dict, ensure_ascii=False, separators=(',', ':'))"
   ],
   "metadata": {
    "collapsed": false,
    "ExecuteTime": {
     "end_time": "2025-04-12T18:31:36.249058900Z",
     "start_time": "2025-04-12T18:31:36.214351Z"
    }
   },
   "id": "initial_id"
  },
  {
   "cell_type": "markdown",
   "source": [
    "#### load Models"
   ],
   "metadata": {
    "collapsed": false
   },
   "id": "4c1cdce8b1f57ef3"
  },
  {
   "cell_type": "markdown",
   "source": [
    "#### Exam Paper Outline\n",
    "### A. overall thinking the structure of an exam\n",
    "1. distribution of the difficulty \n",
    "2. topics\n",
    "3. reasoning"
   ],
   "metadata": {
    "collapsed": false
   },
   "id": "385c63b54b5c2a36"
  },
  {
   "cell_type": "markdown",
   "source": [
    "## Data Strcuture"
   ],
   "metadata": {
    "collapsed": false
   },
   "id": "fed5f032dadafac1"
  },
  {
   "cell_type": "markdown",
   "source": [
    "# Kanji 读假名（读音问题）"
   ],
   "metadata": {
    "collapsed": false
   },
   "id": "5795bb3d95c0cc50"
  },
  {
   "cell_type": "code",
   "outputs": [],
   "source": [
    "def online_search(state):\n",
    "    \"\"\"\n",
    "    Web search based on the re-phrased question.\n",
    "\n",
    "    Args:\n",
    "        state (dict): The current graph state\n",
    "\n",
    "    Returns:\n",
    "        state (dict): Updates documents key with appended web results\n",
    "    \"\"\"\n",
    "    \n",
    "    print(\"---WEB SEARCH---\")\n",
    "    \n",
    "    topic = state['messages'][0].content\n",
    "    \n",
    "    tavily_search_tool = TavilySearch(\n",
    "        max_results=5,\n",
    "        topic=\"general\",\n",
    "        time_range=\"day\",\n",
    "    )\n",
    "    # Web search\n",
    "    docs = tavily_search_tool.invoke({\"query\": topic})\n",
    "    \n",
    "    print(docs)\n",
    "\n",
    "    web_results = \"\\n\".join([d[\"content\"] for d in docs[\"results\"]])\n",
    "    \n",
    "    print(\"Web results: \", web_results)\n",
    "\n",
    "    return {\"documents\": web_results, \"topic\": topic}"
   ],
   "metadata": {
    "collapsed": false,
    "ExecuteTime": {
     "end_time": "2025-04-12T18:31:36.250060900Z",
     "start_time": "2025-04-12T18:31:36.227552200Z"
    }
   },
   "id": "252ffacd6ebb7b37",
   "execution_count": 21
  },
  {
   "cell_type": "code",
   "outputs": [],
   "source": [
    "from typing_extensions import TypedDict\n",
    "from langgraph.graph import StateGraph, START, END\n",
    "from IPython.display import Image, display\n",
    "\n",
    "\n",
    "# Graph state\n",
    "class QuestionState(TypedDict):\n",
    "    topic: str\n",
    "    question: str\n",
    "    documents: str\n",
    "    messages: Annotated[list, add_messages]\n",
    "\n",
    "\n",
    "example = \"\"\"\n",
    "9. ここから じゅんばん に見てください。\n",
    "\t1.\t順番\n",
    "\t2.\t項番\n",
    "\t3.\t順落\n",
    "\t4.\t項落\n",
    "\n",
    "10. 父は銀行に つとめて います。\n",
    "\t1.\t勧めて\n",
    "\t2.\t勤めて\n",
    "\t3.\t仕めて\n",
    "\t4.\t労めて\n",
    "\n",
    "11. ポケットが さゆう にあるんですね。\n",
    "\t1.\t裏表\n",
    "\t2.\t右左\n",
    "\t3.\t表裏\n",
    "\t4.\t左右\n",
    "\n",
    "12. 昨日の試合は まけて しまいました。\n",
    "\t1.\t退けて\n",
    "\t2.\t負けて\n",
    "\t3.\t失けて\n",
    "\t4.\t欠けて\n",
    "\n",
    "13. かこの 例も調べてみましょう。\n",
    "\t1.\t適去\n",
    "\t2.\t過古\n",
    "\t3.\t過去\n",
    "\t4.\t適古\n",
    "\n",
    "14. この資料はページが ぎゃく になっていますよ。\n",
    "\t1.\t達\n",
    "\t2.\t変\n",
    "\t3.\t逆\n",
    "\t4.\t別\n",
    "\"\"\"\n",
    "\n",
    "# Nodes\n",
    "def question_draft_generator(state: QuestionState):\n",
    "    \"\"\"First LLM call to generate initial question\"\"\"\n",
    "    print(\"---Generator----\")\n",
    "        \n",
    "    search_result = state['documents'],\n",
    "    \n",
    "    prompt = ChatPromptTemplate.from_messages(\n",
    "        [\n",
    "            (\n",
    "                \"system\",\n",
    "                \"\"\"\n",
    "                    You are a Japanese teacher. Your job is to write a vocabulary question for candidates to identify the correct kanji writing of a given word in hiragana for a JLPT N3 level exam paper. Each question presents a word in hiragana within a sentence, and candidates must choose the correct kanji representation from four options. The options should include one correct kanji form and three distractors that are plausible but incorrect. The JLPT exam paper includes a mix of easy, moderate, and difficult questions to accurately assess the test-taker’s proficiency across different aspects of the language.\n",
    "                    The vocabulary should be restricted to N3 level, use the vocabulary in the `Dictionary` as much as you can.\n",
    "                    Please refer to the question examples following the formal exam paper. please highlight the word to ask candidate with <u><em></em></u>.\n",
    "                    Append the correct answer and explanation of the main challenges on why the teacher asks this question to the candidate in simplified Chinese at each question.\n",
    "                    Finally, output beautiful markdown format.\n",
    "                    Dictionary: {vocab_dict}\n",
    "                    Search result: {search_result}\n",
    "                    Formal exam paper: {example}\n",
    "                \"\"\"\n",
    "            ),\n",
    "            MessagesPlaceholder(variable_name=\"messages\"),\n",
    "        ]\n",
    "    )\n",
    "\n",
    "    input = { \"topic\" : state['topic'],\n",
    "              \"search_result\": search_result, \n",
    "              \"vocab_dict\": vocab_dict,\n",
    "              \"example\": example,\n",
    "              \"messages\": state[\"messages\"]\n",
    "              }\n",
    "    # final_message = prompt.format_messages(**input)\n",
    "    # print(final_message)\n",
    "    \n",
    "    generate = prompt | aws_llm\n",
    "    \n",
    "    res = generate.invoke(input=input)\n",
    "    \n",
    "    print(\"AI Suggestions: \", res.content)\n",
    "    \n",
    "    return {\"question\": res.content, \"messages\": [AIMessage(content=res.content)] }\n",
    "\n",
    "def reflection_node(state: QuestionState) -> QuestionState:\n",
    "    print(\"---REVISOR---\")\n",
    "    \n",
    "    # Other messages we need to adjust\n",
    "    cls_map = {\"ai\": HumanMessage, \"human\": AIMessage}\n",
    "    # First message is the original user request. We hold it the same for all nodes\n",
    "    translated = [state[\"messages\"][0]] + [\n",
    "        cls_map[msg.type](content=msg.content) for msg in state[\"messages\"][1:]\n",
    "    ]\n",
    "\n",
    "    reflection_prompt = ChatPromptTemplate.from_messages(\n",
    "    [\n",
    "        (\n",
    "            \"system\",\n",
    "            \"\"\"you are a Japanese language educator reviewing a JLPT exam paper. Generate critique and recommendations for the user's submission.\n",
    "            the review focuses on content accuracy and question quality. \n",
    "            - For content accuracy, you must verify that the grammar and vocabulary questions accurately reflect the appropriate JLPT N3 level, ensuring the reading passages are clear, relevant, and appropriately challenging. \n",
    "            - For question quality, you must ensure all questions are clearly worded and free from ambiguity to comprehensively assess different language skills, and confirm that the difficulty level of the questions matches the intended JLPT N3 level.\n",
    "            - During detailed refinement, you check the format and presentation of the paper, ensuring it is well-organized and the instructions are clear and concise. you also ensure the content is culturally appropriate and relevant to Japanese language and culture.\n",
    "            - Finally, you make give feedback, providing detailed recommendations, including requests.If you think the exam paper is good enough, you just say \"GOOD ENOUGH\" and not to output anything else.\n",
    "            \"\"\"\n",
    "        ),\n",
    "            MessagesPlaceholder(variable_name=\"messages\"),\n",
    "        ]\n",
    "    )\n",
    "    reflect = reflection_prompt | azure_llm\n",
    "    \n",
    "    res = reflect.invoke(translated)\n",
    "    \n",
    "    print(\"AI Suggestions: \",res.content)\n",
    "    \n",
    "    # We treat the output of this as human feedback for the generator\n",
    "    return {\"messages\": [HumanMessage(content=res.content)]}\n",
    "\n"
   ],
   "metadata": {
    "collapsed": false,
    "ExecuteTime": {
     "end_time": "2025-04-12T18:31:36.251060Z",
     "start_time": "2025-04-12T18:31:36.231964200Z"
    }
   },
   "id": "1a966afd733d860d",
   "execution_count": 22
  },
  {
   "cell_type": "code",
   "outputs": [
    {
     "data": {
      "image/png": "[encoded data removed]",
      "text/plain": "<IPython.core.display.Image object>"
     },
     "metadata": {},
     "output_type": "display_data"
    }
   ],
   "source": [
    "# Build workflow\n",
    "builder = StateGraph(QuestionState)\n",
    "\n",
    "builder.add_node(\"online_search\", online_search)\n",
    "builder.add_node(\"generator\", question_draft_generator)\n",
    "builder.add_node(\"reflector\", reflection_node)\n",
    "# Add nodes\n",
    "\n",
    "def should_continue(state: QuestionState):\n",
    "    if state[\"messages\"]:\n",
    "        if len(state[\"messages\"]) > 6: \n",
    "            print(\"--- Reach the Maximum Round ---\")\n",
    "            return END\n",
    "        elif \"GOOD ENOUGH\" in state[\"messages\"][-1].content:\n",
    "            print(\"--- AI Reviser feels Good Enough ---\")\n",
    "            return END\n",
    "    return \"generator\"\n",
    "\n",
    "# Add edges to connect nodes\n",
    "builder.add_edge(START, \"online_search\")\n",
    "builder.add_edge(\"online_search\", \"generator\")\n",
    "builder.add_edge(\"generator\",\"reflector\")\n",
    "# \n",
    "builder.add_conditional_edges(\"reflector\", should_continue)\n",
    "memory = MemorySaver()\n",
    "\n",
    "# Compile\n",
    "kanji_graph = builder.compile()\n",
    "\n",
    "# Show workflow\n",
    "display(Image(kanji_graph.get_graph().draw_png()))"
   ],
   "metadata": {
    "collapsed": false,
    "ExecuteTime": {
     "end_time": "2025-04-12T18:31:36.597949300Z",
     "start_time": "2025-04-12T18:31:36.240059400Z"
    }
   },
   "id": "30e802dc904d791c",
   "execution_count": 23
  },
  {
   "cell_type": "code",
   "outputs": [
    {
     "name": "stderr",
     "output_type": "stream",
     "text": [
      "C:\\Users\\Administrator\\AppData\\Local\\Temp\\ipykernel_7928\\878816679.py:2: FutureWarning: Series.__getitem__ treating keys as positions is deprecated. In a future version, integer keys will always be treated as labels (consistent with DataFrame behavior). To access a value by position, use `ser.iloc[pos]`\n",
      "  word = f\"{row[0]}({row[1]})\"\n"
     ]
    },
    {
     "data": {
      "text/plain": "'インク(インク)'"
     },
     "execution_count": 24,
     "metadata": {},
     "output_type": "execute_result"
    }
   ],
   "source": [
    "row = words.iloc[1]\n",
    "word = f\"{row[0]}({row[1]})\"\n",
    "word"
   ],
   "metadata": {
    "collapsed": false,
    "ExecuteTime": {
     "end_time": "2025-04-12T18:31:36.598454100Z",
     "start_time": "2025-04-12T18:31:36.590161Z"
    }
   },
   "id": "eec5f157c924be8b",
   "execution_count": 24
  },
  {
   "cell_type": "code",
   "execution_count": 25,
   "outputs": [
    {
     "name": "stdout",
     "output_type": "stream",
     "text": [
      "---WEB SEARCH---\n",
      "{'query': 'インク(インク)', 'follow_up_questions': None, 'answer': None, 'images': [], 'results': [{'title': '️「インクついちゃった!」そんなとき、まず読んでほしい話', 'url': 'https://note.com/kakemizu226446/n/n2ed5941bc440', 'content': '「わ〜!シャツにインクつけちゃった!」 そんなとき、ついやってしまいがちなのが… ・とにかく水で流す ・ゴシゴシこする ・お湯で洗ってみる ・ドライヤーで乾かす …実はこれ、どれもngなんです〜💦 インクって、水やお湯に反応して広がったり、 熱で定着してしまったりすることが', 'score': 0.16020063, 'raw_content': None}, {'title': '黒インク 赤ラメに惚れる | 市民aの手慰み', 'url': 'https://simblo.net/u/LgJX4T/post/305354', 'content': '黒インクと赤ラメ良すぎない!？ # 《デュアルメタリックブラッシュ blackインク redラメ》 《紙の表面に沈着する顔料の効果もあって、特に水分を吸う紙と相性がよい》 以前購入した「ぺんてる デュ…', 'score': 0.14680773, 'raw_content': None}, {'title': 'エプソンのプリンタ複合機を購入しようと思っています。EW-M757です。... - Yahoo!知恵袋', 'url': 'https://detail.chiebukuro.yahoo.co.jp/qa/question_detail/q11313647796', 'content': 'エプソンのプリンタ複合機を購入しようと思っています。EW-M757です。インクは「タケトンボ／ケンダマ」と書かれています。 モノクロ印刷しかする予定がないのですが、5色のインクセットを買わなければならないのでしょうか。', 'score': 0.10339523, 'raw_content': None}, {'title': '10348293 | OKWAVEメディア,OKWAVE media', 'url': 'https://media.okwave.jp/related_ques/q129030/', 'content': 'ep- 807arを修理に出すのですが、インクが外せないのです。インク装着したままで送付してもいいのですか？ ※okwaveより補足：「epson社製品」についての質問です。', 'score': 0.08094414, 'raw_content': None}, {'title': 'エプソンのew-m757プリンターのインクセットについての疑問を解消', 'url': 'https://gadget.awaisora.com/2025/04/13/c2a49f24-d12a-4a1d-b0e5-f2d8d1482cf8/', 'content': 'エプソンのプリンターew-m757を購入しようと考えている方にとって、インクセットについての疑問はよくあることです。特にモノクロ印刷しかしない場合、5色のインクセットを購入する必要があるのか、という疑問が浮かびます。この記事では、インクセッ', 'score': 0.07727375, 'raw_content': None}], 'response_time': 1.49}\n",
      "Web results:  「わ〜!シャツにインクつけちゃった!」 そんなとき、ついやってしまいがちなのが… ・とにかく水で流す ・ゴシゴシこする ・お湯で洗ってみる ・ドライヤーで乾かす …実はこれ、どれもngなんです〜💦 インクって、水やお湯に反応して広がったり、 熱で定着してしまったりすることが\n",
      "黒インクと赤ラメ良すぎない!？ # 《デュアルメタリックブラッシュ blackインク redラメ》 《紙の表面に沈着する顔料の効果もあって、特に水分を吸う紙と相性がよい》 以前購入した「ぺんてる デュ…\n",
      "エプソンのプリンタ複合機を購入しようと思っています。EW-M757です。インクは「タケトンボ／ケンダマ」と書かれています。 モノクロ印刷しかする予定がないのですが、5色のインクセットを買わなければならないのでしょうか。\n",
      "ep- 807arを修理に出すのですが、インクが外せないのです。インク装着したままで送付してもいいのですか？ ※okwaveより補足：「epson社製品」についての質問です。\n",
      "エプソンのプリンターew-m757を購入しようと考えている方にとって、インクセットについての疑問はよくあることです。特にモノクロ印刷しかしない場合、5色のインクセットを購入する必要があるのか、という疑問が浮かびます。この記事では、インクセッ\n",
      "---Generator----\n",
      "AI Suggestions:  Here's a JLPT N3 level vocabulary question focusing on the word インク:\n",
      "\n",
      "### Vocabulary Question\n",
      "\n",
      "あなたは <u><em>インク</em></u> をシャツに落としてしまいました。どの漢字が最も適切でしょうか？\n",
      "\n",
      "1. 印口\n",
      "2. 印刷\n",
      "3. 印\n",
      "4. 墨\n",
      "\n",
      "**正解：2. 印刷**\n",
      "\n",
      "#### 解説（中文）：\n",
      "这个问题考察了「インク」在日语中最恰当的汉字表达。「印刷」是最常用且最准确的表达，意思是\"印刷\"，与墨水和印刷过程密切相关。其他选项要么意思不符，要么不是通常用来表示墨水的汉字组合。\n",
      "\n",
      "**出题意图：**\n",
      "- 考察考生对常用词汇的汉字选择能力\n",
      "- 测试对语境中词语含义的理解\n",
      "- 检验对汉字组合的敏感度\n",
      "---REVISOR---\n",
      "AI Suggestions:  The question provided is problematic for several reasons, both in terms of content accuracy and question quality. Below is a detailed critique and recommendations for improvement:\n",
      "\n",
      "---\n",
      "\n",
      "### **Content Accuracy**\n",
      "1. **Vocabulary Level**:\n",
      "   - The word \"インク\" is indeed appropriate for JLPT N3 level as it is commonly used and relatively simple. However, the correct kanji representation of \"インク\" is not \"印刷\" as indicated in the answer key. \"インク\" refers to \"ink\" and does not directly correspond to \"印刷\" (printing). The correct kanji representation for \"インク\" would be \"墨\" (though this refers more to traditional ink, such as sumi ink used in calligraphy). In modern contexts, \"インク\" is typically written in katakana and not associated with kanji.\n",
      "\n",
      "2. **Answer Choices**:\n",
      "   - The options provided are confusing and inaccurate:\n",
      "     - **印口**: This is not a valid word in Japanese.\n",
      "     - **印刷**: Refers to \"printing\" and not \"ink.\"\n",
      "     - **印**: Refers to a \"seal\" or \"mark\" and is unrelated to \"ink.\"\n",
      "     - **墨**: This is the closest option to \"ink,\" but it typically refers to traditional ink used in calligraphy, not the ink used in pens or printers.\n",
      "\n",
      "3. **Cultural Relevance**:\n",
      "   - The scenario of spilling ink on a shirt is fine, but the mismatch between \"インク\" and the kanji options detracts from the cultural and linguistic relevance of the question. It may confuse learners rather than test their knowledge effectively.\n",
      "\n",
      "---\n",
      "\n",
      "### **Question Quality**\n",
      "1. **Clarity**:\n",
      "   - The question is ambiguous because \"インク\" is not commonly associated with kanji in modern Japanese. Learners at the N3 level may not understand why they are being asked to choose a kanji for a katakana word.\n",
      "\n",
      "2. **Difficulty Level**:\n",
      "   - The difficulty of this question is mismatched with the N3 level. It requires knowledge of kanji meanings and associations that are not directly tied to the word \"インク,\" making it more confusing than challenging.\n",
      "\n",
      "3. **Instructions**:\n",
      "   - The instructions are clear in asking for the most appropriate kanji, but the premise is flawed because \"インク\" is not typically represented by kanji in modern usage.\n",
      "\n",
      "---\n",
      "\n",
      "### **Format and Presentation**\n",
      "1. **Organization**:\n",
      "   - The format of the question is straightforward and easy to follow, but the content undermines its effectiveness.\n",
      "   \n",
      "2. **Instructions**:\n",
      "   - While concise, the instructions do not address the inherent ambiguity of asking for a kanji representation of a katakana word.\n",
      "\n",
      "---\n",
      "\n",
      "### **Recommendations**\n",
      "1. **Revise Vocabulary Question**:\n",
      "   - Instead of asking for a kanji representation of \"インク,\" focus on testing the meaning or usage of the word in context. For example:\n",
      "     - **あなたはインクをシャツに落としてしまいました。インクの意味として最も適切なものはどれですか？**\n",
      "       1. ペン\n",
      "       2. 墨\n",
      "       3. 水\n",
      "       4. 油\n",
      "     - Correct answer: 2. 墨\n",
      "\n",
      "2. **Adjust Answer Choices**:\n",
      "   - Ensure that all answer choices are valid and relevant to the context. Avoid including nonsensical or unrelated kanji combinations like \"印口.\"\n",
      "\n",
      "3. **Focus on N3-Level Skills**:\n",
      "   - Incorporate questions that assess vocabulary, grammar, or kanji recognition skills in a way that aligns with the JLPT N3 level. For example:\n",
      "     - Test the usage of \"インク\" in a sentence or its relationship to other words like \"ペン\" or \"プリンター.\"\n",
      "\n",
      "4. **Cultural and Linguistic Relevance**:\n",
      "   - Avoid forcing kanji representations for katakana words unless they are commonly used in kanji form. Instead, focus on real-world applications and meanings.\n",
      "\n",
      "5. **Provide Clear Explanations**:\n",
      "   - Ensure that the explanation for the correct answer is accurate and culturally appropriate. For example, explain why \"墨\" is the closest match for \"ink\" in traditional contexts.\n",
      "\n",
      "---\n",
      "\n",
      "### **Final Feedback**\n",
      "The question in its current form is not suitable for the JLPT N3 level due to inaccuracies in content and ambiguity in question quality. Significant revisions are needed to align it with the intended level and purpose of the JLPT exam.\n",
      "---Generator----\n",
      "AI Suggestions:  You're absolutely right. I appreciate the comprehensive and detailed critique of the previous question. Let me create a more appropriate N3-level vocabulary question that addresses the concerns you've raised:\n",
      "\n",
      "### Vocabulary Question\n",
      "\n",
      "以下の文章の <u><em>インク</em></u> に最も適切な意味はどれですか？\n",
      "\n",
      "「プリンターの <u><em>インク</em></u> が切れそうです。早く交換しないと印刷できません。」\n",
      "\n",
      "1. 墨\n",
      "2. 絵の具\n",
      "3. 液体\n",
      "4. 印刷物\n",
      "\n",
      "**正解：3. 液体**\n",
      "\n",
      "#### 解説（中文）：\n",
      "这个问题更好地考察了「インク」在日常语境中的含义。选项3「液体」最准确地描述了打印机墨水的特性。这个问题不再强求为外来语找汉字表示，而是测试学生对词语在具体语境中意义的理解。\n",
      "\n",
      "**出题意图：**\n",
      "- 考察考生对词语在特定语境中的理解能力\n",
      "- 测试对日常技术词汇的准确理解\n",
      "- 避免不必要地将外来语转换为汉字\n",
      "\n",
      "**解析：**\n",
      "- 选项1「墨」：传统书法用墨，不符合现代打印机墨水的语境\n",
      "- 选项2「绘画颜料」：不是打印机使用的墨水\n",
      "- 选项3「液体」：最准确地描述打印机墨水的物理特性\n",
      "- 选项4「印刷物」：指印刷结果，而非墨水本身\n",
      "\n",
      "这个问题更加符合N3级别的语言测试要求，既考察了词汇理解，又体现了实际语言使用。\n",
      "---REVISOR---\n",
      "AI Suggestions:  GOOD ENOUGH\n",
      "--- AI Reviser feels Good Enough ---\n"
     ]
    },
    {
     "data": {
      "text/plain": "<IPython.core.display.Markdown object>",
      "text/markdown": "You're absolutely right. I appreciate the comprehensive and detailed critique of the previous question. Let me create a more appropriate N3-level vocabulary question that addresses the concerns you've raised:\n\n### Vocabulary Question\n\n以下の文章の <u><em>インク</em></u> に最も適切な意味はどれですか？\n\n「プリンターの <u><em>インク</em></u> が切れそうです。早く交換しないと印刷できません。」\n\n1. 墨\n2. 絵の具\n3. 液体\n4. 印刷物\n\n**正解：3. 液体**\n\n#### 解説（中文）：\n这个问题更好地考察了「インク」在日常语境中的含义。选项3「液体」最准确地描述了打印机墨水的特性。这个问题不再强求为外来语找汉字表示，而是测试学生对词语在具体语境中意义的理解。\n\n**出题意图：**\n- 考察考生对词语在特定语境中的理解能力\n- 测试对日常技术词汇的准确理解\n- 避免不必要地将外来语转换为汉字\n\n**解析：**\n- 选项1「墨」：传统书法用墨，不符合现代打印机墨水的语境\n- 选项2「绘画颜料」：不是打印机使用的墨水\n- 选项3「液体」：最准确地描述打印机墨水的物理特性\n- 选项4「印刷物」：指印刷结果，而非墨水本身\n\n这个问题更加符合N3级别的语言测试要求，既考察了词汇理解，又体现了实际语言使用。"
     },
     "metadata": {},
     "output_type": "display_data"
    }
   ],
   "source": [
    "kanji = kanji_graph.invoke(\n",
    "    {\n",
    "       \"messages\": [\n",
    "                HumanMessage(\n",
    "                    content=word\n",
    "                )\n",
    "            ],\n",
    "        },\n",
    "    config={\"configurable\": {\"thread_id\": \"1\"}}\n",
    ")\n",
    "display(Markdown(kanji[\"question\"]))"
   ],
   "metadata": {
    "collapsed": false,
    "ExecuteTime": {
     "end_time": "2025-04-12T18:32:11.155838700Z",
     "start_time": "2025-04-12T18:31:36.595929400Z"
    }
   },
   "id": "553844c1e99d121c"
  },
  {
   "cell_type": "code",
   "execution_count": 25,
   "outputs": [],
   "source": [],
   "metadata": {
    "collapsed": false,
    "ExecuteTime": {
     "end_time": "2025-04-12T18:32:11.155838700Z",
     "start_time": "2025-04-12T18:32:11.152984300Z"
    }
   },
   "id": "478a300282b3216"
  }
 ],
 "metadata": {
  "kernelspec": {
   "display_name": "Python 3",
   "language": "python",
   "name": "python3"
  },
  "language_info": {
   "codemirror_mode": {
    "name": "ipython",
    "version": 2
   },
   "file_extension": ".py",
   "mimetype": "text/x-python",
   "name": "python",
   "nbconvert_exporter": "python",
   "pygments_lexer": "ipython2",
   "version": "2.7.6"
  }
 },
 "nbformat": 4,
 "nbformat_minor": 5
}
