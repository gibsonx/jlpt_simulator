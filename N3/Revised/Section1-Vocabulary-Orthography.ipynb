{
 "cells": [
  {
   "cell_type": "markdown",
   "id": "2b011bdf967ca7ff",
   "metadata": {
    "collapsed": false
   },
   "source": [
    "# Language Knowledge (Vocabulary)\n",
    "Duration: 30 minutes\n",
    "Content: This section tests your knowledge of Japanese vocabulary, including kanji readings, orthography, word formation, contextually-defined expressions, paraphrases, and usage\n",
    "It mainly composes following five categories:\n",
    "- ``Reading Kana`` (Pronunciation Questions): Given a kanji word, choose the correct kana reading.\n",
    "- `Writing Kanji` (Writing Questions): Given a word written in kana, choose the correct kanji representation.\n",
    "- `Word Meaning` Selection (Vocabulary Understanding): Choose the most suitable word to fill in the sentence from four options.\n",
    "- `Synonym Replacement`: Select a word that has the same or similar meaning as the underlined word.\n",
    "- `Vocabulary Usage`: Assess the usage of words in actual contexts, choosing the most appropriate word usage, including some common Japanese expressions or fixed phrases."
   ]
  },
  {
   "cell_type": "code",
   "execution_count": 41,
   "id": "7f526a68a7e73a65",
   "metadata": {
    "ExecuteTime": {
     "end_time": "2025-04-12T18:31:36.227552200Z",
     "start_time": "2025-04-12T18:31:36.208848500Z"
    },
    "collapsed": false
   },
   "outputs": [
    {
     "data": {
      "text/plain": [
       "True"
      ]
     },
     "execution_count": 41,
     "metadata": {},
     "output_type": "execute_result"
    }
   ],
   "source": [
    "import pandas as pd\n",
    "import json\n",
    "import os\n",
    "import random\n",
    "import pickle\n",
    "import re\n",
    "import uuid\n",
    "from typing import *\n",
    "from langchain_openai import AzureOpenAI,AzureChatOpenAI\n",
    "from langchain_anthropic import ChatAnthropic\n",
    "from langchain_core.prompts import ChatPromptTemplate, MessagesPlaceholder\n",
    "from dotenv import load_dotenv\n",
    "from langchain_aws import ChatBedrock\n",
    "from langchain.embeddings.base import Embeddings\n",
    "from langchain.text_splitter import CharacterTextSplitter\n",
    "from langchain_community.document_loaders import PyPDFLoader\n",
    "from langchain_community.embeddings import HuggingFaceEmbeddings\n",
    "# from langchain_community.embeddings import XinferenceEmbeddings\n",
    "from langchain_community.vectorstores import Chroma\n",
    "from langchain_openai import OpenAIEmbeddings\n",
    "from typing import Annotated, Literal, Sequence\n",
    "from typing_extensions import TypedDict\n",
    "from IPython.display import display, Markdown, Latex\n",
    "from langchain import hub\n",
    "from langchain_core.output_parsers import StrOutputParser\n",
    "from langchain_core.prompts import PromptTemplate\n",
    "from langchain_openai import ChatOpenAI\n",
    "from typing import Annotated, Sequence\n",
    "from typing_extensions import TypedDict\n",
    "from langchain_core.messages import BaseMessage,RemoveMessage,HumanMessage,AIMessage,ToolMessage\n",
    "from langgraph.graph.message import add_messages\n",
    "from pydantic import BaseModel, Field\n",
    "from langgraph.graph import END, StateGraph, START\n",
    "from langgraph.prebuilt import ToolNode\n",
    "from langgraph.prebuilt import tools_condition\n",
    "from langgraph.checkpoint.memory import MemorySaver\n",
    "from langchain.output_parsers import PydanticOutputParser\n",
    "from pydantic import BaseModel, Field, validator\n",
    "from typing import List, Optional\n",
    "from langchain_tavily import TavilySearch\n",
    "from langchain.schema import Document\n",
    "from langgraph.prebuilt import create_react_agent\n",
    "from langchain_community.tools.tavily_search import TavilySearchResults\n",
    "load_dotenv()"
   ]
  },
  {
   "cell_type": "code",
   "execution_count": 42,
   "id": "6370b4dd",
   "metadata": {},
   "outputs": [],
   "source": [
    "azure_llm = AzureChatOpenAI(\n",
    "    azure_endpoint=\"https://ai-rolandaws880125ai409947751408.openai.azure.com/openai/deployments/gpt-4o/chat/completions?api-version=2025-01-01-preview\",\n",
    "    api_key=os.environ[\"AZURE_API_KEY\"],\n",
    "    model_name=\"gpt-4o\",\n",
    "    api_version=\"2025-01-01-preview\",\n",
    "    temperature=0.5,\n",
    ")\n",
    "\n",
    "aws_llm = ChatBedrock(\n",
    "    # model_id=\"us.anthropic.claude-3-7-sonnet-20250219-v1:0\",\n",
    "     model_id=\"us.anthropic.claude-3-5-haiku-20241022-v1:0\",\n",
    "    model_kwargs=dict(temperature=0.5),\n",
    "    region = \"us-east-2\",\n",
    "    aws_access_key_id=os.environ[\"AWS_ACCESS_KEY_ID\"],\n",
    "    aws_secret_access_key=os.environ[\"AWS_SECRET_ACCESS_KEY\"],\n",
    ")"
   ]
  },
  {
   "cell_type": "code",
   "execution_count": 43,
   "id": "initial_id",
   "metadata": {
    "ExecuteTime": {
     "end_time": "2025-04-12T18:31:36.249058900Z",
     "start_time": "2025-04-12T18:31:36.214351Z"
    },
    "collapsed": false
   },
   "outputs": [],
   "source": [
    "# Import N3 Vocabulary\n",
    "file_path = '../../Vocab/n3.csv'\n",
    "# Read the CSV file\n",
    "data = pd.read_csv(file_path)\n",
    "words = data.iloc[:, :2].sample(frac=1).reset_index(drop=True)\n",
    "# Display the content of the CSV file\n",
    "words.head()\n",
    "vocab_dict = words.set_index(words.columns[0])[words.columns[1]].to_dict()\n",
    "vocab_dict = json.dumps(vocab_dict, ensure_ascii=False, separators=(',', ':'))"
   ]
  },
  {
   "cell_type": "markdown",
   "id": "4c1cdce8b1f57ef3",
   "metadata": {
    "collapsed": false
   },
   "source": [
    "#### load Models"
   ]
  },
  {
   "cell_type": "markdown",
   "id": "385c63b54b5c2a36",
   "metadata": {
    "collapsed": false
   },
   "source": [
    "#### Exam Paper Outline\n",
    "### A. overall thinking the structure of an exam\n",
    "1. distribution of the difficulty \n",
    "2. topics\n",
    "3. reasoning"
   ]
  },
  {
   "cell_type": "markdown",
   "id": "fed5f032dadafac1",
   "metadata": {
    "collapsed": false
   },
   "source": [
    "## Data Strcuture"
   ]
  },
  {
   "cell_type": "markdown",
   "id": "5795bb3d95c0cc50",
   "metadata": {
    "collapsed": false
   },
   "source": [
    "# Kanji 读假名（读音问题）"
   ]
  },
  {
   "cell_type": "code",
   "execution_count": 44,
   "id": "252ffacd6ebb7b37",
   "metadata": {
    "ExecuteTime": {
     "end_time": "2025-04-12T18:31:36.250060900Z",
     "start_time": "2025-04-12T18:31:36.227552200Z"
    },
    "collapsed": false
   },
   "outputs": [],
   "source": [
    "def online_search(state):\n",
    "    \"\"\"\n",
    "    Web search based on the re-phrased question.\n",
    "\n",
    "    Args:\n",
    "        state (dict): The current graph state\n",
    "\n",
    "    Returns:\n",
    "        state (dict): Updates documents key with appended web results\n",
    "    \"\"\"\n",
    "    \n",
    "    print(\"---WEB SEARCH---\")\n",
    "    \n",
    "    topic = state['messages'][0].content\n",
    "    \n",
    "    tavily_search_tool = TavilySearch(\n",
    "        max_results=5,\n",
    "        topic=\"general\",\n",
    "        time_range=\"day\",\n",
    "    )\n",
    "    # Web search\n",
    "    docs = tavily_search_tool.invoke({\"query\": topic})\n",
    "    \n",
    "    print(docs)\n",
    "\n",
    "    web_results = \"\\n\".join([d[\"content\"] for d in docs[\"results\"]])\n",
    "    \n",
    "    print(\"Web results: \", web_results)\n",
    "\n",
    "    return {\"documents\": web_results, \"topic\": topic}"
   ]
  },
  {
   "cell_type": "code",
   "execution_count": 45,
   "id": "1a966afd733d860d",
   "metadata": {
    "ExecuteTime": {
     "end_time": "2025-04-12T18:31:36.251060Z",
     "start_time": "2025-04-12T18:31:36.231964200Z"
    },
    "collapsed": false
   },
   "outputs": [],
   "source": [
    "from typing_extensions import TypedDict\n",
    "from langgraph.graph import StateGraph, START, END\n",
    "from IPython.display import Image, display\n",
    "\n",
    "\n",
    "# Graph state\n",
    "class QuestionState(TypedDict):\n",
    "    topic: str\n",
    "    question: str\n",
    "    documents: str\n",
    "    messages: Annotated[list, add_messages]\n",
    "\n",
    "\n",
    "example = \"\"\"\n",
    "9. ここから じゅんばん に見てください。\n",
    "\t1.\t順番\n",
    "\t2.\t項番\n",
    "\t3.\t順落\n",
    "\t4.\t項落\n",
    "\n",
    "10. 父は銀行に つとめて います。\n",
    "\t1.\t勧めて\n",
    "\t2.\t勤めて\n",
    "\t3.\t仕めて\n",
    "\t4.\t労めて\n",
    "\n",
    "11. ポケットが さゆう にあるんですね。\n",
    "\t1.\t裏表\n",
    "\t2.\t右左\n",
    "\t3.\t表裏\n",
    "\t4.\t左右\n",
    "\n",
    "12. 昨日の試合は まけて しまいました。\n",
    "\t1.\t退けて\n",
    "\t2.\t負けて\n",
    "\t3.\t失けて\n",
    "\t4.\t欠けて\n",
    "\n",
    "13. かこの 例も調べてみましょう。\n",
    "\t1.\t適去\n",
    "\t2.\t過古\n",
    "\t3.\t過去\n",
    "\t4.\t適古\n",
    "\n",
    "14. この資料はページが ぎゃく になっていますよ。\n",
    "\t1.\t達\n",
    "\t2.\t変\n",
    "\t3.\t逆\n",
    "\t4.\t別\n",
    "\"\"\"\n",
    "\n",
    "# Nodes\n",
    "def question_draft_generator(state: QuestionState):\n",
    "    \"\"\"First LLM call to generate initial question\"\"\"\n",
    "    print(\"---Generator----\")\n",
    "        \n",
    "    search_result = state['documents'],\n",
    "    \n",
    "    prompt = ChatPromptTemplate.from_messages(\n",
    "        [\n",
    "            (\n",
    "                \"system\",\n",
    "                \"\"\"\n",
    "                    You are a Japanese teacher. Your job is to write a vocabulary question for candidates to identify the correct kanji writing of a given word in hiragana for a JLPT N3 level exam paper. Each question presents a word in hiragana within a sentence, and candidates must choose the correct kanji representation from four options. The options should include one correct kanji form and three distractors that are plausible but incorrect. The JLPT exam paper includes a mix of easy, moderate, and difficult questions to accurately assess the test-taker’s proficiency across different aspects of the language.\n",
    "                    The vocabulary should be restricted to N3 level, use the vocabulary in the `Dictionary` as much as you can.\n",
    "                    \n",
    "                    Please refer to the question examples following the formal exam paper. please highlight the word to ask candidate with <u><em></em></u>.\n",
    "                    Append the correct answer and explanation of the main challenges on why the teacher asks this question to the candidate  at each question.\n",
    "                    Finally, output beautiful markdown format.\n",
    "                    Dictionary: {vocab_dict}\n",
    "                    Search result: {search_result}\n",
    "                    Formal exam paper: {example}\n",
    "                \"\"\"\n",
    "            ),\n",
    "            MessagesPlaceholder(variable_name=\"messages\"),\n",
    "        ]\n",
    "    )\n",
    "\n",
    "    input = { \"topic\" : state['topic'],\n",
    "              \"search_result\": search_result, \n",
    "              \"vocab_dict\": vocab_dict,\n",
    "              \"example\": example,\n",
    "              \"messages\": state[\"messages\"]\n",
    "              }\n",
    "    # final_message = prompt.format_messages(**input)\n",
    "    # print(final_message)\n",
    "    \n",
    "    generate = prompt | azure_llm\n",
    "    \n",
    "    res = generate.invoke(input=input)\n",
    "    \n",
    "    print(\"---AI Generator---: \", res.content)\n",
    "    \n",
    "    return {\"question\": res.content, \"messages\": [AIMessage(content=res.content)] }\n",
    "\n",
    "def reflection_node(state: QuestionState) -> QuestionState:\n",
    "    print(\"---REVISOR---\")\n",
    "    \n",
    "    # Other messages we need to adjust\n",
    "    cls_map = {\"ai\": HumanMessage, \"human\": AIMessage}\n",
    "    # First message is the original user request. We hold it the same for all nodes\n",
    "    translated = [state[\"messages\"][0]] + [\n",
    "        cls_map[msg.type](content=msg.content) for msg in state[\"messages\"][1:]\n",
    "    ]\n",
    "\n",
    "    reflection_prompt = ChatPromptTemplate.from_messages(\n",
    "    [\n",
    "        (\n",
    "            \"system\",\n",
    "            \"\"\"you are a Japanese language educator reviewing a JLPT exam paper. Generate critique and recommendations for the user's submission.\n",
    "            the review focuses on content accuracy and question quality. \n",
    "            - For content accuracy, you must verify that the grammar and vocabulary questions accurately reflect the appropriate JLPT N3 level, ensuring the reading passages are clear, relevant, and appropriately challenging. \n",
    "            - For question quality, you must ensure all questions are clearly worded and free from ambiguity to comprehensively assess different language skills, and confirm that the difficulty level of the questions matches the intended JLPT N3 level.\n",
    "            - During detailed refinement, you check the format and presentation of the paper, ensuring it is well-organized and the instructions are clear and concise. you also ensure the content is culturally appropriate and relevant to Japanese language and culture.\n",
    "            - Finally, you make give feedback, providing detailed recommendations, including requests.If you think the exam paper is good enough, you just say \"GOOD ENOUGH\" and not to output anything else.\n",
    "            \"\"\"\n",
    "        ),\n",
    "            MessagesPlaceholder(variable_name=\"messages\"),\n",
    "        ]\n",
    "    )\n",
    "    reflect = reflection_prompt | azure_llm\n",
    "    \n",
    "    res = reflect.invoke(translated)\n",
    "    \n",
    "    print(\"AI Suggestions: \",res.content)\n",
    "    \n",
    "    # We treat the output of this as human feedback for the generator\n",
    "    return {\"messages\": [HumanMessage(content=res.content)]}\n",
    "\n"
   ]
  },
  {
   "cell_type": "code",
   "execution_count": 46,
   "id": "30e802dc904d791c",
   "metadata": {
    "ExecuteTime": {
     "end_time": "2025-04-12T18:31:36.597949300Z",
     "start_time": "2025-04-12T18:31:36.240059400Z"
    },
    "collapsed": false
   },
   "outputs": [],
   "source": [
    "# Build workflow\n",
    "builder = StateGraph(QuestionState)\n",
    "\n",
    "builder.add_node(\"online_search\", online_search)\n",
    "builder.add_node(\"generator\", question_draft_generator)\n",
    "builder.add_node(\"reflector\", reflection_node)\n",
    "# Add nodes\n",
    "\n",
    "def should_continue(state: QuestionState):\n",
    "    if state[\"messages\"]:\n",
    "        if len(state[\"messages\"]) > 6: \n",
    "            print(\"--- Reach the Maximum Round ---\")\n",
    "            return END\n",
    "        elif \"GOOD ENOUGH\" in state[\"messages\"][-1].content:\n",
    "            print(\"--- AI Reviser feels Good Enough ---\")\n",
    "            return END\n",
    "    return \"generator\"\n",
    "\n",
    "# Add edges to connect nodes\n",
    "builder.add_edge(START, \"online_search\")\n",
    "builder.add_edge(\"online_search\", \"generator\")\n",
    "builder.add_edge(\"generator\",\"reflector\")\n",
    "# \n",
    "builder.add_conditional_edges(\"reflector\", should_continue)\n",
    "memory = MemorySaver()\n",
    "\n",
    "# Compile\n",
    "kanji_graph = builder.compile()\n",
    "\n",
    "# Show workflow\n",
    "# display(Image(kanji_graph.get_graph().draw_png()))"
   ]
  },
  {
   "cell_type": "code",
   "execution_count": 47,
   "id": "eec5f157c924be8b",
   "metadata": {
    "ExecuteTime": {
     "end_time": "2025-04-12T18:31:36.598454100Z",
     "start_time": "2025-04-12T18:31:36.590161Z"
    },
    "collapsed": false
   },
   "outputs": [
    {
     "name": "stderr",
     "output_type": "stream",
     "text": [
      "C:\\Users\\HW-BK003\\AppData\\Local\\Temp\\ipykernel_5020\\846002302.py:2: FutureWarning: Series.__getitem__ treating keys as positions is deprecated. In a future version, integer keys will always be treated as labels (consistent with DataFrame behavior). To access a value by position, use `ser.iloc[pos]`\n",
      "  word = f\"{row[0]}({row[1]})\"\n"
     ]
    },
    {
     "data": {
      "text/plain": [
       "'進学(しんがく)'"
      ]
     },
     "execution_count": 47,
     "metadata": {},
     "output_type": "execute_result"
    }
   ],
   "source": [
    "row = words.iloc[1]\n",
    "word = f\"{row[0]}({row[1]})\"\n",
    "word"
   ]
  },
  {
   "cell_type": "code",
   "execution_count": null,
   "id": "553844c1e99d121c",
   "metadata": {
    "ExecuteTime": {
     "end_time": "2025-04-12T18:32:11.155838700Z",
     "start_time": "2025-04-12T18:31:36.595929400Z"
    },
    "collapsed": false
   },
   "outputs": [
    {
     "name": "stdout",
     "output_type": "stream",
     "text": [
      "---WEB SEARCH---\n",
      "{'query': '購入したい商品の説明', 'follow_up_questions': None, 'answer': None, 'images': [], 'results': [{'title': '限定品とは？魅力と特別感を知ろう!共起語・同意語も併せて ...', 'url': 'https://toha.fromation.co.jp/archives/16248', 'content': '限定品とは特別に作られた商品であり、数量や期間が限られているものです特別なデザインや希少価値が人気の理由で、購入には情報チェックが重要です共起語・同意語・対義語・関連用語も併せてわかりやすく解説します!', 'score': 0.103776075, 'raw_content': None}, {'title': '「コスメの買い方とレビューに関する調査」結果発表：Ec利用者 ...', 'url': 'https://www.fnn.jp/articles/-/857185', 'content': '「前向きな気持ちで購入したい」一方「良いレビューしかないとそれはそれで心配」という意見も 多くのECに取り入れられている「レビュー」について、どれくらい見ているかも聞いたところ、4割以上が「毎回見る（41.4％）」ことが', 'score': 0.0865164, 'raw_content': None}, {'title': '「コスメの買い方とレビューに関する調査」結果発表：Ec利用者 ...', 'url': 'https://www.asahi.com/and/pressrelease/425599169/', 'content': 'コスメの買い方とECの未来について20代～30代女性に調査：コスメを買い替えるタイミング1位は4月! レビューをまとめる機能があったら、7割以上', 'score': 0.062680244, 'raw_content': None}, {'title': '製品戦略とは？成功する商品開発の秘訣を徹底解説!共起語 ...', 'url': 'https://toha.fromation.co.jp/archives/15961', 'content': '製品戦略は企業が市場で成功するために行う計画で、商品をどう作り、販売するかを決める重要な要素です顧客ニーズの理解や、商品開発、マーケティング戦略、価格設定などが含まれ、成功するための鍵となります共起語・同意語・対義語・関連用語も併せてわかりやすく解説します!', 'score': 0.04229698, 'raw_content': None}, {'title': '新商品のマーケティングは初動が成功の鍵!10億枚のレシート ...', 'url': 'https://markezine.jp/article/detail/48561', 'content': '新商品や新ブランドを市場に投入した直後は、大々的なプロモーションの効果も相まって好調な売れ行きを示すだろう。しかしながら、その勢いを維持してリピート購入へとつなげるためには、初動の反応を正確に読み取り、最適な手を打つ必要がある。MarkeZine Day 2025 Springでは、レシート', 'score': 0.039896227, 'raw_content': None}], 'response_time': 1.92}\n",
      "Web results:  限定品とは特別に作られた商品であり、数量や期間が限られているものです特別なデザインや希少価値が人気の理由で、購入には情報チェックが重要です共起語・同意語・対義語・関連用語も併せてわかりやすく解説します!\n",
      "「前向きな気持ちで購入したい」一方「良いレビューしかないとそれはそれで心配」という意見も 多くのECに取り入れられている「レビュー」について、どれくらい見ているかも聞いたところ、4割以上が「毎回見る（41.4％）」ことが\n",
      "コスメの買い方とECの未来について20代～30代女性に調査：コスメを買い替えるタイミング1位は4月! レビューをまとめる機能があったら、7割以上\n",
      "製品戦略は企業が市場で成功するために行う計画で、商品をどう作り、販売するかを決める重要な要素です顧客ニーズの理解や、商品開発、マーケティング戦略、価格設定などが含まれ、成功するための鍵となります共起語・同意語・対義語・関連用語も併せてわかりやすく解説します!\n",
      "新商品や新ブランドを市場に投入した直後は、大々的なプロモーションの効果も相まって好調な売れ行きを示すだろう。しかしながら、その勢いを維持してリピート購入へとつなげるためには、初動の反応を正確に読み取り、最適な手を打つ必要がある。MarkeZine Day 2025 Springでは、レシート\n",
      "---Generator----\n",
      "---AI Generator---:  ### 質問: 購入したい商品の説明\n",
      "\n",
      "#### 文: \n",
      "「限定品とは特別に作られた商品であり、数量や期間が<u><em>限られて</em></u>いるものです。」\n",
      "\n",
      "#### 選択肢:\n",
      "1. 限界  \n",
      "2. 限定  \n",
      "3. 限る  \n",
      "4. 限度  \n",
      "\n",
      "---\n",
      "\n",
      "### 正解: **2. 限定**\n",
      "\n",
      "#### 答案解释:\n",
      "- **正确答案是“限定”**，因为该词符合句子中描述的“特定数量或时间限制的商品”的含义。\n",
      "- **错误选项分析**：\n",
      "  - **限界**：指极限或边界，与商品的时间或数量限制无关。\n",
      "  - **限る**：是动词“限制”，但在此需要名词形式。\n",
      "  - **限度**：通常指限制的程度或范围，但不适用于描述商品的性质。\n",
      "\n",
      "#### 为什么提出这个问题:\n",
      "此问题的难点在于考生需要理解“限定”作为名词在语境中的具体含义，并区分与其他近义词的用法。这是JLPT N3级别考生常见的词汇辨析问题。\n",
      "\n",
      "\n",
      "---REVISOR---\n",
      "AI Suggestions:  ### Review of Submission: 購入したい商品の説明\n",
      "\n",
      "#### **Content Accuracy**\n",
      "1. **Grammar and Vocabulary:**\n",
      "   - The sentence provided, \"限定品とは特別に作られた商品であり、数量や期間が限られているものです,\" is grammatically correct and appropriate for the JLPT N3 level. It uses vocabulary and grammar structures that are typical for this level, such as the passive form \"限られている.\"\n",
      "   - The focus on the word \"限定\" aligns well with the N3 vocabulary scope, as it is a common term used in everyday contexts and fits the level of complexity expected at this stage.\n",
      "\n",
      "2. **Relevance and Clarity of the Reading Passage:**\n",
      "   - The reading passage is concise, clear, and culturally relevant, as limited-edition products are a common concept in Japan. This provides an authentic context for learners to engage with the language.\n",
      "   - The passage introduces a realistic scenario that N3 learners might encounter, making it both practical and educational.\n",
      "\n",
      "#### **Question Quality**\n",
      "1. **Clarity and Ambiguity:**\n",
      "   - The question is clearly worded, with no ambiguity in the phrasing. The sentence provides sufficient context for learners to understand the meaning and choose the correct answer.\n",
      "   - The distractor options (限界, 限る, 限度) are well-chosen and appropriately challenging for N3 learners, as they require a nuanced understanding of similar terms.\n",
      "\n",
      "2. **Difficulty Level:**\n",
      "   - The difficulty level is appropriate for N3. It tests the learner's ability to differentiate between related vocabulary, which is a key skill at this stage.\n",
      "   - The explanation provided for the correct answer and the analysis of the incorrect options are thorough and helpful, aiding learners in understanding why \"限定\" is the correct choice.\n",
      "\n",
      "#### **Format and Presentation**\n",
      "1. **Organization:**\n",
      "   - The question is well-structured, with a clear division between the sentence, choices, and explanation. This makes it easy for learners to follow.\n",
      "   - The use of underlining and emphasis in the sentence (\"<u><em>限られて</em></u>\") helps draw attention to the key part of the sentence without being overly distracting.\n",
      "\n",
      "2. **Instructions:**\n",
      "   - The instructions are clear and concise. Learners can easily understand what is expected of them.\n",
      "\n",
      "3. **Cultural Appropriateness:**\n",
      "   - The content is culturally appropriate and relevant to Japanese language and culture. The concept of \"限定品\" reflects a common cultural phenomenon in Japan, making it both engaging and educational.\n",
      "\n",
      "#### **Recommendations**\n",
      "1. While the question is strong overall, consider adding a slightly longer reading passage or context to make the question more engaging and challenging. For example, include a brief scenario about a customer shopping for limited-edition items.\n",
      "2. Ensure the font and formatting are consistent throughout the exam paper. For example, the use of underlining and emphasis is helpful here but should be standardized across all questions.\n",
      "3. Include a brief note or hint about the cultural significance of \"限定品\" in Japan to enrich the learner's understanding of the term.\n",
      "\n",
      "### Final Assessment:  \n",
      "**GOOD ENOUGH**\n",
      "--- AI Reviser feels Good Enough ---\n"
     ]
    },
    {
     "data": {
      "text/markdown": [
       "### 質問: 購入したい商品の説明\n",
       "\n",
       "#### 文: \n",
       "「限定品とは特別に作られた商品であり、数量や期間が<u><em>限られて</em></u>いるものです。」\n",
       "\n",
       "#### 選択肢:\n",
       "1. 限界  \n",
       "2. 限定  \n",
       "3. 限る  \n",
       "4. 限度  \n",
       "\n",
       "---\n",
       "\n",
       "### 正解: **2. 限定**\n",
       "\n",
       "#### 答案解释:\n",
       "- **正确答案是“限定”**，因为该词符合句子中描述的“特定数量或时间限制的商品”的含义。\n",
       "- **错误选项分析**：\n",
       "  - **限界**：指极限或边界，与商品的时间或数量限制无关。\n",
       "  - **限る**：是动词“限制”，但在此需要名词形式。\n",
       "  - **限度**：通常指限制的程度或范围，但不适用于描述商品的性质。\n",
       "\n",
       "#### 为什么提出这个问题:\n",
       "此问题的难点在于考生需要理解“限定”作为名词在语境中的具体含义，并区分与其他近义词的用法。这是JLPT N3级别考生常见的词汇辨析问题。\n",
       "\n"
      ],
      "text/plain": [
       "<IPython.core.display.Markdown object>"
      ]
     },
     "metadata": {},
     "output_type": "display_data"
    }
   ],
   "source": [
    "kanji = kanji_graph.invoke(\n",
    "    {\n",
    "       \"messages\": [\n",
    "                HumanMessage(\n",
    "                    content=word\n",
    "                )\n",
    "            ],\n",
    "        },\n",
    "    config={\"configurable\": {\"thread_id\": \"1\"}}\n",
    ")\n",
    "display(Markdown(kanji[\"question\"]))"
   ]
  },
  {
   "cell_type": "code",
   "execution_count": null,
   "id": "478a300282b3216",
   "metadata": {
    "ExecuteTime": {
     "end_time": "2025-04-12T18:32:11.155838700Z",
     "start_time": "2025-04-12T18:32:11.152984300Z"
    },
    "collapsed": false
   },
   "outputs": [],
   "source": []
  }
 ],
 "metadata": {
  "kernelspec": {
   "display_name": ".venv",
   "language": "python",
   "name": "python3"
  },
  "language_info": {
   "codemirror_mode": {
    "name": "ipython",
    "version": 2
   },
   "file_extension": ".py",
   "mimetype": "text/x-python",
   "name": "python",
   "nbconvert_exporter": "python",
   "pygments_lexer": "ipython2",
   "version": "3.13.2"
  }
 },
 "nbformat": 4,
 "nbformat_minor": 5
}
