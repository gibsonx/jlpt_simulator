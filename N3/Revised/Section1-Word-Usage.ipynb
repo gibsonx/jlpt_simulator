{
 "cells": [
  {
   "cell_type": "markdown",
   "source": [
    "# Language Knowledge (Vocabulary)\n",
    "Duration: 30 minutes\n",
    "Content: This section tests your knowledge of Japanese vocabulary, including kanji readings, orthography, word formation, contextually-defined expressions, paraphrases, and usage\n",
    "It mainly composes following five categories:\n",
    "- ``Reading Kana`` (Pronunciation Questions): Given a kanji word, choose the correct kana reading.\n",
    "- `Writing Kanji` (Writing Questions): Given a word written in kana, choose the correct kanji representation.\n",
    "- `Word Meaning` Selection (Vocabulary Understanding): Choose the most suitable word to fill in the sentence from four options.\n",
    "- `Synonym Replacement`: Select a word that has the same or similar meaning as the underlined word.\n",
    "- `Vocabulary Usage`: Assess the usage of words in actual contexts, choosing the most appropriate word usage, including some common Japanese expressions or fixed phrases."
   ],
   "metadata": {
    "collapsed": false
   },
   "id": "2b011bdf967ca7ff"
  },
  {
   "cell_type": "code",
   "execution_count": 28,
   "outputs": [
    {
     "data": {
      "text/plain": "True"
     },
     "execution_count": 28,
     "metadata": {},
     "output_type": "execute_result"
    }
   ],
   "source": [
    "import pandas as pd\n",
    "import json\n",
    "import os\n",
    "import random\n",
    "import pickle\n",
    "import re\n",
    "import uuid\n",
    "from typing import *\n",
    "from langchain_openai import AzureOpenAI,AzureChatOpenAI\n",
    "from langchain_anthropic import ChatAnthropic\n",
    "from langchain_core.prompts import ChatPromptTemplate, MessagesPlaceholder\n",
    "from dotenv import load_dotenv\n",
    "from langchain_aws import ChatBedrock\n",
    "from langchain.embeddings.base import Embeddings\n",
    "from langchain.text_splitter import CharacterTextSplitter\n",
    "from langchain_community.document_loaders import PyPDFLoader\n",
    "from langchain_community.embeddings import HuggingFaceEmbeddings\n",
    "# from langchain_community.embeddings import XinferenceEmbeddings\n",
    "from langchain_community.vectorstores import Chroma\n",
    "from langchain_openai import OpenAIEmbeddings\n",
    "from typing import Annotated, Literal, Sequence\n",
    "from typing_extensions import TypedDict\n",
    "from IPython.display import display, Markdown, Latex\n",
    "from langchain import hub\n",
    "from langchain_core.output_parsers import StrOutputParser\n",
    "from langchain_core.prompts import PromptTemplate\n",
    "from langchain_openai import ChatOpenAI\n",
    "from typing import Annotated, Sequence\n",
    "from typing_extensions import TypedDict\n",
    "from langchain_core.messages import BaseMessage,RemoveMessage,HumanMessage,AIMessage,ToolMessage\n",
    "from langgraph.graph.message import add_messages\n",
    "from pydantic import BaseModel, Field\n",
    "from langgraph.graph import END, StateGraph, START\n",
    "from langgraph.prebuilt import ToolNode\n",
    "from langgraph.prebuilt import tools_condition\n",
    "from langgraph.checkpoint.memory import MemorySaver\n",
    "from langchain.output_parsers import PydanticOutputParser\n",
    "from pydantic import BaseModel, Field, validator\n",
    "from typing import List, Optional\n",
    "from langchain_tavily import TavilySearch\n",
    "from langchain.schema import Document\n",
    "from langgraph.prebuilt import create_react_agent\n",
    "from langchain_community.tools.tavily_search import TavilySearchResults\n",
    "from Libs.LLMs import azure_llm, aws_llm\n",
    "load_dotenv()"
   ],
   "metadata": {
    "collapsed": false,
    "ExecuteTime": {
     "end_time": "2025-04-12T09:43:07.028489400Z",
     "start_time": "2025-04-12T09:43:06.981650300Z"
    }
   },
   "id": "7f526a68a7e73a65"
  },
  {
   "cell_type": "code",
   "execution_count": 29,
   "outputs": [],
   "source": [
    "# Import N3 Vocabulary\n",
    "file_path = '../../Vocab/n3.csv'\n",
    "# Read the CSV file\n",
    "data = pd.read_csv(file_path)\n",
    "words = data.iloc[:, :2].sample(frac=1).reset_index(drop=True)\n",
    "# Display the content of the CSV file\n",
    "words.head()\n",
    "vocab_dict = words.set_index(words.columns[0])[words.columns[1]].to_dict()\n",
    "vocab_dict = json.dumps(vocab_dict, ensure_ascii=False, separators=(',', ':'))"
   ],
   "metadata": {
    "collapsed": false,
    "ExecuteTime": {
     "end_time": "2025-04-12T09:43:07.057748400Z",
     "start_time": "2025-04-12T09:43:06.988772400Z"
    }
   },
   "id": "initial_id"
  },
  {
   "cell_type": "markdown",
   "source": [
    "#### load Models"
   ],
   "metadata": {
    "collapsed": false
   },
   "id": "4c1cdce8b1f57ef3"
  },
  {
   "cell_type": "markdown",
   "source": [
    "#### Exam Paper Outline\n",
    "### A. overall thinking the structure of an exam\n",
    "1. distribution of the difficulty \n",
    "2. topics\n",
    "3. reasoning"
   ],
   "metadata": {
    "collapsed": false
   },
   "id": "385c63b54b5c2a36"
  },
  {
   "cell_type": "markdown",
   "source": [
    "## Data Strcuture"
   ],
   "metadata": {
    "collapsed": false
   },
   "id": "fed5f032dadafac1"
  },
  {
   "cell_type": "markdown",
   "source": [
    "# Kanji 读假名（读音问题）"
   ],
   "metadata": {
    "collapsed": false
   },
   "id": "5795bb3d95c0cc50"
  },
  {
   "cell_type": "code",
   "outputs": [],
   "source": [
    "def online_search(state):\n",
    "    \"\"\"\n",
    "    Web search based on the re-phrased question.\n",
    "\n",
    "    Args:\n",
    "        state (dict): The current graph state\n",
    "\n",
    "    Returns:\n",
    "        state (dict): Updates documents key with appended web results\n",
    "    \"\"\"\n",
    "    \n",
    "    print(\"---WEB SEARCH---\")\n",
    "    \n",
    "    topic = state['messages'][0].content\n",
    "    \n",
    "    tavily_search_tool = TavilySearch(\n",
    "        max_results=5,\n",
    "        topic=\"news\",\n",
    "        days=1\n",
    "    )\n",
    "    # Web search\n",
    "    docs = tavily_search_tool.invoke({\"query\": topic})\n",
    "    \n",
    "    print(docs)\n",
    "\n",
    "    web_results = \"\\n\".join([d[\"content\"] for d in docs[\"results\"]])\n",
    "    \n",
    "    print(\"Web results: \", web_results)\n",
    "\n",
    "    return {\"documents\": web_results, \"topic\": topic}"
   ],
   "metadata": {
    "collapsed": false,
    "ExecuteTime": {
     "end_time": "2025-04-12T09:43:07.057748400Z",
     "start_time": "2025-04-12T09:43:07.001171700Z"
    }
   },
   "id": "252ffacd6ebb7b37",
   "execution_count": 30
  },
  {
   "cell_type": "code",
   "outputs": [],
   "source": [
    "from typing_extensions import TypedDict\n",
    "from langgraph.graph import StateGraph, START, END\n",
    "from IPython.display import Image, display\n",
    "\n",
    "\n",
    "# Graph state\n",
    "class QuestionState(TypedDict):\n",
    "    topic: str\n",
    "    question: str\n",
    "    documents: str\n",
    "    messages: Annotated[list, add_messages]\n",
    "\n",
    "\n",
    "example = \"\"\"\n",
    "問題5\n",
    "つぎのことばの使い方として最もよいものを、1・2・3・4から一つえらびなさい。\n",
    "31. 内容\n",
    "\t1.\t修理のため、エアコンの内容を一度取り出します\n",
    "\t2.\t鍋の中にカレーの内容を入れて、1時間くらい煮てください\n",
    "\t3.\t古い財布から新しい財布へ内容を移しました\n",
    "\t4.\tこの手紙の内容は、ほかの人には秘密にしてください\n",
    "\n",
    "32. 活動\n",
    "\t1.\t彼は有名なロック歌手だったが、今は活動していない\n",
    "\t2.\t山に登ると、新鮮な空気が活動していて気持ちがいい\n",
    "\t3.\tさっきまで活動していたパソコンが、急に動かなくなった\n",
    "\t4.\t駅前のコンビニは24時間活動しているので便利だ\n",
    "\n",
    "33. 落ち着く\n",
    "\t1.\tこの辺りは、冬になると雪が落ち着いて、春になるまで溶けません\n",
    "\t2.\tシャツにしみが落ち着いてしまって、洗ってもきれいになりません\n",
    "\t3.\tあそこの木の上に美しい鳥が落ち着いています\n",
    "\t4.\t大好きなこの曲を聞くと、いつも気持ちが落ち着きます\n",
    "\n",
    "34. ぐっすり\n",
    "\t1.\t遠慮しないで、ぐっすり食べてください\n",
    "\t2.\t優勝できたのは、毎日ぐっすり練習したからだと思う\n",
    "\t3.\t今日は疲れているので、朝までぐっすり眠れそうだ\n",
    "\t4.\t古い友人と久しぶりに会って、ぐっすりおしゃべりした\n",
    "\n",
    "35. 性格\n",
    "\t1.\t日本の古い性格に興味があるので、神社やお寺によく行きます\n",
    "\t2.\t森さんはおとなしい性格で、自分の意見はあまり言いません\n",
    "\t3.\t値段が高くても、塗装で性格のいい車を買うつもりです\n",
    "\t4.\t音楽の性格を伸ばすために、5歳から専門家の指導を受けました\n",
    "\"\"\"\n",
    "\n",
    "# Nodes\n",
    "def question_draft_generator(state: QuestionState):\n",
    "    \"\"\"First LLM call to generate initial question\"\"\"\n",
    "    print(\"---Generator----\")\n",
    "        \n",
    "    search_result = state['documents'],\n",
    "    \n",
    "    prompt = ChatPromptTemplate.from_messages(\n",
    "        [\n",
    "            (\n",
    "                \"system\",\n",
    "                \"\"\"\n",
    "                    You are a japanese teacher. Your job is disordered sentences require selecting the correct arrangement order.\n",
    "                    The vocabulary should be restricted to N3 level, use the vocabulary in the `Dictionary` as much as you can.\n",
    "                    Please refer to the question examples following the formal exam paper. please highlight the word to ask candidate with <u><em></em></u>.\n",
    "                    Append the correct answer and explanation of the main challenges on why the teacher asks this question to the candidate  at each question.\n",
    "                    Finally, output beautiful markdown format.\n",
    "                    Dictionary: {vocab_dict}\n",
    "                    Search result: {search_result}\n",
    "                    Formal exam paper: {example}\n",
    "                \"\"\"\n",
    "            ),\n",
    "            MessagesPlaceholder(variable_name=\"messages\"),\n",
    "        ]\n",
    "    )\n",
    "\n",
    "    \n",
    "    input = { \"topic\" : state['topic'],\n",
    "              \"search_result\": search_result, \n",
    "              \"vocab_dict\": vocab_dict,\n",
    "              \"example\": example,\n",
    "              \"messages\": state[\"messages\"]\n",
    "              }\n",
    "    # final_message = prompt.format_messages(**input)\n",
    "    # print(final_message)\n",
    "    \n",
    "    generate = prompt | azure_llm\n",
    "    \n",
    "    msg = generate.invoke(input=input)\n",
    "    \n",
    "    \n",
    "    return {\"question\": msg.content, \"messages\": [AIMessage(content=msg.content)] }\n",
    "\n",
    "\n",
    "def reflection_node(state: QuestionState) -> QuestionState:\n",
    "    print(\"---REVISOR---\")\n",
    "    \n",
    "    # Other messages we need to adjust\n",
    "    cls_map = {\"ai\": HumanMessage, \"human\": AIMessage}\n",
    "    # First message is the original user request. We hold it the same for all nodes\n",
    "    translated = [state[\"messages\"][0]] + [\n",
    "        cls_map[msg.type](content=msg.content) for msg in state[\"messages\"][1:]\n",
    "    ]\n",
    "\n",
    "    reflection_prompt = ChatPromptTemplate.from_messages(\n",
    "    [\n",
    "        (\n",
    "            \"system\",\n",
    "            \"\"\"you are a Japanese language educator reviewing a JLPT exam paper. Generate critique and recommendations for the user's submission.\n",
    "            the review focuses on content accuracy and question quality. \n",
    "            - For content accuracy, you must verify that the grammar and vocabulary questions accurately reflect the appropriate JLPT N3 level, ensuring the reading passages are clear, relevant, and appropriately challenging. \n",
    "            - For question quality, you must ensure all questions are clearly worded and free from ambiguity to comprehensively assess different language skills, and confirm that the difficulty level of the questions matches the intended JLPT N3 level.\n",
    "            - During detailed refinement, you check the format and presentation of the paper, ensuring it is well-organized and the instructions are clear and concise. you also ensure the content is culturally appropriate and relevant to Japanese language and culture.\n",
    "            - Finally, you make give feedback, providing detailed recommendations, including requests.If you think the exam paper is good enough, you just say \"GOOD ENOUGH\"\n",
    "            \"\"\"\n",
    "        ),\n",
    "            MessagesPlaceholder(variable_name=\"messages\"),\n",
    "        ]\n",
    "    )\n",
    "    reflect = reflection_prompt | azure_llm\n",
    "    \n",
    "    res = reflect.invoke(translated)\n",
    "    \n",
    "    print(res.content)\n",
    "    \n",
    "    # We treat the output of this as human feedback for the generator\n",
    "    return {\"messages\": [HumanMessage(content=res.content)]}\n",
    "\n"
   ],
   "metadata": {
    "collapsed": false,
    "ExecuteTime": {
     "end_time": "2025-04-12T09:43:07.057748400Z",
     "start_time": "2025-04-12T09:43:07.005552900Z"
    }
   },
   "id": "1a966afd733d860d",
   "execution_count": 31
  },
  {
   "cell_type": "code",
   "outputs": [
    {
     "data": {
      "image/png": "[encoded data removed]",
      "text/plain": "<IPython.core.display.Image object>"
     },
     "metadata": {},
     "output_type": "display_data"
    }
   ],
   "source": [
    "# Build workflow\n",
    "builder = StateGraph(QuestionState)\n",
    "\n",
    "builder.add_node(\"online_search\", online_search)\n",
    "builder.add_node(\"generator\", question_draft_generator)\n",
    "builder.add_node(\"reflector\", reflection_node)\n",
    "# Add nodes\n",
    "\n",
    "def should_continue(state: QuestionState):\n",
    "    if len(state[\"messages\"]) > 3: \n",
    "        print(\"--- Reach the Maximum Round ---\")\n",
    "        return END\n",
    "        if state[\"messages\"][-1] == \"GOOD ENOUGH\":\n",
    "            print(\"--- AI Reviser feels Good Enough ---\")\n",
    "            return END\n",
    "    return \"reflector\"\n",
    "\n",
    "# Add edges to connect nodes\n",
    "builder.add_edge(START, \"online_search\")\n",
    "builder.add_edge(\"online_search\", \"generator\")\n",
    "# \n",
    "builder.add_conditional_edges(\"generator\", should_continue)\n",
    "builder.add_edge(\"reflector\", \"generator\")\n",
    "memory = MemorySaver()\n",
    "\n",
    "# Compile\n",
    "kanji_graph = builder.compile(checkpointer=memory)\n",
    "\n",
    "# Show workflow\n",
    "display(Image(kanji_graph.get_graph().draw_png()))"
   ],
   "metadata": {
    "collapsed": false,
    "ExecuteTime": {
     "end_time": "2025-04-12T09:43:07.350228Z",
     "start_time": "2025-04-12T09:43:07.012955800Z"
    }
   },
   "id": "30e802dc904d791c",
   "execution_count": 32
  },
  {
   "cell_type": "code",
   "outputs": [
    {
     "name": "stderr",
     "output_type": "stream",
     "text": [
      "C:\\Users\\Administrator\\AppData\\Local\\Temp\\ipykernel_21844\\878816679.py:2: FutureWarning: Series.__getitem__ treating keys as positions is deprecated. In a future version, integer keys will always be treated as labels (consistent with DataFrame behavior). To access a value by position, use `ser.iloc[pos]`\n",
      "  word = f\"{row[0]}({row[1]})\"\n"
     ]
    },
    {
     "data": {
      "text/plain": "'暖まる(あたたまる)'"
     },
     "execution_count": 33,
     "metadata": {},
     "output_type": "execute_result"
    }
   ],
   "source": [
    "row = words.iloc[1]\n",
    "word = f\"{row[0]}({row[1]})\"\n",
    "word"
   ],
   "metadata": {
    "collapsed": false,
    "ExecuteTime": {
     "end_time": "2025-04-12T09:43:07.357827600Z",
     "start_time": "2025-04-12T09:43:07.351228700Z"
    }
   },
   "id": "eec5f157c924be8b",
   "execution_count": 33
  },
  {
   "cell_type": "code",
   "execution_count": 34,
   "outputs": [],
   "source": [
    "# # Debug the Conversation\n",
    "# for event in kanji_graph.stream(\n",
    "#     {\n",
    "#         \"messages\": [\n",
    "#             HumanMessage(\n",
    "#                 content=word\n",
    "#             )\n",
    "#         ],\n",
    "#     },\n",
    "#     config={\"configurable\": {\"thread_id\": \"1\"}},\n",
    "# ):\n",
    "#     print(event)\n",
    "#     print(\"---\")"
   ],
   "metadata": {
    "collapsed": false,
    "ExecuteTime": {
     "end_time": "2025-04-12T09:43:07.363844600Z",
     "start_time": "2025-04-12T09:43:07.354309500Z"
    }
   },
   "id": "3c2e1e740fbe6971"
  },
  {
   "cell_type": "code",
   "execution_count": 35,
   "outputs": [
    {
     "name": "stdout",
     "output_type": "stream",
     "text": [
      "---WEB SEARCH---\n",
      "{'query': '暖まる(あたたまる)', 'follow_up_questions': None, 'answer': None, 'images': [], 'results': [{'title': '暖まる／温まる（あたたまる）とは？ 意味・読み方・使い方をわかりやすく解説 - goo国語辞書', 'url': 'https://dictionary.goo.ne.jp/word/暖まる_(あたたまる)/', 'content': '暖まる／温まる（あたたまる）とは。意味や使い方、類語をわかりやすく解説。[動ラ五（四）]1 熱を受けて程よい温度になる。あったまる。「風呂に入って—・る」「スープが—・る」2 （温まる）心が満ち足りてほのぼのと和やかになる。「心の—・る言葉」3 （暖まる）金回りがよくなる', 'score': 0.89324445, 'raw_content': None}, {'title': '暖まる (アタタマル)とは？ 意味や使い方 - コトバンク', 'url': 'https://kotobank.jp/word/暖まる-425212', 'content': 'デジタル大辞泉 - 暖まるの用語解説 - [動ラ五（四）]1 熱を受けて程よい温度になる。あったまる。「風呂に入って―・る」「スープが―・る」2 （温まる）心が満ち足りてほのぼのと和やかになる。「心の―・る言葉」3 （暖まる）金回りがよくなる。「懐が―・る」[類語]熱する・あ', 'score': 0.83452857, 'raw_content': None}, {'title': '【暖まる】 と 【温まる】 はどう違いますか？ | HiNative', 'url': 'https://ja.hinative.com/questions/22640140', 'content': '暖まる （あたたまる）, 温まる （あたたまる） 暖まる の類義語 暖まる→日差しや空気・気候に使います ストーブをつけると部屋(の空気)が暖まる 南から暖かい風が吹いて来た 温まる→一般的な物・水・人の気持ちなどに使います ストーブの前にいたら体が温まった 寒い日は温泉に入って', 'score': 0.79580134, 'raw_content': None}, {'title': '「暖まる」と「温まる」の違いとは？分かりやすく解釈', 'url': 'https://chigai-hikaku.com/?p=30845', 'content': 'この記事では、「暖まる」と「温まる」の違いを分かりやすく説明していきます。「暖まる」とは?「暖まる」は「あたたまる」と読み、意味は以下の通りです。1つ目は「熱を受けて程良い温度まで上がる」という意味で、外部から熱を加えられて全体の温度が上昇', 'score': 0.78334314, 'raw_content': None}, {'title': '【温まる（ぬくまる）】 と 【温まる（あたたまる）】 はどう違いますか？ | HiNative', 'url': 'https://ja.hinative.com/questions/1165725', 'content': '温まる と 暖まる はどう違いますか？ What does \"まる\" mean when attached to an adjective, e.g. \"温まる、高まる、早まる\" 温まる／温める と 暖まる／暖める はどう違いますか？', 'score': 0.67758125, 'raw_content': None}], 'response_time': 1.47}\n",
      "Web results:  暖まる／温まる（あたたまる）とは。意味や使い方、類語をわかりやすく解説。[動ラ五（四）]1 熱を受けて程よい温度になる。あったまる。「風呂に入って—・る」「スープが—・る」2 （温まる）心が満ち足りてほのぼのと和やかになる。「心の—・る言葉」3 （暖まる）金回りがよくなる\n",
      "デジタル大辞泉 - 暖まるの用語解説 - [動ラ五（四）]1 熱を受けて程よい温度になる。あったまる。「風呂に入って―・る」「スープが―・る」2 （温まる）心が満ち足りてほのぼのと和やかになる。「心の―・る言葉」3 （暖まる）金回りがよくなる。「懐が―・る」[類語]熱する・あ\n",
      "暖まる （あたたまる）, 温まる （あたたまる） 暖まる の類義語 暖まる→日差しや空気・気候に使います ストーブをつけると部屋(の空気)が暖まる 南から暖かい風が吹いて来た 温まる→一般的な物・水・人の気持ちなどに使います ストーブの前にいたら体が温まった 寒い日は温泉に入って\n",
      "この記事では、「暖まる」と「温まる」の違いを分かりやすく説明していきます。「暖まる」とは?「暖まる」は「あたたまる」と読み、意味は以下の通りです。1つ目は「熱を受けて程良い温度まで上がる」という意味で、外部から熱を加えられて全体の温度が上昇\n",
      "温まる と 暖まる はどう違いますか？ What does \"まる\" mean when attached to an adjective, e.g. \"温まる、高まる、早まる\" 温まる／温める と 暖まる／暖める はどう違いますか？\n",
      "---Generator----\n",
      "---REVISOR---\n",
      "### Critique and Recommendations:\n",
      "\n",
      "#### Content Accuracy:\n",
      "1. **Appropriateness for JLPT N3 Level**:\n",
      "   - The verb \"暖まる\" and the distinction between \"暖まる\" and \"温まる\" are appropriate for the JLPT N3 level. This is because learners at this stage are expected to understand subtle differences in word usage and context.\n",
      "   - The provided explanation about the difference between \"暖まる\" and \"温まる\" is accurate and helpful, which aligns well with the N3 level's focus on nuanced vocabulary understanding.\n",
      "\n",
      "2. **Grammar and Vocabulary**:\n",
      "   - The sentence structure is simple and clear, appropriate for N3 learners. It tests the ability to form natural Japanese sentences by rearranging words, which is a common skill assessed at this level.\n",
      "\n",
      "#### Question Quality:\n",
      "1. **Clarity of Instructions**:\n",
      "   - The instructions are clear (\"以下の文を正しい順序に並べ替えてください\") and match the intended task. However, adding an example of a rearranged sentence might help clarify expectations further for students who might be unfamiliar with this type of question.\n",
      "\n",
      "2. **Ambiguity**:\n",
      "   - There is no ambiguity in the question or the answer options. Each option is distinct, and the correct answer (2) is clearly the most natural sentence.\n",
      "\n",
      "3. **Difficulty Level**:\n",
      "   - The difficulty level of this question is appropriate for N3. It is not overly simple, as it requires an understanding of natural word order, but it is also not overly complex.\n",
      "\n",
      "#### Format and Presentation:\n",
      "1. **Organization**:\n",
      "   - The question is well-organized, with a clear structure. The use of bold text for the correct answer and the explanation is helpful for readability.\n",
      "   - However, the layout could be improved slightly by separating the explanation (\"解説\") more distinctly from the question itself, perhaps with a horizontal line or different font style.\n",
      "\n",
      "2. **Cultural Relevance**:\n",
      "   - The use of \"ストーブをつけて部屋が暖まる\" is culturally appropriate and relevant, as heating rooms with a stove is a common scenario in Japan during colder months. This makes the question relatable and practical for learners.\n",
      "\n",
      "#### Recommendations:\n",
      "1. **Enhance Instructions**:\n",
      "   - Consider adding an example of a rearranged sentence to clarify what is expected. For example:\n",
      "     ```\n",
      "     例: 「猫が寝ている ソファで」を「ソファで 猫が寝ている」に並べ替えます。\n",
      "     ```\n",
      "\n",
      "2. **Expand Explanation**:\n",
      "   - While the explanation about \"暖まる\" and \"温まる\" is excellent, it might be beneficial to include one or two example sentences for each to reinforce the distinction. For instance:\n",
      "     - 暖まる: 部屋が暖まる。\n",
      "     - 温まる: 手が温まる。\n",
      "\n",
      "3. **Visual Separation**:\n",
      "   - Improve the visual separation between the question, answer options, and explanation. This can be done by using bullet points, indentation, or a different font style for the explanation.\n",
      "\n",
      "4. **Challenge Enhancement**:\n",
      "   - Consider adding a follow-up question that tests understanding of \"暖まる\" and \"温まる\" directly. For example:\n",
      "     ```\n",
      "     以下の文の空欄に適切な言葉を入れてください。\n",
      "     (1) 部屋が ______。\n",
      "     (2) 手が ______。\n",
      "     ```\n",
      "     Correct answers: 暖まる, 温まる.\n",
      "\n",
      "---\n",
      "\n",
      "### Final Assessment:\n",
      "Overall, the exam question is well-constructed and appropriate for the JLPT N3 level. With minor refinements to the instructions and format, it would be even more effective. As it stands, the paper is **GOOD ENOUGH**.\n",
      "---Generator----\n",
      "--- Reach the Maximum Round ---\n"
     ]
    },
    {
     "data": {
      "text/plain": "<IPython.core.display.Markdown object>",
      "text/markdown": "### 改善后的问题：暖まる (あたたまる)\n\n以下的文句需要重新排列顺序，使其成为自然的日语表达。并选择正确答案。\n\n---\n\n#### 文の選択肢:\n1. <u><em>暖まる</em></u> 部屋が ストーブをつけて。\n2. ストーブをつけて 部屋が <u><em>暖まる</em></u>。\n3. 部屋が <u><em>暖まる</em></u> ストーブをつけて。\n4. ストーブをつけて <u><em>暖まる</em></u> 部屋が。\n\n---\n\n### 正解:\n**2. ストーブをつけて 部屋が 暖まる。**\n\n---\n\n### 解説:\n「暖まる」是一个常见的日语动词，用于描述房间或空气通过外界热量的作用变暖的情况。在这个问题中，正确的句子顺序需要符合自然的日语表达规则，即动作（ストーブをつけて）发生在前，而结果（部屋が暖まる）发生在后。\n\n此外，理解「暖まる」和「温まる」的区别也很重要：\n- **暖まる**：通常用于描述环境或空气变暖，例如「部屋が暖まる」。\n- **温まる**：通常用于描述物体或身体变暖，例如「手が温まる」。\n\n---\n\n### 主な挑戦点:\n1. **「暖まる」的正确使用**：考生需要理解这个动词的语境，并能够区分它与「温まる」的不同。\n2. **语序的正确排列**：考生需要具备将单词和短语按自然顺序排列的能力，这是日语学习中的重要技能。\n\n---\n\n### 中文解释：\n这道题目考察了日语动词「暖まる」的使用方法，以及如何正确排列句子顺序。「暖まる」主要用于描述房间或空气通过加热变暖的情况。考生需要先描述动作「开暖炉」，然后再描述结果「房间变暖」，以符合自然的日语表达顺序。同时，问题还间接测试了考生对「暖まる」和「温まる」的区别理解。\n\n---\n\n### 推荐改进：\n1. **添加示例**：在问题说明中加入一个示例，帮助考生理解如何排列句子。例如：\n   ```\n   例: 「猫が寝ている ソファで」を「ソファで 猫が寝ている」に並べ替えます。\n   ```\n\n2. **扩展解说**：在解说中加入更多例句，以帮助考生更好地理解「暖まる」和「温まる」的区别：\n   - 暖まる：ストーブをつけると部屋が暖まる。\n   - 温まる：寒い日は温泉に入ると体が温まる。\n\n3. **视觉分隔**：使用横线或不同的字体样式，将问题、选项和解说更清晰地分隔开。\n\n---\n\n### 最终评价：\n改进后的问题结构清晰，内容丰富，更能帮助考生理解「暖まる」的用法及其语境，非常适合JLPT N3水平的学习者。这是一道优秀的练习题！"
     },
     "metadata": {},
     "output_type": "display_data"
    }
   ],
   "source": [
    "kanji = kanji_graph.invoke(\n",
    "    {\n",
    "       \"messages\": [\n",
    "                HumanMessage(\n",
    "                    content=word\n",
    "                )\n",
    "            ],\n",
    "        },\n",
    "    config={\"configurable\": {\"thread_id\": \"1\"}}\n",
    ")\n",
    "display(Markdown(kanji[\"question\"]))"
   ],
   "metadata": {
    "collapsed": false,
    "ExecuteTime": {
     "end_time": "2025-04-12T09:43:40.437743700Z",
     "start_time": "2025-04-12T09:43:07.361849800Z"
    }
   },
   "id": "553844c1e99d121c"
  },
  {
   "cell_type": "code",
   "execution_count": 35,
   "outputs": [],
   "source": [],
   "metadata": {
    "collapsed": false,
    "ExecuteTime": {
     "end_time": "2025-04-12T09:43:40.442350200Z",
     "start_time": "2025-04-12T09:43:40.438258200Z"
    }
   },
   "id": "c778d8e10606427f"
  }
 ],
 "metadata": {
  "kernelspec": {
   "display_name": "Python 3",
   "language": "python",
   "name": "python3"
  },
  "language_info": {
   "codemirror_mode": {
    "name": "ipython",
    "version": 2
   },
   "file_extension": ".py",
   "mimetype": "text/x-python",
   "name": "python",
   "nbconvert_exporter": "python",
   "pygments_lexer": "ipython2",
   "version": "2.7.6"
  }
 },
 "nbformat": 4,
 "nbformat_minor": 5
}
