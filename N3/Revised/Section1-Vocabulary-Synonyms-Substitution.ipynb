{
 "cells": [
  {
   "cell_type": "markdown",
   "id": "2b011bdf967ca7ff",
   "metadata": {
    "collapsed": false
   },
   "source": [
    "# Language Knowledge (Vocabulary)\n",
    "Duration: 30 minutes\n",
    "Content: This section tests your knowledge of Japanese vocabulary, including kanji readings, orthography, word formation, contextually-defined expressions, paraphrases, and usage\n",
    "It mainly composes following five categories:\n",
    "- ``Reading Kana`` (Pronunciation Questions): Given a kanji word, choose the correct kana reading.\n",
    "- `Writing Kanji` (Writing Questions): Given a word written in kana, choose the correct kanji representation.\n",
    "- `Word Meaning` Selection (Vocabulary Understanding): Choose the most suitable word to fill in the sentence from four options.\n",
    "- `Synonym Replacement`: Select a word that has the same or similar meaning as the underlined word.\n",
    "- `Vocabulary Usage`: Assess the usage of words in actual contexts, choosing the most appropriate word usage, including some common Japanese expressions or fixed phrases."
   ]
  },
  {
   "cell_type": "code",
   "execution_count": 10,
   "id": "7f526a68a7e73a65",
   "metadata": {
    "ExecuteTime": {
     "end_time": "2025-04-12T08:06:14.776605500Z",
     "start_time": "2025-04-12T08:06:12.060924700Z"
    },
    "collapsed": false
   },
   "outputs": [
    {
     "data": {
      "text/plain": [
       "True"
      ]
     },
     "execution_count": 10,
     "metadata": {},
     "output_type": "execute_result"
    }
   ],
   "source": [
    "import pandas as pd\n",
    "import json\n",
    "import os\n",
    "import random\n",
    "import pickle\n",
    "import re\n",
    "import uuid\n",
    "from typing import *\n",
    "from langchain_openai import AzureOpenAI,AzureChatOpenAI\n",
    "from langchain_anthropic import ChatAnthropic\n",
    "from langchain_core.prompts import ChatPromptTemplate, MessagesPlaceholder\n",
    "from dotenv import load_dotenv\n",
    "from langchain_aws import ChatBedrock\n",
    "from langchain.embeddings.base import Embeddings\n",
    "from langchain.text_splitter import CharacterTextSplitter\n",
    "from langchain_community.document_loaders import PyPDFLoader\n",
    "from langchain_community.embeddings import HuggingFaceEmbeddings\n",
    "# from langchain_community.embeddings import XinferenceEmbeddings\n",
    "from langchain_community.vectorstores import Chroma\n",
    "from langchain_openai import OpenAIEmbeddings\n",
    "from typing import Annotated, Literal, Sequence\n",
    "from typing_extensions import TypedDict\n",
    "from IPython.display import display, Markdown, Latex\n",
    "from langchain import hub\n",
    "from langchain_core.output_parsers import StrOutputParser\n",
    "from langchain_core.prompts import PromptTemplate\n",
    "from langchain_openai import ChatOpenAI\n",
    "from typing import Annotated, Sequence\n",
    "from typing_extensions import TypedDict\n",
    "from langchain_core.messages import BaseMessage,RemoveMessage,HumanMessage,AIMessage,ToolMessage\n",
    "from langgraph.graph.message import add_messages\n",
    "from pydantic import BaseModel, Field\n",
    "from langgraph.graph import END, StateGraph, START\n",
    "from langgraph.prebuilt import ToolNode\n",
    "from langgraph.prebuilt import tools_condition\n",
    "from langgraph.checkpoint.memory import MemorySaver\n",
    "from langchain.output_parsers import PydanticOutputParser\n",
    "from pydantic import BaseModel, Field, validator\n",
    "from typing import List, Optional\n",
    "from langchain_tavily import TavilySearch\n",
    "from langchain.schema import Document\n",
    "from langgraph.prebuilt import create_react_agent\n",
    "from langchain_community.tools.tavily_search import TavilySearchResults\n",
    "load_dotenv()"
   ]
  },
  {
   "cell_type": "code",
   "execution_count": 11,
   "id": "initial_id",
   "metadata": {
    "ExecuteTime": {
     "end_time": "2025-04-12T08:06:14.787818400Z",
     "start_time": "2025-04-12T08:06:14.771326100Z"
    },
    "collapsed": false
   },
   "outputs": [],
   "source": [
    "# Import N3 Vocabulary\n",
    "file_path = '../../Vocab/n3.csv'\n",
    "# Read the CSV file\n",
    "data = pd.read_csv(file_path)\n",
    "words = data.iloc[:, :2].sample(frac=1).reset_index(drop=True)\n",
    "# Display the content of the CSV file\n",
    "words.head()\n",
    "vocab_dict = words.set_index(words.columns[0])[words.columns[1]].to_dict()\n",
    "vocab_dict = json.dumps(vocab_dict, ensure_ascii=False, separators=(',', ':'))"
   ]
  },
  {
   "cell_type": "code",
   "execution_count": 12,
   "id": "fd6a2aae",
   "metadata": {},
   "outputs": [],
   "source": [
    "azure_llm = AzureChatOpenAI(\n",
    "    azure_endpoint=\"https://ai-rolandaws880125ai409947751408.openai.azure.com/openai/deployments/gpt-4o/chat/completions?api-version=2025-01-01-preview\",\n",
    "    api_key=os.environ[\"AZURE_API_KEY\"],\n",
    "    model_name=\"gpt-4o\",\n",
    "    api_version=\"2025-01-01-preview\",\n",
    "    temperature=0.5,\n",
    ")\n",
    "\n",
    "aws_llm = ChatBedrock(\n",
    "    # model_id=\"us.anthropic.claude-3-7-sonnet-20250219-v1:0\",\n",
    "     model_id=\"us.anthropic.claude-3-5-haiku-20241022-v1:0\",\n",
    "    model_kwargs=dict(temperature=0.5),\n",
    "    region = \"us-east-2\",\n",
    "    aws_access_key_id=os.environ[\"AWS_ACCESS_KEY_ID\"],\n",
    "    aws_secret_access_key=os.environ[\"AWS_SECRET_ACCESS_KEY\"],\n",
    ")"
   ]
  },
  {
   "cell_type": "markdown",
   "id": "4c1cdce8b1f57ef3",
   "metadata": {
    "collapsed": false
   },
   "source": [
    "#### load Models"
   ]
  },
  {
   "cell_type": "markdown",
   "id": "385c63b54b5c2a36",
   "metadata": {
    "collapsed": false
   },
   "source": [
    "#### Exam Paper Outline\n",
    "### A. overall thinking the structure of an exam\n",
    "1. distribution of the difficulty \n",
    "2. topics\n",
    "3. reasoning"
   ]
  },
  {
   "cell_type": "markdown",
   "id": "fed5f032dadafac1",
   "metadata": {
    "collapsed": false
   },
   "source": [
    "## Data Strcuture"
   ]
  },
  {
   "cell_type": "markdown",
   "id": "5795bb3d95c0cc50",
   "metadata": {
    "collapsed": false
   },
   "source": [
    "# Kanji 读假名（读音问题）"
   ]
  },
  {
   "cell_type": "code",
   "execution_count": 13,
   "id": "252ffacd6ebb7b37",
   "metadata": {
    "ExecuteTime": {
     "end_time": "2025-04-12T08:06:14.793717300Z",
     "start_time": "2025-04-12T08:06:14.788818200Z"
    },
    "collapsed": false
   },
   "outputs": [],
   "source": [
    "def online_search(state):\n",
    "    \"\"\"\n",
    "    Web search based on the re-phrased question.\n",
    "\n",
    "    Args:\n",
    "        state (dict): The current graph state\n",
    "\n",
    "    Returns:\n",
    "        state (dict): Updates documents key with appended web results\n",
    "    \"\"\"\n",
    "    \n",
    "    print(\"---WEB SEARCH---\")\n",
    "    \n",
    "    topic = state['messages'][0].content\n",
    "    \n",
    "    tavily_search_tool = TavilySearch(\n",
    "        max_results=5,\n",
    "        topic=\"news\",\n",
    "        days=1\n",
    "    )\n",
    "    # Web search\n",
    "    docs = tavily_search_tool.invoke({\"query\": topic})\n",
    "    \n",
    "    print(docs)\n",
    "\n",
    "    web_results = \"\\n\".join([d[\"content\"] for d in docs[\"results\"]])\n",
    "    \n",
    "    print(\"Web results: \", web_results)\n",
    "\n",
    "    return {\"documents\": web_results, \"topic\": topic}"
   ]
  },
  {
   "cell_type": "code",
   "execution_count": 14,
   "id": "1a966afd733d860d",
   "metadata": {
    "ExecuteTime": {
     "end_time": "2025-04-12T08:06:14.834078600Z",
     "start_time": "2025-04-12T08:06:14.793717300Z"
    },
    "collapsed": false
   },
   "outputs": [],
   "source": [
    "from typing_extensions import TypedDict\n",
    "from langgraph.graph import StateGraph, START, END\n",
    "from IPython.display import Image, display\n",
    "\n",
    "\n",
    "# Graph state\n",
    "class QuestionState(TypedDict):\n",
    "    topic: str\n",
    "    question: str\n",
    "    documents: str\n",
    "    messages: Annotated[list, add_messages]\n",
    "\n",
    "\n",
    "example = \"\"\"\n",
    "26. さん、避難してください。\n",
    "\t1.\tならんで\n",
    "\t2.\t入って\n",
    "\t3.\tにげて\n",
    "\t4.\t急いで\n",
    "\n",
    "27. 来週、ここで企業の説明会があります。\n",
    "\t1.\t旅行\n",
    "\t2.\t会社\n",
    "\t3.\t大学\n",
    "\t4.\t建物\n",
    "\n",
    "28. ちょっとバックしてください。\n",
    "\t1.\t前に進んで\n",
    "\t2.\t後ろに下がって\n",
    "\t3.\t横に動いて\n",
    "\t4.\tそこで止まって\n",
    "\n",
    "29. このやり方がベストだ。\n",
    "\t1.\t最もよい\n",
    "\t2.\t最もよくない\n",
    "\t3.\t最も難しい\n",
    "\t4.\t最も難しくない\n",
    "\n",
    "30. 田中さんがようやく来てくれました。\n",
    "\t1.\t笑に\n",
    "\t2.\tすぐに\n",
    "\t3.\tやっと\n",
    "\t4.\t初めて\n",
    "\"\"\"\n",
    "\n",
    "# Nodes\n",
    "def question_draft_generator(state: QuestionState):\n",
    "    \"\"\"First LLM call to generate initial question\"\"\"\n",
    "    print(\"---Generator----\")\n",
    "        \n",
    "    search_result = state['documents'],\n",
    "    \n",
    "    prompt = ChatPromptTemplate.from_messages(\n",
    "        [\n",
    "            (\n",
    "                \"system\",\n",
    "                \"\"\"\n",
    "                    You are a Japanese teacher. Your job is to write a synonym question for candidates to identify the most appropriate word with a similar meaning in a JLPT N3 level exam paper. The question format follows:\n",
    "                    Each question presents a word in kanji or katakana within a sentence, and candidates must choose the closest synonym from four options. The options should include one correct synonym and three distractors that are plausible but incorrect. The JLPT exam paper includes a mix of easy, moderate, and difficult questions to accurately assess the test-taker’s proficiency across different aspects of the language.\n",
    "                    The vocabulary should be restricted to N3 level, use the vocabulary in the `Dictionary` as much as you can.\n",
    "                    Please refer to the question examples following the formal exam paper. please highlight the kanji with <u><em></em></u>.\n",
    "                    Append the correct answer and explanation of the main challenges on why the teacher asks this question to the candidate in simplified Chinese at each question.\n",
    "                    Finally, output beautiful markdown format.\n",
    "                    Dictionary: {vocab_dict}\n",
    "                    Search result: {search_result}\n",
    "                    Formal exam paper: {example}\n",
    "                \"\"\"\n",
    "            ),\n",
    "            MessagesPlaceholder(variable_name=\"messages\"),\n",
    "        ]\n",
    "    )\n",
    "\n",
    "    \n",
    "    input = { \"topic\" : state['topic'],\n",
    "              \"search_result\": search_result, \n",
    "              \"vocab_dict\": vocab_dict,\n",
    "              \"example\": example,\n",
    "              \"messages\": state[\"messages\"]\n",
    "              }\n",
    "    # final_message = prompt.format_messages(**input)\n",
    "    # print(final_message)\n",
    "    \n",
    "    generate = prompt | azure_llm\n",
    "    \n",
    "    msg = generate.invoke(input=input)\n",
    "    \n",
    "    \n",
    "    return {\"question\": msg.content, \"messages\": [AIMessage(content=msg.content)] }\n",
    "\n",
    "\n",
    "def reflection_node(state: QuestionState) -> QuestionState:\n",
    "    print(\"---REVISOR---\")\n",
    "    \n",
    "    # Other messages we need to adjust\n",
    "    cls_map = {\"ai\": HumanMessage, \"human\": AIMessage}\n",
    "    # First message is the original user request. We hold it the same for all nodes\n",
    "    translated = [state[\"messages\"][0]] + [\n",
    "        cls_map[msg.type](content=msg.content) for msg in state[\"messages\"][1:]\n",
    "    ]\n",
    "\n",
    "    reflection_prompt = ChatPromptTemplate.from_messages(\n",
    "    [\n",
    "        (\n",
    "            \"system\",\n",
    "            \"\"\"you are a Japanese language educator reviewing a JLPT exam paper. Generate critique and recommendations for the user's submission.\n",
    "            the review focuses on content accuracy and question quality. \n",
    "            - For content accuracy, you must verify that the grammar and vocabulary questions accurately reflect the appropriate JLPT N3 level, ensuring the reading passages are clear, relevant, and appropriately challenging. \n",
    "            - For question quality, you must ensure all questions are clearly worded and free from ambiguity to comprehensively assess different language skills, and confirm that the difficulty level of the questions matches the intended JLPT N3 level.\n",
    "            - During detailed refinement, you check the format and presentation of the paper, ensuring it is well-organized and the instructions are clear and concise. you also ensure the content is culturally appropriate and relevant to Japanese language and culture.\n",
    "            - Finally, you make give feedback, providing detailed recommendations, including requests.If you think the exam paper is good enough, you just say \"GOOD ENOUGH\"\n",
    "            \"\"\"\n",
    "        ),\n",
    "            MessagesPlaceholder(variable_name=\"messages\"),\n",
    "        ]\n",
    "    )\n",
    "    reflect = reflection_prompt | azure_llm\n",
    "    \n",
    "    res = reflect.invoke(translated)\n",
    "    \n",
    "    print(res.content)\n",
    "    \n",
    "    # We treat the output of this as human feedback for the generator\n",
    "    return {\"messages\": [HumanMessage(content=res.content)]}\n",
    "\n"
   ]
  },
  {
   "cell_type": "code",
   "execution_count": 15,
   "id": "30e802dc904d791c",
   "metadata": {
    "ExecuteTime": {
     "end_time": "2025-04-12T08:06:15.139220600Z",
     "start_time": "2025-04-12T08:06:14.804816700Z"
    },
    "collapsed": false
   },
   "outputs": [],
   "source": [
    "# Build workflow\n",
    "builder = StateGraph(QuestionState)\n",
    "\n",
    "builder.add_node(\"online_search\", online_search)\n",
    "builder.add_node(\"generator\", question_draft_generator)\n",
    "builder.add_node(\"reflector\", reflection_node)\n",
    "# Add nodes\n",
    "\n",
    "def should_continue(state: QuestionState):\n",
    "    if state[\"messages\"]:\n",
    "        if len(state[\"messages\"]) > 6: \n",
    "            print(\"--- Reach the Maximum Round ---\")\n",
    "            return END\n",
    "        elif \"GOOD ENOUGH\" in state[\"messages\"][-1].content:\n",
    "            print(\"--- AI Reviser feels Good Enough ---\")\n",
    "            return END\n",
    "    return \"generator\"\n",
    "\n",
    "# Add edges to connect nodes\n",
    "builder.add_edge(START, \"online_search\")\n",
    "builder.add_edge(\"online_search\", \"generator\")\n",
    "builder.add_edge(\"generator\",\"reflector\")\n",
    "# \n",
    "builder.add_conditional_edges(\"reflector\", should_continue)\n",
    "memory = MemorySaver()\n",
    "\n",
    "# Compile\n",
    "kanji_graph = builder.compile()\n",
    "\n",
    "# Show workflow\n",
    "# display(Image(kanji_graph.get_graph().draw_png()))"
   ]
  },
  {
   "cell_type": "code",
   "execution_count": 16,
   "id": "eec5f157c924be8b",
   "metadata": {
    "ExecuteTime": {
     "end_time": "2025-04-12T08:06:15.143444400Z",
     "start_time": "2025-04-12T08:06:15.140221700Z"
    },
    "collapsed": false
   },
   "outputs": [
    {
     "name": "stderr",
     "output_type": "stream",
     "text": [
      "C:\\Users\\HW-BK003\\AppData\\Local\\Temp\\ipykernel_17360\\846002302.py:2: FutureWarning: Series.__getitem__ treating keys as positions is deprecated. In a future version, integer keys will always be treated as labels (consistent with DataFrame behavior). To access a value by position, use `ser.iloc[pos]`\n",
      "  word = f\"{row[0]}({row[1]})\"\n"
     ]
    },
    {
     "data": {
      "text/plain": [
       "'昨(さく)'"
      ]
     },
     "execution_count": 16,
     "metadata": {},
     "output_type": "execute_result"
    }
   ],
   "source": [
    "row = words.iloc[1]\n",
    "word = f\"{row[0]}({row[1]})\"\n",
    "word"
   ]
  },
  {
   "cell_type": "code",
   "execution_count": 17,
   "id": "3c2e1e740fbe6971",
   "metadata": {
    "ExecuteTime": {
     "end_time": "2025-04-12T08:06:15.224611Z",
     "start_time": "2025-04-12T08:06:15.143444400Z"
    },
    "collapsed": false
   },
   "outputs": [],
   "source": [
    "# # Debug the Conversation\n",
    "# for event in kanji_graph.stream(\n",
    "#     {\n",
    "#         \"messages\": [\n",
    "#             HumanMessage(\n",
    "#                 content=word\n",
    "#             )\n",
    "#         ],\n",
    "#     },\n",
    "#     config={\"configurable\": {\"thread_id\": \"1\"}},\n",
    "# ):\n",
    "#     print(event)\n",
    "#     print(\"---\")"
   ]
  },
  {
   "cell_type": "code",
   "execution_count": 18,
   "id": "553844c1e99d121c",
   "metadata": {
    "ExecuteTime": {
     "end_time": "2025-04-12T08:06:21.226423500Z",
     "start_time": "2025-04-12T08:06:15.176194500Z"
    },
    "collapsed": false
   },
   "outputs": [
    {
     "name": "stdout",
     "output_type": "stream",
     "text": [
      "---WEB SEARCH---\n",
      "{'query': '昨(さく)', 'follow_up_questions': None, 'answer': None, 'images': [], 'results': [{'title': '昨(サク)とは？ 意味や使い方 - コトバンク', 'url': 'https://kotobank.jp/word/昨-509495', 'content': 'さく【昨】 [名] 過ぎ去った日。むかし。また、きのう。 「―の汝が松風明月の 怨 うらみ とこしなえに尽きず」〈啄木・葬列〉 [連体] 1 今の一つ前の。「 昨 シーズン」 2 きのうの。「 昨 一九日」 3 去年の。', 'score': 0.8430832, 'raw_content': None}, {'title': \"The Kanji '昨' (サク): Origins, Meaning, and Usage | NIPPOLLE\", 'url': 'https://nippolle.net/en/article/2403/', 'content': 'The kanji \"昨\" (サク, saku) signifies time, mainly used in words like \"昨日\" (きのう, kinō - yesterday) and \"昨年\" (さくねん, sakunen - last year), referring to recent past moments. In Japanese, \"昨\" is commonly used to denote specific points in the past. Readings, Stroke Count, and Radical of 昨 (サク, saku)', 'score': 0.8302782, 'raw_content': None}, {'title': '昨 | saku - Meaning in Japanese - Suki Desu', 'url': 'https://skdesu.com/en/meaning/昨-saku/', 'content': 'Synonyms and similar words. There are different ways of expressing the idea of \"Yesterday: Previous.Previous. In the past.\" in the Japanese language. A way of saying \"last year); yesterday\" é \" (昨) saku \".Below is a list of Japanese words that have the same meaning or are a variation of the word.', 'score': 0.69498676, 'raw_content': None}, {'title': '「昨(キソ)」の意味や使い方 わかりやすく解説 Weblio辞書', 'url': 'https://www.weblio.jp/content/昨', 'content': '「昨」の意味は 読み方：さく [学習漢字]4年 きのうのこと。Weblio国語辞典では「昨」の意味や使い方、用例、類似表現などを解説しています。', 'score': 0.6399392, 'raw_content': None}, {'title': '昨 - Wiktionary, the free dictionary', 'url': 'https://en.wiktionary.org/wiki/昨', 'content': '美麗 青春 親像昨 [Taiwanese Hokkien, trad.] 美丽 青春 亲像昨 [Taiwanese Hokkien, simp.] bí-lē chheng-chhun chhin-chhiūⁿ chăng [Pe̍h-ōe-jī] Beauty and youthfulness are just like yesterday', 'score': 0.38546777, 'raw_content': None}], 'response_time': 1.26}\n",
      "Web results:  さく【昨】 [名] 過ぎ去った日。むかし。また、きのう。 「―の汝が松風明月の 怨 うらみ とこしなえに尽きず」〈啄木・葬列〉 [連体] 1 今の一つ前の。「 昨 シーズン」 2 きのうの。「 昨 一九日」 3 去年の。\n",
      "The kanji \"昨\" (サク, saku) signifies time, mainly used in words like \"昨日\" (きのう, kinō - yesterday) and \"昨年\" (さくねん, sakunen - last year), referring to recent past moments. In Japanese, \"昨\" is commonly used to denote specific points in the past. Readings, Stroke Count, and Radical of 昨 (サク, saku)\n",
      "Synonyms and similar words. There are different ways of expressing the idea of \"Yesterday: Previous.Previous. In the past.\" in the Japanese language. A way of saying \"last year); yesterday\" é \" (昨) saku \".Below is a list of Japanese words that have the same meaning or are a variation of the word.\n",
      "「昨」の意味は 読み方：さく [学習漢字]4年 きのうのこと。Weblio国語辞典では「昨」の意味や使い方、用例、類似表現などを解説しています。\n",
      "美麗 青春 親像昨 [Taiwanese Hokkien, trad.] 美丽 青春 亲像昨 [Taiwanese Hokkien, simp.] bí-lē chheng-chhun chhin-chhiūⁿ chăng [Pe̍h-ōe-jī] Beauty and youthfulness are just like yesterday\n",
      "---Generator----\n",
      "---REVISOR---\n",
      "### Review of JLPT N3 Exam Question: Synonym Question for \"昨\"\n",
      "\n",
      "#### Content Accuracy:\n",
      "1. **Grammar and Vocabulary:** The question appropriately tests the meaning of \"昨\" and its usage in context, which is suitable for the JLPT N3 level. The word \"昨\" (as in \"昨年\") is commonly encountered at this level, and the provided sentence is clear and relevant for learners aiming to understand time-related vocabulary.\n",
      "2. **Reading Passage Clarity:** The sentence \"昨年はとても忙しい一年でした。\" is straightforward and grammatically correct, making it accessible to N3-level learners. The vocabulary used in the example sentence aligns with the expected proficiency level.\n",
      "3. **Challenge Appropriateness:** The question effectively assesses the learner's ability to differentiate between time expressions (昨年, 去年, 次年, 今年, 来年), which is a critical skill for N3-level comprehension.\n",
      "\n",
      "#### Question Quality:\n",
      "1. **Clarity of Wording:** The question is clearly worded, and the instructions (\"以下の文を読んで、昨の意味に最も近い言葉を選びなさい\") are concise and unambiguous. The learners can easily understand what is being asked.\n",
      "2. **Ambiguity-Free Options:** The answer choices are distinct and do not overlap in meaning, ensuring the question is free from ambiguity. The presence of distractors (次年, 今年, 来年) is effective in testing the learner's understanding of temporal vocabulary.\n",
      "3. **Difficulty Level:** The difficulty level matches the intended JLPT N3 level. Understanding \"昨\" and recognizing its synonym \"去年\" is a fundamental skill that learners at this level should possess.\n",
      "\n",
      "#### Format and Presentation:\n",
      "1. **Organization:** The question is well-structured, with a clear division between the problem statement, answer choices, correct answer, and explanation.\n",
      "2. **Instructions:** The instructions are concise and easy to follow. No additional formatting adjustments are necessary.\n",
      "3. **Cultural Relevance:** The term \"昨年\" is culturally appropriate and commonly used in Japanese, making it relevant to real-life language usage.\n",
      "\n",
      "#### Recommendations:\n",
      "1. **Enhancement of Explanation:** While the explanation is sufficient, it could be expanded slightly to provide learners with more context about the use of \"昨\" in other phrases, such as \"昨夜\" (last night) or \"昨日\" (yesterday). This would help learners deepen their understanding of the word's usage beyond \"昨年.\"\n",
      "2. **Alternative Sentence:** Consider adding an alternative example sentence to further reinforce the meaning of \"昨,\" such as:  \n",
      "   昨夜はとても寒かったです。  \n",
      "   This would allow learners to see \"昨\" in a different context and broaden their comprehension.\n",
      "\n",
      "#### Final Assessment:\n",
      "The question is well-designed, accurate, and appropriate for the JLPT N3 level. With minor improvements to the explanation and optional additional examples, it could be even more comprehensive. However, as it stands, the question is **GOOD ENOUGH**.\n",
      "--- AI Reviser feels Good Enough ---\n"
     ]
    },
    {
     "data": {
      "text/markdown": [
       "### Synonym Question: JLPT N3 Level\n",
       "\n",
       "#### 問題:\n",
       "以下の文を読んで、<u><em>昨</em></u>の意味に最も近い言葉を選びなさい。\n",
       "\n",
       "昨年はとても忙しい一年でした。\n",
       "\n",
       "1. 去年  \n",
       "2. 次年  \n",
       "3. 今年  \n",
       "4. 来年  \n",
       "\n",
       "---\n",
       "\n",
       "#### 正解:\n",
       "**1. 去年**\n",
       "\n",
       "---\n",
       "\n",
       "#### 解説:\n",
       "<u><em>昨</em></u>は「過去」や「以前」を表す言葉で、特に「昨年」は「去年」と同じ意味を持ちます。選択肢の中で「次年」「今年」「来年」は未来や現在を指すため、正解は「去年」です。\n",
       "\n",
       "---\n",
       "\n",
       "#### 中文解释:\n",
       "正确答案是**1. 去年**。  \n",
       "「昨」表示过去的时间，特别是「昨年」与「去年」意义相同。其他选项如「次年」「今年」「来年」分别表示未来或现在，不符合题意。这个问题考察考生对时间表达的准确理解。"
      ],
      "text/plain": [
       "<IPython.core.display.Markdown object>"
      ]
     },
     "metadata": {},
     "output_type": "display_data"
    }
   ],
   "source": [
    "kanji = kanji_graph.invoke(\n",
    "    {\n",
    "       \"messages\": [\n",
    "                HumanMessage(\n",
    "                    content=word\n",
    "                )\n",
    "            ],\n",
    "        },\n",
    "    config={\"configurable\": {\"thread_id\": \"1\"}}\n",
    ")\n",
    "display(Markdown(kanji[\"question\"]))"
   ]
  },
  {
   "cell_type": "code",
   "execution_count": null,
   "id": "c778d8e10606427f",
   "metadata": {
    "ExecuteTime": {
     "start_time": "2025-04-12T08:06:21.227695600Z"
    },
    "collapsed": false
   },
   "outputs": [],
   "source": []
  }
 ],
 "metadata": {
  "kernelspec": {
   "display_name": ".venv",
   "language": "python",
   "name": "python3"
  },
  "language_info": {
   "codemirror_mode": {
    "name": "ipython",
    "version": 3
   },
   "file_extension": ".py",
   "mimetype": "text/x-python",
   "name": "python",
   "nbconvert_exporter": "python",
   "pygments_lexer": "ipython3",
   "version": "3.13.2"
  }
 },
 "nbformat": 4,
 "nbformat_minor": 5
}
