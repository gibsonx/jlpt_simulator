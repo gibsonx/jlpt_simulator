{
 "cells": [
  {
   "cell_type": "markdown",
   "id": "2b011bdf967ca7ff",
   "metadata": {
    "collapsed": false
   },
   "source": [
    "# Language Knowledge (Vocabulary)\n",
    "Duration: 30 minutes\n",
    "Content: This section tests your knowledge of Japanese vocabulary, including kanji readings, orthography, word formation, contextually-defined expressions, paraphrases, and usage\n",
    "It mainly composes following five categories:\n",
    "- ``Reading Kana`` (Pronunciation Questions): Given a kanji word, choose the correct kana reading.\n",
    "- `Writing Kanji` (Writing Questions): Given a word written in kana, choose the correct kanji representation.\n",
    "- `Word Meaning` Selection (Vocabulary Understanding): Choose the most suitable word to fill in the sentence from four options.\n",
    "- `Synonym Replacement`: Select a word that has the same or similar meaning as the underlined word.\n",
    "- `Vocabulary Usage`: Assess the usage of words in actual contexts, choosing the most appropriate word usage, including some common Japanese expressions or fixed phrases."
   ]
  },
  {
   "cell_type": "code",
   "execution_count": 1,
   "id": "7f526a68a7e73a65",
   "metadata": {
    "ExecuteTime": {
     "end_time": "2025-03-21T04:52:51.327395Z",
     "start_time": "2025-03-21T04:52:51.315832Z"
    },
    "collapsed": false
   },
   "outputs": [
    {
     "data": {
      "text/plain": [
       "True"
      ]
     },
     "execution_count": 1,
     "metadata": {},
     "output_type": "execute_result"
    }
   ],
   "source": [
    "import pandas as pd\n",
    "import json\n",
    "import os\n",
    "import pickle\n",
    "import re\n",
    "import uuid\n",
    "from typing import *\n",
    "from langchain_openai import AzureOpenAI,AzureChatOpenAI\n",
    "from langchain_anthropic import ChatAnthropic\n",
    "from langchain_core.prompts import ChatPromptTemplate\n",
    "from dotenv import load_dotenv\n",
    "from langchain_aws import ChatBedrock\n",
    "from langchain.embeddings.base import Embeddings\n",
    "from langchain.text_splitter import CharacterTextSplitter\n",
    "from langchain_community.document_loaders import PyPDFLoader\n",
    "from langchain_community.embeddings import HuggingFaceEmbeddings\n",
    "# from langchain_community.embeddings import XinferenceEmbeddings\n",
    "from langchain_community.vectorstores import Chroma\n",
    "from langchain_openai import OpenAIEmbeddings\n",
    "from typing import Annotated, Literal, Sequence\n",
    "from typing_extensions import TypedDict\n",
    "from IPython.display import display, Markdown, Latex\n",
    "from langchain import hub\n",
    "from langchain_core.output_parsers import StrOutputParser\n",
    "from langchain_core.prompts import PromptTemplate\n",
    "from langchain_openai import ChatOpenAI\n",
    "from typing import Annotated, Sequence\n",
    "from typing_extensions import TypedDict\n",
    "from langchain_core.messages import BaseMessage,RemoveMessage,HumanMessage,AIMessage,ToolMessage\n",
    "from langgraph.graph.message import add_messages\n",
    "from pydantic import BaseModel, Field\n",
    "from langgraph.graph import END, StateGraph, START\n",
    "from langgraph.prebuilt import ToolNode\n",
    "from langgraph.prebuilt import tools_condition\n",
    "from langgraph.checkpoint.memory import MemorySaver\n",
    "from langchain.output_parsers import PydanticOutputParser\n",
    "from pydantic import BaseModel, Field, validator\n",
    "from typing import List, Optional\n",
    "\n",
    "load_dotenv()"
   ]
  },
  {
   "cell_type": "code",
   "execution_count": 2,
   "id": "initial_id",
   "metadata": {
    "ExecuteTime": {
     "end_time": "2025-03-21T04:52:51.375033Z",
     "start_time": "2025-03-21T04:52:51.356406Z"
    },
    "collapsed": false
   },
   "outputs": [
    {
     "data": {
      "text/html": [
       "<div>\n",
       "<style scoped>\n",
       "    .dataframe tbody tr th:only-of-type {\n",
       "        vertical-align: middle;\n",
       "    }\n",
       "\n",
       "    .dataframe tbody tr th {\n",
       "        vertical-align: top;\n",
       "    }\n",
       "\n",
       "    .dataframe thead th {\n",
       "        text-align: right;\n",
       "    }\n",
       "</style>\n",
       "<table border=\"1\" class=\"dataframe\">\n",
       "  <thead>\n",
       "    <tr style=\"text-align: right;\">\n",
       "      <th></th>\n",
       "      <th>expression</th>\n",
       "      <th>reading</th>\n",
       "    </tr>\n",
       "  </thead>\n",
       "  <tbody>\n",
       "    <tr>\n",
       "      <th>0</th>\n",
       "      <td>穀物</td>\n",
       "      <td>こくもつ</td>\n",
       "    </tr>\n",
       "    <tr>\n",
       "      <th>1</th>\n",
       "      <td>歓迎</td>\n",
       "      <td>かんげい</td>\n",
       "    </tr>\n",
       "    <tr>\n",
       "      <th>2</th>\n",
       "      <td>済ませる</td>\n",
       "      <td>すませる</td>\n",
       "    </tr>\n",
       "    <tr>\n",
       "      <th>3</th>\n",
       "      <td>老い</td>\n",
       "      <td>おい</td>\n",
       "    </tr>\n",
       "    <tr>\n",
       "      <th>4</th>\n",
       "      <td>婚約</td>\n",
       "      <td>こんやく</td>\n",
       "    </tr>\n",
       "  </tbody>\n",
       "</table>\n",
       "</div>"
      ],
      "text/plain": [
       "  expression reading\n",
       "0         穀物    こくもつ\n",
       "1         歓迎    かんげい\n",
       "2       済ませる    すませる\n",
       "3         老い      おい\n",
       "4         婚約    こんやく"
      ]
     },
     "execution_count": 2,
     "metadata": {},
     "output_type": "execute_result"
    }
   ],
   "source": [
    "# Import N3 Vocabulary\n",
    "file_path = '../Vocab/n3.csv'\n",
    "# Read the CSV file\n",
    "data = pd.read_csv(file_path)\n",
    "words = data.iloc[:, :2].sample(frac=1).reset_index(drop=True)\n",
    "# Display the content of the CSV file\n",
    "words.head()"
   ]
  },
  {
   "cell_type": "markdown",
   "id": "4c1cdce8b1f57ef3",
   "metadata": {
    "collapsed": false
   },
   "source": [
    "#### load Models"
   ]
  },
  {
   "cell_type": "code",
   "execution_count": 3,
   "id": "895a64c8ba51e354",
   "metadata": {
    "ExecuteTime": {
     "end_time": "2025-03-21T04:52:52.986251Z",
     "start_time": "2025-03-21T04:52:51.377041Z"
    },
    "collapsed": false
   },
   "outputs": [],
   "source": [
    "azure_llm = AzureChatOpenAI(\n",
    "    azure_endpoint=\"https://ai-rolandaws880125ai409947751408.openai.azure.com/openai/deployments/gpt-4o/chat/completions?api-version=2025-01-01-preview\",\n",
    "    api_key=os.environ[\"AZURE_API_KEY\"],\n",
    "    model_name=\"gpt-4o\",\n",
    "    api_version=\"2025-01-01-preview\",\n",
    "    temperature=0.5,\n",
    ")"
   ]
  },
  {
   "cell_type": "code",
   "execution_count": 4,
   "id": "5643fdb248144100",
   "metadata": {
    "ExecuteTime": {
     "end_time": "2025-03-21T04:52:53.325835Z",
     "start_time": "2025-03-21T04:52:52.988251Z"
    },
    "collapsed": false
   },
   "outputs": [],
   "source": [
    "aws_llm = ChatBedrock(\n",
    "    model_id=\"us.anthropic.claude-3-7-sonnet-20250219-v1:0\",\n",
    "     # model_id=\"us.anthropic.claude-3-5-haiku-20241022-v1:0\",\n",
    "    model_kwargs=dict(temperature=0.3),\n",
    "    region = \"us-east-2\",\n",
    "    aws_access_key_id=os.environ[\"AWS_ACCESS_KEY_ID\"],\n",
    "    aws_secret_access_key=os.environ[\"AWS_SECRET_ACCESS_KEY\"],\n",
    ")"
   ]
  },
  {
   "cell_type": "markdown",
   "id": "fed5f032dadafac1",
   "metadata": {
    "collapsed": false
   },
   "source": [
    "## Question Explore"
   ]
  },
  {
   "cell_type": "markdown",
   "id": "5795bb3d95c0cc50",
   "metadata": {
    "collapsed": false
   },
   "source": [
    "# Kanji 读假名（读音问题）"
   ]
  },
  {
   "cell_type": "code",
   "execution_count": null,
   "id": "1a966afd733d860d",
   "metadata": {
    "ExecuteTime": {
     "end_time": "2025-03-21T04:55:02.288686Z",
     "start_time": "2025-03-21T04:55:01.768183Z"
    },
    "collapsed": false
   },
   "outputs": [
    {
     "name": "stdout",
     "output_type": "stream",
     "text": [
      "     expression reading\n",
      "0            穀物    こくもつ\n",
      "1            歓迎    かんげい\n",
      "2          済ませる    すませる\n",
      "3            老い      おい\n",
      "4            婚約    こんやく\n",
      "...         ...     ...\n",
      "2134         命令    めいれい\n",
      "2135         注目   ちゅうもく\n",
      "2136          夜       よ\n",
      "2137         環境   かんきょう\n",
      "2138         無視      むし\n",
      "\n",
      "[2139 rows x 2 columns]\n"
     ]
    }
   ],
   "source": [
    "from typing_extensions import TypedDict\n",
    "from langgraph.graph import StateGraph, START, END\n",
    "from IPython.display import Image, display\n",
    "\n",
    "\n",
    "# Graph state\n",
    "class QuestionState(TypedDict):\n",
    "    topic: str\n",
    "    question: str\n",
    "    improved_question: str\n",
    "    final_question: str\n",
    "\n",
    "\n",
    "kanji_example = \"\"\"\n",
    "問題 3  \n",
    "つぎの文章を読んで、文章全体の内容を考えて、19 から 22 の中に入る最もよいものを、1・2・3・4 から一つえらびなさい。  \n",
    "  \n",
    "以下は、留学生の作文である。  \n",
    "  \n",
    "---  \n",
    "  \n",
    "夏休みの思い出  \n",
    "  \n",
    "お母さん、中学生の妹さんと住んでいます。日本人の家に泊まるのは初めてだったので、行く前は少し不安な気持ちもありました。[20] 行ってみたらとても楽しかったです。  \n",
    "  \n",
    "印象に残っているのは、巡りの畑で育てた野菜を使って、みんなで料理を作ったことです。友達のお母さんは、畑でいろいろな野菜を育てていました。私たちは、その野菜を使ってみんなで料理をしました。私は、お店に売られている野菜 [21] 食べたことがありませんでした。家で育てた野菜を食べたのは初めてでしたが、とてもおいしかったです。特に「私も野菜を育ててみたい」と、胸がいっぱ言う行ってらない。」と言ったら、それを聞いていたお母さんが、家の中でも育てることができる野菜について教えてくれました。  \n",
    "  \n",
    "お母さんに教えてもらったやり方で、私も野菜を [22]。今、２種類の野菜を育てています。  \n",
    "  \n",
    "野菜の世話をしながら、楽しかった夏休みのことをいつも思い出しています。  \n",
    "  \n",
    "--- \n",
    "\n",
    "19.  \n",
    "1. 招待してくれたのです    \n",
    "2. 招待してくれたはずです    \n",
    "3. 招待してくれたばかりです    \n",
    "4. 招待してくれたそうです    \n",
    "  \n",
    "20.  \n",
    "1. それで    \n",
    "2. でも    \n",
    "3. 実は    \n",
    "4. また    \n",
    "  \n",
    "21.  \n",
    "1. は    \n",
    "2. などを    \n",
    "3. しか    \n",
    "4. だけ    \n",
    "  \n",
    "22.  \n",
    "1. 育ててみてほしいです    \n",
    "2. 育ててみてもいいです    \n",
    "3. 育ててみようとしました    \n",
    "4. 育ててみることにしました     \n",
    "\"\"\"\n",
    "\n",
    "print(words)\n",
    "\n",
    "# Nodes\n",
    "def generate_question(state: QuestionState):\n",
    "    \"\"\"First LLM call to generate initial question\"\"\"\n",
    "\n",
    "    msg = azure_llm.invoke(f\"You are a japanese teacher. Your job is to write a paper for reading the article, fill in the gaps, choose the grammar structure that best fits the context from the following 4 options, and also test the ability to read the article, similar to cloze test, with four options per question. Only refer to the format, not the content.\"\n",
    "            f\"The vocabulary should be restricted to N3 level, you can refer to the vocabulary in the word list, choosing random words for the questions\"\n",
    "            f\"please refer the question examples following the formal exam paper\"\n",
    "            f\"append the correct answer and explanation of main challenges and why teacher asks this question to candidate in chinese at each question\"\n",
    "            f\"Finally, beautify markdown format\"\n",
    "            f\"topic list: {state['topic']}\"\n",
    "            f\"word list: {words}\"\n",
    "            f\"formal exam paper: {kanji_example}\")\n",
    "    \n",
    "    return {\"question\": msg.content}\n",
    "\n",
    "\n",
    "# Build workflow\n",
    "kanji_workflow = StateGraph(QuestionState)\n",
    "\n",
    "# Add nodes\n",
    "kanji_workflow.add_node(\"generate_question\", generate_question)\n",
    "\n",
    "# Add edges to connect nodes\n",
    "kanji_workflow.add_edge(START, \"generate_question\")\n",
    "kanji_workflow.add_edge(\"generate_question\", END)\n",
    "\n",
    "# Compile\n",
    "kanji_graph = kanji_workflow.compile()\n"
   ]
  },
  {
   "cell_type": "code",
   "execution_count": 6,
   "id": "ec483e4e",
   "metadata": {},
   "outputs": [],
   "source": [
    "# Show workflow\n",
    "#display(Image(kanji_graph.get_graph().draw_png()))"
   ]
  },
  {
   "cell_type": "code",
   "execution_count": 7,
   "id": "3c2e1e740fbe6971",
   "metadata": {
    "ExecuteTime": {
     "end_time": "2025-03-21T04:56:04.739875Z",
     "start_time": "2025-03-21T04:55:57.132978Z"
    },
    "collapsed": false
   },
   "outputs": [
    {
     "data": {
      "text/markdown": [
       "# Formal Exam Paper: Cloze Test  \n",
       "**Topic:** 夏休みの思い出  \n",
       "\n",
       "---\n",
       "\n",
       "## 問題 3  \n",
       "つぎの文章を読んで、文章全体の内容を考えて、19 から 22 の中に入る最もよいものを、1・2・3・4 から一つえらびなさい。  \n",
       "\n",
       "以下は、留学生の作文である。  \n",
       "\n",
       "---\n",
       "\n",
       "### 夏休みの思い出  \n",
       "\n",
       "お母さん、中学生の妹さんと住んでいます。日本人の家に泊まるのは初めてだったので、行く前は少し不安な気持ちもありました。[20] 行ってみたらとても楽しかったです。  \n",
       "\n",
       "印象に残っているのは、巡りの畑で育てた野菜を使って、みんなで料理を作ったことです。友達のお母さんは、畑でいろいろな野菜を育てていました。私たちは、その野菜を使ってみんなで料理をしました。私は、お店に売られている野菜 [21] 食べたことがありませんでした。家で育てた野菜を食べたのは初めてでしたが、とてもおいしかったです。特に「私も野菜を育ててみたい」と、胸がいっぱ言う行ってらない。」と言ったら、それを聞いていたお母さんが、家の中でも育てることができる野菜について教えてくれました。  \n",
       "\n",
       "お母さんに教えてもらったやり方で、私も野菜を [22]。今、２種類の野菜を育てています。  \n",
       "\n",
       "野菜の世話をしながら、楽しかった夏休みのことをいつも思い出しています。  \n",
       "\n",
       "---\n",
       "\n",
       "### 選択肢  \n",
       "\n",
       "#### 19.  \n",
       "1. 招待してくれたのです    \n",
       "2. 招待してくれたはずです    \n",
       "3. 招待してくれたばかりです    \n",
       "4. 招待してくれたそうです    \n",
       "\n",
       "#### 20.  \n",
       "1. それで    \n",
       "2. でも    \n",
       "3. 実は    \n",
       "4. また    \n",
       "\n",
       "#### 21.  \n",
       "1. は    \n",
       "2. などを    \n",
       "3. しか    \n",
       "4. だけ    \n",
       "\n",
       "#### 22.  \n",
       "1. 育ててみてほしいです    \n",
       "2. 育ててみてもいいです    \n",
       "3. 育ててみようとしました    \n",
       "4. 育ててみることにしました    \n",
       "\n",
       "---\n",
       "\n",
       "## 正解と解説  \n",
       "\n",
       "### 19. **正解: 1. 招待してくれたのです**  \n",
       "**解説:**  \n",
       "この選択肢は、文章全体の流れに最も合っています。「招待してくれたのです」は、事実を述べる表現であり、読者に状況を自然に伝える役割を果たします。他の選択肢は推測や時制が合わないため不適切です。  \n",
       "\n",
       "**主な挑戦:**  \n",
       "候補者需要理解「のです」的用法，表达事实或解释的语气。其他选项如“招待してくれたはずです”更偏向推测，可能会误导候选者。  \n",
       "\n",
       "---\n",
       "\n",
       "### 20. **正解: 2. でも**  \n",
       "**解説:**  \n",
       "「でも」は、前後の文の対比を示す接続詞です。前文では「少し不安な気持ちもありました」と述べているため、「でも」が最も適切です。他の選択肢は文章の流れに合わず、不自然です。  \n",
       "\n",
       "**主な挑戦:**  \n",
       "候选者需要判断接续词的逻辑关系，特别是对比关系。选项“それで”更适合因果关系，“実は”更适合强调内容，不符合上下文。  \n",
       "\n",
       "---\n",
       "\n",
       "### 21. **正解: 3. しか**  \n",
       "**解説:**  \n",
       "「しか」は否定形とともに使われ、「～しか～ない」という形で限定を表します。文章中「お店に売られている野菜しか食べたことがありませんでした」は自然且符合语法的表达方式。  \n",
       "\n",
       "**主な挑戦:**  \n",
       "候选者需要理解「しか」的否定限定用法，并正确搭配否定句。其他选项如“は”更偏向一般陈述，“などを”表示列举，不符合语境。  \n",
       "\n",
       "---\n",
       "\n",
       "### 22. **正解: 4. 育ててみることにしました**  \n",
       "**解説:**  \n",
       "「育ててみることにしました」は、意志を表す表現であり、文章の流れとして、「お母さんに教えてもらったやり方で」という背景を受けて、行動を決定したことを自然に示しています。他の選択肢は意志や決定のニュアンスが弱いため不適切です。  \n",
       "\n",
       "**主な挑戦:**  \n",
       "候选者需要区分意志表达与建议或可能性的差异。选项“育ててみてもいいです”更偏向许可，不符合情境。  \n",
       "\n",
       "---\n",
       "\n",
       "### Markdown Beautification  \n",
       "\n",
       "```markdown\n",
       "# Formal Exam Paper: Cloze Test  \n",
       "**Topic:** 夏休みの思い出  \n",
       "\n",
       "---\n",
       "\n",
       "## 問題 3  \n",
       "つぎの文章を読んで、文章全体の内容を考えて、19 から 22 の中に入る最もよいものを、1・2・3・4 から一つえらびなさい。  \n",
       "\n",
       "以下は、留学生の作文である。  \n",
       "\n",
       "---\n",
       "\n",
       "### 夏休みの思い出  \n",
       "\n",
       "お母さん、中学生の妹さんと住んでいます。日本人の家に泊まるのは初めてだったので、行く前は少し不安な気持ちもありました。[20] 行ってみたらとても楽しかったです。  \n",
       "\n",
       "印象に残っているのは、巡りの畑で育てた野菜を使って、みんなで料理を作ったことです。友達のお母さんは、畑でいろいろな野菜を育てていました。私たちは、その野菜を使ってみんなで料理をしました。私は、お店に売られている野菜 [21] 食べたことがありませんでした。家で育てた野菜を食べたのは初めてでしたが、とてもおいしかったです。特に「私も野菜を育ててみたい」と、胸がいっぱ言う行ってらない。」と言ったら、それを聞いていたお母さんが、家の中でも育てることができる野菜について教えてくれました。  \n",
       "\n",
       "お母さんに教えてもらったやり方で、私も野菜を [22]。今、２種類の野菜を育てています。  \n",
       "\n",
       "野菜の世話をしながら、楽しかった夏休みのことをいつも思い出しています。  \n",
       "\n",
       "---\n",
       "\n",
       "### 選択肢  \n",
       "\n",
       "#### 19.  \n",
       "1. 招待してくれたのです    \n",
       "2. 招待してくれたはずです    \n",
       "3. 招待してくれたばかりです    \n",
       "4. 招待してくれたそうです    \n",
       "\n",
       "#### 20.  \n",
       "1. それで    \n",
       "2. でも    \n",
       "3. 実は    \n",
       "4. また    \n",
       "\n",
       "#### 21.  \n",
       "1. は    \n",
       "2. などを    \n",
       "3. しか    \n",
       "4. だけ    \n",
       "\n",
       "#### 22.  \n",
       "1. 育ててみてほしいです    \n",
       "2. 育ててみてもいいです    \n",
       "3. 育ててみようとしました    \n",
       "4. 育ててみることにしました    \n",
       "\n",
       "---\n",
       "\n",
       "## 正解と解説  \n",
       "\n",
       "### 19. **正解: 1. 招待してくれたのです**  \n",
       "**解説:**  \n",
       "この選択肢は、文章全体の流れに最も合っています。「招待してくれたのです」は、事実を述べる表現であり、読者に状況を自然に伝える役割を果たします。他の選択肢は推測や時制が合わないため不適切です。  \n",
       "\n",
       "**主な挑戦:**  \n",
       "候補者需要理解「のです」的用法，表达事实或解释的语气。其他选项如“招待してくれたはずです”更偏向推测，可能会误导候选者。  \n",
       "\n",
       "---\n",
       "\n",
       "### 20. **正解: 2. でも**  \n",
       "**解説:**  \n",
       "「でも」は、前後の文の対比を示す接続詞です。前文では「少し不安な気持ちもありました」と述べているため、「でも」が最も適切です。他の選択肢は文章の流れに合わず、不自然です。  \n",
       "\n",
       "**主な挑戦:**  \n",
       "候选者需要判断接续词的逻辑关系，特别是对比关系。选项“それで”更适合因果关系，“実は”更适合强调内容，不符合上下文。  \n",
       "\n",
       "---\n",
       "\n",
       "### 21. **正解: 3. しか**  \n",
       "**解説:**  \n",
       "「しか」は否定形とともに使われ、「～しか～ない」という形で限定を表します。文章中「お店に売られている野菜しか食べたことがありませんでした」は自然且符合语法的表达方式。  \n",
       "\n",
       "**主な挑戦:**  \n",
       "候选者需要理解「しか」的否定限定用法，并正确搭配否定句。其他选项如“は”更偏向一般陈述，“などを”表示列举，不符合语境。  \n",
       "\n",
       "---\n",
       "\n",
       "### 22. **正解: 4. 育ててみることにしました**  \n",
       "**解説:**  \n",
       "「育ててみることにしました」は、意志を表す表現であり、文章の流れとして、「お母さんに教えてもらったやり方で」という背景を受けて、行動を決定したことを自然に示しています。他の選択肢は意志や決定のニュアンスが弱いため不適切です。  \n",
       "\n",
       "**主な挑戦:**  \n",
       "候选者需要区分意志表达与建议或可能性的差异。选项“育ててみてもいいです”更偏向许可，不符合情境。  \n",
       "```"
      ],
      "text/plain": [
       "<IPython.core.display.Markdown object>"
      ]
     },
     "metadata": {},
     "output_type": "display_data"
    }
   ],
   "source": [
    "# Invoke\n",
    "kanji = kanji_graph.invoke({\"topic\": \"店で価格を尋ねる | レストランで食べ物を注文する | 交通手段について話す| 天気の状況について話す | 趣味について話す | 店で商品の特徴や価格を尋ねる | スーパーマーケットで買い物をする | レストランで食べ物や飲み物を注文する | カフェでテイクアウトを頼む | コンビニで支払い方法について質問する |  ネットショッピングで商品を選ぶ\"})\n",
    "display(Markdown(kanji[\"question\"]))"
   ]
  },
  {
   "cell_type": "code",
   "execution_count": null,
   "id": "553844c1e99d121c",
   "metadata": {
    "collapsed": false
   },
   "outputs": [],
   "source": []
  },
  {
   "cell_type": "code",
   "execution_count": null,
   "id": "c778d8e10606427f",
   "metadata": {
    "ExecuteTime": {
     "start_time": "2025-03-21T04:53:14.733662Z"
    },
    "collapsed": false
   },
   "outputs": [],
   "source": []
  }
 ],
 "metadata": {
  "kernelspec": {
   "display_name": ".venv",
   "language": "python",
   "name": "python3"
  },
  "language_info": {
   "codemirror_mode": {
    "name": "ipython",
    "version": 3
   },
   "file_extension": ".py",
   "mimetype": "text/x-python",
   "name": "python",
   "nbconvert_exporter": "python",
   "pygments_lexer": "ipython3",
   "version": "3.13.2"
  }
 },
 "nbformat": 4,
 "nbformat_minor": 5
}
