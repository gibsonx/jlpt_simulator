{
 "cells": [
  {
   "cell_type": "markdown",
   "id": "2b011bdf967ca7ff",
   "metadata": {
    "collapsed": false
   },
   "source": [
    "# Language Knowledge (Vocabulary)\n",
    "Duration: 30 minutes\n",
    "Content: This section tests your knowledge of Japanese vocabulary, including kanji readings, orthography, word formation, contextually-defined expressions, paraphrases, and usage\n",
    "It mainly composes following five categories:\n",
    "- ``Reading Kana`` (Pronunciation Questions): Given a kanji word, choose the correct kana reading.\n",
    "- `Writing Kanji` (Writing Questions): Given a word written in kana, choose the correct kanji representation.\n",
    "- `Word Meaning` Selection (Vocabulary Understanding): Choose the most suitable word to fill in the sentence from four options.\n",
    "- `Synonym Replacement`: Select a word that has the same or similar meaning as the underlined word.\n",
    "- `Vocabulary Usage`: Assess the usage of words in actual contexts, choosing the most appropriate word usage, including some common Japanese expressions or fixed phrases."
   ]
  },
  {
   "cell_type": "code",
   "execution_count": 25,
   "id": "7f526a68a7e73a65",
   "metadata": {
    "collapsed": false,
    "ExecuteTime": {
     "end_time": "2025-04-20T03:44:56.965997900Z",
     "start_time": "2025-04-20T03:44:56.944173900Z"
    }
   },
   "outputs": [
    {
     "data": {
      "text/plain": "True"
     },
     "execution_count": 25,
     "metadata": {},
     "output_type": "execute_result"
    }
   ],
   "source": [
    "import pandas as pd\n",
    "import json\n",
    "import os\n",
    "import pickle\n",
    "import re\n",
    "import uuid\n",
    "from typing import *\n",
    "from langchain_openai import AzureOpenAI,AzureChatOpenAI\n",
    "from langchain_anthropic import ChatAnthropic\n",
    "from langchain_core.prompts import ChatPromptTemplate\n",
    "from dotenv import load_dotenv\n",
    "from langchain_aws import ChatBedrock\n",
    "from langchain.embeddings.base import Embeddings\n",
    "from langchain.text_splitter import CharacterTextSplitter\n",
    "from langchain_community.document_loaders import PyPDFLoader\n",
    "from langchain_community.embeddings import HuggingFaceEmbeddings\n",
    "# from langchain_community.embeddings import XinferenceEmbeddings\n",
    "from langchain_community.vectorstores import Chroma\n",
    "from langchain_openai import OpenAIEmbeddings\n",
    "from typing import Annotated, Literal, Sequence\n",
    "from typing_extensions import TypedDict\n",
    "from Libs.LLMs import *\n",
    "from langchain import hub\n",
    "from langchain_core.output_parsers import StrOutputParser\n",
    "from langchain_core.prompts import PromptTemplate\n",
    "from langchain_openai import ChatOpenAI\n",
    "from typing import Annotated, Sequence\n",
    "from typing_extensions import TypedDict\n",
    "from langchain_core.messages import BaseMessage,RemoveMessage,HumanMessage,AIMessage,ToolMessage\n",
    "from langgraph.graph.message import add_messages\n",
    "from pydantic import BaseModel, Field\n",
    "from langgraph.graph import END, StateGraph, START\n",
    "from langgraph.prebuilt import ToolNode\n",
    "from langgraph.prebuilt import tools_condition\n",
    "from langgraph.checkpoint.memory import MemorySaver\n",
    "from langchain.output_parsers import PydanticOutputParser\n",
    "from pydantic import BaseModel, Field, validator\n",
    "from typing import List, Optional\n",
    "\n",
    "load_dotenv()"
   ]
  },
  {
   "cell_type": "code",
   "execution_count": 26,
   "id": "initial_id",
   "metadata": {
    "collapsed": false,
    "ExecuteTime": {
     "end_time": "2025-04-20T03:44:56.992847700Z",
     "start_time": "2025-04-20T03:44:56.950691Z"
    }
   },
   "outputs": [
    {
     "data": {
      "text/plain": "  expression reading\n0         配達    はいたつ\n1        泊める     とめる\n2         行き      いき\n3        乗せる     のせる\n4         国籍    こくせき",
      "text/html": "<div>\n<style scoped>\n    .dataframe tbody tr th:only-of-type {\n        vertical-align: middle;\n    }\n\n    .dataframe tbody tr th {\n        vertical-align: top;\n    }\n\n    .dataframe thead th {\n        text-align: right;\n    }\n</style>\n<table border=\"1\" class=\"dataframe\">\n  <thead>\n    <tr style=\"text-align: right;\">\n      <th></th>\n      <th>expression</th>\n      <th>reading</th>\n    </tr>\n  </thead>\n  <tbody>\n    <tr>\n      <th>0</th>\n      <td>配達</td>\n      <td>はいたつ</td>\n    </tr>\n    <tr>\n      <th>1</th>\n      <td>泊める</td>\n      <td>とめる</td>\n    </tr>\n    <tr>\n      <th>2</th>\n      <td>行き</td>\n      <td>いき</td>\n    </tr>\n    <tr>\n      <th>3</th>\n      <td>乗せる</td>\n      <td>のせる</td>\n    </tr>\n    <tr>\n      <th>4</th>\n      <td>国籍</td>\n      <td>こくせき</td>\n    </tr>\n  </tbody>\n</table>\n</div>"
     },
     "execution_count": 26,
     "metadata": {},
     "output_type": "execute_result"
    }
   ],
   "source": [
    "# Import N3 Vocabulary\n",
    "file_path = '../Vocab/n3.csv'\n",
    "# Read the CSV file\n",
    "data = pd.read_csv(file_path)\n",
    "words = data.iloc[:, :2].sample(frac=1).reset_index(drop=True)\n",
    "# Display the content of the CSV file\n",
    "vocab_dict = words.set_index(words.columns[0])[words.columns[1]].to_dict()\n",
    "vocab_dict = json.dumps(vocab_dict, ensure_ascii=False, separators=(',', ':'))\n",
    "words.head()"
   ]
  },
  {
   "cell_type": "markdown",
   "id": "4c1cdce8b1f57ef3",
   "metadata": {
    "collapsed": false
   },
   "source": [
    "#### load Models"
   ]
  },
  {
   "cell_type": "code",
   "execution_count": 26,
   "id": "c81d15454f724b5b",
   "metadata": {
    "collapsed": false,
    "ExecuteTime": {
     "end_time": "2025-04-20T03:44:57.015320300Z",
     "start_time": "2025-04-20T03:44:56.965493700Z"
    }
   },
   "outputs": [],
   "source": []
  },
  {
   "cell_type": "markdown",
   "id": "385c63b54b5c2a36",
   "metadata": {
    "collapsed": false
   },
   "source": [
    "#### Exam Paper Outline\n",
    "### A. overall thinking the structure of an exam\n",
    "1. distribution of the difficulty \n",
    "2. topics\n",
    "3. reasoning"
   ]
  },
  {
   "cell_type": "code",
   "execution_count": 27,
   "id": "e339295a858fb5f8",
   "metadata": {
    "collapsed": false,
    "ExecuteTime": {
     "end_time": "2025-04-20T03:44:57.015834300Z",
     "start_time": "2025-04-20T03:44:56.965997900Z"
    }
   },
   "outputs": [],
   "source": [
    "from typing import List, Optional\n",
    "\n",
    "from langchain_core.prompts import ChatPromptTemplate\n",
    "\n",
    "from pydantic import BaseModel, Field\n",
    "\n",
    "instruction = \"\"\"\n",
    "Section 1: Vocabulary and Grammar\n",
    "randomly picking some of words in the `Vocabulary`.\n",
    "- Kanji reading: 8 questions\n",
    "- Write Chinese characters (choose Chinese characters): 6 questions\n",
    "- Word Meaning Selection (Vocabulary Understanding): 11 questions\n",
    "- Synonyms substitution: 5 questions\n",
    "- word usage: 5 questions\n",
    "- Grammar fill in the blank (single choice): 13 questions\n",
    "- Sentence sorting: 5 questions\n",
    "- Grammar structure selection (cloze test): 4-5 questions\n",
    "\n",
    "Section 2: Reading Comprehension\n",
    "randomly picking some of topics in the topic list that user provided.\n",
    "- Short passages: 4 articles, 1 question per article\n",
    "- Mid-size passages: 2 articles, 3 questions per article\n",
    "- Long passages: 1 articles, 4 questions per article\n",
    "- Information retrieval: 1 articles, 2 questions per article\n",
    "\n",
    "Section 3: Listening Comprehension\n",
    "randomly picking some of topics in the topic list that user provided.\n",
    "- Topic understanding: 6 questions\n",
    "- Key understanding: 6 questions\n",
    "- Summary understanding: 3 questions\n",
    "- Speak up (actively express): 4 questions\n",
    "- Immediate acknowledgment: 9 questions\n",
    "\"\"\"\n",
    "\n",
    "direct_gen_outline_prompt = ChatPromptTemplate.from_messages(\n",
    "    [\n",
    "        (\n",
    "            \"system\",\n",
    "            f\"You are a japanese teacher. Your job is to write an outline for a JLPT N3 level exam paper. The JLPT exam paper includes a mix of easy, moderate, and difficult questions to accurately assess the test-taker's proficiency across different aspects of the language.\"\n",
    "            f\"First, you should abide by the following exam instructions and decide content and number of questions in the each subsection.\"\n",
    "            f\"Second, the vocabulary should be restricted to N3 level, you can refer to the vocabulary in the word list\"\n",
    "            f\"Finally, write the outline of the examination paper and provide question topics according to the instructions.\"\n",
    "            f\"Instruction: {instruction}, Vocabulary: {words}\",\n",
    "        ),\n",
    "        (\"user\", \"topic list: {topic}\"),\n",
    "    ]\n",
    ")\n"
   ]
  },
  {
   "cell_type": "markdown",
   "id": "fed5f032dadafac1",
   "metadata": {
    "collapsed": false
   },
   "source": [
    "## Data Strcuture"
   ]
  },
  {
   "cell_type": "code",
   "execution_count": 28,
   "id": "39329a71b16d2400",
   "metadata": {
    "collapsed": false,
    "ExecuteTime": {
     "end_time": "2025-04-20T03:44:57.016862600Z",
     "start_time": "2025-04-20T03:44:56.971857400Z"
    }
   },
   "outputs": [],
   "source": [
    "class QuestionTopic(BaseModel):\n",
    "    question: str = Field(..., title=\"keyword of the question\")\n",
    "    \n",
    "    \n",
    "class Subsection(BaseModel):\n",
    "    subsection_title: str = Field(..., title=\"Topic of the subsection\")\n",
    "    description: str = Field(..., title=\"giving the number of questions\")\n",
    "    question_topics: Optional[List[QuestionTopic]] = Field(\n",
    "        default_factory=list,\n",
    "        title=\"a number of questions according to the section requirements\",\n",
    "    )\n",
    "    \n",
    "    @property\n",
    "    def as_str(self) -> str:\n",
    "        question_topics_str = \"\\n\".join(\n",
    "            f\"- **{qt.question}**\" for qt in self.question_topics\n",
    "        )\n",
    "        return f\"### {self.subsection_title}\\n\\n{self.description}\\n\\n{question_topics_str}\".strip()\n",
    "\n",
    "class Section(BaseModel):\n",
    "    section_title: str = Field(..., title=\"Title of the section\")\n",
    "    # description: str = Field(..., title=\"Ideas of this section\")\n",
    "    subsections: Optional[List[Subsection]] = Field(\n",
    "        default_factory=list,\n",
    "        title=\"Titles and reason for each subsection of the JLPT exam page.\",\n",
    "    )\n",
    "\n",
    "    @property\n",
    "    def as_str(self) -> str:\n",
    "        subsections = \"\\n\\n\".join(\n",
    "            subsection.as_str for subsection in self.subsections or []\n",
    "        )\n",
    "        return f\"## {self.section_title}\\n\\n{subsections}\".strip()\n",
    "\n",
    "\n",
    "class Outline(BaseModel):\n",
    "    page_title: str = Field(..., title=\"Title of the JLPT exam page\")\n",
    "    sections: List[Section] = Field(\n",
    "        default_factory=list,\n",
    "        title=\"Titles and descriptions for each section of the JLPT exam paper.\",\n",
    "    )\n",
    "\n",
    "    @property\n",
    "    def as_str(self) -> str:\n",
    "        sections = \"\\n\\n\".join(section.as_str for section in self.sections)\n",
    "        return f\"# {self.page_title}\\n\\n{sections}\".strip()\n"
   ]
  },
  {
   "cell_type": "code",
   "execution_count": 29,
   "id": "a052e26f8a90f653",
   "metadata": {
    "collapsed": false,
    "ExecuteTime": {
     "end_time": "2025-04-20T03:45:08.331204700Z",
     "start_time": "2025-04-20T03:44:56.990836700Z"
    }
   },
   "outputs": [],
   "source": [
    "example_topic = \"\"\"\n",
    "Section 1 - Vocabulary and Grammar: \n",
    "店で価格を尋ねる | 購入したい商品の説明 | 割引交渉 | レストランで食べ物を注文する | 食事の好みについて話す | 料理を褒める | 道を尋ねる | 交通手段について話す | 交通状況について話す | タクシーを予約する | 電車の切符を買う | バスの時刻表を尋ねる | 通勤について説明する | 天気の状況について話す | 週末の予定について話す | おすすめを尋ねる | ショッピング体験を説明する | 支払い方法について話す | 領収書を求める | お気に入りのレストランについて話す | 趣味について話す | 仕事のプロジェクトについて話す | 家族について話す | 旅行の計画について話す | 最近の映画について話す | 本について話す | スポーツについて話す | 健康とフィットネスについて話す | 技術について話す | 時事問題について話す | 音楽について話す | 芸術と文化について話す | 教育について話す | キャリア目標について話す | 個人的な成果について話す | 課題と解決策について話す | 将来の抱負について話す | お気に入りのテレビ番組について話す | ペットについて話す | ガーデニングについて話す | 家の改善について話す | ファッションとスタイルについて話す | 環境問題について話す | ボランティア活動について話す | 地域のイベントについて話す\n",
    "\"\"\"\n",
    "\n",
    "generate_outline_direct = direct_gen_outline_prompt | azure_llm.with_structured_output(Outline)\n",
    "initial_outline = generate_outline_direct.invoke({\"topic\": example_topic})"
   ]
  },
  {
   "cell_type": "code",
   "execution_count": 30,
   "id": "b1eae0f032de41e8",
   "metadata": {
    "collapsed": false,
    "ExecuteTime": {
     "end_time": "2025-04-20T03:45:08.339144700Z",
     "start_time": "2025-04-20T03:45:08.334513900Z"
    }
   },
   "outputs": [
    {
     "data": {
      "text/plain": "<IPython.core.display.Markdown object>",
      "text/markdown": "# JLPT N3 Level Exam Paper\n\n## Vocabulary and Grammar\n\n### Kanji Reading\n\n8 questions on reading Kanji from the given vocabulary list.\n\n- **Kanji readings for 配達, 泊める, 行き, 乗せる, 国籍, 招く, 乾燥, そのまま**\n\n### Write Chinese Characters\n\n6 questions on writing Chinese characters based on given readings.\n\n- **Write Kanji for はいたつ, とめる, いき, のせる, こくせき, まねく**\n\n### Word Meaning Selection\n\n11 questions on selecting the correct meaning of words.\n\n- **Choose the meaning for 配達, 泊める, 行き, 乗せる, 国籍, 招く, 乾燥, そのまま, 大部分, 諦める**\n\n### Synonyms Substitution\n\n5 questions on substituting words with synonyms.\n\n- **Find synonyms for 配達, 泊める, 行き, 乗せる, 国籍**\n\n### Word Usage\n\n5 questions on using words in sentences.\n\n- **Use 配達, 泊める, 行き, 乗せる, 国籍 in sentences.**\n\n### Grammar Fill in the Blank\n\n13 questions on filling in blanks with correct grammar.\n\n- **Fill in the blanks with appropriate grammar structures.**\n\n### Sentence Sorting\n\n5 questions on sorting sentences into correct order.\n\n- **Sort sentences related to 店で価格を尋ねる, 購入したい商品の説明, 割引交渉, レストランで食べ物を注文する, 食事の好みについて話す**\n\n### Grammar Structure Selection\n\n4-5 questions on selecting appropriate grammar structures (cloze test).\n\n- **Select correct grammar structures for sentences related to 趣味について話す, 仕事のプロジェクトについて話す, 家族について話す, 旅行の計画について話す**\n\n## Reading Comprehension\n\n### Short Passages\n\n4 articles with 1 question per article.\n\n- **Short passages about 店で価格を尋ねる, 購入したい商品の説明, 割引交渉, レストランで食べ物を注文する**\n\n### Mid-size Passages\n\n2 articles with 3 questions per article.\n\n- **Mid-size passages on 趣味について話す, 仕事のプロジェクトについて話す**\n\n### Long Passages\n\n1 article with 4 questions.\n\n- **Long passage about 旅行の計画について話す**\n\n### Information Retrieval\n\n1 article with 2 questions.\n\n- **Information retrieval from a passage about 家族について話す**\n\n## Listening Comprehension\n\n### Topic Understanding\n\n6 questions on understanding topics.\n\n- **Listening topics: 技術について話す, 時事問題について話す, 音楽について話す, 芸術と文化について話す, 教育について話す, キャリア目標について話す**\n\n### Key Understanding\n\n6 questions on understanding key points.\n\n- **Key points from ペットについて話す, ガーデニングについて話す, 家の改善について話す, ファッションとスタイルについて話す, 環境問題について話す, ボランティア活動について話す**\n\n### Summary Understanding\n\n3 questions on summarizing information.\n\n- **Summaries of 地域のイベントについて話す, 将来の抱負について話す, 課題と解決策について話す**\n\n### Speak Up\n\n4 questions on active expression.\n\n- **Speak about お気に入りのテレビ番組について話す, 最近の映画について話す, 本について話す, スポーツについて話す**\n\n### Immediate Acknowledgment\n\n9 questions on immediate response to listening material.\n\n- **Immediate responses for 天気の状況について話す, 週末の予定について話す, おすすめを尋ねる, ショッピング体験を説明する, 支払い方法について話す, 領収書を求める, お気に入りのレストランについて話す**"
     },
     "metadata": {},
     "output_type": "display_data"
    }
   ],
   "source": [
    "from IPython.display import display, Markdown, Latex\n",
    "display(Markdown(initial_outline.as_str))"
   ]
  }
 ],
 "metadata": {
  "kernelspec": {
   "display_name": "Python 3",
   "language": "python",
   "name": "python3"
  },
  "language_info": {
   "codemirror_mode": {
    "name": "ipython",
    "version": 2
   },
   "file_extension": ".py",
   "mimetype": "text/x-python",
   "name": "python",
   "nbconvert_exporter": "python",
   "pygments_lexer": "ipython2",
   "version": "2.7.6"
  }
 },
 "nbformat": 4,
 "nbformat_minor": 5
}
