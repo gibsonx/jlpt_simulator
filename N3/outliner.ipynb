{
 "cells": [
  {
   "cell_type": "markdown",
   "id": "2b011bdf967ca7ff",
   "metadata": {
    "collapsed": false
   },
   "source": [
    "# Language Knowledge (Vocabulary)\n",
    "Duration: 30 minutes\n",
    "Content: This section tests your knowledge of Japanese vocabulary, including kanji readings, orthography, word formation, contextually-defined expressions, paraphrases, and usage\n",
    "It mainly composes following five categories:\n",
    "- ``Reading Kana`` (Pronunciation Questions): Given a kanji word, choose the correct kana reading.\n",
    "- `Writing Kanji` (Writing Questions): Given a word written in kana, choose the correct kanji representation.\n",
    "- `Word Meaning` Selection (Vocabulary Understanding): Choose the most suitable word to fill in the sentence from four options.\n",
    "- `Synonym Replacement`: Select a word that has the same or similar meaning as the underlined word.\n",
    "- `Vocabulary Usage`: Assess the usage of words in actual contexts, choosing the most appropriate word usage, including some common Japanese expressions or fixed phrases."
   ]
  },
  {
   "cell_type": "code",
   "execution_count": null,
   "id": "7f526a68a7e73a65",
   "metadata": {
    "ExecuteTime": {
     "end_time": "2025-03-21T04:40:58.893331Z",
     "start_time": "2025-03-21T04:40:58.879420Z"
    },
    "collapsed": false
   },
   "outputs": [
    {
     "data": {
      "text/plain": [
       "True"
      ]
     },
     "execution_count": 27,
     "metadata": {},
     "output_type": "execute_result"
    }
   ],
   "source": [
    "import pandas as pd\n",
    "import json\n",
    "import os\n",
    "import pickle\n",
    "import re\n",
    "import uuid\n",
    "from typing import *\n",
    "from langchain_openai import AzureOpenAI,AzureChatOpenAI\n",
    "from langchain_anthropic import ChatAnthropic\n",
    "from langchain_core.prompts import ChatPromptTemplate\n",
    "from dotenv import load_dotenv\n",
    "from langchain_aws import ChatBedrock\n",
    "from langchain.embeddings.base import Embeddings\n",
    "from langchain.text_splitter import CharacterTextSplitter\n",
    "from langchain_community.document_loaders import PyPDFLoader\n",
    "from langchain_community.embeddings import HuggingFaceEmbeddings\n",
    "# from langchain_community.embeddings import XinferenceEmbeddings\n",
    "from langchain_community.vectorstores import Chroma\n",
    "from langchain_openai import OpenAIEmbeddings\n",
    "from typing import Annotated, Literal, Sequence\n",
    "from typing_extensions import TypedDict\n",
    "\n",
    "from langchain import hub\n",
    "from langchain_core.output_parsers import StrOutputParser\n",
    "from langchain_core.prompts import PromptTemplate\n",
    "from langchain_openai import ChatOpenAI\n",
    "from typing import Annotated, Sequence\n",
    "from typing_extensions import TypedDict\n",
    "from langchain_core.messages import BaseMessage,RemoveMessage,HumanMessage,AIMessage,ToolMessage\n",
    "from langgraph.graph.message import add_messages\n",
    "from pydantic import BaseModel, Field\n",
    "from langgraph.graph import END, StateGraph, START\n",
    "from langgraph.prebuilt import ToolNode\n",
    "from langgraph.prebuilt import tools_condition\n",
    "from langgraph.checkpoint.memory import MemorySaver\n",
    "from langchain.output_parsers import PydanticOutputParser\n",
    "from pydantic import BaseModel, Field, validator\n",
    "from typing import List, Optional\n",
    "\n",
    "load_dotenv()"
   ]
  },
  {
   "cell_type": "code",
   "execution_count": null,
   "id": "initial_id",
   "metadata": {
    "ExecuteTime": {
     "end_time": "2025-03-21T04:16:29.848650Z",
     "start_time": "2025-03-21T04:16:29.789394Z"
    },
    "collapsed": false
   },
   "outputs": [
    {
     "data": {
      "text/html": [
       "<div>\n",
       "<style scoped>\n",
       "    .dataframe tbody tr th:only-of-type {\n",
       "        vertical-align: middle;\n",
       "    }\n",
       "\n",
       "    .dataframe tbody tr th {\n",
       "        vertical-align: top;\n",
       "    }\n",
       "\n",
       "    .dataframe thead th {\n",
       "        text-align: right;\n",
       "    }\n",
       "</style>\n",
       "<table border=\"1\" class=\"dataframe\">\n",
       "  <thead>\n",
       "    <tr style=\"text-align: right;\">\n",
       "      <th></th>\n",
       "      <th>expression</th>\n",
       "      <th>reading</th>\n",
       "    </tr>\n",
       "  </thead>\n",
       "  <tbody>\n",
       "    <tr>\n",
       "      <th>0</th>\n",
       "      <td>下る</td>\n",
       "      <td>くだる</td>\n",
       "    </tr>\n",
       "    <tr>\n",
       "      <th>1</th>\n",
       "      <td>決心</td>\n",
       "      <td>けっしん</td>\n",
       "    </tr>\n",
       "    <tr>\n",
       "      <th>2</th>\n",
       "      <td>教わる</td>\n",
       "      <td>おそわる</td>\n",
       "    </tr>\n",
       "    <tr>\n",
       "      <th>3</th>\n",
       "      <td>胸</td>\n",
       "      <td>むね</td>\n",
       "    </tr>\n",
       "    <tr>\n",
       "      <th>4</th>\n",
       "      <td>松</td>\n",
       "      <td>まつ</td>\n",
       "    </tr>\n",
       "  </tbody>\n",
       "</table>\n",
       "</div>"
      ],
      "text/plain": [
       "  expression reading\n",
       "0         下る     くだる\n",
       "1         決心    けっしん\n",
       "2        教わる    おそわる\n",
       "3          胸      むね\n",
       "4          松      まつ"
      ]
     },
     "execution_count": 16,
     "metadata": {},
     "output_type": "execute_result"
    }
   ],
   "source": [
    "# Import N3 Vocabulary\n",
    "file_path = '../Vocab/n3.csv'\n",
    "# Read the CSV file\n",
    "data = pd.read_csv(file_path)\n",
    "words = data.iloc[:, :2].sample(frac=1).reset_index(drop=True)\n",
    "# Display the content of the CSV file\n",
    "words.head()"
   ]
  },
  {
   "cell_type": "markdown",
   "id": "4c1cdce8b1f57ef3",
   "metadata": {
    "collapsed": false
   },
   "source": [
    "#### load Models"
   ]
  },
  {
   "cell_type": "code",
   "execution_count": null,
   "id": "895a64c8ba51e354",
   "metadata": {
    "ExecuteTime": {
     "end_time": "2025-03-21T04:41:04.221613Z",
     "start_time": "2025-03-21T04:41:01.706848Z"
    },
    "collapsed": false
   },
   "outputs": [],
   "source": [
    "# azure_llm = AzureChatOpenAI(\n",
    "#     azure_endpoint=\"https://tooldev-openai.openai.azure.com/openai/deployments/gpt-4o/chat/completions?api-version=2025-01-01-preview\",\n",
    "#     api_key=os.environ[\"AZURE_API_KEY\"],\n",
    "#     model_name=\"gpt-4o\",\n",
    "#     api_version=\"2025-01-01-preview\",\n",
    "#     temperature=0.5,\n",
    "# )"
   ]
  },
  {
   "cell_type": "code",
   "execution_count": null,
   "id": "5643fdb248144100",
   "metadata": {
    "ExecuteTime": {
     "end_time": "2025-03-21T04:41:04.905106Z",
     "start_time": "2025-03-21T04:41:04.225122Z"
    },
    "collapsed": false
   },
   "outputs": [],
   "source": [
    "aws_llm = ChatBedrock(\n",
    "    model_id=\"us.anthropic.claude-3-7-sonnet-20250219-v1:0\",\n",
    "     # model_id=\"us.anthropic.claude-3-5-haiku-20241022-v1:0\",\n",
    "    model_kwargs=dict(temperature=0.3),\n",
    "    region = \"us-east-2\",\n",
    "    aws_access_key_id=os.environ[\"AWS_ACCESS_KEY_ID\"],\n",
    "    aws_secret_access_key=os.environ[\"AWS_SECRET_ACCESS_KEY\"],\n",
    ")"
   ]
  },
  {
   "cell_type": "code",
   "execution_count": null,
   "id": "c81d15454f724b5b",
   "metadata": {
    "ExecuteTime": {
     "end_time": "2025-03-21T04:16:32.695660Z",
     "start_time": "2025-03-21T04:16:32.691347Z"
    },
    "collapsed": false
   },
   "outputs": [],
   "source": []
  },
  {
   "cell_type": "markdown",
   "id": "385c63b54b5c2a36",
   "metadata": {
    "collapsed": false
   },
   "source": [
    "#### Exam Paper Outline\n",
    "### A. overall thinking the structure of an exam\n",
    "1. distribution of the difficulty \n",
    "2. topics\n",
    "3. reasoning"
   ]
  },
  {
   "cell_type": "code",
   "execution_count": null,
   "id": "e339295a858fb5f8",
   "metadata": {
    "ExecuteTime": {
     "end_time": "2025-03-21T04:16:32.716505Z",
     "start_time": "2025-03-21T04:16:32.700673Z"
    },
    "collapsed": false
   },
   "outputs": [],
   "source": [
    "from typing import List, Optional\n",
    "\n",
    "from langchain_core.prompts import ChatPromptTemplate\n",
    "\n",
    "from pydantic import BaseModel, Field\n",
    "\n",
    "instruction = \"\"\"\n",
    "Section 1: Vocabulary and Grammar\n",
    "    SubSection: \n",
    "        - Kanji reading: 1-10 questions\n",
    "        - Orthography: 1-10 questions\n",
    "        - Word formation: 1-10 questions\n",
    "        - Contextually-defined expressions: 1-10 questions\n",
    "        - Paraphrases: 1-10 questions\n",
    "        - Usage: 1-10 questions\n",
    "        - Sentential grammar (Selecting grammar form): 1-10 questions\n",
    "        - Sentential grammar (Sentence composition): 1-10 questions\n",
    "        - Text grammar: 1-10 questions\n",
    "Total Vocabulary and Grammar Questions: 25-35 questions\n",
    "\n",
    "Section 2: Reading Comprehension\n",
    "    SubSection:\n",
    "        - Short passages: only 1 topic for 5-8 questions\n",
    "        - Mid-size passages: only 1 topic for 4-6 questions\n",
    "        - Long passages: only 1 topic for 3-5 questions\n",
    "        - Information retrieval: only 1 topic for 3-5 questions\n",
    "Total Reading Comprehension Questions: 15-24 questions\n",
    "\n",
    "Section 3: Listening Comprehension\n",
    "    SubSection:\n",
    "        - Task-based comprehension: 5-8 questions\n",
    "        - Comprehension of key points: 5-8 questions\n",
    "        - Quick response: 5-8 questions\n",
    "        - Integrated comprehension: 3-5 questions\n",
    "Total Listening Comprehension Questions: 18-29 questions\n",
    "\"\"\"\n",
    "\n",
    "direct_gen_outline_prompt = ChatPromptTemplate.from_messages(\n",
    "    [\n",
    "        (\n",
    "            \"system\",\n",
    "            f\"You are a japanese teacher. Your job is to write an outline for a JLPT N3 level exam paper by randomly picking some of the topic list that user provided for different sections. The JLPT exam paper includes a mix of easy, moderate, and difficult questions to accurately assess the test-taker's proficiency across different aspects of the language.\"\n",
    "            f\"First, you should abide by the following exam instructions and decide content and number of questions in the each subsection.\"\n",
    "            f\"Second, the vocabulary should be restricted to N3 level, you can refer to the vocabulary in the word list\"\n",
    "            f\"Finally, write the outline of the examination paper and provide question topics according to the instructions.\"\n",
    "            f\"instruction: {instruction}, word list: {words}\",\n",
    "        ),\n",
    "        (\"user\", \"topic list: {topic}\"),\n",
    "    ]\n",
    ")\n"
   ]
  },
  {
   "cell_type": "markdown",
   "id": "fed5f032dadafac1",
   "metadata": {
    "collapsed": false
   },
   "source": [
    "## Data Strcuture"
   ]
  },
  {
   "cell_type": "code",
   "execution_count": null,
   "id": "39329a71b16d2400",
   "metadata": {
    "ExecuteTime": {
     "end_time": "2025-03-21T04:41:31.013859Z",
     "start_time": "2025-03-21T04:41:31.000027Z"
    },
    "collapsed": false
   },
   "outputs": [],
   "source": [
    "class QuestionTopic(BaseModel):\n",
    "    question: str = Field(..., title=\"keyword of the question\")\n",
    "    \n",
    "    \n",
    "class Subsection(BaseModel):\n",
    "    subsection_title: str = Field(..., title=\"Topic of the subsection\")\n",
    "    description: str = Field(..., title=\"giving the number of questions\")\n",
    "    question_topics: Optional[List[QuestionTopic]] = Field(\n",
    "        default_factory=list,\n",
    "        title=\"a number of questions according to the section requirements\",\n",
    "    )\n",
    "    \n",
    "    @property\n",
    "    def as_str(self) -> str:\n",
    "        question_topics_str = \"\\n\".join(\n",
    "            f\"- **{qt.question}**\" for qt in self.question_topics\n",
    "        )\n",
    "        return f\"### {self.subsection_title}\\n\\n{self.description}\\n\\n{question_topics_str}\".strip()\n",
    "\n",
    "class Section(BaseModel):\n",
    "    section_title: str = Field(..., title=\"Title of the section\")\n",
    "    # description: str = Field(..., title=\"Ideas of this section\")\n",
    "    subsections: Optional[List[Subsection]] = Field(\n",
    "        default_factory=list,\n",
    "        title=\"Titles and reason for each subsection of the JLPT exam page.\",\n",
    "    )\n",
    "\n",
    "    @property\n",
    "    def as_str(self) -> str:\n",
    "        subsections = \"\\n\\n\".join(\n",
    "            subsection.as_str for subsection in self.subsections or []\n",
    "        )\n",
    "        return f\"## {self.section_title}\\n\\n{subsections}\".strip()\n",
    "\n",
    "\n",
    "class Outline(BaseModel):\n",
    "    page_title: str = Field(..., title=\"Title of the JLPT exam page\")\n",
    "    sections: List[Section] = Field(\n",
    "        default_factory=list,\n",
    "        title=\"Titles and descriptions for each section of the JLPT exam paper.\",\n",
    "    )\n",
    "\n",
    "    @property\n",
    "    def as_str(self) -> str:\n",
    "        sections = \"\\n\\n\".join(section.as_str for section in self.sections)\n",
    "        return f\"# {self.page_title}\\n\\n{sections}\".strip()\n"
   ]
  },
  {
   "cell_type": "code",
   "execution_count": null,
   "id": "a052e26f8a90f653",
   "metadata": {
    "ExecuteTime": {
     "end_time": "2025-03-21T04:41:47.481181Z",
     "start_time": "2025-03-21T04:41:34.291283Z"
    },
    "collapsed": false
   },
   "outputs": [],
   "source": [
    "example_topic = \"\"\"\n",
    "Section 1 - Vocabulary and Grammar: \n",
    "店で価格を尋ねる | 購入したい商品の説明 | 割引交渉 | レストランで食べ物を注文する | 食事の好みについて話す | 料理を褒める | 道を尋ねる | 交通手段について話す | 交通状況について話す | タクシーを予約する | 電車の切符を買う | バスの時刻表を尋ねる | 通勤について説明する | 天気の状況について話す | 週末の予定について話す | おすすめを尋ねる | ショッピング体験を説明する | 支払い方法について話す | 領収書を求める | お気に入りのレストランについて話す | 趣味について話す | 仕事のプロジェクトについて話す | 家族について話す | 旅行の計画について話す | 最近の映画について話す | 本について話す | スポーツについて話す | 健康とフィットネスについて話す | 技術について話す | 時事問題について話す | 音楽について話す | 芸術と文化について話す | 教育について話す | キャリア目標について話す | 個人的な成果について話す | 課題と解決策について話す | 将来の抱負について話す | お気に入りのテレビ番組について話す | ペットについて話す | ガーデニングについて話す | 家の改善について話す | ファッションとスタイルについて話す | 環境問題について話す | ボランティア活動について話す | 地域のイベントについて話す\n",
    "\"\"\"\n",
    "\n",
    "generate_outline_direct = direct_gen_outline_prompt | azure_llm.with_structured_output(Outline)\n",
    "initial_outline = generate_outline_direct.invoke({\"topic\": example_topic})"
   ]
  },
  {
   "cell_type": "code",
   "execution_count": null,
   "id": "b1eae0f032de41e8",
   "metadata": {
    "ExecuteTime": {
     "end_time": "2025-03-21T04:42:08.840697Z",
     "start_time": "2025-03-21T04:42:08.834315Z"
    },
    "collapsed": false
   },
   "outputs": [
    {
     "data": {
      "text/markdown": [
       "# JLPT N3 Level Exam Paper\n",
       "\n",
       "## Vocabulary and Grammar\n",
       "\n",
       "### Kanji reading\n",
       "\n",
       "5 questions\n",
       "\n",
       "- **店で価格を尋ねる**\n",
       "- **レストランで食べ物を注文する**\n",
       "- **交通手段について話す**\n",
       "- **天気の状況について話す**\n",
       "- **趣味について話す**\n",
       "\n",
       "### Orthography\n",
       "\n",
       "3 questions\n",
       "\n",
       "- **道を尋ねる**\n",
       "- **バスの時刻表を尋ねる**\n",
       "- **支払い方法について話す**\n",
       "\n",
       "### Word formation\n",
       "\n",
       "4 questions\n",
       "\n",
       "- **購入したい商品の説明**\n",
       "- **割引交渉**\n",
       "- **料理を褒める**\n",
       "- **電車の切符を買う**\n",
       "\n",
       "### Contextually-defined expressions\n",
       "\n",
       "3 questions\n",
       "\n",
       "- **週末の予定について話す**\n",
       "- **おすすめを尋ねる**\n",
       "- **ショッピング体験を説明する**\n",
       "\n",
       "### Usage\n",
       "\n",
       "5 questions\n",
       "\n",
       "- **仕事のプロジェクトについて話す**\n",
       "- **家族について話す**\n",
       "- **最近の映画について話す**\n",
       "- **スポーツについて話す**\n",
       "- **健康とフィットネスについて話す**\n",
       "\n",
       "### Sentential grammar (Selecting grammar form)\n",
       "\n",
       "5 questions\n",
       "\n",
       "- **技術について話す**\n",
       "- **時事問題について話す**\n",
       "- **音楽について話す**\n",
       "- **芸術と文化について話す**\n",
       "- **教育について話す**\n",
       "\n",
       "### Sentential grammar (Sentence composition)\n",
       "\n",
       "4 questions\n",
       "\n",
       "- **キャリア目標について話す**\n",
       "- **個人的な成果について話す**\n",
       "- **課題と解決策について話す**\n",
       "- **将来の抱負について話す**\n",
       "\n",
       "### Text grammar\n",
       "\n",
       "4 questions\n",
       "\n",
       "- **お気に入りのテレビ番組について話す**\n",
       "- **ペットについて話す**\n",
       "- **ガーデニングについて話す**\n",
       "- **家の改善について話す**\n",
       "\n",
       "## Reading Comprehension\n",
       "\n",
       "### Short passages\n",
       "\n",
       "5 questions\n",
       "\n",
       "- **環境問題について話す**\n",
       "\n",
       "### Mid-size passages\n",
       "\n",
       "5 questions\n",
       "\n",
       "- **ボランティア活動について話す**\n",
       "\n",
       "### Long passages\n",
       "\n",
       "3 questions\n",
       "\n",
       "- **地域のイベントについて話す**\n",
       "\n",
       "### Information retrieval\n",
       "\n",
       "4 questions\n",
       "\n",
       "- **お気に入りのレストランについて話す**\n",
       "\n",
       "## Listening Comprehension\n",
       "\n",
       "### Task-based comprehension\n",
       "\n",
       "6 questions\n",
       "\n",
       "- **レストランで食べ物を注文する**\n",
       "\n",
       "### Comprehension of key points\n",
       "\n",
       "6 questions\n",
       "\n",
       "- **交通手段について話す**\n",
       "\n",
       "### Quick response\n",
       "\n",
       "5 questions\n",
       "\n",
       "- **天気の状況について話す**\n",
       "\n",
       "### Integrated comprehension\n",
       "\n",
       "4 questions\n",
       "\n",
       "- **週末の予定について話す**"
      ],
      "text/plain": [
       "<IPython.core.display.Markdown object>"
      ]
     },
     "metadata": {},
     "output_type": "display_data"
    }
   ],
   "source": [
    "from IPython.display import display, Markdown, Latex\n",
    "display(Markdown(initial_outline.as_str))"
   ]
  },
  {
   "cell_type": "markdown",
   "id": "5795bb3d95c0cc50",
   "metadata": {
    "collapsed": false
   },
   "source": [
    "# Kanji 读假名（读音问题）"
   ]
  },
  {
   "cell_type": "code",
   "execution_count": null,
   "id": "1a966afd733d860d",
   "metadata": {
    "ExecuteTime": {
     "end_time": "2025-03-21T04:16:47.285802Z",
     "start_time": "2025-03-21T04:16:45.414059Z"
    },
    "collapsed": false
   },
   "outputs": [
    {
     "name": "stdout",
     "output_type": "stream",
     "text": [
      "     expression reading\n",
      "0            下る     くだる\n",
      "1            決心    けっしん\n",
      "2           教わる    おそわる\n",
      "3             胸      むね\n",
      "4             松      まつ\n",
      "...         ...     ...\n",
      "2134         高価     こうか\n",
      "2135        プラス     プラス\n",
      "2136          旅      たび\n",
      "2137         大使     たいし\n",
      "2138       わがまま    わがまま\n",
      "\n",
      "[2139 rows x 2 columns]\n"
     ]
    },
    {
     "data": {
      "image/png": "[encoded data removed]",
      "text/plain": [
       "<IPython.core.display.Image object>"
      ]
     },
     "metadata": {},
     "output_type": "display_data"
    }
   ],
   "source": [
    "from typing_extensions import TypedDict\n",
    "from langgraph.graph import StateGraph, START, END\n",
    "from IPython.display import Image, display\n",
    "\n",
    "\n",
    "# Graph state\n",
    "class QuestionState(TypedDict):\n",
    "    topic: str\n",
    "    question: str\n",
    "    improved_question: str\n",
    "    final_question: str\n",
    "\n",
    "\n",
    "kanji_example = \"\"\"\n",
    "1) いま 店の まえにいます。\n",
    "1 いえ\n",
    "2 えき\n",
    "3 みせ\n",
    "4 へや\n",
    "2) たなかさんは いま 外国に います。\n",
    "1 がいしゃ\n",
    "2 かいしゃ\n",
    "3 かいこく 4 がいこく\n",
    "3) さとうさんは 話が じょうずです。\n",
    "1 うた\n",
    "2 はなし\n",
    "3 え\n",
    "4 じ\n",
    "4) はやしさんも 読んで ください。\n",
    "1 あそんで\n",
    "2 ならんで\n",
    "3 よんで\n",
    "4 えらんで\n",
    "5) あたらしい こうえんは まちの 北がわに あります。\n",
    "1 ひがしがわ\n",
    "2 みなみがわ\n",
    "3 にしがわ\n",
    "4 きたがわ\n",
    "6) わたしは 九月に けっこんします。。\n",
    "1 くがつ\n",
    "2 きゅうがつ\n",
    "3 くげつ\n",
    "4 きゅうげつ\n",
    "7) きのう 来なかった ひとは だれですか。\n",
    "1 きなかった\n",
    "2 こなかった\n",
    "3 いなかった \n",
    "4 ねなかった\n",
    "\"\"\"\n",
    "\n",
    "print(words)\n",
    "\n",
    "# Nodes\n",
    "def generate_question(state: QuestionState):\n",
    "    \"\"\"First LLM call to generate initial question\"\"\"\n",
    "\n",
    "    msg = llm.invoke(f\"You are a japanese teacher. Your job is to write 5 vocabulary questions for candidate to identify kanji characters and their meanings for a JLPT N3 level exam paper by topics that user provided in the topic list. This includes recognizing kanji in context, such as in sentences or phrase. Don't replace kanji part and only substitute in the options. The JLPT exam paper includes a mix of easy, moderate, and difficult questions to accurately assess the test-taker's proficiency across different aspects of the language.\"\n",
    "            f\"The vocabulary should be restricted to N3 level, you can refer to the vocabulary in the word list, choosing random words for the questions\"\n",
    "            f\"please refer the question examples following the formal exam paper\"\n",
    "            f\"append the correct answer and explanation of main challenges and why teacher asks this question to candidate in chinese at each question\"\n",
    "            f\"Finally, beautify markdown format\"\n",
    "            f\"topic list: {state['topic']}\"\n",
    "            f\"word list: {words}\"\n",
    "            f\"formal exam paper: {kanji_example}\")\n",
    "    \n",
    "    return {\"question\": msg.content}\n",
    "\n",
    "\n",
    "# Build workflow\n",
    "kanji_workflow = StateGraph(QuestionState)\n",
    "\n",
    "# Add nodes\n",
    "kanji_workflow.add_node(\"generate_question\", generate_question)\n",
    "\n",
    "# Add edges to connect nodes\n",
    "kanji_workflow.add_edge(START, \"generate_question\")\n",
    "kanji_workflow.add_edge(\"generate_question\", END)\n",
    "\n",
    "# Compile\n",
    "kanji_graph = kanji_workflow.compile()\n",
    "\n",
    "# Show workflow\n",
    "display(Image(kanji_graph.get_graph().draw_png()))\n"
   ]
  },
  {
   "cell_type": "code",
   "execution_count": null,
   "id": "3c2e1e740fbe6971",
   "metadata": {
    "ExecuteTime": {
     "end_time": "2025-03-21T04:16:56.012933Z",
     "start_time": "2025-03-21T04:16:47.288792Z"
    },
    "collapsed": false
   },
   "outputs": [
    {
     "data": {
      "text/markdown": [
       "以下是基于您提供的主题和词汇表设计的JLPT N3级别的五道词汇题目，涵盖不同难度，并附有答案和中文解释。每道题目均以正式考试的形式呈现，同时提供了解题的挑战和出题目的说明。\n",
       "\n",
       "---\n",
       "\n",
       "### **1. 個人的な成果について話す**\n",
       "**問題**: 彼は大きな目標を達成するために、長い間______をしてきました。  \n",
       "1. 決定 (けってい)  \n",
       "2. 決心 (けっしん)  \n",
       "3. 解決 (かいけつ)  \n",
       "4. 教育 (きょういく)\n",
       "\n",
       "**正解**: **2. 決心 (けっしん)**  \n",
       "**中文解释**:  \n",
       "此题的难点在于考生需要区分“決心”和其他含义相近的词汇，如“決定”和“解決”。“決心”表示内心的决意，符合句中“达成目标”的语境，而其他选项则不符合语境。出题目的是测试考生对抽象名词的理解及其在句子中的正确运用。\n",
       "\n",
       "---\n",
       "\n",
       "### **2. 課題と解決策について話す**\n",
       "**問題**: この問題を解決するために、専門家に______ことにしました。  \n",
       "1. 教える (おしえる)  \n",
       "2. 教わる (おそわる)  \n",
       "3. 学ぶ (まなぶ)  \n",
       "4. 伝える (つたえる)\n",
       "\n",
       "**正解**: **2. 教わる (おそわる)**  \n",
       "**中文解释**:  \n",
       "此题的挑战在于“教わる”的被动含义，即“向他人学习”，而非主动传授知识。考生需要注意动词的语法形式和句子的语境。出题目的是考查考生对动词的被动语态以及敬语的理解。\n",
       "\n",
       "---\n",
       "\n",
       "### **3. 将来の抱負について話す**\n",
       "**問題**: 私は将来、世界中を______してみたいです。  \n",
       "1. 旅行 (りょこう)  \n",
       "2. 旅 (たび)  \n",
       "3. 道 (みち)  \n",
       "4. 駅 (えき)\n",
       "\n",
       "**正解**: **2. 旅 (たび)**  \n",
       "**中文解释**:  \n",
       "此题的难点在于“旅”和“旅行”的细微差别。“旅”更强调抽象意义上的旅行或冒险，而“旅行”通常指具体的旅游活动。出题目的是测试考生对近义词的理解以及对抽象表达的掌握。\n",
       "\n",
       "---\n",
       "\n",
       "### **4. お気に入りのテレビ番組について話す**\n",
       "**問題**: この番組の主人公はいつも______を張って、困難に立ち向かいます。  \n",
       "1. 胸 (むね)  \n",
       "2. 腕 (うで)  \n",
       "3. 足 (あし)  \n",
       "4. 目 (め)\n",
       "\n",
       "**正解**: **1. 胸 (むね)**  \n",
       "**中文解释**:  \n",
       "此题的挑战在于“胸を張る”是一个固定表达，意为“挺胸抬头、自信满满”。考生需要熟悉惯用语的使用及其含义。出题目的是考查考生对日语惯用表达的理解和运用。\n",
       "\n",
       "---\n",
       "\n",
       "### **5. 食事の好みについて話す**\n",
       "**問題**: 私は甘いものが好きですが、______はあまり食べません。  \n",
       "1. 塩 (しお)  \n",
       "2. 酸っぱい (すっぱい)  \n",
       "3. 辛い (からい)  \n",
       "4. 苦い (にがい)\n",
       "\n",
       "**正解**: **3. 辛い (からい)**  \n",
       "**中文解释**:  \n",
       "此题的难点在于考生需要根据句子逻辑推断出“辛い”（辣的）与“甘い”（甜的）形成对比关系。出题目的是测试考生对描述味觉的形容词的掌握及其在句子中的运用。\n",
       "\n",
       "---\n",
       "\n",
       "### **总结**\n",
       "这些题目涵盖了不同的主题和难度，旨在全面测试考生对N3级别词汇的掌握能力。通过这些题目，考生不仅需要理解词汇的基本意义，还需要结合具体语境进行正确选择。"
      ],
      "text/plain": [
       "<IPython.core.display.Markdown object>"
      ]
     },
     "metadata": {},
     "output_type": "display_data"
    }
   ],
   "source": [
    "# Invoke\n",
    "kanji = kanji_graph.invoke({\"topic\": \"個人的な成果について話す | 課題と解決策について話す | 将来の抱負について話す | お気に入りのテレビ番組について話す  | 食事の好みについて話す \"})\n",
    "display(Markdown(kanji[\"question\"]))"
   ]
  },
  {
   "cell_type": "code",
   "execution_count": null,
   "id": "553844c1e99d121c",
   "metadata": {
    "ExecuteTime": {
     "end_time": "2025-03-21T04:16:56.016605Z",
     "start_time": "2025-03-21T04:16:56.013957Z"
    },
    "collapsed": false
   },
   "outputs": [],
   "source": []
  },
  {
   "cell_type": "code",
   "execution_count": null,
   "id": "c778d8e10606427f",
   "metadata": {
    "ExecuteTime": {
     "end_time": "2025-03-21T04:16:56.020212Z",
     "start_time": "2025-03-21T04:16:56.017630Z"
    },
    "collapsed": false
   },
   "outputs": [],
   "source": []
  }
 ],
 "metadata": {
  "kernelspec": {
   "display_name": "Python 3",
   "language": "python",
   "name": "python3"
  },
  "language_info": {
   "codemirror_mode": {
    "name": "ipython",
    "version": 2
   },
   "file_extension": ".py",
   "mimetype": "text/x-python",
   "name": "python",
   "nbconvert_exporter": "python",
   "pygments_lexer": "ipython2",
   "version": "2.7.6"
  }
 },
 "nbformat": 4,
 "nbformat_minor": 5
}
