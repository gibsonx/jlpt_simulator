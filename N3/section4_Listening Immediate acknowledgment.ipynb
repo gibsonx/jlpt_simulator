{
 "cells": [
  {
   "cell_type": "markdown",
   "id": "2b011bdf967ca7ff",
   "metadata": {
    "collapsed": false
   },
   "source": [
    "# Language Knowledge (Vocabulary)\n",
    "Duration: 30 minutes\n",
    "Content: This section tests your knowledge of Japanese vocabulary, including kanji readings, orthography, word formation, contextually-defined expressions, paraphrases, and usage\n",
    "It mainly composes following five categories:\n",
    "- ``Reading Kana`` (Pronunciation Questions): Given a kanji word, choose the correct kana reading.\n",
    "- `Writing Kanji` (Writing Questions): Given a word written in kana, choose the correct kanji representation.\n",
    "- `Word Meaning` Selection (Vocabulary Understanding): Choose the most suitable word to fill in the sentence from four options.\n",
    "- `Synonym Replacement`: Select a word that has the same or similar meaning as the underlined word.\n",
    "- `Vocabulary Usage`: Assess the usage of words in actual contexts, choosing the most appropriate word usage, including some common Japanese expressions or fixed phrases."
   ]
  },
  {
   "cell_type": "code",
   "execution_count": 100,
   "id": "7f526a68a7e73a65",
   "metadata": {
    "ExecuteTime": {
     "end_time": "2025-04-12T09:05:46.881337200Z",
     "start_time": "2025-04-12T09:05:46.846841100Z"
    },
    "collapsed": false
   },
   "outputs": [
    {
     "data": {
      "text/plain": [
       "True"
      ]
     },
     "execution_count": 100,
     "metadata": {},
     "output_type": "execute_result"
    }
   ],
   "source": [
    "import pandas as pd\n",
    "import json\n",
    "import os\n",
    "import random\n",
    "import pickle\n",
    "import re\n",
    "import uuid\n",
    "from typing import *\n",
    "from langchain_openai import AzureOpenAI,AzureChatOpenAI\n",
    "from langchain_anthropic import ChatAnthropic\n",
    "from langchain_core.prompts import ChatPromptTemplate, MessagesPlaceholder\n",
    "from dotenv import load_dotenv\n",
    "from langchain_aws import ChatBedrock\n",
    "from langchain.embeddings.base import Embeddings\n",
    "from langchain.text_splitter import CharacterTextSplitter\n",
    "from langchain_community.document_loaders import PyPDFLoader\n",
    "from langchain_community.embeddings import HuggingFaceEmbeddings\n",
    "# from langchain_community.embeddings import XinferenceEmbeddings\n",
    "from langchain_community.vectorstores import Chroma\n",
    "from langchain_openai import OpenAIEmbeddings\n",
    "from typing import Annotated, Literal, Sequence\n",
    "from typing_extensions import TypedDict\n",
    "from IPython.display import display, Markdown, Latex\n",
    "from langchain import hub\n",
    "from langchain_core.output_parsers import StrOutputParser\n",
    "from langchain_core.prompts import PromptTemplate\n",
    "from langchain_openai import ChatOpenAI\n",
    "from typing import Annotated, Sequence\n",
    "from typing_extensions import TypedDict\n",
    "from langchain_core.messages import BaseMessage,RemoveMessage,HumanMessage,AIMessage,ToolMessage\n",
    "from langgraph.graph.message import add_messages\n",
    "from pydantic import BaseModel, Field\n",
    "from langgraph.graph import END, StateGraph, START\n",
    "from langgraph.prebuilt import ToolNode\n",
    "from langgraph.prebuilt import tools_condition\n",
    "from langgraph.checkpoint.memory import MemorySaver\n",
    "from langchain.output_parsers import PydanticOutputParser\n",
    "from pydantic import BaseModel, Field, validator\n",
    "from typing import List, Optional\n",
    "from langchain_tavily import TavilySearch\n",
    "from langchain.schema import Document\n",
    "from langgraph.prebuilt import create_react_agent\n",
    "from langchain_community.tools.tavily_search import TavilySearchResults\n",
    "load_dotenv()"
   ]
  },
  {
   "cell_type": "code",
   "execution_count": 101,
   "id": "58607e19",
   "metadata": {},
   "outputs": [],
   "source": [
    "azure_llm = AzureChatOpenAI(\n",
    "    azure_endpoint=\"https://ai-rolandaws880125ai409947751408.openai.azure.com/openai/deployments/gpt-4o/chat/completions?api-version=2025-01-01-preview\",\n",
    "    api_key=os.environ[\"AZURE_API_KEY\"],\n",
    "    model_name=\"gpt-4o\",\n",
    "    api_version=\"2025-01-01-preview\",\n",
    "    temperature=0.5,\n",
    ")\n",
    "\n",
    "aws_llm = ChatBedrock(\n",
    "    # model_id=\"us.anthropic.claude-3-7-sonnet-20250219-v1:0\",\n",
    "     model_id=\"us.anthropic.claude-3-5-haiku-20241022-v1:0\",\n",
    "    model_kwargs=dict(temperature=0.5),\n",
    "    region = \"us-east-2\",\n",
    "    aws_access_key_id=os.environ[\"AWS_ACCESS_KEY_ID\"],\n",
    "    aws_secret_access_key=os.environ[\"AWS_SECRET_ACCESS_KEY\"],\n",
    ")"
   ]
  },
  {
   "cell_type": "code",
   "execution_count": 102,
   "id": "initial_id",
   "metadata": {
    "ExecuteTime": {
     "end_time": "2025-04-12T09:05:46.893687800Z",
     "start_time": "2025-04-12T09:05:46.853897400Z"
    },
    "collapsed": false
   },
   "outputs": [],
   "source": [
    "# Import N3 Vocabulary\n",
    "file_path = '../../Vocab/n3.csv'\n",
    "# Read the CSV file\n",
    "data = pd.read_csv(file_path)\n",
    "words = data.iloc[:, :2].sample(frac=1).reset_index(drop=True)\n",
    "# Display the content of the CSV file\n",
    "words.head()\n",
    "vocab_dict = words.set_index(words.columns[0])[words.columns[1]].to_dict()\n",
    "vocab_dict = json.dumps(vocab_dict, ensure_ascii=False, separators=(',', ':'))"
   ]
  },
  {
   "cell_type": "markdown",
   "id": "4c1cdce8b1f57ef3",
   "metadata": {
    "collapsed": false
   },
   "source": [
    "#### load Models"
   ]
  },
  {
   "cell_type": "markdown",
   "id": "385c63b54b5c2a36",
   "metadata": {
    "collapsed": false
   },
   "source": [
    "#### Exam Paper Outline\n",
    "### A. overall thinking the structure of an exam\n",
    "1. distribution of the difficulty \n",
    "2. topics\n",
    "3. reasoning"
   ]
  },
  {
   "cell_type": "markdown",
   "id": "fed5f032dadafac1",
   "metadata": {
    "collapsed": false
   },
   "source": [
    "## Data Strcuture"
   ]
  },
  {
   "cell_type": "markdown",
   "id": "5795bb3d95c0cc50",
   "metadata": {
    "collapsed": false
   },
   "source": [
    "# Kanji 读假名（读音问题）"
   ]
  },
  {
   "cell_type": "code",
   "execution_count": 103,
   "id": "252ffacd6ebb7b37",
   "metadata": {
    "ExecuteTime": {
     "end_time": "2025-04-12T09:05:46.893687800Z",
     "start_time": "2025-04-12T09:05:46.867091900Z"
    },
    "collapsed": false
   },
   "outputs": [],
   "source": [
    "def online_search(state):\n",
    "    \"\"\"\n",
    "    Web search based on the re-phrased question.\n",
    "\n",
    "    Args:\n",
    "        state (dict): The current graph state\n",
    "\n",
    "    Returns:\n",
    "        state (dict): Updates documents key with appended web results\n",
    "    \"\"\"\n",
    "    \n",
    "    print(\"---WEB SEARCH---\")\n",
    "    \n",
    "    topic = state['messages'][0].content\n",
    "    \n",
    "    tavily_search_tool = TavilySearch(\n",
    "        max_results=5,\n",
    "        topic=\"news\",\n",
    "        days=1\n",
    "    )\n",
    "    # Web search\n",
    "    docs = tavily_search_tool.invoke({\"query\": topic})\n",
    "    \n",
    "    print(docs)\n",
    "\n",
    "    web_results = \"\\n\".join([d[\"content\"] for d in docs[\"results\"]])\n",
    "    \n",
    "    print(\"Web results: \", web_results)\n",
    "\n",
    "    return {\"documents\": web_results, \"topic\": topic}"
   ]
  },
  {
   "cell_type": "code",
   "execution_count": null,
   "id": "1a966afd733d860d",
   "metadata": {
    "ExecuteTime": {
     "end_time": "2025-04-12T09:05:46.917155100Z",
     "start_time": "2025-04-12T09:05:46.871842700Z"
    },
    "collapsed": false
   },
   "outputs": [],
   "source": [
    "from typing_extensions import TypedDict\n",
    "from langgraph.graph import StateGraph, START, END\n",
    "from IPython.display import Image, display\n",
    "\n",
    "\n",
    "# Graph state\n",
    "class QuestionState(TypedDict):\n",
    "    topic: str\n",
    "    question: str\n",
    "    documents: str\n",
    "    messages: Annotated[list, add_messages]\n",
    "\n",
    "\n",
    "example = \"\"\"\n",
    "問題5  \n",
    "  \n",
    "1番 正解: 1  \n",
    "会話内容:\n",
    "- 女: 足、痛そうだね。午後のテニスの練習、休んだら？  \n",
    "- 男: そうする。今日は帰るね。  \n",
    "- 女: 今日は練習、ないんだね。  \n",
    "- 男: テニス、今日は休むの?  \n",
    "  \n",
    "---  \n",
    "  \n",
    "2番 正解: 2  \n",
    "会話内容: \n",
    "- 男: 町の花火大会、今年はやらないことになったそうだよ。  \n",
    "- 女: やらないかもしれないんだね。  \n",
    "- 男: え? なんで? 楽しみにしてたのに・・・  \n",
    "- 女: じゃ、見に行かなくきゃね。  \n",
    "  \n",
    "---  \n",
    "  \n",
    "3番 正解: 1  \n",
    "会話内容:\n",
    "- 男: 吉田さん、今回の旅行、楽しかったよ。吉田さんが案内してくれたおかげだよ。  \n",
    "  1. 喜んでもらえてよかった  \n",
    "  2. 一緒に行けなくてごめんね  \n",
    "  3. 案内してくれてありがとう  \n",
    "\n",
    "---  \n",
    "   \n",
    "#### 4番 正解: 1  \n",
    "**会話内容:**  \n",
    "- 男: 来週の食事会、参加できるかまだわからなくて、いつまでにお返事すればいいですか?  \n",
    "  1. 今週中なら大丈夫ですよ  \n",
    "  2. 参加できそうでよかったです  \n",
    "  3. はい、返事お待ちしていますね  \n",
    "  \n",
    "---  \n",
    "  \n",
    "5番 正解: 3  \n",
    "会話内容:\n",
    "- 女: 曇ってきたね。雨が降らないうちに帰ろうか。  \n",
    "  1. え? もう降ってきた?  \n",
    "  2. 雨が止んでから帰るの?  \n",
    "  3. 降る前に帰ったほうがいいね  \n",
    "  \n",
    "---  \n",
    "  \n",
    "6番 正解: 3  \n",
    "会話内容:  \n",
    "- 女: 森さん、悪いけど、ドアの近くにあるダンボール箱、倉庫に運んでくれる?  \n",
    "  1. 倉庫にあるんですね。取ってきます  \n",
    "  2. ありがとうございます。お願いします  \n",
    "  3. あとでいいですか?  \n",
    "  \n",
    "---  \n",
    "  \n",
    "7番 正解: 1  \n",
    "会話内容:\n",
    "- 女: あの、こちらのお店、店の中の写真を撮っても構いませんか? すごく素敵なので。  \n",
    "  1. あ、写真はご遠慮ください  \n",
    "  2. 素敵な写真、ありがとうございます  \n",
    "  3. 写真は撮ってなんないですよ  \n",
    "  \n",
    "---  \n",
    "   \n",
    "8番 正解: 2  \n",
    "会話内容:\n",
    "- 男: 今、課長から電話があったんですが、訪問先から会社に戻らずに帰宅されるそうです。  \n",
    "  1. 一度会社に戻って来られるんですね  \n",
    "  2. あ、そのまま家に帰られるんですね  \n",
    "  3. え? 家に寄って来られるんですか?  \n",
    "  \n",
    "---  \n",
    "  \n",
    "9番 正解: 3  \n",
    "会話内容:\n",
    "- 男: 工事、遅れてるんだって? 課長に報告したほうがいいんじゃない?  \n",
    "  1. 遅れてるって課長が言ってたんですか?  \n",
    "  2. じゃ、報告はしないことにします  \n",
    "  3. そうですね。伝えておきます  \n",
    "\"\"\"\n",
    "\n",
    "# Nodes\n",
    "def question_draft_generator(state: QuestionState):\n",
    "    \"\"\"First LLM call to generate initial question\"\"\"\n",
    "    print(\"---Generator----\")\n",
    "        \n",
    "    search_result = state['documents'],\n",
    "    \n",
    "    prompt = ChatPromptTemplate.from_messages(\n",
    "        [\n",
    "            (\n",
    "                \"system\",\n",
    "                \"\"\"\n",
    "                    You are a Japanese teacher. Your job is to write a listening question for candidates to prepare the original text and options for the listening dialogue based on the reference format. Instant response, students need to listen to the conversation, choose the option that matches the meaning of the question based on the listening content, select the appropriate answer for this sentence in the current context, and provide three options. After listening to a conversation, I often ask someone in the conversation what they are going to do next. Only refer to the format, not the content..\n",
    "                    The vocabulary should be restricted to N3 level, use the vocabulary in the `Dictionary` as much as you can.\n",
    "                    Please refer to the question examples following the formal exam paper.\n",
    "                    Append the correct answer and explanation of the main challenges on why the teacher asks this question to the candidate in simplified Chinese at each question.\n",
    "                    Finally, output beautiful markdown format.\n",
    "                    Dictionary: {vocab_dict}\n",
    "                    Search result: {search_result}\n",
    "                    Formal exam paper: {example}\n",
    "                \"\"\"\n",
    "            ),\n",
    "            MessagesPlaceholder(variable_name=\"messages\"),\n",
    "        ]\n",
    "    )\n",
    "\n",
    "    \n",
    "    input = { \"topic\" : state['topic'],\n",
    "              \"search_result\": search_result, \n",
    "              \"vocab_dict\": vocab_dict,\n",
    "              \"example\": example,\n",
    "              \"messages\": state[\"messages\"]\n",
    "              }\n",
    "    # final_message = prompt.format_messages(**input)\n",
    "    # print(final_message)\n",
    "    \n",
    "    generate = prompt | azure_llm\n",
    "    \n",
    "    msg = generate.invoke(input=input)\n",
    "    \n",
    "    \n",
    "    return {\"question\": msg.content, \"messages\": [AIMessage(content=msg.content)] }\n",
    "\n",
    "\n",
    "def reflection_node(state: QuestionState) -> QuestionState:\n",
    "    print(\"---REVISOR---\")\n",
    "    \n",
    "    # Other messages we need to adjust\n",
    "    cls_map = {\"ai\": HumanMessage, \"human\": AIMessage}\n",
    "    # First message is the original user request. We hold it the same for all nodes\n",
    "    translated = [state[\"messages\"][0]] + [\n",
    "        cls_map[msg.type](content=msg.content) for msg in state[\"messages\"][1:]\n",
    "    ]\n",
    "\n",
    "    reflection_prompt = ChatPromptTemplate.from_messages(\n",
    "    [\n",
    "        (\n",
    "            \"system\",\n",
    "            \"\"\"you are a Japanese language educator reviewing a JLPT exam paper. Generate critique and recommendations for the user's submission.\n",
    "            the review focuses on content accuracy and question quality. \n",
    "            - For content accuracy, you must verify that the grammar and vocabulary questions accurately reflect the appropriate JLPT N3 level, ensuring the reading passages are clear, relevant, and appropriately challenging. \n",
    "            - For question quality, you must ensure all questions are clearly worded and free from ambiguity to comprehensively assess different language skills, and confirm that the difficulty level of the questions matches the intended JLPT N3 level.\n",
    "            - During detailed refinement, you check the format and presentation of the paper, ensuring it is well-organized and the instructions are clear and concise. you also ensure the content is culturally appropriate and relevant to Japanese language and culture.\n",
    "            - Finally, you make give feedback, providing detailed recommendations, including requests.If you think the exam paper is good enough, you just say \"GOOD ENOUGH\"\n",
    "            \"\"\"\n",
    "        ),\n",
    "            MessagesPlaceholder(variable_name=\"messages\"),\n",
    "        ]\n",
    "    )\n",
    "    reflect = reflection_prompt | azure_llm\n",
    "    \n",
    "    res = reflect.invoke(translated)\n",
    "    \n",
    "    print(res.content)\n",
    "    \n",
    "    # We treat the output of this as human feedback for the generator\n",
    "    return {\"messages\": [HumanMessage(content=res.content)]}\n",
    "\n"
   ]
  },
  {
   "cell_type": "code",
   "execution_count": 105,
   "id": "30e802dc904d791c",
   "metadata": {
    "ExecuteTime": {
     "end_time": "2025-04-12T09:05:47.226967100Z",
     "start_time": "2025-04-12T09:05:46.881337200Z"
    },
    "collapsed": false
   },
   "outputs": [],
   "source": [
    "# Build workflow\n",
    "builder = StateGraph(QuestionState)\n",
    "\n",
    "builder.add_node(\"online_search\", online_search)\n",
    "builder.add_node(\"generator\", question_draft_generator)\n",
    "builder.add_node(\"reflector\", reflection_node)\n",
    "# Add nodes\n",
    "\n",
    "def should_continue(state: QuestionState):\n",
    "    if state[\"messages\"]:\n",
    "        if len(state[\"messages\"]) > 6: \n",
    "            print(\"--- Reach the Maximum Round ---\")\n",
    "            return END\n",
    "        elif \"GOOD ENOUGH\" in state[\"messages\"][-1].content:\n",
    "            print(\"--- AI Reviser feels Good Enough ---\")\n",
    "            return END\n",
    "    return \"generator\"\n",
    "\n",
    "# Add edges to connect nodes\n",
    "builder.add_edge(START, \"online_search\")\n",
    "builder.add_edge(\"online_search\", \"generator\")\n",
    "builder.add_edge(\"generator\",\"reflector\")\n",
    "# \n",
    "builder.add_conditional_edges(\"reflector\", should_continue)\n",
    "memory = MemorySaver()\n",
    "\n",
    "# Compile\n",
    "kanji_graph = builder.compile()\n",
    "\n",
    "# Show workflow\n",
    "# display(Image(kanji_graph.get_graph().draw_png()))"
   ]
  },
  {
   "cell_type": "code",
   "execution_count": 106,
   "id": "eec5f157c924be8b",
   "metadata": {
    "ExecuteTime": {
     "end_time": "2025-04-12T09:05:47.233071800Z",
     "start_time": "2025-04-12T09:05:47.226967100Z"
    },
    "collapsed": false
   },
   "outputs": [
    {
     "name": "stderr",
     "output_type": "stream",
     "text": [
      "C:\\Users\\HW-BK003\\AppData\\Local\\Temp\\ipykernel_7756\\846002302.py:2: FutureWarning: Series.__getitem__ treating keys as positions is deprecated. In a future version, integer keys will always be treated as labels (consistent with DataFrame behavior). To access a value by position, use `ser.iloc[pos]`\n",
      "  word = f\"{row[0]}({row[1]})\"\n"
     ]
    },
    {
     "data": {
      "text/plain": [
       "'知らせ(しらせ)'"
      ]
     },
     "execution_count": 106,
     "metadata": {},
     "output_type": "execute_result"
    }
   ],
   "source": [
    "row = words.iloc[1]\n",
    "word = f\"{row[0]}({row[1]})\"\n",
    "word"
   ]
  },
  {
   "cell_type": "code",
   "execution_count": 107,
   "id": "3c2e1e740fbe6971",
   "metadata": {
    "ExecuteTime": {
     "end_time": "2025-04-12T09:05:47.238098800Z",
     "start_time": "2025-04-12T09:05:47.233071800Z"
    },
    "collapsed": false
   },
   "outputs": [],
   "source": [
    "# # Debug the Conversation\n",
    "# for event in kanji_graph.stream(\n",
    "#     {\n",
    "#         \"messages\": [\n",
    "#             HumanMessage(\n",
    "#                 content=word\n",
    "#             )\n",
    "#         ],\n",
    "#     },\n",
    "#     config={\"configurable\": {\"thread_id\": \"1\"}},\n",
    "# ):\n",
    "#     print(event)\n",
    "#     print(\"---\")"
   ]
  },
  {
   "cell_type": "code",
   "execution_count": 108,
   "id": "553844c1e99d121c",
   "metadata": {
    "ExecuteTime": {
     "end_time": "2025-04-12T09:06:11.173729Z",
     "start_time": "2025-04-12T09:05:47.238098800Z"
    },
    "collapsed": false
   },
   "outputs": [
    {
     "name": "stdout",
     "output_type": "stream",
     "text": [
      "---WEB SEARCH---\n",
      "{'query': '知らせ(しらせ)', 'follow_up_questions': None, 'answer': None, 'images': [], 'results': [{'title': '「知らせ(しらせ)」の意味や使い方 わかりやすく解説 Weblio辞書', 'url': 'https://www.weblio.jp/content/知らせ', 'content': 'その知らせを聞いて 間もなく，警察が事務所にやってきた; 彼女はその知らせを聞いて 気絶しそう になった; その知らせはテレビで 一般大衆に知らされた; あなたのクラスの生徒にあすは学校はないと知らせて ください; 問題がどれか解けたら知らせて', 'score': 0.6742441, 'raw_content': None}, {'title': '知らせ(シラセ)とは？ 意味や使い方 - コトバンク', 'url': 'https://kotobank.jp/word/知らせ-535488', 'content': 'また、その事柄。通知。 [初出の実例]「このだん御しらせ申のぶべきためかくのごとくに御ざ候」(出典：重刊改修捷解新語（1781）一〇上) 「夫五兵衛殿が亡くなった時も訃音(シラセ)を出したに帰りもせず」(出典：怪談牡丹燈籠（1884）〈三遊亭円朝〉二〇)', 'score': 0.6172364, 'raw_content': None}, {'title': '知らせ | shirase - Translation and Meaning in Japanese - Suki Desu', 'url': 'https://skdesu.com/en/meaning/知らせ-shirase/', 'content': 'Synonyms and similar words. お知らせ (Oshirase) - General notice or announcement 告知 (Kokuchi) - Notification or formal announcement 通知 (Tsūchi) - Official notification or information ニュース (Nyūsu) - News, generally related to current events 情報 (Jōhō) - General information, it can be from various sources. アナウンス (Anaunsu) - Announcement or call, often in a', 'score': 0.6108487, 'raw_content': None}, {'title': '知らせ - Wiktionary, the free dictionary', 'url': 'https://en.wiktionary.org/wiki/知らせ', 'content': 'This page was last edited on 24 June 2023, at 02:57. Definitions and other text are available under the Creative Commons Attribution-ShareAlike License; additional', 'score': 0.388665, 'raw_content': None}, {'title': '「報告」と「連絡」と「お知らせ」の違いとは？意味や違いを分かりやすく解釈 | 違い比較辞典', 'url': 'https://chigai-hikaku.com/?p=9774', 'content': '「お知らせ」 は 「おしらせ」 と読みます。 意味は 「通知・案内・連絡などを丁寧にした表現」 という意味です。 「お知らせ」 は 「知らせ」 に丁寧語の 「お」 を付けた言葉で、文字通り相手に何かを知らせることを言います。 「お知らせ」の使い方', 'score': 0.379241, 'raw_content': None}], 'response_time': 2.07}\n",
      "Web results:  その知らせを聞いて 間もなく，警察が事務所にやってきた; 彼女はその知らせを聞いて 気絶しそう になった; その知らせはテレビで 一般大衆に知らされた; あなたのクラスの生徒にあすは学校はないと知らせて ください; 問題がどれか解けたら知らせて\n",
      "また、その事柄。通知。 [初出の実例]「このだん御しらせ申のぶべきためかくのごとくに御ざ候」(出典：重刊改修捷解新語（1781）一〇上) 「夫五兵衛殿が亡くなった時も訃音(シラセ)を出したに帰りもせず」(出典：怪談牡丹燈籠（1884）〈三遊亭円朝〉二〇)\n",
      "Synonyms and similar words. お知らせ (Oshirase) - General notice or announcement 告知 (Kokuchi) - Notification or formal announcement 通知 (Tsūchi) - Official notification or information ニュース (Nyūsu) - News, generally related to current events 情報 (Jōhō) - General information, it can be from various sources. アナウンス (Anaunsu) - Announcement or call, often in a\n",
      "This page was last edited on 24 June 2023, at 02:57. Definitions and other text are available under the Creative Commons Attribution-ShareAlike License; additional\n",
      "「お知らせ」 は 「おしらせ」 と読みます。 意味は 「通知・案内・連絡などを丁寧にした表現」 という意味です。 「お知らせ」 は 「知らせ」 に丁寧語の 「お」 を付けた言葉で、文字通り相手に何かを知らせることを言います。 「お知らせ」の使い方\n",
      "---Generator----\n",
      "---REVISOR---\n",
      "### Review of JLPT Exam Question: 知らせ (しらせ)\n",
      "\n",
      "#### Content Accuracy:\n",
      "1. **Grammar and Vocabulary:** The dialogue and question are appropriate for the JLPT N3 level. The vocabulary used, such as \"知らせ,\" \"予定,\" \"調整,\" and \"連絡,\" aligns well with the N3 syllabus. The grammar structures, including \"〜ないといけない\" and \"〜しておく,\" are commonly tested at this level and are relevant.\n",
      "2. **Reading/Listening Passage:** The listening dialogue is clear and reflects a real-life scenario that is culturally appropriate and relevant to Japanese workplace communication. It provides sufficient context for understanding the question.\n",
      "3. **Challenge Level:** The dialogue is moderately challenging, requiring the test-taker to follow a natural conversation and focus on key details, such as the change in the meeting schedule. This level of difficulty is suitable for N3.\n",
      "\n",
      "#### Question Quality:\n",
      "1. **Clarity:** The question, \"男の人は何を知らせてもらいましたか？\", is straightforward and unambiguous. It directly assesses the test-taker's ability to comprehend the main point of the dialogue.\n",
      "2. **Options:** The answer choices are well-constructed, with plausible distractors (e.g., \"会議が中止になったこと\" and \"プレゼンが延期になったこと\"). This encourages careful listening and comprehension. However, the distractors are not overly misleading, which ensures fairness.\n",
      "3. **Difficulty Level:** The question effectively matches the N3 level. It tests listening comprehension and the ability to extract specific information from a conversation.\n",
      "\n",
      "#### Format and Presentation:\n",
      "1. **Organization:** The dialogue and question are presented in a logical and easy-to-follow format. The use of clear headings (\"Listening Dialogue,\" \"Question,\" \"Options,\" and \"正解と解説\") is helpful for test-takers.\n",
      "2. **Instructions:** The instructions are concise and clear, ensuring that test-takers understand what is expected of them.\n",
      "3. **Cultural Appropriateness:** The topic of workplace communication and scheduling changes is culturally relevant and reflects common scenarios in Japan.\n",
      "\n",
      "#### Recommendations:\n",
      "1. **Improvement in Options:** While the options are well-constructed, adding an option that is slightly closer to the correct answer (but still incorrect) could further challenge the test-taker's ability to distinguish fine details. For example, \"会議の場所が変更になったこと\" could be a good addition.\n",
      "2. **Additional Context:** To make the dialogue even more engaging, consider adding a brief mention of the reason for the schedule change (e.g., \"急な出張が入ったらしい\"). This would provide more depth without making the question overly complex.\n",
      "3. **Audio Quality:** Ensure that the actual audio recording for this dialogue is clear and natural, with appropriate pacing and intonation. This is crucial for listening comprehension.\n",
      "\n",
      "Overall, this question is well-designed and fits the JLPT N3 level. With minor refinements to the options and context, it could be even more effective. \n",
      "\n",
      "**Verdict:** GOOD ENOUGH\n",
      "--- AI Reviser feels Good Enough ---\n"
     ]
    },
    {
     "data": {
      "text/markdown": [
       "### Listening Question: 知らせ (しらせ)\n",
       "\n",
       "#### Listening Dialogue:\n",
       "男の人と女の人が話しています。男の人は同僚からある知らせを受け取ったようです。\n",
       "\n",
       "---\n",
       "\n",
       "女: 山田さん、さっき電話で何かあったんですか？  \n",
       "男: ああ、同僚から知らせがあったんだ。来週、急に会議の予定が変更になったらしい。  \n",
       "女: え？それってどの日に変更になったんですか？  \n",
       "男: 木曜日の午後から金曜日の午前中に変更されたんだ。  \n",
       "女: あら、金曜日は山田さんのプレゼンがある日じゃないですか？準備は大丈夫ですか？  \n",
       "男: うん、少し予定を調整しないといけないけど、なんとかなると思うよ。  \n",
       "女: そうですか。じゃあ、他のメンバーにも知らせておいた方がいいですね。  \n",
       "男: もちろんだよ。今、メールで全員に連絡しておくよ。  \n",
       "\n",
       "---\n",
       "\n",
       "#### Question:\n",
       "男の人は何を知らせてもらいましたか？\n",
       "\n",
       "---\n",
       "\n",
       "#### Options:\n",
       "1. 会議が中止になったこと  \n",
       "2. 会議の日程が変更になったこと  \n",
       "3. プレゼンが延期になったこと  \n",
       "4. 新しいプロジェクトが始まること  \n",
       "\n",
       "---\n",
       "\n",
       "#### 正解と解説：\n",
       "**正解: 2**  \n",
       "**解説:**  \n",
       "この問題では、男の人が「来週、急に会議の予定が変更になった」と言っているため、正解は「会議の日程が変更になったこと」です。選択肢1や3、4は本文で触れられていない内容です。  \n",
       "**挑戦点:**  \n",
       "この問題では、「知らせ」という単語が会話の中でどのように使われているかを聞き取る力が求められます。また、会話の具体的な内容を正確に理解する必要があります。\n",
       "\n"
      ],
      "text/plain": [
       "<IPython.core.display.Markdown object>"
      ]
     },
     "metadata": {},
     "output_type": "display_data"
    }
   ],
   "source": [
    "kanji = kanji_graph.invoke(\n",
    "    {\n",
    "       \"messages\": [\n",
    "                HumanMessage(\n",
    "                    content=word\n",
    "                )\n",
    "            ],\n",
    "        },\n",
    "    config={\"configurable\": {\"thread_id\": \"1\"}}\n",
    ")\n",
    "display(Markdown(kanji[\"question\"]))"
   ]
  },
  {
   "cell_type": "code",
   "execution_count": null,
   "id": "c778d8e10606427f",
   "metadata": {
    "ExecuteTime": {
     "end_time": "2025-04-12T09:06:11.182472400Z",
     "start_time": "2025-04-12T09:06:11.173729Z"
    },
    "collapsed": false
   },
   "outputs": [],
   "source": []
  }
 ],
 "metadata": {
  "kernelspec": {
   "display_name": ".venv",
   "language": "python",
   "name": "python3"
  },
  "language_info": {
   "codemirror_mode": {
    "name": "ipython",
    "version": 3
   },
   "file_extension": ".py",
   "mimetype": "text/x-python",
   "name": "python",
   "nbconvert_exporter": "python",
   "pygments_lexer": "ipython3",
   "version": "3.13.2"
  }
 },
 "nbformat": 4,
 "nbformat_minor": 5
}
