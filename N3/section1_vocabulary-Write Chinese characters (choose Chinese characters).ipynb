{
 "cells": [
  {
   "cell_type": "markdown",
   "id": "2b011bdf967ca7ff",
   "metadata": {
    "collapsed": false
   },
   "source": [
    "# Language Knowledge (Vocabulary)\n",
    "Duration: 30 minutes\n",
    "Content: This section tests your knowledge of Japanese vocabulary, including kanji readings, orthography, word formation, contextually-defined expressions, paraphrases, and usage\n",
    "It mainly composes following five categories:\n",
    "- ``Reading Kana`` (Pronunciation Questions): Given a kanji word, choose the correct kana reading.\n",
    "- `Writing Kanji` (Writing Questions): Given a word written in kana, choose the correct kanji representation.\n",
    "- `Word Meaning` Selection (Vocabulary Understanding): Choose the most suitable word to fill in the sentence from four options.\n",
    "- `Synonym Replacement`: Select a word that has the same or similar meaning as the underlined word.\n",
    "- `Vocabulary Usage`: Assess the usage of words in actual contexts, choosing the most appropriate word usage, including some common Japanese expressions or fixed phrases."
   ]
  },
  {
   "cell_type": "code",
   "execution_count": 16,
   "id": "7f526a68a7e73a65",
   "metadata": {
    "ExecuteTime": {
     "end_time": "2025-03-21T04:52:51.327395Z",
     "start_time": "2025-03-21T04:52:51.315832Z"
    },
    "collapsed": false
   },
   "outputs": [
    {
     "data": {
      "text/plain": [
       "True"
      ]
     },
     "execution_count": 16,
     "metadata": {},
     "output_type": "execute_result"
    }
   ],
   "source": [
    "import pandas as pd\n",
    "import json\n",
    "import os\n",
    "import pickle\n",
    "import re\n",
    "import uuid\n",
    "from typing import *\n",
    "from langchain_openai import AzureOpenAI,AzureChatOpenAI\n",
    "from langchain_anthropic import ChatAnthropic\n",
    "from langchain_core.prompts import ChatPromptTemplate\n",
    "from dotenv import load_dotenv\n",
    "from langchain_aws import ChatBedrock\n",
    "from langchain.embeddings.base import Embeddings\n",
    "from langchain.text_splitter import CharacterTextSplitter\n",
    "from langchain_community.document_loaders import PyPDFLoader\n",
    "from langchain_community.embeddings import HuggingFaceEmbeddings\n",
    "# from langchain_community.embeddings import XinferenceEmbeddings\n",
    "from langchain_community.vectorstores import Chroma\n",
    "from langchain_openai import OpenAIEmbeddings\n",
    "from typing import Annotated, Literal, Sequence\n",
    "from typing_extensions import TypedDict\n",
    "from IPython.display import display, Markdown, Latex\n",
    "from langchain import hub\n",
    "from langchain_core.output_parsers import StrOutputParser\n",
    "from langchain_core.prompts import PromptTemplate\n",
    "from langchain_openai import ChatOpenAI\n",
    "from typing import Annotated, Sequence\n",
    "from typing_extensions import TypedDict\n",
    "from langchain_core.messages import BaseMessage,RemoveMessage,HumanMessage,AIMessage,ToolMessage\n",
    "from langgraph.graph.message import add_messages\n",
    "from pydantic import BaseModel, Field\n",
    "from langgraph.graph import END, StateGraph, START\n",
    "from langgraph.prebuilt import ToolNode\n",
    "from langgraph.prebuilt import tools_condition\n",
    "from langgraph.checkpoint.memory import MemorySaver\n",
    "from langchain.output_parsers import PydanticOutputParser\n",
    "from pydantic import BaseModel, Field, validator\n",
    "from typing import List, Optional\n",
    "\n",
    "load_dotenv()"
   ]
  },
  {
   "cell_type": "code",
   "execution_count": 17,
   "id": "initial_id",
   "metadata": {
    "ExecuteTime": {
     "end_time": "2025-03-21T04:52:51.375033Z",
     "start_time": "2025-03-21T04:52:51.356406Z"
    },
    "collapsed": false
   },
   "outputs": [
    {
     "data": {
      "text/html": [
       "<div>\n",
       "<style scoped>\n",
       "    .dataframe tbody tr th:only-of-type {\n",
       "        vertical-align: middle;\n",
       "    }\n",
       "\n",
       "    .dataframe tbody tr th {\n",
       "        vertical-align: top;\n",
       "    }\n",
       "\n",
       "    .dataframe thead th {\n",
       "        text-align: right;\n",
       "    }\n",
       "</style>\n",
       "<table border=\"1\" class=\"dataframe\">\n",
       "  <thead>\n",
       "    <tr style=\"text-align: right;\">\n",
       "      <th></th>\n",
       "      <th>expression</th>\n",
       "      <th>reading</th>\n",
       "    </tr>\n",
       "  </thead>\n",
       "  <tbody>\n",
       "    <tr>\n",
       "      <th>0</th>\n",
       "      <td>代金</td>\n",
       "      <td>だいきん</td>\n",
       "    </tr>\n",
       "    <tr>\n",
       "      <th>1</th>\n",
       "      <td>同時</td>\n",
       "      <td>どうじ</td>\n",
       "    </tr>\n",
       "    <tr>\n",
       "      <th>2</th>\n",
       "      <td>為る</td>\n",
       "      <td>なる</td>\n",
       "    </tr>\n",
       "    <tr>\n",
       "      <th>3</th>\n",
       "      <td>交ぜる</td>\n",
       "      <td>まぜる</td>\n",
       "    </tr>\n",
       "    <tr>\n",
       "      <th>4</th>\n",
       "      <td>通行</td>\n",
       "      <td>つうこう</td>\n",
       "    </tr>\n",
       "  </tbody>\n",
       "</table>\n",
       "</div>"
      ],
      "text/plain": [
       "  expression reading\n",
       "0         代金    だいきん\n",
       "1         同時     どうじ\n",
       "2         為る      なる\n",
       "3        交ぜる     まぜる\n",
       "4         通行    つうこう"
      ]
     },
     "execution_count": 17,
     "metadata": {},
     "output_type": "execute_result"
    }
   ],
   "source": [
    "# Import N3 Vocabulary\n",
    "file_path = '../Vocab/n3.csv'\n",
    "# Read the CSV file\n",
    "data = pd.read_csv(file_path)\n",
    "words = data.iloc[:, :2].sample(frac=1).reset_index(drop=True)\n",
    "# Display the content of the CSV file\n",
    "words.head()"
   ]
  },
  {
   "cell_type": "markdown",
   "id": "4c1cdce8b1f57ef3",
   "metadata": {
    "collapsed": false
   },
   "source": [
    "#### load Models"
   ]
  },
  {
   "cell_type": "code",
   "execution_count": 18,
   "id": "895a64c8ba51e354",
   "metadata": {
    "ExecuteTime": {
     "end_time": "2025-03-21T04:52:52.986251Z",
     "start_time": "2025-03-21T04:52:51.377041Z"
    },
    "collapsed": false
   },
   "outputs": [],
   "source": [
    "# azure_llm = AzureChatOpenAI(\n",
    "#     azure_endpoint=\"https://tooldev-openai.openai.azure.com/openai/deployments/gpt-4o/chat/completions?api-version=2025-01-01-preview\",\n",
    "#     api_key=os.environ[\"AZURE_API_KEY\"],\n",
    "#     model_name=\"gpt-4o\",\n",
    "#     api_version=\"2025-01-01-preview\",\n",
    "#     temperature=0.5,\n",
    "# )"
   ]
  },
  {
   "cell_type": "code",
   "execution_count": 19,
   "id": "5643fdb248144100",
   "metadata": {
    "ExecuteTime": {
     "end_time": "2025-03-21T04:52:53.325835Z",
     "start_time": "2025-03-21T04:52:52.988251Z"
    },
    "collapsed": false
   },
   "outputs": [],
   "source": [
    "aws_llm = ChatBedrock(\n",
    "    model_id=\"us.anthropic.claude-3-7-sonnet-20250219-v1:0\",\n",
    "     # model_id=\"us.anthropic.claude-3-5-haiku-20241022-v1:0\",\n",
    "    model_kwargs=dict(temperature=0.5),\n",
    "    region = \"us-east-2\",\n",
    "    aws_access_key_id=os.environ[\"AWS_ACCESS_KEY_ID\"],\n",
    "    aws_secret_access_key=os.environ[\"AWS_SECRET_ACCESS_KEY\"],\n",
    ")"
   ]
  },
  {
   "cell_type": "markdown",
   "id": "fed5f032dadafac1",
   "metadata": {
    "collapsed": false
   },
   "source": [
    "## Question Explore"
   ]
  },
  {
   "cell_type": "markdown",
   "id": "5795bb3d95c0cc50",
   "metadata": {
    "collapsed": false
   },
   "source": [
    "# Kanji 读假名（读音问题）"
   ]
  },
  {
   "cell_type": "code",
   "execution_count": 20,
   "id": "1a966afd733d860d",
   "metadata": {
    "ExecuteTime": {
     "end_time": "2025-03-21T04:55:02.288686Z",
     "start_time": "2025-03-21T04:55:01.768183Z"
    },
    "collapsed": false
   },
   "outputs": [
    {
     "name": "stdout",
     "output_type": "stream",
     "text": [
      "     expression reading\n",
      "0            代金    だいきん\n",
      "1            同時     どうじ\n",
      "2            為る      なる\n",
      "3           交ぜる     まぜる\n",
      "4            通行    つうこう\n",
      "...         ...     ...\n",
      "2134        罰する    ばっする\n",
      "2135        始まり    はじまり\n",
      "2136         突然    とつぜん\n",
      "2137         問い      とい\n",
      "2138         礼儀     れいぎ\n",
      "\n",
      "[2139 rows x 2 columns]\n"
     ]
    }
   ],
   "source": [
    "from typing_extensions import TypedDict\n",
    "from langgraph.graph import StateGraph, START, END\n",
    "from IPython.display import Image, display\n",
    "\n",
    "\n",
    "# Graph state\n",
    "class QuestionState(TypedDict):\n",
    "    topic: str\n",
    "    question: str\n",
    "    improved_question: str\n",
    "    final_question: str\n",
    "\n",
    "\n",
    "kanji_example = \"\"\"\n",
    "9. ここから じゅんばん に見てください。\n",
    "\t1.\t順番\n",
    "\t2.\t項番\n",
    "\t3.\t順落\n",
    "\t4.\t項落\n",
    "\n",
    "10. 父は銀行に つとめて います。\n",
    "\t1.\t勧めて\n",
    "\t2.\t勤めて\n",
    "\t3.\t仕めて\n",
    "\t4.\t労めて\n",
    "\n",
    "11. ポケットが さゆう にあるんですね。\n",
    "\t1.\t裏表\n",
    "\t2.\t右左\n",
    "\t3.\t表裏\n",
    "\t4.\t左右\n",
    "\n",
    "12. 昨日の試合は まけて しまいました。\n",
    "\t1.\t退けて\n",
    "\t2.\t負けて\n",
    "\t3.\t失けて\n",
    "\t4.\t欠けて\n",
    "\n",
    "13. かこの 例も調べてみましょう。\n",
    "\t1.\t適去\n",
    "\t2.\t過古\n",
    "\t3.\t過去\n",
    "\t4.\t適古\n",
    "\n",
    "14. この資料はページが ぎゃく になっていますよ。\n",
    "\t1.\t達\n",
    "\t2.\t変\n",
    "\t3.\t逆\n",
    "\t4.\t別\n",
    "\"\"\"\n",
    "\n",
    "print(words)\n",
    "\n",
    "# Nodes\n",
    "def generate_question(state: QuestionState):\n",
    "    \"\"\"First LLM call to generate initial question\"\"\"\n",
    "\n",
    "    msg = aws_llm.invoke(f\"\"\"You are a Japanese teacher. Your job is to write  6 vocabulary questions for candidates to identify the correct kanji writing of a given word in hiragana for a JLPT N3 level exam paper. The question format follows:\n",
    "Each question presents a word in hiragana within a sentence, and candidates must choose the correct kanji representation from four options. The options should include one correct kanji form and three distractors that are plausible but incorrect. The JLPT exam paper includes a mix of easy, moderate, and difficult questions to accurately assess the test-taker’s proficiency across different aspects of the language.\n",
    "\n",
    "\"\"\"\n",
    "            f\"The vocabulary should be restricted to N3 level, you can refer to the vocabulary in the word list, choosing random words for the questions\"\n",
    "            f\"please refer the question examples following the formal exam paper\"\n",
    "            f\"append the correct answer and explanation of main challenges and why teacher asks this question to candidate in chinese at each question\"\n",
    "            f\"Finally, beautify markdown format\"\n",
    "            f\"topic list: {state['topic']}\"\n",
    "            f\"word list: {words}\"\n",
    "            f\"formal exam paper: {kanji_example}\")\n",
    "    \n",
    "    return {\"question\": msg.content}\n",
    "\n",
    "\n",
    "# Build workflow\n",
    "kanji_workflow = StateGraph(QuestionState)\n",
    "\n",
    "# Add nodes\n",
    "kanji_workflow.add_node(\"generate_question\", generate_question)\n",
    "\n",
    "# Add edges to connect nodes\n",
    "kanji_workflow.add_edge(START, \"generate_question\")\n",
    "kanji_workflow.add_edge(\"generate_question\", END)\n",
    "\n",
    "# Compile\n",
    "kanji_graph = kanji_workflow.compile()\n"
   ]
  },
  {
   "cell_type": "code",
   "execution_count": 21,
   "id": "ec483e4e",
   "metadata": {},
   "outputs": [],
   "source": [
    "# Show workflow\n",
    "#display(Image(kanji_graph.get_graph().draw_png()))"
   ]
  },
  {
   "cell_type": "code",
   "execution_count": 22,
   "id": "3c2e1e740fbe6971",
   "metadata": {
    "ExecuteTime": {
     "end_time": "2025-03-21T04:56:04.739875Z",
     "start_time": "2025-03-21T04:55:57.132978Z"
    },
    "collapsed": false
   },
   "outputs": [
    {
     "data": {
      "text/markdown": [
       "# JLPT N3 Vocabulary Questions - Kanji Selection\n",
       "\n",
       "## 問題1\n",
       "レストランで**たの**しく食事をしました。\n",
       "1. 愉しく\n",
       "2. 楽しく\n",
       "3. 悦しく\n",
       "4. 喜しく\n",
       "\n",
       "**正解: 2. 楽しく**\n",
       "\n",
       "*解释: 这道题考察\"楽しい\"(たのしい)的汉字写法。\"楽しい\"是N3级别的常用词汇，表示\"愉快、开心\"。选项1\"愉しく\"虽然读音相同且意思相近，但在现代日语中较少使用。选项3和4是不存在的写法。出题目的是测试考生对日常生活中常用情感词汇的汉字掌握程度。*\n",
       "\n",
       "## 問題2\n",
       "台風が来るので、**てんき**予報をよく確認してください。\n",
       "1. 大気\n",
       "2. 空気\n",
       "3. 天気\n",
       "4. 気象\n",
       "\n",
       "**正解: 3. 天気**\n",
       "\n",
       "*解释: 这道题测试考生对\"天気\"(てんき)的正确汉字写法的掌握。\"天気\"是N3级别的基础词汇，表示\"天气\"。选项4\"気象\"虽然与天气相关，但读音为\"きしょう\"。选项1和2分别表示\"大气\"和\"空气\"，都不是\"てんき\"的正确写法。这个词在谈论天气状况时经常使用，是日常会话的重要词汇。*\n",
       "\n",
       "## 問題3\n",
       "**こうつう**機関の遅延について駅員に尋ねました。\n",
       "1. 交通\n",
       "2. 公通\n",
       "3. 行通\n",
       "4. 校通\n",
       "\n",
       "**正解: 1. 交通**\n",
       "\n",
       "*解释: 此题考察\"交通\"(こうつう)的正确汉字写法。\"交通\"是N3级别的常见词汇，在讨论交通方式和交通工具时经常使用。选项2、3、4都是看起来可能但实际上不正确的写法。教师出这道题的目的是测试考生对日常生活中频繁使用的交通相关词汇的掌握程度。*\n",
       "\n",
       "## 問題4\n",
       "**とつぜん**雨が降り始めたので、傘を買いました。\n",
       "1. 突然\n",
       "2. 特然\n",
       "3. 独然\n",
       "4. 篤然\n",
       "\n",
       "**正解: 1. 突然**\n",
       "\n",
       "*解释: 这道题测试\"突然\"(とつぜん)的正确汉字写法。\"突然\"是N3级别的重要词汇，表示\"突然、忽然\"。其他选项虽然读音相似，但都不是正确的汉字组合。在讨论天气变化、意外情况等场景中，\"突然\"是一个高频使用的词汇，考生需要掌握其正确写法。*\n",
       "\n",
       "## 問題5\n",
       "この店の**だいきん**はクレジットカードで支払えますか。\n",
       "1. 大金\n",
       "2. 代金\n",
       "3. 台金\n",
       "4. 貸金\n",
       "\n",
       "**正解: 2. 代金**\n",
       "\n",
       "*解释: 此题考察\"代金\"(だいきん)的正确汉字写法。\"代金\"表示\"费用、价款\"，在购物、询问价格等场景中经常使用。选项1\"大金\"表示\"大量金钱\"，选项3和4都不是常用词汇。这道题旨在测试考生在商业交易场景中对价格相关词汇的掌握程度，"
      ],
      "text/plain": [
       "<IPython.core.display.Markdown object>"
      ]
     },
     "metadata": {},
     "output_type": "display_data"
    }
   ],
   "source": [
    "# Invoke\n",
    "kanji = kanji_graph.invoke({\"topic\": \"店で価格を尋ねる | レストランで食べ物を注文する | 交通手段について話す| 天気の状況について話す | 趣味について話す | タクシーを呼ぶ | 目的地を伝える | 飛行機のチケットを予約する | 道に迷ったときに道を尋ねる | 旅行の計画を立てる | 交通機関の遅延について話す | 今日の天気や気温について話す | 季節の変化や服装の選び方を話す | 台風や大雨などの天気予報を確認する | 花粉症の時期について話す\"})\n",
    "display(Markdown(kanji[\"question\"]))"
   ]
  },
  {
   "cell_type": "code",
   "execution_count": null,
   "id": "553844c1e99d121c",
   "metadata": {
    "collapsed": false
   },
   "outputs": [],
   "source": []
  },
  {
   "cell_type": "code",
   "execution_count": null,
   "id": "c778d8e10606427f",
   "metadata": {
    "ExecuteTime": {
     "start_time": "2025-03-21T04:53:14.733662Z"
    },
    "collapsed": false
   },
   "outputs": [],
   "source": []
  }
 ],
 "metadata": {
  "kernelspec": {
   "display_name": ".venv",
   "language": "python",
   "name": "python3"
  },
  "language_info": {
   "codemirror_mode": {
    "name": "ipython",
    "version": 3
   },
   "file_extension": ".py",
   "mimetype": "text/x-python",
   "name": "python",
   "nbconvert_exporter": "python",
   "pygments_lexer": "ipython3",
   "version": "3.13.2"
  }
 },
 "nbformat": 4,
 "nbformat_minor": 5
}
