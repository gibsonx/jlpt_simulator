{
 "cells": [
  {
   "cell_type": "markdown",
   "source": [
    "# Language Knowledge (Vocabulary)\n",
    "Duration: 30 minutes\n",
    "Content: This section tests your knowledge of Japanese vocabulary, including kanji readings, orthography, word formation, contextually-defined expressions, paraphrases, and usage\n",
    "It mainly composes following five categories:\n",
    "- ``Reading Kana`` (Pronunciation Questions): Given a kanji word, choose the correct kana reading.\n",
    "- `Writing Kanji` (Writing Questions): Given a word written in kana, choose the correct kanji representation.\n",
    "- `Word Meaning` Selection (Vocabulary Understanding): Choose the most suitable word to fill in the sentence from four options.\n",
    "- `Synonym Replacement`: Select a word that has the same or similar meaning as the underlined word.\n",
    "- `Vocabulary Usage`: Assess the usage of words in actual contexts, choosing the most appropriate word usage, including some common Japanese expressions or fixed phrases."
   ],
   "metadata": {
    "collapsed": false
   },
   "id": "2b011bdf967ca7ff"
  },
  {
   "cell_type": "code",
   "execution_count": 80,
   "outputs": [
    {
     "data": {
      "text/plain": "True"
     },
     "execution_count": 80,
     "metadata": {},
     "output_type": "execute_result"
    }
   ],
   "source": [
    "import pandas as pd\n",
    "import json\n",
    "import os\n",
    "import random\n",
    "import pickle\n",
    "import re\n",
    "import uuid\n",
    "from typing import *\n",
    "from langchain_openai import AzureOpenAI,AzureChatOpenAI\n",
    "from langchain_anthropic import ChatAnthropic\n",
    "from langchain_core.prompts import ChatPromptTemplate, MessagesPlaceholder\n",
    "from dotenv import load_dotenv\n",
    "from langchain_aws import ChatBedrock\n",
    "from langchain.embeddings.base import Embeddings\n",
    "from langchain.text_splitter import CharacterTextSplitter\n",
    "from langchain_community.document_loaders import PyPDFLoader\n",
    "from langchain_community.embeddings import HuggingFaceEmbeddings\n",
    "# from langchain_community.embeddings import XinferenceEmbeddings\n",
    "from langchain_community.vectorstores import Chroma\n",
    "from langchain_openai import OpenAIEmbeddings\n",
    "from typing import Annotated, Literal, Sequence\n",
    "from typing_extensions import TypedDict\n",
    "from IPython.display import display, Markdown, Latex\n",
    "from langchain import hub\n",
    "from langchain_core.output_parsers import StrOutputParser\n",
    "from langchain_core.prompts import PromptTemplate\n",
    "from langchain_openai import ChatOpenAI\n",
    "from typing import Annotated, Sequence\n",
    "from typing_extensions import TypedDict\n",
    "from langchain_core.messages import BaseMessage,RemoveMessage,HumanMessage,AIMessage,ToolMessage\n",
    "from langgraph.graph.message import add_messages\n",
    "from pydantic import BaseModel, Field\n",
    "from langgraph.graph import END, StateGraph, START\n",
    "from langgraph.prebuilt import ToolNode\n",
    "from langgraph.prebuilt import tools_condition\n",
    "from langgraph.checkpoint.memory import MemorySaver\n",
    "from langchain.output_parsers import PydanticOutputParser\n",
    "from pydantic import BaseModel, Field, validator\n",
    "from typing import List, Optional\n",
    "from langchain_tavily import TavilySearch\n",
    "from langchain.schema import Document\n",
    "from langgraph.prebuilt import create_react_agent\n",
    "from langchain_community.tools.tavily_search import TavilySearchResults\n",
    "\n",
    "load_dotenv()"
   ],
   "metadata": {
    "collapsed": false,
    "ExecuteTime": {
     "end_time": "2025-04-08T15:38:42.462409900Z",
     "start_time": "2025-04-08T15:38:42.428381700Z"
    }
   },
   "id": "7f526a68a7e73a65"
  },
  {
   "cell_type": "code",
   "execution_count": 81,
   "outputs": [],
   "source": [
    "# Import N3 Vocabulary\n",
    "file_path = '../Vocab/n3.csv'\n",
    "# Read the CSV file\n",
    "data = pd.read_csv(file_path)\n",
    "words = data.iloc[:, :2].sample(frac=1).reset_index(drop=True)\n",
    "# Display the content of the CSV file\n",
    "words.head()\n",
    "vocab_dict = words.set_index(words.columns[0])[words.columns[1]].to_dict()\n",
    "vocab_dict = json.dumps(vocab_dict, ensure_ascii=False, separators=(',', ':'))"
   ],
   "metadata": {
    "collapsed": false,
    "ExecuteTime": {
     "end_time": "2025-04-08T15:38:42.472917400Z",
     "start_time": "2025-04-08T15:38:42.434840700Z"
    }
   },
   "id": "initial_id"
  },
  {
   "cell_type": "markdown",
   "source": [
    "#### load Models"
   ],
   "metadata": {
    "collapsed": false
   },
   "id": "4c1cdce8b1f57ef3"
  },
  {
   "cell_type": "code",
   "execution_count": 82,
   "outputs": [],
   "source": [
    "azure_llm = AzureChatOpenAI(\n",
    "    azure_endpoint=\"https://tooldev-openai.openai.azure.com/openai/deployments/gpt-4o/chat/completions?api-version=2025-01-01-preview\",\n",
    "    api_key=os.environ[\"AZURE_API_KEY\"],\n",
    "    model_name=\"gpt-4o\",\n",
    "    api_version=\"2025-01-01-preview\",\n",
    "    temperature=0.5,\n",
    ")"
   ],
   "metadata": {
    "collapsed": false,
    "ExecuteTime": {
     "end_time": "2025-04-08T15:38:42.774515600Z",
     "start_time": "2025-04-08T15:38:42.448406100Z"
    }
   },
   "id": "895a64c8ba51e354"
  },
  {
   "cell_type": "code",
   "execution_count": 83,
   "outputs": [],
   "source": [
    "aws_llm = ChatBedrock(\n",
    "    # model_id=\"us.anthropic.claude-3-7-sonnet-20250219-v1:0\",\n",
    "     model_id=\"us.anthropic.claude-3-5-haiku-20241022-v1:0\",\n",
    "    model_kwargs=dict(temperature=0.5),\n",
    "    region = \"us-east-2\",\n",
    "    aws_access_key_id=os.environ[\"AWS_ACCESS_KEY_ID\"],\n",
    "    aws_secret_access_key=os.environ[\"AWS_SECRET_ACCESS_KEY\"],\n",
    ")"
   ],
   "metadata": {
    "collapsed": false,
    "ExecuteTime": {
     "end_time": "2025-04-08T15:38:42.855179200Z",
     "start_time": "2025-04-08T15:38:42.775516100Z"
    }
   },
   "id": "5643fdb248144100"
  },
  {
   "cell_type": "code",
   "outputs": [
    {
     "data": {
      "text/plain": "'很抱歉,我无法获知今天的具体日期。作为AI助手,我没有实时的日历信息。您可以查看设备的日历或时钟来确定今天的具体日期。'"
     },
     "execution_count": 84,
     "metadata": {},
     "output_type": "execute_result"
    }
   ],
   "source": [
    "res = aws_llm.invoke(input=[HumanMessage(content=\"hello，今天是几号？\")])\n",
    "res.content"
   ],
   "metadata": {
    "collapsed": false,
    "ExecuteTime": {
     "end_time": "2025-04-08T15:38:45.700992200Z",
     "start_time": "2025-04-08T15:38:42.859186300Z"
    }
   },
   "id": "73da966ed4c7e467",
   "execution_count": 84
  },
  {
   "cell_type": "markdown",
   "source": [
    "#### Exam Paper Outline\n",
    "### A. overall thinking the structure of an exam\n",
    "1. distribution of the difficulty \n",
    "2. topics\n",
    "3. reasoning"
   ],
   "metadata": {
    "collapsed": false
   },
   "id": "385c63b54b5c2a36"
  },
  {
   "cell_type": "markdown",
   "source": [
    "## Data Strcuture"
   ],
   "metadata": {
    "collapsed": false
   },
   "id": "fed5f032dadafac1"
  },
  {
   "cell_type": "markdown",
   "source": [
    "# Kanji 读假名（读音问题）"
   ],
   "metadata": {
    "collapsed": false
   },
   "id": "5795bb3d95c0cc50"
  },
  {
   "cell_type": "code",
   "outputs": [],
   "source": [
    "def online_search(state):\n",
    "    \"\"\"\n",
    "    Web search based on the re-phrased question.\n",
    "\n",
    "    Args:\n",
    "        state (dict): The current graph state\n",
    "\n",
    "    Returns:\n",
    "        state (dict): Updates documents key with appended web results\n",
    "    \"\"\"\n",
    "    \n",
    "    print(\"---WEB SEARCH---\")\n",
    "    \n",
    "    topic = state['messages'][0].content\n",
    "    \n",
    "    tavily_search_tool = TavilySearch(\n",
    "        max_results=5,\n",
    "        topic=\"general\",\n",
    "        time_range=\"day\",\n",
    "    )\n",
    "    # Web search\n",
    "    docs = tavily_search_tool.invoke({\"query\": topic})\n",
    "    \n",
    "    print(docs)\n",
    "\n",
    "    web_results = \"\\n\".join([d[\"content\"] for d in docs[\"results\"]])\n",
    "    \n",
    "    print(\"Web results: \", web_results)\n",
    "\n",
    "    return {\"documents\": web_results, \"topic\": topic}"
   ],
   "metadata": {
    "collapsed": false,
    "ExecuteTime": {
     "end_time": "2025-04-08T15:38:45.706012900Z",
     "start_time": "2025-04-08T15:38:45.700020800Z"
    }
   },
   "id": "252ffacd6ebb7b37",
   "execution_count": 85
  },
  {
   "cell_type": "code",
   "outputs": [],
   "source": [
    "from typing_extensions import TypedDict\n",
    "from langgraph.graph import StateGraph, START, END\n",
    "from IPython.display import Image, display\n",
    "\n",
    "\n",
    "# Graph state\n",
    "class QuestionState(TypedDict):\n",
    "    topic: str\n",
    "    question: str\n",
    "    documents: str\n",
    "    messages: Annotated[list, add_messages]\n",
    "\n",
    "\n",
    "kanji_example = \"\"\"\n",
    "1) いま 店の まえにいます。\n",
    "1 いえ\n",
    "2 えき\n",
    "3 みせ\n",
    "4 へや\n",
    "2) たなかさんは いま 外国に います。\n",
    "1 がいしゃ\n",
    "2 かいしゃ\n",
    "3 かいこく 4 がいこく\n",
    "3) さとうさんは 話が じょうずです。\n",
    "1 うた\n",
    "2 はなし\n",
    "3 え\n",
    "4 じ\n",
    "4) はやしさんも 読んで ください。\n",
    "1 あそんで\n",
    "2 ならんで\n",
    "3 よんで\n",
    "4 えらんで\n",
    "5) あたらしい こうえんは まちの 北がわに あります。\n",
    "1 ひがしがわ\n",
    "2 みなみがわ\n",
    "3 にしがわ\n",
    "4 きたがわ\n",
    "6) わたしは 九月に けっこんします。。\n",
    "1 くがつ\n",
    "2 きゅうがつ\n",
    "3 くげつ\n",
    "4 きゅうげつ\n",
    "7) きのう 来なかった ひとは だれですか。\n",
    "1 きなかった\n",
    "2 こなかった\n",
    "3 いなかった \n",
    "4 ねなかった\n",
    "\"\"\"\n",
    "\n",
    "# Nodes\n",
    "def question_draft_generator(state: QuestionState):\n",
    "    \"\"\"First LLM call to generate initial question\"\"\"\n",
    "    print(\"---Generator----\")\n",
    "        \n",
    "    search_result = state['documents'],\n",
    "    \n",
    "    prompt = ChatPromptTemplate.from_messages(\n",
    "        [\n",
    "            (\n",
    "                \"system\",\n",
    "                \"\"\"\n",
    "                    You are a Japanese teacher. Your job is to write 1 vocabulary question for Kanji reading of a JLPT N3 level exam paper with the `Search result`.\n",
    "                    If the user provides critique, respond with a revised version of your previous attempts.\n",
    "                    The chosen topic is {topic}.\n",
    "                    This question requests recognizing kanji in context, such as in sentences or phrases. \n",
    "                    Don't replace the kanji part of the word but only substitute the rest part of the word in the options.\n",
    "                    The vocabulary should be restricted to N3 level, use the vocabulary in the `Dictionary` as much as you can.\n",
    "                    Please refer to the question examples following the formal exam paper. please highlight the kanji with <u><em></em></u>.\n",
    "                    Append the correct answer and explanation of the main challenges on why the teacher asks this question to the candidate in Chinese at each question.\n",
    "                    Finally, output beautiful markdown format.\n",
    "                    Dictionary: {vocab_dict}\n",
    "                    Search result: {search_result}\n",
    "                    Formal exam paper: {kanji_example}\n",
    "                \"\"\"\n",
    "            ),\n",
    "            MessagesPlaceholder(variable_name=\"messages\"),\n",
    "        ]\n",
    "    )\n",
    "\n",
    "    \n",
    "    input = { \"topic\" : state['topic'],\n",
    "              \"search_result\": search_result, \n",
    "              \"vocab_dict\": vocab_dict,\n",
    "              \"kanji_example\": kanji_example,\n",
    "              \"messages\": state[\"messages\"]\n",
    "              }\n",
    "    # final_message = prompt.format_messages(**input)\n",
    "    # print(final_message)\n",
    "    \n",
    "    generate = prompt | aws_llm\n",
    "    \n",
    "    msg = generate.invoke(input=input)\n",
    "    \n",
    "    \n",
    "    return {\"question\": msg.content, \"messages\": [AIMessage(content=msg.content)] }\n",
    "\n",
    "\n",
    "def reflection_node(state: QuestionState) -> QuestionState:\n",
    "    print(\"---REVISOR---\")\n",
    "    \n",
    "    # Other messages we need to adjust\n",
    "    cls_map = {\"ai\": HumanMessage, \"human\": AIMessage}\n",
    "    # First message is the original user request. We hold it the same for all nodes\n",
    "    translated = [state[\"messages\"][0]] + [\n",
    "        cls_map[msg.type](content=msg.content) for msg in state[\"messages\"][1:]\n",
    "    ]\n",
    "\n",
    "    reflection_prompt = ChatPromptTemplate.from_messages(\n",
    "    [\n",
    "        (\n",
    "            \"system\",\n",
    "            \"\"\"you are a Japanese language educator reviewing a JLPT example paper. Generate critique and recommendations for the user's submission.\n",
    "            the review focuses on content accuracy and question quality. \n",
    "            - For content accuracy, you must verify that the grammar and vocabulary questions accurately reflect the appropriate JLPT N3 level, ensuring the reading passages are clear, relevant, and appropriately challenging. \n",
    "            - For question quality, you must ensure all questions are clearly worded and free from ambiguity to comprehensively assess different language skills, and confirm that the difficulty level of the questions matches the intended JLPT N3 level.\n",
    "            - During detailed refinement, you check the format and presentation of the paper, ensuring it is well-organized and the instructions are clear and concise. you also ensure the content is culturally appropriate and relevant to Japanese language and culture.\n",
    "            - Finally, you make give feedback, providing detailed recommendations, including requests.\n",
    "            \"\"\"\n",
    "        ),\n",
    "            MessagesPlaceholder(variable_name=\"messages\"),\n",
    "        ]\n",
    "    )\n",
    "    reflect = reflection_prompt | azure_llm\n",
    "    \n",
    "    res = reflect.invoke(translated)\n",
    "    \n",
    "    print(res.content)\n",
    "    \n",
    "    # We treat the output of this as human feedback for the generator\n",
    "    return {\"messages\": [HumanMessage(content=res.content)]}\n",
    "\n"
   ],
   "metadata": {
    "collapsed": false,
    "ExecuteTime": {
     "end_time": "2025-04-08T15:38:45.715682600Z",
     "start_time": "2025-04-08T15:38:45.704016600Z"
    }
   },
   "id": "1a966afd733d860d",
   "execution_count": 86
  },
  {
   "cell_type": "code",
   "outputs": [
    {
     "data": {
      "image/png": "[encoded data removed]",
      "text/plain": "<IPython.core.display.Image object>"
     },
     "metadata": {},
     "output_type": "display_data"
    }
   ],
   "source": [
    "# Build workflow\n",
    "builder = StateGraph(QuestionState)\n",
    "\n",
    "builder.add_node(\"online_search\", online_search)\n",
    "builder.add_node(\"generator\", question_draft_generator)\n",
    "builder.add_node(\"reflector\", reflection_node)\n",
    "# Add nodes\n",
    "\n",
    "def should_continue(state: QuestionState):\n",
    "    if len(state[\"messages\"]) > 2:\n",
    "        # End after 3 iterations\n",
    "        return END\n",
    "    return \"reflector\"\n",
    "\n",
    "# Add edges to connect nodes\n",
    "builder.add_edge(START, \"online_search\")\n",
    "builder.add_edge(\"online_search\", \"generator\")\n",
    "# \n",
    "builder.add_conditional_edges(\"generator\", should_continue)\n",
    "builder.add_edge(\"reflector\", \"generator\")\n",
    "memory = MemorySaver()\n",
    "\n",
    "# Compile\n",
    "kanji_graph = builder.compile(checkpointer=memory)\n",
    "\n",
    "# Show workflow\n",
    "display(Image(kanji_graph.get_graph().draw_png()))"
   ],
   "metadata": {
    "collapsed": false,
    "ExecuteTime": {
     "end_time": "2025-04-08T15:38:46.051240900Z",
     "start_time": "2025-04-08T15:38:45.716679800Z"
    }
   },
   "id": "30e802dc904d791c",
   "execution_count": 87
  },
  {
   "cell_type": "code",
   "outputs": [
    {
     "name": "stderr",
     "output_type": "stream",
     "text": [
      "C:\\Users\\Administrator\\AppData\\Local\\Temp\\ipykernel_22372\\878816679.py:2: FutureWarning: Series.__getitem__ treating keys as positions is deprecated. In a future version, integer keys will always be treated as labels (consistent with DataFrame behavior). To access a value by position, use `ser.iloc[pos]`\n",
      "  word = f\"{row[0]}({row[1]})\"\n"
     ]
    },
    {
     "data": {
      "text/plain": "'委員(いいん)'"
     },
     "execution_count": 88,
     "metadata": {},
     "output_type": "execute_result"
    }
   ],
   "source": [
    "row = words.iloc[1]\n",
    "word = f\"{row[0]}({row[1]})\"\n",
    "word"
   ],
   "metadata": {
    "collapsed": false,
    "ExecuteTime": {
     "end_time": "2025-04-08T15:38:46.051240900Z",
     "start_time": "2025-04-08T15:38:46.045917700Z"
    }
   },
   "id": "eec5f157c924be8b",
   "execution_count": 88
  },
  {
   "cell_type": "code",
   "execution_count": 89,
   "outputs": [
    {
     "name": "stdout",
     "output_type": "stream",
     "text": [
      "---WEB SEARCH---\n",
      "{'query': '委員(いいん)', 'follow_up_questions': None, 'answer': None, 'images': [], 'results': [{'title': '至急お願いします。 - 私のグラスには学級委員があります。そのことについ... - Yahoo!知恵袋', 'url': 'https://detail.chiebukuro.yahoo.co.jp/qa/question_detail/q11313451106', 'content': '私のグラスには学級委員があります。そのことについての投票があったのですが、選択肢が、学級委員をやりたい、やっても構わない、やりたくないでした。 ... 周りの子から一人暮らしの方が安いしいいんじゃないと言われるのですが全部含めたら家族と', 'score': 0.18988171, 'raw_content': None}, {'title': 'にじさんじ/コメントログ - アニヲタWiki(仮)【4/8更新】 - atwiki（アットウィキ）', 'url': 'https://w.atwiki.jp/aniwotawiki/pages/58579.html', 'content': 'とりあえず統合前後で分けるのがいいんじゃない？ -- 名無しさん (2023-08-18 16:48:50) 3Dのクオリティが高いよね -- 名無しさん (2023-11-08 14:10:01) ... 特に委員長・加賀美社長・サロメ嬢のわたくし族達は飛び抜けて好きだわ。 -- 名無しさん (2025-03-28 12:22:55) rfmo体', 'score': 0.11009767, 'raw_content': None}, {'title': '三森のアニキという名の仮面を被った男の告白｜三森のアニキ（うらの顔）', 'url': 'https://note.com/mimori_lb_note/n/na06938566535', 'content': '中学でも学級委員。常に誰かが周りにいる環境に慣れていたんです。今思えば、私は\"中心\"にいることに心地よさを感じていたのかもしれません。 ... それなら協力した方がいいんじゃないか？', 'score': 0.08735358, 'raw_content': None}, {'title': 'MLBで話題沸騰「魚雷バット」 日本でも今季中に導入へ 本塁打増加へ5月にも承認― スポニチ Sponichi Annex 野球', 'url': 'https://www.sponichi.co.jp/baseball/news/2025/04/08/kiji/20250408s00001173008000c.html', 'content': '\"使えるんだったら使った方がいいんじゃないの\"という話もある」と方針を示した。 この日は友寄正人規則委員から、規格や大リーグの使用', 'score': 0.0840483, 'raw_content': None}, {'title': 'Japanese News: 株価 一時2100円超上昇 3万3000円台を回復 買い戻しで全面高 - Todaii: Easy Japanese', 'url': 'https://easyjapanese.net/detail/e44ced53e7d1db1d23a61a2565725056?hl=en-US&src=1', 'content': '6 日 にち に 患者 かんじゃ を 運 はこ んでいた 医療 いりょう 搬送 はんそう 用 よう のヘリコプターが、 長崎 ながさき 県 けん の 壱岐 いき の 沖合 おきあい で 転覆 てんぷく した 状態 じょうたい で 見 み つかり、3 人 にん が 死亡 しぼう した 事故', 'score': 0.033643506, 'raw_content': None}], 'response_time': 1.41}\n",
      "Web results:  私のグラスには学級委員があります。そのことについての投票があったのですが、選択肢が、学級委員をやりたい、やっても構わない、やりたくないでした。 ... 周りの子から一人暮らしの方が安いしいいんじゃないと言われるのですが全部含めたら家族と\n",
      "とりあえず統合前後で分けるのがいいんじゃない？ -- 名無しさん (2023-08-18 16:48:50) 3Dのクオリティが高いよね -- 名無しさん (2023-11-08 14:10:01) ... 特に委員長・加賀美社長・サロメ嬢のわたくし族達は飛び抜けて好きだわ。 -- 名無しさん (2025-03-28 12:22:55) rfmo体\n",
      "中学でも学級委員。常に誰かが周りにいる環境に慣れていたんです。今思えば、私は\"中心\"にいることに心地よさを感じていたのかもしれません。 ... それなら協力した方がいいんじゃないか？\n",
      "\"使えるんだったら使った方がいいんじゃないの\"という話もある」と方針を示した。 この日は友寄正人規則委員から、規格や大リーグの使用\n",
      "6 日 にち に 患者 かんじゃ を 運 はこ んでいた 医療 いりょう 搬送 はんそう 用 よう のヘリコプターが、 長崎 ながさき 県 けん の 壱岐 いき の 沖合 おきあい で 転覆 てんぷく した 状態 じょうたい で 見 み つかり、3 人 にん が 死亡 しぼう した 事故\n",
      "{'online_search': {'documents': '私のグラスには学級委員があります。そのことについての投票があったのですが、選択肢が、学級委員をやりたい、やっても構わない、やりたくないでした。 ... 周りの子から一人暮らしの方が安いしいいんじゃないと言われるのですが全部含めたら家族と\\nとりあえず統合前後で分けるのがいいんじゃない？ -- 名無しさん (2023-08-18 16:48:50) 3Dのクオリティが高いよね -- 名無しさん (2023-11-08 14:10:01) ... 特に委員長・加賀美社長・サロメ嬢のわたくし族達は飛び抜けて好きだわ。 -- 名無しさん (2025-03-28 12:22:55) rfmo体\\n中学でも学級委員。常に誰かが周りにいる環境に慣れていたんです。今思えば、私は\"中心\"にいることに心地よさを感じていたのかもしれません。 ... それなら協力した方がいいんじゃないか？\\n\"使えるんだったら使った方がいいんじゃないの\"という話もある」と方針を示した。 この日は友寄正人規則委員から、規格や大リーグの使用\\n6 日 にち に 患者 かんじゃ を 運 はこ んでいた 医療 いりょう 搬送 はんそう 用 よう のヘリコプターが、 長崎 ながさき 県 けん の 壱岐 いき の 沖合 おきあい で 転覆 てんぷく した 状態 じょうたい で 見 み つかり、3 人 にん が 死亡 しぼう した 事故', 'topic': '委員(いいん)'}}\n",
      "---\n",
      "---Generator----\n",
      "{'generator': {'question': \"Here's a JLPT N3 level vocabulary question focusing on the kanji 委員 (いいん):\\n\\n**問題：次の文章の空欄に入る最も適切な言葉はどれですか。**\\n\\n学校の<u><em>委員</em></u>に選ばれた太郎は、責任感を感じていた。\\n\\n1. 会員\\n2. 学級委員\\n3. 役員\\n4. 代表\\n\\n**正解：2 学級委員**\\n\\n**解説（中文）：**\\n這道題目測試考生對「委員」一詞的理解和使用。「学級委員」是一個常見的詞組，指在學校班級中被選出來代表班級的學生。這個問題要求考生根據上下文選擇最合適的詞語，考察了語境中詞語的運用能力。\\n\\nThe question challenges the candidate to understand the context and choose the most appropriate term related to the kanji 委員 (いいん), which typically refers to a committee member or representative. In this case, the context suggests a school setting, making 学級委員 (がっきゅういいん, class representative) the most suitable choice.\", 'messages': [AIMessage(content=\"Here's a JLPT N3 level vocabulary question focusing on the kanji 委員 (いいん):\\n\\n**問題：次の文章の空欄に入る最も適切な言葉はどれですか。**\\n\\n学校の<u><em>委員</em></u>に選ばれた太郎は、責任感を感じていた。\\n\\n1. 会員\\n2. 学級委員\\n3. 役員\\n4. 代表\\n\\n**正解：2 学級委員**\\n\\n**解説（中文）：**\\n這道題目測試考生對「委員」一詞的理解和使用。「学級委員」是一個常見的詞組，指在學校班級中被選出來代表班級的學生。這個問題要求考生根據上下文選擇最合適的詞語，考察了語境中詞語的運用能力。\\n\\nThe question challenges the candidate to understand the context and choose the most appropriate term related to the kanji 委員 (いいん), which typically refers to a committee member or representative. In this case, the context suggests a school setting, making 学級委員 (がっきゅういいん, class representative) the most suitable choice.\", additional_kwargs={}, response_metadata={}, id='4268e1ca-6d41-4003-bf06-a85982de60ff')]}}\n",
      "---\n",
      "---REVISOR---\n",
      "### Critique and Recommendations for JLPT N3 Vocabulary Question: 委員 (いいん)\n",
      "\n",
      "---\n",
      "\n",
      "#### **Content Accuracy**\n",
      "\n",
      "1. **Appropriateness for JLPT N3 Level**:  \n",
      "   The kanji 委員 (いいん) and its usage in the context of 学級委員 (class representative) are appropriate for JLPT N3. This level typically tests intermediate vocabulary that is commonly used in daily life and school settings. The inclusion of 委員 aligns well with the expected vocabulary scope for N3.\n",
      "\n",
      "2. **Context and Vocabulary Testing**:  \n",
      "   The sentence provided is clear and relevant, as school-related terms like 学級委員 are familiar to learners at this level. However, the other answer choices (会員, 役員, 代表) are slightly more advanced and may not all be suitable for N3 learners:\n",
      "   - **会員 (かいいん)**: Appropriate for N3, as it refers to a member of a group or organization and is commonly encountered in daily contexts.  \n",
      "   - **役員 (やくいん)**: This term may lean closer to N2, as it refers to an officer or executive member, which is slightly more formal and less commonly used in everyday conversation.  \n",
      "   - **代表 (だいひょう)**: While this term is commonly used, it may also lean closer to N2 due to its broader application in professional and formal contexts.\n",
      "\n",
      "   Recommendation: Replace 役員 and 代表 with simpler, more N3-appropriate terms such as **部員 (ぶいん, club member)** or **責任者 (せきにんしゃ, person in charge)** to better match the N3 level.\n",
      "\n",
      "---\n",
      "\n",
      "#### **Question Quality**\n",
      "\n",
      "1. **Clarity of Wording**:  \n",
      "   The question is clearly worded and free from ambiguity. The phrase \"最も適切な言葉はどれですか\" is straightforward and aligns with standard JLPT question formats. The sentence provides sufficient context for candidates to infer the correct answer.\n",
      "\n",
      "2. **Mix of Question Types**:  \n",
      "   The multiple-choice format is standard for JLPT exams and works well for this type of vocabulary question. However, incorporating other question types (e.g., fill-in-the-blank or matching) could diversify the test and assess different aspects of language comprehension.\n",
      "\n",
      "   Recommendation: Consider adding a fill-in-the-blank question where candidates must write the correct term based on context, or a matching question that pairs kanji with definitions.\n",
      "\n",
      "3. **Difficulty Level**:  \n",
      "   While the question is challenging, the advanced nature of some distractors (役員, 代表) skews the difficulty slightly higher than intended for N3. Simplifying the distractors would make the question more balanced for this level.\n",
      "\n",
      "---\n",
      "\n",
      "#### **Format and Presentation**\n",
      "\n",
      "1. **Organization and Navigation**:  \n",
      "   The question is well-organized, with the sentence and answer choices clearly laid out. The use of bold for the correct answer and underlining for the target word makes it visually easy to follow.\n",
      "\n",
      "2. **Instructions**:  \n",
      "   The instructions are clear and concise. No changes are needed in this area.\n",
      "\n",
      "3. **Cultural Appropriateness**:  \n",
      "   The use of a school-related context (学級委員) is culturally relevant and reflects real-life situations in Japan, making the question relatable for learners.\n",
      "\n",
      "---\n",
      "\n",
      "#### **Detailed Recommendations**\n",
      "\n",
      "1. **Adjust Distractors**:  \n",
      "   Replace 役員 and 代表 with simpler, N3-appropriate terms. Suggested replacements:\n",
      "   - **部員 (ぶいん)**: Club member.  \n",
      "   - **責任者 (せきにんしゃ)**: Person in charge.  \n",
      "\n",
      "2. **Diversify Question Types**:  \n",
      "   Introduce a fill-in-the-blank variation, such as:  \n",
      "   **問題：次の文章の空欄に入る最も適切な言葉を書いてください。**  \n",
      "   学校の<u><em>＿＿＿</em></u>に選ばれた太郎は、責任感を感じていた。\n",
      "\n",
      "3. **Expand Context**:  \n",
      "   Provide a slightly more detailed sentence to ensure the context is crystal clear. For example:  \n",
      "   学校の<u><em>委員</em></u>に選ばれた太郎は、クラスをまとめる責任感を感じていた。\n",
      "\n",
      "4. **Enhance Explanation**:  \n",
      "   The explanation is thorough but could benefit from a brief mention of why the distractors are incorrect. For example:  \n",
      "   - 会員: Refers to a general member of a group, not specific to a school setting.  \n",
      "   - 役員: Refers to an officer or executive, which is more formal and unrelated to the context.  \n",
      "   - 代表: Refers to a representative, but is too broad for the specific context of a school committee.\n",
      "\n",
      "5. **Cultural Relevance**:  \n",
      "   Consider adding a note about the role of 学級委員 in Japanese schools, as this might be unfamiliar to non-Japanese learners. For example:  \n",
      "   \"In Japanese schools, 学級委員 refers to a student elected by their classmates to represent the class, often taking on leadership and organizational responsibilities.\"\n",
      "\n",
      "---\n",
      "\n",
      "#### **Final Feedback**\n",
      "\n",
      "Overall, the question is well-constructed and relevant to the JLPT N3 level, but slight adjustments to the distractors and context could improve its alignment with the intended difficulty. Diversifying the question types and enhancing cultural explanations would make the test more engaging and educational for learners.\n",
      "\n",
      "\n",
      "{'reflector': {'messages': [HumanMessage(content='### Critique and Recommendations for JLPT N3 Vocabulary Question: 委員 (いいん)\\n\\n---\\n\\n#### **Content Accuracy**\\n\\n1. **Appropriateness for JLPT N3 Level**:  \\n   The kanji 委員 (いいん) and its usage in the context of 学級委員 (class representative) are appropriate for JLPT N3. This level typically tests intermediate vocabulary that is commonly used in daily life and school settings. The inclusion of 委員 aligns well with the expected vocabulary scope for N3.\\n\\n2. **Context and Vocabulary Testing**:  \\n   The sentence provided is clear and relevant, as school-related terms like 学級委員 are familiar to learners at this level. However, the other answer choices (会員, 役員, 代表) are slightly more advanced and may not all be suitable for N3 learners:\\n   - **会員 (かいいん)**: Appropriate for N3, as it refers to a member of a group or organization and is commonly encountered in daily contexts.  \\n   - **役員 (やくいん)**: This term may lean closer to N2, as it refers to an officer or executive member, which is slightly more formal and less commonly used in everyday conversation.  \\n   - **代表 (だいひょう)**: While this term is commonly used, it may also lean closer to N2 due to its broader application in professional and formal contexts.\\n\\n   Recommendation: Replace 役員 and 代表 with simpler, more N3-appropriate terms such as **部員 (ぶいん, club member)** or **責任者 (せきにんしゃ, person in charge)** to better match the N3 level.\\n\\n---\\n\\n#### **Question Quality**\\n\\n1. **Clarity of Wording**:  \\n   The question is clearly worded and free from ambiguity. The phrase \"最も適切な言葉はどれですか\" is straightforward and aligns with standard JLPT question formats. The sentence provides sufficient context for candidates to infer the correct answer.\\n\\n2. **Mix of Question Types**:  \\n   The multiple-choice format is standard for JLPT exams and works well for this type of vocabulary question. However, incorporating other question types (e.g., fill-in-the-blank or matching) could diversify the test and assess different aspects of language comprehension.\\n\\n   Recommendation: Consider adding a fill-in-the-blank question where candidates must write the correct term based on context, or a matching question that pairs kanji with definitions.\\n\\n3. **Difficulty Level**:  \\n   While the question is challenging, the advanced nature of some distractors (役員, 代表) skews the difficulty slightly higher than intended for N3. Simplifying the distractors would make the question more balanced for this level.\\n\\n---\\n\\n#### **Format and Presentation**\\n\\n1. **Organization and Navigation**:  \\n   The question is well-organized, with the sentence and answer choices clearly laid out. The use of bold for the correct answer and underlining for the target word makes it visually easy to follow.\\n\\n2. **Instructions**:  \\n   The instructions are clear and concise. No changes are needed in this area.\\n\\n3. **Cultural Appropriateness**:  \\n   The use of a school-related context (学級委員) is culturally relevant and reflects real-life situations in Japan, making the question relatable for learners.\\n\\n---\\n\\n#### **Detailed Recommendations**\\n\\n1. **Adjust Distractors**:  \\n   Replace 役員 and 代表 with simpler, N3-appropriate terms. Suggested replacements:\\n   - **部員 (ぶいん)**: Club member.  \\n   - **責任者 (せきにんしゃ)**: Person in charge.  \\n\\n2. **Diversify Question Types**:  \\n   Introduce a fill-in-the-blank variation, such as:  \\n   **問題：次の文章の空欄に入る最も適切な言葉を書いてください。**  \\n   学校の<u><em>＿＿＿</em></u>に選ばれた太郎は、責任感を感じていた。\\n\\n3. **Expand Context**:  \\n   Provide a slightly more detailed sentence to ensure the context is crystal clear. For example:  \\n   学校の<u><em>委員</em></u>に選ばれた太郎は、クラスをまとめる責任感を感じていた。\\n\\n4. **Enhance Explanation**:  \\n   The explanation is thorough but could benefit from a brief mention of why the distractors are incorrect. For example:  \\n   - 会員: Refers to a general member of a group, not specific to a school setting.  \\n   - 役員: Refers to an officer or executive, which is more formal and unrelated to the context.  \\n   - 代表: Refers to a representative, but is too broad for the specific context of a school committee.\\n\\n5. **Cultural Relevance**:  \\n   Consider adding a note about the role of 学級委員 in Japanese schools, as this might be unfamiliar to non-Japanese learners. For example:  \\n   \"In Japanese schools, 学級委員 refers to a student elected by their classmates to represent the class, often taking on leadership and organizational responsibilities.\"\\n\\n---\\n\\n#### **Final Feedback**\\n\\nOverall, the question is well-constructed and relevant to the JLPT N3 level, but slight adjustments to the distractors and context could improve its alignment with the intended difficulty. Diversifying the question types and enhancing cultural explanations would make the test more engaging and educational for learners.\\n\\n', additional_kwargs={}, response_metadata={}, id='8d8dddf5-6947-4b88-9ec4-07b9c354a7f8')]}}\n",
      "---\n",
      "---Generator----\n",
      "{'generator': {'question': \"Thank you for the comprehensive critique! I'll revise the question based on your detailed recommendations:\\n\\n**問題：次の文章の空欄に入る最も適切な言葉はどれですか。**\\n\\n学校のクラスをまとめる<u><em>委員</em></u>に選ばれた太郎は、責任感を感じていた。\\n\\n1. 部員\\n2. 学級委員\\n3. 責任者\\n4. 会員\\n\\n**正解：2 学級委員**\\n\\n**解説（中文）：**\\n這道題目測試考生對「委員」一詞在學校環境中的理解。「学級委員」是日本學校中常見的角色，指由同學選出的班級代表，負責組織和協調班級事務。這個問題要求考生根據上下文選擇最合適的詞語，考察了語境中詞語的運用能力。\\n\\n在日本學校中，学級委員通常由班級同學投票選出，他們需要協助老師管理班級事務，組織班級活動，並代表班級與其他班級或學校管理層溝通。這個角色不僅需要領導能力，還需要同學間的信任和支持。\\n\\n**Additional Cultural Context:**\\nThe role of 学級委員 (gakkyū-iin) is an important part of Japanese school culture, teaching students leadership, responsibility, and cooperation from a young age. This system helps develop social skills and a sense of community within the classroom.\\n\\nThe revised question addresses several key points from the critique:\\n1. Simplified and more appropriate distractors\\n2. More detailed context\\n3. Enhanced explanation\\n4. Added cultural context\\n5. Maintained the N3 level difficulty\\n\\nWould you like me to make any further modifications?\", 'messages': [AIMessage(content=\"Thank you for the comprehensive critique! I'll revise the question based on your detailed recommendations:\\n\\n**問題：次の文章の空欄に入る最も適切な言葉はどれですか。**\\n\\n学校のクラスをまとめる<u><em>委員</em></u>に選ばれた太郎は、責任感を感じていた。\\n\\n1. 部員\\n2. 学級委員\\n3. 責任者\\n4. 会員\\n\\n**正解：2 学級委員**\\n\\n**解説（中文）：**\\n這道題目測試考生對「委員」一詞在學校環境中的理解。「学級委員」是日本學校中常見的角色，指由同學選出的班級代表，負責組織和協調班級事務。這個問題要求考生根據上下文選擇最合適的詞語，考察了語境中詞語的運用能力。\\n\\n在日本學校中，学級委員通常由班級同學投票選出，他們需要協助老師管理班級事務，組織班級活動，並代表班級與其他班級或學校管理層溝通。這個角色不僅需要領導能力，還需要同學間的信任和支持。\\n\\n**Additional Cultural Context:**\\nThe role of 学級委員 (gakkyū-iin) is an important part of Japanese school culture, teaching students leadership, responsibility, and cooperation from a young age. This system helps develop social skills and a sense of community within the classroom.\\n\\nThe revised question addresses several key points from the critique:\\n1. Simplified and more appropriate distractors\\n2. More detailed context\\n3. Enhanced explanation\\n4. Added cultural context\\n5. Maintained the N3 level difficulty\\n\\nWould you like me to make any further modifications?\", additional_kwargs={}, response_metadata={}, id='0360c181-0624-483f-a8dd-4ef625bc3338')]}}\n",
      "---\n"
     ]
    }
   ],
   "source": [
    "# Invoke\n",
    "config = {\"configurable\": {\"thread_id\": \"1\"}}\n",
    "\n",
    "# Debug the Conversation\n",
    "for event in kanji_graph.stream(\n",
    "    {\n",
    "        \"messages\": [\n",
    "            HumanMessage(\n",
    "                content=word\n",
    "            )\n",
    "        ],\n",
    "    },\n",
    "    config,\n",
    "):\n",
    "    print(event)\n",
    "    print(\"---\")"
   ],
   "metadata": {
    "collapsed": false,
    "ExecuteTime": {
     "end_time": "2025-04-08T15:39:42.294940Z",
     "start_time": "2025-04-08T15:38:46.051240900Z"
    }
   },
   "id": "3c2e1e740fbe6971"
  },
  {
   "cell_type": "code",
   "execution_count": 90,
   "outputs": [
    {
     "name": "stdout",
     "output_type": "stream",
     "text": [
      "---WEB SEARCH---\n",
      "{'query': '委員(いいん)', 'follow_up_questions': None, 'answer': None, 'images': [], 'results': [{'title': '至急お願いします。 - 私のグラスには学級委員があります。そのことについ... - Yahoo!知恵袋', 'url': 'https://detail.chiebukuro.yahoo.co.jp/qa/question_detail/q11313451106', 'content': '私のグラスには学級委員があります。そのことについての投票があったのですが、選択肢が、学級委員をやりたい、やっても構わない、やりたくないでした。 ... 周りの子から一人暮らしの方が安いしいいんじゃないと言われるのですが全部含めたら家族と', 'score': 0.18988171, 'raw_content': None}, {'title': 'にじさんじ/コメントログ - アニヲタWiki(仮)【4/8更新】 - atwiki（アットウィキ）', 'url': 'https://w.atwiki.jp/aniwotawiki/pages/58579.html', 'content': 'とりあえず統合前後で分けるのがいいんじゃない？ -- 名無しさん (2023-08-18 16:48:50) 3Dのクオリティが高いよね -- 名無しさん (2023-11-08 14:10:01) ... 特に委員長・加賀美社長・サロメ嬢のわたくし族達は飛び抜けて好きだわ。 -- 名無しさん (2025-03-28 12:22:55) rfmo体', 'score': 0.11009767, 'raw_content': None}, {'title': '三森のアニキという名の仮面を被った男の告白｜三森のアニキ（うらの顔）', 'url': 'https://note.com/mimori_lb_note/n/na06938566535', 'content': '中学でも学級委員。常に誰かが周りにいる環境に慣れていたんです。今思えば、私は\"中心\"にいることに心地よさを感じていたのかもしれません。 ... それなら協力した方がいいんじゃないか？', 'score': 0.08735358, 'raw_content': None}, {'title': 'MLBで話題沸騰「魚雷バット」 日本でも今季中に導入へ 本塁打増加へ5月にも承認― スポニチ Sponichi Annex 野球', 'url': 'https://www.sponichi.co.jp/baseball/news/2025/04/08/kiji/20250408s00001173008000c.html', 'content': '\"使えるんだったら使った方がいいんじゃないの\"という話もある」と方針を示した。 この日は友寄正人規則委員から、規格や大リーグの使用', 'score': 0.0840483, 'raw_content': None}, {'title': 'Japanese News: 株価 一時2100円超上昇 3万3000円台を回復 買い戻しで全面高 - Todaii: Easy Japanese', 'url': 'https://easyjapanese.net/detail/e44ced53e7d1db1d23a61a2565725056?hl=en-US&src=1', 'content': '6 日 にち に 患者 かんじゃ を 運 はこ んでいた 医療 いりょう 搬送 はんそう 用 よう のヘリコプターが、 長崎 ながさき 県 けん の 壱岐 いき の 沖合 おきあい で 転覆 てんぷく した 状態 じょうたい で 見 み つかり、3 人 にん が 死亡 しぼう した 事故', 'score': 0.033643506, 'raw_content': None}], 'response_time': 1.91}\n",
      "Web results:  私のグラスには学級委員があります。そのことについての投票があったのですが、選択肢が、学級委員をやりたい、やっても構わない、やりたくないでした。 ... 周りの子から一人暮らしの方が安いしいいんじゃないと言われるのですが全部含めたら家族と\n",
      "とりあえず統合前後で分けるのがいいんじゃない？ -- 名無しさん (2023-08-18 16:48:50) 3Dのクオリティが高いよね -- 名無しさん (2023-11-08 14:10:01) ... 特に委員長・加賀美社長・サロメ嬢のわたくし族達は飛び抜けて好きだわ。 -- 名無しさん (2025-03-28 12:22:55) rfmo体\n",
      "中学でも学級委員。常に誰かが周りにいる環境に慣れていたんです。今思えば、私は\"中心\"にいることに心地よさを感じていたのかもしれません。 ... それなら協力した方がいいんじゃないか？\n",
      "\"使えるんだったら使った方がいいんじゃないの\"という話もある」と方針を示した。 この日は友寄正人規則委員から、規格や大リーグの使用\n",
      "6 日 にち に 患者 かんじゃ を 運 はこ んでいた 医療 いりょう 搬送 はんそう 用 よう のヘリコプターが、 長崎 ながさき 県 けん の 壱岐 いき の 沖合 おきあい で 転覆 てんぷく した 状態 じょうたい で 見 み つかり、3 人 にん が 死亡 しぼう した 事故\n",
      "---Generator----\n"
     ]
    },
    {
     "data": {
      "text/plain": "<IPython.core.display.Markdown object>",
      "text/markdown": "I'll create a refined JLPT N3 level vocabulary question focusing on 委員 (いいん):\n\n**問題：次の文章の空欄に入る最も適切な言葉はどれですか。**\n\n市民の意見を聞くため、市長は新しい<u><em>委員</em></u>を立ち上げた。\n\n1. 会議\n2. 審査\n3. 検討\n4. 委員会\n\n**正解：4 委員会**\n\n**解説（中文）：**\n這道題目測試考生對「委員」一詞在公共場合的理解和使用。「委員会」是一個常見的詞組，指由特定成員組成的委員會或審議機構。這個問題要求考生根據上下文選擇最合適的詞語，考察了語境中詞語的運用能力。\n\n**Explanation in English:**\nThe question tests the candidate's understanding of the term 委員 (いいん, committee member) in a public context. 委員会 (いいんかい, committee) is a common term referring to a group of appointed members who discuss or investigate a specific issue.\n\n**Cultural Context:**\nIn Japan, 委員会 are frequently used in government, local administration, and organizations to gather diverse opinions, conduct investigations, or make collective decisions. This reflects the Japanese cultural value of consensus and collective deliberation.\n\n**Linguistic Breakdown:**\n- 委員 (いいん): committee member\n- 委員会 (いいんかい): committee\n- 会議 (かいぎ): meeting\n- 審査 (しんさ): examination, screening\n- 検討 (けんとう): consideration, examination\n\nThe question tests:\n1. Contextual vocabulary understanding\n2. Kanji comprehension\n3. Nuanced word selection\n4. Public administration terminology\n\nWould you like me to elaborate on any aspect of the question?"
     },
     "metadata": {},
     "output_type": "display_data"
    }
   ],
   "source": [
    "kanji = kanji_graph.invoke(\n",
    "    {\n",
    "       \"messages\": [\n",
    "                HumanMessage(\n",
    "                    content=word\n",
    "                )\n",
    "            ],\n",
    "        },\n",
    "    config\n",
    ")\n",
    "display(Markdown(kanji[\"question\"]))"
   ],
   "metadata": {
    "collapsed": false,
    "ExecuteTime": {
     "end_time": "2025-04-08T15:39:53.685203900Z",
     "start_time": "2025-04-08T15:39:42.290342Z"
    }
   },
   "id": "553844c1e99d121c"
  },
  {
   "cell_type": "code",
   "execution_count": 90,
   "outputs": [],
   "source": [],
   "metadata": {
    "collapsed": false,
    "ExecuteTime": {
     "end_time": "2025-04-08T15:39:53.686203Z",
     "start_time": "2025-04-08T15:39:53.682325800Z"
    }
   },
   "id": "c778d8e10606427f"
  }
 ],
 "metadata": {
  "kernelspec": {
   "display_name": "Python 3",
   "language": "python",
   "name": "python3"
  },
  "language_info": {
   "codemirror_mode": {
    "name": "ipython",
    "version": 2
   },
   "file_extension": ".py",
   "mimetype": "text/x-python",
   "name": "python",
   "nbconvert_exporter": "python",
   "pygments_lexer": "ipython2",
   "version": "2.7.6"
  }
 },
 "nbformat": 4,
 "nbformat_minor": 5
}
