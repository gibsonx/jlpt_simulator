{
 "cells": [
  {
   "cell_type": "markdown",
   "id": "2b011bdf967ca7ff",
   "metadata": {
    "collapsed": false
   },
   "source": [
    "# Language Knowledge (Vocabulary)\n",
    "Duration: 30 minutes\n",
    "Content: This section tests your knowledge of Japanese vocabulary, including kanji readings, orthography, word formation, contextually-defined expressions, paraphrases, and usage\n",
    "It mainly composes following five categories:\n",
    "- ``Reading Kana`` (Pronunciation Questions): Given a kanji word, choose the correct kana reading.\n",
    "- `Writing Kanji` (Writing Questions): Given a word written in kana, choose the correct kanji representation.\n",
    "- `Word Meaning` Selection (Vocabulary Understanding): Choose the most suitable word to fill in the sentence from four options.\n",
    "- `Synonym Replacement`: Select a word that has the same or similar meaning as the underlined word.\n",
    "- `Vocabulary Usage`: Assess the usage of words in actual contexts, choosing the most appropriate word usage, including some common Japanese expressions or fixed phrases."
   ]
  },
  {
   "cell_type": "code",
   "execution_count": 1,
   "id": "7f526a68a7e73a65",
   "metadata": {
    "ExecuteTime": {
     "end_time": "2025-04-12T09:05:46.881337200Z",
     "start_time": "2025-04-12T09:05:46.846841100Z"
    },
    "collapsed": false
   },
   "outputs": [
    {
     "data": {
      "text/plain": [
       "True"
      ]
     },
     "execution_count": 1,
     "metadata": {},
     "output_type": "execute_result"
    }
   ],
   "source": [
    "import pandas as pd\n",
    "import json\n",
    "import os\n",
    "import random\n",
    "import pickle\n",
    "import re\n",
    "import uuid\n",
    "from typing import *\n",
    "from langchain_openai import AzureOpenAI,AzureChatOpenAI\n",
    "from langchain_anthropic import ChatAnthropic\n",
    "from langchain_core.prompts import ChatPromptTemplate, MessagesPlaceholder\n",
    "from dotenv import load_dotenv\n",
    "from langchain_aws import ChatBedrock\n",
    "from langchain.embeddings.base import Embeddings\n",
    "from langchain.text_splitter import CharacterTextSplitter\n",
    "from langchain_community.document_loaders import PyPDFLoader\n",
    "from langchain_community.embeddings import HuggingFaceEmbeddings\n",
    "# from langchain_community.embeddings import XinferenceEmbeddings\n",
    "from langchain_community.vectorstores import Chroma\n",
    "from langchain_openai import OpenAIEmbeddings\n",
    "from typing import Annotated, Literal, Sequence\n",
    "from typing_extensions import TypedDict\n",
    "from IPython.display import display, Markdown, Latex\n",
    "from langchain import hub\n",
    "from langchain_core.output_parsers import StrOutputParser\n",
    "from langchain_core.prompts import PromptTemplate\n",
    "from langchain_openai import ChatOpenAI\n",
    "from typing import Annotated, Sequence\n",
    "from typing_extensions import TypedDict\n",
    "from langchain_core.messages import BaseMessage,RemoveMessage,HumanMessage,AIMessage,ToolMessage\n",
    "from langgraph.graph.message import add_messages\n",
    "from pydantic import BaseModel, Field\n",
    "from langgraph.graph import END, StateGraph, START\n",
    "from langgraph.prebuilt import ToolNode\n",
    "from langgraph.prebuilt import tools_condition\n",
    "from langgraph.checkpoint.memory import MemorySaver\n",
    "from langchain.output_parsers import PydanticOutputParser\n",
    "from pydantic import BaseModel, Field, validator\n",
    "from typing import List, Optional\n",
    "from langchain_tavily import TavilySearch\n",
    "from langchain.schema import Document\n",
    "from langgraph.prebuilt import create_react_agent\n",
    "from langchain_community.tools.tavily_search import TavilySearchResults\n",
    "load_dotenv()"
   ]
  },
  {
   "cell_type": "code",
   "execution_count": 2,
   "id": "58607e19",
   "metadata": {},
   "outputs": [],
   "source": [
    "azure_llm = AzureChatOpenAI(\n",
    "    azure_endpoint=\"https://ai-rolandaws880125ai409947751408.openai.azure.com/openai/deployments/gpt-4o/chat/completions?api-version=2025-01-01-preview\",\n",
    "    api_key=os.environ[\"AZURE_API_KEY\"],\n",
    "    model_name=\"gpt-4o\",\n",
    "    api_version=\"2025-01-01-preview\",\n",
    "    temperature=0.5,\n",
    ")\n",
    "\n",
    "aws_llm = ChatBedrock(\n",
    "    # model_id=\"us.anthropic.claude-3-7-sonnet-20250219-v1:0\",\n",
    "     model_id=\"us.anthropic.claude-3-5-haiku-20241022-v1:0\",\n",
    "    model_kwargs=dict(temperature=0.5),\n",
    "    region = \"us-east-2\",\n",
    "    aws_access_key_id=os.environ[\"AWS_ACCESS_KEY_ID\"],\n",
    "    aws_secret_access_key=os.environ[\"AWS_SECRET_ACCESS_KEY\"],\n",
    ")"
   ]
  },
  {
   "cell_type": "code",
   "execution_count": 3,
   "id": "initial_id",
   "metadata": {
    "ExecuteTime": {
     "end_time": "2025-04-12T09:05:46.893687800Z",
     "start_time": "2025-04-12T09:05:46.853897400Z"
    },
    "collapsed": false
   },
   "outputs": [],
   "source": [
    "# Import N3 Vocabulary\n",
    "file_path = '../../Vocab/n3.csv'\n",
    "# Read the CSV file\n",
    "data = pd.read_csv(file_path)\n",
    "words = data.iloc[:, :2].sample(frac=1).reset_index(drop=True)\n",
    "# Display the content of the CSV file\n",
    "words.head()\n",
    "vocab_dict = words.set_index(words.columns[0])[words.columns[1]].to_dict()\n",
    "vocab_dict = json.dumps(vocab_dict, ensure_ascii=False, separators=(',', ':'))"
   ]
  },
  {
   "cell_type": "markdown",
   "id": "4c1cdce8b1f57ef3",
   "metadata": {
    "collapsed": false
   },
   "source": [
    "#### load Models"
   ]
  },
  {
   "cell_type": "markdown",
   "id": "385c63b54b5c2a36",
   "metadata": {
    "collapsed": false
   },
   "source": [
    "#### Exam Paper Outline\n",
    "### A. overall thinking the structure of an exam\n",
    "1. distribution of the difficulty \n",
    "2. topics\n",
    "3. reasoning"
   ]
  },
  {
   "cell_type": "markdown",
   "id": "fed5f032dadafac1",
   "metadata": {
    "collapsed": false
   },
   "source": [
    "## Data Strcuture"
   ]
  },
  {
   "cell_type": "markdown",
   "id": "5795bb3d95c0cc50",
   "metadata": {
    "collapsed": false
   },
   "source": [
    "# Kanji 读假名（读音问题）"
   ]
  },
  {
   "cell_type": "code",
   "execution_count": 4,
   "id": "252ffacd6ebb7b37",
   "metadata": {
    "ExecuteTime": {
     "end_time": "2025-04-12T09:05:46.893687800Z",
     "start_time": "2025-04-12T09:05:46.867091900Z"
    },
    "collapsed": false
   },
   "outputs": [],
   "source": [
    "def online_search(state):\n",
    "    \"\"\"\n",
    "    Web search based on the re-phrased question.\n",
    "\n",
    "    Args:\n",
    "        state (dict): The current graph state\n",
    "\n",
    "    Returns:\n",
    "        state (dict): Updates documents key with appended web results\n",
    "    \"\"\"\n",
    "    \n",
    "    print(\"---WEB SEARCH---\")\n",
    "    \n",
    "    topic = state['messages'][0].content\n",
    "    \n",
    "    tavily_search_tool = TavilySearch(\n",
    "        max_results=5,\n",
    "        topic=\"news\",\n",
    "        days=1\n",
    "    )\n",
    "    # Web search\n",
    "    docs = tavily_search_tool.invoke({\"query\": topic})\n",
    "    \n",
    "    print(docs)\n",
    "\n",
    "    web_results = \"\\n\".join([d[\"content\"] for d in docs[\"results\"]])\n",
    "    \n",
    "    print(\"Web results: \", web_results)\n",
    "\n",
    "    return {\"documents\": web_results, \"topic\": topic}"
   ]
  },
  {
   "cell_type": "code",
   "execution_count": 5,
   "id": "1a966afd733d860d",
   "metadata": {
    "ExecuteTime": {
     "end_time": "2025-04-12T09:05:46.917155100Z",
     "start_time": "2025-04-12T09:05:46.871842700Z"
    },
    "collapsed": false
   },
   "outputs": [],
   "source": [
    "from typing_extensions import TypedDict\n",
    "from langgraph.graph import StateGraph, START, END\n",
    "from IPython.display import Image, display\n",
    "\n",
    "\n",
    "# Graph state\n",
    "class QuestionState(TypedDict):\n",
    "    topic: str\n",
    "    question: str\n",
    "    documents: str\n",
    "    messages: Annotated[list, add_messages]\n",
    "\n",
    "\n",
    "example = \"\"\"\n",
    " 問題 1\n",
    "\n",
    " 1 番 正解：3\n",
    "\n",
    "> 会社で課長と男の人が話しています。男の人は出張レポートのことを国きなればなみませんか。\n",
    ">\n",
    "> 女：田中さん。初めての出張、お疲れ様でした、この出張のレポート詳みました。\n",
    "> 男：はい。\n",
    "> 女：出張の目的と訪問した会社で誰に会ったのかはこれています。ただ、話し合いについては最終的にどうなったのかがわかりくいています。そこを直してください。\n",
    "> 男：はい、わかりました。\n",
    "> 女：次の訪問日は3ヶ月後になつたんですね。\n",
    "> 男：はい。\n",
    ">\n",
    "> 男の人は出張レポートのことを直きなければなりませんか。\n",
    "\n",
    " 2 番 正解：3\n",
    "\n",
    "> 図書館で男の学生と受付の人が話しています。男の学生は本の子をずるためにこの後、何をしますか。\n",
    ">\n",
    "> 男：すみません。昔れたし本があるんですが、図書館のパソコンで調べたら貸し出し中になっていて、子でっていう件があきけと押せんいんです。\n",
    "> 女：すみません。その本の名前は今、問題があって使えないてなっています。あの、図書館の利用カードは持っていますか。\n",
    "> 男：はい。\n",
    "> 女：それではうちの図書館に貸して出してしたければ予约できますよ。\n",
    "> 男：あ、そうですか。わかりました。\n",
    "> 女：あ、ただ、借りているつしゃの本の中に貸し出し期限を過ぎた本があると予約できるって子的できるが…。\n",
    "> 男：それは大丈夫です。ありがとうごさいます。\n",
    "\n",
    "男の学生は本の予約をするためにこの後、何をしますか。\n",
    "\n",
    " 3番 正解：1\n",
    "\n",
    "> 大学の音楽クラブの部室で女の学生と男の学生が話しています。女の学生は之後、何をしますか。\n",
    ">\n",
    "> 女：遅くなってごめん。明日のコンサートの準備、もう始まってると聞いた？みんなもう会場の準備してる？\n",
    "> 男：あ、伊藤さん。みんな体育館に椅子を並べに行ったよ。伊藤さんも行ってくれる？\n",
    "> 女：今、ちょっとプログラム印刷し終わったから持って、体育館の入口で受け用的テーブルがあるからその上に置いて。\n",
    "> 男：わかりました。\n",
    "> 女：わかって。\n",
    "> 男：その後、みんなと一緒に椅子、並べくれる？\n",
    "> 女：OK。楽器を運ぶのはその後？大家い内的に今日のうちに運びだせな。\n",
    "> 男：ああ、さっき体育館に行った時に最初に運んでもらった。僕は先生に明日のこと相談して行ったから体育館に向かうね。\n",
    "> 女：わかって。\n",
    "\n",
    "女の学生はこの後、何をしますか。\n",
    "\n",
    " 4番 正解：2\n",
    "\n",
    "> 会社で女の人と男の人が話しています。女の人は之後まず何しますか。\n",
    ">\n",
    "> 女：村上さん。今年の新入社員のセミナー、来月ですが、1日目的予定表はこれでよろしいですか？\n",
    "> 男：ああ、はい。えっと、9時スタートで社長の話。その後、昼までビジネスマナーの先生の講義、去年と同じだね。あー、毎年9時スタートで朝から準備で忙しいという意見が多くて。\n",
    "> 女：そうでしたか。\n",
    "> 男：それで今年は30分遅くして9時半開始にしようという話になったんだ。終わるのは１２時じゃなくて１２時半になるけど。  \n",
    "> 女：はい。  \n",
    "> 男：会場は一応、午後１時まで使ってるから問題ないよ。社員に去年より３０分遅くなってもいいか、言合せ聞いてなくて、いちいちのは最初のところだけだから大丈夫だと思うけど。  \n",
    "> 女：わかりました。  \n",
    "> 男：先生には今日会うことになってるから確認しておくよ。全部確認取れてから予定表、直してくれる？  \n",
    "> 女：はい。\n",
    "\n",
    "女の人はこの後まず何をしますか。\n",
    "\n",
    "---\n",
    "\n",
    " 1ばん\n",
    "\n",
    "1. しゅっちょうの　もくてき  \n",
    "2. 会った人のじょうほう  \n",
    "3. 話し合いのけっか  \n",
    "4. つぎのほうもん日  \n",
    "\n",
    " 2ばん\n",
    "\n",
    "1. パソコンでもうしこむ  \n",
    "2. 利用カードを作る  \n",
    "3. もうしこみ用紙に書いて出す  \n",
    "4. かりている本をかえす  \n",
    "\n",
    " 3ばん\n",
    "\n",
    "1. アイ  \n",
    "2. アイウ  \n",
    "3. アエ  \n",
    "4. イウエ  \n",
    "\n",
    " 4ばん\n",
    "\n",
    "1. 会場のよやく時間をかえる  \n",
    "2. しゃちょうに予定を聞く  \n",
    "3. 先生に会いに行く  \n",
    "4. よていひょうをなおす  \n",
    "\"\"\"\n",
    "\n",
    "# Nodes\n",
    "def question_draft_generator(state: QuestionState):\n",
    "    \"\"\"First LLM call to generate initial question\"\"\"\n",
    "    print(\"---Generator----\")\n",
    "        \n",
    "    search_result = state['documents'],\n",
    "    \n",
    "    prompt = ChatPromptTemplate.from_messages(\n",
    "        [\n",
    "            (\n",
    "                \"system\",\n",
    "                \"\"\"\n",
    "                    You are a Japanese teacher. Your job is to write a listening question for candidates to prepare original text and options for the listening dialogue. Students need to listen to dialogues and choose options that match the meaning of the question based on the listening content. Some questions have picture options, while others are mostly text options. There will be 3-5 back and forth dialogues with around 200-300 words. The roll only displays options. Listen often\n",
    "After the conversation, ask one person in the conversation what they want to do next. Only refer to the format, not the content.The JLPT exam paper includes a mix of easy, moderate, and difficult questions to accurately assess the test-taker’s proficiency across different aspects of the language.\n",
    "                    The vocabulary should be restricted to N3 level, use the vocabulary in the `Dictionary` as much as you can.\n",
    "                    Please refer to the question examples following the formal exam paper.\n",
    "                    Append the correct answer and explanation of the main challenges on why the teacher asks this question to the candidate in simplified Chinese at each question.\n",
    "                    Finally, output beautiful markdown format.\n",
    "                    Dictionary: {vocab_dict}\n",
    "                    Search result: {search_result}\n",
    "                    Formal exam paper: {example}\n",
    "                \"\"\"\n",
    "            ),\n",
    "            MessagesPlaceholder(variable_name=\"messages\"),\n",
    "        ]\n",
    "    )\n",
    "\n",
    "    \n",
    "    input = { \"topic\" : state['topic'],\n",
    "              \"search_result\": search_result, \n",
    "              \"vocab_dict\": vocab_dict,\n",
    "              \"example\": example,\n",
    "              \"messages\": state[\"messages\"]\n",
    "              }\n",
    "    # final_message = prompt.format_messages(**input)\n",
    "    # print(final_message)\n",
    "    \n",
    "    generate = prompt | azure_llm\n",
    "    \n",
    "    msg = generate.invoke(input=input)\n",
    "    \n",
    "    \n",
    "    return {\"question\": msg.content, \"messages\": [AIMessage(content=msg.content)] }\n",
    "\n",
    "\n",
    "def reflection_node(state: QuestionState) -> QuestionState:\n",
    "    print(\"---REVISOR---\")\n",
    "    \n",
    "    # Other messages we need to adjust\n",
    "    cls_map = {\"ai\": HumanMessage, \"human\": AIMessage}\n",
    "    # First message is the original user request. We hold it the same for all nodes\n",
    "    translated = [state[\"messages\"][0]] + [\n",
    "        cls_map[msg.type](content=msg.content) for msg in state[\"messages\"][1:]\n",
    "    ]\n",
    "\n",
    "    reflection_prompt = ChatPromptTemplate.from_messages(\n",
    "    [\n",
    "        (\n",
    "            \"system\",\n",
    "            \"\"\"you are a Japanese language educator reviewing a JLPT exam paper. Generate critique and recommendations for the user's submission.\n",
    "            the review focuses on content accuracy and question quality. \n",
    "            - For content accuracy, you must verify that the grammar and vocabulary questions accurately reflect the appropriate JLPT N3 level, ensuring the reading passages are clear, relevant, and appropriately challenging. \n",
    "            - For question quality, you must ensure all questions are clearly worded and free from ambiguity to comprehensively assess different language skills, and confirm that the difficulty level of the questions matches the intended JLPT N3 level.\n",
    "            - During detailed refinement, you check the format and presentation of the paper, ensuring it is well-organized and the instructions are clear and concise. you also ensure the content is culturally appropriate and relevant to Japanese language and culture.\n",
    "            - Finally, you make give feedback, providing detailed recommendations, including requests.If you think the exam paper is good enough, you just say \"GOOD ENOUGH\"\n",
    "            \"\"\"\n",
    "        ),\n",
    "            MessagesPlaceholder(variable_name=\"messages\"),\n",
    "        ]\n",
    "    )\n",
    "    reflect = reflection_prompt | azure_llm\n",
    "    \n",
    "    res = reflect.invoke(translated)\n",
    "    \n",
    "    print(res.content)\n",
    "    \n",
    "    # We treat the output of this as human feedback for the generator\n",
    "    return {\"messages\": [HumanMessage(content=res.content)]}\n",
    "\n"
   ]
  },
  {
   "cell_type": "code",
   "execution_count": 6,
   "id": "30e802dc904d791c",
   "metadata": {
    "ExecuteTime": {
     "end_time": "2025-04-12T09:05:47.226967100Z",
     "start_time": "2025-04-12T09:05:46.881337200Z"
    },
    "collapsed": false
   },
   "outputs": [],
   "source": [
    "# Build workflow\n",
    "builder = StateGraph(QuestionState)\n",
    "\n",
    "builder.add_node(\"online_search\", online_search)\n",
    "builder.add_node(\"generator\", question_draft_generator)\n",
    "builder.add_node(\"reflector\", reflection_node)\n",
    "# Add nodes\n",
    "\n",
    "def should_continue(state: QuestionState):\n",
    "    if state[\"messages\"]:\n",
    "        if len(state[\"messages\"]) > 6: \n",
    "            print(\"--- Reach the Maximum Round ---\")\n",
    "            return END\n",
    "        elif \"GOOD ENOUGH\" in state[\"messages\"][-1].content:\n",
    "            print(\"--- AI Reviser feels Good Enough ---\")\n",
    "            return END\n",
    "    return \"generator\"\n",
    "\n",
    "# Add edges to connect nodes\n",
    "builder.add_edge(START, \"online_search\")\n",
    "builder.add_edge(\"online_search\", \"generator\")\n",
    "builder.add_edge(\"generator\",\"reflector\")\n",
    "# \n",
    "builder.add_conditional_edges(\"reflector\", should_continue)\n",
    "memory = MemorySaver()\n",
    "\n",
    "# Compile\n",
    "kanji_graph = builder.compile()\n",
    "\n",
    "# Show workflow\n",
    "# display(Image(kanji_graph.get_graph().draw_png()))"
   ]
  },
  {
   "cell_type": "code",
   "execution_count": 7,
   "id": "eec5f157c924be8b",
   "metadata": {
    "ExecuteTime": {
     "end_time": "2025-04-12T09:05:47.233071800Z",
     "start_time": "2025-04-12T09:05:47.226967100Z"
    },
    "collapsed": false
   },
   "outputs": [
    {
     "name": "stderr",
     "output_type": "stream",
     "text": [
      "C:\\Users\\HW-BK003\\AppData\\Local\\Temp\\ipykernel_5212\\846002302.py:2: FutureWarning: Series.__getitem__ treating keys as positions is deprecated. In a future version, integer keys will always be treated as labels (consistent with DataFrame behavior). To access a value by position, use `ser.iloc[pos]`\n",
      "  word = f\"{row[0]}({row[1]})\"\n"
     ]
    },
    {
     "data": {
      "text/plain": [
       "'孫(まご)'"
      ]
     },
     "execution_count": 7,
     "metadata": {},
     "output_type": "execute_result"
    }
   ],
   "source": [
    "row = words.iloc[1]\n",
    "word = f\"{row[0]}({row[1]})\"\n",
    "word"
   ]
  },
  {
   "cell_type": "code",
   "execution_count": 8,
   "id": "3c2e1e740fbe6971",
   "metadata": {
    "ExecuteTime": {
     "end_time": "2025-04-12T09:05:47.238098800Z",
     "start_time": "2025-04-12T09:05:47.233071800Z"
    },
    "collapsed": false
   },
   "outputs": [],
   "source": [
    "# # Debug the Conversation\n",
    "# for event in kanji_graph.stream(\n",
    "#     {\n",
    "#         \"messages\": [\n",
    "#             HumanMessage(\n",
    "#                 content=word\n",
    "#             )\n",
    "#         ],\n",
    "#     },\n",
    "#     config={\"configurable\": {\"thread_id\": \"1\"}},\n",
    "# ):\n",
    "#     print(event)\n",
    "#     print(\"---\")"
   ]
  },
  {
   "cell_type": "code",
   "execution_count": 9,
   "id": "553844c1e99d121c",
   "metadata": {
    "ExecuteTime": {
     "end_time": "2025-04-12T09:06:11.173729Z",
     "start_time": "2025-04-12T09:05:47.238098800Z"
    },
    "collapsed": false
   },
   "outputs": [
    {
     "name": "stdout",
     "output_type": "stream",
     "text": [
      "---WEB SEARCH---\n",
      "{'query': '孫(まご)', 'follow_up_questions': None, 'answer': None, 'images': [], 'results': [{'title': '孫 (マゴ)とは？ 意味や使い方 - コトバンク', 'url': 'https://kotobank.jp/word/孫-441331', 'content': '孫とは2世代下の子孫の総称であり，日本人はこれを内孫（うちまご）と外孫（そとまご）に区別している。 内孫とは 婿養子 の場合を除いて一般に男の子どもたちの子をいい，外孫とは婚出した子どもたちの子をさす。', 'score': 0.8399576, 'raw_content': None}, {'title': '孫 - Wikipedia', 'url': 'https://ja.wikipedia.org/wiki/孫', 'content': '男子の場合は 男孫 （だんそん、おとこまご）、女子の場合は 女孫 （じょそん、おんなまご）と呼ぶ。 女孫が娘らしくなれば 孫娘 （まごむすめ）とも呼ばれるのに対し、男孫を「孫息子」という用例は少ない。なお、英単語の「granddaughter」と「grandson」というように男女を区別する用例も', 'score': 0.80126834, 'raw_content': None}, {'title': '孫」のさまざまな呼称』の意味と定義(全文) - 辞書辞典無料検索JLogos', 'url': 'https://www.jlogos.com/d010/4381110.html', 'content': '[子の子] 孫（まご）・孫（うまご）・孫（むまご） [子と] 子孫（しそん）・児孫（じそん）・孫子（まごこ） [他人の孫の 尊敬語] 令孫（れいそん） [他人の孫をやわらかい口調でいう] 御孫様（おまごさま）・御孫（おまご）さん [自分の 跡取り から 生まれ た子] 内孫（うちまご） [嫡子の', 'score': 0.7334523, 'raw_content': None}, {'title': '「孫」の意味や使い方 わかりやすく解説 Weblio辞書', 'url': 'https://www.weblio.jp/content/孫', 'content': '読み方：うまご 《「むまご」とも 表記》 1 まご。 「翁の、いと いみじき ぞいで 来たる。むすめにや—にや」〈源・ 末摘花〉 2 子孫。 「又、この山の族 (ぞう) 七人 にあたる人を、 三代 の—に得べし」〈宇津 保・俊蔭〉', 'score': 0.6538572, 'raw_content': None}, {'title': '【続柄一覧図】子→孫→ひ孫の次は？父母→祖父母→曾祖父母の次は？', 'url': 'https://jpnculture.net/tsudukigara1/', 'content': '自分に子どもが生まれて成長し、その子が子どもを産んだら、孫になりますよね。更に、孫が子どもを産んだら、ひ孫です。逆に、子どもから見たら自分は親で、孫からは祖父母、ひ孫からは曾祖父母です。では、ひ孫の次や曾祖父母の次は何というかご存知ですか？', 'score': 0.13326876, 'raw_content': None}], 'response_time': 1.46}\n",
      "Web results:  孫とは2世代下の子孫の総称であり，日本人はこれを内孫（うちまご）と外孫（そとまご）に区別している。 内孫とは 婿養子 の場合を除いて一般に男の子どもたちの子をいい，外孫とは婚出した子どもたちの子をさす。\n",
      "男子の場合は 男孫 （だんそん、おとこまご）、女子の場合は 女孫 （じょそん、おんなまご）と呼ぶ。 女孫が娘らしくなれば 孫娘 （まごむすめ）とも呼ばれるのに対し、男孫を「孫息子」という用例は少ない。なお、英単語の「granddaughter」と「grandson」というように男女を区別する用例も\n",
      "[子の子] 孫（まご）・孫（うまご）・孫（むまご） [子と] 子孫（しそん）・児孫（じそん）・孫子（まごこ） [他人の孫の 尊敬語] 令孫（れいそん） [他人の孫をやわらかい口調でいう] 御孫様（おまごさま）・御孫（おまご）さん [自分の 跡取り から 生まれ た子] 内孫（うちまご） [嫡子の\n",
      "読み方：うまご 《「むまご」とも 表記》 1 まご。 「翁の、いと いみじき ぞいで 来たる。むすめにや—にや」〈源・ 末摘花〉 2 子孫。 「又、この山の族 (ぞう) 七人 にあたる人を、 三代 の—に得べし」〈宇津 保・俊蔭〉\n",
      "自分に子どもが生まれて成長し、その子が子どもを産んだら、孫になりますよね。更に、孫が子どもを産んだら、ひ孫です。逆に、子どもから見たら自分は親で、孫からは祖父母、ひ孫からは曾祖父母です。では、ひ孫の次や曾祖父母の次は何というかご存知ですか？\n",
      "---Generator----\n",
      "---REVISOR---\n",
      "### Review of the Submission\n",
      "\n",
      "#### Content Accuracy:\n",
      "1. **Grammar and Vocabulary**:\n",
      "   - The vocabulary word \"孫 (まご)\" is appropriate for the JLPT N3 level, as it falls within the scope of family-related terms that are commonly tested at this level.\n",
      "   - The grammar structures used in the conversation, such as ～しようと思っています (indicating intention), ～ていません (negative progressive form), and ～から (indicating reason), are all suitable for N3 learners. They provide a realistic and appropriate challenge without exceeding the expected difficulty level.\n",
      "\n",
      "2. **Reading Passage**:\n",
      "   - The conversation is clear, relevant, and contextually appropriate. It uses natural and practical language that aligns well with real-life scenarios, such as planning a family photo shoot.\n",
      "   - The reading passage is neither too long nor too short, making it manageable for N3-level students while still requiring careful reading to extract the correct information.\n",
      "\n",
      "---\n",
      "\n",
      "#### Question Quality:\n",
      "1. **Clarity and Ambiguity**:\n",
      "   - The question \"男性はこの後何をしますか\" is clearly worded and unambiguous. It directly assesses the student's ability to understand the flow of the conversation and identify the next action.\n",
      "   - The answer choices (1–4) are distinct and plausible within the context of the conversation, which ensures that students must rely on their comprehension rather than guesswork.\n",
      "\n",
      "2. **Difficulty Level**:\n",
      "   - The difficulty level matches the JLPT N3 standard. The question tests listening and reading comprehension as well as the ability to infer meaning from context.\n",
      "   - The inclusion of distractors (e.g., \"撮影場所を予約する\" and \"天気予報を調べる\") adds a layer of challenge without being unfairly misleading.\n",
      "\n",
      "---\n",
      "\n",
      "#### Format and Presentation:\n",
      "1. **Organization**:\n",
      "   - The question is well-organized, with a clear structure that includes the conversation, the question, and the answer choices. The layout is easy to follow.\n",
      "   - The inclusion of an explanation (\"解説\") is a strong point, as it helps students understand the reasoning behind the correct answer.\n",
      "\n",
      "2. **Instructions**:\n",
      "   - The instructions are concise and clear. The question format aligns with typical JLPT-style questions, making it familiar and accessible for test-takers.\n",
      "\n",
      "3. **Cultural Relevance**:\n",
      "   - The scenario of a family photo shoot is culturally appropriate and relatable for Japanese learners. Discussing family members, such as \"孫,\" is a common and meaningful topic in Japanese culture.\n",
      "\n",
      "---\n",
      "\n",
      "#### Recommendations:\n",
      "1. **Minor Adjustments**:\n",
      "   - While the question is already strong, you could consider adding a brief introductory sentence to the conversation (e.g., \"会社での会話です\") to provide additional context for the setting. This would make the situation even clearer for test-takers.\n",
      "   - Ensure that the font and spacing are consistent throughout the question to enhance readability.\n",
      "\n",
      "2. **Potential for Expansion**:\n",
      "   - To further test comprehension, you could add a follow-up question asking about the reason for choosing the park as the photo shoot location. For example:  \n",
      "     **質問：男性が公園を選んだ理由は何ですか。**  \n",
      "     This would encourage students to pay closer attention to the details of the conversation.\n",
      "\n",
      "---\n",
      "\n",
      "### Final Verdict:\n",
      "This question is **GOOD ENOUGH** for the JLPT N3 level. It effectively tests the targeted skills, is well-structured, and aligns with the expected difficulty and cultural relevance of the exam.\n",
      "--- AI Reviser feels Good Enough ---\n"
     ]
    },
    {
     "data": {
      "text/markdown": [
       "### 問題\n",
       "\n",
       "会社で女性と男性が話しています。男性はこの後何をしますか。\n",
       "\n",
       "---\n",
       "\n",
       "#### 会話内容：\n",
       "**女：** 田中さん、今度の家族写真の撮影ですが、孫さんも一緒に撮る予定ですか？  \n",
       "**男：** はい、孫たちも一緒に撮ります。家族全員そろうのは久しぶりなので楽しみです。  \n",
       "**女：** それはいいですね！ところで、撮影場所はどちらにするんですか？  \n",
       "**男：** 公園にしようと思っています。自然の中で撮るといい雰囲気になりますから。  \n",
       "**女：** 公園ですか。天気が良いといいですね。撮影時間は決まりましたか？  \n",
       "**男：** まだ決まっていません。これから家族に連絡して、都合を確認します。  \n",
       "\n",
       "---\n",
       "\n",
       "### 男性はこの後何をしますか。\n",
       "\n",
       "1. 撮影場所を予約する  \n",
       "2. 家族に連絡して都合を確認する  \n",
       "3. 天気予報を調べる  \n",
       "4. 孫の服を準備する  \n",
       "\n",
       "---\n",
       "\n",
       "### 正解：2\n",
       "\n",
       "---\n",
       "\n",
       "### 解説：\n",
       "男性は会話の最後で「これから家族に連絡して、都合を確認します」と言っています。そのため、正解は「家族に連絡して都合を確認する」です。  \n",
       "\n",
       "---\n",
       "\n",
       "### 主な挑戦点：\n",
       "- 学生需要理解「孫」という単語的意思，并能通过上下文推断正确答案。  \n",
       "- 对于对话内容的逻辑关系的理解是考生的关键能力之一。"
      ],
      "text/plain": [
       "<IPython.core.display.Markdown object>"
      ]
     },
     "metadata": {},
     "output_type": "display_data"
    }
   ],
   "source": [
    "kanji = kanji_graph.invoke(\n",
    "    {\n",
    "       \"messages\": [\n",
    "                HumanMessage(\n",
    "                    content=word\n",
    "                )\n",
    "            ],\n",
    "        },\n",
    "    config={\"configurable\": {\"thread_id\": \"1\"}}\n",
    ")\n",
    "display(Markdown(kanji[\"question\"]))"
   ]
  },
  {
   "cell_type": "code",
   "execution_count": null,
   "id": "c778d8e10606427f",
   "metadata": {
    "ExecuteTime": {
     "end_time": "2025-04-12T09:06:11.182472400Z",
     "start_time": "2025-04-12T09:06:11.173729Z"
    },
    "collapsed": false
   },
   "outputs": [],
   "source": []
  }
 ],
 "metadata": {
  "kernelspec": {
   "display_name": ".venv",
   "language": "python",
   "name": "python3"
  },
  "language_info": {
   "codemirror_mode": {
    "name": "ipython",
    "version": 3
   },
   "file_extension": ".py",
   "mimetype": "text/x-python",
   "name": "python",
   "nbconvert_exporter": "python",
   "pygments_lexer": "ipython3",
   "version": "3.13.2"
  }
 },
 "nbformat": 4,
 "nbformat_minor": 5
}
