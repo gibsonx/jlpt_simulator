{
 "cells": [
  {
   "cell_type": "markdown",
   "id": "2b011bdf967ca7ff",
   "metadata": {
    "collapsed": false
   },
   "source": [
    "# Language Knowledge (Vocabulary)\n",
    "Duration: 30 minutes\n",
    "Content: This section tests your knowledge of Japanese vocabulary, including kanji readings, orthography, word formation, contextually-defined expressions, paraphrases, and usage\n",
    "It mainly composes following five categories:\n",
    "- ``Reading Kana`` (Pronunciation Questions): Given a kanji word, choose the correct kana reading.\n",
    "- `Writing Kanji` (Writing Questions): Given a word written in kana, choose the correct kanji representation.\n",
    "- `Word Meaning` Selection (Vocabulary Understanding): Choose the most suitable word to fill in the sentence from four options.\n",
    "- `Synonym Replacement`: Select a word that has the same or similar meaning as the underlined word.\n",
    "- `Vocabulary Usage`: Assess the usage of words in actual contexts, choosing the most appropriate word usage, including some common Japanese expressions or fixed phrases."
   ]
  },
  {
   "cell_type": "code",
   "execution_count": 10,
   "id": "7f526a68a7e73a65",
   "metadata": {
    "ExecuteTime": {
     "end_time": "2025-03-21T04:52:51.327395Z",
     "start_time": "2025-03-21T04:52:51.315832Z"
    },
    "collapsed": false
   },
   "outputs": [
    {
     "data": {
      "text/plain": [
       "True"
      ]
     },
     "execution_count": 10,
     "metadata": {},
     "output_type": "execute_result"
    }
   ],
   "source": [
    "import pandas as pd\n",
    "import json\n",
    "import os\n",
    "import pickle\n",
    "import re\n",
    "import uuid\n",
    "from typing import *\n",
    "from langchain_openai import AzureOpenAI,AzureChatOpenAI\n",
    "from langchain_anthropic import ChatAnthropic\n",
    "from langchain_core.prompts import ChatPromptTemplate\n",
    "from dotenv import load_dotenv\n",
    "from langchain_aws import ChatBedrock\n",
    "from langchain.embeddings.base import Embeddings\n",
    "from langchain.text_splitter import CharacterTextSplitter\n",
    "from langchain_community.document_loaders import PyPDFLoader\n",
    "from langchain_community.embeddings import HuggingFaceEmbeddings\n",
    "# from langchain_community.embeddings import XinferenceEmbeddings\n",
    "from langchain_community.vectorstores import Chroma\n",
    "from langchain_openai import OpenAIEmbeddings\n",
    "from typing import Annotated, Literal, Sequence\n",
    "from typing_extensions import TypedDict\n",
    "from IPython.display import display, Markdown, Latex\n",
    "from langchain import hub\n",
    "from langchain_core.output_parsers import StrOutputParser\n",
    "from langchain_core.prompts import PromptTemplate\n",
    "from langchain_openai import ChatOpenAI\n",
    "from typing import Annotated, Sequence\n",
    "from typing_extensions import TypedDict\n",
    "from langchain_core.messages import BaseMessage,RemoveMessage,HumanMessage,AIMessage,ToolMessage\n",
    "from langgraph.graph.message import add_messages\n",
    "from pydantic import BaseModel, Field\n",
    "from langgraph.graph import END, StateGraph, START\n",
    "from langgraph.prebuilt import ToolNode\n",
    "from langgraph.prebuilt import tools_condition\n",
    "from langgraph.checkpoint.memory import MemorySaver\n",
    "from langchain.output_parsers import PydanticOutputParser\n",
    "from pydantic import BaseModel, Field, validator\n",
    "from typing import List, Optional\n",
    "\n",
    "load_dotenv()"
   ]
  },
  {
   "cell_type": "code",
   "execution_count": 11,
   "id": "initial_id",
   "metadata": {
    "ExecuteTime": {
     "end_time": "2025-03-21T04:52:51.375033Z",
     "start_time": "2025-03-21T04:52:51.356406Z"
    },
    "collapsed": false
   },
   "outputs": [
    {
     "data": {
      "text/html": [
       "<div>\n",
       "<style scoped>\n",
       "    .dataframe tbody tr th:only-of-type {\n",
       "        vertical-align: middle;\n",
       "    }\n",
       "\n",
       "    .dataframe tbody tr th {\n",
       "        vertical-align: top;\n",
       "    }\n",
       "\n",
       "    .dataframe thead th {\n",
       "        text-align: right;\n",
       "    }\n",
       "</style>\n",
       "<table border=\"1\" class=\"dataframe\">\n",
       "  <thead>\n",
       "    <tr style=\"text-align: right;\">\n",
       "      <th></th>\n",
       "      <th>expression</th>\n",
       "      <th>reading</th>\n",
       "    </tr>\n",
       "  </thead>\n",
       "  <tbody>\n",
       "    <tr>\n",
       "      <th>0</th>\n",
       "      <td>映る</td>\n",
       "      <td>うつる</td>\n",
       "    </tr>\n",
       "    <tr>\n",
       "      <th>1</th>\n",
       "      <td>光景</td>\n",
       "      <td>こうけい</td>\n",
       "    </tr>\n",
       "    <tr>\n",
       "      <th>2</th>\n",
       "      <td>具体</td>\n",
       "      <td>ぐたい</td>\n",
       "    </tr>\n",
       "    <tr>\n",
       "      <th>3</th>\n",
       "      <td>不利</td>\n",
       "      <td>ふり</td>\n",
       "    </tr>\n",
       "    <tr>\n",
       "      <th>4</th>\n",
       "      <td>指揮</td>\n",
       "      <td>しき</td>\n",
       "    </tr>\n",
       "  </tbody>\n",
       "</table>\n",
       "</div>"
      ],
      "text/plain": [
       "  expression reading\n",
       "0         映る     うつる\n",
       "1         光景    こうけい\n",
       "2         具体     ぐたい\n",
       "3         不利      ふり\n",
       "4         指揮      しき"
      ]
     },
     "execution_count": 11,
     "metadata": {},
     "output_type": "execute_result"
    }
   ],
   "source": [
    "# Import N3 Vocabulary\n",
    "file_path = '../Vocab/n3.csv'\n",
    "# Read the CSV file\n",
    "data = pd.read_csv(file_path)\n",
    "words = data.iloc[:, :2].sample(frac=1).reset_index(drop=True)\n",
    "# Display the content of the CSV file\n",
    "words.head()"
   ]
  },
  {
   "cell_type": "code",
   "execution_count": 12,
   "id": "6b6a038a",
   "metadata": {},
   "outputs": [
    {
     "data": {
      "text/plain": [
       "'EEkcOWi5qXOYAPyAGPemO4DU5yuucgygVkdeSBaUUbxMP1P7CqaNJQQJ99BDACHYHv6XJ3w3AAAAACOGKTOn'"
      ]
     },
     "execution_count": 12,
     "metadata": {},
     "output_type": "execute_result"
    }
   ],
   "source": [
    "os.environ[\"AZURE_API_KEY\"]"
   ]
  },
  {
   "cell_type": "markdown",
   "id": "4c1cdce8b1f57ef3",
   "metadata": {
    "collapsed": false
   },
   "source": [
    "#### load Models"
   ]
  },
  {
   "cell_type": "code",
   "execution_count": 13,
   "id": "895a64c8ba51e354",
   "metadata": {
    "ExecuteTime": {
     "end_time": "2025-03-21T04:52:52.986251Z",
     "start_time": "2025-03-21T04:52:51.377041Z"
    },
    "collapsed": false
   },
   "outputs": [],
   "source": [
    "azure_llm = AzureChatOpenAI(\n",
    "    azure_endpoint=\"https://ai-rolandaws880125ai409947751408.openai.azure.com/openai/deployments/gpt-4o/chat/completions?api-version=2025-01-01-preview\",\n",
    "    api_key=os.environ[\"AZURE_API_KEY\"],\n",
    "    model_name=\"gpt-4o\",\n",
    "    api_version=\"2025-01-01-preview\",\n",
    "    temperature=0.5,\n",
    ")"
   ]
  },
  {
   "cell_type": "code",
   "execution_count": 14,
   "id": "5643fdb248144100",
   "metadata": {
    "ExecuteTime": {
     "end_time": "2025-03-21T04:52:53.325835Z",
     "start_time": "2025-03-21T04:52:52.988251Z"
    },
    "collapsed": false
   },
   "outputs": [],
   "source": [
    "# aws_llm = ChatBedrock(\n",
    "#     model_id=\"us.anthropic.claude-3-7-sonnet-20250219-v1:0\",\n",
    "#      # model_id=\"us.anthropic.claude-3-5-haiku-20241022-v1:0\",\n",
    "#     model_kwargs=dict(temperature=0.3),\n",
    "#     region = \"us-east-2\",\n",
    "#     aws_access_key_id=os.environ[\"AWS_ACCESS_KEY_ID\"],\n",
    "#     aws_secret_access_key=os.environ[\"AWS_SECRET_ACCESS_KEY\"],\n",
    "# )"
   ]
  },
  {
   "cell_type": "markdown",
   "id": "fed5f032dadafac1",
   "metadata": {
    "collapsed": false
   },
   "source": [
    "## Question Explore"
   ]
  },
  {
   "cell_type": "markdown",
   "id": "5795bb3d95c0cc50",
   "metadata": {
    "collapsed": false
   },
   "source": [
    "# Kanji 读假名（读音问题）"
   ]
  },
  {
   "cell_type": "code",
   "execution_count": 15,
   "id": "1a966afd733d860d",
   "metadata": {
    "ExecuteTime": {
     "end_time": "2025-03-21T04:55:02.288686Z",
     "start_time": "2025-03-21T04:55:01.768183Z"
    },
    "collapsed": false
   },
   "outputs": [
    {
     "name": "stdout",
     "output_type": "stream",
     "text": [
      "     expression reading\n",
      "0            映る     うつる\n",
      "1            光景    こうけい\n",
      "2            具体     ぐたい\n",
      "3            不利      ふり\n",
      "4            指揮      しき\n",
      "...         ...     ...\n",
      "2134          優      ゆう\n",
      "2135         最低    さいてい\n",
      "2136         救助   きゅうじょ\n",
      "2137        煮える     にえる\n",
      "2138         就く      つく\n",
      "\n",
      "[2139 rows x 2 columns]\n"
     ]
    }
   ],
   "source": [
    "from typing_extensions import TypedDict\n",
    "from langgraph.graph import StateGraph, START, END\n",
    "from IPython.display import Image, display\n",
    "\n",
    "\n",
    "# Graph state\n",
    "class QuestionState(TypedDict):\n",
    "    topic: str\n",
    "    question: str\n",
    "    improved_question: str\n",
    "    final_question: str\n",
    "\n",
    "\n",
    "kanji_example = \"\"\"\n",
    "問題 4\n",
    "\n",
    "つぎの(1)から(4)の文章を読んで、質問に答えなさい。答えは、1・2・3・4から最もよいものを一つえらびなさい。\n",
    "\n",
    "⸻\n",
    "\n",
    "(1)\n",
    "\n",
    "これは、今川さんが後のミゲルさんに書いたメールである。\n",
    "\n",
    "⸻\n",
    "\n",
    "ミゲルさん\n",
    "\n",
    "メールをありがとう。\n",
    "\n",
    "同じ会社で働くことになって、うれしいです。\n",
    "\n",
    "住む所についてアドバイスをくださいと書いてあったので、お答えします。\n",
    "\n",
    "会社まで歩いて行きたいと書いてありましたが、会社の周りはオフィスばかりで、アパートはほとんどありません。電車通勤になりますが、私が以前住んでいた緑野という町はいいですよ。\n",
    "\n",
    "緑野駅から会社のある北駅まで電車で15分だし、いろいろなお店があって便利です。\n",
    "\n",
    "いい所が見つかるといいですね。会えるのを楽しみにしています。\n",
    "\n",
    "今川\n",
    "\n",
    "⸻\n",
    "\n",
    "23. まで電車で15分で行けるし、店も多いので、緑野にしたらどうか。\n",
    "\t1.\t(選択肢なし)\n",
    "\t2.\tいろいろな店があって便利なので、北園駅の近くにしたらどうか\n",
    "\t3.\t北駅まで電車で15分で行けるし、店も多いので、緑野にしたらどうか\n",
    "\t4.\tいろいろな店があって便利なので、北園駅の近くにしたらどうか\n",
    "    \n",
    "(2)\n",
    "\n",
    "友達のマキは、いいことがあったという話をよくする。だから私は、マキは運がいいのだと思っていた。しかし、最近、そうではないと気づいた。\n",
    "\n",
    "先日二人で出かけたとき、事故で電車が止まっていて、何キロも歩いて帰ることになった。嫌だなと思っている私に、マキは「知らない町を歩けるね。」と嬉しそうに言った。とても不思議だった。でも、マキは楽しめてしまうのだ。今まで私が聞いた話も、マキだから「いいこと」だと感じたのだろうと思う。\n",
    "\n",
    "⸻\n",
    "\n",
    "24. 最近、「私」はマキのことをどのような人だと思うようになったか。\n",
    "\t1.\t「いいこと」ばかりが起きる。運がいい人\n",
    "\t2.\t「私」と一緒に経験したことは、何でも「いいこと」だと思える人\n",
    "\t3.\tほかの人に起こった「いいこと」を一緒に喜んであげられる人\n",
    "\t4.\tほかの人が「いいこと」だと思わないことも「いいこと」だと思える人\n",
    "\n",
    " (3)\n",
    "\n",
    "(会社で)\n",
    "\n",
    "ミンさんが席に戻ると、机の上に、原口課長からのメモが置いてあった。\n",
    "\n",
    "ミンさん\n",
    "\n",
    "子どもが熱を出したので、早退します。午後、明日の会議の進行について確認する約束だったのに、すみません。午後の話し合いのために予約していた小会議室はキャンセルしてくれますか。席に戻ったら、すぐにお願いします。会議の進行については、明日の朝、最初に確認して、そのあとに会議室の準備をしましょう。\n",
    "\n",
    "それから、ミンさんの作った資料ですが、問題ないので、今日中に8人分印刷しておいてください。\n",
    "\n",
    "よろしくお願いします。\n",
    "\n",
    "9月8日 12:10\n",
    "原口\n",
    "\n",
    "⸻\n",
    "\n",
    "25. このメモを読んで、ミンさんはまず何をしなければならないか。\n",
    "\t1.\t会議の進行について口課長と確認する\n",
    "\t2.\t小会議室をキャンセルする\n",
    "\t3.\t会議室の準備をする\n",
    "\t4.\t会議の資料を8人分印刷する\n",
    "\n",
    "    (4)\n",
    "\n",
    "日本のファミリーレストランは、店の壁やソファーなどに、赤やオレンジ色のような暖かさを感じさせる色、つまり、暖色を使うことが多い。\n",
    "\n",
    "暖色には食欲を感じさせる効果があるので、暖色に囲まれていると、料理がおいしそうに見える。また、暖色は、時間を実際より長く感じさせる効果もある。客は、店にいた時間が短くても、ゆっくりできたように感じるのだ。\n",
    "\n",
    "⸻\n",
    "\n",
    "26.\n",
    "\n",
    "日本のファミリーレストランで暖色が使われる理由は何か。\n",
    "\t1.\t店の暖房にあまりお金がかからないようにするため\n",
    "\t2.\t客に、店の料理と店で過ごす時間にいい印象を持ってもらうため\n",
    "\t3.\t店をおしゃれに見せて、客に店に入りたいと思ってもらうため\n",
    "\t4.\t客に長く店にいてもらって、料理をたくさん注文してもらうため       \n",
    "\"\"\"\n",
    "\n",
    "print(words)\n",
    "\n",
    "# Nodes\n",
    "def generate_question(state: QuestionState):\n",
    "    \"\"\"First LLM call to generate initial question\"\"\"\n",
    "\n",
    "    msg = azure_llm.invoke(f\"You are a japanese teacher. Your job is to write a paper for reading 4 short articles in lines 5-6, with a word count of around 200 words, and choose the correct answer. Including some emails Notification and letter articles, answer one question. Only refer to the format, not the content.\"\n",
    "            f\"The vocabulary should be restricted to N3 level, you can refer to the vocabulary in the word list, choosing random words for the questions\"\n",
    "            f\"please refer the question examples following the formal exam paper\"\n",
    "            f\"append the correct answer and explanation of main challenges and why teacher asks this question to candidate in chinese at each question\"\n",
    "            f\"Finally, beautify markdown format\"\n",
    "            f\"topic list: {state['topic']}\"\n",
    "            f\"word list: {words}\"\n",
    "            f\"formal exam paper: {kanji_example}\")\n",
    "    \n",
    "    return {\"question\": msg.content}\n",
    "\n",
    "\n",
    "# Build workflow\n",
    "kanji_workflow = StateGraph(QuestionState)\n",
    "\n",
    "# Add nodes\n",
    "kanji_workflow.add_node(\"generate_question\", generate_question)\n",
    "\n",
    "# Add edges to connect nodes\n",
    "kanji_workflow.add_edge(START, \"generate_question\")\n",
    "kanji_workflow.add_edge(\"generate_question\", END)\n",
    "\n",
    "# Compile\n",
    "kanji_graph = kanji_workflow.compile()\n"
   ]
  },
  {
   "cell_type": "code",
   "execution_count": 16,
   "id": "ec483e4e",
   "metadata": {},
   "outputs": [],
   "source": [
    "# Show workflow\n",
    "#display(Image(kanji_graph.get_graph().draw_png()))"
   ]
  },
  {
   "cell_type": "code",
   "execution_count": 17,
   "id": "3c2e1e740fbe6971",
   "metadata": {
    "ExecuteTime": {
     "end_time": "2025-03-21T04:56:04.739875Z",
     "start_time": "2025-03-21T04:55:57.132978Z"
    },
    "collapsed": false
   },
   "outputs": [
    {
     "data": {
      "text/markdown": [
       "以下是基于您的要求编写的正式格式的试题，包括四篇短文、问题及答案选择，附带正确答案和解释，并用Markdown格式美化。\n",
       "\n",
       "---\n",
       "\n",
       "## 問題 4\n",
       "\n",
       "つぎの(1)から(4)の文章を読んで、質問に答えなさい。答えは、1・2・3・4から最もよいものを一つえらびなさい。\n",
       "\n",
       "---\n",
       "\n",
       "### (1)\n",
       "\n",
       "これは、ネットショッピングで商品を選ぶときのメールである。\n",
       "\n",
       "---\n",
       "\n",
       "**メール**\n",
       "\n",
       "こんにちは、田中さん。\n",
       "\n",
       "この前、教えてくれたサイトでバッグを見ていましたが、どれがいいか迷っています。黒いバッグと青いバッグ、どちらが仕事に合うと思いますか？黒い方がフォーマルに見えますが、青い方は少し個性的で、私の服に合いそうです。\n",
       "\n",
       "それから、どちらも価格は10,000円ですが、黒いバッグの方が軽くて持ちやすいと書いてありました。アドバイスをお願いします。\n",
       "\n",
       "よろしくお願いします。\n",
       "\n",
       "佐藤\n",
       "\n",
       "---\n",
       "\n",
       "**質問**\n",
       "\n",
       "1. 佐藤さんはどちらのバッグを選ぶべきですか？\n",
       "   1. 青いバッグ\n",
       "   2. 黒いバッグ\n",
       "   3. どちらも買わない\n",
       "   4. 価格が高いバッグ\n",
       "\n",
       "**正解**：2. 黒いバッグ  \n",
       "**解説**：黒いバッグはフォーマルで、仕事に合うと書かれており、さらに軽くて持ちやすいという具体的な利点が記述されています。  \n",
       "**挑戦点**：この问题考察了考生对细节的理解能力，要求他们从多个描述中选择出最符合逻辑的答案。  \n",
       "**为什么问这个问题**：通过此问题，教师可以评估考生是否能够从文本中提取关键信息，尤其是在对比描述的情况下。  \n",
       "**中文解释**：通过这道题目，考察了学生对细节描述的理解和逻辑判断能力。\n",
       "\n",
       "---\n",
       "\n",
       "### (2)\n",
       "\n",
       "これは、カフェでテイクアウトを頼むときの会話である。\n",
       "\n",
       "---\n",
       "\n",
       "**会話**\n",
       "\n",
       "店員: いらっしゃいませ。ご注文はお決まりですか？  \n",
       "客: はい、ホットコーヒーを1つと、チーズケーキを1つお願いします。  \n",
       "店員: かしこまりました。お持ち帰りですか？  \n",
       "客: はい、テイクアウトでお願いします。  \n",
       "店員: では、ホットコーヒーはMサイズでよろしいですか？  \n",
       "客: はい、それでお願いします。  \n",
       "\n",
       "---\n",
       "\n",
       "**質問**\n",
       "\n",
       "2. 客はどのように注文しましたか？\n",
       "   1. 店内でコーヒーを飲む\n",
       "   2. ホットコーヒーとケーキをテイクアウトする\n",
       "   3. コーヒーだけをテイクアウトする\n",
       "   4. ケーキだけを店内で食べる\n",
       "\n",
       "**正解**：2. ホットコーヒーとケーキをテイクアウトする  \n",
       "**解説**：客は「ホットコーヒーを1つと、チーズケーキを1つ」と注文し，并明确表示“テイクアウトでお願いします”。  \n",
       "**挑戦点**：需要学生注意对话中的关键词汇，如“テイクアウト”以及具体的食物点单内容。  \n",
       "**为什么问这个问题**：教师通过此问题评估学生对实际生活场景中常见表达的理解能力，尤其是在点单场景下的交流能力。  \n",
       "**中文解释**：此题目旨在评估学生对实际生活中常见对话的理解能力。\n",
       "\n",
       "---\n",
       "\n",
       "### (3)\n",
       "\n",
       "これは、店で商品の特徴や価格を尋ねるときの会話である。\n",
       "\n",
       "---\n",
       "\n",
       "**会話**\n",
       "\n",
       "客: すみません、このシャツはいくらですか？  \n",
       "店員: こちらは3,500円です。今、セール中で、2枚買うと1枚は半額になります。  \n",
       "客: そうですか。素材は何ですか？  \n",
       "店員: 綿100%ですので、肌触りがいいですよ。  \n",
       "客: ありがとうございます。少し考えます。\n",
       "\n",
       "---\n",
       "\n",
       "**質問**\n",
       "\n",
       "3. このシャツの特徴は何ですか？\n",
       "   1. 綿100%で、肌触りがいい\n",
       "   2. セール中で、2枚買うと1枚無料\n",
       "   3. 価格が高い\n",
       "   4. サイズが豊富\n",
       "\n",
       "**正解**：1. 綿100%で、肌触りがいい  \n",
       "**解説**：会話中明确提到“綿100%ですので、肌触りがいいですよ”，这是商品的主要特点。  \n",
       "**挑戦点**：需要考生从对话中提取商品的具体特点，同时排除干扰选项。  \n",
       "**为什么问这个问题**：教师通过此问题评估学生在购物场景下的听力和阅读理解能力。  \n",
       "**中文解释**：通过这道题目，考察学生在购物场景中对商品描述的理解能力。\n",
       "\n",
       "---\n",
       "\n",
       "### (4)\n",
       "\n",
       "これは、天気の状況について話すときのニュースである。\n",
       "\n",
       "---\n",
       "\n",
       "**ニュース**\n",
       "\n",
       "今日の午後は、全国的に雨が降りやすい天気になります。特に西日本では、雷を伴う激しい雨になる可能性がありますので、注意してください。一方、東日本では、夜になると雨が止むでしょう。\n",
       "\n",
       "---\n",
       "\n",
       "**質問**\n",
       "\n",
       "4. 西日本の午後の天気はどうなる可能性がありますか？\n",
       "   1. 雨が止む  \n",
       "   2. 雷を伴う激しい雨が降る  \n",
       "   3. 晴れる  \n",
       "   4. 雪が降る  \n",
       "\n",
       "**正解**：2. 雷を伴う激しい雨が降る  \n",
       "**解説**：ニュース明确提到“西日本では、雷を伴う激しい雨になる可能性があります”。  \n",
       "**挑戦点**：需要学生关注天气预报中的细节描述，并选择最准确的答案。  \n",
       "**为什么问这个问题**：教师通过此问题评估学生对天气预报场景的理解能力，尤其是对预测性语言的掌握。  \n",
       "**中文解释**：此题目旨在考察学生对天气预报场景中细节信息的理解能力。\n",
       "\n",
       "---\n",
       "\n",
       "以上问题严格控制在N3词汇范围内，涵盖了实际生活中常见的场景，如购物、点单、天气等，帮助学生在考试中更好地适应实际语言应用场景。"
      ],
      "text/plain": [
       "<IPython.core.display.Markdown object>"
      ]
     },
     "metadata": {},
     "output_type": "display_data"
    }
   ],
   "source": [
    "# Invoke\n",
    "kanji = kanji_graph.invoke({\"topic\": \"店で価格を尋ねる | レストランで食べ物を注文する | 交通手段について話す| 天気の状況について話す | 趣味について話す | 店で商品の特徴や価格を尋ねる | スーパーマーケットで買い物をする | レストランで食べ物や飲み物を注文する | カフェでテイクアウトを頼む | コンビニで支払い方法について質問する |  ネットショッピングで商品を選ぶ\"})\n",
    "display(Markdown(kanji[\"question\"]))"
   ]
  },
  {
   "cell_type": "code",
   "execution_count": null,
   "id": "553844c1e99d121c",
   "metadata": {
    "collapsed": false
   },
   "outputs": [],
   "source": []
  },
  {
   "cell_type": "code",
   "execution_count": null,
   "id": "c778d8e10606427f",
   "metadata": {
    "ExecuteTime": {
     "start_time": "2025-03-21T04:53:14.733662Z"
    },
    "collapsed": false
   },
   "outputs": [],
   "source": []
  }
 ],
 "metadata": {
  "kernelspec": {
   "display_name": ".venv",
   "language": "python",
   "name": "python3"
  },
  "language_info": {
   "codemirror_mode": {
    "name": "ipython",
    "version": 3
   },
   "file_extension": ".py",
   "mimetype": "text/x-python",
   "name": "python",
   "nbconvert_exporter": "python",
   "pygments_lexer": "ipython3",
   "version": "3.13.2"
  }
 },
 "nbformat": 4,
 "nbformat_minor": 5
}
